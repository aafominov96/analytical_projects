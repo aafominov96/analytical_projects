{
 "cells": [
  {
   "cell_type": "markdown",
   "metadata": {},
   "source": [
    "# Анализ A/B-теста"
   ]
  },
  {
   "cell_type": "markdown",
   "metadata": {},
   "source": [
    "## Описание проекта"
   ]
  },
  {
   "cell_type": "markdown",
   "metadata": {},
   "source": [
    "В целях тестирования новой системы рекомендации был проведен A/B-тест. Необходимо провести оценку результатов A/B-теста.\n",
    "\n",
    "**Задачи**:\n",
    "* Оценить корректность проведения A/B-теста\n",
    "* Проанализировать результаты теста\n",
    "\n",
    "**Техническое задание**:\n",
    "\n",
    "- Название теста: `recommender_system_test`;\n",
    "- группы: А — контрольная, B — новая платёжная воронка;\n",
    "- дата запуска: 2020-12-07;\n",
    "- дата остановки набора новых пользователей: 2020-12-21;\n",
    "- дата остановки: 2021-01-04;\n",
    "- аудитория: 15% новых пользователей из региона EU;\n",
    "- назначение теста: тестирование изменений, связанных с внедрением улучшенной рекомендательной системы;\n",
    "- ожидаемое количество участников теста: 6000.\n",
    "- ожидаемый эффект: за 14 дней с момента регистрации пользователи покажут улучшение каждой метрики не менее, чем на 10%:\n",
    "    - конверсии в просмотр карточек товаров — событие `product_page`,\n",
    "    - просмотры корзины — `product_cart`,\n",
    "    - покупки — `purchase`.\n",
    "\n",
    "**План работ**:\n",
    "1. Обзор и предварительная обработка данных\n",
    "2. Оценка корректности проведения A/B-теста.\n",
    "3. Исследовательский анализ данных.\n",
    "4. Оценка результатов A/B-теста.\n",
    "5. Формулирование выводов и рекомендаций."
   ]
  },
  {
   "cell_type": "code",
   "execution_count": 1,
   "metadata": {},
   "outputs": [],
   "source": [
    "import pandas as pd\n",
    "import matplotlib.pyplot as plt\n",
    "import seaborn as sns\n",
    "import datetime as dt\n",
    "from scipy import stats as st\n",
    "import numpy as np\n",
    "import math as mth"
   ]
  },
  {
   "cell_type": "markdown",
   "metadata": {},
   "source": [
    "## Обзор и предварительная обработка данных"
   ]
  },
  {
   "cell_type": "markdown",
   "metadata": {},
   "source": [
    "**Описание данных**:\n",
    "\n",
    "`ab_project_marketing_events.csv` — календарь маркетинговых событий на 2020 год.\n",
    "\n",
    "Структура файла:\n",
    "\n",
    "- `name` — название маркетингового события;\n",
    "- `regions` — регионы, в которых будет проводиться рекламная кампания;\n",
    "- `start_dt` — дата начала кампании;\n",
    "- `finish_dt` — дата завершения кампании.\n",
    "\n",
    "`final_ab_new_users.csv` — пользователи, зарегистрировавшиеся с 7 по 21 декабря 2020 года.\n",
    "\n",
    "Структура файла:\n",
    "\n",
    "- `user_id` — идентификатор пользователя;\n",
    "- `first_date` — дата регистрации;\n",
    "- `region` — регион пользователя;\n",
    "- `device` — устройство, с которого происходила регистрация.\n",
    "\n",
    "`final_ab_events.csv` — действия новых пользователей в период с 7 декабря 2020 по 4 января 2021 года.\n",
    "\n",
    "Структура файла:\n",
    "\n",
    "- `user_id` — идентификатор пользователя;\n",
    "- `event_dt` — дата и время покупки;\n",
    "- `event_name` — тип события;\n",
    "- `details` — дополнительные данные о событии. Например, для покупок, `purchase,` в этом поле хранится стоимость покупки в долларах.\n",
    "\n",
    "`final_ab_participants.csv` — таблица участников тестов.\n",
    "\n",
    "Структура файла:\n",
    "\n",
    "- `user_id` — идентификатор пользователя;\n",
    "- `ab_test` — название теста;\n",
    "- `group` — группа пользователя."
   ]
  },
  {
   "cell_type": "markdown",
   "metadata": {},
   "source": [
    "Импорт данных о маркетинговых событиях за 2020 год:"
   ]
  },
  {
   "cell_type": "code",
   "execution_count": 2,
   "metadata": {},
   "outputs": [],
   "source": [
    "marketing_events = pd.read_csv('/datasets/ab_project_marketing_events.csv', parse_dates=['start_dt', 'finish_dt'])\n",
    "new_users = pd.read_csv('/datasets/final_ab_new_users.csv', parse_dates=['first_date'])\n",
    "events = pd.read_csv('/datasets/final_ab_events.csv', parse_dates=['event_dt'])\n",
    "abpart = pd.read_csv('/datasets/final_ab_participants.csv')"
   ]
  },
  {
   "cell_type": "markdown",
   "metadata": {},
   "source": [
    "Обзор markening_events:"
   ]
  },
  {
   "cell_type": "code",
   "execution_count": 3,
   "metadata": {},
   "outputs": [
    {
     "name": "stdout",
     "output_type": "stream",
     "text": [
      "<class 'pandas.core.frame.DataFrame'>\n",
      "RangeIndex: 14 entries, 0 to 13\n",
      "Data columns (total 4 columns):\n",
      " #   Column     Non-Null Count  Dtype         \n",
      "---  ------     --------------  -----         \n",
      " 0   name       14 non-null     object        \n",
      " 1   regions    14 non-null     object        \n",
      " 2   start_dt   14 non-null     datetime64[ns]\n",
      " 3   finish_dt  14 non-null     datetime64[ns]\n",
      "dtypes: datetime64[ns](2), object(2)\n",
      "memory usage: 576.0+ bytes\n"
     ]
    },
    {
     "data": {
      "text/html": [
       "<div>\n",
       "<style scoped>\n",
       "    .dataframe tbody tr th:only-of-type {\n",
       "        vertical-align: middle;\n",
       "    }\n",
       "\n",
       "    .dataframe tbody tr th {\n",
       "        vertical-align: top;\n",
       "    }\n",
       "\n",
       "    .dataframe thead th {\n",
       "        text-align: right;\n",
       "    }\n",
       "</style>\n",
       "<table border=\"1\" class=\"dataframe\">\n",
       "  <thead>\n",
       "    <tr style=\"text-align: right;\">\n",
       "      <th></th>\n",
       "      <th>name</th>\n",
       "      <th>regions</th>\n",
       "      <th>start_dt</th>\n",
       "      <th>finish_dt</th>\n",
       "    </tr>\n",
       "  </thead>\n",
       "  <tbody>\n",
       "    <tr>\n",
       "      <th>0</th>\n",
       "      <td>Christmas&amp;New Year Promo</td>\n",
       "      <td>EU, N.America</td>\n",
       "      <td>2020-12-25</td>\n",
       "      <td>2021-01-03</td>\n",
       "    </tr>\n",
       "    <tr>\n",
       "      <th>1</th>\n",
       "      <td>St. Valentine's Day Giveaway</td>\n",
       "      <td>EU, CIS, APAC, N.America</td>\n",
       "      <td>2020-02-14</td>\n",
       "      <td>2020-02-16</td>\n",
       "    </tr>\n",
       "    <tr>\n",
       "      <th>2</th>\n",
       "      <td>St. Patric's Day Promo</td>\n",
       "      <td>EU, N.America</td>\n",
       "      <td>2020-03-17</td>\n",
       "      <td>2020-03-19</td>\n",
       "    </tr>\n",
       "    <tr>\n",
       "      <th>3</th>\n",
       "      <td>Easter Promo</td>\n",
       "      <td>EU, CIS, APAC, N.America</td>\n",
       "      <td>2020-04-12</td>\n",
       "      <td>2020-04-19</td>\n",
       "    </tr>\n",
       "    <tr>\n",
       "      <th>4</th>\n",
       "      <td>4th of July Promo</td>\n",
       "      <td>N.America</td>\n",
       "      <td>2020-07-04</td>\n",
       "      <td>2020-07-11</td>\n",
       "    </tr>\n",
       "  </tbody>\n",
       "</table>\n",
       "</div>"
      ],
      "text/plain": [
       "                           name                   regions   start_dt  \\\n",
       "0      Christmas&New Year Promo             EU, N.America 2020-12-25   \n",
       "1  St. Valentine's Day Giveaway  EU, CIS, APAC, N.America 2020-02-14   \n",
       "2        St. Patric's Day Promo             EU, N.America 2020-03-17   \n",
       "3                  Easter Promo  EU, CIS, APAC, N.America 2020-04-12   \n",
       "4             4th of July Promo                 N.America 2020-07-04   \n",
       "\n",
       "   finish_dt  \n",
       "0 2021-01-03  \n",
       "1 2020-02-16  \n",
       "2 2020-03-19  \n",
       "3 2020-04-19  \n",
       "4 2020-07-11  "
      ]
     },
     "execution_count": 3,
     "metadata": {},
     "output_type": "execute_result"
    }
   ],
   "source": [
    "marketing_events.info()\n",
    "marketing_events.head()"
   ]
  },
  {
   "cell_type": "markdown",
   "metadata": {},
   "source": [
    "Проверим датасет на наличие дубликатов:"
   ]
  },
  {
   "cell_type": "code",
   "execution_count": 4,
   "metadata": {},
   "outputs": [
    {
     "name": "stdout",
     "output_type": "stream",
     "text": [
      "Количество дубликатов marketing_events: 0\n"
     ]
    }
   ],
   "source": [
    "print('Количество дубликатов marketing_events:',marketing_events.duplicated().sum())"
   ]
  },
  {
   "cell_type": "markdown",
   "metadata": {},
   "source": [
    "Импорт данных о пользователях, зарегистрировавшиеся с 7 по 21 декабря 2020 года:"
   ]
  },
  {
   "cell_type": "code",
   "execution_count": 5,
   "metadata": {},
   "outputs": [
    {
     "name": "stdout",
     "output_type": "stream",
     "text": [
      "<class 'pandas.core.frame.DataFrame'>\n",
      "RangeIndex: 61733 entries, 0 to 61732\n",
      "Data columns (total 4 columns):\n",
      " #   Column      Non-Null Count  Dtype         \n",
      "---  ------      --------------  -----         \n",
      " 0   user_id     61733 non-null  object        \n",
      " 1   first_date  61733 non-null  datetime64[ns]\n",
      " 2   region      61733 non-null  object        \n",
      " 3   device      61733 non-null  object        \n",
      "dtypes: datetime64[ns](1), object(3)\n",
      "memory usage: 1.9+ MB\n"
     ]
    },
    {
     "data": {
      "text/html": [
       "<div>\n",
       "<style scoped>\n",
       "    .dataframe tbody tr th:only-of-type {\n",
       "        vertical-align: middle;\n",
       "    }\n",
       "\n",
       "    .dataframe tbody tr th {\n",
       "        vertical-align: top;\n",
       "    }\n",
       "\n",
       "    .dataframe thead th {\n",
       "        text-align: right;\n",
       "    }\n",
       "</style>\n",
       "<table border=\"1\" class=\"dataframe\">\n",
       "  <thead>\n",
       "    <tr style=\"text-align: right;\">\n",
       "      <th></th>\n",
       "      <th>user_id</th>\n",
       "      <th>first_date</th>\n",
       "      <th>region</th>\n",
       "      <th>device</th>\n",
       "    </tr>\n",
       "  </thead>\n",
       "  <tbody>\n",
       "    <tr>\n",
       "      <th>0</th>\n",
       "      <td>D72A72121175D8BE</td>\n",
       "      <td>2020-12-07</td>\n",
       "      <td>EU</td>\n",
       "      <td>PC</td>\n",
       "    </tr>\n",
       "    <tr>\n",
       "      <th>1</th>\n",
       "      <td>F1C668619DFE6E65</td>\n",
       "      <td>2020-12-07</td>\n",
       "      <td>N.America</td>\n",
       "      <td>Android</td>\n",
       "    </tr>\n",
       "    <tr>\n",
       "      <th>2</th>\n",
       "      <td>2E1BF1D4C37EA01F</td>\n",
       "      <td>2020-12-07</td>\n",
       "      <td>EU</td>\n",
       "      <td>PC</td>\n",
       "    </tr>\n",
       "    <tr>\n",
       "      <th>3</th>\n",
       "      <td>50734A22C0C63768</td>\n",
       "      <td>2020-12-07</td>\n",
       "      <td>EU</td>\n",
       "      <td>iPhone</td>\n",
       "    </tr>\n",
       "    <tr>\n",
       "      <th>4</th>\n",
       "      <td>E1BDDCE0DAFA2679</td>\n",
       "      <td>2020-12-07</td>\n",
       "      <td>N.America</td>\n",
       "      <td>iPhone</td>\n",
       "    </tr>\n",
       "  </tbody>\n",
       "</table>\n",
       "</div>"
      ],
      "text/plain": [
       "            user_id first_date     region   device\n",
       "0  D72A72121175D8BE 2020-12-07         EU       PC\n",
       "1  F1C668619DFE6E65 2020-12-07  N.America  Android\n",
       "2  2E1BF1D4C37EA01F 2020-12-07         EU       PC\n",
       "3  50734A22C0C63768 2020-12-07         EU   iPhone\n",
       "4  E1BDDCE0DAFA2679 2020-12-07  N.America   iPhone"
      ]
     },
     "execution_count": 5,
     "metadata": {},
     "output_type": "execute_result"
    }
   ],
   "source": [
    "new_users.info()\n",
    "new_users.head()"
   ]
  },
  {
   "cell_type": "markdown",
   "metadata": {},
   "source": [
    "Проверим датасет на наличие дубликатов:"
   ]
  },
  {
   "cell_type": "code",
   "execution_count": 6,
   "metadata": {},
   "outputs": [
    {
     "name": "stdout",
     "output_type": "stream",
     "text": [
      "Количество дубликатов new_users 0\n"
     ]
    }
   ],
   "source": [
    "print('Количество дубликатов new_users', new_users.duplicated().sum())"
   ]
  },
  {
   "cell_type": "markdown",
   "metadata": {},
   "source": [
    "Импорт данных о действиях новых пользователей в период с 7 декабря 2020 по 4 января 2021 года:"
   ]
  },
  {
   "cell_type": "code",
   "execution_count": 7,
   "metadata": {},
   "outputs": [
    {
     "name": "stdout",
     "output_type": "stream",
     "text": [
      "<class 'pandas.core.frame.DataFrame'>\n",
      "RangeIndex: 440317 entries, 0 to 440316\n",
      "Data columns (total 4 columns):\n",
      " #   Column      Non-Null Count   Dtype         \n",
      "---  ------      --------------   -----         \n",
      " 0   user_id     440317 non-null  object        \n",
      " 1   event_dt    440317 non-null  datetime64[ns]\n",
      " 2   event_name  440317 non-null  object        \n",
      " 3   details     62740 non-null   float64       \n",
      "dtypes: datetime64[ns](1), float64(1), object(2)\n",
      "memory usage: 13.4+ MB\n"
     ]
    },
    {
     "data": {
      "text/html": [
       "<div>\n",
       "<style scoped>\n",
       "    .dataframe tbody tr th:only-of-type {\n",
       "        vertical-align: middle;\n",
       "    }\n",
       "\n",
       "    .dataframe tbody tr th {\n",
       "        vertical-align: top;\n",
       "    }\n",
       "\n",
       "    .dataframe thead th {\n",
       "        text-align: right;\n",
       "    }\n",
       "</style>\n",
       "<table border=\"1\" class=\"dataframe\">\n",
       "  <thead>\n",
       "    <tr style=\"text-align: right;\">\n",
       "      <th></th>\n",
       "      <th>user_id</th>\n",
       "      <th>event_dt</th>\n",
       "      <th>event_name</th>\n",
       "      <th>details</th>\n",
       "    </tr>\n",
       "  </thead>\n",
       "  <tbody>\n",
       "    <tr>\n",
       "      <th>0</th>\n",
       "      <td>E1BDDCE0DAFA2679</td>\n",
       "      <td>2020-12-07 20:22:03</td>\n",
       "      <td>purchase</td>\n",
       "      <td>99.99</td>\n",
       "    </tr>\n",
       "    <tr>\n",
       "      <th>1</th>\n",
       "      <td>7B6452F081F49504</td>\n",
       "      <td>2020-12-07 09:22:53</td>\n",
       "      <td>purchase</td>\n",
       "      <td>9.99</td>\n",
       "    </tr>\n",
       "    <tr>\n",
       "      <th>2</th>\n",
       "      <td>9CD9F34546DF254C</td>\n",
       "      <td>2020-12-07 12:59:29</td>\n",
       "      <td>purchase</td>\n",
       "      <td>4.99</td>\n",
       "    </tr>\n",
       "    <tr>\n",
       "      <th>3</th>\n",
       "      <td>96F27A054B191457</td>\n",
       "      <td>2020-12-07 04:02:40</td>\n",
       "      <td>purchase</td>\n",
       "      <td>4.99</td>\n",
       "    </tr>\n",
       "    <tr>\n",
       "      <th>4</th>\n",
       "      <td>1FD7660FDF94CA1F</td>\n",
       "      <td>2020-12-07 10:15:09</td>\n",
       "      <td>purchase</td>\n",
       "      <td>4.99</td>\n",
       "    </tr>\n",
       "  </tbody>\n",
       "</table>\n",
       "</div>"
      ],
      "text/plain": [
       "            user_id            event_dt event_name  details\n",
       "0  E1BDDCE0DAFA2679 2020-12-07 20:22:03   purchase    99.99\n",
       "1  7B6452F081F49504 2020-12-07 09:22:53   purchase     9.99\n",
       "2  9CD9F34546DF254C 2020-12-07 12:59:29   purchase     4.99\n",
       "3  96F27A054B191457 2020-12-07 04:02:40   purchase     4.99\n",
       "4  1FD7660FDF94CA1F 2020-12-07 10:15:09   purchase     4.99"
      ]
     },
     "execution_count": 7,
     "metadata": {},
     "output_type": "execute_result"
    }
   ],
   "source": [
    "events.info()\n",
    "events.head()"
   ]
  },
  {
   "cell_type": "markdown",
   "metadata": {},
   "source": [
    "Проверим датасет на наличие дубликатов:"
   ]
  },
  {
   "cell_type": "code",
   "execution_count": 8,
   "metadata": {},
   "outputs": [
    {
     "name": "stdout",
     "output_type": "stream",
     "text": [
      "Количество дубликатов events: 0\n"
     ]
    }
   ],
   "source": [
    "print('Количество дубликатов events:', events.duplicated().sum())"
   ]
  },
  {
   "cell_type": "markdown",
   "metadata": {},
   "source": [
    "В наборе данных присутствуют пропуски. Проверим гипотезу о том, что заполненные значения имеются только у покупок:"
   ]
  },
  {
   "cell_type": "code",
   "execution_count": 9,
   "metadata": {},
   "outputs": [
    {
     "data": {
      "text/plain": [
       "62740"
      ]
     },
     "execution_count": 9,
     "metadata": {},
     "output_type": "execute_result"
    }
   ],
   "source": [
    "len(events.query('event_name == \"purchase\" and ~details.isna()'))"
   ]
  },
  {
   "cell_type": "markdown",
   "metadata": {},
   "source": [
    "Действительно, поле details заполнено только у покупок пользователей."
   ]
  },
  {
   "cell_type": "markdown",
   "metadata": {},
   "source": [
    "Импорт таблицы участников теста:"
   ]
  },
  {
   "cell_type": "code",
   "execution_count": 10,
   "metadata": {},
   "outputs": [
    {
     "name": "stdout",
     "output_type": "stream",
     "text": [
      "<class 'pandas.core.frame.DataFrame'>\n",
      "RangeIndex: 18268 entries, 0 to 18267\n",
      "Data columns (total 3 columns):\n",
      " #   Column   Non-Null Count  Dtype \n",
      "---  ------   --------------  ----- \n",
      " 0   user_id  18268 non-null  object\n",
      " 1   group    18268 non-null  object\n",
      " 2   ab_test  18268 non-null  object\n",
      "dtypes: object(3)\n",
      "memory usage: 428.3+ KB\n"
     ]
    },
    {
     "data": {
      "text/html": [
       "<div>\n",
       "<style scoped>\n",
       "    .dataframe tbody tr th:only-of-type {\n",
       "        vertical-align: middle;\n",
       "    }\n",
       "\n",
       "    .dataframe tbody tr th {\n",
       "        vertical-align: top;\n",
       "    }\n",
       "\n",
       "    .dataframe thead th {\n",
       "        text-align: right;\n",
       "    }\n",
       "</style>\n",
       "<table border=\"1\" class=\"dataframe\">\n",
       "  <thead>\n",
       "    <tr style=\"text-align: right;\">\n",
       "      <th></th>\n",
       "      <th>user_id</th>\n",
       "      <th>group</th>\n",
       "      <th>ab_test</th>\n",
       "    </tr>\n",
       "  </thead>\n",
       "  <tbody>\n",
       "    <tr>\n",
       "      <th>0</th>\n",
       "      <td>D1ABA3E2887B6A73</td>\n",
       "      <td>A</td>\n",
       "      <td>recommender_system_test</td>\n",
       "    </tr>\n",
       "    <tr>\n",
       "      <th>1</th>\n",
       "      <td>A7A3664BD6242119</td>\n",
       "      <td>A</td>\n",
       "      <td>recommender_system_test</td>\n",
       "    </tr>\n",
       "    <tr>\n",
       "      <th>2</th>\n",
       "      <td>DABC14FDDFADD29E</td>\n",
       "      <td>A</td>\n",
       "      <td>recommender_system_test</td>\n",
       "    </tr>\n",
       "    <tr>\n",
       "      <th>3</th>\n",
       "      <td>04988C5DF189632E</td>\n",
       "      <td>A</td>\n",
       "      <td>recommender_system_test</td>\n",
       "    </tr>\n",
       "    <tr>\n",
       "      <th>4</th>\n",
       "      <td>482F14783456D21B</td>\n",
       "      <td>B</td>\n",
       "      <td>recommender_system_test</td>\n",
       "    </tr>\n",
       "  </tbody>\n",
       "</table>\n",
       "</div>"
      ],
      "text/plain": [
       "            user_id group                  ab_test\n",
       "0  D1ABA3E2887B6A73     A  recommender_system_test\n",
       "1  A7A3664BD6242119     A  recommender_system_test\n",
       "2  DABC14FDDFADD29E     A  recommender_system_test\n",
       "3  04988C5DF189632E     A  recommender_system_test\n",
       "4  482F14783456D21B     B  recommender_system_test"
      ]
     },
     "execution_count": 10,
     "metadata": {},
     "output_type": "execute_result"
    }
   ],
   "source": [
    "abpart.info()\n",
    "abpart.head()"
   ]
  },
  {
   "cell_type": "markdown",
   "metadata": {},
   "source": [
    "Проверим набор данных на наличие дубликатов:"
   ]
  },
  {
   "cell_type": "code",
   "execution_count": 11,
   "metadata": {},
   "outputs": [
    {
     "name": "stdout",
     "output_type": "stream",
     "text": [
      "Количество дубликатов abpart: 0\n"
     ]
    }
   ],
   "source": [
    "print('Количество дубликатов abpart:', abpart.duplicated().sum())"
   ]
  },
  {
   "cell_type": "markdown",
   "metadata": {},
   "source": [
    "**Вывод**: данные подготовлены для последующего анализа."
   ]
  },
  {
   "cell_type": "markdown",
   "metadata": {},
   "source": [
    "## Оценка корректности проведения теста"
   ]
  },
  {
   "cell_type": "markdown",
   "metadata": {},
   "source": [
    "Выделяем нужный тест:"
   ]
  },
  {
   "cell_type": "code",
   "execution_count": 12,
   "metadata": {},
   "outputs": [],
   "source": [
    "ab_test = abpart.merge(new_users, on='user_id', how='inner').query('ab_test == \"recommender_system_test\"')"
   ]
  },
  {
   "cell_type": "code",
   "execution_count": 13,
   "metadata": {},
   "outputs": [
    {
     "data": {
      "text/html": [
       "<div>\n",
       "<style scoped>\n",
       "    .dataframe tbody tr th:only-of-type {\n",
       "        vertical-align: middle;\n",
       "    }\n",
       "\n",
       "    .dataframe tbody tr th {\n",
       "        vertical-align: top;\n",
       "    }\n",
       "\n",
       "    .dataframe thead th {\n",
       "        text-align: right;\n",
       "    }\n",
       "</style>\n",
       "<table border=\"1\" class=\"dataframe\">\n",
       "  <thead>\n",
       "    <tr style=\"text-align: right;\">\n",
       "      <th></th>\n",
       "      <th>user_id</th>\n",
       "      <th>group</th>\n",
       "      <th>ab_test</th>\n",
       "      <th>first_date</th>\n",
       "      <th>region</th>\n",
       "      <th>device</th>\n",
       "    </tr>\n",
       "  </thead>\n",
       "  <tbody>\n",
       "    <tr>\n",
       "      <th>0</th>\n",
       "      <td>D1ABA3E2887B6A73</td>\n",
       "      <td>A</td>\n",
       "      <td>recommender_system_test</td>\n",
       "      <td>2020-12-07</td>\n",
       "      <td>EU</td>\n",
       "      <td>PC</td>\n",
       "    </tr>\n",
       "    <tr>\n",
       "      <th>1</th>\n",
       "      <td>A7A3664BD6242119</td>\n",
       "      <td>A</td>\n",
       "      <td>recommender_system_test</td>\n",
       "      <td>2020-12-20</td>\n",
       "      <td>EU</td>\n",
       "      <td>iPhone</td>\n",
       "    </tr>\n",
       "    <tr>\n",
       "      <th>2</th>\n",
       "      <td>DABC14FDDFADD29E</td>\n",
       "      <td>A</td>\n",
       "      <td>recommender_system_test</td>\n",
       "      <td>2020-12-08</td>\n",
       "      <td>EU</td>\n",
       "      <td>Mac</td>\n",
       "    </tr>\n",
       "    <tr>\n",
       "      <th>4</th>\n",
       "      <td>04988C5DF189632E</td>\n",
       "      <td>A</td>\n",
       "      <td>recommender_system_test</td>\n",
       "      <td>2020-12-14</td>\n",
       "      <td>EU</td>\n",
       "      <td>iPhone</td>\n",
       "    </tr>\n",
       "    <tr>\n",
       "      <th>6</th>\n",
       "      <td>482F14783456D21B</td>\n",
       "      <td>B</td>\n",
       "      <td>recommender_system_test</td>\n",
       "      <td>2020-12-14</td>\n",
       "      <td>EU</td>\n",
       "      <td>PC</td>\n",
       "    </tr>\n",
       "    <tr>\n",
       "      <th>...</th>\n",
       "      <td>...</td>\n",
       "      <td>...</td>\n",
       "      <td>...</td>\n",
       "      <td>...</td>\n",
       "      <td>...</td>\n",
       "      <td>...</td>\n",
       "    </tr>\n",
       "    <tr>\n",
       "      <th>8298</th>\n",
       "      <td>053FB26D6D49EDDC</td>\n",
       "      <td>A</td>\n",
       "      <td>recommender_system_test</td>\n",
       "      <td>2020-12-10</td>\n",
       "      <td>N.America</td>\n",
       "      <td>Android</td>\n",
       "    </tr>\n",
       "    <tr>\n",
       "      <th>8299</th>\n",
       "      <td>9D263B8EF15CF188</td>\n",
       "      <td>B</td>\n",
       "      <td>recommender_system_test</td>\n",
       "      <td>2020-12-16</td>\n",
       "      <td>N.America</td>\n",
       "      <td>Mac</td>\n",
       "    </tr>\n",
       "    <tr>\n",
       "      <th>8300</th>\n",
       "      <td>F2FBBA33F37DEC46</td>\n",
       "      <td>A</td>\n",
       "      <td>recommender_system_test</td>\n",
       "      <td>2020-12-18</td>\n",
       "      <td>APAC</td>\n",
       "      <td>Mac</td>\n",
       "    </tr>\n",
       "    <tr>\n",
       "      <th>8301</th>\n",
       "      <td>29C92313A98B1176</td>\n",
       "      <td>B</td>\n",
       "      <td>recommender_system_test</td>\n",
       "      <td>2020-12-07</td>\n",
       "      <td>APAC</td>\n",
       "      <td>Android</td>\n",
       "    </tr>\n",
       "    <tr>\n",
       "      <th>8302</th>\n",
       "      <td>6715343AFBA285AE</td>\n",
       "      <td>B</td>\n",
       "      <td>recommender_system_test</td>\n",
       "      <td>2020-12-07</td>\n",
       "      <td>CIS</td>\n",
       "      <td>Android</td>\n",
       "    </tr>\n",
       "  </tbody>\n",
       "</table>\n",
       "<p>6701 rows × 6 columns</p>\n",
       "</div>"
      ],
      "text/plain": [
       "               user_id group                  ab_test first_date     region  \\\n",
       "0     D1ABA3E2887B6A73     A  recommender_system_test 2020-12-07         EU   \n",
       "1     A7A3664BD6242119     A  recommender_system_test 2020-12-20         EU   \n",
       "2     DABC14FDDFADD29E     A  recommender_system_test 2020-12-08         EU   \n",
       "4     04988C5DF189632E     A  recommender_system_test 2020-12-14         EU   \n",
       "6     482F14783456D21B     B  recommender_system_test 2020-12-14         EU   \n",
       "...                ...   ...                      ...        ...        ...   \n",
       "8298  053FB26D6D49EDDC     A  recommender_system_test 2020-12-10  N.America   \n",
       "8299  9D263B8EF15CF188     B  recommender_system_test 2020-12-16  N.America   \n",
       "8300  F2FBBA33F37DEC46     A  recommender_system_test 2020-12-18       APAC   \n",
       "8301  29C92313A98B1176     B  recommender_system_test 2020-12-07       APAC   \n",
       "8302  6715343AFBA285AE     B  recommender_system_test 2020-12-07        CIS   \n",
       "\n",
       "       device  \n",
       "0          PC  \n",
       "1      iPhone  \n",
       "2         Mac  \n",
       "4      iPhone  \n",
       "6          PC  \n",
       "...       ...  \n",
       "8298  Android  \n",
       "8299      Mac  \n",
       "8300      Mac  \n",
       "8301  Android  \n",
       "8302  Android  \n",
       "\n",
       "[6701 rows x 6 columns]"
      ]
     },
     "execution_count": 13,
     "metadata": {},
     "output_type": "execute_result"
    }
   ],
   "source": [
    "ab_test"
   ]
  },
  {
   "cell_type": "markdown",
   "metadata": {},
   "source": [
    "Проверяем количество групп и распределение участников в них:"
   ]
  },
  {
   "cell_type": "code",
   "execution_count": 14,
   "metadata": {},
   "outputs": [
    {
     "data": {
      "text/html": [
       "<div>\n",
       "<style scoped>\n",
       "    .dataframe tbody tr th:only-of-type {\n",
       "        vertical-align: middle;\n",
       "    }\n",
       "\n",
       "    .dataframe tbody tr th {\n",
       "        vertical-align: top;\n",
       "    }\n",
       "\n",
       "    .dataframe thead th {\n",
       "        text-align: right;\n",
       "    }\n",
       "</style>\n",
       "<table border=\"1\" class=\"dataframe\">\n",
       "  <thead>\n",
       "    <tr style=\"text-align: right;\">\n",
       "      <th></th>\n",
       "      <th>user_id</th>\n",
       "    </tr>\n",
       "    <tr>\n",
       "      <th>group</th>\n",
       "      <th></th>\n",
       "    </tr>\n",
       "  </thead>\n",
       "  <tbody>\n",
       "    <tr>\n",
       "      <th>A</th>\n",
       "      <td>3824</td>\n",
       "    </tr>\n",
       "    <tr>\n",
       "      <th>B</th>\n",
       "      <td>2877</td>\n",
       "    </tr>\n",
       "  </tbody>\n",
       "</table>\n",
       "</div>"
      ],
      "text/plain": [
       "       user_id\n",
       "group         \n",
       "A         3824\n",
       "B         2877"
      ]
     },
     "metadata": {},
     "output_type": "display_data"
    },
    {
     "data": {
      "image/png": "[encoded data removed]",
      "text/plain": [
       "<Figure size 432x288 with 1 Axes>"
      ]
     },
     "metadata": {},
     "output_type": "display_data"
    }
   ],
   "source": [
    "ab_test.groupby('group').user_id.nunique().to_frame().plot(kind='pie', \n",
    "                                           x='group', y='user_id', \n",
    "                                           autopct='%1.1f%%', legend=False);\n",
    "plt.title('Распределение количества участников теста');\n",
    "display(ab_test.groupby('group').user_id.nunique().to_frame())"
   ]
  },
  {
   "cell_type": "markdown",
   "metadata": {},
   "source": [
    "В контрольной группе больше участников, чем в тестовой, однако \"перекос\" нельзя назвать критичным. Суммарно в двух тестовых группах 6701 участник, что примерно на 11% превышает требуемое количество."
   ]
  },
  {
   "cell_type": "markdown",
   "metadata": {},
   "source": [
    "Проверим соотношение аудитории внутри целевого теста:"
   ]
  },
  {
   "cell_type": "code",
   "execution_count": 15,
   "metadata": {},
   "outputs": [
    {
     "data": {
      "image/png": "[encoded data removed]",
      "text/plain": [
       "<Figure size 432x288 with 1 Axes>"
      ]
     },
     "metadata": {
      "needs_background": "light"
     },
     "output_type": "display_data"
    }
   ],
   "source": [
    "sns.barplot(data=ab_test.groupby(['group', 'region']).user_id.count().to_frame().reset_index(), x='region', y='user_id', hue='group');\n",
    "plt.title('Распределение пользователей по регионам в тестовых группах');"
   ]
  },
  {
   "cell_type": "markdown",
   "metadata": {},
   "source": [
    "Нетрудно заметить, что большинство пользователей теста действительно из региона EU, однако в относительно небольшом количестве встречаются пользователи и из других регионов. "
   ]
  },
  {
   "cell_type": "code",
   "execution_count": 16,
   "metadata": {},
   "outputs": [
    {
     "name": "stdout",
     "output_type": "stream",
     "text": [
      "Количество новых пользователей из региона EU: 46270\n",
      "Количество участников теста: 6701\n",
      "Для пользователей целевого теста относительно новых пользователей из EU 0.144823859952453\n"
     ]
    }
   ],
   "source": [
    "print('Количество новых пользователей из региона EU:', len(new_users[new_users.region == 'EU']))\n",
    "print('Количество участников теста:', len(abpart[abpart.ab_test == 'recommender_system_test']))\n",
    "print('Для пользователей целевого теста относительно новых пользователей из EU', len(abpart[abpart.ab_test == 'recommender_system_test']) / len(new_users[new_users.region == 'EU']) )"
   ]
  },
  {
   "cell_type": "markdown",
   "metadata": {},
   "source": [
    "Здесь можно было бы считать, что требование технического задания практически исполнено в пределах погрешности, однако, стоит обратить внимание на тот факт, что не все участники теста из региона EU, что является нарушением технического задания.\n",
    "\n",
    "Пользователей из других регионов необходимо исключить из теста (так как мы однозначно не уверены, не имеют ли нововведения каких-то локальных особенностей региона) . Сделаем это позднее."
   ]
  },
  {
   "cell_type": "markdown",
   "metadata": {},
   "source": [
    "Проверим нахождение пользователей в двух группах:"
   ]
  },
  {
   "cell_type": "code",
   "execution_count": 17,
   "metadata": {},
   "outputs": [],
   "source": [
    "ab_test_a = ab_test.query('group == \"A\"')\n",
    "ab_test_b = ab_test.query('group == \"B\"')"
   ]
  },
  {
   "cell_type": "code",
   "execution_count": 18,
   "metadata": {},
   "outputs": [
    {
     "name": "stdout",
     "output_type": "stream",
     "text": [
      "Количество пользователей, попавших одновременно в две группы: 0\n"
     ]
    }
   ],
   "source": [
    "print('Количество пользователей, попавших одновременно в две группы:', ab_test_a.user_id.isin(ab_test_b.user_id).sum())"
   ]
  },
  {
   "cell_type": "markdown",
   "metadata": {},
   "source": [
    "Тестовые группы не пересекаются."
   ]
  },
  {
   "cell_type": "markdown",
   "metadata": {},
   "source": [
    "Проверим соответствие дат техническому заданию:"
   ]
  },
  {
   "cell_type": "code",
   "execution_count": 19,
   "metadata": {},
   "outputs": [],
   "source": [
    "ab_test_a_events = ab_test_a.merge(events, on='user_id', how='inner')\n",
    "ab_test_b_events = ab_test_b.merge(events, on='user_id', how='inner')"
   ]
  },
  {
   "cell_type": "code",
   "execution_count": 20,
   "metadata": {},
   "outputs": [
    {
     "name": "stdout",
     "output_type": "stream",
     "text": [
      "Дата начала набора пользователей в группе А:  2020-12-07 00:00:00\n",
      "Дата окончания набора пользователей в группе А:  2020-12-21 00:00:00\n",
      "Дата последнего зафиксированного события в группе А:  2020-12-29 23:38:29\n",
      "------\n",
      "Дата начала набора пользователей в группе B:  2020-12-07 00:00:00\n",
      "Дата окончания набора пользователей в группе B:  2020-12-21 00:00:00\n",
      "Дата последнего зафиксированного события в группе B:  2020-12-30 12:42:57\n"
     ]
    }
   ],
   "source": [
    "print('Дата начала набора пользователей в группе А: ', ab_test_a_events.first_date.min())\n",
    "print('Дата окончания набора пользователей в группе А: ', ab_test_a_events.first_date.max())\n",
    "print('Дата последнего зафиксированного события в группе А: ', ab_test_a_events.event_dt.max())\n",
    "print('------')\n",
    "print('Дата начала набора пользователей в группе B: ', ab_test_b_events.first_date.min())\n",
    "print('Дата окончания набора пользователей в группе B: ', ab_test_b_events.first_date.max())\n",
    "print('Дата последнего зафиксированного события в группе B: ', ab_test_b_events.event_dt.max())"
   ]
  },
  {
   "cell_type": "markdown",
   "metadata": {},
   "source": [
    "Фактически тест завершился раньше установленной в техническом задании даты, что принципиально не противоречит техническому заданию. Вероятно, это связано с новогодними выходными. В целом, проводить A/B-тест в праздничные дни не совсем корректно, так как результаты могут быть сильно искажены. Однако, важным моментом является факт, что часть пользователей не соответствует требованию о 14-дневном периоде. То есть часть пользователей не смогли пройти весь заданный период теста."
   ]
  },
  {
   "cell_type": "markdown",
   "metadata": {},
   "source": [
    "Проверим, не участвовали ли пользователи исследуемого теста в конкурирующем тесте."
   ]
  },
  {
   "cell_type": "code",
   "execution_count": 21,
   "metadata": {},
   "outputs": [],
   "source": [
    "ab_test_2 = new_users.merge(abpart, on='user_id', how='inner').query('ab_test == \"interface_eu_test\"')"
   ]
  },
  {
   "cell_type": "code",
   "execution_count": 22,
   "metadata": {},
   "outputs": [
    {
     "name": "stdout",
     "output_type": "stream",
     "text": [
      "Количество пользователей, участвующих в двух тестах одновременно: 1602\n"
     ]
    }
   ],
   "source": [
    "print('Количество пользователей, участвующих в двух тестах одновременно:', ab_test_2.user_id.isin(ab_test.user_id).sum())"
   ]
  },
  {
   "cell_type": "markdown",
   "metadata": {},
   "source": [
    "Довольно большое количество пользователей участвует в двух группах одновременно. Проверим, сколько из них находится в контрольных группах (т.к. нахождение в двух контрольных группах не мешает участвовать в двух тестах). Предположим, что во втором тесте группа А также является контрольной."
   ]
  },
  {
   "cell_type": "code",
   "execution_count": 23,
   "metadata": {},
   "outputs": [],
   "source": [
    "ab_test_2_a = ab_test_2.query('group == \"A\"')\n",
    "ab_test_2_b = ab_test_2.query('group == \"B\"')"
   ]
  },
  {
   "cell_type": "code",
   "execution_count": 24,
   "metadata": {},
   "outputs": [
    {
     "name": "stdout",
     "output_type": "stream",
     "text": [
      "Количество участников конкурирующего теста из группы А в группе А целевого теста: 482\n",
      "Количество участников конкурирующего теста из группы В в группе А целевого теста: 439\n",
      "Количество участников конкурирующего теста из группы А в группе В целевого теста: 337\n",
      "Количество участников конкурирующего теста из группы В в группе В целевого теста: 344\n"
     ]
    }
   ],
   "source": [
    "print('Количество участников конкурирующего теста из группы А в группе А целевого теста:', ab_test_2_a.user_id.isin(ab_test_a.user_id).sum())\n",
    "print('Количество участников конкурирующего теста из группы В в группе А целевого теста:',ab_test_2_b.user_id.isin(ab_test_a.user_id).sum())\n",
    "print('Количество участников конкурирующего теста из группы А в группе В целевого теста:',ab_test_2_a.user_id.isin(ab_test_b.user_id).sum())\n",
    "print('Количество участников конкурирующего теста из группы В в группе В целевого теста:',ab_test_2_b.user_id.isin(ab_test_b.user_id).sum())"
   ]
  },
  {
   "cell_type": "markdown",
   "metadata": {},
   "source": [
    "Из целевого теста необходимо исключить пользователей, которые участвуют в группе В конкурирующего теста, так как такие пользователи могут внести значительные искажения в реальные результаты, тем более, что таких пользователей немало."
   ]
  },
  {
   "cell_type": "markdown",
   "metadata": {},
   "source": [
    "Проверим период проведения теста на наличие маркетинговых акций:"
   ]
  },
  {
   "cell_type": "code",
   "execution_count": 25,
   "metadata": {},
   "outputs": [
    {
     "data": {
      "text/html": [
       "<div>\n",
       "<style scoped>\n",
       "    .dataframe tbody tr th:only-of-type {\n",
       "        vertical-align: middle;\n",
       "    }\n",
       "\n",
       "    .dataframe tbody tr th {\n",
       "        vertical-align: top;\n",
       "    }\n",
       "\n",
       "    .dataframe thead th {\n",
       "        text-align: right;\n",
       "    }\n",
       "</style>\n",
       "<table border=\"1\" class=\"dataframe\">\n",
       "  <thead>\n",
       "    <tr style=\"text-align: right;\">\n",
       "      <th></th>\n",
       "      <th>name</th>\n",
       "      <th>regions</th>\n",
       "      <th>start_dt</th>\n",
       "      <th>finish_dt</th>\n",
       "    </tr>\n",
       "  </thead>\n",
       "  <tbody>\n",
       "    <tr>\n",
       "      <th>6</th>\n",
       "      <td>Chinese New Year Promo</td>\n",
       "      <td>APAC</td>\n",
       "      <td>2020-01-25</td>\n",
       "      <td>2020-02-07</td>\n",
       "    </tr>\n",
       "    <tr>\n",
       "      <th>1</th>\n",
       "      <td>St. Valentine's Day Giveaway</td>\n",
       "      <td>EU, CIS, APAC, N.America</td>\n",
       "      <td>2020-02-14</td>\n",
       "      <td>2020-02-16</td>\n",
       "    </tr>\n",
       "    <tr>\n",
       "      <th>8</th>\n",
       "      <td>International Women's Day Promo</td>\n",
       "      <td>EU, CIS, APAC</td>\n",
       "      <td>2020-03-08</td>\n",
       "      <td>2020-03-10</td>\n",
       "    </tr>\n",
       "    <tr>\n",
       "      <th>2</th>\n",
       "      <td>St. Patric's Day Promo</td>\n",
       "      <td>EU, N.America</td>\n",
       "      <td>2020-03-17</td>\n",
       "      <td>2020-03-19</td>\n",
       "    </tr>\n",
       "    <tr>\n",
       "      <th>3</th>\n",
       "      <td>Easter Promo</td>\n",
       "      <td>EU, CIS, APAC, N.America</td>\n",
       "      <td>2020-04-12</td>\n",
       "      <td>2020-04-19</td>\n",
       "    </tr>\n",
       "    <tr>\n",
       "      <th>7</th>\n",
       "      <td>Labor day (May 1st) Ads Campaign</td>\n",
       "      <td>EU, CIS, APAC</td>\n",
       "      <td>2020-05-01</td>\n",
       "      <td>2020-05-03</td>\n",
       "    </tr>\n",
       "    <tr>\n",
       "      <th>9</th>\n",
       "      <td>Victory Day CIS (May 9th) Event</td>\n",
       "      <td>CIS</td>\n",
       "      <td>2020-05-09</td>\n",
       "      <td>2020-05-11</td>\n",
       "    </tr>\n",
       "    <tr>\n",
       "      <th>11</th>\n",
       "      <td>Dragon Boat Festival Giveaway</td>\n",
       "      <td>APAC</td>\n",
       "      <td>2020-06-25</td>\n",
       "      <td>2020-07-01</td>\n",
       "    </tr>\n",
       "    <tr>\n",
       "      <th>4</th>\n",
       "      <td>4th of July Promo</td>\n",
       "      <td>N.America</td>\n",
       "      <td>2020-07-04</td>\n",
       "      <td>2020-07-11</td>\n",
       "    </tr>\n",
       "    <tr>\n",
       "      <th>13</th>\n",
       "      <td>Chinese Moon Festival</td>\n",
       "      <td>APAC</td>\n",
       "      <td>2020-10-01</td>\n",
       "      <td>2020-10-07</td>\n",
       "    </tr>\n",
       "    <tr>\n",
       "      <th>12</th>\n",
       "      <td>Single's Day Gift Promo</td>\n",
       "      <td>APAC</td>\n",
       "      <td>2020-11-11</td>\n",
       "      <td>2020-11-12</td>\n",
       "    </tr>\n",
       "    <tr>\n",
       "      <th>5</th>\n",
       "      <td>Black Friday Ads Campaign</td>\n",
       "      <td>EU, CIS, APAC, N.America</td>\n",
       "      <td>2020-11-26</td>\n",
       "      <td>2020-12-01</td>\n",
       "    </tr>\n",
       "    <tr>\n",
       "      <th>0</th>\n",
       "      <td>Christmas&amp;New Year Promo</td>\n",
       "      <td>EU, N.America</td>\n",
       "      <td>2020-12-25</td>\n",
       "      <td>2021-01-03</td>\n",
       "    </tr>\n",
       "    <tr>\n",
       "      <th>10</th>\n",
       "      <td>CIS New Year Gift Lottery</td>\n",
       "      <td>CIS</td>\n",
       "      <td>2020-12-30</td>\n",
       "      <td>2021-01-07</td>\n",
       "    </tr>\n",
       "  </tbody>\n",
       "</table>\n",
       "</div>"
      ],
      "text/plain": [
       "                                name                   regions   start_dt  \\\n",
       "6             Chinese New Year Promo                      APAC 2020-01-25   \n",
       "1       St. Valentine's Day Giveaway  EU, CIS, APAC, N.America 2020-02-14   \n",
       "8    International Women's Day Promo             EU, CIS, APAC 2020-03-08   \n",
       "2             St. Patric's Day Promo             EU, N.America 2020-03-17   \n",
       "3                       Easter Promo  EU, CIS, APAC, N.America 2020-04-12   \n",
       "7   Labor day (May 1st) Ads Campaign             EU, CIS, APAC 2020-05-01   \n",
       "9    Victory Day CIS (May 9th) Event                       CIS 2020-05-09   \n",
       "11     Dragon Boat Festival Giveaway                      APAC 2020-06-25   \n",
       "4                  4th of July Promo                 N.America 2020-07-04   \n",
       "13             Chinese Moon Festival                      APAC 2020-10-01   \n",
       "12           Single's Day Gift Promo                      APAC 2020-11-11   \n",
       "5          Black Friday Ads Campaign  EU, CIS, APAC, N.America 2020-11-26   \n",
       "0           Christmas&New Year Promo             EU, N.America 2020-12-25   \n",
       "10         CIS New Year Gift Lottery                       CIS 2020-12-30   \n",
       "\n",
       "    finish_dt  \n",
       "6  2020-02-07  \n",
       "1  2020-02-16  \n",
       "8  2020-03-10  \n",
       "2  2020-03-19  \n",
       "3  2020-04-19  \n",
       "7  2020-05-03  \n",
       "9  2020-05-11  \n",
       "11 2020-07-01  \n",
       "4  2020-07-11  \n",
       "13 2020-10-07  \n",
       "12 2020-11-12  \n",
       "5  2020-12-01  \n",
       "0  2021-01-03  \n",
       "10 2021-01-07  "
      ]
     },
     "execution_count": 25,
     "metadata": {},
     "output_type": "execute_result"
    }
   ],
   "source": [
    "marketing_events.sort_values(by='finish_dt')"
   ]
  },
  {
   "cell_type": "markdown",
   "metadata": {},
   "source": [
    "Нетрудно заметить, что во время проведения теста в регионе EU параллельно проводилась маркетинговае акция Christmas&New Year Promo, что также может повлиять на результаты теста."
   ]
  },
  {
   "cell_type": "markdown",
   "metadata": {},
   "source": [
    "**Сформируем итоговые наборы данных**"
   ]
  },
  {
   "cell_type": "markdown",
   "metadata": {},
   "source": [
    "Исключаем пользователей из группы В конкурирующего теста:"
   ]
  },
  {
   "cell_type": "code",
   "execution_count": 26,
   "metadata": {},
   "outputs": [],
   "source": [
    "ab_test = ab_test[~ab_test.user_id.isin(ab_test_2_b.user_id)]"
   ]
  },
  {
   "cell_type": "markdown",
   "metadata": {},
   "source": [
    "Оставляем пользователей только из региона EU:"
   ]
  },
  {
   "cell_type": "code",
   "execution_count": 27,
   "metadata": {},
   "outputs": [],
   "source": [
    "ab_test = ab_test[ab_test.region == 'EU']"
   ]
  },
  {
   "cell_type": "markdown",
   "metadata": {},
   "source": [
    "Разделяем на два отдельных датасета и исключаем ненужный атрибут:"
   ]
  },
  {
   "cell_type": "code",
   "execution_count": 28,
   "metadata": {},
   "outputs": [],
   "source": [
    "ab_test_a = ab_test.query('group == \"A\"').drop(['device'], axis=1)\n",
    "ab_test_b = ab_test.query('group == \"B\"').drop(['device'], axis=1)"
   ]
  },
  {
   "cell_type": "markdown",
   "metadata": {},
   "source": [
    "Присоединяем все события:"
   ]
  },
  {
   "cell_type": "code",
   "execution_count": 29,
   "metadata": {},
   "outputs": [],
   "source": [
    "ab_test_a_events = ab_test_a.merge(events, on='user_id', how='inner')\n",
    "ab_test_b_events = ab_test_b.merge(events, on='user_id', how='inner')"
   ]
  },
  {
   "cell_type": "markdown",
   "metadata": {},
   "source": [
    "Исключаем все события, которые не уклыдываются в 14-дневный период для каждого пользователя:"
   ]
  },
  {
   "cell_type": "code",
   "execution_count": 30,
   "metadata": {},
   "outputs": [],
   "source": [
    "ab_test_a_events['interval'] = (ab_test_a_events.event_dt - ab_test_a_events.first_date).dt.days\n",
    "ab_test_b_events['interval'] = (ab_test_b_events.event_dt - ab_test_b_events.first_date).dt.days\n",
    "ab_test_a_events = ab_test_a_events[ab_test_a_events.interval <= 14].drop(['interval'], axis=1)\n",
    "ab_test_b_events = ab_test_b_events[ab_test_b_events.interval <= 14].drop(['interval'], axis=1)"
   ]
  },
  {
   "cell_type": "markdown",
   "metadata": {},
   "source": [
    "**Вывод**:\n",
    "В целом, условия проведения теста, трудно назвать идеальными и полностью соответствующими техническому заданию. Допущенные ошибки:\n",
    "1. Участники в группе А и В распределены неравномерно. Присутствует смещение в сторону контрольной группы.\n",
    "2. Практически все участники теста из региона EU, однако нельзя сказать, что требование о 15% новых пользователей из EU соблюдено, т.к. есть пользователи из других регионов и количество пользователей менее 15%. Пользователи из других регионов исключены из рассмотрения.\n",
    "3. Ряд пользователей участвует также в конкурирующем тесте, такие пользователи исключены из рассмотрения.\n",
    "4. В конце периода проведения теста параллельно проводились маркетинговые акции.\n",
    "5. Тест проводился в предновогодний период, что также может повлиять на реальную картину, так как поведение пользователей в праздники, вероятнее всего, изменяется.\n",
    "6. Не все пользователи смогли \"прожить\" двухнедельный период.\n"
   ]
  },
  {
   "cell_type": "markdown",
   "metadata": {},
   "source": [
    "## Исследовательский анализ данных"
   ]
  },
  {
   "cell_type": "markdown",
   "metadata": {},
   "source": [
    "### Исследование количества событий в выборках"
   ]
  },
  {
   "cell_type": "markdown",
   "metadata": {},
   "source": [
    "Проверим количество событий в двух тестовых группах:"
   ]
  },
  {
   "cell_type": "code",
   "execution_count": 31,
   "metadata": {},
   "outputs": [
    {
     "name": "stdout",
     "output_type": "stream",
     "text": [
      "Количество событий в группе А: 15851\n",
      "Количество событий в группе B: 4183\n"
     ]
    }
   ],
   "source": [
    "print('Количество событий в группе А:', len(ab_test_a_events))\n",
    "print('Количество событий в группе B:', len(ab_test_b_events))"
   ]
  },
  {
   "cell_type": "markdown",
   "metadata": {},
   "source": [
    "Посмотрим на количество событий по дням в двух группах с динамикой по дням:"
   ]
  },
  {
   "cell_type": "code",
   "execution_count": 32,
   "metadata": {},
   "outputs": [],
   "source": [
    "ab_test_a_events['event_day'] = ab_test_a_events.event_dt.dt.date\n",
    "ab_test_b_events['event_day'] = ab_test_b_events.event_dt.dt.date"
   ]
  },
  {
   "cell_type": "code",
   "execution_count": 33,
   "metadata": {},
   "outputs": [
    {
     "data": {
      "image/png": "[encoded data removed]",
      "text/plain": [
       "<Figure size 720x720 with 1 Axes>"
      ]
     },
     "metadata": {
      "needs_background": "light"
     },
     "output_type": "display_data"
    }
   ],
   "source": [
    "fig,ax = plt.subplots(figsize=(10,10))\n",
    "ab_test_a_events.groupby('event_day').event_name.count().to_frame().reset_index().plot(x='event_day', y='event_name', label='A', ax=ax);\n",
    "ab_test_b_events.groupby('event_day').event_name.count().to_frame().reset_index().plot(x='event_day', y='event_name', label='B', ax=ax);\n",
    "plt.grid(True)\n",
    "plt.title('Количество событий по дням');\n",
    "plt.xlabel('День');\n",
    "plt.ylabel('Количество событий');"
   ]
  },
  {
   "cell_type": "markdown",
   "metadata": {},
   "source": [
    "Посмотрим на гистограммы количества событий в разрезе групп и в целом:"
   ]
  },
  {
   "cell_type": "code",
   "execution_count": 34,
   "metadata": {},
   "outputs": [],
   "source": [
    "ab_hist = pd.concat([ab_test_a_events, ab_test_b_events])"
   ]
  },
  {
   "cell_type": "code",
   "execution_count": 35,
   "metadata": {},
   "outputs": [
    {
     "data": {
      "image/png": "[encoded data removed]",
      "text/plain": [
       "<Figure size 432x288 with 1 Axes>"
      ]
     },
     "metadata": {
      "needs_background": "light"
     },
     "output_type": "display_data"
    }
   ],
   "source": [
    "ab_hist.groupby('user_id')['event_name'].count().hist(bins=20);\n",
    "plt.title('Количество действий для одного пользователя в целом');\n",
    "plt.xlabel('Количество действий');\n",
    "plt.axvline(ab_hist.groupby('user_id')['event_name'].count().mean(), color='red', linestyle='--', label='Среднее значение');\n",
    "plt.legend();"
   ]
  },
  {
   "cell_type": "code",
   "execution_count": 36,
   "metadata": {},
   "outputs": [
    {
     "data": {
      "image/png": "[encoded data removed]",
      "text/plain": [
       "<Figure size 432x288 with 1 Axes>"
      ]
     },
     "metadata": {
      "needs_background": "light"
     },
     "output_type": "display_data"
    }
   ],
   "source": [
    "ab_hist[ab_hist.group == 'A'].groupby('user_id')['event_name'].count().hist(bins=20);\n",
    "plt.title('Количество действий для одного пользователя в группе А');\n",
    "plt.xlabel('Количество действий');\n",
    "plt.axvline(ab_hist[ab_hist.group == 'A'].groupby('user_id')['event_name'].count().mean(), color='red', linestyle='--', label='Среднее значение');\n",
    "plt.legend();"
   ]
  },
  {
   "cell_type": "code",
   "execution_count": 37,
   "metadata": {},
   "outputs": [
    {
     "data": {
      "image/png": "[encoded data removed]",
      "text/plain": [
       "<Figure size 432x288 with 1 Axes>"
      ]
     },
     "metadata": {
      "needs_background": "light"
     },
     "output_type": "display_data"
    }
   ],
   "source": [
    "ab_hist[ab_hist.group == 'B'].groupby('user_id')['event_name'].count().hist(bins=20);\n",
    "plt.title('Количество действий для одного пользователя в группе B');\n",
    "plt.xlabel('Количество действий');\n",
    "plt.axvline(ab_hist[ab_hist.group == 'B'].groupby('user_id')['event_name'].count().mean(), color='red', linestyle='--', label='Среднее значение');\n",
    "plt.legend();"
   ]
  },
  {
   "cell_type": "markdown",
   "metadata": {},
   "source": [
    "**Вывод**: очевидно, что тестовая группа по каким-то причинам намного менее активна, чем контрольная. Количество событий по дням имеет разную динамику, но похожие тренды. Можно предположить, что более низкая активность вызвана тем, что процесс покупки стал проще. Также стоит заметить, что количество действий в разрезе одного пользователя в тестовой группе в среднем немного меньше."
   ]
  },
  {
   "cell_type": "markdown",
   "metadata": {},
   "source": [
    "### Исследование воронки продаж"
   ]
  },
  {
   "cell_type": "code",
   "execution_count": 38,
   "metadata": {},
   "outputs": [
    {
     "data": {
      "text/html": [
       "<div>\n",
       "<style scoped>\n",
       "    .dataframe tbody tr th:only-of-type {\n",
       "        vertical-align: middle;\n",
       "    }\n",
       "\n",
       "    .dataframe tbody tr th {\n",
       "        vertical-align: top;\n",
       "    }\n",
       "\n",
       "    .dataframe thead th {\n",
       "        text-align: right;\n",
       "    }\n",
       "</style>\n",
       "<table border=\"1\" class=\"dataframe\">\n",
       "  <thead>\n",
       "    <tr style=\"text-align: right;\">\n",
       "      <th></th>\n",
       "      <th>event_name</th>\n",
       "      <th>user_id</th>\n",
       "      <th>total_users</th>\n",
       "      <th>conversion</th>\n",
       "      <th>group</th>\n",
       "    </tr>\n",
       "  </thead>\n",
       "  <tbody>\n",
       "    <tr>\n",
       "      <th>0</th>\n",
       "      <td>login</td>\n",
       "      <td>2279</td>\n",
       "      <td>3195</td>\n",
       "      <td>0.713302</td>\n",
       "      <td>A</td>\n",
       "    </tr>\n",
       "    <tr>\n",
       "      <th>1</th>\n",
       "      <td>product_cart</td>\n",
       "      <td>686</td>\n",
       "      <td>3195</td>\n",
       "      <td>0.214710</td>\n",
       "      <td>A</td>\n",
       "    </tr>\n",
       "    <tr>\n",
       "      <th>2</th>\n",
       "      <td>product_page</td>\n",
       "      <td>1476</td>\n",
       "      <td>3195</td>\n",
       "      <td>0.461972</td>\n",
       "      <td>A</td>\n",
       "    </tr>\n",
       "    <tr>\n",
       "      <th>3</th>\n",
       "      <td>purchase</td>\n",
       "      <td>734</td>\n",
       "      <td>3195</td>\n",
       "      <td>0.229734</td>\n",
       "      <td>A</td>\n",
       "    </tr>\n",
       "  </tbody>\n",
       "</table>\n",
       "</div>"
      ],
      "text/plain": [
       "     event_name  user_id  total_users  conversion group\n",
       "0         login     2279         3195    0.713302     A\n",
       "1  product_cart      686         3195    0.214710     A\n",
       "2  product_page     1476         3195    0.461972     A\n",
       "3      purchase      734         3195    0.229734     A"
      ]
     },
     "execution_count": 38,
     "metadata": {},
     "output_type": "execute_result"
    }
   ],
   "source": [
    "ab_test_a_conv = ab_test_a_events.groupby('event_name').user_id.nunique().to_frame().reset_index()\n",
    "ab_test_a_conv['total_users'] = len(ab_test_a)\n",
    "ab_test_a_conv['conversion'] = ab_test_a_conv.user_id / ab_test_a_conv.total_users\n",
    "ab_test_a_conv['group'] = 'A'\n",
    "ab_test_a_conv"
   ]
  },
  {
   "cell_type": "code",
   "execution_count": 39,
   "metadata": {},
   "outputs": [
    {
     "data": {
      "text/html": [
       "<div>\n",
       "<style scoped>\n",
       "    .dataframe tbody tr th:only-of-type {\n",
       "        vertical-align: middle;\n",
       "    }\n",
       "\n",
       "    .dataframe tbody tr th {\n",
       "        vertical-align: top;\n",
       "    }\n",
       "\n",
       "    .dataframe thead th {\n",
       "        text-align: right;\n",
       "    }\n",
       "</style>\n",
       "<table border=\"1\" class=\"dataframe\">\n",
       "  <thead>\n",
       "    <tr style=\"text-align: right;\">\n",
       "      <th></th>\n",
       "      <th>event_name</th>\n",
       "      <th>user_id</th>\n",
       "      <th>total_users</th>\n",
       "      <th>conversion</th>\n",
       "      <th>group</th>\n",
       "    </tr>\n",
       "  </thead>\n",
       "  <tbody>\n",
       "    <tr>\n",
       "      <th>0</th>\n",
       "      <td>login</td>\n",
       "      <td>770</td>\n",
       "      <td>2373</td>\n",
       "      <td>0.324484</td>\n",
       "      <td>B</td>\n",
       "    </tr>\n",
       "    <tr>\n",
       "      <th>1</th>\n",
       "      <td>product_cart</td>\n",
       "      <td>214</td>\n",
       "      <td>2373</td>\n",
       "      <td>0.090181</td>\n",
       "      <td>B</td>\n",
       "    </tr>\n",
       "    <tr>\n",
       "      <th>2</th>\n",
       "      <td>product_page</td>\n",
       "      <td>429</td>\n",
       "      <td>2373</td>\n",
       "      <td>0.180784</td>\n",
       "      <td>B</td>\n",
       "    </tr>\n",
       "    <tr>\n",
       "      <th>3</th>\n",
       "      <td>purchase</td>\n",
       "      <td>219</td>\n",
       "      <td>2373</td>\n",
       "      <td>0.092288</td>\n",
       "      <td>B</td>\n",
       "    </tr>\n",
       "  </tbody>\n",
       "</table>\n",
       "</div>"
      ],
      "text/plain": [
       "     event_name  user_id  total_users  conversion group\n",
       "0         login      770         2373    0.324484     B\n",
       "1  product_cart      214         2373    0.090181     B\n",
       "2  product_page      429         2373    0.180784     B\n",
       "3      purchase      219         2373    0.092288     B"
      ]
     },
     "execution_count": 39,
     "metadata": {},
     "output_type": "execute_result"
    }
   ],
   "source": [
    "ab_test_b_conv = ab_test_b_events.groupby('event_name').user_id.nunique().to_frame().reset_index()\n",
    "ab_test_b_conv['total_users'] = len(ab_test_b)\n",
    "ab_test_b_conv['conversion'] = ab_test_b_conv.user_id / ab_test_b_conv.total_users\n",
    "ab_test_b_conv['group'] = 'B'\n",
    "ab_test_b_conv"
   ]
  },
  {
   "cell_type": "code",
   "execution_count": 40,
   "metadata": {
    "scrolled": false
   },
   "outputs": [
    {
     "data": {
      "image/png": "[encoded data removed]",
      "text/plain": [
       "<Figure size 720x720 with 1 Axes>"
      ]
     },
     "metadata": {
      "needs_background": "light"
     },
     "output_type": "display_data"
    }
   ],
   "source": [
    "plt.figure(figsize=(10,10))\n",
    "sns.barplot(data=pd.concat([ab_test_a_conv,ab_test_b_conv]), x='event_name', y='conversion', hue='group');\n",
    "plt.title('Фактические значения конверсий');"
   ]
  },
  {
   "cell_type": "markdown",
   "metadata": {},
   "source": [
    "**Вывод**:\n",
    "1. Очевидно, что по всем событиям конверсия в контрольной группе значительно выше, чем в тестовой.\n",
    "2. По всей видимости, в магазине реализована какая-то механика покупки в обход корзины (об этом свидетельствует тот факт, что покупок больше, чем посещений корзины)."
   ]
  },
  {
   "cell_type": "markdown",
   "metadata": {},
   "source": [
    "## Оценка результатов A/B-теста"
   ]
  },
  {
   "cell_type": "markdown",
   "metadata": {},
   "source": [
    "Необходимо проверить гипотезы о том, за 14 дней с момента регистрации пользователи покажут улучшение каждой метрики не менее, чем на 10%:\n",
    "\n",
    "* конверсии в просмотр карточек товаров — событие `product_page`,\n",
    "* просмотры корзины — `product_cart`,\n",
    "* покупки — `purchase`.\n",
    "    \n",
    "**H0**: Конверсии в просмотр карточек товаров/посмотр корзины/покупки не различаются в зависимости от группы.\n",
    "\n",
    "**H1**: Конверсии в просмотр карточек товаров/посмотр корзины/покупки различаются в зависимости от группы.\n",
    "\n",
    "Метод проверки: z-тест"
   ]
  },
  {
   "cell_type": "markdown",
   "metadata": {},
   "source": [
    "Определим пороговый уровень значимости равным 0.05 (в тестах скорректирован с помощью поправки Бонферрони), так как эксперимент не является высокоточным."
   ]
  },
  {
   "cell_type": "markdown",
   "metadata": {},
   "source": [
    "Определим функцию, позволяющую реализовать Z-тест:"
   ]
  },
  {
   "cell_type": "code",
   "execution_count": 41,
   "metadata": {},
   "outputs": [],
   "source": [
    "def z_test(events, totals, alpha=.05):\n",
    "    p1 = events[0]/totals[0]\n",
    "    p2 = events[1]/totals[1]\n",
    "    p_combined = (events[0] + events[1]) / (totals[0] + totals[1])\n",
    "    difference = p1 - p2\n",
    "    z_value = difference / mth.sqrt(p_combined * (1 - p_combined) * (1/totals[0] + 1/totals[1]))\n",
    "    distr = st.norm(0, 1) \n",
    "    p_value = (1 - distr.cdf(abs(z_value))) * 2\n",
    "    print('p-значение: ', p_value)\n",
    "    if p_value < alpha:\n",
    "        print('Отвергаем нулевую гипотезу: между долями есть значимая разница')\n",
    "    else:\n",
    "        print('Не получилось отвергнуть нулевую гипотезу, нет оснований считать доли разными') "
   ]
  },
  {
   "cell_type": "markdown",
   "metadata": {},
   "source": [
    "Проведем z-тест для всех метрик:"
   ]
  },
  {
   "cell_type": "code",
   "execution_count": 42,
   "metadata": {
    "scrolled": true
   },
   "outputs": [
    {
     "name": "stdout",
     "output_type": "stream",
     "text": [
      "Гипотеза о равенстве долей product_cart\n",
      "p-значение:  0.0\n",
      "Отвергаем нулевую гипотезу: между долями есть значимая разница\n",
      "----------\n",
      "Гипотеза о равенстве долей product_page\n",
      "p-значение:  0.0\n",
      "Отвергаем нулевую гипотезу: между долями есть значимая разница\n",
      "----------\n",
      "Гипотеза о равенстве долей purchase\n",
      "p-значение:  0.0\n",
      "Отвергаем нулевую гипотезу: между долями есть значимая разница\n",
      "----------\n"
     ]
    }
   ],
   "source": [
    "for x in ab_test_a_conv[ab_test_a_conv.event_name != 'login'].event_name:\n",
    "    print(f'Гипотеза о равенстве долей {x}')\n",
    "    events_test = np.array([int(ab_test_a_conv[ab_test_a_conv.event_name == x].user_id), int(ab_test_b_conv[ab_test_b_conv.event_name == x].user_id)])\n",
    "    totals_test = np.array([int(ab_test_a_conv[ab_test_a_conv.event_name == x].total_users), int(ab_test_b_conv[ab_test_b_conv.event_name == x].total_users)])\n",
    "    z_test(events_test, totals_test, alpha = 0.05/3)\n",
    "    print(f'----------')"
   ]
  },
  {
   "cell_type": "markdown",
   "metadata": {},
   "source": [
    "**Вывод**: результаты всех тестов показали статистически значимые различия двух групп. Таким образом, можно считать, что нововведение ухудшает все метрики и от него необходимо отказаться."
   ]
  },
  {
   "cell_type": "markdown",
   "metadata": {},
   "source": [
    "## Заключение"
   ]
  },
  {
   "cell_type": "markdown",
   "metadata": {},
   "source": [
    "В процессе работы были выполнены следующий этапы:\n",
    "1. Проведен обзор и предварительная обработка данных.\n",
    "2. Произведена оценка корректности проведения теста\n",
    "3. Проведен исследовательский анализ данных\n",
    "4. Оценены и интерпретированы результаты A/B-теста.\n",
    "\n",
    "**Ключевые выводы**:\n",
    "1. A/B-тест проведен со значительными нарушениями, что могло исказить действительный результат:\n",
    "    * Участники в группе А и В распределены неравномерно. Присутствует смещение в сторону контрольной группы.\n",
    "    * Практически все участники теста из региона EU, однако нельзя сказать, что требование о 15% новых пользователей из EU соблюдено, т.к. есть пользователи из других регионов и количество пользователей менее 15%.\n",
    "    * Ряд пользователей участвует также в конкурирующем тесте, такие пользователи исключены из рассмотрения.\n",
    "    * В конце периода проведения теста параллельно проводились маркетинговые акции.\n",
    "    * Тест проводился в предновогодний период, что также может повлиять на реальную картину, так как поведение пользователей в праздники, вероятнее всего, изменяется.\n",
    "    * Не все пользователи смогли \"прожить\" двухнедельный период.\n",
    "2. Результаты теста показали, что новый вариант системы рекомендаций не оправдал себя. Конверсия по всем этапам воронки продаж статистически значимо ниже контрольной группы.\n",
    "\n",
    "**Рекомендации**:\n",
    "1. В случае, если условия проведения теста с учетом всех замечаний считаются корректными для компании-заказчика, то от нововведения следует отказаться.\n",
    "2. Если внутренняя аналитика компании показывает, что такое нововведение может быть полезно, то необходимо провести тест повторно с учетом всех замечаний по условиям проведения теста.\n",
    "3. Результатам теста, в целом, доверять не следует, так как несколько пунктов технического задания были нарушены (хотя, стоит отметить, что критических нарушений технического задания нет), а также часть временного интервала проведения теста приходится на период проведения маркетинговой акции в соответствующем регионе и предновогодний период, что может вызывать непредсказуемую активность. Также опасения вызывает низкая активность пользователей в тестовой группе, возможно, следует проверить новый функционал на наличие ошибок в работе.\n",
    "4. При проведении тестов в будущем следует выбирать временной интервал, исключающий праздничные дни, проведение маркетинговых акций и прочие несезонные факторы, которые могут влиять на активность пользователей. Также необходимо более строго придерживаться установленного технического задания."
   ]
  }
 ],
 "metadata": {
  "ExecuteTimeLog": [
   {
    "duration": 370,
    "start_time": "2022-09-13T08:02:27.847Z"
   },
   {
    "duration": 1029,
    "start_time": "2022-09-13T08:05:23.132Z"
   },
   {
    "duration": 14,
    "start_time": "2022-09-13T08:05:30.321Z"
   },
   {
    "duration": 7,
    "start_time": "2022-09-13T08:05:35.934Z"
   },
   {
    "duration": 9,
    "start_time": "2022-09-13T08:06:04.378Z"
   },
   {
    "duration": 8,
    "start_time": "2022-09-13T08:06:11.655Z"
   },
   {
    "duration": 9,
    "start_time": "2022-09-13T08:06:41.353Z"
   },
   {
    "duration": 14,
    "start_time": "2022-09-13T08:06:45.465Z"
   },
   {
    "duration": 21,
    "start_time": "2022-09-13T08:07:01.856Z"
   },
   {
    "duration": 53,
    "start_time": "2022-09-13T08:07:13.856Z"
   },
   {
    "duration": 6,
    "start_time": "2022-09-13T08:07:35.679Z"
   },
   {
    "duration": 16,
    "start_time": "2022-09-13T08:07:39.039Z"
   },
   {
    "duration": 5,
    "start_time": "2022-09-13T08:11:50.324Z"
   },
   {
    "duration": 251,
    "start_time": "2022-09-13T08:12:31.412Z"
   },
   {
    "duration": 5,
    "start_time": "2022-09-13T08:15:15.175Z"
   },
   {
    "duration": 15,
    "start_time": "2022-09-13T08:15:18.155Z"
   },
   {
    "duration": 12,
    "start_time": "2022-09-13T08:16:05.442Z"
   },
   {
    "duration": 19,
    "start_time": "2022-09-13T08:16:09.389Z"
   },
   {
    "duration": 83,
    "start_time": "2022-09-13T08:17:05.841Z"
   },
   {
    "duration": 43,
    "start_time": "2022-09-13T08:17:07.695Z"
   },
   {
    "duration": 43,
    "start_time": "2022-09-13T08:17:18.728Z"
   },
   {
    "duration": 14,
    "start_time": "2022-09-13T08:17:29.996Z"
   },
   {
    "duration": 4,
    "start_time": "2022-09-13T08:18:20.858Z"
   },
   {
    "duration": 4,
    "start_time": "2022-09-13T08:18:23.113Z"
   },
   {
    "duration": 24,
    "start_time": "2022-09-13T08:18:54.745Z"
   },
   {
    "duration": 157,
    "start_time": "2022-09-13T08:19:20.494Z"
   },
   {
    "duration": 151,
    "start_time": "2022-09-13T08:19:25.190Z"
   },
   {
    "duration": 8,
    "start_time": "2022-09-13T08:19:42.403Z"
   },
   {
    "duration": 24,
    "start_time": "2022-09-13T08:45:13.484Z"
   },
   {
    "duration": 21,
    "start_time": "2022-09-13T08:46:20.556Z"
   },
   {
    "duration": 26,
    "start_time": "2022-09-13T08:46:39.981Z"
   },
   {
    "duration": 83,
    "start_time": "2022-09-13T08:47:51.292Z"
   },
   {
    "duration": 15,
    "start_time": "2022-09-13T08:47:55.987Z"
   },
   {
    "duration": 15,
    "start_time": "2022-09-13T08:48:08.369Z"
   },
   {
    "duration": 43,
    "start_time": "2022-09-13T10:00:36.420Z"
   },
   {
    "duration": 16,
    "start_time": "2022-09-13T10:02:52.334Z"
   },
   {
    "duration": 367,
    "start_time": "2022-09-13T10:06:14.429Z"
   },
   {
    "duration": 529,
    "start_time": "2022-09-13T10:06:14.799Z"
   },
   {
    "duration": 21,
    "start_time": "2022-09-13T10:06:15.332Z"
   },
   {
    "duration": 4,
    "start_time": "2022-09-13T10:06:15.354Z"
   },
   {
    "duration": 8,
    "start_time": "2022-09-13T10:06:15.360Z"
   },
   {
    "duration": 23,
    "start_time": "2022-09-13T10:06:15.370Z"
   },
   {
    "duration": 18,
    "start_time": "2022-09-13T10:06:15.394Z"
   },
   {
    "duration": 28,
    "start_time": "2022-09-13T10:06:15.413Z"
   },
   {
    "duration": 73,
    "start_time": "2022-09-13T10:06:15.445Z"
   },
   {
    "duration": 95,
    "start_time": "2022-09-13T10:06:15.520Z"
   },
   {
    "duration": 194,
    "start_time": "2022-09-13T10:06:15.617Z"
   },
   {
    "duration": 26,
    "start_time": "2022-09-13T10:06:15.813Z"
   },
   {
    "duration": 16,
    "start_time": "2022-09-13T10:06:15.841Z"
   },
   {
    "duration": 10,
    "start_time": "2022-09-13T10:06:15.858Z"
   },
   {
    "duration": 13,
    "start_time": "2022-09-13T10:16:09.261Z"
   },
   {
    "duration": 9,
    "start_time": "2022-09-13T10:20:07.002Z"
   },
   {
    "duration": 37,
    "start_time": "2022-09-13T10:20:32.719Z"
   },
   {
    "duration": 41,
    "start_time": "2022-09-13T10:21:31.267Z"
   },
   {
    "duration": 33,
    "start_time": "2022-09-13T10:21:43.471Z"
   },
   {
    "duration": 55,
    "start_time": "2022-09-13T10:21:46.770Z"
   },
   {
    "duration": 13,
    "start_time": "2022-09-13T10:21:49.650Z"
   },
   {
    "duration": 11,
    "start_time": "2022-09-13T10:23:14.343Z"
   },
   {
    "duration": 8,
    "start_time": "2022-09-13T10:23:25.162Z"
   },
   {
    "duration": 9,
    "start_time": "2022-09-13T10:23:30.735Z"
   },
   {
    "duration": 9,
    "start_time": "2022-09-13T10:23:47.878Z"
   },
   {
    "duration": 7,
    "start_time": "2022-09-13T10:26:28.493Z"
   },
   {
    "duration": 8,
    "start_time": "2022-09-13T10:30:07.159Z"
   },
   {
    "duration": 16,
    "start_time": "2022-09-13T10:31:37.511Z"
   },
   {
    "duration": 10,
    "start_time": "2022-09-13T10:31:48.798Z"
   },
   {
    "duration": 10,
    "start_time": "2022-09-13T10:33:58.590Z"
   },
   {
    "duration": 535,
    "start_time": "2022-09-13T10:34:41.555Z"
   },
   {
    "duration": 11,
    "start_time": "2022-09-13T10:34:53.881Z"
   },
   {
    "duration": 63,
    "start_time": "2022-09-13T10:35:01.961Z"
   },
   {
    "duration": 12,
    "start_time": "2022-09-13T10:35:17.538Z"
   },
   {
    "duration": 64,
    "start_time": "2022-09-13T10:35:26.456Z"
   },
   {
    "duration": 9,
    "start_time": "2022-09-13T10:36:00.151Z"
   },
   {
    "duration": 482,
    "start_time": "2022-09-13T10:36:37.264Z"
   },
   {
    "duration": 72,
    "start_time": "2022-09-13T10:36:56.648Z"
   },
   {
    "duration": 72,
    "start_time": "2022-09-13T10:37:00.562Z"
   },
   {
    "duration": 89,
    "start_time": "2022-09-13T10:37:30.595Z"
   },
   {
    "duration": 11,
    "start_time": "2022-09-13T10:38:00.746Z"
   },
   {
    "duration": 164,
    "start_time": "2022-09-13T10:39:12.369Z"
   },
   {
    "duration": 178,
    "start_time": "2022-09-13T10:39:59.974Z"
   },
   {
    "duration": 249,
    "start_time": "2022-09-13T10:40:04.253Z"
   },
   {
    "duration": 12,
    "start_time": "2022-09-13T10:43:06.045Z"
   },
   {
    "duration": 7,
    "start_time": "2022-09-13T10:43:20.895Z"
   },
   {
    "duration": 6,
    "start_time": "2022-09-13T10:43:25.026Z"
   },
   {
    "duration": 6,
    "start_time": "2022-09-13T10:43:35.205Z"
   },
   {
    "duration": 5,
    "start_time": "2022-09-13T10:43:37.782Z"
   },
   {
    "duration": 5,
    "start_time": "2022-09-13T10:44:19.320Z"
   },
   {
    "duration": 220,
    "start_time": "2022-09-13T10:45:42.056Z"
   },
   {
    "duration": 19,
    "start_time": "2022-09-13T10:45:46.322Z"
   },
   {
    "duration": 18,
    "start_time": "2022-09-13T10:45:52.080Z"
   },
   {
    "duration": 4,
    "start_time": "2022-09-13T10:47:43.753Z"
   },
   {
    "duration": 4,
    "start_time": "2022-09-13T10:47:51.395Z"
   },
   {
    "duration": 5,
    "start_time": "2022-09-13T10:48:45.365Z"
   },
   {
    "duration": 48,
    "start_time": "2022-09-13T10:48:57.322Z"
   },
   {
    "duration": 3,
    "start_time": "2022-09-13T10:49:09.048Z"
   },
   {
    "duration": 9,
    "start_time": "2022-09-13T10:49:14.319Z"
   },
   {
    "duration": 4,
    "start_time": "2022-09-13T10:49:19.664Z"
   },
   {
    "duration": 4,
    "start_time": "2022-09-13T10:49:25.093Z"
   },
   {
    "duration": 28,
    "start_time": "2022-09-13T10:52:04.396Z"
   },
   {
    "duration": 5,
    "start_time": "2022-09-13T10:52:10.483Z"
   },
   {
    "duration": 9,
    "start_time": "2022-09-13T10:52:55.452Z"
   },
   {
    "duration": 6,
    "start_time": "2022-09-13T10:53:27.337Z"
   },
   {
    "duration": 5,
    "start_time": "2022-09-13T10:53:32.255Z"
   },
   {
    "duration": 6,
    "start_time": "2022-09-13T10:53:34.939Z"
   },
   {
    "duration": 5,
    "start_time": "2022-09-13T10:53:37.039Z"
   },
   {
    "duration": 10,
    "start_time": "2022-09-13T10:53:53.081Z"
   },
   {
    "duration": 11,
    "start_time": "2022-09-13T10:53:56.662Z"
   },
   {
    "duration": 10,
    "start_time": "2022-09-13T11:05:23.105Z"
   },
   {
    "duration": 5,
    "start_time": "2022-09-13T11:05:29.473Z"
   },
   {
    "duration": 35,
    "start_time": "2022-09-13T11:06:08.602Z"
   },
   {
    "duration": 7,
    "start_time": "2022-09-13T11:06:34.897Z"
   },
   {
    "duration": 6,
    "start_time": "2022-09-13T11:06:37.983Z"
   },
   {
    "duration": 5,
    "start_time": "2022-09-13T11:07:10.155Z"
   },
   {
    "duration": 6,
    "start_time": "2022-09-13T11:07:46.661Z"
   },
   {
    "duration": 10,
    "start_time": "2022-09-13T11:08:44.792Z"
   },
   {
    "duration": 37,
    "start_time": "2022-09-13T11:09:02.508Z"
   },
   {
    "duration": 6,
    "start_time": "2022-09-13T11:09:02.861Z"
   },
   {
    "duration": 8,
    "start_time": "2022-09-13T11:10:23.690Z"
   },
   {
    "duration": 5,
    "start_time": "2022-09-13T11:11:16.728Z"
   },
   {
    "duration": 5,
    "start_time": "2022-09-13T11:11:21.741Z"
   },
   {
    "duration": 10,
    "start_time": "2022-09-13T11:11:38.957Z"
   },
   {
    "duration": 9,
    "start_time": "2022-09-13T11:11:57.047Z"
   },
   {
    "duration": 10,
    "start_time": "2022-09-13T11:14:24.253Z"
   },
   {
    "duration": 10,
    "start_time": "2022-09-13T11:14:52.748Z"
   },
   {
    "duration": 7,
    "start_time": "2022-09-13T11:20:08.391Z"
   },
   {
    "duration": 13,
    "start_time": "2022-09-13T11:20:12.389Z"
   },
   {
    "duration": 202,
    "start_time": "2022-09-13T11:20:42.995Z"
   },
   {
    "duration": 17,
    "start_time": "2022-09-13T11:20:44.415Z"
   },
   {
    "duration": 24,
    "start_time": "2022-09-13T11:20:49.718Z"
   },
   {
    "duration": 18,
    "start_time": "2022-09-13T11:20:54.240Z"
   },
   {
    "duration": 14,
    "start_time": "2022-09-13T11:22:45.477Z"
   },
   {
    "duration": 10,
    "start_time": "2022-09-13T11:23:12.787Z"
   },
   {
    "duration": 10,
    "start_time": "2022-09-13T11:23:42.964Z"
   },
   {
    "duration": 9,
    "start_time": "2022-09-13T11:24:07.448Z"
   },
   {
    "duration": 18,
    "start_time": "2022-09-13T12:05:56.760Z"
   },
   {
    "duration": 4,
    "start_time": "2022-09-13T12:06:50.761Z"
   },
   {
    "duration": 3,
    "start_time": "2022-09-13T12:07:00.778Z"
   },
   {
    "duration": 23,
    "start_time": "2022-09-13T12:07:43.657Z"
   },
   {
    "duration": 9,
    "start_time": "2022-09-13T12:08:06.298Z"
   },
   {
    "duration": 9,
    "start_time": "2022-09-13T12:08:19.882Z"
   },
   {
    "duration": 13,
    "start_time": "2022-09-13T12:08:35.650Z"
   },
   {
    "duration": 18,
    "start_time": "2022-09-13T12:09:16.851Z"
   },
   {
    "duration": 8,
    "start_time": "2022-09-13T12:09:25.589Z"
   },
   {
    "duration": 22,
    "start_time": "2022-09-13T12:09:27.249Z"
   },
   {
    "duration": 13,
    "start_time": "2022-09-13T12:09:37.422Z"
   },
   {
    "duration": 12,
    "start_time": "2022-09-13T12:09:52.553Z"
   },
   {
    "duration": 9,
    "start_time": "2022-09-13T12:10:02.453Z"
   },
   {
    "duration": 12,
    "start_time": "2022-09-13T12:10:09.888Z"
   },
   {
    "duration": 217,
    "start_time": "2022-09-13T12:10:28.256Z"
   },
   {
    "duration": 328,
    "start_time": "2022-09-13T12:10:38.673Z"
   },
   {
    "duration": 304,
    "start_time": "2022-09-13T12:11:32.353Z"
   },
   {
    "duration": 341,
    "start_time": "2022-09-13T12:11:47.256Z"
   },
   {
    "duration": 351,
    "start_time": "2022-09-13T12:13:16.879Z"
   },
   {
    "duration": 58,
    "start_time": "2022-09-13T12:15:34.193Z"
   },
   {
    "duration": 420,
    "start_time": "2022-09-13T12:15:46.382Z"
   },
   {
    "duration": 314,
    "start_time": "2022-09-13T12:16:02.764Z"
   },
   {
    "duration": 169,
    "start_time": "2022-09-13T12:16:08.187Z"
   },
   {
    "duration": 190,
    "start_time": "2022-09-13T12:17:16.481Z"
   },
   {
    "duration": 46,
    "start_time": "2022-09-13T12:17:23.184Z"
   },
   {
    "duration": 180,
    "start_time": "2022-09-13T12:17:31.324Z"
   },
   {
    "duration": 219,
    "start_time": "2022-09-13T12:17:41.359Z"
   },
   {
    "duration": 232,
    "start_time": "2022-09-13T12:17:47.075Z"
   },
   {
    "duration": 197,
    "start_time": "2022-09-13T12:17:58.191Z"
   },
   {
    "duration": 23,
    "start_time": "2022-09-13T12:19:21.611Z"
   },
   {
    "duration": 201,
    "start_time": "2022-09-13T12:19:30.961Z"
   },
   {
    "duration": 24,
    "start_time": "2022-09-13T12:20:42.193Z"
   },
   {
    "duration": 10,
    "start_time": "2022-09-13T12:21:11.054Z"
   },
   {
    "duration": 8,
    "start_time": "2022-09-13T12:21:40.390Z"
   },
   {
    "duration": 17,
    "start_time": "2022-09-13T12:24:24.536Z"
   },
   {
    "duration": 14,
    "start_time": "2022-09-13T12:24:29.420Z"
   },
   {
    "duration": 15,
    "start_time": "2022-09-13T12:25:06.420Z"
   },
   {
    "duration": 9,
    "start_time": "2022-09-13T12:25:07.010Z"
   },
   {
    "duration": 12,
    "start_time": "2022-09-13T12:25:16.885Z"
   },
   {
    "duration": 4,
    "start_time": "2022-09-13T12:25:22.888Z"
   },
   {
    "duration": 10,
    "start_time": "2022-09-13T12:25:28.562Z"
   },
   {
    "duration": 21,
    "start_time": "2022-09-13T12:30:22.462Z"
   },
   {
    "duration": 13,
    "start_time": "2022-09-13T12:30:48.091Z"
   },
   {
    "duration": 6,
    "start_time": "2022-09-13T12:31:03.519Z"
   },
   {
    "duration": 6,
    "start_time": "2022-09-13T12:31:08.270Z"
   },
   {
    "duration": 15,
    "start_time": "2022-09-13T12:31:21.462Z"
   },
   {
    "duration": 6,
    "start_time": "2022-09-13T12:31:32.391Z"
   },
   {
    "duration": 20,
    "start_time": "2022-09-13T12:32:21.657Z"
   },
   {
    "duration": 6,
    "start_time": "2022-09-13T12:34:31.258Z"
   },
   {
    "duration": 6,
    "start_time": "2022-09-13T12:35:31.377Z"
   },
   {
    "duration": 7,
    "start_time": "2022-09-13T12:35:44.004Z"
   },
   {
    "duration": 6,
    "start_time": "2022-09-13T12:35:45.726Z"
   },
   {
    "duration": 7,
    "start_time": "2022-09-13T12:35:46.158Z"
   },
   {
    "duration": 17,
    "start_time": "2022-09-13T12:50:56.806Z"
   },
   {
    "duration": 10,
    "start_time": "2022-09-13T12:51:07.617Z"
   },
   {
    "duration": 35,
    "start_time": "2022-09-13T12:51:25.250Z"
   },
   {
    "duration": 10,
    "start_time": "2022-09-13T12:51:29.651Z"
   },
   {
    "duration": 20,
    "start_time": "2022-09-13T12:51:32.855Z"
   },
   {
    "duration": 35,
    "start_time": "2022-09-13T12:51:40.871Z"
   },
   {
    "duration": 15,
    "start_time": "2022-09-13T12:51:41.704Z"
   },
   {
    "duration": 42,
    "start_time": "2022-09-13T12:51:50.116Z"
   },
   {
    "duration": 15,
    "start_time": "2022-09-13T12:51:51.354Z"
   },
   {
    "duration": 89,
    "start_time": "2022-09-13T12:52:31.756Z"
   },
   {
    "duration": 97,
    "start_time": "2022-09-13T12:52:39.275Z"
   },
   {
    "duration": 9,
    "start_time": "2022-09-13T12:55:05.318Z"
   },
   {
    "duration": 6,
    "start_time": "2022-09-13T12:55:15.063Z"
   },
   {
    "duration": 5,
    "start_time": "2022-09-13T12:55:31.509Z"
   },
   {
    "duration": 7,
    "start_time": "2022-09-13T12:56:10.766Z"
   },
   {
    "duration": 565,
    "start_time": "2022-09-13T12:56:10.775Z"
   },
   {
    "duration": 20,
    "start_time": "2022-09-13T12:56:11.343Z"
   },
   {
    "duration": 7,
    "start_time": "2022-09-13T12:56:11.365Z"
   },
   {
    "duration": 7,
    "start_time": "2022-09-13T12:56:11.374Z"
   },
   {
    "duration": 37,
    "start_time": "2022-09-13T12:56:11.383Z"
   },
   {
    "duration": 11,
    "start_time": "2022-09-13T12:56:11.422Z"
   },
   {
    "duration": 34,
    "start_time": "2022-09-13T12:56:11.436Z"
   },
   {
    "duration": 90,
    "start_time": "2022-09-13T12:56:11.472Z"
   },
   {
    "duration": 90,
    "start_time": "2022-09-13T12:56:11.564Z"
   },
   {
    "duration": 201,
    "start_time": "2022-09-13T12:56:11.656Z"
   },
   {
    "duration": 26,
    "start_time": "2022-09-13T12:56:11.858Z"
   },
   {
    "duration": 26,
    "start_time": "2022-09-13T12:56:11.887Z"
   },
   {
    "duration": 16,
    "start_time": "2022-09-13T12:56:11.915Z"
   },
   {
    "duration": 37,
    "start_time": "2022-09-13T12:56:11.932Z"
   },
   {
    "duration": 37,
    "start_time": "2022-09-13T12:56:11.971Z"
   },
   {
    "duration": 95,
    "start_time": "2022-09-13T12:56:12.010Z"
   },
   {
    "duration": 167,
    "start_time": "2022-09-13T12:56:12.106Z"
   },
   {
    "duration": 7,
    "start_time": "2022-09-13T12:56:12.275Z"
   },
   {
    "duration": 17,
    "start_time": "2022-09-13T12:56:12.284Z"
   },
   {
    "duration": 232,
    "start_time": "2022-09-13T12:56:57.197Z"
   },
   {
    "duration": 8,
    "start_time": "2022-09-13T12:57:05.385Z"
   },
   {
    "duration": 268,
    "start_time": "2022-09-13T12:57:14.370Z"
   },
   {
    "duration": 7,
    "start_time": "2022-09-13T12:57:14.996Z"
   },
   {
    "duration": 188,
    "start_time": "2022-09-13T12:57:27.015Z"
   },
   {
    "duration": 6,
    "start_time": "2022-09-13T12:57:27.408Z"
   },
   {
    "duration": 3,
    "start_time": "2022-09-13T12:58:09.197Z"
   },
   {
    "duration": 568,
    "start_time": "2022-09-13T12:58:09.214Z"
   },
   {
    "duration": 22,
    "start_time": "2022-09-13T12:58:09.784Z"
   },
   {
    "duration": 8,
    "start_time": "2022-09-13T12:58:09.808Z"
   },
   {
    "duration": 19,
    "start_time": "2022-09-13T12:58:09.818Z"
   },
   {
    "duration": 24,
    "start_time": "2022-09-13T12:58:09.840Z"
   },
   {
    "duration": 11,
    "start_time": "2022-09-13T12:58:09.866Z"
   },
   {
    "duration": 46,
    "start_time": "2022-09-13T12:58:09.879Z"
   },
   {
    "duration": 56,
    "start_time": "2022-09-13T12:58:09.927Z"
   },
   {
    "duration": 90,
    "start_time": "2022-09-13T12:58:10.001Z"
   },
   {
    "duration": 177,
    "start_time": "2022-09-13T12:58:10.100Z"
   },
   {
    "duration": 25,
    "start_time": "2022-09-13T12:58:10.279Z"
   },
   {
    "duration": 18,
    "start_time": "2022-09-13T12:58:10.306Z"
   },
   {
    "duration": 11,
    "start_time": "2022-09-13T12:58:10.326Z"
   },
   {
    "duration": 72,
    "start_time": "2022-09-13T12:58:10.341Z"
   },
   {
    "duration": 13,
    "start_time": "2022-09-13T12:58:10.415Z"
   },
   {
    "duration": 97,
    "start_time": "2022-09-13T12:58:10.429Z"
   },
   {
    "duration": 195,
    "start_time": "2022-09-13T12:58:10.528Z"
   },
   {
    "duration": 9,
    "start_time": "2022-09-13T12:58:10.725Z"
   },
   {
    "duration": 10,
    "start_time": "2022-09-13T12:58:10.735Z"
   },
   {
    "duration": 274,
    "start_time": "2022-09-13T12:58:10.747Z"
   },
   {
    "duration": 10,
    "start_time": "2022-09-13T12:58:11.023Z"
   },
   {
    "duration": 51,
    "start_time": "2022-09-13T12:58:11.034Z"
   },
   {
    "duration": 6,
    "start_time": "2022-09-13T12:58:11.087Z"
   },
   {
    "duration": 17,
    "start_time": "2022-09-13T12:58:11.100Z"
   },
   {
    "duration": 12,
    "start_time": "2022-09-13T12:58:11.119Z"
   },
   {
    "duration": 227,
    "start_time": "2022-09-13T12:58:11.132Z"
   },
   {
    "duration": 13,
    "start_time": "2022-09-13T12:58:11.362Z"
   },
   {
    "duration": 22,
    "start_time": "2022-09-13T12:58:11.378Z"
   },
   {
    "duration": 18,
    "start_time": "2022-09-13T12:58:11.403Z"
   },
   {
    "duration": 261,
    "start_time": "2022-09-13T12:58:11.423Z"
   },
   {
    "duration": 19,
    "start_time": "2022-09-13T12:58:11.686Z"
   },
   {
    "duration": 13,
    "start_time": "2022-09-13T12:58:11.707Z"
   },
   {
    "duration": 15,
    "start_time": "2022-09-13T12:58:11.722Z"
   },
   {
    "duration": 17,
    "start_time": "2022-09-13T12:58:11.740Z"
   },
   {
    "duration": 12,
    "start_time": "2022-09-13T12:58:11.758Z"
   },
   {
    "duration": 8,
    "start_time": "2022-09-13T12:58:11.772Z"
   },
   {
    "duration": 8,
    "start_time": "2022-09-13T12:58:28.673Z"
   },
   {
    "duration": 5,
    "start_time": "2022-09-13T12:58:29.158Z"
   },
   {
    "duration": 5,
    "start_time": "2022-09-13T12:58:37.647Z"
   },
   {
    "duration": 5,
    "start_time": "2022-09-13T12:58:41.105Z"
   },
   {
    "duration": 5,
    "start_time": "2022-09-13T12:58:41.705Z"
   },
   {
    "duration": 17,
    "start_time": "2022-09-13T13:07:41.799Z"
   },
   {
    "duration": 32,
    "start_time": "2022-09-13T13:07:57.342Z"
   },
   {
    "duration": 16,
    "start_time": "2022-09-13T13:08:18.258Z"
   },
   {
    "duration": 28,
    "start_time": "2022-09-13T13:08:22.823Z"
   },
   {
    "duration": 47,
    "start_time": "2022-09-13T13:09:00.120Z"
   },
   {
    "duration": 35,
    "start_time": "2022-09-13T13:09:04.546Z"
   },
   {
    "duration": 31,
    "start_time": "2022-09-13T13:09:09.915Z"
   },
   {
    "duration": 32,
    "start_time": "2022-09-13T13:09:13.490Z"
   },
   {
    "duration": 11,
    "start_time": "2022-09-13T13:11:26.804Z"
   },
   {
    "duration": 15,
    "start_time": "2022-09-13T13:12:12.607Z"
   },
   {
    "duration": 14,
    "start_time": "2022-09-13T13:13:24.303Z"
   },
   {
    "duration": 13,
    "start_time": "2022-09-13T13:13:50.412Z"
   },
   {
    "duration": 12,
    "start_time": "2022-09-13T13:14:11.054Z"
   },
   {
    "duration": 100,
    "start_time": "2022-09-13T13:14:16.262Z"
   },
   {
    "duration": 13,
    "start_time": "2022-09-13T13:14:29.962Z"
   },
   {
    "duration": 2,
    "start_time": "2022-09-13T13:15:07.565Z"
   },
   {
    "duration": 484,
    "start_time": "2022-09-13T13:15:07.569Z"
   },
   {
    "duration": 13,
    "start_time": "2022-09-13T13:15:08.055Z"
   },
   {
    "duration": 7,
    "start_time": "2022-09-13T13:15:08.069Z"
   },
   {
    "duration": 8,
    "start_time": "2022-09-13T13:15:08.077Z"
   },
   {
    "duration": 22,
    "start_time": "2022-09-13T13:15:08.087Z"
   },
   {
    "duration": 10,
    "start_time": "2022-09-13T13:15:08.110Z"
   },
   {
    "duration": 27,
    "start_time": "2022-09-13T13:15:08.121Z"
   },
   {
    "duration": 69,
    "start_time": "2022-09-13T13:15:08.149Z"
   },
   {
    "duration": 92,
    "start_time": "2022-09-13T13:15:08.219Z"
   },
   {
    "duration": 157,
    "start_time": "2022-09-13T13:15:08.313Z"
   },
   {
    "duration": 29,
    "start_time": "2022-09-13T13:15:08.472Z"
   },
   {
    "duration": 16,
    "start_time": "2022-09-13T13:15:08.503Z"
   },
   {
    "duration": 9,
    "start_time": "2022-09-13T13:15:08.521Z"
   },
   {
    "duration": 31,
    "start_time": "2022-09-13T13:15:08.532Z"
   },
   {
    "duration": 36,
    "start_time": "2022-09-13T13:15:08.565Z"
   },
   {
    "duration": 90,
    "start_time": "2022-09-13T13:15:08.603Z"
   },
   {
    "duration": 166,
    "start_time": "2022-09-13T13:15:08.694Z"
   },
   {
    "duration": 7,
    "start_time": "2022-09-13T13:15:08.862Z"
   },
   {
    "duration": 6,
    "start_time": "2022-09-13T13:15:08.871Z"
   },
   {
    "duration": 205,
    "start_time": "2022-09-13T13:15:08.878Z"
   },
   {
    "duration": 16,
    "start_time": "2022-09-13T13:15:09.085Z"
   },
   {
    "duration": 32,
    "start_time": "2022-09-13T13:15:09.103Z"
   },
   {
    "duration": 6,
    "start_time": "2022-09-13T13:15:09.136Z"
   },
   {
    "duration": 13,
    "start_time": "2022-09-13T13:15:18.272Z"
   },
   {
    "duration": 10,
    "start_time": "2022-09-13T13:15:20.964Z"
   },
   {
    "duration": 1073,
    "start_time": "2022-09-13T13:15:49.953Z"
   },
   {
    "duration": 570,
    "start_time": "2022-09-13T13:15:51.028Z"
   },
   {
    "duration": 23,
    "start_time": "2022-09-13T13:15:51.599Z"
   },
   {
    "duration": 6,
    "start_time": "2022-09-13T13:15:51.624Z"
   },
   {
    "duration": 12,
    "start_time": "2022-09-13T13:15:51.632Z"
   },
   {
    "duration": 27,
    "start_time": "2022-09-13T13:15:51.646Z"
   },
   {
    "duration": 11,
    "start_time": "2022-09-13T13:15:51.674Z"
   },
   {
    "duration": 47,
    "start_time": "2022-09-13T13:15:51.686Z"
   },
   {
    "duration": 71,
    "start_time": "2022-09-13T13:15:51.734Z"
   },
   {
    "duration": 94,
    "start_time": "2022-09-13T13:15:51.807Z"
   },
   {
    "duration": 199,
    "start_time": "2022-09-13T13:15:51.903Z"
   },
   {
    "duration": 25,
    "start_time": "2022-09-13T13:15:52.104Z"
   },
   {
    "duration": 56,
    "start_time": "2022-09-13T13:15:52.131Z"
   },
   {
    "duration": 11,
    "start_time": "2022-09-13T13:15:52.191Z"
   },
   {
    "duration": 38,
    "start_time": "2022-09-13T13:15:52.204Z"
   },
   {
    "duration": 12,
    "start_time": "2022-09-13T13:15:52.244Z"
   },
   {
    "duration": 113,
    "start_time": "2022-09-13T13:15:52.258Z"
   },
   {
    "duration": 171,
    "start_time": "2022-09-13T13:15:52.373Z"
   },
   {
    "duration": 7,
    "start_time": "2022-09-13T13:15:52.545Z"
   },
   {
    "duration": 7,
    "start_time": "2022-09-13T13:15:52.554Z"
   },
   {
    "duration": 271,
    "start_time": "2022-09-13T13:15:52.562Z"
   },
   {
    "duration": 7,
    "start_time": "2022-09-13T13:15:52.835Z"
   },
   {
    "duration": 79,
    "start_time": "2022-09-13T13:15:52.844Z"
   },
   {
    "duration": 7,
    "start_time": "2022-09-13T13:15:52.924Z"
   },
   {
    "duration": 17,
    "start_time": "2022-09-13T13:15:52.932Z"
   },
   {
    "duration": 17,
    "start_time": "2022-09-13T13:15:52.952Z"
   },
   {
    "duration": 253,
    "start_time": "2022-09-13T13:15:52.971Z"
   },
   {
    "duration": 10,
    "start_time": "2022-09-13T13:15:53.225Z"
   },
   {
    "duration": 7,
    "start_time": "2022-09-13T13:15:53.237Z"
   },
   {
    "duration": 13,
    "start_time": "2022-09-13T13:15:53.245Z"
   },
   {
    "duration": 290,
    "start_time": "2022-09-13T13:15:53.259Z"
   },
   {
    "duration": 13,
    "start_time": "2022-09-13T13:15:53.551Z"
   },
   {
    "duration": 11,
    "start_time": "2022-09-13T13:15:53.566Z"
   },
   {
    "duration": 218,
    "start_time": "2022-09-13T13:16:26.255Z"
   },
   {
    "duration": 200,
    "start_time": "2022-09-13T13:16:32.612Z"
   },
   {
    "duration": 834,
    "start_time": "2022-09-13T13:23:05.166Z"
   },
   {
    "duration": 0,
    "start_time": "2022-09-13T13:23:06.002Z"
   },
   {
    "duration": 927,
    "start_time": "2022-09-13T13:23:08.662Z"
   },
   {
    "duration": 1115,
    "start_time": "2022-09-13T13:23:18.736Z"
   },
   {
    "duration": 24,
    "start_time": "2022-09-13T13:23:24.112Z"
   },
   {
    "duration": 15,
    "start_time": "2022-09-13T13:25:12.978Z"
   },
   {
    "duration": 14,
    "start_time": "2022-09-13T13:25:13.555Z"
   },
   {
    "duration": 13,
    "start_time": "2022-09-13T13:25:20.046Z"
   },
   {
    "duration": 12,
    "start_time": "2022-09-13T13:25:26.855Z"
   },
   {
    "duration": 13,
    "start_time": "2022-09-13T13:25:28.162Z"
   },
   {
    "duration": 12,
    "start_time": "2022-09-13T13:25:28.457Z"
   },
   {
    "duration": 15,
    "start_time": "2022-09-13T13:26:00.317Z"
   },
   {
    "duration": 10,
    "start_time": "2022-09-13T13:35:21.862Z"
   },
   {
    "duration": 17,
    "start_time": "2022-09-13T13:35:32.100Z"
   },
   {
    "duration": 49,
    "start_time": "2022-09-13T13:36:08.152Z"
   },
   {
    "duration": 14,
    "start_time": "2022-09-13T13:36:13.171Z"
   },
   {
    "duration": 11,
    "start_time": "2022-09-13T13:37:35.121Z"
   },
   {
    "duration": 200,
    "start_time": "2022-09-13T13:37:44.455Z"
   },
   {
    "duration": 190,
    "start_time": "2022-09-13T13:37:48.563Z"
   },
   {
    "duration": 269,
    "start_time": "2022-09-13T13:39:50.988Z"
   },
   {
    "duration": 4,
    "start_time": "2022-09-13T13:45:20.649Z"
   },
   {
    "duration": 71,
    "start_time": "2022-09-13T13:47:38.304Z"
   },
   {
    "duration": 6,
    "start_time": "2022-09-13T13:47:42.746Z"
   },
   {
    "duration": 8,
    "start_time": "2022-09-13T13:48:21.683Z"
   },
   {
    "duration": 13,
    "start_time": "2022-09-13T13:51:10.051Z"
   },
   {
    "duration": 4,
    "start_time": "2022-09-13T13:51:13.154Z"
   },
   {
    "duration": 7,
    "start_time": "2022-09-13T13:51:28.792Z"
   },
   {
    "duration": 6,
    "start_time": "2022-09-13T13:51:40.191Z"
   },
   {
    "duration": 25,
    "start_time": "2022-09-13T13:52:05.799Z"
   },
   {
    "duration": 6,
    "start_time": "2022-09-13T13:52:55.459Z"
   },
   {
    "duration": 19,
    "start_time": "2022-09-13T13:52:55.965Z"
   },
   {
    "duration": 20,
    "start_time": "2022-09-13T13:53:43.658Z"
   },
   {
    "duration": 4,
    "start_time": "2022-09-13T13:54:06.842Z"
   },
   {
    "duration": 3,
    "start_time": "2022-09-13T13:54:17.707Z"
   },
   {
    "duration": 4,
    "start_time": "2022-09-13T13:54:22.549Z"
   },
   {
    "duration": 7,
    "start_time": "2022-09-13T13:56:11.302Z"
   },
   {
    "duration": 17,
    "start_time": "2022-09-13T13:57:04.356Z"
   },
   {
    "duration": 30,
    "start_time": "2022-09-13T13:57:07.058Z"
   },
   {
    "duration": 6,
    "start_time": "2022-09-13T13:57:28.971Z"
   },
   {
    "duration": 18,
    "start_time": "2022-09-13T13:57:29.581Z"
   },
   {
    "duration": 5,
    "start_time": "2022-09-13T13:57:35.351Z"
   },
   {
    "duration": 21,
    "start_time": "2022-09-13T13:57:35.751Z"
   },
   {
    "duration": 7,
    "start_time": "2022-09-13T13:57:43.386Z"
   },
   {
    "duration": 25,
    "start_time": "2022-09-13T13:57:44.499Z"
   },
   {
    "duration": 8,
    "start_time": "2022-09-13T13:58:04.257Z"
   },
   {
    "duration": 17,
    "start_time": "2022-09-13T13:58:04.819Z"
   },
   {
    "duration": 5,
    "start_time": "2022-09-13T13:58:12.004Z"
   },
   {
    "duration": 18,
    "start_time": "2022-09-13T13:58:13.019Z"
   },
   {
    "duration": 5,
    "start_time": "2022-09-13T13:58:26.354Z"
   },
   {
    "duration": 19,
    "start_time": "2022-09-13T13:58:27.318Z"
   },
   {
    "duration": 18,
    "start_time": "2022-09-13T13:58:50.775Z"
   },
   {
    "duration": 4,
    "start_time": "2022-09-13T13:59:03.683Z"
   },
   {
    "duration": 19,
    "start_time": "2022-09-13T13:59:05.051Z"
   },
   {
    "duration": 19,
    "start_time": "2022-09-13T14:19:13.766Z"
   },
   {
    "duration": 25,
    "start_time": "2022-09-13T14:21:04.491Z"
   },
   {
    "duration": 19,
    "start_time": "2022-09-13T14:21:10.884Z"
   },
   {
    "duration": 21,
    "start_time": "2022-09-13T14:21:16.544Z"
   },
   {
    "duration": 5,
    "start_time": "2022-09-13T14:33:40.712Z"
   },
   {
    "duration": 24,
    "start_time": "2022-09-13T14:33:41.674Z"
   },
   {
    "duration": 7,
    "start_time": "2022-09-13T14:33:45.946Z"
   },
   {
    "duration": 22,
    "start_time": "2022-09-13T14:33:46.557Z"
   },
   {
    "duration": 198,
    "start_time": "2022-09-13T14:34:34.596Z"
   },
   {
    "duration": 191,
    "start_time": "2022-09-13T14:34:37.603Z"
   },
   {
    "duration": 1128,
    "start_time": "2022-09-13T14:35:02.154Z"
   },
   {
    "duration": 599,
    "start_time": "2022-09-13T14:35:03.284Z"
   },
   {
    "duration": 20,
    "start_time": "2022-09-13T14:35:03.884Z"
   },
   {
    "duration": 23,
    "start_time": "2022-09-13T14:35:03.907Z"
   },
   {
    "duration": 9,
    "start_time": "2022-09-13T14:35:03.931Z"
   },
   {
    "duration": 22,
    "start_time": "2022-09-13T14:35:03.942Z"
   },
   {
    "duration": 10,
    "start_time": "2022-09-13T14:35:03.966Z"
   },
   {
    "duration": 28,
    "start_time": "2022-09-13T14:35:03.978Z"
   },
   {
    "duration": 59,
    "start_time": "2022-09-13T14:35:04.009Z"
   },
   {
    "duration": 105,
    "start_time": "2022-09-13T14:35:04.071Z"
   },
   {
    "duration": 195,
    "start_time": "2022-09-13T14:35:04.178Z"
   },
   {
    "duration": 41,
    "start_time": "2022-09-13T14:35:04.375Z"
   },
   {
    "duration": 22,
    "start_time": "2022-09-13T14:35:04.418Z"
   },
   {
    "duration": 18,
    "start_time": "2022-09-13T14:35:04.442Z"
   },
   {
    "duration": 56,
    "start_time": "2022-09-13T14:35:04.462Z"
   },
   {
    "duration": 18,
    "start_time": "2022-09-13T14:35:04.520Z"
   },
   {
    "duration": 152,
    "start_time": "2022-09-13T14:35:04.540Z"
   },
   {
    "duration": 189,
    "start_time": "2022-09-13T14:35:04.699Z"
   },
   {
    "duration": 15,
    "start_time": "2022-09-13T14:35:04.890Z"
   },
   {
    "duration": 5,
    "start_time": "2022-09-13T14:35:04.906Z"
   },
   {
    "duration": 262,
    "start_time": "2022-09-13T14:35:04.912Z"
   },
   {
    "duration": 9,
    "start_time": "2022-09-13T14:35:05.176Z"
   },
   {
    "duration": 55,
    "start_time": "2022-09-13T14:35:05.186Z"
   },
   {
    "duration": 5,
    "start_time": "2022-09-13T14:35:05.242Z"
   },
   {
    "duration": 15,
    "start_time": "2022-09-13T14:35:05.248Z"
   },
   {
    "duration": 10,
    "start_time": "2022-09-13T14:35:05.265Z"
   },
   {
    "duration": 229,
    "start_time": "2022-09-13T14:35:05.276Z"
   },
   {
    "duration": 12,
    "start_time": "2022-09-13T14:35:05.508Z"
   },
   {
    "duration": 11,
    "start_time": "2022-09-13T14:35:05.522Z"
   },
   {
    "duration": 15,
    "start_time": "2022-09-13T14:35:05.534Z"
   },
   {
    "duration": 303,
    "start_time": "2022-09-13T14:35:05.551Z"
   },
   {
    "duration": 15,
    "start_time": "2022-09-13T14:35:05.856Z"
   },
   {
    "duration": 41,
    "start_time": "2022-09-13T14:35:05.873Z"
   },
   {
    "duration": 187,
    "start_time": "2022-09-13T14:35:05.917Z"
   },
   {
    "duration": 7,
    "start_time": "2022-09-13T14:35:06.106Z"
   },
   {
    "duration": 31,
    "start_time": "2022-09-13T14:35:06.115Z"
   },
   {
    "duration": 1319,
    "start_time": "2022-09-13T16:46:38.346Z"
   },
   {
    "duration": 1909,
    "start_time": "2022-09-13T16:46:39.667Z"
   },
   {
    "duration": 29,
    "start_time": "2022-09-13T16:46:41.578Z"
   },
   {
    "duration": 6,
    "start_time": "2022-09-13T16:46:41.608Z"
   },
   {
    "duration": 11,
    "start_time": "2022-09-13T16:46:41.617Z"
   },
   {
    "duration": 35,
    "start_time": "2022-09-13T16:46:41.630Z"
   },
   {
    "duration": 35,
    "start_time": "2022-09-13T16:46:41.667Z"
   },
   {
    "duration": 34,
    "start_time": "2022-09-13T16:46:41.704Z"
   },
   {
    "duration": 119,
    "start_time": "2022-09-13T16:46:41.740Z"
   },
   {
    "duration": 113,
    "start_time": "2022-09-13T16:46:41.862Z"
   },
   {
    "duration": 234,
    "start_time": "2022-09-13T16:46:41.977Z"
   },
   {
    "duration": 25,
    "start_time": "2022-09-13T16:46:42.213Z"
   },
   {
    "duration": 18,
    "start_time": "2022-09-13T16:46:42.240Z"
   },
   {
    "duration": 33,
    "start_time": "2022-09-13T16:46:42.263Z"
   },
   {
    "duration": 38,
    "start_time": "2022-09-13T16:46:42.298Z"
   },
   {
    "duration": 14,
    "start_time": "2022-09-13T16:46:42.338Z"
   },
   {
    "duration": 119,
    "start_time": "2022-09-13T16:46:42.354Z"
   },
   {
    "duration": 179,
    "start_time": "2022-09-13T16:46:42.475Z"
   },
   {
    "duration": 8,
    "start_time": "2022-09-13T16:46:42.656Z"
   },
   {
    "duration": 5,
    "start_time": "2022-09-13T16:46:42.666Z"
   },
   {
    "duration": 290,
    "start_time": "2022-09-13T16:46:42.673Z"
   },
   {
    "duration": 10,
    "start_time": "2022-09-13T16:46:42.965Z"
   },
   {
    "duration": 42,
    "start_time": "2022-09-13T16:46:42.988Z"
   },
   {
    "duration": 6,
    "start_time": "2022-09-13T16:46:43.032Z"
   },
   {
    "duration": 23,
    "start_time": "2022-09-13T16:46:43.040Z"
   },
   {
    "duration": 24,
    "start_time": "2022-09-13T16:46:43.065Z"
   },
   {
    "duration": 273,
    "start_time": "2022-09-13T16:46:43.091Z"
   },
   {
    "duration": 11,
    "start_time": "2022-09-13T16:46:43.366Z"
   },
   {
    "duration": 7,
    "start_time": "2022-09-13T16:46:43.378Z"
   },
   {
    "duration": 20,
    "start_time": "2022-09-13T16:46:43.389Z"
   },
   {
    "duration": 316,
    "start_time": "2022-09-13T16:46:43.411Z"
   },
   {
    "duration": 16,
    "start_time": "2022-09-13T16:46:43.729Z"
   },
   {
    "duration": 14,
    "start_time": "2022-09-13T16:46:43.747Z"
   },
   {
    "duration": 211,
    "start_time": "2022-09-13T16:46:43.762Z"
   },
   {
    "duration": 4,
    "start_time": "2022-09-13T16:46:43.975Z"
   },
   {
    "duration": 33,
    "start_time": "2022-09-13T16:46:43.980Z"
   },
   {
    "duration": 1251,
    "start_time": "2022-09-14T07:20:05.182Z"
   },
   {
    "duration": 834,
    "start_time": "2022-09-14T07:20:06.436Z"
   },
   {
    "duration": 22,
    "start_time": "2022-09-14T07:20:07.272Z"
   },
   {
    "duration": 8,
    "start_time": "2022-09-14T07:20:07.296Z"
   },
   {
    "duration": 20,
    "start_time": "2022-09-14T07:20:07.306Z"
   },
   {
    "duration": 30,
    "start_time": "2022-09-14T07:20:07.327Z"
   },
   {
    "duration": 17,
    "start_time": "2022-09-14T07:20:07.359Z"
   },
   {
    "duration": 32,
    "start_time": "2022-09-14T07:20:07.378Z"
   },
   {
    "duration": 56,
    "start_time": "2022-09-14T07:20:07.412Z"
   },
   {
    "duration": 103,
    "start_time": "2022-09-14T07:20:07.470Z"
   },
   {
    "duration": 154,
    "start_time": "2022-09-14T07:20:07.574Z"
   },
   {
    "duration": 24,
    "start_time": "2022-09-14T07:20:07.730Z"
   },
   {
    "duration": 15,
    "start_time": "2022-09-14T07:20:07.755Z"
   },
   {
    "duration": 29,
    "start_time": "2022-09-14T07:20:07.772Z"
   },
   {
    "duration": 36,
    "start_time": "2022-09-14T07:20:07.803Z"
   },
   {
    "duration": 13,
    "start_time": "2022-09-14T07:20:07.841Z"
   },
   {
    "duration": 105,
    "start_time": "2022-09-14T07:20:07.855Z"
   },
   {
    "duration": 158,
    "start_time": "2022-09-14T07:20:07.961Z"
   },
   {
    "duration": 7,
    "start_time": "2022-09-14T07:20:08.121Z"
   },
   {
    "duration": 6,
    "start_time": "2022-09-14T07:20:08.130Z"
   },
   {
    "duration": 222,
    "start_time": "2022-09-14T07:20:08.138Z"
   },
   {
    "duration": 9,
    "start_time": "2022-09-14T07:20:08.362Z"
   },
   {
    "duration": 49,
    "start_time": "2022-09-14T07:20:08.372Z"
   },
   {
    "duration": 5,
    "start_time": "2022-09-14T07:20:08.423Z"
   },
   {
    "duration": 19,
    "start_time": "2022-09-14T07:20:08.430Z"
   },
   {
    "duration": 12,
    "start_time": "2022-09-14T07:20:08.451Z"
   },
   {
    "duration": 213,
    "start_time": "2022-09-14T07:20:08.464Z"
   },
   {
    "duration": 10,
    "start_time": "2022-09-14T07:20:08.680Z"
   },
   {
    "duration": 8,
    "start_time": "2022-09-14T07:20:08.691Z"
   },
   {
    "duration": 9,
    "start_time": "2022-09-14T07:20:08.709Z"
   },
   {
    "duration": 306,
    "start_time": "2022-09-14T07:20:08.720Z"
   },
   {
    "duration": 14,
    "start_time": "2022-09-14T07:20:09.028Z"
   },
   {
    "duration": 11,
    "start_time": "2022-09-14T07:20:09.044Z"
   },
   {
    "duration": 200,
    "start_time": "2022-09-14T07:20:09.056Z"
   },
   {
    "duration": 4,
    "start_time": "2022-09-14T07:20:09.258Z"
   },
   {
    "duration": 19,
    "start_time": "2022-09-14T07:20:09.264Z"
   },
   {
    "duration": 1038,
    "start_time": "2022-09-14T07:21:18.154Z"
   },
   {
    "duration": 501,
    "start_time": "2022-09-14T07:21:19.193Z"
   },
   {
    "duration": 18,
    "start_time": "2022-09-14T07:21:19.696Z"
   },
   {
    "duration": 7,
    "start_time": "2022-09-14T07:21:19.715Z"
   },
   {
    "duration": 12,
    "start_time": "2022-09-14T07:21:19.724Z"
   },
   {
    "duration": 26,
    "start_time": "2022-09-14T07:21:19.737Z"
   },
   {
    "duration": 11,
    "start_time": "2022-09-14T07:21:19.764Z"
   },
   {
    "duration": 36,
    "start_time": "2022-09-14T07:21:19.777Z"
   },
   {
    "duration": 54,
    "start_time": "2022-09-14T07:21:19.815Z"
   },
   {
    "duration": 97,
    "start_time": "2022-09-14T07:21:19.871Z"
   },
   {
    "duration": 153,
    "start_time": "2022-09-14T07:21:19.969Z"
   },
   {
    "duration": 22,
    "start_time": "2022-09-14T07:21:20.123Z"
   },
   {
    "duration": 14,
    "start_time": "2022-09-14T07:21:20.147Z"
   },
   {
    "duration": 10,
    "start_time": "2022-09-14T07:21:20.162Z"
   },
   {
    "duration": 56,
    "start_time": "2022-09-14T07:21:20.174Z"
   },
   {
    "duration": 12,
    "start_time": "2022-09-14T07:21:20.231Z"
   },
   {
    "duration": 104,
    "start_time": "2022-09-14T07:21:20.245Z"
   },
   {
    "duration": 160,
    "start_time": "2022-09-14T07:21:20.350Z"
   },
   {
    "duration": 8,
    "start_time": "2022-09-14T07:21:20.511Z"
   },
   {
    "duration": 6,
    "start_time": "2022-09-14T07:21:20.520Z"
   },
   {
    "duration": 197,
    "start_time": "2022-09-14T07:21:20.527Z"
   },
   {
    "duration": 7,
    "start_time": "2022-09-14T07:21:20.726Z"
   },
   {
    "duration": 30,
    "start_time": "2022-09-14T07:21:20.735Z"
   },
   {
    "duration": 5,
    "start_time": "2022-09-14T07:21:20.767Z"
   },
   {
    "duration": 10,
    "start_time": "2022-09-14T07:21:20.773Z"
   },
   {
    "duration": 32,
    "start_time": "2022-09-14T07:21:20.784Z"
   },
   {
    "duration": 180,
    "start_time": "2022-09-14T07:21:20.818Z"
   },
   {
    "duration": 9,
    "start_time": "2022-09-14T07:21:21.001Z"
   },
   {
    "duration": 12,
    "start_time": "2022-09-14T07:21:21.011Z"
   },
   {
    "duration": 12,
    "start_time": "2022-09-14T07:21:21.024Z"
   },
   {
    "duration": 283,
    "start_time": "2022-09-14T07:21:21.038Z"
   },
   {
    "duration": 14,
    "start_time": "2022-09-14T07:21:21.323Z"
   },
   {
    "duration": 12,
    "start_time": "2022-09-14T07:21:21.338Z"
   },
   {
    "duration": 192,
    "start_time": "2022-09-14T07:21:21.351Z"
   },
   {
    "duration": 4,
    "start_time": "2022-09-14T07:21:21.545Z"
   },
   {
    "duration": 21,
    "start_time": "2022-09-14T07:21:21.551Z"
   },
   {
    "duration": 50,
    "start_time": "2022-09-14T07:52:09.767Z"
   },
   {
    "duration": 1307,
    "start_time": "2022-09-14T07:52:15.343Z"
   },
   {
    "duration": 1162,
    "start_time": "2022-09-14T07:52:18.282Z"
   },
   {
    "duration": 20,
    "start_time": "2022-09-14T07:52:21.413Z"
   },
   {
    "duration": 663,
    "start_time": "2022-09-14T07:53:35.599Z"
   },
   {
    "duration": 16,
    "start_time": "2022-09-14T07:53:37.542Z"
   },
   {
    "duration": 17,
    "start_time": "2022-09-14T07:54:16.058Z"
   },
   {
    "duration": 25,
    "start_time": "2022-09-14T07:54:26.560Z"
   },
   {
    "duration": 64,
    "start_time": "2022-09-14T07:54:37.306Z"
   },
   {
    "duration": 169,
    "start_time": "2022-09-14T07:54:46.229Z"
   },
   {
    "duration": 21,
    "start_time": "2022-09-14T07:54:50.580Z"
   },
   {
    "duration": 17,
    "start_time": "2022-09-14T07:54:56.853Z"
   },
   {
    "duration": 3,
    "start_time": "2022-09-14T07:55:15.250Z"
   },
   {
    "duration": 654,
    "start_time": "2022-09-14T07:55:15.257Z"
   },
   {
    "duration": 16,
    "start_time": "2022-09-14T07:55:15.913Z"
   },
   {
    "duration": 29,
    "start_time": "2022-09-14T07:55:15.930Z"
   },
   {
    "duration": 38,
    "start_time": "2022-09-14T07:55:15.961Z"
   },
   {
    "duration": 29,
    "start_time": "2022-09-14T07:55:16.001Z"
   },
   {
    "duration": 49,
    "start_time": "2022-09-14T07:55:16.032Z"
   },
   {
    "duration": 186,
    "start_time": "2022-09-14T07:55:16.082Z"
   },
   {
    "duration": 17,
    "start_time": "2022-09-14T07:55:16.270Z"
   },
   {
    "duration": 16,
    "start_time": "2022-09-14T07:55:16.289Z"
   },
   {
    "duration": 10,
    "start_time": "2022-09-14T07:55:16.322Z"
   },
   {
    "duration": 12,
    "start_time": "2022-09-14T07:56:25.650Z"
   },
   {
    "duration": 10,
    "start_time": "2022-09-14T07:57:51.936Z"
   },
   {
    "duration": 13,
    "start_time": "2022-09-14T08:10:28.419Z"
   },
   {
    "duration": 166,
    "start_time": "2022-09-14T08:10:40.080Z"
   },
   {
    "duration": 17,
    "start_time": "2022-09-14T08:10:44.239Z"
   },
   {
    "duration": 10,
    "start_time": "2022-09-14T08:10:53.004Z"
   },
   {
    "duration": 10,
    "start_time": "2022-09-14T08:11:21.912Z"
   },
   {
    "duration": 17,
    "start_time": "2022-09-14T08:14:01.803Z"
   },
   {
    "duration": 14,
    "start_time": "2022-09-14T08:14:23.984Z"
   },
   {
    "duration": 21,
    "start_time": "2022-09-14T08:15:11.438Z"
   },
   {
    "duration": 81,
    "start_time": "2022-09-14T08:41:22.714Z"
   },
   {
    "duration": 3,
    "start_time": "2022-09-14T08:41:27.586Z"
   },
   {
    "duration": 708,
    "start_time": "2022-09-14T08:41:27.591Z"
   },
   {
    "duration": 17,
    "start_time": "2022-09-14T08:41:28.301Z"
   },
   {
    "duration": 16,
    "start_time": "2022-09-14T08:41:28.322Z"
   },
   {
    "duration": 38,
    "start_time": "2022-09-14T08:41:28.341Z"
   },
   {
    "duration": 29,
    "start_time": "2022-09-14T08:41:28.382Z"
   },
   {
    "duration": 59,
    "start_time": "2022-09-14T08:41:28.413Z"
   },
   {
    "duration": 200,
    "start_time": "2022-09-14T08:41:28.474Z"
   },
   {
    "duration": 24,
    "start_time": "2022-09-14T08:41:28.676Z"
   },
   {
    "duration": 38,
    "start_time": "2022-09-14T08:41:28.702Z"
   },
   {
    "duration": 23,
    "start_time": "2022-09-14T08:41:28.743Z"
   },
   {
    "duration": 46,
    "start_time": "2022-09-14T08:41:28.768Z"
   },
   {
    "duration": 15,
    "start_time": "2022-09-14T08:41:28.819Z"
   },
   {
    "duration": 165,
    "start_time": "2022-09-14T08:41:28.836Z"
   },
   {
    "duration": 260,
    "start_time": "2022-09-14T08:41:29.003Z"
   },
   {
    "duration": 21,
    "start_time": "2022-09-14T08:41:29.265Z"
   },
   {
    "duration": 10,
    "start_time": "2022-09-14T08:41:29.288Z"
   },
   {
    "duration": 29,
    "start_time": "2022-09-14T08:41:29.299Z"
   },
   {
    "duration": 352,
    "start_time": "2022-09-14T08:41:29.330Z"
   },
   {
    "duration": 36,
    "start_time": "2022-09-14T08:41:29.685Z"
   },
   {
    "duration": 3,
    "start_time": "2022-09-14T08:51:35.797Z"
   },
   {
    "duration": 640,
    "start_time": "2022-09-14T08:51:35.811Z"
   },
   {
    "duration": 18,
    "start_time": "2022-09-14T08:51:36.454Z"
   },
   {
    "duration": 16,
    "start_time": "2022-09-14T08:51:36.474Z"
   },
   {
    "duration": 27,
    "start_time": "2022-09-14T08:51:36.492Z"
   },
   {
    "duration": 29,
    "start_time": "2022-09-14T08:51:36.521Z"
   },
   {
    "duration": 50,
    "start_time": "2022-09-14T08:51:36.552Z"
   },
   {
    "duration": 191,
    "start_time": "2022-09-14T08:51:36.621Z"
   },
   {
    "duration": 25,
    "start_time": "2022-09-14T08:51:36.813Z"
   },
   {
    "duration": 25,
    "start_time": "2022-09-14T08:51:36.840Z"
   },
   {
    "duration": 16,
    "start_time": "2022-09-14T08:51:36.868Z"
   },
   {
    "duration": 83,
    "start_time": "2022-09-14T08:51:36.886Z"
   },
   {
    "duration": 15,
    "start_time": "2022-09-14T08:51:36.971Z"
   },
   {
    "duration": 105,
    "start_time": "2022-09-14T08:51:36.987Z"
   },
   {
    "duration": 194,
    "start_time": "2022-09-14T08:51:37.094Z"
   },
   {
    "duration": 31,
    "start_time": "2022-09-14T08:51:37.290Z"
   },
   {
    "duration": 8,
    "start_time": "2022-09-14T08:51:37.323Z"
   },
   {
    "duration": 12,
    "start_time": "2022-09-14T08:51:37.332Z"
   },
   {
    "duration": 231,
    "start_time": "2022-09-14T08:51:37.346Z"
   },
   {
    "duration": 10,
    "start_time": "2022-09-14T08:51:37.579Z"
   },
   {
    "duration": 56,
    "start_time": "2022-09-14T08:51:37.590Z"
   },
   {
    "duration": 5,
    "start_time": "2022-09-14T08:51:37.648Z"
   },
   {
    "duration": 18,
    "start_time": "2022-09-14T08:51:37.655Z"
   },
   {
    "duration": 15,
    "start_time": "2022-09-14T08:51:37.674Z"
   },
   {
    "duration": 18,
    "start_time": "2022-09-14T08:53:27.315Z"
   },
   {
    "duration": 6,
    "start_time": "2022-09-14T08:54:32.883Z"
   },
   {
    "duration": 16,
    "start_time": "2022-09-14T08:54:39.203Z"
   },
   {
    "duration": 6,
    "start_time": "2022-09-14T08:55:26.025Z"
   },
   {
    "duration": 17,
    "start_time": "2022-09-14T08:55:31.930Z"
   },
   {
    "duration": 11,
    "start_time": "2022-09-14T08:56:35.449Z"
   },
   {
    "duration": 14,
    "start_time": "2022-09-14T08:56:53.743Z"
   },
   {
    "duration": 10,
    "start_time": "2022-09-14T08:57:24.347Z"
   },
   {
    "duration": 14,
    "start_time": "2022-09-14T08:57:24.867Z"
   },
   {
    "duration": 10,
    "start_time": "2022-09-14T08:57:38.625Z"
   },
   {
    "duration": 19,
    "start_time": "2022-09-14T08:57:38.950Z"
   },
   {
    "duration": 352,
    "start_time": "2022-09-14T08:57:58.936Z"
   },
   {
    "duration": 28,
    "start_time": "2022-09-14T08:58:04.652Z"
   },
   {
    "duration": 20,
    "start_time": "2022-09-14T08:59:04.257Z"
   },
   {
    "duration": 6,
    "start_time": "2022-09-14T08:59:09.261Z"
   },
   {
    "duration": 5,
    "start_time": "2022-09-14T08:59:19.908Z"
   },
   {
    "duration": 243,
    "start_time": "2022-09-14T08:59:23.122Z"
   },
   {
    "duration": 4,
    "start_time": "2022-09-14T09:00:14.647Z"
   },
   {
    "duration": 6,
    "start_time": "2022-09-14T09:00:20.783Z"
   },
   {
    "duration": 5,
    "start_time": "2022-09-14T09:00:32.343Z"
   },
   {
    "duration": 6,
    "start_time": "2022-09-14T09:00:54.532Z"
   },
   {
    "duration": 24,
    "start_time": "2022-09-14T09:01:01.499Z"
   },
   {
    "duration": 14,
    "start_time": "2022-09-14T09:01:37.411Z"
   },
   {
    "duration": 5,
    "start_time": "2022-09-14T09:01:45.892Z"
   },
   {
    "duration": 24,
    "start_time": "2022-09-14T09:01:51.724Z"
   },
   {
    "duration": 11,
    "start_time": "2022-09-14T09:02:16.367Z"
   },
   {
    "duration": 102,
    "start_time": "2022-09-14T09:02:19.935Z"
   },
   {
    "duration": 13,
    "start_time": "2022-09-14T09:02:28.483Z"
   },
   {
    "duration": 14,
    "start_time": "2022-09-14T09:02:32.172Z"
   },
   {
    "duration": 13,
    "start_time": "2022-09-14T09:02:43.132Z"
   },
   {
    "duration": 6,
    "start_time": "2022-09-14T09:02:48.129Z"
   },
   {
    "duration": 21,
    "start_time": "2022-09-14T09:02:51.948Z"
   },
   {
    "duration": 14,
    "start_time": "2022-09-14T09:04:10.167Z"
   },
   {
    "duration": 20,
    "start_time": "2022-09-14T09:04:12.741Z"
   },
   {
    "duration": 7,
    "start_time": "2022-09-14T09:04:22.710Z"
   },
   {
    "duration": 11,
    "start_time": "2022-09-14T09:05:03.729Z"
   },
   {
    "duration": 3,
    "start_time": "2022-09-14T09:08:16.319Z"
   },
   {
    "duration": 684,
    "start_time": "2022-09-14T09:08:16.330Z"
   },
   {
    "duration": 17,
    "start_time": "2022-09-14T09:08:17.016Z"
   },
   {
    "duration": 19,
    "start_time": "2022-09-14T09:08:17.035Z"
   },
   {
    "duration": 42,
    "start_time": "2022-09-14T09:08:17.055Z"
   },
   {
    "duration": 34,
    "start_time": "2022-09-14T09:08:17.100Z"
   },
   {
    "duration": 51,
    "start_time": "2022-09-14T09:08:17.135Z"
   },
   {
    "duration": 243,
    "start_time": "2022-09-14T09:08:17.188Z"
   },
   {
    "duration": 26,
    "start_time": "2022-09-14T09:08:17.433Z"
   },
   {
    "duration": 25,
    "start_time": "2022-09-14T09:08:17.461Z"
   },
   {
    "duration": 41,
    "start_time": "2022-09-14T09:08:17.488Z"
   },
   {
    "duration": 56,
    "start_time": "2022-09-14T09:08:17.531Z"
   },
   {
    "duration": 34,
    "start_time": "2022-09-14T09:08:17.589Z"
   },
   {
    "duration": 112,
    "start_time": "2022-09-14T09:08:17.625Z"
   },
   {
    "duration": 208,
    "start_time": "2022-09-14T09:08:17.742Z"
   },
   {
    "duration": 23,
    "start_time": "2022-09-14T09:08:17.952Z"
   },
   {
    "duration": 9,
    "start_time": "2022-09-14T09:08:17.977Z"
   },
   {
    "duration": 34,
    "start_time": "2022-09-14T09:08:17.988Z"
   },
   {
    "duration": 259,
    "start_time": "2022-09-14T09:08:18.024Z"
   },
   {
    "duration": 11,
    "start_time": "2022-09-14T09:08:18.285Z"
   },
   {
    "duration": 77,
    "start_time": "2022-09-14T09:08:18.298Z"
   },
   {
    "duration": 7,
    "start_time": "2022-09-14T09:08:18.377Z"
   },
   {
    "duration": 17,
    "start_time": "2022-09-14T09:08:18.386Z"
   },
   {
    "duration": 28,
    "start_time": "2022-09-14T09:08:18.405Z"
   },
   {
    "duration": 24,
    "start_time": "2022-09-14T09:08:18.435Z"
   },
   {
    "duration": 14,
    "start_time": "2022-09-14T09:08:18.461Z"
   },
   {
    "duration": 8,
    "start_time": "2022-09-14T09:08:18.477Z"
   },
   {
    "duration": 16,
    "start_time": "2022-09-14T09:08:18.488Z"
   },
   {
    "duration": 243,
    "start_time": "2022-09-14T09:08:18.511Z"
   },
   {
    "duration": 13,
    "start_time": "2022-09-14T09:08:18.756Z"
   },
   {
    "duration": 16,
    "start_time": "2022-09-14T09:09:06.086Z"
   },
   {
    "duration": 25,
    "start_time": "2022-09-14T09:12:32.203Z"
   },
   {
    "duration": 23,
    "start_time": "2022-09-14T09:12:52.143Z"
   },
   {
    "duration": 21,
    "start_time": "2022-09-14T09:13:21.690Z"
   },
   {
    "duration": 160,
    "start_time": "2022-09-14T09:13:25.475Z"
   },
   {
    "duration": 233,
    "start_time": "2022-09-14T09:13:38.224Z"
   },
   {
    "duration": 153,
    "start_time": "2022-09-14T09:14:06.652Z"
   },
   {
    "duration": 169,
    "start_time": "2022-09-14T09:14:27.507Z"
   },
   {
    "duration": 26,
    "start_time": "2022-09-14T09:14:34.863Z"
   },
   {
    "duration": 23,
    "start_time": "2022-09-14T09:14:43.519Z"
   },
   {
    "duration": 26,
    "start_time": "2022-09-14T09:14:52.861Z"
   },
   {
    "duration": 141,
    "start_time": "2022-09-14T09:15:32.055Z"
   },
   {
    "duration": 53,
    "start_time": "2022-09-14T09:16:11.195Z"
   },
   {
    "duration": 21,
    "start_time": "2022-09-14T09:16:15.624Z"
   },
   {
    "duration": 220,
    "start_time": "2022-09-14T09:16:24.618Z"
   },
   {
    "duration": 8,
    "start_time": "2022-09-14T09:17:52.618Z"
   },
   {
    "duration": 24,
    "start_time": "2022-09-14T09:17:55.916Z"
   },
   {
    "duration": 832,
    "start_time": "2022-09-14T09:18:38.579Z"
   },
   {
    "duration": 172,
    "start_time": "2022-09-14T09:18:50.960Z"
   },
   {
    "duration": 9,
    "start_time": "2022-09-14T09:18:58.477Z"
   },
   {
    "duration": 237,
    "start_time": "2022-09-14T09:19:16.939Z"
   },
   {
    "duration": 165,
    "start_time": "2022-09-14T09:19:17.350Z"
   },
   {
    "duration": 167,
    "start_time": "2022-09-14T09:19:17.792Z"
   },
   {
    "duration": 354,
    "start_time": "2022-09-14T09:22:21.867Z"
   },
   {
    "duration": 273,
    "start_time": "2022-09-14T09:22:36.837Z"
   },
   {
    "duration": 296,
    "start_time": "2022-09-14T09:22:41.960Z"
   },
   {
    "duration": 350,
    "start_time": "2022-09-14T09:22:48.749Z"
   },
   {
    "duration": 318,
    "start_time": "2022-09-14T09:22:51.810Z"
   },
   {
    "duration": 321,
    "start_time": "2022-09-14T09:23:14.385Z"
   },
   {
    "duration": 330,
    "start_time": "2022-09-14T09:23:17.679Z"
   },
   {
    "duration": 296,
    "start_time": "2022-09-14T09:23:48.536Z"
   },
   {
    "duration": 455,
    "start_time": "2022-09-14T09:24:29.283Z"
   },
   {
    "duration": 4,
    "start_time": "2022-09-14T09:26:00.739Z"
   },
   {
    "duration": 710,
    "start_time": "2022-09-14T09:26:00.747Z"
   },
   {
    "duration": 17,
    "start_time": "2022-09-14T09:26:01.459Z"
   },
   {
    "duration": 10,
    "start_time": "2022-09-14T09:26:01.478Z"
   },
   {
    "duration": 30,
    "start_time": "2022-09-14T09:26:01.491Z"
   },
   {
    "duration": 30,
    "start_time": "2022-09-14T09:26:01.523Z"
   },
   {
    "duration": 68,
    "start_time": "2022-09-14T09:26:01.555Z"
   },
   {
    "duration": 210,
    "start_time": "2022-09-14T09:26:01.624Z"
   },
   {
    "duration": 22,
    "start_time": "2022-09-14T09:26:01.839Z"
   },
   {
    "duration": 28,
    "start_time": "2022-09-14T09:26:01.863Z"
   },
   {
    "duration": 21,
    "start_time": "2022-09-14T09:26:01.894Z"
   },
   {
    "duration": 59,
    "start_time": "2022-09-14T09:26:01.917Z"
   },
   {
    "duration": 14,
    "start_time": "2022-09-14T09:26:01.978Z"
   },
   {
    "duration": 127,
    "start_time": "2022-09-14T09:26:01.995Z"
   },
   {
    "duration": 202,
    "start_time": "2022-09-14T09:26:02.125Z"
   },
   {
    "duration": 23,
    "start_time": "2022-09-14T09:26:02.329Z"
   },
   {
    "duration": 14,
    "start_time": "2022-09-14T09:26:02.354Z"
   },
   {
    "duration": 18,
    "start_time": "2022-09-14T09:26:02.370Z"
   },
   {
    "duration": 258,
    "start_time": "2022-09-14T09:26:02.390Z"
   },
   {
    "duration": 9,
    "start_time": "2022-09-14T09:26:02.650Z"
   },
   {
    "duration": 48,
    "start_time": "2022-09-14T09:26:02.661Z"
   },
   {
    "duration": 18,
    "start_time": "2022-09-14T09:26:02.721Z"
   },
   {
    "duration": 61,
    "start_time": "2022-09-14T09:26:02.742Z"
   },
   {
    "duration": 52,
    "start_time": "2022-09-14T09:26:02.805Z"
   },
   {
    "duration": 25,
    "start_time": "2022-09-14T09:26:02.859Z"
   },
   {
    "duration": 46,
    "start_time": "2022-09-14T09:26:02.886Z"
   },
   {
    "duration": 19,
    "start_time": "2022-09-14T09:26:02.934Z"
   },
   {
    "duration": 11,
    "start_time": "2022-09-14T09:26:02.955Z"
   },
   {
    "duration": 262,
    "start_time": "2022-09-14T09:26:02.969Z"
   },
   {
    "duration": 17,
    "start_time": "2022-09-14T09:26:03.233Z"
   },
   {
    "duration": 16,
    "start_time": "2022-09-14T09:26:03.252Z"
   },
   {
    "duration": 19,
    "start_time": "2022-09-14T09:26:03.270Z"
   },
   {
    "duration": 341,
    "start_time": "2022-09-14T09:26:03.291Z"
   },
   {
    "duration": 10,
    "start_time": "2022-09-14T09:26:03.634Z"
   },
   {
    "duration": 313,
    "start_time": "2022-09-14T09:26:03.646Z"
   },
   {
    "duration": 352,
    "start_time": "2022-09-14T09:26:03.961Z"
   },
   {
    "duration": 342,
    "start_time": "2022-09-14T09:26:04.315Z"
   },
   {
    "duration": 12,
    "start_time": "2022-09-14T09:50:46.866Z"
   },
   {
    "duration": 3,
    "start_time": "2022-09-14T09:50:53.780Z"
   },
   {
    "duration": 686,
    "start_time": "2022-09-14T09:50:53.788Z"
   },
   {
    "duration": 17,
    "start_time": "2022-09-14T09:50:54.476Z"
   },
   {
    "duration": 8,
    "start_time": "2022-09-14T09:50:54.495Z"
   },
   {
    "duration": 32,
    "start_time": "2022-09-14T09:50:54.505Z"
   },
   {
    "duration": 30,
    "start_time": "2022-09-14T09:50:54.538Z"
   },
   {
    "duration": 74,
    "start_time": "2022-09-14T09:50:54.569Z"
   },
   {
    "duration": 201,
    "start_time": "2022-09-14T09:50:54.646Z"
   },
   {
    "duration": 18,
    "start_time": "2022-09-14T09:50:54.849Z"
   },
   {
    "duration": 18,
    "start_time": "2022-09-14T09:50:54.868Z"
   },
   {
    "duration": 34,
    "start_time": "2022-09-14T09:50:54.889Z"
   },
   {
    "duration": 39,
    "start_time": "2022-09-14T09:50:54.925Z"
   },
   {
    "duration": 14,
    "start_time": "2022-09-14T09:50:54.966Z"
   },
   {
    "duration": 115,
    "start_time": "2022-09-14T09:50:54.981Z"
   },
   {
    "duration": 195,
    "start_time": "2022-09-14T09:50:55.098Z"
   },
   {
    "duration": 32,
    "start_time": "2022-09-14T09:50:55.295Z"
   },
   {
    "duration": 9,
    "start_time": "2022-09-14T09:50:55.329Z"
   },
   {
    "duration": 8,
    "start_time": "2022-09-14T09:50:55.340Z"
   },
   {
    "duration": 257,
    "start_time": "2022-09-14T09:50:55.350Z"
   },
   {
    "duration": 14,
    "start_time": "2022-09-14T09:50:55.608Z"
   },
   {
    "duration": 40,
    "start_time": "2022-09-14T09:50:55.623Z"
   },
   {
    "duration": 5,
    "start_time": "2022-09-14T09:50:55.665Z"
   },
   {
    "duration": 12,
    "start_time": "2022-09-14T09:50:55.672Z"
   },
   {
    "duration": 38,
    "start_time": "2022-09-14T09:50:55.686Z"
   },
   {
    "duration": 15,
    "start_time": "2022-09-14T09:50:55.726Z"
   },
   {
    "duration": 8,
    "start_time": "2022-09-14T09:50:55.743Z"
   },
   {
    "duration": 8,
    "start_time": "2022-09-14T09:50:55.753Z"
   },
   {
    "duration": 18,
    "start_time": "2022-09-14T09:50:55.763Z"
   },
   {
    "duration": 283,
    "start_time": "2022-09-14T09:50:55.785Z"
   },
   {
    "duration": 15,
    "start_time": "2022-09-14T09:50:56.070Z"
   },
   {
    "duration": 8,
    "start_time": "2022-09-14T09:50:56.087Z"
   },
   {
    "duration": 29,
    "start_time": "2022-09-14T09:50:56.096Z"
   },
   {
    "duration": 261,
    "start_time": "2022-09-14T09:50:56.126Z"
   },
   {
    "duration": 10,
    "start_time": "2022-09-14T09:50:56.389Z"
   },
   {
    "duration": 320,
    "start_time": "2022-09-14T09:50:56.400Z"
   },
   {
    "duration": 435,
    "start_time": "2022-09-14T09:50:56.723Z"
   },
   {
    "duration": 305,
    "start_time": "2022-09-14T09:50:57.160Z"
   },
   {
    "duration": 17,
    "start_time": "2022-09-14T09:50:57.467Z"
   },
   {
    "duration": 14,
    "start_time": "2022-09-14T09:50:57.486Z"
   },
   {
    "duration": 228,
    "start_time": "2022-09-14T09:50:57.502Z"
   },
   {
    "duration": 6,
    "start_time": "2022-09-14T09:50:57.731Z"
   },
   {
    "duration": 22,
    "start_time": "2022-09-14T09:50:59.033Z"
   },
   {
    "duration": 16,
    "start_time": "2022-09-14T09:53:10.047Z"
   },
   {
    "duration": 17,
    "start_time": "2022-09-14T09:53:16.364Z"
   },
   {
    "duration": 1393,
    "start_time": "2022-09-14T10:10:58.598Z"
   },
   {
    "duration": 805,
    "start_time": "2022-09-14T10:10:59.993Z"
   },
   {
    "duration": 25,
    "start_time": "2022-09-14T10:11:00.800Z"
   },
   {
    "duration": 47,
    "start_time": "2022-09-14T10:11:00.829Z"
   },
   {
    "duration": 43,
    "start_time": "2022-09-14T10:11:00.878Z"
   },
   {
    "duration": 34,
    "start_time": "2022-09-14T10:11:00.923Z"
   },
   {
    "duration": 87,
    "start_time": "2022-09-14T10:11:00.959Z"
   },
   {
    "duration": 264,
    "start_time": "2022-09-14T10:11:01.048Z"
   },
   {
    "duration": 30,
    "start_time": "2022-09-14T10:11:01.314Z"
   },
   {
    "duration": 25,
    "start_time": "2022-09-14T10:11:01.348Z"
   },
   {
    "duration": 32,
    "start_time": "2022-09-14T10:11:01.374Z"
   },
   {
    "duration": 59,
    "start_time": "2022-09-14T10:11:01.408Z"
   },
   {
    "duration": 21,
    "start_time": "2022-09-14T10:11:01.470Z"
   },
   {
    "duration": 151,
    "start_time": "2022-09-14T10:11:01.493Z"
   },
   {
    "duration": 242,
    "start_time": "2022-09-14T10:11:01.647Z"
   },
   {
    "duration": 32,
    "start_time": "2022-09-14T10:11:01.892Z"
   },
   {
    "duration": 10,
    "start_time": "2022-09-14T10:11:01.926Z"
   },
   {
    "duration": 18,
    "start_time": "2022-09-14T10:11:01.938Z"
   },
   {
    "duration": 338,
    "start_time": "2022-09-14T10:11:01.958Z"
   },
   {
    "duration": 9,
    "start_time": "2022-09-14T10:11:02.298Z"
   },
   {
    "duration": 94,
    "start_time": "2022-09-14T10:11:02.320Z"
   },
   {
    "duration": 6,
    "start_time": "2022-09-14T10:11:02.415Z"
   },
   {
    "duration": 26,
    "start_time": "2022-09-14T10:11:02.423Z"
   },
   {
    "duration": 43,
    "start_time": "2022-09-14T10:11:02.452Z"
   },
   {
    "duration": 25,
    "start_time": "2022-09-14T10:11:02.496Z"
   },
   {
    "duration": 21,
    "start_time": "2022-09-14T10:11:02.523Z"
   },
   {
    "duration": 22,
    "start_time": "2022-09-14T10:11:02.546Z"
   },
   {
    "duration": 33,
    "start_time": "2022-09-14T10:11:02.572Z"
   },
   {
    "duration": 302,
    "start_time": "2022-09-14T10:11:02.607Z"
   },
   {
    "duration": 18,
    "start_time": "2022-09-14T10:11:02.911Z"
   },
   {
    "duration": 65,
    "start_time": "2022-09-14T10:11:02.932Z"
   },
   {
    "duration": 21,
    "start_time": "2022-09-14T10:11:02.999Z"
   },
   {
    "duration": 374,
    "start_time": "2022-09-14T10:11:03.022Z"
   },
   {
    "duration": 10,
    "start_time": "2022-09-14T10:11:03.398Z"
   },
   {
    "duration": 355,
    "start_time": "2022-09-14T10:11:03.421Z"
   },
   {
    "duration": 367,
    "start_time": "2022-09-14T10:11:03.778Z"
   },
   {
    "duration": 343,
    "start_time": "2022-09-14T10:11:04.148Z"
   },
   {
    "duration": 33,
    "start_time": "2022-09-14T10:11:04.494Z"
   },
   {
    "duration": 15,
    "start_time": "2022-09-14T10:11:04.529Z"
   },
   {
    "duration": 252,
    "start_time": "2022-09-14T10:11:04.547Z"
   },
   {
    "duration": 8,
    "start_time": "2022-09-14T10:11:04.801Z"
   },
   {
    "duration": 127,
    "start_time": "2022-09-14T10:11:04.827Z"
   },
   {
    "duration": 1158,
    "start_time": "2022-09-14T10:16:11.075Z"
   },
   {
    "duration": 737,
    "start_time": "2022-09-14T10:16:12.236Z"
   },
   {
    "duration": 24,
    "start_time": "2022-09-14T10:16:12.975Z"
   },
   {
    "duration": 5,
    "start_time": "2022-09-14T10:16:13.002Z"
   },
   {
    "duration": 41,
    "start_time": "2022-09-14T10:16:13.008Z"
   },
   {
    "duration": 31,
    "start_time": "2022-09-14T10:16:13.051Z"
   },
   {
    "duration": 69,
    "start_time": "2022-09-14T10:16:13.084Z"
   },
   {
    "duration": 209,
    "start_time": "2022-09-14T10:16:13.155Z"
   },
   {
    "duration": 21,
    "start_time": "2022-09-14T10:16:13.366Z"
   },
   {
    "duration": 33,
    "start_time": "2022-09-14T10:16:13.390Z"
   },
   {
    "duration": 20,
    "start_time": "2022-09-14T10:16:13.426Z"
   },
   {
    "duration": 40,
    "start_time": "2022-09-14T10:16:13.448Z"
   },
   {
    "duration": 33,
    "start_time": "2022-09-14T10:16:13.490Z"
   },
   {
    "duration": 138,
    "start_time": "2022-09-14T10:16:13.525Z"
   },
   {
    "duration": 230,
    "start_time": "2022-09-14T10:16:13.664Z"
   },
   {
    "duration": 39,
    "start_time": "2022-09-14T10:16:13.896Z"
   },
   {
    "duration": 8,
    "start_time": "2022-09-14T10:16:13.937Z"
   },
   {
    "duration": 25,
    "start_time": "2022-09-14T10:16:13.947Z"
   },
   {
    "duration": 287,
    "start_time": "2022-09-14T10:16:13.975Z"
   },
   {
    "duration": 11,
    "start_time": "2022-09-14T10:16:14.264Z"
   },
   {
    "duration": 64,
    "start_time": "2022-09-14T10:16:14.276Z"
   },
   {
    "duration": 11,
    "start_time": "2022-09-14T10:16:14.343Z"
   },
   {
    "duration": 31,
    "start_time": "2022-09-14T10:16:14.357Z"
   },
   {
    "duration": 21,
    "start_time": "2022-09-14T10:16:14.390Z"
   },
   {
    "duration": 80,
    "start_time": "2022-09-14T10:16:14.413Z"
   },
   {
    "duration": 20,
    "start_time": "2022-09-14T10:16:14.495Z"
   },
   {
    "duration": 21,
    "start_time": "2022-09-14T10:16:14.517Z"
   },
   {
    "duration": 21,
    "start_time": "2022-09-14T10:16:14.543Z"
   },
   {
    "duration": 315,
    "start_time": "2022-09-14T10:16:14.566Z"
   },
   {
    "duration": 16,
    "start_time": "2022-09-14T10:16:14.883Z"
   },
   {
    "duration": 8,
    "start_time": "2022-09-14T10:16:14.901Z"
   },
   {
    "duration": 19,
    "start_time": "2022-09-14T10:16:14.911Z"
   },
   {
    "duration": 382,
    "start_time": "2022-09-14T10:16:14.932Z"
   },
   {
    "duration": 12,
    "start_time": "2022-09-14T10:16:15.316Z"
   },
   {
    "duration": 307,
    "start_time": "2022-09-14T10:16:15.330Z"
   },
   {
    "duration": 322,
    "start_time": "2022-09-14T10:16:15.638Z"
   },
   {
    "duration": 310,
    "start_time": "2022-09-14T10:16:15.962Z"
   },
   {
    "duration": 16,
    "start_time": "2022-09-14T10:16:16.274Z"
   },
   {
    "duration": 37,
    "start_time": "2022-09-14T10:16:16.292Z"
   },
   {
    "duration": 242,
    "start_time": "2022-09-14T10:16:16.331Z"
   },
   {
    "duration": 6,
    "start_time": "2022-09-14T10:16:16.575Z"
   },
   {
    "duration": 118,
    "start_time": "2022-09-14T10:16:16.583Z"
   },
   {
    "duration": 1374,
    "start_time": "2022-09-15T06:06:52.338Z"
   },
   {
    "duration": 2196,
    "start_time": "2022-09-15T06:06:53.715Z"
   },
   {
    "duration": 26,
    "start_time": "2022-09-15T06:06:55.913Z"
   },
   {
    "duration": 5,
    "start_time": "2022-09-15T06:06:55.941Z"
   },
   {
    "duration": 23,
    "start_time": "2022-09-15T06:06:55.948Z"
   },
   {
    "duration": 38,
    "start_time": "2022-09-15T06:06:55.973Z"
   },
   {
    "duration": 52,
    "start_time": "2022-09-15T06:06:56.014Z"
   },
   {
    "duration": 206,
    "start_time": "2022-09-15T06:06:56.068Z"
   },
   {
    "duration": 30,
    "start_time": "2022-09-15T06:06:56.276Z"
   },
   {
    "duration": 21,
    "start_time": "2022-09-15T06:06:56.311Z"
   },
   {
    "duration": 10,
    "start_time": "2022-09-15T06:06:56.334Z"
   },
   {
    "duration": 62,
    "start_time": "2022-09-15T06:06:56.345Z"
   },
   {
    "duration": 20,
    "start_time": "2022-09-15T06:06:56.408Z"
   },
   {
    "duration": 143,
    "start_time": "2022-09-15T06:06:56.430Z"
   },
   {
    "duration": 252,
    "start_time": "2022-09-15T06:06:56.575Z"
   },
   {
    "duration": 27,
    "start_time": "2022-09-15T06:06:56.830Z"
   },
   {
    "duration": 9,
    "start_time": "2022-09-15T06:06:56.859Z"
   },
   {
    "duration": 10,
    "start_time": "2022-09-15T06:06:56.870Z"
   },
   {
    "duration": 328,
    "start_time": "2022-09-15T06:06:56.896Z"
   },
   {
    "duration": 9,
    "start_time": "2022-09-15T06:06:57.226Z"
   },
   {
    "duration": 41,
    "start_time": "2022-09-15T06:06:57.236Z"
   },
   {
    "duration": 6,
    "start_time": "2022-09-15T06:06:57.295Z"
   },
   {
    "duration": 26,
    "start_time": "2022-09-15T06:06:57.303Z"
   },
   {
    "duration": 22,
    "start_time": "2022-09-15T06:06:57.331Z"
   },
   {
    "duration": 34,
    "start_time": "2022-09-15T06:06:57.356Z"
   },
   {
    "duration": 29,
    "start_time": "2022-09-15T06:06:57.392Z"
   },
   {
    "duration": 6,
    "start_time": "2022-09-15T06:06:57.423Z"
   },
   {
    "duration": 21,
    "start_time": "2022-09-15T06:06:57.433Z"
   },
   {
    "duration": 295,
    "start_time": "2022-09-15T06:06:57.456Z"
   },
   {
    "duration": 18,
    "start_time": "2022-09-15T06:06:57.753Z"
   },
   {
    "duration": 4,
    "start_time": "2022-09-15T06:06:57.773Z"
   },
   {
    "duration": 15,
    "start_time": "2022-09-15T06:06:57.798Z"
   },
   {
    "duration": 425,
    "start_time": "2022-09-15T06:06:57.820Z"
   },
   {
    "duration": 11,
    "start_time": "2022-09-15T06:06:58.247Z"
   },
   {
    "duration": 363,
    "start_time": "2022-09-15T06:06:58.259Z"
   },
   {
    "duration": 309,
    "start_time": "2022-09-15T06:06:58.624Z"
   },
   {
    "duration": 326,
    "start_time": "2022-09-15T06:06:58.935Z"
   },
   {
    "duration": 20,
    "start_time": "2022-09-15T06:06:59.262Z"
   },
   {
    "duration": 17,
    "start_time": "2022-09-15T06:06:59.295Z"
   },
   {
    "duration": 236,
    "start_time": "2022-09-15T06:06:59.314Z"
   },
   {
    "duration": 5,
    "start_time": "2022-09-15T06:06:59.551Z"
   },
   {
    "duration": 111,
    "start_time": "2022-09-15T06:06:59.557Z"
   },
   {
    "duration": 1123,
    "start_time": "2022-09-15T06:22:09.831Z"
   },
   {
    "duration": 674,
    "start_time": "2022-09-15T06:22:10.956Z"
   },
   {
    "duration": 22,
    "start_time": "2022-09-15T06:22:11.631Z"
   },
   {
    "duration": 6,
    "start_time": "2022-09-15T06:22:11.655Z"
   },
   {
    "duration": 34,
    "start_time": "2022-09-15T06:22:11.663Z"
   },
   {
    "duration": 27,
    "start_time": "2022-09-15T06:22:11.699Z"
   },
   {
    "duration": 76,
    "start_time": "2022-09-15T06:22:11.728Z"
   },
   {
    "duration": 179,
    "start_time": "2022-09-15T06:22:11.807Z"
   },
   {
    "duration": 31,
    "start_time": "2022-09-15T06:22:11.987Z"
   },
   {
    "duration": 15,
    "start_time": "2022-09-15T06:22:12.021Z"
   },
   {
    "duration": 12,
    "start_time": "2022-09-15T06:22:12.038Z"
   },
   {
    "duration": 54,
    "start_time": "2022-09-15T06:22:12.052Z"
   },
   {
    "duration": 15,
    "start_time": "2022-09-15T06:22:12.108Z"
   },
   {
    "duration": 122,
    "start_time": "2022-09-15T06:22:12.125Z"
   },
   {
    "duration": 176,
    "start_time": "2022-09-15T06:22:12.249Z"
   },
   {
    "duration": 20,
    "start_time": "2022-09-15T06:22:12.427Z"
   },
   {
    "duration": 8,
    "start_time": "2022-09-15T06:22:12.448Z"
   },
   {
    "duration": 10,
    "start_time": "2022-09-15T06:22:12.457Z"
   },
   {
    "duration": 295,
    "start_time": "2022-09-15T06:22:12.469Z"
   },
   {
    "duration": 8,
    "start_time": "2022-09-15T06:22:12.766Z"
   },
   {
    "duration": 59,
    "start_time": "2022-09-15T06:22:12.776Z"
   },
   {
    "duration": 6,
    "start_time": "2022-09-15T06:22:12.837Z"
   },
   {
    "duration": 15,
    "start_time": "2022-09-15T06:22:12.845Z"
   },
   {
    "duration": 11,
    "start_time": "2022-09-15T06:22:12.862Z"
   },
   {
    "duration": 29,
    "start_time": "2022-09-15T06:22:12.875Z"
   },
   {
    "duration": 19,
    "start_time": "2022-09-15T06:22:12.905Z"
   },
   {
    "duration": 7,
    "start_time": "2022-09-15T06:22:12.926Z"
   },
   {
    "duration": 13,
    "start_time": "2022-09-15T06:22:12.935Z"
   },
   {
    "duration": 249,
    "start_time": "2022-09-15T06:22:12.949Z"
   },
   {
    "duration": 15,
    "start_time": "2022-09-15T06:22:13.200Z"
   },
   {
    "duration": 6,
    "start_time": "2022-09-15T06:22:13.217Z"
   },
   {
    "duration": 12,
    "start_time": "2022-09-15T06:22:13.224Z"
   },
   {
    "duration": 323,
    "start_time": "2022-09-15T06:22:13.238Z"
   },
   {
    "duration": 9,
    "start_time": "2022-09-15T06:22:13.562Z"
   },
   {
    "duration": 307,
    "start_time": "2022-09-15T06:22:13.572Z"
   },
   {
    "duration": 308,
    "start_time": "2022-09-15T06:22:13.881Z"
   },
   {
    "duration": 306,
    "start_time": "2022-09-15T06:22:14.196Z"
   },
   {
    "duration": 19,
    "start_time": "2022-09-15T06:22:14.512Z"
   },
   {
    "duration": 12,
    "start_time": "2022-09-15T06:22:14.532Z"
   },
   {
    "duration": 221,
    "start_time": "2022-09-15T06:22:14.546Z"
   },
   {
    "duration": 5,
    "start_time": "2022-09-15T06:22:14.769Z"
   },
   {
    "duration": 30,
    "start_time": "2022-09-15T06:22:14.776Z"
   },
   {
    "duration": 1404,
    "start_time": "2022-09-15T07:03:11.957Z"
   },
   {
    "duration": 1027,
    "start_time": "2022-09-15T07:03:13.363Z"
   },
   {
    "duration": 26,
    "start_time": "2022-09-15T07:03:14.392Z"
   },
   {
    "duration": 5,
    "start_time": "2022-09-15T07:03:14.420Z"
   },
   {
    "duration": 26,
    "start_time": "2022-09-15T07:03:14.427Z"
   },
   {
    "duration": 38,
    "start_time": "2022-09-15T07:03:14.455Z"
   },
   {
    "duration": 49,
    "start_time": "2022-09-15T07:03:14.495Z"
   },
   {
    "duration": 211,
    "start_time": "2022-09-15T07:03:14.545Z"
   },
   {
    "duration": 35,
    "start_time": "2022-09-15T07:03:14.758Z"
   },
   {
    "duration": 16,
    "start_time": "2022-09-15T07:03:14.796Z"
   },
   {
    "duration": 13,
    "start_time": "2022-09-15T07:03:14.814Z"
   },
   {
    "duration": 55,
    "start_time": "2022-09-15T07:03:14.828Z"
   },
   {
    "duration": 13,
    "start_time": "2022-09-15T07:03:14.885Z"
   },
   {
    "duration": 126,
    "start_time": "2022-09-15T07:03:14.900Z"
   },
   {
    "duration": 182,
    "start_time": "2022-09-15T07:03:15.028Z"
   },
   {
    "duration": 26,
    "start_time": "2022-09-15T07:03:15.213Z"
   },
   {
    "duration": 18,
    "start_time": "2022-09-15T07:03:15.241Z"
   },
   {
    "duration": 36,
    "start_time": "2022-09-15T07:03:15.261Z"
   },
   {
    "duration": 298,
    "start_time": "2022-09-15T07:03:15.299Z"
   },
   {
    "duration": 8,
    "start_time": "2022-09-15T07:03:15.599Z"
   },
   {
    "duration": 51,
    "start_time": "2022-09-15T07:03:15.609Z"
   },
   {
    "duration": 6,
    "start_time": "2022-09-15T07:03:15.662Z"
   },
   {
    "duration": 19,
    "start_time": "2022-09-15T07:03:15.669Z"
   },
   {
    "duration": 19,
    "start_time": "2022-09-15T07:03:15.690Z"
   },
   {
    "duration": 19,
    "start_time": "2022-09-15T07:03:15.710Z"
   },
   {
    "duration": 21,
    "start_time": "2022-09-15T07:03:15.731Z"
   },
   {
    "duration": 21,
    "start_time": "2022-09-15T07:03:15.754Z"
   },
   {
    "duration": 21,
    "start_time": "2022-09-15T07:03:15.779Z"
   },
   {
    "duration": 218,
    "start_time": "2022-09-15T07:03:15.802Z"
   },
   {
    "duration": 17,
    "start_time": "2022-09-15T07:03:16.022Z"
   },
   {
    "duration": 6,
    "start_time": "2022-09-15T07:03:16.041Z"
   },
   {
    "duration": 29,
    "start_time": "2022-09-15T07:03:16.048Z"
   },
   {
    "duration": 325,
    "start_time": "2022-09-15T07:03:16.079Z"
   },
   {
    "duration": 11,
    "start_time": "2022-09-15T07:03:16.405Z"
   },
   {
    "duration": 396,
    "start_time": "2022-09-15T07:03:16.418Z"
   },
   {
    "duration": 309,
    "start_time": "2022-09-15T07:03:16.815Z"
   },
   {
    "duration": 296,
    "start_time": "2022-09-15T07:03:17.126Z"
   },
   {
    "duration": 14,
    "start_time": "2022-09-15T07:03:17.424Z"
   },
   {
    "duration": 27,
    "start_time": "2022-09-15T07:03:17.440Z"
   },
   {
    "duration": 216,
    "start_time": "2022-09-15T07:03:17.469Z"
   },
   {
    "duration": 4,
    "start_time": "2022-09-15T07:03:17.687Z"
   },
   {
    "duration": 38,
    "start_time": "2022-09-15T07:03:17.693Z"
   },
   {
    "duration": 1317,
    "start_time": "2022-09-15T07:43:17.656Z"
   },
   {
    "duration": 730,
    "start_time": "2022-09-15T07:43:18.975Z"
   },
   {
    "duration": 23,
    "start_time": "2022-09-15T07:43:19.706Z"
   },
   {
    "duration": 4,
    "start_time": "2022-09-15T07:43:19.731Z"
   },
   {
    "duration": 24,
    "start_time": "2022-09-15T07:43:19.737Z"
   },
   {
    "duration": 60,
    "start_time": "2022-09-15T07:43:19.763Z"
   },
   {
    "duration": 50,
    "start_time": "2022-09-15T07:43:19.825Z"
   },
   {
    "duration": 207,
    "start_time": "2022-09-15T07:43:19.895Z"
   },
   {
    "duration": 25,
    "start_time": "2022-09-15T07:43:20.105Z"
   },
   {
    "duration": 20,
    "start_time": "2022-09-15T07:43:20.133Z"
   },
   {
    "duration": 46,
    "start_time": "2022-09-15T07:43:20.155Z"
   },
   {
    "duration": 43,
    "start_time": "2022-09-15T07:43:20.207Z"
   },
   {
    "duration": 16,
    "start_time": "2022-09-15T07:43:20.252Z"
   },
   {
    "duration": 150,
    "start_time": "2022-09-15T07:43:20.269Z"
   },
   {
    "duration": 194,
    "start_time": "2022-09-15T07:43:20.421Z"
   },
   {
    "duration": 21,
    "start_time": "2022-09-15T07:43:20.617Z"
   },
   {
    "duration": 8,
    "start_time": "2022-09-15T07:43:20.639Z"
   },
   {
    "duration": 4,
    "start_time": "2022-09-15T07:43:20.649Z"
   },
   {
    "duration": 310,
    "start_time": "2022-09-15T07:43:20.655Z"
   },
   {
    "duration": 8,
    "start_time": "2022-09-15T07:43:20.967Z"
   },
   {
    "duration": 63,
    "start_time": "2022-09-15T07:43:20.977Z"
   },
   {
    "duration": 6,
    "start_time": "2022-09-15T07:43:21.042Z"
   },
   {
    "duration": 11,
    "start_time": "2022-09-15T07:43:21.049Z"
   },
   {
    "duration": 39,
    "start_time": "2022-09-15T07:43:21.062Z"
   },
   {
    "duration": 20,
    "start_time": "2022-09-15T07:43:21.103Z"
   },
   {
    "duration": 9,
    "start_time": "2022-09-15T07:43:21.125Z"
   },
   {
    "duration": 6,
    "start_time": "2022-09-15T07:43:21.136Z"
   },
   {
    "duration": 9,
    "start_time": "2022-09-15T07:43:21.146Z"
   },
   {
    "duration": 261,
    "start_time": "2022-09-15T07:43:21.157Z"
   },
   {
    "duration": 22,
    "start_time": "2022-09-15T07:43:21.421Z"
   },
   {
    "duration": 4,
    "start_time": "2022-09-15T07:43:21.445Z"
   },
   {
    "duration": 12,
    "start_time": "2022-09-15T07:43:21.450Z"
   },
   {
    "duration": 348,
    "start_time": "2022-09-15T07:43:21.464Z"
   },
   {
    "duration": 9,
    "start_time": "2022-09-15T07:43:21.816Z"
   },
   {
    "duration": 291,
    "start_time": "2022-09-15T07:43:21.827Z"
   },
   {
    "duration": 307,
    "start_time": "2022-09-15T07:43:22.121Z"
   },
   {
    "duration": 290,
    "start_time": "2022-09-15T07:43:22.430Z"
   },
   {
    "duration": 15,
    "start_time": "2022-09-15T07:43:22.722Z"
   },
   {
    "duration": 13,
    "start_time": "2022-09-15T07:43:22.739Z"
   },
   {
    "duration": 264,
    "start_time": "2022-09-15T07:43:22.754Z"
   },
   {
    "duration": 4,
    "start_time": "2022-09-15T07:43:23.020Z"
   },
   {
    "duration": 19,
    "start_time": "2022-09-15T07:43:23.026Z"
   }
  ],
  "kernelspec": {
   "display_name": "Python 3",
   "language": "python",
   "name": "python3"
  },
  "language_info": {
   "codemirror_mode": {
    "name": "ipython",
    "version": 3
   },
   "file_extension": ".py",
   "mimetype": "text/x-python",
   "name": "python",
   "nbconvert_exporter": "python",
   "pygments_lexer": "ipython3",
   "version": "3.8.8"
  },
  "toc": {
   "base_numbering": 1,
   "nav_menu": {},
   "number_sections": true,
   "sideBar": true,
   "skip_h1_title": true,
   "title_cell": "Table of Contents",
   "title_sidebar": "Contents",
   "toc_cell": false,
   "toc_position": {},
   "toc_section_display": true,
   "toc_window_display": false
  }
 },
 "nbformat": 4,
 "nbformat_minor": 2
}
