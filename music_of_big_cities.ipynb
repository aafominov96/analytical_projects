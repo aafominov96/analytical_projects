{
 "cells": [
  {
   "cell_type": "markdown",
   "metadata": {
    "id": "E0vqbgi9ay0H"
   },
   "source": [
    "# Яндекс.Музыка"
   ]
  },
  {
   "cell_type": "markdown",
   "metadata": {
    "id": "VUC88oWjTJw2"
   },
   "source": [
    "Сравнение Москвы и Петербурга окружено мифами. Например:\n",
    " * Москва — мегаполис, подчинённый жёсткому ритму рабочей недели;\n",
    " * Петербург — культурная столица, со своими вкусами.\n",
    "\n",
    "На данных Яндекс.Музыки необходимо сравнить поведение пользователей двух столиц.\n",
    "\n",
    "**Цель исследования** — проверить три гипотезы:\n",
    "1. Активность пользователей зависит от дня недели. Причём в Москве и Петербурге это проявляется по-разному.\n",
    "2. В понедельник утром в Москве преобладают одни жанры, а в Петербурге — другие. Так же и вечером пятницы преобладают разные жанры — в зависимости от города. \n",
    "3. Москва и Петербург предпочитают разные жанры музыки. В Москве чаще слушают поп-музыку, в Петербурге — русский рэп.\n",
    "\n",
    "**Ход исследования**:\n",
    " 1. Обзор данных.\n",
    " 2. Предобработка данных.\n",
    " 3. Проверка гипотез.\n",
    "\n"
   ]
  },
  {
   "cell_type": "markdown",
   "metadata": {
    "id": "Ml1hmfXC_Zcs"
   },
   "source": [
    "## Обзор данных"
   ]
  },
  {
   "cell_type": "markdown",
   "metadata": {
    "id": "57eAOGIz_Zcs"
   },
   "source": [
    "Импорт необходимых библиотек:"
   ]
  },
  {
   "cell_type": "code",
   "execution_count": 1,
   "metadata": {
    "id": "AXN7PHPN_Zcs"
   },
   "outputs": [],
   "source": [
    "# импорт библиотеки pandas\n",
    "import pandas as pd"
   ]
  },
  {
   "cell_type": "markdown",
   "metadata": {
    "id": "SG23P8tt_Zcs"
   },
   "source": [
    "Импорт данных:"
   ]
  },
  {
   "cell_type": "code",
   "execution_count": 2,
   "metadata": {
    "id": "fFVu7vqh_Zct"
   },
   "outputs": [],
   "source": [
    "# чтение файла с данными и сохранение в df\n",
    "df = pd.read_csv('/datasets/yandex_music_project.csv')\n",
    "df.to_csv('yandex_music_project.csv')"
   ]
  },
  {
   "cell_type": "code",
   "execution_count": 3,
   "metadata": {
    "id": "oWTVX3gW_Zct"
   },
   "outputs": [
    {
     "data": {
      "text/html": [
       "<div>\n",
       "<style scoped>\n",
       "    .dataframe tbody tr th:only-of-type {\n",
       "        vertical-align: middle;\n",
       "    }\n",
       "\n",
       "    .dataframe tbody tr th {\n",
       "        vertical-align: top;\n",
       "    }\n",
       "\n",
       "    .dataframe thead th {\n",
       "        text-align: right;\n",
       "    }\n",
       "</style>\n",
       "<table border=\"1\" class=\"dataframe\">\n",
       "  <thead>\n",
       "    <tr style=\"text-align: right;\">\n",
       "      <th></th>\n",
       "      <th>userID</th>\n",
       "      <th>Track</th>\n",
       "      <th>artist</th>\n",
       "      <th>genre</th>\n",
       "      <th>City</th>\n",
       "      <th>time</th>\n",
       "      <th>Day</th>\n",
       "    </tr>\n",
       "  </thead>\n",
       "  <tbody>\n",
       "    <tr>\n",
       "      <td>0</td>\n",
       "      <td>FFB692EC</td>\n",
       "      <td>Kamigata To Boots</td>\n",
       "      <td>The Mass Missile</td>\n",
       "      <td>rock</td>\n",
       "      <td>Saint-Petersburg</td>\n",
       "      <td>20:28:33</td>\n",
       "      <td>Wednesday</td>\n",
       "    </tr>\n",
       "    <tr>\n",
       "      <td>1</td>\n",
       "      <td>55204538</td>\n",
       "      <td>Delayed Because of Accident</td>\n",
       "      <td>Andreas Rönnberg</td>\n",
       "      <td>rock</td>\n",
       "      <td>Moscow</td>\n",
       "      <td>14:07:09</td>\n",
       "      <td>Friday</td>\n",
       "    </tr>\n",
       "    <tr>\n",
       "      <td>2</td>\n",
       "      <td>20EC38</td>\n",
       "      <td>Funiculì funiculà</td>\n",
       "      <td>Mario Lanza</td>\n",
       "      <td>pop</td>\n",
       "      <td>Saint-Petersburg</td>\n",
       "      <td>20:58:07</td>\n",
       "      <td>Wednesday</td>\n",
       "    </tr>\n",
       "    <tr>\n",
       "      <td>3</td>\n",
       "      <td>A3DD03C9</td>\n",
       "      <td>Dragons in the Sunset</td>\n",
       "      <td>Fire + Ice</td>\n",
       "      <td>folk</td>\n",
       "      <td>Saint-Petersburg</td>\n",
       "      <td>08:37:09</td>\n",
       "      <td>Monday</td>\n",
       "    </tr>\n",
       "    <tr>\n",
       "      <td>4</td>\n",
       "      <td>E2DC1FAE</td>\n",
       "      <td>Soul People</td>\n",
       "      <td>Space Echo</td>\n",
       "      <td>dance</td>\n",
       "      <td>Moscow</td>\n",
       "      <td>08:34:34</td>\n",
       "      <td>Monday</td>\n",
       "    </tr>\n",
       "    <tr>\n",
       "      <td>5</td>\n",
       "      <td>842029A1</td>\n",
       "      <td>Преданная</td>\n",
       "      <td>IMPERVTOR</td>\n",
       "      <td>rusrap</td>\n",
       "      <td>Saint-Petersburg</td>\n",
       "      <td>13:09:41</td>\n",
       "      <td>Friday</td>\n",
       "    </tr>\n",
       "    <tr>\n",
       "      <td>6</td>\n",
       "      <td>4CB90AA5</td>\n",
       "      <td>True</td>\n",
       "      <td>Roman Messer</td>\n",
       "      <td>dance</td>\n",
       "      <td>Moscow</td>\n",
       "      <td>13:00:07</td>\n",
       "      <td>Wednesday</td>\n",
       "    </tr>\n",
       "    <tr>\n",
       "      <td>7</td>\n",
       "      <td>F03E1C1F</td>\n",
       "      <td>Feeling This Way</td>\n",
       "      <td>Polina Griffith</td>\n",
       "      <td>dance</td>\n",
       "      <td>Moscow</td>\n",
       "      <td>20:47:49</td>\n",
       "      <td>Wednesday</td>\n",
       "    </tr>\n",
       "    <tr>\n",
       "      <td>8</td>\n",
       "      <td>8FA1D3BE</td>\n",
       "      <td>И вновь продолжается бой</td>\n",
       "      <td>NaN</td>\n",
       "      <td>ruspop</td>\n",
       "      <td>Moscow</td>\n",
       "      <td>09:17:40</td>\n",
       "      <td>Friday</td>\n",
       "    </tr>\n",
       "    <tr>\n",
       "      <td>9</td>\n",
       "      <td>E772D5C0</td>\n",
       "      <td>Pessimist</td>\n",
       "      <td>NaN</td>\n",
       "      <td>dance</td>\n",
       "      <td>Saint-Petersburg</td>\n",
       "      <td>21:20:49</td>\n",
       "      <td>Wednesday</td>\n",
       "    </tr>\n",
       "  </tbody>\n",
       "</table>\n",
       "</div>"
      ],
      "text/plain": [
       "     userID                        Track            artist   genre  \\\n",
       "0  FFB692EC            Kamigata To Boots  The Mass Missile    rock   \n",
       "1  55204538  Delayed Because of Accident  Andreas Rönnberg    rock   \n",
       "2    20EC38            Funiculì funiculà       Mario Lanza     pop   \n",
       "3  A3DD03C9        Dragons in the Sunset        Fire + Ice    folk   \n",
       "4  E2DC1FAE                  Soul People        Space Echo   dance   \n",
       "5  842029A1                    Преданная         IMPERVTOR  rusrap   \n",
       "6  4CB90AA5                         True      Roman Messer   dance   \n",
       "7  F03E1C1F             Feeling This Way   Polina Griffith   dance   \n",
       "8  8FA1D3BE     И вновь продолжается бой               NaN  ruspop   \n",
       "9  E772D5C0                    Pessimist               NaN   dance   \n",
       "\n",
       "             City        time        Day  \n",
       "0  Saint-Petersburg  20:28:33  Wednesday  \n",
       "1            Moscow  14:07:09     Friday  \n",
       "2  Saint-Petersburg  20:58:07  Wednesday  \n",
       "3  Saint-Petersburg  08:37:09     Monday  \n",
       "4            Moscow  08:34:34     Monday  \n",
       "5  Saint-Petersburg  13:09:41     Friday  \n",
       "6            Moscow  13:00:07  Wednesday  \n",
       "7            Moscow  20:47:49  Wednesday  \n",
       "8            Moscow  09:17:40     Friday  \n",
       "9  Saint-Petersburg  21:20:49  Wednesday  "
      ]
     },
     "metadata": {},
     "output_type": "display_data"
    }
   ],
   "source": [
    "# получение первых 10 строк таблицы df\n",
    "display(df.head(10))"
   ]
  },
  {
   "cell_type": "markdown",
   "metadata": {
    "id": "EO73Kwic_Zct"
   },
   "source": [
    "Информация о данных:"
   ]
  },
  {
   "cell_type": "code",
   "execution_count": 4,
   "metadata": {
    "id": "DSf2kIb-_Zct"
   },
   "outputs": [
    {
     "name": "stdout",
     "output_type": "stream",
     "text": [
      "<class 'pandas.core.frame.DataFrame'>\n",
      "RangeIndex: 65079 entries, 0 to 65078\n",
      "Data columns (total 7 columns):\n",
      "  userID    65079 non-null object\n",
      "Track       63848 non-null object\n",
      "artist      57876 non-null object\n",
      "genre       63881 non-null object\n",
      "  City      65079 non-null object\n",
      "time        65079 non-null object\n",
      "Day         65079 non-null object\n",
      "dtypes: object(7)\n",
      "memory usage: 3.5+ MB\n",
      "None\n",
      "          userID  Track     artist  genre   City        time     Day\n",
      "count      65079  63848      57876  63881    65079     65079   65079\n",
      "unique     41748  47245      43605    289        2     20392       3\n",
      "top     A8AE9169  Intro  Existence    pop   Moscow  08:14:07  Friday\n",
      "freq          76     34          6   8850    45360        14   23149\n"
     ]
    }
   ],
   "source": [
    "# получение общей информации о данных в таблице df\n",
    "print(df.info())\n",
    "print(df.describe())"
   ]
  },
  {
   "cell_type": "markdown",
   "metadata": {
    "id": "TaQ2Iwbr_Zct"
   },
   "source": [
    "Итак, в таблице семь столбцов. Тип данных во всех столбцах — `object`.\n",
    "\n",
    "Согласно документации к данным:\n",
    "* `userID` — идентификатор пользователя;\n",
    "* `Track` — название трека;  \n",
    "* `artist` — имя исполнителя;\n",
    "* `genre` — название жанра;\n",
    "* `City` — город пользователя;\n",
    "* `time` — время начала прослушивания;\n",
    "* `Day` — день недели.\n",
    "\n",
    "В названиях колонок видны три нарушения стиля:\n",
    "1. Строчные буквы сочетаются с прописными.\n",
    "2. Встречаются пробелы.\n",
    "3. Если в названии колонки больше одного слова, предпочтительнее их разделять нижним подчеркиванием ( _ ).\n",
    "\n",
    "\n",
    "\n",
    "Количество значений в столбцах различается. Значит, в данных есть пропущенные значения.\n"
   ]
  },
  {
   "cell_type": "markdown",
   "metadata": {
    "id": "MCB6-dXG_Zct"
   },
   "source": [
    "**Выводы**\n",
    "\n",
    "В каждой строке таблицы — данные о прослушанном треке. Часть колонок описывает саму композицию: название, исполнителя и жанр. Остальные данные рассказывают о пользователе: из какого он города, когда он слушал музыку. \n",
    "\n",
    "Предварительно можно утверждать, что, данных достаточно для проверки гипотез. Но встречаются пропуски в данных, а в названиях колонок — расхождения с хорошим стилем.\n",
    "\n",
    "Чтобы двигаться дальше, нужно устранить проблемы в данных."
   ]
  },
  {
   "cell_type": "markdown",
   "metadata": {
    "id": "SjYF6Ub9_Zct"
   },
   "source": [
    "## Предобработка данных"
   ]
  },
  {
   "cell_type": "markdown",
   "metadata": {
    "id": "dIaKXr29_Zct"
   },
   "source": [
    "### Стиль заголовков"
   ]
  },
  {
   "cell_type": "code",
   "execution_count": 5,
   "metadata": {
    "id": "oKOTdF_Q_Zct"
   },
   "outputs": [
    {
     "data": {
      "text/plain": [
       "Index(['  userID', 'Track', 'artist', 'genre', '  City  ', 'time', 'Day'], dtype='object')"
      ]
     },
     "metadata": {},
     "output_type": "display_data"
    }
   ],
   "source": [
    "# перечень названий столбцов таблицы df\n",
    "display(df.columns)"
   ]
  },
  {
   "cell_type": "code",
   "execution_count": 6,
   "metadata": {
    "id": "ISlFqs5y_Zct"
   },
   "outputs": [],
   "source": [
    "# переименование столбцов\n",
    "df = df.rename(columns={'  userID' : 'user_id', \n",
    "                        'Track' : 'track', \n",
    "                        '  City  ' : 'city', \n",
    "                        'Day' : 'day'})"
   ]
  },
  {
   "cell_type": "code",
   "execution_count": 7,
   "metadata": {
    "id": "d4NOAmTW_Zct"
   },
   "outputs": [
    {
     "name": "stdout",
     "output_type": "stream",
     "text": [
      "Index(['user_id', 'track', 'artist', 'genre', 'city', 'time', 'day'], dtype='object')\n"
     ]
    }
   ],
   "source": [
    "# проверка результатов - перечень названий столбцов\n",
    "print(df.columns)"
   ]
  },
  {
   "cell_type": "markdown",
   "metadata": {
    "id": "5ISfbcfY_Zct"
   },
   "source": [
    "### Пропуски значений"
   ]
  },
  {
   "cell_type": "code",
   "execution_count": 8,
   "metadata": {
    "id": "RskX29qr_Zct"
   },
   "outputs": [
    {
     "name": "stdout",
     "output_type": "stream",
     "text": [
      "user_id       0\n",
      "track      1231\n",
      "artist     7203\n",
      "genre      1198\n",
      "city          0\n",
      "time          0\n",
      "day           0\n",
      "dtype: int64\n"
     ]
    }
   ],
   "source": [
    "# подсчёт пропусков\n",
    "print(df.isna().sum())"
   ]
  },
  {
   "cell_type": "markdown",
   "metadata": {
    "id": "qubhgnlO_Zct"
   },
   "source": [
    "Не все пропущенные значения влияют на исследование. Так в `track` и `artist` пропуски не важны для данного исследования. Достаточно заменить их явными обозначениями.\n",
    "\n",
    "Но пропуски в `genre` могут помешать сравнению музыкальных вкусов в Москве и Санкт-Петербурге. На практике было бы правильно установить причину пропусков и восстановить данные. Такой возможности нет в учебном проекте. Придётся:\n",
    "* заполнить и эти пропуски явными обозначениями,\n",
    "* оценить, насколько они повредят расчётам. "
   ]
  },
  {
   "cell_type": "code",
   "execution_count": 9,
   "metadata": {
    "id": "KplB5qWs_Zct"
   },
   "outputs": [],
   "source": [
    "# перебор названий столбцов в цикле и замена пропущенных значений на 'unknown'\n",
    "columns_to_replace = ['track', 'artist', 'genre']\n",
    "df[columns_to_replace] = df[columns_to_replace].fillna('unknown')"
   ]
  },
  {
   "cell_type": "code",
   "execution_count": 10,
   "metadata": {
    "id": "Tq4nYRX4_Zct"
   },
   "outputs": [
    {
     "name": "stdout",
     "output_type": "stream",
     "text": [
      "user_id    0\n",
      "track      0\n",
      "artist     0\n",
      "genre      0\n",
      "city       0\n",
      "time       0\n",
      "day        0\n",
      "dtype: int64\n"
     ]
    }
   ],
   "source": [
    "# подсчёт пропусков\n",
    "print(df.isna().sum())"
   ]
  },
  {
   "cell_type": "markdown",
   "metadata": {
    "id": "BWKRtBJ3_Zct"
   },
   "source": [
    "### Дубликаты"
   ]
  },
  {
   "cell_type": "code",
   "execution_count": 11,
   "metadata": {
    "id": "36eES_S0_Zct"
   },
   "outputs": [
    {
     "name": "stdout",
     "output_type": "stream",
     "text": [
      "Количество явных дубликатов: 3826\n"
     ]
    }
   ],
   "source": [
    "# подсчёт явных дубликатов\n",
    "print(f'Количество явных дубликатов: {df.duplicated().sum()}')"
   ]
  },
  {
   "cell_type": "code",
   "execution_count": 12,
   "metadata": {
    "id": "exFHq6tt_Zct"
   },
   "outputs": [],
   "source": [
    "# удаление явных дубликатов (с удалением старых индексов и формированием новых)\n",
    "df = df.drop_duplicates().reset_index(drop=True)"
   ]
  },
  {
   "cell_type": "code",
   "execution_count": 13,
   "metadata": {
    "id": "-8PuNWQ0_Zct"
   },
   "outputs": [
    {
     "name": "stdout",
     "output_type": "stream",
     "text": [
      "Количество явных дубликатов: 0\n"
     ]
    }
   ],
   "source": [
    "# проверка на отсутствие дубликатов\n",
    "print(f'Количество явных дубликатов: {df.duplicated().sum()}')"
   ]
  },
  {
   "cell_type": "markdown",
   "metadata": {
    "id": "QlFBsxAr_Zct"
   },
   "source": [
    "Теперь избавимся от неявных дубликатов в колонке `genre`. Например, название одного и того же жанра может быть записано немного по-разному. Такие ошибки тоже повлияют на результат исследования."
   ]
  },
  {
   "cell_type": "code",
   "execution_count": 14,
   "metadata": {
    "id": "JIUcqzZN_Zct"
   },
   "outputs": [
    {
     "data": {
      "text/plain": [
       "array(['acid', 'acoustic', 'action', 'adult', 'africa', 'afrikaans',\n",
       "       'alternative', 'alternativepunk', 'ambient', 'americana',\n",
       "       'animated', 'anime', 'arabesk', 'arabic', 'arena',\n",
       "       'argentinetango', 'art', 'audiobook', 'author', 'avantgarde',\n",
       "       'axé', 'baile', 'balkan', 'beats', 'bigroom', 'black', 'bluegrass',\n",
       "       'blues', 'bollywood', 'bossa', 'brazilian', 'breakbeat', 'breaks',\n",
       "       'broadway', 'cantautori', 'cantopop', 'canzone', 'caribbean',\n",
       "       'caucasian', 'celtic', 'chamber', 'chanson', 'children', 'chill',\n",
       "       'chinese', 'choral', 'christian', 'christmas', 'classical',\n",
       "       'classicmetal', 'club', 'colombian', 'comedy', 'conjazz',\n",
       "       'contemporary', 'country', 'cuban', 'dance', 'dancehall',\n",
       "       'dancepop', 'dark', 'death', 'deep', 'deutschrock', 'deutschspr',\n",
       "       'dirty', 'disco', 'dnb', 'documentary', 'downbeat', 'downtempo',\n",
       "       'drum', 'dub', 'dubstep', 'eastern', 'easy', 'electronic',\n",
       "       'electropop', 'emo', 'entehno', 'epicmetal', 'estrada', 'ethnic',\n",
       "       'eurofolk', 'european', 'experimental', 'extrememetal', 'fado',\n",
       "       'fairytail', 'film', 'fitness', 'flamenco', 'folk', 'folklore',\n",
       "       'folkmetal', 'folkrock', 'folktronica', 'forró', 'frankreich',\n",
       "       'französisch', 'french', 'funk', 'future', 'gangsta', 'garage',\n",
       "       'german', 'ghazal', 'gitarre', 'glitch', 'gospel', 'gothic',\n",
       "       'grime', 'grunge', 'gypsy', 'handsup', \"hard'n'heavy\", 'hardcore',\n",
       "       'hardstyle', 'hardtechno', 'hip', 'hip-hop', 'hiphop',\n",
       "       'historisch', 'holiday', 'hop', 'horror', 'house', 'hymn', 'idm',\n",
       "       'independent', 'indian', 'indie', 'indipop', 'industrial',\n",
       "       'inspirational', 'instrumental', 'international', 'irish', 'jam',\n",
       "       'japanese', 'jazz', 'jewish', 'jpop', 'jungle', 'k-pop',\n",
       "       'karadeniz', 'karaoke', 'kayokyoku', 'korean', 'laiko', 'latin',\n",
       "       'latino', 'leftfield', 'local', 'lounge', 'loungeelectronic',\n",
       "       'lovers', 'malaysian', 'mandopop', 'marschmusik', 'meditative',\n",
       "       'mediterranean', 'melodic', 'metal', 'metalcore', 'mexican',\n",
       "       'middle', 'minimal', 'miscellaneous', 'modern', 'mood', 'mpb',\n",
       "       'muslim', 'native', 'neoklassik', 'neue', 'new', 'newage',\n",
       "       'newwave', 'nu', 'nujazz', 'numetal', 'oceania', 'old', 'opera',\n",
       "       'orchestral', 'other', 'piano', 'podcasts', 'pop', 'popdance',\n",
       "       'popelectronic', 'popeurodance', 'poprussian', 'post',\n",
       "       'posthardcore', 'postrock', 'power', 'progmetal', 'progressive',\n",
       "       'psychedelic', 'punjabi', 'punk', 'quebecois', 'ragga', 'ram',\n",
       "       'rancheras', 'rap', 'rave', 'reggae', 'reggaeton', 'regional',\n",
       "       'relax', 'religious', 'retro', 'rhythm', 'rnb', 'rnr', 'rock',\n",
       "       'rockabilly', 'rockalternative', 'rockindie', 'rockother',\n",
       "       'romance', 'roots', 'ruspop', 'rusrap', 'rusrock', 'russian',\n",
       "       'salsa', 'samba', 'scenic', 'schlager', 'self', 'sertanejo',\n",
       "       'shanson', 'shoegazing', 'showtunes', 'singer', 'ska', 'skarock',\n",
       "       'slow', 'smooth', 'soft', 'soul', 'soulful', 'sound', 'soundtrack',\n",
       "       'southern', 'specialty', 'speech', 'spiritual', 'sport',\n",
       "       'stonerrock', 'surf', 'swing', 'synthpop', 'synthrock',\n",
       "       'sängerportrait', 'tango', 'tanzorchester', 'taraftar', 'tatar',\n",
       "       'tech', 'techno', 'teen', 'thrash', 'top', 'traditional',\n",
       "       'tradjazz', 'trance', 'tribal', 'trip', 'triphop', 'tropical',\n",
       "       'türk', 'türkçe', 'ukrrock', 'unknown', 'urban', 'uzbek',\n",
       "       'variété', 'vi', 'videogame', 'vocal', 'western', 'world',\n",
       "       'worldbeat', 'ïîï', 'электроника'], dtype=object)"
      ]
     },
     "metadata": {},
     "output_type": "display_data"
    }
   ],
   "source": [
    "# Просмотр уникальных названий жанров\n",
    "display(df['genre'].sort_values().unique())"
   ]
  },
  {
   "cell_type": "code",
   "execution_count": 15,
   "metadata": {
    "id": "ErNDkmns_Zct"
   },
   "outputs": [],
   "source": [
    "# Функция для замены неявных дубликатов\n",
    "def replace_wrong_genres(wrong_genres, correct_genre):\n",
    "    for wrong_genre in wrong_genres:\n",
    "        df['genre'] = df['genre'].replace(wrong_genre, correct_genre)"
   ]
  },
  {
   "cell_type": "code",
   "execution_count": 16,
   "metadata": {
    "id": "YN5i2hpmSo09"
   },
   "outputs": [],
   "source": [
    "# Устранение неявных дубликатов\n",
    "replace_wrong_genres(['hip-hop', 'hip', 'hop'], 'hiphop')\n",
    "replace_wrong_genres(['электроника'], 'electronic')"
   ]
  },
  {
   "cell_type": "code",
   "execution_count": 17,
   "metadata": {
    "id": "wvixALnFG15m"
   },
   "outputs": [
    {
     "data": {
      "text/plain": [
       "array(['acid', 'acoustic', 'action', 'adult', 'africa', 'afrikaans',\n",
       "       'alternative', 'alternativepunk', 'ambient', 'americana',\n",
       "       'animated', 'anime', 'arabesk', 'arabic', 'arena',\n",
       "       'argentinetango', 'art', 'audiobook', 'author', 'avantgarde',\n",
       "       'axé', 'baile', 'balkan', 'beats', 'bigroom', 'black', 'bluegrass',\n",
       "       'blues', 'bollywood', 'bossa', 'brazilian', 'breakbeat', 'breaks',\n",
       "       'broadway', 'cantautori', 'cantopop', 'canzone', 'caribbean',\n",
       "       'caucasian', 'celtic', 'chamber', 'chanson', 'children', 'chill',\n",
       "       'chinese', 'choral', 'christian', 'christmas', 'classical',\n",
       "       'classicmetal', 'club', 'colombian', 'comedy', 'conjazz',\n",
       "       'contemporary', 'country', 'cuban', 'dance', 'dancehall',\n",
       "       'dancepop', 'dark', 'death', 'deep', 'deutschrock', 'deutschspr',\n",
       "       'dirty', 'disco', 'dnb', 'documentary', 'downbeat', 'downtempo',\n",
       "       'drum', 'dub', 'dubstep', 'eastern', 'easy', 'electronic',\n",
       "       'electropop', 'emo', 'entehno', 'epicmetal', 'estrada', 'ethnic',\n",
       "       'eurofolk', 'european', 'experimental', 'extrememetal', 'fado',\n",
       "       'fairytail', 'film', 'fitness', 'flamenco', 'folk', 'folklore',\n",
       "       'folkmetal', 'folkrock', 'folktronica', 'forró', 'frankreich',\n",
       "       'französisch', 'french', 'funk', 'future', 'gangsta', 'garage',\n",
       "       'german', 'ghazal', 'gitarre', 'glitch', 'gospel', 'gothic',\n",
       "       'grime', 'grunge', 'gypsy', 'handsup', \"hard'n'heavy\", 'hardcore',\n",
       "       'hardstyle', 'hardtechno', 'hiphop', 'historisch', 'holiday',\n",
       "       'horror', 'house', 'hymn', 'idm', 'independent', 'indian', 'indie',\n",
       "       'indipop', 'industrial', 'inspirational', 'instrumental',\n",
       "       'international', 'irish', 'jam', 'japanese', 'jazz', 'jewish',\n",
       "       'jpop', 'jungle', 'k-pop', 'karadeniz', 'karaoke', 'kayokyoku',\n",
       "       'korean', 'laiko', 'latin', 'latino', 'leftfield', 'local',\n",
       "       'lounge', 'loungeelectronic', 'lovers', 'malaysian', 'mandopop',\n",
       "       'marschmusik', 'meditative', 'mediterranean', 'melodic', 'metal',\n",
       "       'metalcore', 'mexican', 'middle', 'minimal', 'miscellaneous',\n",
       "       'modern', 'mood', 'mpb', 'muslim', 'native', 'neoklassik', 'neue',\n",
       "       'new', 'newage', 'newwave', 'nu', 'nujazz', 'numetal', 'oceania',\n",
       "       'old', 'opera', 'orchestral', 'other', 'piano', 'podcasts', 'pop',\n",
       "       'popdance', 'popelectronic', 'popeurodance', 'poprussian', 'post',\n",
       "       'posthardcore', 'postrock', 'power', 'progmetal', 'progressive',\n",
       "       'psychedelic', 'punjabi', 'punk', 'quebecois', 'ragga', 'ram',\n",
       "       'rancheras', 'rap', 'rave', 'reggae', 'reggaeton', 'regional',\n",
       "       'relax', 'religious', 'retro', 'rhythm', 'rnb', 'rnr', 'rock',\n",
       "       'rockabilly', 'rockalternative', 'rockindie', 'rockother',\n",
       "       'romance', 'roots', 'ruspop', 'rusrap', 'rusrock', 'russian',\n",
       "       'salsa', 'samba', 'scenic', 'schlager', 'self', 'sertanejo',\n",
       "       'shanson', 'shoegazing', 'showtunes', 'singer', 'ska', 'skarock',\n",
       "       'slow', 'smooth', 'soft', 'soul', 'soulful', 'sound', 'soundtrack',\n",
       "       'southern', 'specialty', 'speech', 'spiritual', 'sport',\n",
       "       'stonerrock', 'surf', 'swing', 'synthpop', 'synthrock',\n",
       "       'sängerportrait', 'tango', 'tanzorchester', 'taraftar', 'tatar',\n",
       "       'tech', 'techno', 'teen', 'thrash', 'top', 'traditional',\n",
       "       'tradjazz', 'trance', 'tribal', 'trip', 'triphop', 'tropical',\n",
       "       'türk', 'türkçe', 'ukrrock', 'unknown', 'urban', 'uzbek',\n",
       "       'variété', 'vi', 'videogame', 'vocal', 'western', 'world',\n",
       "       'worldbeat', 'ïîï'], dtype=object)"
      ]
     },
     "metadata": {},
     "output_type": "display_data"
    }
   ],
   "source": [
    "# Проверка на неявные дубликаты\n",
    "display(df['genre'].sort_values().unique())"
   ]
  },
  {
   "cell_type": "markdown",
   "metadata": {
    "id": "jz6a9-7HQUDd"
   },
   "source": [
    "**Выводы**\n",
    "\n",
    "Предобработка обнаружила три проблемы в данных:\n",
    "\n",
    "- нарушения в стиле заголовков,\n",
    "- пропущенные значения,\n",
    "- дубликаты — явные и неявные.\n",
    "\n",
    "Заголовки исправлены, чтобы упростить работу с таблицей. Без дубликатов исследование станет более точным.\n",
    "\n",
    "Пропущенные значения заменены на `'unknown'`. Ещё предстоит увидеть, не повредят ли исследованию пропуски в колонке `genre`.\n",
    "\n",
    "Теперь можно перейти к проверке гипотез. "
   ]
  },
  {
   "cell_type": "markdown",
   "metadata": {
    "id": "WttZHXH0SqKk"
   },
   "source": [
    "## Проверка гипотез"
   ]
  },
  {
   "cell_type": "markdown",
   "metadata": {
    "id": "Im936VVi_Zcu"
   },
   "source": [
    "### Сравнение поведения пользователей двух столиц"
   ]
  },
  {
   "cell_type": "markdown",
   "metadata": {
    "id": "nwt_MuaL_Zcu"
   },
   "source": [
    "Первая гипотеза утверждает, что пользователи по-разному слушают музыку в Москве и Санкт-Петербурге. Проверим это предположение по данным о трёх днях недели — понедельнике, среде и пятнице. Для этого:\n",
    "\n",
    "* Разделим пользователей Москвы и Санкт-Петербурга\n",
    "* Сравним, сколько треков послушала каждая группа пользователей в понедельник, среду и пятницу.\n"
   ]
  },
  {
   "cell_type": "code",
   "execution_count": 18,
   "metadata": {
    "id": "0_Qs96oh_Zcu"
   },
   "outputs": [
    {
     "name": "stdout",
     "output_type": "stream",
     "text": [
      "city\n",
      "Moscow              42741\n",
      "Saint-Petersburg    18512\n",
      "Name: track, dtype: int64\n"
     ]
    }
   ],
   "source": [
    "# Подсчёт прослушиваний в каждом городе\n",
    "print(df.groupby('city')['track'].count())"
   ]
  },
  {
   "cell_type": "markdown",
   "metadata": {
    "id": "dzli3w8o_Zcu"
   },
   "source": [
    "В Москве прослушиваний больше, чем в Петербурге. Из этого не следует, что московские пользователи чаще слушают музыку. Просто самих пользователей в Москве больше.\n",
    "\n",
    "Однако, для подтверждения истинности данного предположения, необходимо уточнить количество пользователей, зарегистрированных в Москве и Санкт-Петербурге"
   ]
  },
  {
   "cell_type": "code",
   "execution_count": 19,
   "metadata": {
    "id": "uZMKjiJz_Zcu"
   },
   "outputs": [
    {
     "name": "stdout",
     "output_type": "stream",
     "text": [
      "day\n",
      "Friday       21840\n",
      "Monday       21354\n",
      "Wednesday    18059\n",
      "Name: track, dtype: int64\n"
     ]
    }
   ],
   "source": [
    "# Подсчёт прослушиваний в каждый из трёх дней\n",
    "print(df.groupby('day')['track'].count())"
   ]
  },
  {
   "cell_type": "markdown",
   "metadata": {
    "id": "cC2tNrlL_Zcu"
   },
   "source": [
    "В среднем пользователи из двух городов менее активны по средам. Но картина может измениться, если рассмотреть каждый город в отдельности."
   ]
  },
  {
   "cell_type": "code",
   "execution_count": 20,
   "metadata": {
    "id": "Nz3GdQB1_Zcu"
   },
   "outputs": [],
   "source": [
    "# <создание функции number_tracks()>\n",
    "# Объявляется функция с двумя параметрами: day, city.\n",
    "# В переменной track_list сохраняются те строки таблицы df, для которых \n",
    "# значение в столбце 'day' равно параметру day и одновременно значение\n",
    "# в столбце 'city' равно параметру city (используйте последовательную фильтрацию\n",
    "# с помощью логической индексации).\n",
    "# В переменной track_list_count сохраняется число значений столбца 'user_id',\n",
    "# рассчитанное методом count() для таблицы track_list.\n",
    "# Функция возвращает число - значение track_list_count.\n",
    "\n",
    "def number_tracks(day, city):\n",
    "    '''Функция для подсчёта прослушиваний для конкретного города и дня. \n",
    "    С помощью последовательной фильтрации с логической индексацией она \n",
    "    сначала получит из исходной таблицы строки с нужным днём,\n",
    "    затем из результата отфильтрует строки с нужным городом,\n",
    "    методом count() посчитает количество значений в колонке user_id. \n",
    "    Это количество функция вернёт в качестве результата'''\n",
    "    \n",
    "    track_list = df[df['city'] == city]\n",
    "    track_list = track_list[track_list['day'] == day]\n",
    "    track_list_count = track_list['user_id'].count()\n",
    "    return track_list_count"
   ]
  },
  {
   "cell_type": "code",
   "execution_count": 21,
   "metadata": {},
   "outputs": [],
   "source": [
    "number_tracks_moscow = ['Moscow']\n",
    "number_tracks_spb = ['Saint-Petersburg']"
   ]
  },
  {
   "cell_type": "code",
   "execution_count": 22,
   "metadata": {
    "id": "rJcRATNQ_Zcu"
   },
   "outputs": [
    {
     "name": "stdout",
     "output_type": "stream",
     "text": [
      "Количество прослушиваний в Москве по понедельникам: 15740\n"
     ]
    }
   ],
   "source": [
    "# количество прослушиваний в Москве по понедельникам\n",
    "number_tracks_moscow.append(number_tracks('Monday', 'Moscow'))\n",
    "print(f'Количество прослушиваний в Москве по понедельникам: {number_tracks_moscow[1]}')"
   ]
  },
  {
   "cell_type": "code",
   "execution_count": 23,
   "metadata": {
    "id": "hq_ncZ5T_Zcu"
   },
   "outputs": [
    {
     "name": "stdout",
     "output_type": "stream",
     "text": [
      "Количество прослушиваний в Санкт-Петербурге по понедельникам: 5614\n"
     ]
    }
   ],
   "source": [
    "# количество прослушиваний в Санкт-Петербурге по понедельникам\n",
    "number_tracks_spb.append(number_tracks('Monday', 'Saint-Petersburg'))\n",
    "print(f'Количество прослушиваний в Санкт-Петербурге по понедельникам: {number_tracks_spb[1]}' )"
   ]
  },
  {
   "cell_type": "code",
   "execution_count": 24,
   "metadata": {
    "id": "_NTy2VPU_Zcu"
   },
   "outputs": [
    {
     "name": "stdout",
     "output_type": "stream",
     "text": [
      "Количество прослушиваний в Москве по средам: 11056\n"
     ]
    }
   ],
   "source": [
    "# количество прослушиваний в Москве по средам\n",
    "number_tracks_moscow.append(number_tracks('Wednesday', 'Moscow'))\n",
    "print(f'Количество прослушиваний в Москве по средам: {number_tracks_moscow[2]}')"
   ]
  },
  {
   "cell_type": "code",
   "execution_count": 25,
   "metadata": {
    "id": "j2y3TAwo_Zcu"
   },
   "outputs": [
    {
     "name": "stdout",
     "output_type": "stream",
     "text": [
      "Количество прослушиваний в Санкт-Петербурге по средам: 7003\n"
     ]
    }
   ],
   "source": [
    "# количество прослушиваний в Санкт-Петербурге по средам\n",
    "number_tracks_spb.append(number_tracks('Wednesday', 'Saint-Petersburg'))\n",
    "print(f'Количество прослушиваний в Санкт-Петербурге по средам: {number_tracks_spb[2]}' )"
   ]
  },
  {
   "cell_type": "code",
   "execution_count": 26,
   "metadata": {
    "id": "vYDw5u_K_Zcu"
   },
   "outputs": [
    {
     "name": "stdout",
     "output_type": "stream",
     "text": [
      "Количество прослушиваний в Москве по пятницам: 15945\n"
     ]
    }
   ],
   "source": [
    "# количество прослушиваний в Москве по пятницам\n",
    "number_tracks_moscow.append(number_tracks('Friday', 'Moscow'))\n",
    "print(f'Количество прослушиваний в Москве по пятницам: {number_tracks_moscow[3]}')"
   ]
  },
  {
   "cell_type": "code",
   "execution_count": 27,
   "metadata": {
    "id": "8_yzFtW3_Zcu"
   },
   "outputs": [
    {
     "name": "stdout",
     "output_type": "stream",
     "text": [
      "Количество прослушиваний в Санкт-Петербурге по пятницам: 5895\n"
     ]
    }
   ],
   "source": [
    "# количество прослушиваний в Санкт-Петербурге по пятницам\n",
    "number_tracks_spb.append(number_tracks('Friday', 'Saint-Petersburg'))\n",
    "print(f'Количество прослушиваний в Санкт-Петербурге по пятницам: {number_tracks_spb[3]}' )"
   ]
  },
  {
   "cell_type": "code",
   "execution_count": 28,
   "metadata": {},
   "outputs": [
    {
     "name": "stdout",
     "output_type": "stream",
     "text": [
      "Количество прослушиваний в Moscow по Monday равно 15740\n",
      "Количество прослушиваний в Moscow по Wednesday равно 11056\n",
      "Количество прослушиваний в Moscow по Friday равно 15945\n",
      "Количество прослушиваний в Saint-Petersburg по Monday равно 5614\n",
      "Количество прослушиваний в Saint-Petersburg по Wednesday равно 7003\n",
      "Количество прослушиваний в Saint-Petersburg по Friday равно 5895\n"
     ]
    }
   ],
   "source": [
    "for weekday, city in zip(['Monday', 'Wednesday', 'Friday']*2, sorted(['Moscow', 'Saint-Petersburg']*3)):\n",
    "    print(f'Количество прослушиваний в {city} по {weekday} равно {number_tracks(weekday, city)}')"
   ]
  },
  {
   "cell_type": "code",
   "execution_count": 29,
   "metadata": {
    "id": "APAcLpOr_Zcu"
   },
   "outputs": [
    {
     "data": {
      "text/html": [
       "<div>\n",
       "<style scoped>\n",
       "    .dataframe tbody tr th:only-of-type {\n",
       "        vertical-align: middle;\n",
       "    }\n",
       "\n",
       "    .dataframe tbody tr th {\n",
       "        vertical-align: top;\n",
       "    }\n",
       "\n",
       "    .dataframe thead th {\n",
       "        text-align: right;\n",
       "    }\n",
       "</style>\n",
       "<table border=\"1\" class=\"dataframe\">\n",
       "  <thead>\n",
       "    <tr style=\"text-align: right;\">\n",
       "      <th></th>\n",
       "      <th>city</th>\n",
       "      <th>monday</th>\n",
       "      <th>wednesday</th>\n",
       "      <th>friday</th>\n",
       "    </tr>\n",
       "  </thead>\n",
       "  <tbody>\n",
       "    <tr>\n",
       "      <td>0</td>\n",
       "      <td>Moscow</td>\n",
       "      <td>15740</td>\n",
       "      <td>11056</td>\n",
       "      <td>15945</td>\n",
       "    </tr>\n",
       "    <tr>\n",
       "      <td>1</td>\n",
       "      <td>Saint-Petersburg</td>\n",
       "      <td>5614</td>\n",
       "      <td>7003</td>\n",
       "      <td>5895</td>\n",
       "    </tr>\n",
       "  </tbody>\n",
       "</table>\n",
       "</div>"
      ],
      "text/plain": [
       "               city  monday  wednesday  friday\n",
       "0            Moscow   15740      11056   15945\n",
       "1  Saint-Petersburg    5614       7003    5895"
      ]
     },
     "metadata": {},
     "output_type": "display_data"
    }
   ],
   "source": [
    "# Таблица с результатами\n",
    "first_hyp_table_columns = ['city', 'monday', 'wednesday', 'friday']\n",
    "first_hyp_table_data = [number_tracks_moscow, number_tracks_spb]\n",
    "first_hyp_table = pd.DataFrame(data=first_hyp_table_data, columns=first_hyp_table_columns)\n",
    "display(first_hyp_table)"
   ]
  },
  {
   "cell_type": "markdown",
   "metadata": {},
   "source": [
    "Дополнительно ознакомимся с данным распределением в относительных величинах:"
   ]
  },
  {
   "cell_type": "code",
   "execution_count": 30,
   "metadata": {},
   "outputs": [
    {
     "data": {
      "text/html": [
       "<div>\n",
       "<style scoped>\n",
       "    .dataframe tbody tr th:only-of-type {\n",
       "        vertical-align: middle;\n",
       "    }\n",
       "\n",
       "    .dataframe tbody tr th {\n",
       "        vertical-align: top;\n",
       "    }\n",
       "\n",
       "    .dataframe thead th {\n",
       "        text-align: right;\n",
       "    }\n",
       "</style>\n",
       "<table border=\"1\" class=\"dataframe\">\n",
       "  <thead>\n",
       "    <tr style=\"text-align: right;\">\n",
       "      <th></th>\n",
       "      <th>city</th>\n",
       "      <th>monday</th>\n",
       "      <th>wednesday</th>\n",
       "      <th>friday</th>\n",
       "    </tr>\n",
       "  </thead>\n",
       "  <tbody>\n",
       "    <tr>\n",
       "      <td>0</td>\n",
       "      <td>Moscow</td>\n",
       "      <td>36.826466</td>\n",
       "      <td>25.867434</td>\n",
       "      <td>37.306100</td>\n",
       "    </tr>\n",
       "    <tr>\n",
       "      <td>1</td>\n",
       "      <td>Saint-Petersburg</td>\n",
       "      <td>30.326275</td>\n",
       "      <td>37.829516</td>\n",
       "      <td>31.844209</td>\n",
       "    </tr>\n",
       "  </tbody>\n",
       "</table>\n",
       "</div>"
      ],
      "text/plain": [
       "               city     monday  wednesday     friday\n",
       "0            Moscow  36.826466  25.867434  37.306100\n",
       "1  Saint-Petersburg  30.326275  37.829516  31.844209"
      ]
     },
     "metadata": {},
     "output_type": "display_data"
    }
   ],
   "source": [
    "number_tracks_moscow_percent = ['Moscow']\n",
    "number_tracks_spb_percent = ['Saint-Petersburg']\n",
    "for i in range(1,len(number_tracks_moscow)):\n",
    "    number_tracks_moscow_percent.append(number_tracks_moscow[i] / sum(number_tracks_moscow[1:]) * 100)\n",
    "    number_tracks_spb_percent.append(number_tracks_spb[i] / sum(number_tracks_spb[1:]) * 100)\n",
    "first_hyp_table_data_percent = [number_tracks_moscow_percent, number_tracks_spb_percent]\n",
    "first_hyp_table_percent = pd.DataFrame(data=first_hyp_table_data_percent, columns=first_hyp_table_columns)\n",
    "display(first_hyp_table_percent)"
   ]
  },
  {
   "cell_type": "markdown",
   "metadata": {
    "id": "-EgPIHYu_Zcu"
   },
   "source": [
    "**Выводы**\n",
    "\n",
    "Данные показывают разницу поведения пользователей:\n",
    "\n",
    "- В Москве пик прослушиваний приходится на понедельник и пятницу, а в среду заметен спад.\n",
    "- В Петербурге, наоборот, больше слушают музыку по средам. Активность в понедельник и пятницу здесь почти в равной мере уступает среде.\n",
    "\n",
    "Значит, данные говорят в пользу первой гипотезы, однако, следует принимать во внимание, что разница между днями недели по обоим городам не превышает 13%"
   ]
  },
  {
   "cell_type": "markdown",
   "metadata": {
    "id": "atZAxtq4_Zcu"
   },
   "source": [
    "### Музыка в начале и в конце недели"
   ]
  },
  {
   "cell_type": "markdown",
   "metadata": {
    "id": "eXrQqXFH_Zcu"
   },
   "source": [
    "Согласно второй гипотезе, утром в понедельник в Москве преобладают одни жанры, а в Петербурге — другие. Так же и вечером пятницы преобладают разные жанры — в зависимости от города."
   ]
  },
  {
   "cell_type": "code",
   "execution_count": 31,
   "metadata": {
    "id": "qeaFfM_P_Zcu"
   },
   "outputs": [],
   "source": [
    "# получение таблицы moscow_general из тех строк таблицы df, \n",
    "# для которых значение в столбце 'city' равно 'Moscow'\n",
    "moscow_general = df[df['city'] == 'Moscow']"
   ]
  },
  {
   "cell_type": "code",
   "execution_count": 32,
   "metadata": {
    "id": "ORaVRKto_Zcu"
   },
   "outputs": [],
   "source": [
    "# получение таблицы spb_general из тех строк таблицы df,\n",
    "# для которых значение в столбце 'city' равно 'Saint-Petersburg'\n",
    "spb_general = df[df['city'] == 'Saint-Petersburg']"
   ]
  },
  {
   "cell_type": "code",
   "execution_count": 33,
   "metadata": {
    "id": "laJT9BYl_Zcu"
   },
   "outputs": [],
   "source": [
    "# Объявление функции genre_weekday() с параметрами table, day, time1, time2,\n",
    "# которая возвращает информацию о самых популярных жанрах в указанный день в\n",
    "# заданное время:\n",
    "# 1) в переменную genre_df сохраняются те строки переданного датафрейма table, для\n",
    "#    которых одновременно:\n",
    "#    - значение в столбце day равно значению аргумента day\n",
    "#    - значение в столбце time больше значения аргумента time1\n",
    "#    - значение в столбце time меньше значения аргумента time2\n",
    "#    Используйте последовательную фильтрацию с помощью логической индексации.\n",
    "# 2) сгруппировать датафрейм genre_df по столбцу genre, взять один из его\n",
    "#    столбцов и посчитать методом count() количество записей для каждого из\n",
    "#    присутствующих жанров, получившийся Series записать в переменную\n",
    "#    genre_df_count\n",
    "# 3) отсортировать genre_df_count по убыванию встречаемости и сохранить\n",
    "#    в переменную genre_df_sorted\n",
    "# 4) вернуть Series из 10 первых значений genre_df_sorted, это будут топ-10\n",
    "#    популярных жанров (в указанный день, в заданное время)\n",
    "\n",
    "def genre_weekday(table, day, time1, time2):\n",
    "    genre_df = table[table['day'] == day]\n",
    "    genre_df = genre_df[table['time'] > time1]\n",
    "    genre_df = genre_df[table['time'] < time2]\n",
    "    genre_df_count = genre_df.groupby('genre')['user_id'].count()\n",
    "    genre_df_sorted = genre_df_count.sort_values(ascending=False)\n",
    "    return genre_df_sorted[:10]"
   ]
  },
  {
   "cell_type": "markdown",
   "metadata": {
    "id": "la2s2_PF_Zcu"
   },
   "source": [
    "Сравним результаты функции `genre_weekday()` для Москвы и Санкт-Петербурга в понедельник утром (с 7:00 до 11:00) и в пятницу вечером (с 17:00 до 23:00):"
   ]
  },
  {
   "cell_type": "code",
   "execution_count": 34,
   "metadata": {
    "id": "yz7itPUQ_Zcu"
   },
   "outputs": [
    {
     "name": "stdout",
     "output_type": "stream",
     "text": [
      "Топ-10 прослушиваемых жанров в Москве с 07:00 до 11:00 понедельника:\n"
     ]
    },
    {
     "name": "stderr",
     "output_type": "stream",
     "text": [
      "/opt/conda/lib/python3.7/site-packages/ipykernel_launcher.py:21: UserWarning: Boolean Series key will be reindexed to match DataFrame index.\n",
      "/opt/conda/lib/python3.7/site-packages/ipykernel_launcher.py:22: UserWarning: Boolean Series key will be reindexed to match DataFrame index.\n"
     ]
    },
    {
     "data": {
      "text/plain": [
       "genre\n",
       "pop            781\n",
       "dance          549\n",
       "electronic     480\n",
       "rock           474\n",
       "hiphop         286\n",
       "ruspop         186\n",
       "world          181\n",
       "rusrap         175\n",
       "alternative    164\n",
       "unknown        161\n",
       "Name: user_id, dtype: int64"
      ]
     },
     "metadata": {},
     "output_type": "display_data"
    }
   ],
   "source": [
    "# вызов функции для утра понедельника в Москве (вместо df — таблица moscow_general)\n",
    "# объекты, хранящие время, являются строками и сравниваются как строки\n",
    "# пример вызова: genre_weekday(moscow_general, 'Monday', '07:00', '11:00')\n",
    "print('Топ-10 прослушиваемых жанров в Москве с 07:00 до 11:00 понедельника:')\n",
    "display(genre_weekday(moscow_general, 'Monday', '07:00', '11:00'))"
   ]
  },
  {
   "cell_type": "code",
   "execution_count": 35,
   "metadata": {
    "id": "kwUcHPdy_Zcu"
   },
   "outputs": [
    {
     "name": "stdout",
     "output_type": "stream",
     "text": [
      "Топ-10 прослушиваемых жанров в Санкт-Петербурге с 07:00 до 11:00 понедельника :\n"
     ]
    },
    {
     "name": "stderr",
     "output_type": "stream",
     "text": [
      "/opt/conda/lib/python3.7/site-packages/ipykernel_launcher.py:21: UserWarning: Boolean Series key will be reindexed to match DataFrame index.\n",
      "/opt/conda/lib/python3.7/site-packages/ipykernel_launcher.py:22: UserWarning: Boolean Series key will be reindexed to match DataFrame index.\n"
     ]
    },
    {
     "data": {
      "text/plain": [
       "genre\n",
       "pop            218\n",
       "dance          182\n",
       "rock           162\n",
       "electronic     147\n",
       "hiphop          80\n",
       "ruspop          64\n",
       "alternative     58\n",
       "rusrap          55\n",
       "jazz            44\n",
       "classical       40\n",
       "Name: user_id, dtype: int64"
      ]
     },
     "metadata": {},
     "output_type": "display_data"
    }
   ],
   "source": [
    "# вызов функции для утра понедельника в Петербурге (вместо df — таблица spb_general)\n",
    "print('Топ-10 прослушиваемых жанров в Санкт-Петербурге с 07:00 до 11:00 понедельника :')\n",
    "display(genre_weekday(spb_general, 'Monday', '07:00', '11:00'))"
   ]
  },
  {
   "cell_type": "code",
   "execution_count": 36,
   "metadata": {
    "id": "EzXVRE1o_Zcu"
   },
   "outputs": [
    {
     "name": "stdout",
     "output_type": "stream",
     "text": [
      "Топ-10 прослушиваемых жанров в Москве с 17:00 до 23:00 пятницы :\n"
     ]
    },
    {
     "name": "stderr",
     "output_type": "stream",
     "text": [
      "/opt/conda/lib/python3.7/site-packages/ipykernel_launcher.py:21: UserWarning: Boolean Series key will be reindexed to match DataFrame index.\n",
      "/opt/conda/lib/python3.7/site-packages/ipykernel_launcher.py:22: UserWarning: Boolean Series key will be reindexed to match DataFrame index.\n"
     ]
    },
    {
     "data": {
      "text/plain": [
       "genre\n",
       "pop            713\n",
       "rock           517\n",
       "dance          495\n",
       "electronic     482\n",
       "hiphop         273\n",
       "world          208\n",
       "ruspop         170\n",
       "alternative    163\n",
       "classical      163\n",
       "rusrap         142\n",
       "Name: user_id, dtype: int64"
      ]
     },
     "metadata": {},
     "output_type": "display_data"
    }
   ],
   "source": [
    "# вызов функции для вечера пятницы в Москве\n",
    "print('Топ-10 прослушиваемых жанров в Москве с 17:00 до 23:00 пятницы :')\n",
    "display(genre_weekday(moscow_general, 'Friday', '17:00', '23:00'))"
   ]
  },
  {
   "cell_type": "code",
   "execution_count": 37,
   "metadata": {
    "id": "JZaEKu5v_Zcu"
   },
   "outputs": [
    {
     "name": "stdout",
     "output_type": "stream",
     "text": [
      "Топ-10 прослушиваемых жанров в Санкт_Петербурге с 17:00 до 23:00 пятницы :\n"
     ]
    },
    {
     "name": "stderr",
     "output_type": "stream",
     "text": [
      "/opt/conda/lib/python3.7/site-packages/ipykernel_launcher.py:21: UserWarning: Boolean Series key will be reindexed to match DataFrame index.\n",
      "/opt/conda/lib/python3.7/site-packages/ipykernel_launcher.py:22: UserWarning: Boolean Series key will be reindexed to match DataFrame index.\n"
     ]
    },
    {
     "data": {
      "text/plain": [
       "genre\n",
       "pop            256\n",
       "rock           216\n",
       "electronic     216\n",
       "dance          210\n",
       "hiphop          97\n",
       "alternative     63\n",
       "jazz            61\n",
       "classical       60\n",
       "rusrap          59\n",
       "world           54\n",
       "Name: user_id, dtype: int64"
      ]
     },
     "metadata": {},
     "output_type": "display_data"
    }
   ],
   "source": [
    "# вызов функции для вечера пятницы в Петербурге\n",
    "print('Топ-10 прослушиваемых жанров в Санкт_Петербурге с 17:00 до 23:00 пятницы :')\n",
    "display(genre_weekday(spb_general, 'Friday', '17:00', '23:00'))"
   ]
  },
  {
   "cell_type": "markdown",
   "metadata": {
    "id": "wrCe4MNX_Zcu"
   },
   "source": [
    "**Выводы**\n",
    "\n",
    "Если сравнить топ-10 жанров в понедельник утром, можно сделать такие выводы:\n",
    "\n",
    "1. В Москве и Петербурге слушают похожую музыку. Единственное отличие — в московский рейтинг вошёл жанр “world”, а в петербургский — джаз и классика.\n",
    "\n",
    "2. В Москве пропущенных значений оказалось так много, что значение `'unknown'` заняло десятое место среди самых популярных жанров. Значит, пропущенные значения занимают существенную долю в данных и угрожают достоверности исследования.\n",
    "\n",
    "Вечер пятницы не меняет эту картину. Некоторые жанры поднимаются немного выше, другие спускаются, но в целом топ-10 остаётся тем же самым.\n",
    "\n",
    "Таким образом, вторая гипотеза подтвердилась лишь частично:\n",
    "* Пользователи слушают похожую музыку в начале недели и в конце.\n",
    "* Разница между Москвой и Петербургом не слишком выражена. В Москве чаще слушают русскую популярную музыку, в Петербурге — джаз.\n",
    "\n",
    "Однако пропуски в данных ставят под сомнение этот результат. В Москве их так много, что рейтинг топ-10 мог бы выглядеть иначе, если бы не утерянные  данные о жанрах."
   ]
  },
  {
   "cell_type": "markdown",
   "metadata": {
    "id": "JolODAqr_Zcu"
   },
   "source": [
    "### Жанровые предпочтения в Москве и Петербурге\n",
    "\n",
    "Гипотеза: Петербург — столица рэпа, музыку этого жанра там слушают чаще, чем в Москве.  А Москва — город контрастов, в котором, тем не менее, преобладает поп-музыка."
   ]
  },
  {
   "cell_type": "code",
   "execution_count": 38,
   "metadata": {
    "id": "r19lIPke_Zcu"
   },
   "outputs": [],
   "source": [
    "# одной строкой: группировка таблицы moscow_general по столбцу 'genre', \n",
    "# подсчёт числа значений 'genre' в этой группировке методом count(), \n",
    "# сортировка получившегося Series в порядке убывания и сохранение в moscow_genres\n",
    "moscow_genres = moscow_general.groupby('genre')['user_id'].count().sort_values(ascending=False)"
   ]
  },
  {
   "cell_type": "code",
   "execution_count": 39,
   "metadata": {
    "id": "WhCSooF8_Zcv"
   },
   "outputs": [
    {
     "data": {
      "text/html": [
       "<div>\n",
       "<style scoped>\n",
       "    .dataframe tbody tr th:only-of-type {\n",
       "        vertical-align: middle;\n",
       "    }\n",
       "\n",
       "    .dataframe tbody tr th {\n",
       "        vertical-align: top;\n",
       "    }\n",
       "\n",
       "    .dataframe thead th {\n",
       "        text-align: right;\n",
       "    }\n",
       "</style>\n",
       "<table border=\"1\" class=\"dataframe\">\n",
       "  <thead>\n",
       "    <tr style=\"text-align: right;\">\n",
       "      <th></th>\n",
       "      <th>user_id</th>\n",
       "    </tr>\n",
       "    <tr>\n",
       "      <th>genre</th>\n",
       "      <th></th>\n",
       "    </tr>\n",
       "  </thead>\n",
       "  <tbody>\n",
       "    <tr>\n",
       "      <td>pop</td>\n",
       "      <td>5892</td>\n",
       "    </tr>\n",
       "    <tr>\n",
       "      <td>dance</td>\n",
       "      <td>4435</td>\n",
       "    </tr>\n",
       "    <tr>\n",
       "      <td>rock</td>\n",
       "      <td>3965</td>\n",
       "    </tr>\n",
       "    <tr>\n",
       "      <td>electronic</td>\n",
       "      <td>3786</td>\n",
       "    </tr>\n",
       "    <tr>\n",
       "      <td>hiphop</td>\n",
       "      <td>2096</td>\n",
       "    </tr>\n",
       "    <tr>\n",
       "      <td>classical</td>\n",
       "      <td>1616</td>\n",
       "    </tr>\n",
       "    <tr>\n",
       "      <td>world</td>\n",
       "      <td>1432</td>\n",
       "    </tr>\n",
       "    <tr>\n",
       "      <td>alternative</td>\n",
       "      <td>1379</td>\n",
       "    </tr>\n",
       "    <tr>\n",
       "      <td>ruspop</td>\n",
       "      <td>1372</td>\n",
       "    </tr>\n",
       "    <tr>\n",
       "      <td>rusrap</td>\n",
       "      <td>1161</td>\n",
       "    </tr>\n",
       "  </tbody>\n",
       "</table>\n",
       "</div>"
      ],
      "text/plain": [
       "             user_id\n",
       "genre               \n",
       "pop             5892\n",
       "dance           4435\n",
       "rock            3965\n",
       "electronic      3786\n",
       "hiphop          2096\n",
       "classical       1616\n",
       "world           1432\n",
       "alternative     1379\n",
       "ruspop          1372\n",
       "rusrap          1161"
      ]
     },
     "metadata": {},
     "output_type": "display_data"
    }
   ],
   "source": [
    "# просмотр первых 10 строк moscow_genres\n",
    "display(moscow_genres.to_frame().head(10))"
   ]
  },
  {
   "cell_type": "code",
   "execution_count": 40,
   "metadata": {
    "id": "gluLIpE7_Zcv"
   },
   "outputs": [],
   "source": [
    "spb_genres = spb_general.groupby('genre')['user_id'].count().sort_values(ascending=False)"
   ]
  },
  {
   "cell_type": "code",
   "execution_count": 41,
   "metadata": {
    "id": "uaGJHjVU_Zcv"
   },
   "outputs": [
    {
     "data": {
      "text/plain": [
       "genre\n",
       "pop            2431\n",
       "dance          1932\n",
       "rock           1879\n",
       "electronic     1737\n",
       "hiphop          960\n",
       "alternative     649\n",
       "classical       646\n",
       "rusrap          564\n",
       "ruspop          538\n",
       "world           515\n",
       "Name: user_id, dtype: int64"
      ]
     },
     "metadata": {},
     "output_type": "display_data"
    }
   ],
   "source": [
    "# просмотр первых 10 строк spb_genres\n",
    "display(spb_genres.head(10))"
   ]
  },
  {
   "cell_type": "markdown",
   "metadata": {
    "id": "RY51YJYu_Zcv"
   },
   "source": [
    "**Выводы**"
   ]
  },
  {
   "cell_type": "markdown",
   "metadata": {
    "id": "nVhnJEm__Zcv"
   },
   "source": [
    "Гипотеза частично подтвердилась:\n",
    "* Поп-музыка — самый популярный жанр в Москве, как и предполагала гипотеза. Более того, в топ-10 жанров встречается близкий жанр — русская популярная музыка.\n",
    "* Вопреки ожиданиям, рэп одинаково популярен в Москве и Петербурге. \n"
   ]
  },
  {
   "cell_type": "markdown",
   "metadata": {
    "id": "ykKQ0N65_Zcv"
   },
   "source": [
    "## Итоги исследования"
   ]
  },
  {
   "cell_type": "markdown",
   "metadata": {
    "id": "tjUwbHb3_Zcv"
   },
   "source": [
    "Проверено три предположения и установлено:\n",
    "\n",
    "1. День недели по-разному влияет на активность пользователей в Москве и Петербурге, **add** однако, активность в пределах одного города в зависимости от дня недели изменяется не более чем на 13% \n",
    "\n",
    "Первая гипотеза полностью подтвердилась.\n",
    "\n",
    "2. Музыкальные предпочтения не сильно меняются в течение недели — будь то Москва или Петербург. Небольшие различия заметны в начале недели, по понедельникам:\n",
    "* в Москве слушают музыку жанра “world”,\n",
    "* в Петербурге — джаз и классику.\n",
    "\n",
    "Таким образом, вторая гипотеза подтвердилась лишь отчасти. Этот результат мог оказаться иным, если бы не пропуски в данных.\n",
    "\n",
    "3. Во вкусах пользователей Москвы и Петербурга больше общего чем различий. Вопреки ожиданиям, предпочтения жанров в Петербурге напоминают московские.\n",
    "\n",
    "Третья гипотеза не подтвердилась. Если различия в предпочтениях и существуют, на основной массе пользователей они незаметны.\n",
    "\n",
    "**На практике исследования содержат проверки статистических гипотез.**\n",
    "Из данных одного сервиса не всегда можно сделать вывод о всех жителях города.\n",
    "Проверки статистических гипотез покажут, насколько они достоверны, исходя из имеющихся данных."
   ]
  }
 ],
 "metadata": {
  "ExecuteTimeLog": [
   {
    "duration": 834,
    "start_time": "2021-09-14T06:27:18.124Z"
   },
   {
    "duration": 196,
    "start_time": "2021-09-14T06:28:00.619Z"
   },
   {
    "duration": 762,
    "start_time": "2021-09-14T06:28:29.187Z"
   },
   {
    "duration": 216,
    "start_time": "2021-09-14T06:28:35.635Z"
   },
   {
    "duration": 25,
    "start_time": "2021-09-14T06:28:57.130Z"
   },
   {
    "duration": 16,
    "start_time": "2021-09-14T06:29:00.886Z"
   },
   {
    "duration": 42,
    "start_time": "2021-09-14T06:29:47.472Z"
   },
   {
    "duration": 416,
    "start_time": "2021-09-14T08:45:43.713Z"
   },
   {
    "duration": 727,
    "start_time": "2021-09-14T08:45:52.881Z"
   },
   {
    "duration": 172,
    "start_time": "2021-09-14T08:45:53.611Z"
   },
   {
    "duration": 27,
    "start_time": "2021-09-14T08:45:53.786Z"
   },
   {
    "duration": 56,
    "start_time": "2021-09-14T08:45:53.816Z"
   },
   {
    "duration": 6,
    "start_time": "2021-09-14T08:45:56.314Z"
   },
   {
    "duration": 28,
    "start_time": "2021-09-14T08:48:19.266Z"
   },
   {
    "duration": 6,
    "start_time": "2021-09-14T08:48:32.347Z"
   },
   {
    "duration": 30,
    "start_time": "2021-09-14T08:51:02.883Z"
   },
   {
    "duration": 31,
    "start_time": "2021-09-14T08:51:07.958Z"
   },
   {
    "duration": 30,
    "start_time": "2021-09-14T08:51:15.081Z"
   },
   {
    "duration": 30,
    "start_time": "2021-09-14T08:51:47.442Z"
   },
   {
    "duration": 29,
    "start_time": "2021-09-14T08:52:05.829Z"
   },
   {
    "duration": 4,
    "start_time": "2021-09-14T08:53:55.391Z"
   },
   {
    "duration": 31,
    "start_time": "2021-09-14T08:54:04.586Z"
   },
   {
    "duration": 33,
    "start_time": "2021-09-14T08:54:09.336Z"
   },
   {
    "duration": 33,
    "start_time": "2021-09-14T08:54:12.439Z"
   },
   {
    "duration": 27,
    "start_time": "2021-09-14T08:57:17.141Z"
   },
   {
    "duration": 30,
    "start_time": "2021-09-14T08:57:47.227Z"
   },
   {
    "duration": 412,
    "start_time": "2021-09-14T08:58:24.305Z"
   },
   {
    "duration": 83,
    "start_time": "2021-09-14T08:58:45.802Z"
   },
   {
    "duration": 81,
    "start_time": "2021-09-14T08:58:53.197Z"
   },
   {
    "duration": 97,
    "start_time": "2021-09-14T09:00:29.479Z"
   },
   {
    "duration": 80,
    "start_time": "2021-09-14T09:00:57.119Z"
   },
   {
    "duration": 58,
    "start_time": "2021-09-14T09:02:45.006Z"
   },
   {
    "duration": 4,
    "start_time": "2021-09-14T09:12:09.054Z"
   },
   {
    "duration": 15,
    "start_time": "2021-09-14T09:22:12.772Z"
   },
   {
    "duration": 57,
    "start_time": "2021-09-14T09:22:38.376Z"
   },
   {
    "duration": 18,
    "start_time": "2021-09-14T09:23:46.269Z"
   },
   {
    "duration": 57,
    "start_time": "2021-09-14T09:23:48.103Z"
   },
   {
    "duration": 5,
    "start_time": "2021-09-14T09:39:05.282Z"
   },
   {
    "duration": 40,
    "start_time": "2021-09-14T09:39:09.356Z"
   },
   {
    "duration": 14,
    "start_time": "2021-09-14T09:39:23.929Z"
   },
   {
    "duration": 16,
    "start_time": "2021-09-14T09:39:29.499Z"
   },
   {
    "duration": 15,
    "start_time": "2021-09-14T09:39:35.327Z"
   },
   {
    "duration": 42,
    "start_time": "2021-09-14T09:42:29.879Z"
   },
   {
    "duration": 21,
    "start_time": "2021-09-14T09:43:03.909Z"
   },
   {
    "duration": 43,
    "start_time": "2021-09-14T09:50:25.905Z"
   },
   {
    "duration": 27,
    "start_time": "2021-09-14T09:51:43.209Z"
   },
   {
    "duration": 5,
    "start_time": "2021-09-14T09:51:50.596Z"
   },
   {
    "duration": 24,
    "start_time": "2021-09-14T09:55:50.820Z"
   },
   {
    "duration": 3,
    "start_time": "2021-09-14T09:55:55.555Z"
   },
   {
    "duration": 4,
    "start_time": "2021-09-14T09:57:34.479Z"
   },
   {
    "duration": 297,
    "start_time": "2021-09-14T09:57:34.487Z"
   },
   {
    "duration": 23,
    "start_time": "2021-09-14T09:57:34.789Z"
   },
   {
    "duration": 78,
    "start_time": "2021-09-14T09:57:34.815Z"
   },
   {
    "duration": 7,
    "start_time": "2021-09-14T09:57:34.896Z"
   },
   {
    "duration": 30,
    "start_time": "2021-09-14T09:57:34.906Z"
   },
   {
    "duration": 6,
    "start_time": "2021-09-14T09:57:34.955Z"
   },
   {
    "duration": 46,
    "start_time": "2021-09-14T09:57:34.964Z"
   },
   {
    "duration": 42,
    "start_time": "2021-09-14T09:57:35.014Z"
   },
   {
    "duration": 29,
    "start_time": "2021-09-14T09:57:35.058Z"
   },
   {
    "duration": 98,
    "start_time": "2021-09-14T09:57:35.089Z"
   },
   {
    "duration": 101,
    "start_time": "2021-09-14T09:57:35.190Z"
   },
   {
    "duration": 83,
    "start_time": "2021-09-14T09:57:35.293Z"
   },
   {
    "duration": 59,
    "start_time": "2021-09-14T09:57:35.378Z"
   },
   {
    "duration": 4,
    "start_time": "2021-09-14T09:57:35.455Z"
   },
   {
    "duration": 28,
    "start_time": "2021-09-14T09:57:35.462Z"
   },
   {
    "duration": 67,
    "start_time": "2021-09-14T09:57:35.493Z"
   },
   {
    "duration": 14,
    "start_time": "2021-09-14T09:57:35.562Z"
   },
   {
    "duration": 28,
    "start_time": "2021-09-14T09:57:35.578Z"
   },
   {
    "duration": 6,
    "start_time": "2021-09-14T09:57:35.608Z"
   },
   {
    "duration": 47,
    "start_time": "2021-09-14T09:57:35.616Z"
   },
   {
    "duration": 16,
    "start_time": "2021-09-14T09:57:35.666Z"
   },
   {
    "duration": 26,
    "start_time": "2021-09-14T09:57:35.686Z"
   },
   {
    "duration": 16,
    "start_time": "2021-09-14T09:57:35.715Z"
   },
   {
    "duration": 46,
    "start_time": "2021-09-14T09:57:35.734Z"
   },
   {
    "duration": 15,
    "start_time": "2021-09-14T09:57:35.783Z"
   },
   {
    "duration": 2169,
    "start_time": "2021-09-14T09:59:24.913Z"
   },
   {
    "duration": 131,
    "start_time": "2021-09-14T10:09:14.565Z"
   },
   {
    "duration": 4,
    "start_time": "2021-09-14T10:09:52.821Z"
   },
   {
    "duration": 110,
    "start_time": "2021-09-14T10:10:13.124Z"
   },
   {
    "duration": 27,
    "start_time": "2021-09-14T10:10:23.164Z"
   },
   {
    "duration": 32,
    "start_time": "2021-09-14T10:10:46.754Z"
   },
   {
    "duration": 118,
    "start_time": "2021-09-14T10:10:57.474Z"
   },
   {
    "duration": 31,
    "start_time": "2021-09-14T10:11:29.929Z"
   },
   {
    "duration": 18,
    "start_time": "2021-09-14T10:13:05.425Z"
   },
   {
    "duration": 5,
    "start_time": "2021-09-14T10:13:10.701Z"
   },
   {
    "duration": 210,
    "start_time": "2021-09-14T10:13:10.709Z"
   },
   {
    "duration": 16,
    "start_time": "2021-09-14T10:13:10.921Z"
   },
   {
    "duration": 45,
    "start_time": "2021-09-14T10:13:10.939Z"
   },
   {
    "duration": 5,
    "start_time": "2021-09-14T10:13:10.987Z"
   },
   {
    "duration": 24,
    "start_time": "2021-09-14T10:13:10.994Z"
   },
   {
    "duration": 39,
    "start_time": "2021-09-14T10:13:11.021Z"
   },
   {
    "duration": 45,
    "start_time": "2021-09-14T10:13:11.064Z"
   },
   {
    "duration": 22,
    "start_time": "2021-09-14T10:13:11.113Z"
   },
   {
    "duration": 47,
    "start_time": "2021-09-14T10:13:11.138Z"
   },
   {
    "duration": 97,
    "start_time": "2021-09-14T10:13:11.187Z"
   },
   {
    "duration": 98,
    "start_time": "2021-09-14T10:13:11.286Z"
   },
   {
    "duration": 81,
    "start_time": "2021-09-14T10:13:11.387Z"
   },
   {
    "duration": 60,
    "start_time": "2021-09-14T10:13:11.470Z"
   },
   {
    "duration": 26,
    "start_time": "2021-09-14T10:13:11.532Z"
   },
   {
    "duration": 20,
    "start_time": "2021-09-14T10:13:11.560Z"
   },
   {
    "duration": 79,
    "start_time": "2021-09-14T10:13:11.582Z"
   },
   {
    "duration": 17,
    "start_time": "2021-09-14T10:13:11.664Z"
   },
   {
    "duration": 17,
    "start_time": "2021-09-14T10:13:11.684Z"
   },
   {
    "duration": 4,
    "start_time": "2021-09-14T10:13:11.703Z"
   },
   {
    "duration": 51,
    "start_time": "2021-09-14T10:13:11.710Z"
   },
   {
    "duration": 18,
    "start_time": "2021-09-14T10:13:11.763Z"
   },
   {
    "duration": 24,
    "start_time": "2021-09-14T10:13:11.785Z"
   },
   {
    "duration": 52,
    "start_time": "2021-09-14T10:13:11.811Z"
   },
   {
    "duration": 27,
    "start_time": "2021-09-14T10:13:11.866Z"
   },
   {
    "duration": 16,
    "start_time": "2021-09-14T10:13:11.896Z"
   },
   {
    "duration": 4,
    "start_time": "2021-09-14T10:15:52.433Z"
   },
   {
    "duration": 6,
    "start_time": "2021-09-14T10:16:27.702Z"
   },
   {
    "duration": 12,
    "start_time": "2021-09-14T10:16:38.534Z"
   },
   {
    "duration": 355,
    "start_time": "2021-09-14T10:26:30.287Z"
   },
   {
    "duration": 4,
    "start_time": "2021-09-14T10:26:35.140Z"
   },
   {
    "duration": 42,
    "start_time": "2021-09-14T10:26:35.146Z"
   },
   {
    "duration": 26,
    "start_time": "2021-09-14T10:27:25.387Z"
   },
   {
    "duration": 27,
    "start_time": "2021-09-14T10:27:44.322Z"
   },
   {
    "duration": 3,
    "start_time": "2021-09-14T10:29:17.609Z"
   },
   {
    "duration": 217,
    "start_time": "2021-09-14T10:29:17.614Z"
   },
   {
    "duration": 22,
    "start_time": "2021-09-14T10:29:17.834Z"
   },
   {
    "duration": 39,
    "start_time": "2021-09-14T10:29:17.860Z"
   },
   {
    "duration": 7,
    "start_time": "2021-09-14T10:29:17.901Z"
   },
   {
    "duration": 58,
    "start_time": "2021-09-14T10:29:17.910Z"
   },
   {
    "duration": 5,
    "start_time": "2021-09-14T10:29:17.970Z"
   },
   {
    "duration": 31,
    "start_time": "2021-09-14T10:29:17.979Z"
   },
   {
    "duration": 50,
    "start_time": "2021-09-14T10:29:18.014Z"
   },
   {
    "duration": 32,
    "start_time": "2021-09-14T10:29:18.067Z"
   },
   {
    "duration": 104,
    "start_time": "2021-09-14T10:29:18.101Z"
   },
   {
    "duration": 101,
    "start_time": "2021-09-14T10:29:18.208Z"
   },
   {
    "duration": 91,
    "start_time": "2021-09-14T10:29:18.311Z"
   },
   {
    "duration": 65,
    "start_time": "2021-09-14T10:29:18.404Z"
   },
   {
    "duration": 4,
    "start_time": "2021-09-14T10:29:18.471Z"
   },
   {
    "duration": 20,
    "start_time": "2021-09-14T10:29:18.477Z"
   },
   {
    "duration": 86,
    "start_time": "2021-09-14T10:29:18.499Z"
   },
   {
    "duration": 14,
    "start_time": "2021-09-14T10:29:18.588Z"
   },
   {
    "duration": 15,
    "start_time": "2021-09-14T10:29:18.605Z"
   },
   {
    "duration": 35,
    "start_time": "2021-09-14T10:29:18.623Z"
   },
   {
    "duration": 18,
    "start_time": "2021-09-14T10:29:18.660Z"
   },
   {
    "duration": 33,
    "start_time": "2021-09-14T10:29:18.680Z"
   },
   {
    "duration": 17,
    "start_time": "2021-09-14T10:29:18.717Z"
   },
   {
    "duration": 46,
    "start_time": "2021-09-14T10:29:18.737Z"
   },
   {
    "duration": 18,
    "start_time": "2021-09-14T10:29:18.785Z"
   },
   {
    "duration": 57,
    "start_time": "2021-09-14T10:29:18.806Z"
   },
   {
    "duration": 22,
    "start_time": "2021-09-14T10:29:18.865Z"
   },
   {
    "duration": 369,
    "start_time": "2021-09-14T10:30:45.651Z"
   },
   {
    "duration": 14,
    "start_time": "2021-09-14T10:32:35.077Z"
   },
   {
    "duration": 14,
    "start_time": "2021-09-14T10:32:44.690Z"
   },
   {
    "duration": 158,
    "start_time": "2021-09-14T10:33:17.957Z"
   },
   {
    "duration": 3,
    "start_time": "2021-09-14T10:34:14.257Z"
   },
   {
    "duration": 229,
    "start_time": "2021-09-14T10:34:14.263Z"
   },
   {
    "duration": 15,
    "start_time": "2021-09-14T10:34:14.495Z"
   },
   {
    "duration": 53,
    "start_time": "2021-09-14T10:34:14.513Z"
   },
   {
    "duration": 6,
    "start_time": "2021-09-14T10:34:14.569Z"
   },
   {
    "duration": 35,
    "start_time": "2021-09-14T10:34:14.578Z"
   },
   {
    "duration": 8,
    "start_time": "2021-09-14T10:34:14.616Z"
   },
   {
    "duration": 54,
    "start_time": "2021-09-14T10:34:14.630Z"
   },
   {
    "duration": 34,
    "start_time": "2021-09-14T10:34:14.687Z"
   },
   {
    "duration": 33,
    "start_time": "2021-09-14T10:34:14.723Z"
   },
   {
    "duration": 99,
    "start_time": "2021-09-14T10:34:14.765Z"
   },
   {
    "duration": 105,
    "start_time": "2021-09-14T10:34:14.867Z"
   },
   {
    "duration": 95,
    "start_time": "2021-09-14T10:34:14.975Z"
   },
   {
    "duration": 60,
    "start_time": "2021-09-14T10:34:15.072Z"
   },
   {
    "duration": 21,
    "start_time": "2021-09-14T10:34:15.135Z"
   },
   {
    "duration": 21,
    "start_time": "2021-09-14T10:34:15.159Z"
   },
   {
    "duration": 93,
    "start_time": "2021-09-14T10:34:15.183Z"
   },
   {
    "duration": 14,
    "start_time": "2021-09-14T10:34:15.278Z"
   },
   {
    "duration": 15,
    "start_time": "2021-09-14T10:34:15.294Z"
   },
   {
    "duration": 6,
    "start_time": "2021-09-14T10:34:15.313Z"
   },
   {
    "duration": 64,
    "start_time": "2021-09-14T10:34:15.322Z"
   },
   {
    "duration": 30,
    "start_time": "2021-09-14T10:34:15.388Z"
   },
   {
    "duration": 16,
    "start_time": "2021-09-14T10:34:15.422Z"
   },
   {
    "duration": 32,
    "start_time": "2021-09-14T10:34:15.441Z"
   },
   {
    "duration": 17,
    "start_time": "2021-09-14T10:34:15.475Z"
   },
   {
    "duration": 27,
    "start_time": "2021-09-14T10:34:15.494Z"
   },
   {
    "duration": 46,
    "start_time": "2021-09-14T10:34:15.524Z"
   },
   {
    "duration": 11,
    "start_time": "2021-09-14T10:34:44.438Z"
   },
   {
    "duration": 5,
    "start_time": "2021-09-14T10:40:18.662Z"
   },
   {
    "duration": 7,
    "start_time": "2021-09-14T10:44:37.819Z"
   },
   {
    "duration": 13,
    "start_time": "2021-09-14T10:45:27.895Z"
   },
   {
    "duration": 14,
    "start_time": "2021-09-14T10:45:34.486Z"
   },
   {
    "duration": 140,
    "start_time": "2021-09-14T10:56:07.609Z"
   },
   {
    "duration": 16,
    "start_time": "2021-09-14T10:56:15.769Z"
   },
   {
    "duration": 11,
    "start_time": "2021-09-14T10:56:39.877Z"
   },
   {
    "duration": 15,
    "start_time": "2021-09-14T10:58:13.392Z"
   },
   {
    "duration": 4,
    "start_time": "2021-09-14T11:25:26.150Z"
   },
   {
    "duration": 7,
    "start_time": "2021-09-14T11:26:45.951Z"
   },
   {
    "duration": 7,
    "start_time": "2021-09-14T11:36:21.475Z"
   },
   {
    "duration": 51,
    "start_time": "2021-09-14T11:37:28.265Z"
   },
   {
    "duration": 55,
    "start_time": "2021-09-14T11:38:05.087Z"
   },
   {
    "duration": 56,
    "start_time": "2021-09-14T11:38:14.268Z"
   },
   {
    "duration": 57,
    "start_time": "2021-09-14T11:39:26.741Z"
   },
   {
    "duration": 8,
    "start_time": "2021-09-14T11:41:19.364Z"
   },
   {
    "duration": 36,
    "start_time": "2021-09-14T11:43:22.674Z"
   },
   {
    "duration": 3,
    "start_time": "2021-09-14T11:44:19.023Z"
   },
   {
    "duration": 226,
    "start_time": "2021-09-14T11:44:19.028Z"
   },
   {
    "duration": 19,
    "start_time": "2021-09-14T11:44:19.257Z"
   },
   {
    "duration": 42,
    "start_time": "2021-09-14T11:44:19.278Z"
   },
   {
    "duration": 15,
    "start_time": "2021-09-14T11:44:19.322Z"
   },
   {
    "duration": 39,
    "start_time": "2021-09-14T11:44:19.340Z"
   },
   {
    "duration": 5,
    "start_time": "2021-09-14T11:44:19.382Z"
   },
   {
    "duration": 37,
    "start_time": "2021-09-14T11:44:19.391Z"
   },
   {
    "duration": 45,
    "start_time": "2021-09-14T11:44:19.431Z"
   },
   {
    "duration": 30,
    "start_time": "2021-09-14T11:44:19.479Z"
   },
   {
    "duration": 117,
    "start_time": "2021-09-14T11:44:19.512Z"
   },
   {
    "duration": 108,
    "start_time": "2021-09-14T11:44:19.631Z"
   },
   {
    "duration": 89,
    "start_time": "2021-09-14T11:44:19.742Z"
   },
   {
    "duration": 74,
    "start_time": "2021-09-14T11:44:19.833Z"
   },
   {
    "duration": 3,
    "start_time": "2021-09-14T11:44:19.910Z"
   },
   {
    "duration": 42,
    "start_time": "2021-09-14T11:44:19.915Z"
   },
   {
    "duration": 62,
    "start_time": "2021-09-14T11:44:19.960Z"
   },
   {
    "duration": 31,
    "start_time": "2021-09-14T11:44:20.025Z"
   },
   {
    "duration": 19,
    "start_time": "2021-09-14T11:44:20.058Z"
   },
   {
    "duration": 5,
    "start_time": "2021-09-14T11:44:20.079Z"
   },
   {
    "duration": 16,
    "start_time": "2021-09-14T11:44:20.087Z"
   },
   {
    "duration": 54,
    "start_time": "2021-09-14T11:44:20.106Z"
   },
   {
    "duration": 24,
    "start_time": "2021-09-14T11:44:20.167Z"
   },
   {
    "duration": 25,
    "start_time": "2021-09-14T11:44:20.194Z"
   },
   {
    "duration": 51,
    "start_time": "2021-09-14T11:44:20.222Z"
   },
   {
    "duration": 30,
    "start_time": "2021-09-14T11:44:20.276Z"
   },
   {
    "duration": 57,
    "start_time": "2021-09-14T11:44:20.309Z"
   },
   {
    "duration": 12,
    "start_time": "2021-09-14T11:44:20.369Z"
   },
   {
    "duration": 17,
    "start_time": "2021-09-14T11:44:20.384Z"
   },
   {
    "duration": 24,
    "start_time": "2021-09-14T11:44:20.404Z"
   },
   {
    "duration": 21,
    "start_time": "2021-09-14T11:44:20.455Z"
   },
   {
    "duration": 5,
    "start_time": "2021-09-14T11:44:20.479Z"
   },
   {
    "duration": 44,
    "start_time": "2021-09-14T11:44:20.487Z"
   },
   {
    "duration": 50,
    "start_time": "2021-09-14T11:44:20.533Z"
   },
   {
    "duration": 42,
    "start_time": "2021-09-14T11:44:20.585Z"
   },
   {
    "duration": 411,
    "start_time": "2021-09-14T11:44:20.629Z"
   },
   {
    "duration": 37,
    "start_time": "2021-09-14T11:45:02.899Z"
   },
   {
    "duration": 43,
    "start_time": "2021-09-14T11:45:07.040Z"
   },
   {
    "duration": 40,
    "start_time": "2021-09-14T11:45:49.240Z"
   },
   {
    "duration": 26,
    "start_time": "2021-09-14T11:45:50.254Z"
   },
   {
    "duration": 47,
    "start_time": "2021-09-14T11:46:19.750Z"
   },
   {
    "duration": 4,
    "start_time": "2021-09-14T11:47:27.176Z"
   },
   {
    "duration": 296,
    "start_time": "2021-09-14T11:47:27.183Z"
   },
   {
    "duration": 37,
    "start_time": "2021-09-14T11:47:27.484Z"
   },
   {
    "duration": 59,
    "start_time": "2021-09-14T11:47:27.523Z"
   },
   {
    "duration": 19,
    "start_time": "2021-09-14T11:47:27.585Z"
   },
   {
    "duration": 50,
    "start_time": "2021-09-14T11:47:27.606Z"
   },
   {
    "duration": 21,
    "start_time": "2021-09-14T11:47:27.658Z"
   },
   {
    "duration": 54,
    "start_time": "2021-09-14T11:47:27.681Z"
   },
   {
    "duration": 40,
    "start_time": "2021-09-14T11:47:27.739Z"
   },
   {
    "duration": 53,
    "start_time": "2021-09-14T11:47:27.782Z"
   },
   {
    "duration": 91,
    "start_time": "2021-09-14T11:47:27.837Z"
   },
   {
    "duration": 97,
    "start_time": "2021-09-14T11:47:27.930Z"
   },
   {
    "duration": 84,
    "start_time": "2021-09-14T11:47:28.030Z"
   },
   {
    "duration": 66,
    "start_time": "2021-09-14T11:47:28.116Z"
   },
   {
    "duration": 13,
    "start_time": "2021-09-14T11:47:28.184Z"
   },
   {
    "duration": 37,
    "start_time": "2021-09-14T11:47:28.200Z"
   },
   {
    "duration": 82,
    "start_time": "2021-09-14T11:47:28.240Z"
   },
   {
    "duration": 21,
    "start_time": "2021-09-14T11:47:28.324Z"
   },
   {
    "duration": 38,
    "start_time": "2021-09-14T11:47:28.347Z"
   },
   {
    "duration": 28,
    "start_time": "2021-09-14T11:47:28.387Z"
   },
   {
    "duration": 41,
    "start_time": "2021-09-14T11:47:28.419Z"
   },
   {
    "duration": 63,
    "start_time": "2021-09-14T11:47:28.463Z"
   },
   {
    "duration": 27,
    "start_time": "2021-09-14T11:47:28.529Z"
   },
   {
    "duration": 47,
    "start_time": "2021-09-14T11:47:28.559Z"
   },
   {
    "duration": 29,
    "start_time": "2021-09-14T11:47:28.610Z"
   },
   {
    "duration": 39,
    "start_time": "2021-09-14T11:47:28.642Z"
   },
   {
    "duration": 17,
    "start_time": "2021-09-14T11:47:28.687Z"
   },
   {
    "duration": 24,
    "start_time": "2021-09-14T11:47:28.707Z"
   },
   {
    "duration": 35,
    "start_time": "2021-09-14T11:47:28.755Z"
   },
   {
    "duration": 41,
    "start_time": "2021-09-14T11:47:28.792Z"
   },
   {
    "duration": 29,
    "start_time": "2021-09-14T11:47:28.836Z"
   },
   {
    "duration": 24,
    "start_time": "2021-09-14T11:47:28.867Z"
   },
   {
    "duration": 79,
    "start_time": "2021-09-14T11:47:28.893Z"
   },
   {
    "duration": 26,
    "start_time": "2021-09-14T11:47:28.974Z"
   },
   {
    "duration": 58,
    "start_time": "2021-09-14T11:47:29.002Z"
   },
   {
    "duration": 27,
    "start_time": "2021-09-14T11:47:29.062Z"
   },
   {
    "duration": 3,
    "start_time": "2021-09-14T11:52:05.461Z"
   },
   {
    "duration": 190,
    "start_time": "2021-09-14T11:52:05.501Z"
   },
   {
    "duration": 15,
    "start_time": "2021-09-14T11:52:05.695Z"
   },
   {
    "duration": 60,
    "start_time": "2021-09-14T11:52:05.713Z"
   },
   {
    "duration": 9,
    "start_time": "2021-09-14T11:52:05.777Z"
   },
   {
    "duration": 34,
    "start_time": "2021-09-14T11:52:05.788Z"
   },
   {
    "duration": 27,
    "start_time": "2021-09-14T11:52:05.824Z"
   },
   {
    "duration": 50,
    "start_time": "2021-09-14T11:52:05.853Z"
   },
   {
    "duration": 37,
    "start_time": "2021-09-14T11:52:05.906Z"
   },
   {
    "duration": 37,
    "start_time": "2021-09-14T11:52:05.947Z"
   },
   {
    "duration": 98,
    "start_time": "2021-09-14T11:52:05.987Z"
   },
   {
    "duration": 111,
    "start_time": "2021-09-14T11:52:06.087Z"
   },
   {
    "duration": 99,
    "start_time": "2021-09-14T11:52:06.201Z"
   },
   {
    "duration": 70,
    "start_time": "2021-09-14T11:52:06.303Z"
   },
   {
    "duration": 6,
    "start_time": "2021-09-14T11:52:06.376Z"
   },
   {
    "duration": 43,
    "start_time": "2021-09-14T11:52:06.384Z"
   },
   {
    "duration": 76,
    "start_time": "2021-09-14T11:52:06.429Z"
   },
   {
    "duration": 15,
    "start_time": "2021-09-14T11:52:06.508Z"
   },
   {
    "duration": 30,
    "start_time": "2021-09-14T11:52:06.526Z"
   },
   {
    "duration": 6,
    "start_time": "2021-09-14T11:52:06.559Z"
   },
   {
    "duration": 25,
    "start_time": "2021-09-14T11:52:06.568Z"
   },
   {
    "duration": 40,
    "start_time": "2021-09-14T11:52:06.595Z"
   },
   {
    "duration": 29,
    "start_time": "2021-09-14T11:52:06.637Z"
   },
   {
    "duration": 37,
    "start_time": "2021-09-14T11:52:06.668Z"
   },
   {
    "duration": 19,
    "start_time": "2021-09-14T11:52:06.708Z"
   },
   {
    "duration": 51,
    "start_time": "2021-09-14T11:52:06.729Z"
   },
   {
    "duration": 19,
    "start_time": "2021-09-14T11:52:06.782Z"
   },
   {
    "duration": 13,
    "start_time": "2021-09-14T11:52:06.806Z"
   },
   {
    "duration": 53,
    "start_time": "2021-09-14T11:52:06.822Z"
   },
   {
    "duration": 50,
    "start_time": "2021-09-14T11:52:06.878Z"
   },
   {
    "duration": 29,
    "start_time": "2021-09-14T11:52:06.931Z"
   },
   {
    "duration": 7,
    "start_time": "2021-09-14T11:52:06.963Z"
   },
   {
    "duration": 60,
    "start_time": "2021-09-14T11:52:06.972Z"
   },
   {
    "duration": 36,
    "start_time": "2021-09-14T11:52:07.035Z"
   },
   {
    "duration": 64,
    "start_time": "2021-09-14T11:52:07.074Z"
   },
   {
    "duration": 34,
    "start_time": "2021-09-14T11:52:07.157Z"
   },
   {
    "duration": 3,
    "start_time": "2021-09-14T11:53:03.398Z"
   },
   {
    "duration": 242,
    "start_time": "2021-09-14T11:53:03.404Z"
   },
   {
    "duration": 22,
    "start_time": "2021-09-14T11:53:03.650Z"
   },
   {
    "duration": 59,
    "start_time": "2021-09-14T11:53:03.675Z"
   },
   {
    "duration": 34,
    "start_time": "2021-09-14T11:53:03.736Z"
   },
   {
    "duration": 37,
    "start_time": "2021-09-14T11:53:03.773Z"
   },
   {
    "duration": 6,
    "start_time": "2021-09-14T11:53:03.814Z"
   },
   {
    "duration": 56,
    "start_time": "2021-09-14T11:53:03.823Z"
   },
   {
    "duration": 32,
    "start_time": "2021-09-14T11:53:03.882Z"
   },
   {
    "duration": 30,
    "start_time": "2021-09-14T11:53:03.916Z"
   },
   {
    "duration": 102,
    "start_time": "2021-09-14T11:53:03.957Z"
   },
   {
    "duration": 116,
    "start_time": "2021-09-14T11:53:04.062Z"
   },
   {
    "duration": 88,
    "start_time": "2021-09-14T11:53:04.181Z"
   },
   {
    "duration": 58,
    "start_time": "2021-09-14T11:53:04.271Z"
   },
   {
    "duration": 25,
    "start_time": "2021-09-14T11:53:04.331Z"
   },
   {
    "duration": 41,
    "start_time": "2021-09-14T11:53:04.359Z"
   },
   {
    "duration": 76,
    "start_time": "2021-09-14T11:53:04.403Z"
   },
   {
    "duration": 15,
    "start_time": "2021-09-14T11:53:04.482Z"
   },
   {
    "duration": 14,
    "start_time": "2021-09-14T11:53:04.502Z"
   },
   {
    "duration": 37,
    "start_time": "2021-09-14T11:53:04.519Z"
   },
   {
    "duration": 20,
    "start_time": "2021-09-14T11:53:04.559Z"
   },
   {
    "duration": 46,
    "start_time": "2021-09-14T11:53:04.582Z"
   },
   {
    "duration": 18,
    "start_time": "2021-09-14T11:53:04.630Z"
   },
   {
    "duration": 39,
    "start_time": "2021-09-14T11:53:04.651Z"
   },
   {
    "duration": 19,
    "start_time": "2021-09-14T11:53:04.692Z"
   },
   {
    "duration": 44,
    "start_time": "2021-09-14T11:53:04.714Z"
   },
   {
    "duration": 23,
    "start_time": "2021-09-14T11:53:04.761Z"
   },
   {
    "duration": 12,
    "start_time": "2021-09-14T11:53:04.787Z"
   },
   {
    "duration": 32,
    "start_time": "2021-09-14T11:53:04.801Z"
   },
   {
    "duration": 42,
    "start_time": "2021-09-14T11:53:04.835Z"
   },
   {
    "duration": 16,
    "start_time": "2021-09-14T11:53:04.880Z"
   },
   {
    "duration": 6,
    "start_time": "2021-09-14T11:53:04.899Z"
   },
   {
    "duration": 73,
    "start_time": "2021-09-14T11:53:04.907Z"
   },
   {
    "duration": 22,
    "start_time": "2021-09-14T11:53:04.982Z"
   },
   {
    "duration": 77,
    "start_time": "2021-09-14T11:53:05.006Z"
   },
   {
    "duration": 25,
    "start_time": "2021-09-14T11:53:05.085Z"
   },
   {
    "duration": 4,
    "start_time": "2021-09-14T11:53:53.289Z"
   },
   {
    "duration": 195,
    "start_time": "2021-09-14T11:53:53.296Z"
   },
   {
    "duration": 16,
    "start_time": "2021-09-14T11:53:53.493Z"
   },
   {
    "duration": 56,
    "start_time": "2021-09-14T11:53:53.512Z"
   },
   {
    "duration": 8,
    "start_time": "2021-09-14T11:53:53.570Z"
   },
   {
    "duration": 29,
    "start_time": "2021-09-14T11:53:53.580Z"
   },
   {
    "duration": 4,
    "start_time": "2021-09-14T11:53:53.612Z"
   },
   {
    "duration": 62,
    "start_time": "2021-09-14T11:53:53.618Z"
   },
   {
    "duration": 30,
    "start_time": "2021-09-14T11:53:53.684Z"
   },
   {
    "duration": 39,
    "start_time": "2021-09-14T11:53:53.717Z"
   },
   {
    "duration": 119,
    "start_time": "2021-09-14T11:53:53.759Z"
   },
   {
    "duration": 108,
    "start_time": "2021-09-14T11:53:53.881Z"
   },
   {
    "duration": 97,
    "start_time": "2021-09-14T11:53:53.992Z"
   },
   {
    "duration": 68,
    "start_time": "2021-09-14T11:53:54.091Z"
   },
   {
    "duration": 5,
    "start_time": "2021-09-14T11:53:54.162Z"
   },
   {
    "duration": 25,
    "start_time": "2021-09-14T11:53:54.169Z"
   },
   {
    "duration": 83,
    "start_time": "2021-09-14T11:53:54.197Z"
   },
   {
    "duration": 15,
    "start_time": "2021-09-14T11:53:54.282Z"
   },
   {
    "duration": 15,
    "start_time": "2021-09-14T11:53:54.299Z"
   },
   {
    "duration": 4,
    "start_time": "2021-09-14T11:53:54.317Z"
   },
   {
    "duration": 12,
    "start_time": "2021-09-14T11:53:54.356Z"
   },
   {
    "duration": 32,
    "start_time": "2021-09-14T11:53:54.371Z"
   },
   {
    "duration": 18,
    "start_time": "2021-09-14T11:53:54.406Z"
   },
   {
    "duration": 53,
    "start_time": "2021-09-14T11:53:54.427Z"
   },
   {
    "duration": 18,
    "start_time": "2021-09-14T11:53:54.483Z"
   },
   {
    "duration": 53,
    "start_time": "2021-09-14T11:53:54.503Z"
   },
   {
    "duration": 23,
    "start_time": "2021-09-14T11:53:54.564Z"
   },
   {
    "duration": 12,
    "start_time": "2021-09-14T11:53:54.590Z"
   },
   {
    "duration": 17,
    "start_time": "2021-09-14T11:53:54.605Z"
   },
   {
    "duration": 26,
    "start_time": "2021-09-14T11:53:54.657Z"
   },
   {
    "duration": 15,
    "start_time": "2021-09-14T11:53:54.685Z"
   },
   {
    "duration": 6,
    "start_time": "2021-09-14T11:53:54.703Z"
   },
   {
    "duration": 84,
    "start_time": "2021-09-14T11:53:54.711Z"
   },
   {
    "duration": 29,
    "start_time": "2021-09-14T11:53:54.797Z"
   },
   {
    "duration": 63,
    "start_time": "2021-09-14T11:53:54.828Z"
   },
   {
    "duration": 25,
    "start_time": "2021-09-14T11:53:54.893Z"
   },
   {
    "duration": 5,
    "start_time": "2021-09-14T12:02:46.133Z"
   },
   {
    "duration": 43,
    "start_time": "2021-09-14T12:02:48.348Z"
   },
   {
    "duration": 24,
    "start_time": "2021-09-14T12:02:52.201Z"
   },
   {
    "duration": 22,
    "start_time": "2021-09-14T12:02:57.878Z"
   },
   {
    "duration": 47,
    "start_time": "2021-09-14T12:02:58.530Z"
   },
   {
    "duration": 26,
    "start_time": "2021-09-14T12:02:59.324Z"
   },
   {
    "duration": 3,
    "start_time": "2021-09-14T12:03:23.483Z"
   },
   {
    "duration": 207,
    "start_time": "2021-09-14T12:03:23.489Z"
   },
   {
    "duration": 16,
    "start_time": "2021-09-14T12:03:23.698Z"
   },
   {
    "duration": 53,
    "start_time": "2021-09-14T12:03:23.716Z"
   },
   {
    "duration": 11,
    "start_time": "2021-09-14T12:03:23.771Z"
   },
   {
    "duration": 30,
    "start_time": "2021-09-14T12:03:23.785Z"
   },
   {
    "duration": 4,
    "start_time": "2021-09-14T12:03:23.818Z"
   },
   {
    "duration": 57,
    "start_time": "2021-09-14T12:03:23.825Z"
   },
   {
    "duration": 32,
    "start_time": "2021-09-14T12:03:23.885Z"
   },
   {
    "duration": 36,
    "start_time": "2021-09-14T12:03:23.919Z"
   },
   {
    "duration": 79,
    "start_time": "2021-09-14T12:03:23.958Z"
   },
   {
    "duration": 119,
    "start_time": "2021-09-14T12:03:24.039Z"
   },
   {
    "duration": 78,
    "start_time": "2021-09-14T12:03:24.160Z"
   },
   {
    "duration": 73,
    "start_time": "2021-09-14T12:03:24.240Z"
   },
   {
    "duration": 5,
    "start_time": "2021-09-14T12:03:24.315Z"
   },
   {
    "duration": 54,
    "start_time": "2021-09-14T12:03:24.323Z"
   },
   {
    "duration": 61,
    "start_time": "2021-09-14T12:03:24.379Z"
   },
   {
    "duration": 20,
    "start_time": "2021-09-14T12:03:24.442Z"
   },
   {
    "duration": 15,
    "start_time": "2021-09-14T12:03:24.466Z"
   },
   {
    "duration": 14,
    "start_time": "2021-09-14T12:03:24.484Z"
   },
   {
    "duration": 12,
    "start_time": "2021-09-14T12:03:24.500Z"
   },
   {
    "duration": 44,
    "start_time": "2021-09-14T12:03:24.514Z"
   },
   {
    "duration": 18,
    "start_time": "2021-09-14T12:03:24.560Z"
   },
   {
    "duration": 24,
    "start_time": "2021-09-14T12:03:24.581Z"
   },
   {
    "duration": 50,
    "start_time": "2021-09-14T12:03:24.607Z"
   },
   {
    "duration": 26,
    "start_time": "2021-09-14T12:03:24.659Z"
   },
   {
    "duration": 19,
    "start_time": "2021-09-14T12:03:24.688Z"
   },
   {
    "duration": 11,
    "start_time": "2021-09-14T12:03:24.709Z"
   },
   {
    "duration": 15,
    "start_time": "2021-09-14T12:03:24.757Z"
   },
   {
    "duration": 34,
    "start_time": "2021-09-14T12:03:24.775Z"
   },
   {
    "duration": 14,
    "start_time": "2021-09-14T12:03:24.812Z"
   },
   {
    "duration": 27,
    "start_time": "2021-09-14T12:03:24.829Z"
   },
   {
    "duration": 48,
    "start_time": "2021-09-14T12:03:24.858Z"
   },
   {
    "duration": 23,
    "start_time": "2021-09-14T12:03:24.909Z"
   },
   {
    "duration": 55,
    "start_time": "2021-09-14T12:03:24.934Z"
   },
   {
    "duration": 25,
    "start_time": "2021-09-14T12:03:24.992Z"
   },
   {
    "duration": 3,
    "start_time": "2021-09-14T12:38:41.425Z"
   },
   {
    "duration": 651,
    "start_time": "2021-09-14T12:38:41.431Z"
   },
   {
    "duration": 18,
    "start_time": "2021-09-14T12:38:42.085Z"
   },
   {
    "duration": 60,
    "start_time": "2021-09-14T12:38:42.106Z"
   },
   {
    "duration": 22,
    "start_time": "2021-09-14T12:38:42.168Z"
   },
   {
    "duration": 36,
    "start_time": "2021-09-14T12:38:42.193Z"
   },
   {
    "duration": 7,
    "start_time": "2021-09-14T12:38:42.233Z"
   },
   {
    "duration": 56,
    "start_time": "2021-09-14T12:38:42.243Z"
   },
   {
    "duration": 36,
    "start_time": "2021-09-14T12:38:42.301Z"
   },
   {
    "duration": 46,
    "start_time": "2021-09-14T12:38:42.339Z"
   },
   {
    "duration": 93,
    "start_time": "2021-09-14T12:38:42.387Z"
   },
   {
    "duration": 106,
    "start_time": "2021-09-14T12:38:42.483Z"
   },
   {
    "duration": 86,
    "start_time": "2021-09-14T12:38:42.591Z"
   },
   {
    "duration": 55,
    "start_time": "2021-09-14T12:38:42.679Z"
   },
   {
    "duration": 27,
    "start_time": "2021-09-14T12:38:42.736Z"
   },
   {
    "duration": 36,
    "start_time": "2021-09-14T12:38:42.765Z"
   },
   {
    "duration": 71,
    "start_time": "2021-09-14T12:38:42.804Z"
   },
   {
    "duration": 22,
    "start_time": "2021-09-14T12:38:42.877Z"
   },
   {
    "duration": 17,
    "start_time": "2021-09-14T12:38:42.904Z"
   },
   {
    "duration": 11,
    "start_time": "2021-09-14T12:38:42.923Z"
   },
   {
    "duration": 33,
    "start_time": "2021-09-14T12:38:42.936Z"
   },
   {
    "duration": 40,
    "start_time": "2021-09-14T12:38:42.972Z"
   },
   {
    "duration": 20,
    "start_time": "2021-09-14T12:38:43.015Z"
   },
   {
    "duration": 39,
    "start_time": "2021-09-14T12:38:43.038Z"
   },
   {
    "duration": 20,
    "start_time": "2021-09-14T12:38:43.080Z"
   },
   {
    "duration": 29,
    "start_time": "2021-09-14T12:38:43.103Z"
   },
   {
    "duration": 20,
    "start_time": "2021-09-14T12:38:43.156Z"
   },
   {
    "duration": 15,
    "start_time": "2021-09-14T12:38:43.178Z"
   },
   {
    "duration": 41,
    "start_time": "2021-09-14T12:38:43.196Z"
   },
   {
    "duration": 38,
    "start_time": "2021-09-14T12:38:43.239Z"
   },
   {
    "duration": 15,
    "start_time": "2021-09-14T12:38:43.279Z"
   },
   {
    "duration": 9,
    "start_time": "2021-09-14T12:38:43.297Z"
   },
   {
    "duration": 64,
    "start_time": "2021-09-14T12:38:43.308Z"
   },
   {
    "duration": 23,
    "start_time": "2021-09-14T12:38:43.375Z"
   },
   {
    "duration": 75,
    "start_time": "2021-09-14T12:38:43.402Z"
   },
   {
    "duration": 29,
    "start_time": "2021-09-14T12:38:43.480Z"
   },
   {
    "duration": 4,
    "start_time": "2021-09-14T12:48:03.990Z"
   },
   {
    "duration": 197,
    "start_time": "2021-09-14T12:48:03.996Z"
   },
   {
    "duration": 15,
    "start_time": "2021-09-14T12:48:04.196Z"
   },
   {
    "duration": 48,
    "start_time": "2021-09-14T12:48:04.214Z"
   },
   {
    "duration": 5,
    "start_time": "2021-09-14T12:48:04.264Z"
   },
   {
    "duration": 34,
    "start_time": "2021-09-14T12:48:04.272Z"
   },
   {
    "duration": 4,
    "start_time": "2021-09-14T12:48:04.308Z"
   },
   {
    "duration": 65,
    "start_time": "2021-09-14T12:48:04.316Z"
   },
   {
    "duration": 37,
    "start_time": "2021-09-14T12:48:04.384Z"
   },
   {
    "duration": 40,
    "start_time": "2021-09-14T12:48:04.423Z"
   },
   {
    "duration": 100,
    "start_time": "2021-09-14T12:48:04.465Z"
   },
   {
    "duration": 120,
    "start_time": "2021-09-14T12:48:04.567Z"
   },
   {
    "duration": 91,
    "start_time": "2021-09-14T12:48:04.689Z"
   },
   {
    "duration": 74,
    "start_time": "2021-09-14T12:48:04.782Z"
   },
   {
    "duration": 4,
    "start_time": "2021-09-14T12:48:04.858Z"
   },
   {
    "duration": 23,
    "start_time": "2021-09-14T12:48:04.865Z"
   },
   {
    "duration": 76,
    "start_time": "2021-09-14T12:48:04.890Z"
   },
   {
    "duration": 15,
    "start_time": "2021-09-14T12:48:04.968Z"
   },
   {
    "duration": 14,
    "start_time": "2021-09-14T12:48:04.986Z"
   },
   {
    "duration": 5,
    "start_time": "2021-09-14T12:48:05.002Z"
   },
   {
    "duration": 10,
    "start_time": "2021-09-14T12:48:05.009Z"
   },
   {
    "duration": 59,
    "start_time": "2021-09-14T12:48:05.021Z"
   },
   {
    "duration": 20,
    "start_time": "2021-09-14T12:48:05.085Z"
   },
   {
    "duration": 55,
    "start_time": "2021-09-14T12:48:05.107Z"
   },
   {
    "duration": 16,
    "start_time": "2021-09-14T12:48:05.165Z"
   },
   {
    "duration": 26,
    "start_time": "2021-09-14T12:48:05.184Z"
   },
   {
    "duration": 47,
    "start_time": "2021-09-14T12:48:05.213Z"
   },
   {
    "duration": 12,
    "start_time": "2021-09-14T12:48:05.263Z"
   },
   {
    "duration": 26,
    "start_time": "2021-09-14T12:48:05.277Z"
   },
   {
    "duration": 29,
    "start_time": "2021-09-14T12:48:05.305Z"
   },
   {
    "duration": 27,
    "start_time": "2021-09-14T12:48:05.337Z"
   },
   {
    "duration": 5,
    "start_time": "2021-09-14T12:48:05.367Z"
   },
   {
    "duration": 53,
    "start_time": "2021-09-14T12:48:05.375Z"
   },
   {
    "duration": 44,
    "start_time": "2021-09-14T12:48:05.430Z"
   },
   {
    "duration": 32,
    "start_time": "2021-09-14T12:48:05.477Z"
   },
   {
    "duration": 60,
    "start_time": "2021-09-14T12:48:05.512Z"
   },
   {
    "duration": 3,
    "start_time": "2021-09-14T12:48:14.555Z"
   },
   {
    "duration": 198,
    "start_time": "2021-09-14T12:48:14.560Z"
   },
   {
    "duration": 15,
    "start_time": "2021-09-14T12:48:14.761Z"
   },
   {
    "duration": 55,
    "start_time": "2021-09-14T12:48:14.778Z"
   },
   {
    "duration": 29,
    "start_time": "2021-09-14T12:48:14.836Z"
   },
   {
    "duration": 34,
    "start_time": "2021-09-14T12:48:14.868Z"
   },
   {
    "duration": 14,
    "start_time": "2021-09-14T12:48:14.905Z"
   },
   {
    "duration": 63,
    "start_time": "2021-09-14T12:48:14.923Z"
   },
   {
    "duration": 25,
    "start_time": "2021-09-14T12:48:14.989Z"
   },
   {
    "duration": 40,
    "start_time": "2021-09-14T12:48:15.017Z"
   },
   {
    "duration": 101,
    "start_time": "2021-09-14T12:48:15.059Z"
   },
   {
    "duration": 102,
    "start_time": "2021-09-14T12:48:15.162Z"
   },
   {
    "duration": 89,
    "start_time": "2021-09-14T12:48:15.267Z"
   },
   {
    "duration": 57,
    "start_time": "2021-09-14T12:48:15.358Z"
   },
   {
    "duration": 8,
    "start_time": "2021-09-14T12:48:15.418Z"
   },
   {
    "duration": 39,
    "start_time": "2021-09-14T12:48:15.428Z"
   },
   {
    "duration": 68,
    "start_time": "2021-09-14T12:48:15.470Z"
   },
   {
    "duration": 21,
    "start_time": "2021-09-14T12:48:15.541Z"
   },
   {
    "duration": 17,
    "start_time": "2021-09-14T12:48:15.565Z"
   },
   {
    "duration": 12,
    "start_time": "2021-09-14T12:48:15.584Z"
   },
   {
    "duration": 22,
    "start_time": "2021-09-14T12:48:15.598Z"
   },
   {
    "duration": 36,
    "start_time": "2021-09-14T12:48:15.623Z"
   },
   {
    "duration": 20,
    "start_time": "2021-09-14T12:48:15.664Z"
   },
   {
    "duration": 30,
    "start_time": "2021-09-14T12:48:15.686Z"
   },
   {
    "duration": 17,
    "start_time": "2021-09-14T12:48:15.718Z"
   },
   {
    "duration": 25,
    "start_time": "2021-09-14T12:48:15.756Z"
   },
   {
    "duration": 16,
    "start_time": "2021-09-14T12:48:15.784Z"
   },
   {
    "duration": 14,
    "start_time": "2021-09-14T12:48:15.803Z"
   },
   {
    "duration": 44,
    "start_time": "2021-09-14T12:48:15.820Z"
   },
   {
    "duration": 29,
    "start_time": "2021-09-14T12:48:15.867Z"
   },
   {
    "duration": 15,
    "start_time": "2021-09-14T12:48:15.899Z"
   },
   {
    "duration": 12,
    "start_time": "2021-09-14T12:48:15.917Z"
   },
   {
    "duration": 57,
    "start_time": "2021-09-14T12:48:15.931Z"
   },
   {
    "duration": 22,
    "start_time": "2021-09-14T12:48:15.990Z"
   },
   {
    "duration": 62,
    "start_time": "2021-09-14T12:48:16.014Z"
   },
   {
    "duration": 21,
    "start_time": "2021-09-14T12:48:16.078Z"
   },
   {
    "duration": 6,
    "start_time": "2021-09-14T12:50:07.904Z"
   },
   {
    "duration": 32,
    "start_time": "2021-09-14T12:50:14.715Z"
   },
   {
    "duration": 21,
    "start_time": "2021-09-14T12:51:50.356Z"
   },
   {
    "duration": 21,
    "start_time": "2021-09-14T12:51:54.141Z"
   },
   {
    "duration": 5,
    "start_time": "2021-09-14T12:54:36.303Z"
   },
   {
    "duration": 35,
    "start_time": "2021-09-14T12:54:37.888Z"
   },
   {
    "duration": 35,
    "start_time": "2021-09-14T12:54:43.987Z"
   },
   {
    "duration": 6,
    "start_time": "2021-09-14T12:54:58.964Z"
   },
   {
    "duration": 32,
    "start_time": "2021-09-14T12:54:59.967Z"
   },
   {
    "duration": 6,
    "start_time": "2021-09-14T12:55:24.325Z"
   },
   {
    "duration": 32,
    "start_time": "2021-09-14T12:55:25.220Z"
   },
   {
    "duration": 132,
    "start_time": "2021-09-14T12:57:37.880Z"
   },
   {
    "duration": 159,
    "start_time": "2021-09-14T12:57:57.631Z"
   },
   {
    "duration": 131,
    "start_time": "2021-09-14T12:58:01.803Z"
   },
   {
    "duration": 8,
    "start_time": "2021-09-14T12:58:08.307Z"
   },
   {
    "duration": 128,
    "start_time": "2021-09-14T12:58:16.352Z"
   },
   {
    "duration": 200,
    "start_time": "2021-09-14T12:58:23.278Z"
   },
   {
    "duration": 6,
    "start_time": "2021-09-14T12:58:42.494Z"
   },
   {
    "duration": 38,
    "start_time": "2021-09-14T12:58:44.235Z"
   },
   {
    "duration": 5,
    "start_time": "2021-09-14T12:58:52.861Z"
   },
   {
    "duration": 33,
    "start_time": "2021-09-14T12:58:53.632Z"
   },
   {
    "duration": 5,
    "start_time": "2021-09-14T12:59:21.948Z"
   },
   {
    "duration": 51,
    "start_time": "2021-09-14T12:59:23.204Z"
   },
   {
    "duration": 6,
    "start_time": "2021-09-14T13:00:19.832Z"
   },
   {
    "duration": 45,
    "start_time": "2021-09-14T13:00:21.897Z"
   },
   {
    "duration": 7,
    "start_time": "2021-09-14T13:00:28.167Z"
   },
   {
    "duration": 869,
    "start_time": "2021-09-14T13:00:29.358Z"
   },
   {
    "duration": 9,
    "start_time": "2021-09-14T13:00:46.578Z"
   },
   {
    "duration": 884,
    "start_time": "2021-09-14T13:00:47.732Z"
   },
   {
    "duration": 6,
    "start_time": "2021-09-14T13:00:53.980Z"
   },
   {
    "duration": 33,
    "start_time": "2021-09-14T13:00:54.983Z"
   },
   {
    "duration": 6,
    "start_time": "2021-09-14T13:00:59.923Z"
   },
   {
    "duration": 33,
    "start_time": "2021-09-14T13:01:00.814Z"
   },
   {
    "duration": 5,
    "start_time": "2021-09-14T13:01:13.804Z"
   },
   {
    "duration": 43,
    "start_time": "2021-09-14T13:01:15.751Z"
   },
   {
    "duration": 9,
    "start_time": "2021-09-14T13:04:40.367Z"
   },
   {
    "duration": 2101,
    "start_time": "2021-09-14T13:04:41.725Z"
   },
   {
    "duration": 8,
    "start_time": "2021-09-14T13:05:08.752Z"
   },
   {
    "duration": 4,
    "start_time": "2021-09-14T13:05:19.585Z"
   },
   {
    "duration": 224,
    "start_time": "2021-09-14T13:05:19.592Z"
   },
   {
    "duration": 18,
    "start_time": "2021-09-14T13:05:19.819Z"
   },
   {
    "duration": 72,
    "start_time": "2021-09-14T13:05:19.840Z"
   },
   {
    "duration": 6,
    "start_time": "2021-09-14T13:05:19.915Z"
   },
   {
    "duration": 35,
    "start_time": "2021-09-14T13:05:19.923Z"
   },
   {
    "duration": 5,
    "start_time": "2021-09-14T13:05:19.961Z"
   },
   {
    "duration": 43,
    "start_time": "2021-09-14T13:05:19.970Z"
   },
   {
    "duration": 54,
    "start_time": "2021-09-14T13:05:20.016Z"
   },
   {
    "duration": 35,
    "start_time": "2021-09-14T13:05:20.074Z"
   },
   {
    "duration": 113,
    "start_time": "2021-09-14T13:05:20.112Z"
   },
   {
    "duration": 120,
    "start_time": "2021-09-14T13:05:20.227Z"
   },
   {
    "duration": 91,
    "start_time": "2021-09-14T13:05:20.349Z"
   },
   {
    "duration": 108,
    "start_time": "2021-09-14T13:05:20.457Z"
   },
   {
    "duration": 5,
    "start_time": "2021-09-14T13:05:20.568Z"
   },
   {
    "duration": 30,
    "start_time": "2021-09-14T13:05:20.577Z"
   },
   {
    "duration": 129,
    "start_time": "2021-09-14T13:05:20.611Z"
   },
   {
    "duration": 22,
    "start_time": "2021-09-14T13:05:20.743Z"
   },
   {
    "duration": 20,
    "start_time": "2021-09-14T13:05:20.770Z"
   },
   {
    "duration": 5,
    "start_time": "2021-09-14T13:05:20.793Z"
   },
   {
    "duration": 27,
    "start_time": "2021-09-14T13:05:20.801Z"
   },
   {
    "duration": 79,
    "start_time": "2021-09-14T13:05:20.830Z"
   },
   {
    "duration": 19,
    "start_time": "2021-09-14T13:05:20.912Z"
   },
   {
    "duration": 47,
    "start_time": "2021-09-14T13:05:20.934Z"
   },
   {
    "duration": 22,
    "start_time": "2021-09-14T13:05:20.984Z"
   },
   {
    "duration": 76,
    "start_time": "2021-09-14T13:05:21.008Z"
   },
   {
    "duration": 23,
    "start_time": "2021-09-14T13:05:21.087Z"
   },
   {
    "duration": 17,
    "start_time": "2021-09-14T13:05:21.114Z"
   },
   {
    "duration": 41,
    "start_time": "2021-09-14T13:05:21.133Z"
   },
   {
    "duration": 31,
    "start_time": "2021-09-14T13:05:21.179Z"
   },
   {
    "duration": 15,
    "start_time": "2021-09-14T13:05:21.212Z"
   },
   {
    "duration": 5,
    "start_time": "2021-09-14T13:05:21.230Z"
   },
   {
    "duration": 78,
    "start_time": "2021-09-14T13:05:21.255Z"
   },
   {
    "duration": 54,
    "start_time": "2021-09-14T13:05:21.336Z"
   },
   {
    "duration": 65,
    "start_time": "2021-09-14T13:05:21.393Z"
   },
   {
    "duration": 44,
    "start_time": "2021-09-14T13:05:21.462Z"
   },
   {
    "duration": 3,
    "start_time": "2021-09-14T13:07:02.629Z"
   },
   {
    "duration": 257,
    "start_time": "2021-09-14T13:07:02.637Z"
   },
   {
    "duration": 17,
    "start_time": "2021-09-14T13:07:02.897Z"
   },
   {
    "duration": 61,
    "start_time": "2021-09-14T13:07:02.918Z"
   },
   {
    "duration": 10,
    "start_time": "2021-09-14T13:07:02.983Z"
   },
   {
    "duration": 45,
    "start_time": "2021-09-14T13:07:02.996Z"
   },
   {
    "duration": 12,
    "start_time": "2021-09-14T13:07:03.045Z"
   },
   {
    "duration": 56,
    "start_time": "2021-09-14T13:07:03.060Z"
   },
   {
    "duration": 60,
    "start_time": "2021-09-14T13:07:03.121Z"
   },
   {
    "duration": 54,
    "start_time": "2021-09-14T13:07:03.185Z"
   },
   {
    "duration": 141,
    "start_time": "2021-09-14T13:07:03.256Z"
   },
   {
    "duration": 165,
    "start_time": "2021-09-14T13:07:03.401Z"
   },
   {
    "duration": 102,
    "start_time": "2021-09-14T13:07:03.569Z"
   },
   {
    "duration": 97,
    "start_time": "2021-09-14T13:07:03.675Z"
   },
   {
    "duration": 5,
    "start_time": "2021-09-14T13:07:03.775Z"
   },
   {
    "duration": 21,
    "start_time": "2021-09-14T13:07:03.784Z"
   },
   {
    "duration": 95,
    "start_time": "2021-09-14T13:07:03.808Z"
   },
   {
    "duration": 23,
    "start_time": "2021-09-14T13:07:03.906Z"
   },
   {
    "duration": 44,
    "start_time": "2021-09-14T13:07:03.932Z"
   },
   {
    "duration": 8,
    "start_time": "2021-09-14T13:07:03.979Z"
   },
   {
    "duration": 16,
    "start_time": "2021-09-14T13:07:03.990Z"
   },
   {
    "duration": 49,
    "start_time": "2021-09-14T13:07:04.008Z"
   },
   {
    "duration": 26,
    "start_time": "2021-09-14T13:07:04.060Z"
   },
   {
    "duration": 26,
    "start_time": "2021-09-14T13:07:04.093Z"
   },
   {
    "duration": 59,
    "start_time": "2021-09-14T13:07:04.122Z"
   },
   {
    "duration": 41,
    "start_time": "2021-09-14T13:07:04.184Z"
   },
   {
    "duration": 58,
    "start_time": "2021-09-14T13:07:04.228Z"
   },
   {
    "duration": 18,
    "start_time": "2021-09-14T13:07:04.290Z"
   },
   {
    "duration": 49,
    "start_time": "2021-09-14T13:07:04.311Z"
   },
   {
    "duration": 28,
    "start_time": "2021-09-14T13:07:04.363Z"
   },
   {
    "duration": 18,
    "start_time": "2021-09-14T13:07:04.393Z"
   },
   {
    "duration": 6,
    "start_time": "2021-09-14T13:07:04.414Z"
   },
   {
    "duration": 75,
    "start_time": "2021-09-14T13:07:04.423Z"
   },
   {
    "duration": 63,
    "start_time": "2021-09-14T13:07:04.502Z"
   },
   {
    "duration": 40,
    "start_time": "2021-09-14T13:07:04.568Z"
   },
   {
    "duration": 65,
    "start_time": "2021-09-14T13:07:04.612Z"
   },
   {
    "duration": 4,
    "start_time": "2021-09-14T13:09:01.460Z"
   },
   {
    "duration": 233,
    "start_time": "2021-09-14T13:09:01.466Z"
   },
   {
    "duration": 15,
    "start_time": "2021-09-14T13:09:01.702Z"
   },
   {
    "duration": 92,
    "start_time": "2021-09-14T13:09:01.720Z"
   },
   {
    "duration": 76,
    "start_time": "2021-09-14T13:09:01.814Z"
   },
   {
    "duration": 101,
    "start_time": "2021-09-14T13:09:01.892Z"
   },
   {
    "duration": 100,
    "start_time": "2021-09-14T13:09:01.995Z"
   },
   {
    "duration": 216,
    "start_time": "2021-09-14T13:09:02.099Z"
   },
   {
    "duration": 32,
    "start_time": "2021-09-14T13:09:02.318Z"
   },
   {
    "duration": 82,
    "start_time": "2021-09-14T13:09:02.352Z"
   },
   {
    "duration": 98,
    "start_time": "2021-09-14T13:09:02.437Z"
   },
   {
    "duration": 119,
    "start_time": "2021-09-14T13:09:02.538Z"
   },
   {
    "duration": 87,
    "start_time": "2021-09-14T13:09:02.660Z"
   },
   {
    "duration": 106,
    "start_time": "2021-09-14T13:09:02.750Z"
   },
   {
    "duration": 12,
    "start_time": "2021-09-14T13:09:02.859Z"
   },
   {
    "duration": 46,
    "start_time": "2021-09-14T13:09:02.874Z"
   },
   {
    "duration": 69,
    "start_time": "2021-09-14T13:09:02.923Z"
   },
   {
    "duration": 35,
    "start_time": "2021-09-14T13:09:02.995Z"
   },
   {
    "duration": 32,
    "start_time": "2021-09-14T13:09:03.033Z"
   },
   {
    "duration": 51,
    "start_time": "2021-09-14T13:09:03.071Z"
   },
   {
    "duration": 44,
    "start_time": "2021-09-14T13:09:03.125Z"
   },
   {
    "duration": 53,
    "start_time": "2021-09-14T13:09:03.172Z"
   },
   {
    "duration": 19,
    "start_time": "2021-09-14T13:09:03.230Z"
   },
   {
    "duration": 32,
    "start_time": "2021-09-14T13:09:03.252Z"
   },
   {
    "duration": 30,
    "start_time": "2021-09-14T13:09:03.287Z"
   },
   {
    "duration": 64,
    "start_time": "2021-09-14T13:09:03.320Z"
   },
   {
    "duration": 27,
    "start_time": "2021-09-14T13:09:03.387Z"
   },
   {
    "duration": 39,
    "start_time": "2021-09-14T13:09:03.417Z"
   },
   {
    "duration": 37,
    "start_time": "2021-09-14T13:09:03.459Z"
   },
   {
    "duration": 28,
    "start_time": "2021-09-14T13:09:03.498Z"
   },
   {
    "duration": 16,
    "start_time": "2021-09-14T13:09:03.529Z"
   },
   {
    "duration": 13,
    "start_time": "2021-09-14T13:09:03.548Z"
   },
   {
    "duration": 82,
    "start_time": "2021-09-14T13:09:03.563Z"
   },
   {
    "duration": 30,
    "start_time": "2021-09-14T13:09:03.648Z"
   },
   {
    "duration": 33,
    "start_time": "2021-09-14T13:09:03.682Z"
   },
   {
    "duration": 82,
    "start_time": "2021-09-14T13:09:03.717Z"
   },
   {
    "duration": 52,
    "start_time": "2021-09-14T13:14:09.650Z"
   },
   {
    "duration": 6,
    "start_time": "2021-09-14T13:14:31.790Z"
   },
   {
    "duration": 626,
    "start_time": "2021-09-14T13:15:06.097Z"
   },
   {
    "duration": 32,
    "start_time": "2021-09-14T13:15:08.754Z"
   },
   {
    "duration": 8,
    "start_time": "2021-09-14T13:15:09.876Z"
   },
   {
    "duration": 17,
    "start_time": "2021-09-14T13:15:23.164Z"
   },
   {
    "duration": 6,
    "start_time": "2021-09-14T13:15:24.043Z"
   },
   {
    "duration": 86,
    "start_time": "2021-09-14T13:39:00.312Z"
   },
   {
    "duration": 694,
    "start_time": "2021-09-14T13:39:36.003Z"
   },
   {
    "duration": 92,
    "start_time": "2021-09-14T13:39:47.721Z"
   },
   {
    "duration": 78,
    "start_time": "2021-09-14T13:39:52.089Z"
   },
   {
    "duration": 101,
    "start_time": "2021-09-14T13:40:41.343Z"
   },
   {
    "duration": 83,
    "start_time": "2021-09-14T13:40:43.641Z"
   },
   {
    "duration": 5,
    "start_time": "2021-09-14T13:41:54.137Z"
   },
   {
    "duration": 4,
    "start_time": "2021-09-14T13:42:40.515Z"
   },
   {
    "duration": 21,
    "start_time": "2021-09-14T13:42:43.353Z"
   },
   {
    "duration": 3,
    "start_time": "2021-09-14T13:42:50.528Z"
   },
   {
    "duration": 233,
    "start_time": "2021-09-14T13:42:50.534Z"
   },
   {
    "duration": 18,
    "start_time": "2021-09-14T13:42:50.770Z"
   },
   {
    "duration": 63,
    "start_time": "2021-09-14T13:42:50.791Z"
   },
   {
    "duration": 22,
    "start_time": "2021-09-14T13:42:50.857Z"
   },
   {
    "duration": 57,
    "start_time": "2021-09-14T13:42:50.881Z"
   },
   {
    "duration": 15,
    "start_time": "2021-09-14T13:42:50.941Z"
   },
   {
    "duration": 53,
    "start_time": "2021-09-14T13:42:50.959Z"
   },
   {
    "duration": 47,
    "start_time": "2021-09-14T13:42:51.014Z"
   },
   {
    "duration": 42,
    "start_time": "2021-09-14T13:42:51.064Z"
   },
   {
    "duration": 123,
    "start_time": "2021-09-14T13:42:51.108Z"
   },
   {
    "duration": 115,
    "start_time": "2021-09-14T13:42:51.233Z"
   },
   {
    "duration": 88,
    "start_time": "2021-09-14T13:42:51.350Z"
   },
   {
    "duration": 61,
    "start_time": "2021-09-14T13:42:51.457Z"
   },
   {
    "duration": 16,
    "start_time": "2021-09-14T13:42:51.520Z"
   },
   {
    "duration": 34,
    "start_time": "2021-09-14T13:42:51.538Z"
   },
   {
    "duration": 67,
    "start_time": "2021-09-14T13:42:51.575Z"
   },
   {
    "duration": 31,
    "start_time": "2021-09-14T13:42:51.644Z"
   },
   {
    "duration": 20,
    "start_time": "2021-09-14T13:42:51.680Z"
   },
   {
    "duration": 18,
    "start_time": "2021-09-14T13:42:51.703Z"
   },
   {
    "duration": 31,
    "start_time": "2021-09-14T13:42:51.724Z"
   },
   {
    "duration": 62,
    "start_time": "2021-09-14T13:42:51.758Z"
   },
   {
    "duration": 28,
    "start_time": "2021-09-14T13:42:51.823Z"
   },
   {
    "duration": 34,
    "start_time": "2021-09-14T13:42:51.854Z"
   },
   {
    "duration": 18,
    "start_time": "2021-09-14T13:42:51.890Z"
   },
   {
    "duration": 55,
    "start_time": "2021-09-14T13:42:51.910Z"
   },
   {
    "duration": 24,
    "start_time": "2021-09-14T13:42:51.967Z"
   },
   {
    "duration": 14,
    "start_time": "2021-09-14T13:42:51.994Z"
   },
   {
    "duration": 58,
    "start_time": "2021-09-14T13:42:52.011Z"
   },
   {
    "duration": 1238,
    "start_time": "2021-09-14T13:42:52.072Z"
   },
   {
    "duration": 1769,
    "start_time": "2021-09-14T13:42:53.312Z"
   },
   {
    "duration": 389,
    "start_time": "2021-09-14T13:42:55.083Z"
   },
   {
    "duration": 58,
    "start_time": "2021-09-14T13:42:55.475Z"
   },
   {
    "duration": 26,
    "start_time": "2021-09-14T13:42:55.535Z"
   },
   {
    "duration": 30,
    "start_time": "2021-09-14T13:42:55.564Z"
   },
   {
    "duration": 21,
    "start_time": "2021-09-14T13:42:55.596Z"
   },
   {
    "duration": 70,
    "start_time": "2021-09-14T13:42:55.619Z"
   },
   {
    "duration": 8,
    "start_time": "2021-09-14T13:42:55.691Z"
   },
   {
    "duration": 25,
    "start_time": "2021-09-14T13:42:55.702Z"
   },
   {
    "duration": 28,
    "start_time": "2021-09-14T13:42:55.729Z"
   },
   {
    "duration": 6,
    "start_time": "2021-09-14T13:47:07.776Z"
   },
   {
    "duration": 34,
    "start_time": "2021-09-14T13:47:09.309Z"
   },
   {
    "duration": 40,
    "start_time": "2021-09-14T13:47:18.975Z"
   },
   {
    "duration": 8,
    "start_time": "2021-09-14T13:47:21.000Z"
   },
   {
    "duration": 36,
    "start_time": "2021-09-14T13:47:21.607Z"
   },
   {
    "duration": 6,
    "start_time": "2021-09-14T13:47:30.485Z"
   },
   {
    "duration": 37,
    "start_time": "2021-09-14T13:47:31.253Z"
   },
   {
    "duration": 25,
    "start_time": "2021-09-14T13:47:32.279Z"
   },
   {
    "duration": 33,
    "start_time": "2021-09-14T13:47:45.328Z"
   },
   {
    "duration": 25,
    "start_time": "2021-09-14T13:47:46.342Z"
   },
   {
    "duration": 11,
    "start_time": "2021-09-14T13:48:29.435Z"
   },
   {
    "duration": 7,
    "start_time": "2021-09-14T13:48:30.548Z"
   },
   {
    "duration": 17,
    "start_time": "2021-09-14T13:48:41.969Z"
   },
   {
    "duration": 7,
    "start_time": "2021-09-14T13:48:43.000Z"
   },
   {
    "duration": 9,
    "start_time": "2021-09-14T13:48:45.011Z"
   },
   {
    "duration": 8,
    "start_time": "2021-09-14T13:48:46.485Z"
   },
   {
    "duration": 3,
    "start_time": "2021-09-14T13:49:27.525Z"
   },
   {
    "duration": 262,
    "start_time": "2021-09-14T13:49:27.532Z"
   },
   {
    "duration": 16,
    "start_time": "2021-09-14T13:49:27.797Z"
   },
   {
    "duration": 59,
    "start_time": "2021-09-14T13:49:27.816Z"
   },
   {
    "duration": 7,
    "start_time": "2021-09-14T13:49:27.879Z"
   },
   {
    "duration": 41,
    "start_time": "2021-09-14T13:49:27.889Z"
   },
   {
    "duration": 6,
    "start_time": "2021-09-14T13:49:27.933Z"
   },
   {
    "duration": 49,
    "start_time": "2021-09-14T13:49:27.957Z"
   },
   {
    "duration": 59,
    "start_time": "2021-09-14T13:49:28.012Z"
   },
   {
    "duration": 35,
    "start_time": "2021-09-14T13:49:28.078Z"
   },
   {
    "duration": 128,
    "start_time": "2021-09-14T13:49:28.117Z"
   },
   {
    "duration": 161,
    "start_time": "2021-09-14T13:49:28.248Z"
   },
   {
    "duration": 91,
    "start_time": "2021-09-14T13:49:28.411Z"
   },
   {
    "duration": 76,
    "start_time": "2021-09-14T13:49:28.504Z"
   },
   {
    "duration": 5,
    "start_time": "2021-09-14T13:49:28.583Z"
   },
   {
    "duration": 28,
    "start_time": "2021-09-14T13:49:28.591Z"
   },
   {
    "duration": 83,
    "start_time": "2021-09-14T13:49:28.621Z"
   },
   {
    "duration": 21,
    "start_time": "2021-09-14T13:49:28.707Z"
   },
   {
    "duration": 42,
    "start_time": "2021-09-14T13:49:28.731Z"
   },
   {
    "duration": 7,
    "start_time": "2021-09-14T13:49:28.777Z"
   },
   {
    "duration": 19,
    "start_time": "2021-09-14T13:49:28.787Z"
   },
   {
    "duration": 58,
    "start_time": "2021-09-14T13:49:28.809Z"
   },
   {
    "duration": 25,
    "start_time": "2021-09-14T13:49:28.870Z"
   },
   {
    "duration": 30,
    "start_time": "2021-09-14T13:49:28.898Z"
   },
   {
    "duration": 28,
    "start_time": "2021-09-14T13:49:28.957Z"
   },
   {
    "duration": 48,
    "start_time": "2021-09-14T13:49:28.988Z"
   },
   {
    "duration": 35,
    "start_time": "2021-09-14T13:49:29.043Z"
   },
   {
    "duration": 16,
    "start_time": "2021-09-14T13:49:29.081Z"
   },
   {
    "duration": 56,
    "start_time": "2021-09-14T13:49:29.100Z"
   },
   {
    "duration": 29,
    "start_time": "2021-09-14T13:49:29.159Z"
   },
   {
    "duration": 18,
    "start_time": "2021-09-14T13:49:29.192Z"
   },
   {
    "duration": 17,
    "start_time": "2021-09-14T13:49:29.213Z"
   },
   {
    "duration": 70,
    "start_time": "2021-09-14T13:49:29.233Z"
   },
   {
    "duration": 25,
    "start_time": "2021-09-14T13:49:29.305Z"
   },
   {
    "duration": 39,
    "start_time": "2021-09-14T13:49:29.356Z"
   },
   {
    "duration": 24,
    "start_time": "2021-09-14T13:49:29.397Z"
   },
   {
    "duration": 43,
    "start_time": "2021-09-14T13:49:29.423Z"
   },
   {
    "duration": 15,
    "start_time": "2021-09-14T13:49:29.469Z"
   },
   {
    "duration": 20,
    "start_time": "2021-09-14T13:49:29.487Z"
   },
   {
    "duration": 16,
    "start_time": "2021-09-14T13:49:29.510Z"
   },
   {
    "duration": 857,
    "start_time": "2021-09-14T15:00:31.768Z"
   },
   {
    "duration": 187,
    "start_time": "2021-09-14T15:00:32.627Z"
   },
   {
    "duration": 26,
    "start_time": "2021-09-14T15:00:32.817Z"
   },
   {
    "duration": 36,
    "start_time": "2021-09-14T15:00:32.857Z"
   },
   {
    "duration": 9,
    "start_time": "2021-09-14T15:00:32.896Z"
   },
   {
    "duration": 55,
    "start_time": "2021-09-14T15:00:32.908Z"
   },
   {
    "duration": 4,
    "start_time": "2021-09-14T15:00:32.966Z"
   },
   {
    "duration": 35,
    "start_time": "2021-09-14T15:00:32.973Z"
   },
   {
    "duration": 44,
    "start_time": "2021-09-14T15:00:33.012Z"
   },
   {
    "duration": 30,
    "start_time": "2021-09-14T15:00:33.059Z"
   },
   {
    "duration": 107,
    "start_time": "2021-09-14T15:00:33.091Z"
   },
   {
    "duration": 113,
    "start_time": "2021-09-14T15:00:33.200Z"
   },
   {
    "duration": 86,
    "start_time": "2021-09-14T15:00:33.315Z"
   },
   {
    "duration": 67,
    "start_time": "2021-09-14T15:00:33.403Z"
   },
   {
    "duration": 5,
    "start_time": "2021-09-14T15:00:33.472Z"
   },
   {
    "duration": 25,
    "start_time": "2021-09-14T15:00:33.479Z"
   },
   {
    "duration": 74,
    "start_time": "2021-09-14T15:00:33.507Z"
   },
   {
    "duration": 19,
    "start_time": "2021-09-14T15:00:33.583Z"
   },
   {
    "duration": 13,
    "start_time": "2021-09-14T15:00:33.605Z"
   },
   {
    "duration": 5,
    "start_time": "2021-09-14T15:00:33.620Z"
   },
   {
    "duration": 4,
    "start_time": "2021-09-14T15:00:33.655Z"
   },
   {
    "duration": 28,
    "start_time": "2021-09-14T15:00:33.661Z"
   },
   {
    "duration": 18,
    "start_time": "2021-09-14T15:00:33.691Z"
   },
   {
    "duration": 57,
    "start_time": "2021-09-14T15:00:33.712Z"
   },
   {
    "duration": 21,
    "start_time": "2021-09-14T15:00:33.772Z"
   },
   {
    "duration": 27,
    "start_time": "2021-09-14T15:00:33.795Z"
   },
   {
    "duration": 18,
    "start_time": "2021-09-14T15:00:33.859Z"
   },
   {
    "duration": 12,
    "start_time": "2021-09-14T15:00:33.880Z"
   },
   {
    "duration": 19,
    "start_time": "2021-09-14T15:00:33.895Z"
   },
   {
    "duration": 48,
    "start_time": "2021-09-14T15:00:33.916Z"
   },
   {
    "duration": 18,
    "start_time": "2021-09-14T15:00:33.967Z"
   },
   {
    "duration": 8,
    "start_time": "2021-09-14T15:00:33.988Z"
   },
   {
    "duration": 63,
    "start_time": "2021-09-14T15:00:33.998Z"
   },
   {
    "duration": 24,
    "start_time": "2021-09-14T15:00:34.063Z"
   },
   {
    "duration": 66,
    "start_time": "2021-09-14T15:00:34.090Z"
   },
   {
    "duration": 23,
    "start_time": "2021-09-14T15:00:34.159Z"
   },
   {
    "duration": 12,
    "start_time": "2021-09-14T15:00:34.184Z"
   },
   {
    "duration": 11,
    "start_time": "2021-09-14T15:00:34.199Z"
   },
   {
    "duration": 48,
    "start_time": "2021-09-14T15:00:34.212Z"
   },
   {
    "duration": 11,
    "start_time": "2021-09-14T15:00:34.262Z"
   },
   {
    "duration": 97,
    "start_time": "2021-09-14T15:05:29.554Z"
   },
   {
    "duration": 327,
    "start_time": "2021-09-14T15:27:51.042Z"
   },
   {
    "duration": 574,
    "start_time": "2021-09-14T15:27:53.998Z"
   },
   {
    "duration": 785,
    "start_time": "2021-09-14T15:27:56.145Z"
   },
   {
    "duration": 569,
    "start_time": "2021-09-14T15:37:57.960Z"
   },
   {
    "duration": 660,
    "start_time": "2021-09-14T15:37:58.530Z"
   },
   {
    "duration": 16,
    "start_time": "2021-09-14T15:37:59.193Z"
   },
   {
    "duration": 86,
    "start_time": "2021-09-14T15:37:59.211Z"
   },
   {
    "duration": 5,
    "start_time": "2021-09-14T15:37:59.299Z"
   },
   {
    "duration": 22,
    "start_time": "2021-09-14T15:37:59.306Z"
   },
   {
    "duration": 4,
    "start_time": "2021-09-14T15:37:59.329Z"
   },
   {
    "duration": 24,
    "start_time": "2021-09-14T15:37:59.335Z"
   },
   {
    "duration": 19,
    "start_time": "2021-09-14T15:37:59.361Z"
   },
   {
    "duration": 27,
    "start_time": "2021-09-14T15:37:59.381Z"
   },
   {
    "duration": 59,
    "start_time": "2021-09-14T15:37:59.410Z"
   },
   {
    "duration": 77,
    "start_time": "2021-09-14T15:37:59.471Z"
   },
   {
    "duration": 50,
    "start_time": "2021-09-14T15:37:59.549Z"
   },
   {
    "duration": 52,
    "start_time": "2021-09-14T15:37:59.601Z"
   },
   {
    "duration": 3,
    "start_time": "2021-09-14T15:37:59.655Z"
   },
   {
    "duration": 14,
    "start_time": "2021-09-14T15:37:59.659Z"
   },
   {
    "duration": 38,
    "start_time": "2021-09-14T15:37:59.674Z"
   },
   {
    "duration": 31,
    "start_time": "2021-09-14T15:37:59.714Z"
   },
   {
    "duration": 9,
    "start_time": "2021-09-14T15:37:59.747Z"
   },
   {
    "duration": 4,
    "start_time": "2021-09-14T15:37:59.758Z"
   },
   {
    "duration": 7,
    "start_time": "2021-09-14T15:37:59.764Z"
   },
   {
    "duration": 28,
    "start_time": "2021-09-14T15:37:59.773Z"
   },
   {
    "duration": 13,
    "start_time": "2021-09-14T15:37:59.805Z"
   },
   {
    "duration": 18,
    "start_time": "2021-09-14T15:37:59.841Z"
   },
   {
    "duration": 12,
    "start_time": "2021-09-14T15:37:59.861Z"
   },
   {
    "duration": 17,
    "start_time": "2021-09-14T15:37:59.875Z"
   },
   {
    "duration": 12,
    "start_time": "2021-09-14T15:37:59.893Z"
   },
   {
    "duration": 103,
    "start_time": "2021-09-14T15:37:59.906Z"
   },
   {
    "duration": 8,
    "start_time": "2021-09-14T15:38:00.011Z"
   },
   {
    "duration": 11,
    "start_time": "2021-09-14T15:38:00.042Z"
   },
   {
    "duration": 19,
    "start_time": "2021-09-14T15:38:00.055Z"
   },
   {
    "duration": 10,
    "start_time": "2021-09-14T15:38:00.076Z"
   },
   {
    "duration": 5,
    "start_time": "2021-09-14T15:38:00.088Z"
   },
   {
    "duration": 52,
    "start_time": "2021-09-14T15:38:00.094Z"
   },
   {
    "duration": 18,
    "start_time": "2021-09-14T15:38:00.149Z"
   },
   {
    "duration": 23,
    "start_time": "2021-09-14T15:38:00.169Z"
   },
   {
    "duration": 49,
    "start_time": "2021-09-14T15:38:00.194Z"
   },
   {
    "duration": 10,
    "start_time": "2021-09-14T15:38:00.245Z"
   },
   {
    "duration": 5,
    "start_time": "2021-09-14T15:38:00.257Z"
   },
   {
    "duration": 21,
    "start_time": "2021-09-14T15:38:00.264Z"
   },
   {
    "duration": 18,
    "start_time": "2021-09-14T15:38:00.287Z"
   },
   {
    "duration": 148,
    "start_time": "2021-09-14T15:39:43.329Z"
   },
   {
    "duration": 3,
    "start_time": "2021-09-14T15:44:36.309Z"
   },
   {
    "duration": 787,
    "start_time": "2021-09-14T15:44:36.314Z"
   },
   {
    "duration": 12,
    "start_time": "2021-09-14T15:44:37.104Z"
   },
   {
    "duration": 239,
    "start_time": "2021-09-14T15:44:37.118Z"
   },
   {
    "duration": 3,
    "start_time": "2021-09-14T15:44:37.360Z"
   },
   {
    "duration": 43,
    "start_time": "2021-09-14T15:44:37.365Z"
   },
   {
    "duration": 6,
    "start_time": "2021-09-14T15:44:37.410Z"
   },
   {
    "duration": 46,
    "start_time": "2021-09-14T15:44:37.417Z"
   },
   {
    "duration": 25,
    "start_time": "2021-09-14T15:46:14.891Z"
   },
   {
    "duration": 21,
    "start_time": "2021-09-14T15:46:19.607Z"
   },
   {
    "duration": 22,
    "start_time": "2021-09-14T15:46:47.016Z"
   },
   {
    "duration": 25,
    "start_time": "2021-09-14T15:46:56.599Z"
   },
   {
    "duration": 3,
    "start_time": "2021-09-14T15:51:56.077Z"
   },
   {
    "duration": 2,
    "start_time": "2021-09-14T15:52:11.904Z"
   },
   {
    "duration": 776,
    "start_time": "2021-09-14T15:52:11.909Z"
   },
   {
    "duration": 10,
    "start_time": "2021-09-14T15:52:12.688Z"
   },
   {
    "duration": 216,
    "start_time": "2021-09-14T15:52:12.700Z"
   },
   {
    "duration": 3,
    "start_time": "2021-09-14T15:52:12.918Z"
   },
   {
    "duration": 29,
    "start_time": "2021-09-14T15:52:12.923Z"
   },
   {
    "duration": 3,
    "start_time": "2021-09-14T15:52:12.955Z"
   },
   {
    "duration": 21,
    "start_time": "2021-09-14T15:52:12.960Z"
   },
   {
    "duration": 22,
    "start_time": "2021-09-14T15:52:12.983Z"
   },
   {
    "duration": 37,
    "start_time": "2021-09-14T15:52:13.007Z"
   },
   {
    "duration": 48,
    "start_time": "2021-09-14T15:52:13.045Z"
   },
   {
    "duration": 73,
    "start_time": "2021-09-14T15:52:13.095Z"
   },
   {
    "duration": 46,
    "start_time": "2021-09-14T15:52:13.170Z"
   },
   {
    "duration": 46,
    "start_time": "2021-09-14T15:52:13.218Z"
   },
   {
    "duration": 3,
    "start_time": "2021-09-14T15:52:13.266Z"
   },
   {
    "duration": 18,
    "start_time": "2021-09-14T15:52:13.270Z"
   },
   {
    "duration": 55,
    "start_time": "2021-09-14T15:52:13.289Z"
   },
   {
    "duration": 10,
    "start_time": "2021-09-14T15:52:13.346Z"
   },
   {
    "duration": 9,
    "start_time": "2021-09-14T15:52:13.359Z"
   },
   {
    "duration": 4,
    "start_time": "2021-09-14T15:52:13.370Z"
   },
   {
    "duration": 8,
    "start_time": "2021-09-14T15:52:13.375Z"
   },
   {
    "duration": 19,
    "start_time": "2021-09-14T15:52:17.136Z"
   },
   {
    "duration": 20,
    "start_time": "2021-09-14T15:52:45.327Z"
   },
   {
    "duration": 316,
    "start_time": "2021-09-14T15:52:51.206Z"
   },
   {
    "duration": 4,
    "start_time": "2021-09-14T15:54:17.964Z"
   },
   {
    "duration": 2,
    "start_time": "2021-09-14T15:54:37.893Z"
   },
   {
    "duration": 689,
    "start_time": "2021-09-14T15:54:37.897Z"
   },
   {
    "duration": 10,
    "start_time": "2021-09-14T15:54:38.589Z"
   },
   {
    "duration": 223,
    "start_time": "2021-09-14T15:54:38.601Z"
   },
   {
    "duration": 5,
    "start_time": "2021-09-14T15:54:38.825Z"
   },
   {
    "duration": 20,
    "start_time": "2021-09-14T15:54:38.832Z"
   },
   {
    "duration": 3,
    "start_time": "2021-09-14T15:54:38.854Z"
   },
   {
    "duration": 24,
    "start_time": "2021-09-14T15:54:38.859Z"
   },
   {
    "duration": 25,
    "start_time": "2021-09-14T15:54:38.884Z"
   },
   {
    "duration": 49,
    "start_time": "2021-09-14T15:54:38.911Z"
   },
   {
    "duration": 56,
    "start_time": "2021-09-14T15:54:38.962Z"
   },
   {
    "duration": 85,
    "start_time": "2021-09-14T15:54:39.020Z"
   },
   {
    "duration": 61,
    "start_time": "2021-09-14T15:54:39.106Z"
   },
   {
    "duration": 40,
    "start_time": "2021-09-14T15:54:39.168Z"
   },
   {
    "duration": 3,
    "start_time": "2021-09-14T15:54:39.210Z"
   },
   {
    "duration": 31,
    "start_time": "2021-09-14T15:54:39.214Z"
   },
   {
    "duration": 38,
    "start_time": "2021-09-14T15:54:39.247Z"
   },
   {
    "duration": 19,
    "start_time": "2021-09-14T15:54:39.286Z"
   },
   {
    "duration": 9,
    "start_time": "2021-09-14T15:54:39.308Z"
   },
   {
    "duration": 24,
    "start_time": "2021-09-14T15:54:39.319Z"
   },
   {
    "duration": 13,
    "start_time": "2021-09-14T15:54:39.345Z"
   },
   {
    "duration": 30,
    "start_time": "2021-09-14T15:54:39.360Z"
   },
   {
    "duration": 12,
    "start_time": "2021-09-14T15:54:39.392Z"
   },
   {
    "duration": 17,
    "start_time": "2021-09-14T15:54:39.406Z"
   },
   {
    "duration": 23,
    "start_time": "2021-09-14T15:54:39.425Z"
   },
   {
    "duration": 20,
    "start_time": "2021-09-14T15:54:39.449Z"
   },
   {
    "duration": 19,
    "start_time": "2021-09-14T15:54:41.221Z"
   },
   {
    "duration": 13,
    "start_time": "2021-09-14T15:54:41.798Z"
   },
   {
    "duration": 7,
    "start_time": "2021-09-14T15:57:00.819Z"
   },
   {
    "duration": 780,
    "start_time": "2021-09-22T16:27:20.492Z"
   },
   {
    "duration": 932,
    "start_time": "2021-09-22T16:27:21.274Z"
   },
   {
    "duration": 25,
    "start_time": "2021-09-22T16:27:22.210Z"
   },
   {
    "duration": 282,
    "start_time": "2021-09-22T16:27:22.237Z"
   },
   {
    "duration": 5,
    "start_time": "2021-09-22T16:27:22.523Z"
   },
   {
    "duration": 41,
    "start_time": "2021-09-22T16:27:22.530Z"
   },
   {
    "duration": 15,
    "start_time": "2021-09-22T16:27:22.574Z"
   },
   {
    "duration": 48,
    "start_time": "2021-09-22T16:27:22.592Z"
   },
   {
    "duration": 47,
    "start_time": "2021-09-22T16:27:22.643Z"
   },
   {
    "duration": 33,
    "start_time": "2021-09-22T16:27:22.693Z"
   },
   {
    "duration": 106,
    "start_time": "2021-09-22T16:27:22.728Z"
   },
   {
    "duration": 108,
    "start_time": "2021-09-22T16:27:22.836Z"
   },
   {
    "duration": 123,
    "start_time": "2021-09-22T16:27:22.947Z"
   },
   {
    "duration": 94,
    "start_time": "2021-09-22T16:27:23.074Z"
   },
   {
    "duration": 13,
    "start_time": "2021-09-22T16:27:23.170Z"
   },
   {
    "duration": 28,
    "start_time": "2021-09-22T16:27:23.186Z"
   },
   {
    "duration": 65,
    "start_time": "2021-09-22T16:27:23.216Z"
   },
   {
    "duration": 16,
    "start_time": "2021-09-22T16:27:23.285Z"
   },
   {
    "duration": 21,
    "start_time": "2021-09-22T16:27:23.324Z"
   },
   {
    "duration": 5,
    "start_time": "2021-09-22T16:27:23.347Z"
   },
   {
    "duration": 13,
    "start_time": "2021-09-22T16:27:23.355Z"
   },
   {
    "duration": 35,
    "start_time": "2021-09-22T16:27:23.370Z"
   },
   {
    "duration": 18,
    "start_time": "2021-09-22T16:27:23.425Z"
   },
   {
    "duration": 25,
    "start_time": "2021-09-22T16:27:23.446Z"
   },
   {
    "duration": 20,
    "start_time": "2021-09-22T16:27:23.473Z"
   },
   {
    "duration": 51,
    "start_time": "2021-09-22T16:27:23.495Z"
   },
   {
    "duration": 19,
    "start_time": "2021-09-22T16:27:23.548Z"
   },
   {
    "duration": 160,
    "start_time": "2021-09-22T16:27:23.570Z"
   },
   {
    "duration": 12,
    "start_time": "2021-09-22T16:27:23.733Z"
   },
   {
    "duration": 14,
    "start_time": "2021-09-22T16:27:23.748Z"
   },
   {
    "duration": 60,
    "start_time": "2021-09-22T16:27:23.764Z"
   },
   {
    "duration": 50,
    "start_time": "2021-09-22T16:28:08.136Z"
   },
   {
    "duration": 18,
    "start_time": "2021-09-22T16:29:07.280Z"
   },
   {
    "duration": 743,
    "start_time": "2021-09-22T16:29:16.979Z"
   },
   {
    "duration": 946,
    "start_time": "2021-09-22T16:29:17.725Z"
   },
   {
    "duration": 28,
    "start_time": "2021-09-22T16:29:18.674Z"
   },
   {
    "duration": 283,
    "start_time": "2021-09-22T16:29:18.705Z"
   },
   {
    "duration": 5,
    "start_time": "2021-09-22T16:29:18.990Z"
   },
   {
    "duration": 50,
    "start_time": "2021-09-22T16:29:18.998Z"
   },
   {
    "duration": 8,
    "start_time": "2021-09-22T16:29:19.050Z"
   },
   {
    "duration": 32,
    "start_time": "2021-09-22T16:29:19.062Z"
   },
   {
    "duration": 61,
    "start_time": "2021-09-22T16:29:19.098Z"
   },
   {
    "duration": 30,
    "start_time": "2021-09-22T16:29:19.162Z"
   },
   {
    "duration": 109,
    "start_time": "2021-09-22T16:29:19.195Z"
   },
   {
    "duration": 104,
    "start_time": "2021-09-22T16:29:19.307Z"
   },
   {
    "duration": 78,
    "start_time": "2021-09-22T16:29:19.423Z"
   },
   {
    "duration": 72,
    "start_time": "2021-09-22T16:29:19.503Z"
   },
   {
    "duration": 3,
    "start_time": "2021-09-22T16:29:19.578Z"
   },
   {
    "duration": 38,
    "start_time": "2021-09-22T16:29:19.584Z"
   },
   {
    "duration": 57,
    "start_time": "2021-09-22T16:29:19.625Z"
   },
   {
    "duration": 16,
    "start_time": "2021-09-22T16:29:19.685Z"
   },
   {
    "duration": 14,
    "start_time": "2021-09-22T16:29:19.724Z"
   },
   {
    "duration": 5,
    "start_time": "2021-09-22T16:29:19.741Z"
   },
   {
    "duration": 11,
    "start_time": "2021-09-22T16:29:19.748Z"
   },
   {
    "duration": 64,
    "start_time": "2021-09-22T16:29:19.762Z"
   },
   {
    "duration": 21,
    "start_time": "2021-09-22T16:29:19.833Z"
   },
   {
    "duration": 29,
    "start_time": "2021-09-22T16:29:19.858Z"
   },
   {
    "duration": 21,
    "start_time": "2021-09-22T16:29:19.922Z"
   },
   {
    "duration": 30,
    "start_time": "2021-09-22T16:29:19.946Z"
   },
   {
    "duration": 55,
    "start_time": "2021-09-22T16:29:19.979Z"
   },
   {
    "duration": 147,
    "start_time": "2021-09-22T16:29:20.037Z"
   },
   {
    "duration": 12,
    "start_time": "2021-09-22T16:29:20.187Z"
   },
   {
    "duration": 32,
    "start_time": "2021-09-22T16:29:20.202Z"
   },
   {
    "duration": 35,
    "start_time": "2021-09-22T16:29:20.237Z"
   },
   {
    "duration": 24,
    "start_time": "2021-09-22T16:29:20.274Z"
   },
   {
    "duration": 22,
    "start_time": "2021-09-22T16:29:20.300Z"
   },
   {
    "duration": 56,
    "start_time": "2021-09-22T16:29:20.325Z"
   },
   {
    "duration": 39,
    "start_time": "2021-09-22T16:29:20.383Z"
   },
   {
    "duration": 34,
    "start_time": "2021-09-22T16:29:20.424Z"
   },
   {
    "duration": 42,
    "start_time": "2021-09-22T16:29:20.460Z"
   },
   {
    "duration": 26,
    "start_time": "2021-09-22T16:29:20.504Z"
   },
   {
    "duration": 11,
    "start_time": "2021-09-22T16:29:20.532Z"
   },
   {
    "duration": 14,
    "start_time": "2021-09-22T16:29:20.546Z"
   },
   {
    "duration": 8,
    "start_time": "2021-09-22T16:29:20.563Z"
   }
  ],
  "colab": {
   "collapsed_sections": [
    "E0vqbgi9ay0H",
    "VUC88oWjTJw2"
   ],
   "name": "yandex_music_project_2021.2.ipynb",
   "provenance": []
  },
  "kernelspec": {
   "display_name": "Python 3",
   "language": "python",
   "name": "python3"
  },
  "language_info": {
   "codemirror_mode": {
    "name": "ipython",
    "version": 3
   },
   "file_extension": ".py",
   "mimetype": "text/x-python",
   "name": "python",
   "nbconvert_exporter": "python",
   "pygments_lexer": "ipython3",
   "version": "3.8.8"
  },
  "toc": {
   "base_numbering": 1,
   "nav_menu": {},
   "number_sections": true,
   "sideBar": true,
   "skip_h1_title": true,
   "title_cell": "Table of Contents",
   "title_sidebar": "Contents",
   "toc_cell": false,
   "toc_position": {
    "height": "calc(100% - 180px)",
    "left": "10px",
    "top": "150px",
    "width": "174.396px"
   },
   "toc_section_display": true,
   "toc_window_display": true
  }
 },
 "nbformat": 4,
 "nbformat_minor": 1
}
