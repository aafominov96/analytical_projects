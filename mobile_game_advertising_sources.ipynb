{
 "cells": [
  {
   "cell_type": "markdown",
   "metadata": {},
   "source": [
    "# Анализ рекламных источников"
   ]
  },
  {
   "cell_type": "markdown",
   "metadata": {},
   "source": [
    "Ссылка на презентацию:\n",
    "https://disk.yandex.ru/i/1pRHqRtvamzlYQ"
   ]
  },
  {
   "cell_type": "markdown",
   "metadata": {},
   "source": [
    "## Описание проекта"
   ]
  },
  {
   "cell_type": "markdown",
   "metadata": {},
   "source": [
    "В игре \"Космические братья\" пользователи строят свою космическую программу и пытаются колонизировать галактики. \n",
    "\n",
    "В качестве основного канала монетизации планируется показ рекламы на экране с выбором типа объекта для постройки. \n",
    "\n",
    "В представленных заказчиком данных присутствует информация о прохождении первого уровня игроками начавшими пользоваться приложением с 4 по 10 мая включительно.\n",
    "\n",
    "Завершение первого уровня возможно:\n",
    "\n",
    "* Путем реализации проекта \"Разработка орбитальной станции спутников\" (соответствующее событие в наборе данных).\n",
    "* Путем победы над другим игроком (событие завершения уровня без постройки проекта).\n",
    "\n",
    "**Цели проекта**:\n",
    "1. Провести исследовательский анализ данных.\n",
    "2. Провести анализ влияния источников перехода в игру на потенциальную монетизацию и поведение игроков, а также провести ранжирование источников.\n",
    "3. Проверить статистические гипотезы:\n",
    "    * Время завершения уровня различается в зависимости способа прохождения (через реализацию проекта или через победу над другим игроком)\n",
    "    * Количество построек пользователей, пришедших из Яндекс.Директ различается с количеством построек пользователей, пришедших из Instagram.\n",
    "    \n",
    "**План работ**:\n",
    "\n",
    "0. Обзор данных.\n",
    "1. Предварительная обработка данных:\n",
    "    * Обработка пропусков\n",
    "    * Проверка соответствия типов данных\n",
    "    * Обработка дубликатов\n",
    "    * Расчёт дополнительных метрик, необходимых для дальнейшего анализа\n",
    "2. Исследовательский анализ данных:\n",
    "    * Исследовать количество событий по дням\n",
    "    * Исследовать способы завершения первого уровня на общем объеме данных\n",
    "    * Исследовать способы завершения первого уровня в разрезе источника привлечения\n",
    "    * Исследовать количество построек пользователей на общем объеме данных\n",
    "    * Исследовать количество построек пользователей в разрезе источника привлечения\n",
    "    * Исследовать количество построек пользователей в разрезе способа завершения уровня\n",
    "    * Исследовать количество пользователей, пришедших из различных каналов привлечения\n",
    "    * Исследовать стоимость привлечения пользователей из каждого источника\n",
    "    * Проранжировать источники в разрезе максимизации потенциальной прибыли\n",
    "3. Проверка гипотез:\n",
    "    * Проверка гипотезы о различии времени завершения уровня в зависимости способа прохождения\n",
    "    * Проверка гипотезы о различии количества построек пользователей, пришедших из Яндекс.Директ и Instagram\n",
    "4. Формулирование общих выводов.\n",
    "5. Подготовка презентации.\n",
    "6. Подготовка дашборда, содержащего:\n",
    "    * диаграмму распределения количества построенных объектов\n",
    "    * индикатор количества пользователей\n",
    "    * фильтр по типу события"
   ]
  },
  {
   "cell_type": "code",
   "execution_count": 1,
   "metadata": {},
   "outputs": [],
   "source": [
    "import pandas as pd\n",
    "import datetime as dt\n",
    "import numpy as np\n",
    "import matplotlib.pyplot as plt\n",
    "import seaborn as sns\n",
    "from scipy import stats as st"
   ]
  },
  {
   "cell_type": "markdown",
   "metadata": {},
   "source": [
    "## Описание данных"
   ]
  },
  {
   "cell_type": "markdown",
   "metadata": {},
   "source": [
    "Датасет *game_actions.csv*:\n",
    "\n",
    "- `event_datetime` — время события;\n",
    "- `event` — одно из трёх событий:\n",
    "    1. `building` — объект построен,\n",
    "    2. `finished_stage_1` — первый уровень завершён,\n",
    "    3. `project` — проект завершён;\n",
    "- `building_type` — один из трёх типов здания:\n",
    "    1. `assembly_shop` — сборочный цех,\n",
    "    2. `spaceport` — космопорт,\n",
    "    3. `research_center` — исследовательский центр;\n",
    "- `user_id` — идентификатор пользователя;\n",
    "- `project_type` — тип реализованного проекта;\n",
    "\n",
    "Датасет *ad_costs.csv*:\n",
    "\n",
    "- `day` - день, в который был совершен клик по объявлению\n",
    "- `source` - источник трафика\n",
    "- `cost` - стоимость кликов\n",
    "\n",
    "Датасет user_source.csv содержит колонки:\n",
    "\n",
    "- `user_id` - идентификатор пользователя\n",
    "- `source` - источников, с которого пришёл пользователь, установивший приложение"
   ]
  },
  {
   "cell_type": "markdown",
   "metadata": {},
   "source": [
    "## Импорт и обзор данных"
   ]
  },
  {
   "cell_type": "code",
   "execution_count": 2,
   "metadata": {},
   "outputs": [],
   "source": [
    "adcost = pd.read_csv('/datasets/ad_costs.csv')\n",
    "action = pd.read_csv('/datasets/game_actions.csv')\n",
    "user = pd.read_csv('/datasets/user_source.csv')"
   ]
  },
  {
   "cell_type": "code",
   "execution_count": 3,
   "metadata": {},
   "outputs": [
    {
     "data": {
      "text/html": [
       "<div>\n",
       "<style scoped>\n",
       "    .dataframe tbody tr th:only-of-type {\n",
       "        vertical-align: middle;\n",
       "    }\n",
       "\n",
       "    .dataframe tbody tr th {\n",
       "        vertical-align: top;\n",
       "    }\n",
       "\n",
       "    .dataframe thead th {\n",
       "        text-align: right;\n",
       "    }\n",
       "</style>\n",
       "<table border=\"1\" class=\"dataframe\">\n",
       "  <thead>\n",
       "    <tr style=\"text-align: right;\">\n",
       "      <th></th>\n",
       "      <th>source</th>\n",
       "      <th>day</th>\n",
       "      <th>cost</th>\n",
       "    </tr>\n",
       "  </thead>\n",
       "  <tbody>\n",
       "    <tr>\n",
       "      <th>0</th>\n",
       "      <td>facebook_ads</td>\n",
       "      <td>2020-05-03</td>\n",
       "      <td>935.882786</td>\n",
       "    </tr>\n",
       "    <tr>\n",
       "      <th>1</th>\n",
       "      <td>facebook_ads</td>\n",
       "      <td>2020-05-04</td>\n",
       "      <td>548.354480</td>\n",
       "    </tr>\n",
       "    <tr>\n",
       "      <th>2</th>\n",
       "      <td>facebook_ads</td>\n",
       "      <td>2020-05-05</td>\n",
       "      <td>260.185754</td>\n",
       "    </tr>\n",
       "    <tr>\n",
       "      <th>3</th>\n",
       "      <td>facebook_ads</td>\n",
       "      <td>2020-05-06</td>\n",
       "      <td>177.982200</td>\n",
       "    </tr>\n",
       "    <tr>\n",
       "      <th>4</th>\n",
       "      <td>facebook_ads</td>\n",
       "      <td>2020-05-07</td>\n",
       "      <td>111.766796</td>\n",
       "    </tr>\n",
       "  </tbody>\n",
       "</table>\n",
       "</div>"
      ],
      "text/plain": [
       "         source         day        cost\n",
       "0  facebook_ads  2020-05-03  935.882786\n",
       "1  facebook_ads  2020-05-04  548.354480\n",
       "2  facebook_ads  2020-05-05  260.185754\n",
       "3  facebook_ads  2020-05-06  177.982200\n",
       "4  facebook_ads  2020-05-07  111.766796"
      ]
     },
     "metadata": {},
     "output_type": "display_data"
    },
    {
     "name": "stdout",
     "output_type": "stream",
     "text": [
      "<class 'pandas.core.frame.DataFrame'>\n",
      "RangeIndex: 28 entries, 0 to 27\n",
      "Data columns (total 3 columns):\n",
      " #   Column  Non-Null Count  Dtype  \n",
      "---  ------  --------------  -----  \n",
      " 0   source  28 non-null     object \n",
      " 1   day     28 non-null     object \n",
      " 2   cost    28 non-null     float64\n",
      "dtypes: float64(1), object(2)\n",
      "memory usage: 800.0+ bytes\n",
      "Список уникальных источников: ['facebook_ads' 'instagram_new_adverts' 'yandex_direct'\n",
      " 'youtube_channel_reklama']\n"
     ]
    }
   ],
   "source": [
    "display(adcost.head())\n",
    "adcost.info()\n",
    "print(f'Список уникальных источников: {adcost.source.unique()}')"
   ]
  },
  {
   "cell_type": "markdown",
   "metadata": {},
   "source": [
    "В данных отсутствуют пропуски. Атрибут `day` требует приведения к типу `datetime`."
   ]
  },
  {
   "cell_type": "code",
   "execution_count": 4,
   "metadata": {},
   "outputs": [
    {
     "data": {
      "text/html": [
       "<div>\n",
       "<style scoped>\n",
       "    .dataframe tbody tr th:only-of-type {\n",
       "        vertical-align: middle;\n",
       "    }\n",
       "\n",
       "    .dataframe tbody tr th {\n",
       "        vertical-align: top;\n",
       "    }\n",
       "\n",
       "    .dataframe thead th {\n",
       "        text-align: right;\n",
       "    }\n",
       "</style>\n",
       "<table border=\"1\" class=\"dataframe\">\n",
       "  <thead>\n",
       "    <tr style=\"text-align: right;\">\n",
       "      <th></th>\n",
       "      <th>event_datetime</th>\n",
       "      <th>event</th>\n",
       "      <th>building_type</th>\n",
       "      <th>user_id</th>\n",
       "      <th>project_type</th>\n",
       "    </tr>\n",
       "  </thead>\n",
       "  <tbody>\n",
       "    <tr>\n",
       "      <th>0</th>\n",
       "      <td>2020-05-04 00:00:01</td>\n",
       "      <td>building</td>\n",
       "      <td>assembly_shop</td>\n",
       "      <td>55e92310-cb8e-4754-b622-597e124b03de</td>\n",
       "      <td>NaN</td>\n",
       "    </tr>\n",
       "    <tr>\n",
       "      <th>1</th>\n",
       "      <td>2020-05-04 00:00:03</td>\n",
       "      <td>building</td>\n",
       "      <td>assembly_shop</td>\n",
       "      <td>c07b1c10-f477-44dc-81dc-ec82254b1347</td>\n",
       "      <td>NaN</td>\n",
       "    </tr>\n",
       "    <tr>\n",
       "      <th>2</th>\n",
       "      <td>2020-05-04 00:00:16</td>\n",
       "      <td>building</td>\n",
       "      <td>assembly_shop</td>\n",
       "      <td>6edd42cc-e753-4ff6-a947-2107cd560710</td>\n",
       "      <td>NaN</td>\n",
       "    </tr>\n",
       "    <tr>\n",
       "      <th>3</th>\n",
       "      <td>2020-05-04 00:00:16</td>\n",
       "      <td>building</td>\n",
       "      <td>assembly_shop</td>\n",
       "      <td>92c69003-d60a-444a-827f-8cc51bf6bf4c</td>\n",
       "      <td>NaN</td>\n",
       "    </tr>\n",
       "    <tr>\n",
       "      <th>4</th>\n",
       "      <td>2020-05-04 00:00:35</td>\n",
       "      <td>building</td>\n",
       "      <td>assembly_shop</td>\n",
       "      <td>cdc6bb92-0ccb-4490-9866-ef142f09139d</td>\n",
       "      <td>NaN</td>\n",
       "    </tr>\n",
       "  </tbody>\n",
       "</table>\n",
       "</div>"
      ],
      "text/plain": [
       "        event_datetime     event  building_type  \\\n",
       "0  2020-05-04 00:00:01  building  assembly_shop   \n",
       "1  2020-05-04 00:00:03  building  assembly_shop   \n",
       "2  2020-05-04 00:00:16  building  assembly_shop   \n",
       "3  2020-05-04 00:00:16  building  assembly_shop   \n",
       "4  2020-05-04 00:00:35  building  assembly_shop   \n",
       "\n",
       "                                user_id project_type  \n",
       "0  55e92310-cb8e-4754-b622-597e124b03de          NaN  \n",
       "1  c07b1c10-f477-44dc-81dc-ec82254b1347          NaN  \n",
       "2  6edd42cc-e753-4ff6-a947-2107cd560710          NaN  \n",
       "3  92c69003-d60a-444a-827f-8cc51bf6bf4c          NaN  \n",
       "4  cdc6bb92-0ccb-4490-9866-ef142f09139d          NaN  "
      ]
     },
     "metadata": {},
     "output_type": "display_data"
    },
    {
     "name": "stdout",
     "output_type": "stream",
     "text": [
      "<class 'pandas.core.frame.DataFrame'>\n",
      "RangeIndex: 135640 entries, 0 to 135639\n",
      "Data columns (total 5 columns):\n",
      " #   Column          Non-Null Count   Dtype \n",
      "---  ------          --------------   ----- \n",
      " 0   event_datetime  135640 non-null  object\n",
      " 1   event           135640 non-null  object\n",
      " 2   building_type   127957 non-null  object\n",
      " 3   user_id         135640 non-null  object\n",
      " 4   project_type    1866 non-null    object\n",
      "dtypes: object(5)\n",
      "memory usage: 5.2+ MB\n"
     ]
    }
   ],
   "source": [
    "display(action.head())\n",
    "action.info()"
   ]
  },
  {
   "cell_type": "markdown",
   "metadata": {},
   "source": [
    "В данных присутствуют пропуски, которые необходимо изучить детальнее. Атрибут `event_datetime` требует приведения к типу `datetime`."
   ]
  },
  {
   "cell_type": "code",
   "execution_count": 5,
   "metadata": {},
   "outputs": [
    {
     "data": {
      "text/html": [
       "<div>\n",
       "<style scoped>\n",
       "    .dataframe tbody tr th:only-of-type {\n",
       "        vertical-align: middle;\n",
       "    }\n",
       "\n",
       "    .dataframe tbody tr th {\n",
       "        vertical-align: top;\n",
       "    }\n",
       "\n",
       "    .dataframe thead th {\n",
       "        text-align: right;\n",
       "    }\n",
       "</style>\n",
       "<table border=\"1\" class=\"dataframe\">\n",
       "  <thead>\n",
       "    <tr style=\"text-align: right;\">\n",
       "      <th></th>\n",
       "      <th>user_id</th>\n",
       "      <th>source</th>\n",
       "    </tr>\n",
       "  </thead>\n",
       "  <tbody>\n",
       "    <tr>\n",
       "      <th>0</th>\n",
       "      <td>0001f83c-c6ac-4621-b7f0-8a28b283ac30</td>\n",
       "      <td>facebook_ads</td>\n",
       "    </tr>\n",
       "    <tr>\n",
       "      <th>1</th>\n",
       "      <td>00151b4f-ba38-44a8-a650-d7cf130a0105</td>\n",
       "      <td>yandex_direct</td>\n",
       "    </tr>\n",
       "    <tr>\n",
       "      <th>2</th>\n",
       "      <td>001aaea6-3d14-43f1-8ca8-7f48820f17aa</td>\n",
       "      <td>youtube_channel_reklama</td>\n",
       "    </tr>\n",
       "    <tr>\n",
       "      <th>3</th>\n",
       "      <td>001d39dc-366c-4021-9604-6a3b9ff01e25</td>\n",
       "      <td>instagram_new_adverts</td>\n",
       "    </tr>\n",
       "    <tr>\n",
       "      <th>4</th>\n",
       "      <td>002f508f-67b6-479f-814b-b05f00d4e995</td>\n",
       "      <td>facebook_ads</td>\n",
       "    </tr>\n",
       "  </tbody>\n",
       "</table>\n",
       "</div>"
      ],
      "text/plain": [
       "                                user_id                   source\n",
       "0  0001f83c-c6ac-4621-b7f0-8a28b283ac30             facebook_ads\n",
       "1  00151b4f-ba38-44a8-a650-d7cf130a0105            yandex_direct\n",
       "2  001aaea6-3d14-43f1-8ca8-7f48820f17aa  youtube_channel_reklama\n",
       "3  001d39dc-366c-4021-9604-6a3b9ff01e25    instagram_new_adverts\n",
       "4  002f508f-67b6-479f-814b-b05f00d4e995             facebook_ads"
      ]
     },
     "metadata": {},
     "output_type": "display_data"
    },
    {
     "name": "stdout",
     "output_type": "stream",
     "text": [
      "<class 'pandas.core.frame.DataFrame'>\n",
      "RangeIndex: 13576 entries, 0 to 13575\n",
      "Data columns (total 2 columns):\n",
      " #   Column   Non-Null Count  Dtype \n",
      "---  ------   --------------  ----- \n",
      " 0   user_id  13576 non-null  object\n",
      " 1   source   13576 non-null  object\n",
      "dtypes: object(2)\n",
      "memory usage: 212.2+ KB\n",
      "Список уникальных источников: ['facebook_ads' 'yandex_direct' 'youtube_channel_reklama'\n",
      " 'instagram_new_adverts']\n"
     ]
    }
   ],
   "source": [
    "display(user.head())\n",
    "user.info()\n",
    "print(f'Список уникальных источников: {user.source.unique()}')"
   ]
  },
  {
   "cell_type": "markdown",
   "metadata": {},
   "source": [
    "В данных отсуствуют пропуски, типы данных приведения не требуют, в общем наборе данных учтена информация по всем источникам."
   ]
  },
  {
   "cell_type": "markdown",
   "metadata": {},
   "source": [
    "**Вывод**: данные пригодны для дальнейшего анализа, однако требуют предварительной обработки."
   ]
  },
  {
   "cell_type": "markdown",
   "metadata": {},
   "source": [
    "## Предварительная обработка данных"
   ]
  },
  {
   "cell_type": "markdown",
   "metadata": {},
   "source": [
    "### Датасет ad_costs"
   ]
  },
  {
   "cell_type": "markdown",
   "metadata": {},
   "source": [
    "Проверим набор данных на наличие дубликатов:"
   ]
  },
  {
   "cell_type": "code",
   "execution_count": 6,
   "metadata": {},
   "outputs": [
    {
     "name": "stdout",
     "output_type": "stream",
     "text": [
      "Количество дубликатов в adcost: 0\n"
     ]
    }
   ],
   "source": [
    "print('Количество дубликатов в adcost:', adcost.duplicated().sum())"
   ]
  },
  {
   "cell_type": "markdown",
   "metadata": {},
   "source": [
    "Пропуски и дубликаты отсутствуют. Приведем тип данных:"
   ]
  },
  {
   "cell_type": "code",
   "execution_count": 7,
   "metadata": {},
   "outputs": [
    {
     "name": "stdout",
     "output_type": "stream",
     "text": [
      "Минимальная дата: 2020-05-03 00:00:00, максимальная дата: 2020-05-09 00:00:00\n",
      "<class 'pandas.core.frame.DataFrame'>\n",
      "RangeIndex: 28 entries, 0 to 27\n",
      "Data columns (total 3 columns):\n",
      " #   Column  Non-Null Count  Dtype         \n",
      "---  ------  --------------  -----         \n",
      " 0   source  28 non-null     object        \n",
      " 1   day     28 non-null     datetime64[ns]\n",
      " 2   cost    28 non-null     float64       \n",
      "dtypes: datetime64[ns](1), float64(1), object(1)\n",
      "memory usage: 800.0+ bytes\n"
     ]
    }
   ],
   "source": [
    "adcost['day'] = pd.to_datetime(adcost['day'])\n",
    "print(f'Минимальная дата: {adcost.day.min()}, максимальная дата: {adcost.day.max()}')\n",
    "adcost.info()"
   ]
  },
  {
   "cell_type": "markdown",
   "metadata": {},
   "source": [
    "**Вывод**: набор данных ad_costs обработан и полностью готов для дальнейшего анализа."
   ]
  },
  {
   "cell_type": "markdown",
   "metadata": {},
   "source": [
    "### Датасет user"
   ]
  },
  {
   "cell_type": "markdown",
   "metadata": {},
   "source": [
    "Проверим набор данных на наличие дубликатов:"
   ]
  },
  {
   "cell_type": "code",
   "execution_count": 8,
   "metadata": {},
   "outputs": [
    {
     "name": "stdout",
     "output_type": "stream",
     "text": [
      "Количество дубликатов в user: 0\n"
     ]
    }
   ],
   "source": [
    "print('Количество дубликатов в user:', user.duplicated().sum())"
   ]
  },
  {
   "cell_type": "markdown",
   "metadata": {},
   "source": [
    "Проверим уникальность канала привлечения для каждого пользователя:"
   ]
  },
  {
   "cell_type": "code",
   "execution_count": 9,
   "metadata": {},
   "outputs": [
    {
     "data": {
      "text/html": [
       "<div>\n",
       "<style scoped>\n",
       "    .dataframe tbody tr th:only-of-type {\n",
       "        vertical-align: middle;\n",
       "    }\n",
       "\n",
       "    .dataframe tbody tr th {\n",
       "        vertical-align: top;\n",
       "    }\n",
       "\n",
       "    .dataframe thead th {\n",
       "        text-align: right;\n",
       "    }\n",
       "</style>\n",
       "<table border=\"1\" class=\"dataframe\">\n",
       "  <thead>\n",
       "    <tr style=\"text-align: right;\">\n",
       "      <th></th>\n",
       "      <th>user_id</th>\n",
       "      <th>source</th>\n",
       "    </tr>\n",
       "  </thead>\n",
       "  <tbody>\n",
       "    <tr>\n",
       "      <th>0</th>\n",
       "      <td>0001f83c-c6ac-4621-b7f0-8a28b283ac30</td>\n",
       "      <td>1</td>\n",
       "    </tr>\n",
       "  </tbody>\n",
       "</table>\n",
       "</div>"
      ],
      "text/plain": [
       "                                user_id  source\n",
       "0  0001f83c-c6ac-4621-b7f0-8a28b283ac30       1"
      ]
     },
     "execution_count": 9,
     "metadata": {},
     "output_type": "execute_result"
    }
   ],
   "source": [
    "user.groupby('user_id')['source'].count().to_frame().reset_index().sort_values(by='source', ascending=False).head(1)"
   ]
  },
  {
   "cell_type": "markdown",
   "metadata": {},
   "source": [
    "**Вывод**: пропуски и дубликаты отсутствуют, типы данных соответствуют требуемым, каждому пользователю соответствует единственный канал привлечения. Набор данных не требует предварительной обработки."
   ]
  },
  {
   "cell_type": "markdown",
   "metadata": {},
   "source": [
    "### Датасет action"
   ]
  },
  {
   "cell_type": "markdown",
   "metadata": {},
   "source": [
    "Проверим набор данных на наличие дубликатов:"
   ]
  },
  {
   "cell_type": "code",
   "execution_count": 10,
   "metadata": {},
   "outputs": [
    {
     "name": "stdout",
     "output_type": "stream",
     "text": [
      "Количество дубликатов в action: 1\n"
     ]
    }
   ],
   "source": [
    "print('Количество дубликатов в action:', action.duplicated().sum())"
   ]
  },
  {
   "cell_type": "markdown",
   "metadata": {},
   "source": [
    "В данных присутствует 1 дубликат. Устраним его:"
   ]
  },
  {
   "cell_type": "code",
   "execution_count": 11,
   "metadata": {},
   "outputs": [],
   "source": [
    "action.drop_duplicates(inplace=True)"
   ]
  },
  {
   "cell_type": "markdown",
   "metadata": {},
   "source": [
    "Приведем тип данных event_datetime к требуемому:"
   ]
  },
  {
   "cell_type": "code",
   "execution_count": 12,
   "metadata": {},
   "outputs": [
    {
     "name": "stdout",
     "output_type": "stream",
     "text": [
      "Минимальная дата: 2020-05-03 00:00:00, максимальная дата: 2020-05-09 00:00:00\n"
     ]
    }
   ],
   "source": [
    "action['event_datetime'] = pd.to_datetime(action['event_datetime'])\n",
    "print(f'Минимальная дата: {adcost.day.min()}, максимальная дата: {adcost.day.max()}')"
   ]
  },
  {
   "cell_type": "markdown",
   "metadata": {},
   "source": [
    "Обработаем пропуски в данных. Начнем с поля project_type:"
   ]
  },
  {
   "cell_type": "code",
   "execution_count": 13,
   "metadata": {},
   "outputs": [
    {
     "data": {
      "text/plain": [
       "array([nan, 'satellite_orbital_assembly'], dtype=object)"
      ]
     },
     "execution_count": 13,
     "metadata": {},
     "output_type": "execute_result"
    }
   ],
   "source": [
    "action.project_type.unique()"
   ]
  },
  {
   "cell_type": "markdown",
   "metadata": {},
   "source": [
    "Данное поле содержит только одно непустое значение \"satellite_orbital_assembly\". Данные пропуски обрабатывать не нужно, они полностью корректны."
   ]
  },
  {
   "cell_type": "markdown",
   "metadata": {},
   "source": [
    "Обработаем пропуски в building_type:"
   ]
  },
  {
   "cell_type": "code",
   "execution_count": 14,
   "metadata": {},
   "outputs": [
    {
     "name": "stdout",
     "output_type": "stream",
     "text": [
      "Всего пропусков: 7683\n"
     ]
    }
   ],
   "source": [
    "action.query('building_type.isna()').head()\n",
    "print('Всего пропусков:', len(action.query('building_type.isna()')))"
   ]
  },
  {
   "cell_type": "markdown",
   "metadata": {},
   "source": [
    "Эти пропуски выглядят, как маркеры завершение уровня. Проверим данное утверждение."
   ]
  },
  {
   "cell_type": "code",
   "execution_count": 15,
   "metadata": {},
   "outputs": [
    {
     "name": "stdout",
     "output_type": "stream",
     "text": [
      "Количество пропусков. Завершение первого уровня: 5817\n",
      "Количество пропусков. Завершение проекта: 1866\n"
     ]
    }
   ],
   "source": [
    "print('Количество пропусков. Завершение первого уровня:', len(action.query('building_type.isna() and event == \"finished_stage_1\"')))\n",
    "print('Количество пропусков. Завершение проекта:',len(action.query('building_type.isna() and event == \"project\" and project_type == \"satellite_orbital_assembly\"')))"
   ]
  },
  {
   "cell_type": "markdown",
   "metadata": {},
   "source": [
    "Таким образом, можно утверждать, что пропуски в building_type также являются корректными (т.е. 5817 игроков завершили первый уровень, из них 1866 завершили проект + для них же 1866 событий завершения уровня после проекта) и являются маркером пропуска на следующий уровень. Пропуски можно заполнить значением \"next_level\" для дальнейшего удобства."
   ]
  },
  {
   "cell_type": "code",
   "execution_count": 16,
   "metadata": {},
   "outputs": [],
   "source": [
    "action.building_type.fillna('next_level', inplace=True)"
   ]
  },
  {
   "cell_type": "markdown",
   "metadata": {},
   "source": [
    "## Расчёт дополнительных метрик"
   ]
  },
  {
   "cell_type": "markdown",
   "metadata": {},
   "source": [
    "Теперь необходимо для каждого пользователя рассчитать: дату первого действия, дату последнего действия, разницу в датах в секундах, количество построенных зданий, тип перехода и стоимость привлечения."
   ]
  },
  {
   "cell_type": "markdown",
   "metadata": {},
   "source": [
    "Расчёт времени первого и последнего действия:"
   ]
  },
  {
   "cell_type": "code",
   "execution_count": 17,
   "metadata": {},
   "outputs": [
    {
     "data": {
      "text/html": [
       "<div>\n",
       "<style scoped>\n",
       "    .dataframe tbody tr th:only-of-type {\n",
       "        vertical-align: middle;\n",
       "    }\n",
       "\n",
       "    .dataframe tbody tr th {\n",
       "        vertical-align: top;\n",
       "    }\n",
       "\n",
       "    .dataframe thead th {\n",
       "        text-align: right;\n",
       "    }\n",
       "</style>\n",
       "<table border=\"1\" class=\"dataframe\">\n",
       "  <thead>\n",
       "    <tr style=\"text-align: right;\">\n",
       "      <th></th>\n",
       "      <th>user_id</th>\n",
       "      <th>first_action</th>\n",
       "      <th>last_action</th>\n",
       "      <th>timedelta</th>\n",
       "    </tr>\n",
       "  </thead>\n",
       "  <tbody>\n",
       "    <tr>\n",
       "      <th>0</th>\n",
       "      <td>0001f83c-c6ac-4621-b7f0-8a28b283ac30</td>\n",
       "      <td>2020-05-06 01:07:37</td>\n",
       "      <td>2020-05-20 11:26:06</td>\n",
       "      <td>1246709.0</td>\n",
       "    </tr>\n",
       "    <tr>\n",
       "      <th>1</th>\n",
       "      <td>00151b4f-ba38-44a8-a650-d7cf130a0105</td>\n",
       "      <td>2020-05-06 03:09:12</td>\n",
       "      <td>2020-05-18 10:46:52</td>\n",
       "      <td>1064260.0</td>\n",
       "    </tr>\n",
       "    <tr>\n",
       "      <th>2</th>\n",
       "      <td>001aaea6-3d14-43f1-8ca8-7f48820f17aa</td>\n",
       "      <td>2020-05-05 18:08:52</td>\n",
       "      <td>2020-05-14 09:21:27</td>\n",
       "      <td>745955.0</td>\n",
       "    </tr>\n",
       "    <tr>\n",
       "      <th>3</th>\n",
       "      <td>001d39dc-366c-4021-9604-6a3b9ff01e25</td>\n",
       "      <td>2020-05-05 21:02:05</td>\n",
       "      <td>2020-05-12 07:40:47</td>\n",
       "      <td>556722.0</td>\n",
       "    </tr>\n",
       "    <tr>\n",
       "      <th>4</th>\n",
       "      <td>002f508f-67b6-479f-814b-b05f00d4e995</td>\n",
       "      <td>2020-05-05 13:49:58</td>\n",
       "      <td>2020-05-22 02:46:45</td>\n",
       "      <td>1429007.0</td>\n",
       "    </tr>\n",
       "  </tbody>\n",
       "</table>\n",
       "</div>"
      ],
      "text/plain": [
       "                                user_id        first_action  \\\n",
       "0  0001f83c-c6ac-4621-b7f0-8a28b283ac30 2020-05-06 01:07:37   \n",
       "1  00151b4f-ba38-44a8-a650-d7cf130a0105 2020-05-06 03:09:12   \n",
       "2  001aaea6-3d14-43f1-8ca8-7f48820f17aa 2020-05-05 18:08:52   \n",
       "3  001d39dc-366c-4021-9604-6a3b9ff01e25 2020-05-05 21:02:05   \n",
       "4  002f508f-67b6-479f-814b-b05f00d4e995 2020-05-05 13:49:58   \n",
       "\n",
       "          last_action  timedelta  \n",
       "0 2020-05-20 11:26:06  1246709.0  \n",
       "1 2020-05-18 10:46:52  1064260.0  \n",
       "2 2020-05-14 09:21:27   745955.0  \n",
       "3 2020-05-12 07:40:47   556722.0  \n",
       "4 2020-05-22 02:46:45  1429007.0  "
      ]
     },
     "execution_count": 17,
     "metadata": {},
     "output_type": "execute_result"
    }
   ],
   "source": [
    "user_date = action.groupby('user_id').agg({'event_datetime':['min', 'max']}).reset_index()\n",
    "user_date.columns = ['user_id', 'first_action', 'last_action']\n",
    "user_date['timedelta'] = (user_date.last_action - user_date.first_action).astype('timedelta64[s]')\n",
    "user_date.head()"
   ]
  },
  {
   "cell_type": "markdown",
   "metadata": {},
   "source": [
    "Расчёт количества построек:"
   ]
  },
  {
   "cell_type": "code",
   "execution_count": 18,
   "metadata": {},
   "outputs": [
    {
     "data": {
      "text/html": [
       "<div>\n",
       "<style scoped>\n",
       "    .dataframe tbody tr th:only-of-type {\n",
       "        vertical-align: middle;\n",
       "    }\n",
       "\n",
       "    .dataframe tbody tr th {\n",
       "        vertical-align: top;\n",
       "    }\n",
       "\n",
       "    .dataframe thead th {\n",
       "        text-align: right;\n",
       "    }\n",
       "</style>\n",
       "<table border=\"1\" class=\"dataframe\">\n",
       "  <thead>\n",
       "    <tr style=\"text-align: right;\">\n",
       "      <th></th>\n",
       "      <th>user_id</th>\n",
       "      <th>buildings</th>\n",
       "    </tr>\n",
       "  </thead>\n",
       "  <tbody>\n",
       "    <tr>\n",
       "      <th>0</th>\n",
       "      <td>0001f83c-c6ac-4621-b7f0-8a28b283ac30</td>\n",
       "      <td>13</td>\n",
       "    </tr>\n",
       "    <tr>\n",
       "      <th>1</th>\n",
       "      <td>00151b4f-ba38-44a8-a650-d7cf130a0105</td>\n",
       "      <td>9</td>\n",
       "    </tr>\n",
       "    <tr>\n",
       "      <th>2</th>\n",
       "      <td>001aaea6-3d14-43f1-8ca8-7f48820f17aa</td>\n",
       "      <td>4</td>\n",
       "    </tr>\n",
       "    <tr>\n",
       "      <th>3</th>\n",
       "      <td>001d39dc-366c-4021-9604-6a3b9ff01e25</td>\n",
       "      <td>8</td>\n",
       "    </tr>\n",
       "    <tr>\n",
       "      <th>4</th>\n",
       "      <td>002f508f-67b6-479f-814b-b05f00d4e995</td>\n",
       "      <td>12</td>\n",
       "    </tr>\n",
       "  </tbody>\n",
       "</table>\n",
       "</div>"
      ],
      "text/plain": [
       "                                user_id  buildings\n",
       "0  0001f83c-c6ac-4621-b7f0-8a28b283ac30         13\n",
       "1  00151b4f-ba38-44a8-a650-d7cf130a0105          9\n",
       "2  001aaea6-3d14-43f1-8ca8-7f48820f17aa          4\n",
       "3  001d39dc-366c-4021-9604-6a3b9ff01e25          8\n",
       "4  002f508f-67b6-479f-814b-b05f00d4e995         12"
      ]
     },
     "execution_count": 18,
     "metadata": {},
     "output_type": "execute_result"
    }
   ],
   "source": [
    "user_buildings = action.query('event == \"building\" ').groupby('user_id')['event_datetime'].count().to_frame().reset_index()\n",
    "user_buildings.columns = ['user_id', 'buildings']\n",
    "user_buildings.head()"
   ]
  },
  {
   "cell_type": "markdown",
   "metadata": {},
   "source": [
    "Расчёт стоимости привлечения пользователей. Условимся допущением, что первое действие в игре было совершено в день клика по объявлению."
   ]
  },
  {
   "cell_type": "code",
   "execution_count": 20,
   "metadata": {},
   "outputs": [
    {
     "data": {
      "text/html": [
       "<div>\n",
       "<style scoped>\n",
       "    .dataframe tbody tr th:only-of-type {\n",
       "        vertical-align: middle;\n",
       "    }\n",
       "\n",
       "    .dataframe tbody tr th {\n",
       "        vertical-align: top;\n",
       "    }\n",
       "\n",
       "    .dataframe thead th {\n",
       "        text-align: right;\n",
       "    }\n",
       "</style>\n",
       "<table border=\"1\" class=\"dataframe\">\n",
       "  <thead>\n",
       "    <tr style=\"text-align: right;\">\n",
       "      <th></th>\n",
       "      <th>source</th>\n",
       "      <th>num_of_users</th>\n",
       "      <th>cost</th>\n",
       "      <th>one_user_cost</th>\n",
       "    </tr>\n",
       "  </thead>\n",
       "  <tbody>\n",
       "    <tr>\n",
       "      <th>0</th>\n",
       "      <td>facebook_ads</td>\n",
       "      <td>2726</td>\n",
       "      <td>2140.904643</td>\n",
       "      <td>0.785365</td>\n",
       "    </tr>\n",
       "    <tr>\n",
       "      <th>1</th>\n",
       "      <td>instagram_new_adverts</td>\n",
       "      <td>3347</td>\n",
       "      <td>2161.441691</td>\n",
       "      <td>0.645785</td>\n",
       "    </tr>\n",
       "    <tr>\n",
       "      <th>2</th>\n",
       "      <td>yandex_direct</td>\n",
       "      <td>4817</td>\n",
       "      <td>2233.111449</td>\n",
       "      <td>0.463590</td>\n",
       "    </tr>\n",
       "    <tr>\n",
       "      <th>3</th>\n",
       "      <td>youtube_channel_reklama</td>\n",
       "      <td>2686</td>\n",
       "      <td>1068.119204</td>\n",
       "      <td>0.397662</td>\n",
       "    </tr>\n",
       "  </tbody>\n",
       "</table>\n",
       "</div>"
      ],
      "text/plain": [
       "                    source  num_of_users         cost  one_user_cost\n",
       "0             facebook_ads          2726  2140.904643       0.785365\n",
       "1    instagram_new_adverts          3347  2161.441691       0.645785\n",
       "2            yandex_direct          4817  2233.111449       0.463590\n",
       "3  youtube_channel_reklama          2686  1068.119204       0.397662"
      ]
     },
     "execution_count": 20,
     "metadata": {},
     "output_type": "execute_result"
    }
   ],
   "source": [
    "user_date['first_day'] = pd.to_datetime(user_date.first_action.dt.date)\n",
    "user_cost = user_date.copy()\n",
    "user_cost = (user_cost.merge(user, on='user_id', how='inner')\n",
    "             .groupby(['source'])['user_id'].count()\n",
    "             .reset_index())\n",
    "user_cost.columns = ['source', 'num_of_users']\n",
    "user_cost = user_cost.merge(adcost, on=['source'], how='inner')\n",
    "user_cost = user_cost.groupby('source').agg({'num_of_users':['min'], 'cost':'sum'}).reset_index()\n",
    "user_cost.columns = ['source', 'num_of_users', 'cost']\n",
    "user_cost['one_user_cost'] = user_cost.cost / user_cost.num_of_users\n",
    "user_cost.head()"
   ]
  },
  {
   "cell_type": "markdown",
   "metadata": {},
   "source": [
    "Расчёт способа перехода на следующий уровень для каждого пользователя:"
   ]
  },
  {
   "cell_type": "code",
   "execution_count": 21,
   "metadata": {},
   "outputs": [
    {
     "data": {
      "text/html": [
       "<div>\n",
       "<style scoped>\n",
       "    .dataframe tbody tr th:only-of-type {\n",
       "        vertical-align: middle;\n",
       "    }\n",
       "\n",
       "    .dataframe tbody tr th {\n",
       "        vertical-align: top;\n",
       "    }\n",
       "\n",
       "    .dataframe thead th {\n",
       "        text-align: right;\n",
       "    }\n",
       "</style>\n",
       "<table border=\"1\" class=\"dataframe\">\n",
       "  <thead>\n",
       "    <tr style=\"text-align: right;\">\n",
       "      <th></th>\n",
       "      <th>user_id</th>\n",
       "      <th>finish</th>\n",
       "    </tr>\n",
       "  </thead>\n",
       "  <tbody>\n",
       "    <tr>\n",
       "      <th>0</th>\n",
       "      <td>001d39dc-366c-4021-9604-6a3b9ff01e25</td>\n",
       "      <td>0.0</td>\n",
       "    </tr>\n",
       "    <tr>\n",
       "      <th>1</th>\n",
       "      <td>003ee7e8-6356-4286-a715-62f22a18d2a1</td>\n",
       "      <td>0.0</td>\n",
       "    </tr>\n",
       "    <tr>\n",
       "      <th>2</th>\n",
       "      <td>004074f8-251a-4776-922c-8348dca1a2f6</td>\n",
       "      <td>0.0</td>\n",
       "    </tr>\n",
       "    <tr>\n",
       "      <th>3</th>\n",
       "      <td>00464e5e-28ed-4be6-bf44-517ef7b3937b</td>\n",
       "      <td>0.0</td>\n",
       "    </tr>\n",
       "    <tr>\n",
       "      <th>4</th>\n",
       "      <td>0056c007-c082-43cc-bdef-afc49bca4cb9</td>\n",
       "      <td>0.0</td>\n",
       "    </tr>\n",
       "  </tbody>\n",
       "</table>\n",
       "</div>"
      ],
      "text/plain": [
       "                                user_id  finish\n",
       "0  001d39dc-366c-4021-9604-6a3b9ff01e25     0.0\n",
       "1  003ee7e8-6356-4286-a715-62f22a18d2a1     0.0\n",
       "2  004074f8-251a-4776-922c-8348dca1a2f6     0.0\n",
       "3  00464e5e-28ed-4be6-bf44-517ef7b3937b     0.0\n",
       "4  0056c007-c082-43cc-bdef-afc49bca4cb9     0.0"
      ]
     },
     "execution_count": 21,
     "metadata": {},
     "output_type": "execute_result"
    }
   ],
   "source": [
    "user_next = pd.concat([action[action['project_type'] == 'satellite_orbital_assembly'],\n",
    "                              action[action['event'] == 'finished_stage_1']], ignore_index=True)\n",
    "user_next.loc[user_next.project_type.isna(), 'finish'] = 0\n",
    "user_next.loc[user_next.project_type == 'satellite_orbital_assembly', 'finish'] = 1\n",
    "user_next = user_next.groupby('user_id')['finish'].max().to_frame().reset_index()\n",
    "user_next.head()"
   ]
  },
  {
   "cell_type": "markdown",
   "metadata": {},
   "source": [
    "Объединим полученные данные:"
   ]
  },
  {
   "cell_type": "code",
   "execution_count": 22,
   "metadata": {},
   "outputs": [
    {
     "data": {
      "text/html": [
       "<div>\n",
       "<style scoped>\n",
       "    .dataframe tbody tr th:only-of-type {\n",
       "        vertical-align: middle;\n",
       "    }\n",
       "\n",
       "    .dataframe tbody tr th {\n",
       "        vertical-align: top;\n",
       "    }\n",
       "\n",
       "    .dataframe thead th {\n",
       "        text-align: right;\n",
       "    }\n",
       "</style>\n",
       "<table border=\"1\" class=\"dataframe\">\n",
       "  <thead>\n",
       "    <tr style=\"text-align: right;\">\n",
       "      <th></th>\n",
       "      <th>user_id</th>\n",
       "      <th>timedelta</th>\n",
       "      <th>source</th>\n",
       "      <th>one_user_cost</th>\n",
       "      <th>buildings</th>\n",
       "      <th>finish</th>\n",
       "    </tr>\n",
       "  </thead>\n",
       "  <tbody>\n",
       "    <tr>\n",
       "      <th>0</th>\n",
       "      <td>0001f83c-c6ac-4621-b7f0-8a28b283ac30</td>\n",
       "      <td>1246709.0</td>\n",
       "      <td>facebook_ads</td>\n",
       "      <td>0.785365</td>\n",
       "      <td>13</td>\n",
       "      <td>no_transition</td>\n",
       "    </tr>\n",
       "    <tr>\n",
       "      <th>1</th>\n",
       "      <td>00151b4f-ba38-44a8-a650-d7cf130a0105</td>\n",
       "      <td>1064260.0</td>\n",
       "      <td>yandex_direct</td>\n",
       "      <td>0.463590</td>\n",
       "      <td>9</td>\n",
       "      <td>no_transition</td>\n",
       "    </tr>\n",
       "    <tr>\n",
       "      <th>2</th>\n",
       "      <td>001aaea6-3d14-43f1-8ca8-7f48820f17aa</td>\n",
       "      <td>745955.0</td>\n",
       "      <td>youtube_channel_reklama</td>\n",
       "      <td>0.397662</td>\n",
       "      <td>4</td>\n",
       "      <td>no_transition</td>\n",
       "    </tr>\n",
       "    <tr>\n",
       "      <th>3</th>\n",
       "      <td>001d39dc-366c-4021-9604-6a3b9ff01e25</td>\n",
       "      <td>556722.0</td>\n",
       "      <td>instagram_new_adverts</td>\n",
       "      <td>0.645785</td>\n",
       "      <td>8</td>\n",
       "      <td>win</td>\n",
       "    </tr>\n",
       "    <tr>\n",
       "      <th>4</th>\n",
       "      <td>002f508f-67b6-479f-814b-b05f00d4e995</td>\n",
       "      <td>1429007.0</td>\n",
       "      <td>facebook_ads</td>\n",
       "      <td>0.785365</td>\n",
       "      <td>12</td>\n",
       "      <td>no_transition</td>\n",
       "    </tr>\n",
       "  </tbody>\n",
       "</table>\n",
       "</div>"
      ],
      "text/plain": [
       "                                user_id  timedelta                   source  \\\n",
       "0  0001f83c-c6ac-4621-b7f0-8a28b283ac30  1246709.0             facebook_ads   \n",
       "1  00151b4f-ba38-44a8-a650-d7cf130a0105  1064260.0            yandex_direct   \n",
       "2  001aaea6-3d14-43f1-8ca8-7f48820f17aa   745955.0  youtube_channel_reklama   \n",
       "3  001d39dc-366c-4021-9604-6a3b9ff01e25   556722.0    instagram_new_adverts   \n",
       "4  002f508f-67b6-479f-814b-b05f00d4e995  1429007.0             facebook_ads   \n",
       "\n",
       "   one_user_cost  buildings         finish  \n",
       "0       0.785365         13  no_transition  \n",
       "1       0.463590          9  no_transition  \n",
       "2       0.397662          4  no_transition  \n",
       "3       0.645785          8            win  \n",
       "4       0.785365         12  no_transition  "
      ]
     },
     "execution_count": 22,
     "metadata": {},
     "output_type": "execute_result"
    }
   ],
   "source": [
    "df = (user_date.merge(user, on='user_id', how='left')\n",
    "          .merge(user_cost, on = 'source', how='left')\n",
    "          .merge(user_buildings, on='user_id', how='left')\n",
    "          .merge(user_next, on='user_id', how='left'))\n",
    "df.drop(['first_action', 'last_action', 'first_day', 'num_of_users', 'cost'], axis=1, inplace=True)\n",
    "df['finish'].replace({1:'project', 0:'win'}, inplace=True)\n",
    "df['finish'].fillna('no_transition', inplace=True)\n",
    "df.head()"
   ]
  },
  {
   "cell_type": "markdown",
   "metadata": {},
   "source": [
    "## Исследовательский анализ данных"
   ]
  },
  {
   "cell_type": "markdown",
   "metadata": {},
   "source": [
    "### Количество событий по дням"
   ]
  },
  {
   "cell_type": "code",
   "execution_count": 23,
   "metadata": {},
   "outputs": [],
   "source": [
    "action['day'] = action.event_datetime.dt.date"
   ]
  },
  {
   "cell_type": "code",
   "execution_count": 24,
   "metadata": {},
   "outputs": [
    {
     "data": {
      "image/png": "[encoded data removed]",
      "text/plain": [
       "<Figure size 864x576 with 1 Axes>"
      ]
     },
     "metadata": {
      "needs_background": "light"
     },
     "output_type": "display_data"
    }
   ],
   "source": [
    "plt.figure(figsize=(12,8));\n",
    "action.groupby('day')['event'].count().plot(grid=True);\n",
    "plt.title('Количество событий по дням');\n",
    "plt.xlabel('Дата');\n",
    "plt.ylabel('Количество событий');"
   ]
  },
  {
   "cell_type": "markdown",
   "metadata": {},
   "source": [
    "**Вывод**: на данном графике вполне закономерный результат. Самое большое количество действий приходится на первый игровой день, а затем количество действий в игре уменьшается. Пик приходится на 10 мая, когда и закончился набор новых пользователей в когорту. Таким образом убеждаемся, что нет никаких аномальных всплесков."
   ]
  },
  {
   "cell_type": "markdown",
   "metadata": {},
   "source": [
    "### Способы завершения первого уровня"
   ]
  },
  {
   "cell_type": "markdown",
   "metadata": {},
   "source": [
    "#### Способы завершения на всем объеме данных"
   ]
  },
  {
   "cell_type": "code",
   "execution_count": 25,
   "metadata": {},
   "outputs": [
    {
     "data": {
      "image/png": "[encoded data removed]",
      "text/plain": [
       "<Figure size 576x576 with 1 Axes>"
      ]
     },
     "metadata": {
      "needs_background": "light"
     },
     "output_type": "display_data"
    }
   ],
   "source": [
    "plt.figure(figsize=(8,8));\n",
    "sns.countplot(data=df, x='finish');\n",
    "plt.title('Способы завершения первого уровня на всем объеме данных');\n",
    "plt.xlabel('Способ завершения уровня');\n",
    "plt.ylabel('Количество');"
   ]
  },
  {
   "cell_type": "markdown",
   "metadata": {},
   "source": [
    "#### Способы завершения в разрезе источника привлечения"
   ]
  },
  {
   "cell_type": "code",
   "execution_count": 26,
   "metadata": {},
   "outputs": [
    {
     "data": {
      "image/png": "[encoded data removed]",
      "text/plain": [
       "<Figure size 576x576 with 1 Axes>"
      ]
     },
     "metadata": {
      "needs_background": "light"
     },
     "output_type": "display_data"
    }
   ],
   "source": [
    "plt.figure(figsize=(8,8));\n",
    "sns.countplot(data=df, x='finish', hue='source');\n",
    "plt.title('Способы завершения первого уровня в разрезе источника привлечения');\n",
    "plt.xlabel('Способ завершения уровня');\n",
    "plt.ylabel('Количество');"
   ]
  },
  {
   "cell_type": "markdown",
   "metadata": {},
   "source": [
    "**Вывод**:\n",
    "\n",
    "1. Б**о**льшая часть новопришедших игроков не завершает первый уровень.\n",
    "2. Б**о**льшая часть игроков приходит из Яндекс.Директ.\n",
    "3. Более распространенный способ перехода на второй уровень - победа над другим игроком. В таком случае, можно рассматривать дополнительные каналы монетизации, связанные именно с этим способом.\n",
    "4. Способ завершения первого уровня принципиально не различается для разных источников привлечения."
   ]
  },
  {
   "cell_type": "markdown",
   "metadata": {},
   "source": [
    "### Исследование количества построек"
   ]
  },
  {
   "cell_type": "markdown",
   "metadata": {},
   "source": [
    "#### Количество построек на всем объеме данных"
   ]
  },
  {
   "cell_type": "code",
   "execution_count": 27,
   "metadata": {},
   "outputs": [
    {
     "data": {
      "image/png": "[encoded data removed]",
      "text/plain": [
       "<Figure size 576x432 with 1 Axes>"
      ]
     },
     "metadata": {
      "needs_background": "light"
     },
     "output_type": "display_data"
    }
   ],
   "source": [
    "plt.figure(figsize=(8,6));\n",
    "df.buildings.hist(bins=20, color='lightblue', alpha=0.9);\n",
    "plt.axvline(df.buildings.mean(), color='green', linestyle='--', label='Среднее значение');\n",
    "plt.title('Гистограмма количества построек');\n",
    "plt.xlabel('Количество построек пользователя');\n",
    "plt.legend();"
   ]
  },
  {
   "cell_type": "markdown",
   "metadata": {},
   "source": [
    "#### Количество построек в разрезе канала привлечения"
   ]
  },
  {
   "cell_type": "code",
   "execution_count": 28,
   "metadata": {},
   "outputs": [
    {
     "data": {
      "image/png": "[encoded data removed]",
      "text/plain": [
       "<Figure size 1152x360 with 4 Axes>"
      ]
     },
     "metadata": {
      "needs_background": "light"
     },
     "output_type": "display_data"
    }
   ],
   "source": [
    "fig, axes = plt.subplots(nrows=1, ncols=4, figsize=(16, 5))\n",
    "i = 0\n",
    "for x in df.source.unique():\n",
    "    df.loc[df.source == x, 'buildings'].to_frame().hist(bins=20, ax=axes[i])\n",
    "    axes[i].title.set_text(x)\n",
    "    i+=1"
   ]
  },
  {
   "cell_type": "markdown",
   "metadata": {},
   "source": [
    "#### Количество построек в разрезе способа завершения уровня"
   ]
  },
  {
   "cell_type": "code",
   "execution_count": 29,
   "metadata": {},
   "outputs": [
    {
     "data": {
      "image/png": "[encoded data removed]",
      "text/plain": [
       "<Figure size 1152x360 with 3 Axes>"
      ]
     },
     "metadata": {
      "needs_background": "light"
     },
     "output_type": "display_data"
    }
   ],
   "source": [
    "fig, axes = plt.subplots(nrows=1, ncols=3, figsize=(16, 5))\n",
    "i = 0\n",
    "for x in df.finish.unique():\n",
    "    df.loc[df.finish == x, 'buildings'].to_frame().hist(bins=20, ax=axes[i])\n",
    "    axes[i].title.set_text(x)\n",
    "    i+=1"
   ]
  },
  {
   "cell_type": "markdown",
   "metadata": {},
   "source": [
    "**Вывод**: распределение количества построек как в целом, так и в разрезе источника можно было бы считать очень похожим на нормальное, если бы не провал на уровне 7 построек. Можно предположить, что начиная именно с 7 постройки игра начинает усложняться, что приводит к провалу. В среднем, игроки на 1 уровне строят около 9 объектов. Вполне вероятно, что именно на этом этапе следует предлагать более активную монетизацию, т.к. это может помочь игрокам преодолеть \"провал\". Важно отметить, что количество построек игроков, которые заканчивают первый уровень проектом, значительно выше остальных и они также являются целью планируемой монетизации."
   ]
  },
  {
   "cell_type": "markdown",
   "metadata": {},
   "source": [
    "### Исследование каналов привлечения"
   ]
  },
  {
   "cell_type": "code",
   "execution_count": 30,
   "metadata": {},
   "outputs": [
    {
     "data": {
      "image/png": "[encoded data removed]",
      "text/plain": [
       "<Figure size 432x288 with 1 Axes>"
      ]
     },
     "metadata": {},
     "output_type": "display_data"
    }
   ],
   "source": [
    "df.groupby('source')['user_id'].count().to_frame().plot(kind='pie', \n",
    "                                           x='source', y='user_id', \n",
    "                                           autopct='%1.1f%%', legend=False);\n",
    "plt.title('Распределение количества пользователей по источникам привлечения');"
   ]
  },
  {
   "cell_type": "code",
   "execution_count": 31,
   "metadata": {},
   "outputs": [
    {
     "data": {
      "image/png": "[encoded data removed]",
      "text/plain": [
       "<Figure size 432x288 with 1 Axes>"
      ]
     },
     "metadata": {},
     "output_type": "display_data"
    }
   ],
   "source": [
    "df.groupby('source')['one_user_cost'].sum().to_frame().plot(kind='pie', \n",
    "                                           x='source', y='one_user_cost', \n",
    "                                           autopct='%1.1f%%', legend=False);\n",
    "\n",
    "plt.title('Распределение стоимости привлечения пользователей по источникам привлечения');"
   ]
  },
  {
   "cell_type": "code",
   "execution_count": 32,
   "metadata": {},
   "outputs": [
    {
     "data": {
      "image/png": "[encoded data removed]",
      "text/plain": [
       "<Figure size 432x288 with 1 Axes>"
      ]
     },
     "metadata": {
      "needs_background": "light"
     },
     "output_type": "display_data"
    }
   ],
   "source": [
    "plt.title('Средняя стоимость привлечения пользователей');\n",
    "df.groupby('source')['one_user_cost'].mean().plot.bar();\n",
    "plt.xticks(rotation=30);\n",
    "plt.xlabel('Источник привлечения');"
   ]
  },
  {
   "cell_type": "markdown",
   "metadata": {},
   "source": [
    "**Вывод**: нетрудно заметить, что большинство пользователей привлекается из Яндекс.Директа, при этом это одни из самых дешевых пользователей. При этом самым дешевым каналом является Youtube, но доля пользователей из данного канала самая низкая. Instagram и Facebook - самые дорогие каналы привлечения. Из них привлечено около 25% и 20% соответственно. Полученную информацию важно учитывать при выделении самых выгодных каналов привлечения."
   ]
  },
  {
   "cell_type": "markdown",
   "metadata": {},
   "source": [
    "### Исследование времени прохождения первого уровня"
   ]
  },
  {
   "cell_type": "markdown",
   "metadata": {},
   "source": [
    "#### Время прохождения первого уровня на общем объеме данных"
   ]
  },
  {
   "cell_type": "code",
   "execution_count": 33,
   "metadata": {},
   "outputs": [
    {
     "data": {
      "image/png": "[encoded data removed]",
      "text/plain": [
       "<Figure size 432x288 with 1 Axes>"
      ]
     },
     "metadata": {
      "needs_background": "light"
     },
     "output_type": "display_data"
    }
   ],
   "source": [
    "df.timedelta.hist(bins=20, alpha=0.8);\n",
    "plt.title('Время прохождения первого уровня на общем объеме данных');\n",
    "plt.xlabel('Время прохождения (сек.)');\n",
    "plt.axvline(df.timedelta.mean(), color='green', linestyle='--', label='Среднее значение');\n",
    "plt.legend();"
   ]
  },
  {
   "cell_type": "markdown",
   "metadata": {},
   "source": [
    "#### Время прохождения первого уровня в разрезе канала привлечения"
   ]
  },
  {
   "cell_type": "code",
   "execution_count": 34,
   "metadata": {},
   "outputs": [
    {
     "data": {
      "image/png": "[encoded data removed]",
      "text/plain": [
       "<Figure size 1152x360 with 4 Axes>"
      ]
     },
     "metadata": {
      "needs_background": "light"
     },
     "output_type": "display_data"
    }
   ],
   "source": [
    "fig, axes = plt.subplots(nrows=1, ncols=4, figsize=(16, 5))\n",
    "i = 0\n",
    "for x in df.source.unique():\n",
    "    df.loc[df.source == x, 'timedelta'].to_frame().hist(bins=20, ax=axes[i])\n",
    "    axes[i].title.set_text(x)\n",
    "    i+=1"
   ]
  },
  {
   "cell_type": "markdown",
   "metadata": {},
   "source": [
    "**Вывод**: в среднем, на прохождение первого уровня тратится около 10 дней независимо от канала привлечения."
   ]
  },
  {
   "cell_type": "markdown",
   "metadata": {},
   "source": [
    "## Проверка гипотез"
   ]
  },
  {
   "cell_type": "markdown",
   "metadata": {},
   "source": [
    "Так как исследование не является высокоточным, примем уровень значимости равный 0.05."
   ]
  },
  {
   "cell_type": "code",
   "execution_count": 35,
   "metadata": {},
   "outputs": [],
   "source": [
    "alpha = .05"
   ]
  },
  {
   "cell_type": "markdown",
   "metadata": {},
   "source": [
    "### О различии времени завершения уровня в зависимости способа прохождения"
   ]
  },
  {
   "cell_type": "markdown",
   "metadata": {},
   "source": [
    "Первая гипотеза заключается в том, что время завершения первого уровня отличается в зависимости от способа прохождения (т.е. через победу или проект).\n",
    "\n",
    "**H0**: среднее время завершения первого уровня не различается в зависимости от способа прохождения.\n",
    "\n",
    "**H1**: среднее время завершения первого уровня различается в зависимости от способа прохождения.\n",
    "\n",
    "**Метод проверки**: t-test Стьюдента (считаем дисперсии генеральных совокупностей равными, т.к. нет оснований считать обратное)"
   ]
  },
  {
   "cell_type": "markdown",
   "metadata": {},
   "source": [
    "Подготовка данных:"
   ]
  },
  {
   "cell_type": "code",
   "execution_count": 36,
   "metadata": {},
   "outputs": [],
   "source": [
    "df_test_1_1 = df.query('finish == \"win\" and timedelta != 0')\n",
    "df_test_1_2 = df.query('finish == \"project\" and timedelta != 0')"
   ]
  },
  {
   "cell_type": "markdown",
   "metadata": {},
   "source": [
    "Проверяем распределения:"
   ]
  },
  {
   "cell_type": "code",
   "execution_count": 37,
   "metadata": {},
   "outputs": [
    {
     "name": "stdout",
     "output_type": "stream",
     "text": [
      "Среднее значение времени прохождения через победу: 959424.08 (сек.)\n",
      "Медианное значение времени прохождения через победу: 932497.0 (сек.)\n"
     ]
    },
    {
     "data": {
      "image/png": "[encoded data removed]",
      "text/plain": [
       "<Figure size 432x288 with 1 Axes>"
      ]
     },
     "metadata": {
      "needs_background": "light"
     },
     "output_type": "display_data"
    }
   ],
   "source": [
    "df_test_1_1.timedelta.hist(bins=20, alpha=0.8);\n",
    "plt.title('Распределение времени прохождения через победу');\n",
    "plt.xlabel('Вреия прохождения')\n",
    "plt.axvline(df_test_1_1.timedelta.mean(), color='green', linestyle='--', label='Среднее значение');\n",
    "plt.legend();\n",
    "print(f'Среднее значение времени прохождения через победу: {round(df_test_1_1.timedelta.mean(),2)} (сек.)')\n",
    "print(f'Медианное значение времени прохождения через победу: {round(df_test_1_1.timedelta.median(),2)} (сек.)')"
   ]
  },
  {
   "cell_type": "code",
   "execution_count": 38,
   "metadata": {},
   "outputs": [
    {
     "name": "stdout",
     "output_type": "stream",
     "text": [
      "Среднее значение времени прохождения через проект: 1162849.14 (сек.)\n",
      "Медианное значение времени прохождения через проект: 1125941.0 (сек.)\n"
     ]
    },
    {
     "data": {
      "image/png": "[encoded data removed]",
      "text/plain": [
       "<Figure size 432x288 with 1 Axes>"
      ]
     },
     "metadata": {
      "needs_background": "light"
     },
     "output_type": "display_data"
    }
   ],
   "source": [
    "df_test_1_2.timedelta.hist(bins=20, alpha=0.8);\n",
    "plt.title('Распределение времени прохождения через проект');\n",
    "plt.xlabel('Вреия прохождения')\n",
    "plt.axvline(df_test_1_2.timedelta.mean(), color='green', linestyle='--', label='Среднее значение');\n",
    "plt.legend();\n",
    "print(f'Среднее значение времени прохождения через проект: {round(df_test_1_2.timedelta.mean(),2)} (сек.)')\n",
    "print(f'Медианное значение времени прохождения через проект: {round(df_test_1_2.timedelta.median(),2)} (сек.)')"
   ]
  },
  {
   "cell_type": "markdown",
   "metadata": {},
   "source": [
    "Статистический тест:"
   ]
  },
  {
   "cell_type": "code",
   "execution_count": 39,
   "metadata": {},
   "outputs": [
    {
     "name": "stdout",
     "output_type": "stream",
     "text": [
      "p-значение: 7.256845329495443e-98\n",
      "Отвергаем нулевую гипотезу о равестве \n"
     ]
    }
   ],
   "source": [
    "results = st.ttest_ind(\n",
    "    df_test_1_1.timedelta, \n",
    "    df_test_1_2.timedelta)\n",
    "\n",
    "print('p-значение:', results.pvalue)\n",
    "\n",
    "if results.pvalue < alpha:\n",
    "    print(\"Отвергаем нулевую гипотезу о равестве \")\n",
    "else:\n",
    "    print(\"Не получилось отвергнуть нулевую гипотезу\") "
   ]
  },
  {
   "cell_type": "markdown",
   "metadata": {},
   "source": [
    "**Вывод**: нулевая гипотеза была отвергнута, следовательно, можно утверждать, что среднее время прохождения первого уровня через победу и через проект статистически значимо различается. В среднем, через проект завершение первого уровня длится дольше."
   ]
  },
  {
   "cell_type": "markdown",
   "metadata": {},
   "source": [
    "### О различии количества построек пользователей, пришедших из Яндекс.Директ и Instagram"
   ]
  },
  {
   "cell_type": "markdown",
   "metadata": {},
   "source": [
    "Вторая гипотеза заключается в том, что количество построек пользователей, пришедших через Яндекс.Директ и Instagram различаются.\n",
    "\n",
    "**H0**: среднее количество построек не различается в зависимости канала привлечения (Яндекс.Директ или Instagram).\n",
    "\n",
    "**H1**: среднее количество построек различается в зависимости канала привлечения (Яндекс.Директ или Instagram).\n",
    "\n",
    "**Метод проверки**: t-test Стьюдента (считаем дисперсии генеральных совокупностей равными, т.к. нет оснований считать обратное)"
   ]
  },
  {
   "cell_type": "markdown",
   "metadata": {},
   "source": [
    "Подготовка данных:"
   ]
  },
  {
   "cell_type": "code",
   "execution_count": 40,
   "metadata": {},
   "outputs": [],
   "source": [
    "df_test_2_1 = df.query('source == \"yandex_direct\"')\n",
    "df_test_2_2 = df.query('source == \"instagram_new_adverts\"')"
   ]
  },
  {
   "cell_type": "markdown",
   "metadata": {},
   "source": [
    "Проверяем распределения:"
   ]
  },
  {
   "cell_type": "code",
   "execution_count": 41,
   "metadata": {},
   "outputs": [
    {
     "name": "stdout",
     "output_type": "stream",
     "text": [
      "Среднее значение количества построек Яндекс.Директ: 9.35\n",
      "Медианное значение количества построек Яндекс.Директ: 10.0\n"
     ]
    },
    {
     "data": {
      "image/png": "[encoded data removed]",
      "text/plain": [
       "<Figure size 432x288 with 1 Axes>"
      ]
     },
     "metadata": {
      "needs_background": "light"
     },
     "output_type": "display_data"
    }
   ],
   "source": [
    "df_test_2_1.buildings.hist(bins=20, alpha=0.8);\n",
    "plt.title('Распределение количества построек Яндекс.Директ');\n",
    "plt.xlabel('Количество построек')\n",
    "plt.axvline(df_test_2_1.buildings.mean(), color='green', linestyle='--', label='Среднее значение');\n",
    "plt.legend();\n",
    "print(f'Среднее значение количества построек Яндекс.Директ: {round(df_test_2_1.buildings.mean(),2)}')\n",
    "print(f'Медианное значение количества построек Яндекс.Директ: {round(df_test_2_1.buildings.median(),2)}')"
   ]
  },
  {
   "cell_type": "code",
   "execution_count": 42,
   "metadata": {},
   "outputs": [
    {
     "name": "stdout",
     "output_type": "stream",
     "text": [
      "Среднее значение количества построек Instagram: 9.51\n",
      "Медианное значение количества построек Instagram: 10.0\n"
     ]
    },
    {
     "data": {
      "image/png": "[encoded data removed]",
      "text/plain": [
       "<Figure size 432x288 with 1 Axes>"
      ]
     },
     "metadata": {
      "needs_background": "light"
     },
     "output_type": "display_data"
    }
   ],
   "source": [
    "df_test_2_2.buildings.hist(bins=20, alpha=0.8);\n",
    "plt.title('Распределение количества построек Instagram');\n",
    "plt.xlabel('Количество построек')\n",
    "plt.axvline(df_test_2_2.buildings.mean(), color='green', linestyle='--', label='Среднее значение');\n",
    "plt.legend();\n",
    "print(f'Среднее значение количества построек Instagram: {round(df_test_2_2.buildings.mean(),2)}')\n",
    "print(f'Медианное значение количества построек Instagram: {round(df_test_2_2.buildings.median(),2)}')"
   ]
  },
  {
   "cell_type": "markdown",
   "metadata": {},
   "source": [
    "Статистический тест:"
   ]
  },
  {
   "cell_type": "code",
   "execution_count": 43,
   "metadata": {},
   "outputs": [
    {
     "name": "stdout",
     "output_type": "stream",
     "text": [
      "p-значение: 0.06989780662351841\n",
      "Не получилось отвергнуть нулевую гипотезу\n"
     ]
    }
   ],
   "source": [
    "results = st.ttest_ind(\n",
    "    df_test_2_1.buildings, \n",
    "    df_test_2_2.buildings)\n",
    "\n",
    "print('p-значение:', results.pvalue)\n",
    "\n",
    "if results.pvalue < alpha:\n",
    "    print(\"Отвергаем нулевую гипотезу о равестве \")\n",
    "else:\n",
    "    print(\"Не получилось отвергнуть нулевую гипотезу\") "
   ]
  },
  {
   "cell_type": "markdown",
   "metadata": {},
   "source": [
    "**Вывод**: не получилось отвергнуть нулевую гипотезу о равенстве количества построек пользователей, привлеченных из Instagram и Яндекс.Директ, однако стоит обратить внимание, что p-value располагается очень близко к пороговому."
   ]
  },
  {
   "cell_type": "markdown",
   "metadata": {},
   "source": [
    "## Выводы и рекомендации"
   ]
  },
  {
   "cell_type": "markdown",
   "metadata": {},
   "source": [
    "В ходе выполнения работы были проделаны следующие этапы:\n",
    "1. Проведен обзор данныхпри это\n",
    "2. Проведена предварительная обработка данных\n",
    "3. Рассчитаны дополнительные метрики и данные приведены к удобной для анализа форме.\n",
    "4. Проведен исследовательский анализ данных в результате которого:\n",
    "    * Рассмотрена динамика количества событий по дням\n",
    "    * Под различными углами рассмотрены способы завершение первого уровня игры\n",
    "    * Исследовано количество построек в различных разрезах\n",
    "    * Изучены каналы привлечения игроков\n",
    "    * Рассмотрено влияние различных факторов на время прохождения первого уровня\n",
    "5. Проверены статистические гипотезы:\n",
    "    * О различии времени завершения уровня в зависимости способа прохождения\n",
    "    * О количества построек пользователей, пришедших из Яндекс.Директ и Instagram\n",
    "6. По результатам исследования подготовлена [презентация](https://disk.yandex.ru/i/1pRHqRtvamzlYQ) и дашборд.\n",
    "\n",
    "**Ключевые выводы**:\n",
    "1. Пик по количеству действий игроков приходится на 10 мая, когда закончился набор участников когорты.\n",
    "2. Большинство новопришедших игроков не завершает первый уровень.\n",
    "3. По большей части, игроки предпочитают проекту победу над другим игроком для перехода на следующий уровень.\n",
    "4. Способ завершения первого уровня принципиально не различается для разных источников привлечения, т.е. соотношение \"не завершил уровень\" - \"победа\" - \"проект\" приблизительно одинаковое.\n",
    "5. Игроки, которые заканчивают первый уровень через проект в среднем строят намного больше игровых зданий, чем остальные игроки. Минимальное количество построек у игроков, которые не закончили первый уровень.\n",
    "6. Довольно малое количество игроков строит 7 зданий (отчетливо виден провал на графике). В случае, если этот этап становится затруднительным для игроков, это может привести к оттоку. Данный кейс требует дополнительного рассмотрения.\n",
    "7. Количество построенных зданий принципиально не зависит от канала привлечения.\n",
    "8. Наибольший поток игроков приходит из канала Яндекс.Директ (более 35%). Этот же канал является одним из самых дешевых. Facebook и Instagram совместно приносят около 45% пользователей, при этом средняя стоимость привлечения из этих каналов в 1.5 - 2 раза выше, чем из Youtube и Яндекс.Директ. Самым дешевым каналом привлечения является Youtube, но его доля занимает всего менее 20% от привлеченных пользователей.\n",
    "9. В среднем, на прохождение первого уровня у пользователей тратится около 10 дней независимо от канала привлечения.\n",
    "10. Время завершения уровня статистически значимо различается в зависимости от способа завершения первого уровня. В среднем, через проект завершать уровень дольше.\n",
    "11. Количество построек пользователей, пришедших из Яндекс.Директ и Instagram статистически значимо не различается.\n",
    "\n",
    "**Рекомендации**:\n",
    "1. Возможно, следует упростить механику прохождения первого уровня для повышения вовлеченности в игровой процесс.\n",
    "2. Следует отдавать предпочтение каналам привлечения Яндекс.Директ и Youtube, так как игроки, пришедшие оттуда стоят дешевле остальных, но при этом поведение игроков принципиально не отличается во всех источниках привлечения. Каналы Facebook и Instagram существенно дороже, при этом приводят суммарно не более половины пользователей.\n",
    "3. Способ монетизации через показ объявлений с выбором типа постройки является потенциально хорошим, однако наибольшую эффективность, вероятно, он будет показывать на игроках, которые планируют завершать уровень через проект. Таким образом при введении данного типа монетизации следует дополнительно стимулировать игроков к развитию проектов."
   ]
  }
 ],
 "metadata": {
  "ExecuteTimeLog": [
   {
    "duration": 380,
    "start_time": "2022-09-06T04:58:18.828Z"
   },
   {
    "duration": 78,
    "start_time": "2022-09-06T04:58:21.083Z"
   },
   {
    "duration": 544,
    "start_time": "2022-09-06T04:58:23.883Z"
   },
   {
    "duration": 100,
    "start_time": "2022-09-06T04:58:25.505Z"
   },
   {
    "duration": 87,
    "start_time": "2022-09-06T04:58:52.991Z"
   },
   {
    "duration": 254,
    "start_time": "2022-09-06T04:59:59.248Z"
   },
   {
    "duration": 286,
    "start_time": "2022-09-06T05:14:08.604Z"
   },
   {
    "duration": 271,
    "start_time": "2022-09-06T05:14:13.480Z"
   },
   {
    "duration": 20,
    "start_time": "2022-09-06T05:14:42.886Z"
   },
   {
    "duration": 11,
    "start_time": "2022-09-06T05:14:46.773Z"
   },
   {
    "duration": 24,
    "start_time": "2022-09-06T05:14:58.326Z"
   },
   {
    "duration": 36,
    "start_time": "2022-09-06T05:15:44.142Z"
   },
   {
    "duration": 15,
    "start_time": "2022-09-06T05:15:46.748Z"
   },
   {
    "duration": 14,
    "start_time": "2022-09-06T05:16:20.820Z"
   },
   {
    "duration": 376,
    "start_time": "2022-09-06T05:17:04.549Z"
   },
   {
    "duration": 271,
    "start_time": "2022-09-06T05:17:04.927Z"
   },
   {
    "duration": 17,
    "start_time": "2022-09-06T05:17:05.200Z"
   },
   {
    "duration": 36,
    "start_time": "2022-09-06T05:17:05.219Z"
   },
   {
    "duration": 25,
    "start_time": "2022-09-06T05:17:05.256Z"
   },
   {
    "duration": 14,
    "start_time": "2022-09-06T05:18:45.702Z"
   },
   {
    "duration": 36,
    "start_time": "2022-09-06T05:21:27.544Z"
   },
   {
    "duration": 83,
    "start_time": "2022-09-06T05:22:18.733Z"
   },
   {
    "duration": 21,
    "start_time": "2022-09-06T05:22:34.540Z"
   },
   {
    "duration": 17,
    "start_time": "2022-09-06T05:23:23.600Z"
   },
   {
    "duration": 18,
    "start_time": "2022-09-06T05:23:46.232Z"
   },
   {
    "duration": 414,
    "start_time": "2022-09-06T05:28:05.174Z"
   },
   {
    "duration": 326,
    "start_time": "2022-09-06T05:28:05.598Z"
   },
   {
    "duration": 0,
    "start_time": "2022-09-06T05:28:05.926Z"
   },
   {
    "duration": 0,
    "start_time": "2022-09-06T05:28:05.927Z"
   },
   {
    "duration": 0,
    "start_time": "2022-09-06T05:28:05.928Z"
   },
   {
    "duration": 260,
    "start_time": "2022-09-06T05:28:15.613Z"
   },
   {
    "duration": 387,
    "start_time": "2022-09-06T05:28:21.604Z"
   },
   {
    "duration": 267,
    "start_time": "2022-09-06T05:28:21.993Z"
   },
   {
    "duration": 20,
    "start_time": "2022-09-06T05:28:22.261Z"
   },
   {
    "duration": 58,
    "start_time": "2022-09-06T05:28:22.283Z"
   },
   {
    "duration": 17,
    "start_time": "2022-09-06T05:28:22.343Z"
   },
   {
    "duration": 5,
    "start_time": "2022-09-06T05:39:56.275Z"
   },
   {
    "duration": 7,
    "start_time": "2022-09-06T05:40:00.623Z"
   },
   {
    "duration": 6,
    "start_time": "2022-09-06T05:40:40.115Z"
   },
   {
    "duration": 73,
    "start_time": "2022-09-06T05:41:21.740Z"
   },
   {
    "duration": 2,
    "start_time": "2022-09-06T05:42:00.215Z"
   },
   {
    "duration": 10,
    "start_time": "2022-09-06T05:42:05.217Z"
   },
   {
    "duration": 15,
    "start_time": "2022-09-06T05:42:19.178Z"
   },
   {
    "duration": 3,
    "start_time": "2022-09-06T05:44:29.357Z"
   },
   {
    "duration": 10,
    "start_time": "2022-09-06T05:44:36.728Z"
   },
   {
    "duration": 13,
    "start_time": "2022-09-06T05:44:45.078Z"
   },
   {
    "duration": 33,
    "start_time": "2022-09-06T05:45:34.309Z"
   },
   {
    "duration": 19,
    "start_time": "2022-09-06T05:45:34.638Z"
   },
   {
    "duration": 5,
    "start_time": "2022-09-06T05:45:38.346Z"
   },
   {
    "duration": 12,
    "start_time": "2022-09-06T05:46:51.950Z"
   },
   {
    "duration": 11,
    "start_time": "2022-09-06T05:47:49.312Z"
   },
   {
    "duration": 15,
    "start_time": "2022-09-06T05:48:01.456Z"
   },
   {
    "duration": 14,
    "start_time": "2022-09-06T05:52:28.104Z"
   },
   {
    "duration": 16,
    "start_time": "2022-09-06T05:54:53.037Z"
   },
   {
    "duration": 17,
    "start_time": "2022-09-06T05:55:03.530Z"
   },
   {
    "duration": 17,
    "start_time": "2022-09-06T05:55:13.464Z"
   },
   {
    "duration": 27,
    "start_time": "2022-09-06T05:55:29.833Z"
   },
   {
    "duration": 28,
    "start_time": "2022-09-06T05:55:39.384Z"
   },
   {
    "duration": 21,
    "start_time": "2022-09-06T05:55:43.474Z"
   },
   {
    "duration": 68,
    "start_time": "2022-09-06T05:57:05.212Z"
   },
   {
    "duration": 3,
    "start_time": "2022-09-06T05:57:46.229Z"
   },
   {
    "duration": 72,
    "start_time": "2022-09-06T05:57:49.330Z"
   },
   {
    "duration": 82,
    "start_time": "2022-09-06T05:57:56.685Z"
   },
   {
    "duration": 18,
    "start_time": "2022-09-06T05:58:39.133Z"
   },
   {
    "duration": 17,
    "start_time": "2022-09-06T05:58:44.965Z"
   },
   {
    "duration": 12,
    "start_time": "2022-09-06T06:01:49.681Z"
   },
   {
    "duration": 10,
    "start_time": "2022-09-06T06:02:03.210Z"
   },
   {
    "duration": 83,
    "start_time": "2022-09-06T06:02:06.424Z"
   },
   {
    "duration": 85,
    "start_time": "2022-09-06T06:02:12.845Z"
   },
   {
    "duration": 412,
    "start_time": "2022-09-06T06:02:25.069Z"
   },
   {
    "duration": 270,
    "start_time": "2022-09-06T06:02:25.483Z"
   },
   {
    "duration": 24,
    "start_time": "2022-09-06T06:02:25.754Z"
   },
   {
    "duration": 53,
    "start_time": "2022-09-06T06:02:25.780Z"
   },
   {
    "duration": 20,
    "start_time": "2022-09-06T06:02:25.835Z"
   },
   {
    "duration": 4,
    "start_time": "2022-09-06T06:02:25.856Z"
   },
   {
    "duration": 46,
    "start_time": "2022-09-06T06:02:25.862Z"
   },
   {
    "duration": 28,
    "start_time": "2022-09-06T06:02:25.911Z"
   },
   {
    "duration": 19,
    "start_time": "2022-09-06T06:02:25.941Z"
   },
   {
    "duration": 90,
    "start_time": "2022-09-06T06:02:25.962Z"
   },
   {
    "duration": 88,
    "start_time": "2022-09-06T06:02:26.054Z"
   },
   {
    "duration": 63,
    "start_time": "2022-09-06T07:51:15.174Z"
   },
   {
    "duration": 14,
    "start_time": "2022-09-06T07:51:23.063Z"
   },
   {
    "duration": 29,
    "start_time": "2022-09-06T07:54:34.834Z"
   },
   {
    "duration": 42,
    "start_time": "2022-09-06T07:55:41.959Z"
   },
   {
    "duration": 11,
    "start_time": "2022-09-06T07:55:54.843Z"
   },
   {
    "duration": 25,
    "start_time": "2022-09-06T07:56:03.098Z"
   },
   {
    "duration": 15,
    "start_time": "2022-09-06T09:29:08.538Z"
   },
   {
    "duration": 38,
    "start_time": "2022-09-06T09:32:48.838Z"
   },
   {
    "duration": 19,
    "start_time": "2022-09-06T09:32:54.386Z"
   },
   {
    "duration": 22,
    "start_time": "2022-09-06T09:34:42.369Z"
   },
   {
    "duration": 30,
    "start_time": "2022-09-06T09:34:57.141Z"
   },
   {
    "duration": 23,
    "start_time": "2022-09-06T09:35:03.244Z"
   },
   {
    "duration": 32,
    "start_time": "2022-09-06T09:35:35.240Z"
   },
   {
    "duration": 19,
    "start_time": "2022-09-06T09:36:18.504Z"
   },
   {
    "duration": 25,
    "start_time": "2022-09-06T09:37:10.147Z"
   },
   {
    "duration": 22,
    "start_time": "2022-09-06T09:39:24.443Z"
   },
   {
    "duration": 17,
    "start_time": "2022-09-06T09:39:36.144Z"
   },
   {
    "duration": 23,
    "start_time": "2022-09-06T09:39:38.040Z"
   },
   {
    "duration": 22,
    "start_time": "2022-09-06T09:39:44.084Z"
   },
   {
    "duration": 11,
    "start_time": "2022-09-06T09:39:58.049Z"
   },
   {
    "duration": 13,
    "start_time": "2022-09-06T09:41:31.400Z"
   },
   {
    "duration": 172,
    "start_time": "2022-09-06T09:42:07.036Z"
   },
   {
    "duration": 14,
    "start_time": "2022-09-06T09:42:12.067Z"
   },
   {
    "duration": 28,
    "start_time": "2022-09-06T09:42:47.044Z"
   },
   {
    "duration": 36,
    "start_time": "2022-09-06T09:42:48.883Z"
   },
   {
    "duration": 107,
    "start_time": "2022-09-06T09:43:23.628Z"
   },
   {
    "duration": 113,
    "start_time": "2022-09-06T09:43:30.768Z"
   },
   {
    "duration": 11,
    "start_time": "2022-09-06T09:43:39.940Z"
   },
   {
    "duration": 10,
    "start_time": "2022-09-06T09:44:06.681Z"
   },
   {
    "duration": 14,
    "start_time": "2022-09-06T09:44:17.095Z"
   },
   {
    "duration": 8,
    "start_time": "2022-09-06T09:46:35.647Z"
   },
   {
    "duration": 12,
    "start_time": "2022-09-06T09:51:20.121Z"
   },
   {
    "duration": 44,
    "start_time": "2022-09-06T09:51:35.273Z"
   },
   {
    "duration": 8,
    "start_time": "2022-09-06T09:51:39.066Z"
   },
   {
    "duration": 33,
    "start_time": "2022-09-06T09:53:22.235Z"
   },
   {
    "duration": 9,
    "start_time": "2022-09-06T09:53:23.031Z"
   },
   {
    "duration": 32,
    "start_time": "2022-09-06T09:54:20.440Z"
   },
   {
    "duration": 12,
    "start_time": "2022-09-06T09:54:20.783Z"
   },
   {
    "duration": 35,
    "start_time": "2022-09-06T09:55:25.269Z"
   },
   {
    "duration": 11,
    "start_time": "2022-09-06T09:56:31.140Z"
   },
   {
    "duration": 6,
    "start_time": "2022-09-06T09:57:45.560Z"
   },
   {
    "duration": 6,
    "start_time": "2022-09-06T09:57:52.230Z"
   },
   {
    "duration": 7,
    "start_time": "2022-09-06T09:57:55.424Z"
   },
   {
    "duration": 37,
    "start_time": "2022-09-06T09:59:03.784Z"
   },
   {
    "duration": 38,
    "start_time": "2022-09-06T09:59:30.488Z"
   },
   {
    "duration": 37,
    "start_time": "2022-09-06T09:59:44.588Z"
   },
   {
    "duration": 303,
    "start_time": "2022-09-06T10:07:44.662Z"
   },
   {
    "duration": 44,
    "start_time": "2022-09-06T10:07:58.516Z"
   },
   {
    "duration": 50,
    "start_time": "2022-09-06T10:08:20.803Z"
   },
   {
    "duration": 15,
    "start_time": "2022-09-06T10:08:26.181Z"
   },
   {
    "duration": 45,
    "start_time": "2022-09-06T10:08:49.738Z"
   },
   {
    "duration": 52,
    "start_time": "2022-09-06T10:08:52.691Z"
   },
   {
    "duration": 17,
    "start_time": "2022-09-06T10:09:02.586Z"
   },
   {
    "duration": 16,
    "start_time": "2022-09-06T10:09:25.992Z"
   },
   {
    "duration": 42,
    "start_time": "2022-09-06T10:09:56.900Z"
   },
   {
    "duration": 66,
    "start_time": "2022-09-06T10:10:51.760Z"
   },
   {
    "duration": 55,
    "start_time": "2022-09-06T10:11:10.101Z"
   },
   {
    "duration": 12,
    "start_time": "2022-09-06T10:12:29.427Z"
   },
   {
    "duration": 23,
    "start_time": "2022-09-06T10:12:42.744Z"
   },
   {
    "duration": 8,
    "start_time": "2022-09-06T10:13:38.874Z"
   },
   {
    "duration": 18,
    "start_time": "2022-09-06T10:13:48.080Z"
   },
   {
    "duration": 48,
    "start_time": "2022-09-06T10:15:15.140Z"
   },
   {
    "duration": 49,
    "start_time": "2022-09-06T10:15:21.377Z"
   },
   {
    "duration": 47,
    "start_time": "2022-09-06T10:15:33.190Z"
   },
   {
    "duration": 43,
    "start_time": "2022-09-06T10:15:38.815Z"
   },
   {
    "duration": 43,
    "start_time": "2022-09-06T10:16:09.824Z"
   },
   {
    "duration": 49,
    "start_time": "2022-09-06T10:16:42.820Z"
   },
   {
    "duration": 10,
    "start_time": "2022-09-06T10:19:05.832Z"
   },
   {
    "duration": 4,
    "start_time": "2022-09-06T10:22:49.626Z"
   },
   {
    "duration": 9,
    "start_time": "2022-09-06T10:23:26.857Z"
   },
   {
    "duration": 17,
    "start_time": "2022-09-06T10:23:35.841Z"
   },
   {
    "duration": 21,
    "start_time": "2022-09-06T10:25:27.022Z"
   },
   {
    "duration": 17,
    "start_time": "2022-09-06T10:25:27.584Z"
   },
   {
    "duration": 13,
    "start_time": "2022-09-06T10:25:58.908Z"
   },
   {
    "duration": 25,
    "start_time": "2022-09-06T10:27:12.097Z"
   },
   {
    "duration": 6,
    "start_time": "2022-09-06T10:27:13.699Z"
   },
   {
    "duration": 26,
    "start_time": "2022-09-06T10:27:48.364Z"
   },
   {
    "duration": 8,
    "start_time": "2022-09-06T10:27:48.846Z"
   },
   {
    "duration": 32,
    "start_time": "2022-09-06T10:28:25.224Z"
   },
   {
    "duration": 10,
    "start_time": "2022-09-06T10:28:25.583Z"
   },
   {
    "duration": 26,
    "start_time": "2022-09-06T10:28:39.031Z"
   },
   {
    "duration": 9,
    "start_time": "2022-09-06T10:28:39.233Z"
   },
   {
    "duration": 11,
    "start_time": "2022-09-06T10:28:49.493Z"
   },
   {
    "duration": 270,
    "start_time": "2022-09-06T10:30:00.561Z"
   },
   {
    "duration": 10,
    "start_time": "2022-09-06T10:30:08.862Z"
   },
   {
    "duration": 245,
    "start_time": "2022-09-06T10:30:19.722Z"
   },
   {
    "duration": 65,
    "start_time": "2022-09-06T10:30:27.573Z"
   },
   {
    "duration": 27,
    "start_time": "2022-09-06T10:30:42.226Z"
   },
   {
    "duration": 13,
    "start_time": "2022-09-06T10:30:42.888Z"
   },
   {
    "duration": 10,
    "start_time": "2022-09-06T10:30:48.279Z"
   },
   {
    "duration": 14,
    "start_time": "2022-09-06T10:31:08.080Z"
   },
   {
    "duration": 2,
    "start_time": "2022-09-06T10:32:32.417Z"
   },
   {
    "duration": 10,
    "start_time": "2022-09-06T10:32:34.065Z"
   },
   {
    "duration": 11,
    "start_time": "2022-09-06T10:32:38.373Z"
   },
   {
    "duration": 9,
    "start_time": "2022-09-06T10:32:43.412Z"
   },
   {
    "duration": 29,
    "start_time": "2022-09-06T10:33:33.053Z"
   },
   {
    "duration": 12,
    "start_time": "2022-09-06T10:33:38.643Z"
   },
   {
    "duration": 21,
    "start_time": "2022-09-06T10:33:41.037Z"
   },
   {
    "duration": 14,
    "start_time": "2022-09-06T10:34:08.897Z"
   },
   {
    "duration": 59,
    "start_time": "2022-09-06T10:37:23.171Z"
   },
   {
    "duration": 8,
    "start_time": "2022-09-06T10:37:35.444Z"
   },
   {
    "duration": 9,
    "start_time": "2022-09-06T10:37:56.645Z"
   },
   {
    "duration": 8,
    "start_time": "2022-09-06T10:40:09.758Z"
   },
   {
    "duration": 10,
    "start_time": "2022-09-06T10:40:15.253Z"
   },
   {
    "duration": 13,
    "start_time": "2022-09-06T10:41:22.959Z"
   },
   {
    "duration": 12,
    "start_time": "2022-09-06T10:41:23.500Z"
   },
   {
    "duration": 11,
    "start_time": "2022-09-06T10:41:33.522Z"
   },
   {
    "duration": 28,
    "start_time": "2022-09-06T10:41:57.400Z"
   },
   {
    "duration": 9,
    "start_time": "2022-09-06T10:41:59.263Z"
   },
   {
    "duration": 6,
    "start_time": "2022-09-06T10:42:29.889Z"
   },
   {
    "duration": 10,
    "start_time": "2022-09-06T10:42:31.698Z"
   },
   {
    "duration": 13,
    "start_time": "2022-09-06T10:42:37.022Z"
   },
   {
    "duration": 12,
    "start_time": "2022-09-06T10:42:40.923Z"
   },
   {
    "duration": 7,
    "start_time": "2022-09-06T10:42:59.689Z"
   },
   {
    "duration": 13,
    "start_time": "2022-09-06T10:43:00.292Z"
   },
   {
    "duration": 13,
    "start_time": "2022-09-06T10:43:10.166Z"
   },
   {
    "duration": 32,
    "start_time": "2022-09-06T10:43:12.244Z"
   },
   {
    "duration": 10,
    "start_time": "2022-09-06T10:43:13.523Z"
   },
   {
    "duration": 5,
    "start_time": "2022-09-06T10:43:17.615Z"
   },
   {
    "duration": 16,
    "start_time": "2022-09-06T10:43:19.325Z"
   },
   {
    "duration": 46,
    "start_time": "2022-09-06T10:44:25.310Z"
   },
   {
    "duration": 49,
    "start_time": "2022-09-06T10:44:33.972Z"
   },
   {
    "duration": 8,
    "start_time": "2022-09-06T10:44:59.733Z"
   },
   {
    "duration": 14,
    "start_time": "2022-09-06T10:45:02.329Z"
   },
   {
    "duration": 436,
    "start_time": "2022-09-06T10:46:04.371Z"
   },
   {
    "duration": 265,
    "start_time": "2022-09-06T10:46:04.809Z"
   },
   {
    "duration": 20,
    "start_time": "2022-09-06T10:46:05.076Z"
   },
   {
    "duration": 37,
    "start_time": "2022-09-06T10:46:05.098Z"
   },
   {
    "duration": 17,
    "start_time": "2022-09-06T10:46:05.137Z"
   },
   {
    "duration": 31,
    "start_time": "2022-09-06T10:46:05.155Z"
   },
   {
    "duration": 13,
    "start_time": "2022-09-06T10:46:05.188Z"
   },
   {
    "duration": 17,
    "start_time": "2022-09-06T10:46:05.202Z"
   },
   {
    "duration": 25,
    "start_time": "2022-09-06T10:46:05.221Z"
   },
   {
    "duration": 98,
    "start_time": "2022-09-06T10:46:05.248Z"
   },
   {
    "duration": 93,
    "start_time": "2022-09-06T10:46:05.347Z"
   },
   {
    "duration": 47,
    "start_time": "2022-09-06T10:46:05.442Z"
   },
   {
    "duration": 10,
    "start_time": "2022-09-06T10:46:05.491Z"
   },
   {
    "duration": 26,
    "start_time": "2022-09-06T10:46:05.502Z"
   },
   {
    "duration": 29,
    "start_time": "2022-09-06T10:46:05.529Z"
   },
   {
    "duration": 29,
    "start_time": "2022-09-06T10:46:05.559Z"
   },
   {
    "duration": 53,
    "start_time": "2022-09-06T10:46:05.589Z"
   },
   {
    "duration": 68,
    "start_time": "2022-09-06T10:46:05.644Z"
   },
   {
    "duration": 60,
    "start_time": "2022-09-06T10:46:05.713Z"
   },
   {
    "duration": 0,
    "start_time": "2022-09-06T10:46:05.775Z"
   },
   {
    "duration": 0,
    "start_time": "2022-09-06T10:46:05.785Z"
   },
   {
    "duration": 33,
    "start_time": "2022-09-06T10:46:26.521Z"
   },
   {
    "duration": 32,
    "start_time": "2022-09-06T10:46:36.067Z"
   },
   {
    "duration": 16,
    "start_time": "2022-09-06T10:46:37.874Z"
   },
   {
    "duration": 13,
    "start_time": "2022-09-06T10:46:45.356Z"
   },
   {
    "duration": 15,
    "start_time": "2022-09-06T10:47:48.736Z"
   },
   {
    "duration": 17,
    "start_time": "2022-09-06T10:48:14.257Z"
   },
   {
    "duration": 11,
    "start_time": "2022-09-06T10:48:25.169Z"
   },
   {
    "duration": 14,
    "start_time": "2022-09-06T10:48:36.123Z"
   },
   {
    "duration": 11,
    "start_time": "2022-09-06T10:48:43.333Z"
   },
   {
    "duration": 49,
    "start_time": "2022-09-06T10:50:20.343Z"
   },
   {
    "duration": 46,
    "start_time": "2022-09-06T10:50:22.219Z"
   },
   {
    "duration": 13,
    "start_time": "2022-09-06T10:50:46.431Z"
   },
   {
    "duration": 17,
    "start_time": "2022-09-06T10:51:13.785Z"
   },
   {
    "duration": 13,
    "start_time": "2022-09-06T10:52:23.174Z"
   },
   {
    "duration": 394,
    "start_time": "2022-09-07T04:26:16.241Z"
   },
   {
    "duration": 749,
    "start_time": "2022-09-07T04:26:16.638Z"
   },
   {
    "duration": 20,
    "start_time": "2022-09-07T04:26:17.389Z"
   },
   {
    "duration": 32,
    "start_time": "2022-09-07T04:26:17.411Z"
   },
   {
    "duration": 14,
    "start_time": "2022-09-07T04:26:17.445Z"
   },
   {
    "duration": 4,
    "start_time": "2022-09-07T04:26:17.461Z"
   },
   {
    "duration": 13,
    "start_time": "2022-09-07T04:26:17.466Z"
   },
   {
    "duration": 8,
    "start_time": "2022-09-07T04:26:17.481Z"
   },
   {
    "duration": 16,
    "start_time": "2022-09-07T04:26:17.491Z"
   },
   {
    "duration": 95,
    "start_time": "2022-09-07T04:26:17.509Z"
   },
   {
    "duration": 81,
    "start_time": "2022-09-07T04:26:17.605Z"
   },
   {
    "duration": 35,
    "start_time": "2022-09-07T04:26:17.688Z"
   },
   {
    "duration": 9,
    "start_time": "2022-09-07T04:26:17.725Z"
   },
   {
    "duration": 38,
    "start_time": "2022-09-07T04:26:17.736Z"
   },
   {
    "duration": 27,
    "start_time": "2022-09-07T04:26:17.776Z"
   },
   {
    "duration": 8,
    "start_time": "2022-09-07T04:26:17.805Z"
   },
   {
    "duration": 65,
    "start_time": "2022-09-07T04:26:17.814Z"
   },
   {
    "duration": 43,
    "start_time": "2022-09-07T04:26:17.881Z"
   },
   {
    "duration": 43,
    "start_time": "2022-09-07T04:26:17.926Z"
   },
   {
    "duration": 10,
    "start_time": "2022-09-07T04:26:17.970Z"
   },
   {
    "duration": 12,
    "start_time": "2022-09-07T04:26:17.981Z"
   },
   {
    "duration": 9,
    "start_time": "2022-09-07T04:26:17.994Z"
   },
   {
    "duration": 20,
    "start_time": "2022-09-07T04:26:18.004Z"
   },
   {
    "duration": 11,
    "start_time": "2022-09-07T04:27:20.243Z"
   },
   {
    "duration": 15,
    "start_time": "2022-09-07T04:28:01.324Z"
   },
   {
    "duration": 11,
    "start_time": "2022-09-07T04:30:06.937Z"
   },
   {
    "duration": 60,
    "start_time": "2022-09-07T04:30:28.294Z"
   },
   {
    "duration": 20,
    "start_time": "2022-09-07T04:30:34.390Z"
   },
   {
    "duration": 23,
    "start_time": "2022-09-07T04:30:56.092Z"
   },
   {
    "duration": 16,
    "start_time": "2022-09-07T04:31:46.253Z"
   },
   {
    "duration": 13,
    "start_time": "2022-09-07T04:31:55.522Z"
   },
   {
    "duration": 753,
    "start_time": "2022-09-07T04:32:47.712Z"
   },
   {
    "duration": 3,
    "start_time": "2022-09-07T04:33:36.789Z"
   },
   {
    "duration": 17,
    "start_time": "2022-09-07T04:33:44.569Z"
   },
   {
    "duration": 7,
    "start_time": "2022-09-07T04:33:47.081Z"
   },
   {
    "duration": 20,
    "start_time": "2022-09-07T04:34:01.372Z"
   },
   {
    "duration": 6,
    "start_time": "2022-09-07T04:34:01.828Z"
   },
   {
    "duration": 14,
    "start_time": "2022-09-07T04:34:13.010Z"
   },
   {
    "duration": 6,
    "start_time": "2022-09-07T04:35:25.584Z"
   },
   {
    "duration": 13,
    "start_time": "2022-09-07T04:35:26.036Z"
   },
   {
    "duration": 15,
    "start_time": "2022-09-07T04:35:34.148Z"
   },
   {
    "duration": 7,
    "start_time": "2022-09-07T04:35:34.484Z"
   },
   {
    "duration": 15,
    "start_time": "2022-09-07T04:35:35.700Z"
   },
   {
    "duration": 6,
    "start_time": "2022-09-07T04:36:08.871Z"
   },
   {
    "duration": 11,
    "start_time": "2022-09-07T04:37:19.540Z"
   },
   {
    "duration": 19,
    "start_time": "2022-09-07T04:38:12.677Z"
   },
   {
    "duration": 523,
    "start_time": "2022-09-07T04:42:07.659Z"
   },
   {
    "duration": 15,
    "start_time": "2022-09-07T04:44:00.597Z"
   },
   {
    "duration": 6,
    "start_time": "2022-09-07T04:44:00.993Z"
   },
   {
    "duration": 17,
    "start_time": "2022-09-07T04:44:01.439Z"
   },
   {
    "duration": 471,
    "start_time": "2022-09-07T04:44:18.142Z"
   },
   {
    "duration": 11,
    "start_time": "2022-09-07T04:44:38.777Z"
   },
   {
    "duration": 130,
    "start_time": "2022-09-07T04:44:40.689Z"
   },
   {
    "duration": 41,
    "start_time": "2022-09-07T04:45:16.281Z"
   },
   {
    "duration": 30,
    "start_time": "2022-09-07T04:46:03.872Z"
   },
   {
    "duration": 7,
    "start_time": "2022-09-07T04:46:26.185Z"
   },
   {
    "duration": 7,
    "start_time": "2022-09-07T04:46:34.687Z"
   },
   {
    "duration": 9,
    "start_time": "2022-09-07T04:46:38.317Z"
   },
   {
    "duration": 9,
    "start_time": "2022-09-07T04:47:00.566Z"
   },
   {
    "duration": 8,
    "start_time": "2022-09-07T04:47:06.176Z"
   },
   {
    "duration": 9,
    "start_time": "2022-09-07T04:47:15.920Z"
   },
   {
    "duration": 15,
    "start_time": "2022-09-07T04:47:55.949Z"
   },
   {
    "duration": 26,
    "start_time": "2022-09-07T04:48:24.707Z"
   },
   {
    "duration": 45,
    "start_time": "2022-09-07T04:49:31.554Z"
   },
   {
    "duration": 30,
    "start_time": "2022-09-07T04:50:34.883Z"
   },
   {
    "duration": 36,
    "start_time": "2022-09-07T04:50:41.654Z"
   },
   {
    "duration": 47,
    "start_time": "2022-09-07T04:51:35.655Z"
   },
   {
    "duration": 15,
    "start_time": "2022-09-07T04:52:02.139Z"
   },
   {
    "duration": 403,
    "start_time": "2022-09-07T05:11:32.024Z"
   },
   {
    "duration": 251,
    "start_time": "2022-09-07T05:11:32.429Z"
   },
   {
    "duration": 24,
    "start_time": "2022-09-07T05:11:32.684Z"
   },
   {
    "duration": 50,
    "start_time": "2022-09-07T05:11:32.710Z"
   },
   {
    "duration": 16,
    "start_time": "2022-09-07T05:11:32.761Z"
   },
   {
    "duration": 4,
    "start_time": "2022-09-07T05:11:32.778Z"
   },
   {
    "duration": 18,
    "start_time": "2022-09-07T05:11:32.784Z"
   },
   {
    "duration": 14,
    "start_time": "2022-09-07T05:11:32.804Z"
   },
   {
    "duration": 39,
    "start_time": "2022-09-07T05:11:32.821Z"
   },
   {
    "duration": 72,
    "start_time": "2022-09-07T05:11:32.861Z"
   },
   {
    "duration": 97,
    "start_time": "2022-09-07T05:11:32.935Z"
   },
   {
    "duration": 46,
    "start_time": "2022-09-07T05:11:33.034Z"
   },
   {
    "duration": 10,
    "start_time": "2022-09-07T05:11:33.081Z"
   },
   {
    "duration": 23,
    "start_time": "2022-09-07T05:11:33.093Z"
   },
   {
    "duration": 55,
    "start_time": "2022-09-07T05:11:33.117Z"
   },
   {
    "duration": 7,
    "start_time": "2022-09-07T05:11:33.174Z"
   },
   {
    "duration": 57,
    "start_time": "2022-09-07T05:11:33.183Z"
   },
   {
    "duration": 49,
    "start_time": "2022-09-07T05:11:33.262Z"
   },
   {
    "duration": 49,
    "start_time": "2022-09-07T05:11:33.313Z"
   },
   {
    "duration": 30,
    "start_time": "2022-09-07T05:11:33.363Z"
   },
   {
    "duration": 42,
    "start_time": "2022-09-07T05:11:33.395Z"
   },
   {
    "duration": 54,
    "start_time": "2022-09-07T05:11:39.288Z"
   },
   {
    "duration": 26,
    "start_time": "2022-09-07T05:21:08.846Z"
   },
   {
    "duration": 60,
    "start_time": "2022-09-07T05:21:37.705Z"
   },
   {
    "duration": 94,
    "start_time": "2022-09-07T05:22:42.294Z"
   },
   {
    "duration": 53,
    "start_time": "2022-09-07T05:23:24.421Z"
   },
   {
    "duration": 374,
    "start_time": "2022-09-07T05:23:29.557Z"
   },
   {
    "duration": 227,
    "start_time": "2022-09-07T05:23:40.181Z"
   },
   {
    "duration": 292,
    "start_time": "2022-09-07T05:23:53.131Z"
   },
   {
    "duration": 221,
    "start_time": "2022-09-07T05:24:00.951Z"
   },
   {
    "duration": 258,
    "start_time": "2022-09-07T05:24:07.152Z"
   },
   {
    "duration": 37,
    "start_time": "2022-09-07T05:24:15.818Z"
   },
   {
    "duration": 417,
    "start_time": "2022-09-07T05:24:41.742Z"
   },
   {
    "duration": 204,
    "start_time": "2022-09-07T05:24:56.555Z"
   },
   {
    "duration": 216,
    "start_time": "2022-09-07T05:25:10.437Z"
   },
   {
    "duration": 191,
    "start_time": "2022-09-07T05:25:19.683Z"
   },
   {
    "duration": 212,
    "start_time": "2022-09-07T05:41:25.422Z"
   },
   {
    "duration": 267,
    "start_time": "2022-09-07T05:41:30.682Z"
   },
   {
    "duration": 53,
    "start_time": "2022-09-07T05:42:14.352Z"
   },
   {
    "duration": 13,
    "start_time": "2022-09-07T05:42:22.458Z"
   },
   {
    "duration": 18,
    "start_time": "2022-09-07T05:42:49.526Z"
   },
   {
    "duration": 203,
    "start_time": "2022-09-07T05:43:07.714Z"
   },
   {
    "duration": 11,
    "start_time": "2022-09-07T05:47:17.024Z"
   },
   {
    "duration": 8,
    "start_time": "2022-09-07T05:48:03.053Z"
   },
   {
    "duration": 55,
    "start_time": "2022-09-07T05:48:14.952Z"
   },
   {
    "duration": 111,
    "start_time": "2022-09-07T05:48:17.712Z"
   },
   {
    "duration": 113,
    "start_time": "2022-09-07T05:48:30.339Z"
   },
   {
    "duration": 125,
    "start_time": "2022-09-07T05:49:03.827Z"
   },
   {
    "duration": 126,
    "start_time": "2022-09-07T05:49:24.977Z"
   },
   {
    "duration": 123,
    "start_time": "2022-09-07T05:49:38.100Z"
   },
   {
    "duration": 121,
    "start_time": "2022-09-07T05:49:43.912Z"
   },
   {
    "duration": 123,
    "start_time": "2022-09-07T05:50:58.568Z"
   },
   {
    "duration": 180,
    "start_time": "2022-09-07T05:51:14.356Z"
   },
   {
    "duration": 151,
    "start_time": "2022-09-07T05:52:27.381Z"
   },
   {
    "duration": 230,
    "start_time": "2022-09-07T05:52:33.802Z"
   },
   {
    "duration": 182,
    "start_time": "2022-09-07T05:52:44.774Z"
   },
   {
    "duration": 136,
    "start_time": "2022-09-07T06:02:12.577Z"
   },
   {
    "duration": 140,
    "start_time": "2022-09-07T06:03:31.837Z"
   },
   {
    "duration": 210,
    "start_time": "2022-09-07T06:04:07.413Z"
   },
   {
    "duration": 258,
    "start_time": "2022-09-07T06:04:20.409Z"
   },
   {
    "duration": 257,
    "start_time": "2022-09-07T06:04:33.010Z"
   },
   {
    "duration": 260,
    "start_time": "2022-09-07T06:04:41.268Z"
   },
   {
    "duration": 267,
    "start_time": "2022-09-07T06:04:57.543Z"
   },
   {
    "duration": 273,
    "start_time": "2022-09-07T06:05:22.123Z"
   },
   {
    "duration": 257,
    "start_time": "2022-09-07T06:05:29.372Z"
   },
   {
    "duration": 375,
    "start_time": "2022-09-07T06:05:55.828Z"
   },
   {
    "duration": 290,
    "start_time": "2022-09-07T06:06:17.613Z"
   },
   {
    "duration": 279,
    "start_time": "2022-09-07T06:06:25.562Z"
   },
   {
    "duration": 287,
    "start_time": "2022-09-07T06:06:49.352Z"
   },
   {
    "duration": 251,
    "start_time": "2022-09-07T06:06:58.184Z"
   },
   {
    "duration": 298,
    "start_time": "2022-09-07T06:07:22.536Z"
   },
   {
    "duration": 268,
    "start_time": "2022-09-07T06:08:11.799Z"
   },
   {
    "duration": 282,
    "start_time": "2022-09-07T06:08:46.020Z"
   },
   {
    "duration": 286,
    "start_time": "2022-09-07T06:09:26.221Z"
   },
   {
    "duration": 291,
    "start_time": "2022-09-07T06:09:38.273Z"
   },
   {
    "duration": 19,
    "start_time": "2022-09-07T06:09:59.157Z"
   },
   {
    "duration": 342,
    "start_time": "2022-09-07T06:10:32.221Z"
   },
   {
    "duration": 427,
    "start_time": "2022-09-07T06:10:40.019Z"
   },
   {
    "duration": 165,
    "start_time": "2022-09-07T06:10:48.823Z"
   },
   {
    "duration": 304,
    "start_time": "2022-09-07T06:10:53.381Z"
   },
   {
    "duration": 312,
    "start_time": "2022-09-07T06:11:18.326Z"
   },
   {
    "duration": 311,
    "start_time": "2022-09-07T06:11:25.103Z"
   },
   {
    "duration": 320,
    "start_time": "2022-09-07T06:11:57.333Z"
   },
   {
    "duration": 626,
    "start_time": "2022-09-07T07:48:30.475Z"
   },
   {
    "duration": 756,
    "start_time": "2022-09-07T07:50:00.833Z"
   },
   {
    "duration": 373,
    "start_time": "2022-09-07T07:50:35.533Z"
   },
   {
    "duration": 398,
    "start_time": "2022-09-07T07:51:36.545Z"
   },
   {
    "duration": 373,
    "start_time": "2022-09-07T07:51:42.056Z"
   },
   {
    "duration": 321,
    "start_time": "2022-09-07T07:51:47.336Z"
   },
   {
    "duration": 316,
    "start_time": "2022-09-07T07:52:01.094Z"
   },
   {
    "duration": 488,
    "start_time": "2022-09-07T07:52:04.882Z"
   },
   {
    "duration": 346,
    "start_time": "2022-09-07T07:52:40.025Z"
   },
   {
    "duration": 1064,
    "start_time": "2022-09-07T07:52:58.591Z"
   },
   {
    "duration": 648,
    "start_time": "2022-09-07T07:53:10.200Z"
   },
   {
    "duration": 478,
    "start_time": "2022-09-07T07:53:23.413Z"
   },
   {
    "duration": 406,
    "start_time": "2022-09-07T07:53:30.785Z"
   },
   {
    "duration": 435,
    "start_time": "2022-09-07T07:53:36.774Z"
   },
   {
    "duration": 489,
    "start_time": "2022-09-07T07:53:59.786Z"
   },
   {
    "duration": 595,
    "start_time": "2022-09-07T07:55:01.200Z"
   },
   {
    "duration": 435,
    "start_time": "2022-09-07T07:55:39.463Z"
   },
   {
    "duration": 486,
    "start_time": "2022-09-07T07:55:53.387Z"
   },
   {
    "duration": 599,
    "start_time": "2022-09-07T07:56:01.533Z"
   },
   {
    "duration": 465,
    "start_time": "2022-09-07T07:57:07.375Z"
   },
   {
    "duration": 469,
    "start_time": "2022-09-07T07:57:34.506Z"
   },
   {
    "duration": 534,
    "start_time": "2022-09-07T08:05:34.866Z"
   },
   {
    "duration": 24,
    "start_time": "2022-09-07T08:18:41.951Z"
   },
   {
    "duration": 8,
    "start_time": "2022-09-07T08:19:01.303Z"
   },
   {
    "duration": 10,
    "start_time": "2022-09-07T08:19:46.400Z"
   },
   {
    "duration": 91,
    "start_time": "2022-09-07T08:20:17.801Z"
   },
   {
    "duration": 104,
    "start_time": "2022-09-07T08:20:47.692Z"
   },
   {
    "duration": 215,
    "start_time": "2022-09-07T08:23:19.745Z"
   },
   {
    "duration": 11,
    "start_time": "2022-09-07T08:24:46.311Z"
   },
   {
    "duration": 17,
    "start_time": "2022-09-07T08:24:48.256Z"
   },
   {
    "duration": 108,
    "start_time": "2022-09-07T08:25:08.063Z"
   },
   {
    "duration": 112,
    "start_time": "2022-09-07T08:25:20.186Z"
   },
   {
    "duration": 7,
    "start_time": "2022-09-07T08:32:06.214Z"
   },
   {
    "duration": 134,
    "start_time": "2022-09-07T08:32:16.528Z"
   },
   {
    "duration": 127,
    "start_time": "2022-09-07T08:32:21.744Z"
   },
   {
    "duration": 126,
    "start_time": "2022-09-07T08:32:56.580Z"
   },
   {
    "duration": 126,
    "start_time": "2022-09-07T08:33:46.753Z"
   },
   {
    "duration": 124,
    "start_time": "2022-09-07T08:33:50.075Z"
   },
   {
    "duration": 110,
    "start_time": "2022-09-07T08:34:03.393Z"
   },
   {
    "duration": 127,
    "start_time": "2022-09-07T08:34:04.091Z"
   },
   {
    "duration": 120,
    "start_time": "2022-09-07T08:39:12.891Z"
   },
   {
    "duration": 124,
    "start_time": "2022-09-07T08:39:16.415Z"
   },
   {
    "duration": 140,
    "start_time": "2022-09-07T08:40:29.130Z"
   },
   {
    "duration": 142,
    "start_time": "2022-09-07T08:41:11.638Z"
   },
   {
    "duration": 146,
    "start_time": "2022-09-07T08:41:16.526Z"
   },
   {
    "duration": 178,
    "start_time": "2022-09-07T08:42:35.378Z"
   },
   {
    "duration": 296,
    "start_time": "2022-09-07T08:42:54.138Z"
   },
   {
    "duration": 180,
    "start_time": "2022-09-07T08:42:59.188Z"
   },
   {
    "duration": 273,
    "start_time": "2022-09-07T08:43:39.518Z"
   },
   {
    "duration": 316,
    "start_time": "2022-09-07T08:43:48.021Z"
   },
   {
    "duration": 508,
    "start_time": "2022-09-07T08:49:39.275Z"
   },
   {
    "duration": 15,
    "start_time": "2022-09-07T09:07:11.973Z"
   },
   {
    "duration": 13,
    "start_time": "2022-09-07T09:08:40.549Z"
   },
   {
    "duration": 162,
    "start_time": "2022-09-07T09:10:19.461Z"
   },
   {
    "duration": 302,
    "start_time": "2022-09-07T09:10:52.266Z"
   },
   {
    "duration": 322,
    "start_time": "2022-09-07T09:10:57.222Z"
   },
   {
    "duration": 296,
    "start_time": "2022-09-07T09:11:22.917Z"
   },
   {
    "duration": 418,
    "start_time": "2022-09-07T09:11:27.329Z"
   },
   {
    "duration": 260,
    "start_time": "2022-09-07T09:11:36.586Z"
   },
   {
    "duration": 313,
    "start_time": "2022-09-07T09:12:24.324Z"
   },
   {
    "duration": 305,
    "start_time": "2022-09-07T09:12:36.839Z"
   },
   {
    "duration": 272,
    "start_time": "2022-09-07T09:12:55.967Z"
   },
   {
    "duration": 256,
    "start_time": "2022-09-07T09:13:11.802Z"
   },
   {
    "duration": 338,
    "start_time": "2022-09-07T09:13:19.233Z"
   },
   {
    "duration": 307,
    "start_time": "2022-09-07T09:13:38.350Z"
   },
   {
    "duration": 295,
    "start_time": "2022-09-07T09:14:22.744Z"
   },
   {
    "duration": 3,
    "start_time": "2022-09-07T09:16:27.195Z"
   },
   {
    "duration": 5,
    "start_time": "2022-09-07T09:16:33.820Z"
   },
   {
    "duration": 10,
    "start_time": "2022-09-07T09:24:19.948Z"
   },
   {
    "duration": 10,
    "start_time": "2022-09-07T09:24:23.445Z"
   },
   {
    "duration": 4,
    "start_time": "2022-09-07T09:24:29.711Z"
   },
   {
    "duration": 7,
    "start_time": "2022-09-07T09:24:57.444Z"
   },
   {
    "duration": 9,
    "start_time": "2022-09-07T09:27:50.165Z"
   },
   {
    "duration": 287,
    "start_time": "2022-09-07T09:27:50.176Z"
   },
   {
    "duration": 271,
    "start_time": "2022-09-07T09:27:50.465Z"
   },
   {
    "duration": 5,
    "start_time": "2022-09-07T09:27:50.738Z"
   },
   {
    "duration": 11,
    "start_time": "2022-09-07T09:28:07.462Z"
   },
   {
    "duration": 307,
    "start_time": "2022-09-07T09:28:07.475Z"
   },
   {
    "duration": 311,
    "start_time": "2022-09-07T09:28:07.784Z"
   },
   {
    "duration": 6,
    "start_time": "2022-09-07T09:28:08.097Z"
   },
   {
    "duration": 8,
    "start_time": "2022-09-07T09:28:42.206Z"
   },
   {
    "duration": 443,
    "start_time": "2022-09-07T09:28:42.216Z"
   },
   {
    "duration": 310,
    "start_time": "2022-09-07T09:28:42.661Z"
   },
   {
    "duration": 5,
    "start_time": "2022-09-07T09:28:42.973Z"
   },
   {
    "duration": 1495,
    "start_time": "2022-09-08T06:24:19.261Z"
   },
   {
    "duration": 947,
    "start_time": "2022-09-08T06:24:20.758Z"
   },
   {
    "duration": 23,
    "start_time": "2022-09-08T06:24:21.707Z"
   },
   {
    "duration": 42,
    "start_time": "2022-09-08T06:24:21.732Z"
   },
   {
    "duration": 29,
    "start_time": "2022-09-08T06:24:21.776Z"
   },
   {
    "duration": 16,
    "start_time": "2022-09-08T06:24:21.807Z"
   },
   {
    "duration": 34,
    "start_time": "2022-09-08T06:24:21.825Z"
   },
   {
    "duration": 17,
    "start_time": "2022-09-08T06:24:21.862Z"
   },
   {
    "duration": 38,
    "start_time": "2022-09-08T06:24:21.881Z"
   },
   {
    "duration": 123,
    "start_time": "2022-09-08T06:24:21.922Z"
   },
   {
    "duration": 125,
    "start_time": "2022-09-08T06:24:22.047Z"
   },
   {
    "duration": 42,
    "start_time": "2022-09-08T06:24:22.174Z"
   },
   {
    "duration": 12,
    "start_time": "2022-09-08T06:24:22.217Z"
   },
   {
    "duration": 34,
    "start_time": "2022-09-08T06:24:22.231Z"
   },
   {
    "duration": 52,
    "start_time": "2022-09-08T06:24:22.266Z"
   },
   {
    "duration": 10,
    "start_time": "2022-09-08T06:24:22.319Z"
   },
   {
    "duration": 74,
    "start_time": "2022-09-08T06:24:22.331Z"
   },
   {
    "duration": 52,
    "start_time": "2022-09-08T06:24:22.407Z"
   },
   {
    "duration": 53,
    "start_time": "2022-09-08T06:24:22.461Z"
   },
   {
    "duration": 33,
    "start_time": "2022-09-08T06:24:22.515Z"
   },
   {
    "duration": 78,
    "start_time": "2022-09-08T06:24:22.550Z"
   },
   {
    "duration": 42,
    "start_time": "2022-09-08T06:24:22.630Z"
   },
   {
    "duration": 330,
    "start_time": "2022-09-08T06:24:22.674Z"
   },
   {
    "duration": 233,
    "start_time": "2022-09-08T06:24:23.006Z"
   },
   {
    "duration": 157,
    "start_time": "2022-09-08T06:24:23.241Z"
   },
   {
    "duration": 221,
    "start_time": "2022-09-08T06:24:23.400Z"
   },
   {
    "duration": 385,
    "start_time": "2022-09-08T06:24:23.623Z"
   },
   {
    "duration": 599,
    "start_time": "2022-09-08T06:24:24.013Z"
   },
   {
    "duration": 454,
    "start_time": "2022-09-08T06:24:24.613Z"
   },
   {
    "duration": 125,
    "start_time": "2022-09-08T06:24:25.068Z"
   },
   {
    "duration": 123,
    "start_time": "2022-09-08T06:24:25.195Z"
   },
   {
    "duration": 145,
    "start_time": "2022-09-08T06:24:25.319Z"
   },
   {
    "duration": 328,
    "start_time": "2022-09-08T06:24:25.466Z"
   },
   {
    "duration": 536,
    "start_time": "2022-09-08T06:24:25.795Z"
   },
   {
    "duration": 3,
    "start_time": "2022-09-08T06:24:26.332Z"
   },
   {
    "duration": 14,
    "start_time": "2022-09-08T06:24:26.336Z"
   },
   {
    "duration": 327,
    "start_time": "2022-09-08T06:24:26.352Z"
   },
   {
    "duration": 435,
    "start_time": "2022-09-08T06:24:26.681Z"
   },
   {
    "duration": 6,
    "start_time": "2022-09-08T06:24:27.118Z"
   },
   {
    "duration": 11,
    "start_time": "2022-09-08T06:24:27.125Z"
   },
   {
    "duration": 365,
    "start_time": "2022-09-08T06:24:27.138Z"
   },
   {
    "duration": 311,
    "start_time": "2022-09-08T06:24:27.505Z"
   },
   {
    "duration": 5,
    "start_time": "2022-09-08T06:24:27.818Z"
   },
   {
    "duration": 1463,
    "start_time": "2022-09-08T07:09:55.773Z"
   },
   {
    "duration": 282,
    "start_time": "2022-09-08T07:09:57.239Z"
   },
   {
    "duration": 25,
    "start_time": "2022-09-08T07:09:57.523Z"
   },
   {
    "duration": 47,
    "start_time": "2022-09-08T07:09:57.550Z"
   },
   {
    "duration": 16,
    "start_time": "2022-09-08T07:09:57.599Z"
   },
   {
    "duration": 4,
    "start_time": "2022-09-08T07:09:57.616Z"
   },
   {
    "duration": 17,
    "start_time": "2022-09-08T07:09:57.622Z"
   },
   {
    "duration": 11,
    "start_time": "2022-09-08T07:09:57.641Z"
   },
   {
    "duration": 44,
    "start_time": "2022-09-08T07:09:57.654Z"
   },
   {
    "duration": 97,
    "start_time": "2022-09-08T07:09:57.701Z"
   },
   {
    "duration": 104,
    "start_time": "2022-09-08T07:09:57.800Z"
   },
   {
    "duration": 38,
    "start_time": "2022-09-08T07:09:57.906Z"
   },
   {
    "duration": 17,
    "start_time": "2022-09-08T07:09:57.946Z"
   },
   {
    "duration": 44,
    "start_time": "2022-09-08T07:09:57.964Z"
   },
   {
    "duration": 32,
    "start_time": "2022-09-08T07:09:58.010Z"
   },
   {
    "duration": 10,
    "start_time": "2022-09-08T07:09:58.044Z"
   },
   {
    "duration": 73,
    "start_time": "2022-09-08T07:09:58.056Z"
   },
   {
    "duration": 61,
    "start_time": "2022-09-08T07:09:58.131Z"
   },
   {
    "duration": 43,
    "start_time": "2022-09-08T07:09:58.194Z"
   },
   {
    "duration": 33,
    "start_time": "2022-09-08T07:09:58.238Z"
   },
   {
    "duration": 52,
    "start_time": "2022-09-08T07:09:58.291Z"
   },
   {
    "duration": 54,
    "start_time": "2022-09-08T07:09:58.344Z"
   },
   {
    "duration": 322,
    "start_time": "2022-09-08T07:09:58.400Z"
   },
   {
    "duration": 158,
    "start_time": "2022-09-08T07:09:58.724Z"
   },
   {
    "duration": 218,
    "start_time": "2022-09-08T07:09:58.883Z"
   },
   {
    "duration": 346,
    "start_time": "2022-09-08T07:09:59.102Z"
   },
   {
    "duration": 520,
    "start_time": "2022-09-08T07:09:59.450Z"
   },
   {
    "duration": 533,
    "start_time": "2022-09-08T07:09:59.975Z"
   },
   {
    "duration": 127,
    "start_time": "2022-09-08T07:10:00.510Z"
   },
   {
    "duration": 131,
    "start_time": "2022-09-08T07:10:00.639Z"
   },
   {
    "duration": 156,
    "start_time": "2022-09-08T07:10:00.771Z"
   },
   {
    "duration": 308,
    "start_time": "2022-09-08T07:10:00.929Z"
   },
   {
    "duration": 592,
    "start_time": "2022-09-08T07:10:01.239Z"
   },
   {
    "duration": 4,
    "start_time": "2022-09-08T07:10:01.833Z"
   },
   {
    "duration": 111,
    "start_time": "2022-09-08T07:10:01.839Z"
   },
   {
    "duration": 366,
    "start_time": "2022-09-08T07:10:01.952Z"
   },
   {
    "duration": 289,
    "start_time": "2022-09-08T07:10:02.319Z"
   },
   {
    "duration": 5,
    "start_time": "2022-09-08T07:10:02.610Z"
   },
   {
    "duration": 31,
    "start_time": "2022-09-08T07:10:02.617Z"
   },
   {
    "duration": 428,
    "start_time": "2022-09-08T07:10:02.650Z"
   },
   {
    "duration": 330,
    "start_time": "2022-09-08T07:10:03.080Z"
   },
   {
    "duration": 6,
    "start_time": "2022-09-08T07:10:03.412Z"
   },
   {
    "duration": 20,
    "start_time": "2022-09-08T07:32:12.814Z"
   },
   {
    "duration": 1227,
    "start_time": "2022-09-08T08:00:07.615Z"
   },
   {
    "duration": 294,
    "start_time": "2022-09-08T08:00:08.844Z"
   },
   {
    "duration": 25,
    "start_time": "2022-09-08T08:00:09.139Z"
   },
   {
    "duration": 45,
    "start_time": "2022-09-08T08:00:09.166Z"
   },
   {
    "duration": 17,
    "start_time": "2022-09-08T08:00:09.213Z"
   },
   {
    "duration": 4,
    "start_time": "2022-09-08T08:00:09.232Z"
   },
   {
    "duration": 22,
    "start_time": "2022-09-08T08:00:09.238Z"
   },
   {
    "duration": 32,
    "start_time": "2022-09-08T08:00:09.262Z"
   },
   {
    "duration": 21,
    "start_time": "2022-09-08T08:00:09.297Z"
   },
   {
    "duration": 130,
    "start_time": "2022-09-08T08:00:09.322Z"
   },
   {
    "duration": 112,
    "start_time": "2022-09-08T08:00:09.454Z"
   },
   {
    "duration": 44,
    "start_time": "2022-09-08T08:00:09.568Z"
   },
   {
    "duration": 12,
    "start_time": "2022-09-08T08:00:09.614Z"
   },
   {
    "duration": 31,
    "start_time": "2022-09-08T08:00:09.629Z"
   },
   {
    "duration": 57,
    "start_time": "2022-09-08T08:00:09.662Z"
   },
   {
    "duration": 10,
    "start_time": "2022-09-08T08:00:09.721Z"
   },
   {
    "duration": 72,
    "start_time": "2022-09-08T08:00:09.732Z"
   },
   {
    "duration": 54,
    "start_time": "2022-09-08T08:00:09.805Z"
   },
   {
    "duration": 61,
    "start_time": "2022-09-08T08:00:09.861Z"
   },
   {
    "duration": 35,
    "start_time": "2022-09-08T08:00:09.923Z"
   },
   {
    "duration": 78,
    "start_time": "2022-09-08T08:00:09.959Z"
   },
   {
    "duration": 55,
    "start_time": "2022-09-08T08:00:10.040Z"
   },
   {
    "duration": 392,
    "start_time": "2022-09-08T08:00:10.098Z"
   },
   {
    "duration": 167,
    "start_time": "2022-09-08T08:00:10.492Z"
   },
   {
    "duration": 233,
    "start_time": "2022-09-08T08:00:10.661Z"
   },
   {
    "duration": 340,
    "start_time": "2022-09-08T08:00:10.896Z"
   },
   {
    "duration": 546,
    "start_time": "2022-09-08T08:00:11.238Z"
   },
   {
    "duration": 601,
    "start_time": "2022-09-08T08:00:11.789Z"
   },
   {
    "duration": 134,
    "start_time": "2022-09-08T08:00:12.392Z"
   },
   {
    "duration": 133,
    "start_time": "2022-09-08T08:00:12.528Z"
   },
   {
    "duration": 140,
    "start_time": "2022-09-08T08:00:12.663Z"
   },
   {
    "duration": 315,
    "start_time": "2022-09-08T08:00:12.805Z"
   },
   {
    "duration": 567,
    "start_time": "2022-09-08T08:00:13.121Z"
   },
   {
    "duration": 2,
    "start_time": "2022-09-08T08:00:13.691Z"
   },
   {
    "duration": 20,
    "start_time": "2022-09-08T08:00:13.695Z"
   },
   {
    "duration": 287,
    "start_time": "2022-09-08T08:00:13.716Z"
   },
   {
    "duration": 294,
    "start_time": "2022-09-08T08:00:14.005Z"
   },
   {
    "duration": 6,
    "start_time": "2022-09-08T08:00:14.301Z"
   },
   {
    "duration": 26,
    "start_time": "2022-09-08T08:00:14.308Z"
   },
   {
    "duration": 447,
    "start_time": "2022-09-08T08:00:14.336Z"
   },
   {
    "duration": 327,
    "start_time": "2022-09-08T08:00:14.785Z"
   },
   {
    "duration": 5,
    "start_time": "2022-09-08T08:00:15.114Z"
   },
   {
    "duration": 1465,
    "start_time": "2022-09-08T08:05:44.580Z"
   },
   {
    "duration": 288,
    "start_time": "2022-09-08T08:05:46.047Z"
   },
   {
    "duration": 23,
    "start_time": "2022-09-08T08:05:46.336Z"
   },
   {
    "duration": 43,
    "start_time": "2022-09-08T08:05:46.360Z"
   },
   {
    "duration": 17,
    "start_time": "2022-09-08T08:05:46.406Z"
   },
   {
    "duration": 5,
    "start_time": "2022-09-08T08:05:46.425Z"
   },
   {
    "duration": 19,
    "start_time": "2022-09-08T08:05:46.431Z"
   },
   {
    "duration": 10,
    "start_time": "2022-09-08T08:05:46.451Z"
   },
   {
    "duration": 55,
    "start_time": "2022-09-08T08:05:46.463Z"
   },
   {
    "duration": 95,
    "start_time": "2022-09-08T08:05:46.520Z"
   },
   {
    "duration": 108,
    "start_time": "2022-09-08T08:05:46.616Z"
   },
   {
    "duration": 41,
    "start_time": "2022-09-08T08:05:46.726Z"
   },
   {
    "duration": 22,
    "start_time": "2022-09-08T08:05:46.769Z"
   },
   {
    "duration": 29,
    "start_time": "2022-09-08T08:05:46.794Z"
   },
   {
    "duration": 37,
    "start_time": "2022-09-08T08:05:46.824Z"
   },
   {
    "duration": 31,
    "start_time": "2022-09-08T08:05:46.863Z"
   },
   {
    "duration": 61,
    "start_time": "2022-09-08T08:05:46.896Z"
   },
   {
    "duration": 62,
    "start_time": "2022-09-08T08:05:46.959Z"
   },
   {
    "duration": 43,
    "start_time": "2022-09-08T08:05:47.022Z"
   },
   {
    "duration": 50,
    "start_time": "2022-09-08T08:05:47.067Z"
   },
   {
    "duration": 56,
    "start_time": "2022-09-08T08:05:47.119Z"
   },
   {
    "duration": 57,
    "start_time": "2022-09-08T08:05:47.176Z"
   },
   {
    "duration": 344,
    "start_time": "2022-09-08T08:05:47.234Z"
   },
   {
    "duration": 164,
    "start_time": "2022-09-08T08:05:47.579Z"
   },
   {
    "duration": 237,
    "start_time": "2022-09-08T08:05:47.745Z"
   },
   {
    "duration": 365,
    "start_time": "2022-09-08T08:05:47.984Z"
   },
   {
    "duration": 501,
    "start_time": "2022-09-08T08:05:48.351Z"
   },
   {
    "duration": 493,
    "start_time": "2022-09-08T08:05:48.854Z"
   },
   {
    "duration": 147,
    "start_time": "2022-09-08T08:05:49.349Z"
   },
   {
    "duration": 120,
    "start_time": "2022-09-08T08:05:49.498Z"
   },
   {
    "duration": 144,
    "start_time": "2022-09-08T08:05:49.620Z"
   },
   {
    "duration": 334,
    "start_time": "2022-09-08T08:05:49.766Z"
   },
   {
    "duration": 532,
    "start_time": "2022-09-08T08:05:50.102Z"
   },
   {
    "duration": 3,
    "start_time": "2022-09-08T08:05:50.635Z"
   },
   {
    "duration": 19,
    "start_time": "2022-09-08T08:05:50.640Z"
   },
   {
    "duration": 346,
    "start_time": "2022-09-08T08:05:50.661Z"
   },
   {
    "duration": 284,
    "start_time": "2022-09-08T08:05:51.009Z"
   },
   {
    "duration": 5,
    "start_time": "2022-09-08T08:05:51.295Z"
   },
   {
    "duration": 16,
    "start_time": "2022-09-08T08:05:51.302Z"
   },
   {
    "duration": 388,
    "start_time": "2022-09-08T08:05:51.320Z"
   },
   {
    "duration": 356,
    "start_time": "2022-09-08T08:05:51.712Z"
   },
   {
    "duration": 6,
    "start_time": "2022-09-08T08:05:52.071Z"
   },
   {
    "duration": 1440,
    "start_time": "2022-09-09T16:37:18.811Z"
   },
   {
    "duration": 1148,
    "start_time": "2022-09-09T16:37:20.253Z"
   },
   {
    "duration": 22,
    "start_time": "2022-09-09T16:37:21.403Z"
   },
   {
    "duration": 44,
    "start_time": "2022-09-09T16:37:21.426Z"
   },
   {
    "duration": 27,
    "start_time": "2022-09-09T16:37:21.472Z"
   },
   {
    "duration": 5,
    "start_time": "2022-09-09T16:37:21.501Z"
   },
   {
    "duration": 32,
    "start_time": "2022-09-09T16:37:21.507Z"
   },
   {
    "duration": 23,
    "start_time": "2022-09-09T16:37:21.541Z"
   },
   {
    "duration": 28,
    "start_time": "2022-09-09T16:37:21.566Z"
   },
   {
    "duration": 83,
    "start_time": "2022-09-09T16:37:21.596Z"
   },
   {
    "duration": 101,
    "start_time": "2022-09-09T16:37:21.680Z"
   },
   {
    "duration": 61,
    "start_time": "2022-09-09T16:37:21.784Z"
   },
   {
    "duration": 18,
    "start_time": "2022-09-09T16:37:21.848Z"
   },
   {
    "duration": 59,
    "start_time": "2022-09-09T16:37:21.871Z"
   },
   {
    "duration": 39,
    "start_time": "2022-09-09T16:37:21.932Z"
   },
   {
    "duration": 25,
    "start_time": "2022-09-09T16:37:21.973Z"
   },
   {
    "duration": 76,
    "start_time": "2022-09-09T16:37:22.000Z"
   },
   {
    "duration": 52,
    "start_time": "2022-09-09T16:37:22.078Z"
   },
   {
    "duration": 41,
    "start_time": "2022-09-09T16:37:22.132Z"
   },
   {
    "duration": 45,
    "start_time": "2022-09-09T16:37:22.175Z"
   },
   {
    "duration": 51,
    "start_time": "2022-09-09T16:37:22.223Z"
   },
   {
    "duration": 40,
    "start_time": "2022-09-09T16:37:22.293Z"
   },
   {
    "duration": 340,
    "start_time": "2022-09-09T16:37:22.334Z"
   },
   {
    "duration": 157,
    "start_time": "2022-09-09T16:37:22.676Z"
   },
   {
    "duration": 225,
    "start_time": "2022-09-09T16:37:22.835Z"
   },
   {
    "duration": 391,
    "start_time": "2022-09-09T16:37:23.062Z"
   },
   {
    "duration": 497,
    "start_time": "2022-09-09T16:37:23.455Z"
   },
   {
    "duration": 510,
    "start_time": "2022-09-09T16:37:23.954Z"
   },
   {
    "duration": 114,
    "start_time": "2022-09-09T16:37:24.466Z"
   },
   {
    "duration": 138,
    "start_time": "2022-09-09T16:37:24.582Z"
   },
   {
    "duration": 158,
    "start_time": "2022-09-09T16:37:24.722Z"
   },
   {
    "duration": 327,
    "start_time": "2022-09-09T16:37:24.882Z"
   },
   {
    "duration": 564,
    "start_time": "2022-09-09T16:37:25.211Z"
   },
   {
    "duration": 3,
    "start_time": "2022-09-09T16:37:25.776Z"
   },
   {
    "duration": 25,
    "start_time": "2022-09-09T16:37:25.781Z"
   },
   {
    "duration": 315,
    "start_time": "2022-09-09T16:37:25.808Z"
   },
   {
    "duration": 289,
    "start_time": "2022-09-09T16:37:26.125Z"
   },
   {
    "duration": 5,
    "start_time": "2022-09-09T16:37:26.417Z"
   },
   {
    "duration": 25,
    "start_time": "2022-09-09T16:37:26.424Z"
   },
   {
    "duration": 435,
    "start_time": "2022-09-09T16:37:26.450Z"
   },
   {
    "duration": 318,
    "start_time": "2022-09-09T16:37:26.895Z"
   },
   {
    "duration": 5,
    "start_time": "2022-09-09T16:37:27.215Z"
   },
   {
    "duration": 4,
    "start_time": "2022-09-09T16:57:53.340Z"
   },
   {
    "duration": 5,
    "start_time": "2022-09-09T16:57:56.972Z"
   },
   {
    "duration": 1186,
    "start_time": "2022-09-11T10:41:32.239Z"
   },
   {
    "duration": 872,
    "start_time": "2022-09-11T10:41:33.427Z"
   },
   {
    "duration": 18,
    "start_time": "2022-09-11T10:41:34.301Z"
   },
   {
    "duration": 35,
    "start_time": "2022-09-11T10:41:34.320Z"
   },
   {
    "duration": 14,
    "start_time": "2022-09-11T10:41:34.356Z"
   },
   {
    "duration": 4,
    "start_time": "2022-09-11T10:41:34.372Z"
   },
   {
    "duration": 11,
    "start_time": "2022-09-11T10:41:34.378Z"
   },
   {
    "duration": 9,
    "start_time": "2022-09-11T10:41:34.391Z"
   },
   {
    "duration": 16,
    "start_time": "2022-09-11T10:41:34.402Z"
   },
   {
    "duration": 91,
    "start_time": "2022-09-11T10:41:34.420Z"
   },
   {
    "duration": 77,
    "start_time": "2022-09-11T10:41:34.513Z"
   },
   {
    "duration": 38,
    "start_time": "2022-09-11T10:41:34.591Z"
   },
   {
    "duration": 25,
    "start_time": "2022-09-11T10:41:34.631Z"
   },
   {
    "duration": 21,
    "start_time": "2022-09-11T10:41:34.657Z"
   },
   {
    "duration": 24,
    "start_time": "2022-09-11T10:41:34.680Z"
   },
   {
    "duration": 8,
    "start_time": "2022-09-11T10:41:34.705Z"
   },
   {
    "duration": 71,
    "start_time": "2022-09-11T10:41:34.715Z"
   },
   {
    "duration": 44,
    "start_time": "2022-09-11T10:41:34.787Z"
   },
   {
    "duration": 47,
    "start_time": "2022-09-11T10:41:34.833Z"
   },
   {
    "duration": 27,
    "start_time": "2022-09-11T10:41:34.882Z"
   },
   {
    "duration": 59,
    "start_time": "2022-09-11T10:41:34.911Z"
   },
   {
    "duration": 36,
    "start_time": "2022-09-11T10:41:34.972Z"
   },
   {
    "duration": 278,
    "start_time": "2022-09-11T10:41:35.010Z"
   },
   {
    "duration": 131,
    "start_time": "2022-09-11T10:41:35.290Z"
   },
   {
    "duration": 180,
    "start_time": "2022-09-11T10:41:35.422Z"
   },
   {
    "duration": 355,
    "start_time": "2022-09-11T10:41:35.604Z"
   },
   {
    "duration": 412,
    "start_time": "2022-09-11T10:41:35.961Z"
   },
   {
    "duration": 437,
    "start_time": "2022-09-11T10:41:36.377Z"
   },
   {
    "duration": 103,
    "start_time": "2022-09-11T10:41:36.816Z"
   },
   {
    "duration": 106,
    "start_time": "2022-09-11T10:41:36.920Z"
   },
   {
    "duration": 113,
    "start_time": "2022-09-11T10:41:37.028Z"
   },
   {
    "duration": 312,
    "start_time": "2022-09-11T10:41:37.143Z"
   },
   {
    "duration": 481,
    "start_time": "2022-09-11T10:41:37.457Z"
   },
   {
    "duration": 3,
    "start_time": "2022-09-11T10:41:37.939Z"
   },
   {
    "duration": 18,
    "start_time": "2022-09-11T10:41:37.943Z"
   },
   {
    "duration": 264,
    "start_time": "2022-09-11T10:41:37.962Z"
   },
   {
    "duration": 306,
    "start_time": "2022-09-11T10:41:38.228Z"
   },
   {
    "duration": 5,
    "start_time": "2022-09-11T10:41:38.536Z"
   },
   {
    "duration": 18,
    "start_time": "2022-09-11T10:41:38.542Z"
   },
   {
    "duration": 376,
    "start_time": "2022-09-11T10:41:38.561Z"
   },
   {
    "duration": 295,
    "start_time": "2022-09-11T10:41:38.938Z"
   },
   {
    "duration": 4,
    "start_time": "2022-09-11T10:41:39.235Z"
   },
   {
    "duration": 29,
    "start_time": "2022-09-11T10:42:14.591Z"
   },
   {
    "duration": 3,
    "start_time": "2022-09-11T10:42:38.699Z"
   },
   {
    "duration": 218,
    "start_time": "2022-09-11T10:42:38.704Z"
   },
   {
    "duration": 14,
    "start_time": "2022-09-11T10:42:38.924Z"
   },
   {
    "duration": 33,
    "start_time": "2022-09-11T10:42:38.940Z"
   },
   {
    "duration": 15,
    "start_time": "2022-09-11T10:42:38.974Z"
   },
   {
    "duration": 4,
    "start_time": "2022-09-11T10:42:38.990Z"
   },
   {
    "duration": 13,
    "start_time": "2022-09-11T10:42:38.995Z"
   },
   {
    "duration": 11,
    "start_time": "2022-09-11T10:42:39.010Z"
   },
   {
    "duration": 41,
    "start_time": "2022-09-11T10:42:39.023Z"
   },
   {
    "duration": 56,
    "start_time": "2022-09-11T10:42:39.066Z"
   },
   {
    "duration": 82,
    "start_time": "2022-09-11T10:42:39.124Z"
   },
   {
    "duration": 30,
    "start_time": "2022-09-11T10:42:39.207Z"
   },
   {
    "duration": 12,
    "start_time": "2022-09-11T10:42:39.254Z"
   },
   {
    "duration": 19,
    "start_time": "2022-09-11T10:42:39.268Z"
   },
   {
    "duration": 21,
    "start_time": "2022-09-11T10:42:39.289Z"
   },
   {
    "duration": 25,
    "start_time": "2022-09-11T10:42:41.200Z"
   },
   {
    "duration": 14,
    "start_time": "2022-09-11T10:43:47.311Z"
   },
   {
    "duration": 25,
    "start_time": "2022-09-11T10:44:06.649Z"
   },
   {
    "duration": 2,
    "start_time": "2022-09-11T10:50:55.546Z"
   },
   {
    "duration": 3,
    "start_time": "2022-09-11T10:51:41.661Z"
   },
   {
    "duration": 247,
    "start_time": "2022-09-11T10:51:41.666Z"
   },
   {
    "duration": 13,
    "start_time": "2022-09-11T10:51:41.915Z"
   },
   {
    "duration": 34,
    "start_time": "2022-09-11T10:51:41.930Z"
   },
   {
    "duration": 14,
    "start_time": "2022-09-11T10:51:41.965Z"
   },
   {
    "duration": 3,
    "start_time": "2022-09-11T10:51:41.981Z"
   },
   {
    "duration": 13,
    "start_time": "2022-09-11T10:51:41.985Z"
   },
   {
    "duration": 8,
    "start_time": "2022-09-11T10:51:41.999Z"
   },
   {
    "duration": 16,
    "start_time": "2022-09-11T10:51:42.010Z"
   },
   {
    "duration": 58,
    "start_time": "2022-09-11T10:51:42.055Z"
   },
   {
    "duration": 80,
    "start_time": "2022-09-11T10:51:42.115Z"
   },
   {
    "duration": 32,
    "start_time": "2022-09-11T10:51:42.197Z"
   },
   {
    "duration": 10,
    "start_time": "2022-09-11T10:51:42.231Z"
   },
   {
    "duration": 19,
    "start_time": "2022-09-11T10:51:42.255Z"
   },
   {
    "duration": 21,
    "start_time": "2022-09-11T10:51:42.276Z"
   },
   {
    "duration": 7,
    "start_time": "2022-09-11T10:51:42.298Z"
   },
   {
    "duration": 72,
    "start_time": "2022-09-11T10:51:42.308Z"
   },
   {
    "duration": 39,
    "start_time": "2022-09-11T10:51:42.381Z"
   },
   {
    "duration": 3,
    "start_time": "2022-09-11T10:51:42.421Z"
   },
   {
    "duration": 30,
    "start_time": "2022-09-11T10:51:42.425Z"
   },
   {
    "duration": 9,
    "start_time": "2022-09-11T10:52:08.207Z"
   },
   {
    "duration": 24,
    "start_time": "2022-09-11T10:53:19.156Z"
   },
   {
    "duration": 6,
    "start_time": "2022-09-11T10:53:25.669Z"
   },
   {
    "duration": 26,
    "start_time": "2022-09-11T10:54:03.481Z"
   },
   {
    "duration": 9,
    "start_time": "2022-09-11T10:54:04.006Z"
   },
   {
    "duration": 25,
    "start_time": "2022-09-11T10:54:49.931Z"
   },
   {
    "duration": 9,
    "start_time": "2022-09-11T10:54:50.505Z"
   },
   {
    "duration": 29,
    "start_time": "2022-09-11T10:56:06.260Z"
   },
   {
    "duration": 10,
    "start_time": "2022-09-11T10:56:06.721Z"
   },
   {
    "duration": 30,
    "start_time": "2022-09-11T10:56:33.061Z"
   },
   {
    "duration": 8,
    "start_time": "2022-09-11T10:56:33.887Z"
   },
   {
    "duration": 4,
    "start_time": "2022-09-11T10:56:46.417Z"
   },
   {
    "duration": 8,
    "start_time": "2022-09-11T10:56:51.961Z"
   },
   {
    "duration": 2,
    "start_time": "2022-09-11T10:57:08.162Z"
   },
   {
    "duration": 7,
    "start_time": "2022-09-11T10:57:12.550Z"
   },
   {
    "duration": 33,
    "start_time": "2022-09-11T10:57:18.350Z"
   },
   {
    "duration": 7,
    "start_time": "2022-09-11T10:57:18.740Z"
   },
   {
    "duration": 37,
    "start_time": "2022-09-11T10:57:39.925Z"
   },
   {
    "duration": 412,
    "start_time": "2022-09-11T10:58:40.792Z"
   },
   {
    "duration": 37,
    "start_time": "2022-09-11T10:58:50.311Z"
   },
   {
    "duration": 4,
    "start_time": "2022-09-11T10:58:50.880Z"
   },
   {
    "duration": 4,
    "start_time": "2022-09-11T10:58:58.309Z"
   },
   {
    "duration": 45,
    "start_time": "2022-09-11T11:03:24.700Z"
   },
   {
    "duration": 3,
    "start_time": "2022-09-11T11:03:40.290Z"
   },
   {
    "duration": 235,
    "start_time": "2022-09-11T11:03:40.296Z"
   },
   {
    "duration": 15,
    "start_time": "2022-09-11T11:03:40.533Z"
   },
   {
    "duration": 35,
    "start_time": "2022-09-11T11:03:40.549Z"
   },
   {
    "duration": 14,
    "start_time": "2022-09-11T11:03:40.586Z"
   },
   {
    "duration": 3,
    "start_time": "2022-09-11T11:03:40.602Z"
   },
   {
    "duration": 12,
    "start_time": "2022-09-11T11:03:40.607Z"
   },
   {
    "duration": 10,
    "start_time": "2022-09-11T11:03:40.620Z"
   },
   {
    "duration": 16,
    "start_time": "2022-09-11T11:03:40.654Z"
   },
   {
    "duration": 58,
    "start_time": "2022-09-11T11:03:40.672Z"
   },
   {
    "duration": 80,
    "start_time": "2022-09-11T11:03:40.732Z"
   },
   {
    "duration": 43,
    "start_time": "2022-09-11T11:03:40.813Z"
   },
   {
    "duration": 8,
    "start_time": "2022-09-11T11:03:40.858Z"
   },
   {
    "duration": 20,
    "start_time": "2022-09-11T11:03:40.868Z"
   },
   {
    "duration": 21,
    "start_time": "2022-09-11T11:03:40.890Z"
   },
   {
    "duration": 6,
    "start_time": "2022-09-11T11:03:40.913Z"
   },
   {
    "duration": 71,
    "start_time": "2022-09-11T11:03:40.921Z"
   },
   {
    "duration": 45,
    "start_time": "2022-09-11T11:03:40.993Z"
   },
   {
    "duration": 2,
    "start_time": "2022-09-11T11:03:41.040Z"
   },
   {
    "duration": 42,
    "start_time": "2022-09-11T11:03:41.054Z"
   },
   {
    "duration": 26,
    "start_time": "2022-09-11T11:03:41.098Z"
   },
   {
    "duration": 41,
    "start_time": "2022-09-11T11:03:42.722Z"
   },
   {
    "duration": 44,
    "start_time": "2022-09-11T11:03:49.379Z"
   },
   {
    "duration": 1088,
    "start_time": "2022-09-11T11:04:20.306Z"
   },
   {
    "duration": 245,
    "start_time": "2022-09-11T11:04:21.396Z"
   },
   {
    "duration": 19,
    "start_time": "2022-09-11T11:04:21.643Z"
   },
   {
    "duration": 36,
    "start_time": "2022-09-11T11:04:21.664Z"
   },
   {
    "duration": 16,
    "start_time": "2022-09-11T11:04:21.702Z"
   },
   {
    "duration": 4,
    "start_time": "2022-09-11T11:04:21.720Z"
   },
   {
    "duration": 13,
    "start_time": "2022-09-11T11:04:21.756Z"
   },
   {
    "duration": 13,
    "start_time": "2022-09-11T11:04:21.771Z"
   },
   {
    "duration": 17,
    "start_time": "2022-09-11T11:04:21.786Z"
   },
   {
    "duration": 90,
    "start_time": "2022-09-11T11:04:21.805Z"
   },
   {
    "duration": 86,
    "start_time": "2022-09-11T11:04:21.897Z"
   },
   {
    "duration": 34,
    "start_time": "2022-09-11T11:04:21.985Z"
   },
   {
    "duration": 10,
    "start_time": "2022-09-11T11:04:22.021Z"
   },
   {
    "duration": 37,
    "start_time": "2022-09-11T11:04:22.034Z"
   },
   {
    "duration": 24,
    "start_time": "2022-09-11T11:04:22.073Z"
   },
   {
    "duration": 8,
    "start_time": "2022-09-11T11:04:22.099Z"
   },
   {
    "duration": 74,
    "start_time": "2022-09-11T11:04:22.109Z"
   },
   {
    "duration": 45,
    "start_time": "2022-09-11T11:04:22.185Z"
   },
   {
    "duration": 2,
    "start_time": "2022-09-11T11:04:22.232Z"
   },
   {
    "duration": 55,
    "start_time": "2022-09-11T11:04:22.235Z"
   },
   {
    "duration": 28,
    "start_time": "2022-09-11T11:04:22.292Z"
   },
   {
    "duration": 63,
    "start_time": "2022-09-11T11:04:22.321Z"
   },
   {
    "duration": 37,
    "start_time": "2022-09-11T11:04:22.386Z"
   },
   {
    "duration": 286,
    "start_time": "2022-09-11T11:04:22.425Z"
   },
   {
    "duration": 128,
    "start_time": "2022-09-11T11:04:22.713Z"
   },
   {
    "duration": 192,
    "start_time": "2022-09-11T11:04:22.842Z"
   },
   {
    "duration": 323,
    "start_time": "2022-09-11T11:04:23.036Z"
   },
   {
    "duration": 465,
    "start_time": "2022-09-11T11:04:23.360Z"
   },
   {
    "duration": 426,
    "start_time": "2022-09-11T11:04:23.826Z"
   },
   {
    "duration": 114,
    "start_time": "2022-09-11T11:04:24.255Z"
   },
   {
    "duration": 129,
    "start_time": "2022-09-11T11:04:24.372Z"
   },
   {
    "duration": 138,
    "start_time": "2022-09-11T11:04:24.502Z"
   },
   {
    "duration": 300,
    "start_time": "2022-09-11T11:04:24.642Z"
   },
   {
    "duration": 509,
    "start_time": "2022-09-11T11:04:24.944Z"
   },
   {
    "duration": 3,
    "start_time": "2022-09-11T11:04:25.455Z"
   },
   {
    "duration": 12,
    "start_time": "2022-09-11T11:04:25.459Z"
   },
   {
    "duration": 264,
    "start_time": "2022-09-11T11:04:25.472Z"
   },
   {
    "duration": 298,
    "start_time": "2022-09-11T11:04:25.738Z"
   },
   {
    "duration": 5,
    "start_time": "2022-09-11T11:04:26.037Z"
   },
   {
    "duration": 20,
    "start_time": "2022-09-11T11:04:26.043Z"
   },
   {
    "duration": 370,
    "start_time": "2022-09-11T11:04:26.067Z"
   },
   {
    "duration": 305,
    "start_time": "2022-09-11T11:04:26.439Z"
   },
   {
    "duration": 6,
    "start_time": "2022-09-11T11:04:26.755Z"
   },
   {
    "duration": 1229,
    "start_time": "2022-09-11T11:09:06.083Z"
   },
   {
    "duration": 256,
    "start_time": "2022-09-11T11:09:07.313Z"
   },
   {
    "duration": 18,
    "start_time": "2022-09-11T11:09:07.571Z"
   },
   {
    "duration": 39,
    "start_time": "2022-09-11T11:09:07.591Z"
   },
   {
    "duration": 23,
    "start_time": "2022-09-11T11:09:07.632Z"
   },
   {
    "duration": 4,
    "start_time": "2022-09-11T11:09:07.657Z"
   },
   {
    "duration": 29,
    "start_time": "2022-09-11T11:09:07.662Z"
   },
   {
    "duration": 24,
    "start_time": "2022-09-11T11:09:07.693Z"
   },
   {
    "duration": 28,
    "start_time": "2022-09-11T11:09:07.719Z"
   },
   {
    "duration": 91,
    "start_time": "2022-09-11T11:09:07.749Z"
   },
   {
    "duration": 80,
    "start_time": "2022-09-11T11:09:07.841Z"
   },
   {
    "duration": 41,
    "start_time": "2022-09-11T11:09:07.922Z"
   },
   {
    "duration": 10,
    "start_time": "2022-09-11T11:09:07.964Z"
   },
   {
    "duration": 25,
    "start_time": "2022-09-11T11:09:07.975Z"
   },
   {
    "duration": 23,
    "start_time": "2022-09-11T11:09:08.002Z"
   },
   {
    "duration": 7,
    "start_time": "2022-09-11T11:09:08.027Z"
   },
   {
    "duration": 65,
    "start_time": "2022-09-11T11:09:08.036Z"
   },
   {
    "duration": 43,
    "start_time": "2022-09-11T11:09:08.102Z"
   },
   {
    "duration": 2,
    "start_time": "2022-09-11T11:09:08.154Z"
   },
   {
    "duration": 55,
    "start_time": "2022-09-11T11:09:08.158Z"
   },
   {
    "duration": 32,
    "start_time": "2022-09-11T11:09:08.214Z"
   },
   {
    "duration": 59,
    "start_time": "2022-09-11T11:09:08.248Z"
   },
   {
    "duration": 35,
    "start_time": "2022-09-11T11:09:08.308Z"
   },
   {
    "duration": 275,
    "start_time": "2022-09-11T11:09:08.355Z"
   },
   {
    "duration": 129,
    "start_time": "2022-09-11T11:09:08.632Z"
   },
   {
    "duration": 182,
    "start_time": "2022-09-11T11:09:08.763Z"
   },
   {
    "duration": 303,
    "start_time": "2022-09-11T11:09:08.954Z"
   },
   {
    "duration": 419,
    "start_time": "2022-09-11T11:09:09.260Z"
   },
   {
    "duration": 428,
    "start_time": "2022-09-11T11:09:09.681Z"
   },
   {
    "duration": 105,
    "start_time": "2022-09-11T11:09:10.111Z"
   },
   {
    "duration": 109,
    "start_time": "2022-09-11T11:09:10.218Z"
   },
   {
    "duration": 193,
    "start_time": "2022-09-11T11:09:10.329Z"
   },
   {
    "duration": 315,
    "start_time": "2022-09-11T11:09:10.524Z"
   },
   {
    "duration": 466,
    "start_time": "2022-09-11T11:09:10.840Z"
   },
   {
    "duration": 2,
    "start_time": "2022-09-11T11:09:11.308Z"
   },
   {
    "duration": 12,
    "start_time": "2022-09-11T11:09:11.312Z"
   },
   {
    "duration": 294,
    "start_time": "2022-09-11T11:09:11.325Z"
   },
   {
    "duration": 296,
    "start_time": "2022-09-11T11:09:11.621Z"
   },
   {
    "duration": 5,
    "start_time": "2022-09-11T11:09:11.918Z"
   },
   {
    "duration": 26,
    "start_time": "2022-09-11T11:09:11.924Z"
   },
   {
    "duration": 381,
    "start_time": "2022-09-11T11:09:11.954Z"
   },
   {
    "duration": 305,
    "start_time": "2022-09-11T11:09:12.337Z"
   },
   {
    "duration": 13,
    "start_time": "2022-09-11T11:09:12.643Z"
   },
   {
    "duration": 1106,
    "start_time": "2022-09-11T11:31:55.722Z"
   },
   {
    "duration": 240,
    "start_time": "2022-09-11T11:31:56.830Z"
   },
   {
    "duration": 18,
    "start_time": "2022-09-11T11:31:57.071Z"
   },
   {
    "duration": 34,
    "start_time": "2022-09-11T11:31:57.091Z"
   },
   {
    "duration": 30,
    "start_time": "2022-09-11T11:31:57.127Z"
   },
   {
    "duration": 4,
    "start_time": "2022-09-11T11:31:57.158Z"
   },
   {
    "duration": 13,
    "start_time": "2022-09-11T11:31:57.163Z"
   },
   {
    "duration": 10,
    "start_time": "2022-09-11T11:31:57.177Z"
   },
   {
    "duration": 13,
    "start_time": "2022-09-11T11:31:57.188Z"
   },
   {
    "duration": 100,
    "start_time": "2022-09-11T11:31:57.204Z"
   },
   {
    "duration": 100,
    "start_time": "2022-09-11T11:31:57.306Z"
   },
   {
    "duration": 47,
    "start_time": "2022-09-11T11:31:57.408Z"
   },
   {
    "duration": 9,
    "start_time": "2022-09-11T11:31:57.457Z"
   },
   {
    "duration": 21,
    "start_time": "2022-09-11T11:31:57.467Z"
   },
   {
    "duration": 25,
    "start_time": "2022-09-11T11:31:57.490Z"
   },
   {
    "duration": 7,
    "start_time": "2022-09-11T11:31:57.516Z"
   },
   {
    "duration": 67,
    "start_time": "2022-09-11T11:31:57.525Z"
   },
   {
    "duration": 42,
    "start_time": "2022-09-11T11:31:57.593Z"
   },
   {
    "duration": 2,
    "start_time": "2022-09-11T11:31:57.636Z"
   },
   {
    "duration": 48,
    "start_time": "2022-09-11T11:31:57.640Z"
   },
   {
    "duration": 26,
    "start_time": "2022-09-11T11:31:57.689Z"
   },
   {
    "duration": 65,
    "start_time": "2022-09-11T11:31:57.717Z"
   },
   {
    "duration": 36,
    "start_time": "2022-09-11T11:31:57.784Z"
   },
   {
    "duration": 282,
    "start_time": "2022-09-11T11:31:57.822Z"
   },
   {
    "duration": 136,
    "start_time": "2022-09-11T11:31:58.106Z"
   },
   {
    "duration": 185,
    "start_time": "2022-09-11T11:31:58.244Z"
   },
   {
    "duration": 300,
    "start_time": "2022-09-11T11:31:58.430Z"
   },
   {
    "duration": 417,
    "start_time": "2022-09-11T11:31:58.733Z"
   },
   {
    "duration": 416,
    "start_time": "2022-09-11T11:31:59.152Z"
   },
   {
    "duration": 98,
    "start_time": "2022-09-11T11:31:59.570Z"
   },
   {
    "duration": 110,
    "start_time": "2022-09-11T11:31:59.670Z"
   },
   {
    "duration": 137,
    "start_time": "2022-09-11T11:31:59.781Z"
   },
   {
    "duration": 307,
    "start_time": "2022-09-11T11:31:59.919Z"
   },
   {
    "duration": 483,
    "start_time": "2022-09-11T11:32:00.228Z"
   },
   {
    "duration": 2,
    "start_time": "2022-09-11T11:32:00.713Z"
   },
   {
    "duration": 26,
    "start_time": "2022-09-11T11:32:00.716Z"
   },
   {
    "duration": 289,
    "start_time": "2022-09-11T11:32:00.744Z"
   },
   {
    "duration": 291,
    "start_time": "2022-09-11T11:32:01.035Z"
   },
   {
    "duration": 5,
    "start_time": "2022-09-11T11:32:01.327Z"
   },
   {
    "duration": 30,
    "start_time": "2022-09-11T11:32:01.334Z"
   },
   {
    "duration": 375,
    "start_time": "2022-09-11T11:32:01.366Z"
   },
   {
    "duration": 301,
    "start_time": "2022-09-11T11:32:01.742Z"
   },
   {
    "duration": 12,
    "start_time": "2022-09-11T11:32:02.045Z"
   },
   {
    "duration": 1060,
    "start_time": "2022-09-11T11:37:40.375Z"
   },
   {
    "duration": 242,
    "start_time": "2022-09-11T11:37:41.437Z"
   },
   {
    "duration": 19,
    "start_time": "2022-09-11T11:37:41.680Z"
   },
   {
    "duration": 35,
    "start_time": "2022-09-11T11:37:41.701Z"
   },
   {
    "duration": 24,
    "start_time": "2022-09-11T11:37:41.738Z"
   },
   {
    "duration": 5,
    "start_time": "2022-09-11T11:37:41.763Z"
   },
   {
    "duration": 13,
    "start_time": "2022-09-11T11:37:41.770Z"
   },
   {
    "duration": 11,
    "start_time": "2022-09-11T11:37:41.785Z"
   },
   {
    "duration": 16,
    "start_time": "2022-09-11T11:37:41.797Z"
   },
   {
    "duration": 98,
    "start_time": "2022-09-11T11:37:41.816Z"
   },
   {
    "duration": 90,
    "start_time": "2022-09-11T11:37:41.915Z"
   },
   {
    "duration": 34,
    "start_time": "2022-09-11T11:37:42.007Z"
   },
   {
    "duration": 9,
    "start_time": "2022-09-11T11:37:42.055Z"
   },
   {
    "duration": 20,
    "start_time": "2022-09-11T11:37:42.066Z"
   },
   {
    "duration": 23,
    "start_time": "2022-09-11T11:37:42.088Z"
   },
   {
    "duration": 8,
    "start_time": "2022-09-11T11:37:42.112Z"
   },
   {
    "duration": 74,
    "start_time": "2022-09-11T11:37:42.121Z"
   },
   {
    "duration": 42,
    "start_time": "2022-09-11T11:37:42.197Z"
   },
   {
    "duration": 14,
    "start_time": "2022-09-11T11:37:42.241Z"
   },
   {
    "duration": 40,
    "start_time": "2022-09-11T11:37:42.256Z"
   },
   {
    "duration": 26,
    "start_time": "2022-09-11T11:37:42.298Z"
   },
   {
    "duration": 68,
    "start_time": "2022-09-11T11:37:42.326Z"
   },
   {
    "duration": 35,
    "start_time": "2022-09-11T11:37:42.395Z"
   },
   {
    "duration": 292,
    "start_time": "2022-09-11T11:37:42.431Z"
   },
   {
    "duration": 134,
    "start_time": "2022-09-11T11:37:42.724Z"
   },
   {
    "duration": 198,
    "start_time": "2022-09-11T11:37:42.859Z"
   },
   {
    "duration": 296,
    "start_time": "2022-09-11T11:37:43.059Z"
   },
   {
    "duration": 439,
    "start_time": "2022-09-11T11:37:43.358Z"
   },
   {
    "duration": 461,
    "start_time": "2022-09-11T11:37:43.798Z"
   },
   {
    "duration": 105,
    "start_time": "2022-09-11T11:37:44.261Z"
   },
   {
    "duration": 112,
    "start_time": "2022-09-11T11:37:44.368Z"
   },
   {
    "duration": 133,
    "start_time": "2022-09-11T11:37:44.481Z"
   },
   {
    "duration": 318,
    "start_time": "2022-09-11T11:37:44.615Z"
   },
   {
    "duration": 513,
    "start_time": "2022-09-11T11:37:44.935Z"
   },
   {
    "duration": 5,
    "start_time": "2022-09-11T11:37:45.450Z"
   },
   {
    "duration": 11,
    "start_time": "2022-09-11T11:37:45.456Z"
   },
   {
    "duration": 268,
    "start_time": "2022-09-11T11:37:45.469Z"
   },
   {
    "duration": 298,
    "start_time": "2022-09-11T11:37:45.738Z"
   },
   {
    "duration": 4,
    "start_time": "2022-09-11T11:37:46.038Z"
   },
   {
    "duration": 17,
    "start_time": "2022-09-11T11:37:46.044Z"
   },
   {
    "duration": 382,
    "start_time": "2022-09-11T11:37:46.062Z"
   },
   {
    "duration": 328,
    "start_time": "2022-09-11T11:37:46.445Z"
   },
   {
    "duration": 6,
    "start_time": "2022-09-11T11:37:46.775Z"
   },
   {
    "duration": 2170,
    "start_time": "2022-09-12T08:29:36.740Z"
   },
   {
    "duration": 27108,
    "start_time": "2022-09-12T08:37:36.067Z"
   },
   {
    "duration": 5,
    "start_time": "2022-09-12T08:38:03.177Z"
   },
   {
    "duration": 20,
    "start_time": "2022-09-12T08:44:10.987Z"
   },
   {
    "duration": 79,
    "start_time": "2022-09-12T08:44:37.034Z"
   },
   {
    "duration": 114,
    "start_time": "2022-09-12T08:46:30.615Z"
   },
   {
    "duration": 128,
    "start_time": "2022-09-12T08:46:36.681Z"
   },
   {
    "duration": 119,
    "start_time": "2022-09-12T08:48:13.824Z"
   },
   {
    "duration": 23175,
    "start_time": "2022-09-12T08:48:47.074Z"
   }
  ],
  "kernelspec": {
   "display_name": "Python 3",
   "language": "python",
   "name": "python3"
  },
  "language_info": {
   "codemirror_mode": {
    "name": "ipython",
    "version": 3
   },
   "file_extension": ".py",
   "mimetype": "text/x-python",
   "name": "python",
   "nbconvert_exporter": "python",
   "pygments_lexer": "ipython3",
   "version": "3.8.8"
  },
  "toc": {
   "base_numbering": 1,
   "nav_menu": {},
   "number_sections": true,
   "sideBar": true,
   "skip_h1_title": true,
   "title_cell": "Table of Contents",
   "title_sidebar": "Contents",
   "toc_cell": false,
   "toc_position": {
    "height": "calc(100% - 180px)",
    "left": "10px",
    "top": "150px",
    "width": "257.333px"
   },
   "toc_section_display": true,
   "toc_window_display": false
  }
 },
 "nbformat": 4,
 "nbformat_minor": 2
}
