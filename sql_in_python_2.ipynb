{
 "cells": [
  {
   "cell_type": "markdown",
   "metadata": {},
   "source": [
    "# Проект SQL"
   ]
  },
  {
   "cell_type": "markdown",
   "metadata": {},
   "source": [
    "## Описание проекта"
   ]
  },
  {
   "cell_type": "markdown",
   "metadata": {},
   "source": [
    "Компания-заказчик решила быть на волне и купила крупный сервис для чтения книг по подписке. \n",
    "\n",
    "**Основная цель** — проанализировать базу данных, в которой — информация о книгах, издательствах, авторах, а также пользовательские обзоры книг. Эти данные помогут сформулировать ценностное предложение для нового продукта.\n",
    "\n",
    "**Задачи**:\n",
    "- Посчитайте, сколько книг вышло после 1 января 2000 года;\n",
    "- Для каждой книги посчитайте количество обзоров и среднюю оценку;\n",
    "- Определите издательство, которое выпустило наибольшее число книг толще 50 страниц — так вы исключите из анализа брошюры;\n",
    "- Определите автора с самой высокой средней оценкой книг — учитывайте только книги с 50 и более оценками;\n",
    "- Посчитайте среднее количество обзоров от пользователей, которые поставили больше 50 оценок.\n",
    "\n",
    "**Описание данных**\n",
    "\n",
    "**Таблица `books`**\n",
    "\n",
    "Содержит данные о книгах:\n",
    "\n",
    "- `book_id` — идентификатор книги;\n",
    "- `author_id` — идентификатор автора;\n",
    "- `title` — название книги;\n",
    "- `num_pages` — количество страниц;\n",
    "- `publication_date` — дата публикации книги;\n",
    "- `publisher_id` — идентификатор издателя.\n",
    "\n",
    "**Таблица `authors`**\n",
    "\n",
    "Содержит данные об авторах:\n",
    "\n",
    "- `author_id` — идентификатор автора;\n",
    "- `author` — имя автора.\n",
    "\n",
    "**Таблица `publishers`**\n",
    "\n",
    "Содержит данные об издательствах:\n",
    "\n",
    "- `publisher_id` — идентификатор издательства;\n",
    "- `publisher` — название издательства;\n",
    "\n",
    "**Таблица `ratings`**\n",
    "\n",
    "Содержит данные о пользовательских оценках книг:\n",
    "\n",
    "- `rating_id` — идентификатор оценки;\n",
    "- `book_id` — идентификатор книги;\n",
    "- `username` — имя пользователя, оставившего оценку;\n",
    "- `rating` — оценка книги.\n",
    "\n",
    "**Таблица `reviews`**\n",
    "\n",
    "Содержит данные о пользовательских обзорах на книги:\n",
    "\n",
    "- `review_id` — идентификатор обзора;\n",
    "- `book_id` — идентификатор книги;\n",
    "- `username` — имя пользователя, написавшего обзор;\n",
    "- `text` — текст обзора."
   ]
  },
  {
   "cell_type": "markdown",
   "metadata": {},
   "source": [
    "## Формирование подключения к базе данных"
   ]
  },
  {
   "cell_type": "code",
   "execution_count": 1,
   "metadata": {},
   "outputs": [],
   "source": [
    "import pandas as pd\n",
    "from sqlalchemy import create_engine\n",
    "# устанавливаем параметры\n",
    "db_config = {\n",
    "    ### private_info\n",
    "}\n",
    "connection_string = 'postgresql://{}:{}@{}:{}/{}'.format(db_config['user'],\n",
    " db_config['pwd'],\n",
    " db_config['host'],\n",
    " db_config['port'],\n",
    " db_config['db'])\n",
    "# сохраняем коннектор\n",
    "engine = create_engine(connection_string, connect_args={'sslmode':'require'})"
   ]
  },
  {
   "cell_type": "markdown",
   "metadata": {},
   "source": [
    "## Обзор данных"
   ]
  },
  {
   "cell_type": "code",
   "execution_count": 2,
   "metadata": {},
   "outputs": [
    {
     "data": {
      "text/html": [
       "<div>\n",
       "<style scoped>\n",
       "    .dataframe tbody tr th:only-of-type {\n",
       "        vertical-align: middle;\n",
       "    }\n",
       "\n",
       "    .dataframe tbody tr th {\n",
       "        vertical-align: top;\n",
       "    }\n",
       "\n",
       "    .dataframe thead th {\n",
       "        text-align: right;\n",
       "    }\n",
       "</style>\n",
       "<table border=\"1\" class=\"dataframe\">\n",
       "  <thead>\n",
       "    <tr style=\"text-align: right;\">\n",
       "      <th></th>\n",
       "      <th>book_id</th>\n",
       "      <th>author_id</th>\n",
       "      <th>title</th>\n",
       "      <th>num_pages</th>\n",
       "      <th>publication_date</th>\n",
       "      <th>publisher_id</th>\n",
       "    </tr>\n",
       "  </thead>\n",
       "  <tbody>\n",
       "    <tr>\n",
       "      <th>0</th>\n",
       "      <td>1</td>\n",
       "      <td>546</td>\n",
       "      <td>'Salem's Lot</td>\n",
       "      <td>594</td>\n",
       "      <td>2005-11-01</td>\n",
       "      <td>93</td>\n",
       "    </tr>\n",
       "    <tr>\n",
       "      <th>1</th>\n",
       "      <td>2</td>\n",
       "      <td>465</td>\n",
       "      <td>1 000 Places to See Before You Die</td>\n",
       "      <td>992</td>\n",
       "      <td>2003-05-22</td>\n",
       "      <td>336</td>\n",
       "    </tr>\n",
       "    <tr>\n",
       "      <th>2</th>\n",
       "      <td>3</td>\n",
       "      <td>407</td>\n",
       "      <td>13 Little Blue Envelopes (Little Blue Envelope...</td>\n",
       "      <td>322</td>\n",
       "      <td>2010-12-21</td>\n",
       "      <td>135</td>\n",
       "    </tr>\n",
       "    <tr>\n",
       "      <th>3</th>\n",
       "      <td>4</td>\n",
       "      <td>82</td>\n",
       "      <td>1491: New Revelations of the Americas Before C...</td>\n",
       "      <td>541</td>\n",
       "      <td>2006-10-10</td>\n",
       "      <td>309</td>\n",
       "    </tr>\n",
       "    <tr>\n",
       "      <th>4</th>\n",
       "      <td>5</td>\n",
       "      <td>125</td>\n",
       "      <td>1776</td>\n",
       "      <td>386</td>\n",
       "      <td>2006-07-04</td>\n",
       "      <td>268</td>\n",
       "    </tr>\n",
       "  </tbody>\n",
       "</table>\n",
       "</div>"
      ],
      "text/plain": [
       "   book_id  author_id                                              title  \\\n",
       "0        1        546                                       'Salem's Lot   \n",
       "1        2        465                 1 000 Places to See Before You Die   \n",
       "2        3        407  13 Little Blue Envelopes (Little Blue Envelope...   \n",
       "3        4         82  1491: New Revelations of the Americas Before C...   \n",
       "4        5        125                                               1776   \n",
       "\n",
       "   num_pages publication_date  publisher_id  \n",
       "0        594       2005-11-01            93  \n",
       "1        992       2003-05-22           336  \n",
       "2        322       2010-12-21           135  \n",
       "3        541       2006-10-10           309  \n",
       "4        386       2006-07-04           268  "
      ]
     },
     "metadata": {},
     "output_type": "display_data"
    },
    {
     "data": {
      "text/html": [
       "<div>\n",
       "<style scoped>\n",
       "    .dataframe tbody tr th:only-of-type {\n",
       "        vertical-align: middle;\n",
       "    }\n",
       "\n",
       "    .dataframe tbody tr th {\n",
       "        vertical-align: top;\n",
       "    }\n",
       "\n",
       "    .dataframe thead th {\n",
       "        text-align: right;\n",
       "    }\n",
       "</style>\n",
       "<table border=\"1\" class=\"dataframe\">\n",
       "  <thead>\n",
       "    <tr style=\"text-align: right;\">\n",
       "      <th></th>\n",
       "      <th>author_id</th>\n",
       "      <th>author</th>\n",
       "    </tr>\n",
       "  </thead>\n",
       "  <tbody>\n",
       "    <tr>\n",
       "      <th>0</th>\n",
       "      <td>1</td>\n",
       "      <td>A.S. Byatt</td>\n",
       "    </tr>\n",
       "    <tr>\n",
       "      <th>1</th>\n",
       "      <td>2</td>\n",
       "      <td>Aesop/Laura Harris/Laura Gibbs</td>\n",
       "    </tr>\n",
       "    <tr>\n",
       "      <th>2</th>\n",
       "      <td>3</td>\n",
       "      <td>Agatha Christie</td>\n",
       "    </tr>\n",
       "    <tr>\n",
       "      <th>3</th>\n",
       "      <td>4</td>\n",
       "      <td>Alan Brennert</td>\n",
       "    </tr>\n",
       "    <tr>\n",
       "      <th>4</th>\n",
       "      <td>5</td>\n",
       "      <td>Alan Moore/David   Lloyd</td>\n",
       "    </tr>\n",
       "  </tbody>\n",
       "</table>\n",
       "</div>"
      ],
      "text/plain": [
       "   author_id                          author\n",
       "0          1                      A.S. Byatt\n",
       "1          2  Aesop/Laura Harris/Laura Gibbs\n",
       "2          3                 Agatha Christie\n",
       "3          4                   Alan Brennert\n",
       "4          5        Alan Moore/David   Lloyd"
      ]
     },
     "metadata": {},
     "output_type": "display_data"
    },
    {
     "data": {
      "text/html": [
       "<div>\n",
       "<style scoped>\n",
       "    .dataframe tbody tr th:only-of-type {\n",
       "        vertical-align: middle;\n",
       "    }\n",
       "\n",
       "    .dataframe tbody tr th {\n",
       "        vertical-align: top;\n",
       "    }\n",
       "\n",
       "    .dataframe thead th {\n",
       "        text-align: right;\n",
       "    }\n",
       "</style>\n",
       "<table border=\"1\" class=\"dataframe\">\n",
       "  <thead>\n",
       "    <tr style=\"text-align: right;\">\n",
       "      <th></th>\n",
       "      <th>publisher_id</th>\n",
       "      <th>publisher</th>\n",
       "    </tr>\n",
       "  </thead>\n",
       "  <tbody>\n",
       "    <tr>\n",
       "      <th>0</th>\n",
       "      <td>1</td>\n",
       "      <td>Ace</td>\n",
       "    </tr>\n",
       "    <tr>\n",
       "      <th>1</th>\n",
       "      <td>2</td>\n",
       "      <td>Ace Book</td>\n",
       "    </tr>\n",
       "    <tr>\n",
       "      <th>2</th>\n",
       "      <td>3</td>\n",
       "      <td>Ace Books</td>\n",
       "    </tr>\n",
       "    <tr>\n",
       "      <th>3</th>\n",
       "      <td>4</td>\n",
       "      <td>Ace Hardcover</td>\n",
       "    </tr>\n",
       "    <tr>\n",
       "      <th>4</th>\n",
       "      <td>5</td>\n",
       "      <td>Addison Wesley Publishing Company</td>\n",
       "    </tr>\n",
       "  </tbody>\n",
       "</table>\n",
       "</div>"
      ],
      "text/plain": [
       "   publisher_id                          publisher\n",
       "0             1                                Ace\n",
       "1             2                           Ace Book\n",
       "2             3                          Ace Books\n",
       "3             4                      Ace Hardcover\n",
       "4             5  Addison Wesley Publishing Company"
      ]
     },
     "metadata": {},
     "output_type": "display_data"
    },
    {
     "data": {
      "text/html": [
       "<div>\n",
       "<style scoped>\n",
       "    .dataframe tbody tr th:only-of-type {\n",
       "        vertical-align: middle;\n",
       "    }\n",
       "\n",
       "    .dataframe tbody tr th {\n",
       "        vertical-align: top;\n",
       "    }\n",
       "\n",
       "    .dataframe thead th {\n",
       "        text-align: right;\n",
       "    }\n",
       "</style>\n",
       "<table border=\"1\" class=\"dataframe\">\n",
       "  <thead>\n",
       "    <tr style=\"text-align: right;\">\n",
       "      <th></th>\n",
       "      <th>rating_id</th>\n",
       "      <th>book_id</th>\n",
       "      <th>username</th>\n",
       "      <th>rating</th>\n",
       "    </tr>\n",
       "  </thead>\n",
       "  <tbody>\n",
       "    <tr>\n",
       "      <th>0</th>\n",
       "      <td>1</td>\n",
       "      <td>1</td>\n",
       "      <td>ryanfranco</td>\n",
       "      <td>4</td>\n",
       "    </tr>\n",
       "    <tr>\n",
       "      <th>1</th>\n",
       "      <td>2</td>\n",
       "      <td>1</td>\n",
       "      <td>grantpatricia</td>\n",
       "      <td>2</td>\n",
       "    </tr>\n",
       "    <tr>\n",
       "      <th>2</th>\n",
       "      <td>3</td>\n",
       "      <td>1</td>\n",
       "      <td>brandtandrea</td>\n",
       "      <td>5</td>\n",
       "    </tr>\n",
       "    <tr>\n",
       "      <th>3</th>\n",
       "      <td>4</td>\n",
       "      <td>2</td>\n",
       "      <td>lorichen</td>\n",
       "      <td>3</td>\n",
       "    </tr>\n",
       "    <tr>\n",
       "      <th>4</th>\n",
       "      <td>5</td>\n",
       "      <td>2</td>\n",
       "      <td>mariokeller</td>\n",
       "      <td>2</td>\n",
       "    </tr>\n",
       "  </tbody>\n",
       "</table>\n",
       "</div>"
      ],
      "text/plain": [
       "   rating_id  book_id       username  rating\n",
       "0          1        1     ryanfranco       4\n",
       "1          2        1  grantpatricia       2\n",
       "2          3        1   brandtandrea       5\n",
       "3          4        2       lorichen       3\n",
       "4          5        2    mariokeller       2"
      ]
     },
     "metadata": {},
     "output_type": "display_data"
    },
    {
     "data": {
      "text/html": [
       "<div>\n",
       "<style scoped>\n",
       "    .dataframe tbody tr th:only-of-type {\n",
       "        vertical-align: middle;\n",
       "    }\n",
       "\n",
       "    .dataframe tbody tr th {\n",
       "        vertical-align: top;\n",
       "    }\n",
       "\n",
       "    .dataframe thead th {\n",
       "        text-align: right;\n",
       "    }\n",
       "</style>\n",
       "<table border=\"1\" class=\"dataframe\">\n",
       "  <thead>\n",
       "    <tr style=\"text-align: right;\">\n",
       "      <th></th>\n",
       "      <th>review_id</th>\n",
       "      <th>book_id</th>\n",
       "      <th>username</th>\n",
       "      <th>text</th>\n",
       "    </tr>\n",
       "  </thead>\n",
       "  <tbody>\n",
       "    <tr>\n",
       "      <th>0</th>\n",
       "      <td>1</td>\n",
       "      <td>1</td>\n",
       "      <td>brandtandrea</td>\n",
       "      <td>Mention society tell send professor analysis. ...</td>\n",
       "    </tr>\n",
       "    <tr>\n",
       "      <th>1</th>\n",
       "      <td>2</td>\n",
       "      <td>1</td>\n",
       "      <td>ryanfranco</td>\n",
       "      <td>Foot glass pretty audience hit themselves. Amo...</td>\n",
       "    </tr>\n",
       "    <tr>\n",
       "      <th>2</th>\n",
       "      <td>3</td>\n",
       "      <td>2</td>\n",
       "      <td>lorichen</td>\n",
       "      <td>Listen treat keep worry. Miss husband tax but ...</td>\n",
       "    </tr>\n",
       "    <tr>\n",
       "      <th>3</th>\n",
       "      <td>4</td>\n",
       "      <td>3</td>\n",
       "      <td>johnsonamanda</td>\n",
       "      <td>Finally month interesting blue could nature cu...</td>\n",
       "    </tr>\n",
       "    <tr>\n",
       "      <th>4</th>\n",
       "      <td>5</td>\n",
       "      <td>3</td>\n",
       "      <td>scotttamara</td>\n",
       "      <td>Nation purpose heavy give wait song will. List...</td>\n",
       "    </tr>\n",
       "  </tbody>\n",
       "</table>\n",
       "</div>"
      ],
      "text/plain": [
       "   review_id  book_id       username  \\\n",
       "0          1        1   brandtandrea   \n",
       "1          2        1     ryanfranco   \n",
       "2          3        2       lorichen   \n",
       "3          4        3  johnsonamanda   \n",
       "4          5        3    scotttamara   \n",
       "\n",
       "                                                text  \n",
       "0  Mention society tell send professor analysis. ...  \n",
       "1  Foot glass pretty audience hit themselves. Amo...  \n",
       "2  Listen treat keep worry. Miss husband tax but ...  \n",
       "3  Finally month interesting blue could nature cu...  \n",
       "4  Nation purpose heavy give wait song will. List...  "
      ]
     },
     "metadata": {},
     "output_type": "display_data"
    }
   ],
   "source": [
    "query = ''' \n",
    "    SELECT *\n",
    "    FROM books\n",
    "    LIMIT 5\n",
    "'''\n",
    "display(pd.io.sql.read_sql(query, con = engine).head())\n",
    "query = ''' \n",
    "    SELECT *\n",
    "    FROM authors\n",
    "    LIMIT 5\n",
    "'''\n",
    "display(pd.io.sql.read_sql(query, con = engine).head())\n",
    "query = ''' \n",
    "    SELECT *\n",
    "    FROM publishers\n",
    "    LIMIT 5\n",
    "'''\n",
    "display(pd.io.sql.read_sql(query, con = engine).head())\n",
    "query = ''' \n",
    "    SELECT *\n",
    "    FROM ratings\n",
    "    LIMIT 5\n",
    "'''\n",
    "display(pd.io.sql.read_sql(query, con = engine).head())\n",
    "query = ''' \n",
    "    SELECT *\n",
    "    FROM reviews\n",
    "    LIMIT 5\n",
    "'''\n",
    "display(pd.io.sql.read_sql(query, con = engine).head())"
   ]
  },
  {
   "cell_type": "markdown",
   "metadata": {},
   "source": [
    "## Анализ базы данных"
   ]
  },
  {
   "cell_type": "markdown",
   "metadata": {},
   "source": [
    "**Расчёт количества книг вышедших после 1 января 2000 года**"
   ]
  },
  {
   "cell_type": "code",
   "execution_count": 3,
   "metadata": {},
   "outputs": [
    {
     "data": {
      "text/html": [
       "<div>\n",
       "<style scoped>\n",
       "    .dataframe tbody tr th:only-of-type {\n",
       "        vertical-align: middle;\n",
       "    }\n",
       "\n",
       "    .dataframe tbody tr th {\n",
       "        vertical-align: top;\n",
       "    }\n",
       "\n",
       "    .dataframe thead th {\n",
       "        text-align: right;\n",
       "    }\n",
       "</style>\n",
       "<table border=\"1\" class=\"dataframe\">\n",
       "  <thead>\n",
       "    <tr style=\"text-align: right;\">\n",
       "      <th></th>\n",
       "      <th>book_id</th>\n",
       "      <th>author_id</th>\n",
       "      <th>title</th>\n",
       "      <th>num_pages</th>\n",
       "      <th>publication_date</th>\n",
       "      <th>publisher_id</th>\n",
       "    </tr>\n",
       "  </thead>\n",
       "  <tbody>\n",
       "    <tr>\n",
       "      <th>0</th>\n",
       "      <td>1</td>\n",
       "      <td>546</td>\n",
       "      <td>'Salem's Lot</td>\n",
       "      <td>594</td>\n",
       "      <td>2005-11-01</td>\n",
       "      <td>93</td>\n",
       "    </tr>\n",
       "    <tr>\n",
       "      <th>1</th>\n",
       "      <td>2</td>\n",
       "      <td>465</td>\n",
       "      <td>1 000 Places to See Before You Die</td>\n",
       "      <td>992</td>\n",
       "      <td>2003-05-22</td>\n",
       "      <td>336</td>\n",
       "    </tr>\n",
       "    <tr>\n",
       "      <th>2</th>\n",
       "      <td>3</td>\n",
       "      <td>407</td>\n",
       "      <td>13 Little Blue Envelopes (Little Blue Envelope...</td>\n",
       "      <td>322</td>\n",
       "      <td>2010-12-21</td>\n",
       "      <td>135</td>\n",
       "    </tr>\n",
       "    <tr>\n",
       "      <th>3</th>\n",
       "      <td>4</td>\n",
       "      <td>82</td>\n",
       "      <td>1491: New Revelations of the Americas Before C...</td>\n",
       "      <td>541</td>\n",
       "      <td>2006-10-10</td>\n",
       "      <td>309</td>\n",
       "    </tr>\n",
       "    <tr>\n",
       "      <th>4</th>\n",
       "      <td>5</td>\n",
       "      <td>125</td>\n",
       "      <td>1776</td>\n",
       "      <td>386</td>\n",
       "      <td>2006-07-04</td>\n",
       "      <td>268</td>\n",
       "    </tr>\n",
       "    <tr>\n",
       "      <th>...</th>\n",
       "      <td>...</td>\n",
       "      <td>...</td>\n",
       "      <td>...</td>\n",
       "      <td>...</td>\n",
       "      <td>...</td>\n",
       "      <td>...</td>\n",
       "    </tr>\n",
       "    <tr>\n",
       "      <th>816</th>\n",
       "      <td>994</td>\n",
       "      <td>408</td>\n",
       "      <td>World War Z: An Oral History of the Zombie War</td>\n",
       "      <td>342</td>\n",
       "      <td>2006-09-12</td>\n",
       "      <td>68</td>\n",
       "    </tr>\n",
       "    <tr>\n",
       "      <th>817</th>\n",
       "      <td>996</td>\n",
       "      <td>571</td>\n",
       "      <td>Wyrd Sisters (Discworld  #6; Witches #2)</td>\n",
       "      <td>265</td>\n",
       "      <td>2001-02-06</td>\n",
       "      <td>147</td>\n",
       "    </tr>\n",
       "    <tr>\n",
       "      <th>818</th>\n",
       "      <td>998</td>\n",
       "      <td>201</td>\n",
       "      <td>Year of Wonders</td>\n",
       "      <td>358</td>\n",
       "      <td>2002-04-30</td>\n",
       "      <td>212</td>\n",
       "    </tr>\n",
       "    <tr>\n",
       "      <th>819</th>\n",
       "      <td>999</td>\n",
       "      <td>94</td>\n",
       "      <td>You Suck (A Love Story  #2)</td>\n",
       "      <td>328</td>\n",
       "      <td>2007-01-16</td>\n",
       "      <td>331</td>\n",
       "    </tr>\n",
       "    <tr>\n",
       "      <th>820</th>\n",
       "      <td>1000</td>\n",
       "      <td>509</td>\n",
       "      <td>Zen and the Art of Motorcycle Maintenance: An ...</td>\n",
       "      <td>540</td>\n",
       "      <td>2006-04-25</td>\n",
       "      <td>143</td>\n",
       "    </tr>\n",
       "  </tbody>\n",
       "</table>\n",
       "<p>821 rows × 6 columns</p>\n",
       "</div>"
      ],
      "text/plain": [
       "     book_id  author_id                                              title  \\\n",
       "0          1        546                                       'Salem's Lot   \n",
       "1          2        465                 1 000 Places to See Before You Die   \n",
       "2          3        407  13 Little Blue Envelopes (Little Blue Envelope...   \n",
       "3          4         82  1491: New Revelations of the Americas Before C...   \n",
       "4          5        125                                               1776   \n",
       "..       ...        ...                                                ...   \n",
       "816      994        408     World War Z: An Oral History of the Zombie War   \n",
       "817      996        571           Wyrd Sisters (Discworld  #6; Witches #2)   \n",
       "818      998        201                                    Year of Wonders   \n",
       "819      999         94                        You Suck (A Love Story  #2)   \n",
       "820     1000        509  Zen and the Art of Motorcycle Maintenance: An ...   \n",
       "\n",
       "     num_pages publication_date  publisher_id  \n",
       "0          594       2005-11-01            93  \n",
       "1          992       2003-05-22           336  \n",
       "2          322       2010-12-21           135  \n",
       "3          541       2006-10-10           309  \n",
       "4          386       2006-07-04           268  \n",
       "..         ...              ...           ...  \n",
       "816        342       2006-09-12            68  \n",
       "817        265       2001-02-06           147  \n",
       "818        358       2002-04-30           212  \n",
       "819        328       2007-01-16           331  \n",
       "820        540       2006-04-25           143  \n",
       "\n",
       "[821 rows x 6 columns]"
      ]
     },
     "execution_count": 3,
     "metadata": {},
     "output_type": "execute_result"
    }
   ],
   "source": [
    "query = ''' \n",
    "    SELECT *\n",
    "    FROM books\n",
    "    WHERE PUBLICATION_DATE >= DATE'2000-01-01'\n",
    "'''\n",
    "pd.io.sql.read_sql(query, con = engine) "
   ]
  },
  {
   "cell_type": "markdown",
   "metadata": {},
   "source": [
    "**Вывод**: после 1 января 2000 года вышла 821 книга. Не так уж много. Такая маленькая база новых книг может не заинтересовать потенциальных клиентов."
   ]
  },
  {
   "cell_type": "markdown",
   "metadata": {},
   "source": [
    "**Расчёт количества обзоров и средней оценки для каждой книги**"
   ]
  },
  {
   "cell_type": "code",
   "execution_count": 4,
   "metadata": {
    "scrolled": false
   },
   "outputs": [
    {
     "data": {
      "text/html": [
       "<div>\n",
       "<style scoped>\n",
       "    .dataframe tbody tr th:only-of-type {\n",
       "        vertical-align: middle;\n",
       "    }\n",
       "\n",
       "    .dataframe tbody tr th {\n",
       "        vertical-align: top;\n",
       "    }\n",
       "\n",
       "    .dataframe thead th {\n",
       "        text-align: right;\n",
       "    }\n",
       "</style>\n",
       "<table border=\"1\" class=\"dataframe\">\n",
       "  <thead>\n",
       "    <tr style=\"text-align: right;\">\n",
       "      <th></th>\n",
       "      <th>book_id</th>\n",
       "      <th>title</th>\n",
       "      <th>review_count</th>\n",
       "      <th>avg_rating</th>\n",
       "    </tr>\n",
       "  </thead>\n",
       "  <tbody>\n",
       "    <tr>\n",
       "      <th>0</th>\n",
       "      <td>1</td>\n",
       "      <td>'Salem's Lot</td>\n",
       "      <td>2</td>\n",
       "      <td>3.666667</td>\n",
       "    </tr>\n",
       "    <tr>\n",
       "      <th>1</th>\n",
       "      <td>2</td>\n",
       "      <td>1 000 Places to See Before You Die</td>\n",
       "      <td>1</td>\n",
       "      <td>2.500000</td>\n",
       "    </tr>\n",
       "    <tr>\n",
       "      <th>2</th>\n",
       "      <td>3</td>\n",
       "      <td>13 Little Blue Envelopes (Little Blue Envelope...</td>\n",
       "      <td>3</td>\n",
       "      <td>4.666667</td>\n",
       "    </tr>\n",
       "    <tr>\n",
       "      <th>3</th>\n",
       "      <td>4</td>\n",
       "      <td>1491: New Revelations of the Americas Before C...</td>\n",
       "      <td>2</td>\n",
       "      <td>4.500000</td>\n",
       "    </tr>\n",
       "    <tr>\n",
       "      <th>4</th>\n",
       "      <td>5</td>\n",
       "      <td>1776</td>\n",
       "      <td>4</td>\n",
       "      <td>4.000000</td>\n",
       "    </tr>\n",
       "    <tr>\n",
       "      <th>...</th>\n",
       "      <td>...</td>\n",
       "      <td>...</td>\n",
       "      <td>...</td>\n",
       "      <td>...</td>\n",
       "    </tr>\n",
       "    <tr>\n",
       "      <th>995</th>\n",
       "      <td>996</td>\n",
       "      <td>Wyrd Sisters (Discworld  #6; Witches #2)</td>\n",
       "      <td>3</td>\n",
       "      <td>3.666667</td>\n",
       "    </tr>\n",
       "    <tr>\n",
       "      <th>996</th>\n",
       "      <td>997</td>\n",
       "      <td>Xenocide (Ender's Saga  #3)</td>\n",
       "      <td>3</td>\n",
       "      <td>3.400000</td>\n",
       "    </tr>\n",
       "    <tr>\n",
       "      <th>997</th>\n",
       "      <td>998</td>\n",
       "      <td>Year of Wonders</td>\n",
       "      <td>4</td>\n",
       "      <td>3.200000</td>\n",
       "    </tr>\n",
       "    <tr>\n",
       "      <th>998</th>\n",
       "      <td>999</td>\n",
       "      <td>You Suck (A Love Story  #2)</td>\n",
       "      <td>2</td>\n",
       "      <td>4.500000</td>\n",
       "    </tr>\n",
       "    <tr>\n",
       "      <th>999</th>\n",
       "      <td>1000</td>\n",
       "      <td>Zen and the Art of Motorcycle Maintenance: An ...</td>\n",
       "      <td>4</td>\n",
       "      <td>3.833333</td>\n",
       "    </tr>\n",
       "  </tbody>\n",
       "</table>\n",
       "<p>1000 rows × 4 columns</p>\n",
       "</div>"
      ],
      "text/plain": [
       "     book_id                                              title  review_count  \\\n",
       "0          1                                       'Salem's Lot             2   \n",
       "1          2                 1 000 Places to See Before You Die             1   \n",
       "2          3  13 Little Blue Envelopes (Little Blue Envelope...             3   \n",
       "3          4  1491: New Revelations of the Americas Before C...             2   \n",
       "4          5                                               1776             4   \n",
       "..       ...                                                ...           ...   \n",
       "995      996           Wyrd Sisters (Discworld  #6; Witches #2)             3   \n",
       "996      997                        Xenocide (Ender's Saga  #3)             3   \n",
       "997      998                                    Year of Wonders             4   \n",
       "998      999                        You Suck (A Love Story  #2)             2   \n",
       "999     1000  Zen and the Art of Motorcycle Maintenance: An ...             4   \n",
       "\n",
       "     avg_rating  \n",
       "0      3.666667  \n",
       "1      2.500000  \n",
       "2      4.666667  \n",
       "3      4.500000  \n",
       "4      4.000000  \n",
       "..          ...  \n",
       "995    3.666667  \n",
       "996    3.400000  \n",
       "997    3.200000  \n",
       "998    4.500000  \n",
       "999    3.833333  \n",
       "\n",
       "[1000 rows x 4 columns]"
      ]
     },
     "execution_count": 4,
     "metadata": {},
     "output_type": "execute_result"
    }
   ],
   "source": [
    "query = ''' \n",
    "    SELECT\n",
    "        b.book_id,\n",
    "        b.title,\n",
    "        COUNT(distinct rev.review_id) AS review_count,\n",
    "        AVG(rat.rating) AS avg_rating\n",
    "    FROM books b\n",
    "    LEFT JOIN reviews rev\n",
    "        ON b.book_id = rev.book_id\n",
    "    LEFT JOIN ratings rat\n",
    "        ON b.book_id = rat.book_id\n",
    "    GROUP BY b.book_id, b.title\n",
    "'''\n",
    "pd.io.sql.read_sql(query, con = engine)"
   ]
  },
  {
   "cell_type": "markdown",
   "metadata": {},
   "source": [
    "Группировка id+title используется для того, чтобы не схлопнуть книги с одинаковыми названиями, но при этом сами названия было видно."
   ]
  },
  {
   "cell_type": "markdown",
   "metadata": {},
   "source": [
    "**Вывод**: в целом, видно, что есть книги как популярные, так и малоизвестные, как с высокими рейтингами, так и с низкими. Также можно заметить, что активность читателей присутствует (т.е. люди пишут отзывы и ставят оценки)."
   ]
  },
  {
   "cell_type": "markdown",
   "metadata": {},
   "source": [
    "**Определение издательства, которое выпустило наибольшее число книг толще 50 страниц (исключаются брошюры)**"
   ]
  },
  {
   "cell_type": "code",
   "execution_count": 8,
   "metadata": {},
   "outputs": [
    {
     "data": {
      "text/html": [
       "<div>\n",
       "<style scoped>\n",
       "    .dataframe tbody tr th:only-of-type {\n",
       "        vertical-align: middle;\n",
       "    }\n",
       "\n",
       "    .dataframe tbody tr th {\n",
       "        vertical-align: top;\n",
       "    }\n",
       "\n",
       "    .dataframe thead th {\n",
       "        text-align: right;\n",
       "    }\n",
       "</style>\n",
       "<table border=\"1\" class=\"dataframe\">\n",
       "  <thead>\n",
       "    <tr style=\"text-align: right;\">\n",
       "      <th></th>\n",
       "      <th>publisher</th>\n",
       "      <th>count</th>\n",
       "    </tr>\n",
       "  </thead>\n",
       "  <tbody>\n",
       "    <tr>\n",
       "      <th>0</th>\n",
       "      <td>Penguin Books</td>\n",
       "      <td>42</td>\n",
       "    </tr>\n",
       "  </tbody>\n",
       "</table>\n",
       "</div>"
      ],
      "text/plain": [
       "       publisher  count\n",
       "0  Penguin Books     42"
      ]
     },
     "execution_count": 8,
     "metadata": {},
     "output_type": "execute_result"
    }
   ],
   "source": [
    "query = ''' \n",
    "    SELECT \n",
    "        p.publisher,\n",
    "        COUNT(b.book_id)\n",
    "    FROM books b\n",
    "    LEFT JOIN publishers p\n",
    "        ON b.publisher_id = p.publisher_id\n",
    "    WHERE b.num_pages > 50\n",
    "    GROUP BY p.publisher\n",
    "    ORDER BY 2 DESC\n",
    "    LIMIT 1\n",
    "'''\n",
    "pd.io.sql.read_sql(query, con = engine) "
   ]
  },
  {
   "cell_type": "markdown",
   "metadata": {},
   "source": [
    "**Вывод**: самое популярное издательство среди книг, представленных в базе - Penguin Books. Издательство выпустило 42 книги."
   ]
  },
  {
   "cell_type": "markdown",
   "metadata": {},
   "source": [
    "**Определение автора с самой высокой средней оценкой книг (учитываются только книги с 50 и более оценками)**"
   ]
  },
  {
   "cell_type": "code",
   "execution_count": 11,
   "metadata": {},
   "outputs": [
    {
     "data": {
      "text/html": [
       "<div>\n",
       "<style scoped>\n",
       "    .dataframe tbody tr th:only-of-type {\n",
       "        vertical-align: middle;\n",
       "    }\n",
       "\n",
       "    .dataframe tbody tr th {\n",
       "        vertical-align: top;\n",
       "    }\n",
       "\n",
       "    .dataframe thead th {\n",
       "        text-align: right;\n",
       "    }\n",
       "</style>\n",
       "<table border=\"1\" class=\"dataframe\">\n",
       "  <thead>\n",
       "    <tr style=\"text-align: right;\">\n",
       "      <th></th>\n",
       "      <th>author</th>\n",
       "      <th>avg</th>\n",
       "    </tr>\n",
       "  </thead>\n",
       "  <tbody>\n",
       "    <tr>\n",
       "      <th>0</th>\n",
       "      <td>J.K. Rowling/Mary GrandPré</td>\n",
       "      <td>4.287097</td>\n",
       "    </tr>\n",
       "  </tbody>\n",
       "</table>\n",
       "</div>"
      ],
      "text/plain": [
       "                       author       avg\n",
       "0  J.K. Rowling/Mary GrandPré  4.287097"
      ]
     },
     "execution_count": 11,
     "metadata": {},
     "output_type": "execute_result"
    }
   ],
   "source": [
    "query = ''' \n",
    "    WITH t1 AS(\n",
    "        SELECT \n",
    "            book_id\n",
    "        FROM ratings\n",
    "        GROUP BY book_id\n",
    "        HAVING COUNT(rating) >= 50\n",
    "        )\n",
    "        \n",
    "    SELECT a.author, AVG(r.rating)\n",
    "    FROM books b\n",
    "    LEFT JOIN authors a\n",
    "        ON b.author_id = a.author_id\n",
    "    INNER JOIN t1\n",
    "        ON t1.book_id = b.book_id\n",
    "    LEFT JOIN ratings r\n",
    "        ON b.book_id = r.book_id\n",
    "    GROUP BY a.author\n",
    "    ORDER BY 2 DESC\n",
    "    LIMIT 1\n",
    "'''\n",
    "pd.io.sql.read_sql(query, con = engine) "
   ]
  },
  {
   "cell_type": "markdown",
   "metadata": {},
   "source": [
    "**Вывод**: установлен самый высокооцениваемый автор. Стоит загрузить побольше книг данного автора."
   ]
  },
  {
   "cell_type": "markdown",
   "metadata": {},
   "source": [
    "**Расчёт среднего количества обзоров от пользователей, которые поставили больше 50 оценок**"
   ]
  },
  {
   "cell_type": "code",
   "execution_count": 12,
   "metadata": {},
   "outputs": [
    {
     "data": {
      "text/html": [
       "<div>\n",
       "<style scoped>\n",
       "    .dataframe tbody tr th:only-of-type {\n",
       "        vertical-align: middle;\n",
       "    }\n",
       "\n",
       "    .dataframe tbody tr th {\n",
       "        vertical-align: top;\n",
       "    }\n",
       "\n",
       "    .dataframe thead th {\n",
       "        text-align: right;\n",
       "    }\n",
       "</style>\n",
       "<table border=\"1\" class=\"dataframe\">\n",
       "  <thead>\n",
       "    <tr style=\"text-align: right;\">\n",
       "      <th></th>\n",
       "      <th>avg_reviews</th>\n",
       "    </tr>\n",
       "  </thead>\n",
       "  <tbody>\n",
       "    <tr>\n",
       "      <th>0</th>\n",
       "      <td>24.333333</td>\n",
       "    </tr>\n",
       "  </tbody>\n",
       "</table>\n",
       "</div>"
      ],
      "text/plain": [
       "   avg_reviews\n",
       "0    24.333333"
      ]
     },
     "execution_count": 12,
     "metadata": {},
     "output_type": "execute_result"
    }
   ],
   "source": [
    "query = ''' \n",
    "    WITH t1 AS(\n",
    "        SELECT \n",
    "            username\n",
    "        FROM ratings\n",
    "        GROUP BY username\n",
    "        HAVING COUNT(rating) > 50\n",
    "    ),\n",
    "    t2 AS (\n",
    "        SELECT \n",
    "            username,\n",
    "            COUNT(book_id) AS count_reviews\n",
    "        FROM reviews\n",
    "        GROUP BY username\n",
    "    )\n",
    "    SELECT\n",
    "        AVG(count_reviews) AS avg_reviews\n",
    "    FROM t2\n",
    "    WHERE t2.username IN (SELECT username FROM t1) --или можно сделать через джоин и условие на null\n",
    "'''\n",
    "pd.io.sql.read_sql(query, con = engine) "
   ]
  },
  {
   "cell_type": "markdown",
   "metadata": {},
   "source": [
    "**Вывод**: в среднем пользователи, которые ставят много оценок пишут более 24 обзоров. Нужно стимулировать таких пользователей для увеличения привлекательности сервиса."
   ]
  }
 ],
 "metadata": {
  "ExecuteTimeLog": [
   {
    "duration": 18590,
    "start_time": "2022-09-15T08:06:19.514Z"
   },
   {
    "duration": 284,
    "start_time": "2022-09-15T08:07:27.775Z"
   },
   {
    "duration": 376,
    "start_time": "2022-09-15T08:11:28.920Z"
   },
   {
    "duration": 190,
    "start_time": "2022-09-15T08:11:51.401Z"
   },
   {
    "duration": 186,
    "start_time": "2022-09-15T08:11:57.031Z"
   },
   {
    "duration": 77,
    "start_time": "2022-09-15T08:12:20.901Z"
   },
   {
    "duration": 76,
    "start_time": "2022-09-15T08:12:24.130Z"
   },
   {
    "duration": 136,
    "start_time": "2022-09-15T08:19:44.683Z"
   },
   {
    "duration": 220,
    "start_time": "2022-09-15T08:20:23.881Z"
   },
   {
    "duration": 103,
    "start_time": "2022-09-15T08:20:41.858Z"
   },
   {
    "duration": 83,
    "start_time": "2022-09-15T08:24:05.043Z"
   },
   {
    "duration": 85,
    "start_time": "2022-09-15T08:24:15.244Z"
   },
   {
    "duration": 77,
    "start_time": "2022-09-15T08:24:24.169Z"
   },
   {
    "duration": 279,
    "start_time": "2022-09-15T08:26:14.353Z"
   },
   {
    "duration": 78,
    "start_time": "2022-09-15T08:26:21.629Z"
   },
   {
    "duration": 80,
    "start_time": "2022-09-15T08:26:48.676Z"
   },
   {
    "duration": 185,
    "start_time": "2022-09-15T08:34:02.233Z"
   },
   {
    "duration": 181,
    "start_time": "2022-09-15T08:34:03.924Z"
   },
   {
    "duration": 109,
    "start_time": "2022-09-15T08:34:16.548Z"
   },
   {
    "duration": 99,
    "start_time": "2022-09-15T08:34:25.422Z"
   },
   {
    "duration": 99,
    "start_time": "2022-09-15T08:34:53.985Z"
   },
   {
    "duration": 95,
    "start_time": "2022-09-15T08:35:04.377Z"
   },
   {
    "duration": 100,
    "start_time": "2022-09-15T08:36:08.267Z"
   },
   {
    "duration": 80,
    "start_time": "2022-09-15T08:36:55.922Z"
   },
   {
    "duration": 111,
    "start_time": "2022-09-15T08:37:18.476Z"
   },
   {
    "duration": 113,
    "start_time": "2022-09-15T08:37:38.236Z"
   },
   {
    "duration": 83,
    "start_time": "2022-09-15T08:38:19.756Z"
   },
   {
    "duration": 81,
    "start_time": "2022-09-15T08:39:05.977Z"
   },
   {
    "duration": 80,
    "start_time": "2022-09-15T08:39:25.440Z"
   },
   {
    "duration": 84,
    "start_time": "2022-09-15T08:39:29.134Z"
   },
   {
    "duration": 80,
    "start_time": "2022-09-15T08:40:42.099Z"
   },
   {
    "duration": 82,
    "start_time": "2022-09-15T08:44:09.229Z"
   },
   {
    "duration": 606,
    "start_time": "2022-09-15T08:49:11.679Z"
   },
   {
    "duration": 82,
    "start_time": "2022-09-15T08:49:28.991Z"
   },
   {
    "duration": 89,
    "start_time": "2022-09-15T08:49:53.408Z"
   },
   {
    "duration": 80,
    "start_time": "2022-09-15T08:51:11.853Z"
   },
   {
    "duration": 99,
    "start_time": "2022-09-15T08:51:21.680Z"
   },
   {
    "duration": 146,
    "start_time": "2022-09-15T08:51:55.607Z"
   },
   {
    "duration": 79,
    "start_time": "2022-09-15T08:52:10.190Z"
   },
   {
    "duration": 84,
    "start_time": "2022-09-15T08:52:16.157Z"
   },
   {
    "duration": 82,
    "start_time": "2022-09-15T08:52:54.701Z"
   },
   {
    "duration": 470,
    "start_time": "2022-09-15T08:58:05.994Z"
   },
   {
    "duration": 133,
    "start_time": "2022-09-15T09:01:24.402Z"
   },
   {
    "duration": 7695,
    "start_time": "2022-09-15T09:10:06.227Z"
   },
   {
    "duration": 637,
    "start_time": "2022-09-15T09:10:13.925Z"
   },
   {
    "duration": 76,
    "start_time": "2022-09-15T09:10:14.564Z"
   },
   {
    "duration": 92,
    "start_time": "2022-09-15T09:10:14.642Z"
   },
   {
    "duration": 79,
    "start_time": "2022-09-15T09:10:14.735Z"
   },
   {
    "duration": 81,
    "start_time": "2022-09-15T09:10:14.815Z"
   },
   {
    "duration": 78,
    "start_time": "2022-09-15T09:10:14.898Z"
   },
   {
    "duration": 89,
    "start_time": "2022-09-15T09:10:14.978Z"
   },
   {
    "duration": 91,
    "start_time": "2022-09-15T09:10:51.311Z"
   },
   {
    "duration": 7400,
    "start_time": "2022-09-15T09:11:27.700Z"
   },
   {
    "duration": 734,
    "start_time": "2022-09-15T09:11:35.102Z"
   },
   {
    "duration": 76,
    "start_time": "2022-09-15T09:11:35.840Z"
   },
   {
    "duration": 94,
    "start_time": "2022-09-15T09:11:35.918Z"
   },
   {
    "duration": 77,
    "start_time": "2022-09-15T09:11:36.014Z"
   },
   {
    "duration": 81,
    "start_time": "2022-09-15T09:11:36.093Z"
   },
   {
    "duration": 84,
    "start_time": "2022-09-15T09:11:36.177Z"
   },
   {
    "duration": 79,
    "start_time": "2022-09-15T09:11:36.263Z"
   },
   {
    "duration": 11172,
    "start_time": "2022-09-15T10:13:03.750Z"
   },
   {
    "duration": 616,
    "start_time": "2022-09-15T10:13:14.924Z"
   },
   {
    "duration": 86,
    "start_time": "2022-09-15T10:13:15.542Z"
   },
   {
    "duration": 88,
    "start_time": "2022-09-15T10:13:15.631Z"
   },
   {
    "duration": 72,
    "start_time": "2022-09-15T10:13:15.721Z"
   },
   {
    "duration": 78,
    "start_time": "2022-09-15T10:13:15.795Z"
   },
   {
    "duration": 74,
    "start_time": "2022-09-15T10:13:15.874Z"
   },
   {
    "duration": 75,
    "start_time": "2022-09-15T10:13:15.950Z"
   },
   {
    "duration": 4436,
    "start_time": "2022-09-15T10:18:38.119Z"
   },
   {
    "duration": 2258,
    "start_time": "2022-09-15T10:18:53.828Z"
   },
   {
    "duration": 25,
    "start_time": "2022-09-15T10:19:36.521Z"
   },
   {
    "duration": 4,
    "start_time": "2022-09-15T10:20:43.696Z"
   },
   {
    "duration": 4,
    "start_time": "2022-09-15T10:21:02.590Z"
   },
   {
    "duration": 7,
    "start_time": "2022-09-15T10:22:16.985Z"
   },
   {
    "duration": 3,
    "start_time": "2022-09-15T10:22:33.210Z"
   },
   {
    "duration": 4,
    "start_time": "2022-09-15T10:22:40.207Z"
   },
   {
    "duration": 190,
    "start_time": "2022-09-15T10:22:46.806Z"
   },
   {
    "duration": 45,
    "start_time": "2022-09-15T10:24:07.771Z"
   },
   {
    "duration": 27,
    "start_time": "2022-09-15T10:26:03.119Z"
   },
   {
    "duration": 45,
    "start_time": "2022-09-15T10:26:37.434Z"
   },
   {
    "duration": 31,
    "start_time": "2022-09-15T10:26:56.237Z"
   },
   {
    "duration": 106,
    "start_time": "2022-09-15T10:45:42.924Z"
   },
   {
    "duration": 127,
    "start_time": "2022-09-15T10:45:47.903Z"
   },
   {
    "duration": 204,
    "start_time": "2022-09-15T10:45:49.898Z"
   },
   {
    "duration": 38,
    "start_time": "2022-09-15T10:45:58.911Z"
   },
   {
    "duration": 43,
    "start_time": "2022-09-15T10:46:03.458Z"
   },
   {
    "duration": 6004,
    "start_time": "2022-09-15T10:57:53.554Z"
   },
   {
    "duration": 632,
    "start_time": "2022-09-15T10:57:59.560Z"
   },
   {
    "duration": 77,
    "start_time": "2022-09-15T10:58:00.194Z"
   },
   {
    "duration": 95,
    "start_time": "2022-09-15T10:58:00.273Z"
   },
   {
    "duration": 131,
    "start_time": "2022-09-15T10:58:16.405Z"
   },
   {
    "duration": 108,
    "start_time": "2022-09-15T10:58:22.394Z"
   },
   {
    "duration": 109,
    "start_time": "2022-09-15T11:04:21.654Z"
   },
   {
    "duration": 496,
    "start_time": "2022-09-15T11:05:14.628Z"
   },
   {
    "duration": 867,
    "start_time": "2022-09-15T11:05:19.098Z"
   },
   {
    "duration": 106,
    "start_time": "2022-09-15T11:05:41.743Z"
   },
   {
    "duration": 170,
    "start_time": "2022-09-15T11:06:00.798Z"
   },
   {
    "duration": 78,
    "start_time": "2022-09-15T11:06:16.994Z"
   },
   {
    "duration": 103,
    "start_time": "2022-09-15T11:06:31.736Z"
   },
   {
    "duration": 108,
    "start_time": "2022-09-15T11:06:42.569Z"
   },
   {
    "duration": 115,
    "start_time": "2022-09-15T11:06:54.970Z"
   },
   {
    "duration": 120,
    "start_time": "2022-09-15T11:07:01.441Z"
   },
   {
    "duration": 77,
    "start_time": "2022-09-15T11:07:09.441Z"
   },
   {
    "duration": 109,
    "start_time": "2022-09-15T11:09:07.516Z"
   },
   {
    "duration": 373,
    "start_time": "2022-09-15T11:11:37.353Z"
   },
   {
    "duration": 105,
    "start_time": "2022-09-15T11:13:24.401Z"
   },
   {
    "duration": 111,
    "start_time": "2022-09-15T11:15:52.495Z"
   },
   {
    "duration": 104,
    "start_time": "2022-09-15T11:16:12.448Z"
   },
   {
    "duration": 115,
    "start_time": "2022-09-15T11:16:15.553Z"
   },
   {
    "duration": 80,
    "start_time": "2022-09-15T11:20:19.828Z"
   },
   {
    "duration": 147,
    "start_time": "2022-09-15T11:24:11.226Z"
   },
   {
    "duration": 128,
    "start_time": "2022-09-15T11:24:29.871Z"
   },
   {
    "duration": 160,
    "start_time": "2022-09-15T11:25:51.520Z"
   },
   {
    "duration": 82,
    "start_time": "2022-09-15T11:26:40.294Z"
   },
   {
    "duration": 89,
    "start_time": "2022-09-15T11:26:58.118Z"
   },
   {
    "duration": 78,
    "start_time": "2022-09-15T11:27:28.318Z"
   },
   {
    "duration": 83,
    "start_time": "2022-09-15T11:31:59.725Z"
   },
   {
    "duration": 82,
    "start_time": "2022-09-15T11:32:06.614Z"
   },
   {
    "duration": 80,
    "start_time": "2022-09-15T11:32:09.357Z"
   },
   {
    "duration": 84,
    "start_time": "2022-09-15T11:32:16.066Z"
   },
   {
    "duration": 91,
    "start_time": "2022-09-15T11:32:32.975Z"
   },
   {
    "duration": 83,
    "start_time": "2022-09-15T11:32:35.779Z"
   },
   {
    "duration": 80,
    "start_time": "2022-09-15T11:33:43.610Z"
   },
   {
    "duration": 82,
    "start_time": "2022-09-15T11:33:45.587Z"
   },
   {
    "duration": 79,
    "start_time": "2022-09-15T11:39:13.646Z"
   },
   {
    "duration": 7151,
    "start_time": "2022-09-15T11:40:10.938Z"
   },
   {
    "duration": 519,
    "start_time": "2022-09-15T11:40:18.091Z"
   },
   {
    "duration": 100,
    "start_time": "2022-09-15T11:40:18.612Z"
   },
   {
    "duration": 95,
    "start_time": "2022-09-15T11:40:18.714Z"
   },
   {
    "duration": 3833,
    "start_time": "2022-09-15T11:40:18.811Z"
   },
   {
    "duration": 209,
    "start_time": "2022-09-15T11:40:22.646Z"
   },
   {
    "duration": 47,
    "start_time": "2022-09-15T11:40:22.857Z"
   },
   {
    "duration": 71,
    "start_time": "2022-09-15T11:40:22.906Z"
   },
   {
    "duration": 72,
    "start_time": "2022-09-15T11:40:22.979Z"
   },
   {
    "duration": 77,
    "start_time": "2022-09-15T11:40:23.054Z"
   },
   {
    "duration": 76,
    "start_time": "2022-09-15T11:40:23.133Z"
   },
   {
    "duration": 76,
    "start_time": "2022-09-15T11:40:23.210Z"
   },
   {
    "duration": 6919,
    "start_time": "2022-09-16T05:46:07.452Z"
   },
   {
    "duration": 509,
    "start_time": "2022-09-16T05:46:14.374Z"
   },
   {
    "duration": 97,
    "start_time": "2022-09-16T05:46:14.887Z"
   },
   {
    "duration": 96,
    "start_time": "2022-09-16T05:46:14.985Z"
   },
   {
    "duration": 3743,
    "start_time": "2022-09-16T05:46:15.083Z"
   },
   {
    "duration": 200,
    "start_time": "2022-09-16T05:46:18.829Z"
   },
   {
    "duration": 43,
    "start_time": "2022-09-16T05:46:19.030Z"
   },
   {
    "duration": 70,
    "start_time": "2022-09-16T05:46:19.075Z"
   },
   {
    "duration": 69,
    "start_time": "2022-09-16T05:46:19.147Z"
   },
   {
    "duration": 73,
    "start_time": "2022-09-16T05:46:19.218Z"
   },
   {
    "duration": 76,
    "start_time": "2022-09-16T05:46:19.293Z"
   },
   {
    "duration": 73,
    "start_time": "2022-09-16T05:46:19.371Z"
   }
  ],
  "kernelspec": {
   "display_name": "Python 3",
   "language": "python",
   "name": "python3"
  },
  "language_info": {
   "codemirror_mode": {
    "name": "ipython",
    "version": 3
   },
   "file_extension": ".py",
   "mimetype": "text/x-python",
   "name": "python",
   "nbconvert_exporter": "python",
   "pygments_lexer": "ipython3",
   "version": "3.8.8"
  },
  "toc": {
   "base_numbering": 1,
   "nav_menu": {},
   "number_sections": true,
   "sideBar": true,
   "skip_h1_title": true,
   "title_cell": "Table of Contents",
   "title_sidebar": "Contents",
   "toc_cell": false,
   "toc_position": {},
   "toc_section_display": true,
   "toc_window_display": true
  }
 },
 "nbformat": 4,
 "nbformat_minor": 2
}
