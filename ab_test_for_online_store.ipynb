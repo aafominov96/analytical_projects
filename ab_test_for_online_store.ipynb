{
 "cells": [
  {
   "cell_type": "markdown",
   "metadata": {},
   "source": [
    "# A/B-тестирование и приоритизация гипотез"
   ]
  },
  {
   "cell_type": "markdown",
   "metadata": {},
   "source": [
    "## Описание проекта"
   ]
  },
  {
   "cell_type": "markdown",
   "metadata": {},
   "source": [
    "В рамках проекта для крупного интернет-магазина необходимо приоритизировать гипотезы, запусть A/B-тест и проанализировать результаты.\n",
    "\n",
    "**Цель проекта**: в рамках проекта необходимо выбрать приоритетную гипотезу, которая направлена на улучшение ключевых метрик интернет-магазина, проверить ее посредством A/B-теста и дать рекомендации о внедрении.\n",
    "\n",
    "**План работы**:\n",
    "\n",
    "* Приоритизировать гипотезы методами ICE и RICE.\n",
    "* Для приоритетной гипотезы провести A/B-тест.\n",
    "* Интерпретировать результаты теста и дать рекомендации о целесообразности внедрения."
   ]
  },
  {
   "cell_type": "code",
   "execution_count": 1,
   "metadata": {},
   "outputs": [],
   "source": [
    "import pandas as pd\n",
    "pd.options.display.max_colwidth = 100\n",
    "\n",
    "import datetime as dt\n",
    "import matplotlib.pyplot as plt\n",
    "import numpy as np\n",
    "import scipy.stats as stats"
   ]
  },
  {
   "cell_type": "markdown",
   "metadata": {},
   "source": [
    "## Приоритизация гипотез"
   ]
  },
  {
   "cell_type": "markdown",
   "metadata": {},
   "source": [
    "### Описание данных"
   ]
  },
  {
   "cell_type": "markdown",
   "metadata": {},
   "source": [
    "Набор данных `hypothesis`:\n",
    "* Hypothesis — краткое описание гипотезы;\n",
    "* Reach — охват пользователей по 10-балльной шкале;\n",
    "* Impact — влияние на пользователей по 10-балльной шкале;\n",
    "* Confidence — уверенность в гипотезе по 10-балльной шкале;\n",
    "* Efforts — затраты ресурсов на проверку гипотезы по 10-балльной шкале. Чем больше значение Efforts, тем дороже проверка гипотезы."
   ]
  },
  {
   "cell_type": "markdown",
   "metadata": {},
   "source": [
    "### Импорт данных"
   ]
  },
  {
   "cell_type": "code",
   "execution_count": 2,
   "metadata": {},
   "outputs": [],
   "source": [
    "hypo = pd.read_csv('/datasets/hypothesis.csv')"
   ]
  },
  {
   "cell_type": "markdown",
   "metadata": {},
   "source": [
    "### Расчёт показателей ICE и RICE"
   ]
  },
  {
   "cell_type": "code",
   "execution_count": 3,
   "metadata": {},
   "outputs": [],
   "source": [
    "hypo['ICE'] = round(hypo.Impact * hypo.Confidence / hypo.Efforts, 2)\n",
    "hypo['RICE'] = round(hypo.Reach * hypo.Impact * hypo.Confidence / hypo.Efforts, 2)"
   ]
  },
  {
   "cell_type": "markdown",
   "metadata": {},
   "source": [
    "### Результат приоритизации гипотез"
   ]
  },
  {
   "cell_type": "code",
   "execution_count": 4,
   "metadata": {},
   "outputs": [
    {
     "data": {
      "text/html": [
       "<div>\n",
       "<style scoped>\n",
       "    .dataframe tbody tr th:only-of-type {\n",
       "        vertical-align: middle;\n",
       "    }\n",
       "\n",
       "    .dataframe tbody tr th {\n",
       "        vertical-align: top;\n",
       "    }\n",
       "\n",
       "    .dataframe thead th {\n",
       "        text-align: right;\n",
       "    }\n",
       "</style>\n",
       "<table border=\"1\" class=\"dataframe\">\n",
       "  <thead>\n",
       "    <tr style=\"text-align: right;\">\n",
       "      <th></th>\n",
       "      <th>Hypothesis</th>\n",
       "      <th>Reach</th>\n",
       "      <th>Impact</th>\n",
       "      <th>Confidence</th>\n",
       "      <th>Efforts</th>\n",
       "      <th>ICE</th>\n",
       "      <th>RICE</th>\n",
       "    </tr>\n",
       "  </thead>\n",
       "  <tbody>\n",
       "    <tr>\n",
       "      <th>8</th>\n",
       "      <td>Запустить акцию, дающую скидку на товар в день рождения</td>\n",
       "      <td>1</td>\n",
       "      <td>9</td>\n",
       "      <td>9</td>\n",
       "      <td>5</td>\n",
       "      <td>16.20</td>\n",
       "      <td>16.2</td>\n",
       "    </tr>\n",
       "    <tr>\n",
       "      <th>0</th>\n",
       "      <td>Добавить два новых канала привлечения трафика, что позволит привлекать на 30% больше пользователей</td>\n",
       "      <td>3</td>\n",
       "      <td>10</td>\n",
       "      <td>8</td>\n",
       "      <td>6</td>\n",
       "      <td>13.33</td>\n",
       "      <td>40.0</td>\n",
       "    </tr>\n",
       "    <tr>\n",
       "      <th>7</th>\n",
       "      <td>Добавить форму подписки на все основные страницы, чтобы собрать базу клиентов для email-рассылок</td>\n",
       "      <td>10</td>\n",
       "      <td>7</td>\n",
       "      <td>8</td>\n",
       "      <td>5</td>\n",
       "      <td>11.20</td>\n",
       "      <td>112.0</td>\n",
       "    </tr>\n",
       "    <tr>\n",
       "      <th>6</th>\n",
       "      <td>Показать на главной странице баннеры с актуальными акциями и распродажами, чтобы увеличить конве...</td>\n",
       "      <td>5</td>\n",
       "      <td>3</td>\n",
       "      <td>8</td>\n",
       "      <td>3</td>\n",
       "      <td>8.00</td>\n",
       "      <td>40.0</td>\n",
       "    </tr>\n",
       "    <tr>\n",
       "      <th>2</th>\n",
       "      <td>Добавить блоки рекомендаций товаров на сайт интернет магазина, чтобы повысить конверсию и средни...</td>\n",
       "      <td>8</td>\n",
       "      <td>3</td>\n",
       "      <td>7</td>\n",
       "      <td>3</td>\n",
       "      <td>7.00</td>\n",
       "      <td>56.0</td>\n",
       "    </tr>\n",
       "    <tr>\n",
       "      <th>1</th>\n",
       "      <td>Запустить собственную службу доставки, что сократит срок доставки заказов</td>\n",
       "      <td>2</td>\n",
       "      <td>5</td>\n",
       "      <td>4</td>\n",
       "      <td>10</td>\n",
       "      <td>2.00</td>\n",
       "      <td>4.0</td>\n",
       "    </tr>\n",
       "    <tr>\n",
       "      <th>5</th>\n",
       "      <td>Добавить страницу отзывов клиентов о магазине, что позволит увеличить количество заказов</td>\n",
       "      <td>3</td>\n",
       "      <td>2</td>\n",
       "      <td>2</td>\n",
       "      <td>3</td>\n",
       "      <td>1.33</td>\n",
       "      <td>4.0</td>\n",
       "    </tr>\n",
       "    <tr>\n",
       "      <th>3</th>\n",
       "      <td>Изменить структура категорий, что увеличит конверсию, т.к. пользователи быстрее найдут нужный товар</td>\n",
       "      <td>8</td>\n",
       "      <td>3</td>\n",
       "      <td>3</td>\n",
       "      <td>8</td>\n",
       "      <td>1.12</td>\n",
       "      <td>9.0</td>\n",
       "    </tr>\n",
       "    <tr>\n",
       "      <th>4</th>\n",
       "      <td>Изменить цвет фона главной страницы, чтобы увеличить вовлеченность пользователей</td>\n",
       "      <td>3</td>\n",
       "      <td>1</td>\n",
       "      <td>1</td>\n",
       "      <td>1</td>\n",
       "      <td>1.00</td>\n",
       "      <td>3.0</td>\n",
       "    </tr>\n",
       "  </tbody>\n",
       "</table>\n",
       "</div>"
      ],
      "text/plain": [
       "                                                                                            Hypothesis  \\\n",
       "8                                              Запустить акцию, дающую скидку на товар в день рождения   \n",
       "0   Добавить два новых канала привлечения трафика, что позволит привлекать на 30% больше пользователей   \n",
       "7     Добавить форму подписки на все основные страницы, чтобы собрать базу клиентов для email-рассылок   \n",
       "6  Показать на главной странице баннеры с актуальными акциями и распродажами, чтобы увеличить конве...   \n",
       "2  Добавить блоки рекомендаций товаров на сайт интернет магазина, чтобы повысить конверсию и средни...   \n",
       "1                            Запустить собственную службу доставки, что сократит срок доставки заказов   \n",
       "5             Добавить страницу отзывов клиентов о магазине, что позволит увеличить количество заказов   \n",
       "3  Изменить структура категорий, что увеличит конверсию, т.к. пользователи быстрее найдут нужный товар   \n",
       "4                     Изменить цвет фона главной страницы, чтобы увеличить вовлеченность пользователей   \n",
       "\n",
       "   Reach  Impact  Confidence  Efforts    ICE   RICE  \n",
       "8      1       9           9        5  16.20   16.2  \n",
       "0      3      10           8        6  13.33   40.0  \n",
       "7     10       7           8        5  11.20  112.0  \n",
       "6      5       3           8        3   8.00   40.0  \n",
       "2      8       3           7        3   7.00   56.0  \n",
       "1      2       5           4       10   2.00    4.0  \n",
       "5      3       2           2        3   1.33    4.0  \n",
       "3      8       3           3        8   1.12    9.0  \n",
       "4      3       1           1        1   1.00    3.0  "
      ]
     },
     "metadata": {},
     "output_type": "display_data"
    },
    {
     "data": {
      "text/html": [
       "<div>\n",
       "<style scoped>\n",
       "    .dataframe tbody tr th:only-of-type {\n",
       "        vertical-align: middle;\n",
       "    }\n",
       "\n",
       "    .dataframe tbody tr th {\n",
       "        vertical-align: top;\n",
       "    }\n",
       "\n",
       "    .dataframe thead th {\n",
       "        text-align: right;\n",
       "    }\n",
       "</style>\n",
       "<table border=\"1\" class=\"dataframe\">\n",
       "  <thead>\n",
       "    <tr style=\"text-align: right;\">\n",
       "      <th></th>\n",
       "      <th>Hypothesis</th>\n",
       "      <th>Reach</th>\n",
       "      <th>Impact</th>\n",
       "      <th>Confidence</th>\n",
       "      <th>Efforts</th>\n",
       "      <th>ICE</th>\n",
       "      <th>RICE</th>\n",
       "    </tr>\n",
       "  </thead>\n",
       "  <tbody>\n",
       "    <tr>\n",
       "      <th>7</th>\n",
       "      <td>Добавить форму подписки на все основные страницы, чтобы собрать базу клиентов для email-рассылок</td>\n",
       "      <td>10</td>\n",
       "      <td>7</td>\n",
       "      <td>8</td>\n",
       "      <td>5</td>\n",
       "      <td>11.20</td>\n",
       "      <td>112.0</td>\n",
       "    </tr>\n",
       "    <tr>\n",
       "      <th>2</th>\n",
       "      <td>Добавить блоки рекомендаций товаров на сайт интернет магазина, чтобы повысить конверсию и средни...</td>\n",
       "      <td>8</td>\n",
       "      <td>3</td>\n",
       "      <td>7</td>\n",
       "      <td>3</td>\n",
       "      <td>7.00</td>\n",
       "      <td>56.0</td>\n",
       "    </tr>\n",
       "    <tr>\n",
       "      <th>0</th>\n",
       "      <td>Добавить два новых канала привлечения трафика, что позволит привлекать на 30% больше пользователей</td>\n",
       "      <td>3</td>\n",
       "      <td>10</td>\n",
       "      <td>8</td>\n",
       "      <td>6</td>\n",
       "      <td>13.33</td>\n",
       "      <td>40.0</td>\n",
       "    </tr>\n",
       "    <tr>\n",
       "      <th>6</th>\n",
       "      <td>Показать на главной странице баннеры с актуальными акциями и распродажами, чтобы увеличить конве...</td>\n",
       "      <td>5</td>\n",
       "      <td>3</td>\n",
       "      <td>8</td>\n",
       "      <td>3</td>\n",
       "      <td>8.00</td>\n",
       "      <td>40.0</td>\n",
       "    </tr>\n",
       "    <tr>\n",
       "      <th>8</th>\n",
       "      <td>Запустить акцию, дающую скидку на товар в день рождения</td>\n",
       "      <td>1</td>\n",
       "      <td>9</td>\n",
       "      <td>9</td>\n",
       "      <td>5</td>\n",
       "      <td>16.20</td>\n",
       "      <td>16.2</td>\n",
       "    </tr>\n",
       "    <tr>\n",
       "      <th>3</th>\n",
       "      <td>Изменить структура категорий, что увеличит конверсию, т.к. пользователи быстрее найдут нужный товар</td>\n",
       "      <td>8</td>\n",
       "      <td>3</td>\n",
       "      <td>3</td>\n",
       "      <td>8</td>\n",
       "      <td>1.12</td>\n",
       "      <td>9.0</td>\n",
       "    </tr>\n",
       "    <tr>\n",
       "      <th>1</th>\n",
       "      <td>Запустить собственную службу доставки, что сократит срок доставки заказов</td>\n",
       "      <td>2</td>\n",
       "      <td>5</td>\n",
       "      <td>4</td>\n",
       "      <td>10</td>\n",
       "      <td>2.00</td>\n",
       "      <td>4.0</td>\n",
       "    </tr>\n",
       "    <tr>\n",
       "      <th>5</th>\n",
       "      <td>Добавить страницу отзывов клиентов о магазине, что позволит увеличить количество заказов</td>\n",
       "      <td>3</td>\n",
       "      <td>2</td>\n",
       "      <td>2</td>\n",
       "      <td>3</td>\n",
       "      <td>1.33</td>\n",
       "      <td>4.0</td>\n",
       "    </tr>\n",
       "    <tr>\n",
       "      <th>4</th>\n",
       "      <td>Изменить цвет фона главной страницы, чтобы увеличить вовлеченность пользователей</td>\n",
       "      <td>3</td>\n",
       "      <td>1</td>\n",
       "      <td>1</td>\n",
       "      <td>1</td>\n",
       "      <td>1.00</td>\n",
       "      <td>3.0</td>\n",
       "    </tr>\n",
       "  </tbody>\n",
       "</table>\n",
       "</div>"
      ],
      "text/plain": [
       "                                                                                            Hypothesis  \\\n",
       "7     Добавить форму подписки на все основные страницы, чтобы собрать базу клиентов для email-рассылок   \n",
       "2  Добавить блоки рекомендаций товаров на сайт интернет магазина, чтобы повысить конверсию и средни...   \n",
       "0   Добавить два новых канала привлечения трафика, что позволит привлекать на 30% больше пользователей   \n",
       "6  Показать на главной странице баннеры с актуальными акциями и распродажами, чтобы увеличить конве...   \n",
       "8                                              Запустить акцию, дающую скидку на товар в день рождения   \n",
       "3  Изменить структура категорий, что увеличит конверсию, т.к. пользователи быстрее найдут нужный товар   \n",
       "1                            Запустить собственную службу доставки, что сократит срок доставки заказов   \n",
       "5             Добавить страницу отзывов клиентов о магазине, что позволит увеличить количество заказов   \n",
       "4                     Изменить цвет фона главной страницы, чтобы увеличить вовлеченность пользователей   \n",
       "\n",
       "   Reach  Impact  Confidence  Efforts    ICE   RICE  \n",
       "7     10       7           8        5  11.20  112.0  \n",
       "2      8       3           7        3   7.00   56.0  \n",
       "0      3      10           8        6  13.33   40.0  \n",
       "6      5       3           8        3   8.00   40.0  \n",
       "8      1       9           9        5  16.20   16.2  \n",
       "3      8       3           3        8   1.12    9.0  \n",
       "1      2       5           4       10   2.00    4.0  \n",
       "5      3       2           2        3   1.33    4.0  \n",
       "4      3       1           1        1   1.00    3.0  "
      ]
     },
     "metadata": {},
     "output_type": "display_data"
    }
   ],
   "source": [
    "display(hypo.sort_values(by='ICE', ascending=False))\n",
    "display(hypo.sort_values(by='RICE', ascending=False))"
   ]
  },
  {
   "cell_type": "markdown",
   "metadata": {},
   "source": [
    "### Заключение"
   ]
  },
  {
   "cell_type": "markdown",
   "metadata": {},
   "source": [
    "Результаты приоритизации методами ICE и RICE различаются. Например, гипотеза №8 является самой приоритетной по методу ICE, но занимает 5 место по методу RICE. Различие заключается в том, что в методе RICE мы дополнительно учитываем Reach, т.е. охват.\n",
    "\n",
    "В работу следует взять одну из гипотез, находящихся в топ-3 при расчёте обоими методами, т.е. гипотезу №7 или гипотезу №0. \n",
    "\n",
    "В данном случае, рекомендую начать отрабатывать **гипотезу №7 (Добавить форму подписки на все основные страницы, чтобы собрать базу клиентов для email-рассылок)**, т.к. мы достаточно уверены, что реализация данной гипотезы сильно повлияет на охваченных пользователей (при этом, охват у данной гипотезы также максимальный). Также мы хорошо уверены в точности нашей оценки. Трудозатраты на реализацию данной гипотезы выше, чем на реализацию гипотезы №0, однако данная разница не столь критичная."
   ]
  },
  {
   "cell_type": "markdown",
   "metadata": {},
   "source": [
    "## Анализ A/B-теста"
   ]
  },
  {
   "cell_type": "markdown",
   "metadata": {},
   "source": [
    "Для A/B-теста была выбрана гипотеза: \"*Добавить форму подписки на все основные страницы, чтобы собрать базу клиентов для email-рассылок*\". \n",
    "\n",
    "A/B-тест проводился в период с 2019-08-01 по 2019-08-31.\n"
   ]
  },
  {
   "cell_type": "markdown",
   "metadata": {},
   "source": [
    "### Описание данных"
   ]
  },
  {
   "cell_type": "markdown",
   "metadata": {},
   "source": [
    "Набор данных `orders`:\n",
    "* transactionId — идентификатор заказа;\n",
    "* visitorId — идентификатор пользователя, совершившего заказ;\n",
    "* date — дата, когда был совершён заказ;\n",
    "* revenue — выручка заказа;\n",
    "* group — группа A/B-теста, в которую попал заказ.\n",
    "\n",
    "Набор данных `visitors`:\n",
    "* date — дата;\n",
    "* group — группа A/B-теста;\n",
    "* visitors — количество пользователей в указанную дату в указанной группе A/B-теста"
   ]
  },
  {
   "cell_type": "markdown",
   "metadata": {},
   "source": [
    "### Импорт и предобработка данных"
   ]
  },
  {
   "cell_type": "markdown",
   "metadata": {},
   "source": [
    "Импортируем результаты теста, а также приведем поле `date` к типу datetime. Дополнительно назначим уровень значимости для последующих статистических тестов. Уровень значимости принимаем равным 0.05, так как меньший уровень используется, как правило, для очень высокоточных тестов в научных исследованиях."
   ]
  },
  {
   "cell_type": "code",
   "execution_count": 5,
   "metadata": {},
   "outputs": [],
   "source": [
    "orders = pd.read_csv('/datasets/orders.csv')\n",
    "orders['date'] = orders['date'].map(lambda x: dt.datetime.strptime(x, '%Y-%m-%d'))\n",
    "visitors = pd.read_csv('/datasets/visitors.csv')\n",
    "visitors['date'] = visitors['date'].map(lambda x: dt.datetime.strptime(x, '%Y-%m-%d'))\n",
    "alpha = 0.05"
   ]
  },
  {
   "cell_type": "markdown",
   "metadata": {},
   "source": [
    "**Вывод**: результаты A/B-теста успешно импортированы."
   ]
  },
  {
   "cell_type": "markdown",
   "metadata": {},
   "source": [
    "### Проверка данных"
   ]
  },
  {
   "cell_type": "markdown",
   "metadata": {},
   "source": [
    "Перед началом анализа результатов теста проверим данные на соответствие типов данных, на отсутствие дубликатов, а также удостоверимся, что группы тестирования соразмерны."
   ]
  },
  {
   "cell_type": "code",
   "execution_count": 6,
   "metadata": {},
   "outputs": [
    {
     "name": "stdout",
     "output_type": "stream",
     "text": [
      "<class 'pandas.core.frame.DataFrame'>\n",
      "RangeIndex: 1197 entries, 0 to 1196\n",
      "Data columns (total 5 columns):\n",
      " #   Column         Non-Null Count  Dtype         \n",
      "---  ------         --------------  -----         \n",
      " 0   transactionId  1197 non-null   int64         \n",
      " 1   visitorId      1197 non-null   int64         \n",
      " 2   date           1197 non-null   datetime64[ns]\n",
      " 3   revenue        1197 non-null   int64         \n",
      " 4   group          1197 non-null   object        \n",
      "dtypes: datetime64[ns](1), int64(3), object(1)\n",
      "memory usage: 46.9+ KB\n"
     ]
    },
    {
     "data": {
      "text/html": [
       "<div>\n",
       "<style scoped>\n",
       "    .dataframe tbody tr th:only-of-type {\n",
       "        vertical-align: middle;\n",
       "    }\n",
       "\n",
       "    .dataframe tbody tr th {\n",
       "        vertical-align: top;\n",
       "    }\n",
       "\n",
       "    .dataframe thead th {\n",
       "        text-align: right;\n",
       "    }\n",
       "</style>\n",
       "<table border=\"1\" class=\"dataframe\">\n",
       "  <thead>\n",
       "    <tr style=\"text-align: right;\">\n",
       "      <th></th>\n",
       "      <th>transactionId</th>\n",
       "      <th>visitorId</th>\n",
       "      <th>revenue</th>\n",
       "    </tr>\n",
       "  </thead>\n",
       "  <tbody>\n",
       "    <tr>\n",
       "      <th>count</th>\n",
       "      <td>1.197000e+03</td>\n",
       "      <td>1.197000e+03</td>\n",
       "      <td>1.197000e+03</td>\n",
       "    </tr>\n",
       "    <tr>\n",
       "      <th>mean</th>\n",
       "      <td>2.155621e+09</td>\n",
       "      <td>2.165960e+09</td>\n",
       "      <td>8.348006e+03</td>\n",
       "    </tr>\n",
       "    <tr>\n",
       "      <th>std</th>\n",
       "      <td>1.229085e+09</td>\n",
       "      <td>1.236014e+09</td>\n",
       "      <td>3.919113e+04</td>\n",
       "    </tr>\n",
       "    <tr>\n",
       "      <th>min</th>\n",
       "      <td>1.062393e+06</td>\n",
       "      <td>5.114589e+06</td>\n",
       "      <td>5.000000e+01</td>\n",
       "    </tr>\n",
       "    <tr>\n",
       "      <th>25%</th>\n",
       "      <td>1.166776e+09</td>\n",
       "      <td>1.111826e+09</td>\n",
       "      <td>1.220000e+03</td>\n",
       "    </tr>\n",
       "    <tr>\n",
       "      <th>50%</th>\n",
       "      <td>2.145194e+09</td>\n",
       "      <td>2.217985e+09</td>\n",
       "      <td>2.978000e+03</td>\n",
       "    </tr>\n",
       "    <tr>\n",
       "      <th>75%</th>\n",
       "      <td>3.237740e+09</td>\n",
       "      <td>3.177606e+09</td>\n",
       "      <td>8.290000e+03</td>\n",
       "    </tr>\n",
       "    <tr>\n",
       "      <th>max</th>\n",
       "      <td>4.293856e+09</td>\n",
       "      <td>4.283872e+09</td>\n",
       "      <td>1.294500e+06</td>\n",
       "    </tr>\n",
       "  </tbody>\n",
       "</table>\n",
       "</div>"
      ],
      "text/plain": [
       "       transactionId     visitorId       revenue\n",
       "count   1.197000e+03  1.197000e+03  1.197000e+03\n",
       "mean    2.155621e+09  2.165960e+09  8.348006e+03\n",
       "std     1.229085e+09  1.236014e+09  3.919113e+04\n",
       "min     1.062393e+06  5.114589e+06  5.000000e+01\n",
       "25%     1.166776e+09  1.111826e+09  1.220000e+03\n",
       "50%     2.145194e+09  2.217985e+09  2.978000e+03\n",
       "75%     3.237740e+09  3.177606e+09  8.290000e+03\n",
       "max     4.293856e+09  4.283872e+09  1.294500e+06"
      ]
     },
     "metadata": {},
     "output_type": "display_data"
    },
    {
     "data": {
      "text/html": [
       "<div>\n",
       "<style scoped>\n",
       "    .dataframe tbody tr th:only-of-type {\n",
       "        vertical-align: middle;\n",
       "    }\n",
       "\n",
       "    .dataframe tbody tr th {\n",
       "        vertical-align: top;\n",
       "    }\n",
       "\n",
       "    .dataframe thead th {\n",
       "        text-align: right;\n",
       "    }\n",
       "</style>\n",
       "<table border=\"1\" class=\"dataframe\">\n",
       "  <thead>\n",
       "    <tr style=\"text-align: right;\">\n",
       "      <th></th>\n",
       "      <th>transactionId</th>\n",
       "      <th>visitorId</th>\n",
       "      <th>date</th>\n",
       "      <th>revenue</th>\n",
       "      <th>group</th>\n",
       "    </tr>\n",
       "  </thead>\n",
       "  <tbody>\n",
       "    <tr>\n",
       "      <th>0</th>\n",
       "      <td>3667963787</td>\n",
       "      <td>3312258926</td>\n",
       "      <td>2019-08-15</td>\n",
       "      <td>1650</td>\n",
       "      <td>B</td>\n",
       "    </tr>\n",
       "    <tr>\n",
       "      <th>1</th>\n",
       "      <td>2804400009</td>\n",
       "      <td>3642806036</td>\n",
       "      <td>2019-08-15</td>\n",
       "      <td>730</td>\n",
       "      <td>B</td>\n",
       "    </tr>\n",
       "    <tr>\n",
       "      <th>2</th>\n",
       "      <td>2961555356</td>\n",
       "      <td>4069496402</td>\n",
       "      <td>2019-08-15</td>\n",
       "      <td>400</td>\n",
       "      <td>A</td>\n",
       "    </tr>\n",
       "    <tr>\n",
       "      <th>3</th>\n",
       "      <td>3797467345</td>\n",
       "      <td>1196621759</td>\n",
       "      <td>2019-08-15</td>\n",
       "      <td>9759</td>\n",
       "      <td>B</td>\n",
       "    </tr>\n",
       "    <tr>\n",
       "      <th>4</th>\n",
       "      <td>2282983706</td>\n",
       "      <td>2322279887</td>\n",
       "      <td>2019-08-15</td>\n",
       "      <td>2308</td>\n",
       "      <td>B</td>\n",
       "    </tr>\n",
       "  </tbody>\n",
       "</table>\n",
       "</div>"
      ],
      "text/plain": [
       "   transactionId   visitorId       date  revenue group\n",
       "0     3667963787  3312258926 2019-08-15     1650     B\n",
       "1     2804400009  3642806036 2019-08-15      730     B\n",
       "2     2961555356  4069496402 2019-08-15      400     A\n",
       "3     3797467345  1196621759 2019-08-15     9759     B\n",
       "4     2282983706  2322279887 2019-08-15     2308     B"
      ]
     },
     "metadata": {},
     "output_type": "display_data"
    },
    {
     "name": "stdout",
     "output_type": "stream",
     "text": [
      "Количество дубликатов: 0\n",
      "Количество групп: 2\n",
      "Временной интервал набора данных 2019-08-01 00:00:00 - 2019-08-31 00:00:00\n",
      "Количество пользователей, попавших в обе группы: 58\n",
      "Количество объектов группы А: 557\n",
      "Количество объектов группы B: 640\n"
     ]
    }
   ],
   "source": [
    "orders.info()\n",
    "display(orders.describe())\n",
    "display(orders.head())\n",
    "print('Количество дубликатов:', orders.duplicated().sum())\n",
    "print('Количество групп:', len(orders.group.unique()))\n",
    "print(f'Временной интервал набора данных {orders.date.min()} - {orders.date.max()}')\n",
    "unVisA = pd.Series(orders[orders['group'] == 'A']['visitorId'].unique())\n",
    "unVisB = pd.Series(orders[orders['group'] == 'B']['visitorId'].unique())\n",
    "print('Количество пользователей, попавших в обе группы:', unVisA.isin(unVisB).sum())\n",
    "print('Количество объектов группы А:', len(orders[orders['group'] == 'A']))\n",
    "print('Количество объектов группы B:', len(orders[orders['group'] == 'B']))"
   ]
  },
  {
   "cell_type": "code",
   "execution_count": 7,
   "metadata": {},
   "outputs": [
    {
     "name": "stdout",
     "output_type": "stream",
     "text": [
      "<class 'pandas.core.frame.DataFrame'>\n",
      "RangeIndex: 62 entries, 0 to 61\n",
      "Data columns (total 3 columns):\n",
      " #   Column    Non-Null Count  Dtype         \n",
      "---  ------    --------------  -----         \n",
      " 0   date      62 non-null     datetime64[ns]\n",
      " 1   group     62 non-null     object        \n",
      " 2   visitors  62 non-null     int64         \n",
      "dtypes: datetime64[ns](1), int64(1), object(1)\n",
      "memory usage: 1.6+ KB\n"
     ]
    },
    {
     "data": {
      "text/html": [
       "<div>\n",
       "<style scoped>\n",
       "    .dataframe tbody tr th:only-of-type {\n",
       "        vertical-align: middle;\n",
       "    }\n",
       "\n",
       "    .dataframe tbody tr th {\n",
       "        vertical-align: top;\n",
       "    }\n",
       "\n",
       "    .dataframe thead th {\n",
       "        text-align: right;\n",
       "    }\n",
       "</style>\n",
       "<table border=\"1\" class=\"dataframe\">\n",
       "  <thead>\n",
       "    <tr style=\"text-align: right;\">\n",
       "      <th></th>\n",
       "      <th>visitors</th>\n",
       "    </tr>\n",
       "  </thead>\n",
       "  <tbody>\n",
       "    <tr>\n",
       "      <th>count</th>\n",
       "      <td>62.000000</td>\n",
       "    </tr>\n",
       "    <tr>\n",
       "      <th>mean</th>\n",
       "      <td>607.290323</td>\n",
       "    </tr>\n",
       "    <tr>\n",
       "      <th>std</th>\n",
       "      <td>114.400560</td>\n",
       "    </tr>\n",
       "    <tr>\n",
       "      <th>min</th>\n",
       "      <td>361.000000</td>\n",
       "    </tr>\n",
       "    <tr>\n",
       "      <th>25%</th>\n",
       "      <td>534.000000</td>\n",
       "    </tr>\n",
       "    <tr>\n",
       "      <th>50%</th>\n",
       "      <td>624.500000</td>\n",
       "    </tr>\n",
       "    <tr>\n",
       "      <th>75%</th>\n",
       "      <td>710.500000</td>\n",
       "    </tr>\n",
       "    <tr>\n",
       "      <th>max</th>\n",
       "      <td>770.000000</td>\n",
       "    </tr>\n",
       "  </tbody>\n",
       "</table>\n",
       "</div>"
      ],
      "text/plain": [
       "         visitors\n",
       "count   62.000000\n",
       "mean   607.290323\n",
       "std    114.400560\n",
       "min    361.000000\n",
       "25%    534.000000\n",
       "50%    624.500000\n",
       "75%    710.500000\n",
       "max    770.000000"
      ]
     },
     "metadata": {},
     "output_type": "display_data"
    },
    {
     "data": {
      "text/html": [
       "<div>\n",
       "<style scoped>\n",
       "    .dataframe tbody tr th:only-of-type {\n",
       "        vertical-align: middle;\n",
       "    }\n",
       "\n",
       "    .dataframe tbody tr th {\n",
       "        vertical-align: top;\n",
       "    }\n",
       "\n",
       "    .dataframe thead th {\n",
       "        text-align: right;\n",
       "    }\n",
       "</style>\n",
       "<table border=\"1\" class=\"dataframe\">\n",
       "  <thead>\n",
       "    <tr style=\"text-align: right;\">\n",
       "      <th></th>\n",
       "      <th>date</th>\n",
       "      <th>group</th>\n",
       "      <th>visitors</th>\n",
       "    </tr>\n",
       "  </thead>\n",
       "  <tbody>\n",
       "    <tr>\n",
       "      <th>0</th>\n",
       "      <td>2019-08-01</td>\n",
       "      <td>A</td>\n",
       "      <td>719</td>\n",
       "    </tr>\n",
       "    <tr>\n",
       "      <th>1</th>\n",
       "      <td>2019-08-02</td>\n",
       "      <td>A</td>\n",
       "      <td>619</td>\n",
       "    </tr>\n",
       "    <tr>\n",
       "      <th>2</th>\n",
       "      <td>2019-08-03</td>\n",
       "      <td>A</td>\n",
       "      <td>507</td>\n",
       "    </tr>\n",
       "    <tr>\n",
       "      <th>3</th>\n",
       "      <td>2019-08-04</td>\n",
       "      <td>A</td>\n",
       "      <td>717</td>\n",
       "    </tr>\n",
       "    <tr>\n",
       "      <th>4</th>\n",
       "      <td>2019-08-05</td>\n",
       "      <td>A</td>\n",
       "      <td>756</td>\n",
       "    </tr>\n",
       "  </tbody>\n",
       "</table>\n",
       "</div>"
      ],
      "text/plain": [
       "        date group  visitors\n",
       "0 2019-08-01     A       719\n",
       "1 2019-08-02     A       619\n",
       "2 2019-08-03     A       507\n",
       "3 2019-08-04     A       717\n",
       "4 2019-08-05     A       756"
      ]
     },
     "metadata": {},
     "output_type": "display_data"
    },
    {
     "name": "stdout",
     "output_type": "stream",
     "text": [
      "Количество дубликатов: 0\n",
      "Количество групп: 2\n",
      "Временной интервал набора данных 2019-08-01 00:00:00 - 2019-08-31 00:00:00\n",
      "Количество объектов группы А: 31\n",
      "Количество объектов группы B: 31\n"
     ]
    }
   ],
   "source": [
    "visitors.info()\n",
    "display(visitors.describe())\n",
    "display(visitors.head())\n",
    "print('Количество дубликатов:', visitors.duplicated().sum())\n",
    "print('Количество групп:', len(visitors.group.unique()))\n",
    "print(f'Временной интервал набора данных {visitors.date.min()} - {visitors.date.max()}')\n",
    "print('Количество объектов группы А:', len(visitors[visitors['group'] == 'A']))\n",
    "print('Количество объектов группы B:', len(visitors[visitors['group'] == 'B']))"
   ]
  },
  {
   "cell_type": "code",
   "execution_count": 8,
   "metadata": {},
   "outputs": [
    {
     "data": {
      "image/png": "[encoded data removed]",
      "text/plain": [
       "<Figure size 1080x720 with 1 Axes>"
      ]
     },
     "metadata": {
      "needs_background": "light"
     },
     "output_type": "display_data"
    }
   ],
   "source": [
    "visByDaysA = visitors[visitors['group'] == 'A']\n",
    "visByDaysB = visitors[visitors['group'] == 'B']\n",
    "plt.figure(figsize=(15, 10));\n",
    "plt.plot(visByDaysA['date'], visByDaysA['visitors'], label='A');\n",
    "plt.plot(visByDaysB['date'], visByDaysB['visitors'], label='B');\n",
    "plt.legend();\n",
    "plt.grid();\n",
    "plt.title('График посетителей по дням в разрезе групп');\n",
    "plt.xlabel('Дата');\n",
    "plt.ylabel('Количество посетителей');\n",
    "plt.show();"
   ]
  },
  {
   "cell_type": "markdown",
   "metadata": {},
   "source": [
    "**Вывод**: результаты A/B-теста полностью пригодны для дальнейшего анализа, хотя и присутствует некоторое пересечение групп (т.е. ряд пользователей участвует в обоих группах)."
   ]
  },
  {
   "cell_type": "markdown",
   "metadata": {},
   "source": [
    "### Анализ кумулятивных метрик"
   ]
  },
  {
   "cell_type": "markdown",
   "metadata": {},
   "source": [
    "Подготовим данные о заказах, посетителях и выручке для анализа кумулятивных метрик в разрезе групп."
   ]
  },
  {
   "cell_type": "code",
   "execution_count": 9,
   "metadata": {},
   "outputs": [
    {
     "data": {
      "text/html": [
       "<div>\n",
       "<style scoped>\n",
       "    .dataframe tbody tr th:only-of-type {\n",
       "        vertical-align: middle;\n",
       "    }\n",
       "\n",
       "    .dataframe tbody tr th {\n",
       "        vertical-align: top;\n",
       "    }\n",
       "\n",
       "    .dataframe thead th {\n",
       "        text-align: right;\n",
       "    }\n",
       "</style>\n",
       "<table border=\"1\" class=\"dataframe\">\n",
       "  <thead>\n",
       "    <tr style=\"text-align: right;\">\n",
       "      <th></th>\n",
       "      <th>date</th>\n",
       "      <th>ordersCummulativeA</th>\n",
       "      <th>revenueCummulativeA</th>\n",
       "    </tr>\n",
       "  </thead>\n",
       "  <tbody>\n",
       "    <tr>\n",
       "      <th>0</th>\n",
       "      <td>2019-08-01</td>\n",
       "      <td>20</td>\n",
       "      <td>148579</td>\n",
       "    </tr>\n",
       "    <tr>\n",
       "      <th>1</th>\n",
       "      <td>2019-08-02</td>\n",
       "      <td>39</td>\n",
       "      <td>242401</td>\n",
       "    </tr>\n",
       "    <tr>\n",
       "      <th>2</th>\n",
       "      <td>2019-08-03</td>\n",
       "      <td>63</td>\n",
       "      <td>354874</td>\n",
       "    </tr>\n",
       "    <tr>\n",
       "      <th>3</th>\n",
       "      <td>2019-08-04</td>\n",
       "      <td>78</td>\n",
       "      <td>425699</td>\n",
       "    </tr>\n",
       "    <tr>\n",
       "      <th>4</th>\n",
       "      <td>2019-08-05</td>\n",
       "      <td>103</td>\n",
       "      <td>549917</td>\n",
       "    </tr>\n",
       "  </tbody>\n",
       "</table>\n",
       "</div>"
      ],
      "text/plain": [
       "        date  ordersCummulativeA  revenueCummulativeA\n",
       "0 2019-08-01                  20               148579\n",
       "1 2019-08-02                  39               242401\n",
       "2 2019-08-03                  63               354874\n",
       "3 2019-08-04                  78               425699\n",
       "4 2019-08-05                 103               549917"
      ]
     },
     "execution_count": 9,
     "metadata": {},
     "output_type": "execute_result"
    }
   ],
   "source": [
    "ordersADaily = (\n",
    "    orders[orders['group'] == 'A'][['date', 'visitorId', 'revenue']]\n",
    "    .groupby('date', as_index=False)\n",
    "    .agg({'visitorId':'nunique', 'revenue':'sum'})\n",
    ")\n",
    "ordersADaily.columns = ['date', 'ordersPerDateA', 'revenuePerDateA']\n",
    "\n",
    "ordersACummulative = ordersADaily.apply(\n",
    "    lambda x: ordersADaily[ordersADaily['date'] <= x['date']].agg(\n",
    "        {'date':'max', 'ordersPerDateA':'sum', 'revenuePerDateA':'sum'}\n",
    "    ), axis=1\n",
    ").sort_values(by='date')\n",
    "ordersACummulative.columns = ['date', 'ordersCummulativeA', 'revenueCummulativeA']\n",
    "ordersACummulative.head()"
   ]
  },
  {
   "cell_type": "code",
   "execution_count": 10,
   "metadata": {},
   "outputs": [
    {
     "data": {
      "text/html": [
       "<div>\n",
       "<style scoped>\n",
       "    .dataframe tbody tr th:only-of-type {\n",
       "        vertical-align: middle;\n",
       "    }\n",
       "\n",
       "    .dataframe tbody tr th {\n",
       "        vertical-align: top;\n",
       "    }\n",
       "\n",
       "    .dataframe thead th {\n",
       "        text-align: right;\n",
       "    }\n",
       "</style>\n",
       "<table border=\"1\" class=\"dataframe\">\n",
       "  <thead>\n",
       "    <tr style=\"text-align: right;\">\n",
       "      <th></th>\n",
       "      <th>date</th>\n",
       "      <th>ordersCummulativeB</th>\n",
       "      <th>revenueCummulativeB</th>\n",
       "    </tr>\n",
       "  </thead>\n",
       "  <tbody>\n",
       "    <tr>\n",
       "      <th>0</th>\n",
       "      <td>2019-08-01</td>\n",
       "      <td>20</td>\n",
       "      <td>101217</td>\n",
       "    </tr>\n",
       "    <tr>\n",
       "      <th>1</th>\n",
       "      <td>2019-08-02</td>\n",
       "      <td>43</td>\n",
       "      <td>266748</td>\n",
       "    </tr>\n",
       "    <tr>\n",
       "      <th>2</th>\n",
       "      <td>2019-08-03</td>\n",
       "      <td>59</td>\n",
       "      <td>380996</td>\n",
       "    </tr>\n",
       "    <tr>\n",
       "      <th>3</th>\n",
       "      <td>2019-08-04</td>\n",
       "      <td>75</td>\n",
       "      <td>489567</td>\n",
       "    </tr>\n",
       "    <tr>\n",
       "      <th>4</th>\n",
       "      <td>2019-08-05</td>\n",
       "      <td>98</td>\n",
       "      <td>581995</td>\n",
       "    </tr>\n",
       "  </tbody>\n",
       "</table>\n",
       "</div>"
      ],
      "text/plain": [
       "        date  ordersCummulativeB  revenueCummulativeB\n",
       "0 2019-08-01                  20               101217\n",
       "1 2019-08-02                  43               266748\n",
       "2 2019-08-03                  59               380996\n",
       "3 2019-08-04                  75               489567\n",
       "4 2019-08-05                  98               581995"
      ]
     },
     "execution_count": 10,
     "metadata": {},
     "output_type": "execute_result"
    }
   ],
   "source": [
    "ordersBDaily = (\n",
    "    orders[orders['group'] == 'B'][['date', 'visitorId', 'revenue']]\n",
    "    .groupby('date', as_index=False)\n",
    "    .agg({'visitorId':'nunique', 'revenue':'sum'})\n",
    ")\n",
    "ordersBDaily.columns = ['date', 'ordersPerDateB', 'revenuePerDateB']\n",
    "\n",
    "ordersBCummulative = ordersBDaily.apply(\n",
    "    lambda x: ordersBDaily[ordersBDaily['date'] <= x['date']].agg(\n",
    "        {'date':'max', 'ordersPerDateB':'sum', 'revenuePerDateB':'sum'}\n",
    "    ), axis=1\n",
    ").sort_values(by='date')\n",
    "ordersBCummulative.columns = ['date', 'ordersCummulativeB', 'revenueCummulativeB']\n",
    "ordersBCummulative.head()"
   ]
  },
  {
   "cell_type": "code",
   "execution_count": 11,
   "metadata": {},
   "outputs": [
    {
     "data": {
      "text/html": [
       "<div>\n",
       "<style scoped>\n",
       "    .dataframe tbody tr th:only-of-type {\n",
       "        vertical-align: middle;\n",
       "    }\n",
       "\n",
       "    .dataframe tbody tr th {\n",
       "        vertical-align: top;\n",
       "    }\n",
       "\n",
       "    .dataframe thead th {\n",
       "        text-align: right;\n",
       "    }\n",
       "</style>\n",
       "<table border=\"1\" class=\"dataframe\">\n",
       "  <thead>\n",
       "    <tr style=\"text-align: right;\">\n",
       "      <th></th>\n",
       "      <th>date</th>\n",
       "      <th>visitorsCummulativeA</th>\n",
       "    </tr>\n",
       "  </thead>\n",
       "  <tbody>\n",
       "    <tr>\n",
       "      <th>0</th>\n",
       "      <td>2019-08-01</td>\n",
       "      <td>719</td>\n",
       "    </tr>\n",
       "    <tr>\n",
       "      <th>1</th>\n",
       "      <td>2019-08-02</td>\n",
       "      <td>1338</td>\n",
       "    </tr>\n",
       "    <tr>\n",
       "      <th>2</th>\n",
       "      <td>2019-08-03</td>\n",
       "      <td>1845</td>\n",
       "    </tr>\n",
       "    <tr>\n",
       "      <th>3</th>\n",
       "      <td>2019-08-04</td>\n",
       "      <td>2562</td>\n",
       "    </tr>\n",
       "    <tr>\n",
       "      <th>4</th>\n",
       "      <td>2019-08-05</td>\n",
       "      <td>3318</td>\n",
       "    </tr>\n",
       "  </tbody>\n",
       "</table>\n",
       "</div>"
      ],
      "text/plain": [
       "        date  visitorsCummulativeA\n",
       "0 2019-08-01                   719\n",
       "1 2019-08-02                  1338\n",
       "2 2019-08-03                  1845\n",
       "3 2019-08-04                  2562\n",
       "4 2019-08-05                  3318"
      ]
     },
     "execution_count": 11,
     "metadata": {},
     "output_type": "execute_result"
    }
   ],
   "source": [
    "visitorsADaily = visitors[visitors['group'] == 'A'][['date', 'visitors']]\n",
    "visitorsADaily.columns = ['date', 'visitorsPerDateA']\n",
    "\n",
    "visitorsACummulative = visitorsADaily.apply(\n",
    "    lambda x: visitorsADaily[visitorsADaily['date'] <= x['date']].agg(\n",
    "        {'date': 'max', 'visitorsPerDateA': 'sum'}\n",
    "    ),\n",
    "    axis=1,\n",
    ")\n",
    "visitorsACummulative.columns = ['date', 'visitorsCummulativeA']\n",
    "visitorsACummulative.head()"
   ]
  },
  {
   "cell_type": "code",
   "execution_count": 12,
   "metadata": {},
   "outputs": [
    {
     "data": {
      "text/html": [
       "<div>\n",
       "<style scoped>\n",
       "    .dataframe tbody tr th:only-of-type {\n",
       "        vertical-align: middle;\n",
       "    }\n",
       "\n",
       "    .dataframe tbody tr th {\n",
       "        vertical-align: top;\n",
       "    }\n",
       "\n",
       "    .dataframe thead th {\n",
       "        text-align: right;\n",
       "    }\n",
       "</style>\n",
       "<table border=\"1\" class=\"dataframe\">\n",
       "  <thead>\n",
       "    <tr style=\"text-align: right;\">\n",
       "      <th></th>\n",
       "      <th>date</th>\n",
       "      <th>visitorsCummulativeB</th>\n",
       "    </tr>\n",
       "  </thead>\n",
       "  <tbody>\n",
       "    <tr>\n",
       "      <th>31</th>\n",
       "      <td>2019-08-01</td>\n",
       "      <td>713</td>\n",
       "    </tr>\n",
       "    <tr>\n",
       "      <th>32</th>\n",
       "      <td>2019-08-02</td>\n",
       "      <td>1294</td>\n",
       "    </tr>\n",
       "    <tr>\n",
       "      <th>33</th>\n",
       "      <td>2019-08-03</td>\n",
       "      <td>1803</td>\n",
       "    </tr>\n",
       "    <tr>\n",
       "      <th>34</th>\n",
       "      <td>2019-08-04</td>\n",
       "      <td>2573</td>\n",
       "    </tr>\n",
       "    <tr>\n",
       "      <th>35</th>\n",
       "      <td>2019-08-05</td>\n",
       "      <td>3280</td>\n",
       "    </tr>\n",
       "  </tbody>\n",
       "</table>\n",
       "</div>"
      ],
      "text/plain": [
       "         date  visitorsCummulativeB\n",
       "31 2019-08-01                   713\n",
       "32 2019-08-02                  1294\n",
       "33 2019-08-03                  1803\n",
       "34 2019-08-04                  2573\n",
       "35 2019-08-05                  3280"
      ]
     },
     "execution_count": 12,
     "metadata": {},
     "output_type": "execute_result"
    }
   ],
   "source": [
    "visitorsBDaily = visitors[visitors['group'] == 'B'][['date', 'visitors']]\n",
    "visitorsBDaily.columns = ['date', 'visitorsPerDateB']\n",
    "\n",
    "visitorsBCummulative = visitorsBDaily.apply(\n",
    "    lambda x: visitorsBDaily[visitorsBDaily['date'] <= x['date']].agg(\n",
    "        {'date': 'max', 'visitorsPerDateB': 'sum'}\n",
    "    ),\n",
    "    axis=1,\n",
    ")\n",
    "visitorsBCummulative.columns = ['date', 'visitorsCummulativeB']\n",
    "visitorsBCummulative.head()"
   ]
  },
  {
   "cell_type": "code",
   "execution_count": 13,
   "metadata": {},
   "outputs": [
    {
     "data": {
      "text/html": [
       "<div>\n",
       "<style scoped>\n",
       "    .dataframe tbody tr th:only-of-type {\n",
       "        vertical-align: middle;\n",
       "    }\n",
       "\n",
       "    .dataframe tbody tr th {\n",
       "        vertical-align: top;\n",
       "    }\n",
       "\n",
       "    .dataframe thead th {\n",
       "        text-align: right;\n",
       "    }\n",
       "</style>\n",
       "<table border=\"1\" class=\"dataframe\">\n",
       "  <thead>\n",
       "    <tr style=\"text-align: right;\">\n",
       "      <th></th>\n",
       "      <th>date</th>\n",
       "      <th>ordersPerDateA</th>\n",
       "      <th>revenuePerDateA</th>\n",
       "      <th>ordersPerDateB</th>\n",
       "      <th>revenuePerDateB</th>\n",
       "      <th>ordersCummulativeA</th>\n",
       "      <th>revenueCummulativeA</th>\n",
       "      <th>ordersCummulativeB</th>\n",
       "      <th>revenueCummulativeB</th>\n",
       "      <th>visitorsPerDateA</th>\n",
       "      <th>visitorsPerDateB</th>\n",
       "      <th>visitorsCummulativeA</th>\n",
       "      <th>visitorsCummulativeB</th>\n",
       "      <th>conversionA</th>\n",
       "      <th>conversionB</th>\n",
       "      <th>conversionCummulativeA</th>\n",
       "      <th>conversionCummulativeB</th>\n",
       "    </tr>\n",
       "  </thead>\n",
       "  <tbody>\n",
       "    <tr>\n",
       "      <th>0</th>\n",
       "      <td>2019-08-01</td>\n",
       "      <td>20</td>\n",
       "      <td>148579</td>\n",
       "      <td>20</td>\n",
       "      <td>101217</td>\n",
       "      <td>20</td>\n",
       "      <td>148579</td>\n",
       "      <td>20</td>\n",
       "      <td>101217</td>\n",
       "      <td>719</td>\n",
       "      <td>713</td>\n",
       "      <td>719</td>\n",
       "      <td>713</td>\n",
       "      <td>0.027816</td>\n",
       "      <td>0.028050</td>\n",
       "      <td>0.027816</td>\n",
       "      <td>0.028050</td>\n",
       "    </tr>\n",
       "    <tr>\n",
       "      <th>1</th>\n",
       "      <td>2019-08-02</td>\n",
       "      <td>19</td>\n",
       "      <td>93822</td>\n",
       "      <td>23</td>\n",
       "      <td>165531</td>\n",
       "      <td>39</td>\n",
       "      <td>242401</td>\n",
       "      <td>43</td>\n",
       "      <td>266748</td>\n",
       "      <td>619</td>\n",
       "      <td>581</td>\n",
       "      <td>1338</td>\n",
       "      <td>1294</td>\n",
       "      <td>0.030695</td>\n",
       "      <td>0.039587</td>\n",
       "      <td>0.029148</td>\n",
       "      <td>0.033230</td>\n",
       "    </tr>\n",
       "    <tr>\n",
       "      <th>2</th>\n",
       "      <td>2019-08-03</td>\n",
       "      <td>24</td>\n",
       "      <td>112473</td>\n",
       "      <td>16</td>\n",
       "      <td>114248</td>\n",
       "      <td>63</td>\n",
       "      <td>354874</td>\n",
       "      <td>59</td>\n",
       "      <td>380996</td>\n",
       "      <td>507</td>\n",
       "      <td>509</td>\n",
       "      <td>1845</td>\n",
       "      <td>1803</td>\n",
       "      <td>0.047337</td>\n",
       "      <td>0.031434</td>\n",
       "      <td>0.034146</td>\n",
       "      <td>0.032723</td>\n",
       "    </tr>\n",
       "    <tr>\n",
       "      <th>3</th>\n",
       "      <td>2019-08-04</td>\n",
       "      <td>15</td>\n",
       "      <td>70825</td>\n",
       "      <td>16</td>\n",
       "      <td>108571</td>\n",
       "      <td>78</td>\n",
       "      <td>425699</td>\n",
       "      <td>75</td>\n",
       "      <td>489567</td>\n",
       "      <td>717</td>\n",
       "      <td>770</td>\n",
       "      <td>2562</td>\n",
       "      <td>2573</td>\n",
       "      <td>0.020921</td>\n",
       "      <td>0.020779</td>\n",
       "      <td>0.030445</td>\n",
       "      <td>0.029149</td>\n",
       "    </tr>\n",
       "    <tr>\n",
       "      <th>4</th>\n",
       "      <td>2019-08-05</td>\n",
       "      <td>25</td>\n",
       "      <td>124218</td>\n",
       "      <td>23</td>\n",
       "      <td>92428</td>\n",
       "      <td>103</td>\n",
       "      <td>549917</td>\n",
       "      <td>98</td>\n",
       "      <td>581995</td>\n",
       "      <td>756</td>\n",
       "      <td>707</td>\n",
       "      <td>3318</td>\n",
       "      <td>3280</td>\n",
       "      <td>0.033069</td>\n",
       "      <td>0.032532</td>\n",
       "      <td>0.031043</td>\n",
       "      <td>0.029878</td>\n",
       "    </tr>\n",
       "  </tbody>\n",
       "</table>\n",
       "</div>"
      ],
      "text/plain": [
       "        date  ordersPerDateA  revenuePerDateA  ordersPerDateB  \\\n",
       "0 2019-08-01              20           148579              20   \n",
       "1 2019-08-02              19            93822              23   \n",
       "2 2019-08-03              24           112473              16   \n",
       "3 2019-08-04              15            70825              16   \n",
       "4 2019-08-05              25           124218              23   \n",
       "\n",
       "   revenuePerDateB  ordersCummulativeA  revenueCummulativeA  \\\n",
       "0           101217                  20               148579   \n",
       "1           165531                  39               242401   \n",
       "2           114248                  63               354874   \n",
       "3           108571                  78               425699   \n",
       "4            92428                 103               549917   \n",
       "\n",
       "   ordersCummulativeB  revenueCummulativeB  visitorsPerDateA  \\\n",
       "0                  20               101217               719   \n",
       "1                  43               266748               619   \n",
       "2                  59               380996               507   \n",
       "3                  75               489567               717   \n",
       "4                  98               581995               756   \n",
       "\n",
       "   visitorsPerDateB  visitorsCummulativeA  visitorsCummulativeB  conversionA  \\\n",
       "0               713                   719                   713     0.027816   \n",
       "1               581                  1338                  1294     0.030695   \n",
       "2               509                  1845                  1803     0.047337   \n",
       "3               770                  2562                  2573     0.020921   \n",
       "4               707                  3318                  3280     0.033069   \n",
       "\n",
       "   conversionB  conversionCummulativeA  conversionCummulativeB  \n",
       "0     0.028050                0.027816                0.028050  \n",
       "1     0.039587                0.029148                0.033230  \n",
       "2     0.031434                0.034146                0.032723  \n",
       "3     0.020779                0.030445                0.029149  \n",
       "4     0.032532                0.031043                0.029878  "
      ]
     },
     "execution_count": 13,
     "metadata": {},
     "output_type": "execute_result"
    }
   ],
   "source": [
    "abtest = (\n",
    "    ordersADaily.merge(\n",
    "        ordersBDaily, on='date', how='left'\n",
    "    )\n",
    "    .merge(ordersACummulative, on='date', how='left')\n",
    "    .merge(ordersBCummulative, on='date', how='left')\n",
    "    .merge(visitorsADaily, on='date', how='left')\n",
    "    .merge(visitorsBDaily, on='date', how='left')\n",
    "    .merge(visitorsACummulative, on='date', how='left')\n",
    "    .merge(visitorsBCummulative, on='date', how='left')\n",
    ")\n",
    "\n",
    "abtest['conversionA'] = abtest.ordersPerDateA / abtest.visitorsPerDateA\n",
    "abtest['conversionB'] = abtest.ordersPerDateB / abtest.visitorsPerDateB\n",
    "\n",
    "abtest['conversionCummulativeA'] = abtest.ordersCummulativeA / abtest.visitorsCummulativeA\n",
    "abtest['conversionCummulativeB'] = abtest.ordersCummulativeB / abtest.visitorsCummulativeB\n",
    "\n",
    "abtest.head(5)"
   ]
  },
  {
   "cell_type": "markdown",
   "metadata": {},
   "source": [
    "#### Кумулятивная выручка"
   ]
  },
  {
   "cell_type": "code",
   "execution_count": 14,
   "metadata": {},
   "outputs": [
    {
     "data": {
      "image/png": "[encoded data removed]",
      "text/plain": [
       "<Figure size 1080x720 with 1 Axes>"
      ]
     },
     "metadata": {
      "needs_background": "light"
     },
     "output_type": "display_data"
    }
   ],
   "source": [
    "plt.figure(figsize=(15, 10));\n",
    "plt.plot(abtest['date'], abtest['revenueCummulativeA'], label='A');\n",
    "plt.plot(abtest['date'], abtest['revenueCummulativeB'], label='B');\n",
    "plt.legend();\n",
    "plt.grid();\n",
    "plt.title('График кумулятивной выручки')\n",
    "plt.xlabel('Дата')\n",
    "plt.ylabel('Кумулятивная выручка')\n",
    "plt.show();"
   ]
  },
  {
   "cell_type": "markdown",
   "metadata": {},
   "source": [
    "**Вывод**: до 13 августа выручка групп А и В различается несильно, однако после 13 августа начинается заметное расхождение в пользу группы В. Причем, данное расхождение больше связано с поведением группы В, т.к. кумулятивная выручка группы А выглядит практически линейно. Конечные интервалы можно считать установившимися относительно линейной апроксимации."
   ]
  },
  {
   "cell_type": "markdown",
   "metadata": {},
   "source": [
    "#### Кумулятивный средний чек"
   ]
  },
  {
   "cell_type": "code",
   "execution_count": 15,
   "metadata": {},
   "outputs": [
    {
     "data": {
      "image/png": "[encoded data removed]",
      "text/plain": [
       "<Figure size 1080x720 with 1 Axes>"
      ]
     },
     "metadata": {
      "needs_background": "light"
     },
     "output_type": "display_data"
    }
   ],
   "source": [
    "plt.figure(figsize=(15, 10));\n",
    "plt.plot(abtest['date'], abtest['revenueCummulativeA'] / abtest['visitorsCummulativeA'], label='A');\n",
    "plt.plot(abtest['date'], abtest['revenueCummulativeB'] / abtest['visitorsCummulativeB'], label='B');\n",
    "plt.legend();\n",
    "plt.grid();\n",
    "plt.title('График кумулятивного среднего чека')\n",
    "plt.xlabel('Дата')\n",
    "plt.ylabel('Кумулятивный средний чек')\n",
    "plt.show();"
   ]
  },
  {
   "cell_type": "markdown",
   "metadata": {},
   "source": [
    "**Вывод**: кумулятивный средний чек группы В стабильно выше (за исключением самого начала эксперимента) группы А. При этом, стоит обратить внимание, что после 18 августа различие становится более явным. Конечные интервалы можно считать установившимися."
   ]
  },
  {
   "cell_type": "markdown",
   "metadata": {},
   "source": [
    "#### Относительное различие кумулятивного среднего чека"
   ]
  },
  {
   "cell_type": "code",
   "execution_count": 16,
   "metadata": {},
   "outputs": [
    {
     "data": {
      "image/png": "[encoded data removed]",
      "text/plain": [
       "<Figure size 1080x720 with 1 Axes>"
      ]
     },
     "metadata": {
      "needs_background": "light"
     },
     "output_type": "display_data"
    }
   ],
   "source": [
    "plt.figure(figsize=(15, 10));\n",
    "plt.plot(abtest['date'], ((abtest['revenueCummulativeB'] / abtest['visitorsCummulativeB']) / (abtest['revenueCummulativeA'] / abtest['visitorsCummulativeA']))-1);\n",
    "plt.grid();\n",
    "plt.title('График относительного различия кумулятивного среднего чека')\n",
    "plt.xlabel('Дата')\n",
    "plt.ylabel('Относительное различие среднего чека')\n",
    "plt.axhline(0, linestyle='--', color='black')\n",
    "plt.show();"
   ]
  },
  {
   "cell_type": "markdown",
   "metadata": {},
   "source": [
    "**Вывод**: как было замечено ранее, средний чек группы В стабильно превышает средний чек группы А за исключением первых дней A/B-теста. На данном графике результат не выглядит, как установившийся, однако его можно назвать достаточным, чтобы заключить на уровне тенденции о доминирующем результате группы В."
   ]
  },
  {
   "cell_type": "markdown",
   "metadata": {},
   "source": [
    "#### Кумулятивное количество заказов"
   ]
  },
  {
   "cell_type": "code",
   "execution_count": 17,
   "metadata": {},
   "outputs": [
    {
     "data": {
      "image/png": "[encoded data removed]",
      "text/plain": [
       "<Figure size 1080x720 with 1 Axes>"
      ]
     },
     "metadata": {
      "needs_background": "light"
     },
     "output_type": "display_data"
    }
   ],
   "source": [
    "plt.figure(figsize=(15, 10));\n",
    "plt.plot(abtest['date'], abtest['ordersCummulativeA'], label='A');\n",
    "plt.plot(abtest['date'], abtest['ordersCummulativeB'], label='B');\n",
    "plt.legend();\n",
    "plt.grid();\n",
    "plt.title('График кумулятивного количества заказов')\n",
    "plt.xlabel('Дата')\n",
    "plt.ylabel('Кумулятивное количество заказов')\n",
    "plt.show();"
   ]
  },
  {
   "cell_type": "markdown",
   "metadata": {},
   "source": [
    "**Вывод**: кумулятивная конверсия группы В начиная с 6 августа стабильно превышает группу А. Значения также можно считать установившимися относительно линейной апроксимации."
   ]
  },
  {
   "cell_type": "markdown",
   "metadata": {},
   "source": [
    "#### Относительное различие кумулятивного количества заказов"
   ]
  },
  {
   "cell_type": "code",
   "execution_count": 18,
   "metadata": {},
   "outputs": [
    {
     "data": {
      "image/png": "[encoded data removed]",
      "text/plain": [
       "<Figure size 1080x720 with 1 Axes>"
      ]
     },
     "metadata": {
      "needs_background": "light"
     },
     "output_type": "display_data"
    }
   ],
   "source": [
    "plt.figure(figsize=(15, 10));\n",
    "plt.plot(abtest['date'], abtest['ordersCummulativeB'] / abtest['ordersCummulativeA'] - 1);\n",
    "plt.grid();\n",
    "plt.title('График относительного различия кумулятивного количества заказов')\n",
    "plt.xlabel('Дата')\n",
    "plt.ylabel('Относительное различие кумулятивного количества заказов')\n",
    "plt.axhline(0, linestyle='--', color='black')\n",
    "plt.show();"
   ]
  },
  {
   "cell_type": "markdown",
   "metadata": {},
   "source": [
    "**Вывод**: результаты в точности повторяют выводы, полученные при анализе относительного различие среднего чека, т.е. нельзя строго назвать результат установившимся, но на уровне тенденции количество заказов группы В выше, чем количество заказов группы А."
   ]
  },
  {
   "cell_type": "markdown",
   "metadata": {},
   "source": [
    "#### Кумулятивная конверсия"
   ]
  },
  {
   "cell_type": "code",
   "execution_count": 19,
   "metadata": {},
   "outputs": [
    {
     "data": {
      "image/png": "[encoded data removed]",
      "text/plain": [
       "<Figure size 1080x720 with 1 Axes>"
      ]
     },
     "metadata": {
      "needs_background": "light"
     },
     "output_type": "display_data"
    }
   ],
   "source": [
    "plt.figure(figsize=(15, 10));\n",
    "plt.plot(abtest['date'], abtest['conversionCummulativeA'], label='A');\n",
    "plt.plot(abtest['date'], abtest['conversionCummulativeB'], label='B');\n",
    "plt.legend();\n",
    "plt.grid();\n",
    "plt.title('График кумулятивной конверсии')\n",
    "plt.xlabel('Дата')\n",
    "plt.ylabel('Кумулятивная конверсия')\n",
    "plt.show();"
   ]
  },
  {
   "cell_type": "markdown",
   "metadata": {},
   "source": [
    "**Вывод**: кумулятивная конверсия группы В стабильно выше группы А, начиная с 6 августа. Данные можно назвать стабилизировавшимися на уровне тенденции."
   ]
  },
  {
   "cell_type": "markdown",
   "metadata": {},
   "source": [
    "#### Относительное различие кумулятивной конверсии"
   ]
  },
  {
   "cell_type": "code",
   "execution_count": 20,
   "metadata": {},
   "outputs": [
    {
     "data": {
      "image/png": "[encoded data removed]",
      "text/plain": [
       "<Figure size 1080x720 with 1 Axes>"
      ]
     },
     "metadata": {
      "needs_background": "light"
     },
     "output_type": "display_data"
    }
   ],
   "source": [
    "plt.figure(figsize=(15, 10));\n",
    "plt.plot(abtest['date'], abtest['conversionCummulativeB'] / abtest['conversionCummulativeA'] - 1);\n",
    "plt.grid();\n",
    "plt.title('График относительного различия кумулятивной конверсии')\n",
    "plt.xlabel('Дата')\n",
    "plt.ylabel('Относительное различие кумулятивной конверсии')\n",
    "plt.axhline(0, linestyle='--', color='black')\n",
    "plt.show();"
   ]
  },
  {
   "cell_type": "markdown",
   "metadata": {},
   "source": [
    "**Вывод**: кумулятивная конверсия группы В стабильно выше группы А, начиная с 6 августа. Причём после 6 августа различие стабильно превышает 10%."
   ]
  },
  {
   "cell_type": "markdown",
   "metadata": {},
   "source": [
    "#### Распределение количества заказов"
   ]
  },
  {
   "cell_type": "code",
   "execution_count": 21,
   "metadata": {},
   "outputs": [
    {
     "name": "stdout",
     "output_type": "stream",
     "text": [
      "95 перцентиль количества заказов: 2.0\n",
      "99 перцентиль количества заказов: 4.0\n"
     ]
    },
    {
     "data": {
      "image/png": "[encoded data removed]",
      "text/plain": [
       "<Figure size 1080x720 with 1 Axes>"
      ]
     },
     "metadata": {
      "needs_background": "light"
     },
     "output_type": "display_data"
    }
   ],
   "source": [
    "ordersByUsers = orders.groupby('visitorId', as_index=False).agg('nunique')[['visitorId', 'transactionId']]\n",
    "ordersByUsers.columns = ['visitorId', 'orders']\n",
    "plt.figure(figsize=(15, 10));\n",
    "plt.scatter(range(len(ordersByUsers)), ordersByUsers['orders']);\n",
    "plt.title('Точечный график распределения количества заказов')\n",
    "obsperc = np.percentile(ordersByUsers['orders'], [95, 99])\n",
    "plt.axhline(obsperc[0], linestyle='--', color='black', label='95%')\n",
    "plt.axhline(obsperc[1], linestyle='--', color='brown', label='99%')\n",
    "plt.legend()\n",
    "print(f'95 перцентиль количества заказов: {obsperc[0]}\\n99 перцентиль количества заказов: {obsperc[1]}')"
   ]
  },
  {
   "cell_type": "markdown",
   "metadata": {},
   "source": [
    "**Вывод**: нетрудно заметить, что есть пользователи, которые совершили нехарактерно много заказов. Данных пользователей можно будет исключить при фильтрации данных. Таким образом, при фильтрации будем исключать пользователей, совершивших более 4 заказов (99 перцентиль)."
   ]
  },
  {
   "cell_type": "markdown",
   "metadata": {},
   "source": [
    "#### Распределение выручки"
   ]
  },
  {
   "cell_type": "code",
   "execution_count": 22,
   "metadata": {},
   "outputs": [
    {
     "name": "stdout",
     "output_type": "stream",
     "text": [
      "95 перцентиль выручки: 28000.000000000004\n",
      "99 перцентиль выручки: 58233.19999999999\n"
     ]
    },
    {
     "data": {
      "image/png": "[encoded data removed]",
      "text/plain": [
       "<Figure size 1080x720 with 1 Axes>"
      ]
     },
     "metadata": {
      "needs_background": "light"
     },
     "output_type": "display_data"
    }
   ],
   "source": [
    "plt.figure(figsize=(15, 10));\n",
    "plt.scatter(range(len(orders)), orders['revenue']);\n",
    "plt.title('Точечный график распределения выручки')\n",
    "obsperc = np.percentile(orders['revenue'], [95, 99])\n",
    "plt.axhline(obsperc[0], linestyle='--', color='black', label='95%')\n",
    "plt.axhline(obsperc[1], linestyle='--', color='brown', label='99%')\n",
    "plt.legend()\n",
    "print(f'95 перцентиль выручки: {obsperc[0]}\\n99 перцентиль выручки: {obsperc[1]}')"
   ]
  },
  {
   "cell_type": "markdown",
   "metadata": {},
   "source": [
    "**Вывод**: в результат теста попали пользователи, которые совершили заказы на очень большую сумму. Пороговым значением будет установлено 58000 (условно, 99 перцентиль). Все пользователи, которые платили за заказ более 58000 будут исключены при фильтрации данных."
   ]
  },
  {
   "cell_type": "markdown",
   "metadata": {},
   "source": [
    "### Статистические тесты на \"сырых\" данных"
   ]
  },
  {
   "cell_type": "markdown",
   "metadata": {},
   "source": [
    "#### Гипотеза о равенстве количества заказов"
   ]
  },
  {
   "cell_type": "code",
   "execution_count": 23,
   "metadata": {},
   "outputs": [
    {
     "name": "stdout",
     "output_type": "stream",
     "text": [
      "H0: Количество заказов в группе B статистически значимо не отличается от количества заказов в группе A\n",
      "H1: Количество заказов в группе B статистически значимо отличается от количества заказов в группе A\n",
      "P-value теста Манна-Уитни: 0.017\n",
      "Расчётная разница средних между группами: 0.138\n",
      "Нулевая гипотеза отвергнута\n"
     ]
    }
   ],
   "source": [
    "ordersByUsersA = (\n",
    "    orders[orders['group'] == 'A']\n",
    "    .groupby('visitorId', as_index=False)\n",
    "    .agg({'transactionId': 'nunique'})\n",
    ")\n",
    "ordersByUsersA.columns = ['visitorId', 'orders']\n",
    "\n",
    "ordersByUsersB = (\n",
    "    orders[orders['group'] == 'B']\n",
    "    .groupby('visitorId', as_index=False)\n",
    "    .agg({'transactionId': 'nunique'})\n",
    ")\n",
    "ordersByUsersB.columns = ['visitorId', 'orders']\n",
    "\n",
    "sampleA = pd.concat(\n",
    "    [\n",
    "        ordersByUsersA['orders'],\n",
    "        pd.Series(\n",
    "            0,\n",
    "            index=np.arange(\n",
    "                abtest['visitorsPerDateA'].sum() - len(ordersByUsersA['orders'])\n",
    "            ),\n",
    "            name='orders',\n",
    "        ),\n",
    "    ],\n",
    "    axis=0,\n",
    ")\n",
    "\n",
    "sampleB = pd.concat(\n",
    "    [\n",
    "        ordersByUsersB['orders'],\n",
    "        pd.Series(\n",
    "            0,\n",
    "            index=np.arange(\n",
    "                abtest['visitorsPerDateB'].sum() - len(ordersByUsersB['orders'])\n",
    "            ),\n",
    "            name='orders',\n",
    "        ),\n",
    "    ],\n",
    "    axis=0,\n",
    ")\n",
    "\n",
    "test = stats.mannwhitneyu(sampleA, sampleB)\n",
    "print('H0: Количество заказов в группе B статистически значимо не отличается от количества заказов в группе A')\n",
    "print('H1: Количество заказов в группе B статистически значимо отличается от количества заказов в группе A')\n",
    "print(\"P-value теста Манна-Уитни: {0:.3f}\".format(test[1]))\n",
    "print(\"Расчётная разница средних между группами: {0:.3f}\".format(sampleB.mean() / sampleA.mean() - 1))\n",
    "if test[1] < alpha:\n",
    "    print('Нулевая гипотеза отвергнута')\n",
    "else:\n",
    "    print('Не получилось отвергнуть нулевую гипотезу')"
   ]
  },
  {
   "cell_type": "markdown",
   "metadata": {},
   "source": [
    "**Вывод**: среднее количество заказов в группе В превышает среднее количество заказов в группе А почти на 14%. Данное различие является статистически значимым."
   ]
  },
  {
   "cell_type": "markdown",
   "metadata": {},
   "source": [
    "#### Гипотеза о равенстве средних чеков"
   ]
  },
  {
   "cell_type": "code",
   "execution_count": 24,
   "metadata": {},
   "outputs": [
    {
     "name": "stdout",
     "output_type": "stream",
     "text": [
      "H0: Средний чек в группе B статистически значимо не отличается от среднего чека в группе A\n",
      "H1: Средний чек в группе B статистически значимо отличается от среднего чека в группе A\n",
      "P-value теста Манна-Уитни: 0.729\n",
      "Расчётная разница средних между группами: 0.259\n",
      "Не получилось отвергнуть нулевую гипотезу\n"
     ]
    }
   ],
   "source": [
    "test = stats.mannwhitneyu(orders[orders['group']=='A']['revenue'], orders[orders['group']=='B']['revenue'])\n",
    "print('H0: Средний чек в группе B статистически значимо не отличается от среднего чека в группе A')\n",
    "print('H1: Средний чек в группе B статистически значимо отличается от среднего чека в группе A')\n",
    "print(\"P-value теста Манна-Уитни: {0:.3f}\".format(test[1]))\n",
    "print(\"Расчётная разница средних между группами: {0:.3f}\".format(orders[orders['group']=='B']['revenue'].mean()/orders[orders['group']=='A']['revenue'].mean()-1))\n",
    "\n",
    "if test[1] < alpha:\n",
    "    print('Нулевая гипотеза отвергнута')\n",
    "else:\n",
    "    print('Не получилось отвергнуть нулевую гипотезу')"
   ]
  },
  {
   "cell_type": "markdown",
   "metadata": {},
   "source": [
    "**Вывод**: средний чек в группе В превышает средний чек в группе А почти на 26%. Данное различие не является статистически значимым."
   ]
  },
  {
   "cell_type": "markdown",
   "metadata": {},
   "source": [
    "#### Гипотеза о равенстве конверсий"
   ]
  },
  {
   "cell_type": "code",
   "execution_count": 25,
   "metadata": {},
   "outputs": [
    {
     "name": "stdout",
     "output_type": "stream",
     "text": [
      "H0: Конверсия в группе B статистически значимо не отличается от конверсии в группе A\n",
      "H1: Конверсия в группе B статистически значимо отличается от конверсии в группе A\n",
      "P-value теста Манна-Уитни: 0.074\n",
      "Расчётная разница средних между группами: 0.158\n",
      "Не получилось отвергнуть нулевую гипотезу\n"
     ]
    }
   ],
   "source": [
    "test = stats.mannwhitneyu(abtest['conversionA'], abtest['conversionB'])\n",
    "print('H0: Конверсия в группе B статистически значимо не отличается от конверсии в группе A')\n",
    "print('H1: Конверсия в группе B статистически значимо отличается от конверсии в группе A')\n",
    "print(\"P-value теста Манна-Уитни: {0:.3f}\".format(test[1]))\n",
    "print(\"Расчётная разница средних между группами: {0:.3f}\".format(abtest['conversionB'].mean()/abtest['conversionA'].mean()-1))\n",
    "\n",
    "if test[1] < alpha:\n",
    "    print('Нулевая гипотеза отвергнута')\n",
    "else:\n",
    "    print('Не получилось отвергнуть нулевую гипотезу')"
   ]
  },
  {
   "cell_type": "markdown",
   "metadata": {},
   "source": [
    "**Вывод**: конверсия группы В превышает конверсию группы А почти на 16%, однако данное различие нельзя считать статистически значимым."
   ]
  },
  {
   "cell_type": "markdown",
   "metadata": {},
   "source": [
    "### Статистические тесты на \"очищенных\" данных"
   ]
  },
  {
   "cell_type": "code",
   "execution_count": 26,
   "metadata": {},
   "outputs": [],
   "source": [
    "usManyOrd = pd.concat(\n",
    "    [ordersByUsersA[ordersByUsersA['orders'] > 4]['visitorId'],\n",
    "    ordersByUsersB[ordersByUsersB['orders'] > 4]['visitorId']],\n",
    "    axis=0\n",
    ")\n",
    "usExpOrd = orders[orders['revenue'] > 58000]['visitorId']\n",
    "abnormUs = pd.concat([usManyOrd, usExpOrd]).drop_duplicates()"
   ]
  },
  {
   "cell_type": "markdown",
   "metadata": {},
   "source": [
    "#### Гипотеза о равенстве количества заказов"
   ]
  },
  {
   "cell_type": "code",
   "execution_count": 27,
   "metadata": {},
   "outputs": [
    {
     "name": "stdout",
     "output_type": "stream",
     "text": [
      "H0: Количество заказов в группе B статистически значимо не отличается от количества заказов в группе A\n",
      "H1: Количество заказов в группе B статистически значимо отличается от количества заказов в группе A\n",
      "P-value теста Манна-Уитни: 0.014\n",
      "Расчётная разница средних между группами: 0.153\n",
      "Нулевая гипотеза отвергнута\n"
     ]
    }
   ],
   "source": [
    "sampleAFiltered = pd.concat(\n",
    "    [\n",
    "        ordersByUsersA[np.logical_not(ordersByUsersA['visitorId'].isin(abnormUs))]['orders'],\n",
    "        pd.Series(\n",
    "            0,\n",
    "            index=np.arange(\n",
    "                abtest['visitorsPerDateA'].sum() - len(ordersByUsersA['orders'])\n",
    "            ),\n",
    "            name='orders',\n",
    "        ),\n",
    "    ],\n",
    "    axis=0,\n",
    ")\n",
    "\n",
    "sampleBFiltered = pd.concat(\n",
    "    [\n",
    "        ordersByUsersB[np.logical_not(ordersByUsersB['visitorId'].isin(abnormUs))]['orders'],\n",
    "        pd.Series(\n",
    "            0,\n",
    "            index=np.arange(\n",
    "                abtest['visitorsPerDateB'].sum() - len(ordersByUsersB['orders'])\n",
    "            ),\n",
    "            name='orders',\n",
    "        ),\n",
    "    ],\n",
    "    axis=0,\n",
    ")\n",
    "\n",
    "test = stats.mannwhitneyu(sampleAFiltered, sampleBFiltered)\n",
    "print('H0: Количество заказов в группе B статистически значимо не отличается от количества заказов в группе A')\n",
    "print('H1: Количество заказов в группе B статистически значимо отличается от количества заказов в группе A')\n",
    "print(\"P-value теста Манна-Уитни: {0:.3f}\".format(test[1]))\n",
    "print(\"Расчётная разница средних между группами: {0:.3f}\".format(sampleBFiltered.mean() / sampleAFiltered.mean() - 1))\n",
    "\n",
    "if test[1] < alpha:\n",
    "    print('Нулевая гипотеза отвергнута')\n",
    "else:\n",
    "    print('Не получилось отвергнуть нулевую гипотезу')"
   ]
  },
  {
   "cell_type": "markdown",
   "metadata": {},
   "source": [
    "**Вывод**: как и на \"сырых\" данных, нулевая гипотеза отвергается. Разница средних немного превышает 15% в пользу группы В."
   ]
  },
  {
   "cell_type": "markdown",
   "metadata": {},
   "source": [
    "#### Гипотеза о равенстве средних чеков"
   ]
  },
  {
   "cell_type": "code",
   "execution_count": 28,
   "metadata": {},
   "outputs": [
    {
     "name": "stdout",
     "output_type": "stream",
     "text": [
      "H0: Средний чек в группе B статистически значимо не отличается от среднего чека в группе A\n",
      "H1: Средний чек в группе B статистически значимо отличается от среднего чека в группе A\n",
      "P-value теста Манна-Уитни: 0.851\n",
      "Расчётная разница средних между группами: -0.006\n",
      "Не получилось отвергнуть нулевую гипотезу\n"
     ]
    }
   ],
   "source": [
    "test = stats.mannwhitneyu(orders[(orders['group']=='A') & ~(orders['visitorId'].isin(abnormUs))]['revenue'], \n",
    "                          orders[(orders['group']=='B') & ~(orders['visitorId'].isin(abnormUs))]['revenue'])\n",
    "print('H0: Средний чек в группе B статистически значимо не отличается от среднего чека в группе A')\n",
    "print('H1: Средний чек в группе B статистически значимо отличается от среднего чека в группе A')\n",
    "print(\"P-value теста Манна-Уитни: {0:.3f}\".format(test[1]))\n",
    "print(\"Расчётная разница средних между группами: {0:.3f}\".format(orders[(orders['group']=='B') & ~(orders['visitorId'].isin(abnormUs))]['revenue'].mean()/\n",
    "                                                                 orders[(orders['group']=='A') & ~(orders['visitorId'].isin(abnormUs))]['revenue'].mean()-1))\n",
    "\n",
    "if test[1] < alpha:\n",
    "    print('Нулевая гипотеза отвергнута')\n",
    "else:\n",
    "    print('Не получилось отвергнуть нулевую гипотезу')"
   ]
  },
  {
   "cell_type": "markdown",
   "metadata": {},
   "source": [
    "**Вывод**: На очищенных данных средний чек группы В уже немного ниже, чем средний чек группы А, однако данное различие статистически незначимо."
   ]
  },
  {
   "cell_type": "markdown",
   "metadata": {},
   "source": [
    "#### Гипотеза о равенстве конверсий"
   ]
  },
  {
   "cell_type": "markdown",
   "metadata": {},
   "source": [
    "Гипотезу о равенстве конверсий на очищенных данных проверить невозможно, так как мы не можем исключить из визитов пользователей, которых считаем аномальными, т.к. нет детализации по visitorId."
   ]
  },
  {
   "cell_type": "markdown",
   "metadata": {},
   "source": [
    "### Заключение"
   ]
  },
  {
   "cell_type": "markdown",
   "metadata": {},
   "source": [
    "По результату A/B-теста можно сделать следующие выводы:\n",
    "1. Время проведения теста является достаточным для формирования конечных выводов.\n",
    "2. Среднее количество заказов группы В статистически значимо превышает среднее количество заказов группы А.\n",
    "3. Средний чек группы В статистически значимо не отличается от среднего чека группы А.\n",
    "4. Конверсия пользователей группы В статистически значимо не отличается от конверсии пользователей группы А.\n",
    "\n",
    "Таким образом, результат A/B-теста можно считать успешным, так как благодаря нововведениям можно увеличить количество заказов при сохранении остальных метрик, что в конечном итоге должно увеличить валовую прибыль. При внедрении необходимо обратить внимание на то, что могут увеличиться операционных расходы в связи с ростом количества заказов и это нужно учитывать, чтобы операционные расходы вырастали пропорционально валовой прибыли и не приводили к уменьшению операционной, а тем более, чистой прибыли."
   ]
  }
 ],
 "metadata": {
  "ExecuteTimeLog": [
   {
    "duration": 470,
    "start_time": "2022-06-08T07:28:34.667Z"
   },
   {
    "duration": 59,
    "start_time": "2022-06-08T07:29:14.057Z"
   },
   {
    "duration": 14,
    "start_time": "2022-06-08T07:29:16.213Z"
   },
   {
    "duration": 46,
    "start_time": "2022-06-08T07:31:26.443Z"
   },
   {
    "duration": 25,
    "start_time": "2022-06-08T07:31:54.168Z"
   },
   {
    "duration": 8,
    "start_time": "2022-06-08T07:31:54.349Z"
   },
   {
    "duration": 10,
    "start_time": "2022-06-08T07:31:54.520Z"
   },
   {
    "duration": 11,
    "start_time": "2022-06-08T07:32:15.204Z"
   },
   {
    "duration": 18,
    "start_time": "2022-06-08T07:32:53.289Z"
   },
   {
    "duration": 89,
    "start_time": "2022-06-08T07:36:59.487Z"
   },
   {
    "duration": 97,
    "start_time": "2022-06-08T07:37:12.283Z"
   },
   {
    "duration": 13,
    "start_time": "2022-06-08T07:37:15.954Z"
   },
   {
    "duration": 32,
    "start_time": "2022-06-08T07:39:58.284Z"
   },
   {
    "duration": 29,
    "start_time": "2022-06-08T07:40:33.595Z"
   },
   {
    "duration": 208,
    "start_time": "2022-06-08T07:40:38.690Z"
   },
   {
    "duration": 2,
    "start_time": "2022-06-08T07:40:51.577Z"
   },
   {
    "duration": 26,
    "start_time": "2022-06-08T07:40:52.679Z"
   },
   {
    "duration": 6,
    "start_time": "2022-06-08T07:40:52.864Z"
   },
   {
    "duration": 18,
    "start_time": "2022-06-08T07:40:53.383Z"
   },
   {
    "duration": 67,
    "start_time": "2022-06-08T07:40:54.535Z"
   },
   {
    "duration": 12,
    "start_time": "2022-06-08T07:40:55.185Z"
   },
   {
    "duration": 9,
    "start_time": "2022-06-08T07:41:03.140Z"
   },
   {
    "duration": 76,
    "start_time": "2022-06-08T07:41:22.013Z"
   },
   {
    "duration": 13,
    "start_time": "2022-06-08T07:41:22.770Z"
   },
   {
    "duration": 18,
    "start_time": "2022-06-08T07:41:40.466Z"
   },
   {
    "duration": 25,
    "start_time": "2022-06-08T07:41:52.071Z"
   },
   {
    "duration": 25,
    "start_time": "2022-06-08T07:42:35.476Z"
   },
   {
    "duration": 30,
    "start_time": "2022-06-08T07:42:50.938Z"
   },
   {
    "duration": 32,
    "start_time": "2022-06-08T07:43:07.416Z"
   },
   {
    "duration": 17,
    "start_time": "2022-06-08T07:49:37.781Z"
   },
   {
    "duration": 12,
    "start_time": "2022-06-08T07:50:50.919Z"
   },
   {
    "duration": 9,
    "start_time": "2022-06-08T07:50:55.612Z"
   },
   {
    "duration": 11,
    "start_time": "2022-06-08T07:51:14.289Z"
   },
   {
    "duration": 9,
    "start_time": "2022-06-08T07:53:09.911Z"
   },
   {
    "duration": 10,
    "start_time": "2022-06-08T07:53:10.131Z"
   },
   {
    "duration": 54,
    "start_time": "2022-06-08T07:56:43.803Z"
   },
   {
    "duration": 56,
    "start_time": "2022-06-08T07:57:28.107Z"
   },
   {
    "duration": 10,
    "start_time": "2022-06-08T07:57:30.899Z"
   },
   {
    "duration": 11,
    "start_time": "2022-06-08T07:58:13.876Z"
   },
   {
    "duration": 28,
    "start_time": "2022-06-08T08:01:36.755Z"
   },
   {
    "duration": 63,
    "start_time": "2022-06-08T08:01:53.489Z"
   },
   {
    "duration": 86,
    "start_time": "2022-06-08T08:01:58.749Z"
   },
   {
    "duration": 97,
    "start_time": "2022-06-08T08:04:39.218Z"
   },
   {
    "duration": 46,
    "start_time": "2022-06-08T08:05:06.684Z"
   },
   {
    "duration": 70,
    "start_time": "2022-06-08T08:05:08.365Z"
   },
   {
    "duration": 53,
    "start_time": "2022-06-08T08:05:17.416Z"
   },
   {
    "duration": 51,
    "start_time": "2022-06-08T08:05:29.357Z"
   },
   {
    "duration": 35,
    "start_time": "2022-06-08T08:10:44.841Z"
   },
   {
    "duration": 42,
    "start_time": "2022-06-08T08:10:52.110Z"
   },
   {
    "duration": 454,
    "start_time": "2022-06-08T08:12:03.211Z"
   },
   {
    "duration": 139,
    "start_time": "2022-06-08T08:13:21.513Z"
   },
   {
    "duration": 103,
    "start_time": "2022-06-08T08:13:45.766Z"
   },
   {
    "duration": 135,
    "start_time": "2022-06-08T08:13:51.603Z"
   },
   {
    "duration": 261,
    "start_time": "2022-06-08T08:15:58.163Z"
   },
   {
    "duration": 150,
    "start_time": "2022-06-08T08:16:06.211Z"
   },
   {
    "duration": 143,
    "start_time": "2022-06-08T08:16:16.858Z"
   },
   {
    "duration": 225,
    "start_time": "2022-06-08T08:16:22.683Z"
   },
   {
    "duration": 156,
    "start_time": "2022-06-08T08:16:51.986Z"
   },
   {
    "duration": 159,
    "start_time": "2022-06-08T08:17:01.187Z"
   },
   {
    "duration": 171,
    "start_time": "2022-06-08T08:17:39.583Z"
   },
   {
    "duration": 164,
    "start_time": "2022-06-08T08:17:48.068Z"
   },
   {
    "duration": 169,
    "start_time": "2022-06-08T08:18:24.424Z"
   },
   {
    "duration": 172,
    "start_time": "2022-06-08T08:18:28.798Z"
   },
   {
    "duration": 261,
    "start_time": "2022-06-08T08:18:39.677Z"
   },
   {
    "duration": 186,
    "start_time": "2022-06-08T08:18:47.466Z"
   },
   {
    "duration": 208,
    "start_time": "2022-06-08T08:18:56.150Z"
   },
   {
    "duration": 221,
    "start_time": "2022-06-08T08:38:05.063Z"
   },
   {
    "duration": 240,
    "start_time": "2022-06-08T08:41:52.755Z"
   },
   {
    "duration": 443,
    "start_time": "2022-06-08T08:48:48.064Z"
   },
   {
    "duration": 261,
    "start_time": "2022-06-08T08:57:43.049Z"
   },
   {
    "duration": 304,
    "start_time": "2022-06-08T09:02:24.545Z"
   },
   {
    "duration": 238,
    "start_time": "2022-06-08T09:02:51.419Z"
   },
   {
    "duration": 231,
    "start_time": "2022-06-08T09:03:07.044Z"
   },
   {
    "duration": 215,
    "start_time": "2022-06-08T09:03:21.037Z"
   },
   {
    "duration": 206,
    "start_time": "2022-06-08T09:08:11.641Z"
   },
   {
    "duration": 378,
    "start_time": "2022-06-08T09:08:33.665Z"
   },
   {
    "duration": 376,
    "start_time": "2022-06-08T09:08:37.803Z"
   },
   {
    "duration": 341,
    "start_time": "2022-06-08T09:08:44.501Z"
   },
   {
    "duration": 258,
    "start_time": "2022-06-08T09:10:19.240Z"
   },
   {
    "duration": 304,
    "start_time": "2022-06-08T09:11:04.340Z"
   },
   {
    "duration": 217,
    "start_time": "2022-06-08T09:11:28.224Z"
   },
   {
    "duration": 219,
    "start_time": "2022-06-08T09:11:51.975Z"
   },
   {
    "duration": 361,
    "start_time": "2022-06-08T09:14:02.825Z"
   },
   {
    "duration": 228,
    "start_time": "2022-06-08T09:14:14.838Z"
   },
   {
    "duration": 295,
    "start_time": "2022-06-08T09:14:34.271Z"
   },
   {
    "duration": 353,
    "start_time": "2022-06-08T09:16:18.537Z"
   },
   {
    "duration": 12,
    "start_time": "2022-06-08T09:44:27.848Z"
   },
   {
    "duration": 9,
    "start_time": "2022-06-08T09:45:20.006Z"
   },
   {
    "duration": 122,
    "start_time": "2022-06-08T09:47:11.928Z"
   },
   {
    "duration": 13,
    "start_time": "2022-06-08T09:47:23.268Z"
   },
   {
    "duration": 9,
    "start_time": "2022-06-08T09:48:43.366Z"
   },
   {
    "duration": 131,
    "start_time": "2022-06-08T09:48:54.914Z"
   },
   {
    "duration": 5,
    "start_time": "2022-06-08T09:54:56.047Z"
   },
   {
    "duration": 6,
    "start_time": "2022-06-08T09:54:59.808Z"
   },
   {
    "duration": 8,
    "start_time": "2022-06-08T09:59:06.772Z"
   },
   {
    "duration": 6,
    "start_time": "2022-06-08T09:59:07.033Z"
   },
   {
    "duration": 9,
    "start_time": "2022-06-08T09:59:21.865Z"
   },
   {
    "duration": 11,
    "start_time": "2022-06-08T09:59:23.425Z"
   },
   {
    "duration": 9,
    "start_time": "2022-06-08T09:59:48.624Z"
   },
   {
    "duration": 8,
    "start_time": "2022-06-08T09:59:49.703Z"
   },
   {
    "duration": 11,
    "start_time": "2022-06-08T10:00:37.683Z"
   },
   {
    "duration": 14,
    "start_time": "2022-06-08T10:00:37.884Z"
   },
   {
    "duration": 42,
    "start_time": "2022-06-08T10:02:01.370Z"
   },
   {
    "duration": 14,
    "start_time": "2022-06-08T10:02:32.040Z"
   },
   {
    "duration": 12,
    "start_time": "2022-06-08T10:02:37.704Z"
   },
   {
    "duration": 10,
    "start_time": "2022-06-08T10:02:38.093Z"
   },
   {
    "duration": 134,
    "start_time": "2022-06-08T10:05:15.675Z"
   },
   {
    "duration": 119,
    "start_time": "2022-06-08T10:05:23.641Z"
   },
   {
    "duration": 132,
    "start_time": "2022-06-08T10:05:28.885Z"
   },
   {
    "duration": 3,
    "start_time": "2022-06-08T10:05:46.357Z"
   },
   {
    "duration": 144,
    "start_time": "2022-06-08T10:06:11.125Z"
   },
   {
    "duration": 308,
    "start_time": "2022-06-08T10:08:52.400Z"
   },
   {
    "duration": 138,
    "start_time": "2022-06-08T10:08:59.440Z"
   },
   {
    "duration": 120,
    "start_time": "2022-06-08T10:09:30.453Z"
   },
   {
    "duration": 154,
    "start_time": "2022-06-08T10:10:11.344Z"
   },
   {
    "duration": 123,
    "start_time": "2022-06-08T10:10:16.541Z"
   },
   {
    "duration": 136,
    "start_time": "2022-06-08T10:12:51.356Z"
   },
   {
    "duration": 229,
    "start_time": "2022-06-08T10:13:00.717Z"
   },
   {
    "duration": 136,
    "start_time": "2022-06-08T10:17:59.139Z"
   },
   {
    "duration": 149,
    "start_time": "2022-06-08T10:18:13.773Z"
   },
   {
    "duration": 132,
    "start_time": "2022-06-08T10:19:17.129Z"
   },
   {
    "duration": 135,
    "start_time": "2022-06-08T10:19:17.720Z"
   },
   {
    "duration": 150,
    "start_time": "2022-06-08T10:23:18.117Z"
   },
   {
    "duration": 270,
    "start_time": "2022-06-08T10:23:40.438Z"
   },
   {
    "duration": 404,
    "start_time": "2022-06-08T10:23:56.280Z"
   },
   {
    "duration": 287,
    "start_time": "2022-06-08T10:24:06.044Z"
   },
   {
    "duration": 374,
    "start_time": "2022-06-08T10:24:11.697Z"
   },
   {
    "duration": 287,
    "start_time": "2022-06-08T10:24:27.057Z"
   },
   {
    "duration": 357,
    "start_time": "2022-06-08T10:24:41.788Z"
   },
   {
    "duration": 295,
    "start_time": "2022-06-08T10:24:52.247Z"
   },
   {
    "duration": 364,
    "start_time": "2022-06-08T10:25:23.484Z"
   },
   {
    "duration": 311,
    "start_time": "2022-06-08T10:25:34.070Z"
   },
   {
    "duration": 32,
    "start_time": "2022-06-08T10:29:05.984Z"
   },
   {
    "duration": 546,
    "start_time": "2022-06-08T10:29:23.127Z"
   },
   {
    "duration": 52,
    "start_time": "2022-06-08T10:29:27.541Z"
   },
   {
    "duration": 37,
    "start_time": "2022-06-08T10:31:28.039Z"
   },
   {
    "duration": 61,
    "start_time": "2022-06-08T10:31:48.111Z"
   },
   {
    "duration": 1205,
    "start_time": "2022-06-09T05:10:52.822Z"
   },
   {
    "duration": 65,
    "start_time": "2022-06-09T05:10:54.029Z"
   },
   {
    "duration": 8,
    "start_time": "2022-06-09T05:10:54.096Z"
   },
   {
    "duration": 27,
    "start_time": "2022-06-09T05:10:54.106Z"
   },
   {
    "duration": 150,
    "start_time": "2022-06-09T05:10:54.135Z"
   },
   {
    "duration": 30,
    "start_time": "2022-06-09T05:10:54.287Z"
   },
   {
    "duration": 21,
    "start_time": "2022-06-09T05:10:54.319Z"
   },
   {
    "duration": 66,
    "start_time": "2022-06-09T05:10:54.341Z"
   },
   {
    "duration": 74,
    "start_time": "2022-06-09T05:10:54.408Z"
   },
   {
    "duration": 52,
    "start_time": "2022-06-09T05:10:54.484Z"
   },
   {
    "duration": 78,
    "start_time": "2022-06-09T05:10:54.538Z"
   },
   {
    "duration": 46,
    "start_time": "2022-06-09T05:10:54.618Z"
   },
   {
    "duration": 330,
    "start_time": "2022-06-09T05:10:54.666Z"
   },
   {
    "duration": 262,
    "start_time": "2022-06-09T05:10:54.999Z"
   },
   {
    "duration": 377,
    "start_time": "2022-06-09T05:10:55.264Z"
   },
   {
    "duration": 251,
    "start_time": "2022-06-09T05:10:55.643Z"
   },
   {
    "duration": 329,
    "start_time": "2022-06-09T05:10:55.896Z"
   },
   {
    "duration": 342,
    "start_time": "2022-06-09T05:10:56.227Z"
   },
   {
    "duration": 336,
    "start_time": "2022-06-09T05:10:56.571Z"
   },
   {
    "duration": 34,
    "start_time": "2022-06-09T05:10:56.908Z"
   },
   {
    "duration": 25,
    "start_time": "2022-06-09T05:10:56.944Z"
   },
   {
    "duration": 12,
    "start_time": "2022-06-09T05:11:39.950Z"
   },
   {
    "duration": 15,
    "start_time": "2022-06-09T05:12:08.343Z"
   },
   {
    "duration": 51,
    "start_time": "2022-06-09T05:12:43.109Z"
   },
   {
    "duration": 73,
    "start_time": "2022-06-09T05:13:35.367Z"
   },
   {
    "duration": 49,
    "start_time": "2022-06-09T05:15:31.916Z"
   },
   {
    "duration": 130,
    "start_time": "2022-06-09T05:16:10.543Z"
   },
   {
    "duration": 40,
    "start_time": "2022-06-09T05:16:17.671Z"
   },
   {
    "duration": 33,
    "start_time": "2022-06-09T05:16:21.921Z"
   },
   {
    "duration": 11,
    "start_time": "2022-06-09T05:19:05.867Z"
   },
   {
    "duration": 34,
    "start_time": "2022-06-09T05:19:26.344Z"
   },
   {
    "duration": 76,
    "start_time": "2022-06-09T05:19:42.238Z"
   },
   {
    "duration": 11,
    "start_time": "2022-06-09T05:20:24.395Z"
   },
   {
    "duration": 37,
    "start_time": "2022-06-09T05:20:44.768Z"
   },
   {
    "duration": 12,
    "start_time": "2022-06-09T05:20:45.243Z"
   },
   {
    "duration": 5,
    "start_time": "2022-06-09T05:24:30.961Z"
   },
   {
    "duration": 12,
    "start_time": "2022-06-09T05:25:47.823Z"
   },
   {
    "duration": 8,
    "start_time": "2022-06-09T05:26:39.924Z"
   },
   {
    "duration": 9,
    "start_time": "2022-06-09T05:27:10.148Z"
   },
   {
    "duration": 5,
    "start_time": "2022-06-09T05:30:01.256Z"
   },
   {
    "duration": 4,
    "start_time": "2022-06-09T05:30:16.173Z"
   },
   {
    "duration": 19,
    "start_time": "2022-06-09T05:31:20.004Z"
   },
   {
    "duration": 5,
    "start_time": "2022-06-09T05:31:40.513Z"
   },
   {
    "duration": 5,
    "start_time": "2022-06-09T05:31:42.834Z"
   },
   {
    "duration": 5,
    "start_time": "2022-06-09T05:31:49.797Z"
   },
   {
    "duration": 5,
    "start_time": "2022-06-09T05:31:50.015Z"
   },
   {
    "duration": 10,
    "start_time": "2022-06-09T05:31:52.582Z"
   },
   {
    "duration": 11,
    "start_time": "2022-06-09T05:31:52.963Z"
   },
   {
    "duration": 5,
    "start_time": "2022-06-09T05:31:56.214Z"
   },
   {
    "duration": 7,
    "start_time": "2022-06-09T05:31:58.359Z"
   },
   {
    "duration": 8,
    "start_time": "2022-06-09T05:33:55.375Z"
   },
   {
    "duration": 7,
    "start_time": "2022-06-09T05:34:12.732Z"
   },
   {
    "duration": 5,
    "start_time": "2022-06-09T05:34:12.896Z"
   },
   {
    "duration": 4,
    "start_time": "2022-06-09T05:34:47.748Z"
   },
   {
    "duration": 5,
    "start_time": "2022-06-09T05:34:51.694Z"
   },
   {
    "duration": 8,
    "start_time": "2022-06-09T05:35:00.564Z"
   },
   {
    "duration": 5,
    "start_time": "2022-06-09T05:35:00.944Z"
   },
   {
    "duration": 5,
    "start_time": "2022-06-09T05:35:07.367Z"
   },
   {
    "duration": 5,
    "start_time": "2022-06-09T05:35:08.300Z"
   },
   {
    "duration": 11,
    "start_time": "2022-06-09T05:35:27.772Z"
   },
   {
    "duration": 5,
    "start_time": "2022-06-09T05:35:28.306Z"
   },
   {
    "duration": 11,
    "start_time": "2022-06-09T05:35:57.619Z"
   },
   {
    "duration": 10,
    "start_time": "2022-06-09T05:37:34.404Z"
   },
   {
    "duration": 13,
    "start_time": "2022-06-09T05:38:10.292Z"
   },
   {
    "duration": 42,
    "start_time": "2022-06-09T05:38:49.893Z"
   },
   {
    "duration": 12,
    "start_time": "2022-06-09T05:40:58.749Z"
   },
   {
    "duration": 11,
    "start_time": "2022-06-09T05:41:23.468Z"
   },
   {
    "duration": 9,
    "start_time": "2022-06-09T05:41:34.579Z"
   },
   {
    "duration": 5,
    "start_time": "2022-06-09T05:41:43.727Z"
   },
   {
    "duration": 12,
    "start_time": "2022-06-09T05:41:55.135Z"
   },
   {
    "duration": 6,
    "start_time": "2022-06-09T05:42:14.332Z"
   },
   {
    "duration": 8,
    "start_time": "2022-06-09T05:42:19.562Z"
   },
   {
    "duration": 9,
    "start_time": "2022-06-09T05:42:24.647Z"
   },
   {
    "duration": 14,
    "start_time": "2022-06-09T05:43:06.867Z"
   },
   {
    "duration": 11,
    "start_time": "2022-06-09T05:46:08.037Z"
   },
   {
    "duration": 7,
    "start_time": "2022-06-09T05:46:49.399Z"
   },
   {
    "duration": 20,
    "start_time": "2022-06-09T05:47:12.710Z"
   },
   {
    "duration": 90,
    "start_time": "2022-06-09T05:54:48.616Z"
   },
   {
    "duration": 6,
    "start_time": "2022-06-09T06:06:12.541Z"
   },
   {
    "duration": 5,
    "start_time": "2022-06-09T06:06:44.114Z"
   },
   {
    "duration": 84,
    "start_time": "2022-06-09T06:09:06.689Z"
   },
   {
    "duration": 6,
    "start_time": "2022-06-09T06:09:20.975Z"
   },
   {
    "duration": 6,
    "start_time": "2022-06-09T06:09:46.859Z"
   },
   {
    "duration": 32,
    "start_time": "2022-06-09T06:20:18.705Z"
   },
   {
    "duration": 37,
    "start_time": "2022-06-09T06:20:25.729Z"
   },
   {
    "duration": 34,
    "start_time": "2022-06-09T06:20:29.342Z"
   },
   {
    "duration": 24,
    "start_time": "2022-06-09T06:20:35.157Z"
   },
   {
    "duration": 27,
    "start_time": "2022-06-09T07:10:15.063Z"
   },
   {
    "duration": 32,
    "start_time": "2022-06-09T07:10:20.403Z"
   },
   {
    "duration": 31,
    "start_time": "2022-06-09T07:11:45.255Z"
   },
   {
    "duration": 33,
    "start_time": "2022-06-09T07:12:05.878Z"
   },
   {
    "duration": 34,
    "start_time": "2022-06-09T07:12:17.377Z"
   },
   {
    "duration": 35,
    "start_time": "2022-06-09T07:12:36.650Z"
   },
   {
    "duration": 364,
    "start_time": "2022-06-09T07:49:58.780Z"
   },
   {
    "duration": 8,
    "start_time": "2022-06-09T08:03:14.532Z"
   },
   {
    "duration": 16,
    "start_time": "2022-06-09T08:03:17.453Z"
   },
   {
    "duration": 38,
    "start_time": "2022-06-09T08:08:54.458Z"
   },
   {
    "duration": 271,
    "start_time": "2022-06-09T08:10:43.620Z"
   },
   {
    "duration": 487,
    "start_time": "2022-06-09T08:11:06.783Z"
   },
   {
    "duration": 287,
    "start_time": "2022-06-09T08:14:10.680Z"
   },
   {
    "duration": 350,
    "start_time": "2022-06-09T08:18:52.562Z"
   },
   {
    "duration": 17,
    "start_time": "2022-06-09T08:55:07.348Z"
   },
   {
    "duration": 32,
    "start_time": "2022-06-09T08:55:39.249Z"
   },
   {
    "duration": 20,
    "start_time": "2022-06-09T08:55:56.112Z"
   },
   {
    "duration": 7,
    "start_time": "2022-06-09T08:58:07.404Z"
   },
   {
    "duration": 8,
    "start_time": "2022-06-09T08:58:34.863Z"
   },
   {
    "duration": 21,
    "start_time": "2022-06-09T08:58:38.389Z"
   },
   {
    "duration": 15,
    "start_time": "2022-06-09T08:58:49.579Z"
   },
   {
    "duration": 3,
    "start_time": "2022-06-09T09:03:44.687Z"
   },
   {
    "duration": 35,
    "start_time": "2022-06-09T09:03:44.691Z"
   },
   {
    "duration": 6,
    "start_time": "2022-06-09T09:03:44.728Z"
   },
   {
    "duration": 21,
    "start_time": "2022-06-09T09:03:44.736Z"
   },
   {
    "duration": 4,
    "start_time": "2022-06-09T09:03:44.758Z"
   },
   {
    "duration": 68,
    "start_time": "2022-06-09T09:03:44.764Z"
   },
   {
    "duration": 34,
    "start_time": "2022-06-09T09:03:44.834Z"
   },
   {
    "duration": 27,
    "start_time": "2022-06-09T09:03:44.870Z"
   },
   {
    "duration": 75,
    "start_time": "2022-06-09T09:03:44.899Z"
   },
   {
    "duration": 60,
    "start_time": "2022-06-09T09:03:44.976Z"
   },
   {
    "duration": 75,
    "start_time": "2022-06-09T09:03:45.037Z"
   },
   {
    "duration": 68,
    "start_time": "2022-06-09T09:03:45.113Z"
   },
   {
    "duration": 36,
    "start_time": "2022-06-09T09:03:45.183Z"
   },
   {
    "duration": 249,
    "start_time": "2022-06-09T09:03:45.221Z"
   },
   {
    "duration": 236,
    "start_time": "2022-06-09T09:03:45.472Z"
   },
   {
    "duration": 311,
    "start_time": "2022-06-09T09:03:45.709Z"
   },
   {
    "duration": 20,
    "start_time": "2022-06-09T09:03:46.022Z"
   },
   {
    "duration": 259,
    "start_time": "2022-06-09T09:03:46.044Z"
   },
   {
    "duration": 319,
    "start_time": "2022-06-09T09:03:46.305Z"
   },
   {
    "duration": 261,
    "start_time": "2022-06-09T09:03:46.626Z"
   },
   {
    "duration": 351,
    "start_time": "2022-06-09T09:03:46.889Z"
   },
   {
    "duration": 438,
    "start_time": "2022-06-09T09:03:47.242Z"
   },
   {
    "duration": 323,
    "start_time": "2022-06-09T09:03:47.682Z"
   },
   {
    "duration": 34,
    "start_time": "2022-06-09T09:03:48.007Z"
   },
   {
    "duration": 28,
    "start_time": "2022-06-09T09:03:48.042Z"
   },
   {
    "duration": 8,
    "start_time": "2022-06-09T09:03:48.071Z"
   },
   {
    "duration": 10,
    "start_time": "2022-06-09T09:03:48.080Z"
   },
   {
    "duration": 29,
    "start_time": "2022-06-09T09:03:48.091Z"
   },
   {
    "duration": 14,
    "start_time": "2022-06-09T09:03:48.121Z"
   },
   {
    "duration": 1089,
    "start_time": "2022-06-09T09:14:09.627Z"
   },
   {
    "duration": 29,
    "start_time": "2022-06-09T09:14:10.718Z"
   },
   {
    "duration": 7,
    "start_time": "2022-06-09T09:14:10.748Z"
   },
   {
    "duration": 31,
    "start_time": "2022-06-09T09:14:10.757Z"
   },
   {
    "duration": 4,
    "start_time": "2022-06-09T09:14:10.789Z"
   },
   {
    "duration": 63,
    "start_time": "2022-06-09T09:14:10.795Z"
   },
   {
    "duration": 39,
    "start_time": "2022-06-09T09:14:10.860Z"
   },
   {
    "duration": 28,
    "start_time": "2022-06-09T09:14:10.900Z"
   },
   {
    "duration": 86,
    "start_time": "2022-06-09T09:14:10.930Z"
   },
   {
    "duration": 71,
    "start_time": "2022-06-09T09:14:11.019Z"
   },
   {
    "duration": 52,
    "start_time": "2022-06-09T09:14:11.092Z"
   },
   {
    "duration": 69,
    "start_time": "2022-06-09T09:14:11.146Z"
   },
   {
    "duration": 57,
    "start_time": "2022-06-09T09:14:11.217Z"
   },
   {
    "duration": 350,
    "start_time": "2022-06-09T09:14:11.276Z"
   },
   {
    "duration": 257,
    "start_time": "2022-06-09T09:14:11.628Z"
   },
   {
    "duration": 326,
    "start_time": "2022-06-09T09:14:11.886Z"
   },
   {
    "duration": 22,
    "start_time": "2022-06-09T09:14:12.214Z"
   },
   {
    "duration": 285,
    "start_time": "2022-06-09T09:14:12.238Z"
   },
   {
    "duration": 365,
    "start_time": "2022-06-09T09:14:12.525Z"
   },
   {
    "duration": 291,
    "start_time": "2022-06-09T09:14:12.892Z"
   },
   {
    "duration": 332,
    "start_time": "2022-06-09T09:14:13.185Z"
   },
   {
    "duration": 325,
    "start_time": "2022-06-09T09:14:13.520Z"
   },
   {
    "duration": 399,
    "start_time": "2022-06-09T09:14:13.847Z"
   },
   {
    "duration": 39,
    "start_time": "2022-06-09T09:14:14.248Z"
   },
   {
    "duration": 12,
    "start_time": "2022-06-09T09:14:14.289Z"
   },
   {
    "duration": 6,
    "start_time": "2022-06-09T09:14:14.303Z"
   },
   {
    "duration": 11,
    "start_time": "2022-06-09T09:14:14.310Z"
   },
   {
    "duration": 61,
    "start_time": "2022-06-09T09:14:14.324Z"
   },
   {
    "duration": 11,
    "start_time": "2022-06-09T09:14:14.387Z"
   },
   {
    "duration": 1067,
    "start_time": "2022-06-09T13:20:01.687Z"
   },
   {
    "duration": 58,
    "start_time": "2022-06-09T13:20:02.756Z"
   },
   {
    "duration": 6,
    "start_time": "2022-06-09T13:20:02.816Z"
   },
   {
    "duration": 53,
    "start_time": "2022-06-09T13:20:02.823Z"
   },
   {
    "duration": 3,
    "start_time": "2022-06-09T13:20:02.879Z"
   },
   {
    "duration": 186,
    "start_time": "2022-06-09T13:20:02.884Z"
   },
   {
    "duration": 34,
    "start_time": "2022-06-09T13:20:03.071Z"
   },
   {
    "duration": 36,
    "start_time": "2022-06-09T13:20:03.107Z"
   },
   {
    "duration": 95,
    "start_time": "2022-06-09T13:20:03.145Z"
   },
   {
    "duration": 74,
    "start_time": "2022-06-09T13:20:03.241Z"
   },
   {
    "duration": 59,
    "start_time": "2022-06-09T13:20:03.317Z"
   },
   {
    "duration": 52,
    "start_time": "2022-06-09T13:20:03.378Z"
   },
   {
    "duration": 40,
    "start_time": "2022-06-09T13:20:03.434Z"
   },
   {
    "duration": 368,
    "start_time": "2022-06-09T13:20:03.476Z"
   },
   {
    "duration": 266,
    "start_time": "2022-06-09T13:20:03.858Z"
   },
   {
    "duration": 357,
    "start_time": "2022-06-09T13:20:04.125Z"
   },
   {
    "duration": 273,
    "start_time": "2022-06-09T13:20:04.485Z"
   },
   {
    "duration": 340,
    "start_time": "2022-06-09T13:20:04.761Z"
   },
   {
    "duration": 286,
    "start_time": "2022-06-09T13:20:05.103Z"
   },
   {
    "duration": 333,
    "start_time": "2022-06-09T13:20:05.391Z"
   },
   {
    "duration": 330,
    "start_time": "2022-06-09T13:20:05.727Z"
   },
   {
    "duration": 442,
    "start_time": "2022-06-09T13:20:06.058Z"
   },
   {
    "duration": 62,
    "start_time": "2022-06-09T13:20:06.502Z"
   },
   {
    "duration": 20,
    "start_time": "2022-06-09T13:20:06.566Z"
   },
   {
    "duration": 22,
    "start_time": "2022-06-09T13:20:06.588Z"
   },
   {
    "duration": 35,
    "start_time": "2022-06-09T13:20:06.612Z"
   },
   {
    "duration": 50,
    "start_time": "2022-06-09T13:20:06.649Z"
   },
   {
    "duration": 13,
    "start_time": "2022-06-09T13:20:06.701Z"
   },
   {
    "duration": 5,
    "start_time": "2022-06-09T14:20:18.108Z"
   },
   {
    "duration": 1405,
    "start_time": "2022-06-10T08:05:00.999Z"
   },
   {
    "duration": 105,
    "start_time": "2022-06-10T08:05:44.316Z"
   },
   {
    "duration": 94,
    "start_time": "2022-06-10T08:05:47.220Z"
   },
   {
    "duration": 8,
    "start_time": "2022-06-10T08:05:47.933Z"
   },
   {
    "duration": 27,
    "start_time": "2022-06-10T08:05:49.334Z"
   },
   {
    "duration": 10,
    "start_time": "2022-06-10T08:13:44.436Z"
   },
   {
    "duration": 4,
    "start_time": "2022-06-10T08:13:58.303Z"
   },
   {
    "duration": 28,
    "start_time": "2022-06-10T08:13:58.316Z"
   },
   {
    "duration": 8,
    "start_time": "2022-06-10T08:13:58.345Z"
   },
   {
    "duration": 65,
    "start_time": "2022-06-10T08:13:58.355Z"
   },
   {
    "duration": 208,
    "start_time": "2022-06-10T08:13:58.422Z"
   },
   {
    "duration": 46,
    "start_time": "2022-06-10T08:13:58.632Z"
   },
   {
    "duration": 46,
    "start_time": "2022-06-10T08:15:26.438Z"
   },
   {
    "duration": 55,
    "start_time": "2022-06-10T08:17:09.051Z"
   },
   {
    "duration": 56,
    "start_time": "2022-06-10T08:17:38.873Z"
   },
   {
    "duration": 52,
    "start_time": "2022-06-10T08:18:07.861Z"
   },
   {
    "duration": 56,
    "start_time": "2022-06-10T08:18:42.656Z"
   },
   {
    "duration": 49,
    "start_time": "2022-06-10T08:18:57.316Z"
   },
   {
    "duration": 49,
    "start_time": "2022-06-10T08:20:25.095Z"
   },
   {
    "duration": 38,
    "start_time": "2022-06-10T08:21:30.285Z"
   },
   {
    "duration": 6,
    "start_time": "2022-06-10T08:21:40.714Z"
   },
   {
    "duration": 44,
    "start_time": "2022-06-10T08:21:51.592Z"
   },
   {
    "duration": 8,
    "start_time": "2022-06-10T08:21:52.930Z"
   },
   {
    "duration": 48,
    "start_time": "2022-06-10T08:22:10.185Z"
   },
   {
    "duration": 15,
    "start_time": "2022-06-10T08:22:18.959Z"
   },
   {
    "duration": 7,
    "start_time": "2022-06-10T08:22:24.346Z"
   },
   {
    "duration": 6,
    "start_time": "2022-06-10T08:22:36.309Z"
   },
   {
    "duration": 48,
    "start_time": "2022-06-10T08:23:44.901Z"
   },
   {
    "duration": 49,
    "start_time": "2022-06-10T08:24:16.643Z"
   },
   {
    "duration": 32,
    "start_time": "2022-06-10T08:24:21.157Z"
   },
   {
    "duration": 40,
    "start_time": "2022-06-10T08:24:34.024Z"
   },
   {
    "duration": 210,
    "start_time": "2022-06-10T08:25:03.406Z"
   },
   {
    "duration": 165,
    "start_time": "2022-06-10T08:25:10.604Z"
   },
   {
    "duration": 137,
    "start_time": "2022-06-10T08:25:16.397Z"
   },
   {
    "duration": 6,
    "start_time": "2022-06-10T08:26:48.591Z"
   },
   {
    "duration": 285,
    "start_time": "2022-06-10T08:27:34.000Z"
   },
   {
    "duration": 248,
    "start_time": "2022-06-10T08:28:24.344Z"
   },
   {
    "duration": 311,
    "start_time": "2022-06-10T08:28:52.997Z"
   },
   {
    "duration": 255,
    "start_time": "2022-06-10T08:29:11.881Z"
   },
   {
    "duration": 21,
    "start_time": "2022-06-10T08:51:18.610Z"
   },
   {
    "duration": 3,
    "start_time": "2022-06-10T08:52:41.142Z"
   },
   {
    "duration": 53,
    "start_time": "2022-06-10T08:52:41.147Z"
   },
   {
    "duration": 5,
    "start_time": "2022-06-10T08:52:41.202Z"
   },
   {
    "duration": 22,
    "start_time": "2022-06-10T08:52:41.209Z"
   },
   {
    "duration": 82,
    "start_time": "2022-06-10T08:52:41.237Z"
   },
   {
    "duration": 52,
    "start_time": "2022-06-10T08:52:41.320Z"
   },
   {
    "duration": 42,
    "start_time": "2022-06-10T08:52:41.379Z"
   },
   {
    "duration": 293,
    "start_time": "2022-06-10T08:52:41.422Z"
   },
   {
    "duration": 166,
    "start_time": "2022-06-10T08:52:41.717Z"
   },
   {
    "duration": 66,
    "start_time": "2022-06-10T08:52:41.885Z"
   },
   {
    "duration": 65,
    "start_time": "2022-06-10T08:52:41.954Z"
   },
   {
    "duration": 64,
    "start_time": "2022-06-10T08:52:42.021Z"
   },
   {
    "duration": 46,
    "start_time": "2022-06-10T08:52:42.087Z"
   },
   {
    "duration": 269,
    "start_time": "2022-06-10T08:52:42.136Z"
   },
   {
    "duration": 269,
    "start_time": "2022-06-10T08:52:42.407Z"
   },
   {
    "duration": 402,
    "start_time": "2022-06-10T08:52:42.678Z"
   },
   {
    "duration": 287,
    "start_time": "2022-06-10T08:52:43.082Z"
   },
   {
    "duration": 362,
    "start_time": "2022-06-10T08:52:43.373Z"
   },
   {
    "duration": 293,
    "start_time": "2022-06-10T08:52:43.736Z"
   },
   {
    "duration": 360,
    "start_time": "2022-06-10T08:52:44.030Z"
   },
   {
    "duration": 305,
    "start_time": "2022-06-10T08:52:44.398Z"
   },
   {
    "duration": 332,
    "start_time": "2022-06-10T08:52:44.705Z"
   },
   {
    "duration": 66,
    "start_time": "2022-06-10T08:52:45.039Z"
   },
   {
    "duration": 10,
    "start_time": "2022-06-10T08:52:45.107Z"
   },
   {
    "duration": 10,
    "start_time": "2022-06-10T08:52:45.119Z"
   },
   {
    "duration": 10,
    "start_time": "2022-06-10T08:52:45.131Z"
   },
   {
    "duration": 46,
    "start_time": "2022-06-10T08:52:45.143Z"
   },
   {
    "duration": 18,
    "start_time": "2022-06-10T08:52:45.191Z"
   },
   {
    "duration": 34,
    "start_time": "2022-06-10T08:54:01.301Z"
   },
   {
    "duration": 12,
    "start_time": "2022-06-10T08:57:18.314Z"
   },
   {
    "duration": 8,
    "start_time": "2022-06-10T08:58:46.560Z"
   },
   {
    "duration": 28,
    "start_time": "2022-06-10T08:59:48.426Z"
   },
   {
    "duration": 49,
    "start_time": "2022-06-10T09:00:19.382Z"
   },
   {
    "duration": 13,
    "start_time": "2022-06-10T09:00:38.698Z"
   },
   {
    "duration": 18,
    "start_time": "2022-06-10T09:00:53.853Z"
   },
   {
    "duration": 1071,
    "start_time": "2022-06-10T09:08:26.033Z"
   },
   {
    "duration": 27,
    "start_time": "2022-06-10T09:08:27.106Z"
   },
   {
    "duration": 8,
    "start_time": "2022-06-10T09:08:27.135Z"
   },
   {
    "duration": 45,
    "start_time": "2022-06-10T09:08:27.146Z"
   },
   {
    "duration": 87,
    "start_time": "2022-06-10T09:08:27.193Z"
   },
   {
    "duration": 58,
    "start_time": "2022-06-10T09:08:27.281Z"
   },
   {
    "duration": 42,
    "start_time": "2022-06-10T09:08:27.341Z"
   },
   {
    "duration": 460,
    "start_time": "2022-06-10T09:08:27.388Z"
   },
   {
    "duration": 74,
    "start_time": "2022-06-10T09:08:27.849Z"
   },
   {
    "duration": 77,
    "start_time": "2022-06-10T09:08:27.925Z"
   },
   {
    "duration": 65,
    "start_time": "2022-06-10T09:08:28.004Z"
   },
   {
    "duration": 74,
    "start_time": "2022-06-10T09:08:28.071Z"
   },
   {
    "duration": 37,
    "start_time": "2022-06-10T09:08:28.147Z"
   },
   {
    "duration": 250,
    "start_time": "2022-06-10T09:08:28.186Z"
   },
   {
    "duration": 273,
    "start_time": "2022-06-10T09:08:28.438Z"
   },
   {
    "duration": 316,
    "start_time": "2022-06-10T09:08:28.713Z"
   },
   {
    "duration": 267,
    "start_time": "2022-06-10T09:08:29.030Z"
   },
   {
    "duration": 331,
    "start_time": "2022-06-10T09:08:29.300Z"
   },
   {
    "duration": 279,
    "start_time": "2022-06-10T09:08:29.633Z"
   },
   {
    "duration": 353,
    "start_time": "2022-06-10T09:08:29.913Z"
   },
   {
    "duration": 431,
    "start_time": "2022-06-10T09:08:30.268Z"
   },
   {
    "duration": 316,
    "start_time": "2022-06-10T09:08:30.701Z"
   },
   {
    "duration": 44,
    "start_time": "2022-06-10T09:08:31.019Z"
   },
   {
    "duration": 40,
    "start_time": "2022-06-10T09:08:31.064Z"
   },
   {
    "duration": 10,
    "start_time": "2022-06-10T09:08:31.106Z"
   },
   {
    "duration": 12,
    "start_time": "2022-06-10T09:08:31.118Z"
   },
   {
    "duration": 31,
    "start_time": "2022-06-10T09:08:31.131Z"
   },
   {
    "duration": 15,
    "start_time": "2022-06-10T09:08:31.165Z"
   },
   {
    "duration": 885,
    "start_time": "2022-06-10T12:07:29.426Z"
   },
   {
    "duration": 25,
    "start_time": "2022-06-10T12:07:30.313Z"
   },
   {
    "duration": 6,
    "start_time": "2022-06-10T12:07:30.340Z"
   },
   {
    "duration": 30,
    "start_time": "2022-06-10T12:07:30.349Z"
   },
   {
    "duration": 59,
    "start_time": "2022-06-10T12:07:30.381Z"
   },
   {
    "duration": 41,
    "start_time": "2022-06-10T12:07:30.442Z"
   },
   {
    "duration": 27,
    "start_time": "2022-06-10T12:07:30.484Z"
   },
   {
    "duration": 345,
    "start_time": "2022-06-10T12:07:30.512Z"
   },
   {
    "duration": 57,
    "start_time": "2022-06-10T12:07:30.858Z"
   },
   {
    "duration": 52,
    "start_time": "2022-06-10T12:07:30.917Z"
   },
   {
    "duration": 53,
    "start_time": "2022-06-10T12:07:30.970Z"
   },
   {
    "duration": 52,
    "start_time": "2022-06-10T12:07:31.024Z"
   },
   {
    "duration": 40,
    "start_time": "2022-06-10T12:07:31.077Z"
   },
   {
    "duration": 221,
    "start_time": "2022-06-10T12:07:31.118Z"
   },
   {
    "duration": 218,
    "start_time": "2022-06-10T12:07:31.341Z"
   },
   {
    "duration": 353,
    "start_time": "2022-06-10T12:07:31.560Z"
   },
   {
    "duration": 250,
    "start_time": "2022-06-10T12:07:31.914Z"
   },
   {
    "duration": 335,
    "start_time": "2022-06-10T12:07:32.166Z"
   },
   {
    "duration": 227,
    "start_time": "2022-06-10T12:07:32.502Z"
   },
   {
    "duration": 291,
    "start_time": "2022-06-10T12:07:32.731Z"
   },
   {
    "duration": 347,
    "start_time": "2022-06-10T12:07:33.023Z"
   },
   {
    "duration": 324,
    "start_time": "2022-06-10T12:07:33.372Z"
   },
   {
    "duration": 32,
    "start_time": "2022-06-10T12:07:33.697Z"
   },
   {
    "duration": 10,
    "start_time": "2022-06-10T12:07:33.730Z"
   },
   {
    "duration": 8,
    "start_time": "2022-06-10T12:07:33.742Z"
   },
   {
    "duration": 7,
    "start_time": "2022-06-10T12:07:33.752Z"
   },
   {
    "duration": 51,
    "start_time": "2022-06-10T12:07:33.760Z"
   },
   {
    "duration": 11,
    "start_time": "2022-06-10T12:07:33.814Z"
   },
   {
    "duration": 1562,
    "start_time": "2022-06-10T12:32:37.499Z"
   },
   {
    "duration": 75,
    "start_time": "2022-06-10T12:32:39.063Z"
   },
   {
    "duration": 9,
    "start_time": "2022-06-10T12:32:39.140Z"
   },
   {
    "duration": 29,
    "start_time": "2022-06-10T12:32:39.152Z"
   },
   {
    "duration": 145,
    "start_time": "2022-06-10T12:32:39.183Z"
   },
   {
    "duration": 57,
    "start_time": "2022-06-10T12:32:39.331Z"
   },
   {
    "duration": 63,
    "start_time": "2022-06-10T12:32:39.391Z"
   },
   {
    "duration": 439,
    "start_time": "2022-06-10T12:32:39.456Z"
   },
   {
    "duration": 73,
    "start_time": "2022-06-10T12:32:39.898Z"
   },
   {
    "duration": 90,
    "start_time": "2022-06-10T12:32:39.974Z"
   },
   {
    "duration": 71,
    "start_time": "2022-06-10T12:32:40.066Z"
   },
   {
    "duration": 64,
    "start_time": "2022-06-10T12:32:40.139Z"
   },
   {
    "duration": 43,
    "start_time": "2022-06-10T12:32:40.225Z"
   },
   {
    "duration": 283,
    "start_time": "2022-06-10T12:32:40.270Z"
   },
   {
    "duration": 295,
    "start_time": "2022-06-10T12:32:40.555Z"
   },
   {
    "duration": 414,
    "start_time": "2022-06-10T12:32:40.852Z"
   },
   {
    "duration": 291,
    "start_time": "2022-06-10T12:32:41.268Z"
   },
   {
    "duration": 370,
    "start_time": "2022-06-10T12:32:41.561Z"
   },
   {
    "duration": 298,
    "start_time": "2022-06-10T12:32:41.939Z"
   },
   {
    "duration": 376,
    "start_time": "2022-06-10T12:32:42.240Z"
   },
   {
    "duration": 481,
    "start_time": "2022-06-10T12:32:42.618Z"
   },
   {
    "duration": 378,
    "start_time": "2022-06-10T12:32:43.102Z"
   },
   {
    "duration": 47,
    "start_time": "2022-06-10T12:32:43.482Z"
   },
   {
    "duration": 14,
    "start_time": "2022-06-10T12:32:43.532Z"
   },
   {
    "duration": 14,
    "start_time": "2022-06-10T12:32:43.548Z"
   },
   {
    "duration": 11,
    "start_time": "2022-06-10T12:32:43.565Z"
   },
   {
    "duration": 66,
    "start_time": "2022-06-10T12:32:43.578Z"
   },
   {
    "duration": 20,
    "start_time": "2022-06-10T12:32:43.649Z"
   }
  ],
  "kernelspec": {
   "display_name": "Python 3",
   "language": "python",
   "name": "python3"
  },
  "language_info": {
   "codemirror_mode": {
    "name": "ipython",
    "version": 3
   },
   "file_extension": ".py",
   "mimetype": "text/x-python",
   "name": "python",
   "nbconvert_exporter": "python",
   "pygments_lexer": "ipython3",
   "version": "3.8.8"
  },
  "toc": {
   "base_numbering": 1,
   "nav_menu": {},
   "number_sections": true,
   "sideBar": true,
   "skip_h1_title": true,
   "title_cell": "Table of Contents",
   "title_sidebar": "Contents",
   "toc_cell": false,
   "toc_position": {},
   "toc_section_display": true,
   "toc_window_display": true
  }
 },
 "nbformat": 4,
 "nbformat_minor": 2
}
