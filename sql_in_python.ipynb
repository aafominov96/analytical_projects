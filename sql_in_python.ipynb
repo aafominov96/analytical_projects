{
 "cells": [
  {
   "cell_type": "code",
   "execution_count": 1,
   "metadata": {
    "id": "nlZBlglMDWKe"
   },
   "outputs": [],
   "source": [
    "import pandas as pd\n",
    "import matplotlib.pyplot as plt\n",
    "from sqlalchemy import create_engine \n",
    "import seaborn as sns"
   ]
  },
  {
   "cell_type": "markdown",
   "metadata": {
    "id": "XnOE3n28DWKg"
   },
   "source": [
    "### Конфигурация для подключения к базе данных `data-analyst-advanced-sql`\n",
    "База данных содержит схему `stackoverflow`"
   ]
  },
  {
   "cell_type": "code",
   "execution_count": 2,
   "metadata": {
    "id": "6p-yGp7qDWKg"
   },
   "outputs": [],
   "source": [
    "db_config = {\n",
    "    ### private_info\n",
    "}  \n",
    "\n",
    "connection_string = 'postgresql://{}:{}@{}:{}/{}'.format(\n",
    "    db_config['user'],\n",
    "    db_config['pwd'],\n",
    "    db_config['host'],\n",
    "    db_config['port'],\n",
    "    db_config['db'],\n",
    ")"
   ]
  },
  {
   "cell_type": "markdown",
   "metadata": {
    "id": "2Rg8ZpS0DWKh"
   },
   "source": [
    "Создание подключения"
   ]
  },
  {
   "cell_type": "code",
   "execution_count": 3,
   "metadata": {
    "id": "DamCUTR6DWKi"
   },
   "outputs": [],
   "source": [
    "engine = create_engine(connection_string) "
   ]
  },
  {
   "cell_type": "markdown",
   "metadata": {
    "id": "bel8XeSlDWKj"
   },
   "source": [
    "Пример запроса к базе данных\n",
    "\n",
    "`sample_df` является pandas-датафреймом."
   ]
  },
  {
   "cell_type": "code",
   "execution_count": 4,
   "metadata": {
    "id": "6Z_fw0yLDWKk"
   },
   "outputs": [],
   "source": [
    "query = '''\n",
    "SELECT *\n",
    "FROM stackoverflow.users\n",
    "LIMIT 10;\n",
    "'''\n",
    "\n",
    "sample_df = pd.read_sql_query(query, con=engine) "
   ]
  },
  {
   "cell_type": "code",
   "execution_count": 5,
   "metadata": {
    "id": "ZpuZ290oDWKk",
    "outputId": "22785a0a-e2bc-4559-ec3c-4879c4b377eb"
   },
   "outputs": [
    {
     "data": {
      "text/html": [
       "<div>\n",
       "<style scoped>\n",
       "    .dataframe tbody tr th:only-of-type {\n",
       "        vertical-align: middle;\n",
       "    }\n",
       "\n",
       "    .dataframe tbody tr th {\n",
       "        vertical-align: top;\n",
       "    }\n",
       "\n",
       "    .dataframe thead th {\n",
       "        text-align: right;\n",
       "    }\n",
       "</style>\n",
       "<table border=\"1\" class=\"dataframe\">\n",
       "  <thead>\n",
       "    <tr style=\"text-align: right;\">\n",
       "      <th></th>\n",
       "      <th>id</th>\n",
       "      <th>creation_date</th>\n",
       "      <th>display_name</th>\n",
       "      <th>last_access_date</th>\n",
       "      <th>location</th>\n",
       "      <th>reputation</th>\n",
       "      <th>views</th>\n",
       "    </tr>\n",
       "  </thead>\n",
       "  <tbody>\n",
       "    <tr>\n",
       "      <th>0</th>\n",
       "      <td>1</td>\n",
       "      <td>2008-07-31 14:22:31</td>\n",
       "      <td>Jeff Atwood</td>\n",
       "      <td>2018-08-29 02:34:23</td>\n",
       "      <td>El Cerrito, CA</td>\n",
       "      <td>44300</td>\n",
       "      <td>408587</td>\n",
       "    </tr>\n",
       "    <tr>\n",
       "      <th>1</th>\n",
       "      <td>2</td>\n",
       "      <td>2008-07-31 14:22:31</td>\n",
       "      <td>Geoff Dalgas</td>\n",
       "      <td>2018-08-23 17:31:56</td>\n",
       "      <td>Corvallis, OR</td>\n",
       "      <td>3491</td>\n",
       "      <td>23966</td>\n",
       "    </tr>\n",
       "    <tr>\n",
       "      <th>2</th>\n",
       "      <td>3</td>\n",
       "      <td>2008-07-31 14:22:31</td>\n",
       "      <td>Jarrod Dixon</td>\n",
       "      <td>2018-08-30 20:56:24</td>\n",
       "      <td>Raleigh, NC, United States</td>\n",
       "      <td>13418</td>\n",
       "      <td>24396</td>\n",
       "    </tr>\n",
       "    <tr>\n",
       "      <th>3</th>\n",
       "      <td>4</td>\n",
       "      <td>2008-07-31 14:22:31</td>\n",
       "      <td>Joel Spolsky</td>\n",
       "      <td>2018-08-14 22:18:15</td>\n",
       "      <td>New York, NY</td>\n",
       "      <td>28768</td>\n",
       "      <td>73755</td>\n",
       "    </tr>\n",
       "    <tr>\n",
       "      <th>4</th>\n",
       "      <td>5</td>\n",
       "      <td>2008-07-31 14:22:31</td>\n",
       "      <td>Jon Galloway</td>\n",
       "      <td>2018-08-29 16:48:36</td>\n",
       "      <td>San Diego, CA</td>\n",
       "      <td>39172</td>\n",
       "      <td>11700</td>\n",
       "    </tr>\n",
       "    <tr>\n",
       "      <th>5</th>\n",
       "      <td>8</td>\n",
       "      <td>2008-07-31 21:33:24</td>\n",
       "      <td>Eggs McLaren</td>\n",
       "      <td>2018-04-09 02:04:56</td>\n",
       "      <td>None</td>\n",
       "      <td>942</td>\n",
       "      <td>6372</td>\n",
       "    </tr>\n",
       "    <tr>\n",
       "      <th>6</th>\n",
       "      <td>9</td>\n",
       "      <td>2008-07-31 21:35:27</td>\n",
       "      <td>Kevin Dente</td>\n",
       "      <td>2018-08-30 18:18:03</td>\n",
       "      <td>Oakland, CA</td>\n",
       "      <td>14337</td>\n",
       "      <td>4949</td>\n",
       "    </tr>\n",
       "    <tr>\n",
       "      <th>7</th>\n",
       "      <td>11</td>\n",
       "      <td>2008-08-01 00:59:11</td>\n",
       "      <td>Anonymous User</td>\n",
       "      <td>2008-08-01 00:59:11</td>\n",
       "      <td>None</td>\n",
       "      <td>1890</td>\n",
       "      <td>2123</td>\n",
       "    </tr>\n",
       "    <tr>\n",
       "      <th>8</th>\n",
       "      <td>13</td>\n",
       "      <td>2008-08-01 04:18:05</td>\n",
       "      <td>Chris Jester-Young</td>\n",
       "      <td>2018-08-30 02:47:23</td>\n",
       "      <td>Raleigh, NC, United States</td>\n",
       "      <td>177138</td>\n",
       "      <td>35414</td>\n",
       "    </tr>\n",
       "    <tr>\n",
       "      <th>9</th>\n",
       "      <td>17</td>\n",
       "      <td>2008-08-01 12:02:22</td>\n",
       "      <td>Nick Berardi</td>\n",
       "      <td>2018-01-22 01:35:38</td>\n",
       "      <td>Issaquah, WA</td>\n",
       "      <td>44443</td>\n",
       "      <td>4786</td>\n",
       "    </tr>\n",
       "  </tbody>\n",
       "</table>\n",
       "</div>"
      ],
      "text/plain": [
       "   id       creation_date        display_name    last_access_date  \\\n",
       "0   1 2008-07-31 14:22:31         Jeff Atwood 2018-08-29 02:34:23   \n",
       "1   2 2008-07-31 14:22:31        Geoff Dalgas 2018-08-23 17:31:56   \n",
       "2   3 2008-07-31 14:22:31        Jarrod Dixon 2018-08-30 20:56:24   \n",
       "3   4 2008-07-31 14:22:31        Joel Spolsky 2018-08-14 22:18:15   \n",
       "4   5 2008-07-31 14:22:31        Jon Galloway 2018-08-29 16:48:36   \n",
       "5   8 2008-07-31 21:33:24        Eggs McLaren 2018-04-09 02:04:56   \n",
       "6   9 2008-07-31 21:35:27         Kevin Dente 2018-08-30 18:18:03   \n",
       "7  11 2008-08-01 00:59:11      Anonymous User 2008-08-01 00:59:11   \n",
       "8  13 2008-08-01 04:18:05  Chris Jester-Young 2018-08-30 02:47:23   \n",
       "9  17 2008-08-01 12:02:22        Nick Berardi 2018-01-22 01:35:38   \n",
       "\n",
       "                     location  reputation   views  \n",
       "0              El Cerrito, CA       44300  408587  \n",
       "1               Corvallis, OR        3491   23966  \n",
       "2  Raleigh, NC, United States       13418   24396  \n",
       "3                New York, NY       28768   73755  \n",
       "4               San Diego, CA       39172   11700  \n",
       "5                        None         942    6372  \n",
       "6                 Oakland, CA       14337    4949  \n",
       "7                        None        1890    2123  \n",
       "8  Raleigh, NC, United States      177138   35414  \n",
       "9                Issaquah, WA       44443    4786  "
      ]
     },
     "execution_count": 5,
     "metadata": {},
     "output_type": "execute_result"
    }
   ],
   "source": [
    "sample_df"
   ]
  },
  {
   "cell_type": "markdown",
   "metadata": {
    "id": "gnBMXkDBDWKm"
   },
   "source": [
    "# Задание 1"
   ]
  },
  {
   "cell_type": "markdown",
   "metadata": {
    "id": "vHsfOrrNDWKn"
   },
   "source": [
    "Выведите общую сумму просмотров постов за каждый месяц 2008 года. Если данных за какой-либо месяц в базе нет, такой месяц можно пропустить. Результат отсортируйте по убыванию общего количества просмотров."
   ]
  },
  {
   "cell_type": "code",
   "execution_count": 6,
   "metadata": {
    "id": "eWvykcXTDWKo"
   },
   "outputs": [
    {
     "data": {
      "text/html": [
       "<div>\n",
       "<style scoped>\n",
       "    .dataframe tbody tr th:only-of-type {\n",
       "        vertical-align: middle;\n",
       "    }\n",
       "\n",
       "    .dataframe tbody tr th {\n",
       "        vertical-align: top;\n",
       "    }\n",
       "\n",
       "    .dataframe thead th {\n",
       "        text-align: right;\n",
       "    }\n",
       "</style>\n",
       "<table border=\"1\" class=\"dataframe\">\n",
       "  <thead>\n",
       "    <tr style=\"text-align: right;\">\n",
       "      <th></th>\n",
       "      <th>month_date</th>\n",
       "      <th>total_views</th>\n",
       "    </tr>\n",
       "  </thead>\n",
       "  <tbody>\n",
       "    <tr>\n",
       "      <th>0</th>\n",
       "      <td>2008-09-01</td>\n",
       "      <td>452928568</td>\n",
       "    </tr>\n",
       "    <tr>\n",
       "      <th>1</th>\n",
       "      <td>2008-10-01</td>\n",
       "      <td>365400138</td>\n",
       "    </tr>\n",
       "    <tr>\n",
       "      <th>2</th>\n",
       "      <td>2008-11-01</td>\n",
       "      <td>221759651</td>\n",
       "    </tr>\n",
       "    <tr>\n",
       "      <th>3</th>\n",
       "      <td>2008-12-01</td>\n",
       "      <td>197792841</td>\n",
       "    </tr>\n",
       "    <tr>\n",
       "      <th>4</th>\n",
       "      <td>2008-08-01</td>\n",
       "      <td>131367083</td>\n",
       "    </tr>\n",
       "    <tr>\n",
       "      <th>5</th>\n",
       "      <td>2008-07-01</td>\n",
       "      <td>669895</td>\n",
       "    </tr>\n",
       "  </tbody>\n",
       "</table>\n",
       "</div>"
      ],
      "text/plain": [
       "   month_date  total_views\n",
       "0  2008-09-01    452928568\n",
       "1  2008-10-01    365400138\n",
       "2  2008-11-01    221759651\n",
       "3  2008-12-01    197792841\n",
       "4  2008-08-01    131367083\n",
       "5  2008-07-01       669895"
      ]
     },
     "execution_count": 6,
     "metadata": {},
     "output_type": "execute_result"
    }
   ],
   "source": [
    "# напишите запрос\n",
    "query = '''\n",
    "SELECT\n",
    "    DATE_TRUNC('month', creation_date)::date as month_date,\n",
    "    SUM(views_count) as total_views\n",
    "FROM stackoverflow.posts\n",
    "WHERE EXTRACT(YEAR FROM creation_date) = 2008\n",
    "GROUP BY 1\n",
    "ORDER BY 2 DESC;\n",
    "'''\n",
    "\n",
    "ex1 = pd.read_sql_query(query, engine)\n",
    "ex1"
   ]
  },
  {
   "cell_type": "code",
   "execution_count": 7,
   "metadata": {
    "id": "luxSj17oDWKq"
   },
   "outputs": [
    {
     "data": {
      "image/png": "[encoded data removed]",
      "text/plain": [
       "<Figure size 432x288 with 1 Axes>"
      ]
     },
     "metadata": {
      "needs_background": "light"
     },
     "output_type": "display_data"
    }
   ],
   "source": [
    "ex1.plot(x='month_date', y='total_views', grid=True);\n",
    "plt.xlabel('Месяц');\n",
    "plt.ylabel('Количество просмотров');\n",
    "plt.title('Количество просмотров по месяцам');"
   ]
  },
  {
   "cell_type": "markdown",
   "metadata": {},
   "source": [
    "**Вывод**:\n",
    "\n",
    "Количество просмотров постепенно возрастает, начиная с июня, пик приходится на сентябрь, после чего наблюдается спад. \n",
    "\n",
    "Пик количества просмотров, вполне вероятно, можно связать с выходом каких-то серьезных обновлений и пользователи стали задавать больше вопросов по новому софту.\n",
    "\n",
    "В качестве возможной причины можно также предположить, что лето - время отпусков, поэтому просмотров в это время меньше, как следствие, после окончания отпусков, количество просмотров возрастает и потом постепенно выходит на какое-то среднее значение."
   ]
  },
  {
   "cell_type": "markdown",
   "metadata": {
    "id": "FziIXkn5DWKr"
   },
   "source": [
    "# Задание 2"
   ]
  },
  {
   "cell_type": "markdown",
   "metadata": {
    "id": "fTGESZvYDWKr"
   },
   "source": [
    "Выведите имена самых активных пользователей, которые в первый месяц после регистрации (включая день регистрации) дали больше 100 ответов. Вопросы, которые задавали пользователи, не учитывайте. Для каждого имени пользователя выведите количество уникальных значений `user_id`. Отсортируйте результат по полю с именами в лексикографическом порядке."
   ]
  },
  {
   "cell_type": "code",
   "execution_count": 8,
   "metadata": {
    "id": "fIO-y-YjDWKt"
   },
   "outputs": [
    {
     "data": {
      "text/html": [
       "<div>\n",
       "<style scoped>\n",
       "    .dataframe tbody tr th:only-of-type {\n",
       "        vertical-align: middle;\n",
       "    }\n",
       "\n",
       "    .dataframe tbody tr th {\n",
       "        vertical-align: top;\n",
       "    }\n",
       "\n",
       "    .dataframe thead th {\n",
       "        text-align: right;\n",
       "    }\n",
       "</style>\n",
       "<table border=\"1\" class=\"dataframe\">\n",
       "  <thead>\n",
       "    <tr style=\"text-align: right;\">\n",
       "      <th></th>\n",
       "      <th>display_name</th>\n",
       "      <th>count</th>\n",
       "    </tr>\n",
       "  </thead>\n",
       "  <tbody>\n",
       "    <tr>\n",
       "      <th>0</th>\n",
       "      <td>1800 INFORMATION</td>\n",
       "      <td>1</td>\n",
       "    </tr>\n",
       "    <tr>\n",
       "      <th>1</th>\n",
       "      <td>Adam Bellaire</td>\n",
       "      <td>1</td>\n",
       "    </tr>\n",
       "    <tr>\n",
       "      <th>2</th>\n",
       "      <td>Adam Davis</td>\n",
       "      <td>1</td>\n",
       "    </tr>\n",
       "    <tr>\n",
       "      <th>3</th>\n",
       "      <td>Adam Liss</td>\n",
       "      <td>1</td>\n",
       "    </tr>\n",
       "    <tr>\n",
       "      <th>4</th>\n",
       "      <td>Alan</td>\n",
       "      <td>8</td>\n",
       "    </tr>\n",
       "    <tr>\n",
       "      <th>5</th>\n",
       "      <td>Amy B</td>\n",
       "      <td>1</td>\n",
       "    </tr>\n",
       "    <tr>\n",
       "      <th>6</th>\n",
       "      <td>Ben Hoffstein</td>\n",
       "      <td>1</td>\n",
       "    </tr>\n",
       "    <tr>\n",
       "      <th>7</th>\n",
       "      <td>Brian</td>\n",
       "      <td>15</td>\n",
       "    </tr>\n",
       "    <tr>\n",
       "      <th>8</th>\n",
       "      <td>Cade Roux</td>\n",
       "      <td>1</td>\n",
       "    </tr>\n",
       "    <tr>\n",
       "      <th>9</th>\n",
       "      <td>CesarB</td>\n",
       "      <td>1</td>\n",
       "    </tr>\n",
       "    <tr>\n",
       "      <th>10</th>\n",
       "      <td>Chris</td>\n",
       "      <td>29</td>\n",
       "    </tr>\n",
       "    <tr>\n",
       "      <th>11</th>\n",
       "      <td>ConcernedOfTunbridgeWells</td>\n",
       "      <td>1</td>\n",
       "    </tr>\n",
       "    <tr>\n",
       "      <th>12</th>\n",
       "      <td>Craig</td>\n",
       "      <td>10</td>\n",
       "    </tr>\n",
       "    <tr>\n",
       "      <th>13</th>\n",
       "      <td>Dale Ragan</td>\n",
       "      <td>1</td>\n",
       "    </tr>\n",
       "    <tr>\n",
       "      <th>14</th>\n",
       "      <td>Dan</td>\n",
       "      <td>21</td>\n",
       "    </tr>\n",
       "    <tr>\n",
       "      <th>15</th>\n",
       "      <td>Eric Z Beard</td>\n",
       "      <td>1</td>\n",
       "    </tr>\n",
       "    <tr>\n",
       "      <th>16</th>\n",
       "      <td>Espo</td>\n",
       "      <td>1</td>\n",
       "    </tr>\n",
       "    <tr>\n",
       "      <th>17</th>\n",
       "      <td>FlySwat</td>\n",
       "      <td>1</td>\n",
       "    </tr>\n",
       "    <tr>\n",
       "      <th>18</th>\n",
       "      <td>Franci Penov</td>\n",
       "      <td>1</td>\n",
       "    </tr>\n",
       "    <tr>\n",
       "      <th>19</th>\n",
       "      <td>GEOCHET</td>\n",
       "      <td>1</td>\n",
       "    </tr>\n",
       "    <tr>\n",
       "      <th>20</th>\n",
       "      <td>GateKiller</td>\n",
       "      <td>1</td>\n",
       "    </tr>\n",
       "    <tr>\n",
       "      <th>21</th>\n",
       "      <td>Greg</td>\n",
       "      <td>12</td>\n",
       "    </tr>\n",
       "    <tr>\n",
       "      <th>22</th>\n",
       "      <td>Gulzar Nazim</td>\n",
       "      <td>1</td>\n",
       "    </tr>\n",
       "    <tr>\n",
       "      <th>23</th>\n",
       "      <td>Ilya Kochetov</td>\n",
       "      <td>1</td>\n",
       "    </tr>\n",
       "    <tr>\n",
       "      <th>24</th>\n",
       "      <td>James Curran</td>\n",
       "      <td>1</td>\n",
       "    </tr>\n",
       "    <tr>\n",
       "      <th>25</th>\n",
       "      <td>Jim</td>\n",
       "      <td>7</td>\n",
       "    </tr>\n",
       "    <tr>\n",
       "      <th>26</th>\n",
       "      <td>Joe</td>\n",
       "      <td>9</td>\n",
       "    </tr>\n",
       "    <tr>\n",
       "      <th>27</th>\n",
       "      <td>Joel Coehoorn</td>\n",
       "      <td>1</td>\n",
       "    </tr>\n",
       "    <tr>\n",
       "      <th>28</th>\n",
       "      <td>Johannes Schaub - litb</td>\n",
       "      <td>1</td>\n",
       "    </tr>\n",
       "    <tr>\n",
       "      <th>29</th>\n",
       "      <td>John Millikin</td>\n",
       "      <td>1</td>\n",
       "    </tr>\n",
       "  </tbody>\n",
       "</table>\n",
       "</div>"
      ],
      "text/plain": [
       "                 display_name  count\n",
       "0            1800 INFORMATION      1\n",
       "1               Adam Bellaire      1\n",
       "2                  Adam Davis      1\n",
       "3                   Adam Liss      1\n",
       "4                        Alan      8\n",
       "5                       Amy B      1\n",
       "6               Ben Hoffstein      1\n",
       "7                       Brian     15\n",
       "8                   Cade Roux      1\n",
       "9                      CesarB      1\n",
       "10                      Chris     29\n",
       "11  ConcernedOfTunbridgeWells      1\n",
       "12                      Craig     10\n",
       "13                 Dale Ragan      1\n",
       "14                        Dan     21\n",
       "15               Eric Z Beard      1\n",
       "16                       Espo      1\n",
       "17                    FlySwat      1\n",
       "18               Franci Penov      1\n",
       "19                    GEOCHET      1\n",
       "20                 GateKiller      1\n",
       "21                       Greg     12\n",
       "22               Gulzar Nazim      1\n",
       "23              Ilya Kochetov      1\n",
       "24               James Curran      1\n",
       "25                        Jim      7\n",
       "26                        Joe      9\n",
       "27              Joel Coehoorn      1\n",
       "28     Johannes Schaub - litb      1\n",
       "29              John Millikin      1"
      ]
     },
     "execution_count": 8,
     "metadata": {},
     "output_type": "execute_result"
    }
   ],
   "source": [
    "# напишите запрос\n",
    "query = '''\n",
    "SELECT\n",
    "    us.display_name,\n",
    "    COUNT(distinct post.user_id)\n",
    "FROM stackoverflow.posts post\n",
    "INNER JOIN stackoverflow.post_types ptype\n",
    "    ON post.post_type_id = ptype.id\n",
    "    AND ptype.type = 'Answer'\n",
    "INNER JOIN stackoverflow.users us\n",
    "    ON post.user_id = us.id\n",
    "WHERE post.creation_date::date BETWEEN us.creation_date::date AND us.creation_date::date + INTERVAL '1 month'\n",
    "GROUP BY 1\n",
    "HAVING COUNT(distinct post.id) > 100\n",
    "ORDER BY 1 ASC\n",
    "'''\n",
    "\n",
    "ex2 = pd.read_sql_query(query, engine)\n",
    "ex2.head(30)"
   ]
  },
  {
   "cell_type": "markdown",
   "metadata": {
    "id": "CEIGGQ6ODWKy"
   },
   "source": [
    "**Вывод**:\n",
    "\n",
    "Можно предположить, что изменение user_id в рамках одного имени пользователя может быть связано с техническими особенностями Stackoverflow, например при изменении каких-либо данных в профиле, аккаунту назначается новый user_id. Второй вариант, пользовательский профиль однозначно идентифицируется не только по user_id, а, возможно, имеется еще какой-нибудь атрибут. Третий, но маловероятный вариант - отсутствие запрета регистрироваться под уже существующим именем."
   ]
  },
  {
   "cell_type": "markdown",
   "metadata": {
    "id": "JhM2xXj5DWKu"
   },
   "source": [
    "# Задание 3"
   ]
  },
  {
   "cell_type": "markdown",
   "metadata": {
    "id": "IS6xPqyyDWKu"
   },
   "source": [
    "Выведите количество постов за 2008 год по месяцам. Отберите посты от пользователей, которые зарегистрировались в сентябре 2008 года и сделали хотя бы один пост в декабре того же года. Отсортируйте таблицу по значению месяца по убыванию."
   ]
  },
  {
   "cell_type": "code",
   "execution_count": 9,
   "metadata": {
    "id": "kVu0FB8WDWKv"
   },
   "outputs": [
    {
     "data": {
      "text/html": [
       "<div>\n",
       "<style scoped>\n",
       "    .dataframe tbody tr th:only-of-type {\n",
       "        vertical-align: middle;\n",
       "    }\n",
       "\n",
       "    .dataframe tbody tr th {\n",
       "        vertical-align: top;\n",
       "    }\n",
       "\n",
       "    .dataframe thead th {\n",
       "        text-align: right;\n",
       "    }\n",
       "</style>\n",
       "<table border=\"1\" class=\"dataframe\">\n",
       "  <thead>\n",
       "    <tr style=\"text-align: right;\">\n",
       "      <th></th>\n",
       "      <th>month</th>\n",
       "      <th>count</th>\n",
       "    </tr>\n",
       "  </thead>\n",
       "  <tbody>\n",
       "    <tr>\n",
       "      <th>0</th>\n",
       "      <td>2008-12-01</td>\n",
       "      <td>17641</td>\n",
       "    </tr>\n",
       "    <tr>\n",
       "      <th>1</th>\n",
       "      <td>2008-11-01</td>\n",
       "      <td>18294</td>\n",
       "    </tr>\n",
       "    <tr>\n",
       "      <th>2</th>\n",
       "      <td>2008-10-01</td>\n",
       "      <td>27171</td>\n",
       "    </tr>\n",
       "    <tr>\n",
       "      <th>3</th>\n",
       "      <td>2008-09-01</td>\n",
       "      <td>24870</td>\n",
       "    </tr>\n",
       "    <tr>\n",
       "      <th>4</th>\n",
       "      <td>2008-08-01</td>\n",
       "      <td>32</td>\n",
       "    </tr>\n",
       "  </tbody>\n",
       "</table>\n",
       "</div>"
      ],
      "text/plain": [
       "        month  count\n",
       "0  2008-12-01  17641\n",
       "1  2008-11-01  18294\n",
       "2  2008-10-01  27171\n",
       "3  2008-09-01  24870\n",
       "4  2008-08-01     32"
      ]
     },
     "execution_count": 9,
     "metadata": {},
     "output_type": "execute_result"
    }
   ],
   "source": [
    "# напишите запрос\n",
    "query = '''\n",
    "WITH t1 AS(\n",
    "    SELECT\n",
    "        us.id\n",
    "    FROM stackoverflow.users us\n",
    "    INNER JOIN stackoverflow.posts p\n",
    "        ON us.id = p.user_id\n",
    "        AND EXTRACT(MONTH FROM p.creation_date) = 12\n",
    "    WHERE EXTRACT(MONTH FROM us.creation_date) = 9\n",
    "    GROUP BY 1\n",
    ")\n",
    "SELECT\n",
    "    DATE_TRUNC('month', p.creation_date)::date AS \"month\",\n",
    "    COUNT(p.id)\n",
    "FROM stackoverflow.posts p\n",
    "INNER JOIN t1\n",
    "    ON p.user_id = t1.id\n",
    "GROUP BY 1\n",
    "ORDER BY 1 DESC\n",
    "'''\n",
    "\n",
    "ex3 = pd.read_sql_query(query, engine)\n",
    "ex3"
   ]
  },
  {
   "cell_type": "markdown",
   "metadata": {
    "id": "MMVIz4yMlKpN"
   },
   "source": [
    "В итоговый результат не должен был попасть август 2008 года, так как мы заведомо рассматривает пользователей, которые зарегистрированы, начиная с сентября. Проверим, почему так получилось:"
   ]
  },
  {
   "cell_type": "code",
   "execution_count": 10,
   "metadata": {},
   "outputs": [
    {
     "data": {
      "text/html": [
       "<div>\n",
       "<style scoped>\n",
       "    .dataframe tbody tr th:only-of-type {\n",
       "        vertical-align: middle;\n",
       "    }\n",
       "\n",
       "    .dataframe tbody tr th {\n",
       "        vertical-align: top;\n",
       "    }\n",
       "\n",
       "    .dataframe thead th {\n",
       "        text-align: right;\n",
       "    }\n",
       "</style>\n",
       "<table border=\"1\" class=\"dataframe\">\n",
       "  <thead>\n",
       "    <tr style=\"text-align: right;\">\n",
       "      <th></th>\n",
       "      <th>id</th>\n",
       "      <th>title</th>\n",
       "      <th>creation_date</th>\n",
       "      <th>favorites_count</th>\n",
       "      <th>last_activity_date</th>\n",
       "      <th>last_edit_date</th>\n",
       "      <th>user_id</th>\n",
       "      <th>parent_id</th>\n",
       "      <th>post_type_id</th>\n",
       "      <th>score</th>\n",
       "      <th>views_count</th>\n",
       "    </tr>\n",
       "  </thead>\n",
       "  <tbody>\n",
       "    <tr>\n",
       "      <th>0</th>\n",
       "      <td>8807</td>\n",
       "      <td>Cannot add WebViewer of ActiveReports to an AS...</td>\n",
       "      <td>2008-08-12 13:15:47</td>\n",
       "      <td>0</td>\n",
       "      <td>2012-08-11 15:32:05.283</td>\n",
       "      <td>2012-08-11 15:32:05</td>\n",
       "      <td>31505</td>\n",
       "      <td>0</td>\n",
       "      <td>1</td>\n",
       "      <td>2</td>\n",
       "      <td>970</td>\n",
       "    </tr>\n",
       "    <tr>\n",
       "      <th>1</th>\n",
       "      <td>8876</td>\n",
       "      <td>Evidence Based Scheduling Tool</td>\n",
       "      <td>2008-08-12 14:16:42</td>\n",
       "      <td>8</td>\n",
       "      <td>2013-09-27 20:20:26.243</td>\n",
       "      <td>2013-09-27 20:20:26</td>\n",
       "      <td>31505</td>\n",
       "      <td>0</td>\n",
       "      <td>1</td>\n",
       "      <td>30</td>\n",
       "      <td>2722</td>\n",
       "    </tr>\n",
       "    <tr>\n",
       "      <th>2</th>\n",
       "      <td>8899</td>\n",
       "      <td>None</td>\n",
       "      <td>2008-08-12 14:39:20</td>\n",
       "      <td>0</td>\n",
       "      <td>2008-08-12 14:39:20.040</td>\n",
       "      <td>NaT</td>\n",
       "      <td>31505</td>\n",
       "      <td>8807</td>\n",
       "      <td>2</td>\n",
       "      <td>2</td>\n",
       "      <td>0</td>\n",
       "    </tr>\n",
       "    <tr>\n",
       "      <th>3</th>\n",
       "      <td>9033</td>\n",
       "      <td>Hidden Features of C#?</td>\n",
       "      <td>2008-08-12 16:32:25</td>\n",
       "      <td>5302</td>\n",
       "      <td>2017-09-25 20:53:48.090</td>\n",
       "      <td>2017-09-25 20:53:48</td>\n",
       "      <td>31505</td>\n",
       "      <td>0</td>\n",
       "      <td>1</td>\n",
       "      <td>1476</td>\n",
       "      <td>618901</td>\n",
       "    </tr>\n",
       "    <tr>\n",
       "      <th>4</th>\n",
       "      <td>9049</td>\n",
       "      <td>None</td>\n",
       "      <td>2008-08-12 17:00:35</td>\n",
       "      <td>0</td>\n",
       "      <td>2008-08-12 17:00:35.060</td>\n",
       "      <td>NaT</td>\n",
       "      <td>31505</td>\n",
       "      <td>5916</td>\n",
       "      <td>2</td>\n",
       "      <td>2</td>\n",
       "      <td>0</td>\n",
       "    </tr>\n",
       "  </tbody>\n",
       "</table>\n",
       "</div>"
      ],
      "text/plain": [
       "     id                                              title  \\\n",
       "0  8807  Cannot add WebViewer of ActiveReports to an AS...   \n",
       "1  8876                     Evidence Based Scheduling Tool   \n",
       "2  8899                                               None   \n",
       "3  9033                             Hidden Features of C#?   \n",
       "4  9049                                               None   \n",
       "\n",
       "        creation_date  favorites_count       last_activity_date  \\\n",
       "0 2008-08-12 13:15:47                0  2012-08-11 15:32:05.283   \n",
       "1 2008-08-12 14:16:42                8  2013-09-27 20:20:26.243   \n",
       "2 2008-08-12 14:39:20                0  2008-08-12 14:39:20.040   \n",
       "3 2008-08-12 16:32:25             5302  2017-09-25 20:53:48.090   \n",
       "4 2008-08-12 17:00:35                0  2008-08-12 17:00:35.060   \n",
       "\n",
       "       last_edit_date  user_id  parent_id  post_type_id  score  views_count  \n",
       "0 2012-08-11 15:32:05    31505          0             1      2          970  \n",
       "1 2013-09-27 20:20:26    31505          0             1     30         2722  \n",
       "2                 NaT    31505       8807             2      2            0  \n",
       "3 2017-09-25 20:53:48    31505          0             1   1476       618901  \n",
       "4                 NaT    31505       5916             2      2            0  "
      ]
     },
     "metadata": {},
     "output_type": "display_data"
    },
    {
     "data": {
      "text/html": [
       "<div>\n",
       "<style scoped>\n",
       "    .dataframe tbody tr th:only-of-type {\n",
       "        vertical-align: middle;\n",
       "    }\n",
       "\n",
       "    .dataframe tbody tr th {\n",
       "        vertical-align: top;\n",
       "    }\n",
       "\n",
       "    .dataframe thead th {\n",
       "        text-align: right;\n",
       "    }\n",
       "</style>\n",
       "<table border=\"1\" class=\"dataframe\">\n",
       "  <thead>\n",
       "    <tr style=\"text-align: right;\">\n",
       "      <th></th>\n",
       "      <th>id</th>\n",
       "      <th>creation_date</th>\n",
       "      <th>display_name</th>\n",
       "      <th>last_access_date</th>\n",
       "      <th>location</th>\n",
       "      <th>reputation</th>\n",
       "      <th>views</th>\n",
       "    </tr>\n",
       "  </thead>\n",
       "  <tbody>\n",
       "    <tr>\n",
       "      <th>0</th>\n",
       "      <td>31505</td>\n",
       "      <td>2008-09-01</td>\n",
       "      <td>Serhat Ozgel</td>\n",
       "      <td>2018-08-31 14:18:10</td>\n",
       "      <td>Istanbul, Turkey</td>\n",
       "      <td>13622</td>\n",
       "      <td>2568</td>\n",
       "    </tr>\n",
       "  </tbody>\n",
       "</table>\n",
       "</div>"
      ],
      "text/plain": [
       "      id creation_date  display_name    last_access_date          location  \\\n",
       "0  31505    2008-09-01  Serhat Ozgel 2018-08-31 14:18:10  Istanbul, Turkey   \n",
       "\n",
       "   reputation  views  \n",
       "0       13622   2568  "
      ]
     },
     "metadata": {},
     "output_type": "display_data"
    }
   ],
   "source": [
    "query = '''\n",
    "WITH t1 AS(\n",
    "    SELECT\n",
    "        us.id\n",
    "    FROM stackoverflow.users us\n",
    "    INNER JOIN stackoverflow.posts p\n",
    "        ON us.id = p.user_id\n",
    "        AND EXTRACT(MONTH FROM p.creation_date) = 12\n",
    "    WHERE EXTRACT(MONTH FROM us.creation_date) = 9\n",
    "    GROUP BY 1\n",
    ")\n",
    "SELECT\n",
    "    p.*\n",
    "FROM stackoverflow.posts p\n",
    "INNER JOIN t1\n",
    "    ON p.user_id = t1.id\n",
    "WHERE EXTRACT(MONTH FROM p.creation_date) = 8\n",
    "'''\n",
    "\n",
    "ex3_1 = pd.read_sql_query(query, engine)\n",
    "display(ex3_1.head())\n",
    "\n",
    "query = '''\n",
    "SELECT *\n",
    "FROM stackoverflow.users\n",
    "WHERE id = 31505\n",
    "'''\n",
    "ex3_2 = pd.read_sql_query(query, engine)\n",
    "display(ex3_2.head())"
   ]
  },
  {
   "cell_type": "markdown",
   "metadata": {},
   "source": [
    "**Вывод**:\n",
    "\n",
    "Действительно, данный user_id соответствует условиям, однако существует какая-то техническая ошибка, которая присвоила данный user_id более ранним постам. Проблему в результате можно решить, добавив дополнительное условие в основной запрос."
   ]
  },
  {
   "cell_type": "markdown",
   "metadata": {
    "id": "5Pcizm0DDWKz"
   },
   "source": [
    "# Задание 4"
   ]
  },
  {
   "cell_type": "markdown",
   "metadata": {
    "id": "KUZPF6vHDWKz"
   },
   "source": [
    "Используя данные о постах, выведите несколько полей:\n",
    "\n",
    "- идентификатор пользователя, который написал пост;\n",
    "- дата создания поста;\n",
    "- количество просмотров у текущего поста;\n",
    "- сумму просмотров постов автора с накоплением.\n",
    "\n",
    "Данные в таблице должны быть отсортированы по возрастанию идентификаторов пользователей, а данные об одном и том же пользователе — по возрастанию даты создания поста."
   ]
  },
  {
   "cell_type": "code",
   "execution_count": 11,
   "metadata": {
    "id": "hDoJhMzfDWK0"
   },
   "outputs": [
    {
     "data": {
      "text/html": [
       "<div>\n",
       "<style scoped>\n",
       "    .dataframe tbody tr th:only-of-type {\n",
       "        vertical-align: middle;\n",
       "    }\n",
       "\n",
       "    .dataframe tbody tr th {\n",
       "        vertical-align: top;\n",
       "    }\n",
       "\n",
       "    .dataframe thead th {\n",
       "        text-align: right;\n",
       "    }\n",
       "</style>\n",
       "<table border=\"1\" class=\"dataframe\">\n",
       "  <thead>\n",
       "    <tr style=\"text-align: right;\">\n",
       "      <th></th>\n",
       "      <th>user_id</th>\n",
       "      <th>creation_date</th>\n",
       "      <th>views_count</th>\n",
       "      <th>cumulative_count</th>\n",
       "    </tr>\n",
       "  </thead>\n",
       "  <tbody>\n",
       "    <tr>\n",
       "      <th>0</th>\n",
       "      <td>1</td>\n",
       "      <td>2008-07-31 23:41:00</td>\n",
       "      <td>480476</td>\n",
       "      <td>480476</td>\n",
       "    </tr>\n",
       "    <tr>\n",
       "      <th>1</th>\n",
       "      <td>1</td>\n",
       "      <td>2008-07-31 23:55:38</td>\n",
       "      <td>136033</td>\n",
       "      <td>616509</td>\n",
       "    </tr>\n",
       "    <tr>\n",
       "      <th>2</th>\n",
       "      <td>1</td>\n",
       "      <td>2008-07-31 23:56:41</td>\n",
       "      <td>0</td>\n",
       "      <td>616509</td>\n",
       "    </tr>\n",
       "    <tr>\n",
       "      <th>3</th>\n",
       "      <td>1</td>\n",
       "      <td>2008-08-04 02:45:08</td>\n",
       "      <td>0</td>\n",
       "      <td>616509</td>\n",
       "    </tr>\n",
       "    <tr>\n",
       "      <th>4</th>\n",
       "      <td>1</td>\n",
       "      <td>2008-08-04 04:31:03</td>\n",
       "      <td>0</td>\n",
       "      <td>616509</td>\n",
       "    </tr>\n",
       "    <tr>\n",
       "      <th>...</th>\n",
       "      <td>...</td>\n",
       "      <td>...</td>\n",
       "      <td>...</td>\n",
       "      <td>...</td>\n",
       "    </tr>\n",
       "    <tr>\n",
       "      <th>243791</th>\n",
       "      <td>5696608</td>\n",
       "      <td>2008-12-23 16:00:37</td>\n",
       "      <td>0</td>\n",
       "      <td>2804</td>\n",
       "    </tr>\n",
       "    <tr>\n",
       "      <th>243792</th>\n",
       "      <td>5696608</td>\n",
       "      <td>2008-12-23 17:35:09</td>\n",
       "      <td>0</td>\n",
       "      <td>2804</td>\n",
       "    </tr>\n",
       "    <tr>\n",
       "      <th>243793</th>\n",
       "      <td>5696608</td>\n",
       "      <td>2008-12-24 01:02:48</td>\n",
       "      <td>0</td>\n",
       "      <td>2804</td>\n",
       "    </tr>\n",
       "    <tr>\n",
       "      <th>243794</th>\n",
       "      <td>5696608</td>\n",
       "      <td>2008-12-30 14:34:45</td>\n",
       "      <td>0</td>\n",
       "      <td>2804</td>\n",
       "    </tr>\n",
       "    <tr>\n",
       "      <th>243795</th>\n",
       "      <td>5696608</td>\n",
       "      <td>2008-12-30 16:32:12</td>\n",
       "      <td>0</td>\n",
       "      <td>2804</td>\n",
       "    </tr>\n",
       "  </tbody>\n",
       "</table>\n",
       "<p>243796 rows × 4 columns</p>\n",
       "</div>"
      ],
      "text/plain": [
       "        user_id       creation_date  views_count  cumulative_count\n",
       "0             1 2008-07-31 23:41:00       480476            480476\n",
       "1             1 2008-07-31 23:55:38       136033            616509\n",
       "2             1 2008-07-31 23:56:41            0            616509\n",
       "3             1 2008-08-04 02:45:08            0            616509\n",
       "4             1 2008-08-04 04:31:03            0            616509\n",
       "...         ...                 ...          ...               ...\n",
       "243791  5696608 2008-12-23 16:00:37            0              2804\n",
       "243792  5696608 2008-12-23 17:35:09            0              2804\n",
       "243793  5696608 2008-12-24 01:02:48            0              2804\n",
       "243794  5696608 2008-12-30 14:34:45            0              2804\n",
       "243795  5696608 2008-12-30 16:32:12            0              2804\n",
       "\n",
       "[243796 rows x 4 columns]"
      ]
     },
     "execution_count": 11,
     "metadata": {},
     "output_type": "execute_result"
    }
   ],
   "source": [
    "# напишите запрос\n",
    "query = '''\n",
    "SELECT\n",
    "    user_id,\n",
    "    creation_date,\n",
    "    views_count,\n",
    "    SUM(views_count) OVER \n",
    "        (PARTITION BY user_id ORDER BY creation_date ASC ROWS BETWEEN UNBOUNDED PRECEDING AND CURRENT ROW) AS cumulative_count\n",
    "FROM stackoverflow.posts\n",
    "'''\n",
    "\n",
    "ex4 = pd.read_sql_query(query, engine)\n",
    "ex4"
   ]
  },
  {
   "cell_type": "markdown",
   "metadata": {
    "id": "N0kHRHvIDWK2"
   },
   "source": [
    "# Задание 5"
   ]
  },
  {
   "cell_type": "markdown",
   "metadata": {
    "id": "gBgvmPtODWK2"
   },
   "source": [
    "Найдите среднее количество постов пользователей в день за август 2008 года. Отберите данные о пользователях, которые опубликовали больше 120 постов за август. Дни без публикаций не учитывайте. \n",
    "\n",
    "Отсортируйте результат по возрастанию среднего количества постов. Значения можно не округлять."
   ]
  },
  {
   "cell_type": "code",
   "execution_count": 12,
   "metadata": {
    "id": "YFyPNz5GDWK3"
   },
   "outputs": [
    {
     "data": {
      "text/html": [
       "<div>\n",
       "<style scoped>\n",
       "    .dataframe tbody tr th:only-of-type {\n",
       "        vertical-align: middle;\n",
       "    }\n",
       "\n",
       "    .dataframe tbody tr th {\n",
       "        vertical-align: top;\n",
       "    }\n",
       "\n",
       "    .dataframe thead th {\n",
       "        text-align: right;\n",
       "    }\n",
       "</style>\n",
       "<table border=\"1\" class=\"dataframe\">\n",
       "  <thead>\n",
       "    <tr style=\"text-align: right;\">\n",
       "      <th></th>\n",
       "      <th>user_id</th>\n",
       "      <th>avg_daily</th>\n",
       "    </tr>\n",
       "  </thead>\n",
       "  <tbody>\n",
       "    <tr>\n",
       "      <th>0</th>\n",
       "      <td>116</td>\n",
       "      <td>4.777778</td>\n",
       "    </tr>\n",
       "    <tr>\n",
       "      <th>1</th>\n",
       "      <td>234</td>\n",
       "      <td>5.208333</td>\n",
       "    </tr>\n",
       "    <tr>\n",
       "      <th>2</th>\n",
       "      <td>91</td>\n",
       "      <td>5.681818</td>\n",
       "    </tr>\n",
       "    <tr>\n",
       "      <th>3</th>\n",
       "      <td>905</td>\n",
       "      <td>7.000000</td>\n",
       "    </tr>\n",
       "    <tr>\n",
       "      <th>4</th>\n",
       "      <td>383</td>\n",
       "      <td>7.277778</td>\n",
       "    </tr>\n",
       "  </tbody>\n",
       "</table>\n",
       "</div>"
      ],
      "text/plain": [
       "   user_id  avg_daily\n",
       "0      116   4.777778\n",
       "1      234   5.208333\n",
       "2       91   5.681818\n",
       "3      905   7.000000\n",
       "4      383   7.277778"
      ]
     },
     "execution_count": 12,
     "metadata": {},
     "output_type": "execute_result"
    }
   ],
   "source": [
    "# напишите запрос\n",
    "query = '''\n",
    "WITH t1 AS (\n",
    "    SELECT \n",
    "        user_id,\n",
    "        COUNT(id)\n",
    "    FROM stackoverflow.posts\n",
    "    WHERE EXTRACT(MONTH FROM creation_date) = 8\n",
    "    GROUP BY 1\n",
    "    HAVING COUNT(id) > 120\n",
    "),\n",
    "t2 AS (\n",
    "    SELECT\n",
    "        p.user_id,\n",
    "        DATE_TRUNC('day', p.creation_date)::date AS mday,\n",
    "        COUNT(p.id) AS count_daily\n",
    "    FROM stackoverflow.posts p\n",
    "    INNER JOIN t1\n",
    "        ON p.user_id = t1.user_id\n",
    "    WHERE EXTRACT(MONTH FROM p.creation_date) = 8\n",
    "    GROUP BY 1, 2\n",
    "    HAVING COUNT(p.id) > 0\n",
    ")\n",
    "SELECT \n",
    "    user_id,\n",
    "    AVG(count_daily) AS avg_daily\n",
    "FROM t2\n",
    "GROUP BY 1\n",
    "ORDER BY 2 ASC\n",
    "'''\n",
    "\n",
    "ex5 = pd.read_sql_query(query, engine)\n",
    "ex5.head()"
   ]
  },
  {
   "cell_type": "markdown",
   "metadata": {
    "id": "EQ0dcFH4DWK5"
   },
   "source": [
    "# Задание 6"
   ]
  },
  {
   "cell_type": "markdown",
   "metadata": {
    "id": "c7flfg_hDWK5"
   },
   "source": [
    "Сколько в среднем дней в период с 1 по 7 декабря 2008 года пользователи взаимодействовали с платформой? Для каждого пользователя отберите дни, в которые он или она опубликовали хотя бы один пост. Нужно получить одно целое число — не забудьте округлить результат. "
   ]
  },
  {
   "cell_type": "code",
   "execution_count": 13,
   "metadata": {
    "id": "kZ7LXTr6DWK6"
   },
   "outputs": [
    {
     "data": {
      "text/html": [
       "<div>\n",
       "<style scoped>\n",
       "    .dataframe tbody tr th:only-of-type {\n",
       "        vertical-align: middle;\n",
       "    }\n",
       "\n",
       "    .dataframe tbody tr th {\n",
       "        vertical-align: top;\n",
       "    }\n",
       "\n",
       "    .dataframe thead th {\n",
       "        text-align: right;\n",
       "    }\n",
       "</style>\n",
       "<table border=\"1\" class=\"dataframe\">\n",
       "  <thead>\n",
       "    <tr style=\"text-align: right;\">\n",
       "      <th></th>\n",
       "      <th>result</th>\n",
       "    </tr>\n",
       "  </thead>\n",
       "  <tbody>\n",
       "    <tr>\n",
       "      <th>0</th>\n",
       "      <td>2.0</td>\n",
       "    </tr>\n",
       "  </tbody>\n",
       "</table>\n",
       "</div>"
      ],
      "text/plain": [
       "   result\n",
       "0     2.0"
      ]
     },
     "execution_count": 13,
     "metadata": {},
     "output_type": "execute_result"
    }
   ],
   "source": [
    "# напишите запрос\n",
    "query = '''\n",
    "WITH t1 AS(\n",
    "    SELECT\n",
    "        user_id,\n",
    "        COUNT(DISTINCT DATE_TRUNC('day', creation_date)::date) AS unday\n",
    "    FROM stackoverflow.posts\n",
    "    WHERE creation_date BETWEEN '2008-12-01' AND '2008-12-08'\n",
    "    GROUP BY 1\n",
    ")\n",
    "SELECT ROUND(AVG(unday)) AS result FROM t1\n",
    "'''\n",
    "\n",
    "ex6 = pd.read_sql_query(query, engine)\n",
    "ex6"
   ]
  },
  {
   "cell_type": "markdown",
   "metadata": {
    "id": "LfUuYz-1DWK8"
   },
   "source": [
    "**Вывод**:\n",
    "\n",
    "В среднем, в период с 1 по 7 декабря 2008 года, пользователи взаимодействовали с платформой два дня. Однако, если исключить уникальные комбинации пользователь - день (т.е. фиксировать не сам факт активности в этот день, а еще количество активности), то в среднем получится 3 дня (надо убрать distinct из подзапроса)."
   ]
  },
  {
   "cell_type": "markdown",
   "metadata": {
    "id": "wfOmqmfLDWK8"
   },
   "source": [
    "# Задание 7"
   ]
  },
  {
   "cell_type": "markdown",
   "metadata": {
    "id": "X4ARQimADWK9"
   },
   "source": [
    "Выведите историю активности каждого пользователя в таком виде: идентификатор пользователя, дата публикации поста. Отсортируйте вывод по возрастанию идентификаторов пользователей, а для каждого пользователя — по возрастанию даты публикации.\n",
    "\n",
    "Добавьте в таблицу новое поле: для каждого поста в нём будет указано название месяца предпоследней публикации пользователя относительно текущей. Если такой публикации нет, укажите `NULL`.  Python автоматически поменяет `NULL` на `None`, но дополнительно преобразовывать значения `None` вам не нужно.\n",
    "\n",
    "Посмотрите внимательно на образец таблицы: для первых двух постов предпоследней публикации нет, но, начиная с третьего поста, в новое поле входит нужный месяц. Для следующего пользователя в первые две записи поля `second_last_month` тоже войдёт `NULL`."
   ]
  },
  {
   "cell_type": "code",
   "execution_count": 14,
   "metadata": {
    "id": "HzI1vhaMDWK-"
   },
   "outputs": [
    {
     "data": {
      "text/html": [
       "<div>\n",
       "<style scoped>\n",
       "    .dataframe tbody tr th:only-of-type {\n",
       "        vertical-align: middle;\n",
       "    }\n",
       "\n",
       "    .dataframe tbody tr th {\n",
       "        vertical-align: top;\n",
       "    }\n",
       "\n",
       "    .dataframe thead th {\n",
       "        text-align: right;\n",
       "    }\n",
       "</style>\n",
       "<table border=\"1\" class=\"dataframe\">\n",
       "  <thead>\n",
       "    <tr style=\"text-align: right;\">\n",
       "      <th></th>\n",
       "      <th>user_id</th>\n",
       "      <th>creation_date</th>\n",
       "      <th>to_char</th>\n",
       "    </tr>\n",
       "  </thead>\n",
       "  <tbody>\n",
       "    <tr>\n",
       "      <th>0</th>\n",
       "      <td>1</td>\n",
       "      <td>2008-07-31 23:41:00</td>\n",
       "      <td>None</td>\n",
       "    </tr>\n",
       "    <tr>\n",
       "      <th>1</th>\n",
       "      <td>1</td>\n",
       "      <td>2008-07-31 23:55:38</td>\n",
       "      <td>None</td>\n",
       "    </tr>\n",
       "    <tr>\n",
       "      <th>2</th>\n",
       "      <td>1</td>\n",
       "      <td>2008-07-31 23:56:41</td>\n",
       "      <td>July</td>\n",
       "    </tr>\n",
       "    <tr>\n",
       "      <th>3</th>\n",
       "      <td>1</td>\n",
       "      <td>2008-08-04 02:45:08</td>\n",
       "      <td>July</td>\n",
       "    </tr>\n",
       "    <tr>\n",
       "      <th>4</th>\n",
       "      <td>1</td>\n",
       "      <td>2008-08-04 04:31:03</td>\n",
       "      <td>July</td>\n",
       "    </tr>\n",
       "    <tr>\n",
       "      <th>5</th>\n",
       "      <td>1</td>\n",
       "      <td>2008-08-04 08:04:42</td>\n",
       "      <td>August</td>\n",
       "    </tr>\n",
       "    <tr>\n",
       "      <th>6</th>\n",
       "      <td>1</td>\n",
       "      <td>2008-08-10 08:28:52</td>\n",
       "      <td>August</td>\n",
       "    </tr>\n",
       "    <tr>\n",
       "      <th>7</th>\n",
       "      <td>1</td>\n",
       "      <td>2008-08-11 19:23:47</td>\n",
       "      <td>August</td>\n",
       "    </tr>\n",
       "    <tr>\n",
       "      <th>8</th>\n",
       "      <td>1</td>\n",
       "      <td>2008-08-12 00:30:43</td>\n",
       "      <td>August</td>\n",
       "    </tr>\n",
       "    <tr>\n",
       "      <th>9</th>\n",
       "      <td>1</td>\n",
       "      <td>2008-08-12 04:59:35</td>\n",
       "      <td>August</td>\n",
       "    </tr>\n",
       "  </tbody>\n",
       "</table>\n",
       "</div>"
      ],
      "text/plain": [
       "   user_id       creation_date    to_char\n",
       "0        1 2008-07-31 23:41:00       None\n",
       "1        1 2008-07-31 23:55:38       None\n",
       "2        1 2008-07-31 23:56:41  July     \n",
       "3        1 2008-08-04 02:45:08  July     \n",
       "4        1 2008-08-04 04:31:03  July     \n",
       "5        1 2008-08-04 08:04:42  August   \n",
       "6        1 2008-08-10 08:28:52  August   \n",
       "7        1 2008-08-11 19:23:47  August   \n",
       "8        1 2008-08-12 00:30:43  August   \n",
       "9        1 2008-08-12 04:59:35  August   "
      ]
     },
     "execution_count": 14,
     "metadata": {},
     "output_type": "execute_result"
    }
   ],
   "source": [
    "# напишите запрос\n",
    "query = '''\n",
    "SELECT\n",
    "    user_id,\n",
    "    creation_date,\n",
    "    TO_CHAR(LAG(DATE_TRUNC('month', creation_date), 2) OVER (PARTITION BY user_id ORDER BY creation_date), 'Month')\n",
    "FROM stackoverflow.posts\n",
    "ORDER BY 1,2\n",
    "'''\n",
    "\n",
    "ex7 = pd.read_sql_query(query, engine)\n",
    "ex7.head(10)"
   ]
  },
  {
   "cell_type": "markdown",
   "metadata": {
    "id": "tf9qq2yzDWK_"
   },
   "source": [
    "# Задание 8"
   ]
  },
  {
   "cell_type": "markdown",
   "metadata": {
    "id": "gfwLVXBYDWLA"
   },
   "source": [
    "Рассчитайте аналог Retention Rate по месяцам для пользователей StackOverflow. Объедините пользователей в когорты по месяцу их первого поста. Возвращение определяйте по наличию поста в текущем месяце. "
   ]
  },
  {
   "cell_type": "code",
   "execution_count": 15,
   "metadata": {
    "id": "LUgFmwmTDWLB"
   },
   "outputs": [
    {
     "data": {
      "text/html": [
       "<div>\n",
       "<style scoped>\n",
       "    .dataframe tbody tr th:only-of-type {\n",
       "        vertical-align: middle;\n",
       "    }\n",
       "\n",
       "    .dataframe tbody tr th {\n",
       "        vertical-align: top;\n",
       "    }\n",
       "\n",
       "    .dataframe thead th {\n",
       "        text-align: right;\n",
       "    }\n",
       "</style>\n",
       "<table border=\"1\" class=\"dataframe\">\n",
       "  <thead>\n",
       "    <tr style=\"text-align: right;\">\n",
       "      <th></th>\n",
       "      <th>cohort_dt</th>\n",
       "      <th>session_date</th>\n",
       "      <th>users_cnt</th>\n",
       "      <th>cohort_users_cnt</th>\n",
       "      <th>retention_rate</th>\n",
       "    </tr>\n",
       "  </thead>\n",
       "  <tbody>\n",
       "    <tr>\n",
       "      <th>0</th>\n",
       "      <td>2008-07-01</td>\n",
       "      <td>2008-07-01</td>\n",
       "      <td>3</td>\n",
       "      <td>3</td>\n",
       "      <td>100.00</td>\n",
       "    </tr>\n",
       "    <tr>\n",
       "      <th>1</th>\n",
       "      <td>2008-07-01</td>\n",
       "      <td>2008-08-01</td>\n",
       "      <td>2</td>\n",
       "      <td>3</td>\n",
       "      <td>66.67</td>\n",
       "    </tr>\n",
       "    <tr>\n",
       "      <th>2</th>\n",
       "      <td>2008-07-01</td>\n",
       "      <td>2008-09-01</td>\n",
       "      <td>1</td>\n",
       "      <td>3</td>\n",
       "      <td>33.33</td>\n",
       "    </tr>\n",
       "    <tr>\n",
       "      <th>3</th>\n",
       "      <td>2008-07-01</td>\n",
       "      <td>2008-10-01</td>\n",
       "      <td>2</td>\n",
       "      <td>3</td>\n",
       "      <td>66.67</td>\n",
       "    </tr>\n",
       "    <tr>\n",
       "      <th>4</th>\n",
       "      <td>2008-07-01</td>\n",
       "      <td>2008-11-01</td>\n",
       "      <td>1</td>\n",
       "      <td>3</td>\n",
       "      <td>33.33</td>\n",
       "    </tr>\n",
       "    <tr>\n",
       "      <th>5</th>\n",
       "      <td>2008-07-01</td>\n",
       "      <td>2008-12-01</td>\n",
       "      <td>2</td>\n",
       "      <td>3</td>\n",
       "      <td>66.67</td>\n",
       "    </tr>\n",
       "    <tr>\n",
       "      <th>6</th>\n",
       "      <td>2008-08-01</td>\n",
       "      <td>2008-08-01</td>\n",
       "      <td>2151</td>\n",
       "      <td>2151</td>\n",
       "      <td>100.00</td>\n",
       "    </tr>\n",
       "    <tr>\n",
       "      <th>7</th>\n",
       "      <td>2008-08-01</td>\n",
       "      <td>2008-09-01</td>\n",
       "      <td>1571</td>\n",
       "      <td>2151</td>\n",
       "      <td>73.04</td>\n",
       "    </tr>\n",
       "    <tr>\n",
       "      <th>8</th>\n",
       "      <td>2008-08-01</td>\n",
       "      <td>2008-10-01</td>\n",
       "      <td>1275</td>\n",
       "      <td>2151</td>\n",
       "      <td>59.27</td>\n",
       "    </tr>\n",
       "    <tr>\n",
       "      <th>9</th>\n",
       "      <td>2008-08-01</td>\n",
       "      <td>2008-11-01</td>\n",
       "      <td>1050</td>\n",
       "      <td>2151</td>\n",
       "      <td>48.81</td>\n",
       "    </tr>\n",
       "  </tbody>\n",
       "</table>\n",
       "</div>"
      ],
      "text/plain": [
       "    cohort_dt session_date  users_cnt  cohort_users_cnt  retention_rate\n",
       "0  2008-07-01   2008-07-01          3                 3          100.00\n",
       "1  2008-07-01   2008-08-01          2                 3           66.67\n",
       "2  2008-07-01   2008-09-01          1                 3           33.33\n",
       "3  2008-07-01   2008-10-01          2                 3           66.67\n",
       "4  2008-07-01   2008-11-01          1                 3           33.33\n",
       "5  2008-07-01   2008-12-01          2                 3           66.67\n",
       "6  2008-08-01   2008-08-01       2151              2151          100.00\n",
       "7  2008-08-01   2008-09-01       1571              2151           73.04\n",
       "8  2008-08-01   2008-10-01       1275              2151           59.27\n",
       "9  2008-08-01   2008-11-01       1050              2151           48.81"
      ]
     },
     "execution_count": 15,
     "metadata": {},
     "output_type": "execute_result"
    }
   ],
   "source": [
    "# напишите запрос\n",
    "query = '''\n",
    "WITH fdt AS(\n",
    "    SELECT DISTINCT\n",
    "        user_id,\n",
    "        MIN(DATE_TRUNC('month', creation_date::date)) OVER (PARTITION BY user_id ORDER BY creation_date::date ASC)::date AS cohort_dt\n",
    "    FROM stackoverflow.posts\n",
    "),\n",
    "profiles AS(\n",
    "    SELECT\n",
    "        *,\n",
    "        COUNT(*) OVER (PARTITION BY cohort_dt) AS cohort_users_cnt\n",
    "    FROM fdt\n",
    "),\n",
    "sessions AS(\n",
    "    SELECT\n",
    "        user_id,\n",
    "        DATE_TRUNC('month', creation_date)::date AS session_date\n",
    "    FROM stackoverflow.posts\n",
    "    GROUP BY 1, 2\n",
    ")\n",
    "SELECT\n",
    "    p.cohort_dt,\n",
    "    s.session_date,\n",
    "    COUNT(p.user_id) AS users_cnt,\n",
    "    cohort_users_cnt,\n",
    "    ROUND(COUNT(p.user_id) * 100.0 / cohort_users_cnt, 2) AS retention_rate\n",
    "FROM profiles p\n",
    "INNER JOIN sessions s\n",
    "    ON p.user_id = s.user_id\n",
    "GROUP BY 1,2,4\n",
    "'''\n",
    "ex8 = pd.read_sql_query(query, engine)\n",
    "ex8.head(10)"
   ]
  },
  {
   "cell_type": "code",
   "execution_count": 16,
   "metadata": {
    "id": "qAEJc8H1DWLC"
   },
   "outputs": [
    {
     "data": {
      "image/png": "[encoded data removed]",
      "text/plain": [
       "<Figure size 1440x1440 with 2 Axes>"
      ]
     },
     "metadata": {
      "needs_background": "light"
     },
     "output_type": "display_data"
    }
   ],
   "source": [
    "# создаём сводную таблицу с результатами\n",
    "retention = ex8.pivot('cohort_dt', 'session_date', 'retention_rate')\n",
    "retention.index = [str(x)[0:len(str(x))] for x in retention.index]\n",
    "retention.columns = [str(x)[0:len(str(x))] for x in retention.columns]\n",
    "\n",
    "plt.figure(figsize=(20, 20))\n",
    "sns.heatmap(retention,\n",
    "            annot=True,\n",
    "            fmt='')\n",
    "plt.title('Тепловая карта')\n",
    "plt.show() "
   ]
  },
  {
   "cell_type": "markdown",
   "metadata": {
    "id": "EgOfIsI4DWLC"
   },
   "source": [
    "**Вывод**:\n",
    "\n",
    "Подозрительно выглядит retention rate июльской когорты, так как присутствует очень точная периодичность.\n",
    "\n",
    "Также очень высокий показатель удержания первого месяца у пользователей августовской когорты.\n",
    "\n",
    "Дополнительно можно заметить, что наблюдается тенденция по уменьшению процента удержания в целом.\n",
    "\n",
    "Первый тезис объясняется довольно просто, в когорте всего 3 пользователя, поэтому retention rate данной когорты трудно назвать показательным. Второй тезис можно попытаться связать с повышенным интересом пользователей к какой-то теме, которая имела активное развитие в сентябре. Третий тезис можно связать с увеличением числа пользователей, многие из которых не проявляют активности на сайте, а только лишь заходят, чтобы найти ответ. Соответственно, с течением времени база ответов растёт и необходимость вести активность становится ниже. "
   ]
  },
  {
   "cell_type": "markdown",
   "metadata": {
    "id": "1k7oPWt5DWLK"
   },
   "source": [
    "# Задание 9\n"
   ]
  },
  {
   "cell_type": "markdown",
   "metadata": {
    "id": "ALsYVSyRDWLM"
   },
   "source": [
    "На сколько процентов менялось количество постов ежемесячно с 1 сентября по 31 декабря 2008 года? Отобразите таблицу со следующими полями:\n",
    "\n",
    "- номер месяца;\n",
    "- количество постов за месяц;\n",
    "- процент, который показывает, насколько изменилось количество постов в текущем месяце по сравнению с предыдущим.\n",
    "\n",
    "Если постов стало меньше, значение процента должно быть отрицательным, если больше — положительным. Округлите значение процента до двух знаков после запятой.\n",
    "\n",
    "Напомним, что при делении одного целого числа на другое в PostgreSQL в результате получится целое число, округлённое до ближайшего целого вниз. Чтобы этого избежать, переведите делимое в тип `numeric`."
   ]
  },
  {
   "cell_type": "code",
   "execution_count": 17,
   "metadata": {
    "id": "Mb5pShStDWLN"
   },
   "outputs": [
    {
     "data": {
      "text/html": [
       "<div>\n",
       "<style scoped>\n",
       "    .dataframe tbody tr th:only-of-type {\n",
       "        vertical-align: middle;\n",
       "    }\n",
       "\n",
       "    .dataframe tbody tr th {\n",
       "        vertical-align: top;\n",
       "    }\n",
       "\n",
       "    .dataframe thead th {\n",
       "        text-align: right;\n",
       "    }\n",
       "</style>\n",
       "<table border=\"1\" class=\"dataframe\">\n",
       "  <thead>\n",
       "    <tr style=\"text-align: right;\">\n",
       "      <th></th>\n",
       "      <th>creation_month</th>\n",
       "      <th>posts_count</th>\n",
       "      <th>percentage</th>\n",
       "    </tr>\n",
       "  </thead>\n",
       "  <tbody>\n",
       "    <tr>\n",
       "      <th>0</th>\n",
       "      <td>9</td>\n",
       "      <td>70371</td>\n",
       "      <td>NaN</td>\n",
       "    </tr>\n",
       "    <tr>\n",
       "      <th>1</th>\n",
       "      <td>10</td>\n",
       "      <td>63102</td>\n",
       "      <td>-10.33</td>\n",
       "    </tr>\n",
       "    <tr>\n",
       "      <th>2</th>\n",
       "      <td>11</td>\n",
       "      <td>46975</td>\n",
       "      <td>-25.56</td>\n",
       "    </tr>\n",
       "    <tr>\n",
       "      <th>3</th>\n",
       "      <td>12</td>\n",
       "      <td>44592</td>\n",
       "      <td>-5.07</td>\n",
       "    </tr>\n",
       "  </tbody>\n",
       "</table>\n",
       "</div>"
      ],
      "text/plain": [
       "   creation_month  posts_count  percentage\n",
       "0               9        70371         NaN\n",
       "1              10        63102      -10.33\n",
       "2              11        46975      -25.56\n",
       "3              12        44592       -5.07"
      ]
     },
     "execution_count": 17,
     "metadata": {},
     "output_type": "execute_result"
    }
   ],
   "source": [
    "# напишите запрос\n",
    "query = '''\n",
    "WITH t1 AS(\n",
    "    SELECT DISTINCT\n",
    "        EXTRACT(MONTH FROM creation_date)::integer AS creation_month,\n",
    "        COUNT(id) OVER (PARTITION BY (EXTRACT(MONTH FROM creation_date))) AS posts_count\n",
    "    FROM stackoverflow.posts\n",
    "    WHERE EXTRACT(MONTH FROM creation_date) BETWEEN 9 AND 12\n",
    ")\n",
    "SELECT\n",
    "    *,\n",
    "    ROUND(((posts_count::numeric / LAG(posts_count::numeric) OVER (ORDER BY creation_month)) - 1) * 100.0, 2) AS percentage\n",
    "FROM t1\n",
    "'''\n",
    "\n",
    "ex9 = pd.read_sql_query(query, engine)\n",
    "ex9.head(10)"
   ]
  },
  {
   "cell_type": "code",
   "execution_count": 18,
   "metadata": {
    "id": "377ABjiVDWLP"
   },
   "outputs": [
    {
     "data": {
      "image/png": "[encoded data removed]",
      "text/plain": [
       "<Figure size 576x576 with 1 Axes>"
      ]
     },
     "metadata": {},
     "output_type": "display_data"
    }
   ],
   "source": [
    "ex9.index = ex9.creation_month\n",
    "ex9.plot(y = 'posts_count', kind='pie', autopct=\"%.2f\", figsize=(8, 8));"
   ]
  },
  {
   "cell_type": "markdown",
   "metadata": {
    "id": "uw7qMtafDWLP"
   },
   "source": [
    "# Задание 10"
   ]
  },
  {
   "cell_type": "markdown",
   "metadata": {
    "id": "oRBpWKx3DWLQ"
   },
   "source": [
    "Выгрузите данные активности пользователя, который опубликовал больше всего постов за всё время. Выведите данные за октябрь 2008 года в таком виде:\n",
    "\n",
    "- номер недели;\n",
    "- дата и время последнего поста, опубликованного на этой неделе."
   ]
  },
  {
   "cell_type": "code",
   "execution_count": 19,
   "metadata": {
    "id": "r5F5fSkwDWLQ"
   },
   "outputs": [
    {
     "data": {
      "text/html": [
       "<div>\n",
       "<style scoped>\n",
       "    .dataframe tbody tr th:only-of-type {\n",
       "        vertical-align: middle;\n",
       "    }\n",
       "\n",
       "    .dataframe tbody tr th {\n",
       "        vertical-align: top;\n",
       "    }\n",
       "\n",
       "    .dataframe thead th {\n",
       "        text-align: right;\n",
       "    }\n",
       "</style>\n",
       "<table border=\"1\" class=\"dataframe\">\n",
       "  <thead>\n",
       "    <tr style=\"text-align: right;\">\n",
       "      <th></th>\n",
       "      <th>week_creation</th>\n",
       "      <th>last_value</th>\n",
       "    </tr>\n",
       "  </thead>\n",
       "  <tbody>\n",
       "    <tr>\n",
       "      <th>0</th>\n",
       "      <td>40</td>\n",
       "      <td>2008-10-05 09:00:58</td>\n",
       "    </tr>\n",
       "    <tr>\n",
       "      <th>1</th>\n",
       "      <td>41</td>\n",
       "      <td>2008-10-12 21:22:23</td>\n",
       "    </tr>\n",
       "    <tr>\n",
       "      <th>2</th>\n",
       "      <td>42</td>\n",
       "      <td>2008-10-19 06:49:30</td>\n",
       "    </tr>\n",
       "    <tr>\n",
       "      <th>3</th>\n",
       "      <td>43</td>\n",
       "      <td>2008-10-26 21:44:36</td>\n",
       "    </tr>\n",
       "    <tr>\n",
       "      <th>4</th>\n",
       "      <td>44</td>\n",
       "      <td>2008-10-31 22:16:01</td>\n",
       "    </tr>\n",
       "  </tbody>\n",
       "</table>\n",
       "</div>"
      ],
      "text/plain": [
       "   week_creation          last_value\n",
       "0             40 2008-10-05 09:00:58\n",
       "1             41 2008-10-12 21:22:23\n",
       "2             42 2008-10-19 06:49:30\n",
       "3             43 2008-10-26 21:44:36\n",
       "4             44 2008-10-31 22:16:01"
      ]
     },
     "execution_count": 19,
     "metadata": {},
     "output_type": "execute_result"
    }
   ],
   "source": [
    "# напишите запрос\n",
    "query = '''\n",
    "WITH t1 AS(\n",
    "    SELECT\n",
    "        user_id,\n",
    "        COUNT(id) AS np\n",
    "    FROM stackoverflow.posts\n",
    "    GROUP BY 1\n",
    "    ORDER BY 2 DESC\n",
    "    LIMIT 1\n",
    ")\n",
    "SELECT DISTINCT\n",
    "    EXTRACT (WEEK FROM p.creation_date)::integer AS week_creation,\n",
    "    LAST_VALUE(creation_date) OVER (PARTITION BY EXTRACT (WEEK FROM p.creation_date)::integer ORDER BY creation_date ROWS BETWEEN UNBOUNDED PRECEDING AND UNBOUNDED FOLLOWING)\n",
    "FROM stackoverflow.posts p\n",
    "INNER JOIN t1\n",
    "    ON t1.user_id = p.user_id\n",
    "WHERE p.creation_date BETWEEN '2008-10-01' AND '2008-11-01'\n",
    "'''\n",
    "\n",
    "ex10 = pd.read_sql_query(query, engine)\n",
    "ex10.head(10)"
   ]
  }
 ],
 "metadata": {
  "ExecuteTimeLog": [
   {
    "duration": 1353,
    "start_time": "2022-04-06T05:52:18.794Z"
   },
   {
    "duration": 8,
    "start_time": "2022-04-06T05:52:22.296Z"
   },
   {
    "duration": 7434,
    "start_time": "2022-04-06T05:52:23.623Z"
   },
   {
    "duration": 198,
    "start_time": "2022-04-06T05:52:31.060Z"
   },
   {
    "duration": 21,
    "start_time": "2022-04-06T05:52:32.929Z"
   },
   {
    "duration": 405,
    "start_time": "2022-04-06T05:56:28.425Z"
   },
   {
    "duration": 198,
    "start_time": "2022-04-06T05:56:54.881Z"
   },
   {
    "duration": 151,
    "start_time": "2022-04-06T05:57:09.280Z"
   },
   {
    "duration": 150,
    "start_time": "2022-04-06T05:57:22.042Z"
   },
   {
    "duration": 233,
    "start_time": "2022-04-06T05:58:04.522Z"
   },
   {
    "duration": 471,
    "start_time": "2022-04-06T05:58:33.435Z"
   },
   {
    "duration": 106,
    "start_time": "2022-04-06T05:59:20.008Z"
   },
   {
    "duration": 275,
    "start_time": "2022-04-06T05:59:24.264Z"
   },
   {
    "duration": 250,
    "start_time": "2022-04-06T05:59:30.297Z"
   },
   {
    "duration": 302,
    "start_time": "2022-04-06T05:59:37.254Z"
   },
   {
    "duration": 284,
    "start_time": "2022-04-06T06:00:06.590Z"
   },
   {
    "duration": 268,
    "start_time": "2022-04-06T06:01:13.887Z"
   },
   {
    "duration": 267,
    "start_time": "2022-04-06T06:01:28.169Z"
   },
   {
    "duration": 279,
    "start_time": "2022-04-06T06:01:42.737Z"
   },
   {
    "duration": 381,
    "start_time": "2022-04-06T06:01:48.567Z"
   },
   {
    "duration": 1921,
    "start_time": "2022-04-06T06:24:05.920Z"
   },
   {
    "duration": 65,
    "start_time": "2022-04-06T06:24:31.432Z"
   },
   {
    "duration": 1826,
    "start_time": "2022-04-06T06:24:45.616Z"
   },
   {
    "duration": 3251,
    "start_time": "2022-04-06T06:25:33.656Z"
   },
   {
    "duration": 1288,
    "start_time": "2022-04-06T06:26:10.789Z"
   },
   {
    "duration": 1339,
    "start_time": "2022-04-06T06:26:35.057Z"
   },
   {
    "duration": 781,
    "start_time": "2022-04-06T06:27:02.894Z"
   },
   {
    "duration": 600,
    "start_time": "2022-04-06T06:27:28.268Z"
   },
   {
    "duration": 252,
    "start_time": "2022-04-06T06:27:59.151Z"
   },
   {
    "duration": 234,
    "start_time": "2022-04-06T06:29:38.595Z"
   },
   {
    "duration": 856,
    "start_time": "2022-04-06T06:29:45.718Z"
   },
   {
    "duration": 682,
    "start_time": "2022-04-06T06:30:11.524Z"
   },
   {
    "duration": 884,
    "start_time": "2022-04-06T06:30:18.852Z"
   },
   {
    "duration": 2329,
    "start_time": "2022-04-06T06:32:11.548Z"
   },
   {
    "duration": 2174,
    "start_time": "2022-04-06T06:32:22.242Z"
   },
   {
    "duration": 181,
    "start_time": "2022-04-06T06:32:40.769Z"
   },
   {
    "duration": 158,
    "start_time": "2022-04-06T06:32:49.481Z"
   },
   {
    "duration": 198,
    "start_time": "2022-04-06T06:33:07.514Z"
   },
   {
    "duration": 177,
    "start_time": "2022-04-06T06:33:16.079Z"
   },
   {
    "duration": 279,
    "start_time": "2022-04-06T06:33:27.563Z"
   },
   {
    "duration": 166,
    "start_time": "2022-04-06T06:35:29.506Z"
   },
   {
    "duration": 180,
    "start_time": "2022-04-06T06:35:49.788Z"
   },
   {
    "duration": 262,
    "start_time": "2022-04-06T06:35:54.169Z"
   },
   {
    "duration": 176,
    "start_time": "2022-04-06T06:35:58.537Z"
   },
   {
    "duration": 176,
    "start_time": "2022-04-06T06:36:40.787Z"
   },
   {
    "duration": 277,
    "start_time": "2022-04-06T06:37:39.939Z"
   },
   {
    "duration": 139,
    "start_time": "2022-04-06T06:39:07.698Z"
   },
   {
    "duration": 216,
    "start_time": "2022-04-06T06:39:15.476Z"
   },
   {
    "duration": 220,
    "start_time": "2022-04-06T06:39:59.091Z"
   },
   {
    "duration": 6,
    "start_time": "2022-04-06T06:40:17.017Z"
   },
   {
    "duration": 38,
    "start_time": "2022-04-06T06:40:46.586Z"
   },
   {
    "duration": 7,
    "start_time": "2022-04-06T06:40:52.186Z"
   },
   {
    "duration": 290,
    "start_time": "2022-04-06T06:41:15.114Z"
   },
   {
    "duration": 8,
    "start_time": "2022-04-06T06:41:17.591Z"
   },
   {
    "duration": 197,
    "start_time": "2022-04-06T06:41:32.328Z"
   },
   {
    "duration": 220,
    "start_time": "2022-04-06T06:42:34.390Z"
   },
   {
    "duration": 1925,
    "start_time": "2022-04-06T06:43:17.751Z"
   },
   {
    "duration": 289,
    "start_time": "2022-04-06T07:33:16.671Z"
   },
   {
    "duration": 169,
    "start_time": "2022-04-06T07:33:21.146Z"
   },
   {
    "duration": 516,
    "start_time": "2022-04-06T07:33:28.199Z"
   },
   {
    "duration": 168,
    "start_time": "2022-04-06T07:34:13.452Z"
   },
   {
    "duration": 192,
    "start_time": "2022-04-06T07:34:24.538Z"
   },
   {
    "duration": 186,
    "start_time": "2022-04-06T07:34:35.319Z"
   },
   {
    "duration": 49,
    "start_time": "2022-04-07T05:08:09.175Z"
   },
   {
    "duration": 807,
    "start_time": "2022-04-07T05:08:40.697Z"
   },
   {
    "duration": 4,
    "start_time": "2022-04-07T05:08:42.357Z"
   },
   {
    "duration": 12198,
    "start_time": "2022-04-07T05:08:43.514Z"
   },
   {
    "duration": 211,
    "start_time": "2022-04-07T05:08:55.714Z"
   },
   {
    "duration": 14,
    "start_time": "2022-04-07T05:08:55.927Z"
   },
   {
    "duration": 221,
    "start_time": "2022-04-07T05:09:01.742Z"
   },
   {
    "duration": 2885,
    "start_time": "2022-04-07T05:12:01.697Z"
   },
   {
    "duration": 149,
    "start_time": "2022-04-07T05:14:04.628Z"
   },
   {
    "duration": 2783,
    "start_time": "2022-04-07T05:15:33.030Z"
   },
   {
    "duration": 3784,
    "start_time": "2022-04-07T05:16:34.771Z"
   },
   {
    "duration": 171,
    "start_time": "2022-04-07T05:17:01.248Z"
   },
   {
    "duration": 177,
    "start_time": "2022-04-07T05:18:05.306Z"
   },
   {
    "duration": 205,
    "start_time": "2022-04-07T05:18:21.750Z"
   },
   {
    "duration": 171,
    "start_time": "2022-04-07T05:18:25.518Z"
   },
   {
    "duration": 152,
    "start_time": "2022-04-07T05:18:34.134Z"
   },
   {
    "duration": 154,
    "start_time": "2022-04-07T05:18:43.845Z"
   },
   {
    "duration": 150,
    "start_time": "2022-04-07T05:18:57.567Z"
   },
   {
    "duration": 192,
    "start_time": "2022-04-07T05:28:45.421Z"
   },
   {
    "duration": 767,
    "start_time": "2022-04-07T05:29:01.543Z"
   },
   {
    "duration": 104,
    "start_time": "2022-04-07T05:29:34.830Z"
   },
   {
    "duration": 104,
    "start_time": "2022-04-07T05:30:18.264Z"
   },
   {
    "duration": 143,
    "start_time": "2022-04-07T05:31:46.280Z"
   },
   {
    "duration": 146,
    "start_time": "2022-04-07T05:33:38.654Z"
   },
   {
    "duration": 148,
    "start_time": "2022-04-07T05:38:00.453Z"
   },
   {
    "duration": 146,
    "start_time": "2022-04-07T05:38:08.032Z"
   },
   {
    "duration": 163,
    "start_time": "2022-04-07T05:38:54.944Z"
   },
   {
    "duration": 146,
    "start_time": "2022-04-07T05:39:37.293Z"
   },
   {
    "duration": 1116,
    "start_time": "2022-04-07T05:44:35.282Z"
   },
   {
    "duration": 162,
    "start_time": "2022-04-07T05:50:28.260Z"
   },
   {
    "duration": 90,
    "start_time": "2022-04-07T05:50:41.458Z"
   },
   {
    "duration": 88,
    "start_time": "2022-04-07T05:50:50.971Z"
   },
   {
    "duration": 67,
    "start_time": "2022-04-07T05:51:19.649Z"
   },
   {
    "duration": 70,
    "start_time": "2022-04-07T05:55:21.782Z"
   },
   {
    "duration": 71,
    "start_time": "2022-04-07T05:55:38.416Z"
   },
   {
    "duration": 71,
    "start_time": "2022-04-07T05:55:46.521Z"
   },
   {
    "duration": 123,
    "start_time": "2022-04-07T05:56:02.014Z"
   },
   {
    "duration": 63,
    "start_time": "2022-04-07T05:56:36.100Z"
   },
   {
    "duration": 159,
    "start_time": "2022-04-07T05:59:23.282Z"
   },
   {
    "duration": 162,
    "start_time": "2022-04-07T05:59:40.694Z"
   },
   {
    "duration": 163,
    "start_time": "2022-04-07T05:59:57.688Z"
   },
   {
    "duration": 159,
    "start_time": "2022-04-07T06:00:16.805Z"
   },
   {
    "duration": 166,
    "start_time": "2022-04-07T06:00:25.161Z"
   },
   {
    "duration": 153,
    "start_time": "2022-04-07T06:00:27.655Z"
   },
   {
    "duration": 157,
    "start_time": "2022-04-07T06:01:38.006Z"
   },
   {
    "duration": 342,
    "start_time": "2022-04-07T06:01:58.371Z"
   },
   {
    "duration": 154,
    "start_time": "2022-04-07T06:02:03.530Z"
   },
   {
    "duration": 161,
    "start_time": "2022-04-07T06:02:08.308Z"
   },
   {
    "duration": 158,
    "start_time": "2022-04-07T06:02:11.468Z"
   },
   {
    "duration": 88,
    "start_time": "2022-04-07T06:03:28.746Z"
   },
   {
    "duration": 89,
    "start_time": "2022-04-07T06:03:37.507Z"
   },
   {
    "duration": 254,
    "start_time": "2022-04-07T06:12:43.649Z"
   },
   {
    "duration": 66,
    "start_time": "2022-04-07T06:12:59.109Z"
   },
   {
    "duration": 67,
    "start_time": "2022-04-07T06:13:06.716Z"
   },
   {
    "duration": 170,
    "start_time": "2022-04-07T06:13:22.304Z"
   },
   {
    "duration": 157,
    "start_time": "2022-04-07T06:14:54.130Z"
   },
   {
    "duration": 114,
    "start_time": "2022-04-07T06:15:00.634Z"
   },
   {
    "duration": 118,
    "start_time": "2022-04-07T06:15:15.479Z"
   },
   {
    "duration": 168,
    "start_time": "2022-04-07T06:17:24.965Z"
   },
   {
    "duration": 61,
    "start_time": "2022-04-07T06:17:29.091Z"
   },
   {
    "duration": 73,
    "start_time": "2022-04-07T06:17:45.173Z"
   },
   {
    "duration": 62,
    "start_time": "2022-04-07T06:17:51.442Z"
   },
   {
    "duration": 63,
    "start_time": "2022-04-07T06:17:56.915Z"
   },
   {
    "duration": 62,
    "start_time": "2022-04-07T06:17:59.650Z"
   },
   {
    "duration": 68,
    "start_time": "2022-04-07T06:18:05.903Z"
   },
   {
    "duration": 187,
    "start_time": "2022-04-07T06:19:31.390Z"
   },
   {
    "duration": 131,
    "start_time": "2022-04-07T06:19:54.097Z"
   },
   {
    "duration": 162,
    "start_time": "2022-04-07T06:20:40.304Z"
   },
   {
    "duration": 87,
    "start_time": "2022-04-07T06:20:46.536Z"
   },
   {
    "duration": 63,
    "start_time": "2022-04-07T06:21:07.524Z"
   },
   {
    "duration": 61,
    "start_time": "2022-04-07T06:21:20.147Z"
   },
   {
    "duration": 63,
    "start_time": "2022-04-07T06:21:26.108Z"
   },
   {
    "duration": 70,
    "start_time": "2022-04-07T06:22:51.390Z"
   },
   {
    "duration": 818,
    "start_time": "2022-04-07T06:29:00.663Z"
   },
   {
    "duration": 956,
    "start_time": "2022-04-07T06:29:21.172Z"
   },
   {
    "duration": 1208,
    "start_time": "2022-04-07T06:31:54.414Z"
   },
   {
    "duration": 4428,
    "start_time": "2022-04-07T06:32:03.747Z"
   },
   {
    "duration": 1136,
    "start_time": "2022-04-07T06:32:18.770Z"
   },
   {
    "duration": 1150,
    "start_time": "2022-04-07T06:35:38.444Z"
   },
   {
    "duration": 153,
    "start_time": "2022-04-07T06:36:13.427Z"
   },
   {
    "duration": 159,
    "start_time": "2022-04-07T06:36:31.041Z"
   },
   {
    "duration": 162,
    "start_time": "2022-04-07T06:37:04.771Z"
   },
   {
    "duration": 180,
    "start_time": "2022-04-07T06:37:23.416Z"
   },
   {
    "duration": 158,
    "start_time": "2022-04-07T06:37:28.578Z"
   },
   {
    "duration": 153,
    "start_time": "2022-04-07T06:37:32.360Z"
   },
   {
    "duration": 2767,
    "start_time": "2022-04-07T06:38:23.790Z"
   },
   {
    "duration": 1179,
    "start_time": "2022-04-07T06:38:31.272Z"
   },
   {
    "duration": 1089,
    "start_time": "2022-04-07T06:38:42.989Z"
   },
   {
    "duration": 1087,
    "start_time": "2022-04-07T06:38:52.237Z"
   },
   {
    "duration": 1251,
    "start_time": "2022-04-07T06:39:02.155Z"
   },
   {
    "duration": 2940,
    "start_time": "2022-04-07T06:40:24.614Z"
   },
   {
    "duration": 1231,
    "start_time": "2022-04-07T06:40:40.117Z"
   },
   {
    "duration": 1185,
    "start_time": "2022-04-07T06:40:45.973Z"
   },
   {
    "duration": 1266,
    "start_time": "2022-04-07T06:41:00.304Z"
   },
   {
    "duration": 107,
    "start_time": "2022-04-07T10:41:47.628Z"
   },
   {
    "duration": 162,
    "start_time": "2022-04-07T10:41:58.371Z"
   },
   {
    "duration": 185,
    "start_time": "2022-04-07T10:42:11.942Z"
   },
   {
    "duration": 167,
    "start_time": "2022-04-07T10:45:13.822Z"
   },
   {
    "duration": 983,
    "start_time": "2022-04-07T10:45:30.316Z"
   },
   {
    "duration": 1224,
    "start_time": "2022-04-07T10:47:36.787Z"
   },
   {
    "duration": 1466,
    "start_time": "2022-04-07T10:49:12.051Z"
   },
   {
    "duration": 1537,
    "start_time": "2022-04-07T10:49:29.149Z"
   },
   {
    "duration": 186,
    "start_time": "2022-04-07T10:50:01.849Z"
   },
   {
    "duration": 1364,
    "start_time": "2022-04-07T10:50:13.817Z"
   },
   {
    "duration": 3005,
    "start_time": "2022-04-07T10:50:35.497Z"
   },
   {
    "duration": 163,
    "start_time": "2022-04-07T10:51:45.805Z"
   },
   {
    "duration": 775,
    "start_time": "2022-04-07T10:52:04.039Z"
   },
   {
    "duration": 767,
    "start_time": "2022-04-07T10:52:49.868Z"
   },
   {
    "duration": 457,
    "start_time": "2022-04-07T10:53:29.147Z"
   },
   {
    "duration": 166,
    "start_time": "2022-04-07T10:53:39.684Z"
   },
   {
    "duration": 489,
    "start_time": "2022-04-07T10:53:43.384Z"
   },
   {
    "duration": 164,
    "start_time": "2022-04-07T10:54:16.232Z"
   },
   {
    "duration": 696,
    "start_time": "2022-04-07T10:54:21.568Z"
   },
   {
    "duration": 161,
    "start_time": "2022-04-07T10:56:39.947Z"
   },
   {
    "duration": 1417,
    "start_time": "2022-04-07T10:57:05.218Z"
   },
   {
    "duration": 1223,
    "start_time": "2022-04-07T10:57:33.948Z"
   },
   {
    "duration": 545,
    "start_time": "2022-04-07T10:57:53.347Z"
   },
   {
    "duration": 522,
    "start_time": "2022-04-07T11:00:44.050Z"
   },
   {
    "duration": 627,
    "start_time": "2022-04-07T11:28:45.642Z"
   },
   {
    "duration": 3436,
    "start_time": "2022-04-07T11:31:37.677Z"
   },
   {
    "duration": 2685,
    "start_time": "2022-04-07T11:31:49.820Z"
   },
   {
    "duration": 455,
    "start_time": "2022-04-07T11:32:22.806Z"
   },
   {
    "duration": 1047,
    "start_time": "2022-04-07T11:33:37.734Z"
   },
   {
    "duration": 163,
    "start_time": "2022-04-07T11:36:08.927Z"
   },
   {
    "duration": 162,
    "start_time": "2022-04-07T11:36:24.749Z"
   },
   {
    "duration": 159,
    "start_time": "2022-04-07T11:36:36.229Z"
   },
   {
    "duration": 156,
    "start_time": "2022-04-07T11:36:53.248Z"
   },
   {
    "duration": 650,
    "start_time": "2022-04-07T11:37:29.331Z"
   },
   {
    "duration": 484,
    "start_time": "2022-04-07T11:38:30.306Z"
   },
   {
    "duration": 40,
    "start_time": "2022-04-07T11:39:09.188Z"
   },
   {
    "duration": 558,
    "start_time": "2022-04-07T11:40:06.348Z"
   },
   {
    "duration": 419,
    "start_time": "2022-04-07T11:40:50.851Z"
   },
   {
    "duration": 467,
    "start_time": "2022-04-07T11:41:03.873Z"
   },
   {
    "duration": 432,
    "start_time": "2022-04-07T11:41:38.390Z"
   },
   {
    "duration": 27,
    "start_time": "2022-04-07T11:42:45.822Z"
   },
   {
    "duration": 28,
    "start_time": "2022-04-07T11:43:04.862Z"
   },
   {
    "duration": 409,
    "start_time": "2022-04-07T11:43:11.862Z"
   },
   {
    "duration": 453,
    "start_time": "2022-04-07T11:44:06.635Z"
   },
   {
    "duration": 3,
    "start_time": "2022-04-07T12:01:46.235Z"
   },
   {
    "duration": 175,
    "start_time": "2022-04-07T12:02:01.792Z"
   },
   {
    "duration": 161,
    "start_time": "2022-04-07T12:02:12.928Z"
   },
   {
    "duration": 1122,
    "start_time": "2022-04-07T12:02:36.085Z"
   },
   {
    "duration": 1052,
    "start_time": "2022-04-07T12:02:50.690Z"
   },
   {
    "duration": 1049,
    "start_time": "2022-04-07T12:02:55.087Z"
   },
   {
    "duration": 168,
    "start_time": "2022-04-07T12:03:04.567Z"
   },
   {
    "duration": 946,
    "start_time": "2022-04-07T12:03:09.633Z"
   },
   {
    "duration": 245,
    "start_time": "2022-04-07T12:03:27.162Z"
   },
   {
    "duration": 582,
    "start_time": "2022-04-07T12:04:03.395Z"
   },
   {
    "duration": 250,
    "start_time": "2022-04-07T12:04:06.876Z"
   },
   {
    "duration": 270,
    "start_time": "2022-04-07T12:06:32.776Z"
   },
   {
    "duration": 243,
    "start_time": "2022-04-07T12:06:38.402Z"
   },
   {
    "duration": 266,
    "start_time": "2022-04-07T12:06:42.117Z"
   },
   {
    "duration": 2036,
    "start_time": "2022-04-07T12:06:47.130Z"
   },
   {
    "duration": 1162,
    "start_time": "2022-04-07T12:08:45.385Z"
   },
   {
    "duration": 250,
    "start_time": "2022-04-07T12:09:55.730Z"
   },
   {
    "duration": 762,
    "start_time": "2022-04-07T12:10:12.312Z"
   },
   {
    "duration": 256,
    "start_time": "2022-04-07T12:10:50.453Z"
   },
   {
    "duration": 247,
    "start_time": "2022-04-07T12:11:13.300Z"
   },
   {
    "duration": 241,
    "start_time": "2022-04-07T12:11:25.421Z"
   },
   {
    "duration": 173,
    "start_time": "2022-04-07T12:11:41.532Z"
   },
   {
    "duration": 247,
    "start_time": "2022-04-07T12:11:44.541Z"
   },
   {
    "duration": 254,
    "start_time": "2022-04-07T12:11:49.105Z"
   },
   {
    "duration": 9,
    "start_time": "2022-04-07T12:12:08.353Z"
   },
   {
    "duration": 150,
    "start_time": "2022-04-07T12:12:11.601Z"
   },
   {
    "duration": 11,
    "start_time": "2022-04-07T12:12:15.830Z"
   },
   {
    "duration": 10,
    "start_time": "2022-04-07T12:12:18.309Z"
   },
   {
    "duration": 10,
    "start_time": "2022-04-07T12:12:31.922Z"
   },
   {
    "duration": 138,
    "start_time": "2022-04-07T12:12:35.866Z"
   },
   {
    "duration": 114,
    "start_time": "2022-04-07T12:13:15.817Z"
   },
   {
    "duration": 139,
    "start_time": "2022-04-07T12:14:13.086Z"
   },
   {
    "duration": 111,
    "start_time": "2022-04-07T12:15:34.452Z"
   },
   {
    "duration": 145,
    "start_time": "2022-04-07T12:16:35.173Z"
   },
   {
    "duration": 152,
    "start_time": "2022-04-07T12:16:47.575Z"
   },
   {
    "duration": 147,
    "start_time": "2022-04-07T12:16:53.247Z"
   },
   {
    "duration": 151,
    "start_time": "2022-04-07T12:16:55.235Z"
   },
   {
    "duration": 153,
    "start_time": "2022-04-07T12:16:57.872Z"
   },
   {
    "duration": 151,
    "start_time": "2022-04-07T12:17:03.640Z"
   },
   {
    "duration": 187,
    "start_time": "2022-04-07T12:17:14.918Z"
   },
   {
    "duration": 173,
    "start_time": "2022-04-07T12:17:19.134Z"
   },
   {
    "duration": 185,
    "start_time": "2022-04-07T12:22:10.649Z"
   },
   {
    "duration": 1517,
    "start_time": "2022-04-07T12:22:51.903Z"
   },
   {
    "duration": 150,
    "start_time": "2022-04-07T12:23:13.024Z"
   },
   {
    "duration": 142,
    "start_time": "2022-04-07T12:23:55.986Z"
   },
   {
    "duration": 149,
    "start_time": "2022-04-07T12:25:47.116Z"
   },
   {
    "duration": 144,
    "start_time": "2022-04-07T12:26:32.976Z"
   },
   {
    "duration": 157,
    "start_time": "2022-04-07T12:27:40.249Z"
   },
   {
    "duration": 170,
    "start_time": "2022-04-07T12:28:01.914Z"
   },
   {
    "duration": 176,
    "start_time": "2022-04-07T12:32:54.561Z"
   },
   {
    "duration": 144,
    "start_time": "2022-04-07T12:33:09.666Z"
   },
   {
    "duration": 145,
    "start_time": "2022-04-07T12:33:20.042Z"
   },
   {
    "duration": 141,
    "start_time": "2022-04-07T12:34:18.955Z"
   },
   {
    "duration": 174,
    "start_time": "2022-04-07T12:35:23.105Z"
   },
   {
    "duration": 142,
    "start_time": "2022-04-07T12:35:42.306Z"
   },
   {
    "duration": 130,
    "start_time": "2022-04-07T12:35:58.759Z"
   },
   {
    "duration": 192,
    "start_time": "2022-04-07T12:36:18.133Z"
   },
   {
    "duration": 130,
    "start_time": "2022-04-07T12:36:21.558Z"
   },
   {
    "duration": 1289,
    "start_time": "2022-04-07T12:36:42.711Z"
   },
   {
    "duration": 3,
    "start_time": "2022-04-07T12:36:44.002Z"
   },
   {
    "duration": 12520,
    "start_time": "2022-04-07T12:36:44.006Z"
   },
   {
    "duration": 205,
    "start_time": "2022-04-07T12:36:56.528Z"
   },
   {
    "duration": 14,
    "start_time": "2022-04-07T12:36:56.734Z"
   },
   {
    "duration": 107,
    "start_time": "2022-04-07T12:36:56.750Z"
   },
   {
    "duration": 228,
    "start_time": "2022-04-07T12:36:56.859Z"
   },
   {
    "duration": 182,
    "start_time": "2022-04-07T12:36:57.089Z"
   },
   {
    "duration": 161,
    "start_time": "2022-04-07T12:36:57.273Z"
   },
   {
    "duration": 149,
    "start_time": "2022-04-07T12:36:57.437Z"
   },
   {
    "duration": 3106,
    "start_time": "2022-04-07T12:36:57.588Z"
   },
   {
    "duration": 88,
    "start_time": "2022-04-07T12:37:00.696Z"
   },
   {
    "duration": 71,
    "start_time": "2022-04-07T12:37:00.786Z"
   },
   {
    "duration": 1168,
    "start_time": "2022-04-07T12:37:00.858Z"
   },
   {
    "duration": 1489,
    "start_time": "2022-04-07T12:37:02.028Z"
   },
   {
    "duration": 458,
    "start_time": "2022-04-07T12:37:03.518Z"
   },
   {
    "duration": 247,
    "start_time": "2022-04-07T12:37:03.977Z"
   },
   {
    "duration": 153,
    "start_time": "2022-04-07T12:37:04.226Z"
   },
   {
    "duration": 128,
    "start_time": "2022-04-07T12:37:04.381Z"
   },
   {
    "duration": 2218,
    "start_time": "2022-04-07T15:08:21.899Z"
   },
   {
    "duration": 5,
    "start_time": "2022-04-07T15:08:24.120Z"
   },
   {
    "duration": 6141,
    "start_time": "2022-04-07T15:08:24.127Z"
   },
   {
    "duration": 182,
    "start_time": "2022-04-07T15:08:30.271Z"
   },
   {
    "duration": 26,
    "start_time": "2022-04-07T15:08:30.458Z"
   },
   {
    "duration": 133,
    "start_time": "2022-04-07T15:08:30.487Z"
   },
   {
    "duration": 424,
    "start_time": "2022-04-07T15:08:30.622Z"
   },
   {
    "duration": 195,
    "start_time": "2022-04-07T15:08:31.049Z"
   },
   {
    "duration": 160,
    "start_time": "2022-04-07T15:08:31.247Z"
   },
   {
    "duration": 153,
    "start_time": "2022-04-07T15:08:31.409Z"
   },
   {
    "duration": 2579,
    "start_time": "2022-04-07T15:08:31.565Z"
   },
   {
    "duration": 81,
    "start_time": "2022-04-07T15:08:34.146Z"
   },
   {
    "duration": 73,
    "start_time": "2022-04-07T15:08:34.230Z"
   },
   {
    "duration": 1508,
    "start_time": "2022-04-07T15:08:34.308Z"
   },
   {
    "duration": 1042,
    "start_time": "2022-04-07T15:08:35.819Z"
   },
   {
    "duration": 847,
    "start_time": "2022-04-07T15:08:36.863Z"
   },
   {
    "duration": 259,
    "start_time": "2022-04-07T15:08:37.713Z"
   },
   {
    "duration": 289,
    "start_time": "2022-04-07T15:08:37.974Z"
   },
   {
    "duration": 137,
    "start_time": "2022-04-07T15:08:38.266Z"
   },
   {
    "duration": 13,
    "start_time": "2022-04-07T15:10:18.527Z"
   }
  ],
  "colab": {
   "name": "AdvansedSQLProjectTemplate.ipynb",
   "provenance": []
  },
  "kernelspec": {
   "display_name": "Python 3",
   "language": "python",
   "name": "python3"
  },
  "language_info": {
   "codemirror_mode": {
    "name": "ipython",
    "version": 3
   },
   "file_extension": ".py",
   "mimetype": "text/x-python",
   "name": "python",
   "nbconvert_exporter": "python",
   "pygments_lexer": "ipython3",
   "version": "3.8.8"
  },
  "toc": {
   "base_numbering": 1,
   "nav_menu": {},
   "number_sections": false,
   "sideBar": true,
   "skip_h1_title": false,
   "title_cell": "Table of Contents",
   "title_sidebar": "Contents",
   "toc_cell": false,
   "toc_position": {},
   "toc_section_display": true,
   "toc_window_display": true
  }
 },
 "nbformat": 4,
 "nbformat_minor": 1
}
