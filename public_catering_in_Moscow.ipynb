{
 "cells": [
  {
   "cell_type": "markdown",
   "metadata": {},
   "source": [
    "# Исследование заведений общественного питания в Москве"
   ]
  },
  {
   "cell_type": "markdown",
   "metadata": {},
   "source": [
    "Необходимо изучить рынок заведений общественного питания в Москве.\n",
    "Набор данных содержит информацию об объектах общественного питания.\n",
    "\n",
    "**Цель исследования**: провести исследовательский анализ открытых данных об объектах общественного питания в г. Москва.\n",
    "\n",
    "**Ход исследования**:\n",
    "1. Импорт данных\n",
    "2. Обзор данных\n",
    "3. Предварительная обработка данных\n",
    "4. Исследовательский анализ данных\n",
    "5. Подготовка [презентации](https://disk.yandex.ru/i/6XMCE_N_DR_JqQ)\n",
    "\n",
    "**Используемые библиотеки**:\n",
    "1. pandas\n",
    "2. matplotlib.pyplot\n",
    "3. seaborn\n",
    "4. plotly\n",
    "5. sklearn\n"
   ]
  },
  {
   "cell_type": "markdown",
   "metadata": {},
   "source": [
    "## Импорт данных"
   ]
  },
  {
   "cell_type": "markdown",
   "metadata": {},
   "source": [
    "Подключение библиотек, необходимых для исследования:"
   ]
  },
  {
   "cell_type": "code",
   "execution_count": 1,
   "metadata": {},
   "outputs": [],
   "source": [
    "import pandas as pd\n",
    "import matplotlib.pyplot as plt\n",
    "import seaborn as sns\n",
    "from plotly import graph_objects as go\n",
    "import plotly.express as px\n",
    "from sklearn import preprocessing\n",
    "from sklearn.cluster import KMeans"
   ]
  },
  {
   "cell_type": "markdown",
   "metadata": {},
   "source": [
    "Импорт данных:"
   ]
  },
  {
   "cell_type": "code",
   "execution_count": 2,
   "metadata": {},
   "outputs": [
    {
     "data": {
      "text/html": [
       "<div>\n",
       "<style scoped>\n",
       "    .dataframe tbody tr th:only-of-type {\n",
       "        vertical-align: middle;\n",
       "    }\n",
       "\n",
       "    .dataframe tbody tr th {\n",
       "        vertical-align: top;\n",
       "    }\n",
       "\n",
       "    .dataframe thead th {\n",
       "        text-align: right;\n",
       "    }\n",
       "</style>\n",
       "<table border=\"1\" class=\"dataframe\">\n",
       "  <thead>\n",
       "    <tr style=\"text-align: right;\">\n",
       "      <th></th>\n",
       "      <th>id</th>\n",
       "      <th>object_name</th>\n",
       "      <th>chain</th>\n",
       "      <th>object_type</th>\n",
       "      <th>address</th>\n",
       "      <th>number</th>\n",
       "    </tr>\n",
       "  </thead>\n",
       "  <tbody>\n",
       "    <tr>\n",
       "      <td>0</td>\n",
       "      <td>151635</td>\n",
       "      <td>СМЕТАНА</td>\n",
       "      <td>нет</td>\n",
       "      <td>кафе</td>\n",
       "      <td>город Москва, улица Егора Абакумова, дом 9</td>\n",
       "      <td>48</td>\n",
       "    </tr>\n",
       "    <tr>\n",
       "      <td>1</td>\n",
       "      <td>77874</td>\n",
       "      <td>Родник</td>\n",
       "      <td>нет</td>\n",
       "      <td>кафе</td>\n",
       "      <td>город Москва, улица Талалихина, дом 2/1, корпус 1</td>\n",
       "      <td>35</td>\n",
       "    </tr>\n",
       "    <tr>\n",
       "      <td>2</td>\n",
       "      <td>24309</td>\n",
       "      <td>Кафе «Академия»</td>\n",
       "      <td>нет</td>\n",
       "      <td>кафе</td>\n",
       "      <td>город Москва, Абельмановская улица, дом 6</td>\n",
       "      <td>95</td>\n",
       "    </tr>\n",
       "    <tr>\n",
       "      <td>3</td>\n",
       "      <td>21894</td>\n",
       "      <td>ПИЦЦЕТОРИЯ</td>\n",
       "      <td>да</td>\n",
       "      <td>кафе</td>\n",
       "      <td>город Москва, Абрамцевская улица, дом 1</td>\n",
       "      <td>40</td>\n",
       "    </tr>\n",
       "    <tr>\n",
       "      <td>4</td>\n",
       "      <td>119365</td>\n",
       "      <td>Кафе «Вишневая метель»</td>\n",
       "      <td>нет</td>\n",
       "      <td>кафе</td>\n",
       "      <td>город Москва, Абрамцевская улица, дом 9, корпус 1</td>\n",
       "      <td>50</td>\n",
       "    </tr>\n",
       "  </tbody>\n",
       "</table>\n",
       "</div>"
      ],
      "text/plain": [
       "       id             object_name chain object_type  \\\n",
       "0  151635                 СМЕТАНА   нет        кафе   \n",
       "1   77874                  Родник   нет        кафе   \n",
       "2   24309         Кафе «Академия»   нет        кафе   \n",
       "3   21894              ПИЦЦЕТОРИЯ    да        кафе   \n",
       "4  119365  Кафе «Вишневая метель»   нет        кафе   \n",
       "\n",
       "                                             address  number  \n",
       "0         город Москва, улица Егора Абакумова, дом 9      48  \n",
       "1  город Москва, улица Талалихина, дом 2/1, корпус 1      35  \n",
       "2          город Москва, Абельмановская улица, дом 6      95  \n",
       "3            город Москва, Абрамцевская улица, дом 1      40  \n",
       "4  город Москва, Абрамцевская улица, дом 9, корпус 1      50  "
      ]
     },
     "execution_count": 2,
     "metadata": {},
     "output_type": "execute_result"
    }
   ],
   "source": [
    "rest = pd.read_csv('/datasets/rest_data.csv')\n",
    "rest.head()"
   ]
  },
  {
   "cell_type": "markdown",
   "metadata": {},
   "source": [
    "## Обзор данных"
   ]
  },
  {
   "cell_type": "markdown",
   "metadata": {},
   "source": [
    "Для начала, необходимо провести общий обзор данных."
   ]
  },
  {
   "cell_type": "code",
   "execution_count": 3,
   "metadata": {},
   "outputs": [
    {
     "name": "stdout",
     "output_type": "stream",
     "text": [
      "<class 'pandas.core.frame.DataFrame'>\n",
      "RangeIndex: 15366 entries, 0 to 15365\n",
      "Data columns (total 6 columns):\n",
      "id             15366 non-null int64\n",
      "object_name    15366 non-null object\n",
      "chain          15366 non-null object\n",
      "object_type    15366 non-null object\n",
      "address        15366 non-null object\n",
      "number         15366 non-null int64\n",
      "dtypes: int64(2), object(4)\n",
      "memory usage: 720.4+ KB\n"
     ]
    },
    {
     "data": {
      "text/html": [
       "<div>\n",
       "<style scoped>\n",
       "    .dataframe tbody tr th:only-of-type {\n",
       "        vertical-align: middle;\n",
       "    }\n",
       "\n",
       "    .dataframe tbody tr th {\n",
       "        vertical-align: top;\n",
       "    }\n",
       "\n",
       "    .dataframe thead th {\n",
       "        text-align: right;\n",
       "    }\n",
       "</style>\n",
       "<table border=\"1\" class=\"dataframe\">\n",
       "  <thead>\n",
       "    <tr style=\"text-align: right;\">\n",
       "      <th></th>\n",
       "      <th>id</th>\n",
       "      <th>number</th>\n",
       "    </tr>\n",
       "  </thead>\n",
       "  <tbody>\n",
       "    <tr>\n",
       "      <td>count</td>\n",
       "      <td>15366.000000</td>\n",
       "      <td>15366.000000</td>\n",
       "    </tr>\n",
       "    <tr>\n",
       "      <td>mean</td>\n",
       "      <td>119720.066901</td>\n",
       "      <td>59.547182</td>\n",
       "    </tr>\n",
       "    <tr>\n",
       "      <td>std</td>\n",
       "      <td>73036.130732</td>\n",
       "      <td>74.736833</td>\n",
       "    </tr>\n",
       "    <tr>\n",
       "      <td>min</td>\n",
       "      <td>838.000000</td>\n",
       "      <td>0.000000</td>\n",
       "    </tr>\n",
       "    <tr>\n",
       "      <td>25%</td>\n",
       "      <td>28524.000000</td>\n",
       "      <td>12.000000</td>\n",
       "    </tr>\n",
       "    <tr>\n",
       "      <td>50%</td>\n",
       "      <td>144974.500000</td>\n",
       "      <td>40.000000</td>\n",
       "    </tr>\n",
       "    <tr>\n",
       "      <td>75%</td>\n",
       "      <td>184262.250000</td>\n",
       "      <td>80.000000</td>\n",
       "    </tr>\n",
       "    <tr>\n",
       "      <td>max</td>\n",
       "      <td>223439.000000</td>\n",
       "      <td>1700.000000</td>\n",
       "    </tr>\n",
       "  </tbody>\n",
       "</table>\n",
       "</div>"
      ],
      "text/plain": [
       "                  id        number\n",
       "count   15366.000000  15366.000000\n",
       "mean   119720.066901     59.547182\n",
       "std     73036.130732     74.736833\n",
       "min       838.000000      0.000000\n",
       "25%     28524.000000     12.000000\n",
       "50%    144974.500000     40.000000\n",
       "75%    184262.250000     80.000000\n",
       "max    223439.000000   1700.000000"
      ]
     },
     "metadata": {},
     "output_type": "display_data"
    }
   ],
   "source": [
    "rest.info()\n",
    "display(rest.describe())"
   ]
  },
  {
   "cell_type": "markdown",
   "metadata": {},
   "source": [
    "Данные не имеют явных пропусков, а типы данных всех столбцов, кроме ***chain***, соответствуют их смысловому наполнению (строго говоря, тип данных в столбце ***chain*** в дальнейшем можно оставить без изменений, но для удобства вычислений, преобразуем его в boolean на следующем этапе).\n",
    "\n",
    "В наборе данных присутствует 6 столбцов и 15366 наблюдений. Согласно документации к набору данных:\n",
    "* ***id*** — идентификатор объекта;\n",
    "* ***object_name*** — название объекта общественного питания;\n",
    "* ***chain*** — сетевой ресторан;\n",
    "* ***object_type*** — тип объекта общественного питания;\n",
    "* ***address*** — адрес;\n",
    "* ***number*** — количество посадочных мест."
   ]
  },
  {
   "cell_type": "markdown",
   "metadata": {},
   "source": [
    "### Вывод\n",
    "\n",
    "После предварительного обзора данных можно заключить, что данные являются достаточными для проведения исследования, однако следует удостовериться, что в данных отсутствуют неявные пропуски и дубликаты, а также для дальнейшего удобства вычислений, привести столбец ***chain*** к типу boolean."
   ]
  },
  {
   "cell_type": "markdown",
   "metadata": {},
   "source": [
    "## Предварительная обработка данных"
   ]
  },
  {
   "cell_type": "markdown",
   "metadata": {},
   "source": [
    "Далее необходимо провести предварительную обработку данных и проверить их на наличие дубликатов (как явных, так и неявных) и неявных пропусков."
   ]
  },
  {
   "cell_type": "markdown",
   "metadata": {},
   "source": [
    "### Обработка дубликатов"
   ]
  },
  {
   "cell_type": "markdown",
   "metadata": {},
   "source": [
    "Проверим данные на наличие явных дубликатов:"
   ]
  },
  {
   "cell_type": "code",
   "execution_count": 4,
   "metadata": {},
   "outputs": [
    {
     "name": "stdout",
     "output_type": "stream",
     "text": [
      "Количество явных дубликатов: 0\n"
     ]
    }
   ],
   "source": [
    "print(f'Количество явных дубликатов: {rest.duplicated().sum()}')"
   ]
  },
  {
   "cell_type": "markdown",
   "metadata": {},
   "source": [
    "Явные дубликаты в данных отсутствуют, однако, стоит проверить на наличие дубликатов при исключении из рассмотрения столбца ***id***:"
   ]
  },
  {
   "cell_type": "code",
   "execution_count": 5,
   "metadata": {},
   "outputs": [
    {
     "name": "stdout",
     "output_type": "stream",
     "text": [
      "Количество дубликатов при исключении столбца id: 82\n"
     ]
    }
   ],
   "source": [
    "print(f'Количество дубликатов при исключении столбца id: {rest.drop(\"id\", axis=1).duplicated().sum()}')"
   ]
  },
  {
   "cell_type": "markdown",
   "metadata": {},
   "source": [
    "Таким образом, обнаружены дубликаты по всем параметром, вплоть до названия объекта общественного питания с разными идентификационными номерами. Вероятнее всего, это может быть вызвано, например, закрытием и повторным открытием точки."
   ]
  },
  {
   "cell_type": "markdown",
   "metadata": {},
   "source": [
    "Таких дубликатов немного и на общий ход исследования они значимо не повлияют, однако, стоит исключить их из рассмотрения."
   ]
  },
  {
   "cell_type": "code",
   "execution_count": 6,
   "metadata": {},
   "outputs": [],
   "source": [
    "rest = rest[~rest.drop('id', axis=1).duplicated()]"
   ]
  },
  {
   "cell_type": "markdown",
   "metadata": {},
   "source": [
    "#### Вывод\n",
    "\n",
    "Неявные дубликаты данных устранены."
   ]
  },
  {
   "cell_type": "markdown",
   "metadata": {},
   "source": [
    "### Обработка пропусков"
   ]
  },
  {
   "cell_type": "markdown",
   "metadata": {},
   "source": [
    "Так как явных пропусков в данных не присутствует, проверим уникальных значения категориальных столбцов:"
   ]
  },
  {
   "cell_type": "code",
   "execution_count": 7,
   "metadata": {},
   "outputs": [
    {
     "name": "stdout",
     "output_type": "stream",
     "text": [
      "['нет' 'да']\n",
      "['кафе' 'столовая' 'закусочная' 'предприятие быстрого обслуживания'\n",
      " 'ресторан' 'кафетерий' 'буфет' 'бар' 'магазин (отдел кулинарии)']\n"
     ]
    }
   ],
   "source": [
    "for col in ['chain', 'object_type']:\n",
    "    print(rest[col].unique())"
   ]
  },
  {
   "cell_type": "markdown",
   "metadata": {},
   "source": [
    "#### Вывод\n",
    "\n",
    "В данных столбцах также отсуствуют неявные пропуски, однако значения \"нет\" / \"да\" в столбце ***chain*** лучше привести к типу boolean. В остальных столбцах найти отсутствующие значения вручную проблематично."
   ]
  },
  {
   "cell_type": "markdown",
   "metadata": {},
   "source": [
    "### Приведение типов данных"
   ]
  },
  {
   "cell_type": "markdown",
   "metadata": {},
   "source": [
    "Столбец ***chain*** необходимо привести к типу boolean:"
   ]
  },
  {
   "cell_type": "code",
   "execution_count": 8,
   "metadata": {},
   "outputs": [],
   "source": [
    "rest.chain = rest.chain.apply(lambda x: False if x == 'нет' else True)"
   ]
  },
  {
   "cell_type": "markdown",
   "metadata": {},
   "source": [
    "#### Вывод"
   ]
  },
  {
   "cell_type": "markdown",
   "metadata": {},
   "source": [
    "Тип данных в стобце ***chain*** приведен к boolean"
   ]
  },
  {
   "cell_type": "markdown",
   "metadata": {},
   "source": [
    "### Обработка аномальных значений"
   ]
  },
  {
   "cell_type": "markdown",
   "metadata": {},
   "source": [
    "Предварительный обзор данных показал, что в данных присутствуют подозрительно большие значения столбца ***number***. \n",
    "Проверим распределение данного столбца:"
   ]
  },
  {
   "cell_type": "code",
   "execution_count": 9,
   "metadata": {},
   "outputs": [
    {
     "data": {
      "image/png": "[encoded data removed]",
      "text/plain": [
       "<Figure size 432x288 with 1 Axes>"
      ]
     },
     "metadata": {
      "needs_background": "light"
     },
     "output_type": "display_data"
    }
   ],
   "source": [
    "rest.number.hist(bins=30);\n",
    "plt.title('Распределение количества посадочных мест');"
   ]
  },
  {
   "cell_type": "markdown",
   "metadata": {},
   "source": [
    "Посмотрим детальнее на объекты без посадочных мест, а также на объекты с аномально большим числом посадочных мест:"
   ]
  },
  {
   "cell_type": "code",
   "execution_count": 10,
   "metadata": {},
   "outputs": [
    {
     "name": "stdout",
     "output_type": "stream",
     "text": [
      "Количество объектов с 0 или 1 посадочным местом: 1689\n"
     ]
    },
    {
     "data": {
      "text/html": [
       "<div>\n",
       "<style scoped>\n",
       "    .dataframe tbody tr th:only-of-type {\n",
       "        vertical-align: middle;\n",
       "    }\n",
       "\n",
       "    .dataframe tbody tr th {\n",
       "        vertical-align: top;\n",
       "    }\n",
       "\n",
       "    .dataframe thead th {\n",
       "        text-align: right;\n",
       "    }\n",
       "</style>\n",
       "<table border=\"1\" class=\"dataframe\">\n",
       "  <thead>\n",
       "    <tr style=\"text-align: right;\">\n",
       "      <th></th>\n",
       "      <th>id</th>\n",
       "      <th>object_name</th>\n",
       "      <th>chain</th>\n",
       "      <th>object_type</th>\n",
       "      <th>address</th>\n",
       "      <th>number</th>\n",
       "    </tr>\n",
       "  </thead>\n",
       "  <tbody>\n",
       "    <tr>\n",
       "      <td>137</td>\n",
       "      <td>115498</td>\n",
       "      <td>Пекарня &amp; Донер</td>\n",
       "      <td>False</td>\n",
       "      <td>закусочная</td>\n",
       "      <td>город Москва, Бутырская улица, дом 9, корпус 2</td>\n",
       "      <td>0</td>\n",
       "    </tr>\n",
       "    <tr>\n",
       "      <td>154</td>\n",
       "      <td>152556</td>\n",
       "      <td>Шаурма в пите</td>\n",
       "      <td>False</td>\n",
       "      <td>предприятие быстрого обслуживания</td>\n",
       "      <td>город Москва, Варшавское шоссе, дом 72, корпус 2</td>\n",
       "      <td>0</td>\n",
       "    </tr>\n",
       "    <tr>\n",
       "      <td>157</td>\n",
       "      <td>149568</td>\n",
       "      <td>Суши</td>\n",
       "      <td>False</td>\n",
       "      <td>предприятие быстрого обслуживания</td>\n",
       "      <td>город Москва, улица Маршала Василевского, дом ...</td>\n",
       "      <td>0</td>\n",
       "    </tr>\n",
       "    <tr>\n",
       "      <td>190</td>\n",
       "      <td>126956</td>\n",
       "      <td>Шаурма, куры-гриль</td>\n",
       "      <td>False</td>\n",
       "      <td>предприятие быстрого обслуживания</td>\n",
       "      <td>город Москва, 1-я Владимирская улица, дом 21</td>\n",
       "      <td>0</td>\n",
       "    </tr>\n",
       "    <tr>\n",
       "      <td>195</td>\n",
       "      <td>149531</td>\n",
       "      <td>Шаурма, куры-гриль</td>\n",
       "      <td>False</td>\n",
       "      <td>предприятие быстрого обслуживания</td>\n",
       "      <td>город Москва, 2-я Владимирская улица, дом 44/10</td>\n",
       "      <td>0</td>\n",
       "    </tr>\n",
       "  </tbody>\n",
       "</table>\n",
       "</div>"
      ],
      "text/plain": [
       "         id         object_name  chain                        object_type  \\\n",
       "137  115498     Пекарня & Донер  False                         закусочная   \n",
       "154  152556       Шаурма в пите  False  предприятие быстрого обслуживания   \n",
       "157  149568                Суши  False  предприятие быстрого обслуживания   \n",
       "190  126956  Шаурма, куры-гриль  False  предприятие быстрого обслуживания   \n",
       "195  149531  Шаурма, куры-гриль  False  предприятие быстрого обслуживания   \n",
       "\n",
       "                                               address  number  \n",
       "137     город Москва, Бутырская улица, дом 9, корпус 2       0  \n",
       "154   город Москва, Варшавское шоссе, дом 72, корпус 2       0  \n",
       "157  город Москва, улица Маршала Василевского, дом ...       0  \n",
       "190       город Москва, 1-я Владимирская улица, дом 21       0  \n",
       "195    город Москва, 2-я Владимирская улица, дом 44/10       0  "
      ]
     },
     "metadata": {},
     "output_type": "display_data"
    },
    {
     "name": "stdout",
     "output_type": "stream",
     "text": [
      "Количество объектов более, чем с 1000 посадочных мест: 7\n"
     ]
    },
    {
     "data": {
      "text/html": [
       "<div>\n",
       "<style scoped>\n",
       "    .dataframe tbody tr th:only-of-type {\n",
       "        vertical-align: middle;\n",
       "    }\n",
       "\n",
       "    .dataframe tbody tr th {\n",
       "        vertical-align: top;\n",
       "    }\n",
       "\n",
       "    .dataframe thead th {\n",
       "        text-align: right;\n",
       "    }\n",
       "</style>\n",
       "<table border=\"1\" class=\"dataframe\">\n",
       "  <thead>\n",
       "    <tr style=\"text-align: right;\">\n",
       "      <th></th>\n",
       "      <th>id</th>\n",
       "      <th>object_name</th>\n",
       "      <th>chain</th>\n",
       "      <th>object_type</th>\n",
       "      <th>address</th>\n",
       "      <th>number</th>\n",
       "    </tr>\n",
       "  </thead>\n",
       "  <tbody>\n",
       "    <tr>\n",
       "      <td>2313</td>\n",
       "      <td>26560</td>\n",
       "      <td>Ресторан «АЛЬФА»</td>\n",
       "      <td>False</td>\n",
       "      <td>ресторан</td>\n",
       "      <td>город Москва, Измайловское шоссе, дом 71, корп...</td>\n",
       "      <td>1040</td>\n",
       "    </tr>\n",
       "    <tr>\n",
       "      <td>3686</td>\n",
       "      <td>27026</td>\n",
       "      <td>РУМ СЕРВИС</td>\n",
       "      <td>False</td>\n",
       "      <td>ресторан</td>\n",
       "      <td>город Москва, площадь Европы, дом 2</td>\n",
       "      <td>1200</td>\n",
       "    </tr>\n",
       "    <tr>\n",
       "      <td>4480</td>\n",
       "      <td>27024</td>\n",
       "      <td>РУМ СЕРВИС</td>\n",
       "      <td>False</td>\n",
       "      <td>ресторан</td>\n",
       "      <td>город Москва, Кутузовский проспект, дом 2/1, с...</td>\n",
       "      <td>1200</td>\n",
       "    </tr>\n",
       "    <tr>\n",
       "      <td>8148</td>\n",
       "      <td>80291</td>\n",
       "      <td>Банкетный зал Шелк</td>\n",
       "      <td>False</td>\n",
       "      <td>ресторан</td>\n",
       "      <td>город Москва, Большой Саввинский переулок, дом...</td>\n",
       "      <td>1500</td>\n",
       "    </tr>\n",
       "    <tr>\n",
       "      <td>8345</td>\n",
       "      <td>27750</td>\n",
       "      <td>СТОЛОВАЯ-БУФЕТ</td>\n",
       "      <td>False</td>\n",
       "      <td>столовая</td>\n",
       "      <td>город Москва, улица Волхонка, дом 15</td>\n",
       "      <td>1400</td>\n",
       "    </tr>\n",
       "  </tbody>\n",
       "</table>\n",
       "</div>"
      ],
      "text/plain": [
       "         id         object_name  chain object_type  \\\n",
       "2313  26560    Ресторан «АЛЬФА»  False    ресторан   \n",
       "3686  27026          РУМ СЕРВИС  False    ресторан   \n",
       "4480  27024          РУМ СЕРВИС  False    ресторан   \n",
       "8148  80291  Банкетный зал Шелк  False    ресторан   \n",
       "8345  27750      СТОЛОВАЯ-БУФЕТ  False    столовая   \n",
       "\n",
       "                                                address  number  \n",
       "2313  город Москва, Измайловское шоссе, дом 71, корп...    1040  \n",
       "3686                город Москва, площадь Европы, дом 2    1200  \n",
       "4480  город Москва, Кутузовский проспект, дом 2/1, с...    1200  \n",
       "8148  город Москва, Большой Саввинский переулок, дом...    1500  \n",
       "8345               город Москва, улица Волхонка, дом 15    1400  "
      ]
     },
     "metadata": {},
     "output_type": "display_data"
    }
   ],
   "source": [
    "print(f'Количество объектов с 0 или 1 посадочным местом: {len(rest[rest.number < 2])}')\n",
    "display(rest[rest.number < 2].head())\n",
    "print(f'Количество объектов более, чем с 1000 посадочных мест: {len(rest[rest.number > 1000])}')\n",
    "display(rest[rest.number > 1000].head())"
   ]
  },
  {
   "cell_type": "markdown",
   "metadata": {},
   "source": [
    "#### Вывод\n",
    "Исключать данные объекты из рассмотрения не будем,так как довольно затруднительно проверить характер таких явлений для каждого объекта (то есть, например, в предприятиях быстрого питания - 0 посадочных мест вполне естественно, а 1700 посадочных мест - это концертная площадка) однако, стоит принять во внимание, что рассчитывать среднее по неагрегированным значениям в таком случае не нужно. В ходе исследования будем пользоваться медианными значениями, если они потребуются."
   ]
  },
  {
   "cell_type": "markdown",
   "metadata": {},
   "source": [
    "## Исследовательский анализ данных"
   ]
  },
  {
   "cell_type": "markdown",
   "metadata": {},
   "source": [
    "В ходе исследования будет произведен анализ различных параметров объектов общественного питания. По результату каждого этапа исследования будет представлена таблица с русскоязычными обозначениями, а также график (опционально) и соответствующие выводы."
   ]
  },
  {
   "cell_type": "markdown",
   "metadata": {},
   "source": [
    "### Исследование видов объектов общественного питания"
   ]
  },
  {
   "cell_type": "markdown",
   "metadata": {},
   "source": [
    "На первом этапе исследования, проверим распределение количества объектов по типу объекта. Здесь и далее основные сводные таблицы будем сохранять для возможности последующей выгрузки."
   ]
  },
  {
   "cell_type": "code",
   "execution_count": 11,
   "metadata": {},
   "outputs": [
    {
     "data": {
      "text/html": [
       "<div>\n",
       "<style scoped>\n",
       "    .dataframe tbody tr th:only-of-type {\n",
       "        vertical-align: middle;\n",
       "    }\n",
       "\n",
       "    .dataframe tbody tr th {\n",
       "        vertical-align: top;\n",
       "    }\n",
       "\n",
       "    .dataframe thead th {\n",
       "        text-align: right;\n",
       "    }\n",
       "</style>\n",
       "<table border=\"1\" class=\"dataframe\">\n",
       "  <thead>\n",
       "    <tr style=\"text-align: right;\">\n",
       "      <th></th>\n",
       "      <th>Тип объекта</th>\n",
       "      <th>Количество объектов</th>\n",
       "    </tr>\n",
       "  </thead>\n",
       "  <tbody>\n",
       "    <tr>\n",
       "      <td>0</td>\n",
       "      <td>бар</td>\n",
       "      <td>855</td>\n",
       "    </tr>\n",
       "    <tr>\n",
       "      <td>1</td>\n",
       "      <td>буфет</td>\n",
       "      <td>577</td>\n",
       "    </tr>\n",
       "    <tr>\n",
       "      <td>2</td>\n",
       "      <td>закусочная</td>\n",
       "      <td>349</td>\n",
       "    </tr>\n",
       "    <tr>\n",
       "      <td>3</td>\n",
       "      <td>кафе</td>\n",
       "      <td>6071</td>\n",
       "    </tr>\n",
       "    <tr>\n",
       "      <td>4</td>\n",
       "      <td>кафетерий</td>\n",
       "      <td>395</td>\n",
       "    </tr>\n",
       "    <tr>\n",
       "      <td>5</td>\n",
       "      <td>магазин (отдел кулинарии)</td>\n",
       "      <td>273</td>\n",
       "    </tr>\n",
       "    <tr>\n",
       "      <td>6</td>\n",
       "      <td>предприятие быстрого обслуживания</td>\n",
       "      <td>1898</td>\n",
       "    </tr>\n",
       "    <tr>\n",
       "      <td>7</td>\n",
       "      <td>ресторан</td>\n",
       "      <td>2282</td>\n",
       "    </tr>\n",
       "    <tr>\n",
       "      <td>8</td>\n",
       "      <td>столовая</td>\n",
       "      <td>2584</td>\n",
       "    </tr>\n",
       "  </tbody>\n",
       "</table>\n",
       "</div>"
      ],
      "text/plain": [
       "                         Тип объекта  Количество объектов\n",
       "0                                бар                  855\n",
       "1                              буфет                  577\n",
       "2                         закусочная                  349\n",
       "3                               кафе                 6071\n",
       "4                          кафетерий                  395\n",
       "5          магазин (отдел кулинарии)                  273\n",
       "6  предприятие быстрого обслуживания                 1898\n",
       "7                           ресторан                 2282\n",
       "8                           столовая                 2584"
      ]
     },
     "execution_count": 11,
     "metadata": {},
     "output_type": "execute_result"
    }
   ],
   "source": [
    "stat_type = rest.groupby('object_type')['id'].count().reset_index()\n",
    "stat_type.columns = ['Тип объекта', 'Количество объектов']\n",
    "stat_type"
   ]
  },
  {
   "cell_type": "markdown",
   "metadata": {},
   "source": [
    "#### Вывод\n",
    "\n",
    "Нетрудно заметить, что подавляющее большинство объектов общественного питания принадлежит к типу \"кафе\" *(6071 объект)*. \n",
    "\n",
    "За ними почти одинаковое количество объектов имеют типы \"столовая\" *(2584 объектов)*, \"ресторан\" *(2282 объектов)* и \"предприятия быстрого обслуживания\" *(1898 объектов)*. \n",
    "\n",
    "Остальные типы объектов составляют менее 6% объема данных каждый. Меньше всего объектов с типом \"кулинария\" *(273 объекта)*"
   ]
  },
  {
   "cell_type": "markdown",
   "metadata": {},
   "source": [
    "### Исследование количества сетевых и несетевых объектов"
   ]
  },
  {
   "cell_type": "markdown",
   "metadata": {},
   "source": [
    "На данном этапе будет установлено абсолютное и относительное соотношение между объектами с сетевым и несетевым типом распространения."
   ]
  },
  {
   "cell_type": "code",
   "execution_count": 13,
   "metadata": {},
   "outputs": [
    {
     "data": {
      "text/html": [
       "<div>\n",
       "<style scoped>\n",
       "    .dataframe tbody tr th:only-of-type {\n",
       "        vertical-align: middle;\n",
       "    }\n",
       "\n",
       "    .dataframe tbody tr th {\n",
       "        vertical-align: top;\n",
       "    }\n",
       "\n",
       "    .dataframe thead th {\n",
       "        text-align: right;\n",
       "    }\n",
       "</style>\n",
       "<table border=\"1\" class=\"dataframe\">\n",
       "  <thead>\n",
       "    <tr style=\"text-align: right;\">\n",
       "      <th></th>\n",
       "      <th>Тип объекта</th>\n",
       "      <th>Количество объектов</th>\n",
       "      <th>Доля</th>\n",
       "    </tr>\n",
       "  </thead>\n",
       "  <tbody>\n",
       "    <tr>\n",
       "      <td>0</td>\n",
       "      <td>несетевые</td>\n",
       "      <td>12320</td>\n",
       "      <td>80.61</td>\n",
       "    </tr>\n",
       "    <tr>\n",
       "      <td>1</td>\n",
       "      <td>сетевые</td>\n",
       "      <td>2964</td>\n",
       "      <td>19.39</td>\n",
       "    </tr>\n",
       "  </tbody>\n",
       "</table>\n",
       "</div>"
      ],
      "text/plain": [
       "  Тип объекта  Количество объектов   Доля\n",
       "0   несетевые                12320  80.61\n",
       "1     сетевые                 2964  19.39"
      ]
     },
     "execution_count": 13,
     "metadata": {},
     "output_type": "execute_result"
    }
   ],
   "source": [
    "stat_chain = rest.groupby('chain')['id'].count().reset_index()\n",
    "stat_chain.columns = ['Тип объекта', 'Количество объектов']\n",
    "stat_chain['Доля'] = round(stat_chain['Количество объектов'] / stat_chain['Количество объектов'].sum() * 100, 2)\n",
    "stat_chain.replace([False, True], ['несетевые', 'сетевые'], inplace=True)\n",
    "stat_chain"
   ]
  },
  {
   "cell_type": "code",
   "execution_count": 14,
   "metadata": {},
   "outputs": [
    {
     "data": {
      "image/png": "[encoded data removed]",
      "text/plain": [
       "<Figure size 432x288 with 1 Axes>"
      ]
     },
     "metadata": {
      "needs_background": "light"
     },
     "output_type": "display_data"
    }
   ],
   "source": [
    "ax = sns.barplot(data=stat_chain, x='Тип объекта', y='Количество объектов');\n",
    "plt.title('Количество сетевых и несетевых объектов');\n",
    "for p, t in zip(ax.patches, stat_chain['Доля']) :\n",
    "    width = p.get_width()\n",
    "    height = p.get_height()\n",
    "    x, y = p.get_xy() \n",
    "    ax.annotate(f'{t}%', (x + width/2, y + height/2), ha='center')"
   ]
  },
  {
   "cell_type": "markdown",
   "metadata": {},
   "source": [
    "#### Вывод\n",
    "\n",
    "Более 80% представленных объектов (12320 объектов) не являются сетевыми."
   ]
  },
  {
   "cell_type": "markdown",
   "metadata": {},
   "source": [
    "### Исследование зависимости вида объекта и типа распространения"
   ]
  },
  {
   "cell_type": "markdown",
   "metadata": {},
   "source": [
    "На данном этапе исследуется зависимость типа объекта и типа его распространения:"
   ]
  },
  {
   "cell_type": "code",
   "execution_count": 15,
   "metadata": {},
   "outputs": [
    {
     "data": {
      "text/html": [
       "<div>\n",
       "<style scoped>\n",
       "    .dataframe tbody tr th:only-of-type {\n",
       "        vertical-align: middle;\n",
       "    }\n",
       "\n",
       "    .dataframe tbody tr th {\n",
       "        vertical-align: top;\n",
       "    }\n",
       "\n",
       "    .dataframe thead th {\n",
       "        text-align: right;\n",
       "    }\n",
       "</style>\n",
       "<table border=\"1\" class=\"dataframe\">\n",
       "  <thead>\n",
       "    <tr style=\"text-align: right;\">\n",
       "      <th></th>\n",
       "      <th>Тип объекта</th>\n",
       "      <th>Несетевых объектов</th>\n",
       "      <th>Сетевых объектов</th>\n",
       "      <th>доля сетевых объектов</th>\n",
       "      <th>доля несетевых объектов</th>\n",
       "    </tr>\n",
       "  </thead>\n",
       "  <tbody>\n",
       "    <tr>\n",
       "      <td>0</td>\n",
       "      <td>бар</td>\n",
       "      <td>818</td>\n",
       "      <td>37</td>\n",
       "      <td>4.33</td>\n",
       "      <td>95.67</td>\n",
       "    </tr>\n",
       "    <tr>\n",
       "      <td>1</td>\n",
       "      <td>буфет</td>\n",
       "      <td>566</td>\n",
       "      <td>11</td>\n",
       "      <td>1.91</td>\n",
       "      <td>98.09</td>\n",
       "    </tr>\n",
       "    <tr>\n",
       "      <td>2</td>\n",
       "      <td>закусочная</td>\n",
       "      <td>293</td>\n",
       "      <td>56</td>\n",
       "      <td>16.05</td>\n",
       "      <td>83.95</td>\n",
       "    </tr>\n",
       "    <tr>\n",
       "      <td>3</td>\n",
       "      <td>кафе</td>\n",
       "      <td>4675</td>\n",
       "      <td>1396</td>\n",
       "      <td>22.99</td>\n",
       "      <td>77.01</td>\n",
       "    </tr>\n",
       "    <tr>\n",
       "      <td>4</td>\n",
       "      <td>кафетерий</td>\n",
       "      <td>343</td>\n",
       "      <td>52</td>\n",
       "      <td>13.16</td>\n",
       "      <td>86.84</td>\n",
       "    </tr>\n",
       "    <tr>\n",
       "      <td>5</td>\n",
       "      <td>магазин</td>\n",
       "      <td>195</td>\n",
       "      <td>78</td>\n",
       "      <td>28.57</td>\n",
       "      <td>71.43</td>\n",
       "    </tr>\n",
       "    <tr>\n",
       "      <td>6</td>\n",
       "      <td>быстрое обслуживание</td>\n",
       "      <td>1110</td>\n",
       "      <td>788</td>\n",
       "      <td>41.52</td>\n",
       "      <td>58.48</td>\n",
       "    </tr>\n",
       "    <tr>\n",
       "      <td>7</td>\n",
       "      <td>ресторан</td>\n",
       "      <td>1739</td>\n",
       "      <td>543</td>\n",
       "      <td>23.79</td>\n",
       "      <td>76.21</td>\n",
       "    </tr>\n",
       "    <tr>\n",
       "      <td>8</td>\n",
       "      <td>столовая</td>\n",
       "      <td>2581</td>\n",
       "      <td>3</td>\n",
       "      <td>0.12</td>\n",
       "      <td>99.88</td>\n",
       "    </tr>\n",
       "  </tbody>\n",
       "</table>\n",
       "</div>"
      ],
      "text/plain": [
       "            Тип объекта  Несетевых объектов  Сетевых объектов  \\\n",
       "0                   бар                 818                37   \n",
       "1                 буфет                 566                11   \n",
       "2            закусочная                 293                56   \n",
       "3                  кафе                4675              1396   \n",
       "4             кафетерий                 343                52   \n",
       "5               магазин                 195                78   \n",
       "6  быстрое обслуживание                1110               788   \n",
       "7              ресторан                1739               543   \n",
       "8              столовая                2581                 3   \n",
       "\n",
       "   доля сетевых объектов  доля несетевых объектов  \n",
       "0                   4.33                    95.67  \n",
       "1                   1.91                    98.09  \n",
       "2                  16.05                    83.95  \n",
       "3                  22.99                    77.01  \n",
       "4                  13.16                    86.84  \n",
       "5                  28.57                    71.43  \n",
       "6                  41.52                    58.48  \n",
       "7                  23.79                    76.21  \n",
       "8                   0.12                    99.88  "
      ]
     },
     "execution_count": 15,
     "metadata": {},
     "output_type": "execute_result"
    }
   ],
   "source": [
    "stat_type_chain = rest.pivot_table(index=['object_type'], columns='chain', values='id', aggfunc='count').reset_index()\n",
    "stat_type_chain.columns = ['Тип объекта', 'Несетевых объектов', 'Сетевых объектов']\n",
    "stat_type_chain.replace(['магазин (отдел кулинарии)', 'предприятие быстрого обслуживания'], \n",
    "                        ['магазин', 'быстрое обслуживание'], inplace=True)\n",
    "\n",
    "stat_type_chain['доля сетевых объектов'] = round((stat_type_chain['Сетевых объектов'] / \n",
    "                                                 (stat_type_chain['Сетевых объектов'] + \n",
    "                                                  stat_type_chain['Несетевых объектов'])) * 100, 2)\n",
    "stat_type_chain['доля несетевых объектов'] = round((stat_type_chain['Несетевых объектов'] / \n",
    "                                                   (stat_type_chain['Сетевых объектов'] + \n",
    "                                                    stat_type_chain['Несетевых объектов'])) * 100, 2)\n",
    "\n",
    "stat_type_chain"
   ]
  },
  {
   "cell_type": "code",
   "execution_count": 16,
   "metadata": {},
   "outputs": [
    {
     "data": {
      "image/png": "[encoded data removed]",
      "text/plain": [
       "<Figure size 864x432 with 1 Axes>"
      ]
     },
     "metadata": {
      "needs_background": "light"
     },
     "output_type": "display_data"
    }
   ],
   "source": [
    "stat_type_chain.plot.bar(x='Тип объекта', y=['Несетевых объектов', 'Сетевых объектов'], figsize=(12, 6));\n",
    "plt.xticks(rotation=45);\n",
    "plt.title('Соотношение сетевых и несетевых объектов для каждого типа');"
   ]
  },
  {
   "cell_type": "markdown",
   "metadata": {},
   "source": [
    "#### Вывод\n",
    "\n",
    "Результаты этого исследования являются интуитивно согласующимися. Выводы представлены в порядке уменьшения количества общего количества объектов. Таким образом:\n",
    "\n",
    "* Как уже было установлено ранее, тип \"кафе\" является самым распространенным. Внутри типа количество несетевых объектов составляет более 77%.\n",
    "* На втором месте по количеству объектов располагается тип \"столоая\", в котором менее 1% сетевых объектов.\n",
    "* Далее по следует тип \"ресторан\" в котором более 76% несетевых объектов, причём стоит обратить внимание на то, что относительное количество сетевых объектов у ресторанов выше.\n",
    "* Следующий тип объекта - \"быстрое обслуживание\". Здесь интересен тот факт, что доля сетевых объектов составляет более 41%, что говорит о том, что сетевой тип распространения наиболее характерен для объектов быстрого обслуживания.\n",
    "* Последующие типы не представляют существенного интереса, так как их доля в общем объеме данных мала, но следует обратить внимание на тот факт, что сетевое распространение также отчасти характерно для магазинов-кулинарий (более 28%). "
   ]
  },
  {
   "cell_type": "code",
   "execution_count": 17,
   "metadata": {},
   "outputs": [
    {
     "data": {
      "text/html": [
       "<div>\n",
       "<style scoped>\n",
       "    .dataframe tbody tr th:only-of-type {\n",
       "        vertical-align: middle;\n",
       "    }\n",
       "\n",
       "    .dataframe tbody tr th {\n",
       "        vertical-align: top;\n",
       "    }\n",
       "\n",
       "    .dataframe thead th {\n",
       "        text-align: right;\n",
       "    }\n",
       "</style>\n",
       "<table border=\"1\" class=\"dataframe\">\n",
       "  <thead>\n",
       "    <tr style=\"text-align: right;\">\n",
       "      <th></th>\n",
       "      <th>доля_сетевых</th>\n",
       "      <th>доля_несетевых</th>\n",
       "    </tr>\n",
       "    <tr>\n",
       "      <th>object_type</th>\n",
       "      <th></th>\n",
       "      <th></th>\n",
       "    </tr>\n",
       "  </thead>\n",
       "  <tbody>\n",
       "    <tr>\n",
       "      <td>бар</td>\n",
       "      <td>0.04</td>\n",
       "      <td>0.96</td>\n",
       "    </tr>\n",
       "    <tr>\n",
       "      <td>буфет</td>\n",
       "      <td>0.02</td>\n",
       "      <td>0.98</td>\n",
       "    </tr>\n",
       "    <tr>\n",
       "      <td>закусочная</td>\n",
       "      <td>0.16</td>\n",
       "      <td>0.84</td>\n",
       "    </tr>\n",
       "    <tr>\n",
       "      <td>кафе</td>\n",
       "      <td>0.23</td>\n",
       "      <td>0.77</td>\n",
       "    </tr>\n",
       "    <tr>\n",
       "      <td>кафетерий</td>\n",
       "      <td>0.13</td>\n",
       "      <td>0.87</td>\n",
       "    </tr>\n",
       "    <tr>\n",
       "      <td>магазин (отдел кулинарии)</td>\n",
       "      <td>0.29</td>\n",
       "      <td>0.71</td>\n",
       "    </tr>\n",
       "    <tr>\n",
       "      <td>предприятие быстрого обслуживания</td>\n",
       "      <td>0.42</td>\n",
       "      <td>0.58</td>\n",
       "    </tr>\n",
       "    <tr>\n",
       "      <td>ресторан</td>\n",
       "      <td>0.24</td>\n",
       "      <td>0.76</td>\n",
       "    </tr>\n",
       "    <tr>\n",
       "      <td>столовая</td>\n",
       "      <td>0.00</td>\n",
       "      <td>1.00</td>\n",
       "    </tr>\n",
       "  </tbody>\n",
       "</table>\n",
       "</div>"
      ],
      "text/plain": [
       "                                   доля_сетевых  доля_несетевых\n",
       "object_type                                                    \n",
       "бар                                        0.04            0.96\n",
       "буфет                                      0.02            0.98\n",
       "закусочная                                 0.16            0.84\n",
       "кафе                                       0.23            0.77\n",
       "кафетерий                                  0.13            0.87\n",
       "магазин (отдел кулинарии)                  0.29            0.71\n",
       "предприятие быстрого обслуживания          0.42            0.58\n",
       "ресторан                                   0.24            0.76\n",
       "столовая                                   0.00            1.00"
      ]
     },
     "execution_count": 17,
     "metadata": {},
     "output_type": "execute_result"
    }
   ],
   "source": [
    "rest.groupby('object_type').apply(lambda group: pd.Series(dict(доля_сетевых=group['chain'].mean().round(2),\n",
    "                                                               доля_несетевых=(group['chain'] == False).mean().round(2))))"
   ]
  },
  {
   "cell_type": "markdown",
   "metadata": {},
   "source": [
    "### Исследование количества посадочных мест и количества объектов в сетевых заведениях"
   ]
  },
  {
   "cell_type": "markdown",
   "metadata": {},
   "source": [
    "На данном исследования устанавливается количество посадочных мест и количество объектов внутри каждой сети пунктов общественного питания. \n",
    "\n",
    "Данный этап исследования во многом имеет слишком субъективный характер и сильно зависит от степени очистки данных , а также от выбора пороговых значений, которые позволяют судить критериями \"мало\" / \"много\".\n",
    "\n",
    "Важно обратить внимание на то, что использование результатов данного блока без уточнения дополнительных данных, относительно объекта, который планируется открывать, может привнести дополнительные финансовые и временные издержки."
   ]
  },
  {
   "cell_type": "markdown",
   "metadata": {},
   "source": [
    "На первом этапе происходит объявление функций, необходимых для очистки и классификации данных:"
   ]
  },
  {
   "cell_type": "code",
   "execution_count": 18,
   "metadata": {},
   "outputs": [],
   "source": [
    "def name_split(name):\n",
    "    \n",
    "    ''' \n",
    "        Данная функция принимает на вход название сети объектов и выделяет название,\n",
    "        убирая лишние слова из строки\n",
    "    '''\n",
    "    res = name.lower()\n",
    "    res = res.split(' «')\n",
    "    return res[len(res)-1].split('»')[0]\n",
    "\n",
    "def obj_category(row):\n",
    "    \n",
    "    ''' \n",
    "        Данная функция принимает на вход медианные строку данных, \n",
    "        сгруппированных по названию сети и присваивает каждой сети определенную категорию:\n",
    "        \n",
    "        -- мало точек в сети и мало посадочных мест в каждой\n",
    "        +- много точек в сети и мало посадочных мест в каждой\n",
    "        -+ мало точек в сети и много посадочных мест в каждой\n",
    "        ++ много точек в сети и много посадочных мест в каждой\n",
    "        ?? в том случае, если по каким-то причинам нет входа во все условия\n",
    "        \n",
    "        Переменные cmed и mmed в начале тела функции задают пороговые значения\n",
    "        между \"много\" и \"мало\" для количества точек и медианного значения посадочных мест в сети\n",
    "    '''\n",
    "    cmed = 5\n",
    "    mmed= 40\n",
    "    if row['count_of_obj'] < cmed and row['med_number'] < mmed:\n",
    "        return('--')\n",
    "    if row['count_of_obj'] >= cmed and row['med_number'] < mmed:\n",
    "        return('+-')\n",
    "    if row['count_of_obj'] >= cmed and row['med_number'] >= mmed:\n",
    "        return('++')\n",
    "    if row['count_of_obj'] < cmed and row['med_number'] >= mmed:\n",
    "        return('-+')\n",
    "    return '??'"
   ]
  },
  {
   "cell_type": "markdown",
   "metadata": {},
   "source": [
    "Также стоит обратить внимание на то, что все объекты, количество которых в сети равно единице будут исключены из рассмотрения по следующим причинам:\n",
    "1. Возможно, данные точки являются следствием довольно грубой очистки названий сетей. \n",
    "2. Возможно, данные точки являются сетевыми, но в Москве, действительно, располагается только 1 объект."
   ]
  },
  {
   "cell_type": "code",
   "execution_count": 19,
   "metadata": {},
   "outputs": [],
   "source": [
    "stat_chain_number = rest[rest.chain==True].copy() # только сетевые объекты\n",
    "stat_chain_number['new_name'] = stat_chain_number['object_name'].apply(name_split) # очистка названий\n",
    "stat_chain_number = stat_chain_number.pivot_table(index='new_name', \n",
    "                                                  values='number', \n",
    "                                                  aggfunc=['count', 'median']).reset_index() # сведение очищенных данных\n",
    "stat_chain_number.columns = ['name', 'count_of_obj', 'med_number']\n",
    "stat_chain_number = stat_chain_number[stat_chain_number.count_of_obj > 1] #исключение сетей с 1 объектом\n",
    "stat_chain_number['categ'] = stat_chain_number.apply(obj_category, axis=1) #категоризация сгруппированных данных"
   ]
  },
  {
   "cell_type": "code",
   "execution_count": 20,
   "metadata": {},
   "outputs": [
    {
     "data": {
      "text/html": [
       "<div>\n",
       "<style scoped>\n",
       "    .dataframe tbody tr th:only-of-type {\n",
       "        vertical-align: middle;\n",
       "    }\n",
       "\n",
       "    .dataframe tbody tr th {\n",
       "        vertical-align: top;\n",
       "    }\n",
       "\n",
       "    .dataframe thead th {\n",
       "        text-align: right;\n",
       "    }\n",
       "</style>\n",
       "<table border=\"1\" class=\"dataframe\">\n",
       "  <thead>\n",
       "    <tr style=\"text-align: right;\">\n",
       "      <th></th>\n",
       "      <th>name</th>\n",
       "      <th>count_of_obj</th>\n",
       "      <th>med_number</th>\n",
       "      <th>categ</th>\n",
       "    </tr>\n",
       "  </thead>\n",
       "  <tbody>\n",
       "    <tr>\n",
       "      <td>3</td>\n",
       "      <td>bocconcino</td>\n",
       "      <td>3</td>\n",
       "      <td>68.0</td>\n",
       "      <td>-+</td>\n",
       "    </tr>\n",
       "    <tr>\n",
       "      <td>7</td>\n",
       "      <td>burger club</td>\n",
       "      <td>3</td>\n",
       "      <td>20.0</td>\n",
       "      <td>--</td>\n",
       "    </tr>\n",
       "    <tr>\n",
       "      <td>9</td>\n",
       "      <td>coffeeshop company</td>\n",
       "      <td>4</td>\n",
       "      <td>50.0</td>\n",
       "      <td>-+</td>\n",
       "    </tr>\n",
       "    <tr>\n",
       "      <td>10</td>\n",
       "      <td>cofix</td>\n",
       "      <td>25</td>\n",
       "      <td>10.0</td>\n",
       "      <td>+-</td>\n",
       "    </tr>\n",
       "    <tr>\n",
       "      <td>12</td>\n",
       "      <td>correas</td>\n",
       "      <td>3</td>\n",
       "      <td>32.0</td>\n",
       "      <td>--</td>\n",
       "    </tr>\n",
       "  </tbody>\n",
       "</table>\n",
       "</div>"
      ],
      "text/plain": [
       "                  name  count_of_obj  med_number categ\n",
       "3           bocconcino             3        68.0    -+\n",
       "7          burger club             3        20.0    --\n",
       "9   coffeeshop company             4        50.0    -+\n",
       "10               cofix            25        10.0    +-\n",
       "12             correas             3        32.0    --"
      ]
     },
     "execution_count": 20,
     "metadata": {},
     "output_type": "execute_result"
    }
   ],
   "source": [
    "stat_chain_number.head()"
   ]
  },
  {
   "cell_type": "markdown",
   "metadata": {},
   "source": [
    "Далее данные повторно группируются, но в этот раз по присвоенной категории:"
   ]
  },
  {
   "cell_type": "code",
   "execution_count": 21,
   "metadata": {},
   "outputs": [
    {
     "data": {
      "text/html": [
       "<div>\n",
       "<style scoped>\n",
       "    .dataframe tbody tr th:only-of-type {\n",
       "        vertical-align: middle;\n",
       "    }\n",
       "\n",
       "    .dataframe tbody tr th {\n",
       "        vertical-align: top;\n",
       "    }\n",
       "\n",
       "    .dataframe thead th {\n",
       "        text-align: right;\n",
       "    }\n",
       "</style>\n",
       "<table border=\"1\" class=\"dataframe\">\n",
       "  <thead>\n",
       "    <tr style=\"text-align: right;\">\n",
       "      <th></th>\n",
       "      <th>Категория</th>\n",
       "      <th>Количество</th>\n",
       "      <th>Доля</th>\n",
       "    </tr>\n",
       "  </thead>\n",
       "  <tbody>\n",
       "    <tr>\n",
       "      <td>0</td>\n",
       "      <td>++</td>\n",
       "      <td>52</td>\n",
       "      <td>25.49</td>\n",
       "    </tr>\n",
       "    <tr>\n",
       "      <td>1</td>\n",
       "      <td>+-</td>\n",
       "      <td>48</td>\n",
       "      <td>23.53</td>\n",
       "    </tr>\n",
       "    <tr>\n",
       "      <td>2</td>\n",
       "      <td>-+</td>\n",
       "      <td>60</td>\n",
       "      <td>29.41</td>\n",
       "    </tr>\n",
       "    <tr>\n",
       "      <td>3</td>\n",
       "      <td>--</td>\n",
       "      <td>44</td>\n",
       "      <td>21.57</td>\n",
       "    </tr>\n",
       "  </tbody>\n",
       "</table>\n",
       "</div>"
      ],
      "text/plain": [
       "  Категория  Количество   Доля\n",
       "0        ++          52  25.49\n",
       "1        +-          48  23.53\n",
       "2        -+          60  29.41\n",
       "3        --          44  21.57"
      ]
     },
     "execution_count": 21,
     "metadata": {},
     "output_type": "execute_result"
    }
   ],
   "source": [
    "stat_cn_cat = stat_chain_number.groupby('categ')['name'].count().to_frame().reset_index()\n",
    "stat_cn_cat.columns = ['Категория', 'Количество']\n",
    "stat_cn_cat['Доля'] = round(stat_cn_cat['Количество'] / stat_cn_cat['Количество'].sum() * 100, 2)\n",
    "stat_cn_cat"
   ]
  },
  {
   "cell_type": "markdown",
   "metadata": {},
   "source": [
    "Принятые обозначения категорий:\n",
    "* -- мало точек в сети и мало посадочных мест в каждой\n",
    "* +- много точек в сети и мало посадочных мест в каждой\n",
    "* -+ мало точек в сети и много посадочных мест в каждой\n",
    "* ++ много точек в сети и много посадочных мест в каждой"
   ]
  },
  {
   "cell_type": "code",
   "execution_count": 22,
   "metadata": {},
   "outputs": [
    {
     "data": {
      "image/png": "[encoded data removed]",
      "text/plain": [
       "<Figure size 432x288 with 1 Axes>"
      ]
     },
     "metadata": {
      "needs_background": "light"
     },
     "output_type": "display_data"
    }
   ],
   "source": [
    "ax = sns.barplot(data=stat_cn_cat, x='Категория', y='Количество');\n",
    "plt.xticks(rotation=0);\n",
    "plt.title('Распределение количества посадочных мест и объектов в сети');\n",
    "for p, t in zip(ax.patches, stat_cn_cat['Доля']) :\n",
    "    width = p.get_width()\n",
    "    height = p.get_height()\n",
    "    x, y = p.get_xy() \n",
    "    ax.annotate(f'{t}%', (x + width/2, y + height/2), ha='center')"
   ]
  },
  {
   "cell_type": "markdown",
   "metadata": {},
   "source": [
    "#### Вывод\n",
    "\n",
    "Как уже ранее было замечено, делать строгие выводы по данному исследованию довольно сложно, так как присутствует довольно значимый субъективный фактор. \n",
    "\n",
    "Однако, принимая во внимание всё вышесказанное, можно заключить, что в ходе исследования получены следующие результаты: при заданных пороговых значениях (5 для количества объектов в сети, 40 для медианного количества посадочных мест), которые характерирузют переход от \"мало точек в сети / мало посадочных мест\" к \"много\", можно заключить, что немного выделяется категория \"мало объектов в сети с большим количеством посадочных мест\".\n",
    "\n"
   ]
  },
  {
   "cell_type": "markdown",
   "metadata": {},
   "source": [
    "### Исследование количества посадочных мест в объектах разных типов"
   ]
  },
  {
   "cell_type": "markdown",
   "metadata": {},
   "source": [
    "На данном этапе исследуется распределение медианного количества посадочных мест в разрезе типа объекта общественного питания."
   ]
  },
  {
   "cell_type": "code",
   "execution_count": 23,
   "metadata": {},
   "outputs": [
    {
     "data": {
      "text/html": [
       "<div>\n",
       "<style scoped>\n",
       "    .dataframe tbody tr th:only-of-type {\n",
       "        vertical-align: middle;\n",
       "    }\n",
       "\n",
       "    .dataframe tbody tr th {\n",
       "        vertical-align: top;\n",
       "    }\n",
       "\n",
       "    .dataframe thead th {\n",
       "        text-align: right;\n",
       "    }\n",
       "</style>\n",
       "<table border=\"1\" class=\"dataframe\">\n",
       "  <thead>\n",
       "    <tr style=\"text-align: right;\">\n",
       "      <th></th>\n",
       "      <th>Тип</th>\n",
       "      <th>Сетевые объекты</th>\n",
       "      <th>Несетевые объекты</th>\n",
       "      <th>По типу в целом</th>\n",
       "    </tr>\n",
       "  </thead>\n",
       "  <tbody>\n",
       "    <tr>\n",
       "      <td>0</td>\n",
       "      <td>бар</td>\n",
       "      <td>34.0</td>\n",
       "      <td>45.0</td>\n",
       "      <td>35</td>\n",
       "    </tr>\n",
       "    <tr>\n",
       "      <td>1</td>\n",
       "      <td>буфет</td>\n",
       "      <td>32.0</td>\n",
       "      <td>0.0</td>\n",
       "      <td>32</td>\n",
       "    </tr>\n",
       "    <tr>\n",
       "      <td>2</td>\n",
       "      <td>закусочная</td>\n",
       "      <td>0.0</td>\n",
       "      <td>8.0</td>\n",
       "      <td>0</td>\n",
       "    </tr>\n",
       "    <tr>\n",
       "      <td>3</td>\n",
       "      <td>кафе</td>\n",
       "      <td>30.0</td>\n",
       "      <td>40.0</td>\n",
       "      <td>30</td>\n",
       "    </tr>\n",
       "    <tr>\n",
       "      <td>4</td>\n",
       "      <td>кафетерий</td>\n",
       "      <td>6.0</td>\n",
       "      <td>8.0</td>\n",
       "      <td>6</td>\n",
       "    </tr>\n",
       "    <tr>\n",
       "      <td>5</td>\n",
       "      <td>кулинария</td>\n",
       "      <td>0.0</td>\n",
       "      <td>3.5</td>\n",
       "      <td>0</td>\n",
       "    </tr>\n",
       "    <tr>\n",
       "      <td>6</td>\n",
       "      <td>быстрое обслуживание</td>\n",
       "      <td>0.0</td>\n",
       "      <td>25.0</td>\n",
       "      <td>6</td>\n",
       "    </tr>\n",
       "    <tr>\n",
       "      <td>7</td>\n",
       "      <td>ресторан</td>\n",
       "      <td>75.0</td>\n",
       "      <td>89.0</td>\n",
       "      <td>80</td>\n",
       "    </tr>\n",
       "    <tr>\n",
       "      <td>8</td>\n",
       "      <td>столовая</td>\n",
       "      <td>103.0</td>\n",
       "      <td>120.0</td>\n",
       "      <td>103</td>\n",
       "    </tr>\n",
       "  </tbody>\n",
       "</table>\n",
       "</div>"
      ],
      "text/plain": [
       "                    Тип  Сетевые объекты  Несетевые объекты  По типу в целом\n",
       "0                   бар             34.0               45.0               35\n",
       "1                 буфет             32.0                0.0               32\n",
       "2            закусочная              0.0                8.0                0\n",
       "3                  кафе             30.0               40.0               30\n",
       "4             кафетерий              6.0                8.0                6\n",
       "5             кулинария              0.0                3.5                0\n",
       "6  быстрое обслуживание              0.0               25.0                6\n",
       "7              ресторан             75.0               89.0               80\n",
       "8              столовая            103.0              120.0              103"
      ]
     },
     "execution_count": 23,
     "metadata": {},
     "output_type": "execute_result"
    }
   ],
   "source": [
    "stat_type_number = rest.pivot_table(index='object_type', columns='chain', values='number', aggfunc='median').reset_index()\n",
    "stat_type_number = stat_type_number.merge(rest.pivot_table(index='object_type', values='number', \n",
    "                                                           aggfunc='median').reset_index(), on='object_type', how='left')\n",
    "stat_type_number.columns = ['Тип', 'Сетевые объекты', 'Несетевые объекты', 'По типу в целом']\n",
    "stat_type_number.replace(['магазин (отдел кулинарии)', 'предприятие быстрого обслуживания'],\n",
    "                         ['кулинария', 'быстрое обслуживание'], inplace=True)\n",
    "stat_type_number\n"
   ]
  },
  {
   "cell_type": "code",
   "execution_count": 24,
   "metadata": {},
   "outputs": [
    {
     "data": {
      "image/png": "[encoded data removed]",
      "text/plain": [
       "<Figure size 864x432 with 1 Axes>"
      ]
     },
     "metadata": {
      "needs_background": "light"
     },
     "output_type": "display_data"
    }
   ],
   "source": [
    "with plt.style.context('tableau-colorblind10'):    \n",
    "    stat_type_number.plot.bar(x='Тип', y=['Сетевые объекты', 'Несетевые объекты', 'По типу в целом'], figsize=(12, 6))\n",
    "    plt.xticks(rotation=25);\n",
    "    plt.title('Распределение количества посадочных мест для различных типов объектов');"
   ]
  },
  {
   "cell_type": "code",
   "execution_count": 25,
   "metadata": {},
   "outputs": [
    {
     "data": {
      "image/png": "[encoded data removed]",
      "text/plain": [
       "<Figure size 720x720 with 1 Axes>"
      ]
     },
     "metadata": {
      "needs_background": "light"
     },
     "output_type": "display_data"
    }
   ],
   "source": [
    "plt.figure(figsize=(10,10))\n",
    "sns.boxplot(data=rest, x='object_type', y='number', hue='chain');"
   ]
  },
  {
   "cell_type": "markdown",
   "metadata": {},
   "source": [
    "#### Вывод\n",
    "\n",
    "Данное исследование наглядно показывает, что количество посадочных мест сильно зависит от типа заведения, а также для некоторых типов объектов зависит от того, является ли объект сетевым. Таким образом:\n",
    "* Для столовых, особенно несетевых, характерно самое большое медианное значение, относительно других типов объектов. Это косвенно подтверждает саму идеологию таких заведений, т.е. невысокую цена питания и много посадочных мест, для того, чтобы выдержать поток клиентов в часы пиковой загрузки (например, обеденное время у сотрудников соседнего бизнес-центра).\n",
    "* На втором месте идут рестораны, причём, для несетевых ресторанов характерно большее количество посадочных мест, чем для сетевых. В ресторанах медианное значение количества посадочных мест тоже довольно высокое, так как в ресторанах цены, как правило, выше, чем в столовых, но при этом посетители там тоже могут проводить довольно много времени, в связи с чем малое количество посадочных мест может просто не перекрыть поток клиентов в пиковые нагрузочные часы.\n",
    "* Далее приблизительно одинаковые значения у кафе, буфетов и баров. Причём относительное отношение между несетевыми и сетевыми объектами повторяет вариант ресторанов, то есть, количество посадочных мест у несетевых объектов больше.\n",
    "* Затем следуют закусочные, кафетерии, кулинарии и точки быстрого обслуживания с минимальным количеством посадочных мест, что также подтверждает сам принцип данных заведений: либо \"еда на ходу\", либо \"зайти ненадолго\"."
   ]
  },
  {
   "cell_type": "markdown",
   "metadata": {},
   "source": [
    "### Исследование улиц с максимальным и минимальным количеством объектов"
   ]
  },
  {
   "cell_type": "markdown",
   "metadata": {},
   "source": [
    "Для начала необходимо импортировать дополнительный набор данных из внешнего источника. В качестве идентифицации улицы по округу и району будет использован [материал](https://docs.google.com/spreadsheets/d/1CPDYDGjKCb6jGoQt9KR5WOvTspK-dHS3NUrVeqsyqJs/edit#gid=2139935940):"
   ]
  },
  {
   "cell_type": "code",
   "execution_count": 26,
   "metadata": {},
   "outputs": [],
   "source": [
    "spreadsheet_id = '18CzZ6iDvVxxVri9WYJTM4oeOr9Bf14tmFJo-1pIUVZs'\n",
    "file_name = 'https://docs.google.com/spreadsheets/d/{}/export?format=csv'.format(spreadsheet_id)\n",
    "info_street = pd.read_csv(file_name)\n",
    "info_street.streetname = info_street.streetname.str.lower().str.strip()\n",
    "info_street.drop_duplicates(inplace=True)"
   ]
  },
  {
   "cell_type": "markdown",
   "metadata": {},
   "source": [
    "На данном этапе выделяется 10 улиц с самым большим количеством объектов питания, а также рассматриваются улицы с минимальным количеством объектов питания.\n",
    "\n",
    "Для начала необходимо объявить функцию, которая выделит название улицы из полного адреса объекта общественного питания:"
   ]
  },
  {
   "cell_type": "code",
   "execution_count": 27,
   "metadata": {},
   "outputs": [],
   "source": [
    "def street(address):\n",
    "    '''\n",
    "        На вход функция принимает полный адрес объекта и по заготовленному шаблону\n",
    "        выделяет название улицы\n",
    "    '''\n",
    "    stype = ['улица', 'шоссе', 'проезд', 'переулок', 'проспект',\n",
    "             'бульвар', 'площадь', 'набережная', 'квартал', 'аллея', 'линия']\n",
    "    res = address.lower()\n",
    "    res = res.split(', ')\n",
    "    for i in res:\n",
    "        for j in stype:\n",
    "            if i.find(j) >= 0:\n",
    "                return i\n",
    "    return 'unknown street'"
   ]
  },
  {
   "cell_type": "code",
   "execution_count": 28,
   "metadata": {},
   "outputs": [],
   "source": [
    "rest['street'] = rest['address'].apply(street)"
   ]
  },
  {
   "cell_type": "markdown",
   "metadata": {},
   "source": [
    "Для начала необходимо сгруппировать все данные по названиям улиц и исключить из рассмотрения улицы, которые функция не смогла идентифицировать (исключаются улицы с неоднозначным названием, которое может принадлежать как к городу, так и к непосредственно улице). Таких объектов не очень много, поэтому их исключение не приведет к существенной потере данных и принципиально не изменит характер выводов."
   ]
  },
  {
   "cell_type": "code",
   "execution_count": 29,
   "metadata": {},
   "outputs": [],
   "source": [
    "stat_street = rest.pivot_table(index='street', values='id', aggfunc='count').sort_values(by='id', ascending=False).reset_index()\n",
    "stat_street = stat_street[stat_street['street'] != 'unknown street']\n",
    "stat_street.columns = ['Улица', 'Количество объектов']"
   ]
  },
  {
   "cell_type": "markdown",
   "metadata": {},
   "source": [
    "Далее выделяются 10 улиц с самым большим количеством объектов общественного питания. Для каждый улицы будет установлен округ и район (информация получена из внешних источников):"
   ]
  },
  {
   "cell_type": "code",
   "execution_count": 30,
   "metadata": {},
   "outputs": [
    {
     "data": {
      "image/png": "[encoded data removed]",
      "text/plain": [
       "<Figure size 864x432 with 1 Axes>"
      ]
     },
     "metadata": {
      "needs_background": "light"
     },
     "output_type": "display_data"
    }
   ],
   "source": [
    "stat_street_top_10 = stat_street.head(10)\n",
    "plt.figure(figsize=(12, 6))\n",
    "sns.barplot(data=stat_street_top_10, x='Улица', y='Количество объектов');\n",
    "plt.xticks(rotation=25);\n",
    "plt.title('10 улиц с самым большим количеством объектов питания');"
   ]
  },
  {
   "cell_type": "code",
   "execution_count": 31,
   "metadata": {},
   "outputs": [
    {
     "data": {
      "text/html": [
       "<div>\n",
       "<style scoped>\n",
       "    .dataframe tbody tr th:only-of-type {\n",
       "        vertical-align: middle;\n",
       "    }\n",
       "\n",
       "    .dataframe tbody tr th {\n",
       "        vertical-align: top;\n",
       "    }\n",
       "\n",
       "    .dataframe thead th {\n",
       "        text-align: right;\n",
       "    }\n",
       "</style>\n",
       "<table border=\"1\" class=\"dataframe\">\n",
       "  <thead>\n",
       "    <tr style=\"text-align: right;\">\n",
       "      <th></th>\n",
       "      <th>Количество улиц</th>\n",
       "    </tr>\n",
       "    <tr>\n",
       "      <th>Район</th>\n",
       "      <th></th>\n",
       "    </tr>\n",
       "  </thead>\n",
       "  <tbody>\n",
       "    <tr>\n",
       "      <td>Академический район</td>\n",
       "      <td>1</td>\n",
       "    </tr>\n",
       "    <tr>\n",
       "      <td>Алексеевский район</td>\n",
       "      <td>1</td>\n",
       "    </tr>\n",
       "    <tr>\n",
       "      <td>Донской район</td>\n",
       "      <td>2</td>\n",
       "    </tr>\n",
       "    <tr>\n",
       "      <td>Ломоносовский район</td>\n",
       "      <td>2</td>\n",
       "    </tr>\n",
       "    <tr>\n",
       "      <td>Мещанский район</td>\n",
       "      <td>1</td>\n",
       "    </tr>\n",
       "    <tr>\n",
       "      <td>Нагорный район</td>\n",
       "      <td>1</td>\n",
       "    </tr>\n",
       "    <tr>\n",
       "      <td>Обручевский район</td>\n",
       "      <td>2</td>\n",
       "    </tr>\n",
       "    <tr>\n",
       "      <td>Останкинский район</td>\n",
       "      <td>1</td>\n",
       "    </tr>\n",
       "    <tr>\n",
       "      <td>Пресненский район</td>\n",
       "      <td>1</td>\n",
       "    </tr>\n",
       "    <tr>\n",
       "      <td>Район Аэропорт</td>\n",
       "      <td>1</td>\n",
       "    </tr>\n",
       "    <tr>\n",
       "      <td>Район Беговой</td>\n",
       "      <td>1</td>\n",
       "    </tr>\n",
       "    <tr>\n",
       "      <td>Район Гагаринский</td>\n",
       "      <td>2</td>\n",
       "    </tr>\n",
       "    <tr>\n",
       "      <td>Район Дорогомилово</td>\n",
       "      <td>1</td>\n",
       "    </tr>\n",
       "    <tr>\n",
       "      <td>Район Коньково</td>\n",
       "      <td>1</td>\n",
       "    </tr>\n",
       "    <tr>\n",
       "      <td>Район Марьина роща</td>\n",
       "      <td>1</td>\n",
       "    </tr>\n",
       "    <tr>\n",
       "      <td>Район Москворечье-Сабурово</td>\n",
       "      <td>1</td>\n",
       "    </tr>\n",
       "    <tr>\n",
       "      <td>Район Нагатино-Садовники</td>\n",
       "      <td>2</td>\n",
       "    </tr>\n",
       "    <tr>\n",
       "      <td>Район Орехово-Борисово Северное</td>\n",
       "      <td>1</td>\n",
       "    </tr>\n",
       "    <tr>\n",
       "      <td>Район Орехово-Борисово Южное</td>\n",
       "      <td>1</td>\n",
       "    </tr>\n",
       "    <tr>\n",
       "      <td>Район Проспект Вернадского</td>\n",
       "      <td>2</td>\n",
       "    </tr>\n",
       "    <tr>\n",
       "      <td>Район Раменки</td>\n",
       "      <td>1</td>\n",
       "    </tr>\n",
       "    <tr>\n",
       "      <td>Район Ростокино</td>\n",
       "      <td>1</td>\n",
       "    </tr>\n",
       "    <tr>\n",
       "      <td>Район Свиблово</td>\n",
       "      <td>1</td>\n",
       "    </tr>\n",
       "    <tr>\n",
       "      <td>Район Северное Бутово</td>\n",
       "      <td>1</td>\n",
       "    </tr>\n",
       "    <tr>\n",
       "      <td>Район Сокол</td>\n",
       "      <td>1</td>\n",
       "    </tr>\n",
       "    <tr>\n",
       "      <td>Район Теплый Стан</td>\n",
       "      <td>2</td>\n",
       "    </tr>\n",
       "    <tr>\n",
       "      <td>Район Тропарево-Никулино</td>\n",
       "      <td>2</td>\n",
       "    </tr>\n",
       "    <tr>\n",
       "      <td>Район Фили-Давыдково</td>\n",
       "      <td>1</td>\n",
       "    </tr>\n",
       "    <tr>\n",
       "      <td>Район Черемушки</td>\n",
       "      <td>1</td>\n",
       "    </tr>\n",
       "    <tr>\n",
       "      <td>Район Чертаново Северное</td>\n",
       "      <td>2</td>\n",
       "    </tr>\n",
       "    <tr>\n",
       "      <td>Район Чертаново Центральное</td>\n",
       "      <td>2</td>\n",
       "    </tr>\n",
       "    <tr>\n",
       "      <td>Район Чертаново Южное</td>\n",
       "      <td>2</td>\n",
       "    </tr>\n",
       "    <tr>\n",
       "      <td>Район Южное Бутово</td>\n",
       "      <td>1</td>\n",
       "    </tr>\n",
       "    <tr>\n",
       "      <td>Район Якиманка</td>\n",
       "      <td>1</td>\n",
       "    </tr>\n",
       "    <tr>\n",
       "      <td>Район Ясенево</td>\n",
       "      <td>1</td>\n",
       "    </tr>\n",
       "    <tr>\n",
       "      <td>Хорошевский район</td>\n",
       "      <td>1</td>\n",
       "    </tr>\n",
       "    <tr>\n",
       "      <td>Ярославский Район</td>\n",
       "      <td>1</td>\n",
       "    </tr>\n",
       "  </tbody>\n",
       "</table>\n",
       "</div>"
      ],
      "text/plain": [
       "                                 Количество улиц\n",
       "Район                                           \n",
       "Академический район                            1\n",
       "Алексеевский район                             1\n",
       "Донской район                                  2\n",
       "Ломоносовский район                            2\n",
       "Мещанский район                                1\n",
       "Нагорный район                                 1\n",
       "Обручевский район                              2\n",
       "Останкинский район                             1\n",
       "Пресненский район                              1\n",
       "Район Аэропорт                                 1\n",
       "Район Беговой                                  1\n",
       "Район Гагаринский                              2\n",
       "Район Дорогомилово                             1\n",
       "Район Коньково                                 1\n",
       "Район Марьина роща                             1\n",
       "Район Москворечье-Сабурово                     1\n",
       "Район Нагатино-Садовники                       2\n",
       "Район Орехово-Борисово Северное                1\n",
       "Район Орехово-Борисово Южное                   1\n",
       "Район Проспект Вернадского                     2\n",
       "Район Раменки                                  1\n",
       "Район Ростокино                                1\n",
       "Район Свиблово                                 1\n",
       "Район Северное Бутово                          1\n",
       "Район Сокол                                    1\n",
       "Район Теплый Стан                              2\n",
       "Район Тропарево-Никулино                       2\n",
       "Район Фили-Давыдково                           1\n",
       "Район Черемушки                                1\n",
       "Район Чертаново Северное                       2\n",
       "Район Чертаново Центральное                    2\n",
       "Район Чертаново Южное                          2\n",
       "Район Южное Бутово                             1\n",
       "Район Якиманка                                 1\n",
       "Район Ясенево                                  1\n",
       "Хорошевский район                              1\n",
       "Ярославский Район                              1"
      ]
     },
     "metadata": {},
     "output_type": "display_data"
    }
   ],
   "source": [
    "stat_street_top_10 = stat_street_top_10.merge(info_street, how='left', left_on='Улица', right_on='streetname')\n",
    "stat_street_top_10.drop(['streetname', 'areaid'], axis=1, inplace=True)\n",
    "stat_street_top_10.columns = ['Улица', 'Количество объектов', 'Округ', 'Район']\n",
    "stat_top_10_area = stat_street_top_10.groupby('Район')['Округ'].count().to_frame()\n",
    "stat_top_10_area.columns = ['Количество улиц']\n",
    "display(stat_top_10_area)"
   ]
  },
  {
   "cell_type": "markdown",
   "metadata": {},
   "source": [
    "Проверим, через сколько районов проходят 10 улиц с самым большим количеством объектов:"
   ]
  },
  {
   "cell_type": "code",
   "execution_count": 32,
   "metadata": {},
   "outputs": [
    {
     "data": {
      "text/html": [
       "<div>\n",
       "<style scoped>\n",
       "    .dataframe tbody tr th:only-of-type {\n",
       "        vertical-align: middle;\n",
       "    }\n",
       "\n",
       "    .dataframe tbody tr th {\n",
       "        vertical-align: top;\n",
       "    }\n",
       "\n",
       "    .dataframe thead th {\n",
       "        text-align: right;\n",
       "    }\n",
       "</style>\n",
       "<table border=\"1\" class=\"dataframe\">\n",
       "  <thead>\n",
       "    <tr style=\"text-align: right;\">\n",
       "      <th></th>\n",
       "      <th>Улица</th>\n",
       "      <th>Количество районов</th>\n",
       "    </tr>\n",
       "  </thead>\n",
       "  <tbody>\n",
       "    <tr>\n",
       "      <td>0</td>\n",
       "      <td>варшавское шоссе</td>\n",
       "      <td>8</td>\n",
       "    </tr>\n",
       "    <tr>\n",
       "      <td>1</td>\n",
       "      <td>ленинский проспект</td>\n",
       "      <td>8</td>\n",
       "    </tr>\n",
       "    <tr>\n",
       "      <td>2</td>\n",
       "      <td>проспект мира</td>\n",
       "      <td>7</td>\n",
       "    </tr>\n",
       "    <tr>\n",
       "      <td>3</td>\n",
       "      <td>профсоюзная улица</td>\n",
       "      <td>6</td>\n",
       "    </tr>\n",
       "    <tr>\n",
       "      <td>4</td>\n",
       "      <td>проспект вернадского</td>\n",
       "      <td>5</td>\n",
       "    </tr>\n",
       "    <tr>\n",
       "      <td>5</td>\n",
       "      <td>каширское шоссе</td>\n",
       "      <td>4</td>\n",
       "    </tr>\n",
       "    <tr>\n",
       "      <td>6</td>\n",
       "      <td>ленинградский проспект</td>\n",
       "      <td>4</td>\n",
       "    </tr>\n",
       "    <tr>\n",
       "      <td>7</td>\n",
       "      <td>кировоградская улица</td>\n",
       "      <td>3</td>\n",
       "    </tr>\n",
       "    <tr>\n",
       "      <td>8</td>\n",
       "      <td>кутузовский проспект</td>\n",
       "      <td>2</td>\n",
       "    </tr>\n",
       "    <tr>\n",
       "      <td>9</td>\n",
       "      <td>пресненская набережная</td>\n",
       "      <td>1</td>\n",
       "    </tr>\n",
       "  </tbody>\n",
       "</table>\n",
       "</div>"
      ],
      "text/plain": [
       "                    Улица  Количество районов\n",
       "0        варшавское шоссе                   8\n",
       "1      ленинский проспект                   8\n",
       "2           проспект мира                   7\n",
       "3       профсоюзная улица                   6\n",
       "4    проспект вернадского                   5\n",
       "5         каширское шоссе                   4\n",
       "6  ленинградский проспект                   4\n",
       "7    кировоградская улица                   3\n",
       "8    кутузовский проспект                   2\n",
       "9  пресненская набережная                   1"
      ]
     },
     "execution_count": 32,
     "metadata": {},
     "output_type": "execute_result"
    }
   ],
   "source": [
    "stat_area_top_10 = (stat_street_top_10.\n",
    "                    groupby('Улица')['Район'].\n",
    "                    count().\n",
    "                    to_frame().\n",
    "                    sort_values(by='Район', ascending=False).\n",
    "                    reset_index())\n",
    "stat_area_top_10.columns = ['Улица', 'Количество районов']\n",
    "stat_area_top_10"
   ]
  },
  {
   "cell_type": "code",
   "execution_count": 33,
   "metadata": {},
   "outputs": [
    {
     "data": {
      "image/png": "[encoded data removed]",
      "text/plain": [
       "<Figure size 864x432 with 1 Axes>"
      ]
     },
     "metadata": {
      "needs_background": "light"
     },
     "output_type": "display_data"
    }
   ],
   "source": [
    "plt.figure(figsize=(12, 6))\n",
    "sns.barplot(data=stat_area_top_10, x='Улица', y='Количество районов');\n",
    "plt.xticks(rotation=25);\n",
    "plt.title('Количество районов, через которые проходит улица');"
   ]
  },
  {
   "cell_type": "markdown",
   "metadata": {},
   "source": [
    "К качестве дополнительной информации можно добавить в рассмотрение 10 самых \"плотных\" улиц по количеству объектов питания:"
   ]
  },
  {
   "cell_type": "code",
   "execution_count": 34,
   "metadata": {},
   "outputs": [
    {
     "data": {
      "text/html": [
       "<div>\n",
       "<style scoped>\n",
       "    .dataframe tbody tr th:only-of-type {\n",
       "        vertical-align: middle;\n",
       "    }\n",
       "\n",
       "    .dataframe tbody tr th {\n",
       "        vertical-align: top;\n",
       "    }\n",
       "\n",
       "    .dataframe thead th {\n",
       "        text-align: right;\n",
       "    }\n",
       "</style>\n",
       "<table border=\"1\" class=\"dataframe\">\n",
       "  <thead>\n",
       "    <tr style=\"text-align: right;\">\n",
       "      <th></th>\n",
       "      <th>Улица</th>\n",
       "      <th>Количество районов</th>\n",
       "      <th>Количество объектов</th>\n",
       "      <th>Плотность</th>\n",
       "    </tr>\n",
       "  </thead>\n",
       "  <tbody>\n",
       "    <tr>\n",
       "      <td>1025</td>\n",
       "      <td>пресненская набережная</td>\n",
       "      <td>1</td>\n",
       "      <td>167</td>\n",
       "      <td>167.0</td>\n",
       "    </tr>\n",
       "    <tr>\n",
       "      <td>1816</td>\n",
       "      <td>ходынский бульвар</td>\n",
       "      <td>1</td>\n",
       "      <td>102</td>\n",
       "      <td>102.0</td>\n",
       "    </tr>\n",
       "    <tr>\n",
       "      <td>1619</td>\n",
       "      <td>улица новый арбат</td>\n",
       "      <td>1</td>\n",
       "      <td>92</td>\n",
       "      <td>92.0</td>\n",
       "    </tr>\n",
       "    <tr>\n",
       "      <td>1536</td>\n",
       "      <td>улица ленинская слобода</td>\n",
       "      <td>1</td>\n",
       "      <td>89</td>\n",
       "      <td>89.0</td>\n",
       "    </tr>\n",
       "    <tr>\n",
       "      <td>1086</td>\n",
       "      <td>пятницкая улица</td>\n",
       "      <td>1</td>\n",
       "      <td>80</td>\n",
       "      <td>80.0</td>\n",
       "    </tr>\n",
       "    <tr>\n",
       "      <td>1649</td>\n",
       "      <td>улица покровка</td>\n",
       "      <td>1</td>\n",
       "      <td>77</td>\n",
       "      <td>77.0</td>\n",
       "    </tr>\n",
       "    <tr>\n",
       "      <td>1347</td>\n",
       "      <td>улица арбат</td>\n",
       "      <td>1</td>\n",
       "      <td>77</td>\n",
       "      <td>77.0</td>\n",
       "    </tr>\n",
       "    <tr>\n",
       "      <td>1263</td>\n",
       "      <td>тверская улица</td>\n",
       "      <td>1</td>\n",
       "      <td>68</td>\n",
       "      <td>68.0</td>\n",
       "    </tr>\n",
       "    <tr>\n",
       "      <td>231</td>\n",
       "      <td>автозаводская улица</td>\n",
       "      <td>1</td>\n",
       "      <td>67</td>\n",
       "      <td>67.0</td>\n",
       "    </tr>\n",
       "    <tr>\n",
       "      <td>1885</td>\n",
       "      <td>ярославское шоссе</td>\n",
       "      <td>1</td>\n",
       "      <td>65</td>\n",
       "      <td>65.0</td>\n",
       "    </tr>\n",
       "  </tbody>\n",
       "</table>\n",
       "</div>"
      ],
      "text/plain": [
       "                        Улица  Количество районов  Количество объектов  \\\n",
       "1025   пресненская набережная                   1                  167   \n",
       "1816        ходынский бульвар                   1                  102   \n",
       "1619        улица новый арбат                   1                   92   \n",
       "1536  улица ленинская слобода                   1                   89   \n",
       "1086          пятницкая улица                   1                   80   \n",
       "1649           улица покровка                   1                   77   \n",
       "1347              улица арбат                   1                   77   \n",
       "1263           тверская улица                   1                   68   \n",
       "231       автозаводская улица                   1                   67   \n",
       "1885        ярославское шоссе                   1                   65   \n",
       "\n",
       "      Плотность  \n",
       "1025      167.0  \n",
       "1816      102.0  \n",
       "1619       92.0  \n",
       "1536       89.0  \n",
       "1086       80.0  \n",
       "1649       77.0  \n",
       "1347       77.0  \n",
       "1263       68.0  \n",
       "231        67.0  \n",
       "1885       65.0  "
      ]
     },
     "execution_count": 34,
     "metadata": {},
     "output_type": "execute_result"
    }
   ],
   "source": [
    "stat_dens = stat_street.merge(info_street, how='left', left_on='Улица', right_on='streetname')\n",
    "stat_dens = stat_dens.groupby('Улица')['area'].count().to_frame().reset_index()\n",
    "stat_dens.columns = ['Улица', 'Количество районов']\n",
    "stat_dens = stat_dens.merge(stat_street, how='right', on='Улица')\n",
    "stat_dens = stat_dens[stat_dens['Количество районов'] > 0]\n",
    "stat_dens['Плотность'] = stat_dens['Количество объектов'] / stat_dens['Количество районов']\n",
    "stat_dens = stat_dens.sort_values(by='Плотность', ascending=False).head(10)\n",
    "stat_dens"
   ]
  },
  {
   "cell_type": "code",
   "execution_count": 35,
   "metadata": {},
   "outputs": [
    {
     "data": {
      "image/png": "[encoded data removed]",
      "text/plain": [
       "<Figure size 864x432 with 1 Axes>"
      ]
     },
     "metadata": {
      "needs_background": "light"
     },
     "output_type": "display_data"
    }
   ],
   "source": [
    "plt.figure(figsize=(12, 6))\n",
    "sns.barplot(data=stat_dens, x='Улица', y='Плотность');\n",
    "plt.xticks(rotation=25);\n",
    "plt.title('10 улиц с самой высокой плотностью объектов питания');"
   ]
  },
  {
   "cell_type": "markdown",
   "metadata": {},
   "source": [
    "Улицы с большим количеством объектов являются протяженными, поэтому справедливо, что они проходят через несколько округов и районов."
   ]
  },
  {
   "cell_type": "markdown",
   "metadata": {},
   "source": [
    "Далее выделяются улицы, на которых располагается только 1 пункт общественного питания и рассчитываются аналогичные показатели:"
   ]
  },
  {
   "cell_type": "code",
   "execution_count": 36,
   "metadata": {},
   "outputs": [
    {
     "name": "stdout",
     "output_type": "stream",
     "text": [
      "Количество улиц с одним объектом общественного питания: 543\n"
     ]
    },
    {
     "data": {
      "text/html": [
       "<div>\n",
       "<style scoped>\n",
       "    .dataframe tbody tr th:only-of-type {\n",
       "        vertical-align: middle;\n",
       "    }\n",
       "\n",
       "    .dataframe tbody tr th {\n",
       "        vertical-align: top;\n",
       "    }\n",
       "\n",
       "    .dataframe thead th {\n",
       "        text-align: right;\n",
       "    }\n",
       "</style>\n",
       "<table border=\"1\" class=\"dataframe\">\n",
       "  <thead>\n",
       "    <tr style=\"text-align: right;\">\n",
       "      <th></th>\n",
       "      <th>Количество улиц</th>\n",
       "    </tr>\n",
       "    <tr>\n",
       "      <th>Район</th>\n",
       "      <th></th>\n",
       "    </tr>\n",
       "  </thead>\n",
       "  <tbody>\n",
       "    <tr>\n",
       "      <td>Район Хамовники</td>\n",
       "      <td>26</td>\n",
       "    </tr>\n",
       "    <tr>\n",
       "      <td>Таганский район</td>\n",
       "      <td>25</td>\n",
       "    </tr>\n",
       "    <tr>\n",
       "      <td>Басманный район</td>\n",
       "      <td>24</td>\n",
       "    </tr>\n",
       "    <tr>\n",
       "      <td>Тверской район</td>\n",
       "      <td>20</td>\n",
       "    </tr>\n",
       "    <tr>\n",
       "      <td>Пресненский район</td>\n",
       "      <td>19</td>\n",
       "    </tr>\n",
       "    <tr>\n",
       "      <td>Район Арбат</td>\n",
       "      <td>18</td>\n",
       "    </tr>\n",
       "    <tr>\n",
       "      <td>Район Марьина роща</td>\n",
       "      <td>18</td>\n",
       "    </tr>\n",
       "    <tr>\n",
       "      <td>Мещанский район</td>\n",
       "      <td>16</td>\n",
       "    </tr>\n",
       "    <tr>\n",
       "      <td>Район Замоскворечье</td>\n",
       "      <td>14</td>\n",
       "    </tr>\n",
       "    <tr>\n",
       "      <td>Район Лефортово</td>\n",
       "      <td>12</td>\n",
       "    </tr>\n",
       "  </tbody>\n",
       "</table>\n",
       "</div>"
      ],
      "text/plain": [
       "                     Количество улиц\n",
       "Район                               \n",
       "Район Хамовники                   26\n",
       "Таганский район                   25\n",
       "Басманный район                   24\n",
       "Тверской район                    20\n",
       "Пресненский район                 19\n",
       "Район Арбат                       18\n",
       "Район Марьина роща                18\n",
       "Мещанский район                   16\n",
       "Район Замоскворечье               14\n",
       "Район Лефортово                   12"
      ]
     },
     "metadata": {},
     "output_type": "display_data"
    }
   ],
   "source": [
    "stat_street_one_object = stat_street[stat_street['Количество объектов'] == 1]\n",
    "print(f'Количество улиц с одним объектом общественного питания: {len(stat_street_one_object)}')\n",
    "stat_street_one_object = stat_street_one_object.merge(info_street, how='left', left_on='Улица', right_on='streetname')\n",
    "stat_street_one_object.drop(['Количество объектов', 'streetname', 'areaid'], axis=1, inplace=True)\n",
    "stat_street_one_object.columns = ['Улица', 'Округ', 'Район']\n",
    "stat_one_object_area = stat_street_one_object.groupby('Район')['Округ'].count().to_frame()\n",
    "stat_one_object_area.columns = ['Количество улиц']\n",
    "stat_one_object_area = stat_one_object_area.sort_values(by='Количество улиц', ascending=False)\n",
    "display(stat_one_object_area.head(10))"
   ]
  },
  {
   "cell_type": "markdown",
   "metadata": {},
   "source": [
    "#### Вывод"
   ]
  },
  {
   "cell_type": "markdown",
   "metadata": {},
   "source": [
    "На основании данного исследования можно сделать несколько выводов:\n",
    "1. Улицы с большим количеством объектов, как правило, сами по себе являются очень протяженными, поэтому сам факт такого количества объектов является абсолютно логичным. Причём важно понимать, что данный тезис никак не коррелирует с популярностью заведений, а отражает лишь их численность. Данные улицы, в большинстве своем проходят через несколько округов и, тем более, районов. Важно заметить, что также есть улицы с высокой плотностью объектов. Такие улицы располагаются в центре и являются местами скопления большого количества людей.\n",
    "2. На 543 улицах расположено всего по одному объекту, что свидетельствует о двух тезисах: во-первых, сами улицы не являются очень протяженными; во-вторых, они располагаются либо в спальных районах Москвы, либо наоборот ближе к центру. В случае спальных районов не требуется большое количество объектов общественного питания, а в случае улиц, близких к центру, сами улицы являются непротяженными, поэтому на них и располагается всего 1 объект. Те улицы, которые не были однозначно выделены из адреса, вероятнее всего, так же принадлежат к этой категории.\n",
    "3. Улицы с промежуточным количеством объектов, вероятнее всего, располагаются также ближе к центру Москвы, где и сосредоточена основаная активность горожан, либо к отдаленным от центра, например, торговым центрам."
   ]
  },
  {
   "cell_type": "markdown",
   "metadata": {},
   "source": [
    "### Исследование объектов на улицах с большим количеством пунктов питания"
   ]
  },
  {
   "cell_type": "markdown",
   "metadata": {},
   "source": [
    "На данном этапе исследуются объекты, находящиеся на улицах более чем с 50 объектами."
   ]
  },
  {
   "cell_type": "code",
   "execution_count": 37,
   "metadata": {},
   "outputs": [],
   "source": [
    "street_list = stat_street[stat_street['Количество объектов'] > 50]\n",
    "big_street = rest.merge(street_list, how='inner', left_on='street', right_on='Улица')\n",
    "big_street = big_street.loc[:, 'id':'street']"
   ]
  },
  {
   "cell_type": "markdown",
   "metadata": {},
   "source": [
    "#### Взаимосвязь объектов"
   ]
  },
  {
   "cell_type": "markdown",
   "metadata": {},
   "source": [
    "Для начала необходимо изучить корреляцию количества объектов, располагающихся на таких улицах, с медианным количеством посадочных мест:"
   ]
  },
  {
   "cell_type": "code",
   "execution_count": 38,
   "metadata": {},
   "outputs": [
    {
     "data": {
      "text/html": [
       "<div>\n",
       "<style scoped>\n",
       "    .dataframe tbody tr th:only-of-type {\n",
       "        vertical-align: middle;\n",
       "    }\n",
       "\n",
       "    .dataframe tbody tr th {\n",
       "        vertical-align: top;\n",
       "    }\n",
       "\n",
       "    .dataframe thead th {\n",
       "        text-align: right;\n",
       "    }\n",
       "</style>\n",
       "<table border=\"1\" class=\"dataframe\">\n",
       "  <thead>\n",
       "    <tr style=\"text-align: right;\">\n",
       "      <th></th>\n",
       "      <th>Количество объектов</th>\n",
       "      <th>Медиана посадочных мест</th>\n",
       "    </tr>\n",
       "    <tr>\n",
       "      <th>Улица</th>\n",
       "      <th></th>\n",
       "      <th></th>\n",
       "    </tr>\n",
       "  </thead>\n",
       "  <tbody>\n",
       "    <tr>\n",
       "      <td>автозаводская улица</td>\n",
       "      <td>67</td>\n",
       "      <td>20.0</td>\n",
       "    </tr>\n",
       "    <tr>\n",
       "      <td>алтуфьевское шоссе</td>\n",
       "      <td>82</td>\n",
       "      <td>33.5</td>\n",
       "    </tr>\n",
       "    <tr>\n",
       "      <td>варшавское шоссе</td>\n",
       "      <td>165</td>\n",
       "      <td>30.0</td>\n",
       "    </tr>\n",
       "    <tr>\n",
       "      <td>волгоградский проспект</td>\n",
       "      <td>63</td>\n",
       "      <td>49.0</td>\n",
       "    </tr>\n",
       "    <tr>\n",
       "      <td>дмитровское шоссе</td>\n",
       "      <td>100</td>\n",
       "      <td>40.0</td>\n",
       "    </tr>\n",
       "  </tbody>\n",
       "</table>\n",
       "</div>"
      ],
      "text/plain": [
       "                        Количество объектов  Медиана посадочных мест\n",
       "Улица                                                               \n",
       "автозаводская улица                      67                     20.0\n",
       "алтуфьевское шоссе                       82                     33.5\n",
       "варшавское шоссе                        165                     30.0\n",
       "волгоградский проспект                   63                     49.0\n",
       "дмитровское шоссе                       100                     40.0"
      ]
     },
     "execution_count": 38,
     "metadata": {},
     "output_type": "execute_result"
    }
   ],
   "source": [
    "stat_big_street_corr = big_street.pivot_table(index='street',\n",
    "                                              values='number', aggfunc=['count', 'median'])#.reset_index()\n",
    "stat_big_street_corr.columns = ['Количество объектов', 'Медиана посадочных мест']\n",
    "stat_big_street_corr.index.name = 'Улица'\n",
    "stat_big_street_corr.head()"
   ]
  },
  {
   "cell_type": "code",
   "execution_count": 39,
   "metadata": {},
   "outputs": [
    {
     "data": {
      "image/png": "[encoded data removed]",
      "text/plain": [
       "<Figure size 432x432 with 3 Axes>"
      ]
     },
     "metadata": {
      "needs_background": "light"
     },
     "output_type": "display_data"
    }
   ],
   "source": [
    "sns.jointplot(data=stat_big_street_corr, x='Количество объектов', y='Медиана посадочных мест');"
   ]
  },
  {
   "cell_type": "markdown",
   "metadata": {},
   "source": [
    "При таком распределении говорить о линейной корреляции некорректно (хотя, визуально, конечно, вполне допустимо установить положительную корреляцию), поэтому для данной задачи более справедливым подходом будет решить задачу кластеризации:"
   ]
  },
  {
   "cell_type": "code",
   "execution_count": 40,
   "metadata": {},
   "outputs": [],
   "source": [
    "norm = preprocessing.StandardScaler() #модель стандартизации данных\n",
    "norm.fit(stat_big_street_corr); # обучение модели стандартизации\n",
    "stat_big_street_corr_norm = pd.DataFrame(norm.transform(stat_big_street_corr), \n",
    "                               index=stat_big_street_corr.index, \n",
    "                               columns=stat_big_street_corr.columns) # обновленные данные"
   ]
  },
  {
   "cell_type": "markdown",
   "metadata": {},
   "source": [
    "Количество кластеров будет выбрано следующим образом: как только при увеличении количества кластеров сумма \"расстояний\" между ними перестанет значительно уменьшаться, данный граничный переход будет принят за достаточное количество кластеров."
   ]
  },
  {
   "cell_type": "code",
   "execution_count": 41,
   "metadata": {},
   "outputs": [],
   "source": [
    "models = [KMeans(n_clusters=i, random_state=76).fit(stat_big_street_corr_norm) for i in range(1, 11)] #генерация моделей\n",
    "inert = [models[i].inertia_ for i in range(0, len(models))] # сумма \"расстояний\" между кластерами"
   ]
  },
  {
   "cell_type": "code",
   "execution_count": 42,
   "metadata": {},
   "outputs": [
    {
     "data": {
      "image/png": "[encoded data removed]",
      "text/plain": [
       "<Figure size 576x576 with 1 Axes>"
      ]
     },
     "metadata": {
      "needs_background": "light"
     },
     "output_type": "display_data"
    }
   ],
   "source": [
    "plt.figure(figsize=(8, 8));\n",
    "plt.plot(range(1, 11), inert, marker='o', label='Сумма расстояний');\n",
    "plt.xlabel('Количество кластеров');\n",
    "plt.legend()\n",
    "plt.title('Подбор оптимального значения количества кластеров');\n",
    "plt.axvline(4, c='k', linestyle='dashed');"
   ]
  },
  {
   "cell_type": "markdown",
   "metadata": {},
   "source": [
    "Таким образом, 4 кластера является достаточным количеством для представленного набора данных."
   ]
  },
  {
   "cell_type": "code",
   "execution_count": 43,
   "metadata": {},
   "outputs": [],
   "source": [
    "stat_big_street_corr['clusters'] = models[3].labels_"
   ]
  },
  {
   "cell_type": "markdown",
   "metadata": {},
   "source": [
    "Теперь необходимо изучить различия кластеров:"
   ]
  },
  {
   "cell_type": "code",
   "execution_count": 44,
   "metadata": {},
   "outputs": [
    {
     "data": {
      "text/html": [
       "<div>\n",
       "<style scoped>\n",
       "    .dataframe tbody tr th:only-of-type {\n",
       "        vertical-align: middle;\n",
       "    }\n",
       "\n",
       "    .dataframe tbody tr th {\n",
       "        vertical-align: top;\n",
       "    }\n",
       "\n",
       "    .dataframe thead th {\n",
       "        text-align: right;\n",
       "    }\n",
       "</style>\n",
       "<table border=\"1\" class=\"dataframe\">\n",
       "  <thead>\n",
       "    <tr style=\"text-align: right;\">\n",
       "      <th></th>\n",
       "      <th>Медиана количества объектов</th>\n",
       "      <th>Медиана посадочных мест</th>\n",
       "      <th>Количество объектов в кластере</th>\n",
       "    </tr>\n",
       "    <tr>\n",
       "      <th>clusters</th>\n",
       "      <th></th>\n",
       "      <th></th>\n",
       "      <th></th>\n",
       "    </tr>\n",
       "  </thead>\n",
       "  <tbody>\n",
       "    <tr>\n",
       "      <td>0</td>\n",
       "      <td>100.0</td>\n",
       "      <td>35.0</td>\n",
       "      <td>9</td>\n",
       "    </tr>\n",
       "    <tr>\n",
       "      <td>1</td>\n",
       "      <td>169.5</td>\n",
       "      <td>35.0</td>\n",
       "      <td>6</td>\n",
       "    </tr>\n",
       "    <tr>\n",
       "      <td>2</td>\n",
       "      <td>65.0</td>\n",
       "      <td>48.0</td>\n",
       "      <td>11</td>\n",
       "    </tr>\n",
       "    <tr>\n",
       "      <td>3</td>\n",
       "      <td>64.0</td>\n",
       "      <td>15.0</td>\n",
       "      <td>17</td>\n",
       "    </tr>\n",
       "  </tbody>\n",
       "</table>\n",
       "</div>"
      ],
      "text/plain": [
       "          Медиана количества объектов  Медиана посадочных мест  \\\n",
       "clusters                                                         \n",
       "0                               100.0                     35.0   \n",
       "1                               169.5                     35.0   \n",
       "2                                65.0                     48.0   \n",
       "3                                64.0                     15.0   \n",
       "\n",
       "          Количество объектов в кластере  \n",
       "clusters                                  \n",
       "0                                      9  \n",
       "1                                      6  \n",
       "2                                     11  \n",
       "3                                     17  "
      ]
     },
     "execution_count": 44,
     "metadata": {},
     "output_type": "execute_result"
    }
   ],
   "source": [
    "stat_cluster = stat_big_street_corr.pivot_table(index='clusters', values=['Количество объектов', 'Медиана посадочных мест'], \n",
    "                                 aggfunc=['median', 'count'])\n",
    "stat_cluster.columns = stat_cluster.columns.map(''.join)\n",
    "stat_cluster.drop('countМедиана посадочных мест', axis=1, inplace=True)\n",
    "stat_cluster.columns = ['Медиана количества объектов', 'Медиана посадочных мест', 'Количество объектов в кластере']\n",
    "stat_cluster"
   ]
  },
  {
   "cell_type": "markdown",
   "metadata": {},
   "source": [
    "0 - кластер, содержащий улицы со большим количеством объектов питания в пределах улицы и средней медианой посадочных мест;\n",
    "\n",
    "1 - кластер, содержащий улицы c очень большим количеством объектов питания в пределах улицы и средней медианой посадочных мест;\n",
    "\n",
    "2 - кластер, содержащий улицы со средним количеством объектов питания в пределах улицы и высокой медианой посадочных мест;\n",
    "\n",
    "3 - кластер, содержащий улицы со средним количеством объектов питания в пределах улицы и малой медианой посадочных мест;"
   ]
  },
  {
   "cell_type": "markdown",
   "metadata": {},
   "source": [
    "##### Вывод\n",
    "\n",
    "Решение данной задачи позволяет приблизительно оценить количество посадочных мест, которое распространено для определенных типов улиц с большим количеством объектов. Таким образом, можно заключить, что для улиц с большим количеством объектов наиболее характерно ~ 64 объекта общественного питания и довольно мало (~ 15) посадочных мест."
   ]
  },
  {
   "cell_type": "markdown",
   "metadata": {},
   "source": [
    "Далее для улиц с большим количеством объектов необходимо изучить распределение столбцов *chain*, *object_type* и *number*."
   ]
  },
  {
   "cell_type": "markdown",
   "metadata": {},
   "source": [
    "#### Распределение сетевых и несетевых пунктов для улиц с большим количеством объектов"
   ]
  },
  {
   "cell_type": "code",
   "execution_count": 45,
   "metadata": {},
   "outputs": [],
   "source": [
    "stat_big_chain = big_street.groupby('chain')['id'].count().to_frame().reset_index()\n",
    "stat_big_chain['perc'] = round(stat_big_chain.id / stat_big_chain.id.sum() * 100, 2) \n",
    "stat_big_chain.columns=['Сетевой объект', 'Количество', 'Процент']"
   ]
  },
  {
   "cell_type": "code",
   "execution_count": 46,
   "metadata": {},
   "outputs": [
    {
     "data": {
      "text/html": [
       "<div>\n",
       "<style scoped>\n",
       "    .dataframe tbody tr th:only-of-type {\n",
       "        vertical-align: middle;\n",
       "    }\n",
       "\n",
       "    .dataframe tbody tr th {\n",
       "        vertical-align: top;\n",
       "    }\n",
       "\n",
       "    .dataframe thead th {\n",
       "        text-align: right;\n",
       "    }\n",
       "</style>\n",
       "<table border=\"1\" class=\"dataframe\">\n",
       "  <thead>\n",
       "    <tr style=\"text-align: right;\">\n",
       "      <th></th>\n",
       "      <th>Сетевой объект</th>\n",
       "      <th>Количество</th>\n",
       "      <th>Процент</th>\n",
       "    </tr>\n",
       "  </thead>\n",
       "  <tbody>\n",
       "    <tr>\n",
       "      <td>0</td>\n",
       "      <td>False</td>\n",
       "      <td>2903</td>\n",
       "      <td>75.23</td>\n",
       "    </tr>\n",
       "    <tr>\n",
       "      <td>1</td>\n",
       "      <td>True</td>\n",
       "      <td>956</td>\n",
       "      <td>24.77</td>\n",
       "    </tr>\n",
       "  </tbody>\n",
       "</table>\n",
       "</div>"
      ],
      "text/plain": [
       "   Сетевой объект  Количество  Процент\n",
       "0           False        2903    75.23\n",
       "1            True         956    24.77"
      ]
     },
     "execution_count": 46,
     "metadata": {},
     "output_type": "execute_result"
    }
   ],
   "source": [
    "stat_big_chain"
   ]
  },
  {
   "cell_type": "code",
   "execution_count": 47,
   "metadata": {},
   "outputs": [
    {
     "data": {
      "image/png": "[encoded data removed]",
      "text/plain": [
       "<Figure size 432x288 with 1 Axes>"
      ]
     },
     "metadata": {
      "needs_background": "light"
     },
     "output_type": "display_data"
    }
   ],
   "source": [
    "sns.barplot(data=stat_big_chain, x='Сетевой объект', y='Количество');\n",
    "plt.text(-0.1, 1500, str(float(stat_big_chain.loc[stat_big_chain['Сетевой объект'] == False, \n",
    "                                                  'Процент'])) + '%');\n",
    "plt.text(0.89, 350, str(float(stat_big_chain.loc[stat_big_chain['Сетевой объект'] == True, \n",
    "                                                 'Процент'])) + '%');\n",
    "plt.title('Количество сетевых и несетевых пунктов на улицах с большим количеством объектов\\n');"
   ]
  },
  {
   "cell_type": "markdown",
   "metadata": {},
   "source": [
    "##### Вывод\n",
    "\n",
    "Если сравнивать полученный результат с результатом, полученным в разделе 4.2, то можно заметить, что на улицах с большим количеством объектов распределение несколько смещается в сторону сетевых объектов, хотя при этом, подавляющее количество объектов всё же несетевые."
   ]
  },
  {
   "cell_type": "markdown",
   "metadata": {},
   "source": [
    "#### Типы объектов на улицах с большим количеством пунктов питания"
   ]
  },
  {
   "cell_type": "code",
   "execution_count": 48,
   "metadata": {},
   "outputs": [
    {
     "data": {
      "text/html": [
       "<div>\n",
       "<style scoped>\n",
       "    .dataframe tbody tr th:only-of-type {\n",
       "        vertical-align: middle;\n",
       "    }\n",
       "\n",
       "    .dataframe tbody tr th {\n",
       "        vertical-align: top;\n",
       "    }\n",
       "\n",
       "    .dataframe thead th {\n",
       "        text-align: right;\n",
       "    }\n",
       "</style>\n",
       "<table border=\"1\" class=\"dataframe\">\n",
       "  <thead>\n",
       "    <tr style=\"text-align: right;\">\n",
       "      <th></th>\n",
       "      <th>Тип</th>\n",
       "      <th>Количество</th>\n",
       "    </tr>\n",
       "  </thead>\n",
       "  <tbody>\n",
       "    <tr>\n",
       "      <td>0</td>\n",
       "      <td>бар</td>\n",
       "      <td>231</td>\n",
       "    </tr>\n",
       "    <tr>\n",
       "      <td>1</td>\n",
       "      <td>буфет</td>\n",
       "      <td>80</td>\n",
       "    </tr>\n",
       "    <tr>\n",
       "      <td>2</td>\n",
       "      <td>закусочная</td>\n",
       "      <td>65</td>\n",
       "    </tr>\n",
       "    <tr>\n",
       "      <td>3</td>\n",
       "      <td>кафе</td>\n",
       "      <td>1733</td>\n",
       "    </tr>\n",
       "    <tr>\n",
       "      <td>4</td>\n",
       "      <td>кафетерий</td>\n",
       "      <td>113</td>\n",
       "    </tr>\n",
       "    <tr>\n",
       "      <td>5</td>\n",
       "      <td>кулинария</td>\n",
       "      <td>61</td>\n",
       "    </tr>\n",
       "    <tr>\n",
       "      <td>6</td>\n",
       "      <td>быстрое обслуживание</td>\n",
       "      <td>574</td>\n",
       "    </tr>\n",
       "    <tr>\n",
       "      <td>7</td>\n",
       "      <td>ресторан</td>\n",
       "      <td>708</td>\n",
       "    </tr>\n",
       "    <tr>\n",
       "      <td>8</td>\n",
       "      <td>столовая</td>\n",
       "      <td>294</td>\n",
       "    </tr>\n",
       "  </tbody>\n",
       "</table>\n",
       "</div>"
      ],
      "text/plain": [
       "                    Тип  Количество\n",
       "0                   бар         231\n",
       "1                 буфет          80\n",
       "2            закусочная          65\n",
       "3                  кафе        1733\n",
       "4             кафетерий         113\n",
       "5             кулинария          61\n",
       "6  быстрое обслуживание         574\n",
       "7              ресторан         708\n",
       "8              столовая         294"
      ]
     },
     "execution_count": 48,
     "metadata": {},
     "output_type": "execute_result"
    }
   ],
   "source": [
    "stat_big_type = big_street.groupby('object_type')['id'].count().to_frame().reset_index()\n",
    "stat_big_type.replace(['магазин (отдел кулинарии)', 'предприятие быстрого обслуживания'], \n",
    "                      ['кулинария', 'быстрое обслуживание'], inplace=True)\n",
    "stat_big_type.columns = ['Тип', 'Количество']\n",
    "stat_big_type"
   ]
  },
  {
   "cell_type": "markdown",
   "metadata": {},
   "source": [
    "##### Вывод\n",
    "\n",
    "Если сравнивать представленное распределение типов с распределением по всему набору данных, то можно заметить отсутствие принципиальных отличий. Доли объектов несколько изменились, но изменения нельзя назвать хоть сколько-нибудь значительно влияющими на выводы."
   ]
  },
  {
   "cell_type": "markdown",
   "metadata": {},
   "source": [
    "#### Распределение количества посадочных мест на улицах с большим количеством объектов"
   ]
  },
  {
   "cell_type": "code",
   "execution_count": 50,
   "metadata": {},
   "outputs": [
    {
     "data": {
      "image/png": "[encoded data removed]",
      "text/plain": [
       "<Figure size 432x288 with 1 Axes>"
      ]
     },
     "metadata": {
      "needs_background": "light"
     },
     "output_type": "display_data"
    }
   ],
   "source": [
    "big_street.number.hist(bins=30);\n",
    "plt.title('Гистограмма количества посадочных мест');\n",
    "plt.xlabel('Количество посадочных мест');\n",
    "plt.ylabel('Количество объектов');"
   ]
  },
  {
   "cell_type": "markdown",
   "metadata": {},
   "source": [
    "##### Вывод\n",
    "\n",
    "Как и \"в целом\" по набору данных, большинство заведений стремится к малому числу посадочных мест."
   ]
  },
  {
   "cell_type": "markdown",
   "metadata": {},
   "source": [
    "#### Вывод\n",
    "\n",
    "Выборка по улицам с большим количеством объектов в точности отражает общую картину по набору данных в целом, что является довольно справледливым, так как в рассмотрении участвуют довольно протяженные улицы и внутри каждой из них объекты действительно могут располагаться неравномерно. То есть, если рассмотреть отдельно выбранную улицу в разрезе координат каждого объекта, возможно, закономерности будут несколько иными."
   ]
  },
  {
   "cell_type": "markdown",
   "metadata": {},
   "source": [
    "### Рекомендации для открытия объекта питания\n",
    "\n",
    "1. В качестве типа заведения предпочтительнее выбрать \"кафе\" по следующим причинам:\n",
    "    - при том, что объектов типа \"кафе\" довольно много и конкуренция будет высокой, нестандартной и креативной идеей с роботами можно забрать значительную часть посетителей, которые уже предпочитают ходить именно в кафе. Таким образом недостаток большой конкуренции можно превратить в преимущество\n",
    "    - диапазон цен в таком типе заведения можно сохранять на среднем уровне или даже сделать ниже среднего по категории за счёт исключения оплаты труда живых людей.\n",
    "    - характер заведения, вероятнее всего, будет очень привлекательным для молодежи (а у молодежи, как правило, доход ниже, чем у людей среднего возраста), что исключает тип \"ресторан\" и \"столовая\" (так как в столовых питаются люди, как правило, с более низким доходом).\n",
    "2. На начальном этапе лучше исключить сетевой тип распространения и проверить, насколько идея с роботами понравится посетителям, чтобы отказаться от лишних издержек.\n",
    "3. Количество посадочных мест нужно сделать не более 50, так как это немного превышает среднее значение по типу \"кафе\", но при этом не сильно выделяется в какую-либо из сторон. То есть при таком количестве посадочных мест не избежать очередей при взрывной популярности, но при этом не потребуется платить неоправданно высокую аредну за большую площадь помещения.\n",
    "4. Географически лучше располагать объект в центральном административном округе Москвы, так как именно этот округ является центром притяжения москвичей и гостей столицы в вечернее время и выходные дни. При этом по-возможности можно учесть фактор платных парковок и организовать небольшую парковочную площадку для посетителей кафе."
   ]
  },
  {
   "cell_type": "markdown",
   "metadata": {},
   "source": [
    "### Общий вывод\n",
    "\n",
    "В ходе работы были выполнены следующие этапы:\n",
    "1. Был проведен импорт и общий обзор данных.\n",
    "2. Произведена предварительная обработка данных, обработаны дубликаты и типы данных.\n",
    "3. Проведен исследовательский анализ данных, подготовлены рекомендации по открытию пункта общественного питания.\n",
    "4. Подготовлена [презентация](https://disk.yandex.ru/i/6XMCE_N_DR_JqQ)\n",
    "\n",
    "**Ключевые выводы**:\n",
    "1. Больше всего в Москве обхектов общественного питания типа \"кафе\", \"столовая\", \"ресторан\" и \"предприятие быстрого обслуживания\".\n",
    "2. Более 80% объектов являются несетевыми.\n",
    "3. Внутри каждого типа объекта питания соотношение сетевых и несетевых объектов неоднородно. Таким образом:\n",
    "    - Внутри типа \"кафе\" количество несетевых объектов составляет более 77%.\n",
    "    - У \"столовых\" менее 1% сетевых объектов.\n",
    "    - У \"ресторанов\" более 76% несетевых объектов.\n",
    "    - Доля сетевых объектов в пунктах быстрого обслуживания составляет более 41%, что говорит о том, что сетевой тип распространения наиболее характерен для объектов быстрого обслуживания.\n",
    "    - Прочие типы объектов не представляют существенного интереса, так как их доля в общем объеме данных мала.\n",
    "4. Для сетевых объектов характерна концепция: \"мало объектов в сети с большим количеством посадочных мест\", хотя стоит отметить некоторую субъективность данной оценки.\n",
    "5. Количество посадочных мест сильно зависит от типа заведения, а также для некоторых типов объектов зависит от того, является ли объект сетевым.\n",
    "6. На протяженных улицах присутствует большое количество пунктов общественного питания, на небольших улицах объектов питания немного.\n",
    "7. Улицы с большим количеством объектов питания характеризуются следующим образом:\n",
    "    - Присутствует 4 группы  улиц, из которых преобладает тип со средним количеством объектов на улице - 64 и со средним значением посадочных мест - 15.\n",
    "    - Немного более 75% несетевых объектов\n",
    "    - Преобладающий тип объекта питания - \"кафе\"\n"
   ]
  }
 ],
 "metadata": {
  "ExecuteTimeLog": [
   {
    "duration": 541,
    "start_time": "2021-12-23T11:34:09.144Z"
   },
   {
    "duration": 62,
    "start_time": "2021-12-23T11:34:24.576Z"
   },
   {
    "duration": 44,
    "start_time": "2021-12-23T11:34:54.935Z"
   },
   {
    "duration": 9,
    "start_time": "2021-12-23T11:35:01.974Z"
   },
   {
    "duration": 10,
    "start_time": "2021-12-23T11:35:05.521Z"
   },
   {
    "duration": 16,
    "start_time": "2021-12-23T11:35:11.105Z"
   },
   {
    "duration": 18,
    "start_time": "2021-12-23T11:35:42.306Z"
   },
   {
    "duration": 15,
    "start_time": "2021-12-23T11:35:46.412Z"
   },
   {
    "duration": 5,
    "start_time": "2021-12-23T11:37:38.250Z"
   },
   {
    "duration": 9,
    "start_time": "2021-12-23T11:38:10.140Z"
   },
   {
    "duration": 5,
    "start_time": "2021-12-23T11:38:24.440Z"
   },
   {
    "duration": 6,
    "start_time": "2021-12-23T11:38:29.399Z"
   },
   {
    "duration": 5,
    "start_time": "2021-12-23T11:38:34.663Z"
   },
   {
    "duration": 6,
    "start_time": "2021-12-23T11:38:36.714Z"
   },
   {
    "duration": 5,
    "start_time": "2021-12-23T11:38:59.284Z"
   },
   {
    "duration": 5,
    "start_time": "2021-12-23T11:39:08.403Z"
   },
   {
    "duration": 7,
    "start_time": "2021-12-23T11:40:01.115Z"
   },
   {
    "duration": 10,
    "start_time": "2021-12-23T11:40:05.130Z"
   },
   {
    "duration": 9,
    "start_time": "2021-12-23T11:44:21.663Z"
   },
   {
    "duration": 6,
    "start_time": "2021-12-23T11:44:25.753Z"
   },
   {
    "duration": 15,
    "start_time": "2021-12-23T11:44:36.380Z"
   },
   {
    "duration": 8,
    "start_time": "2021-12-23T11:45:33.976Z"
   },
   {
    "duration": 61,
    "start_time": "2021-12-23T11:45:37.759Z"
   },
   {
    "duration": 8,
    "start_time": "2021-12-23T11:45:41.326Z"
   },
   {
    "duration": 8,
    "start_time": "2021-12-23T11:45:47.970Z"
   },
   {
    "duration": 9,
    "start_time": "2021-12-23T11:46:04.791Z"
   },
   {
    "duration": 245,
    "start_time": "2021-12-23T11:46:42.359Z"
   },
   {
    "duration": 13,
    "start_time": "2021-12-23T11:46:46.736Z"
   },
   {
    "duration": 20,
    "start_time": "2021-12-23T11:46:51.961Z"
   },
   {
    "duration": 16,
    "start_time": "2021-12-23T11:46:57.469Z"
   },
   {
    "duration": 23,
    "start_time": "2021-12-23T11:47:07.614Z"
   },
   {
    "duration": 25,
    "start_time": "2021-12-23T11:47:19.853Z"
   },
   {
    "duration": 78,
    "start_time": "2021-12-23T11:48:18.737Z"
   },
   {
    "duration": 10,
    "start_time": "2021-12-23T11:48:21.658Z"
   },
   {
    "duration": 211,
    "start_time": "2021-12-23T11:56:00.544Z"
   },
   {
    "duration": 565,
    "start_time": "2021-12-23T11:56:09.964Z"
   },
   {
    "duration": 51,
    "start_time": "2021-12-23T11:58:04.784Z"
   },
   {
    "duration": 21,
    "start_time": "2021-12-23T12:00:28.876Z"
   },
   {
    "duration": 58,
    "start_time": "2021-12-23T12:02:08.341Z"
   },
   {
    "duration": 18,
    "start_time": "2021-12-23T12:02:10.663Z"
   },
   {
    "duration": 14,
    "start_time": "2021-12-23T12:02:21.990Z"
   },
   {
    "duration": 18,
    "start_time": "2021-12-23T12:05:28.062Z"
   },
   {
    "duration": 15,
    "start_time": "2021-12-23T12:07:40.512Z"
   },
   {
    "duration": 21,
    "start_time": "2021-12-23T12:07:49.247Z"
   },
   {
    "duration": 14,
    "start_time": "2021-12-23T12:07:54.301Z"
   },
   {
    "duration": 15,
    "start_time": "2021-12-23T12:07:55.816Z"
   },
   {
    "duration": 17,
    "start_time": "2021-12-23T12:08:18.606Z"
   },
   {
    "duration": 15,
    "start_time": "2021-12-23T12:08:27.425Z"
   },
   {
    "duration": 14,
    "start_time": "2021-12-23T12:17:01.250Z"
   },
   {
    "duration": 16,
    "start_time": "2021-12-23T12:17:22.158Z"
   },
   {
    "duration": 2,
    "start_time": "2021-12-23T12:17:29.815Z"
   },
   {
    "duration": 53,
    "start_time": "2021-12-23T12:17:29.819Z"
   },
   {
    "duration": 22,
    "start_time": "2021-12-23T12:17:29.875Z"
   },
   {
    "duration": 17,
    "start_time": "2021-12-23T12:17:29.898Z"
   },
   {
    "duration": 14,
    "start_time": "2021-12-23T12:17:29.917Z"
   },
   {
    "duration": 67,
    "start_time": "2021-12-23T12:18:03.785Z"
   },
   {
    "duration": 459,
    "start_time": "2021-12-23T12:18:26.355Z"
   },
   {
    "duration": 3,
    "start_time": "2021-12-23T12:18:31.321Z"
   },
   {
    "duration": 17,
    "start_time": "2021-12-23T12:18:33.970Z"
   },
   {
    "duration": 61,
    "start_time": "2021-12-23T12:18:37.629Z"
   },
   {
    "duration": 16,
    "start_time": "2021-12-23T12:18:48.653Z"
   },
   {
    "duration": 15,
    "start_time": "2021-12-23T12:19:05.125Z"
   },
   {
    "duration": 6,
    "start_time": "2021-12-23T12:23:07.924Z"
   },
   {
    "duration": 5,
    "start_time": "2021-12-23T12:30:00.881Z"
   },
   {
    "duration": 6,
    "start_time": "2021-12-23T12:33:16.911Z"
   },
   {
    "duration": 4,
    "start_time": "2021-12-23T12:33:25.283Z"
   },
   {
    "duration": 6,
    "start_time": "2021-12-23T12:33:38.608Z"
   },
   {
    "duration": 213,
    "start_time": "2021-12-23T12:34:33.889Z"
   },
   {
    "duration": 9,
    "start_time": "2021-12-23T12:34:36.556Z"
   },
   {
    "duration": 9,
    "start_time": "2021-12-23T12:36:21.530Z"
   },
   {
    "duration": 203,
    "start_time": "2021-12-23T12:42:02.204Z"
   },
   {
    "duration": 228,
    "start_time": "2021-12-23T12:42:24.590Z"
   },
   {
    "duration": 220,
    "start_time": "2021-12-23T12:42:30.385Z"
   },
   {
    "duration": 4,
    "start_time": "2021-12-23T12:43:08.847Z"
   },
   {
    "duration": 4,
    "start_time": "2021-12-23T12:43:16.941Z"
   },
   {
    "duration": 214,
    "start_time": "2021-12-23T12:44:28.391Z"
   },
   {
    "duration": 221,
    "start_time": "2021-12-23T12:46:03.994Z"
   },
   {
    "duration": 436,
    "start_time": "2021-12-23T12:46:41.440Z"
   },
   {
    "duration": 62,
    "start_time": "2021-12-23T12:53:11.179Z"
   },
   {
    "duration": 288,
    "start_time": "2021-12-23T12:53:26.369Z"
   },
   {
    "duration": 235,
    "start_time": "2021-12-23T12:53:29.367Z"
   },
   {
    "duration": 15,
    "start_time": "2021-12-23T12:55:45.597Z"
   },
   {
    "duration": 7,
    "start_time": "2021-12-23T12:56:06.061Z"
   },
   {
    "duration": 15,
    "start_time": "2021-12-23T12:56:21.381Z"
   },
   {
    "duration": 6,
    "start_time": "2021-12-23T12:56:26.843Z"
   },
   {
    "duration": 17,
    "start_time": "2021-12-23T12:56:33.489Z"
   },
   {
    "duration": 13,
    "start_time": "2021-12-23T12:56:43.761Z"
   },
   {
    "duration": 13,
    "start_time": "2021-12-23T12:56:57.866Z"
   },
   {
    "duration": 6,
    "start_time": "2021-12-23T12:57:28.537Z"
   },
   {
    "duration": 6,
    "start_time": "2021-12-23T12:57:39.395Z"
   },
   {
    "duration": 476,
    "start_time": "2021-12-23T13:07:07.897Z"
   },
   {
    "duration": 6,
    "start_time": "2021-12-23T13:07:22.365Z"
   },
   {
    "duration": 8,
    "start_time": "2021-12-23T13:07:50.899Z"
   },
   {
    "duration": 61,
    "start_time": "2021-12-23T13:08:38.433Z"
   },
   {
    "duration": 20,
    "start_time": "2021-12-23T13:08:46.371Z"
   },
   {
    "duration": 181,
    "start_time": "2021-12-23T13:11:06.548Z"
   },
   {
    "duration": 175,
    "start_time": "2021-12-23T13:11:09.800Z"
   },
   {
    "duration": 197,
    "start_time": "2021-12-23T13:11:18.785Z"
   },
   {
    "duration": 192,
    "start_time": "2021-12-23T13:11:30.305Z"
   },
   {
    "duration": 191,
    "start_time": "2021-12-23T13:12:08.349Z"
   },
   {
    "duration": 192,
    "start_time": "2021-12-23T13:12:12.818Z"
   },
   {
    "duration": 507,
    "start_time": "2021-12-23T13:12:21.695Z"
   },
   {
    "duration": 148,
    "start_time": "2021-12-23T13:12:28.523Z"
   },
   {
    "duration": 5,
    "start_time": "2021-12-23T13:12:50.857Z"
   },
   {
    "duration": 5,
    "start_time": "2021-12-23T13:13:17.409Z"
   },
   {
    "duration": 6,
    "start_time": "2021-12-23T13:13:23.529Z"
   },
   {
    "duration": 6,
    "start_time": "2021-12-23T13:13:35.190Z"
   },
   {
    "duration": 6,
    "start_time": "2021-12-23T13:13:41.684Z"
   },
   {
    "duration": 8,
    "start_time": "2021-12-23T13:13:45.712Z"
   },
   {
    "duration": 5,
    "start_time": "2021-12-23T13:13:49.040Z"
   },
   {
    "duration": 5,
    "start_time": "2021-12-23T13:13:51.814Z"
   },
   {
    "duration": 6,
    "start_time": "2021-12-23T13:15:29.488Z"
   },
   {
    "duration": 18,
    "start_time": "2021-12-23T13:17:05.683Z"
   },
   {
    "duration": 8,
    "start_time": "2021-12-23T13:17:14.825Z"
   },
   {
    "duration": 9,
    "start_time": "2021-12-23T13:17:22.369Z"
   },
   {
    "duration": 9,
    "start_time": "2021-12-23T13:17:28.605Z"
   },
   {
    "duration": 8,
    "start_time": "2021-12-23T13:17:42.554Z"
   },
   {
    "duration": 5,
    "start_time": "2021-12-23T13:23:19.668Z"
   },
   {
    "duration": 5,
    "start_time": "2021-12-23T13:23:22.800Z"
   },
   {
    "duration": 13,
    "start_time": "2021-12-23T13:29:53.042Z"
   },
   {
    "duration": 6,
    "start_time": "2021-12-23T13:30:20.839Z"
   },
   {
    "duration": 7,
    "start_time": "2021-12-23T13:30:27.860Z"
   },
   {
    "duration": 9,
    "start_time": "2021-12-23T13:30:50.964Z"
   },
   {
    "duration": 182,
    "start_time": "2021-12-23T13:31:27.653Z"
   },
   {
    "duration": 9,
    "start_time": "2021-12-23T13:31:35.621Z"
   },
   {
    "duration": 8,
    "start_time": "2021-12-23T13:31:40.470Z"
   },
   {
    "duration": 9,
    "start_time": "2021-12-23T13:32:26.294Z"
   },
   {
    "duration": 7,
    "start_time": "2021-12-23T13:33:00.280Z"
   },
   {
    "duration": 10,
    "start_time": "2021-12-23T13:33:08.573Z"
   },
   {
    "duration": 178,
    "start_time": "2021-12-23T13:34:24.569Z"
   },
   {
    "duration": 783,
    "start_time": "2021-12-23T13:34:27.622Z"
   },
   {
    "duration": 127,
    "start_time": "2021-12-23T13:34:44.707Z"
   },
   {
    "duration": 144,
    "start_time": "2021-12-23T13:35:01.967Z"
   },
   {
    "duration": 129,
    "start_time": "2021-12-23T13:35:05.475Z"
   },
   {
    "duration": 210,
    "start_time": "2021-12-23T13:37:29.889Z"
   },
   {
    "duration": 204,
    "start_time": "2021-12-23T13:37:43.567Z"
   },
   {
    "duration": 297,
    "start_time": "2021-12-23T13:39:24.152Z"
   },
   {
    "duration": 643,
    "start_time": "2021-12-23T13:40:57.587Z"
   },
   {
    "duration": 4,
    "start_time": "2021-12-23T13:43:08.908Z"
   },
   {
    "duration": 6,
    "start_time": "2021-12-23T13:43:14.096Z"
   },
   {
    "duration": 10,
    "start_time": "2021-12-23T13:43:36.211Z"
   },
   {
    "duration": 265,
    "start_time": "2021-12-23T13:44:16.216Z"
   },
   {
    "duration": 9,
    "start_time": "2021-12-23T13:44:29.095Z"
   },
   {
    "duration": 11,
    "start_time": "2021-12-23T13:46:08.885Z"
   },
   {
    "duration": 13,
    "start_time": "2021-12-23T13:46:18.538Z"
   },
   {
    "duration": 13,
    "start_time": "2021-12-23T13:46:22.971Z"
   },
   {
    "duration": 144,
    "start_time": "2021-12-23T13:47:30.032Z"
   },
   {
    "duration": 129,
    "start_time": "2021-12-23T13:47:40.211Z"
   },
   {
    "duration": 11,
    "start_time": "2021-12-23T13:48:42.988Z"
   },
   {
    "duration": 109,
    "start_time": "2021-12-23T13:49:38.122Z"
   },
   {
    "duration": 11,
    "start_time": "2021-12-23T13:51:15.137Z"
   },
   {
    "duration": 136,
    "start_time": "2021-12-23T13:51:24.450Z"
   },
   {
    "duration": 142,
    "start_time": "2021-12-23T13:51:51.817Z"
   },
   {
    "duration": 141,
    "start_time": "2021-12-23T13:52:15.579Z"
   },
   {
    "duration": 12,
    "start_time": "2021-12-23T13:53:04.943Z"
   },
   {
    "duration": 12,
    "start_time": "2021-12-23T13:53:13.603Z"
   },
   {
    "duration": 168,
    "start_time": "2021-12-23T13:53:15.147Z"
   },
   {
    "duration": 148,
    "start_time": "2021-12-23T13:55:11.820Z"
   },
   {
    "duration": 158,
    "start_time": "2021-12-23T13:55:16.535Z"
   },
   {
    "duration": 152,
    "start_time": "2021-12-23T13:55:21.146Z"
   },
   {
    "duration": 150,
    "start_time": "2021-12-23T13:55:28.683Z"
   },
   {
    "duration": 159,
    "start_time": "2021-12-23T13:55:32.235Z"
   },
   {
    "duration": 144,
    "start_time": "2021-12-23T13:55:36.046Z"
   },
   {
    "duration": 283,
    "start_time": "2021-12-23T13:56:33.105Z"
   },
   {
    "duration": 332,
    "start_time": "2021-12-23T13:56:41.835Z"
   },
   {
    "duration": 153,
    "start_time": "2021-12-23T13:56:51.935Z"
   },
   {
    "duration": 156,
    "start_time": "2021-12-23T13:56:56.613Z"
   },
   {
    "duration": 154,
    "start_time": "2021-12-23T13:57:01.243Z"
   },
   {
    "duration": 4,
    "start_time": "2021-12-23T13:58:48.878Z"
   },
   {
    "duration": 151,
    "start_time": "2021-12-23T13:58:51.473Z"
   },
   {
    "duration": 150,
    "start_time": "2021-12-23T13:58:58.021Z"
   },
   {
    "duration": 170,
    "start_time": "2021-12-23T13:59:02.307Z"
   },
   {
    "duration": 166,
    "start_time": "2021-12-23T13:59:09.165Z"
   },
   {
    "duration": 164,
    "start_time": "2021-12-23T13:59:13.402Z"
   },
   {
    "duration": 8,
    "start_time": "2021-12-23T14:00:24.212Z"
   },
   {
    "duration": 6,
    "start_time": "2021-12-23T14:00:30.893Z"
   },
   {
    "duration": 5,
    "start_time": "2021-12-23T14:00:39.049Z"
   },
   {
    "duration": 5,
    "start_time": "2021-12-23T14:00:44.041Z"
   },
   {
    "duration": 5,
    "start_time": "2021-12-23T14:00:54.420Z"
   },
   {
    "duration": 6,
    "start_time": "2021-12-23T14:00:57.879Z"
   },
   {
    "duration": 149,
    "start_time": "2021-12-23T14:01:03.659Z"
   },
   {
    "duration": 154,
    "start_time": "2021-12-23T14:01:27.428Z"
   },
   {
    "duration": 156,
    "start_time": "2021-12-23T14:01:52.085Z"
   },
   {
    "duration": 157,
    "start_time": "2021-12-23T14:02:03.082Z"
   },
   {
    "duration": 152,
    "start_time": "2021-12-23T14:02:06.048Z"
   },
   {
    "duration": 154,
    "start_time": "2021-12-23T14:02:12.412Z"
   },
   {
    "duration": 10,
    "start_time": "2021-12-23T14:07:31.504Z"
   },
   {
    "duration": 12,
    "start_time": "2021-12-23T14:07:36.510Z"
   },
   {
    "duration": 20,
    "start_time": "2021-12-23T14:08:24.986Z"
   },
   {
    "duration": 20,
    "start_time": "2021-12-23T14:08:42.316Z"
   },
   {
    "duration": 20,
    "start_time": "2021-12-23T14:09:05.049Z"
   },
   {
    "duration": 70,
    "start_time": "2021-12-23T14:09:17.474Z"
   },
   {
    "duration": 18,
    "start_time": "2021-12-23T14:09:28.040Z"
   },
   {
    "duration": 180,
    "start_time": "2021-12-23T14:11:10.989Z"
   },
   {
    "duration": 198,
    "start_time": "2021-12-23T14:11:31.155Z"
   },
   {
    "duration": 19,
    "start_time": "2021-12-23T14:13:09.927Z"
   },
   {
    "duration": 190,
    "start_time": "2021-12-23T14:14:01.381Z"
   },
   {
    "duration": 20,
    "start_time": "2021-12-23T14:14:51.366Z"
   },
   {
    "duration": 195,
    "start_time": "2021-12-23T14:14:57.057Z"
   },
   {
    "duration": 199,
    "start_time": "2021-12-23T14:15:14.805Z"
   },
   {
    "duration": 18,
    "start_time": "2021-12-23T14:15:38.762Z"
   },
   {
    "duration": 18,
    "start_time": "2021-12-23T14:15:41.622Z"
   },
   {
    "duration": 14,
    "start_time": "2021-12-23T14:16:16.204Z"
   },
   {
    "duration": 19,
    "start_time": "2021-12-23T14:16:22.956Z"
   },
   {
    "duration": 19,
    "start_time": "2021-12-23T14:16:51.040Z"
   },
   {
    "duration": 202,
    "start_time": "2021-12-23T14:17:01.567Z"
   },
   {
    "duration": 231,
    "start_time": "2021-12-23T14:17:45.119Z"
   },
   {
    "duration": 396,
    "start_time": "2021-12-23T14:19:28.744Z"
   },
   {
    "duration": 237,
    "start_time": "2021-12-23T14:19:37.376Z"
   },
   {
    "duration": 276,
    "start_time": "2021-12-23T14:19:58.349Z"
   },
   {
    "duration": 296,
    "start_time": "2021-12-23T14:20:02.111Z"
   },
   {
    "duration": 296,
    "start_time": "2021-12-23T14:20:08.482Z"
   },
   {
    "duration": 285,
    "start_time": "2021-12-23T14:20:14.397Z"
   },
   {
    "duration": 455,
    "start_time": "2021-12-23T14:20:42.704Z"
   },
   {
    "duration": 288,
    "start_time": "2021-12-23T14:20:51.066Z"
   },
   {
    "duration": 283,
    "start_time": "2021-12-23T14:20:57.108Z"
   },
   {
    "duration": 283,
    "start_time": "2021-12-23T14:21:02.645Z"
   },
   {
    "duration": 283,
    "start_time": "2021-12-23T14:21:12.293Z"
   },
   {
    "duration": 285,
    "start_time": "2021-12-23T14:21:19.319Z"
   },
   {
    "duration": 284,
    "start_time": "2021-12-23T14:21:33.251Z"
   },
   {
    "duration": 26,
    "start_time": "2021-12-23T14:23:11.985Z"
   },
   {
    "duration": 20,
    "start_time": "2021-12-23T14:23:23.617Z"
   },
   {
    "duration": 285,
    "start_time": "2021-12-23T14:23:25.049Z"
   },
   {
    "duration": 20,
    "start_time": "2021-12-23T14:23:34.749Z"
   },
   {
    "duration": 279,
    "start_time": "2021-12-23T14:23:37.281Z"
   },
   {
    "duration": 286,
    "start_time": "2021-12-23T14:23:41.397Z"
   },
   {
    "duration": 280,
    "start_time": "2021-12-23T14:23:57.011Z"
   },
   {
    "duration": 21,
    "start_time": "2021-12-23T14:28:47.545Z"
   },
   {
    "duration": 266,
    "start_time": "2021-12-23T14:28:48.925Z"
   },
   {
    "duration": 14,
    "start_time": "2021-12-23T14:29:20.666Z"
   },
   {
    "duration": 13,
    "start_time": "2021-12-23T14:29:25.794Z"
   },
   {
    "duration": 398,
    "start_time": "2021-12-23T14:29:51.351Z"
   },
   {
    "duration": 157,
    "start_time": "2021-12-23T14:30:04.399Z"
   },
   {
    "duration": 5182,
    "start_time": "2021-12-23T14:30:26.372Z"
   },
   {
    "duration": 307,
    "start_time": "2021-12-23T14:30:31.249Z"
   },
   {
    "duration": 10,
    "start_time": "2021-12-23T14:30:34.619Z"
   },
   {
    "duration": 113,
    "start_time": "2021-12-23T14:30:36.022Z"
   },
   {
    "duration": 209,
    "start_time": "2021-12-23T14:38:10.206Z"
   },
   {
    "duration": 4,
    "start_time": "2021-12-23T14:38:25.267Z"
   },
   {
    "duration": 15,
    "start_time": "2021-12-23T14:38:31.801Z"
   },
   {
    "duration": 22,
    "start_time": "2021-12-23T14:39:33.834Z"
   },
   {
    "duration": 286,
    "start_time": "2021-12-23T14:39:45.448Z"
   },
   {
    "duration": 18,
    "start_time": "2021-12-23T14:39:49.513Z"
   },
   {
    "duration": 25,
    "start_time": "2021-12-23T14:40:55.723Z"
   },
   {
    "duration": 28,
    "start_time": "2021-12-23T14:41:14.299Z"
   },
   {
    "duration": 25,
    "start_time": "2021-12-23T14:41:54.444Z"
   },
   {
    "duration": 29,
    "start_time": "2021-12-23T14:42:17.331Z"
   },
   {
    "duration": 30,
    "start_time": "2021-12-23T14:42:27.193Z"
   },
   {
    "duration": 21,
    "start_time": "2021-12-23T14:44:34.780Z"
   },
   {
    "duration": 28,
    "start_time": "2021-12-23T14:44:41.473Z"
   },
   {
    "duration": 23,
    "start_time": "2021-12-23T14:44:54.916Z"
   },
   {
    "duration": 20,
    "start_time": "2021-12-23T14:45:03.635Z"
   },
   {
    "duration": 31,
    "start_time": "2021-12-23T14:45:06.298Z"
   },
   {
    "duration": 225,
    "start_time": "2021-12-23T14:46:06.897Z"
   },
   {
    "duration": 95,
    "start_time": "2021-12-23T14:46:23.006Z"
   },
   {
    "duration": 89,
    "start_time": "2021-12-23T14:46:30.925Z"
   },
   {
    "duration": 122,
    "start_time": "2021-12-23T14:47:02.472Z"
   },
   {
    "duration": 113,
    "start_time": "2021-12-23T14:47:17.388Z"
   },
   {
    "duration": 101,
    "start_time": "2021-12-23T14:47:59.508Z"
   },
   {
    "duration": 202,
    "start_time": "2021-12-23T14:48:37.557Z"
   },
   {
    "duration": 203,
    "start_time": "2021-12-23T14:48:49.999Z"
   },
   {
    "duration": 98,
    "start_time": "2021-12-23T14:49:32.053Z"
   },
   {
    "duration": 2,
    "start_time": "2021-12-23T14:52:53.414Z"
   },
   {
    "duration": 4,
    "start_time": "2021-12-23T14:53:06.241Z"
   },
   {
    "duration": 179,
    "start_time": "2021-12-23T14:53:28.536Z"
   },
   {
    "duration": 5,
    "start_time": "2021-12-23T14:53:35.056Z"
   },
   {
    "duration": 4,
    "start_time": "2021-12-23T14:53:48.513Z"
   },
   {
    "duration": 5,
    "start_time": "2021-12-23T14:53:53.482Z"
   },
   {
    "duration": 5,
    "start_time": "2021-12-23T14:55:14.433Z"
   },
   {
    "duration": 4,
    "start_time": "2021-12-23T14:56:01.899Z"
   },
   {
    "duration": 4,
    "start_time": "2021-12-23T14:56:04.545Z"
   },
   {
    "duration": 4,
    "start_time": "2021-12-23T14:56:55.967Z"
   },
   {
    "duration": 2590,
    "start_time": "2021-12-23T14:57:24.338Z"
   },
   {
    "duration": 1002,
    "start_time": "2021-12-23T14:59:59.985Z"
   },
   {
    "duration": 3,
    "start_time": "2021-12-23T15:00:08.505Z"
   },
   {
    "duration": 950,
    "start_time": "2021-12-23T15:00:09.073Z"
   },
   {
    "duration": 3,
    "start_time": "2021-12-23T15:00:31.708Z"
   },
   {
    "duration": 909,
    "start_time": "2021-12-23T15:00:33.098Z"
   },
   {
    "duration": 3,
    "start_time": "2021-12-23T15:00:52.405Z"
   },
   {
    "duration": 1171,
    "start_time": "2021-12-23T15:00:54.061Z"
   },
   {
    "duration": 3,
    "start_time": "2021-12-23T15:00:59.405Z"
   },
   {
    "duration": 4,
    "start_time": "2021-12-23T15:01:04.854Z"
   },
   {
    "duration": 968,
    "start_time": "2021-12-23T15:01:05.330Z"
   },
   {
    "duration": 4,
    "start_time": "2021-12-23T15:01:15.620Z"
   },
   {
    "duration": 960,
    "start_time": "2021-12-23T15:01:21.712Z"
   },
   {
    "duration": 4,
    "start_time": "2021-12-23T15:01:31.843Z"
   },
   {
    "duration": 368,
    "start_time": "2021-12-23T15:01:32.530Z"
   },
   {
    "duration": 3,
    "start_time": "2021-12-23T15:01:48.719Z"
   },
   {
    "duration": 9,
    "start_time": "2021-12-23T15:01:49.096Z"
   },
   {
    "duration": 13,
    "start_time": "2021-12-23T15:02:13.900Z"
   },
   {
    "duration": 185,
    "start_time": "2021-12-23T15:03:01.592Z"
   },
   {
    "duration": 201,
    "start_time": "2021-12-23T15:03:07.346Z"
   },
   {
    "duration": 23,
    "start_time": "2021-12-23T15:03:25.479Z"
   },
   {
    "duration": 749,
    "start_time": "2021-12-23T15:04:12.901Z"
   },
   {
    "duration": 184,
    "start_time": "2021-12-23T15:04:29.517Z"
   },
   {
    "duration": 181,
    "start_time": "2021-12-23T15:04:41.524Z"
   },
   {
    "duration": 9,
    "start_time": "2021-12-23T15:04:51.609Z"
   },
   {
    "duration": 755,
    "start_time": "2021-12-23T15:04:52.552Z"
   },
   {
    "duration": 234,
    "start_time": "2021-12-23T15:05:02.342Z"
   },
   {
    "duration": 8,
    "start_time": "2021-12-23T15:05:07.236Z"
   },
   {
    "duration": 24,
    "start_time": "2021-12-23T15:05:08.769Z"
   },
   {
    "duration": 703,
    "start_time": "2021-12-23T15:05:21.268Z"
   },
   {
    "duration": 9,
    "start_time": "2021-12-23T15:05:34.630Z"
   },
   {
    "duration": 26,
    "start_time": "2021-12-23T15:05:35.275Z"
   },
   {
    "duration": 3,
    "start_time": "2021-12-23T15:05:39.085Z"
   },
   {
    "duration": 11,
    "start_time": "2021-12-23T15:05:42.182Z"
   },
   {
    "duration": 12,
    "start_time": "2021-12-23T15:06:09.487Z"
   },
   {
    "duration": 10,
    "start_time": "2021-12-23T15:06:50.382Z"
   },
   {
    "duration": 12,
    "start_time": "2021-12-23T15:07:32.964Z"
   },
   {
    "duration": 5,
    "start_time": "2021-12-23T15:07:51.290Z"
   },
   {
    "duration": 10,
    "start_time": "2021-12-23T15:07:59.365Z"
   },
   {
    "duration": 11,
    "start_time": "2021-12-23T15:08:06.700Z"
   },
   {
    "duration": 12,
    "start_time": "2021-12-23T15:08:19.776Z"
   },
   {
    "duration": 3,
    "start_time": "2021-12-23T15:10:46.571Z"
   },
   {
    "duration": 8,
    "start_time": "2021-12-23T15:10:47.105Z"
   },
   {
    "duration": 26,
    "start_time": "2021-12-23T15:10:47.772Z"
   },
   {
    "duration": 3,
    "start_time": "2021-12-23T15:10:49.960Z"
   },
   {
    "duration": 5,
    "start_time": "2021-12-23T15:11:04.801Z"
   },
   {
    "duration": 12,
    "start_time": "2021-12-23T15:11:16.744Z"
   },
   {
    "duration": 4,
    "start_time": "2021-12-23T15:11:58.607Z"
   },
   {
    "duration": 10,
    "start_time": "2021-12-23T15:12:35.399Z"
   },
   {
    "duration": 3,
    "start_time": "2021-12-23T15:12:38.802Z"
   },
   {
    "duration": 11,
    "start_time": "2021-12-23T15:12:42.157Z"
   },
   {
    "duration": 5,
    "start_time": "2021-12-23T15:16:03.369Z"
   },
   {
    "duration": 4,
    "start_time": "2021-12-23T15:16:19.014Z"
   },
   {
    "duration": 5,
    "start_time": "2021-12-23T15:16:53.859Z"
   },
   {
    "duration": 6,
    "start_time": "2021-12-23T15:17:01.720Z"
   },
   {
    "duration": 4,
    "start_time": "2021-12-23T15:17:40.313Z"
   },
   {
    "duration": 9,
    "start_time": "2021-12-23T15:17:40.771Z"
   },
   {
    "duration": 27,
    "start_time": "2021-12-23T15:17:41.375Z"
   },
   {
    "duration": 3,
    "start_time": "2021-12-23T15:17:43.740Z"
   },
   {
    "duration": 4,
    "start_time": "2021-12-23T15:17:44.143Z"
   },
   {
    "duration": 5,
    "start_time": "2021-12-23T15:17:44.868Z"
   },
   {
    "duration": 5,
    "start_time": "2021-12-23T15:17:45.087Z"
   },
   {
    "duration": 5,
    "start_time": "2021-12-23T15:17:52.113Z"
   },
   {
    "duration": 5,
    "start_time": "2021-12-23T15:17:55.234Z"
   },
   {
    "duration": 6,
    "start_time": "2021-12-23T15:19:23.776Z"
   },
   {
    "duration": 5,
    "start_time": "2021-12-23T15:19:24.826Z"
   },
   {
    "duration": 5,
    "start_time": "2021-12-23T15:21:07.328Z"
   },
   {
    "duration": 7,
    "start_time": "2021-12-23T15:21:24.796Z"
   },
   {
    "duration": 490,
    "start_time": "2021-12-23T15:22:00.914Z"
   },
   {
    "duration": 175,
    "start_time": "2021-12-23T15:22:03.380Z"
   },
   {
    "duration": 8,
    "start_time": "2021-12-23T15:22:13.137Z"
   },
   {
    "duration": 68,
    "start_time": "2021-12-23T15:24:28.069Z"
   },
   {
    "duration": 5,
    "start_time": "2021-12-23T15:24:31.872Z"
   },
   {
    "duration": 3,
    "start_time": "2021-12-23T15:24:48.098Z"
   },
   {
    "duration": 9,
    "start_time": "2021-12-23T15:25:23.920Z"
   },
   {
    "duration": 7,
    "start_time": "2021-12-23T15:25:49.934Z"
   },
   {
    "duration": 585,
    "start_time": "2021-12-23T15:26:20.678Z"
   },
   {
    "duration": 4,
    "start_time": "2021-12-23T15:26:26.263Z"
   },
   {
    "duration": 4,
    "start_time": "2021-12-23T15:26:27.364Z"
   },
   {
    "duration": 6,
    "start_time": "2021-12-23T15:26:37.426Z"
   },
   {
    "duration": 15,
    "start_time": "2021-12-23T15:27:03.450Z"
   },
   {
    "duration": 14,
    "start_time": "2021-12-23T15:27:15.792Z"
   },
   {
    "duration": 14,
    "start_time": "2021-12-23T15:27:31.627Z"
   },
   {
    "duration": 12,
    "start_time": "2021-12-23T15:28:27.842Z"
   },
   {
    "duration": 3,
    "start_time": "2021-12-23T15:29:23.452Z"
   },
   {
    "duration": 10,
    "start_time": "2021-12-23T15:29:24.012Z"
   },
   {
    "duration": 8,
    "start_time": "2021-12-23T15:30:10.742Z"
   },
   {
    "duration": 11,
    "start_time": "2021-12-23T15:30:17.449Z"
   },
   {
    "duration": 4,
    "start_time": "2021-12-23T15:30:24.628Z"
   },
   {
    "duration": 9,
    "start_time": "2021-12-23T15:30:25.026Z"
   },
   {
    "duration": 15,
    "start_time": "2021-12-23T15:30:25.600Z"
   },
   {
    "duration": 16,
    "start_time": "2021-12-23T15:30:45.307Z"
   },
   {
    "duration": 16,
    "start_time": "2021-12-23T15:30:56.866Z"
   },
   {
    "duration": 8,
    "start_time": "2021-12-23T15:31:01.807Z"
   },
   {
    "duration": 7,
    "start_time": "2021-12-23T15:31:10.791Z"
   },
   {
    "duration": 8,
    "start_time": "2021-12-23T15:31:22.710Z"
   },
   {
    "duration": 8,
    "start_time": "2021-12-23T15:32:13.054Z"
   },
   {
    "duration": 11,
    "start_time": "2021-12-23T15:33:49.179Z"
   },
   {
    "duration": 9,
    "start_time": "2021-12-23T15:34:14.980Z"
   },
   {
    "duration": 4,
    "start_time": "2021-12-23T15:34:57.340Z"
   },
   {
    "duration": 391,
    "start_time": "2021-12-23T15:34:57.913Z"
   },
   {
    "duration": 3,
    "start_time": "2021-12-23T15:35:06.111Z"
   },
   {
    "duration": 42,
    "start_time": "2021-12-23T15:35:06.314Z"
   },
   {
    "duration": 3,
    "start_time": "2021-12-23T15:35:26.990Z"
   },
   {
    "duration": 867,
    "start_time": "2021-12-23T15:35:27.341Z"
   },
   {
    "duration": 3,
    "start_time": "2021-12-23T15:35:42.912Z"
   },
   {
    "duration": 9,
    "start_time": "2021-12-23T15:35:43.510Z"
   },
   {
    "duration": 8,
    "start_time": "2021-12-23T15:35:48.850Z"
   },
   {
    "duration": 17,
    "start_time": "2021-12-23T15:35:54.475Z"
   },
   {
    "duration": 10,
    "start_time": "2021-12-23T15:36:03.828Z"
   },
   {
    "duration": 19,
    "start_time": "2021-12-23T15:43:01.148Z"
   },
   {
    "duration": 19,
    "start_time": "2021-12-23T15:43:41.543Z"
   },
   {
    "duration": 29,
    "start_time": "2021-12-23T15:43:49.013Z"
   },
   {
    "duration": 12,
    "start_time": "2021-12-23T15:43:56.282Z"
   },
   {
    "duration": 23,
    "start_time": "2021-12-23T15:44:44.801Z"
   },
   {
    "duration": 10,
    "start_time": "2021-12-23T15:44:47.554Z"
   },
   {
    "duration": 216,
    "start_time": "2021-12-23T15:45:17.177Z"
   },
   {
    "duration": 27,
    "start_time": "2021-12-23T15:45:48.965Z"
   },
   {
    "duration": 12,
    "start_time": "2021-12-23T15:45:50.102Z"
   },
   {
    "duration": 25,
    "start_time": "2021-12-23T15:51:21.941Z"
   },
   {
    "duration": 63,
    "start_time": "2021-12-23T15:56:40.842Z"
   },
   {
    "duration": 3,
    "start_time": "2021-12-23T15:56:53.531Z"
   },
   {
    "duration": 202,
    "start_time": "2021-12-23T15:57:29.534Z"
   },
   {
    "duration": 205,
    "start_time": "2021-12-23T15:57:57.452Z"
   },
   {
    "duration": 5,
    "start_time": "2021-12-23T15:59:43.923Z"
   },
   {
    "duration": 2880,
    "start_time": "2021-12-23T15:59:45.788Z"
   },
   {
    "duration": 33,
    "start_time": "2021-12-23T15:59:59.389Z"
   },
   {
    "duration": 4,
    "start_time": "2021-12-23T16:00:15.423Z"
   },
   {
    "duration": 2517,
    "start_time": "2021-12-23T16:00:15.844Z"
   },
   {
    "duration": 2908,
    "start_time": "2021-12-23T16:00:32.073Z"
   },
   {
    "duration": 418,
    "start_time": "2021-12-23T16:00:42.544Z"
   },
   {
    "duration": 5,
    "start_time": "2021-12-23T16:00:52.822Z"
   },
   {
    "duration": 33,
    "start_time": "2021-12-23T16:00:53.259Z"
   },
   {
    "duration": 6,
    "start_time": "2021-12-23T16:00:55.408Z"
   },
   {
    "duration": 31,
    "start_time": "2021-12-23T16:01:04.038Z"
   },
   {
    "duration": 21,
    "start_time": "2021-12-23T16:01:04.416Z"
   },
   {
    "duration": 4,
    "start_time": "2021-12-23T16:01:19.671Z"
   },
   {
    "duration": 30,
    "start_time": "2021-12-23T16:01:19.919Z"
   },
   {
    "duration": 15,
    "start_time": "2021-12-23T16:01:21.209Z"
   },
   {
    "duration": 4,
    "start_time": "2021-12-23T16:01:36.088Z"
   },
   {
    "duration": 33,
    "start_time": "2021-12-23T16:01:36.267Z"
   },
   {
    "duration": 15,
    "start_time": "2021-12-23T16:01:37.036Z"
   },
   {
    "duration": 4,
    "start_time": "2021-12-23T16:04:23.548Z"
   },
   {
    "duration": 5,
    "start_time": "2021-12-23T16:05:30.187Z"
   },
   {
    "duration": 4,
    "start_time": "2021-12-23T16:05:38.924Z"
   },
   {
    "duration": 32,
    "start_time": "2021-12-23T16:05:39.395Z"
   },
   {
    "duration": 13,
    "start_time": "2021-12-23T16:05:46.076Z"
   },
   {
    "duration": 9,
    "start_time": "2021-12-23T16:13:43.318Z"
   },
   {
    "duration": 5,
    "start_time": "2021-12-23T16:14:16.044Z"
   },
   {
    "duration": 33,
    "start_time": "2021-12-23T16:14:16.592Z"
   },
   {
    "duration": 5,
    "start_time": "2021-12-23T16:14:17.085Z"
   },
   {
    "duration": 10,
    "start_time": "2021-12-23T16:14:17.553Z"
   },
   {
    "duration": 6,
    "start_time": "2021-12-23T16:14:26.213Z"
   },
   {
    "duration": 5,
    "start_time": "2021-12-23T16:17:55.246Z"
   },
   {
    "duration": 35,
    "start_time": "2021-12-23T16:17:57.003Z"
   },
   {
    "duration": 4,
    "start_time": "2021-12-23T16:17:57.202Z"
   },
   {
    "duration": 8,
    "start_time": "2021-12-23T16:17:57.739Z"
   },
   {
    "duration": 5,
    "start_time": "2021-12-23T16:18:43.430Z"
   },
   {
    "duration": 33,
    "start_time": "2021-12-23T16:18:44.918Z"
   },
   {
    "duration": 5,
    "start_time": "2021-12-23T16:18:45.589Z"
   },
   {
    "duration": 7,
    "start_time": "2021-12-23T16:18:46.484Z"
   },
   {
    "duration": 12,
    "start_time": "2021-12-23T16:21:57.413Z"
   },
   {
    "duration": 12,
    "start_time": "2021-12-23T16:22:08.222Z"
   },
   {
    "duration": 238,
    "start_time": "2021-12-23T16:22:26.010Z"
   },
   {
    "duration": 440,
    "start_time": "2021-12-23T16:22:47.639Z"
   },
   {
    "duration": 269,
    "start_time": "2021-12-23T16:23:03.110Z"
   },
   {
    "duration": 4,
    "start_time": "2021-12-23T16:24:46.138Z"
   },
   {
    "duration": 32,
    "start_time": "2021-12-23T16:24:47.339Z"
   },
   {
    "duration": 8,
    "start_time": "2021-12-23T16:24:47.616Z"
   },
   {
    "duration": 6,
    "start_time": "2021-12-23T16:24:54.123Z"
   },
   {
    "duration": 5,
    "start_time": "2021-12-23T16:25:11.763Z"
   },
   {
    "duration": 32,
    "start_time": "2021-12-23T16:25:12.235Z"
   },
   {
    "duration": 8,
    "start_time": "2021-12-23T16:25:12.604Z"
   },
   {
    "duration": 236,
    "start_time": "2021-12-23T16:25:13.365Z"
   },
   {
    "duration": 219,
    "start_time": "2021-12-23T16:25:13.773Z"
   },
   {
    "duration": 8,
    "start_time": "2021-12-23T16:25:14.604Z"
   },
   {
    "duration": 5,
    "start_time": "2021-12-23T16:27:30.224Z"
   },
   {
    "duration": 32,
    "start_time": "2021-12-23T16:27:30.640Z"
   },
   {
    "duration": 9,
    "start_time": "2021-12-23T16:27:30.984Z"
   },
   {
    "duration": 220,
    "start_time": "2021-12-23T16:27:31.844Z"
   },
   {
    "duration": 201,
    "start_time": "2021-12-23T16:27:32.100Z"
   },
   {
    "duration": 7,
    "start_time": "2021-12-23T16:27:32.727Z"
   },
   {
    "duration": 38,
    "start_time": "2021-12-23T16:28:19.584Z"
   },
   {
    "duration": 8,
    "start_time": "2021-12-23T16:28:20.724Z"
   },
   {
    "duration": 220,
    "start_time": "2021-12-23T16:28:23.871Z"
   },
   {
    "duration": 213,
    "start_time": "2021-12-23T16:28:25.667Z"
   },
   {
    "duration": 7,
    "start_time": "2021-12-23T16:28:28.453Z"
   },
   {
    "duration": 30,
    "start_time": "2021-12-23T16:29:14.034Z"
   },
   {
    "duration": 9,
    "start_time": "2021-12-23T16:29:14.543Z"
   },
   {
    "duration": 204,
    "start_time": "2021-12-23T16:29:17.343Z"
   },
   {
    "duration": 4,
    "start_time": "2021-12-23T16:29:39.111Z"
   },
   {
    "duration": 5,
    "start_time": "2021-12-23T16:30:25.663Z"
   },
   {
    "duration": 32,
    "start_time": "2021-12-23T16:30:26.197Z"
   },
   {
    "duration": 9,
    "start_time": "2021-12-23T16:30:26.619Z"
   },
   {
    "duration": 6,
    "start_time": "2021-12-23T16:30:27.044Z"
   },
   {
    "duration": 5,
    "start_time": "2021-12-23T16:30:52.879Z"
   },
   {
    "duration": 9,
    "start_time": "2021-12-23T16:34:52.906Z"
   },
   {
    "duration": 9,
    "start_time": "2021-12-23T16:35:11.878Z"
   },
   {
    "duration": 8,
    "start_time": "2021-12-23T16:35:25.672Z"
   },
   {
    "duration": 10,
    "start_time": "2021-12-23T16:35:34.490Z"
   },
   {
    "duration": 9,
    "start_time": "2021-12-23T16:37:45.997Z"
   },
   {
    "duration": 6,
    "start_time": "2021-12-23T16:39:12.244Z"
   },
   {
    "duration": 44,
    "start_time": "2021-12-23T16:39:15.545Z"
   },
   {
    "duration": 9,
    "start_time": "2021-12-23T16:39:16.258Z"
   },
   {
    "duration": 8,
    "start_time": "2021-12-23T16:39:20.076Z"
   },
   {
    "duration": 5,
    "start_time": "2021-12-23T16:40:59.270Z"
   },
   {
    "duration": 43,
    "start_time": "2021-12-23T16:40:59.476Z"
   },
   {
    "duration": 9,
    "start_time": "2021-12-23T16:40:59.714Z"
   },
   {
    "duration": 9,
    "start_time": "2021-12-23T16:41:00.139Z"
   },
   {
    "duration": 8,
    "start_time": "2021-12-23T16:42:01.057Z"
   },
   {
    "duration": 207,
    "start_time": "2021-12-23T16:42:10.431Z"
   },
   {
    "duration": 162,
    "start_time": "2021-12-23T16:42:16.184Z"
   },
   {
    "duration": 167,
    "start_time": "2021-12-23T16:42:28.393Z"
   },
   {
    "duration": 8,
    "start_time": "2021-12-23T16:42:42.108Z"
   },
   {
    "duration": 10,
    "start_time": "2021-12-23T16:43:05.402Z"
   },
   {
    "duration": 6,
    "start_time": "2021-12-23T16:44:04.753Z"
   },
   {
    "duration": 9,
    "start_time": "2021-12-23T16:44:10.747Z"
   },
   {
    "duration": 153,
    "start_time": "2021-12-23T16:44:42.502Z"
   },
   {
    "duration": 56,
    "start_time": "2021-12-23T16:44:47.461Z"
   },
   {
    "duration": 156,
    "start_time": "2021-12-23T16:44:51.745Z"
   },
   {
    "duration": 4,
    "start_time": "2021-12-23T16:48:33.245Z"
   },
   {
    "duration": 40,
    "start_time": "2021-12-23T16:48:33.726Z"
   },
   {
    "duration": 13,
    "start_time": "2021-12-23T16:48:34.221Z"
   },
   {
    "duration": 11,
    "start_time": "2021-12-23T16:48:36.015Z"
   },
   {
    "duration": 197,
    "start_time": "2021-12-23T16:48:37.381Z"
   },
   {
    "duration": 220,
    "start_time": "2021-12-23T16:49:00.937Z"
   },
   {
    "duration": 4,
    "start_time": "2021-12-23T16:49:30.415Z"
   },
   {
    "duration": 34,
    "start_time": "2021-12-23T16:49:30.607Z"
   },
   {
    "duration": 10,
    "start_time": "2021-12-23T16:49:30.796Z"
   },
   {
    "duration": 10,
    "start_time": "2021-12-23T16:49:31.644Z"
   },
   {
    "duration": 169,
    "start_time": "2021-12-23T16:49:32.432Z"
   },
   {
    "duration": 165,
    "start_time": "2021-12-23T16:49:39.672Z"
   },
   {
    "duration": 178,
    "start_time": "2021-12-23T16:49:43.152Z"
   },
   {
    "duration": 5,
    "start_time": "2021-12-23T16:55:12.589Z"
   },
   {
    "duration": 32,
    "start_time": "2021-12-23T16:55:12.952Z"
   },
   {
    "duration": 10,
    "start_time": "2021-12-23T16:55:13.259Z"
   },
   {
    "duration": 12,
    "start_time": "2021-12-23T16:55:15.536Z"
   },
   {
    "duration": 153,
    "start_time": "2021-12-23T16:55:16.070Z"
   },
   {
    "duration": 4,
    "start_time": "2021-12-23T17:03:37.717Z"
   },
   {
    "duration": 135,
    "start_time": "2021-12-23T17:03:49.666Z"
   },
   {
    "duration": 4,
    "start_time": "2021-12-23T17:03:58.267Z"
   },
   {
    "duration": 3,
    "start_time": "2021-12-23T17:04:04.170Z"
   },
   {
    "duration": 4,
    "start_time": "2021-12-23T17:04:08.644Z"
   },
   {
    "duration": 4,
    "start_time": "2021-12-23T17:04:27.741Z"
   },
   {
    "duration": 6,
    "start_time": "2021-12-23T17:09:52.443Z"
   },
   {
    "duration": 26,
    "start_time": "2021-12-23T17:10:22.815Z"
   },
   {
    "duration": 22,
    "start_time": "2021-12-23T17:10:30.613Z"
   },
   {
    "duration": 5,
    "start_time": "2021-12-23T17:10:57.604Z"
   },
   {
    "duration": 38,
    "start_time": "2021-12-23T17:10:58.271Z"
   },
   {
    "duration": 16,
    "start_time": "2021-12-23T17:10:59.236Z"
   },
   {
    "duration": 5,
    "start_time": "2021-12-23T17:11:47.615Z"
   },
   {
    "duration": 5,
    "start_time": "2021-12-23T17:12:05.596Z"
   },
   {
    "duration": 6,
    "start_time": "2021-12-23T17:12:20.851Z"
   },
   {
    "duration": 53,
    "start_time": "2021-12-23T17:12:21.189Z"
   },
   {
    "duration": 20,
    "start_time": "2021-12-23T17:12:21.606Z"
   },
   {
    "duration": 10,
    "start_time": "2021-12-23T17:12:34.444Z"
   },
   {
    "duration": 7,
    "start_time": "2021-12-23T17:12:45.039Z"
   },
   {
    "duration": 9,
    "start_time": "2021-12-23T17:12:56.625Z"
   },
   {
    "duration": 11,
    "start_time": "2021-12-23T17:13:07.322Z"
   },
   {
    "duration": 185,
    "start_time": "2021-12-23T17:13:21.876Z"
   },
   {
    "duration": 10,
    "start_time": "2021-12-23T17:13:30.646Z"
   },
   {
    "duration": 13,
    "start_time": "2021-12-23T17:14:00.354Z"
   },
   {
    "duration": 20,
    "start_time": "2021-12-23T17:14:09.309Z"
   },
   {
    "duration": 6,
    "start_time": "2021-12-23T17:14:35.342Z"
   },
   {
    "duration": 45,
    "start_time": "2021-12-23T17:14:36.570Z"
   },
   {
    "duration": 16,
    "start_time": "2021-12-23T17:14:39.492Z"
   },
   {
    "duration": 19,
    "start_time": "2021-12-23T17:14:42.591Z"
   },
   {
    "duration": 5,
    "start_time": "2021-12-23T17:15:11.525Z"
   },
   {
    "duration": 67,
    "start_time": "2021-12-23T17:15:12.425Z"
   },
   {
    "duration": 21,
    "start_time": "2021-12-23T17:15:12.662Z"
   },
   {
    "duration": 19,
    "start_time": "2021-12-23T17:15:16.014Z"
   },
   {
    "duration": 13,
    "start_time": "2021-12-23T17:15:23.912Z"
   },
   {
    "duration": 11,
    "start_time": "2021-12-23T17:15:41.666Z"
   },
   {
    "duration": 8,
    "start_time": "2021-12-23T17:15:46.832Z"
   },
   {
    "duration": 6,
    "start_time": "2021-12-23T17:16:16.395Z"
   },
   {
    "duration": 58,
    "start_time": "2021-12-23T17:16:17.585Z"
   },
   {
    "duration": 17,
    "start_time": "2021-12-23T17:16:18.049Z"
   },
   {
    "duration": 18,
    "start_time": "2021-12-23T17:16:19.614Z"
   },
   {
    "duration": 13,
    "start_time": "2021-12-23T17:16:26.285Z"
   },
   {
    "duration": 7,
    "start_time": "2021-12-23T17:16:31.171Z"
   },
   {
    "duration": 18,
    "start_time": "2021-12-23T17:16:40.729Z"
   },
   {
    "duration": 8,
    "start_time": "2021-12-23T17:16:43.324Z"
   },
   {
    "duration": 57,
    "start_time": "2021-12-23T17:16:44.124Z"
   },
   {
    "duration": 17,
    "start_time": "2021-12-23T17:16:44.424Z"
   },
   {
    "duration": 17,
    "start_time": "2021-12-23T17:16:45.111Z"
   },
   {
    "duration": 12,
    "start_time": "2021-12-23T17:18:42.534Z"
   },
   {
    "duration": 6,
    "start_time": "2021-12-23T17:18:46.362Z"
   },
   {
    "duration": 7,
    "start_time": "2021-12-23T17:18:53.243Z"
   },
   {
    "duration": 1387,
    "start_time": "2021-12-24T09:11:12.620Z"
   },
   {
    "duration": 52,
    "start_time": "2021-12-24T09:11:14.009Z"
   },
   {
    "duration": 22,
    "start_time": "2021-12-24T09:11:14.062Z"
   },
   {
    "duration": 16,
    "start_time": "2021-12-24T09:11:14.086Z"
   },
   {
    "duration": 14,
    "start_time": "2021-12-24T09:11:14.104Z"
   },
   {
    "duration": 14,
    "start_time": "2021-12-24T09:11:14.119Z"
   },
   {
    "duration": 4,
    "start_time": "2021-12-24T09:11:14.135Z"
   },
   {
    "duration": 6,
    "start_time": "2021-12-24T09:11:14.142Z"
   },
   {
    "duration": 266,
    "start_time": "2021-12-24T09:11:14.150Z"
   },
   {
    "duration": 20,
    "start_time": "2021-12-24T09:11:14.418Z"
   },
   {
    "duration": 9,
    "start_time": "2021-12-24T09:11:14.440Z"
   },
   {
    "duration": 526,
    "start_time": "2021-12-24T09:11:14.451Z"
   },
   {
    "duration": 14,
    "start_time": "2021-12-24T09:11:14.991Z"
   },
   {
    "duration": 254,
    "start_time": "2021-12-24T09:11:15.007Z"
   },
   {
    "duration": 31,
    "start_time": "2021-12-24T09:11:15.263Z"
   },
   {
    "duration": 372,
    "start_time": "2021-12-24T09:11:15.296Z"
   },
   {
    "duration": 4,
    "start_time": "2021-12-24T09:11:15.670Z"
   },
   {
    "duration": 46,
    "start_time": "2021-12-24T09:11:15.676Z"
   },
   {
    "duration": 8,
    "start_time": "2021-12-24T09:11:15.723Z"
   },
   {
    "duration": 16,
    "start_time": "2021-12-24T09:11:15.733Z"
   },
   {
    "duration": 153,
    "start_time": "2021-12-24T09:11:15.751Z"
   },
   {
    "duration": 4,
    "start_time": "2021-12-24T09:11:15.905Z"
   },
   {
    "duration": 6,
    "start_time": "2021-12-24T09:11:15.912Z"
   },
   {
    "duration": 57,
    "start_time": "2021-12-24T09:11:15.919Z"
   },
   {
    "duration": 27,
    "start_time": "2021-12-24T09:11:15.977Z"
   },
   {
    "duration": 19,
    "start_time": "2021-12-24T09:11:16.006Z"
   },
   {
    "duration": 8,
    "start_time": "2021-12-24T09:11:16.026Z"
   },
   {
    "duration": 5,
    "start_time": "2021-12-24T09:11:16.036Z"
   },
   {
    "duration": 67,
    "start_time": "2021-12-24T09:26:54.843Z"
   },
   {
    "duration": 64,
    "start_time": "2021-12-24T09:27:09.285Z"
   },
   {
    "duration": 60,
    "start_time": "2021-12-24T09:27:26.383Z"
   },
   {
    "duration": 66,
    "start_time": "2021-12-24T09:27:32.336Z"
   },
   {
    "duration": 59,
    "start_time": "2021-12-24T09:28:05.075Z"
   },
   {
    "duration": 56,
    "start_time": "2021-12-24T09:28:13.320Z"
   },
   {
    "duration": 23,
    "start_time": "2021-12-24T09:28:43.841Z"
   },
   {
    "duration": 23,
    "start_time": "2021-12-24T09:29:51.574Z"
   },
   {
    "duration": 23,
    "start_time": "2021-12-24T09:30:15.476Z"
   },
   {
    "duration": 24,
    "start_time": "2021-12-24T09:30:29.797Z"
   },
   {
    "duration": 26,
    "start_time": "2021-12-24T09:31:03.122Z"
   },
   {
    "duration": 24,
    "start_time": "2021-12-24T09:31:37.813Z"
   },
   {
    "duration": 78,
    "start_time": "2021-12-24T09:47:35.503Z"
   },
   {
    "duration": 5,
    "start_time": "2021-12-24T09:47:51.566Z"
   },
   {
    "duration": 5,
    "start_time": "2021-12-24T09:51:03.787Z"
   },
   {
    "duration": 5,
    "start_time": "2021-12-24T09:53:44.118Z"
   },
   {
    "duration": 4,
    "start_time": "2021-12-24T09:54:46.589Z"
   },
   {
    "duration": 32,
    "start_time": "2021-12-24T09:56:54.599Z"
   },
   {
    "duration": 9,
    "start_time": "2021-12-24T09:56:55.882Z"
   },
   {
    "duration": 1510,
    "start_time": "2021-12-24T13:48:01.372Z"
   },
   {
    "duration": 53,
    "start_time": "2021-12-24T13:48:02.884Z"
   },
   {
    "duration": 22,
    "start_time": "2021-12-24T13:48:02.939Z"
   },
   {
    "duration": 17,
    "start_time": "2021-12-24T13:48:02.963Z"
   },
   {
    "duration": 14,
    "start_time": "2021-12-24T13:48:02.982Z"
   },
   {
    "duration": 15,
    "start_time": "2021-12-24T13:48:02.998Z"
   },
   {
    "duration": 4,
    "start_time": "2021-12-24T13:48:03.015Z"
   },
   {
    "duration": 39,
    "start_time": "2021-12-24T13:48:03.022Z"
   },
   {
    "duration": 225,
    "start_time": "2021-12-24T13:48:03.063Z"
   },
   {
    "duration": 23,
    "start_time": "2021-12-24T13:48:03.290Z"
   },
   {
    "duration": 9,
    "start_time": "2021-12-24T13:48:03.314Z"
   },
   {
    "duration": 608,
    "start_time": "2021-12-24T13:48:03.325Z"
   },
   {
    "duration": 17,
    "start_time": "2021-12-24T13:48:03.936Z"
   },
   {
    "duration": 301,
    "start_time": "2021-12-24T13:48:03.961Z"
   },
   {
    "duration": 150,
    "start_time": "2021-12-24T13:48:04.264Z"
   },
   {
    "duration": 259,
    "start_time": "2021-12-24T13:48:04.416Z"
   },
   {
    "duration": 5,
    "start_time": "2021-12-24T13:48:04.677Z"
   },
   {
    "duration": 36,
    "start_time": "2021-12-24T13:48:04.684Z"
   },
   {
    "duration": 8,
    "start_time": "2021-12-24T13:48:04.722Z"
   },
   {
    "duration": 32,
    "start_time": "2021-12-24T13:48:04.731Z"
   },
   {
    "duration": 164,
    "start_time": "2021-12-24T13:48:04.765Z"
   },
   {
    "duration": 6,
    "start_time": "2021-12-24T13:48:04.931Z"
   },
   {
    "duration": 20,
    "start_time": "2021-12-24T13:48:04.941Z"
   },
   {
    "duration": 93,
    "start_time": "2021-12-24T13:48:04.963Z"
   },
   {
    "duration": 18,
    "start_time": "2021-12-24T13:48:05.058Z"
   },
   {
    "duration": 18,
    "start_time": "2021-12-24T13:48:05.078Z"
   },
   {
    "duration": 12,
    "start_time": "2021-12-24T13:48:05.098Z"
   },
   {
    "duration": 6,
    "start_time": "2021-12-24T13:48:05.112Z"
   },
   {
    "duration": 416,
    "start_time": "2021-12-24T14:13:46.084Z"
   },
   {
    "duration": 3,
    "start_time": "2021-12-24T14:13:50.213Z"
   },
   {
    "duration": 256,
    "start_time": "2021-12-24T14:14:33.206Z"
   },
   {
    "duration": 3,
    "start_time": "2021-12-24T14:14:36.990Z"
   },
   {
    "duration": 8,
    "start_time": "2021-12-24T14:20:42.654Z"
   },
   {
    "duration": 11,
    "start_time": "2021-12-24T14:20:48.992Z"
   },
   {
    "duration": 12,
    "start_time": "2021-12-24T14:21:17.486Z"
   },
   {
    "duration": 12,
    "start_time": "2021-12-24T14:21:53.539Z"
   },
   {
    "duration": 145,
    "start_time": "2021-12-24T14:21:57.983Z"
   },
   {
    "duration": 316,
    "start_time": "2021-12-24T14:22:36.470Z"
   },
   {
    "duration": 83,
    "start_time": "2021-12-24T14:22:39.465Z"
   },
   {
    "duration": 264,
    "start_time": "2021-12-24T14:22:41.913Z"
   },
   {
    "duration": 153,
    "start_time": "2021-12-24T14:24:35.911Z"
   },
   {
    "duration": 151,
    "start_time": "2021-12-24T14:24:43.311Z"
   },
   {
    "duration": 149,
    "start_time": "2021-12-24T14:24:48.538Z"
   },
   {
    "duration": 160,
    "start_time": "2021-12-24T14:25:02.969Z"
   },
   {
    "duration": 161,
    "start_time": "2021-12-24T14:25:06.818Z"
   },
   {
    "duration": 155,
    "start_time": "2021-12-24T14:25:12.070Z"
   },
   {
    "duration": 150,
    "start_time": "2021-12-24T14:25:16.237Z"
   },
   {
    "duration": 150,
    "start_time": "2021-12-24T14:25:20.519Z"
   },
   {
    "duration": 152,
    "start_time": "2021-12-24T14:25:28.231Z"
   },
   {
    "duration": 152,
    "start_time": "2021-12-24T14:25:32.634Z"
   },
   {
    "duration": 161,
    "start_time": "2021-12-24T14:25:37.266Z"
   },
   {
    "duration": 156,
    "start_time": "2021-12-24T14:25:46.871Z"
   },
   {
    "duration": 162,
    "start_time": "2021-12-24T14:25:50.947Z"
   },
   {
    "duration": 173,
    "start_time": "2021-12-24T14:25:54.956Z"
   },
   {
    "duration": 162,
    "start_time": "2021-12-24T14:25:58.972Z"
   },
   {
    "duration": 308,
    "start_time": "2021-12-24T14:26:35.166Z"
   },
   {
    "duration": 161,
    "start_time": "2021-12-24T14:26:47.616Z"
   },
   {
    "duration": 16,
    "start_time": "2021-12-24T14:41:46.134Z"
   },
   {
    "duration": 14,
    "start_time": "2021-12-24T14:41:51.866Z"
   },
   {
    "duration": 19,
    "start_time": "2021-12-24T14:43:20.062Z"
   },
   {
    "duration": 12,
    "start_time": "2021-12-24T14:44:39.186Z"
   },
   {
    "duration": 16,
    "start_time": "2021-12-24T14:44:43.156Z"
   },
   {
    "duration": 111,
    "start_time": "2021-12-24T14:45:22.122Z"
   },
   {
    "duration": 79,
    "start_time": "2021-12-24T14:45:29.044Z"
   },
   {
    "duration": 22,
    "start_time": "2021-12-24T14:45:37.652Z"
   },
   {
    "duration": 28,
    "start_time": "2021-12-24T14:49:45.889Z"
   },
   {
    "duration": 32,
    "start_time": "2021-12-24T14:51:02.556Z"
   },
   {
    "duration": 37,
    "start_time": "2021-12-24T14:51:20.246Z"
   },
   {
    "duration": 1012,
    "start_time": "2021-12-24T14:51:38.085Z"
   },
   {
    "duration": 32,
    "start_time": "2021-12-24T14:51:40.650Z"
   },
   {
    "duration": 33,
    "start_time": "2021-12-24T14:52:13.071Z"
   },
   {
    "duration": 31,
    "start_time": "2021-12-24T14:53:07.973Z"
   },
   {
    "duration": 35,
    "start_time": "2021-12-24T14:55:49.990Z"
   },
   {
    "duration": 238,
    "start_time": "2021-12-24T14:56:36.247Z"
   },
   {
    "duration": 35,
    "start_time": "2021-12-24T14:56:46.868Z"
   },
   {
    "duration": 33,
    "start_time": "2021-12-24T14:57:11.177Z"
   },
   {
    "duration": 232,
    "start_time": "2021-12-24T14:57:12.558Z"
   },
   {
    "duration": 300,
    "start_time": "2021-12-24T14:57:38.360Z"
   },
   {
    "duration": 315,
    "start_time": "2021-12-24T14:59:58.680Z"
   },
   {
    "duration": 5,
    "start_time": "2021-12-24T15:00:13.948Z"
   },
   {
    "duration": 307,
    "start_time": "2021-12-24T15:00:31.722Z"
   },
   {
    "duration": 312,
    "start_time": "2021-12-24T15:00:44.954Z"
   },
   {
    "duration": 289,
    "start_time": "2021-12-24T15:01:17.231Z"
   },
   {
    "duration": 294,
    "start_time": "2021-12-24T15:03:18.867Z"
   },
   {
    "duration": 472,
    "start_time": "2021-12-24T15:03:22.947Z"
   },
   {
    "duration": 466,
    "start_time": "2021-12-24T15:03:27.313Z"
   },
   {
    "duration": 305,
    "start_time": "2021-12-24T15:03:31.470Z"
   },
   {
    "duration": 6,
    "start_time": "2021-12-24T15:20:35.832Z"
   },
   {
    "duration": 57,
    "start_time": "2021-12-24T15:20:37.439Z"
   },
   {
    "duration": 19,
    "start_time": "2021-12-24T15:20:55.903Z"
   },
   {
    "duration": 6,
    "start_time": "2021-12-24T15:21:10.566Z"
   },
   {
    "duration": 56,
    "start_time": "2021-12-24T15:21:11.226Z"
   },
   {
    "duration": 15,
    "start_time": "2021-12-24T15:21:12.102Z"
   },
   {
    "duration": 21,
    "start_time": "2021-12-24T15:21:58.801Z"
   },
   {
    "duration": 29,
    "start_time": "2021-12-24T15:22:04.895Z"
   },
   {
    "duration": 78,
    "start_time": "2021-12-24T15:22:21.510Z"
   },
   {
    "duration": 17,
    "start_time": "2021-12-24T15:22:25.433Z"
   },
   {
    "duration": 258,
    "start_time": "2021-12-24T15:22:54.671Z"
   },
   {
    "duration": 257,
    "start_time": "2021-12-24T15:22:58.936Z"
   },
   {
    "duration": 18,
    "start_time": "2021-12-24T15:23:08.821Z"
   },
   {
    "duration": 18,
    "start_time": "2021-12-24T15:23:39.346Z"
   },
   {
    "duration": 13,
    "start_time": "2021-12-24T15:25:10.063Z"
   },
   {
    "duration": 15,
    "start_time": "2021-12-24T15:25:13.972Z"
   },
   {
    "duration": 19,
    "start_time": "2021-12-24T15:25:21.929Z"
   },
   {
    "duration": 6568,
    "start_time": "2021-12-24T15:26:25.806Z"
   },
   {
    "duration": 6807,
    "start_time": "2021-12-24T15:26:45.474Z"
   },
   {
    "duration": 86,
    "start_time": "2021-12-24T15:26:54.158Z"
   },
   {
    "duration": 84,
    "start_time": "2021-12-24T15:26:59.677Z"
   },
   {
    "duration": 6434,
    "start_time": "2021-12-24T15:27:03.243Z"
   },
   {
    "duration": 15,
    "start_time": "2021-12-24T15:27:46.916Z"
   },
   {
    "duration": 21,
    "start_time": "2021-12-24T15:27:51.454Z"
   },
   {
    "duration": 21,
    "start_time": "2021-12-24T15:28:16.110Z"
   },
   {
    "duration": 21,
    "start_time": "2021-12-24T15:28:37.709Z"
   },
   {
    "duration": 283,
    "start_time": "2021-12-24T15:32:31.701Z"
   },
   {
    "duration": 16,
    "start_time": "2021-12-24T15:43:09.558Z"
   },
   {
    "duration": 19,
    "start_time": "2021-12-24T15:43:14.012Z"
   },
   {
    "duration": 21,
    "start_time": "2021-12-24T15:49:11.202Z"
   },
   {
    "duration": 27,
    "start_time": "2021-12-24T15:49:36.889Z"
   },
   {
    "duration": 23,
    "start_time": "2021-12-24T15:49:39.701Z"
   },
   {
    "duration": 26,
    "start_time": "2021-12-24T15:49:48.493Z"
   },
   {
    "duration": 31,
    "start_time": "2021-12-24T15:49:51.677Z"
   },
   {
    "duration": 23,
    "start_time": "2021-12-24T15:50:19.487Z"
   },
   {
    "duration": 24,
    "start_time": "2021-12-24T15:50:43.007Z"
   },
   {
    "duration": 22,
    "start_time": "2021-12-24T15:52:07.758Z"
   },
   {
    "duration": 26,
    "start_time": "2021-12-24T15:53:28.936Z"
   },
   {
    "duration": 29,
    "start_time": "2021-12-24T15:53:50.655Z"
   },
   {
    "duration": 28,
    "start_time": "2021-12-24T15:53:59.496Z"
   },
   {
    "duration": 6,
    "start_time": "2021-12-24T15:56:22.542Z"
   },
   {
    "duration": 15,
    "start_time": "2021-12-24T15:57:15.220Z"
   },
   {
    "duration": 17,
    "start_time": "2021-12-24T15:57:20.261Z"
   },
   {
    "duration": 21,
    "start_time": "2021-12-24T15:58:33.433Z"
   },
   {
    "duration": 16,
    "start_time": "2021-12-24T15:58:43.413Z"
   },
   {
    "duration": 17,
    "start_time": "2021-12-24T15:59:06.061Z"
   },
   {
    "duration": 6701,
    "start_time": "2021-12-24T16:03:24.288Z"
   },
   {
    "duration": 6,
    "start_time": "2021-12-24T16:03:31.484Z"
   },
   {
    "duration": 17,
    "start_time": "2021-12-24T16:09:52.566Z"
   },
   {
    "duration": 634,
    "start_time": "2021-12-24T16:12:12.187Z"
   },
   {
    "duration": 5,
    "start_time": "2021-12-24T16:12:21.516Z"
   },
   {
    "duration": 7,
    "start_time": "2021-12-24T16:12:28.698Z"
   },
   {
    "duration": 61,
    "start_time": "2021-12-24T16:12:28.707Z"
   },
   {
    "duration": 18,
    "start_time": "2021-12-24T16:12:28.770Z"
   },
   {
    "duration": 15,
    "start_time": "2021-12-24T16:12:28.790Z"
   },
   {
    "duration": 6,
    "start_time": "2021-12-24T16:12:28.807Z"
   },
   {
    "duration": 79,
    "start_time": "2021-12-24T16:44:20.965Z"
   },
   {
    "duration": 68,
    "start_time": "2021-12-24T16:44:43.562Z"
   },
   {
    "duration": 980,
    "start_time": "2021-12-24T16:47:15.705Z"
   },
   {
    "duration": 6,
    "start_time": "2021-12-24T16:48:03.776Z"
   },
   {
    "duration": 15,
    "start_time": "2021-12-24T16:48:11.659Z"
   },
   {
    "duration": 7,
    "start_time": "2021-12-24T16:48:45.644Z"
   },
   {
    "duration": 7,
    "start_time": "2021-12-24T16:48:57.857Z"
   },
   {
    "duration": 266,
    "start_time": "2021-12-24T16:49:05.089Z"
   },
   {
    "duration": 7,
    "start_time": "2021-12-24T16:49:39.843Z"
   },
   {
    "duration": 5,
    "start_time": "2021-12-24T16:49:47.401Z"
   },
   {
    "duration": 333,
    "start_time": "2021-12-24T16:50:04.270Z"
   },
   {
    "duration": 695,
    "start_time": "2021-12-24T16:50:09.156Z"
   },
   {
    "duration": 4,
    "start_time": "2021-12-24T16:50:34.526Z"
   },
   {
    "duration": 271,
    "start_time": "2021-12-24T16:50:36.577Z"
   },
   {
    "duration": 12,
    "start_time": "2021-12-24T16:50:52.663Z"
   },
   {
    "duration": 294,
    "start_time": "2021-12-24T16:51:48.624Z"
   },
   {
    "duration": 256,
    "start_time": "2021-12-24T16:52:32.142Z"
   },
   {
    "duration": 22,
    "start_time": "2021-12-24T16:52:46.716Z"
   },
   {
    "duration": 249,
    "start_time": "2021-12-24T16:53:26.476Z"
   },
   {
    "duration": 4,
    "start_time": "2021-12-24T16:54:08.108Z"
   },
   {
    "duration": 11,
    "start_time": "2021-12-24T16:55:07.354Z"
   },
   {
    "duration": 22,
    "start_time": "2021-12-24T16:55:11.839Z"
   },
   {
    "duration": 11,
    "start_time": "2021-12-24T16:55:25.878Z"
   },
   {
    "duration": 19,
    "start_time": "2021-12-24T16:55:26.915Z"
   },
   {
    "duration": 1615,
    "start_time": "2021-12-24T16:55:48.959Z"
   },
   {
    "duration": 58,
    "start_time": "2021-12-24T16:55:50.576Z"
   },
   {
    "duration": 23,
    "start_time": "2021-12-24T16:55:50.637Z"
   },
   {
    "duration": 28,
    "start_time": "2021-12-24T16:55:50.662Z"
   },
   {
    "duration": 18,
    "start_time": "2021-12-24T16:55:50.692Z"
   },
   {
    "duration": 16,
    "start_time": "2021-12-24T16:55:50.712Z"
   },
   {
    "duration": 32,
    "start_time": "2021-12-24T16:55:50.729Z"
   },
   {
    "duration": 7,
    "start_time": "2021-12-24T16:55:50.764Z"
   },
   {
    "duration": 251,
    "start_time": "2021-12-24T16:55:50.774Z"
   },
   {
    "duration": 38,
    "start_time": "2021-12-24T16:55:51.028Z"
   },
   {
    "duration": 12,
    "start_time": "2021-12-24T16:55:51.068Z"
   },
   {
    "duration": 588,
    "start_time": "2021-12-24T16:55:51.083Z"
   },
   {
    "duration": 15,
    "start_time": "2021-12-24T16:55:51.674Z"
   },
   {
    "duration": 272,
    "start_time": "2021-12-24T16:55:51.691Z"
   },
   {
    "duration": 151,
    "start_time": "2021-12-24T16:55:51.965Z"
   },
   {
    "duration": 285,
    "start_time": "2021-12-24T16:55:52.117Z"
   },
   {
    "duration": 5,
    "start_time": "2021-12-24T16:55:52.404Z"
   },
   {
    "duration": 49,
    "start_time": "2021-12-24T16:55:52.411Z"
   },
   {
    "duration": 9,
    "start_time": "2021-12-24T16:55:52.462Z"
   },
   {
    "duration": 27,
    "start_time": "2021-12-24T16:55:52.472Z"
   },
   {
    "duration": 170,
    "start_time": "2021-12-24T16:55:52.501Z"
   },
   {
    "duration": 32,
    "start_time": "2021-12-24T16:55:52.673Z"
   },
   {
    "duration": 325,
    "start_time": "2021-12-24T16:55:52.708Z"
   },
   {
    "duration": 6,
    "start_time": "2021-12-24T16:55:53.035Z"
   },
   {
    "duration": 63,
    "start_time": "2021-12-24T16:55:53.060Z"
   },
   {
    "duration": 19,
    "start_time": "2021-12-24T16:55:53.124Z"
   },
   {
    "duration": 30,
    "start_time": "2021-12-24T16:55:53.145Z"
   },
   {
    "duration": 4,
    "start_time": "2021-12-24T16:55:53.177Z"
   },
   {
    "duration": 15,
    "start_time": "2021-12-24T16:55:53.183Z"
   },
   {
    "duration": 14,
    "start_time": "2021-12-24T16:55:53.200Z"
   },
   {
    "duration": 46,
    "start_time": "2021-12-24T16:55:53.215Z"
   },
   {
    "duration": 4,
    "start_time": "2021-12-24T16:55:58.969Z"
   },
   {
    "duration": 25,
    "start_time": "2021-12-24T16:56:10.693Z"
   },
   {
    "duration": 12,
    "start_time": "2021-12-24T16:56:30.419Z"
   },
   {
    "duration": 7,
    "start_time": "2021-12-24T16:56:37.980Z"
   },
   {
    "duration": 6,
    "start_time": "2021-12-24T16:56:42.889Z"
   },
   {
    "duration": 12,
    "start_time": "2021-12-24T16:57:31.814Z"
   },
   {
    "duration": 20,
    "start_time": "2021-12-24T16:57:37.239Z"
   },
   {
    "duration": 17,
    "start_time": "2021-12-24T16:58:10.756Z"
   },
   {
    "duration": 1897,
    "start_time": "2021-12-27T05:51:28.186Z"
   },
   {
    "duration": 70,
    "start_time": "2021-12-27T05:51:30.086Z"
   },
   {
    "duration": 29,
    "start_time": "2021-12-27T05:51:30.159Z"
   },
   {
    "duration": 24,
    "start_time": "2021-12-27T05:51:30.191Z"
   },
   {
    "duration": 50,
    "start_time": "2021-12-27T05:51:30.217Z"
   },
   {
    "duration": 22,
    "start_time": "2021-12-27T05:51:30.269Z"
   },
   {
    "duration": 7,
    "start_time": "2021-12-27T05:51:30.293Z"
   },
   {
    "duration": 16,
    "start_time": "2021-12-27T05:51:30.304Z"
   },
   {
    "duration": 392,
    "start_time": "2021-12-27T05:51:30.323Z"
   },
   {
    "duration": 49,
    "start_time": "2021-12-27T05:51:30.717Z"
   },
   {
    "duration": 14,
    "start_time": "2021-12-27T05:51:30.769Z"
   },
   {
    "duration": 783,
    "start_time": "2021-12-27T05:51:30.786Z"
   },
   {
    "duration": 19,
    "start_time": "2021-12-27T05:51:31.571Z"
   },
   {
    "duration": 409,
    "start_time": "2021-12-27T05:51:31.593Z"
   },
   {
    "duration": 151,
    "start_time": "2021-12-27T05:51:32.004Z"
   },
   {
    "duration": 435,
    "start_time": "2021-12-27T05:51:32.162Z"
   },
   {
    "duration": 8,
    "start_time": "2021-12-27T05:51:32.599Z"
   },
   {
    "duration": 68,
    "start_time": "2021-12-27T05:51:32.609Z"
   },
   {
    "duration": 12,
    "start_time": "2021-12-27T05:51:32.679Z"
   },
   {
    "duration": 18,
    "start_time": "2021-12-27T05:51:32.694Z"
   },
   {
    "duration": 379,
    "start_time": "2021-12-27T05:51:32.715Z"
   },
   {
    "duration": 65,
    "start_time": "2021-12-27T05:51:33.097Z"
   },
   {
    "duration": 479,
    "start_time": "2021-12-27T05:51:33.167Z"
   },
   {
    "duration": 14,
    "start_time": "2021-12-27T05:51:33.649Z"
   },
   {
    "duration": 103,
    "start_time": "2021-12-27T05:51:33.666Z"
   },
   {
    "duration": 26,
    "start_time": "2021-12-27T05:51:33.772Z"
   },
   {
    "duration": 24,
    "start_time": "2021-12-27T05:51:33.800Z"
   },
   {
    "duration": 39,
    "start_time": "2021-12-27T05:51:33.826Z"
   },
   {
    "duration": 27,
    "start_time": "2021-12-27T05:51:33.867Z"
   },
   {
    "duration": 29,
    "start_time": "2021-12-27T05:51:47.336Z"
   },
   {
    "duration": 1261,
    "start_time": "2021-12-27T05:54:45.129Z"
   },
   {
    "duration": 616,
    "start_time": "2021-12-27T05:54:53.225Z"
   },
   {
    "duration": 28,
    "start_time": "2021-12-27T05:54:56.953Z"
   },
   {
    "duration": 24,
    "start_time": "2021-12-27T05:54:58.916Z"
   },
   {
    "duration": 37,
    "start_time": "2021-12-27T05:55:04.969Z"
   },
   {
    "duration": 37,
    "start_time": "2021-12-27T05:56:34.049Z"
   },
   {
    "duration": 34,
    "start_time": "2021-12-27T05:59:50.418Z"
   },
   {
    "duration": 1203,
    "start_time": "2021-12-27T06:00:26.680Z"
   },
   {
    "duration": 1218,
    "start_time": "2021-12-27T06:01:07.113Z"
   },
   {
    "duration": 1269,
    "start_time": "2021-12-27T06:01:51.702Z"
   },
   {
    "duration": 107,
    "start_time": "2021-12-27T06:01:56.064Z"
   },
   {
    "duration": 1260,
    "start_time": "2021-12-27T06:02:00.377Z"
   },
   {
    "duration": 1243,
    "start_time": "2021-12-27T06:02:10.031Z"
   },
   {
    "duration": 5,
    "start_time": "2021-12-27T06:02:36.001Z"
   },
   {
    "duration": 5,
    "start_time": "2021-12-27T06:07:22.114Z"
   },
   {
    "duration": 27,
    "start_time": "2021-12-27T06:11:28.460Z"
   },
   {
    "duration": 4,
    "start_time": "2021-12-27T06:12:28.386Z"
   },
   {
    "duration": 305,
    "start_time": "2021-12-27T06:12:34.416Z"
   },
   {
    "duration": 28,
    "start_time": "2021-12-27T06:12:38.748Z"
   },
   {
    "duration": 315,
    "start_time": "2021-12-27T06:12:39.096Z"
   },
   {
    "duration": 5,
    "start_time": "2021-12-27T06:12:45.072Z"
   },
   {
    "duration": 17,
    "start_time": "2021-12-27T06:12:47.769Z"
   },
   {
    "duration": 35,
    "start_time": "2021-12-27T06:13:49.217Z"
   },
   {
    "duration": 1205,
    "start_time": "2021-12-27T06:13:56.260Z"
   },
   {
    "duration": 1362,
    "start_time": "2021-12-27T06:14:17.572Z"
   },
   {
    "duration": 6,
    "start_time": "2021-12-27T06:14:24.631Z"
   },
   {
    "duration": 27,
    "start_time": "2021-12-27T06:15:12.917Z"
   },
   {
    "duration": 5,
    "start_time": "2021-12-27T06:15:13.336Z"
   },
   {
    "duration": 6,
    "start_time": "2021-12-27T06:16:16.313Z"
   },
   {
    "duration": 12,
    "start_time": "2021-12-27T06:16:19.043Z"
   },
   {
    "duration": 8,
    "start_time": "2021-12-27T06:16:24.601Z"
   },
   {
    "duration": 384,
    "start_time": "2021-12-27T06:18:25.182Z"
   },
   {
    "duration": 56,
    "start_time": "2021-12-27T06:18:52.390Z"
   },
   {
    "duration": 4,
    "start_time": "2021-12-27T06:20:00.578Z"
   },
   {
    "duration": 10,
    "start_time": "2021-12-27T06:20:10.734Z"
   },
   {
    "duration": 9,
    "start_time": "2021-12-27T06:21:35.661Z"
   },
   {
    "duration": 407,
    "start_time": "2021-12-27T06:25:06.059Z"
   },
   {
    "duration": 678,
    "start_time": "2021-12-27T06:26:17.865Z"
   },
   {
    "duration": 8,
    "start_time": "2021-12-27T06:26:31.208Z"
   },
   {
    "duration": 8,
    "start_time": "2021-12-27T06:27:07.426Z"
   },
   {
    "duration": 9,
    "start_time": "2021-12-27T06:28:05.900Z"
   },
   {
    "duration": 387,
    "start_time": "2021-12-27T06:28:18.757Z"
   },
   {
    "duration": 391,
    "start_time": "2021-12-27T06:28:31.259Z"
   },
   {
    "duration": 401,
    "start_time": "2021-12-27T06:29:14.741Z"
   },
   {
    "duration": 462,
    "start_time": "2021-12-27T06:32:30.542Z"
   },
   {
    "duration": 422,
    "start_time": "2021-12-27T06:32:35.962Z"
   },
   {
    "duration": 400,
    "start_time": "2021-12-27T06:33:22.425Z"
   },
   {
    "duration": 386,
    "start_time": "2021-12-27T06:33:28.379Z"
   },
   {
    "duration": 370,
    "start_time": "2021-12-27T06:33:41.487Z"
   },
   {
    "duration": 403,
    "start_time": "2021-12-27T06:34:01.574Z"
   },
   {
    "duration": 383,
    "start_time": "2021-12-27T06:34:26.082Z"
   },
   {
    "duration": 33,
    "start_time": "2021-12-27T06:51:45.493Z"
   },
   {
    "duration": 1265,
    "start_time": "2021-12-27T06:52:02.386Z"
   },
   {
    "duration": 37,
    "start_time": "2021-12-27T06:52:24.922Z"
   },
   {
    "duration": 1257,
    "start_time": "2021-12-27T06:52:31.537Z"
   },
   {
    "duration": 43,
    "start_time": "2021-12-27T06:54:12.980Z"
   },
   {
    "duration": 26,
    "start_time": "2021-12-27T06:54:20.026Z"
   },
   {
    "duration": 24,
    "start_time": "2021-12-27T06:54:21.644Z"
   },
   {
    "duration": 403,
    "start_time": "2021-12-27T06:54:34.277Z"
   },
   {
    "duration": 8,
    "start_time": "2021-12-27T06:54:45.338Z"
   },
   {
    "duration": 341,
    "start_time": "2021-12-27T06:55:05.787Z"
   },
   {
    "duration": 455,
    "start_time": "2021-12-27T06:55:53.800Z"
   },
   {
    "duration": 8,
    "start_time": "2021-12-27T06:56:19.603Z"
   },
   {
    "duration": 13,
    "start_time": "2021-12-27T06:56:24.465Z"
   },
   {
    "duration": 532,
    "start_time": "2021-12-27T06:57:34.999Z"
   },
   {
    "duration": 1513,
    "start_time": "2021-12-27T06:57:50.853Z"
   },
   {
    "duration": 477,
    "start_time": "2021-12-27T06:58:13.829Z"
   },
   {
    "duration": 456,
    "start_time": "2021-12-27T06:58:24.479Z"
   },
   {
    "duration": 1984,
    "start_time": "2021-12-27T06:58:53.388Z"
   },
   {
    "duration": 480,
    "start_time": "2021-12-27T06:58:56.396Z"
   },
   {
    "duration": 495,
    "start_time": "2021-12-27T06:59:17.727Z"
   },
   {
    "duration": 799,
    "start_time": "2021-12-27T06:59:19.034Z"
   },
   {
    "duration": 337,
    "start_time": "2021-12-27T06:59:28.451Z"
   },
   {
    "duration": 459,
    "start_time": "2021-12-27T06:59:30.697Z"
   },
   {
    "duration": 6,
    "start_time": "2021-12-27T07:00:30.664Z"
   },
   {
    "duration": 16,
    "start_time": "2021-12-27T07:00:32.053Z"
   },
   {
    "duration": 14,
    "start_time": "2021-12-27T07:00:54.495Z"
   },
   {
    "duration": 15,
    "start_time": "2021-12-27T07:02:27.571Z"
   },
   {
    "duration": 471,
    "start_time": "2021-12-27T15:03:16.416Z"
   },
   {
    "duration": 6,
    "start_time": "2021-12-27T15:05:36.956Z"
   },
   {
    "duration": 75,
    "start_time": "2021-12-27T15:05:36.971Z"
   },
   {
    "duration": 45,
    "start_time": "2021-12-27T15:05:37.050Z"
   },
   {
    "duration": 29,
    "start_time": "2021-12-27T15:05:37.098Z"
   },
   {
    "duration": 27,
    "start_time": "2021-12-27T15:05:37.165Z"
   },
   {
    "duration": 67,
    "start_time": "2021-12-27T15:05:37.196Z"
   },
   {
    "duration": 8,
    "start_time": "2021-12-27T15:05:37.265Z"
   },
   {
    "duration": 9,
    "start_time": "2021-12-27T15:05:37.276Z"
   },
   {
    "duration": 597,
    "start_time": "2021-12-27T15:05:37.291Z"
   },
   {
    "duration": 36,
    "start_time": "2021-12-27T15:05:37.891Z"
   },
   {
    "duration": 15,
    "start_time": "2021-12-27T15:05:37.962Z"
   },
   {
    "duration": 237,
    "start_time": "2021-12-27T15:05:37.980Z"
   },
   {
    "duration": 46,
    "start_time": "2021-12-27T15:05:38.219Z"
   },
   {
    "duration": 283,
    "start_time": "2021-12-27T15:05:38.267Z"
   },
   {
    "duration": 48,
    "start_time": "2021-12-27T15:05:38.552Z"
   },
   {
    "duration": 478,
    "start_time": "2021-12-27T15:05:38.602Z"
   },
   {
    "duration": 8,
    "start_time": "2021-12-27T15:05:39.083Z"
   },
   {
    "duration": 83,
    "start_time": "2021-12-27T15:05:39.093Z"
   },
   {
    "duration": 15,
    "start_time": "2021-12-27T15:05:39.180Z"
   },
   {
    "duration": 28,
    "start_time": "2021-12-27T15:05:39.198Z"
   },
   {
    "duration": 401,
    "start_time": "2021-12-27T15:05:39.229Z"
   },
   {
    "duration": 60,
    "start_time": "2021-12-27T15:05:39.633Z"
   },
   {
    "duration": 545,
    "start_time": "2021-12-27T15:05:39.695Z"
   },
   {
    "duration": 19,
    "start_time": "2021-12-27T15:05:40.245Z"
   },
   {
    "duration": 109,
    "start_time": "2021-12-27T15:05:40.269Z"
   },
   {
    "duration": 27,
    "start_time": "2021-12-27T15:05:40.380Z"
   },
   {
    "duration": 25,
    "start_time": "2021-12-27T15:05:40.410Z"
   },
   {
    "duration": 30,
    "start_time": "2021-12-27T15:05:40.438Z"
   },
   {
    "duration": 35,
    "start_time": "2021-12-27T15:05:40.471Z"
   },
   {
    "duration": 64,
    "start_time": "2021-12-27T15:05:40.509Z"
   },
   {
    "duration": 1344,
    "start_time": "2021-12-27T15:05:40.576Z"
   },
   {
    "duration": 10,
    "start_time": "2021-12-27T15:05:53.512Z"
   },
   {
    "duration": 374,
    "start_time": "2021-12-27T15:05:59.662Z"
   },
   {
    "duration": 479,
    "start_time": "2021-12-27T15:06:04.599Z"
   },
   {
    "duration": 6,
    "start_time": "2021-12-27T15:06:12.530Z"
   },
   {
    "duration": 23,
    "start_time": "2021-12-27T15:06:14.503Z"
   },
   {
    "duration": 291,
    "start_time": "2021-12-27T15:14:28.894Z"
   },
   {
    "duration": 323,
    "start_time": "2021-12-27T15:14:37.122Z"
   },
   {
    "duration": 18,
    "start_time": "2021-12-27T15:15:57.225Z"
   },
   {
    "duration": 9,
    "start_time": "2021-12-27T15:16:11.704Z"
   },
   {
    "duration": 526,
    "start_time": "2021-12-27T15:16:30.205Z"
   },
   {
    "duration": 243,
    "start_time": "2021-12-27T15:16:39.020Z"
   },
   {
    "duration": 319,
    "start_time": "2021-12-27T15:16:53.050Z"
   },
   {
    "duration": 9,
    "start_time": "2021-12-27T15:17:26.060Z"
   },
   {
    "duration": 8,
    "start_time": "2021-12-27T15:17:32.664Z"
   },
   {
    "duration": 8,
    "start_time": "2021-12-27T15:17:39.848Z"
   },
   {
    "duration": 12,
    "start_time": "2021-12-27T15:17:48.447Z"
   },
   {
    "duration": 14,
    "start_time": "2021-12-27T15:18:00.687Z"
   },
   {
    "duration": 8,
    "start_time": "2021-12-27T15:18:11.940Z"
   },
   {
    "duration": 8,
    "start_time": "2021-12-27T15:18:27.400Z"
   },
   {
    "duration": 1183,
    "start_time": "2021-12-27T15:19:16.674Z"
   },
   {
    "duration": 730,
    "start_time": "2021-12-27T15:19:17.129Z"
   },
   {
    "duration": 10,
    "start_time": "2021-12-27T15:19:19.611Z"
   },
   {
    "duration": 11,
    "start_time": "2021-12-27T15:19:20.287Z"
   },
   {
    "duration": 10,
    "start_time": "2021-12-27T15:19:29.560Z"
   },
   {
    "duration": 10,
    "start_time": "2021-12-27T15:19:30.772Z"
   },
   {
    "duration": 11,
    "start_time": "2021-12-27T15:19:35.374Z"
   },
   {
    "duration": 21,
    "start_time": "2021-12-27T15:19:36.585Z"
   },
   {
    "duration": 11,
    "start_time": "2021-12-27T15:19:44.755Z"
   },
   {
    "duration": 11,
    "start_time": "2021-12-27T15:19:45.757Z"
   },
   {
    "duration": 12,
    "start_time": "2021-12-27T15:22:06.595Z"
   },
   {
    "duration": 10,
    "start_time": "2021-12-27T15:22:07.023Z"
   },
   {
    "duration": 223,
    "start_time": "2021-12-27T15:22:38.908Z"
   },
   {
    "duration": 227,
    "start_time": "2021-12-27T15:22:47.655Z"
   },
   {
    "duration": 247,
    "start_time": "2021-12-27T15:24:09.783Z"
   },
   {
    "duration": 226,
    "start_time": "2021-12-27T15:24:25.695Z"
   },
   {
    "duration": 265,
    "start_time": "2021-12-27T15:24:38.988Z"
   },
   {
    "duration": 7942,
    "start_time": "2021-12-27T15:25:01.697Z"
   },
   {
    "duration": 13,
    "start_time": "2021-12-27T15:25:24.828Z"
   },
   {
    "duration": 10,
    "start_time": "2021-12-27T15:25:25.380Z"
   },
   {
    "duration": 7606,
    "start_time": "2021-12-27T15:25:26.591Z"
   },
   {
    "duration": 435,
    "start_time": "2021-12-27T15:26:18.370Z"
   },
   {
    "duration": 229,
    "start_time": "2021-12-27T15:26:48.751Z"
   },
   {
    "duration": 245,
    "start_time": "2021-12-27T15:26:54.194Z"
   },
   {
    "duration": 242,
    "start_time": "2021-12-27T15:26:57.984Z"
   },
   {
    "duration": 271,
    "start_time": "2021-12-27T15:27:34.537Z"
   },
   {
    "duration": 110,
    "start_time": "2021-12-27T15:27:37.829Z"
   },
   {
    "duration": 256,
    "start_time": "2021-12-27T15:27:41.117Z"
   },
   {
    "duration": 271,
    "start_time": "2021-12-27T15:40:24.531Z"
   },
   {
    "duration": 314,
    "start_time": "2021-12-27T15:45:09.505Z"
   },
   {
    "duration": 309,
    "start_time": "2021-12-27T15:45:35.547Z"
   },
   {
    "duration": 301,
    "start_time": "2021-12-27T15:46:00.472Z"
   },
   {
    "duration": 396,
    "start_time": "2021-12-27T15:46:08.999Z"
   },
   {
    "duration": 376,
    "start_time": "2021-12-27T15:46:40.846Z"
   },
   {
    "duration": 397,
    "start_time": "2021-12-27T15:48:34.800Z"
   },
   {
    "duration": 712,
    "start_time": "2021-12-27T15:48:59.245Z"
   },
   {
    "duration": 7,
    "start_time": "2021-12-27T15:51:14.043Z"
   },
   {
    "duration": 12,
    "start_time": "2021-12-27T15:51:17.139Z"
   },
   {
    "duration": 14,
    "start_time": "2021-12-27T15:51:23.171Z"
   },
   {
    "duration": 16,
    "start_time": "2021-12-27T15:52:12.812Z"
   },
   {
    "duration": 17,
    "start_time": "2021-12-27T15:52:24.553Z"
   },
   {
    "duration": 10,
    "start_time": "2021-12-27T15:52:39.773Z"
   },
   {
    "duration": 15,
    "start_time": "2021-12-27T15:52:44.663Z"
   },
   {
    "duration": 491,
    "start_time": "2021-12-27T15:54:34.273Z"
   },
   {
    "duration": 14,
    "start_time": "2021-12-27T15:54:57.290Z"
   },
   {
    "duration": 396,
    "start_time": "2021-12-27T15:55:01.754Z"
   },
   {
    "duration": 397,
    "start_time": "2021-12-27T15:56:55.900Z"
   },
   {
    "duration": 13,
    "start_time": "2021-12-27T15:57:13.818Z"
   },
   {
    "duration": 12,
    "start_time": "2021-12-27T16:00:45.420Z"
   },
   {
    "duration": 8,
    "start_time": "2021-12-27T16:06:22.806Z"
   },
   {
    "duration": 6,
    "start_time": "2021-12-27T16:11:01.476Z"
   },
   {
    "duration": 6,
    "start_time": "2021-12-27T16:13:14.154Z"
   },
   {
    "duration": 392,
    "start_time": "2021-12-27T16:27:53.564Z"
   },
   {
    "duration": 597,
    "start_time": "2021-12-27T16:27:58.709Z"
   },
   {
    "duration": 529,
    "start_time": "2021-12-27T16:28:05.929Z"
   },
   {
    "duration": 601,
    "start_time": "2021-12-27T16:32:23.139Z"
   },
   {
    "duration": 346,
    "start_time": "2021-12-27T16:32:27.254Z"
   },
   {
    "duration": 374,
    "start_time": "2021-12-27T16:32:56.997Z"
   },
   {
    "duration": 377,
    "start_time": "2021-12-27T16:33:30.526Z"
   },
   {
    "duration": 376,
    "start_time": "2021-12-27T16:34:10.694Z"
   },
   {
    "duration": 384,
    "start_time": "2021-12-27T16:34:16.848Z"
   },
   {
    "duration": 23,
    "start_time": "2021-12-27T16:56:43.296Z"
   },
   {
    "duration": 1645,
    "start_time": "2021-12-28T04:14:18.996Z"
   },
   {
    "duration": 77,
    "start_time": "2021-12-28T04:16:22.863Z"
   },
   {
    "duration": 4392,
    "start_time": "2021-12-28T04:16:30.632Z"
   },
   {
    "duration": 541,
    "start_time": "2021-12-28T04:17:26.780Z"
   },
   {
    "duration": 5,
    "start_time": "2021-12-28T04:17:32.450Z"
   },
   {
    "duration": 9,
    "start_time": "2021-12-28T04:17:38.697Z"
   },
   {
    "duration": 518,
    "start_time": "2021-12-28T04:17:55.079Z"
   },
   {
    "duration": 31,
    "start_time": "2021-12-28T04:18:18.648Z"
   },
   {
    "duration": 45,
    "start_time": "2021-12-28T04:18:35.682Z"
   },
   {
    "duration": 36,
    "start_time": "2021-12-28T04:18:47.737Z"
   },
   {
    "duration": 29,
    "start_time": "2021-12-28T04:19:11.685Z"
   },
   {
    "duration": 10,
    "start_time": "2021-12-28T04:19:15.813Z"
   },
   {
    "duration": 11,
    "start_time": "2021-12-28T04:19:18.649Z"
   },
   {
    "duration": 8,
    "start_time": "2021-12-28T04:19:25.737Z"
   },
   {
    "duration": 13,
    "start_time": "2021-12-28T04:19:30.282Z"
   },
   {
    "duration": 4,
    "start_time": "2021-12-28T04:19:38.535Z"
   },
   {
    "duration": 572,
    "start_time": "2021-12-28T04:20:22.016Z"
   },
   {
    "duration": 574,
    "start_time": "2021-12-28T04:21:07.724Z"
   },
   {
    "duration": 488,
    "start_time": "2021-12-28T04:21:15.425Z"
   },
   {
    "duration": 524,
    "start_time": "2021-12-28T04:22:15.791Z"
   },
   {
    "duration": 560,
    "start_time": "2021-12-28T04:22:20.171Z"
   },
   {
    "duration": 531,
    "start_time": "2021-12-28T04:22:25.834Z"
   },
   {
    "duration": 797,
    "start_time": "2021-12-28T04:22:49.271Z"
   },
   {
    "duration": 893,
    "start_time": "2021-12-28T04:23:33.817Z"
   },
   {
    "duration": 498,
    "start_time": "2021-12-28T04:26:02.918Z"
   },
   {
    "duration": 523,
    "start_time": "2021-12-28T04:26:10.424Z"
   },
   {
    "duration": 3,
    "start_time": "2021-12-28T04:28:45.943Z"
   },
   {
    "duration": 59,
    "start_time": "2021-12-28T04:28:45.949Z"
   },
   {
    "duration": 18,
    "start_time": "2021-12-28T04:28:46.009Z"
   },
   {
    "duration": 15,
    "start_time": "2021-12-28T04:28:46.029Z"
   },
   {
    "duration": 12,
    "start_time": "2021-12-28T04:28:46.046Z"
   },
   {
    "duration": 13,
    "start_time": "2021-12-28T04:28:46.060Z"
   },
   {
    "duration": 4,
    "start_time": "2021-12-28T04:28:46.074Z"
   },
   {
    "duration": 6,
    "start_time": "2021-12-28T04:28:46.080Z"
   },
   {
    "duration": 416,
    "start_time": "2021-12-28T04:28:46.087Z"
   },
   {
    "duration": 19,
    "start_time": "2021-12-28T04:28:46.504Z"
   },
   {
    "duration": 22,
    "start_time": "2021-12-28T04:28:46.525Z"
   },
   {
    "duration": 501,
    "start_time": "2021-12-28T04:28:46.549Z"
   },
   {
    "duration": 12,
    "start_time": "2021-12-28T04:28:47.052Z"
   },
   {
    "duration": 239,
    "start_time": "2021-12-28T04:28:47.065Z"
   },
   {
    "duration": 44,
    "start_time": "2021-12-28T04:28:47.306Z"
   },
   {
    "duration": 247,
    "start_time": "2021-12-28T04:28:47.351Z"
   },
   {
    "duration": 5,
    "start_time": "2021-12-28T04:28:47.600Z"
   },
   {
    "duration": 41,
    "start_time": "2021-12-28T04:28:47.607Z"
   },
   {
    "duration": 7,
    "start_time": "2021-12-28T04:28:47.650Z"
   },
   {
    "duration": 13,
    "start_time": "2021-12-28T04:28:47.659Z"
   },
   {
    "duration": 159,
    "start_time": "2021-12-28T04:28:47.673Z"
   },
   {
    "duration": 33,
    "start_time": "2021-12-28T04:28:47.834Z"
   },
   {
    "duration": 276,
    "start_time": "2021-12-28T04:28:47.868Z"
   },
   {
    "duration": 552,
    "start_time": "2021-12-28T04:28:48.146Z"
   },
   {
    "duration": 6,
    "start_time": "2021-12-28T04:28:48.700Z"
   },
   {
    "duration": 73,
    "start_time": "2021-12-28T04:28:48.707Z"
   },
   {
    "duration": 18,
    "start_time": "2021-12-28T04:29:21.642Z"
   },
   {
    "duration": 8,
    "start_time": "2021-12-28T04:29:45.710Z"
   },
   {
    "duration": 7,
    "start_time": "2021-12-28T04:30:00.998Z"
   },
   {
    "duration": 10,
    "start_time": "2021-12-28T04:31:18.840Z"
   },
   {
    "duration": 12,
    "start_time": "2021-12-28T04:31:38.777Z"
   },
   {
    "duration": 12,
    "start_time": "2021-12-28T04:32:22.763Z"
   },
   {
    "duration": 81,
    "start_time": "2021-12-28T04:32:38.842Z"
   },
   {
    "duration": 9,
    "start_time": "2021-12-28T04:32:42.778Z"
   },
   {
    "duration": 835,
    "start_time": "2021-12-28T04:33:30.989Z"
   },
   {
    "duration": 813,
    "start_time": "2021-12-28T04:33:54.306Z"
   },
   {
    "duration": 503,
    "start_time": "2021-12-28T04:33:59.489Z"
   },
   {
    "duration": 6,
    "start_time": "2021-12-28T04:34:10.007Z"
   },
   {
    "duration": 52,
    "start_time": "2021-12-28T04:34:10.591Z"
   },
   {
    "duration": 16,
    "start_time": "2021-12-28T04:34:12.558Z"
   },
   {
    "duration": 12,
    "start_time": "2021-12-28T04:34:14.058Z"
   },
   {
    "duration": 7,
    "start_time": "2021-12-28T04:34:57.779Z"
   },
   {
    "duration": 7,
    "start_time": "2021-12-28T04:35:08.814Z"
   },
   {
    "duration": 566,
    "start_time": "2021-12-28T04:35:38.731Z"
   },
   {
    "duration": 507,
    "start_time": "2021-12-28T04:35:47.438Z"
   },
   {
    "duration": 7,
    "start_time": "2021-12-28T04:36:09.238Z"
   },
   {
    "duration": 39,
    "start_time": "2021-12-28T04:36:32.963Z"
   },
   {
    "duration": 225,
    "start_time": "2021-12-28T04:37:07.748Z"
   },
   {
    "duration": 4639,
    "start_time": "2021-12-28T04:37:17.527Z"
   },
   {
    "duration": 1010,
    "start_time": "2021-12-28T04:39:29.411Z"
   },
   {
    "duration": 863,
    "start_time": "2021-12-28T04:39:46.098Z"
   },
   {
    "duration": 4384,
    "start_time": "2021-12-28T04:41:00.425Z"
   },
   {
    "duration": 4526,
    "start_time": "2021-12-28T04:42:43.407Z"
   },
   {
    "duration": 4484,
    "start_time": "2021-12-28T04:43:17.785Z"
   },
   {
    "duration": 565,
    "start_time": "2021-12-28T04:43:28.278Z"
   },
   {
    "duration": 593,
    "start_time": "2021-12-28T04:43:36.334Z"
   },
   {
    "duration": 931,
    "start_time": "2021-12-28T04:43:38.682Z"
   },
   {
    "duration": 663,
    "start_time": "2021-12-28T04:43:42.528Z"
   },
   {
    "duration": 567,
    "start_time": "2021-12-28T04:45:31.653Z"
   },
   {
    "duration": 630,
    "start_time": "2021-12-28T04:48:03.648Z"
   },
   {
    "duration": 504,
    "start_time": "2021-12-28T04:48:07.547Z"
   },
   {
    "duration": 5096,
    "start_time": "2021-12-28T04:48:16.331Z"
   },
   {
    "duration": 696,
    "start_time": "2021-12-28T04:52:25.866Z"
   },
   {
    "duration": 868,
    "start_time": "2021-12-28T04:58:16.436Z"
   },
   {
    "duration": 10,
    "start_time": "2021-12-28T04:58:23.458Z"
   },
   {
    "duration": 1144,
    "start_time": "2021-12-28T04:59:01.049Z"
   },
   {
    "duration": 1040,
    "start_time": "2021-12-28T04:59:05.844Z"
   },
   {
    "duration": 917,
    "start_time": "2021-12-28T04:59:43.108Z"
   },
   {
    "duration": 913,
    "start_time": "2021-12-28T04:59:55.415Z"
   },
   {
    "duration": 6,
    "start_time": "2021-12-28T05:00:06.141Z"
   },
   {
    "duration": 50,
    "start_time": "2021-12-28T05:00:06.876Z"
   },
   {
    "duration": 18,
    "start_time": "2021-12-28T05:00:09.656Z"
   },
   {
    "duration": 344,
    "start_time": "2021-12-28T05:00:21.278Z"
   },
   {
    "duration": 19,
    "start_time": "2021-12-28T05:00:30.744Z"
   },
   {
    "duration": 83,
    "start_time": "2021-12-28T05:03:52.662Z"
   },
   {
    "duration": 16,
    "start_time": "2021-12-28T05:03:55.051Z"
   },
   {
    "duration": 256,
    "start_time": "2021-12-28T05:04:16.873Z"
   },
   {
    "duration": 257,
    "start_time": "2021-12-28T05:04:24.195Z"
   },
   {
    "duration": 17,
    "start_time": "2021-12-28T05:04:28.215Z"
   },
   {
    "duration": 10,
    "start_time": "2021-12-28T05:04:37.723Z"
   },
   {
    "duration": 1175,
    "start_time": "2021-12-28T05:05:41.019Z"
   },
   {
    "duration": 958,
    "start_time": "2021-12-28T05:05:54.263Z"
   },
   {
    "duration": 805,
    "start_time": "2021-12-28T05:06:18.845Z"
   },
   {
    "duration": 1167,
    "start_time": "2021-12-28T05:06:28.518Z"
   },
   {
    "duration": 757,
    "start_time": "2021-12-28T05:06:33.490Z"
   },
   {
    "duration": 75,
    "start_time": "2021-12-28T05:06:47.989Z"
   },
   {
    "duration": 909,
    "start_time": "2021-12-28T05:06:52.398Z"
   },
   {
    "duration": 843,
    "start_time": "2021-12-28T05:07:04.811Z"
   },
   {
    "duration": 900,
    "start_time": "2021-12-28T05:07:12.517Z"
   },
   {
    "duration": 924,
    "start_time": "2021-12-28T05:07:18.275Z"
   },
   {
    "duration": 853,
    "start_time": "2021-12-28T05:07:37.541Z"
   },
   {
    "duration": 13,
    "start_time": "2021-12-28T05:08:12.036Z"
   },
   {
    "duration": 951,
    "start_time": "2021-12-28T05:08:29.398Z"
   },
   {
    "duration": 952,
    "start_time": "2021-12-28T05:08:35.736Z"
   },
   {
    "duration": 12,
    "start_time": "2021-12-28T05:08:40.885Z"
   },
   {
    "duration": 9,
    "start_time": "2021-12-28T05:09:36.538Z"
   },
   {
    "duration": 12,
    "start_time": "2021-12-28T05:10:08.209Z"
   },
   {
    "duration": 798,
    "start_time": "2021-12-28T05:11:28.334Z"
   },
   {
    "duration": 6,
    "start_time": "2021-12-28T05:11:32.994Z"
   },
   {
    "duration": 54,
    "start_time": "2021-12-28T05:11:33.401Z"
   },
   {
    "duration": 16,
    "start_time": "2021-12-28T05:11:34.296Z"
   },
   {
    "duration": 20,
    "start_time": "2021-12-28T05:11:35.818Z"
   },
   {
    "duration": 12,
    "start_time": "2021-12-28T05:11:55.744Z"
   },
   {
    "duration": 17,
    "start_time": "2021-12-28T05:12:39.004Z"
   },
   {
    "duration": 8,
    "start_time": "2021-12-28T05:13:50.360Z"
   },
   {
    "duration": 16,
    "start_time": "2021-12-28T05:13:54.913Z"
   },
   {
    "duration": 9,
    "start_time": "2021-12-28T05:14:43.877Z"
   },
   {
    "duration": 17,
    "start_time": "2021-12-28T05:14:49.919Z"
   },
   {
    "duration": 13,
    "start_time": "2021-12-28T05:16:04.937Z"
   },
   {
    "duration": 10,
    "start_time": "2021-12-28T05:17:44.206Z"
   },
   {
    "duration": 5,
    "start_time": "2021-12-28T05:17:52.430Z"
   },
   {
    "duration": 10,
    "start_time": "2021-12-28T05:19:50.268Z"
   },
   {
    "duration": 7,
    "start_time": "2021-12-28T05:20:20.772Z"
   },
   {
    "duration": 12,
    "start_time": "2021-12-28T05:20:36.443Z"
   },
   {
    "duration": 12,
    "start_time": "2021-12-28T05:20:41.881Z"
   },
   {
    "duration": 10,
    "start_time": "2021-12-28T05:20:42.747Z"
   },
   {
    "duration": 12,
    "start_time": "2021-12-28T05:21:32.830Z"
   },
   {
    "duration": 12,
    "start_time": "2021-12-28T05:21:34.010Z"
   },
   {
    "duration": 11,
    "start_time": "2021-12-28T05:21:52.830Z"
   },
   {
    "duration": 11,
    "start_time": "2021-12-28T05:21:53.909Z"
   },
   {
    "duration": 12,
    "start_time": "2021-12-28T05:22:38.630Z"
   },
   {
    "duration": 9,
    "start_time": "2021-12-28T05:22:39.823Z"
   },
   {
    "duration": 284,
    "start_time": "2021-12-28T05:27:57.614Z"
   },
   {
    "duration": 6,
    "start_time": "2021-12-28T05:28:01.954Z"
   },
   {
    "duration": 19,
    "start_time": "2021-12-28T05:28:03.415Z"
   },
   {
    "duration": 272,
    "start_time": "2021-12-28T05:29:14.954Z"
   },
   {
    "duration": 24,
    "start_time": "2021-12-28T05:29:24.765Z"
   },
   {
    "duration": 26,
    "start_time": "2021-12-28T05:29:33.542Z"
   },
   {
    "duration": 5,
    "start_time": "2021-12-28T05:29:36.622Z"
   },
   {
    "duration": 17,
    "start_time": "2021-12-28T05:29:37.439Z"
   },
   {
    "duration": 248,
    "start_time": "2021-12-28T05:29:41.119Z"
   },
   {
    "duration": 6,
    "start_time": "2021-12-28T05:29:48.126Z"
   },
   {
    "duration": 18,
    "start_time": "2021-12-28T05:29:50.957Z"
   },
   {
    "duration": 16,
    "start_time": "2021-12-28T05:30:30.498Z"
   },
   {
    "duration": 16,
    "start_time": "2021-12-28T05:33:03.179Z"
   },
   {
    "duration": 252,
    "start_time": "2021-12-28T05:33:30.560Z"
   },
   {
    "duration": 11,
    "start_time": "2021-12-28T05:33:35.440Z"
   },
   {
    "duration": 15,
    "start_time": "2021-12-28T05:35:57.277Z"
   },
   {
    "duration": 12,
    "start_time": "2021-12-28T05:35:58.931Z"
   },
   {
    "duration": 14,
    "start_time": "2021-12-28T05:37:06.947Z"
   },
   {
    "duration": 11,
    "start_time": "2021-12-28T05:37:07.642Z"
   },
   {
    "duration": 10,
    "start_time": "2021-12-28T05:37:31.060Z"
   },
   {
    "duration": 270,
    "start_time": "2021-12-28T05:43:21.488Z"
   },
   {
    "duration": 1608,
    "start_time": "2021-12-28T05:43:32.931Z"
   },
   {
    "duration": 54,
    "start_time": "2021-12-28T05:43:34.541Z"
   },
   {
    "duration": 20,
    "start_time": "2021-12-28T05:43:34.596Z"
   },
   {
    "duration": 25,
    "start_time": "2021-12-28T05:43:34.618Z"
   },
   {
    "duration": 15,
    "start_time": "2021-12-28T05:43:34.645Z"
   },
   {
    "duration": 15,
    "start_time": "2021-12-28T05:43:34.661Z"
   },
   {
    "duration": 5,
    "start_time": "2021-12-28T05:43:34.678Z"
   },
   {
    "duration": 8,
    "start_time": "2021-12-28T05:43:34.687Z"
   },
   {
    "duration": 227,
    "start_time": "2021-12-28T05:43:34.697Z"
   },
   {
    "duration": 32,
    "start_time": "2021-12-28T05:43:34.926Z"
   },
   {
    "duration": 10,
    "start_time": "2021-12-28T05:43:34.960Z"
   },
   {
    "duration": 615,
    "start_time": "2021-12-28T05:43:34.971Z"
   },
   {
    "duration": 16,
    "start_time": "2021-12-28T05:43:35.588Z"
   },
   {
    "duration": 266,
    "start_time": "2021-12-28T05:43:35.641Z"
   },
   {
    "duration": 47,
    "start_time": "2021-12-28T05:43:35.909Z"
   },
   {
    "duration": 246,
    "start_time": "2021-12-28T05:43:35.958Z"
   },
   {
    "duration": 4,
    "start_time": "2021-12-28T05:43:36.206Z"
   },
   {
    "duration": 39,
    "start_time": "2021-12-28T05:43:36.212Z"
   },
   {
    "duration": 10,
    "start_time": "2021-12-28T05:43:36.252Z"
   },
   {
    "duration": 19,
    "start_time": "2021-12-28T05:43:36.263Z"
   },
   {
    "duration": 159,
    "start_time": "2021-12-28T05:43:36.284Z"
   },
   {
    "duration": 31,
    "start_time": "2021-12-28T05:43:36.444Z"
   },
   {
    "duration": 274,
    "start_time": "2021-12-28T05:43:36.478Z"
   },
   {
    "duration": 1354,
    "start_time": "2021-12-28T05:43:36.754Z"
   },
   {
    "duration": 9,
    "start_time": "2021-12-28T05:43:38.110Z"
   },
   {
    "duration": 59,
    "start_time": "2021-12-28T05:43:38.120Z"
   },
   {
    "duration": 18,
    "start_time": "2021-12-28T05:43:38.181Z"
   },
   {
    "duration": 10,
    "start_time": "2021-12-28T05:43:38.201Z"
   },
   {
    "duration": 9,
    "start_time": "2021-12-28T05:43:38.213Z"
   },
   {
    "duration": 27,
    "start_time": "2021-12-28T05:43:38.224Z"
   },
   {
    "duration": 8,
    "start_time": "2021-12-28T05:43:38.253Z"
   },
   {
    "duration": 819,
    "start_time": "2021-12-28T05:43:38.263Z"
   },
   {
    "duration": 665,
    "start_time": "2021-12-28T05:43:38.419Z"
   },
   {
    "duration": 656,
    "start_time": "2021-12-28T05:43:38.429Z"
   },
   {
    "duration": 648,
    "start_time": "2021-12-28T05:43:38.438Z"
   },
   {
    "duration": 639,
    "start_time": "2021-12-28T05:43:38.447Z"
   },
   {
    "duration": 631,
    "start_time": "2021-12-28T05:43:38.456Z"
   },
   {
    "duration": 601,
    "start_time": "2021-12-28T05:43:38.487Z"
   },
   {
    "duration": 592,
    "start_time": "2021-12-28T05:43:38.497Z"
   },
   {
    "duration": 583,
    "start_time": "2021-12-28T05:43:38.507Z"
   },
   {
    "duration": 573,
    "start_time": "2021-12-28T05:43:38.518Z"
   },
   {
    "duration": 560,
    "start_time": "2021-12-28T05:43:38.531Z"
   },
   {
    "duration": 548,
    "start_time": "2021-12-28T05:43:38.544Z"
   },
   {
    "duration": 538,
    "start_time": "2021-12-28T05:43:38.555Z"
   },
   {
    "duration": 529,
    "start_time": "2021-12-28T05:43:38.565Z"
   },
   {
    "duration": 520,
    "start_time": "2021-12-28T05:43:38.575Z"
   },
   {
    "duration": 14,
    "start_time": "2021-12-28T05:44:14.676Z"
   },
   {
    "duration": 27,
    "start_time": "2021-12-28T05:44:19.887Z"
   },
   {
    "duration": 12,
    "start_time": "2021-12-28T05:44:26.575Z"
   },
   {
    "duration": 1585,
    "start_time": "2021-12-28T05:45:00.281Z"
   },
   {
    "duration": 56,
    "start_time": "2021-12-28T05:45:01.868Z"
   },
   {
    "duration": 26,
    "start_time": "2021-12-28T05:45:01.926Z"
   },
   {
    "duration": 29,
    "start_time": "2021-12-28T05:45:01.955Z"
   },
   {
    "duration": 16,
    "start_time": "2021-12-28T05:45:01.986Z"
   },
   {
    "duration": 30,
    "start_time": "2021-12-28T05:45:02.003Z"
   },
   {
    "duration": 5,
    "start_time": "2021-12-28T05:45:02.035Z"
   },
   {
    "duration": 28,
    "start_time": "2021-12-28T05:45:02.043Z"
   },
   {
    "duration": 234,
    "start_time": "2021-12-28T05:45:02.074Z"
   },
   {
    "duration": 20,
    "start_time": "2021-12-28T05:45:02.310Z"
   },
   {
    "duration": 10,
    "start_time": "2021-12-28T05:45:02.341Z"
   },
   {
    "duration": 634,
    "start_time": "2021-12-28T05:45:02.353Z"
   },
   {
    "duration": 13,
    "start_time": "2021-12-28T05:45:02.989Z"
   },
   {
    "duration": 251,
    "start_time": "2021-12-28T05:45:03.003Z"
   },
   {
    "duration": 22,
    "start_time": "2021-12-28T05:45:03.256Z"
   },
   {
    "duration": 259,
    "start_time": "2021-12-28T05:45:03.280Z"
   },
   {
    "duration": 4,
    "start_time": "2021-12-28T05:45:03.541Z"
   },
   {
    "duration": 33,
    "start_time": "2021-12-28T05:45:03.547Z"
   },
   {
    "duration": 7,
    "start_time": "2021-12-28T05:45:03.581Z"
   },
   {
    "duration": 12,
    "start_time": "2021-12-28T05:45:03.589Z"
   },
   {
    "duration": 159,
    "start_time": "2021-12-28T05:45:03.602Z"
   },
   {
    "duration": 30,
    "start_time": "2021-12-28T05:45:03.762Z"
   },
   {
    "duration": 378,
    "start_time": "2021-12-28T05:45:03.795Z"
   },
   {
    "duration": 764,
    "start_time": "2021-12-28T05:45:04.175Z"
   },
   {
    "duration": 7,
    "start_time": "2021-12-28T05:45:04.941Z"
   },
   {
    "duration": 55,
    "start_time": "2021-12-28T05:45:04.950Z"
   },
   {
    "duration": 37,
    "start_time": "2021-12-28T05:45:05.007Z"
   },
   {
    "duration": 12,
    "start_time": "2021-12-28T05:45:05.046Z"
   },
   {
    "duration": 12,
    "start_time": "2021-12-28T05:45:05.059Z"
   },
   {
    "duration": 14,
    "start_time": "2021-12-28T05:45:05.072Z"
   },
   {
    "duration": 10,
    "start_time": "2021-12-28T05:45:05.088Z"
   },
   {
    "duration": 43,
    "start_time": "2021-12-28T05:45:05.099Z"
   },
   {
    "duration": 19,
    "start_time": "2021-12-28T05:45:05.144Z"
   },
   {
    "duration": 911,
    "start_time": "2021-12-28T05:45:05.165Z"
   },
   {
    "duration": 6,
    "start_time": "2021-12-28T05:45:06.078Z"
   },
   {
    "duration": 176,
    "start_time": "2021-12-28T05:45:06.086Z"
   },
   {
    "duration": 406,
    "start_time": "2021-12-28T05:45:06.264Z"
   },
   {
    "duration": 1098,
    "start_time": "2021-12-28T05:45:05.574Z"
   },
   {
    "duration": 1079,
    "start_time": "2021-12-28T05:45:05.594Z"
   },
   {
    "duration": 1069,
    "start_time": "2021-12-28T05:45:05.604Z"
   },
   {
    "duration": 1061,
    "start_time": "2021-12-28T05:45:05.613Z"
   },
   {
    "duration": 1052,
    "start_time": "2021-12-28T05:45:05.623Z"
   },
   {
    "duration": 1045,
    "start_time": "2021-12-28T05:45:05.631Z"
   },
   {
    "duration": 1036,
    "start_time": "2021-12-28T05:45:05.641Z"
   },
   {
    "duration": 1027,
    "start_time": "2021-12-28T05:45:05.650Z"
   },
   {
    "duration": 966,
    "start_time": "2021-12-28T05:45:05.712Z"
   },
   {
    "duration": 289,
    "start_time": "2021-12-28T05:45:38.593Z"
   },
   {
    "duration": 1495,
    "start_time": "2021-12-28T05:45:47.897Z"
   },
   {
    "duration": 52,
    "start_time": "2021-12-28T05:45:49.394Z"
   },
   {
    "duration": 19,
    "start_time": "2021-12-28T05:45:49.448Z"
   },
   {
    "duration": 16,
    "start_time": "2021-12-28T05:45:49.469Z"
   },
   {
    "duration": 12,
    "start_time": "2021-12-28T05:45:49.487Z"
   },
   {
    "duration": 41,
    "start_time": "2021-12-28T05:45:49.501Z"
   },
   {
    "duration": 4,
    "start_time": "2021-12-28T05:45:49.544Z"
   },
   {
    "duration": 5,
    "start_time": "2021-12-28T05:45:49.551Z"
   },
   {
    "duration": 212,
    "start_time": "2021-12-28T05:45:49.558Z"
   },
   {
    "duration": 18,
    "start_time": "2021-12-28T05:45:49.772Z"
   },
   {
    "duration": 8,
    "start_time": "2021-12-28T05:45:49.792Z"
   },
   {
    "duration": 588,
    "start_time": "2021-12-28T05:45:49.801Z"
   },
   {
    "duration": 12,
    "start_time": "2021-12-28T05:45:50.390Z"
   },
   {
    "duration": 241,
    "start_time": "2021-12-28T05:45:50.403Z"
   },
   {
    "duration": 23,
    "start_time": "2021-12-28T05:45:50.645Z"
   },
   {
    "duration": 255,
    "start_time": "2021-12-28T05:45:50.669Z"
   },
   {
    "duration": 5,
    "start_time": "2021-12-28T05:45:50.925Z"
   },
   {
    "duration": 34,
    "start_time": "2021-12-28T05:45:50.931Z"
   },
   {
    "duration": 6,
    "start_time": "2021-12-28T05:45:50.967Z"
   },
   {
    "duration": 10,
    "start_time": "2021-12-28T05:45:50.975Z"
   },
   {
    "duration": 156,
    "start_time": "2021-12-28T05:45:50.987Z"
   },
   {
    "duration": 27,
    "start_time": "2021-12-28T05:45:51.145Z"
   },
   {
    "duration": 275,
    "start_time": "2021-12-28T05:45:51.175Z"
   },
   {
    "duration": 780,
    "start_time": "2021-12-28T05:45:51.452Z"
   },
   {
    "duration": 6,
    "start_time": "2021-12-28T05:45:52.233Z"
   },
   {
    "duration": 55,
    "start_time": "2021-12-28T05:45:52.240Z"
   },
   {
    "duration": 16,
    "start_time": "2021-12-28T05:45:52.297Z"
   },
   {
    "duration": 10,
    "start_time": "2021-12-28T05:45:52.315Z"
   },
   {
    "duration": 13,
    "start_time": "2021-12-28T05:45:52.326Z"
   },
   {
    "duration": 13,
    "start_time": "2021-12-28T05:45:52.341Z"
   },
   {
    "duration": 8,
    "start_time": "2021-12-28T05:45:52.355Z"
   },
   {
    "duration": 17,
    "start_time": "2021-12-28T05:45:52.364Z"
   },
   {
    "duration": 18,
    "start_time": "2021-12-28T05:45:52.382Z"
   },
   {
    "duration": 779,
    "start_time": "2021-12-28T05:45:52.401Z"
   },
   {
    "duration": 6,
    "start_time": "2021-12-28T05:45:53.182Z"
   },
   {
    "duration": 183,
    "start_time": "2021-12-28T05:45:53.190Z"
   },
   {
    "duration": 298,
    "start_time": "2021-12-28T05:45:53.374Z"
   },
   {
    "duration": 4,
    "start_time": "2021-12-28T05:45:53.674Z"
   },
   {
    "duration": 12,
    "start_time": "2021-12-28T05:45:53.680Z"
   },
   {
    "duration": 7,
    "start_time": "2021-12-28T05:45:53.694Z"
   },
   {
    "duration": 12,
    "start_time": "2021-12-28T05:45:53.703Z"
   },
   {
    "duration": 156,
    "start_time": "2021-12-28T05:45:53.717Z"
   },
   {
    "duration": 10,
    "start_time": "2021-12-28T05:45:53.875Z"
   },
   {
    "duration": 122,
    "start_time": "2021-12-28T05:45:53.887Z"
   },
   {
    "duration": 334,
    "start_time": "2021-12-28T05:45:54.011Z"
   },
   {
    "duration": 15,
    "start_time": "2021-12-28T05:45:54.347Z"
   },
   {
    "duration": 9,
    "start_time": "2021-12-28T05:47:57.870Z"
   },
   {
    "duration": 12,
    "start_time": "2021-12-28T05:49:02.124Z"
   },
   {
    "duration": 401,
    "start_time": "2021-12-28T05:49:28.961Z"
   },
   {
    "duration": 14,
    "start_time": "2021-12-28T05:49:39.075Z"
   },
   {
    "duration": 18,
    "start_time": "2021-12-28T05:49:53.366Z"
   },
   {
    "duration": 20,
    "start_time": "2021-12-28T05:51:02.088Z"
   },
   {
    "duration": 21,
    "start_time": "2021-12-28T05:51:15.759Z"
   },
   {
    "duration": 21,
    "start_time": "2021-12-28T05:51:54.312Z"
   },
   {
    "duration": 19,
    "start_time": "2021-12-28T05:52:17.258Z"
   },
   {
    "duration": 80,
    "start_time": "2021-12-28T05:52:26.554Z"
   },
   {
    "duration": 26,
    "start_time": "2021-12-28T05:52:28.461Z"
   },
   {
    "duration": 20,
    "start_time": "2021-12-28T05:53:09.074Z"
   },
   {
    "duration": 286,
    "start_time": "2021-12-28T05:53:22.454Z"
   },
   {
    "duration": 255,
    "start_time": "2021-12-28T05:53:28.082Z"
   },
   {
    "duration": 254,
    "start_time": "2021-12-28T05:53:44.539Z"
   },
   {
    "duration": 16,
    "start_time": "2021-12-28T05:53:52.114Z"
   },
   {
    "duration": 25,
    "start_time": "2021-12-28T05:54:14.035Z"
   },
   {
    "duration": 17,
    "start_time": "2021-12-28T05:55:33.920Z"
   },
   {
    "duration": 20,
    "start_time": "2021-12-28T05:55:39.954Z"
   },
   {
    "duration": 2203,
    "start_time": "2021-12-28T09:17:26.040Z"
   },
   {
    "duration": 94,
    "start_time": "2021-12-28T09:17:28.245Z"
   },
   {
    "duration": 45,
    "start_time": "2021-12-28T09:17:28.343Z"
   },
   {
    "duration": 53,
    "start_time": "2021-12-28T09:17:28.392Z"
   },
   {
    "duration": 21,
    "start_time": "2021-12-28T09:17:28.448Z"
   },
   {
    "duration": 53,
    "start_time": "2021-12-28T09:17:28.472Z"
   },
   {
    "duration": 7,
    "start_time": "2021-12-28T09:17:28.527Z"
   },
   {
    "duration": 12,
    "start_time": "2021-12-28T09:17:28.539Z"
   },
   {
    "duration": 389,
    "start_time": "2021-12-28T09:17:28.555Z"
   },
   {
    "duration": 42,
    "start_time": "2021-12-28T09:17:28.947Z"
   },
   {
    "duration": 45,
    "start_time": "2021-12-28T09:17:28.992Z"
   },
   {
    "duration": 858,
    "start_time": "2021-12-28T09:17:29.040Z"
   },
   {
    "duration": 37,
    "start_time": "2021-12-28T09:17:29.901Z"
   },
   {
    "duration": 369,
    "start_time": "2021-12-28T09:17:29.940Z"
   },
   {
    "duration": 45,
    "start_time": "2021-12-28T09:17:30.312Z"
   },
   {
    "duration": 635,
    "start_time": "2021-12-28T09:17:30.360Z"
   },
   {
    "duration": 11,
    "start_time": "2021-12-28T09:17:30.998Z"
   },
   {
    "duration": 84,
    "start_time": "2021-12-28T09:17:31.024Z"
   },
   {
    "duration": 19,
    "start_time": "2021-12-28T09:17:31.111Z"
   },
   {
    "duration": 34,
    "start_time": "2021-12-28T09:17:31.133Z"
   },
   {
    "duration": 374,
    "start_time": "2021-12-28T09:17:31.170Z"
   },
   {
    "duration": 83,
    "start_time": "2021-12-28T09:17:31.547Z"
   },
   {
    "duration": 674,
    "start_time": "2021-12-28T09:17:31.636Z"
   },
   {
    "duration": 1255,
    "start_time": "2021-12-28T09:17:32.323Z"
   },
   {
    "duration": 9,
    "start_time": "2021-12-28T09:17:33.581Z"
   },
   {
    "duration": 122,
    "start_time": "2021-12-28T09:17:33.593Z"
   },
   {
    "duration": 25,
    "start_time": "2021-12-28T09:17:33.717Z"
   },
   {
    "duration": 17,
    "start_time": "2021-12-28T09:17:33.744Z"
   },
   {
    "duration": 33,
    "start_time": "2021-12-28T09:17:33.763Z"
   },
   {
    "duration": 35,
    "start_time": "2021-12-28T09:17:33.799Z"
   },
   {
    "duration": 13,
    "start_time": "2021-12-28T09:17:33.837Z"
   },
   {
    "duration": 18,
    "start_time": "2021-12-28T09:17:33.853Z"
   },
   {
    "duration": 62,
    "start_time": "2021-12-28T09:17:33.874Z"
   },
   {
    "duration": 1212,
    "start_time": "2021-12-28T09:17:33.939Z"
   },
   {
    "duration": 8,
    "start_time": "2021-12-28T09:17:35.153Z"
   },
   {
    "duration": 352,
    "start_time": "2021-12-28T09:17:35.164Z"
   },
   {
    "duration": 450,
    "start_time": "2021-12-28T09:17:35.518Z"
   },
   {
    "duration": 6,
    "start_time": "2021-12-28T09:17:35.971Z"
   },
   {
    "duration": 52,
    "start_time": "2021-12-28T09:17:35.980Z"
   },
   {
    "duration": 9,
    "start_time": "2021-12-28T09:17:36.034Z"
   },
   {
    "duration": 11,
    "start_time": "2021-12-28T09:17:36.045Z"
   },
   {
    "duration": 259,
    "start_time": "2021-12-28T09:17:36.058Z"
   },
   {
    "duration": 16,
    "start_time": "2021-12-28T09:17:36.323Z"
   },
   {
    "duration": 188,
    "start_time": "2021-12-28T09:17:36.342Z"
   },
   {
    "duration": 508,
    "start_time": "2021-12-28T09:17:36.532Z"
   },
   {
    "duration": 25,
    "start_time": "2021-12-28T09:17:37.042Z"
   },
   {
    "duration": 624,
    "start_time": "2021-12-28T10:17:24.728Z"
   },
   {
    "duration": 615,
    "start_time": "2021-12-28T10:17:33.087Z"
   },
   {
    "duration": 15,
    "start_time": "2021-12-28T10:18:50.129Z"
   },
   {
    "duration": 16,
    "start_time": "2021-12-28T10:18:56.669Z"
   },
   {
    "duration": 21,
    "start_time": "2021-12-28T10:29:34.622Z"
   },
   {
    "duration": 24,
    "start_time": "2021-12-28T10:30:05.196Z"
   },
   {
    "duration": 2229,
    "start_time": "2021-12-28T11:15:12.843Z"
   },
   {
    "duration": 78,
    "start_time": "2021-12-28T11:15:15.075Z"
   },
   {
    "duration": 38,
    "start_time": "2021-12-28T11:15:15.157Z"
   },
   {
    "duration": 48,
    "start_time": "2021-12-28T11:15:15.198Z"
   },
   {
    "duration": 22,
    "start_time": "2021-12-28T11:15:15.249Z"
   },
   {
    "duration": 55,
    "start_time": "2021-12-28T11:15:15.274Z"
   },
   {
    "duration": 10,
    "start_time": "2021-12-28T11:15:15.331Z"
   },
   {
    "duration": 9,
    "start_time": "2021-12-28T11:15:15.344Z"
   },
   {
    "duration": 403,
    "start_time": "2021-12-28T11:15:15.357Z"
   },
   {
    "duration": 35,
    "start_time": "2021-12-28T11:15:15.763Z"
   },
   {
    "duration": 16,
    "start_time": "2021-12-28T11:15:15.824Z"
   },
   {
    "duration": 911,
    "start_time": "2021-12-28T11:15:15.843Z"
   },
   {
    "duration": 19,
    "start_time": "2021-12-28T11:15:16.756Z"
   },
   {
    "duration": 376,
    "start_time": "2021-12-28T11:15:16.825Z"
   },
   {
    "duration": 52,
    "start_time": "2021-12-28T11:15:17.204Z"
   },
   {
    "duration": 494,
    "start_time": "2021-12-28T11:15:17.259Z"
   },
   {
    "duration": 7,
    "start_time": "2021-12-28T11:15:17.756Z"
   },
   {
    "duration": 70,
    "start_time": "2021-12-28T11:15:17.766Z"
   },
   {
    "duration": 12,
    "start_time": "2021-12-28T11:15:17.839Z"
   },
   {
    "duration": 23,
    "start_time": "2021-12-28T11:15:17.854Z"
   },
   {
    "duration": 322,
    "start_time": "2021-12-28T11:15:17.879Z"
   },
   {
    "duration": 73,
    "start_time": "2021-12-28T11:15:18.204Z"
   },
   {
    "duration": 547,
    "start_time": "2021-12-28T11:15:18.282Z"
   },
   {
    "duration": 1078,
    "start_time": "2021-12-28T11:15:18.833Z"
   },
   {
    "duration": 8,
    "start_time": "2021-12-28T11:15:19.913Z"
   },
   {
    "duration": 106,
    "start_time": "2021-12-28T11:15:19.924Z"
   },
   {
    "duration": 25,
    "start_time": "2021-12-28T11:15:20.032Z"
   },
   {
    "duration": 21,
    "start_time": "2021-12-28T11:15:20.060Z"
   },
   {
    "duration": 59,
    "start_time": "2021-12-28T11:15:20.084Z"
   },
   {
    "duration": 23,
    "start_time": "2021-12-28T11:15:20.145Z"
   },
   {
    "duration": 65,
    "start_time": "2021-12-28T11:15:20.170Z"
   },
   {
    "duration": 1251,
    "start_time": "2021-12-28T11:15:20.238Z"
   },
   {
    "duration": 9,
    "start_time": "2021-12-28T11:15:21.493Z"
   },
   {
    "duration": 352,
    "start_time": "2021-12-28T11:15:21.505Z"
   },
   {
    "duration": 457,
    "start_time": "2021-12-28T11:15:21.860Z"
   },
   {
    "duration": 5,
    "start_time": "2021-12-28T11:15:22.323Z"
   },
   {
    "duration": 49,
    "start_time": "2021-12-28T11:15:22.330Z"
   },
   {
    "duration": 9,
    "start_time": "2021-12-28T11:15:22.382Z"
   },
   {
    "duration": 12,
    "start_time": "2021-12-28T11:15:22.393Z"
   },
   {
    "duration": 252,
    "start_time": "2021-12-28T11:15:22.407Z"
   },
   {
    "duration": 16,
    "start_time": "2021-12-28T11:15:22.661Z"
   },
   {
    "duration": 186,
    "start_time": "2021-12-28T11:15:22.679Z"
   },
   {
    "duration": 531,
    "start_time": "2021-12-28T11:15:22.868Z"
   },
   {
    "duration": 10411,
    "start_time": "2021-12-28T17:15:51.203Z"
   },
   {
    "duration": 66,
    "start_time": "2021-12-28T17:16:01.617Z"
   },
   {
    "duration": 47,
    "start_time": "2021-12-28T17:16:01.687Z"
   },
   {
    "duration": 23,
    "start_time": "2021-12-28T17:16:01.738Z"
   },
   {
    "duration": 19,
    "start_time": "2021-12-28T17:16:01.764Z"
   },
   {
    "duration": 48,
    "start_time": "2021-12-28T17:16:01.786Z"
   },
   {
    "duration": 8,
    "start_time": "2021-12-28T17:16:01.837Z"
   },
   {
    "duration": 7,
    "start_time": "2021-12-28T17:16:01.851Z"
   },
   {
    "duration": 412,
    "start_time": "2021-12-28T17:16:01.862Z"
   },
   {
    "duration": 49,
    "start_time": "2021-12-28T17:16:02.277Z"
   },
   {
    "duration": 14,
    "start_time": "2021-12-28T17:16:02.328Z"
   },
   {
    "duration": 808,
    "start_time": "2021-12-28T17:16:02.344Z"
   },
   {
    "duration": 19,
    "start_time": "2021-12-28T17:16:03.154Z"
   },
   {
    "duration": 368,
    "start_time": "2021-12-28T17:16:03.175Z"
   },
   {
    "duration": 36,
    "start_time": "2021-12-28T17:16:03.546Z"
   },
   {
    "duration": 433,
    "start_time": "2021-12-28T17:16:03.585Z"
   },
   {
    "duration": 119,
    "start_time": "2021-12-28T17:16:04.024Z"
   },
   {
    "duration": -7105,
    "start_time": "2021-12-28T17:16:11.253Z"
   },
   {
    "duration": -7105,
    "start_time": "2021-12-28T17:16:11.255Z"
   },
   {
    "duration": -7105,
    "start_time": "2021-12-28T17:16:11.257Z"
   },
   {
    "duration": -7107,
    "start_time": "2021-12-28T17:16:11.261Z"
   },
   {
    "duration": -7108,
    "start_time": "2021-12-28T17:16:11.264Z"
   },
   {
    "duration": -7108,
    "start_time": "2021-12-28T17:16:11.266Z"
   },
   {
    "duration": -7109,
    "start_time": "2021-12-28T17:16:11.268Z"
   },
   {
    "duration": -7110,
    "start_time": "2021-12-28T17:16:11.270Z"
   },
   {
    "duration": -7110,
    "start_time": "2021-12-28T17:16:11.272Z"
   },
   {
    "duration": -7111,
    "start_time": "2021-12-28T17:16:11.274Z"
   },
   {
    "duration": -7112,
    "start_time": "2021-12-28T17:16:11.276Z"
   },
   {
    "duration": -7113,
    "start_time": "2021-12-28T17:16:11.279Z"
   },
   {
    "duration": -7114,
    "start_time": "2021-12-28T17:16:11.281Z"
   },
   {
    "duration": -7115,
    "start_time": "2021-12-28T17:16:11.283Z"
   },
   {
    "duration": -7116,
    "start_time": "2021-12-28T17:16:11.286Z"
   },
   {
    "duration": -7116,
    "start_time": "2021-12-28T17:16:11.287Z"
   },
   {
    "duration": -7117,
    "start_time": "2021-12-28T17:16:11.289Z"
   },
   {
    "duration": -7118,
    "start_time": "2021-12-28T17:16:11.291Z"
   },
   {
    "duration": -7119,
    "start_time": "2021-12-28T17:16:11.294Z"
   },
   {
    "duration": -7120,
    "start_time": "2021-12-28T17:16:11.296Z"
   },
   {
    "duration": -7121,
    "start_time": "2021-12-28T17:16:11.298Z"
   },
   {
    "duration": -7122,
    "start_time": "2021-12-28T17:16:11.300Z"
   },
   {
    "duration": -7122,
    "start_time": "2021-12-28T17:16:11.302Z"
   },
   {
    "duration": -7122,
    "start_time": "2021-12-28T17:16:11.303Z"
   },
   {
    "duration": -7124,
    "start_time": "2021-12-28T17:16:11.306Z"
   },
   {
    "duration": -7125,
    "start_time": "2021-12-28T17:16:11.308Z"
   },
   {
    "duration": -7088,
    "start_time": "2021-12-28T17:16:11.311Z"
   },
   {
    "duration": 31,
    "start_time": "2021-12-28T17:16:56.179Z"
   },
   {
    "duration": 4,
    "start_time": "2021-12-28T17:19:29.991Z"
   },
   {
    "duration": 77,
    "start_time": "2021-12-28T17:19:29.998Z"
   },
   {
    "duration": 66,
    "start_time": "2021-12-28T17:19:30.078Z"
   },
   {
    "duration": 23,
    "start_time": "2021-12-28T17:19:30.147Z"
   },
   {
    "duration": 21,
    "start_time": "2021-12-28T17:19:30.172Z"
   },
   {
    "duration": 23,
    "start_time": "2021-12-28T17:19:30.224Z"
   },
   {
    "duration": 16,
    "start_time": "2021-12-28T17:19:30.251Z"
   },
   {
    "duration": 24,
    "start_time": "2021-12-28T17:19:30.270Z"
   },
   {
    "duration": 348,
    "start_time": "2021-12-28T17:19:30.296Z"
   },
   {
    "duration": 29,
    "start_time": "2021-12-28T17:19:30.647Z"
   },
   {
    "duration": 13,
    "start_time": "2021-12-28T17:19:30.679Z"
   },
   {
    "duration": 178,
    "start_time": "2021-12-28T17:19:30.724Z"
   },
   {
    "duration": 29,
    "start_time": "2021-12-28T17:19:30.904Z"
   },
   {
    "duration": 230,
    "start_time": "2021-12-28T17:19:30.936Z"
   },
   {
    "duration": 34,
    "start_time": "2021-12-28T17:19:31.168Z"
   },
   {
    "duration": 430,
    "start_time": "2021-12-28T17:19:31.204Z"
   },
   {
    "duration": 27,
    "start_time": "2021-12-28T17:19:31.637Z"
   },
   {
    "duration": 9,
    "start_time": "2021-12-28T17:19:31.667Z"
   },
   {
    "duration": 87,
    "start_time": "2021-12-28T17:19:31.681Z"
   },
   {
    "duration": 11,
    "start_time": "2021-12-28T17:19:31.771Z"
   },
   {
    "duration": 36,
    "start_time": "2021-12-28T17:19:31.785Z"
   },
   {
    "duration": 265,
    "start_time": "2021-12-28T17:19:31.823Z"
   },
   {
    "duration": 60,
    "start_time": "2021-12-28T17:19:32.090Z"
   },
   {
    "duration": 469,
    "start_time": "2021-12-28T17:19:32.152Z"
   },
   {
    "duration": 1576,
    "start_time": "2021-12-28T17:19:32.624Z"
   },
   {
    "duration": 9,
    "start_time": "2021-12-28T17:19:34.202Z"
   },
   {
    "duration": 89,
    "start_time": "2021-12-28T17:19:34.213Z"
   },
   {
    "duration": 33,
    "start_time": "2021-12-28T17:19:34.304Z"
   },
   {
    "duration": 21,
    "start_time": "2021-12-28T17:19:34.340Z"
   },
   {
    "duration": 22,
    "start_time": "2021-12-28T17:19:34.364Z"
   },
   {
    "duration": 47,
    "start_time": "2021-12-28T17:19:34.389Z"
   },
   {
    "duration": 28,
    "start_time": "2021-12-28T17:19:34.438Z"
   },
   {
    "duration": 1266,
    "start_time": "2021-12-28T17:19:34.469Z"
   },
   {
    "duration": 8,
    "start_time": "2021-12-28T17:19:35.737Z"
   },
   {
    "duration": 333,
    "start_time": "2021-12-28T17:19:35.747Z"
   },
   {
    "duration": 482,
    "start_time": "2021-12-28T17:19:36.083Z"
   },
   {
    "duration": 4,
    "start_time": "2021-12-28T17:19:36.568Z"
   },
   {
    "duration": 50,
    "start_time": "2021-12-28T17:19:36.575Z"
   },
   {
    "duration": 10,
    "start_time": "2021-12-28T17:19:36.628Z"
   },
   {
    "duration": 13,
    "start_time": "2021-12-28T17:19:36.640Z"
   },
   {
    "duration": 256,
    "start_time": "2021-12-28T17:19:36.656Z"
   },
   {
    "duration": 20,
    "start_time": "2021-12-28T17:19:36.914Z"
   },
   {
    "duration": 179,
    "start_time": "2021-12-28T17:19:36.937Z"
   },
   {
    "duration": 350,
    "start_time": "2021-12-28T17:19:37.124Z"
   },
   {
    "duration": 130,
    "start_time": "2021-12-28T17:21:19.736Z"
   },
   {
    "duration": 35,
    "start_time": "2021-12-28T17:21:25.268Z"
   },
   {
    "duration": 2492,
    "start_time": "2021-12-29T08:27:16.034Z"
   },
   {
    "duration": 74,
    "start_time": "2021-12-29T08:27:18.529Z"
   },
   {
    "duration": 43,
    "start_time": "2021-12-29T08:27:18.607Z"
   },
   {
    "duration": 26,
    "start_time": "2021-12-29T08:27:18.653Z"
   },
   {
    "duration": 60,
    "start_time": "2021-12-29T08:27:18.681Z"
   },
   {
    "duration": 22,
    "start_time": "2021-12-29T08:27:18.743Z"
   },
   {
    "duration": 7,
    "start_time": "2021-12-29T08:27:18.767Z"
   },
   {
    "duration": 5,
    "start_time": "2021-12-29T08:28:00.444Z"
   },
   {
    "duration": 30,
    "start_time": "2021-12-29T08:28:07.961Z"
   },
   {
    "duration": 5,
    "start_time": "2021-12-29T08:28:14.495Z"
   },
   {
    "duration": 22,
    "start_time": "2021-12-29T08:28:20.096Z"
   },
   {
    "duration": 26,
    "start_time": "2021-12-29T08:28:48.123Z"
   },
   {
    "duration": 16,
    "start_time": "2021-12-29T08:29:26.613Z"
   },
   {
    "duration": 1564,
    "start_time": "2021-12-29T08:29:36.186Z"
   },
   {
    "duration": 14,
    "start_time": "2021-12-29T08:29:50.046Z"
   },
   {
    "duration": 68,
    "start_time": "2021-12-29T08:30:02.432Z"
   },
   {
    "duration": 32,
    "start_time": "2021-12-29T08:30:05.077Z"
   },
   {
    "duration": 27,
    "start_time": "2021-12-29T08:30:23.352Z"
   },
   {
    "duration": 13,
    "start_time": "2021-12-29T08:30:33.730Z"
   },
   {
    "duration": 29,
    "start_time": "2021-12-29T08:30:39.358Z"
   },
   {
    "duration": 73,
    "start_time": "2021-12-29T08:30:42.189Z"
   },
   {
    "duration": 7,
    "start_time": "2021-12-29T08:30:56.817Z"
   },
   {
    "duration": 81,
    "start_time": "2021-12-29T08:30:56.827Z"
   },
   {
    "duration": 47,
    "start_time": "2021-12-29T08:30:56.918Z"
   },
   {
    "duration": 71,
    "start_time": "2021-12-29T08:30:56.968Z"
   },
   {
    "duration": 22,
    "start_time": "2021-12-29T08:30:57.042Z"
   },
   {
    "duration": 22,
    "start_time": "2021-12-29T08:30:57.067Z"
   },
   {
    "duration": 25,
    "start_time": "2021-12-29T08:30:57.092Z"
   },
   {
    "duration": 15,
    "start_time": "2021-12-29T08:30:57.121Z"
   },
   {
    "duration": 5,
    "start_time": "2021-12-29T08:33:07.659Z"
   },
   {
    "duration": 80,
    "start_time": "2021-12-29T08:33:07.670Z"
   },
   {
    "duration": 32,
    "start_time": "2021-12-29T08:33:07.753Z"
   },
   {
    "duration": 64,
    "start_time": "2021-12-29T08:33:07.789Z"
   },
   {
    "duration": 21,
    "start_time": "2021-12-29T08:33:07.855Z"
   },
   {
    "duration": 52,
    "start_time": "2021-12-29T08:33:07.878Z"
   },
   {
    "duration": 8,
    "start_time": "2021-12-29T08:33:07.933Z"
   },
   {
    "duration": 10,
    "start_time": "2021-12-29T08:33:07.944Z"
   },
   {
    "duration": 437,
    "start_time": "2021-12-29T08:33:07.957Z"
   },
   {
    "duration": 94,
    "start_time": "2021-12-29T08:33:08.398Z"
   },
   {
    "duration": 35,
    "start_time": "2021-12-29T08:33:08.495Z"
   },
   {
    "duration": 1050,
    "start_time": "2021-12-29T08:33:08.534Z"
   },
   {
    "duration": 7,
    "start_time": "2021-12-29T08:36:40.679Z"
   },
   {
    "duration": 92,
    "start_time": "2021-12-29T08:36:40.690Z"
   },
   {
    "duration": 47,
    "start_time": "2021-12-29T08:36:40.786Z"
   },
   {
    "duration": 37,
    "start_time": "2021-12-29T08:36:40.837Z"
   },
   {
    "duration": 58,
    "start_time": "2021-12-29T08:36:40.877Z"
   },
   {
    "duration": 28,
    "start_time": "2021-12-29T08:36:40.938Z"
   },
   {
    "duration": 9,
    "start_time": "2021-12-29T08:36:40.970Z"
   },
   {
    "duration": 52,
    "start_time": "2021-12-29T08:36:40.982Z"
   },
   {
    "duration": 474,
    "start_time": "2021-12-29T08:36:41.038Z"
   },
   {
    "duration": 50,
    "start_time": "2021-12-29T08:36:41.515Z"
   },
   {
    "duration": 52,
    "start_time": "2021-12-29T08:36:41.568Z"
   },
   {
    "duration": 295,
    "start_time": "2021-12-29T08:36:41.623Z"
   },
   {
    "duration": 32,
    "start_time": "2021-12-29T08:36:41.922Z"
   },
   {
    "duration": 387,
    "start_time": "2021-12-29T08:36:41.956Z"
   },
   {
    "duration": 238,
    "start_time": "2021-12-29T08:36:56.356Z"
   },
   {
    "duration": 248,
    "start_time": "2021-12-29T08:37:20.346Z"
   },
   {
    "duration": 252,
    "start_time": "2021-12-29T08:47:58.924Z"
   },
   {
    "duration": 330,
    "start_time": "2021-12-29T08:48:04.902Z"
   },
   {
    "duration": 251,
    "start_time": "2021-12-29T08:48:16.118Z"
   },
   {
    "duration": 265,
    "start_time": "2021-12-29T08:57:47.355Z"
   },
   {
    "duration": 257,
    "start_time": "2021-12-29T08:58:12.650Z"
   },
   {
    "duration": 5,
    "start_time": "2021-12-29T09:09:16.774Z"
   },
   {
    "duration": 107,
    "start_time": "2021-12-29T09:09:16.784Z"
   },
   {
    "duration": 64,
    "start_time": "2021-12-29T09:09:16.894Z"
   },
   {
    "duration": 25,
    "start_time": "2021-12-29T09:09:16.961Z"
   },
   {
    "duration": 30,
    "start_time": "2021-12-29T09:09:17.017Z"
   },
   {
    "duration": 34,
    "start_time": "2021-12-29T09:09:17.050Z"
   },
   {
    "duration": 36,
    "start_time": "2021-12-29T09:09:17.087Z"
   },
   {
    "duration": 21,
    "start_time": "2021-12-29T09:09:17.126Z"
   },
   {
    "duration": 580,
    "start_time": "2021-12-29T09:09:17.153Z"
   },
   {
    "duration": 52,
    "start_time": "2021-12-29T09:09:17.737Z"
   },
   {
    "duration": 54,
    "start_time": "2021-12-29T09:09:17.791Z"
   },
   {
    "duration": 461,
    "start_time": "2021-12-29T09:09:17.848Z"
   },
   {
    "duration": 27,
    "start_time": "2021-12-29T09:09:18.317Z"
   },
   {
    "duration": 394,
    "start_time": "2021-12-29T09:09:18.347Z"
   },
   {
    "duration": 78,
    "start_time": "2021-12-29T09:09:18.744Z"
   },
   {
    "duration": 742,
    "start_time": "2021-12-29T09:09:18.825Z"
   },
   {
    "duration": 66,
    "start_time": "2021-12-29T09:09:19.570Z"
   },
   {
    "duration": 11,
    "start_time": "2021-12-29T09:09:19.639Z"
   },
   {
    "duration": 80,
    "start_time": "2021-12-29T09:09:19.654Z"
   },
   {
    "duration": 12,
    "start_time": "2021-12-29T09:09:19.737Z"
   },
   {
    "duration": 20,
    "start_time": "2021-12-29T09:09:19.752Z"
   },
   {
    "duration": 326,
    "start_time": "2021-12-29T09:09:19.774Z"
   },
   {
    "duration": 9,
    "start_time": "2021-12-29T09:09:38.147Z"
   },
   {
    "duration": 76,
    "start_time": "2021-12-29T09:09:38.159Z"
   },
   {
    "duration": 32,
    "start_time": "2021-12-29T09:09:38.238Z"
   },
   {
    "duration": 56,
    "start_time": "2021-12-29T09:09:38.273Z"
   },
   {
    "duration": 23,
    "start_time": "2021-12-29T09:09:38.332Z"
   },
   {
    "duration": 23,
    "start_time": "2021-12-29T09:09:38.357Z"
   },
   {
    "duration": 7,
    "start_time": "2021-12-29T09:09:38.418Z"
   },
   {
    "duration": 11,
    "start_time": "2021-12-29T09:09:38.429Z"
   },
   {
    "duration": 410,
    "start_time": "2021-12-29T09:09:38.443Z"
   },
   {
    "duration": 61,
    "start_time": "2021-12-29T09:09:38.856Z"
   },
   {
    "duration": 20,
    "start_time": "2021-12-29T09:09:38.920Z"
   },
   {
    "duration": 303,
    "start_time": "2021-12-29T09:09:38.943Z"
   },
   {
    "duration": 20,
    "start_time": "2021-12-29T09:09:39.249Z"
   },
   {
    "duration": 284,
    "start_time": "2021-12-29T09:09:39.271Z"
   },
   {
    "duration": 38,
    "start_time": "2021-12-29T09:09:39.557Z"
   },
   {
    "duration": 504,
    "start_time": "2021-12-29T09:09:39.597Z"
   },
   {
    "duration": 49,
    "start_time": "2021-12-29T09:09:40.104Z"
   },
   {
    "duration": 8,
    "start_time": "2021-12-29T09:09:40.156Z"
   },
   {
    "duration": 82,
    "start_time": "2021-12-29T09:09:40.167Z"
   },
   {
    "duration": 14,
    "start_time": "2021-12-29T09:09:40.251Z"
   },
   {
    "duration": 18,
    "start_time": "2021-12-29T09:09:40.268Z"
   },
   {
    "duration": 321,
    "start_time": "2021-12-29T09:09:40.289Z"
   },
   {
    "duration": 493,
    "start_time": "2021-12-29T09:27:02.014Z"
   },
   {
    "duration": 587,
    "start_time": "2021-12-29T09:27:47.695Z"
   },
   {
    "duration": 391,
    "start_time": "2021-12-29T09:27:50.893Z"
   },
   {
    "duration": 319,
    "start_time": "2021-12-29T09:28:14.647Z"
   },
   {
    "duration": 657,
    "start_time": "2021-12-29T09:28:19.386Z"
   },
   {
    "duration": 984,
    "start_time": "2021-12-29T09:28:59.576Z"
   },
   {
    "duration": 741,
    "start_time": "2021-12-29T09:29:09.838Z"
   },
   {
    "duration": 760,
    "start_time": "2021-12-29T09:30:02.569Z"
   },
   {
    "duration": 629,
    "start_time": "2021-12-29T09:30:31.193Z"
   },
   {
    "duration": 704,
    "start_time": "2021-12-29T09:30:37.759Z"
   },
   {
    "duration": 516,
    "start_time": "2021-12-29T09:31:54.466Z"
   },
   {
    "duration": 663,
    "start_time": "2021-12-29T09:32:11.613Z"
   },
   {
    "duration": 928,
    "start_time": "2021-12-29T09:32:26.083Z"
   },
   {
    "duration": 1350,
    "start_time": "2021-12-29T09:32:45.530Z"
   },
   {
    "duration": 1148,
    "start_time": "2021-12-29T09:33:04.132Z"
   },
   {
    "duration": 6,
    "start_time": "2021-12-29T09:48:19.463Z"
   },
   {
    "duration": 80,
    "start_time": "2021-12-29T09:48:19.471Z"
   },
   {
    "duration": 64,
    "start_time": "2021-12-29T09:48:19.555Z"
   },
   {
    "duration": 36,
    "start_time": "2021-12-29T09:48:19.623Z"
   },
   {
    "duration": 62,
    "start_time": "2021-12-29T09:48:19.662Z"
   },
   {
    "duration": 30,
    "start_time": "2021-12-29T09:48:19.727Z"
   },
   {
    "duration": 6,
    "start_time": "2021-12-29T09:48:19.760Z"
   },
   {
    "duration": 10,
    "start_time": "2021-12-29T09:48:19.769Z"
   },
   {
    "duration": 457,
    "start_time": "2021-12-29T09:48:19.781Z"
   },
   {
    "duration": 48,
    "start_time": "2021-12-29T09:48:20.241Z"
   },
   {
    "duration": 42,
    "start_time": "2021-12-29T09:48:20.293Z"
   },
   {
    "duration": 427,
    "start_time": "2021-12-29T09:48:20.338Z"
   },
   {
    "duration": 19,
    "start_time": "2021-12-29T09:48:20.767Z"
   },
   {
    "duration": 268,
    "start_time": "2021-12-29T09:48:20.789Z"
   },
   {
    "duration": 37,
    "start_time": "2021-12-29T09:48:21.060Z"
   },
   {
    "duration": 528,
    "start_time": "2021-12-29T09:48:21.100Z"
   },
   {
    "duration": 34,
    "start_time": "2021-12-29T09:48:21.631Z"
   },
   {
    "duration": 7,
    "start_time": "2021-12-29T09:48:21.668Z"
   },
   {
    "duration": 83,
    "start_time": "2021-12-29T09:48:21.680Z"
   },
   {
    "duration": 15,
    "start_time": "2021-12-29T09:48:21.766Z"
   },
   {
    "duration": 51,
    "start_time": "2021-12-29T09:48:21.784Z"
   },
   {
    "duration": 314,
    "start_time": "2021-12-29T09:48:21.838Z"
   },
   {
    "duration": 64,
    "start_time": "2021-12-29T09:48:22.155Z"
   },
   {
    "duration": 569,
    "start_time": "2021-12-29T09:48:22.222Z"
   },
   {
    "duration": 969,
    "start_time": "2021-12-29T09:48:22.795Z"
   },
   {
    "duration": 96,
    "start_time": "2021-12-29T10:00:58.887Z"
   },
   {
    "duration": 5,
    "start_time": "2021-12-29T10:01:13.492Z"
   },
   {
    "duration": 124,
    "start_time": "2021-12-29T10:01:23.972Z"
   },
   {
    "duration": 4047,
    "start_time": "2021-12-29T10:01:27.221Z"
   },
   {
    "duration": 6,
    "start_time": "2021-12-29T10:01:57.361Z"
   },
   {
    "duration": 109,
    "start_time": "2021-12-29T10:01:58.569Z"
   },
   {
    "duration": 28,
    "start_time": "2021-12-29T10:01:59.871Z"
   },
   {
    "duration": 307,
    "start_time": "2021-12-29T10:02:01.323Z"
   },
   {
    "duration": 5,
    "start_time": "2021-12-29T10:02:14.687Z"
   },
   {
    "duration": 81,
    "start_time": "2021-12-29T10:02:14.698Z"
   },
   {
    "duration": 46,
    "start_time": "2021-12-29T10:02:14.781Z"
   },
   {
    "duration": 28,
    "start_time": "2021-12-29T10:02:14.831Z"
   },
   {
    "duration": 20,
    "start_time": "2021-12-29T10:02:14.862Z"
   },
   {
    "duration": 59,
    "start_time": "2021-12-29T10:02:14.885Z"
   },
   {
    "duration": 7,
    "start_time": "2021-12-29T10:02:14.946Z"
   },
   {
    "duration": 10,
    "start_time": "2021-12-29T10:02:14.956Z"
   },
   {
    "duration": 450,
    "start_time": "2021-12-29T10:02:14.969Z"
   },
   {
    "duration": 36,
    "start_time": "2021-12-29T10:02:15.423Z"
   },
   {
    "duration": 16,
    "start_time": "2021-12-29T10:02:15.462Z"
   },
   {
    "duration": 244,
    "start_time": "2021-12-29T10:02:15.481Z"
   },
   {
    "duration": 23,
    "start_time": "2021-12-29T10:02:15.729Z"
   },
   {
    "duration": 291,
    "start_time": "2021-12-29T10:02:15.757Z"
   },
   {
    "duration": 38,
    "start_time": "2021-12-29T10:02:16.051Z"
   },
   {
    "duration": 538,
    "start_time": "2021-12-29T10:02:16.091Z"
   },
   {
    "duration": 35,
    "start_time": "2021-12-29T10:02:16.632Z"
   },
   {
    "duration": 7,
    "start_time": "2021-12-29T10:02:16.669Z"
   },
   {
    "duration": 91,
    "start_time": "2021-12-29T10:02:16.679Z"
   },
   {
    "duration": 13,
    "start_time": "2021-12-29T10:02:16.772Z"
   },
   {
    "duration": 49,
    "start_time": "2021-12-29T10:02:16.788Z"
   },
   {
    "duration": 314,
    "start_time": "2021-12-29T10:02:16.839Z"
   },
   {
    "duration": 64,
    "start_time": "2021-12-29T10:02:17.155Z"
   },
   {
    "duration": 554,
    "start_time": "2021-12-29T10:02:17.223Z"
   },
   {
    "duration": 1197,
    "start_time": "2021-12-29T10:02:17.780Z"
   },
   {
    "duration": 1238,
    "start_time": "2021-12-29T10:02:18.979Z"
   },
   {
    "duration": 17,
    "start_time": "2021-12-29T10:02:20.221Z"
   },
   {
    "duration": 21,
    "start_time": "2021-12-29T10:02:20.243Z"
   },
   {
    "duration": 115,
    "start_time": "2021-12-29T10:02:20.266Z"
   },
   {
    "duration": 37,
    "start_time": "2021-12-29T10:02:20.384Z"
   },
   {
    "duration": 33,
    "start_time": "2021-12-29T10:02:21.713Z"
   },
   {
    "duration": 33,
    "start_time": "2021-12-29T10:02:32.422Z"
   },
   {
    "duration": 28,
    "start_time": "2021-12-29T10:02:32.458Z"
   },
   {
    "duration": 28,
    "start_time": "2021-12-29T10:02:32.518Z"
   },
   {
    "duration": 41,
    "start_time": "2021-12-29T10:02:32.549Z"
   },
   {
    "duration": 1531,
    "start_time": "2021-12-29T10:02:32.617Z"
   },
   {
    "duration": 8,
    "start_time": "2021-12-29T10:02:34.151Z"
   },
   {
    "duration": 413,
    "start_time": "2021-12-29T10:02:34.162Z"
   },
   {
    "duration": 567,
    "start_time": "2021-12-29T10:02:34.579Z"
   },
   {
    "duration": 5,
    "start_time": "2021-12-29T10:02:35.149Z"
   },
   {
    "duration": 64,
    "start_time": "2021-12-29T10:02:35.156Z"
   },
   {
    "duration": 16,
    "start_time": "2021-12-29T10:02:35.223Z"
   },
   {
    "duration": 11,
    "start_time": "2021-12-29T10:02:35.242Z"
   },
   {
    "duration": 330,
    "start_time": "2021-12-29T10:02:35.256Z"
   },
   {
    "duration": 30,
    "start_time": "2021-12-29T10:02:35.589Z"
   },
   {
    "duration": 318,
    "start_time": "2021-12-29T10:02:35.623Z"
   },
   {
    "duration": 497,
    "start_time": "2021-12-29T10:02:35.943Z"
   },
   {
    "duration": 2433,
    "start_time": "2021-12-29T10:04:28.332Z"
   },
   {
    "duration": 79,
    "start_time": "2021-12-29T10:04:30.768Z"
   },
   {
    "duration": 40,
    "start_time": "2021-12-29T10:04:30.850Z"
   },
   {
    "duration": 56,
    "start_time": "2021-12-29T10:04:30.893Z"
   },
   {
    "duration": 22,
    "start_time": "2021-12-29T10:04:30.951Z"
   },
   {
    "duration": 51,
    "start_time": "2021-12-29T10:04:30.976Z"
   },
   {
    "duration": 10,
    "start_time": "2021-12-29T10:04:31.031Z"
   },
   {
    "duration": 10,
    "start_time": "2021-12-29T10:04:31.045Z"
   },
   {
    "duration": 522,
    "start_time": "2021-12-29T10:04:31.058Z"
   },
   {
    "duration": 55,
    "start_time": "2021-12-29T10:04:31.582Z"
   },
   {
    "duration": 14,
    "start_time": "2021-12-29T10:04:31.640Z"
   },
   {
    "duration": 919,
    "start_time": "2021-12-29T10:04:31.656Z"
   },
   {
    "duration": 54,
    "start_time": "2021-12-29T10:04:32.578Z"
   },
   {
    "duration": 515,
    "start_time": "2021-12-29T10:04:32.635Z"
   },
   {
    "duration": 67,
    "start_time": "2021-12-29T10:04:33.153Z"
   },
   {
    "duration": 595,
    "start_time": "2021-12-29T10:04:33.223Z"
   },
   {
    "duration": 38,
    "start_time": "2021-12-29T10:04:33.821Z"
   },
   {
    "duration": 7,
    "start_time": "2021-12-29T10:04:33.861Z"
   },
   {
    "duration": 119,
    "start_time": "2021-12-29T10:04:33.871Z"
   },
   {
    "duration": 18,
    "start_time": "2021-12-29T10:04:33.993Z"
   },
   {
    "duration": 17,
    "start_time": "2021-12-29T10:04:34.014Z"
   },
   {
    "duration": 293,
    "start_time": "2021-12-29T10:04:34.034Z"
   },
   {
    "duration": 53,
    "start_time": "2021-12-29T10:04:34.336Z"
   },
   {
    "duration": 744,
    "start_time": "2021-12-29T10:04:34.392Z"
   },
   {
    "duration": 1001,
    "start_time": "2021-12-29T10:04:35.139Z"
   },
   {
    "duration": 880,
    "start_time": "2021-12-29T10:04:36.142Z"
   },
   {
    "duration": 9,
    "start_time": "2021-12-29T10:04:37.025Z"
   },
   {
    "duration": 8,
    "start_time": "2021-12-29T10:04:37.037Z"
   },
   {
    "duration": 120,
    "start_time": "2021-12-29T10:04:37.048Z"
   },
   {
    "duration": 29,
    "start_time": "2021-12-29T10:04:37.170Z"
   },
   {
    "duration": 34,
    "start_time": "2021-12-29T10:04:37.202Z"
   },
   {
    "duration": 25,
    "start_time": "2021-12-29T10:04:37.239Z"
   },
   {
    "duration": 54,
    "start_time": "2021-12-29T10:04:37.267Z"
   },
   {
    "duration": 33,
    "start_time": "2021-12-29T10:04:37.324Z"
   },
   {
    "duration": 1288,
    "start_time": "2021-12-29T10:04:37.359Z"
   },
   {
    "duration": 9,
    "start_time": "2021-12-29T10:04:38.650Z"
   },
   {
    "duration": 351,
    "start_time": "2021-12-29T10:04:38.662Z"
   },
   {
    "duration": 484,
    "start_time": "2021-12-29T10:04:39.018Z"
   },
   {
    "duration": 14,
    "start_time": "2021-12-29T10:04:39.505Z"
   },
   {
    "duration": 34,
    "start_time": "2021-12-29T10:04:39.522Z"
   },
   {
    "duration": 14,
    "start_time": "2021-12-29T10:04:39.559Z"
   },
   {
    "duration": 44,
    "start_time": "2021-12-29T10:04:39.575Z"
   },
   {
    "duration": 266,
    "start_time": "2021-12-29T10:04:39.621Z"
   },
   {
    "duration": 28,
    "start_time": "2021-12-29T10:04:39.889Z"
   },
   {
    "duration": 324,
    "start_time": "2021-12-29T10:04:39.920Z"
   },
   {
    "duration": 386,
    "start_time": "2021-12-29T10:04:40.247Z"
   },
   {
    "duration": 2233,
    "start_time": "2021-12-29T10:05:31.484Z"
   },
   {
    "duration": 71,
    "start_time": "2021-12-29T10:05:33.720Z"
   },
   {
    "duration": 39,
    "start_time": "2021-12-29T10:05:33.794Z"
   },
   {
    "duration": 26,
    "start_time": "2021-12-29T10:05:33.836Z"
   },
   {
    "duration": 56,
    "start_time": "2021-12-29T10:05:33.864Z"
   },
   {
    "duration": 23,
    "start_time": "2021-12-29T10:05:33.923Z"
   },
   {
    "duration": 10,
    "start_time": "2021-12-29T10:05:33.949Z"
   },
   {
    "duration": 10,
    "start_time": "2021-12-29T10:05:33.964Z"
   },
   {
    "duration": 402,
    "start_time": "2021-12-29T10:05:33.978Z"
   },
   {
    "duration": 60,
    "start_time": "2021-12-29T10:05:34.383Z"
   },
   {
    "duration": 15,
    "start_time": "2021-12-29T10:05:34.445Z"
   },
   {
    "duration": 908,
    "start_time": "2021-12-29T10:05:34.463Z"
   },
   {
    "duration": 45,
    "start_time": "2021-12-29T10:05:35.374Z"
   },
   {
    "duration": 484,
    "start_time": "2021-12-29T10:05:35.423Z"
   },
   {
    "duration": 46,
    "start_time": "2021-12-29T10:05:35.909Z"
   },
   {
    "duration": 473,
    "start_time": "2021-12-29T10:05:35.958Z"
   },
   {
    "duration": 34,
    "start_time": "2021-12-29T10:05:36.434Z"
   },
   {
    "duration": 9,
    "start_time": "2021-12-29T10:05:36.471Z"
   },
   {
    "duration": 114,
    "start_time": "2021-12-29T10:05:36.482Z"
   },
   {
    "duration": 29,
    "start_time": "2021-12-29T10:05:36.599Z"
   },
   {
    "duration": 19,
    "start_time": "2021-12-29T10:05:36.630Z"
   },
   {
    "duration": 308,
    "start_time": "2021-12-29T10:05:36.652Z"
   },
   {
    "duration": 87,
    "start_time": "2021-12-29T10:05:36.966Z"
   },
   {
    "duration": 528,
    "start_time": "2021-12-29T10:05:37.057Z"
   },
   {
    "duration": 938,
    "start_time": "2021-12-29T10:05:37.588Z"
   },
   {
    "duration": 736,
    "start_time": "2021-12-29T10:05:38.529Z"
   },
   {
    "duration": 9,
    "start_time": "2021-12-29T10:05:39.268Z"
   },
   {
    "duration": 102,
    "start_time": "2021-12-29T10:05:39.280Z"
   },
   {
    "duration": 36,
    "start_time": "2021-12-29T10:05:39.384Z"
   },
   {
    "duration": 27,
    "start_time": "2021-12-29T10:05:39.422Z"
   },
   {
    "duration": 30,
    "start_time": "2021-12-29T10:05:39.452Z"
   },
   {
    "duration": 51,
    "start_time": "2021-12-29T10:05:39.485Z"
   },
   {
    "duration": 34,
    "start_time": "2021-12-29T10:05:39.539Z"
   },
   {
    "duration": 1392,
    "start_time": "2021-12-29T10:05:39.575Z"
   },
   {
    "duration": 9,
    "start_time": "2021-12-29T10:05:40.969Z"
   },
   {
    "duration": 400,
    "start_time": "2021-12-29T10:05:40.980Z"
   },
   {
    "duration": 515,
    "start_time": "2021-12-29T10:05:41.383Z"
   },
   {
    "duration": 18,
    "start_time": "2021-12-29T10:05:41.901Z"
   },
   {
    "duration": 45,
    "start_time": "2021-12-29T10:05:41.922Z"
   },
   {
    "duration": 11,
    "start_time": "2021-12-29T10:05:41.970Z"
   },
   {
    "duration": 13,
    "start_time": "2021-12-29T10:05:42.022Z"
   },
   {
    "duration": 305,
    "start_time": "2021-12-29T10:05:42.039Z"
   },
   {
    "duration": 21,
    "start_time": "2021-12-29T10:05:42.347Z"
   },
   {
    "duration": 348,
    "start_time": "2021-12-29T10:05:42.371Z"
   },
   {
    "duration": 407,
    "start_time": "2021-12-29T10:05:42.721Z"
   },
   {
    "duration": 2246,
    "start_time": "2021-12-29T10:06:35.378Z"
   },
   {
    "duration": 67,
    "start_time": "2021-12-29T10:06:37.627Z"
   },
   {
    "duration": 35,
    "start_time": "2021-12-29T10:06:37.697Z"
   },
   {
    "duration": 26,
    "start_time": "2021-12-29T10:06:37.736Z"
   },
   {
    "duration": 21,
    "start_time": "2021-12-29T10:06:37.764Z"
   },
   {
    "duration": 21,
    "start_time": "2021-12-29T10:06:37.825Z"
   },
   {
    "duration": 6,
    "start_time": "2021-12-29T10:06:37.849Z"
   },
   {
    "duration": 15,
    "start_time": "2021-12-29T10:06:37.859Z"
   },
   {
    "duration": 377,
    "start_time": "2021-12-29T10:06:37.877Z"
   },
   {
    "duration": 30,
    "start_time": "2021-12-29T10:06:38.256Z"
   },
   {
    "duration": 43,
    "start_time": "2021-12-29T10:06:38.289Z"
   },
   {
    "duration": 886,
    "start_time": "2021-12-29T10:06:38.334Z"
   },
   {
    "duration": 19,
    "start_time": "2021-12-29T10:06:39.223Z"
   },
   {
    "duration": 389,
    "start_time": "2021-12-29T10:06:39.244Z"
   },
   {
    "duration": 43,
    "start_time": "2021-12-29T10:06:39.636Z"
   },
   {
    "duration": 673,
    "start_time": "2021-12-29T10:06:39.682Z"
   },
   {
    "duration": 33,
    "start_time": "2021-12-29T10:06:40.358Z"
   },
   {
    "duration": 28,
    "start_time": "2021-12-29T10:06:40.394Z"
   },
   {
    "duration": 54,
    "start_time": "2021-12-29T10:06:40.425Z"
   },
   {
    "duration": 36,
    "start_time": "2021-12-29T10:06:40.481Z"
   },
   {
    "duration": 17,
    "start_time": "2021-12-29T10:06:40.519Z"
   },
   {
    "duration": 294,
    "start_time": "2021-12-29T10:06:40.539Z"
   },
   {
    "duration": 52,
    "start_time": "2021-12-29T10:06:40.838Z"
   },
   {
    "duration": 768,
    "start_time": "2021-12-29T10:06:40.894Z"
   },
   {
    "duration": 1404,
    "start_time": "2021-12-29T10:06:41.665Z"
   },
   {
    "duration": 990,
    "start_time": "2021-12-29T10:06:43.072Z"
   },
   {
    "duration": 14,
    "start_time": "2021-12-29T10:06:44.065Z"
   },
   {
    "duration": 100,
    "start_time": "2021-12-29T10:06:44.082Z"
   },
   {
    "duration": 34,
    "start_time": "2021-12-29T10:06:44.184Z"
   },
   {
    "duration": 22,
    "start_time": "2021-12-29T10:06:44.221Z"
   },
   {
    "duration": 23,
    "start_time": "2021-12-29T10:06:44.246Z"
   },
   {
    "duration": 52,
    "start_time": "2021-12-29T10:06:44.271Z"
   },
   {
    "duration": 30,
    "start_time": "2021-12-29T10:06:44.325Z"
   },
   {
    "duration": 1241,
    "start_time": "2021-12-29T10:06:44.357Z"
   },
   {
    "duration": 18,
    "start_time": "2021-12-29T10:06:45.602Z"
   },
   {
    "duration": 454,
    "start_time": "2021-12-29T10:06:45.623Z"
   },
   {
    "duration": 524,
    "start_time": "2021-12-29T10:06:46.080Z"
   },
   {
    "duration": 5,
    "start_time": "2021-12-29T10:06:46.606Z"
   },
   {
    "duration": 34,
    "start_time": "2021-12-29T10:06:46.618Z"
   },
   {
    "duration": 13,
    "start_time": "2021-12-29T10:06:46.654Z"
   },
   {
    "duration": 49,
    "start_time": "2021-12-29T10:06:46.670Z"
   },
   {
    "duration": 266,
    "start_time": "2021-12-29T10:06:46.722Z"
   },
   {
    "duration": 34,
    "start_time": "2021-12-29T10:06:46.991Z"
   },
   {
    "duration": 434,
    "start_time": "2021-12-29T10:06:47.028Z"
   },
   {
    "duration": 597,
    "start_time": "2021-12-29T10:06:47.465Z"
   },
   {
    "duration": 351,
    "start_time": "2021-12-29T10:07:18.247Z"
   },
   {
    "duration": 500,
    "start_time": "2021-12-29T10:07:20.194Z"
   },
   {
    "duration": 2234,
    "start_time": "2021-12-29T10:07:27.573Z"
   },
   {
    "duration": 73,
    "start_time": "2021-12-29T10:07:29.810Z"
   },
   {
    "duration": 44,
    "start_time": "2021-12-29T10:07:29.886Z"
   },
   {
    "duration": 25,
    "start_time": "2021-12-29T10:07:29.933Z"
   },
   {
    "duration": 21,
    "start_time": "2021-12-29T10:07:29.961Z"
   },
   {
    "duration": 52,
    "start_time": "2021-12-29T10:07:29.985Z"
   },
   {
    "duration": 8,
    "start_time": "2021-12-29T10:07:30.039Z"
   },
   {
    "duration": 13,
    "start_time": "2021-12-29T10:07:30.051Z"
   },
   {
    "duration": 404,
    "start_time": "2021-12-29T10:07:30.067Z"
   },
   {
    "duration": 45,
    "start_time": "2021-12-29T10:07:30.474Z"
   },
   {
    "duration": 22,
    "start_time": "2021-12-29T10:07:30.522Z"
   },
   {
    "duration": 893,
    "start_time": "2021-12-29T10:07:30.547Z"
   },
   {
    "duration": 19,
    "start_time": "2021-12-29T10:07:31.444Z"
   },
   {
    "duration": 390,
    "start_time": "2021-12-29T10:07:31.466Z"
   },
   {
    "duration": 37,
    "start_time": "2021-12-29T10:07:31.858Z"
   },
   {
    "duration": 620,
    "start_time": "2021-12-29T10:07:31.897Z"
   },
   {
    "duration": 48,
    "start_time": "2021-12-29T10:07:32.520Z"
   },
   {
    "duration": 11,
    "start_time": "2021-12-29T10:07:32.572Z"
   },
   {
    "duration": 101,
    "start_time": "2021-12-29T10:07:32.586Z"
   },
   {
    "duration": 37,
    "start_time": "2021-12-29T10:07:32.690Z"
   },
   {
    "duration": 24,
    "start_time": "2021-12-29T10:07:32.730Z"
   },
   {
    "duration": 273,
    "start_time": "2021-12-29T10:07:32.757Z"
   },
   {
    "duration": 48,
    "start_time": "2021-12-29T10:07:33.035Z"
   },
   {
    "duration": 517,
    "start_time": "2021-12-29T10:07:33.087Z"
   },
   {
    "duration": 868,
    "start_time": "2021-12-29T10:07:33.607Z"
   },
   {
    "duration": 937,
    "start_time": "2021-12-29T10:07:34.477Z"
   },
   {
    "duration": 14,
    "start_time": "2021-12-29T10:07:35.417Z"
   },
   {
    "duration": 111,
    "start_time": "2021-12-29T10:07:35.434Z"
   },
   {
    "duration": 28,
    "start_time": "2021-12-29T10:07:35.547Z"
   },
   {
    "duration": 42,
    "start_time": "2021-12-29T10:07:35.577Z"
   },
   {
    "duration": 26,
    "start_time": "2021-12-29T10:07:35.622Z"
   },
   {
    "duration": 21,
    "start_time": "2021-12-29T10:07:35.650Z"
   },
   {
    "duration": 67,
    "start_time": "2021-12-29T10:07:35.673Z"
   },
   {
    "duration": 1247,
    "start_time": "2021-12-29T10:07:35.743Z"
   },
   {
    "duration": 9,
    "start_time": "2021-12-29T10:07:36.993Z"
   },
   {
    "duration": 466,
    "start_time": "2021-12-29T10:07:37.018Z"
   },
   {
    "duration": 500,
    "start_time": "2021-12-29T10:07:37.486Z"
   },
   {
    "duration": 6,
    "start_time": "2021-12-29T10:07:37.989Z"
   },
   {
    "duration": 45,
    "start_time": "2021-12-29T10:07:37.998Z"
   },
   {
    "duration": 11,
    "start_time": "2021-12-29T10:07:38.046Z"
   },
   {
    "duration": 10,
    "start_time": "2021-12-29T10:07:38.059Z"
   },
   {
    "duration": 295,
    "start_time": "2021-12-29T10:07:38.071Z"
   },
   {
    "duration": 18,
    "start_time": "2021-12-29T10:07:38.370Z"
   },
   {
    "duration": 364,
    "start_time": "2021-12-29T10:07:38.390Z"
   },
   {
    "duration": 387,
    "start_time": "2021-12-29T10:07:38.756Z"
   },
   {
    "duration": 2270,
    "start_time": "2021-12-29T10:08:10.486Z"
   },
   {
    "duration": 69,
    "start_time": "2021-12-29T10:08:12.759Z"
   },
   {
    "duration": 31,
    "start_time": "2021-12-29T10:08:12.831Z"
   },
   {
    "duration": 25,
    "start_time": "2021-12-29T10:08:12.865Z"
   },
   {
    "duration": 43,
    "start_time": "2021-12-29T10:08:12.892Z"
   },
   {
    "duration": 27,
    "start_time": "2021-12-29T10:08:12.938Z"
   },
   {
    "duration": 26,
    "start_time": "2021-12-29T10:08:12.968Z"
   },
   {
    "duration": 25,
    "start_time": "2021-12-29T10:08:12.998Z"
   },
   {
    "duration": 371,
    "start_time": "2021-12-29T10:08:13.026Z"
   },
   {
    "duration": 40,
    "start_time": "2021-12-29T10:08:13.399Z"
   },
   {
    "duration": 15,
    "start_time": "2021-12-29T10:08:13.442Z"
   },
   {
    "duration": 934,
    "start_time": "2021-12-29T10:08:13.459Z"
   },
   {
    "duration": 36,
    "start_time": "2021-12-29T10:08:14.395Z"
   },
   {
    "duration": 453,
    "start_time": "2021-12-29T10:08:14.433Z"
   },
   {
    "duration": 58,
    "start_time": "2021-12-29T10:08:14.889Z"
   },
   {
    "duration": 672,
    "start_time": "2021-12-29T10:08:14.949Z"
   },
   {
    "duration": 34,
    "start_time": "2021-12-29T10:08:15.625Z"
   },
   {
    "duration": 9,
    "start_time": "2021-12-29T10:08:15.662Z"
   },
   {
    "duration": 88,
    "start_time": "2021-12-29T10:08:15.674Z"
   },
   {
    "duration": 13,
    "start_time": "2021-12-29T10:08:15.765Z"
   },
   {
    "duration": 44,
    "start_time": "2021-12-29T10:08:15.781Z"
   },
   {
    "duration": 382,
    "start_time": "2021-12-29T10:08:15.828Z"
   },
   {
    "duration": 53,
    "start_time": "2021-12-29T10:08:16.221Z"
   },
   {
    "duration": 528,
    "start_time": "2021-12-29T10:08:16.278Z"
   },
   {
    "duration": 867,
    "start_time": "2021-12-29T10:08:16.809Z"
   },
   {
    "duration": 926,
    "start_time": "2021-12-29T10:08:17.679Z"
   },
   {
    "duration": 14,
    "start_time": "2021-12-29T10:08:18.608Z"
   },
   {
    "duration": 166,
    "start_time": "2021-12-29T10:08:18.625Z"
   },
   {
    "duration": 44,
    "start_time": "2021-12-29T10:08:18.794Z"
   },
   {
    "duration": 30,
    "start_time": "2021-12-29T10:08:18.841Z"
   },
   {
    "duration": 57,
    "start_time": "2021-12-29T10:08:18.873Z"
   },
   {
    "duration": 26,
    "start_time": "2021-12-29T10:08:18.933Z"
   },
   {
    "duration": 67,
    "start_time": "2021-12-29T10:08:18.961Z"
   },
   {
    "duration": 1749,
    "start_time": "2021-12-29T10:08:19.031Z"
   },
   {
    "duration": 11,
    "start_time": "2021-12-29T10:08:20.783Z"
   },
   {
    "duration": 344,
    "start_time": "2021-12-29T10:08:20.797Z"
   },
   {
    "duration": 465,
    "start_time": "2021-12-29T10:08:21.143Z"
   },
   {
    "duration": 9,
    "start_time": "2021-12-29T10:08:21.610Z"
   },
   {
    "duration": 34,
    "start_time": "2021-12-29T10:08:21.621Z"
   },
   {
    "duration": 10,
    "start_time": "2021-12-29T10:08:21.658Z"
   },
   {
    "duration": 14,
    "start_time": "2021-12-29T10:08:21.670Z"
   },
   {
    "duration": 284,
    "start_time": "2021-12-29T10:08:21.718Z"
   },
   {
    "duration": 25,
    "start_time": "2021-12-29T10:08:22.004Z"
   },
   {
    "duration": 493,
    "start_time": "2021-12-29T10:08:22.031Z"
   },
   {
    "duration": 554,
    "start_time": "2021-12-29T10:08:22.527Z"
   },
   {
    "duration": 570,
    "start_time": "2021-12-29T10:11:28.313Z"
   },
   {
    "duration": 879,
    "start_time": "2021-12-29T10:11:33.182Z"
   },
   {
    "duration": 899,
    "start_time": "2021-12-29T10:11:39.662Z"
   },
   {
    "duration": 2147,
    "start_time": "2021-12-29T10:15:07.497Z"
   },
   {
    "duration": 69,
    "start_time": "2021-12-29T10:15:09.646Z"
   },
   {
    "duration": 31,
    "start_time": "2021-12-29T10:15:09.718Z"
   },
   {
    "duration": 25,
    "start_time": "2021-12-29T10:15:09.752Z"
   },
   {
    "duration": 54,
    "start_time": "2021-12-29T10:15:09.779Z"
   },
   {
    "duration": 22,
    "start_time": "2021-12-29T10:15:09.835Z"
   },
   {
    "duration": 7,
    "start_time": "2021-12-29T10:15:09.860Z"
   },
   {
    "duration": 48,
    "start_time": "2021-12-29T10:15:09.871Z"
   },
   {
    "duration": 377,
    "start_time": "2021-12-29T10:15:09.922Z"
   },
   {
    "duration": 41,
    "start_time": "2021-12-29T10:15:10.302Z"
   },
   {
    "duration": 14,
    "start_time": "2021-12-29T10:15:10.346Z"
   },
   {
    "duration": 899,
    "start_time": "2021-12-29T10:15:10.362Z"
   },
   {
    "duration": 19,
    "start_time": "2021-12-29T10:15:11.263Z"
   },
   {
    "duration": 459,
    "start_time": "2021-12-29T10:15:11.284Z"
   },
   {
    "duration": 40,
    "start_time": "2021-12-29T10:15:11.746Z"
   },
   {
    "duration": 561,
    "start_time": "2021-12-29T10:15:11.788Z"
   },
   {
    "duration": 33,
    "start_time": "2021-12-29T10:15:12.351Z"
   },
   {
    "duration": 8,
    "start_time": "2021-12-29T10:15:12.387Z"
   },
   {
    "duration": 52,
    "start_time": "2021-12-29T10:15:12.418Z"
   },
   {
    "duration": 12,
    "start_time": "2021-12-29T10:15:12.472Z"
   },
   {
    "duration": 17,
    "start_time": "2021-12-29T10:15:12.517Z"
   },
   {
    "duration": 286,
    "start_time": "2021-12-29T10:15:12.537Z"
   },
   {
    "duration": 54,
    "start_time": "2021-12-29T10:15:12.829Z"
   },
   {
    "duration": 541,
    "start_time": "2021-12-29T10:15:12.886Z"
   },
   {
    "duration": 912,
    "start_time": "2021-12-29T10:15:13.430Z"
   },
   {
    "duration": 1055,
    "start_time": "2021-12-29T10:15:14.346Z"
   },
   {
    "duration": 6,
    "start_time": "2021-12-29T10:15:15.403Z"
   },
   {
    "duration": 148,
    "start_time": "2021-12-29T10:15:15.413Z"
   },
   {
    "duration": 52,
    "start_time": "2021-12-29T10:15:15.565Z"
   },
   {
    "duration": 27,
    "start_time": "2021-12-29T10:15:15.620Z"
   },
   {
    "duration": 34,
    "start_time": "2021-12-29T10:15:15.650Z"
   },
   {
    "duration": 24,
    "start_time": "2021-12-29T10:15:15.719Z"
   },
   {
    "duration": 33,
    "start_time": "2021-12-29T10:15:15.746Z"
   },
   {
    "duration": 1302,
    "start_time": "2021-12-29T10:15:15.781Z"
   },
   {
    "duration": 9,
    "start_time": "2021-12-29T10:15:17.087Z"
   },
   {
    "duration": 343,
    "start_time": "2021-12-29T10:15:17.118Z"
   },
   {
    "duration": 462,
    "start_time": "2021-12-29T10:15:17.463Z"
   },
   {
    "duration": 4,
    "start_time": "2021-12-29T10:15:17.929Z"
   },
   {
    "duration": 33,
    "start_time": "2021-12-29T10:15:17.936Z"
   },
   {
    "duration": 47,
    "start_time": "2021-12-29T10:15:17.971Z"
   },
   {
    "duration": 10,
    "start_time": "2021-12-29T10:15:18.021Z"
   },
   {
    "duration": 268,
    "start_time": "2021-12-29T10:15:18.034Z"
   },
   {
    "duration": 32,
    "start_time": "2021-12-29T10:15:18.305Z"
   },
   {
    "duration": 451,
    "start_time": "2021-12-29T10:15:18.341Z"
   },
   {
    "duration": 569,
    "start_time": "2021-12-29T10:15:18.795Z"
   },
   {
    "duration": 344,
    "start_time": "2021-12-29T10:15:57.485Z"
   },
   {
    "duration": 4,
    "start_time": "2021-12-29T10:16:02.771Z"
   },
   {
    "duration": 40,
    "start_time": "2021-12-29T10:16:04.195Z"
   },
   {
    "duration": 338,
    "start_time": "2021-12-29T10:16:13.469Z"
   },
   {
    "duration": 559,
    "start_time": "2021-12-29T10:16:14.899Z"
   },
   {
    "duration": 5,
    "start_time": "2021-12-29T10:16:16.957Z"
   },
   {
    "duration": 48,
    "start_time": "2021-12-29T10:16:18.285Z"
   },
   {
    "duration": 49,
    "start_time": "2021-12-29T10:18:05.525Z"
   },
   {
    "duration": 13,
    "start_time": "2021-12-29T10:18:37.054Z"
   },
   {
    "duration": 18,
    "start_time": "2021-12-29T10:18:52.854Z"
   },
   {
    "duration": 11,
    "start_time": "2021-12-29T10:19:47.756Z"
   },
   {
    "duration": 12,
    "start_time": "2021-12-29T10:19:58.206Z"
   },
   {
    "duration": 13,
    "start_time": "2021-12-29T10:20:42.756Z"
   },
   {
    "duration": 792,
    "start_time": "2021-12-29T10:20:49.810Z"
   },
   {
    "duration": 16,
    "start_time": "2021-12-29T10:20:57.043Z"
   },
   {
    "duration": 241,
    "start_time": "2021-12-29T10:21:29.567Z"
   },
   {
    "duration": 10,
    "start_time": "2021-12-29T10:22:18.430Z"
   },
   {
    "duration": 9,
    "start_time": "2021-12-29T10:22:20.827Z"
   },
   {
    "duration": 20,
    "start_time": "2021-12-29T10:22:26.615Z"
   },
   {
    "duration": 545,
    "start_time": "2021-12-29T10:22:43.205Z"
   },
   {
    "duration": 556,
    "start_time": "2021-12-29T10:23:03.436Z"
   },
   {
    "duration": 23,
    "start_time": "2021-12-29T10:23:14.306Z"
   },
   {
    "duration": 17,
    "start_time": "2021-12-29T10:23:34.257Z"
   },
   {
    "duration": 17,
    "start_time": "2021-12-29T10:23:40.789Z"
   },
   {
    "duration": 15,
    "start_time": "2021-12-29T10:24:06.297Z"
   },
   {
    "duration": 22,
    "start_time": "2021-12-29T10:24:22.621Z"
   },
   {
    "duration": 11,
    "start_time": "2021-12-29T10:24:53.212Z"
   },
   {
    "duration": 20,
    "start_time": "2021-12-29T10:24:58.330Z"
   },
   {
    "duration": 545,
    "start_time": "2021-12-29T10:26:21.377Z"
   },
   {
    "duration": 539,
    "start_time": "2021-12-29T10:27:03.033Z"
   },
   {
    "duration": 683,
    "start_time": "2021-12-29T10:27:28.054Z"
   },
   {
    "duration": 508,
    "start_time": "2021-12-29T10:27:36.838Z"
   },
   {
    "duration": 4270,
    "start_time": "2021-12-29T10:40:55.073Z"
   },
   {
    "duration": 73,
    "start_time": "2021-12-29T10:40:59.346Z"
   },
   {
    "duration": 35,
    "start_time": "2021-12-29T10:40:59.422Z"
   },
   {
    "duration": 57,
    "start_time": "2021-12-29T10:40:59.461Z"
   },
   {
    "duration": 21,
    "start_time": "2021-12-29T10:40:59.521Z"
   },
   {
    "duration": 23,
    "start_time": "2021-12-29T10:40:59.545Z"
   },
   {
    "duration": 7,
    "start_time": "2021-12-29T10:40:59.571Z"
   },
   {
    "duration": 38,
    "start_time": "2021-12-29T10:40:59.582Z"
   },
   {
    "duration": 403,
    "start_time": "2021-12-29T10:40:59.624Z"
   },
   {
    "duration": 49,
    "start_time": "2021-12-29T10:41:00.031Z"
   },
   {
    "duration": 47,
    "start_time": "2021-12-29T10:41:00.083Z"
   },
   {
    "duration": 904,
    "start_time": "2021-12-29T10:41:00.133Z"
   },
   {
    "duration": 25,
    "start_time": "2021-12-29T10:41:01.041Z"
   },
   {
    "duration": 497,
    "start_time": "2021-12-29T10:41:01.069Z"
   },
   {
    "duration": 51,
    "start_time": "2021-12-29T10:41:01.569Z"
   },
   {
    "duration": 577,
    "start_time": "2021-12-29T10:41:01.623Z"
   },
   {
    "duration": 42,
    "start_time": "2021-12-29T10:41:02.202Z"
   },
   {
    "duration": 7,
    "start_time": "2021-12-29T10:41:02.247Z"
   },
   {
    "duration": 103,
    "start_time": "2021-12-29T10:41:02.257Z"
   },
   {
    "duration": 18,
    "start_time": "2021-12-29T10:41:02.363Z"
   },
   {
    "duration": 52,
    "start_time": "2021-12-29T10:41:02.384Z"
   },
   {
    "duration": 421,
    "start_time": "2021-12-29T10:41:02.439Z"
   },
   {
    "duration": 86,
    "start_time": "2021-12-29T10:41:02.867Z"
   },
   {
    "duration": 733,
    "start_time": "2021-12-29T10:41:02.957Z"
   },
   {
    "duration": 1352,
    "start_time": "2021-12-29T10:41:03.694Z"
   },
   {
    "duration": 954,
    "start_time": "2021-12-29T10:41:05.049Z"
   },
   {
    "duration": 5,
    "start_time": "2021-12-29T10:41:06.006Z"
   },
   {
    "duration": 93,
    "start_time": "2021-12-29T10:41:06.013Z"
   },
   {
    "duration": 30,
    "start_time": "2021-12-29T10:41:06.109Z"
   },
   {
    "duration": 21,
    "start_time": "2021-12-29T10:41:06.142Z"
   },
   {
    "duration": 52,
    "start_time": "2021-12-29T10:41:06.165Z"
   },
   {
    "duration": 463,
    "start_time": "2021-12-29T10:41:06.221Z"
   },
   {
    "duration": 38,
    "start_time": "2021-12-29T10:41:06.688Z"
   },
   {
    "duration": 20,
    "start_time": "2021-12-29T10:41:06.729Z"
   },
   {
    "duration": 32,
    "start_time": "2021-12-29T10:41:06.752Z"
   },
   {
    "duration": 1198,
    "start_time": "2021-12-29T10:41:06.830Z"
   },
   {
    "duration": 9,
    "start_time": "2021-12-29T10:41:08.030Z"
   },
   {
    "duration": 344,
    "start_time": "2021-12-29T10:41:08.042Z"
   },
   {
    "duration": 504,
    "start_time": "2021-12-29T10:41:08.389Z"
   },
   {
    "duration": 5,
    "start_time": "2021-12-29T10:41:08.895Z"
   },
   {
    "duration": 36,
    "start_time": "2021-12-29T10:41:08.917Z"
   },
   {
    "duration": 13,
    "start_time": "2021-12-29T10:41:08.956Z"
   },
   {
    "duration": 47,
    "start_time": "2021-12-29T10:41:08.972Z"
   },
   {
    "duration": 556,
    "start_time": "2021-12-29T10:41:09.022Z"
   },
   {
    "duration": 36,
    "start_time": "2021-12-29T10:41:09.581Z"
   },
   {
    "duration": 275,
    "start_time": "2021-12-29T10:41:09.620Z"
   },
   {
    "duration": 594,
    "start_time": "2021-12-29T10:41:09.898Z"
   },
   {
    "duration": 179,
    "start_time": "2021-12-29T10:43:15.868Z"
   },
   {
    "duration": 2307,
    "start_time": "2021-12-29T10:43:25.323Z"
   },
   {
    "duration": 72,
    "start_time": "2021-12-29T10:43:27.633Z"
   },
   {
    "duration": 37,
    "start_time": "2021-12-29T10:43:27.708Z"
   },
   {
    "duration": 27,
    "start_time": "2021-12-29T10:43:27.748Z"
   },
   {
    "duration": 58,
    "start_time": "2021-12-29T10:43:27.778Z"
   },
   {
    "duration": 32,
    "start_time": "2021-12-29T10:43:27.839Z"
   },
   {
    "duration": 9,
    "start_time": "2021-12-29T10:43:27.874Z"
   },
   {
    "duration": 10,
    "start_time": "2021-12-29T10:43:27.919Z"
   },
   {
    "duration": 391,
    "start_time": "2021-12-29T10:43:27.932Z"
   },
   {
    "duration": 32,
    "start_time": "2021-12-29T10:43:28.325Z"
   },
   {
    "duration": 14,
    "start_time": "2021-12-29T10:43:28.359Z"
   },
   {
    "duration": 903,
    "start_time": "2021-12-29T10:43:28.376Z"
   },
   {
    "duration": 46,
    "start_time": "2021-12-29T10:43:29.281Z"
   },
   {
    "duration": 348,
    "start_time": "2021-12-29T10:43:29.330Z"
   },
   {
    "duration": 51,
    "start_time": "2021-12-29T10:43:29.681Z"
   },
   {
    "duration": 657,
    "start_time": "2021-12-29T10:43:29.737Z"
   },
   {
    "duration": 56,
    "start_time": "2021-12-29T10:43:30.397Z"
   },
   {
    "duration": 10,
    "start_time": "2021-12-29T10:43:30.456Z"
   },
   {
    "duration": 98,
    "start_time": "2021-12-29T10:43:30.469Z"
   },
   {
    "duration": 15,
    "start_time": "2021-12-29T10:43:30.570Z"
   },
   {
    "duration": 40,
    "start_time": "2021-12-29T10:43:30.588Z"
   },
   {
    "duration": 395,
    "start_time": "2021-12-29T10:43:30.631Z"
   },
   {
    "duration": 51,
    "start_time": "2021-12-29T10:43:31.033Z"
   },
   {
    "duration": 523,
    "start_time": "2021-12-29T10:43:31.087Z"
   },
   {
    "duration": 874,
    "start_time": "2021-12-29T10:43:31.613Z"
   },
   {
    "duration": 939,
    "start_time": "2021-12-29T10:43:32.489Z"
   },
   {
    "duration": 5,
    "start_time": "2021-12-29T10:43:33.431Z"
   },
   {
    "duration": 104,
    "start_time": "2021-12-29T10:43:33.438Z"
   },
   {
    "duration": 27,
    "start_time": "2021-12-29T10:43:33.545Z"
   },
   {
    "duration": 43,
    "start_time": "2021-12-29T10:43:33.574Z"
   },
   {
    "duration": 15,
    "start_time": "2021-12-29T10:43:33.620Z"
   },
   {
    "duration": 503,
    "start_time": "2021-12-29T10:43:33.639Z"
   },
   {
    "duration": 25,
    "start_time": "2021-12-29T10:43:34.144Z"
   },
   {
    "duration": 48,
    "start_time": "2021-12-29T10:43:34.171Z"
   },
   {
    "duration": 32,
    "start_time": "2021-12-29T10:43:34.221Z"
   },
   {
    "duration": 1346,
    "start_time": "2021-12-29T10:43:34.255Z"
   },
   {
    "duration": 15,
    "start_time": "2021-12-29T10:43:35.604Z"
   },
   {
    "duration": 371,
    "start_time": "2021-12-29T10:43:35.622Z"
   },
   {
    "duration": 499,
    "start_time": "2021-12-29T10:43:35.996Z"
   },
   {
    "duration": 6,
    "start_time": "2021-12-29T10:43:36.497Z"
   },
   {
    "duration": 34,
    "start_time": "2021-12-29T10:43:36.517Z"
   },
   {
    "duration": 11,
    "start_time": "2021-12-29T10:43:36.553Z"
   },
   {
    "duration": 9,
    "start_time": "2021-12-29T10:43:36.567Z"
   },
   {
    "duration": 427,
    "start_time": "2021-12-29T10:43:36.618Z"
   },
   {
    "duration": 17,
    "start_time": "2021-12-29T10:43:37.048Z"
   },
   {
    "duration": 201,
    "start_time": "2021-12-29T10:43:37.068Z"
   },
   {
    "duration": 382,
    "start_time": "2021-12-29T10:43:37.271Z"
   },
   {
    "duration": 2017,
    "start_time": "2021-12-29T11:00:08.502Z"
   },
   {
    "duration": 71,
    "start_time": "2021-12-29T11:00:10.523Z"
   },
   {
    "duration": 40,
    "start_time": "2021-12-29T11:00:10.597Z"
   },
   {
    "duration": 26,
    "start_time": "2021-12-29T11:00:10.640Z"
   },
   {
    "duration": 54,
    "start_time": "2021-12-29T11:00:10.668Z"
   },
   {
    "duration": 23,
    "start_time": "2021-12-29T11:00:10.725Z"
   },
   {
    "duration": 9,
    "start_time": "2021-12-29T11:00:10.751Z"
   },
   {
    "duration": 10,
    "start_time": "2021-12-29T11:00:10.766Z"
   },
   {
    "duration": 388,
    "start_time": "2021-12-29T11:00:10.817Z"
   },
   {
    "duration": 43,
    "start_time": "2021-12-29T11:00:11.207Z"
   },
   {
    "duration": 20,
    "start_time": "2021-12-29T11:00:11.253Z"
   },
   {
    "duration": 1393,
    "start_time": "2021-12-29T11:00:11.276Z"
   },
   {
    "duration": 55,
    "start_time": "2021-12-29T11:00:12.672Z"
   },
   {
    "duration": 454,
    "start_time": "2021-12-29T11:00:12.730Z"
   },
   {
    "duration": 70,
    "start_time": "2021-12-29T11:00:13.187Z"
   },
   {
    "duration": 452,
    "start_time": "2021-12-29T11:00:13.260Z"
   },
   {
    "duration": 35,
    "start_time": "2021-12-29T11:00:13.718Z"
   },
   {
    "duration": 7,
    "start_time": "2021-12-29T11:00:13.756Z"
   },
   {
    "duration": 94,
    "start_time": "2021-12-29T11:00:13.766Z"
   },
   {
    "duration": 11,
    "start_time": "2021-12-29T11:00:13.863Z"
   },
   {
    "duration": 46,
    "start_time": "2021-12-29T11:00:13.876Z"
   },
   {
    "duration": 277,
    "start_time": "2021-12-29T11:00:13.924Z"
   },
   {
    "duration": 60,
    "start_time": "2021-12-29T11:00:14.206Z"
   },
   {
    "duration": 515,
    "start_time": "2021-12-29T11:00:14.269Z"
   },
   {
    "duration": 893,
    "start_time": "2021-12-29T11:00:14.786Z"
   },
   {
    "duration": 972,
    "start_time": "2021-12-29T11:00:15.682Z"
   },
   {
    "duration": 5,
    "start_time": "2021-12-29T11:00:16.657Z"
   },
   {
    "duration": 96,
    "start_time": "2021-12-29T11:00:16.665Z"
   },
   {
    "duration": 28,
    "start_time": "2021-12-29T11:00:16.763Z"
   },
   {
    "duration": 45,
    "start_time": "2021-12-29T11:00:16.793Z"
   },
   {
    "duration": 16,
    "start_time": "2021-12-29T11:00:16.841Z"
   },
   {
    "duration": 482,
    "start_time": "2021-12-29T11:00:16.860Z"
   },
   {
    "duration": 26,
    "start_time": "2021-12-29T11:00:17.344Z"
   },
   {
    "duration": 56,
    "start_time": "2021-12-29T11:00:17.373Z"
   },
   {
    "duration": 44,
    "start_time": "2021-12-29T11:00:17.432Z"
   },
   {
    "duration": 1801,
    "start_time": "2021-12-29T11:00:17.479Z"
   },
   {
    "duration": 11,
    "start_time": "2021-12-29T11:00:19.283Z"
   },
   {
    "duration": 364,
    "start_time": "2021-12-29T11:00:19.297Z"
   },
   {
    "duration": 655,
    "start_time": "2021-12-29T11:00:19.664Z"
   },
   {
    "duration": 6,
    "start_time": "2021-12-29T11:00:20.322Z"
   },
   {
    "duration": 45,
    "start_time": "2021-12-29T11:00:20.330Z"
   },
   {
    "duration": 12,
    "start_time": "2021-12-29T11:00:20.377Z"
   },
   {
    "duration": 35,
    "start_time": "2021-12-29T11:00:20.391Z"
   },
   {
    "duration": 277,
    "start_time": "2021-12-29T11:00:20.429Z"
   },
   {
    "duration": 23,
    "start_time": "2021-12-29T11:00:20.709Z"
   },
   {
    "duration": 199,
    "start_time": "2021-12-29T11:00:20.735Z"
   },
   {
    "duration": 547,
    "start_time": "2021-12-29T11:00:20.936Z"
   },
   {
    "duration": 4,
    "start_time": "2021-12-29T11:16:10.305Z"
   },
   {
    "duration": 10,
    "start_time": "2021-12-29T11:16:17.689Z"
   },
   {
    "duration": 530,
    "start_time": "2021-12-29T11:17:17.030Z"
   },
   {
    "duration": 94,
    "start_time": "2021-12-29T11:17:43.964Z"
   },
   {
    "duration": 509,
    "start_time": "2021-12-29T11:17:50.548Z"
   },
   {
    "duration": 26,
    "start_time": "2021-12-29T11:21:12.457Z"
   },
   {
    "duration": 98,
    "start_time": "2021-12-29T11:22:32.153Z"
   },
   {
    "duration": 37,
    "start_time": "2021-12-29T11:22:36.447Z"
   },
   {
    "duration": 57,
    "start_time": "2021-12-29T11:22:39.540Z"
   },
   {
    "duration": 36,
    "start_time": "2021-12-29T11:23:38.073Z"
   },
   {
    "duration": 60,
    "start_time": "2021-12-29T11:23:47.713Z"
   },
   {
    "duration": 41,
    "start_time": "2021-12-29T11:23:52.219Z"
   },
   {
    "duration": 43,
    "start_time": "2021-12-29T11:24:26.247Z"
   },
   {
    "duration": 49,
    "start_time": "2021-12-29T11:25:08.124Z"
   },
   {
    "duration": 59,
    "start_time": "2021-12-29T11:27:32.491Z"
   },
   {
    "duration": 55,
    "start_time": "2021-12-29T11:27:47.106Z"
   },
   {
    "duration": 21,
    "start_time": "2021-12-29T11:29:57.465Z"
   },
   {
    "duration": 16,
    "start_time": "2021-12-29T11:31:09.330Z"
   },
   {
    "duration": 28,
    "start_time": "2021-12-29T11:32:14.986Z"
   },
   {
    "duration": 13,
    "start_time": "2021-12-29T11:35:09.914Z"
   },
   {
    "duration": 28,
    "start_time": "2021-12-29T11:37:18.553Z"
   },
   {
    "duration": 539,
    "start_time": "2021-12-29T11:38:49.099Z"
   },
   {
    "duration": 15,
    "start_time": "2021-12-29T11:39:04.847Z"
   },
   {
    "duration": 364,
    "start_time": "2021-12-29T11:39:28.891Z"
   },
   {
    "duration": 298,
    "start_time": "2021-12-29T11:39:46.728Z"
   },
   {
    "duration": 20,
    "start_time": "2021-12-29T11:39:58.759Z"
   },
   {
    "duration": 87,
    "start_time": "2021-12-29T11:40:15.978Z"
   },
   {
    "duration": 96,
    "start_time": "2021-12-29T11:40:21.538Z"
   },
   {
    "duration": 12,
    "start_time": "2021-12-29T11:42:17.483Z"
   },
   {
    "duration": 18,
    "start_time": "2021-12-29T11:43:21.775Z"
   },
   {
    "duration": 11,
    "start_time": "2021-12-29T11:43:39.505Z"
   },
   {
    "duration": 28,
    "start_time": "2021-12-29T11:43:45.044Z"
   },
   {
    "duration": 26,
    "start_time": "2021-12-29T11:44:10.829Z"
   },
   {
    "duration": 19,
    "start_time": "2021-12-29T11:44:22.806Z"
   },
   {
    "duration": 16,
    "start_time": "2021-12-29T11:44:27.818Z"
   },
   {
    "duration": 15,
    "start_time": "2021-12-29T11:44:44.762Z"
   },
   {
    "duration": 19,
    "start_time": "2021-12-29T11:44:47.781Z"
   },
   {
    "duration": 24,
    "start_time": "2021-12-29T11:44:51.516Z"
   },
   {
    "duration": 27,
    "start_time": "2021-12-29T11:45:02.898Z"
   },
   {
    "duration": 17,
    "start_time": "2021-12-29T11:45:23.749Z"
   },
   {
    "duration": 23,
    "start_time": "2021-12-29T11:46:10.375Z"
   },
   {
    "duration": 35,
    "start_time": "2021-12-29T11:46:15.157Z"
   },
   {
    "duration": 8480,
    "start_time": "2021-12-29T11:46:26.106Z"
   },
   {
    "duration": 35,
    "start_time": "2021-12-29T11:46:46.737Z"
   },
   {
    "duration": 39,
    "start_time": "2021-12-29T11:47:20.476Z"
   },
   {
    "duration": 41,
    "start_time": "2021-12-29T11:47:49.701Z"
   },
   {
    "duration": 38,
    "start_time": "2021-12-29T11:48:54.645Z"
   },
   {
    "duration": 36,
    "start_time": "2021-12-29T11:49:11.168Z"
   },
   {
    "duration": 28,
    "start_time": "2021-12-29T11:49:57.119Z"
   },
   {
    "duration": 37,
    "start_time": "2021-12-29T11:50:00.233Z"
   },
   {
    "duration": 442,
    "start_time": "2021-12-29T11:50:59.673Z"
   },
   {
    "duration": 450,
    "start_time": "2021-12-29T11:51:28.476Z"
   },
   {
    "duration": 2463,
    "start_time": "2021-12-29T11:55:47.690Z"
   },
   {
    "duration": 98,
    "start_time": "2021-12-29T11:55:50.157Z"
   },
   {
    "duration": 32,
    "start_time": "2021-12-29T11:55:50.259Z"
   },
   {
    "duration": 41,
    "start_time": "2021-12-29T11:55:50.294Z"
   },
   {
    "duration": 23,
    "start_time": "2021-12-29T11:55:50.338Z"
   },
   {
    "duration": 27,
    "start_time": "2021-12-29T11:55:50.363Z"
   },
   {
    "duration": 28,
    "start_time": "2021-12-29T11:55:50.392Z"
   },
   {
    "duration": 15,
    "start_time": "2021-12-29T11:55:50.424Z"
   },
   {
    "duration": 382,
    "start_time": "2021-12-29T11:55:50.442Z"
   },
   {
    "duration": 31,
    "start_time": "2021-12-29T11:55:50.827Z"
   },
   {
    "duration": 14,
    "start_time": "2021-12-29T11:55:50.861Z"
   },
   {
    "duration": 882,
    "start_time": "2021-12-29T11:55:50.877Z"
   },
   {
    "duration": 58,
    "start_time": "2021-12-29T11:55:51.761Z"
   },
   {
    "duration": 439,
    "start_time": "2021-12-29T11:55:51.822Z"
   },
   {
    "duration": 56,
    "start_time": "2021-12-29T11:55:52.264Z"
   },
   {
    "duration": 470,
    "start_time": "2021-12-29T11:55:52.323Z"
   },
   {
    "duration": 43,
    "start_time": "2021-12-29T11:55:52.796Z"
   },
   {
    "duration": 7,
    "start_time": "2021-12-29T11:55:52.841Z"
   },
   {
    "duration": 98,
    "start_time": "2021-12-29T11:55:52.850Z"
   },
   {
    "duration": 14,
    "start_time": "2021-12-29T11:55:52.951Z"
   },
   {
    "duration": 63,
    "start_time": "2021-12-29T11:55:52.967Z"
   },
   {
    "duration": 318,
    "start_time": "2021-12-29T11:55:53.032Z"
   },
   {
    "duration": 52,
    "start_time": "2021-12-29T11:55:53.355Z"
   },
   {
    "duration": 497,
    "start_time": "2021-12-29T11:55:53.410Z"
   },
   {
    "duration": 979,
    "start_time": "2021-12-29T11:55:53.909Z"
   },
   {
    "duration": 1192,
    "start_time": "2021-12-29T11:55:54.890Z"
   },
   {
    "duration": 4,
    "start_time": "2021-12-29T11:55:56.085Z"
   },
   {
    "duration": 89,
    "start_time": "2021-12-29T11:55:56.092Z"
   },
   {
    "duration": 38,
    "start_time": "2021-12-29T11:55:56.183Z"
   },
   {
    "duration": 461,
    "start_time": "2021-12-29T11:55:56.223Z"
   },
   {
    "duration": 34,
    "start_time": "2021-12-29T11:55:56.687Z"
   },
   {
    "duration": 16,
    "start_time": "2021-12-29T11:55:56.724Z"
   },
   {
    "duration": 501,
    "start_time": "2021-12-29T11:55:56.742Z"
   },
   {
    "duration": 36,
    "start_time": "2021-12-29T11:55:57.245Z"
   },
   {
    "duration": 496,
    "start_time": "2021-12-29T11:55:57.284Z"
   },
   {
    "duration": 42,
    "start_time": "2021-12-29T11:55:57.782Z"
   },
   {
    "duration": 27,
    "start_time": "2021-12-29T11:55:57.827Z"
   },
   {
    "duration": 63,
    "start_time": "2021-12-29T11:55:57.856Z"
   },
   {
    "duration": 1754,
    "start_time": "2021-12-29T11:55:57.921Z"
   },
   {
    "duration": 10,
    "start_time": "2021-12-29T11:55:59.678Z"
   },
   {
    "duration": 558,
    "start_time": "2021-12-29T11:55:59.690Z"
   },
   {
    "duration": 625,
    "start_time": "2021-12-29T11:56:00.252Z"
   },
   {
    "duration": 15,
    "start_time": "2021-12-29T11:56:00.879Z"
   },
   {
    "duration": 58,
    "start_time": "2021-12-29T11:56:00.897Z"
   },
   {
    "duration": 13,
    "start_time": "2021-12-29T11:56:00.958Z"
   },
   {
    "duration": 18,
    "start_time": "2021-12-29T11:56:00.974Z"
   },
   {
    "duration": 288,
    "start_time": "2021-12-29T11:56:00.994Z"
   },
   {
    "duration": 34,
    "start_time": "2021-12-29T11:56:01.285Z"
   },
   {
    "duration": 362,
    "start_time": "2021-12-29T11:56:01.322Z"
   },
   {
    "duration": 431,
    "start_time": "2021-12-29T11:56:01.686Z"
   },
   {
    "duration": 2130,
    "start_time": "2021-12-29T12:07:34.934Z"
   },
   {
    "duration": 71,
    "start_time": "2021-12-29T12:07:37.067Z"
   },
   {
    "duration": 31,
    "start_time": "2021-12-29T12:07:37.141Z"
   },
   {
    "duration": 45,
    "start_time": "2021-12-29T12:07:37.175Z"
   },
   {
    "duration": 21,
    "start_time": "2021-12-29T12:07:37.223Z"
   },
   {
    "duration": 22,
    "start_time": "2021-12-29T12:07:37.246Z"
   },
   {
    "duration": 7,
    "start_time": "2021-12-29T12:07:37.270Z"
   },
   {
    "duration": 42,
    "start_time": "2021-12-29T12:07:37.281Z"
   },
   {
    "duration": 375,
    "start_time": "2021-12-29T12:07:37.326Z"
   },
   {
    "duration": 44,
    "start_time": "2021-12-29T12:07:37.703Z"
   },
   {
    "duration": 14,
    "start_time": "2021-12-29T12:07:37.750Z"
   },
   {
    "duration": 882,
    "start_time": "2021-12-29T12:07:37.767Z"
   },
   {
    "duration": 19,
    "start_time": "2021-12-29T12:07:38.651Z"
   },
   {
    "duration": 383,
    "start_time": "2021-12-29T12:07:38.673Z"
   },
   {
    "duration": 36,
    "start_time": "2021-12-29T12:07:39.058Z"
   },
   {
    "duration": 465,
    "start_time": "2021-12-29T12:07:39.096Z"
   },
   {
    "duration": 31,
    "start_time": "2021-12-29T12:07:39.563Z"
   },
   {
    "duration": 23,
    "start_time": "2021-12-29T12:07:39.597Z"
   },
   {
    "duration": 75,
    "start_time": "2021-12-29T12:07:39.623Z"
   },
   {
    "duration": 29,
    "start_time": "2021-12-29T12:07:39.701Z"
   },
   {
    "duration": 17,
    "start_time": "2021-12-29T12:07:39.733Z"
   },
   {
    "duration": 289,
    "start_time": "2021-12-29T12:07:39.752Z"
   },
   {
    "duration": 50,
    "start_time": "2021-12-29T12:07:40.046Z"
   },
   {
    "duration": 504,
    "start_time": "2021-12-29T12:07:40.099Z"
   },
   {
    "duration": 881,
    "start_time": "2021-12-29T12:07:40.606Z"
   },
   {
    "duration": 1377,
    "start_time": "2021-12-29T12:07:41.489Z"
   },
   {
    "duration": 5,
    "start_time": "2021-12-29T12:07:42.869Z"
   },
   {
    "duration": 93,
    "start_time": "2021-12-29T12:07:42.878Z"
   },
   {
    "duration": 45,
    "start_time": "2021-12-29T12:07:42.973Z"
   },
   {
    "duration": 464,
    "start_time": "2021-12-29T12:07:43.021Z"
   },
   {
    "duration": 36,
    "start_time": "2021-12-29T12:07:43.488Z"
   },
   {
    "duration": 16,
    "start_time": "2021-12-29T12:07:43.527Z"
   },
   {
    "duration": 480,
    "start_time": "2021-12-29T12:07:43.545Z"
   },
   {
    "duration": 37,
    "start_time": "2021-12-29T12:07:44.028Z"
   },
   {
    "duration": 466,
    "start_time": "2021-12-29T12:07:44.067Z"
   },
   {
    "duration": 32,
    "start_time": "2021-12-29T12:07:44.535Z"
   },
   {
    "duration": 54,
    "start_time": "2021-12-29T12:07:44.570Z"
   },
   {
    "duration": 46,
    "start_time": "2021-12-29T12:07:44.627Z"
   },
   {
    "duration": 1791,
    "start_time": "2021-12-29T12:07:44.676Z"
   },
   {
    "duration": 9,
    "start_time": "2021-12-29T12:07:46.470Z"
   },
   {
    "duration": 354,
    "start_time": "2021-12-29T12:07:46.481Z"
   },
   {
    "duration": 486,
    "start_time": "2021-12-29T12:07:46.837Z"
   },
   {
    "duration": 5,
    "start_time": "2021-12-29T12:07:47.325Z"
   },
   {
    "duration": 36,
    "start_time": "2021-12-29T12:07:47.332Z"
   },
   {
    "duration": 11,
    "start_time": "2021-12-29T12:07:47.371Z"
   },
   {
    "duration": 16,
    "start_time": "2021-12-29T12:07:47.418Z"
   },
   {
    "duration": 259,
    "start_time": "2021-12-29T12:07:47.437Z"
   },
   {
    "duration": 26,
    "start_time": "2021-12-29T12:07:47.698Z"
   },
   {
    "duration": 352,
    "start_time": "2021-12-29T12:07:47.727Z"
   },
   {
    "duration": 379,
    "start_time": "2021-12-29T12:07:48.082Z"
   }
  ],
  "kernelspec": {
   "display_name": "Python 3",
   "language": "python",
   "name": "python3"
  },
  "language_info": {
   "codemirror_mode": {
    "name": "ipython",
    "version": 3
   },
   "file_extension": ".py",
   "mimetype": "text/x-python",
   "name": "python",
   "nbconvert_exporter": "python",
   "pygments_lexer": "ipython3",
   "version": "3.8.8"
  },
  "toc": {
   "base_numbering": 1,
   "nav_menu": {},
   "number_sections": true,
   "sideBar": true,
   "skip_h1_title": true,
   "title_cell": "Table of Contents",
   "title_sidebar": "Contents",
   "toc_cell": false,
   "toc_position": {
    "height": "calc(100% - 180px)",
    "left": "10px",
    "top": "150px",
    "width": "270.396px"
   },
   "toc_section_display": true,
   "toc_window_display": true
  }
 },
 "nbformat": 4,
 "nbformat_minor": 2
}
