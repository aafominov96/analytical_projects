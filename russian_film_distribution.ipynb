{
 "cells": [
  {
   "cell_type": "markdown",
   "metadata": {
    "id": "sIfNaMOxgFyK"
   },
   "source": [
    "## Исследование данных о российском кинопрокате\n",
    "\n"
   ]
  },
  {
   "cell_type": "markdown",
   "metadata": {},
   "source": [
    "Заказчик этого исследования — Министерство культуры Российской Федерации.\n",
    "\n",
    "Необходимо изучить рынок российского кинопроката и выявить текущие тренды. \n",
    "\n",
    "Дополнительное внимание необходимо уделить фильмам, которые получили государственную поддержку.\n",
    "\n",
    "Набор данных содержит информацию о прокатных удостоверениях, сборах и государственной поддержке фильмов, а также информацию с сайта КиноПоиск.\n",
    "\n",
    "**Цель исследования:** провести исследовательский анализ данных\n",
    "\n",
    "**Ход исследования:**\n",
    "1. Импорт и объединение данных\n",
    "2. Обзор данных\n",
    "3. Предварительная обработка данных\n",
    "4. Исследовательский анализ данных (в том числе дополнительный анализ данных фильмов с государственной поддержкой)\n",
    "\n",
    "**Используемые библиотеки:**\n",
    "1. pandas\n",
    "2. matplotlib.pyplot"
   ]
  },
  {
   "cell_type": "markdown",
   "metadata": {
    "id": "3bSlkCsbgFyL"
   },
   "source": [
    "### Импорт и объединение данных"
   ]
  },
  {
   "cell_type": "markdown",
   "metadata": {},
   "source": [
    "Подключение библиотек, необходимых для исследования:"
   ]
  },
  {
   "cell_type": "code",
   "execution_count": 1,
   "metadata": {
    "id": "dw87FlzMgFyM"
   },
   "outputs": [],
   "source": [
    "import pandas as pd\n",
    "import matplotlib.pyplot as plt"
   ]
  },
  {
   "cell_type": "markdown",
   "metadata": {},
   "source": [
    "Импорт данных:"
   ]
  },
  {
   "cell_type": "code",
   "execution_count": 2,
   "metadata": {},
   "outputs": [],
   "source": [
    "mkrf_movies = pd.read_csv('/datasets/mkrf_movies.csv')\n",
    "mkrf_shows = pd.read_csv('/datasets/mkrf_shows.csv')"
   ]
  },
  {
   "cell_type": "markdown",
   "metadata": {},
   "source": [
    "### Обзор данных"
   ]
  },
  {
   "cell_type": "markdown",
   "metadata": {},
   "source": [
    "Перед объединением данных необходимо провести их общий обзор:"
   ]
  },
  {
   "cell_type": "code",
   "execution_count": 3,
   "metadata": {},
   "outputs": [
    {
     "name": "stdout",
     "output_type": "stream",
     "text": [
      "<class 'pandas.core.frame.DataFrame'>\n",
      "RangeIndex: 7486 entries, 0 to 7485\n",
      "Data columns (total 15 columns):\n",
      "title                    7486 non-null object\n",
      "puNumber                 7486 non-null object\n",
      "show_start_date          7486 non-null object\n",
      "type                     7486 non-null object\n",
      "film_studio              7468 non-null object\n",
      "production_country       7484 non-null object\n",
      "director                 7477 non-null object\n",
      "producer                 6918 non-null object\n",
      "age_restriction          7486 non-null object\n",
      "refundable_support       332 non-null float64\n",
      "nonrefundable_support    332 non-null float64\n",
      "budget                   332 non-null float64\n",
      "financing_source         332 non-null object\n",
      "ratings                  6519 non-null object\n",
      "genres                   6510 non-null object\n",
      "dtypes: float64(3), object(12)\n",
      "memory usage: 877.4+ KB\n",
      "--------------\n",
      "<class 'pandas.core.frame.DataFrame'>\n",
      "RangeIndex: 3158 entries, 0 to 3157\n",
      "Data columns (total 2 columns):\n",
      "puNumber      3158 non-null int64\n",
      "box_office    3158 non-null float64\n",
      "dtypes: float64(1), int64(1)\n",
      "memory usage: 49.5 KB\n"
     ]
    }
   ],
   "source": [
    "mkrf_movies.info()\n",
    "print('--------------')\n",
    "mkrf_shows.info()"
   ]
  },
  {
   "cell_type": "markdown",
   "metadata": {},
   "source": [
    "Данные необходимо объединить по номеру прокатного удостоверения, однако эти столбцы в двух наборах данных имеют разный тип, поэтому выполним преобразование к числовому типу данных и произведем объединение:"
   ]
  },
  {
   "cell_type": "code",
   "execution_count": 4,
   "metadata": {},
   "outputs": [],
   "source": [
    "mkrf_movies['puNumber'] = pd.to_numeric(mkrf_movies['puNumber'], errors='coerce')\n",
    "films = mkrf_movies.merge(mkrf_shows, how='left')"
   ]
  },
  {
   "cell_type": "markdown",
   "metadata": {},
   "source": [
    "Объединение данных произошло успешно. Теперь необходимо провести обзор данных:"
   ]
  },
  {
   "cell_type": "code",
   "execution_count": 5,
   "metadata": {
    "scrolled": false
   },
   "outputs": [
    {
     "data": {
      "text/html": [
       "<div>\n",
       "<style scoped>\n",
       "    .dataframe tbody tr th:only-of-type {\n",
       "        vertical-align: middle;\n",
       "    }\n",
       "\n",
       "    .dataframe tbody tr th {\n",
       "        vertical-align: top;\n",
       "    }\n",
       "\n",
       "    .dataframe thead th {\n",
       "        text-align: right;\n",
       "    }\n",
       "</style>\n",
       "<table border=\"1\" class=\"dataframe\">\n",
       "  <thead>\n",
       "    <tr style=\"text-align: right;\">\n",
       "      <th></th>\n",
       "      <th>title</th>\n",
       "      <th>puNumber</th>\n",
       "      <th>show_start_date</th>\n",
       "      <th>type</th>\n",
       "      <th>film_studio</th>\n",
       "      <th>production_country</th>\n",
       "      <th>director</th>\n",
       "      <th>producer</th>\n",
       "      <th>age_restriction</th>\n",
       "      <th>refundable_support</th>\n",
       "      <th>nonrefundable_support</th>\n",
       "      <th>budget</th>\n",
       "      <th>financing_source</th>\n",
       "      <th>ratings</th>\n",
       "      <th>genres</th>\n",
       "      <th>box_office</th>\n",
       "    </tr>\n",
       "  </thead>\n",
       "  <tbody>\n",
       "    <tr>\n",
       "      <td>0</td>\n",
       "      <td>Открытый простор</td>\n",
       "      <td>221048915.0</td>\n",
       "      <td>2015-11-27T12:00:00.000Z</td>\n",
       "      <td>Художественный</td>\n",
       "      <td>Тачстоун Пикчерз, Кобальт Пикчерз, Бикон Пикче...</td>\n",
       "      <td>США</td>\n",
       "      <td>Кевин Костнер</td>\n",
       "      <td>Дэвид Валдес, Кевин Костнер, Джейк Эбертс</td>\n",
       "      <td>«18+» - запрещено для детей</td>\n",
       "      <td>NaN</td>\n",
       "      <td>NaN</td>\n",
       "      <td>NaN</td>\n",
       "      <td>NaN</td>\n",
       "      <td>7.2</td>\n",
       "      <td>боевик,драма,мелодрама</td>\n",
       "      <td>NaN</td>\n",
       "    </tr>\n",
       "    <tr>\n",
       "      <td>1</td>\n",
       "      <td>Особо важное задание</td>\n",
       "      <td>111013716.0</td>\n",
       "      <td>2016-09-13T12:00:00.000Z</td>\n",
       "      <td>Художественный</td>\n",
       "      <td>Киностудия \"Мосфильм\"</td>\n",
       "      <td>СССР</td>\n",
       "      <td>Е.Матвеев</td>\n",
       "      <td>NaN</td>\n",
       "      <td>«6+» - для детей старше 6 лет</td>\n",
       "      <td>NaN</td>\n",
       "      <td>NaN</td>\n",
       "      <td>NaN</td>\n",
       "      <td>NaN</td>\n",
       "      <td>6.6</td>\n",
       "      <td>драма,военный</td>\n",
       "      <td>NaN</td>\n",
       "    </tr>\n",
       "    <tr>\n",
       "      <td>2</td>\n",
       "      <td>Особо опасен</td>\n",
       "      <td>221038416.0</td>\n",
       "      <td>2016-10-10T12:00:00.000Z</td>\n",
       "      <td>Художественный</td>\n",
       "      <td>Юниверсал Пикчерз, Кикстарт Продакшнз, Марк Пл...</td>\n",
       "      <td>США</td>\n",
       "      <td>Тимур Бекмамбетов</td>\n",
       "      <td>Джим Лемли, Джейсон Нетер, Марк Е.Платт, Яйн Смит</td>\n",
       "      <td>«18+» - запрещено для детей</td>\n",
       "      <td>NaN</td>\n",
       "      <td>NaN</td>\n",
       "      <td>NaN</td>\n",
       "      <td>NaN</td>\n",
       "      <td>6.8</td>\n",
       "      <td>фантастика,боевик,триллер</td>\n",
       "      <td>NaN</td>\n",
       "    </tr>\n",
       "    <tr>\n",
       "      <td>3</td>\n",
       "      <td>Особо опасен</td>\n",
       "      <td>221026916.0</td>\n",
       "      <td>2016-06-10T12:00:00.000Z</td>\n",
       "      <td>Художественный</td>\n",
       "      <td>Юниверсал Пикчерз, Кикстарт Продакшнз, Марк Пл...</td>\n",
       "      <td>США</td>\n",
       "      <td>Тимур Бекмамбетов</td>\n",
       "      <td>Джим Лемли, Джейсон Нетер, Марк Е.Платт, Яйн Смит</td>\n",
       "      <td>«18+» - запрещено для детей</td>\n",
       "      <td>NaN</td>\n",
       "      <td>NaN</td>\n",
       "      <td>NaN</td>\n",
       "      <td>NaN</td>\n",
       "      <td>6.8</td>\n",
       "      <td>фантастика,боевик,триллер</td>\n",
       "      <td>NaN</td>\n",
       "    </tr>\n",
       "    <tr>\n",
       "      <td>4</td>\n",
       "      <td>Особо опасен</td>\n",
       "      <td>221030815.0</td>\n",
       "      <td>2015-07-29T12:00:00.000Z</td>\n",
       "      <td>Художественный</td>\n",
       "      <td>Юниверсал Пикчерз, Кикстарт Продакшнз, Марк Пл...</td>\n",
       "      <td>США</td>\n",
       "      <td>Тимур Бекмамбетов</td>\n",
       "      <td>Джим Лемли, Джейсон Нетер, Марк Е.Платт, Яйн Смит</td>\n",
       "      <td>«18+» - запрещено для детей</td>\n",
       "      <td>NaN</td>\n",
       "      <td>NaN</td>\n",
       "      <td>NaN</td>\n",
       "      <td>NaN</td>\n",
       "      <td>6.8</td>\n",
       "      <td>фантастика,боевик,триллер</td>\n",
       "      <td>NaN</td>\n",
       "    </tr>\n",
       "  </tbody>\n",
       "</table>\n",
       "</div>"
      ],
      "text/plain": [
       "                  title     puNumber           show_start_date  \\\n",
       "0      Открытый простор  221048915.0  2015-11-27T12:00:00.000Z   \n",
       "1  Особо важное задание  111013716.0  2016-09-13T12:00:00.000Z   \n",
       "2          Особо опасен  221038416.0  2016-10-10T12:00:00.000Z   \n",
       "3          Особо опасен  221026916.0  2016-06-10T12:00:00.000Z   \n",
       "4          Особо опасен  221030815.0  2015-07-29T12:00:00.000Z   \n",
       "\n",
       "             type                                        film_studio  \\\n",
       "0  Художественный  Тачстоун Пикчерз, Кобальт Пикчерз, Бикон Пикче...   \n",
       "1  Художественный                              Киностудия \"Мосфильм\"   \n",
       "2  Художественный  Юниверсал Пикчерз, Кикстарт Продакшнз, Марк Пл...   \n",
       "3  Художественный  Юниверсал Пикчерз, Кикстарт Продакшнз, Марк Пл...   \n",
       "4  Художественный  Юниверсал Пикчерз, Кикстарт Продакшнз, Марк Пл...   \n",
       "\n",
       "  production_country           director  \\\n",
       "0                США      Кевин Костнер   \n",
       "1               СССР          Е.Матвеев   \n",
       "2                США  Тимур Бекмамбетов   \n",
       "3                США  Тимур Бекмамбетов   \n",
       "4                США  Тимур Бекмамбетов   \n",
       "\n",
       "                                            producer  \\\n",
       "0          Дэвид Валдес, Кевин Костнер, Джейк Эбертс   \n",
       "1                                                NaN   \n",
       "2  Джим Лемли, Джейсон Нетер, Марк Е.Платт, Яйн Смит   \n",
       "3  Джим Лемли, Джейсон Нетер, Марк Е.Платт, Яйн Смит   \n",
       "4  Джим Лемли, Джейсон Нетер, Марк Е.Платт, Яйн Смит   \n",
       "\n",
       "                 age_restriction  refundable_support  nonrefundable_support  \\\n",
       "0    «18+» - запрещено для детей                 NaN                    NaN   \n",
       "1  «6+» - для детей старше 6 лет                 NaN                    NaN   \n",
       "2    «18+» - запрещено для детей                 NaN                    NaN   \n",
       "3    «18+» - запрещено для детей                 NaN                    NaN   \n",
       "4    «18+» - запрещено для детей                 NaN                    NaN   \n",
       "\n",
       "   budget financing_source ratings                     genres  box_office  \n",
       "0     NaN              NaN     7.2     боевик,драма,мелодрама         NaN  \n",
       "1     NaN              NaN     6.6              драма,военный         NaN  \n",
       "2     NaN              NaN     6.8  фантастика,боевик,триллер         NaN  \n",
       "3     NaN              NaN     6.8  фантастика,боевик,триллер         NaN  \n",
       "4     NaN              NaN     6.8  фантастика,боевик,триллер         NaN  "
      ]
     },
     "metadata": {},
     "output_type": "display_data"
    },
    {
     "name": "stdout",
     "output_type": "stream",
     "text": [
      "<class 'pandas.core.frame.DataFrame'>\n",
      "Int64Index: 7486 entries, 0 to 7485\n",
      "Data columns (total 16 columns):\n",
      "title                    7486 non-null object\n",
      "puNumber                 7485 non-null float64\n",
      "show_start_date          7486 non-null object\n",
      "type                     7486 non-null object\n",
      "film_studio              7468 non-null object\n",
      "production_country       7484 non-null object\n",
      "director                 7477 non-null object\n",
      "producer                 6918 non-null object\n",
      "age_restriction          7486 non-null object\n",
      "refundable_support       332 non-null float64\n",
      "nonrefundable_support    332 non-null float64\n",
      "budget                   332 non-null float64\n",
      "financing_source         332 non-null object\n",
      "ratings                  6519 non-null object\n",
      "genres                   6510 non-null object\n",
      "box_office               3158 non-null float64\n",
      "dtypes: float64(5), object(11)\n",
      "memory usage: 994.2+ KB\n"
     ]
    },
    {
     "data": {
      "text/html": [
       "<div>\n",
       "<style scoped>\n",
       "    .dataframe tbody tr th:only-of-type {\n",
       "        vertical-align: middle;\n",
       "    }\n",
       "\n",
       "    .dataframe tbody tr th {\n",
       "        vertical-align: top;\n",
       "    }\n",
       "\n",
       "    .dataframe thead th {\n",
       "        text-align: right;\n",
       "    }\n",
       "</style>\n",
       "<table border=\"1\" class=\"dataframe\">\n",
       "  <thead>\n",
       "    <tr style=\"text-align: right;\">\n",
       "      <th></th>\n",
       "      <th>puNumber</th>\n",
       "      <th>refundable_support</th>\n",
       "      <th>nonrefundable_support</th>\n",
       "      <th>budget</th>\n",
       "      <th>box_office</th>\n",
       "    </tr>\n",
       "  </thead>\n",
       "  <tbody>\n",
       "    <tr>\n",
       "      <td>count</td>\n",
       "      <td>7.485000e+03</td>\n",
       "      <td>3.320000e+02</td>\n",
       "      <td>3.320000e+02</td>\n",
       "      <td>3.320000e+02</td>\n",
       "      <td>3.158000e+03</td>\n",
       "    </tr>\n",
       "    <tr>\n",
       "      <td>mean</td>\n",
       "      <td>1.351966e+08</td>\n",
       "      <td>1.186446e+07</td>\n",
       "      <td>4.898099e+07</td>\n",
       "      <td>1.272297e+08</td>\n",
       "      <td>7.647870e+07</td>\n",
       "    </tr>\n",
       "    <tr>\n",
       "      <td>std</td>\n",
       "      <td>3.835292e+07</td>\n",
       "      <td>2.491656e+07</td>\n",
       "      <td>5.998012e+07</td>\n",
       "      <td>1.885883e+08</td>\n",
       "      <td>2.403531e+08</td>\n",
       "    </tr>\n",
       "    <tr>\n",
       "      <td>min</td>\n",
       "      <td>1.811096e+06</td>\n",
       "      <td>0.000000e+00</td>\n",
       "      <td>0.000000e+00</td>\n",
       "      <td>0.000000e+00</td>\n",
       "      <td>0.000000e+00</td>\n",
       "    </tr>\n",
       "    <tr>\n",
       "      <td>25%</td>\n",
       "      <td>1.120251e+08</td>\n",
       "      <td>0.000000e+00</td>\n",
       "      <td>2.500000e+07</td>\n",
       "      <td>4.200000e+07</td>\n",
       "      <td>8.623900e+04</td>\n",
       "    </tr>\n",
       "    <tr>\n",
       "      <td>50%</td>\n",
       "      <td>1.210155e+08</td>\n",
       "      <td>0.000000e+00</td>\n",
       "      <td>3.000000e+07</td>\n",
       "      <td>6.864992e+07</td>\n",
       "      <td>2.327988e+06</td>\n",
       "    </tr>\n",
       "    <tr>\n",
       "      <td>75%</td>\n",
       "      <td>1.240033e+08</td>\n",
       "      <td>1.500000e+07</td>\n",
       "      <td>4.037500e+07</td>\n",
       "      <td>1.419853e+08</td>\n",
       "      <td>2.397967e+07</td>\n",
       "    </tr>\n",
       "    <tr>\n",
       "      <td>max</td>\n",
       "      <td>2.310011e+08</td>\n",
       "      <td>1.800000e+08</td>\n",
       "      <td>4.000000e+08</td>\n",
       "      <td>2.305074e+09</td>\n",
       "      <td>3.073569e+09</td>\n",
       "    </tr>\n",
       "  </tbody>\n",
       "</table>\n",
       "</div>"
      ],
      "text/plain": [
       "           puNumber  refundable_support  nonrefundable_support        budget  \\\n",
       "count  7.485000e+03        3.320000e+02           3.320000e+02  3.320000e+02   \n",
       "mean   1.351966e+08        1.186446e+07           4.898099e+07  1.272297e+08   \n",
       "std    3.835292e+07        2.491656e+07           5.998012e+07  1.885883e+08   \n",
       "min    1.811096e+06        0.000000e+00           0.000000e+00  0.000000e+00   \n",
       "25%    1.120251e+08        0.000000e+00           2.500000e+07  4.200000e+07   \n",
       "50%    1.210155e+08        0.000000e+00           3.000000e+07  6.864992e+07   \n",
       "75%    1.240033e+08        1.500000e+07           4.037500e+07  1.419853e+08   \n",
       "max    2.310011e+08        1.800000e+08           4.000000e+08  2.305074e+09   \n",
       "\n",
       "         box_office  \n",
       "count  3.158000e+03  \n",
       "mean   7.647870e+07  \n",
       "std    2.403531e+08  \n",
       "min    0.000000e+00  \n",
       "25%    8.623900e+04  \n",
       "50%    2.327988e+06  \n",
       "75%    2.397967e+07  \n",
       "max    3.073569e+09  "
      ]
     },
     "metadata": {},
     "output_type": "display_data"
    }
   ],
   "source": [
    "display(films.head())\n",
    "films.info()\n",
    "display(films.describe())"
   ]
  },
  {
   "cell_type": "markdown",
   "metadata": {},
   "source": [
    "В таблице 16 столбцов с различными типами данных и 7486 строк. Согласно документации к набору данных:\n",
    "\n",
    "* title — название фильма;\n",
    "* puNumber — номер прокатного удостоверения;\n",
    "* show_start_date — дата премьеры фильма;\n",
    "* type — тип фильма;\n",
    "* film_studio — студия-производитель;\n",
    "* production_country — страна-производитель;\n",
    "* director — режиссёр;\n",
    "* producer — продюсер;\n",
    "* age_restriction — возрастная категория;\n",
    "* refundable_support — объём возвратных средств государственной поддержки;\n",
    "* nonrefundable_support — объём невозвратных средств государственной поддержки;\n",
    "* financing_source — источник государственного финансирования;\n",
    "* budget — общий бюджет фильма;\n",
    "* ratings — рейтинг фильма на КиноПоиске;\n",
    "* genres — жанр фильма;\n",
    "* box_office — сборы в рублях в российских кинотеатрах.\n",
    "\n",
    "Cтолбец budget уже включает в себя полный объём государственной поддержки. Данные в этом столбце указаны только для тех фильмов, которые получили государственную поддержку."
   ]
  },
  {
   "cell_type": "markdown",
   "metadata": {},
   "source": [
    "Общий обзор данных позволяет обнаружить несколько проблем:\n",
    "1. В большинстве столбцов присутствуют пропуски (часть из них вызвано объединением данных)\n",
    "2. В данных присутствуют неявные дубликаты\n",
    "3. В некоторых столбцах неверный тип данных\n",
    "4. Присутствуют аномальные значения (например, нулевой бюджет фильма)."
   ]
  },
  {
   "cell_type": "markdown",
   "metadata": {},
   "source": [
    "#### Вывод\n",
    "\n",
    "После обзора данных можно предварительно заключить, что данные являются достаточными для проведения исследования, однако необходима предварительная обработка для корректности исследования."
   ]
  },
  {
   "cell_type": "markdown",
   "metadata": {
    "id": "KLDGpPG0gFyM"
   },
   "source": [
    "### Предобработка данных"
   ]
  },
  {
   "cell_type": "markdown",
   "metadata": {
    "id": "ssWwKXsxgFyO"
   },
   "source": [
    "#### Обработка типов данных"
   ]
  },
  {
   "cell_type": "markdown",
   "metadata": {
    "id": "kVGSplJOgFyO"
   },
   "source": [
    "Тип данных в столбце ratings требует приведения к вещественному типу:"
   ]
  },
  {
   "cell_type": "code",
   "execution_count": 6,
   "metadata": {},
   "outputs": [],
   "source": [
    "films.ratings = pd.to_numeric(films.ratings, errors='coerce')"
   ]
  },
  {
   "cell_type": "markdown",
   "metadata": {},
   "source": [
    "Тип данных в столбце puNumber требует приведения к целочисленному (он был изменен в процессе объединения двух источников данных). Однако из-за наличия пропущенного значения, приведение к целочисленному типу данных невозможно. Так как пропущенное значение всего одно, заменим его на -1 и приведем тип данных к целочисленному."
   ]
  },
  {
   "cell_type": "code",
   "execution_count": 7,
   "metadata": {},
   "outputs": [],
   "source": [
    "films.puNumber = films.puNumber.fillna(-1).astype('int64')"
   ]
  },
  {
   "cell_type": "markdown",
   "metadata": {},
   "source": [
    "Дополнительно обработаем столбец show_start_date и переведем его в привычный читаемый формат:"
   ]
  },
  {
   "cell_type": "code",
   "execution_count": 8,
   "metadata": {},
   "outputs": [],
   "source": [
    "films.show_start_date = pd.to_datetime(films.show_start_date, format='%Y-%m-%dT%H:%M:%S.%fZ')"
   ]
  },
  {
   "cell_type": "markdown",
   "metadata": {},
   "source": [
    "##### Вывод\n",
    "\n",
    "Все столбцы приведены к типам данных, соответствующим их смысловым наполнениям."
   ]
  },
  {
   "cell_type": "markdown",
   "metadata": {
    "id": "i0MOLbF-gFyP"
   },
   "source": [
    "#### Обработка пропусков в данных"
   ]
  },
  {
   "cell_type": "markdown",
   "metadata": {},
   "source": [
    "В данных довольно большое количество пропусков в разных столбцах.\n",
    "\n",
    "Единственный пропуск в столбце puNumber был обработан на этапе приведения типов данных и заполнен значением -1.\n",
    "\n",
    "Далее проверим пропущенные значения в film_studio:"
   ]
  },
  {
   "cell_type": "code",
   "execution_count": 9,
   "metadata": {},
   "outputs": [
    {
     "data": {
      "text/html": [
       "<div>\n",
       "<style scoped>\n",
       "    .dataframe tbody tr th:only-of-type {\n",
       "        vertical-align: middle;\n",
       "    }\n",
       "\n",
       "    .dataframe tbody tr th {\n",
       "        vertical-align: top;\n",
       "    }\n",
       "\n",
       "    .dataframe thead th {\n",
       "        text-align: right;\n",
       "    }\n",
       "</style>\n",
       "<table border=\"1\" class=\"dataframe\">\n",
       "  <thead>\n",
       "    <tr style=\"text-align: right;\">\n",
       "      <th></th>\n",
       "      <th>title</th>\n",
       "      <th>puNumber</th>\n",
       "      <th>show_start_date</th>\n",
       "      <th>type</th>\n",
       "      <th>film_studio</th>\n",
       "      <th>production_country</th>\n",
       "      <th>director</th>\n",
       "      <th>producer</th>\n",
       "      <th>age_restriction</th>\n",
       "      <th>refundable_support</th>\n",
       "      <th>nonrefundable_support</th>\n",
       "      <th>budget</th>\n",
       "      <th>financing_source</th>\n",
       "      <th>ratings</th>\n",
       "      <th>genres</th>\n",
       "      <th>box_office</th>\n",
       "    </tr>\n",
       "  </thead>\n",
       "  <tbody>\n",
       "    <tr>\n",
       "      <td>1293</td>\n",
       "      <td>Stars in Shorts</td>\n",
       "      <td>121011114</td>\n",
       "      <td>2014-06-03 12:00:00</td>\n",
       "      <td>Художественный</td>\n",
       "      <td>NaN</td>\n",
       "      <td>США, Великобритания</td>\n",
       "      <td>Роберт Фестингер, Руперт Френд, Джей Камен, Ни...</td>\n",
       "      <td>Татьяна Келли, Роберта Мунро, Руперт Френд, До...</td>\n",
       "      <td>«16+» - для детей старше 16 лет</td>\n",
       "      <td>NaN</td>\n",
       "      <td>NaN</td>\n",
       "      <td>NaN</td>\n",
       "      <td>NaN</td>\n",
       "      <td>7.3</td>\n",
       "      <td>комедия</td>\n",
       "      <td>NaN</td>\n",
       "    </tr>\n",
       "    <tr>\n",
       "      <td>4441</td>\n",
       "      <td>Мульт личности. Выпуск 5</td>\n",
       "      <td>214000410</td>\n",
       "      <td>2010-01-25 12:00:00</td>\n",
       "      <td>Художественный</td>\n",
       "      <td>NaN</td>\n",
       "      <td>NaN</td>\n",
       "      <td>NaN</td>\n",
       "      <td>NaN</td>\n",
       "      <td>«0+» - для любой зрительской аудитории</td>\n",
       "      <td>NaN</td>\n",
       "      <td>NaN</td>\n",
       "      <td>NaN</td>\n",
       "      <td>NaN</td>\n",
       "      <td>4.0</td>\n",
       "      <td>мультфильм,комедия</td>\n",
       "      <td>NaN</td>\n",
       "    </tr>\n",
       "    <tr>\n",
       "      <td>6105</td>\n",
       "      <td>Значит любит</td>\n",
       "      <td>111013818</td>\n",
       "      <td>2018-08-10 12:00:00</td>\n",
       "      <td>Художественный</td>\n",
       "      <td>NaN</td>\n",
       "      <td>Россия</td>\n",
       "      <td>А.Краевский</td>\n",
       "      <td>Е.Щербакова</td>\n",
       "      <td>«18+» - запрещено для детей</td>\n",
       "      <td>NaN</td>\n",
       "      <td>NaN</td>\n",
       "      <td>NaN</td>\n",
       "      <td>NaN</td>\n",
       "      <td>NaN</td>\n",
       "      <td>NaN</td>\n",
       "      <td>NaN</td>\n",
       "    </tr>\n",
       "    <tr>\n",
       "      <td>6181</td>\n",
       "      <td>Несейка. Младшая дочь</td>\n",
       "      <td>112007018</td>\n",
       "      <td>2018-09-01 12:00:00</td>\n",
       "      <td>Документальный</td>\n",
       "      <td>NaN</td>\n",
       "      <td>Россия</td>\n",
       "      <td>В.Марин</td>\n",
       "      <td>Д.Якунин, Ф.Абрютин, О.Филонова</td>\n",
       "      <td>«6+» - для детей старше 6 лет</td>\n",
       "      <td>NaN</td>\n",
       "      <td>NaN</td>\n",
       "      <td>NaN</td>\n",
       "      <td>NaN</td>\n",
       "      <td>NaN</td>\n",
       "      <td>NaN</td>\n",
       "      <td>NaN</td>\n",
       "    </tr>\n",
       "    <tr>\n",
       "      <td>6379</td>\n",
       "      <td>Ян Антонышев</td>\n",
       "      <td>112011818</td>\n",
       "      <td>2018-11-15 12:00:00</td>\n",
       "      <td>Документальный</td>\n",
       "      <td>NaN</td>\n",
       "      <td>Россия</td>\n",
       "      <td>Е.Окопная</td>\n",
       "      <td>Е.Герасимов</td>\n",
       "      <td>«12+» - для детей старше 12 лет</td>\n",
       "      <td>NaN</td>\n",
       "      <td>NaN</td>\n",
       "      <td>NaN</td>\n",
       "      <td>NaN</td>\n",
       "      <td>NaN</td>\n",
       "      <td>NaN</td>\n",
       "      <td>NaN</td>\n",
       "    </tr>\n",
       "  </tbody>\n",
       "</table>\n",
       "</div>"
      ],
      "text/plain": [
       "                         title   puNumber     show_start_date  \\\n",
       "1293           Stars in Shorts  121011114 2014-06-03 12:00:00   \n",
       "4441  Мульт личности. Выпуск 5  214000410 2010-01-25 12:00:00   \n",
       "6105              Значит любит  111013818 2018-08-10 12:00:00   \n",
       "6181     Несейка. Младшая дочь  112007018 2018-09-01 12:00:00   \n",
       "6379              Ян Антонышев  112011818 2018-11-15 12:00:00   \n",
       "\n",
       "                 type film_studio   production_country  \\\n",
       "1293   Художественный         NaN  США, Великобритания   \n",
       "4441   Художественный         NaN                  NaN   \n",
       "6105   Художественный         NaN               Россия   \n",
       "6181   Документальный         NaN               Россия   \n",
       "6379   Документальный         NaN               Россия   \n",
       "\n",
       "                                               director  \\\n",
       "1293  Роберт Фестингер, Руперт Френд, Джей Камен, Ни...   \n",
       "4441                                                NaN   \n",
       "6105                                        А.Краевский   \n",
       "6181                                            В.Марин   \n",
       "6379                                          Е.Окопная   \n",
       "\n",
       "                                               producer  \\\n",
       "1293  Татьяна Келли, Роберта Мунро, Руперт Френд, До...   \n",
       "4441                                                NaN   \n",
       "6105                                        Е.Щербакова   \n",
       "6181                    Д.Якунин, Ф.Абрютин, О.Филонова   \n",
       "6379                                        Е.Герасимов   \n",
       "\n",
       "                             age_restriction  refundable_support  \\\n",
       "1293         «16+» - для детей старше 16 лет                 NaN   \n",
       "4441  «0+» - для любой зрительской аудитории                 NaN   \n",
       "6105             «18+» - запрещено для детей                 NaN   \n",
       "6181           «6+» - для детей старше 6 лет                 NaN   \n",
       "6379         «12+» - для детей старше 12 лет                 NaN   \n",
       "\n",
       "      nonrefundable_support  budget financing_source  ratings  \\\n",
       "1293                    NaN     NaN              NaN      7.3   \n",
       "4441                    NaN     NaN              NaN      4.0   \n",
       "6105                    NaN     NaN              NaN      NaN   \n",
       "6181                    NaN     NaN              NaN      NaN   \n",
       "6379                    NaN     NaN              NaN      NaN   \n",
       "\n",
       "                  genres  box_office  \n",
       "1293             комедия         NaN  \n",
       "4441  мультфильм,комедия         NaN  \n",
       "6105                 NaN         NaN  \n",
       "6181                 NaN         NaN  \n",
       "6379                 NaN         NaN  "
      ]
     },
     "execution_count": 9,
     "metadata": {},
     "output_type": "execute_result"
    }
   ],
   "source": [
    "films[films.film_studio.isna()].head()"
   ]
  },
  {
   "cell_type": "markdown",
   "metadata": {},
   "source": [
    "Никаких закономерностей в пропусках названия студии не наблюдается, поэтому заполним пропуски фразой \"unknown studio\" (в качестве альтернативы возможно заполнение пропусков ручным поиском студии производства каждого фильма в разнообразных источниках, однако, данный подход нецелесообразен)."
   ]
  },
  {
   "cell_type": "code",
   "execution_count": 10,
   "metadata": {},
   "outputs": [],
   "source": [
    "films.film_studio.fillna('unknown studio', inplace=True)"
   ]
  },
  {
   "cell_type": "markdown",
   "metadata": {},
   "source": [
    "Проверим пропущенные значения в production_country:"
   ]
  },
  {
   "cell_type": "code",
   "execution_count": 11,
   "metadata": {},
   "outputs": [
    {
     "data": {
      "text/html": [
       "<div>\n",
       "<style scoped>\n",
       "    .dataframe tbody tr th:only-of-type {\n",
       "        vertical-align: middle;\n",
       "    }\n",
       "\n",
       "    .dataframe tbody tr th {\n",
       "        vertical-align: top;\n",
       "    }\n",
       "\n",
       "    .dataframe thead th {\n",
       "        text-align: right;\n",
       "    }\n",
       "</style>\n",
       "<table border=\"1\" class=\"dataframe\">\n",
       "  <thead>\n",
       "    <tr style=\"text-align: right;\">\n",
       "      <th></th>\n",
       "      <th>title</th>\n",
       "      <th>puNumber</th>\n",
       "      <th>show_start_date</th>\n",
       "      <th>type</th>\n",
       "      <th>film_studio</th>\n",
       "      <th>production_country</th>\n",
       "      <th>director</th>\n",
       "      <th>producer</th>\n",
       "      <th>age_restriction</th>\n",
       "      <th>refundable_support</th>\n",
       "      <th>nonrefundable_support</th>\n",
       "      <th>budget</th>\n",
       "      <th>financing_source</th>\n",
       "      <th>ratings</th>\n",
       "      <th>genres</th>\n",
       "      <th>box_office</th>\n",
       "    </tr>\n",
       "  </thead>\n",
       "  <tbody>\n",
       "    <tr>\n",
       "      <td>3186</td>\n",
       "      <td>Детский юмористический киножурнал \"Ералаш. Ну ...</td>\n",
       "      <td>111001216</td>\n",
       "      <td>2016-02-09 12:00:00</td>\n",
       "      <td>Художественный</td>\n",
       "      <td>ООО \"Продюсерский центр ЕРАЛАШ\"</td>\n",
       "      <td>NaN</td>\n",
       "      <td>Р.Светлов, И.Магитон, А.Арутюнян, Л.Мирский, А...</td>\n",
       "      <td>ООО \"Продюсерский центр ЕРАЛАШ\"</td>\n",
       "      <td>«0+» - для любой зрительской аудитории</td>\n",
       "      <td>NaN</td>\n",
       "      <td>NaN</td>\n",
       "      <td>NaN</td>\n",
       "      <td>NaN</td>\n",
       "      <td>7.2</td>\n",
       "      <td>детский,комедия</td>\n",
       "      <td>194527.0</td>\n",
       "    </tr>\n",
       "    <tr>\n",
       "      <td>4441</td>\n",
       "      <td>Мульт личности. Выпуск 5</td>\n",
       "      <td>214000410</td>\n",
       "      <td>2010-01-25 12:00:00</td>\n",
       "      <td>Художественный</td>\n",
       "      <td>unknown studio</td>\n",
       "      <td>NaN</td>\n",
       "      <td>NaN</td>\n",
       "      <td>NaN</td>\n",
       "      <td>«0+» - для любой зрительской аудитории</td>\n",
       "      <td>NaN</td>\n",
       "      <td>NaN</td>\n",
       "      <td>NaN</td>\n",
       "      <td>NaN</td>\n",
       "      <td>4.0</td>\n",
       "      <td>мультфильм,комедия</td>\n",
       "      <td>NaN</td>\n",
       "    </tr>\n",
       "  </tbody>\n",
       "</table>\n",
       "</div>"
      ],
      "text/plain": [
       "                                                  title   puNumber  \\\n",
       "3186  Детский юмористический киножурнал \"Ералаш. Ну ...  111001216   \n",
       "4441                           Мульт личности. Выпуск 5  214000410   \n",
       "\n",
       "         show_start_date            type                      film_studio  \\\n",
       "3186 2016-02-09 12:00:00  Художественный  ООО \"Продюсерский центр ЕРАЛАШ\"   \n",
       "4441 2010-01-25 12:00:00  Художественный                   unknown studio   \n",
       "\n",
       "     production_country                                           director  \\\n",
       "3186                NaN  Р.Светлов, И.Магитон, А.Арутюнян, Л.Мирский, А...   \n",
       "4441                NaN                                                NaN   \n",
       "\n",
       "                             producer                         age_restriction  \\\n",
       "3186  ООО \"Продюсерский центр ЕРАЛАШ\"  «0+» - для любой зрительской аудитории   \n",
       "4441                              NaN  «0+» - для любой зрительской аудитории   \n",
       "\n",
       "      refundable_support  nonrefundable_support  budget financing_source  \\\n",
       "3186                 NaN                    NaN     NaN              NaN   \n",
       "4441                 NaN                    NaN     NaN              NaN   \n",
       "\n",
       "      ratings              genres  box_office  \n",
       "3186      7.2     детский,комедия    194527.0  \n",
       "4441      4.0  мультфильм,комедия         NaN  "
      ]
     },
     "execution_count": 11,
     "metadata": {},
     "output_type": "execute_result"
    }
   ],
   "source": [
    "films[films.production_country.isna()].head()"
   ]
  },
  {
   "cell_type": "markdown",
   "metadata": {},
   "source": [
    "Таких пропусков всего два, поэтому можно вручную заполнить недостающие данные в столбце, уточнив данные в открытых источниках. Оба фильма произведены в России."
   ]
  },
  {
   "cell_type": "code",
   "execution_count": 12,
   "metadata": {},
   "outputs": [],
   "source": [
    "films.production_country.fillna('Россия', inplace=True)"
   ]
  },
  {
   "cell_type": "markdown",
   "metadata": {},
   "source": [
    "Проверим пропущенные значения в столбцах director и producer:"
   ]
  },
  {
   "cell_type": "code",
   "execution_count": 13,
   "metadata": {},
   "outputs": [
    {
     "data": {
      "text/html": [
       "<div>\n",
       "<style scoped>\n",
       "    .dataframe tbody tr th:only-of-type {\n",
       "        vertical-align: middle;\n",
       "    }\n",
       "\n",
       "    .dataframe tbody tr th {\n",
       "        vertical-align: top;\n",
       "    }\n",
       "\n",
       "    .dataframe thead th {\n",
       "        text-align: right;\n",
       "    }\n",
       "</style>\n",
       "<table border=\"1\" class=\"dataframe\">\n",
       "  <thead>\n",
       "    <tr style=\"text-align: right;\">\n",
       "      <th></th>\n",
       "      <th>title</th>\n",
       "      <th>puNumber</th>\n",
       "      <th>show_start_date</th>\n",
       "      <th>type</th>\n",
       "      <th>film_studio</th>\n",
       "      <th>production_country</th>\n",
       "      <th>director</th>\n",
       "      <th>producer</th>\n",
       "      <th>age_restriction</th>\n",
       "      <th>refundable_support</th>\n",
       "      <th>nonrefundable_support</th>\n",
       "      <th>budget</th>\n",
       "      <th>financing_source</th>\n",
       "      <th>ratings</th>\n",
       "      <th>genres</th>\n",
       "      <th>box_office</th>\n",
       "    </tr>\n",
       "  </thead>\n",
       "  <tbody>\n",
       "    <tr>\n",
       "      <td>764</td>\n",
       "      <td>Три звезды. Концерт в Waldbuhne Theater, Берли...</td>\n",
       "      <td>126003512</td>\n",
       "      <td>2012-12-04 12:00:00</td>\n",
       "      <td>Прочие</td>\n",
       "      <td>Райзинг Алтернатив</td>\n",
       "      <td>Великобритания</td>\n",
       "      <td>NaN</td>\n",
       "      <td>Вальдбюне Театр</td>\n",
       "      <td>«0+» - для любой зрительской аудитории</td>\n",
       "      <td>NaN</td>\n",
       "      <td>NaN</td>\n",
       "      <td>NaN</td>\n",
       "      <td>NaN</td>\n",
       "      <td>NaN</td>\n",
       "      <td>NaN</td>\n",
       "      <td>44350.0</td>\n",
       "    </tr>\n",
       "    <tr>\n",
       "      <td>1735</td>\n",
       "      <td>Помпеи. Британский музей</td>\n",
       "      <td>126003413</td>\n",
       "      <td>2013-09-11 12:00:00</td>\n",
       "      <td>Прочие</td>\n",
       "      <td>МортуСкрин, Британский музей</td>\n",
       "      <td>Великобритания</td>\n",
       "      <td>NaN</td>\n",
       "      <td>Британский музей</td>\n",
       "      <td>«0+» - для любой зрительской аудитории</td>\n",
       "      <td>NaN</td>\n",
       "      <td>NaN</td>\n",
       "      <td>NaN</td>\n",
       "      <td>NaN</td>\n",
       "      <td>NaN</td>\n",
       "      <td>NaN</td>\n",
       "      <td>NaN</td>\n",
       "    </tr>\n",
       "    <tr>\n",
       "      <td>3840</td>\n",
       "      <td>Зур концерт (Большой концерт).</td>\n",
       "      <td>217027010</td>\n",
       "      <td>2010-06-24 12:00:00</td>\n",
       "      <td>Художественный</td>\n",
       "      <td>ООО \"Барс Рекордс\"</td>\n",
       "      <td>Россия</td>\n",
       "      <td>NaN</td>\n",
       "      <td>NaN</td>\n",
       "      <td>«12+» - для детей старше 12 лет</td>\n",
       "      <td>NaN</td>\n",
       "      <td>NaN</td>\n",
       "      <td>NaN</td>\n",
       "      <td>NaN</td>\n",
       "      <td>NaN</td>\n",
       "      <td>NaN</td>\n",
       "      <td>NaN</td>\n",
       "    </tr>\n",
       "  </tbody>\n",
       "</table>\n",
       "</div>"
      ],
      "text/plain": [
       "                                                  title   puNumber  \\\n",
       "764   Три звезды. Концерт в Waldbuhne Theater, Берли...  126003512   \n",
       "1735                           Помпеи. Британский музей  126003413   \n",
       "3840                     Зур концерт (Большой концерт).  217027010   \n",
       "\n",
       "         show_start_date            type                   film_studio  \\\n",
       "764  2012-12-04 12:00:00          Прочие            Райзинг Алтернатив   \n",
       "1735 2013-09-11 12:00:00          Прочие  МортуСкрин, Британский музей   \n",
       "3840 2010-06-24 12:00:00  Художественный            ООО \"Барс Рекордс\"   \n",
       "\n",
       "     production_country director          producer  \\\n",
       "764      Великобритания      NaN   Вальдбюне Театр   \n",
       "1735     Великобритания      NaN  Британский музей   \n",
       "3840             Россия      NaN               NaN   \n",
       "\n",
       "                             age_restriction  refundable_support  \\\n",
       "764   «0+» - для любой зрительской аудитории                 NaN   \n",
       "1735  «0+» - для любой зрительской аудитории                 NaN   \n",
       "3840         «12+» - для детей старше 12 лет                 NaN   \n",
       "\n",
       "      nonrefundable_support  budget financing_source  ratings genres  \\\n",
       "764                     NaN     NaN              NaN      NaN    NaN   \n",
       "1735                    NaN     NaN              NaN      NaN    NaN   \n",
       "3840                    NaN     NaN              NaN      NaN    NaN   \n",
       "\n",
       "      box_office  \n",
       "764      44350.0  \n",
       "1735         NaN  \n",
       "3840         NaN  "
      ]
     },
     "metadata": {},
     "output_type": "display_data"
    },
    {
     "data": {
      "text/html": [
       "<div>\n",
       "<style scoped>\n",
       "    .dataframe tbody tr th:only-of-type {\n",
       "        vertical-align: middle;\n",
       "    }\n",
       "\n",
       "    .dataframe tbody tr th {\n",
       "        vertical-align: top;\n",
       "    }\n",
       "\n",
       "    .dataframe thead th {\n",
       "        text-align: right;\n",
       "    }\n",
       "</style>\n",
       "<table border=\"1\" class=\"dataframe\">\n",
       "  <thead>\n",
       "    <tr style=\"text-align: right;\">\n",
       "      <th></th>\n",
       "      <th>title</th>\n",
       "      <th>puNumber</th>\n",
       "      <th>show_start_date</th>\n",
       "      <th>type</th>\n",
       "      <th>film_studio</th>\n",
       "      <th>production_country</th>\n",
       "      <th>director</th>\n",
       "      <th>producer</th>\n",
       "      <th>age_restriction</th>\n",
       "      <th>refundable_support</th>\n",
       "      <th>nonrefundable_support</th>\n",
       "      <th>budget</th>\n",
       "      <th>financing_source</th>\n",
       "      <th>ratings</th>\n",
       "      <th>genres</th>\n",
       "      <th>box_office</th>\n",
       "    </tr>\n",
       "  </thead>\n",
       "  <tbody>\n",
       "    <tr>\n",
       "      <td>1</td>\n",
       "      <td>Особо важное задание</td>\n",
       "      <td>111013716</td>\n",
       "      <td>2016-09-13 12:00:00</td>\n",
       "      <td>Художественный</td>\n",
       "      <td>Киностудия \"Мосфильм\"</td>\n",
       "      <td>СССР</td>\n",
       "      <td>Е.Матвеев</td>\n",
       "      <td>NaN</td>\n",
       "      <td>«6+» - для детей старше 6 лет</td>\n",
       "      <td>NaN</td>\n",
       "      <td>NaN</td>\n",
       "      <td>NaN</td>\n",
       "      <td>NaN</td>\n",
       "      <td>6.6</td>\n",
       "      <td>драма,военный</td>\n",
       "      <td>NaN</td>\n",
       "    </tr>\n",
       "    <tr>\n",
       "      <td>5</td>\n",
       "      <td>Остановился поезд</td>\n",
       "      <td>111013816</td>\n",
       "      <td>2016-09-13 12:00:00</td>\n",
       "      <td>Художественный</td>\n",
       "      <td>Киностудия \"Мосфильм\"</td>\n",
       "      <td>СССР</td>\n",
       "      <td>В.Абдрашитов</td>\n",
       "      <td>NaN</td>\n",
       "      <td>«6+» - для детей старше 6 лет</td>\n",
       "      <td>NaN</td>\n",
       "      <td>NaN</td>\n",
       "      <td>NaN</td>\n",
       "      <td>NaN</td>\n",
       "      <td>7.7</td>\n",
       "      <td>драма</td>\n",
       "      <td>NaN</td>\n",
       "    </tr>\n",
       "    <tr>\n",
       "      <td>6</td>\n",
       "      <td>Любовь и голуби</td>\n",
       "      <td>111007013</td>\n",
       "      <td>2013-10-18 12:00:00</td>\n",
       "      <td>Художественный</td>\n",
       "      <td>Киностудия \"Мосфильм\"</td>\n",
       "      <td>СССР</td>\n",
       "      <td>В.Меньшов</td>\n",
       "      <td>NaN</td>\n",
       "      <td>«12+» - для детей старше 12 лет</td>\n",
       "      <td>NaN</td>\n",
       "      <td>NaN</td>\n",
       "      <td>NaN</td>\n",
       "      <td>NaN</td>\n",
       "      <td>8.3</td>\n",
       "      <td>мелодрама,комедия</td>\n",
       "      <td>2700.0</td>\n",
       "    </tr>\n",
       "  </tbody>\n",
       "</table>\n",
       "</div>"
      ],
      "text/plain": [
       "                  title   puNumber     show_start_date            type  \\\n",
       "1  Особо важное задание  111013716 2016-09-13 12:00:00  Художественный   \n",
       "5     Остановился поезд  111013816 2016-09-13 12:00:00  Художественный   \n",
       "6       Любовь и голуби  111007013 2013-10-18 12:00:00  Художественный   \n",
       "\n",
       "             film_studio production_country      director producer  \\\n",
       "1  Киностудия \"Мосфильм\"               СССР     Е.Матвеев      NaN   \n",
       "5  Киностудия \"Мосфильм\"               СССР  В.Абдрашитов      NaN   \n",
       "6  Киностудия \"Мосфильм\"               СССР     В.Меньшов      NaN   \n",
       "\n",
       "                   age_restriction  refundable_support  nonrefundable_support  \\\n",
       "1    «6+» - для детей старше 6 лет                 NaN                    NaN   \n",
       "5    «6+» - для детей старше 6 лет                 NaN                    NaN   \n",
       "6  «12+» - для детей старше 12 лет                 NaN                    NaN   \n",
       "\n",
       "   budget financing_source  ratings             genres  box_office  \n",
       "1     NaN              NaN      6.6      драма,военный         NaN  \n",
       "5     NaN              NaN      7.7              драма         NaN  \n",
       "6     NaN              NaN      8.3  мелодрама,комедия      2700.0  "
      ]
     },
     "metadata": {},
     "output_type": "display_data"
    }
   ],
   "source": [
    "display(films[films.director.isna()].head(3))\n",
    "display(films[films.producer.isna()].head(3))"
   ]
  },
  {
   "cell_type": "markdown",
   "metadata": {},
   "source": [
    "Здесь ситуация, полностью аналогичная пропускам в студиях производства, поэтому проведем аналогичное заполнение пропусков значениями \"unknown director\"/\"unknown producer\"."
   ]
  },
  {
   "cell_type": "code",
   "execution_count": 14,
   "metadata": {},
   "outputs": [],
   "source": [
    "films.director.fillna('unknown director', inplace=True)\n",
    "films.producer.fillna('unknown producer', inplace=True)"
   ]
  },
  {
   "cell_type": "markdown",
   "metadata": {},
   "source": [
    "Рассмотрим столбец genres:"
   ]
  },
  {
   "cell_type": "code",
   "execution_count": 15,
   "metadata": {},
   "outputs": [
    {
     "data": {
      "text/html": [
       "<div>\n",
       "<style scoped>\n",
       "    .dataframe tbody tr th:only-of-type {\n",
       "        vertical-align: middle;\n",
       "    }\n",
       "\n",
       "    .dataframe tbody tr th {\n",
       "        vertical-align: top;\n",
       "    }\n",
       "\n",
       "    .dataframe thead th {\n",
       "        text-align: right;\n",
       "    }\n",
       "</style>\n",
       "<table border=\"1\" class=\"dataframe\">\n",
       "  <thead>\n",
       "    <tr style=\"text-align: right;\">\n",
       "      <th></th>\n",
       "      <th>title</th>\n",
       "      <th>puNumber</th>\n",
       "      <th>show_start_date</th>\n",
       "      <th>type</th>\n",
       "      <th>film_studio</th>\n",
       "      <th>production_country</th>\n",
       "      <th>director</th>\n",
       "      <th>producer</th>\n",
       "      <th>age_restriction</th>\n",
       "      <th>refundable_support</th>\n",
       "      <th>nonrefundable_support</th>\n",
       "      <th>budget</th>\n",
       "      <th>financing_source</th>\n",
       "      <th>ratings</th>\n",
       "      <th>genres</th>\n",
       "      <th>box_office</th>\n",
       "    </tr>\n",
       "  </thead>\n",
       "  <tbody>\n",
       "    <tr>\n",
       "      <td>43</td>\n",
       "      <td>Мемуары гейши (по роману Артура Голдена)</td>\n",
       "      <td>121000606</td>\n",
       "      <td>2012-12-14 12:00:00</td>\n",
       "      <td>Художественный</td>\n",
       "      <td>Коламбия Пикчерз Корпорейшн, ДримУоркс ЭсКейДж...</td>\n",
       "      <td>США</td>\n",
       "      <td>Роб Маршалл</td>\n",
       "      <td>Стивен Спилберг, Люси Фишер, Дуглас Уик, Джон ...</td>\n",
       "      <td>«12+» - для детей старше 12 лет</td>\n",
       "      <td>NaN</td>\n",
       "      <td>NaN</td>\n",
       "      <td>NaN</td>\n",
       "      <td>NaN</td>\n",
       "      <td>NaN</td>\n",
       "      <td>NaN</td>\n",
       "      <td>NaN</td>\n",
       "    </tr>\n",
       "    <tr>\n",
       "      <td>150</td>\n",
       "      <td>Жди меня</td>\n",
       "      <td>111013615</td>\n",
       "      <td>2015-08-25 12:00:00</td>\n",
       "      <td>Художественный</td>\n",
       "      <td>Киностудия \"Мосфильм\"</td>\n",
       "      <td>СССР</td>\n",
       "      <td>А.Столпер, Б.Иванов</td>\n",
       "      <td>unknown producer</td>\n",
       "      <td>«6+» - для детей старше 6 лет</td>\n",
       "      <td>NaN</td>\n",
       "      <td>NaN</td>\n",
       "      <td>NaN</td>\n",
       "      <td>NaN</td>\n",
       "      <td>NaN</td>\n",
       "      <td>NaN</td>\n",
       "      <td>NaN</td>\n",
       "    </tr>\n",
       "    <tr>\n",
       "      <td>154</td>\n",
       "      <td>Дом из песка и тумана (по книге Андре Дюбуи III)</td>\n",
       "      <td>221037813</td>\n",
       "      <td>2013-10-25 12:00:00</td>\n",
       "      <td>Художественный</td>\n",
       "      <td>Кобальт Пикчерз</td>\n",
       "      <td>США</td>\n",
       "      <td>Вадим Перельман</td>\n",
       "      <td>Майкл Лондон</td>\n",
       "      <td>«16+» - для детей старше 16 лет</td>\n",
       "      <td>NaN</td>\n",
       "      <td>NaN</td>\n",
       "      <td>NaN</td>\n",
       "      <td>NaN</td>\n",
       "      <td>NaN</td>\n",
       "      <td>NaN</td>\n",
       "      <td>NaN</td>\n",
       "    </tr>\n",
       "    <tr>\n",
       "      <td>159</td>\n",
       "      <td>Жемчужная девушка</td>\n",
       "      <td>224011014</td>\n",
       "      <td>2014-08-28 12:00:00</td>\n",
       "      <td>Художественный</td>\n",
       "      <td>Чешское телевидение,Студия \"Три брата\" агентск...</td>\n",
       "      <td>Чехия</td>\n",
       "      <td>Владимир Дрга</td>\n",
       "      <td>unknown producer</td>\n",
       "      <td>«0+» - для любой зрительской аудитории</td>\n",
       "      <td>NaN</td>\n",
       "      <td>NaN</td>\n",
       "      <td>NaN</td>\n",
       "      <td>NaN</td>\n",
       "      <td>NaN</td>\n",
       "      <td>NaN</td>\n",
       "      <td>NaN</td>\n",
       "    </tr>\n",
       "    <tr>\n",
       "      <td>227</td>\n",
       "      <td>Полустанок</td>\n",
       "      <td>111026714</td>\n",
       "      <td>2014-12-24 12:00:00</td>\n",
       "      <td>Художественный</td>\n",
       "      <td>Киностудия \"Мосфильм\"</td>\n",
       "      <td>СССР</td>\n",
       "      <td>Б.Барнет</td>\n",
       "      <td>unknown producer</td>\n",
       "      <td>«12+» - для детей старше 12 лет</td>\n",
       "      <td>NaN</td>\n",
       "      <td>NaN</td>\n",
       "      <td>NaN</td>\n",
       "      <td>NaN</td>\n",
       "      <td>NaN</td>\n",
       "      <td>NaN</td>\n",
       "      <td>NaN</td>\n",
       "    </tr>\n",
       "  </tbody>\n",
       "</table>\n",
       "</div>"
      ],
      "text/plain": [
       "                                                title   puNumber  \\\n",
       "43           Мемуары гейши (по роману Артура Голдена)  121000606   \n",
       "150                                          Жди меня  111013615   \n",
       "154  Дом из песка и тумана (по книге Андре Дюбуи III)  221037813   \n",
       "159                                 Жемчужная девушка  224011014   \n",
       "227                                        Полустанок  111026714   \n",
       "\n",
       "        show_start_date            type  \\\n",
       "43  2012-12-14 12:00:00  Художественный   \n",
       "150 2015-08-25 12:00:00  Художественный   \n",
       "154 2013-10-25 12:00:00  Художественный   \n",
       "159 2014-08-28 12:00:00  Художественный   \n",
       "227 2014-12-24 12:00:00  Художественный   \n",
       "\n",
       "                                           film_studio production_country  \\\n",
       "43   Коламбия Пикчерз Корпорейшн, ДримУоркс ЭсКейДж...                США   \n",
       "150                              Киностудия \"Мосфильм\"               СССР   \n",
       "154                                    Кобальт Пикчерз                США   \n",
       "159  Чешское телевидение,Студия \"Три брата\" агентск...              Чехия   \n",
       "227                              Киностудия \"Мосфильм\"               СССР   \n",
       "\n",
       "                director                                           producer  \\\n",
       "43           Роб Маршалл  Стивен Спилберг, Люси Фишер, Дуглас Уик, Джон ...   \n",
       "150  А.Столпер, Б.Иванов                                   unknown producer   \n",
       "154      Вадим Перельман                                       Майкл Лондон   \n",
       "159        Владимир Дрга                                   unknown producer   \n",
       "227             Б.Барнет                                   unknown producer   \n",
       "\n",
       "                            age_restriction  refundable_support  \\\n",
       "43          «12+» - для детей старше 12 лет                 NaN   \n",
       "150           «6+» - для детей старше 6 лет                 NaN   \n",
       "154         «16+» - для детей старше 16 лет                 NaN   \n",
       "159  «0+» - для любой зрительской аудитории                 NaN   \n",
       "227         «12+» - для детей старше 12 лет                 NaN   \n",
       "\n",
       "     nonrefundable_support  budget financing_source  ratings genres  \\\n",
       "43                     NaN     NaN              NaN      NaN    NaN   \n",
       "150                    NaN     NaN              NaN      NaN    NaN   \n",
       "154                    NaN     NaN              NaN      NaN    NaN   \n",
       "159                    NaN     NaN              NaN      NaN    NaN   \n",
       "227                    NaN     NaN              NaN      NaN    NaN   \n",
       "\n",
       "     box_office  \n",
       "43          NaN  \n",
       "150         NaN  \n",
       "154         NaN  \n",
       "159         NaN  \n",
       "227         NaN  "
      ]
     },
     "execution_count": 15,
     "metadata": {},
     "output_type": "execute_result"
    }
   ],
   "source": [
    "films[films.genres.isna()].head()"
   ]
  },
  {
   "cell_type": "markdown",
   "metadata": {},
   "source": [
    "Аналогично, заменим пропуски на \"unknown genre\":"
   ]
  },
  {
   "cell_type": "code",
   "execution_count": 16,
   "metadata": {},
   "outputs": [],
   "source": [
    "films.genres.fillna('unknown genre', inplace=True)"
   ]
  },
  {
   "cell_type": "markdown",
   "metadata": {},
   "source": [
    "Пропуски в стобцах refundable_support, nonrefundable_support, budget, financing_source заполнять некорреткно, так как в техническом задании указано, что значения в этих столбцах заполнены только для фильмов с государственной поддержкой.\n",
    "\n",
    "В столбце ratings также некорректно заполнять пропуски, так как рейтинги фильма очень часто зависят лишь от предпочтений зрителей, а не от каких-либо других факторов.\n",
    "\n",
    "В столбце box_office некорректно заполнять пропуски, так как они вызваны объединением двух источников данных."
   ]
  },
  {
   "cell_type": "markdown",
   "metadata": {},
   "source": [
    "Обработка пропусков завершена."
   ]
  },
  {
   "cell_type": "code",
   "execution_count": 17,
   "metadata": {
    "id": "8MJD_lkngFyP"
   },
   "outputs": [
    {
     "name": "stdout",
     "output_type": "stream",
     "text": [
      "<class 'pandas.core.frame.DataFrame'>\n",
      "Int64Index: 7486 entries, 0 to 7485\n",
      "Data columns (total 16 columns):\n",
      "title                    7486 non-null object\n",
      "puNumber                 7486 non-null int64\n",
      "show_start_date          7486 non-null datetime64[ns]\n",
      "type                     7486 non-null object\n",
      "film_studio              7486 non-null object\n",
      "production_country       7486 non-null object\n",
      "director                 7486 non-null object\n",
      "producer                 7486 non-null object\n",
      "age_restriction          7486 non-null object\n",
      "refundable_support       332 non-null float64\n",
      "nonrefundable_support    332 non-null float64\n",
      "budget                   332 non-null float64\n",
      "financing_source         332 non-null object\n",
      "ratings                  6490 non-null float64\n",
      "genres                   7486 non-null object\n",
      "box_office               3158 non-null float64\n",
      "dtypes: datetime64[ns](1), float64(5), int64(1), object(9)\n",
      "memory usage: 994.2+ KB\n"
     ]
    }
   ],
   "source": [
    "films.info()"
   ]
  },
  {
   "cell_type": "markdown",
   "metadata": {},
   "source": [
    "##### Вывод\n",
    "\n",
    "На этапе обработки пропусков были устранены пропущенные значения там, где это возможно."
   ]
  },
  {
   "cell_type": "markdown",
   "metadata": {
    "id": "4c6k1t9ygFyQ"
   },
   "source": [
    "#### Обработка дубликатов"
   ]
  },
  {
   "cell_type": "markdown",
   "metadata": {
    "id": "aKck8RIdgFyQ"
   },
   "source": [
    "Проверим набор данных на предмет явных дубликатов:"
   ]
  },
  {
   "cell_type": "code",
   "execution_count": 18,
   "metadata": {},
   "outputs": [
    {
     "name": "stdout",
     "output_type": "stream",
     "text": [
      "Количество явных дубликатов: 0\n"
     ]
    }
   ],
   "source": [
    "print('Количество явных дубликатов:', films.duplicated().sum())"
   ]
  },
  {
   "cell_type": "markdown",
   "metadata": {},
   "source": [
    "Явные дубликаты отсутствуют, однако, на этапе обзора данных были выявлены неявные дубликаты (например, в самом начале таблицы фильм \"Особо опасен\" встречается трижды, у него разные номера прокатных удостоверений и даты премьеры, однако, в таком случае, речь идёт о разных прокатных площадках, поэтому такие фильмы оставим без изменений. \n",
    "\n",
    "Проверим, какое количество дубликатов есть по столбцу с номерами прокатных удостоверений (в данном столбце все значения должны быть уникальными:"
   ]
  },
  {
   "cell_type": "code",
   "execution_count": 19,
   "metadata": {},
   "outputs": [
    {
     "name": "stdout",
     "output_type": "stream",
     "text": [
      "Количество дубликатов номеров прокатного удостоверения: 2\n"
     ]
    }
   ],
   "source": [
    "print('Количество дубликатов номеров прокатного удостоверения:', \n",
    "      films.puNumber.duplicated().sum())\n"
   ]
  },
  {
   "cell_type": "markdown",
   "metadata": {},
   "source": [
    "Природа таких дубликатов вызвана, вероятнее всего, технической ошибкой при занесении номеров прокатных удостоверений в базу. Избавимся от таких дубликатов:"
   ]
  },
  {
   "cell_type": "code",
   "execution_count": 20,
   "metadata": {},
   "outputs": [],
   "source": [
    "films = films[~films.puNumber.duplicated()]\n",
    "films.reset_index(drop=True, inplace=True)"
   ]
  },
  {
   "cell_type": "code",
   "execution_count": 21,
   "metadata": {},
   "outputs": [
    {
     "name": "stdout",
     "output_type": "stream",
     "text": [
      "<class 'pandas.core.frame.DataFrame'>\n",
      "RangeIndex: 7484 entries, 0 to 7483\n",
      "Data columns (total 16 columns):\n",
      "title                    7484 non-null object\n",
      "puNumber                 7484 non-null int64\n",
      "show_start_date          7484 non-null datetime64[ns]\n",
      "type                     7484 non-null object\n",
      "film_studio              7484 non-null object\n",
      "production_country       7484 non-null object\n",
      "director                 7484 non-null object\n",
      "producer                 7484 non-null object\n",
      "age_restriction          7484 non-null object\n",
      "refundable_support       332 non-null float64\n",
      "nonrefundable_support    332 non-null float64\n",
      "budget                   332 non-null float64\n",
      "financing_source         332 non-null object\n",
      "ratings                  6488 non-null float64\n",
      "genres                   7484 non-null object\n",
      "box_office               3158 non-null float64\n",
      "dtypes: datetime64[ns](1), float64(5), int64(1), object(9)\n",
      "memory usage: 935.6+ KB\n"
     ]
    }
   ],
   "source": [
    "films.info()"
   ]
  },
  {
   "cell_type": "markdown",
   "metadata": {},
   "source": [
    "##### Вывод\n",
    "\n",
    "Выполнен поиск неявных дубликатов. Дубликаты в данных устранены."
   ]
  },
  {
   "cell_type": "markdown",
   "metadata": {
    "id": "52fOPrEBgFyQ"
   },
   "source": [
    "#### Обработка категориальных значений"
   ]
  },
  {
   "cell_type": "markdown",
   "metadata": {},
   "source": [
    "Рассмотрим уникальные значения в столбцах с категориальными переменными (для емкости, ограничим вывод данных):"
   ]
  },
  {
   "cell_type": "code",
   "execution_count": 22,
   "metadata": {
    "id": "PnXKIVdFgFyR",
    "scrolled": false
   },
   "outputs": [
    {
     "name": "stdout",
     "output_type": "stream",
     "text": [
      "Уникальные значения столбца type \n",
      "\n",
      "['Художественный' 'Анимационный' 'Прочие' 'Документальный'\n",
      " 'Научно-популярный' ' Художественный' ' Анимационный'\n",
      " 'Музыкально-развлекательный'] \n",
      "\n",
      "Уникальные значения столбца film_studio \n",
      "\n",
      "['Тачстоун Пикчерз, Кобальт Пикчерз, Бикон Пикчерз, Тиг Продакшнз'\n",
      " 'Киностудия \"Мосфильм\"'\n",
      " 'Юниверсал Пикчерз, Кикстарт Продакшнз, Марк Платт Продакшнз, Рилейтивити Медиа, Спайгласс Интертейнмент, Стилкин Филмз, Топ Кау Продакшнз'\n",
      " 'Юнайтед Артистс, Грин Стрит Филмз, Айкон Интертейнмент Интернэшнл'\n",
      " 'Пульсар Продюксьон, ТФ1 Фильм ' 'Киностудия \"Мосфильм\", Телевидение ВНР'\n",
      " 'Кеннеди/Маршал Компани, Юниверсал Пикчерз, Гипнотик, Калима Продакшнз, Лудлум Интертейнмент'\n",
      " 'Уорнер Бразерс, Лейкшор Интертейнмент, Малпасо Продакшнз, Альберт С.Рудди Продакшнз'\n",
      " 'Потбойлер Продакшнз, Эпсилон Моушн Пикчерз, Скайон Филмз Лимитед, ЮК Филм Каунсил'\n",
      " 'Кэтлей, Отель Продакшнс, Мунстоун Интертейнмент, Рэд Маллет Продакшнс'\n",
      " 'Инишиэл Интертейнмент Групп, Мирамакс Филмз, Персистент Интертейнмент, Революшн Студиос, Зе Лэдд Компани'\n",
      " 'Фильмове Студио Баррандов'\n",
      " 'Вэ И Пэ Медиенфондс 3, Асендант Пикчерз, Сатурн Филмз, Райзинг Стар, Эндгейм Интертейнмент, Интертейнмент Мэньюфэкчуринг Компани, Рилайз Филм'\n",
      " 'Лайв Сток Филмз, Нью Зиланд Филм Комишн'\n",
      " 'Синегруп, Анимакидс-Франс 2 Синема/Кастелао Продюксьон, Филмакс'\n",
      " 'Уорнер Бразерс, Нью Лайн Синема, Касл Рок Интертейнмент'\n",
      " 'Феникс Пикчерз, Дэвид Киршнер Продакшнз, Айл оф Мэн Филм Коммишн, Ю Кей Филм Каунсил, Ванштейн Компани, Метро Голдвин Майер'\n",
      " 'БиБиСи Филмз, Фьючер Филмз, Хейман-Хоскинс Продакшнз, Микро Фьюжн, Патэ Пикчерз Интернэшнл'\n",
      " 'Интермедиа Филмз, Юниверсал Пикчерз, Лоуренс Гордон Продакшнз'\n",
      " 'Саммит Интертейнмент, Айл оф Мэн Филм, Эйзур Филмз, Таск Продакшнз'\n",
      " 'Эскейп Артистс, Франчайз Пикчерз, Рейнер-Грэйсман, Уорнер Бразерс'\n",
      " 'Прайм Филм Продакшнс ЛЛСи, Стратус Филм Ко., Тим Тодд, Юниверсал Пикчерз, Йангер Зен Ю'\n",
      " 'Коламбия Пикчерз Корпорейшн, ДримУоркс ЭсКейДжи, Спайгласс Интертейнмент, Эмблин Интертейнмент, Рэд Вэгон Продакшнс'\n",
      " 'Мирамакс, Дименшн Филмс' 'ЭлДжиЭм Продюксьон, Гомон'\n",
      " 'Европа Корп., ТФ 1 Фильм Продюксьон'\n",
      " 'Коламбиа Пикчерз, Хэппи Медисон Продакшнз, Флаоу Филмз, Анонимоус Контент'\n",
      " 'Нью Маркет, Саммит Интертейнмент, Рэйвинг Мэд Продакшнз'\n",
      " 'Уолт Дисней Пикчерз, Буена Виста Интернэшнл'\n",
      " 'АО \"Караван\", Компания \"Америкен Дистрибьюшн\", Роскомкино, киностудия \"Курьер\" киноконцерна \"Мосфильм\"'] \n",
      "\n",
      "Уникальные значения столбца production_country \n",
      "\n",
      "['США' 'СССР' 'Франция' 'СССР, Венгрия' 'Германия-Великобритания'\n",
      " 'Великобритания - Италия' 'Чехословакия' 'США - Франция - Турция'\n",
      " 'Новая Зеландия' 'Канада - Франция - Испания' 'США-Германия'\n",
      " 'США - Великобритания' 'Великобритания' 'США - Германия'\n",
      " 'Франция - Мексика - США' 'Россия, Казахстан, США' 'СССР, Швеция'\n",
      " 'СССР, Франция, Англия, Куба, ГДР' 'Германия'\n",
      " 'Великобритания-США-Германия-КНР' 'СССР, ЧССР, Западный Берлин, ПНР'\n",
      " 'СССР, Италия' 'Гонконг, КНР' 'США - Франция'\n",
      " 'США - Япония - Франция - Великобритания'\n",
      " 'Гонконг - Сингапур - Таиланд - Великобритания' 'США-Канада'\n",
      " 'Франция - Италия - Великобритания - США' 'Франция - США'\n",
      " 'Ирландия-Великобритания-Германия'] \n",
      "\n",
      "Уникальные значения столбца director \n",
      "\n",
      "['Кевин Костнер' 'Е.Матвеев' 'Тимур Бекмамбетов' 'В.Абдрашитов'\n",
      " 'В.Меньшов' 'Джон Туртурро' 'Эрик Беснард' 'В.Титов' 'Пол Грингросс'\n",
      " 'М.Туманишвили' 'Клинт Иствуд' 'Фернанду Мейрелльеш' 'Майк Фиггис'\n",
      " 'А.Салтыков' 'Г.Данелия' 'А.Смирнов' 'Ю.Чулюкин'\n",
      " 'В.Краснопольский, В.Усков' 'М.Чиаурели' 'Лассе Халлстрем' 'Л.Гайдай'\n",
      " 'В.Чеботарев' 'В.Азаров' 'Боривой Земан' 'Эндрю Никкол' 'Г.Мыльников'\n",
      " 'Джонатан Кинг' 'И.Бабич' 'Даниэль Робишо' 'Грегори Хоблит'] \n",
      "\n",
      "Уникальные значения столбца producer \n",
      "\n",
      "['Дэвид Валдес, Кевин Костнер, Джейк Эбертс' 'unknown producer'\n",
      " 'Джим Лемли, Джейсон Нетер, Марк Е.Платт, Яйн Смит'\n",
      " 'Джон Пенотти, Джон Туртурро' 'Патрис Леду'\n",
      " 'Патрик Кроули, Фрэнк Маршалл, Пол Сэндберг'\n",
      " 'Клинт Иствуд, Том Розенберг, Альберт С.Рудди, Пол Хаггис'\n",
      " 'Саймон Чэннинг Уильямс' 'Этчи Стро, Анни Стюарт, Майк Фиггис'\n",
      " 'Лесли Холлеран, Алан Лэдд мл., Келлиан Лэдд, Харви Вайнстайн'\n",
      " 'Норман Голуайтли, Энди Грош, Николас Кейдж, Эндрю Никкол, Крис Робертс, Филипп Русле'\n",
      " 'Филиппа Кемпбелл' 'Луис Дюкью' 'Чарльз Уэйнсток'\n",
      " 'Дэвид Киршнер, Майк Медэвой, Арнольд Мессер, Корей Сэйнья, Дэвид Твайтс'\n",
      " 'Норма Хейман, Боб Хоскинс'\n",
      " 'Лоуренс Гордон, Роберт Коулсберри, Ллойд Левин'\n",
      " 'Мэтью Пэйн, Джулия Пэло'\n",
      " 'Тодд Блэк, Элан Грейсман, Джереми Левен, Роб Райнер, Эли Самаха'\n",
      " 'Дженнифер Тодд, Сюзанн Тодд, Брэдли Дженкел, Энтони Катагас'\n",
      " 'Стивен Спилберг, Люси Фишер, Дуглас Уик, Джон Де Люка, Гэри Барбер, Роджер Бирнбаум'\n",
      " 'Франк Шоро, Сирил Кольбьё-Жюстен, Жан-Баптист Дюпон'\n",
      " 'Люк Бессон, Ариель Зейтун' 'Бини Барнс, Джозеф Дрэйк, Джон Линсон'\n",
      " 'Джон Балдеччи, Лоуренс Бендер, Кристофер Болл' 'Чак Уильямс'\n",
      " 'Тиль Швайгер' 'Исмаил Мерчант' 'Фил Срэйзер, Александра Фергюсон'\n",
      " 'Майкл Бёрнс, Марк Бутан'] \n",
      "\n",
      "Уникальные значения столбца age_restriction \n",
      "\n",
      "['«18+» - запрещено для детей' '«6+» - для детей старше 6 лет'\n",
      " '«12+» - для детей старше 12 лет' '«16+» - для детей старше 16 лет'\n",
      " '«0+» - для любой зрительской аудитории'] \n",
      "\n",
      "Уникальные значения столбца financing_source \n",
      "\n",
      "[nan 'Министерство культуры' 'Фонд кино'\n",
      " 'Министерство культуры, Фонд кино'] \n",
      "\n",
      "Уникальные значения столбца genres \n",
      "\n",
      "['боевик,драма,мелодрама' 'драма,военный' 'фантастика,боевик,триллер'\n",
      " 'драма' 'мелодрама,комедия' 'мюзикл,мелодрама,комедия' 'комедия,криминал'\n",
      " 'боевик,триллер,детектив' 'боевик,драма,приключения' 'драма,спорт'\n",
      " 'триллер,драма,мелодрама' 'комедия,мелодрама' 'драма,мелодрама,комедия'\n",
      " 'драма,мелодрама' 'драма,история' 'драма,мелодрама,семейный'\n",
      " 'комедия,мелодрама,криминал' 'комедия' 'боевик,драма,криминал'\n",
      " 'драма,комедия' 'ужасы,фантастика,комедия'\n",
      " 'мультфильм,короткометражка,мелодрама' 'драма,криминал'\n",
      " 'мультфильм,фантастика,фэнтези' 'триллер,драма,криминал'\n",
      " 'драма,мелодрама,биография' 'драма,комедия,военный'\n",
      " 'фантастика,драма,детектив' 'мюзикл,семейный' 'unknown genre'] \n",
      "\n"
     ]
    }
   ],
   "source": [
    "categ_columns = ['type', 'film_studio', 'production_country', 'director', 'producer', 'age_restriction', 'financing_source', 'genres']\n",
    "for col in categ_columns:\n",
    "    print('Уникальные значения столбца', col, '\\n')\n",
    "    print(films[col].unique()[:30], '\\n')"
   ]
  },
  {
   "cell_type": "markdown",
   "metadata": {},
   "source": [
    "В столбце type обнаружены неявные дубликаты типов фильмов (присутствует пробел перед типом фильма). Устраним данные дубликаты."
   ]
  },
  {
   "cell_type": "code",
   "execution_count": 23,
   "metadata": {},
   "outputs": [],
   "source": [
    "films.type = films.type.str.strip()"
   ]
  },
  {
   "cell_type": "markdown",
   "metadata": {},
   "source": [
    "Также присутствует очевидная проблема в том, что в категориальных данных нет единой формы записи (т.е. на примере страны производства, страны могут быть записаны, как СССР-Венгрия или СССР, Венгрия), что приводит к избыточному \"дроблению\" на категории.\n",
    "\n",
    "Ещё стоит обратить внимание на то, что в столбцах с именами продюссеров и режиссеров встречается разное написание имени (с сокращением и без), что также осложняет обработку данных столбцов."
   ]
  },
  {
   "cell_type": "markdown",
   "metadata": {},
   "source": [
    "##### Вывод\n",
    "\n",
    "Устранены неявные дубликаты в столбце type, а также отмечены проблемы столбцов с категориальными данными."
   ]
  },
  {
   "cell_type": "markdown",
   "metadata": {
    "id": "XFSN5lrEgFyR"
   },
   "source": [
    "#### Обработка количественных значений"
   ]
  },
  {
   "cell_type": "markdown",
   "metadata": {},
   "source": [
    "Построим гистограммы для всех количественных столбцов:"
   ]
  },
  {
   "cell_type": "code",
   "execution_count": 24,
   "metadata": {
    "id": "YbzClBxagFyS"
   },
   "outputs": [
    {
     "name": "stdout",
     "output_type": "stream",
     "text": [
      "Гистограмма столбца refundable_support\n"
     ]
    },
    {
     "data": {
      "image/png": "[encoded data removed]",
      "text/plain": [
       "<Figure size 432x288 with 1 Axes>"
      ]
     },
     "metadata": {
      "needs_background": "light"
     },
     "output_type": "display_data"
    },
    {
     "name": "stdout",
     "output_type": "stream",
     "text": [
      "Гистограмма столбца nonrefundable_support\n"
     ]
    },
    {
     "data": {
      "image/png": "[encoded data removed]",
      "text/plain": [
       "<Figure size 432x288 with 1 Axes>"
      ]
     },
     "metadata": {
      "needs_background": "light"
     },
     "output_type": "display_data"
    },
    {
     "name": "stdout",
     "output_type": "stream",
     "text": [
      "Гистограмма столбца budget\n"
     ]
    },
    {
     "data": {
      "image/png": "[encoded data removed]",
      "text/plain": [
       "<Figure size 432x288 with 1 Axes>"
      ]
     },
     "metadata": {
      "needs_background": "light"
     },
     "output_type": "display_data"
    },
    {
     "name": "stdout",
     "output_type": "stream",
     "text": [
      "Гистограмма столбца ratings\n"
     ]
    },
    {
     "data": {
      "image/png": "[encoded data removed]",
      "text/plain": [
       "<Figure size 432x288 with 1 Axes>"
      ]
     },
     "metadata": {
      "needs_background": "light"
     },
     "output_type": "display_data"
    },
    {
     "name": "stdout",
     "output_type": "stream",
     "text": [
      "Гистограмма столбца box_office\n"
     ]
    },
    {
     "data": {
      "image/png": "[encoded data removed]",
      "text/plain": [
       "<Figure size 432x288 with 1 Axes>"
      ]
     },
     "metadata": {
      "needs_background": "light"
     },
     "output_type": "display_data"
    }
   ],
   "source": [
    "num_columns = ['refundable_support', 'nonrefundable_support', 'budget','ratings', 'box_office']\n",
    "for col in num_columns:\n",
    "    print('Гистограмма столбца', col)\n",
    "    films[col].hist(bins=30)\n",
    "    plt.show()"
   ]
  },
  {
   "cell_type": "markdown",
   "metadata": {},
   "source": [
    "Комментарии по каждой гистограмме:\n",
    "\n",
    "* Столбцы, содержащие значения возвратных и невозвратных средств государственной поддержки, выглядят вполне естественно.\n",
    "\n",
    "* В столбце, содержащем бюджет фильма, есть нулевые значения, которые требуют дополнительного исследования.\n",
    "\n",
    "* Столбец, содержащий рейтинги фильмов, выглядт вполне естественно, распределение несколько похоже на нормальное.\n",
    "\n",
    "* В столбце, содержащем кассовые сборы, есть нулевые значения, которые требуют дополнительного исследования."
   ]
  },
  {
   "cell_type": "markdown",
   "metadata": {},
   "source": [
    "Введем дополнительную таблицу films_gov, в которой содержатся только фильмы, о бюджетах которых есть информация."
   ]
  },
  {
   "cell_type": "code",
   "execution_count": 25,
   "metadata": {},
   "outputs": [],
   "source": [
    "films_gov = films[films['budget'].notna()].reset_index(drop=True)"
   ]
  },
  {
   "cell_type": "markdown",
   "metadata": {},
   "source": [
    "Введем в таблицу films_gov дополнительные столбцы:\n",
    "1. goverment_support, содержащий полный объем государственной поддержки\n",
    "2. budget_delta, содержащий разницу между бюджетом и полным объемом государственной поддержки."
   ]
  },
  {
   "cell_type": "code",
   "execution_count": 26,
   "metadata": {},
   "outputs": [],
   "source": [
    "films_gov['goverment_support'] = films_gov.nonrefundable_support + films_gov.refundable_support\n",
    "films_gov['budget_delta'] = films_gov.budget - films_gov.goverment_support"
   ]
  },
  {
   "cell_type": "markdown",
   "metadata": {},
   "source": [
    "Построим гистограмму budget_delta:"
   ]
  },
  {
   "cell_type": "code",
   "execution_count": 27,
   "metadata": {},
   "outputs": [
    {
     "data": {
      "image/png": "[encoded data removed]",
      "text/plain": [
       "<Figure size 432x288 with 1 Axes>"
      ]
     },
     "metadata": {
      "needs_background": "light"
     },
     "output_type": "display_data"
    }
   ],
   "source": [
    "films_gov.budget_delta.hist(bins=20);"
   ]
  },
  {
   "cell_type": "markdown",
   "metadata": {},
   "source": [
    "Очевидно присутствуют значения, где размер бюджета ниже размера государственной поддержки. Рассмотрим такие значения подробнее:"
   ]
  },
  {
   "cell_type": "code",
   "execution_count": 28,
   "metadata": {},
   "outputs": [
    {
     "data": {
      "text/html": [
       "<div>\n",
       "<style scoped>\n",
       "    .dataframe tbody tr th:only-of-type {\n",
       "        vertical-align: middle;\n",
       "    }\n",
       "\n",
       "    .dataframe tbody tr th {\n",
       "        vertical-align: top;\n",
       "    }\n",
       "\n",
       "    .dataframe thead th {\n",
       "        text-align: right;\n",
       "    }\n",
       "</style>\n",
       "<table border=\"1\" class=\"dataframe\">\n",
       "  <thead>\n",
       "    <tr style=\"text-align: right;\">\n",
       "      <th></th>\n",
       "      <th>title</th>\n",
       "      <th>puNumber</th>\n",
       "      <th>show_start_date</th>\n",
       "      <th>type</th>\n",
       "      <th>film_studio</th>\n",
       "      <th>production_country</th>\n",
       "      <th>director</th>\n",
       "      <th>producer</th>\n",
       "      <th>age_restriction</th>\n",
       "      <th>refundable_support</th>\n",
       "      <th>nonrefundable_support</th>\n",
       "      <th>budget</th>\n",
       "      <th>financing_source</th>\n",
       "      <th>ratings</th>\n",
       "      <th>genres</th>\n",
       "      <th>box_office</th>\n",
       "      <th>goverment_support</th>\n",
       "      <th>budget_delta</th>\n",
       "    </tr>\n",
       "  </thead>\n",
       "  <tbody>\n",
       "    <tr>\n",
       "      <td>15</td>\n",
       "      <td>14+</td>\n",
       "      <td>111023614</td>\n",
       "      <td>2014-12-19 12:00:00</td>\n",
       "      <td>Художественный</td>\n",
       "      <td>ООО Киностудия  \"Сентябрь\"</td>\n",
       "      <td>Россия</td>\n",
       "      <td>А.Зайцев</td>\n",
       "      <td>О.Гранина, А.Зайцев</td>\n",
       "      <td>«16+» - для детей старше 16 лет</td>\n",
       "      <td>0.0</td>\n",
       "      <td>23000000.0</td>\n",
       "      <td>0.0</td>\n",
       "      <td>Министерство культуры, Фонд кино</td>\n",
       "      <td>6.6</td>\n",
       "      <td>мелодрама</td>\n",
       "      <td>1.023402e+07</td>\n",
       "      <td>23000000.0</td>\n",
       "      <td>-23000000.0</td>\n",
       "    </tr>\n",
       "    <tr>\n",
       "      <td>16</td>\n",
       "      <td>Дуxless 2</td>\n",
       "      <td>111000415</td>\n",
       "      <td>2015-01-26 12:00:00</td>\n",
       "      <td>Художественный</td>\n",
       "      <td>ООО \"Киностудия \"Слово\", ООО \"Арт Пикчерс Студия\"</td>\n",
       "      <td>Россия</td>\n",
       "      <td>Р.Прыгунов</td>\n",
       "      <td>П.Ануров, Ф.Бондарчук, Д.Рудовский</td>\n",
       "      <td>«16+» - для детей старше 16 лет</td>\n",
       "      <td>0.0</td>\n",
       "      <td>75000000.0</td>\n",
       "      <td>0.0</td>\n",
       "      <td>Фонд кино</td>\n",
       "      <td>6.6</td>\n",
       "      <td>драма</td>\n",
       "      <td>4.461635e+08</td>\n",
       "      <td>75000000.0</td>\n",
       "      <td>-75000000.0</td>\n",
       "    </tr>\n",
       "    <tr>\n",
       "      <td>40</td>\n",
       "      <td>Воин (2015)</td>\n",
       "      <td>111017315</td>\n",
       "      <td>2015-09-28 12:00:00</td>\n",
       "      <td>Художественный</td>\n",
       "      <td>ООО \"Форпост Продакшн\", ООО \"Арт Пикчерс Студия\"</td>\n",
       "      <td>Россия</td>\n",
       "      <td>А.Андрианов</td>\n",
       "      <td>ООО \"Арт Пикчерс Студия\"</td>\n",
       "      <td>«12+» - для детей старше 12 лет</td>\n",
       "      <td>10000000.0</td>\n",
       "      <td>70000000.0</td>\n",
       "      <td>0.0</td>\n",
       "      <td>Фонд кино</td>\n",
       "      <td>7.8</td>\n",
       "      <td>боевик,драма,криминал</td>\n",
       "      <td>1.965724e+08</td>\n",
       "      <td>80000000.0</td>\n",
       "      <td>-80000000.0</td>\n",
       "    </tr>\n",
       "    <tr>\n",
       "      <td>48</td>\n",
       "      <td>Бармен.</td>\n",
       "      <td>111009615</td>\n",
       "      <td>2015-05-26 12:00:00</td>\n",
       "      <td>Художественный</td>\n",
       "      <td>АО \"ВайТ Медиа\", ООО \"Арт Пикчерс Студия\"</td>\n",
       "      <td>Россия</td>\n",
       "      <td>Д.Штурманова</td>\n",
       "      <td>Т.Вайнштейн</td>\n",
       "      <td>«16+» - для детей старше 16 лет</td>\n",
       "      <td>20000000.0</td>\n",
       "      <td>0.0</td>\n",
       "      <td>0.0</td>\n",
       "      <td>Фонд кино</td>\n",
       "      <td>6.2</td>\n",
       "      <td>комедия,фэнтези</td>\n",
       "      <td>6.741897e+07</td>\n",
       "      <td>20000000.0</td>\n",
       "      <td>-20000000.0</td>\n",
       "    </tr>\n",
       "    <tr>\n",
       "      <td>66</td>\n",
       "      <td>Савва. Сердце воина</td>\n",
       "      <td>114001715</td>\n",
       "      <td>2015-07-21 12:00:00</td>\n",
       "      <td>Анимационный</td>\n",
       "      <td>ООО \"Глюкоза Продакшн\", ООО \"Арт Пикчерс Студия\"</td>\n",
       "      <td>Россия</td>\n",
       "      <td>М.Фадеев</td>\n",
       "      <td>А.Чистяков</td>\n",
       "      <td>«6+» - для детей старше 6 лет</td>\n",
       "      <td>60000000.0</td>\n",
       "      <td>100000000.0</td>\n",
       "      <td>0.0</td>\n",
       "      <td>Фонд кино</td>\n",
       "      <td>4.6</td>\n",
       "      <td>мультфильм,приключения,фэнтези</td>\n",
       "      <td>1.844876e+08</td>\n",
       "      <td>160000000.0</td>\n",
       "      <td>-160000000.0</td>\n",
       "    </tr>\n",
       "    <tr>\n",
       "      <td>70</td>\n",
       "      <td>Тряпичный союз</td>\n",
       "      <td>111010215</td>\n",
       "      <td>2015-06-08 12:00:00</td>\n",
       "      <td>Художественный</td>\n",
       "      <td>ООО \"Кинокомпания \"КОКТЕБЕЛЬ\"</td>\n",
       "      <td>Россия</td>\n",
       "      <td>М.Местецкий</td>\n",
       "      <td>Р.Борисевич, А.Кушаев</td>\n",
       "      <td>«18+» - запрещено для детей</td>\n",
       "      <td>0.0</td>\n",
       "      <td>59000000.0</td>\n",
       "      <td>0.0</td>\n",
       "      <td>Фонд кино</td>\n",
       "      <td>6.3</td>\n",
       "      <td>комедия,драма</td>\n",
       "      <td>1.957739e+06</td>\n",
       "      <td>59000000.0</td>\n",
       "      <td>-59000000.0</td>\n",
       "    </tr>\n",
       "    <tr>\n",
       "      <td>84</td>\n",
       "      <td>Срочно выйду замуж</td>\n",
       "      <td>111017115</td>\n",
       "      <td>2015-09-30 12:00:00</td>\n",
       "      <td>Художественный</td>\n",
       "      <td>АО \"ВайТ Медиа\", ООО \"Арт Пикчерс Студия\"</td>\n",
       "      <td>Россия</td>\n",
       "      <td>С Чекалов</td>\n",
       "      <td>Ф.Бондарчук, Т.Вайнштейн, Д.Рудовский</td>\n",
       "      <td>«16+» - для детей старше 16 лет</td>\n",
       "      <td>0.0</td>\n",
       "      <td>35000000.0</td>\n",
       "      <td>0.0</td>\n",
       "      <td>Фонд кино</td>\n",
       "      <td>5.1</td>\n",
       "      <td>комедия,мелодрама</td>\n",
       "      <td>7.293778e+07</td>\n",
       "      <td>35000000.0</td>\n",
       "      <td>-35000000.0</td>\n",
       "    </tr>\n",
       "    <tr>\n",
       "      <td>91</td>\n",
       "      <td>Помню - не помню!</td>\n",
       "      <td>111004916</td>\n",
       "      <td>2016-03-01 12:00:00</td>\n",
       "      <td>Художественный</td>\n",
       "      <td>ООО \"КиноФирма\"</td>\n",
       "      <td>Россия</td>\n",
       "      <td>В.Ровенский</td>\n",
       "      <td>ООО \"КиноФирма\"</td>\n",
       "      <td>«12+» - для детей старше 12 лет</td>\n",
       "      <td>0.0</td>\n",
       "      <td>6000000.0</td>\n",
       "      <td>0.0</td>\n",
       "      <td>Министерство культуры</td>\n",
       "      <td>4.3</td>\n",
       "      <td>комедия</td>\n",
       "      <td>1.536293e+07</td>\n",
       "      <td>6000000.0</td>\n",
       "      <td>-6000000.0</td>\n",
       "    </tr>\n",
       "    <tr>\n",
       "      <td>109</td>\n",
       "      <td>Любовь с ограничениями</td>\n",
       "      <td>111008216</td>\n",
       "      <td>2016-04-29 12:00:00</td>\n",
       "      <td>Художественный</td>\n",
       "      <td>АО \"ВайТ Медиа\", ООО \"Арт Пикчерс Студия\"</td>\n",
       "      <td>Россия</td>\n",
       "      <td>Д.Тюрин</td>\n",
       "      <td>Ф.Бондарчук, Т.Вайнштейн, Д.Рудовский</td>\n",
       "      <td>«16+» - для детей старше 16 лет</td>\n",
       "      <td>19000000.0</td>\n",
       "      <td>51000000.0</td>\n",
       "      <td>0.0</td>\n",
       "      <td>Фонд кино</td>\n",
       "      <td>6.3</td>\n",
       "      <td>комедия,мелодрама</td>\n",
       "      <td>7.029905e+07</td>\n",
       "      <td>70000000.0</td>\n",
       "      <td>-70000000.0</td>\n",
       "    </tr>\n",
       "    <tr>\n",
       "      <td>161</td>\n",
       "      <td>Притяжение (2016)</td>\n",
       "      <td>111018116</td>\n",
       "      <td>2016-12-16 12:00:00</td>\n",
       "      <td>Художественный</td>\n",
       "      <td>ООО \"Водород 2011\",  ООО \"Арт Пикчерс Студия\"</td>\n",
       "      <td>Россия</td>\n",
       "      <td>Ф.Бондарчук</td>\n",
       "      <td>ООО \"Арт Пикчерс Студия\"</td>\n",
       "      <td>«12+» - для детей старше 12 лет</td>\n",
       "      <td>0.0</td>\n",
       "      <td>250000000.0</td>\n",
       "      <td>0.0</td>\n",
       "      <td>Фонд кино</td>\n",
       "      <td>5.6</td>\n",
       "      <td>фантастика</td>\n",
       "      <td>1.038321e+09</td>\n",
       "      <td>250000000.0</td>\n",
       "      <td>-250000000.0</td>\n",
       "    </tr>\n",
       "  </tbody>\n",
       "</table>\n",
       "</div>"
      ],
      "text/plain": [
       "                      title   puNumber     show_start_date            type  \\\n",
       "15                      14+  111023614 2014-12-19 12:00:00  Художественный   \n",
       "16                Дуxless 2  111000415 2015-01-26 12:00:00  Художественный   \n",
       "40              Воин (2015)  111017315 2015-09-28 12:00:00  Художественный   \n",
       "48                  Бармен.  111009615 2015-05-26 12:00:00  Художественный   \n",
       "66      Савва. Сердце воина  114001715 2015-07-21 12:00:00    Анимационный   \n",
       "70           Тряпичный союз  111010215 2015-06-08 12:00:00  Художественный   \n",
       "84       Срочно выйду замуж  111017115 2015-09-30 12:00:00  Художественный   \n",
       "91        Помню - не помню!  111004916 2016-03-01 12:00:00  Художественный   \n",
       "109  Любовь с ограничениями  111008216 2016-04-29 12:00:00  Художественный   \n",
       "161       Притяжение (2016)  111018116 2016-12-16 12:00:00  Художественный   \n",
       "\n",
       "                                           film_studio production_country  \\\n",
       "15                          ООО Киностудия  \"Сентябрь\"             Россия   \n",
       "16   ООО \"Киностудия \"Слово\", ООО \"Арт Пикчерс Студия\"             Россия   \n",
       "40    ООО \"Форпост Продакшн\", ООО \"Арт Пикчерс Студия\"             Россия   \n",
       "48           АО \"ВайТ Медиа\", ООО \"Арт Пикчерс Студия\"             Россия   \n",
       "66    ООО \"Глюкоза Продакшн\", ООО \"Арт Пикчерс Студия\"             Россия   \n",
       "70                       ООО \"Кинокомпания \"КОКТЕБЕЛЬ\"             Россия   \n",
       "84           АО \"ВайТ Медиа\", ООО \"Арт Пикчерс Студия\"             Россия   \n",
       "91                                     ООО \"КиноФирма\"             Россия   \n",
       "109          АО \"ВайТ Медиа\", ООО \"Арт Пикчерс Студия\"             Россия   \n",
       "161      ООО \"Водород 2011\",  ООО \"Арт Пикчерс Студия\"             Россия   \n",
       "\n",
       "         director                               producer  \\\n",
       "15       А.Зайцев                    О.Гранина, А.Зайцев   \n",
       "16     Р.Прыгунов     П.Ануров, Ф.Бондарчук, Д.Рудовский   \n",
       "40    А.Андрианов               ООО \"Арт Пикчерс Студия\"   \n",
       "48   Д.Штурманова                            Т.Вайнштейн   \n",
       "66       М.Фадеев                             А.Чистяков   \n",
       "70    М.Местецкий                  Р.Борисевич, А.Кушаев   \n",
       "84      С Чекалов  Ф.Бондарчук, Т.Вайнштейн, Д.Рудовский   \n",
       "91    В.Ровенский                        ООО \"КиноФирма\"   \n",
       "109       Д.Тюрин  Ф.Бондарчук, Т.Вайнштейн, Д.Рудовский   \n",
       "161   Ф.Бондарчук               ООО \"Арт Пикчерс Студия\"   \n",
       "\n",
       "                     age_restriction  refundable_support  \\\n",
       "15   «16+» - для детей старше 16 лет                 0.0   \n",
       "16   «16+» - для детей старше 16 лет                 0.0   \n",
       "40   «12+» - для детей старше 12 лет          10000000.0   \n",
       "48   «16+» - для детей старше 16 лет          20000000.0   \n",
       "66     «6+» - для детей старше 6 лет          60000000.0   \n",
       "70       «18+» - запрещено для детей                 0.0   \n",
       "84   «16+» - для детей старше 16 лет                 0.0   \n",
       "91   «12+» - для детей старше 12 лет                 0.0   \n",
       "109  «16+» - для детей старше 16 лет          19000000.0   \n",
       "161  «12+» - для детей старше 12 лет                 0.0   \n",
       "\n",
       "     nonrefundable_support  budget                  financing_source  ratings  \\\n",
       "15              23000000.0     0.0  Министерство культуры, Фонд кино      6.6   \n",
       "16              75000000.0     0.0                         Фонд кино      6.6   \n",
       "40              70000000.0     0.0                         Фонд кино      7.8   \n",
       "48                     0.0     0.0                         Фонд кино      6.2   \n",
       "66             100000000.0     0.0                         Фонд кино      4.6   \n",
       "70              59000000.0     0.0                         Фонд кино      6.3   \n",
       "84              35000000.0     0.0                         Фонд кино      5.1   \n",
       "91               6000000.0     0.0             Министерство культуры      4.3   \n",
       "109             51000000.0     0.0                         Фонд кино      6.3   \n",
       "161            250000000.0     0.0                         Фонд кино      5.6   \n",
       "\n",
       "                             genres    box_office  goverment_support  \\\n",
       "15                        мелодрама  1.023402e+07         23000000.0   \n",
       "16                            драма  4.461635e+08         75000000.0   \n",
       "40            боевик,драма,криминал  1.965724e+08         80000000.0   \n",
       "48                  комедия,фэнтези  6.741897e+07         20000000.0   \n",
       "66   мультфильм,приключения,фэнтези  1.844876e+08        160000000.0   \n",
       "70                    комедия,драма  1.957739e+06         59000000.0   \n",
       "84                комедия,мелодрама  7.293778e+07         35000000.0   \n",
       "91                          комедия  1.536293e+07          6000000.0   \n",
       "109               комедия,мелодрама  7.029905e+07         70000000.0   \n",
       "161                      фантастика  1.038321e+09        250000000.0   \n",
       "\n",
       "     budget_delta  \n",
       "15    -23000000.0  \n",
       "16    -75000000.0  \n",
       "40    -80000000.0  \n",
       "48    -20000000.0  \n",
       "66   -160000000.0  \n",
       "70    -59000000.0  \n",
       "84    -35000000.0  \n",
       "91     -6000000.0  \n",
       "109   -70000000.0  \n",
       "161  -250000000.0  "
      ]
     },
     "execution_count": 28,
     "metadata": {},
     "output_type": "execute_result"
    }
   ],
   "source": [
    "films_gov[films_gov.budget_delta < 0].head(10)"
   ]
  },
  {
   "cell_type": "markdown",
   "metadata": {},
   "source": [
    "Нетрудно заметить, что такие \"странные\" значения разницы бюджета появляются там, где бюджет фильма равен нулю. Логично высказать предположение, что нулевой бюджет указан у фильмов, снятых полностью за государственные деньги. Для этого дополнительно проверим, сколько строк содержат разницу бюджета и поддержки, равную нулю:"
   ]
  },
  {
   "cell_type": "code",
   "execution_count": 29,
   "metadata": {},
   "outputs": [
    {
     "name": "stdout",
     "output_type": "stream",
     "text": [
      "Количество строк, содержащих нулевую разницу бюджета и государственной поддержки: 0\n"
     ]
    }
   ],
   "source": [
    "print('Количество строк, содержащих нулевую разницу бюджета и государственной поддержки:', \n",
    "      len(films_gov[films_gov.budget_delta == 0]))"
   ]
  },
  {
   "cell_type": "markdown",
   "metadata": {},
   "source": [
    "Гипотеза подтвердилась, а значит, можно заменить нулевые значения суммарным значением государственной поддержки (применим замену для обеих таблиц)."
   ]
  },
  {
   "cell_type": "code",
   "execution_count": 30,
   "metadata": {},
   "outputs": [],
   "source": [
    "films_gov.loc[films_gov.budget_delta < 0, 'budget'] = films_gov.loc[films_gov.budget_delta < 0, 'goverment_support']\n",
    "films_gov['budget_delta'] = films_gov.budget - films_gov.goverment_support\n",
    "films.loc[films.budget == 0, 'budget'] = films.loc[films.budget == 0, 'refundable_support'] + films.loc[films.budget == 0,\n",
    "                                                                                                        'nonrefundable_support']"
   ]
  },
  {
   "cell_type": "markdown",
   "metadata": {},
   "source": [
    "Далее проверим значения столбца box_office:"
   ]
  },
  {
   "cell_type": "code",
   "execution_count": 31,
   "metadata": {},
   "outputs": [
    {
     "name": "stdout",
     "output_type": "stream",
     "text": [
      "Количество фильмов с кассовыми сборами менее 10000 рублей: 539\n"
     ]
    },
    {
     "data": {
      "text/html": [
       "<div>\n",
       "<style scoped>\n",
       "    .dataframe tbody tr th:only-of-type {\n",
       "        vertical-align: middle;\n",
       "    }\n",
       "\n",
       "    .dataframe tbody tr th {\n",
       "        vertical-align: top;\n",
       "    }\n",
       "\n",
       "    .dataframe thead th {\n",
       "        text-align: right;\n",
       "    }\n",
       "</style>\n",
       "<table border=\"1\" class=\"dataframe\">\n",
       "  <thead>\n",
       "    <tr style=\"text-align: right;\">\n",
       "      <th></th>\n",
       "      <th>title</th>\n",
       "      <th>puNumber</th>\n",
       "      <th>show_start_date</th>\n",
       "      <th>type</th>\n",
       "      <th>film_studio</th>\n",
       "      <th>production_country</th>\n",
       "      <th>director</th>\n",
       "      <th>producer</th>\n",
       "      <th>age_restriction</th>\n",
       "      <th>refundable_support</th>\n",
       "      <th>nonrefundable_support</th>\n",
       "      <th>budget</th>\n",
       "      <th>financing_source</th>\n",
       "      <th>ratings</th>\n",
       "      <th>genres</th>\n",
       "      <th>box_office</th>\n",
       "    </tr>\n",
       "  </thead>\n",
       "  <tbody>\n",
       "    <tr>\n",
       "      <td>6</td>\n",
       "      <td>Любовь и голуби</td>\n",
       "      <td>111007013</td>\n",
       "      <td>2013-10-18 12:00:00</td>\n",
       "      <td>Художественный</td>\n",
       "      <td>Киностудия \"Мосфильм\"</td>\n",
       "      <td>СССР</td>\n",
       "      <td>В.Меньшов</td>\n",
       "      <td>unknown producer</td>\n",
       "      <td>«12+» - для детей старше 12 лет</td>\n",
       "      <td>NaN</td>\n",
       "      <td>NaN</td>\n",
       "      <td>NaN</td>\n",
       "      <td>NaN</td>\n",
       "      <td>8.3</td>\n",
       "      <td>мелодрама,комедия</td>\n",
       "      <td>2700.0</td>\n",
       "    </tr>\n",
       "    <tr>\n",
       "      <td>18</td>\n",
       "      <td>Неподдающиеся</td>\n",
       "      <td>111003616</td>\n",
       "      <td>2016-02-12 12:00:00</td>\n",
       "      <td>Художественный</td>\n",
       "      <td>Киностудия \"Мосфильм\"</td>\n",
       "      <td>СССР</td>\n",
       "      <td>Ю.Чулюкин</td>\n",
       "      <td>unknown producer</td>\n",
       "      <td>«6+» - для детей старше 6 лет</td>\n",
       "      <td>NaN</td>\n",
       "      <td>NaN</td>\n",
       "      <td>NaN</td>\n",
       "      <td>NaN</td>\n",
       "      <td>8.0</td>\n",
       "      <td>мелодрама,комедия</td>\n",
       "      <td>360.0</td>\n",
       "    </tr>\n",
       "    <tr>\n",
       "      <td>19</td>\n",
       "      <td>Неподсуден</td>\n",
       "      <td>111003716</td>\n",
       "      <td>2016-02-12 12:00:00</td>\n",
       "      <td>Художественный</td>\n",
       "      <td>Киностудия \"Мосфильм\"</td>\n",
       "      <td>СССР</td>\n",
       "      <td>В.Краснопольский, В.Усков</td>\n",
       "      <td>unknown producer</td>\n",
       "      <td>«6+» - для детей старше 6 лет</td>\n",
       "      <td>NaN</td>\n",
       "      <td>NaN</td>\n",
       "      <td>NaN</td>\n",
       "      <td>NaN</td>\n",
       "      <td>7.7</td>\n",
       "      <td>драма</td>\n",
       "      <td>420.0</td>\n",
       "    </tr>\n",
       "    <tr>\n",
       "      <td>22</td>\n",
       "      <td>Операция \"Ы\" и другие приключения Шурика</td>\n",
       "      <td>111007413</td>\n",
       "      <td>2013-10-18 12:00:00</td>\n",
       "      <td>Художественный</td>\n",
       "      <td>Киностудия \"Мосфильм\"</td>\n",
       "      <td>СССР</td>\n",
       "      <td>Л.Гайдай</td>\n",
       "      <td>unknown producer</td>\n",
       "      <td>«6+» - для детей старше 6 лет</td>\n",
       "      <td>NaN</td>\n",
       "      <td>NaN</td>\n",
       "      <td>NaN</td>\n",
       "      <td>NaN</td>\n",
       "      <td>8.7</td>\n",
       "      <td>комедия,мелодрама,криминал</td>\n",
       "      <td>380.0</td>\n",
       "    </tr>\n",
       "    <tr>\n",
       "      <td>38</td>\n",
       "      <td>Мужики!..</td>\n",
       "      <td>111007213</td>\n",
       "      <td>2013-10-18 12:00:00</td>\n",
       "      <td>Художественный</td>\n",
       "      <td>Киностудия \"Мосфильм\"</td>\n",
       "      <td>СССР</td>\n",
       "      <td>И.Бабич</td>\n",
       "      <td>unknown producer</td>\n",
       "      <td>«6+» - для детей старше 6 лет</td>\n",
       "      <td>NaN</td>\n",
       "      <td>NaN</td>\n",
       "      <td>NaN</td>\n",
       "      <td>NaN</td>\n",
       "      <td>8.1</td>\n",
       "      <td>драма</td>\n",
       "      <td>1165.0</td>\n",
       "    </tr>\n",
       "  </tbody>\n",
       "</table>\n",
       "</div>"
      ],
      "text/plain": [
       "                                       title   puNumber     show_start_date  \\\n",
       "6                            Любовь и голуби  111007013 2013-10-18 12:00:00   \n",
       "18                             Неподдающиеся  111003616 2016-02-12 12:00:00   \n",
       "19                                Неподсуден  111003716 2016-02-12 12:00:00   \n",
       "22  Операция \"Ы\" и другие приключения Шурика  111007413 2013-10-18 12:00:00   \n",
       "38                                 Мужики!..  111007213 2013-10-18 12:00:00   \n",
       "\n",
       "              type            film_studio production_country  \\\n",
       "6   Художественный  Киностудия \"Мосфильм\"               СССР   \n",
       "18  Художественный  Киностудия \"Мосфильм\"               СССР   \n",
       "19  Художественный  Киностудия \"Мосфильм\"               СССР   \n",
       "22  Художественный  Киностудия \"Мосфильм\"               СССР   \n",
       "38  Художественный  Киностудия \"Мосфильм\"               СССР   \n",
       "\n",
       "                     director          producer  \\\n",
       "6                   В.Меньшов  unknown producer   \n",
       "18                  Ю.Чулюкин  unknown producer   \n",
       "19  В.Краснопольский, В.Усков  unknown producer   \n",
       "22                   Л.Гайдай  unknown producer   \n",
       "38                    И.Бабич  unknown producer   \n",
       "\n",
       "                    age_restriction  refundable_support  \\\n",
       "6   «12+» - для детей старше 12 лет                 NaN   \n",
       "18    «6+» - для детей старше 6 лет                 NaN   \n",
       "19    «6+» - для детей старше 6 лет                 NaN   \n",
       "22    «6+» - для детей старше 6 лет                 NaN   \n",
       "38    «6+» - для детей старше 6 лет                 NaN   \n",
       "\n",
       "    nonrefundable_support  budget financing_source  ratings  \\\n",
       "6                     NaN     NaN              NaN      8.3   \n",
       "18                    NaN     NaN              NaN      8.0   \n",
       "19                    NaN     NaN              NaN      7.7   \n",
       "22                    NaN     NaN              NaN      8.7   \n",
       "38                    NaN     NaN              NaN      8.1   \n",
       "\n",
       "                        genres  box_office  \n",
       "6            мелодрама,комедия      2700.0  \n",
       "18           мелодрама,комедия       360.0  \n",
       "19                       драма       420.0  \n",
       "22  комедия,мелодрама,криминал       380.0  \n",
       "38                       драма      1165.0  "
      ]
     },
     "execution_count": 31,
     "metadata": {},
     "output_type": "execute_result"
    }
   ],
   "source": [
    "print('Количество фильмов с кассовыми сборами менее 10000 рублей:', len(films[films.box_office < 10000]))\n",
    "films[films.box_office < 10000].head()"
   ]
  },
  {
   "cell_type": "markdown",
   "metadata": {},
   "source": [
    "В таблице присутствует часть фильмов, у которых очень низкие кассовые сборы в российских кинотеатрах (либо вообще отсутствуют).\n",
    "\n",
    "Если исключить факт ошибки размерности (например, указано не в рублях, а тысячах рублей), то наиболее вероятная причина таких явлений: кассовые сборы в российских кинотеатрах закреплены за определенными номерами прокатных удостоверений. Соответственно, для старых фильмов, на которые получены прокатные удостоверения в современности, будут отображаться низкие кассовые сборы.\n",
    "\n",
    "Приняв последнее утверждение верным, можно считать, что данные столбца box_office корректны."
   ]
  },
  {
   "cell_type": "markdown",
   "metadata": {},
   "source": [
    "##### Вывод\n",
    "\n",
    "Проведен анализ всех количественных столбцов из набора данных. Изучены гистограммы распределений всех значений количественных переменных.\n",
    "\n",
    "Обнаружены и устранены ошибочные данные в столбце budget.\n",
    "\n",
    "Объяснены аномально низкие значения кассовых сборов в российских кинотеатрах."
   ]
  },
  {
   "cell_type": "markdown",
   "metadata": {
    "id": "Eu6oWp2CgFyS"
   },
   "source": [
    "#### Добавление новых столбцов"
   ]
  },
  {
   "cell_type": "markdown",
   "metadata": {
    "id": "7GgW-UpAgFyS"
   },
   "source": [
    "Введем дополнительный столбец, содержащий год премьерного показа, для менее строгой категоризации по дате."
   ]
  },
  {
   "cell_type": "code",
   "execution_count": 32,
   "metadata": {
    "id": "I-yd1DkWgFyT"
   },
   "outputs": [],
   "source": [
    "films['year'] = films.show_start_date.dt.year\n",
    "films_gov['year'] = films_gov.show_start_date.dt.year"
   ]
  },
  {
   "cell_type": "markdown",
   "metadata": {
    "id": "nFTDLDYOgFyT"
   },
   "source": [
    "Далее необходимо выделить главного режиссера и основной жанр фильма:"
   ]
  },
  {
   "cell_type": "code",
   "execution_count": 33,
   "metadata": {
    "id": "LSbRZKbMgFyU"
   },
   "outputs": [],
   "source": [
    "def main_word(value):\n",
    "    return(value.split(',')[0])\n",
    "films['main_genre'] = films.genres.apply(main_word)\n",
    "films['main_director'] = films.director.apply(main_word)\n",
    "films_gov['main_genre'] = films_gov.genres.apply(main_word)\n",
    "films_gov['main_director'] = films_gov.director.apply(main_word)"
   ]
  },
  {
   "cell_type": "markdown",
   "metadata": {
    "id": "1FsCXHwdgFyU"
   },
   "source": [
    "Рассчитаем долю государственной поддержки от общего бюджета фильма:"
   ]
  },
  {
   "cell_type": "code",
   "execution_count": 34,
   "metadata": {
    "id": "LV6qFuZLgFyV"
   },
   "outputs": [],
   "source": [
    "films_gov['gov_perc'] = films_gov.goverment_support / films_gov.budget"
   ]
  },
  {
   "cell_type": "markdown",
   "metadata": {},
   "source": [
    "##### Вывод\n",
    "\n",
    "Из имеющегося набора данных выделены следующие столбцы: год премьерного показа фильма, имя и фамилия главного режиссера, основной жанр фильма, а также рассчитано значение процента государственной поддержки фильмов."
   ]
  },
  {
   "cell_type": "markdown",
   "metadata": {
    "id": "6t4EukPLgFyV"
   },
   "source": [
    "### Исследовательский анализ данных\n"
   ]
  },
  {
   "cell_type": "markdown",
   "metadata": {},
   "source": [
    "#### Исследование количества фильмов, вышедших в прокат"
   ]
  },
  {
   "cell_type": "markdown",
   "metadata": {},
   "source": [
    "Произведем расчёт количества вышедших в прокат фильмов, а также, количества фильмов, о показе в кинотеатре которых есть информация:"
   ]
  },
  {
   "cell_type": "code",
   "execution_count": 35,
   "metadata": {
    "id": "ABeV47y7gFyW",
    "scrolled": false
   },
   "outputs": [
    {
     "name": "stdout",
     "output_type": "stream",
     "text": [
      "Общая доля фильмов, показанных в кинотеатрах с 2010 по 2019 год: 42.0%\n",
      "\n",
      "Доля фильмов, показанных в кинотеатрах по годам:\n"
     ]
    },
    {
     "data": {
      "text/html": [
       "<div>\n",
       "<style scoped>\n",
       "    .dataframe tbody tr th:only-of-type {\n",
       "        vertical-align: middle;\n",
       "    }\n",
       "\n",
       "    .dataframe tbody tr th {\n",
       "        vertical-align: top;\n",
       "    }\n",
       "\n",
       "    .dataframe thead th {\n",
       "        text-align: right;\n",
       "    }\n",
       "</style>\n",
       "<table border=\"1\" class=\"dataframe\">\n",
       "  <thead>\n",
       "    <tr style=\"text-align: right;\">\n",
       "      <th></th>\n",
       "      <th>year</th>\n",
       "      <th>cin_perс</th>\n",
       "    </tr>\n",
       "  </thead>\n",
       "  <tbody>\n",
       "    <tr>\n",
       "      <td>0</td>\n",
       "      <td>2010</td>\n",
       "      <td>10.68</td>\n",
       "    </tr>\n",
       "    <tr>\n",
       "      <td>1</td>\n",
       "      <td>2011</td>\n",
       "      <td>17.52</td>\n",
       "    </tr>\n",
       "    <tr>\n",
       "      <td>2</td>\n",
       "      <td>2012</td>\n",
       "      <td>21.59</td>\n",
       "    </tr>\n",
       "    <tr>\n",
       "      <td>3</td>\n",
       "      <td>2013</td>\n",
       "      <td>29.21</td>\n",
       "    </tr>\n",
       "    <tr>\n",
       "      <td>4</td>\n",
       "      <td>2014</td>\n",
       "      <td>34.57</td>\n",
       "    </tr>\n",
       "    <tr>\n",
       "      <td>5</td>\n",
       "      <td>2015</td>\n",
       "      <td>65.96</td>\n",
       "    </tr>\n",
       "    <tr>\n",
       "      <td>6</td>\n",
       "      <td>2016</td>\n",
       "      <td>64.30</td>\n",
       "    </tr>\n",
       "    <tr>\n",
       "      <td>7</td>\n",
       "      <td>2017</td>\n",
       "      <td>70.69</td>\n",
       "    </tr>\n",
       "    <tr>\n",
       "      <td>8</td>\n",
       "      <td>2018</td>\n",
       "      <td>53.31</td>\n",
       "    </tr>\n",
       "    <tr>\n",
       "      <td>9</td>\n",
       "      <td>2019</td>\n",
       "      <td>56.99</td>\n",
       "    </tr>\n",
       "  </tbody>\n",
       "</table>\n",
       "</div>"
      ],
      "text/plain": [
       "   year  cin_perс\n",
       "0  2010     10.68\n",
       "1  2011     17.52\n",
       "2  2012     21.59\n",
       "3  2013     29.21\n",
       "4  2014     34.57\n",
       "5  2015     65.96\n",
       "6  2016     64.30\n",
       "7  2017     70.69\n",
       "8  2018     53.31\n",
       "9  2019     56.99"
      ]
     },
     "execution_count": 35,
     "metadata": {},
     "output_type": "execute_result"
    },
    {
     "data": {
      "image/png": "[encoded data removed]",
      "text/plain": [
       "<Figure size 576x360 with 1 Axes>"
      ]
     },
     "metadata": {
      "needs_background": "light"
     },
     "output_type": "display_data"
    }
   ],
   "source": [
    "films_by_year = films.pivot_table(index='year', values='title', aggfunc='count')\n",
    "films_by_year_cin = films[films.box_office.notna()].pivot_table(index='year', values='title', aggfunc='count')\n",
    "films_by_year = films_by_year.reset_index()\n",
    "films_by_year_cin = films_by_year_cin.reset_index()\n",
    "films_by_year.columns = ['year', 'num_of_films']\n",
    "films_by_year_cin.columns = ['year', 'num_of_films_cin']\n",
    "\n",
    "films_by_year = films_by_year.merge(films_by_year_cin, how='left').fillna(0)\n",
    "films_by_year.plot.bar(x='year', y=['num_of_films', 'num_of_films_cin'], figsize=(8,5));\n",
    "\n",
    "print(f'''Общая доля фильмов, показанных в кинотеатрах с 2010 по 2019 год: {round(\n",
    "films_by_year.num_of_films_cin.sum() / films_by_year.num_of_films.sum(), 2) * 100}%\\n''')\n",
    "print('Доля фильмов, показанных в кинотеатрах по годам:')\n",
    "films_by_year['cin_perс'] = round(films_by_year.num_of_films_cin / \n",
    "                                  films_by_year.num_of_films * 100, 2)\n",
    "films_by_year[['year','cin_perс']]"
   ]
  },
  {
   "cell_type": "markdown",
   "metadata": {},
   "source": [
    "##### Вывод\n",
    "\n",
    "Ознакомившись с распределениями данных можно сделать следующие выводы:\n",
    "\n",
    "* В 2010 годы наблюдалось довольно большое количество вышедших в прокат фильмах, но среди прочих лет, в этом году был минимальный процент показа в кинотеатрах.\n",
    "* С 2011 по 2016 год наблюдается парный рост как числа вышедших в прокат фильмов, так и числа показанных фильмов в кинотеатрах. Причём процент показанных в кинотеатрах фильмов в этот период возрастает с каждым годом.\n",
    "* В 2017 году наблюдается резкий спад количества фильмов, вышедших в прокат (как следствие, спад показанных в кинотеатрах фильмов), но при этом в 2017 году самый высокий процет показанных в кинотеатрах фильмов.\n",
    "* С 2018 по 2019 год наблюдается рост, аналогичный периоду 2011-2016, однако, процент показанных в кинотеатрах фильмов уже не растёт так существенно\n"
   ]
  },
  {
   "cell_type": "markdown",
   "metadata": {
    "id": "BEOdcIrIgFyW"
   },
   "source": [
    "#### Исследование динамики проката по годам"
   ]
  },
  {
   "cell_type": "markdown",
   "metadata": {},
   "source": [
    "Исследуем динамику кассовых сборов по годам. Для этого построим график кассовых сборов в логарифмическом масштабе, а также рассчитаем основные показатели: суммарный кассовый сбор, среднее значение кассового сбора для каждого фильма, медианное значение кассового сбора для каждого фильма."
   ]
  },
  {
   "cell_type": "code",
   "execution_count": 36,
   "metadata": {
    "id": "tfEhofYvgFyX",
    "scrolled": false
   },
   "outputs": [
    {
     "data": {
      "text/html": [
       "<div>\n",
       "<style scoped>\n",
       "    .dataframe tbody tr th:only-of-type {\n",
       "        vertical-align: middle;\n",
       "    }\n",
       "\n",
       "    .dataframe tbody tr th {\n",
       "        vertical-align: top;\n",
       "    }\n",
       "\n",
       "    .dataframe thead th {\n",
       "        text-align: right;\n",
       "    }\n",
       "</style>\n",
       "<table border=\"1\" class=\"dataframe\">\n",
       "  <thead>\n",
       "    <tr style=\"text-align: right;\">\n",
       "      <th></th>\n",
       "      <th>year</th>\n",
       "      <th>total_box_office</th>\n",
       "      <th>mean_box_office</th>\n",
       "      <th>median_box_office</th>\n",
       "    </tr>\n",
       "  </thead>\n",
       "  <tbody>\n",
       "    <tr>\n",
       "      <td>0</td>\n",
       "      <td>2010</td>\n",
       "      <td>2.428654e+06</td>\n",
       "      <td>2.313004e+04</td>\n",
       "      <td>1700.000</td>\n",
       "    </tr>\n",
       "    <tr>\n",
       "      <td>1</td>\n",
       "      <td>2011</td>\n",
       "      <td>1.410276e+07</td>\n",
       "      <td>1.293832e+05</td>\n",
       "      <td>3000.000</td>\n",
       "    </tr>\n",
       "    <tr>\n",
       "      <td>2</td>\n",
       "      <td>2012</td>\n",
       "      <td>6.955423e+06</td>\n",
       "      <td>5.433924e+04</td>\n",
       "      <td>5660.000</td>\n",
       "    </tr>\n",
       "    <tr>\n",
       "      <td>3</td>\n",
       "      <td>2013</td>\n",
       "      <td>2.979971e+07</td>\n",
       "      <td>1.619549e+05</td>\n",
       "      <td>3522.500</td>\n",
       "    </tr>\n",
       "    <tr>\n",
       "      <td>4</td>\n",
       "      <td>2014</td>\n",
       "      <td>7.444952e+09</td>\n",
       "      <td>2.668442e+07</td>\n",
       "      <td>18160.000</td>\n",
       "    </tr>\n",
       "    <tr>\n",
       "      <td>5</td>\n",
       "      <td>2015</td>\n",
       "      <td>3.949737e+10</td>\n",
       "      <td>8.494057e+07</td>\n",
       "      <td>4920933.000</td>\n",
       "    </tr>\n",
       "    <tr>\n",
       "      <td>6</td>\n",
       "      <td>2016</td>\n",
       "      <td>4.786630e+10</td>\n",
       "      <td>9.100057e+07</td>\n",
       "      <td>3846679.410</td>\n",
       "    </tr>\n",
       "    <tr>\n",
       "      <td>7</td>\n",
       "      <td>2017</td>\n",
       "      <td>4.856371e+10</td>\n",
       "      <td>1.360328e+08</td>\n",
       "      <td>9968340.000</td>\n",
       "    </tr>\n",
       "    <tr>\n",
       "      <td>8</td>\n",
       "      <td>2018</td>\n",
       "      <td>4.966840e+10</td>\n",
       "      <td>1.045651e+08</td>\n",
       "      <td>8891102.210</td>\n",
       "    </tr>\n",
       "    <tr>\n",
       "      <td>9</td>\n",
       "      <td>2019</td>\n",
       "      <td>4.842571e+10</td>\n",
       "      <td>9.136926e+07</td>\n",
       "      <td>4627798.345</td>\n",
       "    </tr>\n",
       "  </tbody>\n",
       "</table>\n",
       "</div>"
      ],
      "text/plain": [
       "   year  total_box_office  mean_box_office  median_box_office\n",
       "0  2010      2.428654e+06     2.313004e+04           1700.000\n",
       "1  2011      1.410276e+07     1.293832e+05           3000.000\n",
       "2  2012      6.955423e+06     5.433924e+04           5660.000\n",
       "3  2013      2.979971e+07     1.619549e+05           3522.500\n",
       "4  2014      7.444952e+09     2.668442e+07          18160.000\n",
       "5  2015      3.949737e+10     8.494057e+07        4920933.000\n",
       "6  2016      4.786630e+10     9.100057e+07        3846679.410\n",
       "7  2017      4.856371e+10     1.360328e+08        9968340.000\n",
       "8  2018      4.966840e+10     1.045651e+08        8891102.210\n",
       "9  2019      4.842571e+10     9.136926e+07        4627798.345"
      ]
     },
     "metadata": {},
     "output_type": "display_data"
    },
    {
     "data": {
      "image/png": "[encoded data removed]",
      "text/plain": [
       "<Figure size 720x576 with 1 Axes>"
      ]
     },
     "metadata": {
      "needs_background": "light"
     },
     "output_type": "display_data"
    }
   ],
   "source": [
    "films_by_year_cin = films[films.box_office.notna()].pivot_table(\n",
    "    index='year', values='box_office', aggfunc=['sum','mean','median'])\n",
    "films_by_year_cin = films_by_year_cin.reset_index()\n",
    "films_by_year_cin.columns = ['year', 'total_box_office', 'mean_box_office', 'median_box_office']\n",
    "display(films_by_year_cin)\n",
    "films_by_year_cin.plot(x='year', y='total_box_office', figsize=(10,8), grid=True, logy=True,\n",
    "                      title='Box office by years', color='red');"
   ]
  },
  {
   "cell_type": "markdown",
   "metadata": {},
   "source": [
    "Дополнительно рассмотрим среднее и медиану на срезе данных, из которого исключены фильмы с аномально низкими кассовыми сборами:"
   ]
  },
  {
   "cell_type": "code",
   "execution_count": 37,
   "metadata": {},
   "outputs": [
    {
     "data": {
      "text/html": [
       "<div>\n",
       "<style scoped>\n",
       "    .dataframe tbody tr th:only-of-type {\n",
       "        vertical-align: middle;\n",
       "    }\n",
       "\n",
       "    .dataframe tbody tr th {\n",
       "        vertical-align: top;\n",
       "    }\n",
       "\n",
       "    .dataframe thead tr th {\n",
       "        text-align: left;\n",
       "    }\n",
       "\n",
       "    .dataframe thead tr:last-of-type th {\n",
       "        text-align: right;\n",
       "    }\n",
       "</style>\n",
       "<table border=\"1\" class=\"dataframe\">\n",
       "  <thead>\n",
       "    <tr>\n",
       "      <th></th>\n",
       "      <th>mean</th>\n",
       "      <th>median</th>\n",
       "    </tr>\n",
       "    <tr>\n",
       "      <th></th>\n",
       "      <th>box_office</th>\n",
       "      <th>box_office</th>\n",
       "    </tr>\n",
       "    <tr>\n",
       "      <th>year</th>\n",
       "      <th></th>\n",
       "      <th></th>\n",
       "    </tr>\n",
       "  </thead>\n",
       "  <tbody>\n",
       "    <tr>\n",
       "      <td>2010</td>\n",
       "      <td>6.201470e+05</td>\n",
       "      <td>245630.00</td>\n",
       "    </tr>\n",
       "    <tr>\n",
       "      <td>2011</td>\n",
       "      <td>3.251634e+06</td>\n",
       "      <td>641375.00</td>\n",
       "    </tr>\n",
       "    <tr>\n",
       "      <td>2012</td>\n",
       "      <td>6.051211e+05</td>\n",
       "      <td>351643.00</td>\n",
       "    </tr>\n",
       "    <tr>\n",
       "      <td>2013</td>\n",
       "      <td>1.766003e+06</td>\n",
       "      <td>186090.00</td>\n",
       "    </tr>\n",
       "    <tr>\n",
       "      <td>2014</td>\n",
       "      <td>6.255049e+07</td>\n",
       "      <td>955970.50</td>\n",
       "    </tr>\n",
       "    <tr>\n",
       "      <td>2015</td>\n",
       "      <td>9.680330e+07</td>\n",
       "      <td>9432442.15</td>\n",
       "    </tr>\n",
       "    <tr>\n",
       "      <td>2016</td>\n",
       "      <td>1.038265e+08</td>\n",
       "      <td>6375092.00</td>\n",
       "    </tr>\n",
       "    <tr>\n",
       "      <td>2017</td>\n",
       "      <td>1.387523e+08</td>\n",
       "      <td>10668801.50</td>\n",
       "    </tr>\n",
       "    <tr>\n",
       "      <td>2018</td>\n",
       "      <td>1.065833e+08</td>\n",
       "      <td>9863417.75</td>\n",
       "    </tr>\n",
       "    <tr>\n",
       "      <td>2019</td>\n",
       "      <td>9.384665e+07</td>\n",
       "      <td>4916391.25</td>\n",
       "    </tr>\n",
       "  </tbody>\n",
       "</table>\n",
       "</div>"
      ],
      "text/plain": [
       "              mean       median\n",
       "        box_office   box_office\n",
       "year                           \n",
       "2010  6.201470e+05    245630.00\n",
       "2011  3.251634e+06    641375.00\n",
       "2012  6.051211e+05    351643.00\n",
       "2013  1.766003e+06    186090.00\n",
       "2014  6.255049e+07    955970.50\n",
       "2015  9.680330e+07   9432442.15\n",
       "2016  1.038265e+08   6375092.00\n",
       "2017  1.387523e+08  10668801.50\n",
       "2018  1.065833e+08   9863417.75\n",
       "2019  9.384665e+07   4916391.25"
      ]
     },
     "execution_count": 37,
     "metadata": {},
     "output_type": "execute_result"
    }
   ],
   "source": [
    "films[(films.box_office.notna()) & (films.box_office > 100000)].pivot_table(\n",
    "    index='year', values='box_office', aggfunc=['mean','median'])"
   ]
  },
  {
   "cell_type": "markdown",
   "metadata": {
    "id": "G-7qS-N-gFyY"
   },
   "source": [
    "##### Вывод\n",
    "\n",
    "Изучив графики и сводную таблицу можно сделать ряд интересных заключений:\n",
    "* С 2013 года наблюдается резкий рост суммарных кассовых сборов. Рост продолжается до 2015 года, после которого резко прекращается и стагнирует.\n",
    "* В данных присутствует очень существенная разница между медианными и средними значениями (от одного до нескольких порядков). Эта разница хорошо объясняется гипотезой, которая была выдвинута при исследовании столбца box_office. При исключении фильмов с низкими кассовыми сборами из рассмотрения, можно наблюдать несколько более реалистичную картину, в которой среднее и медианное значение расходятся не более чем на 2 порядка. Данные различия нетрудно объяснить тем, что очень популярные фильмы смещают значение среднего вправо. Причём, как косвенный показатель числа популярных фильмов в год можно рассматривать разницу между медианой и среднем. Чем больше разница, тем больше популярных фильмов было выпущено в рассматриваемом году.\n",
    "* Максимально большие кассовые сборы были в 2018 году, а минимальные в 2010 году.\n",
    "\n"
   ]
  },
  {
   "cell_type": "markdown",
   "metadata": {},
   "source": [
    "#### Исследование влияние возрастных ограничений на кассовые сборы фильмов в период с 2015 по 2019 год"
   ]
  },
  {
   "cell_type": "markdown",
   "metadata": {
    "id": "Ok89WFwJgFyZ"
   },
   "source": [
    "- Определите, влияет ли возрастное ограничение аудитории («6+», «12+», «16+», «18+» и т. д.) на сборы фильма в прокате в период с 2015 по 2019 год? Фильмы с каким возрастным ограничением собрали больше всего денег в прокате? Меняется ли картина в зависимости от года? Если да, предположите, с чем это может быть связано."
   ]
  },
  {
   "cell_type": "markdown",
   "metadata": {},
   "source": [
    "Посмотрим, как выглядят данные в разрезе возрастной категории, после чего дополнительно разделим данные на года премьерных показов:"
   ]
  },
  {
   "cell_type": "code",
   "execution_count": 38,
   "metadata": {
    "scrolled": false
   },
   "outputs": [
    {
     "data": {
      "text/html": [
       "<div>\n",
       "<style scoped>\n",
       "    .dataframe tbody tr th:only-of-type {\n",
       "        vertical-align: middle;\n",
       "    }\n",
       "\n",
       "    .dataframe tbody tr th {\n",
       "        vertical-align: top;\n",
       "    }\n",
       "\n",
       "    .dataframe thead th {\n",
       "        text-align: right;\n",
       "    }\n",
       "</style>\n",
       "<table border=\"1\" class=\"dataframe\">\n",
       "  <thead>\n",
       "    <tr style=\"text-align: right;\">\n",
       "      <th></th>\n",
       "      <th>age_restriction</th>\n",
       "      <th>number_of_films</th>\n",
       "      <th>total_box_office</th>\n",
       "      <th>mean_box_office</th>\n",
       "      <th>median_box_office</th>\n",
       "    </tr>\n",
       "  </thead>\n",
       "  <tbody>\n",
       "    <tr>\n",
       "      <td>0</td>\n",
       "      <td>0+</td>\n",
       "      <td>91</td>\n",
       "      <td>8.090774e+08</td>\n",
       "      <td>8.890961e+06</td>\n",
       "      <td>2943318.70</td>\n",
       "    </tr>\n",
       "    <tr>\n",
       "      <td>1</td>\n",
       "      <td>12+</td>\n",
       "      <td>348</td>\n",
       "      <td>6.061945e+10</td>\n",
       "      <td>1.741938e+08</td>\n",
       "      <td>5065044.25</td>\n",
       "    </tr>\n",
       "    <tr>\n",
       "      <td>2</td>\n",
       "      <td>16+</td>\n",
       "      <td>805</td>\n",
       "      <td>7.603473e+10</td>\n",
       "      <td>9.445309e+07</td>\n",
       "      <td>5600007.00</td>\n",
       "    </tr>\n",
       "    <tr>\n",
       "      <td>3</td>\n",
       "      <td>18+</td>\n",
       "      <td>792</td>\n",
       "      <td>4.075962e+10</td>\n",
       "      <td>5.146416e+07</td>\n",
       "      <td>6154439.17</td>\n",
       "    </tr>\n",
       "    <tr>\n",
       "      <td>4</td>\n",
       "      <td>6+</td>\n",
       "      <td>317</td>\n",
       "      <td>5.579861e+10</td>\n",
       "      <td>1.760209e+08</td>\n",
       "      <td>13736207.98</td>\n",
       "    </tr>\n",
       "  </tbody>\n",
       "</table>\n",
       "</div>"
      ],
      "text/plain": [
       "  age_restriction  number_of_films  total_box_office  mean_box_office  \\\n",
       "0              0+               91      8.090774e+08     8.890961e+06   \n",
       "1             12+              348      6.061945e+10     1.741938e+08   \n",
       "2             16+              805      7.603473e+10     9.445309e+07   \n",
       "3             18+              792      4.075962e+10     5.146416e+07   \n",
       "4              6+              317      5.579861e+10     1.760209e+08   \n",
       "\n",
       "   median_box_office  \n",
       "0         2943318.70  \n",
       "1         5065044.25  \n",
       "2         5600007.00  \n",
       "3         6154439.17  \n",
       "4        13736207.98  "
      ]
     },
     "metadata": {},
     "output_type": "display_data"
    },
    {
     "data": {
      "text/html": [
       "<div>\n",
       "<style scoped>\n",
       "    .dataframe tbody tr th:only-of-type {\n",
       "        vertical-align: middle;\n",
       "    }\n",
       "\n",
       "    .dataframe tbody tr th {\n",
       "        vertical-align: top;\n",
       "    }\n",
       "\n",
       "    .dataframe thead th {\n",
       "        text-align: right;\n",
       "    }\n",
       "</style>\n",
       "<table border=\"1\" class=\"dataframe\">\n",
       "  <thead>\n",
       "    <tr style=\"text-align: right;\">\n",
       "      <th>year</th>\n",
       "      <th>age_restriction</th>\n",
       "      <th>2015</th>\n",
       "      <th>2016</th>\n",
       "      <th>2017</th>\n",
       "      <th>2018</th>\n",
       "      <th>2019</th>\n",
       "    </tr>\n",
       "  </thead>\n",
       "  <tbody>\n",
       "    <tr>\n",
       "      <td>0</td>\n",
       "      <td>0+</td>\n",
       "      <td>3.790546e+08</td>\n",
       "      <td>1.502288e+08</td>\n",
       "      <td>2.295989e+08</td>\n",
       "      <td>3.244900e+07</td>\n",
       "      <td>1.774607e+07</td>\n",
       "    </tr>\n",
       "    <tr>\n",
       "      <td>1</td>\n",
       "      <td>12+</td>\n",
       "      <td>1.361608e+10</td>\n",
       "      <td>1.220445e+10</td>\n",
       "      <td>7.851428e+09</td>\n",
       "      <td>1.426729e+10</td>\n",
       "      <td>1.268020e+10</td>\n",
       "    </tr>\n",
       "    <tr>\n",
       "      <td>2</td>\n",
       "      <td>16+</td>\n",
       "      <td>1.136812e+10</td>\n",
       "      <td>1.666455e+10</td>\n",
       "      <td>1.874504e+10</td>\n",
       "      <td>1.650360e+10</td>\n",
       "      <td>1.275342e+10</td>\n",
       "    </tr>\n",
       "    <tr>\n",
       "      <td>3</td>\n",
       "      <td>18+</td>\n",
       "      <td>5.432308e+09</td>\n",
       "      <td>6.793930e+09</td>\n",
       "      <td>9.651496e+09</td>\n",
       "      <td>8.760086e+09</td>\n",
       "      <td>1.012180e+10</td>\n",
       "    </tr>\n",
       "    <tr>\n",
       "      <td>4</td>\n",
       "      <td>6+</td>\n",
       "      <td>8.701799e+09</td>\n",
       "      <td>1.205315e+10</td>\n",
       "      <td>1.208614e+10</td>\n",
       "      <td>1.010497e+10</td>\n",
       "      <td>1.285255e+10</td>\n",
       "    </tr>\n",
       "  </tbody>\n",
       "</table>\n",
       "</div>"
      ],
      "text/plain": [
       "year age_restriction          2015          2016          2017          2018  \\\n",
       "0                 0+  3.790546e+08  1.502288e+08  2.295989e+08  3.244900e+07   \n",
       "1                12+  1.361608e+10  1.220445e+10  7.851428e+09  1.426729e+10   \n",
       "2                16+  1.136812e+10  1.666455e+10  1.874504e+10  1.650360e+10   \n",
       "3                18+  5.432308e+09  6.793930e+09  9.651496e+09  8.760086e+09   \n",
       "4                 6+  8.701799e+09  1.205315e+10  1.208614e+10  1.010497e+10   \n",
       "\n",
       "year          2019  \n",
       "0     1.774607e+07  \n",
       "1     1.268020e+10  \n",
       "2     1.275342e+10  \n",
       "3     1.012180e+10  \n",
       "4     1.285255e+10  "
      ]
     },
     "metadata": {},
     "output_type": "display_data"
    },
    {
     "data": {
      "text/html": [
       "<div>\n",
       "<style scoped>\n",
       "    .dataframe tbody tr th:only-of-type {\n",
       "        vertical-align: middle;\n",
       "    }\n",
       "\n",
       "    .dataframe tbody tr th {\n",
       "        vertical-align: top;\n",
       "    }\n",
       "\n",
       "    .dataframe thead th {\n",
       "        text-align: right;\n",
       "    }\n",
       "</style>\n",
       "<table border=\"1\" class=\"dataframe\">\n",
       "  <thead>\n",
       "    <tr style=\"text-align: right;\">\n",
       "      <th></th>\n",
       "      <th>0+</th>\n",
       "      <th>12+</th>\n",
       "      <th>16+</th>\n",
       "      <th>18+</th>\n",
       "      <th>6+</th>\n",
       "    </tr>\n",
       "    <tr>\n",
       "      <th>year</th>\n",
       "      <th></th>\n",
       "      <th></th>\n",
       "      <th></th>\n",
       "      <th></th>\n",
       "      <th></th>\n",
       "    </tr>\n",
       "  </thead>\n",
       "  <tbody>\n",
       "    <tr>\n",
       "      <td>2015</td>\n",
       "      <td>3.790546e+08</td>\n",
       "      <td>1.361608e+10</td>\n",
       "      <td>1.136812e+10</td>\n",
       "      <td>5.432308e+09</td>\n",
       "      <td>8.701799e+09</td>\n",
       "    </tr>\n",
       "    <tr>\n",
       "      <td>2016</td>\n",
       "      <td>1.502288e+08</td>\n",
       "      <td>1.220445e+10</td>\n",
       "      <td>1.666455e+10</td>\n",
       "      <td>6.793930e+09</td>\n",
       "      <td>1.205315e+10</td>\n",
       "    </tr>\n",
       "    <tr>\n",
       "      <td>2017</td>\n",
       "      <td>2.295989e+08</td>\n",
       "      <td>7.851428e+09</td>\n",
       "      <td>1.874504e+10</td>\n",
       "      <td>9.651496e+09</td>\n",
       "      <td>1.208614e+10</td>\n",
       "    </tr>\n",
       "    <tr>\n",
       "      <td>2018</td>\n",
       "      <td>3.244900e+07</td>\n",
       "      <td>1.426729e+10</td>\n",
       "      <td>1.650360e+10</td>\n",
       "      <td>8.760086e+09</td>\n",
       "      <td>1.010497e+10</td>\n",
       "    </tr>\n",
       "    <tr>\n",
       "      <td>2019</td>\n",
       "      <td>1.774607e+07</td>\n",
       "      <td>1.268020e+10</td>\n",
       "      <td>1.275342e+10</td>\n",
       "      <td>1.012180e+10</td>\n",
       "      <td>1.285255e+10</td>\n",
       "    </tr>\n",
       "  </tbody>\n",
       "</table>\n",
       "</div>"
      ],
      "text/plain": [
       "                0+           12+           16+           18+            6+\n",
       "year                                                                      \n",
       "2015  3.790546e+08  1.361608e+10  1.136812e+10  5.432308e+09  8.701799e+09\n",
       "2016  1.502288e+08  1.220445e+10  1.666455e+10  6.793930e+09  1.205315e+10\n",
       "2017  2.295989e+08  7.851428e+09  1.874504e+10  9.651496e+09  1.208614e+10\n",
       "2018  3.244900e+07  1.426729e+10  1.650360e+10  8.760086e+09  1.010497e+10\n",
       "2019  1.774607e+07  1.268020e+10  1.275342e+10  1.012180e+10  1.285255e+10"
      ]
     },
     "metadata": {},
     "output_type": "display_data"
    },
    {
     "data": {
      "image/png": "[encoded data removed]",
      "text/plain": [
       "<Figure size 1080x720 with 1 Axes>"
      ]
     },
     "metadata": {
      "needs_background": "light"
     },
     "output_type": "display_data"
    }
   ],
   "source": [
    "films_age = films[(films.box_office.notna()) & (films.year >= 2015) & (films.year <= 2019)].pivot_table(index='age_restriction', \n",
    "                                                        values='box_office', aggfunc=['count','sum','mean','median'])\n",
    "films_age = films_age.reset_index()\n",
    "films_age.columns = ['age_restriction', 'number_of_films', 'total_box_office', 'mean_box_office', 'median_box_office']\n",
    "films_age.age_restriction = ['0+', '12+', '16+', '18+', '6+']\n",
    "\n",
    "display(films_age)\n",
    "\n",
    "films_age_by_year = films[(films.box_office.notna()) & \n",
    "                          (films.year >= 2015) & \n",
    "                          (films.year <= 2019)].pivot_table(index='age_restriction', columns='year', \n",
    "                                                            values='box_office', aggfunc='sum')\n",
    "films_age_by_year = films_age_by_year.reset_index()\n",
    "films_age_by_year.age_restriction = ['0+', '12+', '16+', '18+', '6+']\n",
    "\n",
    "display(films_age_by_year)\n",
    "films_age_by_year.plot.bar(x='age_restriction', y=[2015, 2016, 2017, 2018, 2019], figsize=(15,10), \n",
    "                           color=['yellow', 'blue', 'green','gray','brown'], grid=True, stacked=True, \n",
    "                           title='Total box office of films for different age restrictions');\n",
    "\n",
    "films_year_by_age = films[(films.box_office.notna()) & \n",
    "                          (films.year >= 2015) & \n",
    "                          (films.year <= 2019)].pivot_table(index='year', columns='age_restriction', \n",
    "                                                            values='box_office', aggfunc='sum')\n",
    "films_year_by_age.columns = ['0+', '12+', '16+', '18+', '6+']\n",
    "display(films_year_by_age )\n",
    "\n"
   ]
  },
  {
   "cell_type": "code",
   "execution_count": 39,
   "metadata": {},
   "outputs": [
    {
     "data": {
      "image/png": "[encoded data removed]",
      "text/plain": [
       "<Figure size 1080x720 with 1 Axes>"
      ]
     },
     "metadata": {
      "needs_background": "light"
     },
     "output_type": "display_data"
    }
   ],
   "source": [
    "plt.figure(figsize=(15,10))\n",
    "plt.grid(True)\n",
    "plt.plot(films_year_by_age.index, list(films_year_by_age.iloc[:,0]), \n",
    "         films_year_by_age.index,list(films_year_by_age.iloc[:, 1]),\n",
    "         films_year_by_age.index,list(films_year_by_age.iloc[:, 2]),\n",
    "         films_year_by_age.index,list(films_year_by_age.iloc[:, 3]),\n",
    "         films_year_by_age.index,list(films_year_by_age.iloc[:, 4]),\n",
    "         linewidth=2);\n",
    "plt.legend(films_year_by_age.columns);\n",
    "plt.title('Total box office of films for different age restrictions');\n"
   ]
  },
  {
   "cell_type": "markdown",
   "metadata": {},
   "source": [
    "##### Вывод\n",
    "\n",
    "Очевидно, что фильмы с возрастным ограничением 16+ являются лидерами по кассовым сборам, если рассматривать суммарные кассовые сборы за весь временной интервал.\n",
    "\n",
    "Однако, если рассматривать данные по каждой категории более детально, можно сделать выводы, что:\n",
    "* в 2015 году категория 12+ имеет больший кассовый сбор, по сравнению со всеми остальными категориями, хотя относительно 16+ разница не очень существенная\n",
    "* начиная с 2016 года доля 16+ становится преобладающей, хотя в некоторые годы доля 16+ сравнима с 12+.\n",
    "* суммарные кассовые сборы также варьируются в одной категории в зависимости от года премьерного показа.\n",
    "\n",
    "Изменение пропорций, вероятнее всего, связано с ужесточением требований министерства культуры к прокатным фильмам, что привело к изменению оценки возрастной категории и, как следствие изменению кассовых сборов по категориям.\n",
    "\n"
   ]
  },
  {
   "cell_type": "markdown",
   "metadata": {
    "id": "l_Kg6Ku4gFya"
   },
   "source": [
    "### Исследование фильмов с государственной поддержкой"
   ]
  },
  {
   "cell_type": "markdown",
   "metadata": {},
   "source": [
    "#### Исследование объема государственной поддержки"
   ]
  },
  {
   "cell_type": "markdown",
   "metadata": {
    "id": "W9QKpjUdgFyb"
   },
   "source": [
    "Ранее уже был выделен сегмент фильмов с государственной поддержкой:"
   ]
  },
  {
   "cell_type": "code",
   "execution_count": 40,
   "metadata": {},
   "outputs": [
    {
     "data": {
      "text/html": [
       "<div>\n",
       "<style scoped>\n",
       "    .dataframe tbody tr th:only-of-type {\n",
       "        vertical-align: middle;\n",
       "    }\n",
       "\n",
       "    .dataframe tbody tr th {\n",
       "        vertical-align: top;\n",
       "    }\n",
       "\n",
       "    .dataframe thead th {\n",
       "        text-align: right;\n",
       "    }\n",
       "</style>\n",
       "<table border=\"1\" class=\"dataframe\">\n",
       "  <thead>\n",
       "    <tr style=\"text-align: right;\">\n",
       "      <th></th>\n",
       "      <th>title</th>\n",
       "      <th>puNumber</th>\n",
       "      <th>show_start_date</th>\n",
       "      <th>type</th>\n",
       "      <th>film_studio</th>\n",
       "      <th>production_country</th>\n",
       "      <th>director</th>\n",
       "      <th>producer</th>\n",
       "      <th>age_restriction</th>\n",
       "      <th>refundable_support</th>\n",
       "      <th>...</th>\n",
       "      <th>financing_source</th>\n",
       "      <th>ratings</th>\n",
       "      <th>genres</th>\n",
       "      <th>box_office</th>\n",
       "      <th>goverment_support</th>\n",
       "      <th>budget_delta</th>\n",
       "      <th>year</th>\n",
       "      <th>main_genre</th>\n",
       "      <th>main_director</th>\n",
       "      <th>gov_perc</th>\n",
       "    </tr>\n",
       "  </thead>\n",
       "  <tbody>\n",
       "    <tr>\n",
       "      <td>0</td>\n",
       "      <td>Пока еще жива</td>\n",
       "      <td>111005313</td>\n",
       "      <td>2013-10-11 12:00:00</td>\n",
       "      <td>Художественный</td>\n",
       "      <td>АНО содействия развитию кинематографии \"Ангел-...</td>\n",
       "      <td>Россия</td>\n",
       "      <td>А.Атанесян</td>\n",
       "      <td>А.Атанесян, М.Бабаханов, Р.Бутко</td>\n",
       "      <td>«16+» - для детей старше 16 лет</td>\n",
       "      <td>0.0</td>\n",
       "      <td>...</td>\n",
       "      <td>Министерство культуры</td>\n",
       "      <td>8.1</td>\n",
       "      <td>драма,мелодрама</td>\n",
       "      <td>365353.6</td>\n",
       "      <td>26500000.0</td>\n",
       "      <td>52911900.0</td>\n",
       "      <td>2013</td>\n",
       "      <td>драма</td>\n",
       "      <td>А.Атанесян</td>\n",
       "      <td>0.333703</td>\n",
       "    </tr>\n",
       "    <tr>\n",
       "      <td>1</td>\n",
       "      <td>Бесславные придурки</td>\n",
       "      <td>111003314</td>\n",
       "      <td>2014-03-28 12:00:00</td>\n",
       "      <td>Художественный</td>\n",
       "      <td>ООО \"Компания \"АТК-Студио\"</td>\n",
       "      <td>Россия</td>\n",
       "      <td>А.Якимчук</td>\n",
       "      <td>А.Тютрюмов</td>\n",
       "      <td>«12+» - для детей старше 12 лет</td>\n",
       "      <td>0.0</td>\n",
       "      <td>...</td>\n",
       "      <td>Министерство культуры</td>\n",
       "      <td>NaN</td>\n",
       "      <td>unknown genre</td>\n",
       "      <td>28140.0</td>\n",
       "      <td>26000000.0</td>\n",
       "      <td>11142857.0</td>\n",
       "      <td>2014</td>\n",
       "      <td>unknown genre</td>\n",
       "      <td>А.Якимчук</td>\n",
       "      <td>0.700000</td>\n",
       "    </tr>\n",
       "    <tr>\n",
       "      <td>2</td>\n",
       "      <td>Невидимки</td>\n",
       "      <td>111004213</td>\n",
       "      <td>2013-09-10 12:00:00</td>\n",
       "      <td>Художественный</td>\n",
       "      <td>ООО \"Компания \"РЕАЛ-ДАКОТА\"</td>\n",
       "      <td>Россия</td>\n",
       "      <td>Р.Давлетьяров, С.Комаров</td>\n",
       "      <td>Р.Давлетьяров, А.Котелевский, А.Олейников</td>\n",
       "      <td>«12+» - для детей старше 12 лет</td>\n",
       "      <td>0.0</td>\n",
       "      <td>...</td>\n",
       "      <td>Фонд кино</td>\n",
       "      <td>5.3</td>\n",
       "      <td>комедия,фантастика</td>\n",
       "      <td>19957031.5</td>\n",
       "      <td>107847945.0</td>\n",
       "      <td>68175545.0</td>\n",
       "      <td>2013</td>\n",
       "      <td>комедия</td>\n",
       "      <td>Р.Давлетьяров</td>\n",
       "      <td>0.612691</td>\n",
       "    </tr>\n",
       "    <tr>\n",
       "      <td>3</td>\n",
       "      <td>БЕРЦЫ</td>\n",
       "      <td>111004314</td>\n",
       "      <td>2014-05-05 12:00:00</td>\n",
       "      <td>Художественный</td>\n",
       "      <td>ООО \"Студия \"Пассажир\"</td>\n",
       "      <td>Россия</td>\n",
       "      <td>Е.Миндадзе (псевдоним Катя Шагалова)</td>\n",
       "      <td>Л.Антонова</td>\n",
       "      <td>«16+» - для детей старше 16 лет</td>\n",
       "      <td>0.0</td>\n",
       "      <td>...</td>\n",
       "      <td>Министерство культуры</td>\n",
       "      <td>4.2</td>\n",
       "      <td>драма</td>\n",
       "      <td>55917.5</td>\n",
       "      <td>28000000.0</td>\n",
       "      <td>12574140.0</td>\n",
       "      <td>2014</td>\n",
       "      <td>драма</td>\n",
       "      <td>Е.Миндадзе (псевдоним Катя Шагалова)</td>\n",
       "      <td>0.690095</td>\n",
       "    </tr>\n",
       "    <tr>\n",
       "      <td>4</td>\n",
       "      <td>Братья Ч</td>\n",
       "      <td>111004414</td>\n",
       "      <td>2014-04-23 12:00:00</td>\n",
       "      <td>Художественный</td>\n",
       "      <td>ООО \"Студия \"Пассажир\"</td>\n",
       "      <td>Россия</td>\n",
       "      <td>М.Угаров</td>\n",
       "      <td>А.Миндадзе, Л.Антонова</td>\n",
       "      <td>«16+» - для детей старше 16 лет</td>\n",
       "      <td>0.0</td>\n",
       "      <td>...</td>\n",
       "      <td>Министерство культуры</td>\n",
       "      <td>6.4</td>\n",
       "      <td>драма</td>\n",
       "      <td>232100.0</td>\n",
       "      <td>25000000.0</td>\n",
       "      <td>15015122.0</td>\n",
       "      <td>2014</td>\n",
       "      <td>драма</td>\n",
       "      <td>М.Угаров</td>\n",
       "      <td>0.624764</td>\n",
       "    </tr>\n",
       "  </tbody>\n",
       "</table>\n",
       "<p>5 rows × 22 columns</p>\n",
       "</div>"
      ],
      "text/plain": [
       "                 title   puNumber     show_start_date            type  \\\n",
       "0        Пока еще жива  111005313 2013-10-11 12:00:00  Художественный   \n",
       "1  Бесславные придурки  111003314 2014-03-28 12:00:00  Художественный   \n",
       "2            Невидимки  111004213 2013-09-10 12:00:00  Художественный   \n",
       "3                БЕРЦЫ  111004314 2014-05-05 12:00:00  Художественный   \n",
       "4             Братья Ч  111004414 2014-04-23 12:00:00  Художественный   \n",
       "\n",
       "                                         film_studio production_country  \\\n",
       "0  АНО содействия развитию кинематографии \"Ангел-...             Россия   \n",
       "1                         ООО \"Компания \"АТК-Студио\"             Россия   \n",
       "2                        ООО \"Компания \"РЕАЛ-ДАКОТА\"             Россия   \n",
       "3                             ООО \"Студия \"Пассажир\"             Россия   \n",
       "4                             ООО \"Студия \"Пассажир\"             Россия   \n",
       "\n",
       "                               director  \\\n",
       "0                            А.Атанесян   \n",
       "1                             А.Якимчук   \n",
       "2              Р.Давлетьяров, С.Комаров   \n",
       "3  Е.Миндадзе (псевдоним Катя Шагалова)   \n",
       "4                              М.Угаров   \n",
       "\n",
       "                                    producer                  age_restriction  \\\n",
       "0           А.Атанесян, М.Бабаханов, Р.Бутко  «16+» - для детей старше 16 лет   \n",
       "1                                 А.Тютрюмов  «12+» - для детей старше 12 лет   \n",
       "2  Р.Давлетьяров, А.Котелевский, А.Олейников  «12+» - для детей старше 12 лет   \n",
       "3                                 Л.Антонова  «16+» - для детей старше 16 лет   \n",
       "4                     А.Миндадзе, Л.Антонова  «16+» - для детей старше 16 лет   \n",
       "\n",
       "   refundable_support  ...       financing_source  ratings  \\\n",
       "0                 0.0  ...  Министерство культуры      8.1   \n",
       "1                 0.0  ...  Министерство культуры      NaN   \n",
       "2                 0.0  ...              Фонд кино      5.3   \n",
       "3                 0.0  ...  Министерство культуры      4.2   \n",
       "4                 0.0  ...  Министерство культуры      6.4   \n",
       "\n",
       "               genres  box_office goverment_support  budget_delta  year  \\\n",
       "0     драма,мелодрама    365353.6        26500000.0    52911900.0  2013   \n",
       "1       unknown genre     28140.0        26000000.0    11142857.0  2014   \n",
       "2  комедия,фантастика  19957031.5       107847945.0    68175545.0  2013   \n",
       "3               драма     55917.5        28000000.0    12574140.0  2014   \n",
       "4               драма    232100.0        25000000.0    15015122.0  2014   \n",
       "\n",
       "      main_genre                         main_director  gov_perc  \n",
       "0          драма                            А.Атанесян  0.333703  \n",
       "1  unknown genre                             А.Якимчук  0.700000  \n",
       "2        комедия                         Р.Давлетьяров  0.612691  \n",
       "3          драма  Е.Миндадзе (псевдоним Катя Шагалова)  0.690095  \n",
       "4          драма                              М.Угаров  0.624764  \n",
       "\n",
       "[5 rows x 22 columns]"
      ]
     },
     "execution_count": 40,
     "metadata": {},
     "output_type": "execute_result"
    }
   ],
   "source": [
    "films_gov.head()"
   ]
  },
  {
   "cell_type": "markdown",
   "metadata": {},
   "source": [
    "Для начала, проверим, как изменяется полный объем государственной поддержки по годам:"
   ]
  },
  {
   "cell_type": "code",
   "execution_count": 41,
   "metadata": {},
   "outputs": [
    {
     "data": {
      "text/html": [
       "<div>\n",
       "<style scoped>\n",
       "    .dataframe tbody tr th:only-of-type {\n",
       "        vertical-align: middle;\n",
       "    }\n",
       "\n",
       "    .dataframe tbody tr th {\n",
       "        vertical-align: top;\n",
       "    }\n",
       "\n",
       "    .dataframe thead th {\n",
       "        text-align: right;\n",
       "    }\n",
       "</style>\n",
       "<table border=\"1\" class=\"dataframe\">\n",
       "  <thead>\n",
       "    <tr style=\"text-align: right;\">\n",
       "      <th></th>\n",
       "      <th>year</th>\n",
       "      <th>count_gs</th>\n",
       "      <th>sum_gs</th>\n",
       "      <th>mean_gs</th>\n",
       "      <th>med_gs</th>\n",
       "    </tr>\n",
       "  </thead>\n",
       "  <tbody>\n",
       "    <tr>\n",
       "      <td>0</td>\n",
       "      <td>2013</td>\n",
       "      <td>2</td>\n",
       "      <td>1.343479e+08</td>\n",
       "      <td>6.717397e+07</td>\n",
       "      <td>67173972.5</td>\n",
       "    </tr>\n",
       "    <tr>\n",
       "      <td>1</td>\n",
       "      <td>2014</td>\n",
       "      <td>16</td>\n",
       "      <td>5.720023e+08</td>\n",
       "      <td>3.575014e+07</td>\n",
       "      <td>27500000.0</td>\n",
       "    </tr>\n",
       "    <tr>\n",
       "      <td>2</td>\n",
       "      <td>2015</td>\n",
       "      <td>86</td>\n",
       "      <td>3.656241e+09</td>\n",
       "      <td>4.251444e+07</td>\n",
       "      <td>30000000.0</td>\n",
       "    </tr>\n",
       "    <tr>\n",
       "      <td>3</td>\n",
       "      <td>2016</td>\n",
       "      <td>61</td>\n",
       "      <td>4.303155e+09</td>\n",
       "      <td>7.054353e+07</td>\n",
       "      <td>35000000.0</td>\n",
       "    </tr>\n",
       "    <tr>\n",
       "      <td>4</td>\n",
       "      <td>2017</td>\n",
       "      <td>41</td>\n",
       "      <td>3.183972e+09</td>\n",
       "      <td>7.765785e+07</td>\n",
       "      <td>40000000.0</td>\n",
       "    </tr>\n",
       "    <tr>\n",
       "      <td>5</td>\n",
       "      <td>2018</td>\n",
       "      <td>56</td>\n",
       "      <td>3.446969e+09</td>\n",
       "      <td>6.155303e+07</td>\n",
       "      <td>45000000.0</td>\n",
       "    </tr>\n",
       "    <tr>\n",
       "      <td>6</td>\n",
       "      <td>2019</td>\n",
       "      <td>70</td>\n",
       "      <td>4.904000e+09</td>\n",
       "      <td>7.005714e+07</td>\n",
       "      <td>40000000.0</td>\n",
       "    </tr>\n",
       "  </tbody>\n",
       "</table>\n",
       "</div>"
      ],
      "text/plain": [
       "   year  count_gs        sum_gs       mean_gs      med_gs\n",
       "0  2013         2  1.343479e+08  6.717397e+07  67173972.5\n",
       "1  2014        16  5.720023e+08  3.575014e+07  27500000.0\n",
       "2  2015        86  3.656241e+09  4.251444e+07  30000000.0\n",
       "3  2016        61  4.303155e+09  7.054353e+07  35000000.0\n",
       "4  2017        41  3.183972e+09  7.765785e+07  40000000.0\n",
       "5  2018        56  3.446969e+09  6.155303e+07  45000000.0\n",
       "6  2019        70  4.904000e+09  7.005714e+07  40000000.0"
      ]
     },
     "metadata": {},
     "output_type": "display_data"
    },
    {
     "data": {
      "image/png": "[encoded data removed]",
      "text/plain": [
       "<Figure size 576x360 with 1 Axes>"
      ]
     },
     "metadata": {
      "needs_background": "light"
     },
     "output_type": "display_data"
    },
    {
     "data": {
      "image/png": "[encoded data removed]",
      "text/plain": [
       "<Figure size 576x360 with 1 Axes>"
      ]
     },
     "metadata": {
      "needs_background": "light"
     },
     "output_type": "display_data"
    },
    {
     "data": {
      "image/png": "[encoded data removed]",
      "text/plain": [
       "<Figure size 576x360 with 1 Axes>"
      ]
     },
     "metadata": {
      "needs_background": "light"
     },
     "output_type": "display_data"
    }
   ],
   "source": [
    "films_gs = films_gov.pivot_table(index='year', values='goverment_support', aggfunc=['count', 'sum','mean','median'])\n",
    "films_gs.columns = ['count_gs', 'sum_gs', 'mean_gs', 'med_gs']\n",
    "films_gs = films_gs.reset_index()\n",
    "display(films_gs)\n",
    "films_gs.plot.bar(x='year', y='sum_gs', figsize=(8,5), title='Total goverment support');\n",
    "films_gs.plot.bar(x='year', y=['mean_gs', 'med_gs'], figsize=(8,5), \n",
    "                  title='Mean and median goverment support');\n",
    "films_gs.plot.bar(x='year', y='count_gs', figsize=(8,5), \n",
    "                  title='Number of films with goverment support');"
   ]
  },
  {
   "cell_type": "markdown",
   "metadata": {},
   "source": [
    "Особенности, которые можно выделить, изучив общий объем государственной поддержки:\n",
    "1. В 2013 году есть информация только о двух фильмах, которые профинансировало государство, как следствие, суммарный объем финансирования гораздо ниже, чем в остальные годы. В 2014 году картина почти такая же, однако, становится выраженной разница между средним и медианой, что говорит о том, что появляются фильмы, которые государство финансирует более активно.\n",
    "2. В 2015 году происходит резкое увеличение финансирования фильмов. Количество, фильмов, которое профинансировало государство Увеличивается более чем в 4 раза. Начинает увеличиваться относительный разрыв между медианой и средним, что позволяет выдвинуть гипотезу о разных объемах финансирования из разных источников.\n",
    "3. В 2016 году несколько снижается количество профинансированных фильмов, однако увеличивается объем финансирования. Разница между медианой и средним становится ещё более выраженной.\n",
    "4. В 2017 году наблюдается сокращение финансирования фильмов, уменьшается объем финансирования и количество профинансированных фильмов. Разрыв между медианой и средним самый большой.\n",
    "5. После 2017 года начинается увеличение объема финансирования и количества профинансированных фильмов, разрыв между медианой и средним уменьшается.\n"
   ]
  },
  {
   "cell_type": "markdown",
   "metadata": {},
   "source": [
    "Теперь проверим, как менялось соотношение возвратных и невозвратных средств при государственном финансировании:"
   ]
  },
  {
   "cell_type": "code",
   "execution_count": 42,
   "metadata": {
    "scrolled": false
   },
   "outputs": [
    {
     "data": {
      "text/html": [
       "<div>\n",
       "<style scoped>\n",
       "    .dataframe tbody tr th:only-of-type {\n",
       "        vertical-align: middle;\n",
       "    }\n",
       "\n",
       "    .dataframe tbody tr th {\n",
       "        vertical-align: top;\n",
       "    }\n",
       "\n",
       "    .dataframe thead th {\n",
       "        text-align: right;\n",
       "    }\n",
       "</style>\n",
       "<table border=\"1\" class=\"dataframe\">\n",
       "  <thead>\n",
       "    <tr style=\"text-align: right;\">\n",
       "      <th></th>\n",
       "      <th>year</th>\n",
       "      <th>nref</th>\n",
       "      <th>ref</th>\n",
       "      <th>perc_ref</th>\n",
       "    </tr>\n",
       "  </thead>\n",
       "  <tbody>\n",
       "    <tr>\n",
       "      <td>0</td>\n",
       "      <td>2013</td>\n",
       "      <td>1.343479e+08</td>\n",
       "      <td>0.0</td>\n",
       "      <td>0.000000</td>\n",
       "    </tr>\n",
       "    <tr>\n",
       "      <td>1</td>\n",
       "      <td>2014</td>\n",
       "      <td>5.010023e+08</td>\n",
       "      <td>71000000.0</td>\n",
       "      <td>14.171592</td>\n",
       "    </tr>\n",
       "    <tr>\n",
       "      <td>2</td>\n",
       "      <td>2015</td>\n",
       "      <td>3.019088e+09</td>\n",
       "      <td>637153119.0</td>\n",
       "      <td>21.104156</td>\n",
       "    </tr>\n",
       "    <tr>\n",
       "      <td>3</td>\n",
       "      <td>2016</td>\n",
       "      <td>3.381655e+09</td>\n",
       "      <td>921500000.0</td>\n",
       "      <td>27.249967</td>\n",
       "    </tr>\n",
       "    <tr>\n",
       "      <td>4</td>\n",
       "      <td>2017</td>\n",
       "      <td>2.464625e+09</td>\n",
       "      <td>719346881.0</td>\n",
       "      <td>29.186872</td>\n",
       "    </tr>\n",
       "    <tr>\n",
       "      <td>5</td>\n",
       "      <td>2018</td>\n",
       "      <td>2.784969e+09</td>\n",
       "      <td>662000000.0</td>\n",
       "      <td>23.770458</td>\n",
       "    </tr>\n",
       "    <tr>\n",
       "      <td>6</td>\n",
       "      <td>2019</td>\n",
       "      <td>3.976000e+09</td>\n",
       "      <td>928000000.0</td>\n",
       "      <td>23.340040</td>\n",
       "    </tr>\n",
       "  </tbody>\n",
       "</table>\n",
       "</div>"
      ],
      "text/plain": [
       "   year          nref          ref   perc_ref\n",
       "0  2013  1.343479e+08          0.0   0.000000\n",
       "1  2014  5.010023e+08   71000000.0  14.171592\n",
       "2  2015  3.019088e+09  637153119.0  21.104156\n",
       "3  2016  3.381655e+09  921500000.0  27.249967\n",
       "4  2017  2.464625e+09  719346881.0  29.186872\n",
       "5  2018  2.784969e+09  662000000.0  23.770458\n",
       "6  2019  3.976000e+09  928000000.0  23.340040"
      ]
     },
     "metadata": {},
     "output_type": "display_data"
    },
    {
     "data": {
      "image/png": "[encoded data removed]",
      "text/plain": [
       "<Figure size 576x360 with 1 Axes>"
      ]
     },
     "metadata": {
      "needs_background": "light"
     },
     "output_type": "display_data"
    }
   ],
   "source": [
    "films_ref = films_gov.pivot_table(index='year', values=['refundable_support', 'nonrefundable_support'], aggfunc='sum')\n",
    "films_ref.columns = ['nref','ref']\n",
    "films_ref = films_ref.reset_index()\n",
    "films_ref['perc_ref'] = films_ref.ref / films_ref.nref * 100\n",
    "display(films_ref)\n",
    "films_ref.plot.bar(x='year', y=['nref', 'ref'], figsize=(8,5), stacked=True);"
   ]
  },
  {
   "cell_type": "markdown",
   "metadata": {},
   "source": [
    "Исходя из данных, можно заключить, что начиная с 2015 года объем возвратных средств, находится примерно на одинаковом уровне (от 20% до 30%). До 2015 года объем возвратных средств был существенно ниже."
   ]
  },
  {
   "cell_type": "code",
   "execution_count": 43,
   "metadata": {},
   "outputs": [
    {
     "data": {
      "text/html": [
       "<div>\n",
       "<style scoped>\n",
       "    .dataframe tbody tr th:only-of-type {\n",
       "        vertical-align: middle;\n",
       "    }\n",
       "\n",
       "    .dataframe tbody tr th {\n",
       "        vertical-align: top;\n",
       "    }\n",
       "\n",
       "    .dataframe thead th {\n",
       "        text-align: right;\n",
       "    }\n",
       "</style>\n",
       "<table border=\"1\" class=\"dataframe\">\n",
       "  <thead>\n",
       "    <tr style=\"text-align: right;\">\n",
       "      <th></th>\n",
       "      <th>year</th>\n",
       "      <th>MK</th>\n",
       "      <th>MK+FK</th>\n",
       "      <th>FK</th>\n",
       "    </tr>\n",
       "  </thead>\n",
       "  <tbody>\n",
       "    <tr>\n",
       "      <td>0</td>\n",
       "      <td>2013</td>\n",
       "      <td>2.650000e+07</td>\n",
       "      <td>0.0</td>\n",
       "      <td>1.078479e+08</td>\n",
       "    </tr>\n",
       "    <tr>\n",
       "      <td>1</td>\n",
       "      <td>2014</td>\n",
       "      <td>2.115000e+08</td>\n",
       "      <td>159502299.0</td>\n",
       "      <td>2.010000e+08</td>\n",
       "    </tr>\n",
       "    <tr>\n",
       "      <td>2</td>\n",
       "      <td>2015</td>\n",
       "      <td>1.100810e+09</td>\n",
       "      <td>319382174.0</td>\n",
       "      <td>2.236049e+09</td>\n",
       "    </tr>\n",
       "    <tr>\n",
       "      <td>3</td>\n",
       "      <td>2016</td>\n",
       "      <td>7.498510e+08</td>\n",
       "      <td>469200000.0</td>\n",
       "      <td>3.084104e+09</td>\n",
       "    </tr>\n",
       "    <tr>\n",
       "      <td>4</td>\n",
       "      <td>2017</td>\n",
       "      <td>3.510000e+08</td>\n",
       "      <td>64346881.0</td>\n",
       "      <td>2.768625e+09</td>\n",
       "    </tr>\n",
       "    <tr>\n",
       "      <td>5</td>\n",
       "      <td>2018</td>\n",
       "      <td>9.260000e+08</td>\n",
       "      <td>55000000.0</td>\n",
       "      <td>2.465969e+09</td>\n",
       "    </tr>\n",
       "    <tr>\n",
       "      <td>6</td>\n",
       "      <td>2019</td>\n",
       "      <td>1.471000e+09</td>\n",
       "      <td>118000000.0</td>\n",
       "      <td>3.315000e+09</td>\n",
       "    </tr>\n",
       "  </tbody>\n",
       "</table>\n",
       "</div>"
      ],
      "text/plain": [
       "   year            MK        MK+FK            FK\n",
       "0  2013  2.650000e+07          0.0  1.078479e+08\n",
       "1  2014  2.115000e+08  159502299.0  2.010000e+08\n",
       "2  2015  1.100810e+09  319382174.0  2.236049e+09\n",
       "3  2016  7.498510e+08  469200000.0  3.084104e+09\n",
       "4  2017  3.510000e+08   64346881.0  2.768625e+09\n",
       "5  2018  9.260000e+08   55000000.0  2.465969e+09\n",
       "6  2019  1.471000e+09  118000000.0  3.315000e+09"
      ]
     },
     "metadata": {},
     "output_type": "display_data"
    },
    {
     "data": {
      "image/png": "[encoded data removed]",
      "text/plain": [
       "<Figure size 576x360 with 1 Axes>"
      ]
     },
     "metadata": {
      "needs_background": "light"
     },
     "output_type": "display_data"
    }
   ],
   "source": [
    "films_source = films_gov.pivot_table(index='year', columns='financing_source', values='goverment_support', aggfunc='sum').fillna(0)\n",
    "films_source.columns = ['MK','MK+FK','FK']\n",
    "films_source = films_source.reset_index()\n",
    "display(films_source)\n",
    "films_source.plot.bar(x='year', y=['MK', 'MK+FK', 'FK'], figsize=(8,5), color=['blue', 'red', 'yellow'], stacked=True);"
   ]
  },
  {
   "cell_type": "markdown",
   "metadata": {},
   "source": [
    "Исходя из представленных данных, можно заключить, что основную часть денежных средств предоствляет \"Фонд кино\"."
   ]
  },
  {
   "cell_type": "markdown",
   "metadata": {},
   "source": [
    "Изучим топ-5 режиссеров, которым выделяется больше всего государственных средств:"
   ]
  },
  {
   "cell_type": "code",
   "execution_count": 44,
   "metadata": {},
   "outputs": [
    {
     "data": {
      "text/html": [
       "<div>\n",
       "<style scoped>\n",
       "    .dataframe tbody tr th:only-of-type {\n",
       "        vertical-align: middle;\n",
       "    }\n",
       "\n",
       "    .dataframe tbody tr th {\n",
       "        vertical-align: top;\n",
       "    }\n",
       "\n",
       "    .dataframe thead th {\n",
       "        text-align: right;\n",
       "    }\n",
       "</style>\n",
       "<table border=\"1\" class=\"dataframe\">\n",
       "  <thead>\n",
       "    <tr style=\"text-align: right;\">\n",
       "      <th></th>\n",
       "      <th>goverment_support</th>\n",
       "    </tr>\n",
       "    <tr>\n",
       "      <th>main_director</th>\n",
       "      <th></th>\n",
       "    </tr>\n",
       "  </thead>\n",
       "  <tbody>\n",
       "    <tr>\n",
       "      <td>Н.Хомерики</td>\n",
       "      <td>660000000.0</td>\n",
       "    </tr>\n",
       "    <tr>\n",
       "      <td>Ф.Бондарчук</td>\n",
       "      <td>500000000.0</td>\n",
       "    </tr>\n",
       "    <tr>\n",
       "      <td>А.Кравчук</td>\n",
       "      <td>500000000.0</td>\n",
       "    </tr>\n",
       "    <tr>\n",
       "      <td>Р.Давлетьяров</td>\n",
       "      <td>459847945.0</td>\n",
       "    </tr>\n",
       "    <tr>\n",
       "      <td>А.Мизгирев</td>\n",
       "      <td>450000000.0</td>\n",
       "    </tr>\n",
       "  </tbody>\n",
       "</table>\n",
       "</div>"
      ],
      "text/plain": [
       "               goverment_support\n",
       "main_director                   \n",
       "Н.Хомерики           660000000.0\n",
       " Ф.Бондарчук         500000000.0\n",
       "А.Кравчук            500000000.0\n",
       "Р.Давлетьяров        459847945.0\n",
       "А.Мизгирев           450000000.0"
      ]
     },
     "execution_count": 44,
     "metadata": {},
     "output_type": "execute_result"
    }
   ],
   "source": [
    "films_gov.pivot_table(index='main_director',\n",
    "                      values='goverment_support', aggfunc='sum').fillna(0).sort_values(by='goverment_support', \n",
    "                                                                                       ascending=False).head()"
   ]
  },
  {
   "cell_type": "markdown",
   "metadata": {},
   "source": [
    "Самый финансируемый режиссер - Николай Хомерики."
   ]
  },
  {
   "cell_type": "markdown",
   "metadata": {},
   "source": [
    "Узнаем, какой жанр фильмов чаще всего спонсирует государство:"
   ]
  },
  {
   "cell_type": "code",
   "execution_count": 45,
   "metadata": {},
   "outputs": [
    {
     "data": {
      "image/png": "[encoded data removed]",
      "text/plain": [
       "<Figure size 1080x1080 with 1 Axes>"
      ]
     },
     "metadata": {},
     "output_type": "display_data"
    }
   ],
   "source": [
    "films_genre = films_gov.pivot_table(index='main_genre', values='goverment_support', aggfunc='sum').fillna(0);\n",
    "films_genre.plot(y='goverment_support', kind='pie', figsize=(15,15), legend=False);"
   ]
  },
  {
   "cell_type": "markdown",
   "metadata": {},
   "source": [
    "Основное государственное финансирование приходится на драмы, комедии и мультфильмы."
   ]
  },
  {
   "cell_type": "markdown",
   "metadata": {},
   "source": [
    "Напоследок узнаем, как объем государственной поддержки коррелирует с остальными параметрами:"
   ]
  },
  {
   "cell_type": "code",
   "execution_count": 46,
   "metadata": {},
   "outputs": [
    {
     "data": {
      "text/html": [
       "<div>\n",
       "<style scoped>\n",
       "    .dataframe tbody tr th:only-of-type {\n",
       "        vertical-align: middle;\n",
       "    }\n",
       "\n",
       "    .dataframe tbody tr th {\n",
       "        vertical-align: top;\n",
       "    }\n",
       "\n",
       "    .dataframe thead th {\n",
       "        text-align: right;\n",
       "    }\n",
       "</style>\n",
       "<table border=\"1\" class=\"dataframe\">\n",
       "  <thead>\n",
       "    <tr style=\"text-align: right;\">\n",
       "      <th></th>\n",
       "      <th>Goverment support</th>\n",
       "    </tr>\n",
       "  </thead>\n",
       "  <tbody>\n",
       "    <tr>\n",
       "      <td>ratings</td>\n",
       "      <td>0.118287</td>\n",
       "    </tr>\n",
       "    <tr>\n",
       "      <td>box_office</td>\n",
       "      <td>0.488976</td>\n",
       "    </tr>\n",
       "    <tr>\n",
       "      <td>goverment_support</td>\n",
       "      <td>1.000000</td>\n",
       "    </tr>\n",
       "    <tr>\n",
       "      <td>budget_delta</td>\n",
       "      <td>0.456796</td>\n",
       "    </tr>\n",
       "  </tbody>\n",
       "</table>\n",
       "</div>"
      ],
      "text/plain": [
       "                   Goverment support\n",
       "ratings                     0.118287\n",
       "box_office                  0.488976\n",
       "goverment_support           1.000000\n",
       "budget_delta                0.456796"
      ]
     },
     "metadata": {},
     "output_type": "display_data"
    },
    {
     "data": {
      "image/png": "[encoded data removed]",
      "text/plain": [
       "<Figure size 864x864 with 16 Axes>"
      ]
     },
     "metadata": {
      "needs_background": "light"
     },
     "output_type": "display_data"
    }
   ],
   "source": [
    "stat_support = pd.DataFrame({'Goverment support' : \n",
    "                             films_gov[['ratings', 'box_office', \n",
    "                                        'goverment_support', 'budget_delta']].corrwith(films_gov.goverment_support)})\n",
    "display(stat_support)\n",
    "pd.plotting.scatter_matrix(films_gov[['ratings', 'box_office', \n",
    "                                        'goverment_support', 'budget_delta']], figsize=(12, 12));"
   ]
  },
  {
   "cell_type": "markdown",
   "metadata": {},
   "source": [
    "Строго говоря, для ряда соотношений вообще некорректно рассчитывать коэффициент корреляции, потому что их поведеие мало похоже на линейное, однако, относительно объема государственного финансирования, возможно выделить основные тенденции:\n",
    "1. Уровень государственного финансирования слабо положительно коррелирует с рейтингом фильма (при это при малой поддержке государства средняя оценка всё же ниже).\n",
    "2. Уровень государственного финансирования сильно положительно коррелирует с кассовыми сборами.\n",
    "3. Уровень государственного финансирования сильно положительно коррелирует с разницей бюджета (т.е. разницей между собственными средствами студии и финансированием государства). Иными словами, чем больше государственная поддержка, тем большее количество собственных средств вкладывает студия."
   ]
  },
  {
   "cell_type": "markdown",
   "metadata": {},
   "source": [
    "##### Вывод\n",
    "\n",
    "В ходе исследования государственного финансирования были установлены следующие важные особенности:\n",
    "1. Объем государственной поддержки очень сильно зависит от года премьерного показа. В целом, наблюдается тенденция к увеличению финансирования.\n",
    "2. Объем возвратных средств государственного финансирования в большинстве случаев составляет от 20% до 30% всего выделенного государственного бюджета.\n",
    "3. Основную часть денежных средств предоставляет Фонд кино.\n",
    "4. Самый финансируемый режиссер - Николай Хомерики.\n",
    "5. Основное государственное финансирование приходится на драмы, комедии и мультфильмы.\n",
    "6. Рейтинг фильмо слабо зависит от объема государственного финансирования, а кассовые сборы и вложенный студией собственный бюджет, напротив, довольно сильно положительно коррелирует."
   ]
  },
  {
   "cell_type": "markdown",
   "metadata": {},
   "source": [
    "#### Исследование рейтинга и окупаемости фильмов с государственной поддержкой"
   ]
  },
  {
   "cell_type": "markdown",
   "metadata": {},
   "source": [
    "Для начала ознакомимся с распределением рейтингов фильмов с государственной поддержкой:"
   ]
  },
  {
   "cell_type": "code",
   "execution_count": 47,
   "metadata": {},
   "outputs": [
    {
     "data": {
      "image/png": "[encoded data removed]",
      "text/plain": [
       "<Figure size 432x288 with 1 Axes>"
      ]
     },
     "metadata": {
      "needs_background": "light"
     },
     "output_type": "display_data"
    }
   ],
   "source": [
    "films_gov.ratings.hist(bins=20);"
   ]
  },
  {
   "cell_type": "code",
   "execution_count": 48,
   "metadata": {},
   "outputs": [
    {
     "name": "stdout",
     "output_type": "stream",
     "text": [
      "Средний рейтинг фильмов с государственной поддержкой:  6.0\n",
      "Средний рейтинг всех фильмов:  6.48\n"
     ]
    }
   ],
   "source": [
    "print('Средний рейтинг фильмов с государственной поддержкой: ', round(films_gov.ratings.mean(), 2))\n",
    "print('Средний рейтинг всех фильмов: ', round(films.ratings.mean(), 2))"
   ]
  },
  {
   "cell_type": "markdown",
   "metadata": {},
   "source": [
    "Наблюдается интересная закономерность в том, что фильмы с государственной поддержкой имеют в среднем более низкий рейтинг, чем все фильмы из набора данных."
   ]
  },
  {
   "cell_type": "markdown",
   "metadata": {},
   "source": [
    "Теперь проверим, насколько кассовые сборы позволяют покрыть расходы на съемки фильма. Для этого введем в рассмотрение разницу кассовых сборов и общего бюджета фильма, а также дополнительно отметим убыточные фильмы:"
   ]
  },
  {
   "cell_type": "code",
   "execution_count": 49,
   "metadata": {},
   "outputs": [
    {
     "name": "stdout",
     "output_type": "stream",
     "text": [
      "Доля убыточных фильмов:  0.72\n"
     ]
    },
    {
     "data": {
      "image/png": "[encoded data removed]",
      "text/plain": [
       "<Figure size 432x288 with 1 Axes>"
      ]
     },
     "metadata": {
      "needs_background": "light"
     },
     "output_type": "display_data"
    }
   ],
   "source": [
    "films_gov['profit'] = films_gov.box_office - films_gov.budget;\n",
    "films_gov['loss'] = films_gov.profit < 0\n",
    "\n",
    "films_gov.profit.hist(bins=20);\n",
    "print('Доля убыточных фильмов: ', round(films_gov.loss.mean(),2))"
   ]
  },
  {
   "cell_type": "markdown",
   "metadata": {},
   "source": [
    "Более 70% всех фильмов с государственной поддержкой являются убыточными, если рассматривать как доход только кассовые сборы в кинотеатрах."
   ]
  },
  {
   "cell_type": "markdown",
   "metadata": {},
   "source": [
    "Напоследок проверим средний рейтинг убыточных и прибыльных фильмов:"
   ]
  },
  {
   "cell_type": "code",
   "execution_count": 50,
   "metadata": {},
   "outputs": [
    {
     "name": "stdout",
     "output_type": "stream",
     "text": [
      "Средний рейтинг убыточных фильмов: 5.98\n",
      "Средний рейтинг прибыльных фильмов: 6.05\n"
     ]
    }
   ],
   "source": [
    "print('Средний рейтинг убыточных фильмов:', \n",
    "      round(films_gov[films_gov.loss == True].ratings.mean(), 2))\n",
    "print('Средний рейтинг прибыльных фильмов:', \n",
    "      round(films_gov[films_gov.loss == False].ratings.mean(),2))"
   ]
  },
  {
   "cell_type": "markdown",
   "metadata": {},
   "source": [
    "Довольно неожиданный результат: фильмы, которые убыточные с точки зрения кассовых сборов нравятся зрителям в среднем так же, как и прибыльные фильмы."
   ]
  },
  {
   "cell_type": "markdown",
   "metadata": {},
   "source": [
    "##### Вывод\n",
    "\n",
    "По результатам исследования рейтингов и окупаемости фильмов с государственной поддержкой можно сделать следующие выводы:\n",
    "1. Фильмы с государственной поддержкой в среднем пользователи оценивают несколько ниже, чем фильмы из набора данных \"в целом\".\n",
    "2. Более 70% фильмов с государственной поддержкой не окупаются.\n",
    "3. Средний неокупившихся фильмов практически такой же, как и у прибыльных."
   ]
  },
  {
   "cell_type": "markdown",
   "metadata": {
    "id": "V2gYwMcPgFyd"
   },
   "source": [
    "### Общий вывод"
   ]
  },
  {
   "cell_type": "markdown",
   "metadata": {
    "id": "AYRg3dzXgFye"
   },
   "source": [
    "В ходе исследования были выполнены следующие этапы:\n",
    "1. Произведено объединение данных из различных источников, проведен их общий обзор и выделены основные проблемы.\n",
    "2. Проведена предварительная обработка данных, устранены пропуски (там, где это возможно) и дубликаты, а также изменены типы данных некоторых столбцов.\n",
    "3. Проведен исследовательский анализ данных и сформированы выводы в каждом логическом блоке.\n",
    "\n",
    "Основные выводы:\n",
    "1. Наблюдается тенденция к увеличению числа снятых фильмов. Количество фильмов, которые транслируются в кинотеатрах, также увеличивается.\n",
    "2. До 2015 года наблюдался рост кассовых сборов, после 2015 года - стагнация.\n",
    "3. Наблюдается тенденция к увеличению фильмов, которые нравятся зрителям.\n",
    "4. Максимально высокие кассовые сборы приходятся на 2018 год, а самые минимальные на 2010 год.\n",
    "5. Фильмы с возрастным ограничением 16+ имеют самые высокие кассовые сборы.\n",
    "6. Наблюдается тенденция к увеличению государственного финансирования фильмов.\n",
    "7. Основную часть государственного финансирования предоставляет Фонд кино.\n",
    "8. Основное государственное финансирование приходится на драмы, комедии и мультфильмы.\n",
    "9. Рейтинг фильмо слабо зависит от объема государственного финансирования, а кассовые сборы и вложенный студией собственный бюджет, напротив, довольно сильно положительно коррелирует.\n",
    "10. Более 70% фильмов с государственной поддержкой не окупаются.\n",
    "11. Фильмы с государственной поддержкой имеют, в среднем, более низкий рейтинг."
   ]
  }
 ],
 "metadata": {
  "ExecuteTimeLog": [
   {
    "duration": 537,
    "start_time": "2021-07-07T10:12:08.634Z"
   },
   {
    "duration": 206,
    "start_time": "2021-07-07T10:12:30.191Z"
   },
   {
    "duration": 227,
    "start_time": "2021-07-07T10:12:33.078Z"
   },
   {
    "duration": 153,
    "start_time": "2021-07-07T10:13:42.146Z"
   },
   {
    "duration": 233,
    "start_time": "2021-07-07T10:30:09.252Z"
   },
   {
    "duration": 19,
    "start_time": "2021-07-07T10:30:15.577Z"
   },
   {
    "duration": 18,
    "start_time": "2021-07-07T10:30:57.348Z"
   },
   {
    "duration": 19,
    "start_time": "2021-07-07T10:31:17.452Z"
   },
   {
    "duration": 21,
    "start_time": "2021-07-07T10:31:32.227Z"
   },
   {
    "duration": 27,
    "start_time": "2021-07-07T10:32:06.588Z"
   },
   {
    "duration": 23,
    "start_time": "2021-07-07T10:32:43.645Z"
   },
   {
    "duration": 24,
    "start_time": "2021-07-07T10:33:06.948Z"
   },
   {
    "duration": 7,
    "start_time": "2021-07-07T10:33:28.558Z"
   },
   {
    "duration": 23,
    "start_time": "2021-07-07T10:33:43.761Z"
   },
   {
    "duration": 28,
    "start_time": "2021-07-07T10:34:13.466Z"
   },
   {
    "duration": 23,
    "start_time": "2021-07-07T10:35:56.187Z"
   },
   {
    "duration": 6,
    "start_time": "2021-07-07T10:36:48.182Z"
   },
   {
    "duration": 14,
    "start_time": "2021-07-07T10:37:49.641Z"
   },
   {
    "duration": 6,
    "start_time": "2021-07-07T10:38:06.694Z"
   },
   {
    "duration": 6,
    "start_time": "2021-07-07T10:38:13.493Z"
   },
   {
    "duration": 19,
    "start_time": "2021-07-07T10:38:44.056Z"
   },
   {
    "duration": 186,
    "start_time": "2021-07-07T10:48:35.618Z"
   },
   {
    "duration": 24,
    "start_time": "2021-07-07T10:48:51.498Z"
   },
   {
    "duration": 20,
    "start_time": "2021-07-07T10:48:59.415Z"
   },
   {
    "duration": 20,
    "start_time": "2021-07-07T10:53:02.195Z"
   },
   {
    "duration": 188,
    "start_time": "2021-07-07T10:54:40.486Z"
   },
   {
    "duration": 115,
    "start_time": "2021-07-07T10:54:52.552Z"
   },
   {
    "duration": 214,
    "start_time": "2021-07-07T10:54:56.354Z"
   },
   {
    "duration": 47,
    "start_time": "2021-07-07T10:54:58.282Z"
   },
   {
    "duration": 217,
    "start_time": "2021-07-07T10:59:16.075Z"
   },
   {
    "duration": 51,
    "start_time": "2021-07-07T10:59:16.243Z"
   },
   {
    "duration": 578,
    "start_time": "2021-07-07T10:59:18.774Z"
   },
   {
    "duration": 161,
    "start_time": "2021-07-07T10:59:21.238Z"
   },
   {
    "duration": 59,
    "start_time": "2021-07-07T10:59:21.453Z"
   },
   {
    "duration": 3,
    "start_time": "2021-07-07T11:02:10.786Z"
   },
   {
    "duration": 13,
    "start_time": "2021-07-07T11:07:07.722Z"
   },
   {
    "duration": 26,
    "start_time": "2021-07-07T11:07:17.958Z"
   },
   {
    "duration": 22,
    "start_time": "2021-07-07T11:08:17.939Z"
   },
   {
    "duration": 212,
    "start_time": "2021-07-07T11:08:19.665Z"
   },
   {
    "duration": 21,
    "start_time": "2021-07-07T11:08:29.945Z"
   },
   {
    "duration": 31,
    "start_time": "2021-07-07T11:08:38.899Z"
   },
   {
    "duration": 23,
    "start_time": "2021-07-07T11:08:54.527Z"
   },
   {
    "duration": 8,
    "start_time": "2021-07-07T11:18:55.974Z"
   },
   {
    "duration": 7,
    "start_time": "2021-07-07T11:19:03.639Z"
   },
   {
    "duration": 7,
    "start_time": "2021-07-07T11:19:06.444Z"
   },
   {
    "duration": 578,
    "start_time": "2021-07-07T12:09:59.576Z"
   },
   {
    "duration": 195,
    "start_time": "2021-07-07T12:10:00.156Z"
   },
   {
    "duration": 115,
    "start_time": "2021-07-07T12:10:00.353Z"
   },
   {
    "duration": 3,
    "start_time": "2021-07-07T12:10:00.470Z"
   },
   {
    "duration": 32,
    "start_time": "2021-07-07T12:10:00.474Z"
   },
   {
    "duration": 23,
    "start_time": "2021-07-07T12:10:00.508Z"
   },
   {
    "duration": 19,
    "start_time": "2021-07-07T12:10:00.533Z"
   },
   {
    "duration": 44,
    "start_time": "2021-07-07T12:10:00.553Z"
   },
   {
    "duration": 7,
    "start_time": "2021-07-07T12:10:00.600Z"
   },
   {
    "duration": 7,
    "start_time": "2021-07-07T12:19:45.761Z"
   },
   {
    "duration": 21,
    "start_time": "2021-07-07T12:21:35.482Z"
   },
   {
    "duration": 21,
    "start_time": "2021-07-07T12:29:23.569Z"
   },
   {
    "duration": 525,
    "start_time": "2021-07-07T12:29:44.542Z"
   },
   {
    "duration": 214,
    "start_time": "2021-07-07T12:29:45.069Z"
   },
   {
    "duration": 92,
    "start_time": "2021-07-07T12:29:45.285Z"
   },
   {
    "duration": 3,
    "start_time": "2021-07-07T12:29:45.379Z"
   },
   {
    "duration": 28,
    "start_time": "2021-07-07T12:29:45.384Z"
   },
   {
    "duration": 23,
    "start_time": "2021-07-07T12:29:45.413Z"
   },
   {
    "duration": 21,
    "start_time": "2021-07-07T12:29:45.437Z"
   },
   {
    "duration": 41,
    "start_time": "2021-07-07T12:29:45.460Z"
   },
   {
    "duration": 7,
    "start_time": "2021-07-07T12:29:45.502Z"
   },
   {
    "duration": 20,
    "start_time": "2021-07-07T12:29:45.511Z"
   },
   {
    "duration": 12,
    "start_time": "2021-07-07T12:34:02.800Z"
   },
   {
    "duration": 7,
    "start_time": "2021-07-07T12:35:10.479Z"
   },
   {
    "duration": 8,
    "start_time": "2021-07-07T12:35:22.440Z"
   },
   {
    "duration": 6,
    "start_time": "2021-07-07T12:35:35.649Z"
   },
   {
    "duration": 6,
    "start_time": "2021-07-07T12:35:43.107Z"
   },
   {
    "duration": 22,
    "start_time": "2021-07-07T12:38:03.029Z"
   },
   {
    "duration": 10,
    "start_time": "2021-07-07T12:38:06.592Z"
   },
   {
    "duration": 563,
    "start_time": "2021-07-07T12:38:46.493Z"
   },
   {
    "duration": 265,
    "start_time": "2021-07-07T12:38:47.058Z"
   },
   {
    "duration": 94,
    "start_time": "2021-07-07T12:38:47.325Z"
   },
   {
    "duration": 3,
    "start_time": "2021-07-07T12:38:47.422Z"
   },
   {
    "duration": 30,
    "start_time": "2021-07-07T12:38:47.427Z"
   },
   {
    "duration": 16,
    "start_time": "2021-07-07T12:38:53.305Z"
   },
   {
    "duration": 10,
    "start_time": "2021-07-07T12:38:53.499Z"
   },
   {
    "duration": 8,
    "start_time": "2021-07-07T12:39:48.161Z"
   },
   {
    "duration": 27,
    "start_time": "2021-07-07T12:41:17.629Z"
   },
   {
    "duration": 17,
    "start_time": "2021-07-07T12:41:17.867Z"
   },
   {
    "duration": 21,
    "start_time": "2021-07-07T12:41:19.310Z"
   },
   {
    "duration": 7,
    "start_time": "2021-07-07T12:41:19.544Z"
   },
   {
    "duration": 20,
    "start_time": "2021-07-07T12:41:20.504Z"
   },
   {
    "duration": 554,
    "start_time": "2021-07-07T12:56:23.696Z"
   },
   {
    "duration": 200,
    "start_time": "2021-07-07T12:56:25.234Z"
   },
   {
    "duration": 119,
    "start_time": "2021-07-07T12:56:25.480Z"
   },
   {
    "duration": 4,
    "start_time": "2021-07-07T12:56:25.762Z"
   },
   {
    "duration": 26,
    "start_time": "2021-07-07T12:56:27.172Z"
   },
   {
    "duration": 12,
    "start_time": "2021-07-07T12:56:29.051Z"
   },
   {
    "duration": 10,
    "start_time": "2021-07-07T12:56:29.291Z"
   },
   {
    "duration": 8,
    "start_time": "2021-07-07T12:56:29.623Z"
   },
   {
    "duration": 28,
    "start_time": "2021-07-07T12:56:32.137Z"
   },
   {
    "duration": 19,
    "start_time": "2021-07-07T12:56:39.785Z"
   },
   {
    "duration": 20,
    "start_time": "2021-07-07T12:56:44.297Z"
   },
   {
    "duration": 7,
    "start_time": "2021-07-07T12:56:45.392Z"
   },
   {
    "duration": 23,
    "start_time": "2021-07-07T12:56:46.615Z"
   },
   {
    "duration": 4,
    "start_time": "2021-07-07T12:57:06.625Z"
   },
   {
    "duration": 32,
    "start_time": "2021-07-07T12:57:36.690Z"
   },
   {
    "duration": 18,
    "start_time": "2021-07-07T12:58:00.149Z"
   },
   {
    "duration": 15,
    "start_time": "2021-07-07T12:59:16.793Z"
   },
   {
    "duration": 7,
    "start_time": "2021-07-07T13:19:22.624Z"
   },
   {
    "duration": 6,
    "start_time": "2021-07-07T14:17:33.527Z"
   },
   {
    "duration": 9,
    "start_time": "2021-07-07T14:17:48.409Z"
   },
   {
    "duration": 8,
    "start_time": "2021-07-07T14:20:13.060Z"
   },
   {
    "duration": 8,
    "start_time": "2021-07-07T14:20:37.957Z"
   },
   {
    "duration": 8,
    "start_time": "2021-07-07T14:20:47.470Z"
   },
   {
    "duration": 9,
    "start_time": "2021-07-07T14:20:54.503Z"
   },
   {
    "duration": 10,
    "start_time": "2021-07-07T14:28:57.763Z"
   },
   {
    "duration": 3,
    "start_time": "2021-07-07T14:30:23.377Z"
   },
   {
    "duration": 3,
    "start_time": "2021-07-07T14:30:36.489Z"
   },
   {
    "duration": 103,
    "start_time": "2021-07-07T14:30:52.351Z"
   },
   {
    "duration": 8,
    "start_time": "2021-07-07T14:30:54.763Z"
   },
   {
    "duration": 8,
    "start_time": "2021-07-07T14:31:29.301Z"
   },
   {
    "duration": 13,
    "start_time": "2021-07-07T14:31:44.516Z"
   },
   {
    "duration": 7,
    "start_time": "2021-07-07T14:33:10.972Z"
   },
   {
    "duration": 11,
    "start_time": "2021-07-07T14:33:27.780Z"
   },
   {
    "duration": 8,
    "start_time": "2021-07-07T14:34:44.588Z"
   },
   {
    "duration": 57,
    "start_time": "2021-07-07T14:35:59.042Z"
   },
   {
    "duration": 3,
    "start_time": "2021-07-07T14:36:28.168Z"
   },
   {
    "duration": 5,
    "start_time": "2021-07-07T14:36:46.254Z"
   },
   {
    "duration": 4,
    "start_time": "2021-07-07T14:36:52.714Z"
   },
   {
    "duration": 3,
    "start_time": "2021-07-07T14:36:56.612Z"
   },
   {
    "duration": 4,
    "start_time": "2021-07-07T14:36:57.049Z"
   },
   {
    "duration": 3,
    "start_time": "2021-07-07T14:39:21.214Z"
   },
   {
    "duration": 7,
    "start_time": "2021-07-07T14:39:52.406Z"
   },
   {
    "duration": 11,
    "start_time": "2021-07-07T14:39:58.576Z"
   },
   {
    "duration": 9,
    "start_time": "2021-07-07T14:40:26.301Z"
   },
   {
    "duration": 10,
    "start_time": "2021-07-07T14:40:31.704Z"
   },
   {
    "duration": 11,
    "start_time": "2021-07-07T14:40:36.249Z"
   },
   {
    "duration": 10,
    "start_time": "2021-07-07T14:40:39.783Z"
   },
   {
    "duration": 9,
    "start_time": "2021-07-07T14:40:48.558Z"
   },
   {
    "duration": 10,
    "start_time": "2021-07-07T14:40:57.143Z"
   },
   {
    "duration": 9,
    "start_time": "2021-07-07T14:41:06.074Z"
   },
   {
    "duration": 4324,
    "start_time": "2021-07-07T14:41:22.004Z"
   },
   {
    "duration": 11,
    "start_time": "2021-07-07T14:41:33.392Z"
   },
   {
    "duration": 9,
    "start_time": "2021-07-07T14:41:39.288Z"
   },
   {
    "duration": 569,
    "start_time": "2021-07-07T14:42:14.387Z"
   },
   {
    "duration": 197,
    "start_time": "2021-07-07T14:42:14.959Z"
   },
   {
    "duration": 84,
    "start_time": "2021-07-07T14:42:16.052Z"
   },
   {
    "duration": 4,
    "start_time": "2021-07-07T14:42:16.900Z"
   },
   {
    "duration": 27,
    "start_time": "2021-07-07T14:42:19.898Z"
   },
   {
    "duration": 12,
    "start_time": "2021-07-07T14:42:21.577Z"
   },
   {
    "duration": 9,
    "start_time": "2021-07-07T14:42:21.813Z"
   },
   {
    "duration": 9,
    "start_time": "2021-07-07T14:42:22.569Z"
   },
   {
    "duration": 29,
    "start_time": "2021-07-07T14:42:25.837Z"
   },
   {
    "duration": 20,
    "start_time": "2021-07-07T14:42:27.003Z"
   },
   {
    "duration": 21,
    "start_time": "2021-07-07T14:42:28.767Z"
   },
   {
    "duration": 7,
    "start_time": "2021-07-07T14:42:29.838Z"
   },
   {
    "duration": 4,
    "start_time": "2021-07-07T14:43:25.493Z"
   },
   {
    "duration": 7,
    "start_time": "2021-07-07T14:43:26.573Z"
   },
   {
    "duration": 10,
    "start_time": "2021-07-07T14:43:31.639Z"
   },
   {
    "duration": 9,
    "start_time": "2021-07-07T14:43:32.046Z"
   },
   {
    "duration": 10,
    "start_time": "2021-07-07T14:43:33.301Z"
   },
   {
    "duration": 12,
    "start_time": "2021-07-07T14:43:33.658Z"
   },
   {
    "duration": 8,
    "start_time": "2021-07-07T14:43:34.552Z"
   },
   {
    "duration": 9,
    "start_time": "2021-07-07T14:43:35.058Z"
   },
   {
    "duration": 12,
    "start_time": "2021-07-07T14:43:35.914Z"
   },
   {
    "duration": 17,
    "start_time": "2021-07-07T14:45:34.368Z"
   },
   {
    "duration": 512,
    "start_time": "2021-07-07T14:51:58.236Z"
   },
   {
    "duration": 223,
    "start_time": "2021-07-07T14:51:58.750Z"
   },
   {
    "duration": 93,
    "start_time": "2021-07-07T14:51:58.977Z"
   },
   {
    "duration": 4,
    "start_time": "2021-07-07T14:51:59.071Z"
   },
   {
    "duration": 37,
    "start_time": "2021-07-07T14:51:59.077Z"
   },
   {
    "duration": 18,
    "start_time": "2021-07-07T14:51:59.116Z"
   },
   {
    "duration": 10,
    "start_time": "2021-07-07T14:51:59.137Z"
   },
   {
    "duration": 8,
    "start_time": "2021-07-07T14:51:59.149Z"
   },
   {
    "duration": 54,
    "start_time": "2021-07-07T14:51:59.158Z"
   },
   {
    "duration": 18,
    "start_time": "2021-07-07T14:51:59.213Z"
   },
   {
    "duration": 22,
    "start_time": "2021-07-07T14:51:59.232Z"
   },
   {
    "duration": 36,
    "start_time": "2021-07-07T14:51:59.255Z"
   },
   {
    "duration": 7,
    "start_time": "2021-07-07T14:51:59.293Z"
   },
   {
    "duration": 10,
    "start_time": "2021-07-07T14:51:59.302Z"
   },
   {
    "duration": 9,
    "start_time": "2021-07-07T14:51:59.313Z"
   },
   {
    "duration": 11,
    "start_time": "2021-07-07T14:51:59.324Z"
   },
   {
    "duration": 8,
    "start_time": "2021-07-07T14:51:59.337Z"
   },
   {
    "duration": 46,
    "start_time": "2021-07-07T14:51:59.347Z"
   },
   {
    "duration": 22,
    "start_time": "2021-07-07T14:51:59.395Z"
   },
   {
    "duration": 24,
    "start_time": "2021-07-07T14:57:32.911Z"
   },
   {
    "duration": 7,
    "start_time": "2021-07-07T14:58:22.070Z"
   },
   {
    "duration": 4,
    "start_time": "2021-07-07T14:59:11.239Z"
   },
   {
    "duration": 25,
    "start_time": "2021-07-07T15:07:22.208Z"
   },
   {
    "duration": 16,
    "start_time": "2021-07-07T15:08:25.560Z"
   },
   {
    "duration": 15,
    "start_time": "2021-07-07T15:08:40.647Z"
   },
   {
    "duration": 14,
    "start_time": "2021-07-07T15:08:46.669Z"
   },
   {
    "duration": 533,
    "start_time": "2021-07-07T15:18:07.440Z"
   },
   {
    "duration": 173,
    "start_time": "2021-07-07T15:18:07.974Z"
   },
   {
    "duration": 84,
    "start_time": "2021-07-07T15:18:08.149Z"
   },
   {
    "duration": 3,
    "start_time": "2021-07-07T15:18:08.235Z"
   },
   {
    "duration": 30,
    "start_time": "2021-07-07T15:18:08.240Z"
   },
   {
    "duration": 22,
    "start_time": "2021-07-07T15:18:08.272Z"
   },
   {
    "duration": 11,
    "start_time": "2021-07-07T15:18:08.295Z"
   },
   {
    "duration": 11,
    "start_time": "2021-07-07T15:18:08.309Z"
   },
   {
    "duration": 40,
    "start_time": "2021-07-07T15:18:08.322Z"
   },
   {
    "duration": 42,
    "start_time": "2021-07-07T15:18:08.364Z"
   },
   {
    "duration": 22,
    "start_time": "2021-07-07T15:18:08.408Z"
   },
   {
    "duration": 5,
    "start_time": "2021-07-07T15:18:08.432Z"
   },
   {
    "duration": 13,
    "start_time": "2021-07-07T15:18:08.439Z"
   },
   {
    "duration": 9,
    "start_time": "2021-07-07T15:18:08.454Z"
   },
   {
    "duration": 32,
    "start_time": "2021-07-07T15:18:08.465Z"
   },
   {
    "duration": 10,
    "start_time": "2021-07-07T15:18:08.501Z"
   },
   {
    "duration": 7,
    "start_time": "2021-07-07T15:18:08.513Z"
   },
   {
    "duration": 11,
    "start_time": "2021-07-07T15:18:08.521Z"
   },
   {
    "duration": 17,
    "start_time": "2021-07-07T15:18:08.534Z"
   },
   {
    "duration": 44,
    "start_time": "2021-07-07T15:18:08.553Z"
   },
   {
    "duration": 22,
    "start_time": "2021-07-07T15:18:08.599Z"
   },
   {
    "duration": 61,
    "start_time": "2021-07-07T15:18:08.622Z"
   },
   {
    "duration": 7,
    "start_time": "2021-07-07T15:18:39.457Z"
   },
   {
    "duration": 5,
    "start_time": "2021-07-07T16:05:17.020Z"
   },
   {
    "duration": 5,
    "start_time": "2021-07-07T16:51:28.794Z"
   },
   {
    "duration": 546,
    "start_time": "2021-07-07T16:52:26.306Z"
   },
   {
    "duration": 203,
    "start_time": "2021-07-07T16:52:27.523Z"
   },
   {
    "duration": 85,
    "start_time": "2021-07-07T16:52:27.736Z"
   },
   {
    "duration": 4,
    "start_time": "2021-07-07T16:52:27.899Z"
   },
   {
    "duration": 25,
    "start_time": "2021-07-07T16:52:28.674Z"
   },
   {
    "duration": 8,
    "start_time": "2021-07-07T16:52:32.956Z"
   },
   {
    "duration": 18,
    "start_time": "2021-07-07T16:52:35.616Z"
   },
   {
    "duration": 6,
    "start_time": "2021-07-07T16:52:36.913Z"
   },
   {
    "duration": 11,
    "start_time": "2021-07-07T16:52:40.258Z"
   },
   {
    "duration": 10,
    "start_time": "2021-07-07T16:52:46.251Z"
   },
   {
    "duration": 8,
    "start_time": "2021-07-07T16:52:47.182Z"
   },
   {
    "duration": 27,
    "start_time": "2021-07-07T16:53:20.391Z"
   },
   {
    "duration": 20,
    "start_time": "2021-07-07T16:53:22.022Z"
   },
   {
    "duration": 23,
    "start_time": "2021-07-07T16:53:23.690Z"
   },
   {
    "duration": 8,
    "start_time": "2021-07-07T16:53:24.261Z"
   },
   {
    "duration": 4,
    "start_time": "2021-07-07T16:53:38.733Z"
   },
   {
    "duration": 7,
    "start_time": "2021-07-07T16:53:40.445Z"
   },
   {
    "duration": 11,
    "start_time": "2021-07-07T16:53:41.348Z"
   },
   {
    "duration": 13,
    "start_time": "2021-07-07T16:53:45.250Z"
   },
   {
    "duration": 12,
    "start_time": "2021-07-07T16:53:45.467Z"
   },
   {
    "duration": 4,
    "start_time": "2021-07-07T16:55:32.704Z"
   },
   {
    "duration": 12,
    "start_time": "2021-07-07T16:55:49.012Z"
   },
   {
    "duration": 18,
    "start_time": "2021-07-07T16:55:49.547Z"
   },
   {
    "duration": 611,
    "start_time": "2021-07-07T16:58:35.156Z"
   },
   {
    "duration": 200,
    "start_time": "2021-07-07T16:58:35.770Z"
   },
   {
    "duration": 86,
    "start_time": "2021-07-07T16:58:35.972Z"
   },
   {
    "duration": 3,
    "start_time": "2021-07-07T16:58:36.060Z"
   },
   {
    "duration": 27,
    "start_time": "2021-07-07T16:58:36.065Z"
   },
   {
    "duration": 8,
    "start_time": "2021-07-07T16:58:36.094Z"
   },
   {
    "duration": 17,
    "start_time": "2021-07-07T16:58:36.103Z"
   },
   {
    "duration": 5,
    "start_time": "2021-07-07T16:58:36.123Z"
   },
   {
    "duration": 11,
    "start_time": "2021-07-07T16:58:36.130Z"
   },
   {
    "duration": 7,
    "start_time": "2021-07-07T16:58:36.143Z"
   },
   {
    "duration": 37,
    "start_time": "2021-07-07T16:58:36.152Z"
   },
   {
    "duration": 27,
    "start_time": "2021-07-07T16:58:36.191Z"
   },
   {
    "duration": 19,
    "start_time": "2021-07-07T16:58:36.219Z"
   },
   {
    "duration": 49,
    "start_time": "2021-07-07T16:58:36.240Z"
   },
   {
    "duration": 6,
    "start_time": "2021-07-07T16:58:36.291Z"
   },
   {
    "duration": 3,
    "start_time": "2021-07-07T16:58:36.299Z"
   },
   {
    "duration": 13,
    "start_time": "2021-07-07T16:58:36.304Z"
   },
   {
    "duration": 10,
    "start_time": "2021-07-07T16:58:36.319Z"
   },
   {
    "duration": 10,
    "start_time": "2021-07-07T16:58:36.331Z"
   },
   {
    "duration": 44,
    "start_time": "2021-07-07T16:58:36.343Z"
   },
   {
    "duration": 4,
    "start_time": "2021-07-07T16:58:36.388Z"
   },
   {
    "duration": 13,
    "start_time": "2021-07-07T16:58:36.394Z"
   },
   {
    "duration": 16,
    "start_time": "2021-07-07T16:58:36.410Z"
   },
   {
    "duration": 8,
    "start_time": "2021-07-07T17:02:31.629Z"
   },
   {
    "duration": 8,
    "start_time": "2021-07-07T17:02:34.308Z"
   },
   {
    "duration": 6,
    "start_time": "2021-07-07T17:05:13.483Z"
   },
   {
    "duration": 17,
    "start_time": "2021-07-07T17:05:20.606Z"
   },
   {
    "duration": 7,
    "start_time": "2021-07-07T17:05:34.638Z"
   },
   {
    "duration": 3,
    "start_time": "2021-07-07T17:06:31.883Z"
   },
   {
    "duration": 570,
    "start_time": "2021-07-07T17:06:37.165Z"
   },
   {
    "duration": 174,
    "start_time": "2021-07-07T17:06:37.737Z"
   },
   {
    "duration": 47,
    "start_time": "2021-07-07T17:06:37.913Z"
   },
   {
    "duration": 3,
    "start_time": "2021-07-07T17:06:37.962Z"
   },
   {
    "duration": 27,
    "start_time": "2021-07-07T17:06:37.967Z"
   },
   {
    "duration": 7,
    "start_time": "2021-07-07T17:06:37.996Z"
   },
   {
    "duration": 16,
    "start_time": "2021-07-07T17:06:38.005Z"
   },
   {
    "duration": 6,
    "start_time": "2021-07-07T17:06:38.024Z"
   },
   {
    "duration": 12,
    "start_time": "2021-07-07T17:06:38.031Z"
   },
   {
    "duration": 41,
    "start_time": "2021-07-07T17:06:38.045Z"
   },
   {
    "duration": 8,
    "start_time": "2021-07-07T17:06:38.088Z"
   },
   {
    "duration": 26,
    "start_time": "2021-07-07T17:06:38.098Z"
   },
   {
    "duration": 17,
    "start_time": "2021-07-07T17:06:38.126Z"
   },
   {
    "duration": 43,
    "start_time": "2021-07-07T17:06:38.144Z"
   },
   {
    "duration": 6,
    "start_time": "2021-07-07T17:06:38.188Z"
   },
   {
    "duration": 5,
    "start_time": "2021-07-07T17:06:38.195Z"
   },
   {
    "duration": 9,
    "start_time": "2021-07-07T17:06:38.201Z"
   },
   {
    "duration": 12,
    "start_time": "2021-07-07T17:06:38.212Z"
   },
   {
    "duration": 11,
    "start_time": "2021-07-07T17:06:38.226Z"
   },
   {
    "duration": 47,
    "start_time": "2021-07-07T17:06:38.239Z"
   },
   {
    "duration": 4,
    "start_time": "2021-07-07T17:06:38.288Z"
   },
   {
    "duration": 13,
    "start_time": "2021-07-07T17:06:38.293Z"
   },
   {
    "duration": 5,
    "start_time": "2021-07-07T17:06:38.309Z"
   },
   {
    "duration": 18,
    "start_time": "2021-07-07T17:06:38.325Z"
   },
   {
    "duration": 20,
    "start_time": "2021-07-07T17:07:02.805Z"
   },
   {
    "duration": 19,
    "start_time": "2021-07-07T17:07:08.527Z"
   },
   {
    "duration": 19,
    "start_time": "2021-07-07T17:07:12.758Z"
   },
   {
    "duration": 22,
    "start_time": "2021-07-07T17:07:17.497Z"
   },
   {
    "duration": 19,
    "start_time": "2021-07-07T17:07:19.645Z"
   },
   {
    "duration": 10,
    "start_time": "2021-07-07T17:07:34.239Z"
   },
   {
    "duration": 17,
    "start_time": "2021-07-07T17:07:54.144Z"
   },
   {
    "duration": 14,
    "start_time": "2021-07-07T17:08:14.357Z"
   },
   {
    "duration": 616,
    "start_time": "2021-07-07T17:08:45.254Z"
   },
   {
    "duration": 178,
    "start_time": "2021-07-07T17:08:45.872Z"
   },
   {
    "duration": 60,
    "start_time": "2021-07-07T17:08:46.054Z"
   },
   {
    "duration": 3,
    "start_time": "2021-07-07T17:08:46.116Z"
   },
   {
    "duration": 26,
    "start_time": "2021-07-07T17:08:46.121Z"
   },
   {
    "duration": 7,
    "start_time": "2021-07-07T17:08:46.149Z"
   },
   {
    "duration": 17,
    "start_time": "2021-07-07T17:08:46.158Z"
   },
   {
    "duration": 14,
    "start_time": "2021-07-07T17:08:46.176Z"
   },
   {
    "duration": 17,
    "start_time": "2021-07-07T17:08:46.193Z"
   },
   {
    "duration": 9,
    "start_time": "2021-07-07T17:08:46.211Z"
   },
   {
    "duration": 21,
    "start_time": "2021-07-07T17:08:46.221Z"
   },
   {
    "duration": 49,
    "start_time": "2021-07-07T17:08:46.244Z"
   },
   {
    "duration": 24,
    "start_time": "2021-07-07T17:08:46.295Z"
   },
   {
    "duration": 22,
    "start_time": "2021-07-07T17:08:46.321Z"
   },
   {
    "duration": 6,
    "start_time": "2021-07-07T17:08:46.345Z"
   },
   {
    "duration": 5,
    "start_time": "2021-07-07T17:08:46.353Z"
   },
   {
    "duration": 13,
    "start_time": "2021-07-07T17:08:46.386Z"
   },
   {
    "duration": 12,
    "start_time": "2021-07-07T17:08:46.402Z"
   },
   {
    "duration": 10,
    "start_time": "2021-07-07T17:08:46.415Z"
   },
   {
    "duration": 7,
    "start_time": "2021-07-07T17:08:46.427Z"
   },
   {
    "duration": 8,
    "start_time": "2021-07-07T17:08:46.435Z"
   },
   {
    "duration": 68,
    "start_time": "2021-07-07T17:08:46.446Z"
   },
   {
    "duration": 13,
    "start_time": "2021-07-07T17:08:46.516Z"
   },
   {
    "duration": 78,
    "start_time": "2021-07-07T17:08:46.530Z"
   },
   {
    "duration": 40,
    "start_time": "2021-07-07T17:09:08.185Z"
   },
   {
    "duration": 16,
    "start_time": "2021-07-07T17:09:19.324Z"
   },
   {
    "duration": 21,
    "start_time": "2021-07-07T17:09:23.290Z"
   },
   {
    "duration": 13,
    "start_time": "2021-07-07T17:09:54.812Z"
   },
   {
    "duration": 13,
    "start_time": "2021-07-07T17:10:02.039Z"
   },
   {
    "duration": 10,
    "start_time": "2021-07-07T17:10:29.632Z"
   },
   {
    "duration": 13,
    "start_time": "2021-07-07T17:10:52.372Z"
   },
   {
    "duration": 13,
    "start_time": "2021-07-07T17:11:17.270Z"
   },
   {
    "duration": 13,
    "start_time": "2021-07-07T17:14:59.284Z"
   },
   {
    "duration": 547,
    "start_time": "2021-07-07T17:18:52.403Z"
   },
   {
    "duration": 163,
    "start_time": "2021-07-07T17:18:52.952Z"
   },
   {
    "duration": 44,
    "start_time": "2021-07-07T17:18:53.117Z"
   },
   {
    "duration": 3,
    "start_time": "2021-07-07T17:18:53.162Z"
   },
   {
    "duration": 26,
    "start_time": "2021-07-07T17:18:53.167Z"
   },
   {
    "duration": 6,
    "start_time": "2021-07-07T17:18:53.195Z"
   },
   {
    "duration": 15,
    "start_time": "2021-07-07T17:18:53.203Z"
   },
   {
    "duration": 5,
    "start_time": "2021-07-07T17:18:53.220Z"
   },
   {
    "duration": 11,
    "start_time": "2021-07-07T17:18:53.228Z"
   },
   {
    "duration": 9,
    "start_time": "2021-07-07T17:18:53.241Z"
   },
   {
    "duration": 41,
    "start_time": "2021-07-07T17:18:53.252Z"
   },
   {
    "duration": 33,
    "start_time": "2021-07-07T17:18:53.295Z"
   },
   {
    "duration": 19,
    "start_time": "2021-07-07T17:18:53.330Z"
   },
   {
    "duration": 49,
    "start_time": "2021-07-07T17:18:53.350Z"
   },
   {
    "duration": 5,
    "start_time": "2021-07-07T17:18:53.401Z"
   },
   {
    "duration": 5,
    "start_time": "2021-07-07T17:18:53.408Z"
   },
   {
    "duration": 11,
    "start_time": "2021-07-07T17:18:53.414Z"
   },
   {
    "duration": 9,
    "start_time": "2021-07-07T17:18:53.427Z"
   },
   {
    "duration": 10,
    "start_time": "2021-07-07T17:18:53.437Z"
   },
   {
    "duration": 39,
    "start_time": "2021-07-07T17:18:53.448Z"
   },
   {
    "duration": 26,
    "start_time": "2021-07-07T17:18:55.799Z"
   },
   {
    "duration": 598,
    "start_time": "2021-07-07T17:20:17.862Z"
   },
   {
    "duration": 161,
    "start_time": "2021-07-07T17:20:18.462Z"
   },
   {
    "duration": 45,
    "start_time": "2021-07-07T17:20:18.626Z"
   },
   {
    "duration": 4,
    "start_time": "2021-07-07T17:20:18.673Z"
   },
   {
    "duration": 38,
    "start_time": "2021-07-07T17:20:26.877Z"
   },
   {
    "duration": 7,
    "start_time": "2021-07-07T17:20:37.405Z"
   },
   {
    "duration": 19,
    "start_time": "2021-07-07T17:20:51.534Z"
   },
   {
    "duration": 5,
    "start_time": "2021-07-07T17:20:57.228Z"
   },
   {
    "duration": 7,
    "start_time": "2021-07-07T17:21:08.235Z"
   },
   {
    "duration": 19,
    "start_time": "2021-07-07T17:21:42.158Z"
   },
   {
    "duration": 14,
    "start_time": "2021-07-07T17:21:50.225Z"
   },
   {
    "duration": 22,
    "start_time": "2021-07-07T17:22:54.104Z"
   },
   {
    "duration": 5,
    "start_time": "2021-07-07T17:22:56.371Z"
   },
   {
    "duration": 14,
    "start_time": "2021-07-07T17:22:58.316Z"
   },
   {
    "duration": 5,
    "start_time": "2021-07-07T17:22:58.493Z"
   },
   {
    "duration": 35,
    "start_time": "2021-07-07T17:22:59.666Z"
   },
   {
    "duration": 6,
    "start_time": "2021-07-07T17:23:02.410Z"
   },
   {
    "duration": 611,
    "start_time": "2021-07-07T17:24:59.664Z"
   },
   {
    "duration": 178,
    "start_time": "2021-07-07T17:25:01.945Z"
   },
   {
    "duration": 47,
    "start_time": "2021-07-07T17:25:02.125Z"
   },
   {
    "duration": 2,
    "start_time": "2021-07-07T17:25:07.903Z"
   },
   {
    "duration": 254,
    "start_time": "2021-07-07T17:25:08.232Z"
   },
   {
    "duration": 182,
    "start_time": "2021-07-07T17:25:08.671Z"
   },
   {
    "duration": 6,
    "start_time": "2021-07-07T17:25:13.104Z"
   },
   {
    "duration": 36,
    "start_time": "2021-07-07T17:25:13.662Z"
   },
   {
    "duration": 7,
    "start_time": "2021-07-07T17:25:14.528Z"
   },
   {
    "duration": 24,
    "start_time": "2021-07-07T17:25:27.982Z"
   },
   {
    "duration": 3,
    "start_time": "2021-07-07T17:25:48.982Z"
   },
   {
    "duration": 165,
    "start_time": "2021-07-07T17:25:48.987Z"
   },
   {
    "duration": 50,
    "start_time": "2021-07-07T17:25:49.154Z"
   },
   {
    "duration": 4,
    "start_time": "2021-07-07T17:25:49.206Z"
   },
   {
    "duration": 26,
    "start_time": "2021-07-07T17:25:49.212Z"
   },
   {
    "duration": 7,
    "start_time": "2021-07-07T17:25:49.240Z"
   },
   {
    "duration": 16,
    "start_time": "2021-07-07T17:25:49.249Z"
   },
   {
    "duration": 22,
    "start_time": "2021-07-07T17:25:49.266Z"
   },
   {
    "duration": 16,
    "start_time": "2021-07-07T17:25:49.291Z"
   },
   {
    "duration": 9,
    "start_time": "2021-07-07T17:25:49.309Z"
   },
   {
    "duration": 7,
    "start_time": "2021-07-07T17:25:49.319Z"
   },
   {
    "duration": 28,
    "start_time": "2021-07-07T17:25:49.328Z"
   },
   {
    "duration": 44,
    "start_time": "2021-07-07T17:25:49.357Z"
   },
   {
    "duration": 22,
    "start_time": "2021-07-07T17:25:49.403Z"
   },
   {
    "duration": 7,
    "start_time": "2021-07-07T17:25:49.427Z"
   },
   {
    "duration": 3,
    "start_time": "2021-07-07T17:25:49.436Z"
   },
   {
    "duration": 44,
    "start_time": "2021-07-07T17:25:49.441Z"
   },
   {
    "duration": 12,
    "start_time": "2021-07-07T17:25:49.488Z"
   },
   {
    "duration": 13,
    "start_time": "2021-07-07T17:25:49.502Z"
   },
   {
    "duration": 10,
    "start_time": "2021-07-07T17:25:49.516Z"
   },
   {
    "duration": 62,
    "start_time": "2021-07-07T17:25:49.527Z"
   },
   {
    "duration": 26,
    "start_time": "2021-07-07T17:26:51.809Z"
   },
   {
    "duration": 26,
    "start_time": "2021-07-07T17:26:55.759Z"
   },
   {
    "duration": 26,
    "start_time": "2021-07-07T17:27:04.501Z"
   },
   {
    "duration": 25,
    "start_time": "2021-07-07T17:28:24.859Z"
   },
   {
    "duration": 21,
    "start_time": "2021-07-07T17:28:55.250Z"
   },
   {
    "duration": 21,
    "start_time": "2021-07-07T17:28:58.885Z"
   },
   {
    "duration": 7,
    "start_time": "2021-07-07T17:45:40.972Z"
   },
   {
    "duration": 13,
    "start_time": "2021-07-07T17:45:42.529Z"
   },
   {
    "duration": 27,
    "start_time": "2021-07-07T17:45:51.026Z"
   },
   {
    "duration": 518,
    "start_time": "2021-07-07T17:46:15.532Z"
   },
   {
    "duration": 235,
    "start_time": "2021-07-07T17:46:16.053Z"
   },
   {
    "duration": 80,
    "start_time": "2021-07-07T17:46:16.292Z"
   },
   {
    "duration": 5,
    "start_time": "2021-07-07T17:46:16.373Z"
   },
   {
    "duration": 26,
    "start_time": "2021-07-07T17:46:16.380Z"
   },
   {
    "duration": 7,
    "start_time": "2021-07-07T17:46:16.408Z"
   },
   {
    "duration": 16,
    "start_time": "2021-07-07T17:46:16.418Z"
   },
   {
    "duration": 5,
    "start_time": "2021-07-07T17:46:16.436Z"
   },
   {
    "duration": 13,
    "start_time": "2021-07-07T17:46:16.442Z"
   },
   {
    "duration": 35,
    "start_time": "2021-07-07T17:46:16.456Z"
   },
   {
    "duration": 8,
    "start_time": "2021-07-07T17:46:16.493Z"
   },
   {
    "duration": 28,
    "start_time": "2021-07-07T17:46:16.502Z"
   },
   {
    "duration": 17,
    "start_time": "2021-07-07T17:46:16.532Z"
   },
   {
    "duration": 44,
    "start_time": "2021-07-07T17:46:16.551Z"
   },
   {
    "duration": 6,
    "start_time": "2021-07-07T17:46:16.597Z"
   },
   {
    "duration": 4,
    "start_time": "2021-07-07T17:46:16.605Z"
   },
   {
    "duration": 9,
    "start_time": "2021-07-07T17:46:16.610Z"
   },
   {
    "duration": 9,
    "start_time": "2021-07-07T17:46:16.621Z"
   },
   {
    "duration": 10,
    "start_time": "2021-07-07T17:46:16.632Z"
   },
   {
    "duration": 43,
    "start_time": "2021-07-07T17:46:16.644Z"
   },
   {
    "duration": 26,
    "start_time": "2021-07-07T17:46:16.689Z"
   },
   {
    "duration": 19,
    "start_time": "2021-07-07T17:46:16.718Z"
   },
   {
    "duration": 8,
    "start_time": "2021-07-07T17:46:16.738Z"
   },
   {
    "duration": 43,
    "start_time": "2021-07-07T17:46:16.747Z"
   },
   {
    "duration": 19,
    "start_time": "2021-07-07T17:46:16.791Z"
   },
   {
    "duration": 9,
    "start_time": "2021-07-07T17:46:16.812Z"
   },
   {
    "duration": 60,
    "start_time": "2021-07-07T17:46:16.822Z"
   },
   {
    "duration": -8,
    "start_time": "2021-07-07T17:46:16.892Z"
   },
   {
    "duration": 12,
    "start_time": "2021-07-07T17:48:47.707Z"
   },
   {
    "duration": 553,
    "start_time": "2021-07-07T18:10:09.350Z"
   },
   {
    "duration": 230,
    "start_time": "2021-07-07T18:10:09.905Z"
   },
   {
    "duration": 97,
    "start_time": "2021-07-07T18:10:10.137Z"
   },
   {
    "duration": 5,
    "start_time": "2021-07-07T18:10:10.236Z"
   },
   {
    "duration": 29,
    "start_time": "2021-07-07T18:10:10.242Z"
   },
   {
    "duration": 7,
    "start_time": "2021-07-07T18:10:10.272Z"
   },
   {
    "duration": 15,
    "start_time": "2021-07-07T18:10:10.281Z"
   },
   {
    "duration": 4,
    "start_time": "2021-07-07T18:10:10.299Z"
   },
   {
    "duration": 14,
    "start_time": "2021-07-07T18:10:10.305Z"
   },
   {
    "duration": 8,
    "start_time": "2021-07-07T18:10:10.321Z"
   },
   {
    "duration": 8,
    "start_time": "2021-07-07T18:10:10.331Z"
   },
   {
    "duration": 56,
    "start_time": "2021-07-07T18:10:10.341Z"
   },
   {
    "duration": 19,
    "start_time": "2021-07-07T18:10:10.399Z"
   },
   {
    "duration": 23,
    "start_time": "2021-07-07T18:10:10.419Z"
   },
   {
    "duration": 6,
    "start_time": "2021-07-07T18:10:10.444Z"
   },
   {
    "duration": 9,
    "start_time": "2021-07-07T18:10:10.451Z"
   },
   {
    "duration": 30,
    "start_time": "2021-07-07T18:10:10.462Z"
   },
   {
    "duration": 9,
    "start_time": "2021-07-07T18:10:10.494Z"
   },
   {
    "duration": 14,
    "start_time": "2021-07-07T18:10:10.505Z"
   },
   {
    "duration": 7,
    "start_time": "2021-07-07T18:10:10.521Z"
   },
   {
    "duration": 26,
    "start_time": "2021-07-07T18:10:10.530Z"
   },
   {
    "duration": 44,
    "start_time": "2021-07-07T18:10:10.558Z"
   },
   {
    "duration": 7,
    "start_time": "2021-07-07T18:10:10.605Z"
   },
   {
    "duration": 11,
    "start_time": "2021-07-07T18:10:10.614Z"
   },
   {
    "duration": 19,
    "start_time": "2021-07-07T18:10:10.626Z"
   },
   {
    "duration": 44,
    "start_time": "2021-07-07T18:10:10.646Z"
   },
   {
    "duration": 516,
    "start_time": "2021-07-07T18:14:00.826Z"
   },
   {
    "duration": 230,
    "start_time": "2021-07-07T18:14:01.344Z"
   },
   {
    "duration": 105,
    "start_time": "2021-07-07T18:14:01.576Z"
   },
   {
    "duration": 5,
    "start_time": "2021-07-07T18:14:01.683Z"
   },
   {
    "duration": 46,
    "start_time": "2021-07-07T18:14:01.690Z"
   },
   {
    "duration": 7,
    "start_time": "2021-07-07T18:14:01.738Z"
   },
   {
    "duration": 20,
    "start_time": "2021-07-07T18:14:01.747Z"
   },
   {
    "duration": 16,
    "start_time": "2021-07-07T18:14:01.769Z"
   },
   {
    "duration": 14,
    "start_time": "2021-07-07T18:14:01.787Z"
   },
   {
    "duration": 15,
    "start_time": "2021-07-07T18:14:01.803Z"
   },
   {
    "duration": 12,
    "start_time": "2021-07-07T18:14:01.820Z"
   },
   {
    "duration": 35,
    "start_time": "2021-07-07T18:14:01.833Z"
   },
   {
    "duration": 31,
    "start_time": "2021-07-07T18:14:01.869Z"
   },
   {
    "duration": 37,
    "start_time": "2021-07-07T18:14:01.902Z"
   },
   {
    "duration": 8,
    "start_time": "2021-07-07T18:14:01.942Z"
   },
   {
    "duration": 16,
    "start_time": "2021-07-07T18:14:01.952Z"
   },
   {
    "duration": 13,
    "start_time": "2021-07-07T18:14:01.970Z"
   },
   {
    "duration": 32,
    "start_time": "2021-07-07T18:14:01.985Z"
   },
   {
    "duration": 11,
    "start_time": "2021-07-07T18:14:02.019Z"
   },
   {
    "duration": 22,
    "start_time": "2021-07-07T18:14:02.031Z"
   },
   {
    "duration": 27,
    "start_time": "2021-07-07T18:14:02.055Z"
   },
   {
    "duration": 18,
    "start_time": "2021-07-07T18:14:02.084Z"
   },
   {
    "duration": 18,
    "start_time": "2021-07-07T18:14:02.106Z"
   },
   {
    "duration": 11,
    "start_time": "2021-07-07T18:14:02.126Z"
   },
   {
    "duration": 21,
    "start_time": "2021-07-07T18:14:02.138Z"
   },
   {
    "duration": 32,
    "start_time": "2021-07-07T18:14:02.161Z"
   },
   {
    "duration": 28,
    "start_time": "2021-07-07T18:14:44.295Z"
   },
   {
    "duration": 6,
    "start_time": "2021-07-07T18:15:05.834Z"
   },
   {
    "duration": 511,
    "start_time": "2021-07-07T18:15:41.541Z"
   },
   {
    "duration": 183,
    "start_time": "2021-07-07T18:15:42.054Z"
   },
   {
    "duration": 50,
    "start_time": "2021-07-07T18:15:42.239Z"
   },
   {
    "duration": 5,
    "start_time": "2021-07-07T18:15:42.291Z"
   },
   {
    "duration": 48,
    "start_time": "2021-07-07T18:15:42.297Z"
   },
   {
    "duration": 8,
    "start_time": "2021-07-07T18:15:42.346Z"
   },
   {
    "duration": 17,
    "start_time": "2021-07-07T18:15:42.356Z"
   },
   {
    "duration": 15,
    "start_time": "2021-07-07T18:15:42.375Z"
   },
   {
    "duration": 12,
    "start_time": "2021-07-07T18:15:42.392Z"
   },
   {
    "duration": 7,
    "start_time": "2021-07-07T18:15:42.406Z"
   },
   {
    "duration": 7,
    "start_time": "2021-07-07T18:15:42.415Z"
   },
   {
    "duration": 29,
    "start_time": "2021-07-07T18:15:42.423Z"
   },
   {
    "duration": 43,
    "start_time": "2021-07-07T18:15:42.453Z"
   },
   {
    "duration": 18,
    "start_time": "2021-07-07T18:15:42.497Z"
   },
   {
    "duration": 6,
    "start_time": "2021-07-07T18:15:42.516Z"
   },
   {
    "duration": 3,
    "start_time": "2021-07-07T18:15:42.523Z"
   },
   {
    "duration": 18,
    "start_time": "2021-07-07T18:15:42.528Z"
   },
   {
    "duration": 10,
    "start_time": "2021-07-07T18:15:42.547Z"
   },
   {
    "duration": 36,
    "start_time": "2021-07-07T18:15:42.559Z"
   },
   {
    "duration": 8,
    "start_time": "2021-07-07T18:15:42.597Z"
   },
   {
    "duration": 28,
    "start_time": "2021-07-07T18:15:42.606Z"
   },
   {
    "duration": 52,
    "start_time": "2021-07-07T18:15:42.635Z"
   },
   {
    "duration": 7,
    "start_time": "2021-07-07T18:15:42.690Z"
   },
   {
    "duration": 10,
    "start_time": "2021-07-07T18:15:42.699Z"
   },
   {
    "duration": 19,
    "start_time": "2021-07-07T18:15:42.711Z"
   },
   {
    "duration": 9,
    "start_time": "2021-07-07T18:15:42.732Z"
   },
   {
    "duration": 5,
    "start_time": "2021-07-07T18:15:42.743Z"
   },
   {
    "duration": 1450,
    "start_time": "2021-07-07T18:15:51.984Z"
   },
   {
    "duration": 161,
    "start_time": "2021-07-07T18:15:53.435Z"
   },
   {
    "duration": 124,
    "start_time": "2021-07-07T18:15:53.598Z"
   },
   {
    "duration": 5,
    "start_time": "2021-07-07T18:15:53.724Z"
   },
   {
    "duration": 34,
    "start_time": "2021-07-07T18:15:53.730Z"
   },
   {
    "duration": 7,
    "start_time": "2021-07-07T18:15:53.765Z"
   },
   {
    "duration": 15,
    "start_time": "2021-07-07T18:15:53.773Z"
   },
   {
    "duration": 5,
    "start_time": "2021-07-07T18:15:53.791Z"
   },
   {
    "duration": 19,
    "start_time": "2021-07-07T18:15:53.798Z"
   },
   {
    "duration": 9,
    "start_time": "2021-07-07T18:15:53.818Z"
   },
   {
    "duration": 19,
    "start_time": "2021-07-07T18:15:53.828Z"
   },
   {
    "duration": 27,
    "start_time": "2021-07-07T18:15:53.848Z"
   },
   {
    "duration": 16,
    "start_time": "2021-07-07T18:15:53.884Z"
   },
   {
    "duration": 29,
    "start_time": "2021-07-07T18:15:53.901Z"
   },
   {
    "duration": 5,
    "start_time": "2021-07-07T18:15:53.932Z"
   },
   {
    "duration": 15,
    "start_time": "2021-07-07T18:15:53.939Z"
   },
   {
    "duration": 13,
    "start_time": "2021-07-07T18:15:53.956Z"
   },
   {
    "duration": 20,
    "start_time": "2021-07-07T18:15:53.971Z"
   },
   {
    "duration": 14,
    "start_time": "2021-07-07T18:15:53.992Z"
   },
   {
    "duration": 9,
    "start_time": "2021-07-07T18:15:54.009Z"
   },
   {
    "duration": 28,
    "start_time": "2021-07-07T18:15:54.020Z"
   },
   {
    "duration": 50,
    "start_time": "2021-07-07T18:15:54.051Z"
   },
   {
    "duration": 8,
    "start_time": "2021-07-07T18:15:54.105Z"
   },
   {
    "duration": 11,
    "start_time": "2021-07-07T18:15:54.115Z"
   },
   {
    "duration": 20,
    "start_time": "2021-07-07T18:15:54.128Z"
   },
   {
    "duration": 13,
    "start_time": "2021-07-07T18:15:54.184Z"
   },
   {
    "duration": 7,
    "start_time": "2021-07-07T18:15:54.199Z"
   },
   {
    "duration": 7,
    "start_time": "2021-07-07T18:17:08.042Z"
   },
   {
    "duration": 8,
    "start_time": "2021-07-07T18:17:21.008Z"
   },
   {
    "duration": 7,
    "start_time": "2021-07-07T18:17:29.003Z"
   },
   {
    "duration": 8,
    "start_time": "2021-07-07T18:17:32.492Z"
   },
   {
    "duration": 9,
    "start_time": "2021-07-07T18:17:41.758Z"
   },
   {
    "duration": 255,
    "start_time": "2021-07-07T18:20:20.897Z"
   },
   {
    "duration": 173,
    "start_time": "2021-07-07T18:20:26.636Z"
   },
   {
    "duration": 7,
    "start_time": "2021-07-07T18:21:47.164Z"
   },
   {
    "duration": 254,
    "start_time": "2021-07-07T18:23:08.703Z"
   },
   {
    "duration": 21,
    "start_time": "2021-07-07T18:23:22.506Z"
   },
   {
    "duration": 315,
    "start_time": "2021-07-07T18:25:54.801Z"
   },
   {
    "duration": 34,
    "start_time": "2021-07-07T18:26:51.817Z"
   },
   {
    "duration": 327,
    "start_time": "2021-07-07T18:26:56.147Z"
   },
   {
    "duration": 342,
    "start_time": "2021-07-07T18:27:15.887Z"
   },
   {
    "duration": 302,
    "start_time": "2021-07-07T18:28:18.569Z"
   },
   {
    "duration": 226,
    "start_time": "2021-07-07T18:29:20.879Z"
   },
   {
    "duration": 207,
    "start_time": "2021-07-07T18:29:58.114Z"
   },
   {
    "duration": 140,
    "start_time": "2021-07-07T18:32:04.372Z"
   },
   {
    "duration": 158,
    "start_time": "2021-07-07T18:32:32.508Z"
   },
   {
    "duration": 145,
    "start_time": "2021-07-07T18:32:41.365Z"
   },
   {
    "duration": 132,
    "start_time": "2021-07-07T18:32:45.199Z"
   },
   {
    "duration": 11,
    "start_time": "2021-07-07T18:35:24.679Z"
   },
   {
    "duration": 268,
    "start_time": "2021-07-07T18:36:16.145Z"
   },
   {
    "duration": 227,
    "start_time": "2021-07-07T18:37:04.918Z"
   },
   {
    "duration": 3,
    "start_time": "2021-07-07T18:37:33.012Z"
   },
   {
    "duration": 671,
    "start_time": "2021-07-07T18:37:38.295Z"
   },
   {
    "duration": 54,
    "start_time": "2021-07-07T18:37:53.406Z"
   },
   {
    "duration": 631,
    "start_time": "2021-07-07T18:37:56.463Z"
   },
   {
    "duration": 19,
    "start_time": "2021-07-07T18:39:40.535Z"
   },
   {
    "duration": 20,
    "start_time": "2021-07-07T18:40:12.236Z"
   },
   {
    "duration": 633,
    "start_time": "2021-07-07T18:42:00.398Z"
   },
   {
    "duration": 218,
    "start_time": "2021-07-07T18:42:01.033Z"
   },
   {
    "duration": 49,
    "start_time": "2021-07-07T18:42:01.253Z"
   },
   {
    "duration": 5,
    "start_time": "2021-07-07T18:42:01.303Z"
   },
   {
    "duration": 27,
    "start_time": "2021-07-07T18:42:01.310Z"
   },
   {
    "duration": 8,
    "start_time": "2021-07-07T18:42:01.339Z"
   },
   {
    "duration": 20,
    "start_time": "2021-07-07T18:42:01.348Z"
   },
   {
    "duration": 6,
    "start_time": "2021-07-07T18:42:01.386Z"
   },
   {
    "duration": 16,
    "start_time": "2021-07-07T18:42:01.394Z"
   },
   {
    "duration": 9,
    "start_time": "2021-07-07T18:42:01.411Z"
   },
   {
    "duration": 11,
    "start_time": "2021-07-07T18:42:01.421Z"
   },
   {
    "duration": 31,
    "start_time": "2021-07-07T18:42:01.434Z"
   },
   {
    "duration": 18,
    "start_time": "2021-07-07T18:42:01.485Z"
   },
   {
    "duration": 23,
    "start_time": "2021-07-07T18:42:01.505Z"
   },
   {
    "duration": 6,
    "start_time": "2021-07-07T18:42:01.530Z"
   },
   {
    "duration": 10,
    "start_time": "2021-07-07T18:42:01.538Z"
   },
   {
    "duration": 13,
    "start_time": "2021-07-07T18:42:01.550Z"
   },
   {
    "duration": 24,
    "start_time": "2021-07-07T18:42:01.564Z"
   },
   {
    "duration": 20,
    "start_time": "2021-07-07T18:42:01.590Z"
   },
   {
    "duration": 8,
    "start_time": "2021-07-07T18:42:01.611Z"
   },
   {
    "duration": 31,
    "start_time": "2021-07-07T18:42:01.620Z"
   },
   {
    "duration": 39,
    "start_time": "2021-07-07T18:42:01.653Z"
   },
   {
    "duration": 8,
    "start_time": "2021-07-07T18:42:01.696Z"
   },
   {
    "duration": 13,
    "start_time": "2021-07-07T18:42:01.705Z"
   },
   {
    "duration": 20,
    "start_time": "2021-07-07T18:42:01.720Z"
   },
   {
    "duration": 12,
    "start_time": "2021-07-07T18:42:01.741Z"
   },
   {
    "duration": 35,
    "start_time": "2021-07-07T18:42:01.755Z"
   },
   {
    "duration": 14,
    "start_time": "2021-07-07T18:42:01.792Z"
   },
   {
    "duration": 188,
    "start_time": "2021-07-07T18:42:01.808Z"
   },
   {
    "duration": 19,
    "start_time": "2021-07-07T18:42:01.998Z"
   },
   {
    "duration": 175,
    "start_time": "2021-07-07T18:42:02.019Z"
   },
   {
    "duration": 134,
    "start_time": "2021-07-07T18:42:02.196Z"
   },
   {
    "duration": 10,
    "start_time": "2021-07-07T18:42:02.331Z"
   },
   {
    "duration": 19,
    "start_time": "2021-07-07T18:42:02.343Z"
   },
   {
    "duration": 628,
    "start_time": "2021-07-07T18:46:30.701Z"
   },
   {
    "duration": 183,
    "start_time": "2021-07-07T18:46:31.331Z"
   },
   {
    "duration": 48,
    "start_time": "2021-07-07T18:46:31.516Z"
   },
   {
    "duration": 5,
    "start_time": "2021-07-07T18:46:31.566Z"
   },
   {
    "duration": 28,
    "start_time": "2021-07-07T18:46:31.572Z"
   },
   {
    "duration": 8,
    "start_time": "2021-07-07T18:46:31.602Z"
   },
   {
    "duration": 19,
    "start_time": "2021-07-07T18:46:31.611Z"
   },
   {
    "duration": 6,
    "start_time": "2021-07-07T18:46:31.633Z"
   },
   {
    "duration": 17,
    "start_time": "2021-07-07T18:46:31.642Z"
   },
   {
    "duration": 10,
    "start_time": "2021-07-07T18:46:31.684Z"
   },
   {
    "duration": 9,
    "start_time": "2021-07-07T18:46:31.695Z"
   },
   {
    "duration": 28,
    "start_time": "2021-07-07T18:46:31.705Z"
   },
   {
    "duration": 18,
    "start_time": "2021-07-07T18:46:31.735Z"
   },
   {
    "duration": 48,
    "start_time": "2021-07-07T18:46:31.755Z"
   },
   {
    "duration": 6,
    "start_time": "2021-07-07T18:46:31.804Z"
   },
   {
    "duration": 4,
    "start_time": "2021-07-07T18:46:31.812Z"
   },
   {
    "duration": 9,
    "start_time": "2021-07-07T18:46:31.817Z"
   },
   {
    "duration": 10,
    "start_time": "2021-07-07T18:46:31.827Z"
   },
   {
    "duration": 12,
    "start_time": "2021-07-07T18:46:31.838Z"
   },
   {
    "duration": 39,
    "start_time": "2021-07-07T18:46:31.851Z"
   },
   {
    "duration": 24,
    "start_time": "2021-07-07T18:46:31.892Z"
   },
   {
    "duration": 15,
    "start_time": "2021-07-07T18:46:31.918Z"
   },
   {
    "duration": 7,
    "start_time": "2021-07-07T18:46:31.936Z"
   },
   {
    "duration": 8,
    "start_time": "2021-07-07T18:46:31.944Z"
   },
   {
    "duration": 19,
    "start_time": "2021-07-07T18:46:31.984Z"
   },
   {
    "duration": 10,
    "start_time": "2021-07-07T18:46:32.004Z"
   },
   {
    "duration": 5,
    "start_time": "2021-07-07T18:46:32.016Z"
   },
   {
    "duration": 9,
    "start_time": "2021-07-07T18:46:32.023Z"
   },
   {
    "duration": 199,
    "start_time": "2021-07-07T18:46:32.033Z"
   },
   {
    "duration": 19,
    "start_time": "2021-07-07T18:46:32.234Z"
   },
   {
    "duration": 159,
    "start_time": "2021-07-07T18:46:32.255Z"
   },
   {
    "duration": 134,
    "start_time": "2021-07-07T18:46:32.416Z"
   },
   {
    "duration": 10,
    "start_time": "2021-07-07T18:46:32.552Z"
   },
   {
    "duration": 34,
    "start_time": "2021-07-07T18:46:32.563Z"
   },
   {
    "duration": 1039,
    "start_time": "2021-07-08T08:41:09.419Z"
   },
   {
    "duration": 333,
    "start_time": "2021-07-08T08:41:10.459Z"
   },
   {
    "duration": 173,
    "start_time": "2021-07-08T08:41:10.794Z"
   },
   {
    "duration": 5,
    "start_time": "2021-07-08T08:41:10.968Z"
   },
   {
    "duration": 25,
    "start_time": "2021-07-08T08:41:10.975Z"
   },
   {
    "duration": 9,
    "start_time": "2021-07-08T08:41:11.002Z"
   },
   {
    "duration": 18,
    "start_time": "2021-07-08T08:41:11.013Z"
   },
   {
    "duration": 6,
    "start_time": "2021-07-08T08:41:11.033Z"
   },
   {
    "duration": 44,
    "start_time": "2021-07-08T08:41:11.042Z"
   },
   {
    "duration": 10,
    "start_time": "2021-07-08T08:41:11.088Z"
   },
   {
    "duration": 9,
    "start_time": "2021-07-08T08:41:11.100Z"
   },
   {
    "duration": 27,
    "start_time": "2021-07-08T08:41:11.111Z"
   },
   {
    "duration": 46,
    "start_time": "2021-07-08T08:41:11.140Z"
   },
   {
    "duration": 17,
    "start_time": "2021-07-08T08:41:11.187Z"
   },
   {
    "duration": 6,
    "start_time": "2021-07-08T08:41:11.206Z"
   },
   {
    "duration": 5,
    "start_time": "2021-07-08T08:41:11.213Z"
   },
   {
    "duration": 10,
    "start_time": "2021-07-08T08:41:11.219Z"
   },
   {
    "duration": 9,
    "start_time": "2021-07-08T08:41:11.230Z"
   },
   {
    "duration": 45,
    "start_time": "2021-07-08T08:41:11.241Z"
   },
   {
    "duration": 7,
    "start_time": "2021-07-08T08:41:11.287Z"
   },
   {
    "duration": 24,
    "start_time": "2021-07-08T08:41:11.296Z"
   },
   {
    "duration": 16,
    "start_time": "2021-07-08T08:41:11.322Z"
   },
   {
    "duration": 7,
    "start_time": "2021-07-08T08:41:11.341Z"
   },
   {
    "duration": 41,
    "start_time": "2021-07-08T08:41:11.349Z"
   },
   {
    "duration": 17,
    "start_time": "2021-07-08T08:41:11.391Z"
   },
   {
    "duration": 9,
    "start_time": "2021-07-08T08:41:11.410Z"
   },
   {
    "duration": 5,
    "start_time": "2021-07-08T08:41:11.421Z"
   },
   {
    "duration": 6,
    "start_time": "2021-07-08T08:41:11.428Z"
   },
   {
    "duration": 198,
    "start_time": "2021-07-08T08:41:11.435Z"
   },
   {
    "duration": 18,
    "start_time": "2021-07-08T08:41:11.635Z"
   },
   {
    "duration": 155,
    "start_time": "2021-07-08T08:41:11.655Z"
   },
   {
    "duration": 138,
    "start_time": "2021-07-08T08:41:11.811Z"
   },
   {
    "duration": 10,
    "start_time": "2021-07-08T08:41:11.950Z"
   },
   {
    "duration": 29,
    "start_time": "2021-07-08T08:41:11.961Z"
   },
   {
    "duration": 171,
    "start_time": "2021-07-08T08:47:44.522Z"
   },
   {
    "duration": 124,
    "start_time": "2021-07-08T08:47:46.872Z"
   },
   {
    "duration": 191,
    "start_time": "2021-07-08T08:47:58.148Z"
   },
   {
    "duration": 191,
    "start_time": "2021-07-08T08:48:07.412Z"
   },
   {
    "duration": 261,
    "start_time": "2021-07-08T08:48:10.385Z"
   },
   {
    "duration": 255,
    "start_time": "2021-07-08T08:48:14.494Z"
   },
   {
    "duration": 219,
    "start_time": "2021-07-08T08:48:22.752Z"
   },
   {
    "duration": 173,
    "start_time": "2021-07-08T08:49:06.395Z"
   },
   {
    "duration": 180,
    "start_time": "2021-07-08T08:49:21.011Z"
   },
   {
    "duration": 6,
    "start_time": "2021-07-08T08:50:31.697Z"
   },
   {
    "duration": 10,
    "start_time": "2021-07-08T08:50:47.394Z"
   },
   {
    "duration": 11,
    "start_time": "2021-07-08T08:53:49.332Z"
   },
   {
    "duration": 171,
    "start_time": "2021-07-08T08:54:28.408Z"
   },
   {
    "duration": 636,
    "start_time": "2021-07-08T09:02:48.385Z"
   },
   {
    "duration": 227,
    "start_time": "2021-07-08T09:02:49.023Z"
   },
   {
    "duration": 104,
    "start_time": "2021-07-08T09:02:49.252Z"
   },
   {
    "duration": 5,
    "start_time": "2021-07-08T09:02:49.358Z"
   },
   {
    "duration": 27,
    "start_time": "2021-07-08T09:02:49.365Z"
   },
   {
    "duration": 8,
    "start_time": "2021-07-08T09:02:49.394Z"
   },
   {
    "duration": 18,
    "start_time": "2021-07-08T09:02:49.404Z"
   },
   {
    "duration": 6,
    "start_time": "2021-07-08T09:02:49.424Z"
   },
   {
    "duration": 11,
    "start_time": "2021-07-08T09:02:49.433Z"
   },
   {
    "duration": 13,
    "start_time": "2021-07-08T09:02:49.485Z"
   },
   {
    "duration": 9,
    "start_time": "2021-07-08T09:02:49.500Z"
   },
   {
    "duration": 38,
    "start_time": "2021-07-08T09:02:49.511Z"
   },
   {
    "duration": 42,
    "start_time": "2021-07-08T09:02:49.551Z"
   },
   {
    "duration": 21,
    "start_time": "2021-07-08T09:02:49.594Z"
   },
   {
    "duration": 6,
    "start_time": "2021-07-08T09:02:49.616Z"
   },
   {
    "duration": 3,
    "start_time": "2021-07-08T09:02:49.623Z"
   },
   {
    "duration": 9,
    "start_time": "2021-07-08T09:02:49.628Z"
   },
   {
    "duration": 52,
    "start_time": "2021-07-08T09:02:49.638Z"
   },
   {
    "duration": 11,
    "start_time": "2021-07-08T09:02:49.692Z"
   },
   {
    "duration": 8,
    "start_time": "2021-07-08T09:02:49.704Z"
   },
   {
    "duration": 27,
    "start_time": "2021-07-08T09:02:49.713Z"
   },
   {
    "duration": 59,
    "start_time": "2021-07-08T09:02:49.741Z"
   },
   {
    "duration": 8,
    "start_time": "2021-07-08T09:02:49.803Z"
   },
   {
    "duration": 14,
    "start_time": "2021-07-08T09:02:49.813Z"
   },
   {
    "duration": 20,
    "start_time": "2021-07-08T09:02:49.829Z"
   },
   {
    "duration": 44,
    "start_time": "2021-07-08T09:02:49.851Z"
   },
   {
    "duration": 14,
    "start_time": "2021-07-08T09:02:49.896Z"
   },
   {
    "duration": 221,
    "start_time": "2021-07-08T09:02:49.912Z"
   },
   {
    "duration": 6,
    "start_time": "2021-07-08T09:02:50.134Z"
   },
   {
    "duration": 206,
    "start_time": "2021-07-08T09:02:50.142Z"
   },
   {
    "duration": 19,
    "start_time": "2021-07-08T09:02:50.350Z"
   },
   {
    "duration": 21,
    "start_time": "2021-07-08T09:02:50.370Z"
   },
   {
    "duration": 20,
    "start_time": "2021-07-08T09:02:50.393Z"
   },
   {
    "duration": 5,
    "start_time": "2021-07-08T09:02:50.414Z"
   },
   {
    "duration": 5,
    "start_time": "2021-07-08T09:03:34.173Z"
   },
   {
    "duration": 6,
    "start_time": "2021-07-08T09:04:49.062Z"
   },
   {
    "duration": 9,
    "start_time": "2021-07-08T09:04:50.118Z"
   },
   {
    "duration": 14,
    "start_time": "2021-07-08T09:04:58.512Z"
   },
   {
    "duration": 9,
    "start_time": "2021-07-08T09:05:10.988Z"
   },
   {
    "duration": 11,
    "start_time": "2021-07-08T09:05:11.743Z"
   },
   {
    "duration": 7,
    "start_time": "2021-07-08T09:05:25.677Z"
   },
   {
    "duration": 13,
    "start_time": "2021-07-08T09:05:47.189Z"
   },
   {
    "duration": 13,
    "start_time": "2021-07-08T09:05:54.755Z"
   },
   {
    "duration": 4,
    "start_time": "2021-07-08T09:06:29.189Z"
   },
   {
    "duration": 244,
    "start_time": "2021-07-08T09:06:29.195Z"
   },
   {
    "duration": 91,
    "start_time": "2021-07-08T09:06:29.441Z"
   },
   {
    "duration": 4,
    "start_time": "2021-07-08T09:06:29.534Z"
   },
   {
    "duration": 28,
    "start_time": "2021-07-08T09:06:29.540Z"
   },
   {
    "duration": 6,
    "start_time": "2021-07-08T09:06:29.570Z"
   },
   {
    "duration": 18,
    "start_time": "2021-07-08T09:06:29.578Z"
   },
   {
    "duration": 5,
    "start_time": "2021-07-08T09:06:29.597Z"
   },
   {
    "duration": 13,
    "start_time": "2021-07-08T09:06:29.605Z"
   },
   {
    "duration": 8,
    "start_time": "2021-07-08T09:06:29.620Z"
   },
   {
    "duration": 7,
    "start_time": "2021-07-08T09:06:29.630Z"
   },
   {
    "duration": 63,
    "start_time": "2021-07-08T09:06:29.639Z"
   },
   {
    "duration": 17,
    "start_time": "2021-07-08T09:06:29.704Z"
   },
   {
    "duration": 20,
    "start_time": "2021-07-08T09:06:29.723Z"
   },
   {
    "duration": 6,
    "start_time": "2021-07-08T09:06:29.745Z"
   },
   {
    "duration": 3,
    "start_time": "2021-07-08T09:06:29.752Z"
   },
   {
    "duration": 7,
    "start_time": "2021-07-08T09:06:29.785Z"
   },
   {
    "duration": 11,
    "start_time": "2021-07-08T09:06:29.794Z"
   },
   {
    "duration": 15,
    "start_time": "2021-07-08T09:06:29.807Z"
   },
   {
    "duration": 8,
    "start_time": "2021-07-08T09:06:29.823Z"
   },
   {
    "duration": 70,
    "start_time": "2021-07-08T09:06:29.832Z"
   },
   {
    "duration": 17,
    "start_time": "2021-07-08T09:06:29.903Z"
   },
   {
    "duration": 9,
    "start_time": "2021-07-08T09:06:29.921Z"
   },
   {
    "duration": 9,
    "start_time": "2021-07-08T09:06:29.932Z"
   },
   {
    "duration": 57,
    "start_time": "2021-07-08T09:06:29.942Z"
   },
   {
    "duration": 11,
    "start_time": "2021-07-08T09:06:30.001Z"
   },
   {
    "duration": 19,
    "start_time": "2021-07-08T09:06:30.016Z"
   },
   {
    "duration": 217,
    "start_time": "2021-07-08T09:06:30.037Z"
   },
   {
    "duration": 6,
    "start_time": "2021-07-08T09:06:30.255Z"
   },
   {
    "duration": 205,
    "start_time": "2021-07-08T09:06:30.263Z"
   },
   {
    "duration": 27,
    "start_time": "2021-07-08T09:06:30.470Z"
   },
   {
    "duration": 11,
    "start_time": "2021-07-08T09:06:30.500Z"
   },
   {
    "duration": 31,
    "start_time": "2021-07-08T09:06:30.513Z"
   },
   {
    "duration": 18,
    "start_time": "2021-07-08T09:06:30.546Z"
   },
   {
    "duration": 11,
    "start_time": "2021-07-08T09:06:30.566Z"
   },
   {
    "duration": 19,
    "start_time": "2021-07-08T09:06:30.579Z"
   },
   {
    "duration": 20,
    "start_time": "2021-07-08T09:06:49.466Z"
   },
   {
    "duration": 9,
    "start_time": "2021-07-08T09:06:51.994Z"
   },
   {
    "duration": 20,
    "start_time": "2021-07-08T09:06:52.273Z"
   },
   {
    "duration": 246,
    "start_time": "2021-07-08T09:10:21.272Z"
   },
   {
    "duration": 84,
    "start_time": "2021-07-08T09:10:21.436Z"
   },
   {
    "duration": 7,
    "start_time": "2021-07-08T09:10:37.608Z"
   },
   {
    "duration": 189,
    "start_time": "2021-07-08T09:10:38.573Z"
   },
   {
    "duration": 185,
    "start_time": "2021-07-08T09:10:53.181Z"
   },
   {
    "duration": 11,
    "start_time": "2021-07-08T09:10:59.549Z"
   },
   {
    "duration": 42,
    "start_time": "2021-07-08T09:10:59.709Z"
   },
   {
    "duration": 12,
    "start_time": "2021-07-08T09:11:02.857Z"
   },
   {
    "duration": 28,
    "start_time": "2021-07-08T09:11:10.062Z"
   },
   {
    "duration": 249,
    "start_time": "2021-07-08T09:11:37.388Z"
   },
   {
    "duration": 232,
    "start_time": "2021-07-08T09:11:49.485Z"
   },
   {
    "duration": 453,
    "start_time": "2021-07-08T09:12:01.546Z"
   },
   {
    "duration": 440,
    "start_time": "2021-07-08T09:12:12.347Z"
   },
   {
    "duration": 213,
    "start_time": "2021-07-08T09:13:32.196Z"
   },
   {
    "duration": 172,
    "start_time": "2021-07-08T09:14:07.400Z"
   },
   {
    "duration": 185,
    "start_time": "2021-07-08T09:14:14.905Z"
   },
   {
    "duration": 209,
    "start_time": "2021-07-08T09:14:40.109Z"
   },
   {
    "duration": 201,
    "start_time": "2021-07-08T09:14:54.506Z"
   },
   {
    "duration": 622,
    "start_time": "2021-07-08T09:18:14.497Z"
   },
   {
    "duration": 220,
    "start_time": "2021-07-08T09:18:15.121Z"
   },
   {
    "duration": 79,
    "start_time": "2021-07-08T09:18:15.343Z"
   },
   {
    "duration": 4,
    "start_time": "2021-07-08T09:18:15.425Z"
   },
   {
    "duration": 24,
    "start_time": "2021-07-08T09:18:15.431Z"
   },
   {
    "duration": 8,
    "start_time": "2021-07-08T09:18:15.457Z"
   },
   {
    "duration": 16,
    "start_time": "2021-07-08T09:18:15.466Z"
   },
   {
    "duration": 5,
    "start_time": "2021-07-08T09:18:15.484Z"
   },
   {
    "duration": 10,
    "start_time": "2021-07-08T09:18:15.493Z"
   },
   {
    "duration": 8,
    "start_time": "2021-07-08T09:18:15.504Z"
   },
   {
    "duration": 7,
    "start_time": "2021-07-08T09:18:15.513Z"
   },
   {
    "duration": 26,
    "start_time": "2021-07-08T09:18:15.522Z"
   },
   {
    "duration": 49,
    "start_time": "2021-07-08T09:18:15.550Z"
   },
   {
    "duration": 21,
    "start_time": "2021-07-08T09:18:15.601Z"
   },
   {
    "duration": 8,
    "start_time": "2021-07-08T09:18:15.624Z"
   },
   {
    "duration": 3,
    "start_time": "2021-07-08T09:18:15.634Z"
   },
   {
    "duration": 8,
    "start_time": "2021-07-08T09:18:15.639Z"
   },
   {
    "duration": 45,
    "start_time": "2021-07-08T09:18:15.649Z"
   },
   {
    "duration": 13,
    "start_time": "2021-07-08T09:18:15.696Z"
   },
   {
    "duration": 10,
    "start_time": "2021-07-08T09:18:15.711Z"
   },
   {
    "duration": 64,
    "start_time": "2021-07-08T09:18:15.722Z"
   },
   {
    "duration": 19,
    "start_time": "2021-07-08T09:18:15.788Z"
   },
   {
    "duration": 9,
    "start_time": "2021-07-08T09:18:15.809Z"
   },
   {
    "duration": 9,
    "start_time": "2021-07-08T09:18:15.820Z"
   },
   {
    "duration": 18,
    "start_time": "2021-07-08T09:18:15.831Z"
   },
   {
    "duration": 43,
    "start_time": "2021-07-08T09:18:15.851Z"
   },
   {
    "duration": 12,
    "start_time": "2021-07-08T09:18:15.897Z"
   },
   {
    "duration": 219,
    "start_time": "2021-07-08T09:18:15.911Z"
   },
   {
    "duration": 8,
    "start_time": "2021-07-08T09:18:16.132Z"
   },
   {
    "duration": 199,
    "start_time": "2021-07-08T09:18:16.141Z"
   },
   {
    "duration": 18,
    "start_time": "2021-07-08T09:18:16.341Z"
   },
   {
    "duration": 24,
    "start_time": "2021-07-08T09:18:16.361Z"
   },
   {
    "duration": 24,
    "start_time": "2021-07-08T09:18:16.387Z"
   },
   {
    "duration": 211,
    "start_time": "2021-07-08T09:18:16.413Z"
   },
   {
    "duration": 18,
    "start_time": "2021-07-08T09:18:16.626Z"
   },
   {
    "duration": 596,
    "start_time": "2021-07-08T10:06:33.623Z"
   },
   {
    "duration": 181,
    "start_time": "2021-07-08T10:06:34.221Z"
   },
   {
    "duration": 176,
    "start_time": "2021-07-08T10:06:34.635Z"
   },
   {
    "duration": 239,
    "start_time": "2021-07-08T10:06:55.572Z"
   },
   {
    "duration": 6,
    "start_time": "2021-07-08T10:06:57.687Z"
   },
   {
    "duration": 4,
    "start_time": "2021-07-08T10:07:03.956Z"
   },
   {
    "duration": 4,
    "start_time": "2021-07-08T10:07:10.376Z"
   },
   {
    "duration": 4,
    "start_time": "2021-07-08T10:17:19.889Z"
   },
   {
    "duration": 3,
    "start_time": "2021-07-08T10:19:19.407Z"
   },
   {
    "duration": 197,
    "start_time": "2021-07-08T10:19:19.412Z"
   },
   {
    "duration": 127,
    "start_time": "2021-07-08T10:19:19.611Z"
   },
   {
    "duration": 4,
    "start_time": "2021-07-08T10:19:19.740Z"
   },
   {
    "duration": 27,
    "start_time": "2021-07-08T10:19:19.746Z"
   },
   {
    "duration": 7,
    "start_time": "2021-07-08T10:19:19.775Z"
   },
   {
    "duration": 30,
    "start_time": "2021-07-08T10:19:19.784Z"
   },
   {
    "duration": 7,
    "start_time": "2021-07-08T10:19:19.817Z"
   },
   {
    "duration": 26,
    "start_time": "2021-07-08T10:19:19.826Z"
   },
   {
    "duration": 18,
    "start_time": "2021-07-08T10:19:19.854Z"
   },
   {
    "duration": 14,
    "start_time": "2021-07-08T10:19:19.874Z"
   },
   {
    "duration": 48,
    "start_time": "2021-07-08T10:19:19.890Z"
   },
   {
    "duration": 17,
    "start_time": "2021-07-08T10:19:19.940Z"
   },
   {
    "duration": 38,
    "start_time": "2021-07-08T10:19:19.959Z"
   },
   {
    "duration": 8,
    "start_time": "2021-07-08T10:19:19.999Z"
   },
   {
    "duration": 15,
    "start_time": "2021-07-08T10:19:20.009Z"
   },
   {
    "duration": 22,
    "start_time": "2021-07-08T10:19:20.026Z"
   },
   {
    "duration": 10,
    "start_time": "2021-07-08T10:19:20.050Z"
   },
   {
    "duration": 10,
    "start_time": "2021-07-08T10:19:20.062Z"
   },
   {
    "duration": 20,
    "start_time": "2021-07-08T10:19:20.073Z"
   },
   {
    "duration": 29,
    "start_time": "2021-07-08T10:19:20.095Z"
   },
   {
    "duration": 17,
    "start_time": "2021-07-08T10:19:20.126Z"
   },
   {
    "duration": 40,
    "start_time": "2021-07-08T10:19:20.146Z"
   },
   {
    "duration": 15,
    "start_time": "2021-07-08T10:19:20.189Z"
   },
   {
    "duration": 19,
    "start_time": "2021-07-08T10:19:20.206Z"
   },
   {
    "duration": 10,
    "start_time": "2021-07-08T10:19:20.226Z"
   },
   {
    "duration": 11,
    "start_time": "2021-07-08T10:19:20.238Z"
   },
   {
    "duration": 297,
    "start_time": "2021-07-08T10:19:20.250Z"
   },
   {
    "duration": 6,
    "start_time": "2021-07-08T10:19:20.549Z"
   },
   {
    "duration": 191,
    "start_time": "2021-07-08T10:19:20.557Z"
   },
   {
    "duration": 19,
    "start_time": "2021-07-08T10:19:20.750Z"
   },
   {
    "duration": 20,
    "start_time": "2021-07-08T10:19:20.771Z"
   },
   {
    "duration": 15,
    "start_time": "2021-07-08T10:19:20.793Z"
   },
   {
    "duration": 222,
    "start_time": "2021-07-08T10:19:20.809Z"
   },
   {
    "duration": 20,
    "start_time": "2021-07-08T10:19:21.033Z"
   },
   {
    "duration": 27,
    "start_time": "2021-07-08T10:45:04.055Z"
   },
   {
    "duration": 8,
    "start_time": "2021-07-08T10:45:08.478Z"
   },
   {
    "duration": 8,
    "start_time": "2021-07-08T10:45:31.982Z"
   },
   {
    "duration": 10,
    "start_time": "2021-07-08T10:46:01.221Z"
   },
   {
    "duration": 17,
    "start_time": "2021-07-08T10:46:40.011Z"
   },
   {
    "duration": 193,
    "start_time": "2021-07-08T10:48:19.471Z"
   },
   {
    "duration": 225,
    "start_time": "2021-07-08T10:49:26.480Z"
   },
   {
    "duration": 204,
    "start_time": "2021-07-08T10:49:59.992Z"
   },
   {
    "duration": 435,
    "start_time": "2021-07-08T10:50:06.779Z"
   },
   {
    "duration": 199,
    "start_time": "2021-07-08T10:50:14.891Z"
   },
   {
    "duration": 204,
    "start_time": "2021-07-08T10:50:18.501Z"
   },
   {
    "duration": 244,
    "start_time": "2021-07-08T10:50:23.359Z"
   },
   {
    "duration": 192,
    "start_time": "2021-07-08T10:50:29.135Z"
   },
   {
    "duration": 218,
    "start_time": "2021-07-08T10:50:33.092Z"
   },
   {
    "duration": 207,
    "start_time": "2021-07-08T10:52:45.381Z"
   },
   {
    "duration": 5,
    "start_time": "2021-07-08T10:53:34.641Z"
   },
   {
    "duration": 196,
    "start_time": "2021-07-08T10:53:41.478Z"
   },
   {
    "duration": 43,
    "start_time": "2021-07-08T10:53:50.335Z"
   },
   {
    "duration": 32,
    "start_time": "2021-07-08T10:53:55.294Z"
   },
   {
    "duration": 55,
    "start_time": "2021-07-08T10:54:09.675Z"
   },
   {
    "duration": 16,
    "start_time": "2021-07-08T10:54:12.260Z"
   },
   {
    "duration": 15,
    "start_time": "2021-07-08T10:54:49.150Z"
   },
   {
    "duration": 20,
    "start_time": "2021-07-08T10:56:07.596Z"
   },
   {
    "duration": 16,
    "start_time": "2021-07-08T10:58:26.276Z"
   },
   {
    "duration": 22,
    "start_time": "2021-07-08T10:59:00.486Z"
   },
   {
    "duration": 18,
    "start_time": "2021-07-08T11:02:09.653Z"
   },
   {
    "duration": 10,
    "start_time": "2021-07-08T11:03:44.331Z"
   },
   {
    "duration": 10,
    "start_time": "2021-07-08T11:03:54.055Z"
   },
   {
    "duration": 12,
    "start_time": "2021-07-08T11:04:41.967Z"
   },
   {
    "duration": 24,
    "start_time": "2021-07-08T11:07:30.732Z"
   },
   {
    "duration": 6,
    "start_time": "2021-07-08T11:07:37.364Z"
   },
   {
    "duration": 16,
    "start_time": "2021-07-08T11:08:01.819Z"
   },
   {
    "duration": 17,
    "start_time": "2021-07-08T11:09:47.488Z"
   },
   {
    "duration": 246,
    "start_time": "2021-07-08T11:10:00.830Z"
   },
   {
    "duration": 18,
    "start_time": "2021-07-08T11:13:55.195Z"
   },
   {
    "duration": 204,
    "start_time": "2021-07-08T11:14:04.951Z"
   },
   {
    "duration": 19,
    "start_time": "2021-07-08T11:15:10.613Z"
   },
   {
    "duration": 680,
    "start_time": "2021-07-08T11:16:25.793Z"
   },
   {
    "duration": 451,
    "start_time": "2021-07-08T11:16:40.313Z"
   },
   {
    "duration": 469,
    "start_time": "2021-07-08T11:17:21.286Z"
   },
   {
    "duration": 20,
    "start_time": "2021-07-08T11:19:12.554Z"
   },
   {
    "duration": 35,
    "start_time": "2021-07-08T11:20:05.484Z"
   },
   {
    "duration": 53,
    "start_time": "2021-07-08T11:21:40.050Z"
   },
   {
    "duration": 13,
    "start_time": "2021-07-08T11:22:26.059Z"
   },
   {
    "duration": 19,
    "start_time": "2021-07-08T11:22:47.419Z"
   },
   {
    "duration": 25,
    "start_time": "2021-07-08T11:23:19.958Z"
   },
   {
    "duration": 29,
    "start_time": "2021-07-08T11:23:25.415Z"
   },
   {
    "duration": 10,
    "start_time": "2021-07-08T11:24:45.138Z"
   },
   {
    "duration": 19,
    "start_time": "2021-07-08T11:24:54.498Z"
   },
   {
    "duration": 12,
    "start_time": "2021-07-08T11:25:32.225Z"
   },
   {
    "duration": 19,
    "start_time": "2021-07-08T11:25:37.092Z"
   },
   {
    "duration": 17,
    "start_time": "2021-07-08T11:25:58.116Z"
   },
   {
    "duration": 15,
    "start_time": "2021-07-08T11:26:02.258Z"
   },
   {
    "duration": 8,
    "start_time": "2021-07-08T11:26:59.682Z"
   },
   {
    "duration": 184,
    "start_time": "2021-07-08T11:27:21.894Z"
   },
   {
    "duration": 8,
    "start_time": "2021-07-08T11:27:23.824Z"
   },
   {
    "duration": 202,
    "start_time": "2021-07-08T11:27:23.962Z"
   },
   {
    "duration": 360,
    "start_time": "2021-07-08T11:28:33.215Z"
   },
   {
    "duration": 231,
    "start_time": "2021-07-08T11:32:05.542Z"
   },
   {
    "duration": 607,
    "start_time": "2021-07-08T11:36:27.854Z"
   },
   {
    "duration": 241,
    "start_time": "2021-07-08T11:36:28.463Z"
   },
   {
    "duration": 67,
    "start_time": "2021-07-08T11:36:28.709Z"
   },
   {
    "duration": 5,
    "start_time": "2021-07-08T11:36:28.778Z"
   },
   {
    "duration": 32,
    "start_time": "2021-07-08T11:36:28.784Z"
   },
   {
    "duration": 11,
    "start_time": "2021-07-08T11:36:28.819Z"
   },
   {
    "duration": 20,
    "start_time": "2021-07-08T11:36:28.834Z"
   },
   {
    "duration": 36,
    "start_time": "2021-07-08T11:36:28.857Z"
   },
   {
    "duration": 16,
    "start_time": "2021-07-08T11:36:28.895Z"
   },
   {
    "duration": 14,
    "start_time": "2021-07-08T11:36:28.913Z"
   },
   {
    "duration": 9,
    "start_time": "2021-07-08T11:36:28.930Z"
   },
   {
    "duration": 55,
    "start_time": "2021-07-08T11:36:28.941Z"
   },
   {
    "duration": 27,
    "start_time": "2021-07-08T11:36:28.999Z"
   },
   {
    "duration": 30,
    "start_time": "2021-07-08T11:36:29.028Z"
   },
   {
    "duration": 31,
    "start_time": "2021-07-08T11:36:29.060Z"
   },
   {
    "duration": 3,
    "start_time": "2021-07-08T11:36:29.093Z"
   },
   {
    "duration": 12,
    "start_time": "2021-07-08T11:36:29.099Z"
   },
   {
    "duration": 11,
    "start_time": "2021-07-08T11:36:29.112Z"
   },
   {
    "duration": 12,
    "start_time": "2021-07-08T11:36:29.125Z"
   },
   {
    "duration": 9,
    "start_time": "2021-07-08T11:36:29.139Z"
   },
   {
    "duration": 31,
    "start_time": "2021-07-08T11:36:29.191Z"
   },
   {
    "duration": 17,
    "start_time": "2021-07-08T11:36:29.226Z"
   },
   {
    "duration": 7,
    "start_time": "2021-07-08T11:36:29.245Z"
   },
   {
    "duration": 10,
    "start_time": "2021-07-08T11:36:29.254Z"
   },
   {
    "duration": 30,
    "start_time": "2021-07-08T11:36:29.292Z"
   },
   {
    "duration": 11,
    "start_time": "2021-07-08T11:36:29.324Z"
   },
   {
    "duration": 11,
    "start_time": "2021-07-08T11:36:29.337Z"
   },
   {
    "duration": 230,
    "start_time": "2021-07-08T11:36:29.349Z"
   },
   {
    "duration": 13,
    "start_time": "2021-07-08T11:36:29.588Z"
   },
   {
    "duration": 205,
    "start_time": "2021-07-08T11:36:29.603Z"
   },
   {
    "duration": 20,
    "start_time": "2021-07-08T11:36:29.810Z"
   },
   {
    "duration": 9,
    "start_time": "2021-07-08T11:36:29.832Z"
   },
   {
    "duration": 16,
    "start_time": "2021-07-08T11:36:29.843Z"
   },
   {
    "duration": 283,
    "start_time": "2021-07-08T11:36:29.861Z"
   },
   {
    "duration": 50,
    "start_time": "2021-07-08T11:36:30.146Z"
   },
   {
    "duration": 14,
    "start_time": "2021-07-08T11:36:30.198Z"
   },
   {
    "duration": 11,
    "start_time": "2021-07-08T11:36:30.214Z"
   },
   {
    "duration": 245,
    "start_time": "2021-07-08T11:36:30.227Z"
   },
   {
    "duration": 439,
    "start_time": "2021-07-08T11:36:30.474Z"
   },
   {
    "duration": 210,
    "start_time": "2021-07-08T11:36:30.915Z"
   },
   {
    "duration": 15,
    "start_time": "2021-07-08T11:36:31.127Z"
   },
   {
    "duration": 17,
    "start_time": "2021-07-08T11:38:20.451Z"
   },
   {
    "duration": 642,
    "start_time": "2021-07-08T11:46:17.881Z"
   },
   {
    "duration": 210,
    "start_time": "2021-07-08T11:46:18.525Z"
   },
   {
    "duration": 104,
    "start_time": "2021-07-08T11:46:18.741Z"
   },
   {
    "duration": 8,
    "start_time": "2021-07-08T11:46:18.847Z"
   },
   {
    "duration": 25,
    "start_time": "2021-07-08T11:46:18.857Z"
   },
   {
    "duration": 14,
    "start_time": "2021-07-08T11:46:18.884Z"
   },
   {
    "duration": 22,
    "start_time": "2021-07-08T11:46:18.900Z"
   },
   {
    "duration": 5,
    "start_time": "2021-07-08T11:46:18.924Z"
   },
   {
    "duration": 13,
    "start_time": "2021-07-08T11:46:18.931Z"
   },
   {
    "duration": 45,
    "start_time": "2021-07-08T11:46:18.946Z"
   },
   {
    "duration": 12,
    "start_time": "2021-07-08T11:46:18.993Z"
   },
   {
    "duration": 38,
    "start_time": "2021-07-08T11:46:19.006Z"
   },
   {
    "duration": 50,
    "start_time": "2021-07-08T11:46:19.046Z"
   },
   {
    "duration": 29,
    "start_time": "2021-07-08T11:46:19.099Z"
   },
   {
    "duration": 7,
    "start_time": "2021-07-08T11:46:19.130Z"
   },
   {
    "duration": 3,
    "start_time": "2021-07-08T11:46:19.139Z"
   },
   {
    "duration": 11,
    "start_time": "2021-07-08T11:46:19.144Z"
   },
   {
    "duration": 40,
    "start_time": "2021-07-08T11:46:19.157Z"
   },
   {
    "duration": 15,
    "start_time": "2021-07-08T11:46:19.199Z"
   },
   {
    "duration": 10,
    "start_time": "2021-07-08T11:46:19.217Z"
   },
   {
    "duration": 68,
    "start_time": "2021-07-08T11:46:19.230Z"
   },
   {
    "duration": 17,
    "start_time": "2021-07-08T11:46:19.301Z"
   },
   {
    "duration": 7,
    "start_time": "2021-07-08T11:46:19.321Z"
   },
   {
    "duration": 11,
    "start_time": "2021-07-08T11:46:19.330Z"
   },
   {
    "duration": 59,
    "start_time": "2021-07-08T11:46:19.343Z"
   },
   {
    "duration": 17,
    "start_time": "2021-07-08T11:46:19.405Z"
   },
   {
    "duration": 16,
    "start_time": "2021-07-08T11:46:19.424Z"
   },
   {
    "duration": 252,
    "start_time": "2021-07-08T11:46:19.443Z"
   },
   {
    "duration": 9,
    "start_time": "2021-07-08T11:46:19.697Z"
   },
   {
    "duration": 224,
    "start_time": "2021-07-08T11:46:19.708Z"
   },
   {
    "duration": 21,
    "start_time": "2021-07-08T11:46:19.934Z"
   },
   {
    "duration": 9,
    "start_time": "2021-07-08T11:46:19.956Z"
   },
   {
    "duration": 32,
    "start_time": "2021-07-08T11:46:19.967Z"
   },
   {
    "duration": 288,
    "start_time": "2021-07-08T11:46:20.004Z"
   },
   {
    "duration": 23,
    "start_time": "2021-07-08T11:46:20.300Z"
   },
   {
    "duration": 11,
    "start_time": "2021-07-08T11:46:20.325Z"
   },
   {
    "duration": 11,
    "start_time": "2021-07-08T11:46:20.339Z"
   },
   {
    "duration": 259,
    "start_time": "2021-07-08T11:46:20.352Z"
   },
   {
    "duration": 438,
    "start_time": "2021-07-08T11:46:20.613Z"
   },
   {
    "duration": 207,
    "start_time": "2021-07-08T11:46:21.054Z"
   },
   {
    "duration": 27,
    "start_time": "2021-07-08T11:46:21.262Z"
   },
   {
    "duration": 19,
    "start_time": "2021-07-08T11:46:21.291Z"
   },
   {
    "duration": 820,
    "start_time": "2021-07-08T11:49:01.655Z"
   },
   {
    "duration": 372,
    "start_time": "2021-07-08T11:49:02.478Z"
   },
   {
    "duration": 98,
    "start_time": "2021-07-08T11:49:02.853Z"
   },
   {
    "duration": 6,
    "start_time": "2021-07-08T11:49:02.953Z"
   },
   {
    "duration": 39,
    "start_time": "2021-07-08T11:49:02.960Z"
   },
   {
    "duration": 9,
    "start_time": "2021-07-08T11:49:03.003Z"
   },
   {
    "duration": 23,
    "start_time": "2021-07-08T11:49:03.014Z"
   },
   {
    "duration": 6,
    "start_time": "2021-07-08T11:49:03.041Z"
   },
   {
    "duration": 20,
    "start_time": "2021-07-08T11:49:03.049Z"
   },
   {
    "duration": 18,
    "start_time": "2021-07-08T11:49:03.084Z"
   },
   {
    "duration": 14,
    "start_time": "2021-07-08T11:49:03.104Z"
   },
   {
    "duration": 39,
    "start_time": "2021-07-08T11:49:03.119Z"
   },
   {
    "duration": 38,
    "start_time": "2021-07-08T11:49:03.160Z"
   },
   {
    "duration": 26,
    "start_time": "2021-07-08T11:49:03.200Z"
   },
   {
    "duration": 7,
    "start_time": "2021-07-08T11:49:03.227Z"
   },
   {
    "duration": 4,
    "start_time": "2021-07-08T11:49:03.236Z"
   },
   {
    "duration": 15,
    "start_time": "2021-07-08T11:49:03.243Z"
   },
   {
    "duration": 21,
    "start_time": "2021-07-08T11:49:03.285Z"
   },
   {
    "duration": 17,
    "start_time": "2021-07-08T11:49:03.309Z"
   },
   {
    "duration": 10,
    "start_time": "2021-07-08T11:49:03.328Z"
   },
   {
    "duration": 65,
    "start_time": "2021-07-08T11:49:03.340Z"
   },
   {
    "duration": 18,
    "start_time": "2021-07-08T11:49:03.407Z"
   },
   {
    "duration": 8,
    "start_time": "2021-07-08T11:49:03.428Z"
   },
   {
    "duration": 15,
    "start_time": "2021-07-08T11:49:03.438Z"
   },
   {
    "duration": 40,
    "start_time": "2021-07-08T11:49:03.455Z"
   },
   {
    "duration": 12,
    "start_time": "2021-07-08T11:49:03.497Z"
   },
   {
    "duration": 29,
    "start_time": "2021-07-08T11:49:03.511Z"
   },
   {
    "duration": 285,
    "start_time": "2021-07-08T11:49:03.542Z"
   },
   {
    "duration": 8,
    "start_time": "2021-07-08T11:49:03.829Z"
   },
   {
    "duration": 227,
    "start_time": "2021-07-08T11:49:03.838Z"
   },
   {
    "duration": 40,
    "start_time": "2021-07-08T11:49:04.066Z"
   },
   {
    "duration": 10,
    "start_time": "2021-07-08T11:49:04.108Z"
   },
   {
    "duration": 26,
    "start_time": "2021-07-08T11:49:04.121Z"
   },
   {
    "duration": 290,
    "start_time": "2021-07-08T11:49:04.149Z"
   },
   {
    "duration": 26,
    "start_time": "2021-07-08T11:49:04.441Z"
   },
   {
    "duration": 31,
    "start_time": "2021-07-08T11:49:04.470Z"
   },
   {
    "duration": 14,
    "start_time": "2021-07-08T11:49:04.503Z"
   },
   {
    "duration": 259,
    "start_time": "2021-07-08T11:49:04.521Z"
   },
   {
    "duration": 480,
    "start_time": "2021-07-08T11:49:04.782Z"
   },
   {
    "duration": 225,
    "start_time": "2021-07-08T11:49:05.264Z"
   },
   {
    "duration": 22,
    "start_time": "2021-07-08T11:49:05.491Z"
   },
   {
    "duration": 24,
    "start_time": "2021-07-08T11:49:05.515Z"
   },
   {
    "duration": 634,
    "start_time": "2021-07-08T11:52:24.960Z"
   },
   {
    "duration": 199,
    "start_time": "2021-07-08T11:52:25.599Z"
   },
   {
    "duration": 106,
    "start_time": "2021-07-08T11:52:25.803Z"
   },
   {
    "duration": 7,
    "start_time": "2021-07-08T11:52:25.911Z"
   },
   {
    "duration": 29,
    "start_time": "2021-07-08T11:52:25.920Z"
   },
   {
    "duration": 7,
    "start_time": "2021-07-08T11:52:25.951Z"
   },
   {
    "duration": 26,
    "start_time": "2021-07-08T11:52:25.961Z"
   },
   {
    "duration": 11,
    "start_time": "2021-07-08T11:52:25.990Z"
   },
   {
    "duration": 29,
    "start_time": "2021-07-08T11:52:26.005Z"
   },
   {
    "duration": 9,
    "start_time": "2021-07-08T11:52:26.036Z"
   },
   {
    "duration": 8,
    "start_time": "2021-07-08T11:52:26.047Z"
   },
   {
    "duration": 63,
    "start_time": "2021-07-08T11:52:26.057Z"
   },
   {
    "duration": 17,
    "start_time": "2021-07-08T11:52:26.122Z"
   },
   {
    "duration": 43,
    "start_time": "2021-07-08T11:52:26.142Z"
   },
   {
    "duration": 17,
    "start_time": "2021-07-08T11:52:26.187Z"
   },
   {
    "duration": 5,
    "start_time": "2021-07-08T11:52:26.206Z"
   },
   {
    "duration": 12,
    "start_time": "2021-07-08T11:52:26.212Z"
   },
   {
    "duration": 11,
    "start_time": "2021-07-08T11:52:26.226Z"
   },
   {
    "duration": 12,
    "start_time": "2021-07-08T11:52:26.238Z"
   },
   {
    "duration": 38,
    "start_time": "2021-07-08T11:52:26.252Z"
   },
   {
    "duration": 40,
    "start_time": "2021-07-08T11:52:26.292Z"
   },
   {
    "duration": 17,
    "start_time": "2021-07-08T11:52:26.336Z"
   },
   {
    "duration": 39,
    "start_time": "2021-07-08T11:52:26.355Z"
   },
   {
    "duration": 11,
    "start_time": "2021-07-08T11:52:26.395Z"
   },
   {
    "duration": 23,
    "start_time": "2021-07-08T11:52:26.408Z"
   },
   {
    "duration": 12,
    "start_time": "2021-07-08T11:52:26.432Z"
   },
   {
    "duration": 41,
    "start_time": "2021-07-08T11:52:26.446Z"
   },
   {
    "duration": 215,
    "start_time": "2021-07-08T11:52:26.493Z"
   },
   {
    "duration": 8,
    "start_time": "2021-07-08T11:52:26.710Z"
   },
   {
    "duration": 228,
    "start_time": "2021-07-08T11:52:26.720Z"
   },
   {
    "duration": 18,
    "start_time": "2021-07-08T11:52:26.950Z"
   },
   {
    "duration": 35,
    "start_time": "2021-07-08T11:52:26.969Z"
   },
   {
    "duration": 23,
    "start_time": "2021-07-08T11:52:27.006Z"
   },
   {
    "duration": 258,
    "start_time": "2021-07-08T11:52:27.030Z"
   },
   {
    "duration": 24,
    "start_time": "2021-07-08T11:52:27.290Z"
   },
   {
    "duration": 12,
    "start_time": "2021-07-08T11:52:27.316Z"
   },
   {
    "duration": 10,
    "start_time": "2021-07-08T11:52:27.329Z"
   },
   {
    "duration": 298,
    "start_time": "2021-07-08T11:52:27.341Z"
   },
   {
    "duration": 436,
    "start_time": "2021-07-08T11:52:27.641Z"
   },
   {
    "duration": 216,
    "start_time": "2021-07-08T11:52:28.079Z"
   },
   {
    "duration": 20,
    "start_time": "2021-07-08T11:52:28.297Z"
   },
   {
    "duration": 17,
    "start_time": "2021-07-08T11:52:28.319Z"
   },
   {
    "duration": 753,
    "start_time": "2021-11-11T08:17:13.890Z"
   },
   {
    "duration": 27,
    "start_time": "2021-11-11T08:17:20.925Z"
   },
   {
    "duration": 7,
    "start_time": "2021-11-11T08:18:46.011Z"
   },
   {
    "duration": 20,
    "start_time": "2021-11-11T08:19:04.368Z"
   },
   {
    "duration": 14,
    "start_time": "2021-11-11T08:21:30.536Z"
   },
   {
    "duration": 13,
    "start_time": "2021-11-11T08:21:38.750Z"
   },
   {
    "duration": 450,
    "start_time": "2021-11-11T08:22:19.689Z"
   },
   {
    "duration": 1471,
    "start_time": "2021-11-11T08:23:22.960Z"
   },
   {
    "duration": 1497,
    "start_time": "2021-11-11T08:24:40.988Z"
   },
   {
    "duration": 1800,
    "start_time": "2021-11-11T08:24:51.827Z"
   },
   {
    "duration": 1439,
    "start_time": "2021-11-11T08:25:57.245Z"
   },
   {
    "duration": 1461,
    "start_time": "2021-11-11T08:28:08.004Z"
   },
   {
    "duration": 372,
    "start_time": "2021-11-11T08:29:40.244Z"
   },
   {
    "duration": 362,
    "start_time": "2021-11-11T08:29:48.059Z"
   },
   {
    "duration": 8,
    "start_time": "2021-11-11T08:30:21.146Z"
   },
   {
    "duration": 13,
    "start_time": "2021-11-11T08:30:25.514Z"
   },
   {
    "duration": 26,
    "start_time": "2021-11-11T08:30:33.248Z"
   },
   {
    "duration": 11,
    "start_time": "2021-11-11T08:30:48.917Z"
   },
   {
    "duration": 17,
    "start_time": "2021-11-11T08:32:11.955Z"
   },
   {
    "duration": 13,
    "start_time": "2021-11-11T08:32:13.870Z"
   },
   {
    "duration": 12,
    "start_time": "2021-11-11T08:32:19.417Z"
   },
   {
    "duration": 14,
    "start_time": "2021-11-11T08:32:19.440Z"
   },
   {
    "duration": 15,
    "start_time": "2021-11-11T08:32:22.294Z"
   },
   {
    "duration": 13,
    "start_time": "2021-11-11T08:32:22.669Z"
   },
   {
    "duration": 403,
    "start_time": "2021-11-11T08:34:51.042Z"
   },
   {
    "duration": 130,
    "start_time": "2021-11-11T08:34:55.644Z"
   },
   {
    "duration": 2481,
    "start_time": "2021-11-11T08:34:56.362Z"
   },
   {
    "duration": 420,
    "start_time": "2021-11-11T08:35:13.666Z"
   },
   {
    "duration": 122,
    "start_time": "2021-11-11T08:35:20.215Z"
   },
   {
    "duration": 394,
    "start_time": "2021-11-11T08:35:20.622Z"
   },
   {
    "duration": 20,
    "start_time": "2021-11-11T08:35:35.725Z"
   },
   {
    "duration": 13,
    "start_time": "2021-11-11T08:35:38.419Z"
   },
   {
    "duration": 3,
    "start_time": "2021-11-11T08:47:27.403Z"
   },
   {
    "duration": 113,
    "start_time": "2021-11-11T08:47:32.368Z"
   },
   {
    "duration": 14,
    "start_time": "2021-11-11T08:50:00.793Z"
   },
   {
    "duration": 1236,
    "start_time": "2021-11-11T08:52:16.347Z"
   },
   {
    "duration": 20,
    "start_time": "2021-11-11T08:52:26.951Z"
   },
   {
    "duration": 15,
    "start_time": "2021-11-11T08:52:43.563Z"
   },
   {
    "duration": 1303,
    "start_time": "2021-11-11T08:54:48.175Z"
   },
   {
    "duration": 691,
    "start_time": "2021-11-11T08:55:37.986Z"
   },
   {
    "duration": 48,
    "start_time": "2021-11-11T08:57:53.580Z"
   },
   {
    "duration": 377,
    "start_time": "2021-11-11T08:59:49.691Z"
   },
   {
    "duration": 45,
    "start_time": "2021-11-11T08:59:52.023Z"
   },
   {
    "duration": 15,
    "start_time": "2021-11-11T09:09:09.875Z"
   },
   {
    "duration": 17,
    "start_time": "2021-11-11T09:09:16.932Z"
   },
   {
    "duration": 21,
    "start_time": "2021-11-11T09:11:40.941Z"
   },
   {
    "duration": 18,
    "start_time": "2021-11-11T09:11:44.491Z"
   },
   {
    "duration": 7,
    "start_time": "2021-11-11T09:12:31.856Z"
   },
   {
    "duration": 5,
    "start_time": "2021-11-11T09:12:37.866Z"
   },
   {
    "duration": 368,
    "start_time": "2021-11-11T09:13:39.432Z"
   },
   {
    "duration": 11,
    "start_time": "2021-11-11T09:13:58.538Z"
   },
   {
    "duration": 52,
    "start_time": "2021-11-11T09:18:24.138Z"
   },
   {
    "duration": 45,
    "start_time": "2021-11-11T09:20:40.316Z"
   },
   {
    "duration": 412,
    "start_time": "2021-11-11T09:42:23.440Z"
   },
   {
    "duration": 439,
    "start_time": "2021-11-11T09:42:48.506Z"
   },
   {
    "duration": 2475,
    "start_time": "2021-11-11T09:46:19.231Z"
   },
   {
    "duration": 695,
    "start_time": "2021-11-11T09:46:41.954Z"
   },
   {
    "duration": 6,
    "start_time": "2021-11-11T09:46:46.239Z"
   },
   {
    "duration": 4,
    "start_time": "2021-11-11T09:51:20.106Z"
   },
   {
    "duration": 12,
    "start_time": "2021-11-11T09:51:35.190Z"
   },
   {
    "duration": 128,
    "start_time": "2021-11-11T09:53:27.818Z"
   },
   {
    "duration": 441,
    "start_time": "2021-11-11T09:53:31.233Z"
   },
   {
    "duration": 2176,
    "start_time": "2021-11-11T09:53:45.748Z"
   },
   {
    "duration": 27,
    "start_time": "2021-11-11T09:54:00.450Z"
   },
   {
    "duration": 119,
    "start_time": "2021-11-11T09:54:04.018Z"
   },
   {
    "duration": 368,
    "start_time": "2021-11-11T09:54:22.789Z"
   },
   {
    "duration": 25,
    "start_time": "2021-11-11T09:54:41.034Z"
   },
   {
    "duration": 5,
    "start_time": "2021-11-11T09:55:04.419Z"
   },
   {
    "duration": 10,
    "start_time": "2021-11-11T09:57:58.918Z"
   },
   {
    "duration": 22,
    "start_time": "2021-11-11T10:00:56.873Z"
   },
   {
    "duration": 17,
    "start_time": "2021-11-11T10:19:23.807Z"
   },
   {
    "duration": 5,
    "start_time": "2021-11-11T10:22:36.100Z"
   },
   {
    "duration": 11,
    "start_time": "2021-11-11T10:22:37.402Z"
   },
   {
    "duration": 4,
    "start_time": "2021-11-11T10:22:46.950Z"
   },
   {
    "duration": 3,
    "start_time": "2021-11-11T10:22:53.050Z"
   },
   {
    "duration": 153,
    "start_time": "2021-11-11T10:22:53.055Z"
   },
   {
    "duration": 14,
    "start_time": "2021-11-11T10:22:53.210Z"
   },
   {
    "duration": 25,
    "start_time": "2021-11-11T10:22:53.226Z"
   },
   {
    "duration": 60,
    "start_time": "2021-11-11T10:22:53.253Z"
   },
   {
    "duration": 6,
    "start_time": "2021-11-11T10:22:53.315Z"
   },
   {
    "duration": 33,
    "start_time": "2021-11-11T10:22:53.323Z"
   },
   {
    "duration": 29,
    "start_time": "2021-11-11T10:22:53.358Z"
   },
   {
    "duration": 5,
    "start_time": "2021-11-11T10:23:03.249Z"
   },
   {
    "duration": 12,
    "start_time": "2021-11-11T10:23:04.616Z"
   },
   {
    "duration": 17,
    "start_time": "2021-11-11T10:25:24.426Z"
   },
   {
    "duration": 3423,
    "start_time": "2021-11-11T10:27:49.446Z"
   },
   {
    "duration": 9866,
    "start_time": "2021-11-11T10:27:57.543Z"
   },
   {
    "duration": 6,
    "start_time": "2021-11-11T10:28:08.300Z"
   },
   {
    "duration": 7,
    "start_time": "2021-11-11T10:32:10.252Z"
   },
   {
    "duration": 4,
    "start_time": "2021-11-11T10:32:19.688Z"
   },
   {
    "duration": 11,
    "start_time": "2021-11-11T10:32:22.542Z"
   },
   {
    "duration": 18,
    "start_time": "2021-11-11T10:33:52.662Z"
   },
   {
    "duration": 4,
    "start_time": "2021-11-11T10:36:11.862Z"
   },
   {
    "duration": 15,
    "start_time": "2021-11-11T10:36:14.120Z"
   },
   {
    "duration": 13,
    "start_time": "2021-11-11T10:37:12.601Z"
   },
   {
    "duration": 18,
    "start_time": "2021-11-11T10:37:28.533Z"
   },
   {
    "duration": 3,
    "start_time": "2021-11-11T10:37:51.995Z"
   },
   {
    "duration": 132,
    "start_time": "2021-11-11T10:37:52.001Z"
   },
   {
    "duration": 13,
    "start_time": "2021-11-11T10:37:52.135Z"
   },
   {
    "duration": 19,
    "start_time": "2021-11-11T10:37:52.149Z"
   },
   {
    "duration": 50,
    "start_time": "2021-11-11T10:37:52.170Z"
   },
   {
    "duration": 9,
    "start_time": "2021-11-11T10:37:52.223Z"
   },
   {
    "duration": 6,
    "start_time": "2021-11-11T10:37:52.235Z"
   },
   {
    "duration": 23,
    "start_time": "2021-11-11T10:37:52.243Z"
   },
   {
    "duration": 4,
    "start_time": "2021-11-11T10:37:52.268Z"
   },
   {
    "duration": 54,
    "start_time": "2021-11-11T10:37:52.274Z"
   },
   {
    "duration": 6,
    "start_time": "2021-11-11T10:37:52.330Z"
   },
   {
    "duration": 35,
    "start_time": "2021-11-11T10:37:53.477Z"
   },
   {
    "duration": 34,
    "start_time": "2021-11-11T10:42:03.882Z"
   },
   {
    "duration": 32,
    "start_time": "2021-11-11T10:42:10.047Z"
   },
   {
    "duration": 29,
    "start_time": "2021-11-11T10:44:12.250Z"
   },
   {
    "duration": 5,
    "start_time": "2021-11-11T10:44:35.942Z"
   },
   {
    "duration": 11,
    "start_time": "2021-11-11T10:44:37.150Z"
   },
   {
    "duration": 17,
    "start_time": "2021-11-11T10:46:04.362Z"
   },
   {
    "duration": 17,
    "start_time": "2021-11-11T10:46:08.958Z"
   },
   {
    "duration": 4,
    "start_time": "2021-11-11T10:47:16.428Z"
   },
   {
    "duration": 9,
    "start_time": "2021-11-11T10:47:17.546Z"
   },
   {
    "duration": 10,
    "start_time": "2021-11-11T10:56:49.048Z"
   },
   {
    "duration": 24,
    "start_time": "2021-11-11T11:02:45.910Z"
   },
   {
    "duration": 8,
    "start_time": "2021-11-11T11:06:09.805Z"
   },
   {
    "duration": 120,
    "start_time": "2021-11-11T11:17:09.130Z"
   },
   {
    "duration": 125,
    "start_time": "2021-11-11T11:17:25.659Z"
   },
   {
    "duration": 1675,
    "start_time": "2021-11-11T11:17:36.535Z"
   },
   {
    "duration": 4,
    "start_time": "2021-11-11T11:17:53.644Z"
   },
   {
    "duration": 829,
    "start_time": "2021-11-11T11:18:23.683Z"
   },
   {
    "duration": 380,
    "start_time": "2021-11-11T11:18:33.085Z"
   },
   {
    "duration": 397,
    "start_time": "2021-11-11T11:18:37.373Z"
   },
   {
    "duration": 4,
    "start_time": "2021-11-11T11:18:56.718Z"
   },
   {
    "duration": 144,
    "start_time": "2021-11-11T11:19:07.439Z"
   },
   {
    "duration": 121,
    "start_time": "2021-11-11T11:19:13.183Z"
   },
   {
    "duration": 123,
    "start_time": "2021-11-11T11:19:18.090Z"
   },
   {
    "duration": 372,
    "start_time": "2021-11-11T11:19:24.186Z"
   },
   {
    "duration": 630,
    "start_time": "2021-11-11T11:20:14.712Z"
   },
   {
    "duration": 133,
    "start_time": "2021-11-11T11:20:38.342Z"
   },
   {
    "duration": 369,
    "start_time": "2021-11-11T11:24:12.952Z"
   },
   {
    "duration": 27,
    "start_time": "2021-11-11T11:24:21.245Z"
   },
   {
    "duration": 24,
    "start_time": "2021-11-11T11:24:30.434Z"
   },
   {
    "duration": 24,
    "start_time": "2021-11-11T11:24:37.016Z"
   },
   {
    "duration": 409,
    "start_time": "2021-11-11T11:29:35.277Z"
   },
   {
    "duration": 389,
    "start_time": "2021-11-11T11:29:42.321Z"
   },
   {
    "duration": 129,
    "start_time": "2021-11-11T11:30:43.876Z"
   },
   {
    "duration": 22,
    "start_time": "2021-11-11T11:30:47.672Z"
   },
   {
    "duration": 40,
    "start_time": "2021-11-11T11:31:04.222Z"
   },
   {
    "duration": 59,
    "start_time": "2021-11-11T11:32:01.062Z"
   },
   {
    "duration": 23,
    "start_time": "2021-11-11T11:33:09.239Z"
   },
   {
    "duration": 22,
    "start_time": "2021-11-11T11:33:22.211Z"
   },
   {
    "duration": 40,
    "start_time": "2021-11-11T11:33:28.152Z"
   },
   {
    "duration": 46,
    "start_time": "2021-11-11T11:33:58.281Z"
   },
   {
    "duration": 41,
    "start_time": "2021-11-11T11:34:02.927Z"
   },
   {
    "duration": 214,
    "start_time": "2021-11-11T11:34:57.377Z"
   },
   {
    "duration": 44,
    "start_time": "2021-11-11T11:35:00.793Z"
   },
   {
    "duration": 43,
    "start_time": "2021-11-11T11:35:51.980Z"
   },
   {
    "duration": 126,
    "start_time": "2021-11-11T11:36:52.133Z"
   },
   {
    "duration": 16,
    "start_time": "2021-11-11T11:36:57.589Z"
   },
   {
    "duration": 43,
    "start_time": "2021-11-11T11:37:08.522Z"
   },
   {
    "duration": 43,
    "start_time": "2021-11-11T11:37:16.580Z"
   },
   {
    "duration": 43,
    "start_time": "2021-11-11T11:37:26.911Z"
   },
   {
    "duration": 16,
    "start_time": "2021-11-11T11:38:40.339Z"
   },
   {
    "duration": 368,
    "start_time": "2021-11-11T12:06:43.280Z"
   },
   {
    "duration": 417,
    "start_time": "2021-11-11T12:08:21.593Z"
   },
   {
    "duration": 22,
    "start_time": "2021-11-11T12:09:39.855Z"
   },
   {
    "duration": 10,
    "start_time": "2021-11-11T12:09:49.128Z"
   },
   {
    "duration": 385,
    "start_time": "2021-11-11T12:11:05.074Z"
   },
   {
    "duration": 403,
    "start_time": "2021-11-11T12:11:09.050Z"
   },
   {
    "duration": 364,
    "start_time": "2021-11-11T12:11:32.578Z"
   },
   {
    "duration": 47,
    "start_time": "2021-11-11T12:12:03.904Z"
   },
   {
    "duration": 23,
    "start_time": "2021-11-11T12:12:19.781Z"
   },
   {
    "duration": 3,
    "start_time": "2021-11-11T12:12:27.347Z"
   },
   {
    "duration": 147,
    "start_time": "2021-11-11T12:12:27.352Z"
   },
   {
    "duration": 15,
    "start_time": "2021-11-11T12:12:27.502Z"
   },
   {
    "duration": 22,
    "start_time": "2021-11-11T12:12:27.519Z"
   },
   {
    "duration": 91,
    "start_time": "2021-11-11T12:12:27.544Z"
   },
   {
    "duration": 6,
    "start_time": "2021-11-11T12:12:27.637Z"
   },
   {
    "duration": 6,
    "start_time": "2021-11-11T12:12:27.646Z"
   },
   {
    "duration": 21,
    "start_time": "2021-11-11T12:12:27.654Z"
   },
   {
    "duration": 6,
    "start_time": "2021-11-11T12:12:27.676Z"
   },
   {
    "duration": 35,
    "start_time": "2021-11-11T12:12:27.684Z"
   },
   {
    "duration": 8,
    "start_time": "2021-11-11T12:12:27.721Z"
   },
   {
    "duration": 32,
    "start_time": "2021-11-11T12:12:27.731Z"
   },
   {
    "duration": 4,
    "start_time": "2021-11-11T12:12:27.764Z"
   },
   {
    "duration": 37,
    "start_time": "2021-11-11T12:12:27.770Z"
   },
   {
    "duration": 4,
    "start_time": "2021-11-11T12:12:27.809Z"
   },
   {
    "duration": 16,
    "start_time": "2021-11-11T12:12:27.815Z"
   },
   {
    "duration": 27,
    "start_time": "2021-11-11T12:12:27.833Z"
   },
   {
    "duration": 75,
    "start_time": "2021-11-11T12:12:27.862Z"
   },
   {
    "duration": 21,
    "start_time": "2021-11-11T12:12:27.940Z"
   },
   {
    "duration": 9,
    "start_time": "2021-11-11T12:12:27.963Z"
   },
   {
    "duration": 7,
    "start_time": "2021-11-11T12:17:55.231Z"
   },
   {
    "duration": 3,
    "start_time": "2021-11-11T12:22:37.729Z"
   },
   {
    "duration": 20,
    "start_time": "2021-11-11T12:23:14.409Z"
   },
   {
    "duration": 15,
    "start_time": "2021-11-11T12:24:11.458Z"
   },
   {
    "duration": 11,
    "start_time": "2021-11-11T12:25:07.864Z"
   },
   {
    "duration": 9,
    "start_time": "2021-11-11T12:28:07.380Z"
   },
   {
    "duration": 6,
    "start_time": "2021-11-11T12:28:24.406Z"
   },
   {
    "duration": 6,
    "start_time": "2021-11-11T12:40:00.743Z"
   },
   {
    "duration": 391,
    "start_time": "2021-11-11T12:40:38.863Z"
   },
   {
    "duration": 9,
    "start_time": "2021-11-11T12:40:51.312Z"
   },
   {
    "duration": 8,
    "start_time": "2021-11-11T12:41:20.902Z"
   },
   {
    "duration": 5,
    "start_time": "2021-11-11T12:41:30.888Z"
   },
   {
    "duration": 8,
    "start_time": "2021-11-11T12:41:44.057Z"
   },
   {
    "duration": 5,
    "start_time": "2021-11-11T12:41:53.284Z"
   },
   {
    "duration": 9667,
    "start_time": "2021-11-11T12:45:36.827Z"
   },
   {
    "duration": 10271,
    "start_time": "2021-11-11T12:45:55.224Z"
   },
   {
    "duration": 14,
    "start_time": "2021-11-11T12:46:13.284Z"
   },
   {
    "duration": 14,
    "start_time": "2021-11-11T12:46:15.616Z"
   },
   {
    "duration": 20,
    "start_time": "2021-11-11T12:46:35.326Z"
   },
   {
    "duration": 17,
    "start_time": "2021-11-11T12:46:43.715Z"
   },
   {
    "duration": 19,
    "start_time": "2021-11-11T12:46:53.383Z"
   },
   {
    "duration": 18,
    "start_time": "2021-11-11T12:54:11.449Z"
   },
   {
    "duration": 327,
    "start_time": "2021-11-11T13:05:23.840Z"
   },
   {
    "duration": 384,
    "start_time": "2021-11-11T13:05:37.057Z"
   },
   {
    "duration": 377,
    "start_time": "2021-11-11T13:06:36.294Z"
   },
   {
    "duration": 393,
    "start_time": "2021-11-11T13:06:40.415Z"
   },
   {
    "duration": 3,
    "start_time": "2021-11-11T13:07:10.920Z"
   },
   {
    "duration": 3,
    "start_time": "2021-11-11T13:07:19.219Z"
   },
   {
    "duration": 112,
    "start_time": "2021-11-11T13:07:19.226Z"
   },
   {
    "duration": 15,
    "start_time": "2021-11-11T13:07:19.340Z"
   },
   {
    "duration": 19,
    "start_time": "2021-11-11T13:07:19.357Z"
   },
   {
    "duration": 49,
    "start_time": "2021-11-11T13:07:19.377Z"
   },
   {
    "duration": 7,
    "start_time": "2021-11-11T13:07:19.427Z"
   },
   {
    "duration": 10,
    "start_time": "2021-11-11T13:07:19.435Z"
   },
   {
    "duration": 22,
    "start_time": "2021-11-11T13:07:19.447Z"
   },
   {
    "duration": 4,
    "start_time": "2021-11-11T13:07:19.472Z"
   },
   {
    "duration": 29,
    "start_time": "2021-11-11T13:07:19.478Z"
   },
   {
    "duration": 4,
    "start_time": "2021-11-11T13:07:19.509Z"
   },
   {
    "duration": 31,
    "start_time": "2021-11-11T13:07:19.514Z"
   },
   {
    "duration": 5,
    "start_time": "2021-11-11T13:07:19.546Z"
   },
   {
    "duration": 22,
    "start_time": "2021-11-11T13:07:19.552Z"
   },
   {
    "duration": 3,
    "start_time": "2021-11-11T13:07:19.576Z"
   },
   {
    "duration": 11,
    "start_time": "2021-11-11T13:07:19.606Z"
   },
   {
    "duration": 27,
    "start_time": "2021-11-11T13:07:19.619Z"
   },
   {
    "duration": 78,
    "start_time": "2021-11-11T13:07:19.648Z"
   },
   {
    "duration": 22,
    "start_time": "2021-11-11T13:07:19.728Z"
   },
   {
    "duration": 10,
    "start_time": "2021-11-11T13:07:19.752Z"
   },
   {
    "duration": 36,
    "start_time": "2021-11-11T13:07:19.764Z"
   },
   {
    "duration": 12,
    "start_time": "2021-11-11T13:07:19.807Z"
   },
   {
    "duration": 950,
    "start_time": "2021-11-11T13:07:19.821Z"
   },
   {
    "duration": 1043,
    "start_time": "2021-11-11T13:07:49.105Z"
   },
   {
    "duration": 1078,
    "start_time": "2021-11-11T13:08:47.960Z"
   },
   {
    "duration": 178,
    "start_time": "2021-11-11T13:14:54.627Z"
   },
   {
    "duration": 175,
    "start_time": "2021-11-11T13:15:24.379Z"
   },
   {
    "duration": 181,
    "start_time": "2021-11-11T13:15:28.316Z"
   },
   {
    "duration": 422,
    "start_time": "2021-11-11T13:15:40.192Z"
   },
   {
    "duration": 265,
    "start_time": "2021-11-11T13:16:26.669Z"
   },
   {
    "duration": 253,
    "start_time": "2021-11-11T13:16:41.926Z"
   },
   {
    "duration": 437,
    "start_time": "2021-11-11T13:16:56.106Z"
   },
   {
    "duration": 7,
    "start_time": "2021-11-11T13:17:52.294Z"
   },
   {
    "duration": 159,
    "start_time": "2021-11-11T13:17:55.915Z"
   },
   {
    "duration": 122,
    "start_time": "2021-11-11T13:17:58.917Z"
   },
   {
    "duration": 365,
    "start_time": "2021-11-11T13:18:21.813Z"
   },
   {
    "duration": 434,
    "start_time": "2021-11-11T13:19:19.777Z"
   },
   {
    "duration": 389,
    "start_time": "2021-11-11T13:20:16.382Z"
   },
   {
    "duration": 7,
    "start_time": "2021-11-11T13:20:46.624Z"
   },
   {
    "duration": 378,
    "start_time": "2021-11-11T13:21:43.574Z"
   },
   {
    "duration": 6,
    "start_time": "2021-11-11T13:22:07.354Z"
   },
   {
    "duration": 27,
    "start_time": "2021-11-11T13:22:12.916Z"
   },
   {
    "duration": 178,
    "start_time": "2021-11-11T13:22:46.743Z"
   },
   {
    "duration": 5,
    "start_time": "2021-11-11T13:23:06.545Z"
   },
   {
    "duration": 180,
    "start_time": "2021-11-11T13:23:07.557Z"
   },
   {
    "duration": 205,
    "start_time": "2021-11-11T13:23:39.405Z"
   },
   {
    "duration": 198,
    "start_time": "2021-11-11T13:23:54.811Z"
   },
   {
    "duration": 204,
    "start_time": "2021-11-11T13:24:04.042Z"
   },
   {
    "duration": 505,
    "start_time": "2021-11-11T13:24:30.129Z"
   },
   {
    "duration": 513,
    "start_time": "2021-11-11T13:25:50.951Z"
   },
   {
    "duration": 3,
    "start_time": "2021-11-11T13:25:53.261Z"
   },
   {
    "duration": 387,
    "start_time": "2021-11-11T13:26:10.826Z"
   },
   {
    "duration": 158,
    "start_time": "2021-11-11T13:26:17.587Z"
   },
   {
    "duration": 153,
    "start_time": "2021-11-11T13:26:29.438Z"
   },
   {
    "duration": 537,
    "start_time": "2021-11-11T13:26:36.387Z"
   },
   {
    "duration": 218,
    "start_time": "2021-11-11T13:26:49.408Z"
   },
   {
    "duration": 164,
    "start_time": "2021-11-11T13:26:57.688Z"
   },
   {
    "duration": 197,
    "start_time": "2021-11-11T13:27:00.911Z"
   },
   {
    "duration": 162,
    "start_time": "2021-11-11T13:27:04.390Z"
   },
   {
    "duration": 170,
    "start_time": "2021-11-11T13:27:25.228Z"
   },
   {
    "duration": 173,
    "start_time": "2021-11-11T13:28:02.504Z"
   },
   {
    "duration": 532,
    "start_time": "2021-11-11T13:28:19.737Z"
   },
   {
    "duration": 187,
    "start_time": "2021-11-11T13:28:26.803Z"
   },
   {
    "duration": 528,
    "start_time": "2021-11-11T13:28:58.156Z"
   },
   {
    "duration": 607,
    "start_time": "2021-11-11T13:30:47.078Z"
   },
   {
    "duration": 250,
    "start_time": "2021-11-11T13:30:51.561Z"
   },
   {
    "duration": 264,
    "start_time": "2021-11-11T13:32:19.385Z"
   },
   {
    "duration": 4,
    "start_time": "2021-11-11T13:35:37.872Z"
   },
   {
    "duration": 5,
    "start_time": "2021-11-11T13:36:39.107Z"
   },
   {
    "duration": 197,
    "start_time": "2021-11-11T13:36:59.954Z"
   },
   {
    "duration": 27,
    "start_time": "2021-11-11T13:38:16.185Z"
   },
   {
    "duration": 25,
    "start_time": "2021-11-11T13:38:35.871Z"
   },
   {
    "duration": 422,
    "start_time": "2021-11-11T13:40:01.302Z"
   },
   {
    "duration": 27,
    "start_time": "2021-11-11T13:40:10.785Z"
   },
   {
    "duration": 30,
    "start_time": "2021-11-11T13:41:45.079Z"
   },
   {
    "duration": 1269,
    "start_time": "2021-11-11T13:43:57.001Z"
   },
   {
    "duration": 118,
    "start_time": "2021-11-11T13:44:08.133Z"
   },
   {
    "duration": 122,
    "start_time": "2021-11-11T13:44:09.836Z"
   },
   {
    "duration": 1047,
    "start_time": "2021-11-11T13:44:12.823Z"
   },
   {
    "duration": 1277,
    "start_time": "2021-11-11T13:45:57.406Z"
   },
   {
    "duration": 1097,
    "start_time": "2021-11-11T13:51:06.960Z"
   },
   {
    "duration": 1164,
    "start_time": "2021-11-11T13:53:21.396Z"
   },
   {
    "duration": 1126,
    "start_time": "2021-11-11T13:53:33.165Z"
   },
   {
    "duration": 4,
    "start_time": "2021-11-11T14:06:32.750Z"
   },
   {
    "duration": 197,
    "start_time": "2021-11-11T14:06:37.156Z"
   },
   {
    "duration": 120,
    "start_time": "2021-11-11T14:06:39.986Z"
   },
   {
    "duration": 130,
    "start_time": "2021-11-11T14:06:41.828Z"
   },
   {
    "duration": 189,
    "start_time": "2021-11-11T14:06:45.050Z"
   },
   {
    "duration": 4,
    "start_time": "2021-11-11T14:20:47.589Z"
   },
   {
    "duration": 187,
    "start_time": "2021-11-11T14:20:51.958Z"
   },
   {
    "duration": 291,
    "start_time": "2021-11-11T14:21:25.170Z"
   },
   {
    "duration": 26,
    "start_time": "2021-11-11T14:22:54.845Z"
   },
   {
    "duration": 22,
    "start_time": "2021-11-11T14:25:09.439Z"
   },
   {
    "duration": 12,
    "start_time": "2021-11-11T14:28:19.469Z"
   },
   {
    "duration": 120,
    "start_time": "2021-11-11T14:29:53.380Z"
   },
   {
    "duration": 6,
    "start_time": "2021-11-11T14:29:56.261Z"
   },
   {
    "duration": 400,
    "start_time": "2021-11-11T14:30:07.824Z"
   },
   {
    "duration": 5,
    "start_time": "2021-11-11T14:30:12.266Z"
   },
   {
    "duration": 6,
    "start_time": "2021-11-11T14:30:57.476Z"
   },
   {
    "duration": 7,
    "start_time": "2021-11-11T14:32:59.074Z"
   },
   {
    "duration": 21,
    "start_time": "2021-11-11T14:33:05.802Z"
   },
   {
    "duration": 8,
    "start_time": "2021-11-11T14:33:40.185Z"
   },
   {
    "duration": 22,
    "start_time": "2021-11-11T14:33:47.884Z"
   },
   {
    "duration": 22,
    "start_time": "2021-11-11T14:33:59.086Z"
   },
   {
    "duration": 7,
    "start_time": "2021-11-11T14:34:10.239Z"
   },
   {
    "duration": 10,
    "start_time": "2021-11-11T14:34:13.686Z"
   },
   {
    "duration": 3,
    "start_time": "2021-11-11T14:34:19.492Z"
   },
   {
    "duration": 114,
    "start_time": "2021-11-11T14:34:19.497Z"
   },
   {
    "duration": 14,
    "start_time": "2021-11-11T14:34:19.614Z"
   },
   {
    "duration": 31,
    "start_time": "2021-11-11T14:34:19.630Z"
   },
   {
    "duration": 65,
    "start_time": "2021-11-11T14:34:19.663Z"
   },
   {
    "duration": 7,
    "start_time": "2021-11-11T14:34:19.729Z"
   },
   {
    "duration": 7,
    "start_time": "2021-11-11T14:34:19.738Z"
   },
   {
    "duration": 19,
    "start_time": "2021-11-11T14:34:19.747Z"
   },
   {
    "duration": 5,
    "start_time": "2021-11-11T14:34:19.770Z"
   },
   {
    "duration": 41,
    "start_time": "2021-11-11T14:34:19.777Z"
   },
   {
    "duration": 20,
    "start_time": "2021-11-11T14:34:19.820Z"
   },
   {
    "duration": 37,
    "start_time": "2021-11-11T14:34:19.842Z"
   },
   {
    "duration": 5,
    "start_time": "2021-11-11T14:34:19.880Z"
   },
   {
    "duration": 28,
    "start_time": "2021-11-11T14:34:19.886Z"
   },
   {
    "duration": 3,
    "start_time": "2021-11-11T14:34:19.916Z"
   },
   {
    "duration": 15,
    "start_time": "2021-11-11T14:34:19.921Z"
   },
   {
    "duration": 30,
    "start_time": "2021-11-11T14:34:19.938Z"
   },
   {
    "duration": 77,
    "start_time": "2021-11-11T14:34:19.970Z"
   },
   {
    "duration": 22,
    "start_time": "2021-11-11T14:34:20.048Z"
   },
   {
    "duration": 30,
    "start_time": "2021-11-11T14:34:20.072Z"
   },
   {
    "duration": 50,
    "start_time": "2021-11-11T14:34:20.104Z"
   },
   {
    "duration": 34,
    "start_time": "2021-11-11T14:34:20.156Z"
   },
   {
    "duration": 1218,
    "start_time": "2021-11-11T14:34:20.191Z"
   },
   {
    "duration": 6,
    "start_time": "2021-11-11T14:34:21.411Z"
   },
   {
    "duration": 17,
    "start_time": "2021-11-11T14:34:21.419Z"
   },
   {
    "duration": 258,
    "start_time": "2021-11-11T14:34:21.438Z"
   },
   {
    "duration": 26,
    "start_time": "2021-11-11T14:34:21.699Z"
   },
   {
    "duration": 6,
    "start_time": "2021-11-11T14:34:21.727Z"
   },
   {
    "duration": 8,
    "start_time": "2021-11-11T14:34:21.735Z"
   },
   {
    "duration": 214,
    "start_time": "2021-11-11T14:34:52.399Z"
   },
   {
    "duration": 129,
    "start_time": "2021-11-11T14:39:10.538Z"
   },
   {
    "duration": 3432,
    "start_time": "2021-11-11T14:39:31.434Z"
   },
   {
    "duration": 2626,
    "start_time": "2021-11-11T14:40:32.249Z"
   },
   {
    "duration": 10,
    "start_time": "2021-11-11T14:41:11.381Z"
   },
   {
    "duration": 1254,
    "start_time": "2021-11-11T14:41:18.658Z"
   },
   {
    "duration": 3,
    "start_time": "2021-11-11T14:41:42.822Z"
   },
   {
    "duration": 115,
    "start_time": "2021-11-11T14:41:42.827Z"
   },
   {
    "duration": 17,
    "start_time": "2021-11-11T14:41:42.945Z"
   },
   {
    "duration": 22,
    "start_time": "2021-11-11T14:41:42.964Z"
   },
   {
    "duration": 52,
    "start_time": "2021-11-11T14:41:42.988Z"
   },
   {
    "duration": 7,
    "start_time": "2021-11-11T14:41:43.043Z"
   },
   {
    "duration": 17,
    "start_time": "2021-11-11T14:41:43.053Z"
   },
   {
    "duration": 33,
    "start_time": "2021-11-11T14:41:43.073Z"
   },
   {
    "duration": 6,
    "start_time": "2021-11-11T14:41:43.108Z"
   },
   {
    "duration": 26,
    "start_time": "2021-11-11T14:41:43.116Z"
   },
   {
    "duration": 4,
    "start_time": "2021-11-11T14:41:43.145Z"
   },
   {
    "duration": 33,
    "start_time": "2021-11-11T14:41:43.151Z"
   },
   {
    "duration": 7,
    "start_time": "2021-11-11T14:41:43.206Z"
   },
   {
    "duration": 26,
    "start_time": "2021-11-11T14:41:43.215Z"
   },
   {
    "duration": 5,
    "start_time": "2021-11-11T14:41:43.243Z"
   },
   {
    "duration": 16,
    "start_time": "2021-11-11T14:41:43.250Z"
   },
   {
    "duration": 48,
    "start_time": "2021-11-11T14:41:43.268Z"
   },
   {
    "duration": 63,
    "start_time": "2021-11-11T14:41:43.318Z"
   },
   {
    "duration": 37,
    "start_time": "2021-11-11T14:41:43.385Z"
   },
   {
    "duration": 13,
    "start_time": "2021-11-11T14:41:43.424Z"
   },
   {
    "duration": 20,
    "start_time": "2021-11-11T14:41:43.439Z"
   },
   {
    "duration": 6,
    "start_time": "2021-11-11T14:41:43.462Z"
   },
   {
    "duration": 1221,
    "start_time": "2021-11-11T14:41:43.470Z"
   },
   {
    "duration": 12,
    "start_time": "2021-11-11T14:41:44.694Z"
   },
   {
    "duration": 8,
    "start_time": "2021-11-11T14:41:44.708Z"
   },
   {
    "duration": 190,
    "start_time": "2021-11-11T14:41:44.718Z"
   },
   {
    "duration": 21,
    "start_time": "2021-11-11T14:41:44.910Z"
   },
   {
    "duration": 7,
    "start_time": "2021-11-11T14:41:44.933Z"
   },
   {
    "duration": 124,
    "start_time": "2021-11-11T14:42:05.470Z"
   },
   {
    "duration": 7,
    "start_time": "2021-11-11T14:42:11.358Z"
   },
   {
    "duration": 382,
    "start_time": "2021-11-11T14:42:16.872Z"
   },
   {
    "duration": 357,
    "start_time": "2021-11-11T14:42:25.107Z"
   },
   {
    "duration": 23,
    "start_time": "2021-11-11T14:42:38.249Z"
   },
   {
    "duration": 6,
    "start_time": "2021-11-11T14:42:57.110Z"
   },
   {
    "duration": 7,
    "start_time": "2021-11-11T14:43:03.101Z"
   },
   {
    "duration": 6,
    "start_time": "2021-11-11T14:43:13.428Z"
   },
   {
    "duration": 11,
    "start_time": "2021-11-11T14:43:16.474Z"
   },
   {
    "duration": 6,
    "start_time": "2021-11-11T14:43:17.834Z"
   },
   {
    "duration": 11,
    "start_time": "2021-11-11T14:43:49.603Z"
   },
   {
    "duration": 34,
    "start_time": "2021-11-11T14:45:31.155Z"
   },
   {
    "duration": 6,
    "start_time": "2021-11-11T14:46:25.751Z"
   },
   {
    "duration": 6,
    "start_time": "2021-11-11T14:46:30.882Z"
   },
   {
    "duration": 6,
    "start_time": "2021-11-11T14:46:33.653Z"
   },
   {
    "duration": 6,
    "start_time": "2021-11-11T14:47:34.484Z"
   },
   {
    "duration": 7,
    "start_time": "2021-11-11T14:47:40.229Z"
   },
   {
    "duration": 6,
    "start_time": "2021-11-11T14:47:43.985Z"
   },
   {
    "duration": 120,
    "start_time": "2021-11-11T14:51:03.814Z"
   },
   {
    "duration": 6,
    "start_time": "2021-11-11T14:51:08.468Z"
   },
   {
    "duration": 7,
    "start_time": "2021-11-11T14:51:17.043Z"
   },
   {
    "duration": 7,
    "start_time": "2021-11-11T14:52:45.385Z"
   },
   {
    "duration": 21,
    "start_time": "2021-11-11T15:01:04.602Z"
   },
   {
    "duration": 24,
    "start_time": "2021-11-11T15:01:14.146Z"
   },
   {
    "duration": 22,
    "start_time": "2021-11-11T15:01:21.047Z"
   },
   {
    "duration": 22,
    "start_time": "2021-11-11T15:03:56.114Z"
   },
   {
    "duration": 23,
    "start_time": "2021-11-11T15:04:05.393Z"
   },
   {
    "duration": 11,
    "start_time": "2021-11-11T15:05:55.175Z"
   },
   {
    "duration": 23,
    "start_time": "2021-11-11T15:06:13.620Z"
   },
   {
    "duration": 22,
    "start_time": "2021-11-11T15:06:16.522Z"
   },
   {
    "duration": 624,
    "start_time": "2021-11-11T15:31:51.272Z"
   },
   {
    "duration": 15,
    "start_time": "2021-11-11T15:38:07.031Z"
   },
   {
    "duration": 18,
    "start_time": "2021-11-11T15:38:12.769Z"
   },
   {
    "duration": 5,
    "start_time": "2021-11-11T15:40:05.435Z"
   },
   {
    "duration": 3,
    "start_time": "2021-11-11T15:41:02.903Z"
   },
   {
    "duration": 170,
    "start_time": "2021-11-11T15:41:02.908Z"
   },
   {
    "duration": 15,
    "start_time": "2021-11-11T15:41:03.080Z"
   },
   {
    "duration": 25,
    "start_time": "2021-11-11T15:41:03.097Z"
   },
   {
    "duration": 73,
    "start_time": "2021-11-11T15:41:03.124Z"
   },
   {
    "duration": 6,
    "start_time": "2021-11-11T15:41:03.199Z"
   },
   {
    "duration": 19,
    "start_time": "2021-11-11T15:41:03.208Z"
   },
   {
    "duration": 26,
    "start_time": "2021-11-11T15:41:03.229Z"
   },
   {
    "duration": 15,
    "start_time": "2021-11-11T15:41:03.257Z"
   },
   {
    "duration": 21,
    "start_time": "2021-11-11T15:41:03.273Z"
   },
   {
    "duration": 8,
    "start_time": "2021-11-11T15:41:03.296Z"
   },
   {
    "duration": 40,
    "start_time": "2021-11-11T15:41:03.306Z"
   },
   {
    "duration": 26,
    "start_time": "2021-11-11T15:41:03.348Z"
   },
   {
    "duration": 31,
    "start_time": "2021-11-11T15:41:03.376Z"
   },
   {
    "duration": 15,
    "start_time": "2021-11-11T15:41:03.409Z"
   },
   {
    "duration": 17,
    "start_time": "2021-11-11T15:41:03.426Z"
   },
   {
    "duration": 28,
    "start_time": "2021-11-11T15:41:03.445Z"
   },
   {
    "duration": 58,
    "start_time": "2021-11-11T15:41:03.475Z"
   },
   {
    "duration": 22,
    "start_time": "2021-11-11T15:41:03.536Z"
   },
   {
    "duration": 10,
    "start_time": "2021-11-11T15:41:03.561Z"
   },
   {
    "duration": 43,
    "start_time": "2021-11-11T15:41:03.573Z"
   },
   {
    "duration": 5,
    "start_time": "2021-11-11T15:41:03.618Z"
   },
   {
    "duration": 28,
    "start_time": "2021-11-11T15:41:03.625Z"
   },
   {
    "duration": 1335,
    "start_time": "2021-11-11T15:41:03.655Z"
   },
   {
    "duration": 5,
    "start_time": "2021-11-11T15:41:04.991Z"
   },
   {
    "duration": 12,
    "start_time": "2021-11-11T15:41:04.998Z"
   },
   {
    "duration": 204,
    "start_time": "2021-11-11T15:41:05.011Z"
   },
   {
    "duration": 22,
    "start_time": "2021-11-11T15:41:05.217Z"
   },
   {
    "duration": 8,
    "start_time": "2021-11-11T15:41:05.241Z"
   },
   {
    "duration": 19,
    "start_time": "2021-11-11T15:41:05.251Z"
   },
   {
    "duration": 27,
    "start_time": "2021-11-11T15:41:05.272Z"
   },
   {
    "duration": 16,
    "start_time": "2021-11-11T15:41:20.777Z"
   },
   {
    "duration": 16,
    "start_time": "2021-11-11T15:41:32.761Z"
   },
   {
    "duration": 18,
    "start_time": "2021-11-11T15:41:41.466Z"
   },
   {
    "duration": 357,
    "start_time": "2021-11-11T15:44:40.262Z"
   },
   {
    "duration": 398,
    "start_time": "2021-11-11T15:44:45.627Z"
   },
   {
    "duration": 361,
    "start_time": "2021-11-11T15:44:51.698Z"
   },
   {
    "duration": 379,
    "start_time": "2021-11-11T15:45:07.780Z"
   },
   {
    "duration": 444,
    "start_time": "2021-11-11T15:45:36.786Z"
   },
   {
    "duration": 5,
    "start_time": "2021-11-11T15:46:05.721Z"
   },
   {
    "duration": 5,
    "start_time": "2021-11-11T15:46:22.064Z"
   },
   {
    "duration": 17,
    "start_time": "2021-11-11T15:46:35.701Z"
   },
   {
    "duration": 19,
    "start_time": "2021-11-11T15:46:57.407Z"
   },
   {
    "duration": 3,
    "start_time": "2021-11-11T16:07:36.386Z"
   },
   {
    "duration": 130,
    "start_time": "2021-11-11T16:07:36.392Z"
   },
   {
    "duration": 15,
    "start_time": "2021-11-11T16:07:36.524Z"
   },
   {
    "duration": 24,
    "start_time": "2021-11-11T16:07:36.541Z"
   },
   {
    "duration": 59,
    "start_time": "2021-11-11T16:07:36.568Z"
   },
   {
    "duration": 7,
    "start_time": "2021-11-11T16:07:36.628Z"
   },
   {
    "duration": 13,
    "start_time": "2021-11-11T16:07:36.636Z"
   },
   {
    "duration": 29,
    "start_time": "2021-11-11T16:07:36.651Z"
   },
   {
    "duration": 4,
    "start_time": "2021-11-11T16:07:36.683Z"
   },
   {
    "duration": 42,
    "start_time": "2021-11-11T16:07:36.690Z"
   },
   {
    "duration": 13,
    "start_time": "2021-11-11T16:07:36.734Z"
   },
   {
    "duration": 33,
    "start_time": "2021-11-11T16:07:36.749Z"
   },
   {
    "duration": 5,
    "start_time": "2021-11-11T16:07:36.784Z"
   },
   {
    "duration": 24,
    "start_time": "2021-11-11T16:07:36.791Z"
   },
   {
    "duration": 17,
    "start_time": "2021-11-11T16:07:36.817Z"
   },
   {
    "duration": 22,
    "start_time": "2021-11-11T16:07:36.836Z"
   },
   {
    "duration": 33,
    "start_time": "2021-11-11T16:07:36.860Z"
   },
   {
    "duration": 66,
    "start_time": "2021-11-11T16:07:36.895Z"
   },
   {
    "duration": 23,
    "start_time": "2021-11-11T16:07:36.963Z"
   },
   {
    "duration": 23,
    "start_time": "2021-11-11T16:07:36.988Z"
   },
   {
    "duration": 18,
    "start_time": "2021-11-11T16:07:37.013Z"
   },
   {
    "duration": 6,
    "start_time": "2021-11-11T16:07:37.033Z"
   },
   {
    "duration": 17,
    "start_time": "2021-11-11T16:07:37.041Z"
   },
   {
    "duration": 1093,
    "start_time": "2021-11-11T16:07:37.062Z"
   },
   {
    "duration": 6,
    "start_time": "2021-11-11T16:07:38.157Z"
   },
   {
    "duration": 17,
    "start_time": "2021-11-11T16:07:38.165Z"
   },
   {
    "duration": 205,
    "start_time": "2021-11-11T16:07:38.184Z"
   },
   {
    "duration": 27,
    "start_time": "2021-11-11T16:07:38.391Z"
   },
   {
    "duration": 6,
    "start_time": "2021-11-11T16:07:38.420Z"
   },
   {
    "duration": 15,
    "start_time": "2021-11-11T16:07:38.428Z"
   },
   {
    "duration": 21,
    "start_time": "2021-11-11T16:07:38.446Z"
   },
   {
    "duration": 5,
    "start_time": "2021-11-11T16:07:38.468Z"
   },
   {
    "duration": 4,
    "start_time": "2021-11-12T08:49:25.220Z"
   },
   {
    "duration": 850,
    "start_time": "2021-11-12T08:49:37.896Z"
   },
   {
    "duration": 109,
    "start_time": "2021-11-12T08:49:38.749Z"
   },
   {
    "duration": 19,
    "start_time": "2021-11-12T08:49:38.861Z"
   },
   {
    "duration": 28,
    "start_time": "2021-11-12T08:49:38.883Z"
   },
   {
    "duration": 101,
    "start_time": "2021-11-12T08:49:38.913Z"
   },
   {
    "duration": 8,
    "start_time": "2021-11-12T08:49:39.016Z"
   },
   {
    "duration": 8,
    "start_time": "2021-11-12T08:49:39.026Z"
   },
   {
    "duration": 27,
    "start_time": "2021-11-12T08:49:39.059Z"
   },
   {
    "duration": 5,
    "start_time": "2021-11-12T08:49:39.090Z"
   },
   {
    "duration": 25,
    "start_time": "2021-11-12T08:49:39.097Z"
   },
   {
    "duration": 38,
    "start_time": "2021-11-12T08:49:39.124Z"
   },
   {
    "duration": 44,
    "start_time": "2021-11-12T08:49:39.164Z"
   },
   {
    "duration": 5,
    "start_time": "2021-11-12T08:49:39.211Z"
   },
   {
    "duration": 58,
    "start_time": "2021-11-12T08:49:39.219Z"
   },
   {
    "duration": 4,
    "start_time": "2021-11-12T08:49:39.279Z"
   },
   {
    "duration": 18,
    "start_time": "2021-11-12T08:49:39.285Z"
   },
   {
    "duration": 57,
    "start_time": "2021-11-12T08:49:39.305Z"
   },
   {
    "duration": 77,
    "start_time": "2021-11-12T08:49:39.365Z"
   },
   {
    "duration": 43,
    "start_time": "2021-11-12T08:49:39.444Z"
   },
   {
    "duration": 13,
    "start_time": "2021-11-12T08:49:39.489Z"
   },
   {
    "duration": 57,
    "start_time": "2021-11-12T08:49:39.505Z"
   },
   {
    "duration": 8,
    "start_time": "2021-11-12T08:49:39.565Z"
   },
   {
    "duration": 25,
    "start_time": "2021-11-12T08:49:39.576Z"
   },
   {
    "duration": 1767,
    "start_time": "2021-11-12T08:49:39.603Z"
   },
   {
    "duration": 6,
    "start_time": "2021-11-12T08:49:41.372Z"
   },
   {
    "duration": 19,
    "start_time": "2021-11-12T08:49:41.381Z"
   },
   {
    "duration": 306,
    "start_time": "2021-11-12T08:49:41.404Z"
   },
   {
    "duration": 47,
    "start_time": "2021-11-12T08:49:41.712Z"
   },
   {
    "duration": 7,
    "start_time": "2021-11-12T08:49:41.763Z"
   },
   {
    "duration": 15,
    "start_time": "2021-11-12T08:49:41.772Z"
   },
   {
    "duration": 69,
    "start_time": "2021-11-12T08:49:41.790Z"
   },
   {
    "duration": 7,
    "start_time": "2021-11-12T08:49:41.861Z"
   },
   {
    "duration": 6,
    "start_time": "2021-11-12T08:50:22.755Z"
   },
   {
    "duration": 6,
    "start_time": "2021-11-12T08:50:49.666Z"
   },
   {
    "duration": 9,
    "start_time": "2021-11-12T08:51:54.011Z"
   },
   {
    "duration": 43,
    "start_time": "2021-11-12T08:52:03.610Z"
   },
   {
    "duration": 14,
    "start_time": "2021-11-12T08:52:39.882Z"
   },
   {
    "duration": 48,
    "start_time": "2021-11-12T08:52:41.566Z"
   },
   {
    "duration": 17,
    "start_time": "2021-11-12T08:53:11.999Z"
   },
   {
    "duration": 55,
    "start_time": "2021-11-12T08:53:15.751Z"
   },
   {
    "duration": 53,
    "start_time": "2021-11-12T08:55:33.939Z"
   },
   {
    "duration": 5,
    "start_time": "2021-11-12T08:55:43.672Z"
   },
   {
    "duration": 6,
    "start_time": "2021-11-12T08:56:05.453Z"
   },
   {
    "duration": 75,
    "start_time": "2021-11-12T08:56:11.976Z"
   },
   {
    "duration": 281,
    "start_time": "2021-11-12T08:56:31.918Z"
   },
   {
    "duration": 467,
    "start_time": "2021-11-12T08:56:57.530Z"
   },
   {
    "duration": 56,
    "start_time": "2021-11-12T08:57:00.339Z"
   },
   {
    "duration": 4,
    "start_time": "2021-11-12T08:57:27.237Z"
   },
   {
    "duration": 144,
    "start_time": "2021-11-12T08:57:27.247Z"
   },
   {
    "duration": 20,
    "start_time": "2021-11-12T08:57:27.394Z"
   },
   {
    "duration": 31,
    "start_time": "2021-11-12T08:57:27.417Z"
   },
   {
    "duration": 74,
    "start_time": "2021-11-12T08:57:27.452Z"
   },
   {
    "duration": 8,
    "start_time": "2021-11-12T08:57:27.528Z"
   },
   {
    "duration": 5,
    "start_time": "2021-11-12T08:57:27.560Z"
   },
   {
    "duration": 31,
    "start_time": "2021-11-12T08:57:27.567Z"
   },
   {
    "duration": 5,
    "start_time": "2021-11-12T08:57:27.602Z"
   },
   {
    "duration": 56,
    "start_time": "2021-11-12T08:57:27.609Z"
   },
   {
    "duration": 13,
    "start_time": "2021-11-12T08:57:27.667Z"
   },
   {
    "duration": 52,
    "start_time": "2021-11-12T08:57:27.682Z"
   },
   {
    "duration": 6,
    "start_time": "2021-11-12T08:57:27.736Z"
   },
   {
    "duration": 25,
    "start_time": "2021-11-12T08:57:27.760Z"
   },
   {
    "duration": 10,
    "start_time": "2021-11-12T08:57:27.787Z"
   },
   {
    "duration": 17,
    "start_time": "2021-11-12T08:57:27.799Z"
   },
   {
    "duration": 63,
    "start_time": "2021-11-12T08:57:27.819Z"
   },
   {
    "duration": 100,
    "start_time": "2021-11-12T08:57:27.885Z"
   },
   {
    "duration": 29,
    "start_time": "2021-11-12T08:57:27.988Z"
   },
   {
    "duration": 15,
    "start_time": "2021-11-12T08:57:28.019Z"
   },
   {
    "duration": 44,
    "start_time": "2021-11-12T08:57:28.036Z"
   },
   {
    "duration": 9,
    "start_time": "2021-11-12T08:57:28.083Z"
   },
   {
    "duration": 21,
    "start_time": "2021-11-12T08:57:28.095Z"
   },
   {
    "duration": 1721,
    "start_time": "2021-11-12T08:57:28.164Z"
   },
   {
    "duration": 6,
    "start_time": "2021-11-12T08:57:29.888Z"
   },
   {
    "duration": 9,
    "start_time": "2021-11-12T08:57:29.896Z"
   },
   {
    "duration": 325,
    "start_time": "2021-11-12T08:57:29.907Z"
   },
   {
    "duration": 47,
    "start_time": "2021-11-12T08:57:30.235Z"
   },
   {
    "duration": 16,
    "start_time": "2021-11-12T08:57:30.285Z"
   },
   {
    "duration": 32,
    "start_time": "2021-11-12T08:57:30.304Z"
   },
   {
    "duration": 41,
    "start_time": "2021-11-12T08:57:30.339Z"
   },
   {
    "duration": 7,
    "start_time": "2021-11-12T08:57:30.383Z"
   },
   {
    "duration": 38,
    "start_time": "2021-11-12T08:57:30.393Z"
   },
   {
    "duration": 19,
    "start_time": "2021-11-12T08:57:30.434Z"
   },
   {
    "duration": 77,
    "start_time": "2021-11-12T08:57:30.456Z"
   },
   {
    "duration": 4,
    "start_time": "2021-11-12T08:59:54.483Z"
   },
   {
    "duration": 125,
    "start_time": "2021-11-12T08:59:54.492Z"
   },
   {
    "duration": 17,
    "start_time": "2021-11-12T08:59:54.620Z"
   },
   {
    "duration": 30,
    "start_time": "2021-11-12T08:59:54.640Z"
   },
   {
    "duration": 66,
    "start_time": "2021-11-12T08:59:54.673Z"
   },
   {
    "duration": 20,
    "start_time": "2021-11-12T08:59:54.742Z"
   },
   {
    "duration": 11,
    "start_time": "2021-11-12T08:59:54.764Z"
   },
   {
    "duration": 28,
    "start_time": "2021-11-12T08:59:54.777Z"
   },
   {
    "duration": 8,
    "start_time": "2021-11-12T08:59:54.808Z"
   },
   {
    "duration": 54,
    "start_time": "2021-11-12T08:59:54.819Z"
   },
   {
    "duration": 12,
    "start_time": "2021-11-12T08:59:54.876Z"
   },
   {
    "duration": 48,
    "start_time": "2021-11-12T08:59:54.891Z"
   },
   {
    "duration": 7,
    "start_time": "2021-11-12T08:59:54.959Z"
   },
   {
    "duration": 26,
    "start_time": "2021-11-12T08:59:54.968Z"
   },
   {
    "duration": 4,
    "start_time": "2021-11-12T08:59:54.997Z"
   },
   {
    "duration": 16,
    "start_time": "2021-11-12T08:59:55.004Z"
   },
   {
    "duration": 61,
    "start_time": "2021-11-12T08:59:55.023Z"
   },
   {
    "duration": 98,
    "start_time": "2021-11-12T08:59:55.086Z"
   },
   {
    "duration": 27,
    "start_time": "2021-11-12T08:59:55.186Z"
   },
   {
    "duration": 13,
    "start_time": "2021-11-12T08:59:55.215Z"
   },
   {
    "duration": 48,
    "start_time": "2021-11-12T08:59:55.231Z"
   },
   {
    "duration": 7,
    "start_time": "2021-11-12T08:59:55.281Z"
   },
   {
    "duration": 23,
    "start_time": "2021-11-12T08:59:55.291Z"
   },
   {
    "duration": 1829,
    "start_time": "2021-11-12T08:59:55.318Z"
   },
   {
    "duration": 11,
    "start_time": "2021-11-12T08:59:57.149Z"
   },
   {
    "duration": 11,
    "start_time": "2021-11-12T08:59:57.162Z"
   },
   {
    "duration": 299,
    "start_time": "2021-11-12T08:59:57.175Z"
   },
   {
    "duration": 33,
    "start_time": "2021-11-12T08:59:57.477Z"
   },
   {
    "duration": 9,
    "start_time": "2021-11-12T08:59:57.512Z"
   },
   {
    "duration": 42,
    "start_time": "2021-11-12T08:59:57.523Z"
   },
   {
    "duration": 27,
    "start_time": "2021-11-12T08:59:57.568Z"
   },
   {
    "duration": 7,
    "start_time": "2021-11-12T08:59:57.597Z"
   },
   {
    "duration": 22,
    "start_time": "2021-11-12T08:59:57.606Z"
   },
   {
    "duration": 31,
    "start_time": "2021-11-12T08:59:57.631Z"
   },
   {
    "duration": 64,
    "start_time": "2021-11-12T08:59:57.664Z"
   },
   {
    "duration": 58,
    "start_time": "2021-11-12T09:00:11.445Z"
   },
   {
    "duration": 4,
    "start_time": "2021-11-12T09:01:10.586Z"
   },
   {
    "duration": 55,
    "start_time": "2021-11-12T09:01:11.963Z"
   },
   {
    "duration": 22,
    "start_time": "2021-11-12T09:07:43.796Z"
   },
   {
    "duration": 29,
    "start_time": "2021-11-12T09:08:11.990Z"
   },
   {
    "duration": 10,
    "start_time": "2021-11-12T09:08:28.003Z"
   },
   {
    "duration": 19,
    "start_time": "2021-11-12T09:09:11.898Z"
   },
   {
    "duration": 291,
    "start_time": "2021-11-12T09:09:35.830Z"
   },
   {
    "duration": 13,
    "start_time": "2021-11-12T09:09:50.540Z"
   },
   {
    "duration": 574,
    "start_time": "2021-11-12T09:10:17.162Z"
   },
   {
    "duration": 244,
    "start_time": "2021-11-12T09:10:34.116Z"
   },
   {
    "duration": 298,
    "start_time": "2021-11-12T09:11:07.353Z"
   },
   {
    "duration": 304,
    "start_time": "2021-11-12T09:11:24.431Z"
   },
   {
    "duration": 474,
    "start_time": "2021-11-12T09:11:33.602Z"
   },
   {
    "duration": 214,
    "start_time": "2021-11-12T09:11:58.086Z"
   },
   {
    "duration": 8855,
    "start_time": "2021-11-12T09:12:49.002Z"
   },
   {
    "duration": 10244,
    "start_time": "2021-11-12T09:13:25.137Z"
   },
   {
    "duration": 10356,
    "start_time": "2021-11-12T09:14:34.640Z"
   },
   {
    "duration": 397,
    "start_time": "2021-11-12T09:15:44.789Z"
   },
   {
    "duration": 9,
    "start_time": "2021-11-12T09:16:19.748Z"
   },
   {
    "duration": 11,
    "start_time": "2021-11-12T09:16:25.513Z"
   },
   {
    "duration": 315,
    "start_time": "2021-11-12T09:16:58.972Z"
   },
   {
    "duration": 10396,
    "start_time": "2021-11-12T09:18:10.548Z"
   },
   {
    "duration": 281,
    "start_time": "2021-11-12T09:18:32.812Z"
   },
   {
    "duration": 398,
    "start_time": "2021-11-12T09:18:55.020Z"
   },
   {
    "duration": 287,
    "start_time": "2021-11-12T09:18:58.434Z"
   },
   {
    "duration": 289,
    "start_time": "2021-11-12T09:21:00.810Z"
   },
   {
    "duration": 613,
    "start_time": "2021-11-12T09:21:12.293Z"
   },
   {
    "duration": 585,
    "start_time": "2021-11-12T09:23:00.510Z"
   },
   {
    "duration": 29,
    "start_time": "2021-11-12T09:24:43.355Z"
   },
   {
    "duration": 37,
    "start_time": "2021-11-12T09:24:48.247Z"
   },
   {
    "duration": 32,
    "start_time": "2021-11-12T09:25:01.741Z"
   },
   {
    "duration": 449,
    "start_time": "2021-11-12T09:25:42.518Z"
   },
   {
    "duration": 356,
    "start_time": "2021-11-12T09:25:48.053Z"
   },
   {
    "duration": 395,
    "start_time": "2021-11-12T09:26:07.093Z"
   },
   {
    "duration": 434,
    "start_time": "2021-11-12T09:26:12.177Z"
   },
   {
    "duration": 357,
    "start_time": "2021-11-12T09:26:17.285Z"
   },
   {
    "duration": 404,
    "start_time": "2021-11-12T09:30:43.808Z"
   },
   {
    "duration": 363,
    "start_time": "2021-11-12T09:30:53.753Z"
   },
   {
    "duration": 387,
    "start_time": "2021-11-12T09:33:13.196Z"
   },
   {
    "duration": 969,
    "start_time": "2021-11-12T09:33:19.590Z"
   },
   {
    "duration": 1071,
    "start_time": "2021-11-12T09:33:40.097Z"
   },
   {
    "duration": 479,
    "start_time": "2021-11-12T09:33:50.421Z"
   },
   {
    "duration": 366,
    "start_time": "2021-11-12T09:34:04.293Z"
   },
   {
    "duration": 6,
    "start_time": "2021-11-12T09:34:13.716Z"
   },
   {
    "duration": 385,
    "start_time": "2021-11-12T09:34:20.640Z"
   },
   {
    "duration": 133,
    "start_time": "2021-11-12T09:34:29.859Z"
   },
   {
    "duration": 132,
    "start_time": "2021-11-12T09:34:43.578Z"
   },
   {
    "duration": 366,
    "start_time": "2021-11-12T09:36:40.618Z"
   },
   {
    "duration": 385,
    "start_time": "2021-11-12T09:37:01.994Z"
   },
   {
    "duration": 370,
    "start_time": "2021-11-12T09:37:05.124Z"
   },
   {
    "duration": 378,
    "start_time": "2021-11-12T09:38:30.049Z"
   },
   {
    "duration": 369,
    "start_time": "2021-11-12T09:39:56.769Z"
   },
   {
    "duration": 363,
    "start_time": "2021-11-12T09:40:03.845Z"
   },
   {
    "duration": 360,
    "start_time": "2021-11-12T09:40:08.577Z"
   },
   {
    "duration": 447,
    "start_time": "2021-11-12T09:40:15.426Z"
   },
   {
    "duration": 9730,
    "start_time": "2021-11-12T09:40:43.629Z"
   },
   {
    "duration": 386,
    "start_time": "2021-11-12T09:40:55.254Z"
   },
   {
    "duration": 398,
    "start_time": "2021-11-12T09:41:07.927Z"
   },
   {
    "duration": 377,
    "start_time": "2021-11-12T09:41:19.508Z"
   },
   {
    "duration": 395,
    "start_time": "2021-11-12T09:41:41.681Z"
   },
   {
    "duration": 731,
    "start_time": "2021-11-12T09:41:53.728Z"
   },
   {
    "duration": 379,
    "start_time": "2021-11-12T09:41:58.617Z"
   },
   {
    "duration": 375,
    "start_time": "2021-11-12T09:42:04.503Z"
   },
   {
    "duration": 1553,
    "start_time": "2021-11-12T09:45:26.184Z"
   },
   {
    "duration": 1692,
    "start_time": "2021-11-12T09:46:17.157Z"
   },
   {
    "duration": 417,
    "start_time": "2021-11-12T09:47:01.461Z"
   },
   {
    "duration": 412,
    "start_time": "2021-11-12T09:47:05.250Z"
   },
   {
    "duration": 388,
    "start_time": "2021-11-12T09:47:17.761Z"
   },
   {
    "duration": 745,
    "start_time": "2021-11-12T09:48:22.021Z"
   },
   {
    "duration": 1341,
    "start_time": "2021-11-12T09:48:31.174Z"
   },
   {
    "duration": 511,
    "start_time": "2021-11-12T09:49:00.363Z"
   },
   {
    "duration": 370,
    "start_time": "2021-11-12T09:52:32.805Z"
   },
   {
    "duration": 6,
    "start_time": "2021-11-12T09:53:05.886Z"
   },
   {
    "duration": 6,
    "start_time": "2021-11-12T09:54:12.253Z"
   },
   {
    "duration": 506,
    "start_time": "2021-11-12T09:54:18.821Z"
   },
   {
    "duration": 378,
    "start_time": "2021-11-12T09:54:36.508Z"
   },
   {
    "duration": 369,
    "start_time": "2021-11-12T09:58:40.182Z"
   },
   {
    "duration": 34,
    "start_time": "2021-11-12T10:09:55.463Z"
   },
   {
    "duration": 43,
    "start_time": "2021-11-12T10:10:01.794Z"
   },
   {
    "duration": 37,
    "start_time": "2021-11-12T10:11:49.244Z"
   },
   {
    "duration": 322,
    "start_time": "2021-11-12T10:12:14.261Z"
   },
   {
    "duration": 9,
    "start_time": "2021-11-12T10:12:56.291Z"
   },
   {
    "duration": 44,
    "start_time": "2021-11-12T10:13:03.574Z"
   },
   {
    "duration": 44,
    "start_time": "2021-11-12T10:13:34.724Z"
   },
   {
    "duration": 400,
    "start_time": "2021-11-12T10:14:01.222Z"
   },
   {
    "duration": 11,
    "start_time": "2021-11-12T10:14:23.473Z"
   },
   {
    "duration": 9,
    "start_time": "2021-11-12T10:14:31.289Z"
   },
   {
    "duration": 457,
    "start_time": "2021-11-12T10:14:49.118Z"
   },
   {
    "duration": 455,
    "start_time": "2021-11-12T10:15:16.459Z"
   },
   {
    "duration": 480,
    "start_time": "2021-11-12T10:15:25.653Z"
   },
   {
    "duration": 475,
    "start_time": "2021-11-12T10:17:52.234Z"
   },
   {
    "duration": 1052,
    "start_time": "2021-11-12T10:18:22.697Z"
   },
   {
    "duration": 842,
    "start_time": "2021-11-12T10:21:10.596Z"
   },
   {
    "duration": 861,
    "start_time": "2021-11-12T10:21:20.680Z"
   },
   {
    "duration": 839,
    "start_time": "2021-11-12T10:22:33.724Z"
   },
   {
    "duration": 809,
    "start_time": "2021-11-12T10:23:14.443Z"
   },
   {
    "duration": 911,
    "start_time": "2021-11-12T10:23:22.390Z"
   },
   {
    "duration": 1158,
    "start_time": "2021-11-12T10:27:07.439Z"
   },
   {
    "duration": 441,
    "start_time": "2021-11-12T10:28:02.287Z"
   },
   {
    "duration": 422,
    "start_time": "2021-11-12T10:29:17.192Z"
   },
   {
    "duration": 808,
    "start_time": "2021-11-12T10:30:42.141Z"
   },
   {
    "duration": 1098,
    "start_time": "2021-11-12T10:30:57.765Z"
   },
   {
    "duration": 808,
    "start_time": "2021-11-12T10:31:18.554Z"
   },
   {
    "duration": 925,
    "start_time": "2021-11-12T10:31:21.885Z"
   },
   {
    "duration": 784,
    "start_time": "2021-11-12T10:31:26.440Z"
   },
   {
    "duration": 890,
    "start_time": "2021-11-12T10:31:31.622Z"
   },
   {
    "duration": 56,
    "start_time": "2021-11-12T10:31:47.544Z"
   },
   {
    "duration": 517,
    "start_time": "2021-11-12T10:34:53.180Z"
   },
   {
    "duration": 834,
    "start_time": "2021-11-12T10:35:15.192Z"
   },
   {
    "duration": 823,
    "start_time": "2021-11-12T10:35:19.536Z"
   },
   {
    "duration": 940,
    "start_time": "2021-11-12T10:36:05.702Z"
   },
   {
    "duration": 10420,
    "start_time": "2021-11-12T10:37:21.778Z"
   },
   {
    "duration": 10556,
    "start_time": "2021-11-12T10:37:33.460Z"
   },
   {
    "duration": 9100,
    "start_time": "2021-11-12T10:37:49.746Z"
   },
   {
    "duration": 767,
    "start_time": "2021-11-12T10:38:09.703Z"
   },
   {
    "duration": 776,
    "start_time": "2021-11-12T10:38:24.984Z"
   },
   {
    "duration": 883,
    "start_time": "2021-11-12T10:39:35.876Z"
   },
   {
    "duration": 550,
    "start_time": "2021-11-12T10:40:37.309Z"
   },
   {
    "duration": 38,
    "start_time": "2021-11-12T10:52:54.607Z"
   },
   {
    "duration": 43,
    "start_time": "2021-11-12T10:53:11.009Z"
   },
   {
    "duration": 41,
    "start_time": "2021-11-12T10:53:18.686Z"
   },
   {
    "duration": 123,
    "start_time": "2021-11-12T10:54:45.380Z"
   },
   {
    "duration": 122,
    "start_time": "2021-11-12T10:54:53.978Z"
   },
   {
    "duration": 33,
    "start_time": "2021-11-12T10:55:01.726Z"
   },
   {
    "duration": 34,
    "start_time": "2021-11-12T10:55:31.224Z"
   },
   {
    "duration": 33,
    "start_time": "2021-11-12T11:04:33.449Z"
   },
   {
    "duration": 633,
    "start_time": "2021-11-12T11:05:48.269Z"
   },
   {
    "duration": 434,
    "start_time": "2021-11-12T11:05:59.075Z"
   },
   {
    "duration": 543,
    "start_time": "2021-11-12T11:12:56.706Z"
   },
   {
    "duration": 434,
    "start_time": "2021-11-12T11:13:19.041Z"
   },
   {
    "duration": 440,
    "start_time": "2021-11-12T11:13:31.207Z"
   },
   {
    "duration": 423,
    "start_time": "2021-11-12T11:14:17.773Z"
   },
   {
    "duration": 22,
    "start_time": "2021-11-12T11:15:19.481Z"
   },
   {
    "duration": 417,
    "start_time": "2021-11-12T11:15:27.307Z"
   },
   {
    "duration": 43,
    "start_time": "2021-11-12T11:15:56.069Z"
   },
   {
    "duration": 444,
    "start_time": "2021-11-12T11:16:30.865Z"
   },
   {
    "duration": 449,
    "start_time": "2021-11-12T11:16:41.329Z"
   },
   {
    "duration": 389,
    "start_time": "2021-11-12T11:17:29.285Z"
   },
   {
    "duration": 431,
    "start_time": "2021-11-12T11:17:36.746Z"
   },
   {
    "duration": 394,
    "start_time": "2021-11-12T11:17:48.212Z"
   },
   {
    "duration": 764,
    "start_time": "2021-11-12T11:18:09.447Z"
   },
   {
    "duration": 438,
    "start_time": "2021-11-12T11:18:51.624Z"
   },
   {
    "duration": 431,
    "start_time": "2021-11-12T11:19:58.074Z"
   },
   {
    "duration": 389,
    "start_time": "2021-11-12T11:20:14.011Z"
   },
   {
    "duration": 450,
    "start_time": "2021-11-12T11:20:21.754Z"
   },
   {
    "duration": 513,
    "start_time": "2021-11-12T11:20:31.837Z"
   },
   {
    "duration": 55,
    "start_time": "2021-11-12T11:24:15.358Z"
   },
   {
    "duration": 91,
    "start_time": "2021-11-12T11:24:40.944Z"
   },
   {
    "duration": 419,
    "start_time": "2021-11-12T11:24:53.527Z"
   },
   {
    "duration": 80,
    "start_time": "2021-11-12T11:24:56.099Z"
   },
   {
    "duration": 37,
    "start_time": "2021-11-12T11:25:20.252Z"
   },
   {
    "duration": 391,
    "start_time": "2021-11-12T11:25:39.801Z"
   },
   {
    "duration": 35,
    "start_time": "2021-11-12T11:26:12.001Z"
   },
   {
    "duration": 131,
    "start_time": "2021-11-12T11:26:47.117Z"
   },
   {
    "duration": 170,
    "start_time": "2021-11-12T11:26:54.462Z"
   },
   {
    "duration": 139,
    "start_time": "2021-11-12T11:27:03.357Z"
   },
   {
    "duration": 1459,
    "start_time": "2021-11-12T11:27:32.845Z"
   },
   {
    "duration": 1662,
    "start_time": "2021-11-12T11:27:40.820Z"
   },
   {
    "duration": 5,
    "start_time": "2021-11-12T11:27:53.032Z"
   },
   {
    "duration": 6,
    "start_time": "2021-11-12T11:28:00.223Z"
   },
   {
    "duration": 1487,
    "start_time": "2021-11-12T11:28:07.996Z"
   },
   {
    "duration": 6,
    "start_time": "2021-11-12T11:28:15.024Z"
   },
   {
    "duration": 1506,
    "start_time": "2021-11-12T11:28:40.210Z"
   },
   {
    "duration": 37,
    "start_time": "2021-11-12T11:29:02.547Z"
   },
   {
    "duration": 38,
    "start_time": "2021-11-12T11:29:08.488Z"
   },
   {
    "duration": 467,
    "start_time": "2021-11-12T11:30:31.667Z"
   },
   {
    "duration": 127,
    "start_time": "2021-11-12T11:31:10.420Z"
   },
   {
    "duration": 481,
    "start_time": "2021-11-12T11:31:31.955Z"
   },
   {
    "duration": 458,
    "start_time": "2021-11-12T11:31:58.989Z"
   },
   {
    "duration": 475,
    "start_time": "2021-11-12T11:32:06.139Z"
   },
   {
    "duration": 651,
    "start_time": "2021-11-12T11:32:12.587Z"
   },
   {
    "duration": 845,
    "start_time": "2021-11-12T11:32:33.559Z"
   },
   {
    "duration": 635,
    "start_time": "2021-11-12T11:32:45.269Z"
   },
   {
    "duration": 121,
    "start_time": "2021-11-12T11:33:19.464Z"
   },
   {
    "duration": 653,
    "start_time": "2021-11-12T11:33:25.854Z"
   },
   {
    "duration": 709,
    "start_time": "2021-11-12T11:33:43.897Z"
   },
   {
    "duration": 621,
    "start_time": "2021-11-12T11:34:26.899Z"
   },
   {
    "duration": 418,
    "start_time": "2021-11-12T11:38:18.753Z"
   },
   {
    "duration": 526,
    "start_time": "2021-11-12T11:38:39.514Z"
   },
   {
    "duration": 405,
    "start_time": "2021-11-12T11:38:47.448Z"
   },
   {
    "duration": 535,
    "start_time": "2021-11-12T11:38:52.616Z"
   },
   {
    "duration": 596,
    "start_time": "2021-11-12T11:39:39.768Z"
   },
   {
    "duration": 712,
    "start_time": "2021-11-12T11:40:37.518Z"
   },
   {
    "duration": 602,
    "start_time": "2021-11-12T11:42:16.115Z"
   },
   {
    "duration": 625,
    "start_time": "2021-11-12T11:49:51.796Z"
   },
   {
    "duration": 593,
    "start_time": "2021-11-12T11:50:01.942Z"
   },
   {
    "duration": 575,
    "start_time": "2021-11-12T11:56:52.687Z"
   },
   {
    "duration": 653,
    "start_time": "2021-11-12T11:59:05.951Z"
   },
   {
    "duration": 646,
    "start_time": "2021-11-12T12:08:44.194Z"
   },
   {
    "duration": 644,
    "start_time": "2021-11-12T12:09:50.755Z"
   },
   {
    "duration": 38,
    "start_time": "2021-11-12T12:34:30.646Z"
   },
   {
    "duration": 61,
    "start_time": "2021-11-12T12:39:06.271Z"
   },
   {
    "duration": 285,
    "start_time": "2021-11-12T12:45:18.600Z"
   },
   {
    "duration": 403,
    "start_time": "2021-11-12T12:45:58.358Z"
   },
   {
    "duration": 315,
    "start_time": "2021-11-12T12:47:14.219Z"
   },
   {
    "duration": 284,
    "start_time": "2021-11-12T12:47:46.801Z"
   },
   {
    "duration": 294,
    "start_time": "2021-11-12T12:47:56.847Z"
   },
   {
    "duration": 314,
    "start_time": "2021-11-12T12:48:02.469Z"
   },
   {
    "duration": 657,
    "start_time": "2021-11-12T12:48:38.465Z"
   },
   {
    "duration": 630,
    "start_time": "2021-11-12T12:49:12.251Z"
   },
   {
    "duration": 754,
    "start_time": "2021-11-12T12:49:43.216Z"
   },
   {
    "duration": 1572,
    "start_time": "2021-11-12T12:52:50.422Z"
   },
   {
    "duration": 888,
    "start_time": "2021-11-12T12:53:02.062Z"
   },
   {
    "duration": 1074,
    "start_time": "2021-11-12T12:53:20.950Z"
   },
   {
    "duration": 15,
    "start_time": "2021-11-12T13:07:01.394Z"
   },
   {
    "duration": 379,
    "start_time": "2021-11-12T13:07:07.364Z"
   },
   {
    "duration": 21,
    "start_time": "2021-11-12T13:07:10.340Z"
   },
   {
    "duration": 23,
    "start_time": "2021-11-12T13:08:16.497Z"
   },
   {
    "duration": 11161,
    "start_time": "2021-11-12T13:08:43.871Z"
   },
   {
    "duration": 364,
    "start_time": "2021-11-12T13:09:15.653Z"
   },
   {
    "duration": 681,
    "start_time": "2021-11-12T13:09:28.098Z"
   },
   {
    "duration": 321,
    "start_time": "2021-11-12T13:09:33.116Z"
   },
   {
    "duration": 271,
    "start_time": "2021-11-12T13:10:34.240Z"
   },
   {
    "duration": 342,
    "start_time": "2021-11-12T13:10:52.801Z"
   },
   {
    "duration": 341,
    "start_time": "2021-11-12T13:11:08.081Z"
   },
   {
    "duration": 55,
    "start_time": "2021-11-12T14:14:34.223Z"
   },
   {
    "duration": 37,
    "start_time": "2021-11-12T14:14:40.878Z"
   },
   {
    "duration": 323,
    "start_time": "2021-11-12T14:16:18.730Z"
   },
   {
    "duration": 31,
    "start_time": "2021-11-12T14:17:31.207Z"
   },
   {
    "duration": 31,
    "start_time": "2021-11-12T14:17:53.816Z"
   },
   {
    "duration": 33,
    "start_time": "2021-11-12T14:19:36.449Z"
   },
   {
    "duration": 373,
    "start_time": "2021-11-12T14:21:51.565Z"
   },
   {
    "duration": 371,
    "start_time": "2021-11-12T14:21:59.303Z"
   },
   {
    "duration": 374,
    "start_time": "2021-11-12T14:23:38.867Z"
   },
   {
    "duration": 361,
    "start_time": "2021-11-12T14:24:35.301Z"
   },
   {
    "duration": 7,
    "start_time": "2021-11-12T14:30:11.193Z"
   },
   {
    "duration": 7,
    "start_time": "2021-11-12T14:30:17.492Z"
   },
   {
    "duration": 6,
    "start_time": "2021-11-12T14:30:46.094Z"
   },
   {
    "duration": 409,
    "start_time": "2021-11-12T14:32:34.125Z"
   },
   {
    "duration": 180,
    "start_time": "2021-11-12T14:32:52.740Z"
   },
   {
    "duration": 333,
    "start_time": "2021-11-12T14:33:03.881Z"
   },
   {
    "duration": 194,
    "start_time": "2021-11-12T14:33:27.337Z"
   },
   {
    "duration": 10902,
    "start_time": "2021-11-12T14:33:36.908Z"
   },
   {
    "duration": 4684,
    "start_time": "2021-11-12T14:34:06.049Z"
   },
   {
    "duration": 24,
    "start_time": "2021-11-12T14:34:49.684Z"
   },
   {
    "duration": 25,
    "start_time": "2021-11-12T14:35:02.712Z"
   },
   {
    "duration": 23,
    "start_time": "2021-11-12T14:35:05.769Z"
   },
   {
    "duration": 22,
    "start_time": "2021-11-12T14:35:38.327Z"
   },
   {
    "duration": 22,
    "start_time": "2021-11-12T14:35:49.003Z"
   },
   {
    "duration": 149,
    "start_time": "2021-11-12T14:37:15.831Z"
   },
   {
    "duration": 1278,
    "start_time": "2021-11-12T14:37:19.505Z"
   },
   {
    "duration": 406,
    "start_time": "2021-11-12T14:37:32.364Z"
   },
   {
    "duration": 386,
    "start_time": "2021-11-12T14:37:36.561Z"
   },
   {
    "duration": 386,
    "start_time": "2021-11-12T14:37:45.677Z"
   },
   {
    "duration": 121,
    "start_time": "2021-11-12T14:37:59.255Z"
   },
   {
    "duration": 53,
    "start_time": "2021-11-12T14:38:01.379Z"
   },
   {
    "duration": 20,
    "start_time": "2021-11-12T14:38:25.409Z"
   },
   {
    "duration": 7,
    "start_time": "2021-11-12T14:39:40.948Z"
   },
   {
    "duration": 386,
    "start_time": "2021-11-12T14:41:51.928Z"
   },
   {
    "duration": 644,
    "start_time": "2021-11-12T14:42:03.898Z"
   },
   {
    "duration": 613,
    "start_time": "2021-11-12T14:42:19.071Z"
   },
   {
    "duration": 639,
    "start_time": "2021-11-12T14:42:35.854Z"
   },
   {
    "duration": 466,
    "start_time": "2021-11-12T14:42:50.163Z"
   },
   {
    "duration": 525,
    "start_time": "2021-11-12T14:43:10.465Z"
   },
   {
    "duration": 568,
    "start_time": "2021-11-12T14:43:16.498Z"
   },
   {
    "duration": 583,
    "start_time": "2021-11-12T14:43:24.450Z"
   },
   {
    "duration": 59,
    "start_time": "2021-11-12T14:45:12.343Z"
   },
   {
    "duration": 381,
    "start_time": "2021-11-12T14:46:42.835Z"
   },
   {
    "duration": 347,
    "start_time": "2021-11-12T14:47:11.902Z"
   },
   {
    "duration": 381,
    "start_time": "2021-11-12T14:47:14.515Z"
   },
   {
    "duration": 13,
    "start_time": "2021-11-12T14:48:19.466Z"
   },
   {
    "duration": 124,
    "start_time": "2021-11-12T14:51:20.195Z"
   },
   {
    "duration": 11,
    "start_time": "2021-11-12T14:51:28.897Z"
   },
   {
    "duration": 17,
    "start_time": "2021-11-12T14:51:39.319Z"
   },
   {
    "duration": 13796,
    "start_time": "2021-11-12T14:53:00.962Z"
   },
   {
    "duration": 17,
    "start_time": "2021-11-12T14:53:28.720Z"
   },
   {
    "duration": 16,
    "start_time": "2021-11-12T14:53:44.847Z"
   },
   {
    "duration": 3314,
    "start_time": "2021-11-12T15:03:33.564Z"
   },
   {
    "duration": 3109,
    "start_time": "2021-11-12T15:03:48.230Z"
   },
   {
    "duration": 3545,
    "start_time": "2021-11-12T15:04:13.224Z"
   },
   {
    "duration": 2280,
    "start_time": "2021-11-12T15:06:20.231Z"
   },
   {
    "duration": 375,
    "start_time": "2021-11-12T15:21:53.542Z"
   },
   {
    "duration": 280,
    "start_time": "2021-11-12T15:21:58.001Z"
   },
   {
    "duration": 534,
    "start_time": "2021-11-12T15:22:05.617Z"
   },
   {
    "duration": 297,
    "start_time": "2021-11-12T15:22:08.684Z"
   },
   {
    "duration": 207,
    "start_time": "2021-11-12T15:23:13.602Z"
   },
   {
    "duration": 307,
    "start_time": "2021-11-12T15:23:18.720Z"
   },
   {
    "duration": 316,
    "start_time": "2021-11-12T15:23:33.299Z"
   },
   {
    "duration": 306,
    "start_time": "2021-11-12T15:24:42.411Z"
   },
   {
    "duration": 409,
    "start_time": "2021-11-12T15:24:46.444Z"
   },
   {
    "duration": 315,
    "start_time": "2021-11-12T15:27:36.951Z"
   },
   {
    "duration": 7,
    "start_time": "2021-11-12T15:27:51.245Z"
   },
   {
    "duration": 8,
    "start_time": "2021-11-12T15:28:02.780Z"
   },
   {
    "duration": 7,
    "start_time": "2021-11-12T15:28:07.271Z"
   },
   {
    "duration": 6,
    "start_time": "2021-11-12T15:28:20.544Z"
   },
   {
    "duration": 7,
    "start_time": "2021-11-12T15:28:39.330Z"
   },
   {
    "duration": 3066,
    "start_time": "2021-11-12T15:31:23.817Z"
   },
   {
    "duration": 2339,
    "start_time": "2021-11-12T15:31:40.923Z"
   },
   {
    "duration": 6,
    "start_time": "2021-11-12T15:34:48.977Z"
   },
   {
    "duration": 271,
    "start_time": "2021-11-12T15:35:04.573Z"
   },
   {
    "duration": 319,
    "start_time": "2021-11-12T15:35:59.048Z"
   },
   {
    "duration": 298,
    "start_time": "2021-11-12T15:37:18.838Z"
   },
   {
    "duration": 769,
    "start_time": "2021-11-12T15:37:39.762Z"
   },
   {
    "duration": 1055,
    "start_time": "2021-11-12T15:37:59.516Z"
   },
   {
    "duration": 315,
    "start_time": "2021-11-12T15:38:45.857Z"
   },
   {
    "duration": 364,
    "start_time": "2021-11-12T15:40:14.020Z"
   },
   {
    "duration": 316,
    "start_time": "2021-11-12T15:41:14.089Z"
   },
   {
    "duration": 151,
    "start_time": "2021-11-12T15:44:46.909Z"
   },
   {
    "duration": 10,
    "start_time": "2021-11-12T15:45:01.341Z"
   },
   {
    "duration": 10,
    "start_time": "2021-11-12T15:45:36.088Z"
   },
   {
    "duration": 10,
    "start_time": "2021-11-12T15:45:45.675Z"
   },
   {
    "duration": 11,
    "start_time": "2021-11-12T15:45:52.609Z"
   },
   {
    "duration": 3,
    "start_time": "2021-11-12T16:03:36.988Z"
   },
   {
    "duration": 890,
    "start_time": "2021-11-12T16:04:13.286Z"
   },
   {
    "duration": 169,
    "start_time": "2021-11-12T16:04:14.178Z"
   },
   {
    "duration": 20,
    "start_time": "2021-11-12T16:04:14.350Z"
   },
   {
    "duration": 28,
    "start_time": "2021-11-12T16:04:14.372Z"
   },
   {
    "duration": 89,
    "start_time": "2021-11-12T16:04:14.403Z"
   },
   {
    "duration": 8,
    "start_time": "2021-11-12T16:04:14.495Z"
   },
   {
    "duration": 9,
    "start_time": "2021-11-12T16:04:14.506Z"
   },
   {
    "duration": 47,
    "start_time": "2021-11-12T16:04:14.518Z"
   },
   {
    "duration": 4,
    "start_time": "2021-11-12T16:04:14.568Z"
   },
   {
    "duration": 31,
    "start_time": "2021-11-12T16:04:14.574Z"
   },
   {
    "duration": 11,
    "start_time": "2021-11-12T16:04:14.607Z"
   },
   {
    "duration": 63,
    "start_time": "2021-11-12T16:04:14.621Z"
   },
   {
    "duration": 6,
    "start_time": "2021-11-12T16:04:14.687Z"
   },
   {
    "duration": 44,
    "start_time": "2021-11-12T16:04:14.695Z"
   },
   {
    "duration": 5,
    "start_time": "2021-11-12T16:04:14.741Z"
   },
   {
    "duration": 13,
    "start_time": "2021-11-12T16:04:14.760Z"
   },
   {
    "duration": 36,
    "start_time": "2021-11-12T16:04:14.775Z"
   },
   {
    "duration": 97,
    "start_time": "2021-11-12T16:04:14.814Z"
   },
   {
    "duration": 28,
    "start_time": "2021-11-12T16:04:14.913Z"
   },
   {
    "duration": 25,
    "start_time": "2021-11-12T16:04:14.943Z"
   },
   {
    "duration": 28,
    "start_time": "2021-11-12T16:04:14.970Z"
   },
   {
    "duration": 31,
    "start_time": "2021-11-12T16:04:15.000Z"
   },
   {
    "duration": 32,
    "start_time": "2021-11-12T16:04:15.036Z"
   },
   {
    "duration": 1803,
    "start_time": "2021-11-12T16:04:15.070Z"
   },
   {
    "duration": 6,
    "start_time": "2021-11-12T16:04:16.875Z"
   },
   {
    "duration": 19,
    "start_time": "2021-11-12T16:04:16.883Z"
   },
   {
    "duration": 323,
    "start_time": "2021-11-12T16:04:16.904Z"
   },
   {
    "duration": 54,
    "start_time": "2021-11-12T16:04:17.229Z"
   },
   {
    "duration": 23,
    "start_time": "2021-11-12T16:04:17.285Z"
   },
   {
    "duration": 22,
    "start_time": "2021-11-12T16:04:17.311Z"
   },
   {
    "duration": 44,
    "start_time": "2021-11-12T16:04:17.336Z"
   },
   {
    "duration": 6,
    "start_time": "2021-11-12T16:04:17.383Z"
   },
   {
    "duration": 28,
    "start_time": "2021-11-12T16:04:17.391Z"
   },
   {
    "duration": 67,
    "start_time": "2021-11-12T16:04:17.422Z"
   },
   {
    "duration": 5,
    "start_time": "2021-11-12T16:04:17.491Z"
   },
   {
    "duration": 82,
    "start_time": "2021-11-12T16:04:17.499Z"
   },
   {
    "duration": 413,
    "start_time": "2021-11-12T16:04:17.584Z"
   },
   {
    "duration": 988,
    "start_time": "2021-11-12T16:04:18.000Z"
   },
   {
    "duration": 36,
    "start_time": "2021-11-12T16:04:18.991Z"
   },
   {
    "duration": 938,
    "start_time": "2021-11-12T16:04:19.030Z"
   },
   {
    "duration": 61,
    "start_time": "2021-11-12T16:04:19.972Z"
   },
   {
    "duration": 1095,
    "start_time": "2021-11-12T16:04:20.036Z"
   },
   {
    "duration": 376,
    "start_time": "2021-11-12T16:04:21.135Z"
   },
   {
    "duration": 421,
    "start_time": "2021-11-12T16:04:21.514Z"
   },
   {
    "duration": 30,
    "start_time": "2021-11-12T16:04:21.938Z"
   },
   {
    "duration": 576,
    "start_time": "2021-11-12T16:04:21.971Z"
   },
   {
    "duration": 2499,
    "start_time": "2021-11-12T16:04:22.550Z"
   },
   {
    "duration": 329,
    "start_time": "2021-11-12T16:04:25.060Z"
   },
   {
    "duration": 7,
    "start_time": "2021-11-12T16:04:25.392Z"
   },
   {
    "duration": 406,
    "start_time": "2021-11-12T16:04:25.403Z"
   },
   {
    "duration": 11,
    "start_time": "2021-11-12T16:04:25.811Z"
   },
   {
    "duration": 335,
    "start_time": "2021-11-13T14:36:52.229Z"
   },
   {
    "duration": 642,
    "start_time": "2021-11-13T14:36:57.758Z"
   },
   {
    "duration": 95,
    "start_time": "2021-11-13T14:36:58.402Z"
   },
   {
    "duration": 12,
    "start_time": "2021-11-13T14:36:58.501Z"
   },
   {
    "duration": 18,
    "start_time": "2021-11-13T14:36:58.515Z"
   },
   {
    "duration": 51,
    "start_time": "2021-11-13T14:36:58.535Z"
   },
   {
    "duration": 6,
    "start_time": "2021-11-13T14:36:58.587Z"
   },
   {
    "duration": 17,
    "start_time": "2021-11-13T14:36:58.596Z"
   },
   {
    "duration": 25,
    "start_time": "2021-11-13T14:36:58.615Z"
   },
   {
    "duration": 6,
    "start_time": "2021-11-13T14:36:58.642Z"
   },
   {
    "duration": 19,
    "start_time": "2021-11-13T14:36:58.649Z"
   },
   {
    "duration": 10,
    "start_time": "2021-11-13T14:36:58.670Z"
   },
   {
    "duration": 33,
    "start_time": "2021-11-13T14:36:58.682Z"
   },
   {
    "duration": 8,
    "start_time": "2021-11-13T14:36:58.717Z"
   },
   {
    "duration": 16,
    "start_time": "2021-11-13T14:36:58.744Z"
   },
   {
    "duration": 10,
    "start_time": "2021-11-13T14:36:58.762Z"
   },
   {
    "duration": 25,
    "start_time": "2021-11-13T14:36:58.774Z"
   },
   {
    "duration": 23,
    "start_time": "2021-11-13T14:36:58.801Z"
   },
   {
    "duration": 61,
    "start_time": "2021-11-13T14:36:58.826Z"
   },
   {
    "duration": 19,
    "start_time": "2021-11-13T14:36:58.889Z"
   },
   {
    "duration": 10,
    "start_time": "2021-11-13T14:36:58.910Z"
   },
   {
    "duration": 36,
    "start_time": "2021-11-13T14:36:58.922Z"
   },
   {
    "duration": 5,
    "start_time": "2021-11-13T14:36:58.962Z"
   },
   {
    "duration": 49,
    "start_time": "2021-11-13T14:36:58.969Z"
   },
   {
    "duration": 1209,
    "start_time": "2021-11-13T14:36:59.020Z"
   },
   {
    "duration": 14,
    "start_time": "2021-11-13T14:37:00.232Z"
   },
   {
    "duration": 19,
    "start_time": "2021-11-13T14:37:00.248Z"
   },
   {
    "duration": 181,
    "start_time": "2021-11-13T14:37:00.269Z"
   },
   {
    "duration": 21,
    "start_time": "2021-11-13T14:37:00.453Z"
   },
   {
    "duration": 19,
    "start_time": "2021-11-13T14:37:00.476Z"
   },
   {
    "duration": 18,
    "start_time": "2021-11-13T14:37:00.497Z"
   },
   {
    "duration": 29,
    "start_time": "2021-11-13T14:37:00.516Z"
   },
   {
    "duration": 5,
    "start_time": "2021-11-13T14:37:00.547Z"
   },
   {
    "duration": 21,
    "start_time": "2021-11-13T14:37:00.553Z"
   },
   {
    "duration": 40,
    "start_time": "2021-11-13T14:37:00.576Z"
   },
   {
    "duration": 4,
    "start_time": "2021-11-13T14:37:00.618Z"
   },
   {
    "duration": 43,
    "start_time": "2021-11-13T14:37:00.623Z"
   },
   {
    "duration": 255,
    "start_time": "2021-11-13T14:37:00.668Z"
   },
   {
    "duration": 560,
    "start_time": "2021-11-13T14:37:00.925Z"
   },
   {
    "duration": 25,
    "start_time": "2021-11-13T14:37:01.487Z"
   },
   {
    "duration": 411,
    "start_time": "2021-11-13T14:37:01.514Z"
   },
   {
    "duration": 36,
    "start_time": "2021-11-13T14:37:01.926Z"
   },
   {
    "duration": 654,
    "start_time": "2021-11-13T14:37:01.964Z"
   },
   {
    "duration": 219,
    "start_time": "2021-11-13T14:37:02.620Z"
   },
   {
    "duration": 235,
    "start_time": "2021-11-13T14:37:02.844Z"
   },
   {
    "duration": 14,
    "start_time": "2021-11-13T14:37:03.081Z"
   },
   {
    "duration": 354,
    "start_time": "2021-11-13T14:37:03.097Z"
   },
   {
    "duration": 1339,
    "start_time": "2021-11-13T14:37:03.452Z"
   },
   {
    "duration": 200,
    "start_time": "2021-11-13T14:37:04.793Z"
   },
   {
    "duration": 5,
    "start_time": "2021-11-13T14:37:04.994Z"
   },
   {
    "duration": 268,
    "start_time": "2021-11-13T14:37:05.000Z"
   },
   {
    "duration": 7,
    "start_time": "2021-11-13T14:37:05.270Z"
   },
   {
    "duration": 409,
    "start_time": "2021-11-13T14:37:37.943Z"
   },
   {
    "duration": 699,
    "start_time": "2021-11-13T14:44:41.737Z"
   },
   {
    "duration": 95,
    "start_time": "2021-11-13T14:44:42.438Z"
   },
   {
    "duration": 13,
    "start_time": "2021-11-13T14:44:42.537Z"
   },
   {
    "duration": 18,
    "start_time": "2021-11-13T14:44:42.552Z"
   },
   {
    "duration": 46,
    "start_time": "2021-11-13T14:44:42.572Z"
   },
   {
    "duration": 26,
    "start_time": "2021-11-13T14:44:42.620Z"
   },
   {
    "duration": 6,
    "start_time": "2021-11-13T14:44:42.649Z"
   },
   {
    "duration": 22,
    "start_time": "2021-11-13T14:44:42.657Z"
   },
   {
    "duration": 3,
    "start_time": "2021-11-13T14:44:42.681Z"
   },
   {
    "duration": 16,
    "start_time": "2021-11-13T14:44:42.686Z"
   },
   {
    "duration": 3,
    "start_time": "2021-11-13T14:44:42.704Z"
   },
   {
    "duration": 50,
    "start_time": "2021-11-13T14:44:42.708Z"
   },
   {
    "duration": 4,
    "start_time": "2021-11-13T14:44:42.759Z"
   },
   {
    "duration": 22,
    "start_time": "2021-11-13T14:44:42.765Z"
   },
   {
    "duration": 5,
    "start_time": "2021-11-13T14:44:42.789Z"
   },
   {
    "duration": 12,
    "start_time": "2021-11-13T14:44:42.796Z"
   },
   {
    "duration": 44,
    "start_time": "2021-11-13T14:44:42.810Z"
   },
   {
    "duration": 52,
    "start_time": "2021-11-13T14:44:42.855Z"
   },
   {
    "duration": 35,
    "start_time": "2021-11-13T14:44:42.909Z"
   },
   {
    "duration": 9,
    "start_time": "2021-11-13T14:44:42.946Z"
   },
   {
    "duration": 16,
    "start_time": "2021-11-13T14:44:42.957Z"
   },
   {
    "duration": 5,
    "start_time": "2021-11-13T14:44:42.976Z"
   },
   {
    "duration": 16,
    "start_time": "2021-11-13T14:44:42.983Z"
   },
   {
    "duration": 1084,
    "start_time": "2021-11-13T14:44:43.001Z"
   },
   {
    "duration": 5,
    "start_time": "2021-11-13T14:44:44.087Z"
   },
   {
    "duration": 20,
    "start_time": "2021-11-13T14:44:44.093Z"
   },
   {
    "duration": 188,
    "start_time": "2021-11-13T14:44:44.115Z"
   },
   {
    "duration": 23,
    "start_time": "2021-11-13T14:44:44.305Z"
   },
   {
    "duration": 16,
    "start_time": "2021-11-13T14:44:44.329Z"
   },
   {
    "duration": 20,
    "start_time": "2021-11-13T14:44:44.347Z"
   },
   {
    "duration": 41,
    "start_time": "2021-11-13T14:44:44.369Z"
   },
   {
    "duration": 6,
    "start_time": "2021-11-13T14:44:44.412Z"
   },
   {
    "duration": 23,
    "start_time": "2021-11-13T14:44:44.420Z"
   },
   {
    "duration": 43,
    "start_time": "2021-11-13T14:44:44.445Z"
   },
   {
    "duration": 3,
    "start_time": "2021-11-13T14:44:44.491Z"
   },
   {
    "duration": 43,
    "start_time": "2021-11-13T14:44:44.496Z"
   },
   {
    "duration": 268,
    "start_time": "2021-11-13T14:44:44.542Z"
   },
   {
    "duration": 598,
    "start_time": "2021-11-13T14:44:44.812Z"
   },
   {
    "duration": 33,
    "start_time": "2021-11-13T14:44:45.412Z"
   },
   {
    "duration": 437,
    "start_time": "2021-11-13T14:44:45.447Z"
   },
   {
    "duration": 26,
    "start_time": "2021-11-13T14:44:45.886Z"
   },
   {
    "duration": 658,
    "start_time": "2021-11-13T14:44:45.913Z"
   },
   {
    "duration": 213,
    "start_time": "2021-11-13T14:44:46.572Z"
   },
   {
    "duration": 241,
    "start_time": "2021-11-13T14:44:46.787Z"
   },
   {
    "duration": 23,
    "start_time": "2021-11-13T14:44:47.030Z"
   },
   {
    "duration": 359,
    "start_time": "2021-11-13T14:44:47.055Z"
   },
   {
    "duration": 1711,
    "start_time": "2021-11-13T14:44:47.417Z"
   },
   {
    "duration": 193,
    "start_time": "2021-11-13T14:44:49.129Z"
   },
   {
    "duration": 5,
    "start_time": "2021-11-13T14:44:49.323Z"
   },
   {
    "duration": 280,
    "start_time": "2021-11-13T14:44:49.330Z"
   },
   {
    "duration": 8,
    "start_time": "2021-11-13T14:44:49.612Z"
   },
   {
    "duration": 841,
    "start_time": "2021-11-13T17:07:08.694Z"
   },
   {
    "duration": 151,
    "start_time": "2021-11-13T17:07:09.538Z"
   },
   {
    "duration": 20,
    "start_time": "2021-11-13T17:07:09.692Z"
   },
   {
    "duration": 30,
    "start_time": "2021-11-13T17:07:09.715Z"
   },
   {
    "duration": 84,
    "start_time": "2021-11-13T17:07:09.747Z"
   },
   {
    "duration": 9,
    "start_time": "2021-11-13T17:07:09.833Z"
   },
   {
    "duration": 5,
    "start_time": "2021-11-13T17:07:09.868Z"
   },
   {
    "duration": 28,
    "start_time": "2021-11-13T17:07:09.876Z"
   },
   {
    "duration": 5,
    "start_time": "2021-11-13T17:07:09.907Z"
   },
   {
    "duration": 54,
    "start_time": "2021-11-13T17:07:09.914Z"
   },
   {
    "duration": 4,
    "start_time": "2021-11-13T17:07:09.971Z"
   },
   {
    "duration": 51,
    "start_time": "2021-11-13T17:07:09.978Z"
   },
   {
    "duration": 6,
    "start_time": "2021-11-13T17:07:10.032Z"
   },
   {
    "duration": 27,
    "start_time": "2021-11-13T17:07:10.067Z"
   },
   {
    "duration": 5,
    "start_time": "2021-11-13T17:07:10.096Z"
   },
   {
    "duration": 19,
    "start_time": "2021-11-13T17:07:10.103Z"
   },
   {
    "duration": 61,
    "start_time": "2021-11-13T17:07:10.125Z"
   },
   {
    "duration": 93,
    "start_time": "2021-11-13T17:07:10.189Z"
   },
   {
    "duration": 28,
    "start_time": "2021-11-13T17:07:10.284Z"
   },
   {
    "duration": 353,
    "start_time": "2021-11-13T17:07:26.102Z"
   },
   {
    "duration": 36,
    "start_time": "2021-11-13T17:07:49.239Z"
   },
   {
    "duration": 4,
    "start_time": "2021-11-13T17:08:06.376Z"
   },
   {
    "duration": 124,
    "start_time": "2021-11-13T17:08:06.382Z"
   },
   {
    "duration": 17,
    "start_time": "2021-11-13T17:08:06.509Z"
   },
   {
    "duration": 26,
    "start_time": "2021-11-13T17:08:06.529Z"
   },
   {
    "duration": 80,
    "start_time": "2021-11-13T17:08:06.558Z"
   },
   {
    "duration": 8,
    "start_time": "2021-11-13T17:08:06.640Z"
   },
   {
    "duration": 20,
    "start_time": "2021-11-13T17:08:06.651Z"
   },
   {
    "duration": 28,
    "start_time": "2021-11-13T17:08:06.673Z"
   },
   {
    "duration": 4,
    "start_time": "2021-11-13T17:08:06.705Z"
   },
   {
    "duration": 58,
    "start_time": "2021-11-13T17:08:06.711Z"
   },
   {
    "duration": 9,
    "start_time": "2021-11-13T17:08:06.771Z"
   },
   {
    "duration": 44,
    "start_time": "2021-11-13T17:08:06.782Z"
   },
   {
    "duration": 5,
    "start_time": "2021-11-13T17:08:06.829Z"
   },
   {
    "duration": 50,
    "start_time": "2021-11-13T17:08:06.837Z"
   },
   {
    "duration": 4,
    "start_time": "2021-11-13T17:08:06.889Z"
   },
   {
    "duration": 18,
    "start_time": "2021-11-13T17:08:06.896Z"
   },
   {
    "duration": 65,
    "start_time": "2021-11-13T17:08:06.917Z"
   },
   {
    "duration": 92,
    "start_time": "2021-11-13T17:08:06.985Z"
   },
   {
    "duration": 59,
    "start_time": "2021-11-13T17:08:08.565Z"
   },
   {
    "duration": 306,
    "start_time": "2021-11-13T17:09:01.868Z"
   },
   {
    "duration": 283,
    "start_time": "2021-11-13T17:09:10.348Z"
   },
   {
    "duration": 38,
    "start_time": "2021-11-13T17:09:20.148Z"
   },
   {
    "duration": 57,
    "start_time": "2021-11-13T17:09:49.603Z"
   },
   {
    "duration": 90,
    "start_time": "2021-11-13T17:10:08.562Z"
   },
   {
    "duration": 24,
    "start_time": "2021-11-13T17:10:13.181Z"
   },
   {
    "duration": 24,
    "start_time": "2021-11-13T17:11:05.943Z"
   },
   {
    "duration": 45,
    "start_time": "2021-11-13T17:12:10.872Z"
   },
   {
    "duration": 45,
    "start_time": "2021-11-13T17:19:18.038Z"
   },
   {
    "duration": 4,
    "start_time": "2021-11-13T17:26:23.536Z"
   },
   {
    "duration": 140,
    "start_time": "2021-11-13T17:26:23.543Z"
   },
   {
    "duration": 18,
    "start_time": "2021-11-13T17:26:23.685Z"
   },
   {
    "duration": 70,
    "start_time": "2021-11-13T17:26:23.706Z"
   },
   {
    "duration": 104,
    "start_time": "2021-11-13T17:26:23.779Z"
   },
   {
    "duration": 8,
    "start_time": "2021-11-13T17:26:23.885Z"
   },
   {
    "duration": 9,
    "start_time": "2021-11-13T17:26:23.895Z"
   },
   {
    "duration": 97,
    "start_time": "2021-11-13T17:26:23.908Z"
   },
   {
    "duration": 1360,
    "start_time": "2021-11-13T17:26:22.648Z"
   },
   {
    "duration": 1356,
    "start_time": "2021-11-13T17:26:22.654Z"
   },
   {
    "duration": 1352,
    "start_time": "2021-11-13T17:26:22.659Z"
   },
   {
    "duration": 1349,
    "start_time": "2021-11-13T17:26:22.664Z"
   },
   {
    "duration": 1345,
    "start_time": "2021-11-13T17:26:22.670Z"
   },
   {
    "duration": 1272,
    "start_time": "2021-11-13T17:26:22.744Z"
   },
   {
    "duration": 1261,
    "start_time": "2021-11-13T17:26:22.757Z"
   },
   {
    "duration": 1257,
    "start_time": "2021-11-13T17:26:22.762Z"
   },
   {
    "duration": 1255,
    "start_time": "2021-11-13T17:26:22.766Z"
   },
   {
    "duration": 1251,
    "start_time": "2021-11-13T17:26:22.771Z"
   },
   {
    "duration": 1248,
    "start_time": "2021-11-13T17:26:22.776Z"
   },
   {
    "duration": 1244,
    "start_time": "2021-11-13T17:26:22.781Z"
   },
   {
    "duration": 1241,
    "start_time": "2021-11-13T17:26:22.785Z"
   },
   {
    "duration": 1238,
    "start_time": "2021-11-13T17:26:22.790Z"
   },
   {
    "duration": 1235,
    "start_time": "2021-11-13T17:26:22.794Z"
   },
   {
    "duration": 1232,
    "start_time": "2021-11-13T17:26:22.799Z"
   },
   {
    "duration": 1229,
    "start_time": "2021-11-13T17:26:22.803Z"
   },
   {
    "duration": 1225,
    "start_time": "2021-11-13T17:26:22.808Z"
   },
   {
    "duration": 1221,
    "start_time": "2021-11-13T17:26:22.813Z"
   },
   {
    "duration": 1218,
    "start_time": "2021-11-13T17:26:22.818Z"
   },
   {
    "duration": 1214,
    "start_time": "2021-11-13T17:26:22.823Z"
   },
   {
    "duration": 1213,
    "start_time": "2021-11-13T17:26:22.826Z"
   },
   {
    "duration": 1209,
    "start_time": "2021-11-13T17:26:22.831Z"
   },
   {
    "duration": 1206,
    "start_time": "2021-11-13T17:26:22.836Z"
   },
   {
    "duration": 1203,
    "start_time": "2021-11-13T17:26:22.840Z"
   },
   {
    "duration": 1201,
    "start_time": "2021-11-13T17:26:22.844Z"
   },
   {
    "duration": 1217,
    "start_time": "2021-11-13T17:26:22.849Z"
   },
   {
    "duration": 1214,
    "start_time": "2021-11-13T17:26:22.854Z"
   },
   {
    "duration": 1201,
    "start_time": "2021-11-13T17:26:22.868Z"
   },
   {
    "duration": 1199,
    "start_time": "2021-11-13T17:26:22.872Z"
   },
   {
    "duration": 3,
    "start_time": "2021-11-13T17:28:17.104Z"
   },
   {
    "duration": 122,
    "start_time": "2021-11-13T17:28:17.110Z"
   },
   {
    "duration": 23,
    "start_time": "2021-11-13T17:28:17.235Z"
   },
   {
    "duration": 30,
    "start_time": "2021-11-13T17:28:17.260Z"
   },
   {
    "duration": 94,
    "start_time": "2021-11-13T17:28:17.292Z"
   },
   {
    "duration": 8,
    "start_time": "2021-11-13T17:28:17.388Z"
   },
   {
    "duration": 9,
    "start_time": "2021-11-13T17:28:17.400Z"
   },
   {
    "duration": 93,
    "start_time": "2021-11-13T17:28:17.412Z"
   },
   {
    "duration": 1259,
    "start_time": "2021-11-13T17:28:16.249Z"
   },
   {
    "duration": 1248,
    "start_time": "2021-11-13T17:28:16.262Z"
   },
   {
    "duration": 1244,
    "start_time": "2021-11-13T17:28:16.267Z"
   },
   {
    "duration": 1241,
    "start_time": "2021-11-13T17:28:16.272Z"
   },
   {
    "duration": 1236,
    "start_time": "2021-11-13T17:28:16.278Z"
   },
   {
    "duration": 1233,
    "start_time": "2021-11-13T17:28:16.283Z"
   },
   {
    "duration": 1229,
    "start_time": "2021-11-13T17:28:16.288Z"
   },
   {
    "duration": 1226,
    "start_time": "2021-11-13T17:28:16.293Z"
   },
   {
    "duration": 1222,
    "start_time": "2021-11-13T17:28:16.298Z"
   },
   {
    "duration": 1218,
    "start_time": "2021-11-13T17:28:16.303Z"
   },
   {
    "duration": 1214,
    "start_time": "2021-11-13T17:28:16.309Z"
   },
   {
    "duration": 1211,
    "start_time": "2021-11-13T17:28:16.313Z"
   },
   {
    "duration": 1208,
    "start_time": "2021-11-13T17:28:16.318Z"
   },
   {
    "duration": 1205,
    "start_time": "2021-11-13T17:28:16.322Z"
   },
   {
    "duration": 1203,
    "start_time": "2021-11-13T17:28:16.326Z"
   },
   {
    "duration": 1200,
    "start_time": "2021-11-13T17:28:16.331Z"
   },
   {
    "duration": 1197,
    "start_time": "2021-11-13T17:28:16.335Z"
   },
   {
    "duration": 1194,
    "start_time": "2021-11-13T17:28:16.339Z"
   },
   {
    "duration": 1191,
    "start_time": "2021-11-13T17:28:16.344Z"
   },
   {
    "duration": 1188,
    "start_time": "2021-11-13T17:28:16.348Z"
   },
   {
    "duration": 1186,
    "start_time": "2021-11-13T17:28:16.352Z"
   },
   {
    "duration": 1182,
    "start_time": "2021-11-13T17:28:16.357Z"
   },
   {
    "duration": 1172,
    "start_time": "2021-11-13T17:28:16.369Z"
   },
   {
    "duration": 1169,
    "start_time": "2021-11-13T17:28:16.373Z"
   },
   {
    "duration": 1167,
    "start_time": "2021-11-13T17:28:16.377Z"
   },
   {
    "duration": 1164,
    "start_time": "2021-11-13T17:28:16.381Z"
   },
   {
    "duration": 1159,
    "start_time": "2021-11-13T17:28:16.387Z"
   },
   {
    "duration": 1156,
    "start_time": "2021-11-13T17:28:16.391Z"
   },
   {
    "duration": 1153,
    "start_time": "2021-11-13T17:28:16.396Z"
   },
   {
    "duration": 1165,
    "start_time": "2021-11-13T17:28:16.401Z"
   },
   {
    "duration": 1162,
    "start_time": "2021-11-13T17:28:16.406Z"
   },
   {
    "duration": 1159,
    "start_time": "2021-11-13T17:28:16.410Z"
   },
   {
    "duration": 1156,
    "start_time": "2021-11-13T17:28:16.415Z"
   },
   {
    "duration": 1154,
    "start_time": "2021-11-13T17:28:16.419Z"
   },
   {
    "duration": 4,
    "start_time": "2021-11-13T17:29:01.858Z"
   },
   {
    "duration": 130,
    "start_time": "2021-11-13T17:29:01.864Z"
   },
   {
    "duration": 19,
    "start_time": "2021-11-13T17:29:01.997Z"
   },
   {
    "duration": 30,
    "start_time": "2021-11-13T17:29:02.018Z"
   },
   {
    "duration": 85,
    "start_time": "2021-11-13T17:29:02.051Z"
   },
   {
    "duration": 34,
    "start_time": "2021-11-13T17:29:02.138Z"
   },
   {
    "duration": 12,
    "start_time": "2021-11-13T17:29:02.174Z"
   },
   {
    "duration": 24,
    "start_time": "2021-11-13T17:29:02.190Z"
   },
   {
    "duration": 52,
    "start_time": "2021-11-13T17:29:02.217Z"
   },
   {
    "duration": 5,
    "start_time": "2021-11-13T17:29:02.272Z"
   },
   {
    "duration": 27,
    "start_time": "2021-11-13T17:29:02.279Z"
   },
   {
    "duration": 6,
    "start_time": "2021-11-13T17:29:02.308Z"
   },
   {
    "duration": 76,
    "start_time": "2021-11-13T17:29:02.316Z"
   },
   {
    "duration": 6,
    "start_time": "2021-11-13T17:29:02.394Z"
   },
   {
    "duration": 30,
    "start_time": "2021-11-13T17:29:02.403Z"
   },
   {
    "duration": 4,
    "start_time": "2021-11-13T17:29:02.436Z"
   },
   {
    "duration": 15,
    "start_time": "2021-11-13T17:29:02.467Z"
   },
   {
    "duration": 33,
    "start_time": "2021-11-13T17:29:02.484Z"
   },
   {
    "duration": 116,
    "start_time": "2021-11-13T17:29:02.520Z"
   },
   {
    "duration": 58,
    "start_time": "2021-11-13T17:29:02.638Z"
   },
   {
    "duration": 30,
    "start_time": "2021-11-13T17:29:02.699Z"
   },
   {
    "duration": 43,
    "start_time": "2021-11-13T17:29:02.731Z"
   },
   {
    "duration": 28,
    "start_time": "2021-11-13T17:29:02.780Z"
   },
   {
    "duration": 7,
    "start_time": "2021-11-13T17:29:02.811Z"
   },
   {
    "duration": 1987,
    "start_time": "2021-11-13T17:29:02.821Z"
   },
   {
    "duration": 6,
    "start_time": "2021-11-13T17:29:04.811Z"
   },
   {
    "duration": 15,
    "start_time": "2021-11-13T17:29:04.819Z"
   },
   {
    "duration": 313,
    "start_time": "2021-11-13T17:29:04.836Z"
   },
   {
    "duration": 47,
    "start_time": "2021-11-13T17:29:05.152Z"
   },
   {
    "duration": 8,
    "start_time": "2021-11-13T17:29:05.201Z"
   },
   {
    "duration": 18,
    "start_time": "2021-11-13T17:29:05.212Z"
   },
   {
    "duration": 62,
    "start_time": "2021-11-13T17:29:05.232Z"
   },
   {
    "duration": 9,
    "start_time": "2021-11-13T17:29:05.297Z"
   },
   {
    "duration": 20,
    "start_time": "2021-11-13T17:29:05.309Z"
   },
   {
    "duration": 47,
    "start_time": "2021-11-13T17:29:05.368Z"
   },
   {
    "duration": 8,
    "start_time": "2021-11-13T17:29:05.418Z"
   },
   {
    "duration": 83,
    "start_time": "2021-11-13T17:29:05.429Z"
   },
   {
    "duration": 448,
    "start_time": "2021-11-13T17:29:05.515Z"
   },
   {
    "duration": 982,
    "start_time": "2021-11-13T17:29:05.965Z"
   },
   {
    "duration": 42,
    "start_time": "2021-11-13T17:29:06.950Z"
   },
   {
    "duration": 730,
    "start_time": "2021-11-13T17:29:06.994Z"
   },
   {
    "duration": 1093,
    "start_time": "2021-11-13T17:30:09.714Z"
   },
   {
    "duration": 1054,
    "start_time": "2021-11-13T17:30:47.668Z"
   },
   {
    "duration": 7419,
    "start_time": "2021-11-13T17:31:11.881Z"
   },
   {
    "duration": 6,
    "start_time": "2021-11-13T17:31:48.269Z"
   },
   {
    "duration": 4,
    "start_time": "2021-11-13T17:32:01.603Z"
   },
   {
    "duration": 6631,
    "start_time": "2021-11-13T17:32:10.206Z"
   },
   {
    "duration": 6,
    "start_time": "2021-11-13T17:32:24.730Z"
   },
   {
    "duration": 9,
    "start_time": "2021-11-13T17:32:39.364Z"
   },
   {
    "duration": 968,
    "start_time": "2021-11-13T17:33:50.565Z"
   },
   {
    "duration": 1068,
    "start_time": "2021-11-13T17:34:02.099Z"
   },
   {
    "duration": 1269,
    "start_time": "2021-11-13T17:34:16.940Z"
   },
   {
    "duration": 1398,
    "start_time": "2021-11-13T17:34:45.026Z"
   },
   {
    "duration": 1306,
    "start_time": "2021-11-13T17:34:49.068Z"
   },
   {
    "duration": 1466,
    "start_time": "2021-11-13T17:36:41.258Z"
   },
   {
    "duration": 684,
    "start_time": "2021-11-13T17:37:34.448Z"
   },
   {
    "duration": 743,
    "start_time": "2021-11-13T17:39:17.734Z"
   },
   {
    "duration": 734,
    "start_time": "2021-11-13T17:40:10.159Z"
   },
   {
    "duration": 714,
    "start_time": "2021-11-13T17:40:12.990Z"
   },
   {
    "duration": 1083,
    "start_time": "2021-11-13T17:41:24.653Z"
   },
   {
    "duration": 1328,
    "start_time": "2021-11-13T17:42:00.162Z"
   },
   {
    "duration": 1393,
    "start_time": "2021-11-13T17:45:31.574Z"
   },
   {
    "duration": 1367,
    "start_time": "2021-11-13T17:45:47.674Z"
   },
   {
    "duration": 7255,
    "start_time": "2021-11-13T17:46:07.251Z"
   },
   {
    "duration": 7754,
    "start_time": "2021-11-13T17:46:24.518Z"
   },
   {
    "duration": 7715,
    "start_time": "2021-11-13T17:46:36.111Z"
   },
   {
    "duration": 1314,
    "start_time": "2021-11-13T17:46:49.318Z"
   },
   {
    "duration": 1429,
    "start_time": "2021-11-13T17:48:59.458Z"
   },
   {
    "duration": 1393,
    "start_time": "2021-11-13T17:49:58.768Z"
   },
   {
    "duration": 1352,
    "start_time": "2021-11-13T17:50:27.575Z"
   },
   {
    "duration": 1286,
    "start_time": "2021-11-13T17:59:55.114Z"
   },
   {
    "duration": 1334,
    "start_time": "2021-11-13T18:00:01.674Z"
   },
   {
    "duration": 684,
    "start_time": "2021-11-13T18:02:11.741Z"
   },
   {
    "duration": 1256,
    "start_time": "2021-11-13T18:02:27.856Z"
   },
   {
    "duration": 1565,
    "start_time": "2021-11-13T18:02:36.581Z"
   },
   {
    "duration": 1026,
    "start_time": "2021-11-13T18:03:00.382Z"
   },
   {
    "duration": 1256,
    "start_time": "2021-11-13T18:03:10.064Z"
   },
   {
    "duration": 943,
    "start_time": "2021-11-13T18:03:51.896Z"
   },
   {
    "duration": 483,
    "start_time": "2021-11-13T18:04:45.905Z"
   },
   {
    "duration": 370,
    "start_time": "2021-11-13T18:05:04.123Z"
   },
   {
    "duration": 8054,
    "start_time": "2021-11-13T18:05:59.236Z"
   },
   {
    "duration": 994,
    "start_time": "2021-11-13T18:06:21.383Z"
   },
   {
    "duration": 8135,
    "start_time": "2021-11-13T18:06:36.920Z"
   },
   {
    "duration": 7796,
    "start_time": "2021-11-13T18:06:50.901Z"
   },
   {
    "duration": 8451,
    "start_time": "2021-11-13T18:07:25.245Z"
   },
   {
    "duration": 7659,
    "start_time": "2021-11-13T18:07:50.949Z"
   },
   {
    "duration": 1434,
    "start_time": "2021-11-13T18:08:00.213Z"
   },
   {
    "duration": 1296,
    "start_time": "2021-11-13T18:08:12.234Z"
   },
   {
    "duration": 1299,
    "start_time": "2021-11-13T18:08:21.578Z"
   },
   {
    "duration": 993,
    "start_time": "2021-11-13T18:09:09.614Z"
   },
   {
    "duration": 1095,
    "start_time": "2021-11-13T18:09:23.917Z"
   },
   {
    "duration": 7038,
    "start_time": "2021-11-13T18:09:38.215Z"
   },
   {
    "duration": 7638,
    "start_time": "2021-11-13T18:10:13.276Z"
   },
   {
    "duration": 6,
    "start_time": "2021-11-13T18:10:23.009Z"
   },
   {
    "duration": 6,
    "start_time": "2021-11-13T18:10:30.511Z"
   },
   {
    "duration": 1054,
    "start_time": "2021-11-13T18:10:42.416Z"
   },
   {
    "duration": 1009,
    "start_time": "2021-11-13T18:11:06.695Z"
   },
   {
    "duration": 1082,
    "start_time": "2021-11-13T18:11:12.201Z"
   },
   {
    "duration": 1095,
    "start_time": "2021-11-13T18:12:00.637Z"
   },
   {
    "duration": 1010,
    "start_time": "2021-11-13T18:12:14.295Z"
   },
   {
    "duration": 978,
    "start_time": "2021-11-13T18:12:56.217Z"
   },
   {
    "duration": 752,
    "start_time": "2021-11-13T18:13:34.698Z"
   },
   {
    "duration": 1043,
    "start_time": "2021-11-13T18:13:44.677Z"
   },
   {
    "duration": 956,
    "start_time": "2021-11-13T18:13:56.826Z"
   },
   {
    "duration": 91,
    "start_time": "2021-11-13T18:14:24.468Z"
   },
   {
    "duration": 102,
    "start_time": "2021-11-13T18:14:29.414Z"
   },
   {
    "duration": 1046,
    "start_time": "2021-11-13T18:14:40.758Z"
   },
   {
    "duration": 1133,
    "start_time": "2021-11-13T18:15:30.081Z"
   },
   {
    "duration": 1037,
    "start_time": "2021-11-13T18:15:59.259Z"
   },
   {
    "duration": 1094,
    "start_time": "2021-11-13T18:16:06.091Z"
   },
   {
    "duration": 1669,
    "start_time": "2021-11-13T18:16:33.417Z"
   },
   {
    "duration": 1014,
    "start_time": "2021-11-13T18:17:27.276Z"
   },
   {
    "duration": 1361,
    "start_time": "2021-11-13T18:17:42.654Z"
   },
   {
    "duration": 743,
    "start_time": "2021-11-13T18:17:59.870Z"
   },
   {
    "duration": 568,
    "start_time": "2021-11-13T18:18:08.343Z"
   },
   {
    "duration": 312,
    "start_time": "2021-11-13T18:18:13.663Z"
   },
   {
    "duration": 316,
    "start_time": "2021-11-13T18:18:57.008Z"
   },
   {
    "duration": 521,
    "start_time": "2021-11-13T18:19:03.974Z"
   },
   {
    "duration": 266,
    "start_time": "2021-11-13T18:19:27.530Z"
   },
   {
    "duration": 560,
    "start_time": "2021-11-13T18:19:39.707Z"
   },
   {
    "duration": 546,
    "start_time": "2021-11-13T18:20:26.812Z"
   },
   {
    "duration": 737,
    "start_time": "2021-11-13T18:20:33.764Z"
   },
   {
    "duration": 887,
    "start_time": "2021-11-13T18:21:11.548Z"
   },
   {
    "duration": 602,
    "start_time": "2021-11-13T18:21:14.059Z"
   },
   {
    "duration": 680,
    "start_time": "2021-11-13T18:22:02.870Z"
   },
   {
    "duration": 590,
    "start_time": "2021-11-13T18:22:52.498Z"
   },
   {
    "duration": 596,
    "start_time": "2021-11-13T18:23:26.900Z"
   },
   {
    "duration": 601,
    "start_time": "2021-11-13T18:23:30.686Z"
   },
   {
    "duration": 926,
    "start_time": "2021-11-13T18:24:47.947Z"
   },
   {
    "duration": 125,
    "start_time": "2021-11-13T18:24:48.876Z"
   },
   {
    "duration": 20,
    "start_time": "2021-11-13T18:24:49.004Z"
   },
   {
    "duration": 28,
    "start_time": "2021-11-13T18:24:49.027Z"
   },
   {
    "duration": 76,
    "start_time": "2021-11-13T18:24:49.057Z"
   },
   {
    "duration": 8,
    "start_time": "2021-11-13T18:24:49.136Z"
   },
   {
    "duration": 27,
    "start_time": "2021-11-13T18:24:49.146Z"
   },
   {
    "duration": 23,
    "start_time": "2021-11-13T18:24:49.176Z"
   },
   {
    "duration": 27,
    "start_time": "2021-11-13T18:24:49.204Z"
   },
   {
    "duration": 5,
    "start_time": "2021-11-13T18:24:49.267Z"
   },
   {
    "duration": 30,
    "start_time": "2021-11-13T18:24:49.274Z"
   },
   {
    "duration": 6,
    "start_time": "2021-11-13T18:24:49.306Z"
   },
   {
    "duration": 73,
    "start_time": "2021-11-13T18:24:49.314Z"
   },
   {
    "duration": 6,
    "start_time": "2021-11-13T18:24:49.390Z"
   },
   {
    "duration": 28,
    "start_time": "2021-11-13T18:24:49.399Z"
   },
   {
    "duration": 5,
    "start_time": "2021-11-13T18:24:49.429Z"
   },
   {
    "duration": 13,
    "start_time": "2021-11-13T18:24:49.467Z"
   },
   {
    "duration": 33,
    "start_time": "2021-11-13T18:24:49.482Z"
   },
   {
    "duration": 112,
    "start_time": "2021-11-13T18:24:49.517Z"
   },
   {
    "duration": 53,
    "start_time": "2021-11-13T18:24:49.632Z"
   },
   {
    "duration": 32,
    "start_time": "2021-11-13T18:24:49.688Z"
   },
   {
    "duration": 45,
    "start_time": "2021-11-13T18:24:49.722Z"
   },
   {
    "duration": 22,
    "start_time": "2021-11-13T18:24:49.770Z"
   },
   {
    "duration": 8,
    "start_time": "2021-11-13T18:24:49.795Z"
   },
   {
    "duration": 1886,
    "start_time": "2021-11-13T18:24:49.805Z"
   },
   {
    "duration": 7,
    "start_time": "2021-11-13T18:24:51.694Z"
   },
   {
    "duration": 15,
    "start_time": "2021-11-13T18:24:51.707Z"
   },
   {
    "duration": 341,
    "start_time": "2021-11-13T18:24:51.725Z"
   },
   {
    "duration": 35,
    "start_time": "2021-11-13T18:24:52.068Z"
   },
   {
    "duration": 6,
    "start_time": "2021-11-13T18:24:52.106Z"
   },
   {
    "duration": 23,
    "start_time": "2021-11-13T18:24:52.115Z"
   },
   {
    "duration": 31,
    "start_time": "2021-11-13T18:24:52.167Z"
   },
   {
    "duration": 7,
    "start_time": "2021-11-13T18:24:52.200Z"
   },
   {
    "duration": 25,
    "start_time": "2021-11-13T18:24:52.209Z"
   },
   {
    "duration": 71,
    "start_time": "2021-11-13T18:24:52.237Z"
   },
   {
    "duration": 9,
    "start_time": "2021-11-13T18:24:52.311Z"
   },
   {
    "duration": 82,
    "start_time": "2021-11-13T18:24:52.322Z"
   },
   {
    "duration": 423,
    "start_time": "2021-11-13T18:24:52.407Z"
   },
   {
    "duration": 1026,
    "start_time": "2021-11-13T18:24:52.833Z"
   },
   {
    "duration": 38,
    "start_time": "2021-11-13T18:24:53.861Z"
   },
   {
    "duration": 780,
    "start_time": "2021-11-13T18:24:53.902Z"
   },
   {
    "duration": 629,
    "start_time": "2021-11-13T18:24:54.686Z"
   },
   {
    "duration": 55,
    "start_time": "2021-11-13T18:24:55.318Z"
   },
   {
    "duration": 1087,
    "start_time": "2021-11-13T18:24:55.376Z"
   },
   {
    "duration": 359,
    "start_time": "2021-11-13T18:24:56.468Z"
   },
   {
    "duration": 409,
    "start_time": "2021-11-13T18:24:56.830Z"
   },
   {
    "duration": 32,
    "start_time": "2021-11-13T18:24:57.241Z"
   },
   {
    "duration": 591,
    "start_time": "2021-11-13T18:24:57.276Z"
   },
   {
    "duration": 2585,
    "start_time": "2021-11-13T18:24:57.870Z"
   },
   {
    "duration": 435,
    "start_time": "2021-11-13T18:25:00.458Z"
   },
   {
    "duration": 8,
    "start_time": "2021-11-13T18:25:00.896Z"
   },
   {
    "duration": 360,
    "start_time": "2021-11-13T18:25:00.907Z"
   },
   {
    "duration": 14,
    "start_time": "2021-11-13T18:25:01.269Z"
   },
   {
    "duration": 1001,
    "start_time": "2021-11-13T18:33:15.024Z"
   },
   {
    "duration": 1009,
    "start_time": "2021-11-13T18:33:45.274Z"
   },
   {
    "duration": 893,
    "start_time": "2021-11-13T18:36:51.170Z"
   },
   {
    "duration": 118,
    "start_time": "2021-11-13T18:36:52.067Z"
   },
   {
    "duration": 19,
    "start_time": "2021-11-13T18:36:52.188Z"
   },
   {
    "duration": 26,
    "start_time": "2021-11-13T18:36:52.209Z"
   },
   {
    "duration": 87,
    "start_time": "2021-11-13T18:36:52.237Z"
   },
   {
    "duration": 8,
    "start_time": "2021-11-13T18:36:52.327Z"
   },
   {
    "duration": 31,
    "start_time": "2021-11-13T18:36:52.338Z"
   },
   {
    "duration": 20,
    "start_time": "2021-11-13T18:36:52.371Z"
   },
   {
    "duration": 26,
    "start_time": "2021-11-13T18:36:52.395Z"
   },
   {
    "duration": 6,
    "start_time": "2021-11-13T18:36:52.424Z"
   },
   {
    "duration": 56,
    "start_time": "2021-11-13T18:36:52.432Z"
   },
   {
    "duration": 7,
    "start_time": "2021-11-13T18:36:52.491Z"
   },
   {
    "duration": 68,
    "start_time": "2021-11-13T18:36:52.500Z"
   },
   {
    "duration": 7,
    "start_time": "2021-11-13T18:36:52.571Z"
   },
   {
    "duration": 29,
    "start_time": "2021-11-13T18:36:52.581Z"
   },
   {
    "duration": 5,
    "start_time": "2021-11-13T18:36:52.612Z"
   },
   {
    "duration": 54,
    "start_time": "2021-11-13T18:36:52.620Z"
   },
   {
    "duration": 33,
    "start_time": "2021-11-13T18:36:52.677Z"
   },
   {
    "duration": 100,
    "start_time": "2021-11-13T18:36:52.712Z"
   },
   {
    "duration": 64,
    "start_time": "2021-11-13T18:36:52.815Z"
   },
   {
    "duration": 30,
    "start_time": "2021-11-13T18:36:52.882Z"
   },
   {
    "duration": 14,
    "start_time": "2021-11-13T18:36:52.915Z"
   },
   {
    "duration": 54,
    "start_time": "2021-11-13T18:36:52.931Z"
   },
   {
    "duration": 8,
    "start_time": "2021-11-13T18:36:52.989Z"
   },
   {
    "duration": 1862,
    "start_time": "2021-11-13T18:36:53.000Z"
   },
   {
    "duration": 6,
    "start_time": "2021-11-13T18:36:54.868Z"
   },
   {
    "duration": 21,
    "start_time": "2021-11-13T18:36:54.882Z"
   },
   {
    "duration": 383,
    "start_time": "2021-11-13T18:36:54.906Z"
   },
   {
    "duration": 56,
    "start_time": "2021-11-13T18:36:55.292Z"
   },
   {
    "duration": 21,
    "start_time": "2021-11-13T18:36:55.351Z"
   },
   {
    "duration": 24,
    "start_time": "2021-11-13T18:36:55.374Z"
   },
   {
    "duration": 68,
    "start_time": "2021-11-13T18:36:55.401Z"
   },
   {
    "duration": 7,
    "start_time": "2021-11-13T18:36:55.472Z"
   },
   {
    "duration": 19,
    "start_time": "2021-11-13T18:36:55.481Z"
   },
   {
    "duration": 7,
    "start_time": "2021-11-13T18:36:55.503Z"
   },
   {
    "duration": 437,
    "start_time": "2021-11-13T18:36:55.512Z"
   },
   {
    "duration": 1001,
    "start_time": "2021-11-13T18:36:55.951Z"
   },
   {
    "duration": 41,
    "start_time": "2021-11-13T18:36:56.955Z"
   },
   {
    "duration": 737,
    "start_time": "2021-11-13T18:36:56.999Z"
   },
   {
    "duration": 605,
    "start_time": "2021-11-13T18:36:57.739Z"
   },
   {
    "duration": 43,
    "start_time": "2021-11-13T18:36:58.347Z"
   },
   {
    "duration": 1106,
    "start_time": "2021-11-13T18:36:58.393Z"
   },
   {
    "duration": 355,
    "start_time": "2021-11-13T18:36:59.502Z"
   },
   {
    "duration": 413,
    "start_time": "2021-11-13T18:36:59.867Z"
   },
   {
    "duration": 21,
    "start_time": "2021-11-13T18:37:00.283Z"
   },
   {
    "duration": 599,
    "start_time": "2021-11-13T18:37:00.307Z"
   },
   {
    "duration": 2369,
    "start_time": "2021-11-13T18:37:00.908Z"
   },
   {
    "duration": 439,
    "start_time": "2021-11-13T18:37:03.280Z"
   },
   {
    "duration": 7,
    "start_time": "2021-11-13T18:37:03.721Z"
   },
   {
    "duration": 346,
    "start_time": "2021-11-13T18:37:03.731Z"
   },
   {
    "duration": 11,
    "start_time": "2021-11-13T18:37:04.079Z"
   },
   {
    "duration": 913,
    "start_time": "2021-11-13T18:41:26.473Z"
   },
   {
    "duration": 113,
    "start_time": "2021-11-13T18:41:27.394Z"
   },
   {
    "duration": 20,
    "start_time": "2021-11-13T18:41:27.510Z"
   },
   {
    "duration": 28,
    "start_time": "2021-11-13T18:41:27.532Z"
   },
   {
    "duration": 75,
    "start_time": "2021-11-13T18:41:27.562Z"
   },
   {
    "duration": 28,
    "start_time": "2021-11-13T18:41:27.639Z"
   },
   {
    "duration": 9,
    "start_time": "2021-11-13T18:41:27.670Z"
   },
   {
    "duration": 24,
    "start_time": "2021-11-13T18:41:27.682Z"
   },
   {
    "duration": 27,
    "start_time": "2021-11-13T18:41:27.708Z"
   },
   {
    "duration": 30,
    "start_time": "2021-11-13T18:41:27.738Z"
   },
   {
    "duration": 27,
    "start_time": "2021-11-13T18:41:27.770Z"
   },
   {
    "duration": 10,
    "start_time": "2021-11-13T18:41:27.799Z"
   },
   {
    "duration": 72,
    "start_time": "2021-11-13T18:41:27.811Z"
   },
   {
    "duration": 6,
    "start_time": "2021-11-13T18:41:27.886Z"
   },
   {
    "duration": 27,
    "start_time": "2021-11-13T18:41:27.894Z"
   },
   {
    "duration": 5,
    "start_time": "2021-11-13T18:41:27.924Z"
   },
   {
    "duration": 47,
    "start_time": "2021-11-13T18:41:27.931Z"
   },
   {
    "duration": 33,
    "start_time": "2021-11-13T18:41:27.980Z"
   },
   {
    "duration": 104,
    "start_time": "2021-11-13T18:41:28.015Z"
   },
   {
    "duration": 59,
    "start_time": "2021-11-13T18:41:28.121Z"
   },
   {
    "duration": 29,
    "start_time": "2021-11-13T18:41:28.182Z"
   },
   {
    "duration": 17,
    "start_time": "2021-11-13T18:41:28.213Z"
   },
   {
    "duration": 53,
    "start_time": "2021-11-13T18:41:28.237Z"
   },
   {
    "duration": 8,
    "start_time": "2021-11-13T18:41:28.294Z"
   },
   {
    "duration": 1867,
    "start_time": "2021-11-13T18:41:28.305Z"
   },
   {
    "duration": 8,
    "start_time": "2021-11-13T18:41:30.175Z"
   },
   {
    "duration": 28,
    "start_time": "2021-11-13T18:41:30.186Z"
   },
   {
    "duration": 324,
    "start_time": "2021-11-13T18:41:30.217Z"
   },
   {
    "duration": 48,
    "start_time": "2021-11-13T18:41:30.544Z"
   },
   {
    "duration": 34,
    "start_time": "2021-11-13T18:41:30.595Z"
   },
   {
    "duration": 32,
    "start_time": "2021-11-13T18:41:30.632Z"
   },
   {
    "duration": 42,
    "start_time": "2021-11-13T18:41:30.667Z"
   },
   {
    "duration": 6,
    "start_time": "2021-11-13T18:41:30.712Z"
   },
   {
    "duration": 38,
    "start_time": "2021-11-13T18:41:30.721Z"
   },
   {
    "duration": 25,
    "start_time": "2021-11-13T18:41:30.762Z"
   },
   {
    "duration": 414,
    "start_time": "2021-11-13T18:41:30.790Z"
   },
   {
    "duration": 1117,
    "start_time": "2021-11-13T18:41:31.206Z"
   },
   {
    "duration": 47,
    "start_time": "2021-11-13T18:41:32.325Z"
   },
   {
    "duration": 748,
    "start_time": "2021-11-13T18:41:32.375Z"
   },
   {
    "duration": 633,
    "start_time": "2021-11-13T18:41:33.125Z"
   },
   {
    "duration": 37,
    "start_time": "2021-11-13T18:41:33.767Z"
   },
   {
    "duration": 1088,
    "start_time": "2021-11-13T18:41:33.807Z"
   },
   {
    "duration": 373,
    "start_time": "2021-11-13T18:41:34.897Z"
   },
   {
    "duration": 398,
    "start_time": "2021-11-13T18:41:35.273Z"
   },
   {
    "duration": 22,
    "start_time": "2021-11-13T18:41:35.674Z"
   },
   {
    "duration": 613,
    "start_time": "2021-11-13T18:41:35.699Z"
   },
   {
    "duration": 2469,
    "start_time": "2021-11-13T18:41:36.314Z"
   },
   {
    "duration": 420,
    "start_time": "2021-11-13T18:41:38.786Z"
   },
   {
    "duration": 6,
    "start_time": "2021-11-13T18:41:39.208Z"
   },
   {
    "duration": 332,
    "start_time": "2021-11-13T18:41:39.217Z"
   },
   {
    "duration": 18,
    "start_time": "2021-11-13T18:41:39.552Z"
   },
   {
    "duration": 92,
    "start_time": "2021-11-14T10:03:14.550Z"
   },
   {
    "duration": 962,
    "start_time": "2021-11-14T10:10:10.880Z"
   },
   {
    "duration": 114,
    "start_time": "2021-11-14T10:10:11.844Z"
   },
   {
    "duration": 28,
    "start_time": "2021-11-14T10:10:11.962Z"
   },
   {
    "duration": 39,
    "start_time": "2021-11-14T10:10:11.994Z"
   },
   {
    "duration": 86,
    "start_time": "2021-11-14T10:10:12.036Z"
   },
   {
    "duration": 9,
    "start_time": "2021-11-14T10:10:12.124Z"
   },
   {
    "duration": 9,
    "start_time": "2021-11-14T10:10:12.135Z"
   },
   {
    "duration": 20,
    "start_time": "2021-11-14T10:10:12.147Z"
   },
   {
    "duration": 58,
    "start_time": "2021-11-14T10:10:12.170Z"
   },
   {
    "duration": 7,
    "start_time": "2021-11-14T10:10:12.231Z"
   },
   {
    "duration": 28,
    "start_time": "2021-11-14T10:10:12.242Z"
   },
   {
    "duration": 6,
    "start_time": "2021-11-14T10:10:12.274Z"
   },
   {
    "duration": 86,
    "start_time": "2021-11-14T10:10:12.283Z"
   },
   {
    "duration": 7,
    "start_time": "2021-11-14T10:10:12.372Z"
   },
   {
    "duration": 61,
    "start_time": "2021-11-14T10:10:12.382Z"
   },
   {
    "duration": 5,
    "start_time": "2021-11-14T10:10:12.446Z"
   },
   {
    "duration": 18,
    "start_time": "2021-11-14T10:10:12.454Z"
   },
   {
    "duration": 67,
    "start_time": "2021-11-14T10:10:12.475Z"
   },
   {
    "duration": 90,
    "start_time": "2021-11-14T10:10:12.546Z"
   },
   {
    "duration": 7,
    "start_time": "2021-11-14T10:10:35.530Z"
   },
   {
    "duration": 400,
    "start_time": "2021-11-14T10:11:26.922Z"
   },
   {
    "duration": 40,
    "start_time": "2021-11-14T10:11:44.308Z"
   },
   {
    "duration": 5,
    "start_time": "2021-11-14T10:11:59.325Z"
   },
   {
    "duration": 3,
    "start_time": "2021-11-14T10:12:19.983Z"
   },
   {
    "duration": 128,
    "start_time": "2021-11-14T10:12:19.989Z"
   },
   {
    "duration": 18,
    "start_time": "2021-11-14T10:12:20.120Z"
   },
   {
    "duration": 31,
    "start_time": "2021-11-14T10:12:20.141Z"
   },
   {
    "duration": 97,
    "start_time": "2021-11-14T10:12:20.175Z"
   },
   {
    "duration": 9,
    "start_time": "2021-11-14T10:12:20.275Z"
   },
   {
    "duration": 9,
    "start_time": "2021-11-14T10:12:20.287Z"
   },
   {
    "duration": 41,
    "start_time": "2021-11-14T10:12:20.298Z"
   },
   {
    "duration": 28,
    "start_time": "2021-11-14T10:12:20.342Z"
   },
   {
    "duration": 18,
    "start_time": "2021-11-14T10:12:20.373Z"
   },
   {
    "duration": 43,
    "start_time": "2021-11-14T10:12:20.393Z"
   },
   {
    "duration": 5,
    "start_time": "2021-11-14T10:12:20.439Z"
   },
   {
    "duration": 52,
    "start_time": "2021-11-14T10:12:20.446Z"
   },
   {
    "duration": 7,
    "start_time": "2021-11-14T10:12:20.522Z"
   },
   {
    "duration": 30,
    "start_time": "2021-11-14T10:12:20.532Z"
   },
   {
    "duration": 6,
    "start_time": "2021-11-14T10:12:20.565Z"
   },
   {
    "duration": 54,
    "start_time": "2021-11-14T10:12:20.573Z"
   },
   {
    "duration": 32,
    "start_time": "2021-11-14T10:12:20.630Z"
   },
   {
    "duration": 103,
    "start_time": "2021-11-14T10:12:20.666Z"
   },
   {
    "duration": 6,
    "start_time": "2021-11-14T10:12:20.771Z"
   },
   {
    "duration": 12,
    "start_time": "2021-11-14T10:12:20.779Z"
   },
   {
    "duration": 28,
    "start_time": "2021-11-14T10:12:20.794Z"
   },
   {
    "duration": 3,
    "start_time": "2021-11-14T10:12:58.062Z"
   },
   {
    "duration": 116,
    "start_time": "2021-11-14T10:12:58.072Z"
   },
   {
    "duration": 27,
    "start_time": "2021-11-14T10:12:58.191Z"
   },
   {
    "duration": 30,
    "start_time": "2021-11-14T10:12:58.221Z"
   },
   {
    "duration": 93,
    "start_time": "2021-11-14T10:12:58.254Z"
   },
   {
    "duration": 8,
    "start_time": "2021-11-14T10:12:58.350Z"
   },
   {
    "duration": 9,
    "start_time": "2021-11-14T10:12:58.360Z"
   },
   {
    "duration": 20,
    "start_time": "2021-11-14T10:12:58.371Z"
   },
   {
    "duration": 50,
    "start_time": "2021-11-14T10:12:58.395Z"
   },
   {
    "duration": 7,
    "start_time": "2021-11-14T10:12:58.447Z"
   },
   {
    "duration": 27,
    "start_time": "2021-11-14T10:12:58.456Z"
   },
   {
    "duration": 37,
    "start_time": "2021-11-14T10:12:58.485Z"
   },
   {
    "duration": 48,
    "start_time": "2021-11-14T10:12:58.525Z"
   },
   {
    "duration": 7,
    "start_time": "2021-11-14T10:12:58.575Z"
   },
   {
    "duration": 57,
    "start_time": "2021-11-14T10:12:58.584Z"
   },
   {
    "duration": 14,
    "start_time": "2021-11-14T10:12:58.643Z"
   },
   {
    "duration": 18,
    "start_time": "2021-11-14T10:12:58.659Z"
   },
   {
    "duration": 65,
    "start_time": "2021-11-14T10:12:58.680Z"
   },
   {
    "duration": 102,
    "start_time": "2021-11-14T10:12:58.747Z"
   },
   {
    "duration": 4,
    "start_time": "2021-11-14T10:12:58.852Z"
   },
   {
    "duration": 12,
    "start_time": "2021-11-14T10:13:18.632Z"
   },
   {
    "duration": 8,
    "start_time": "2021-11-14T10:13:23.997Z"
   },
   {
    "duration": 5,
    "start_time": "2021-11-14T10:13:44.090Z"
   },
   {
    "duration": 6,
    "start_time": "2021-11-14T10:13:46.807Z"
   },
   {
    "duration": 7,
    "start_time": "2021-11-14T10:13:55.967Z"
   },
   {
    "duration": 827,
    "start_time": "2021-11-14T10:14:30.017Z"
   },
   {
    "duration": 12,
    "start_time": "2021-11-14T10:14:35.686Z"
   },
   {
    "duration": 303,
    "start_time": "2021-11-14T10:14:48.535Z"
   },
   {
    "duration": 10,
    "start_time": "2021-11-14T10:14:58.480Z"
   },
   {
    "duration": 4,
    "start_time": "2021-11-14T10:15:29.781Z"
   },
   {
    "duration": 130,
    "start_time": "2021-11-14T10:15:29.787Z"
   },
   {
    "duration": 20,
    "start_time": "2021-11-14T10:15:29.920Z"
   },
   {
    "duration": 30,
    "start_time": "2021-11-14T10:15:29.943Z"
   },
   {
    "duration": 102,
    "start_time": "2021-11-14T10:15:29.976Z"
   },
   {
    "duration": 8,
    "start_time": "2021-11-14T10:15:30.080Z"
   },
   {
    "duration": 32,
    "start_time": "2021-11-14T10:15:30.091Z"
   },
   {
    "duration": 25,
    "start_time": "2021-11-14T10:15:30.126Z"
   },
   {
    "duration": 26,
    "start_time": "2021-11-14T10:15:30.154Z"
   },
   {
    "duration": 5,
    "start_time": "2021-11-14T10:15:30.183Z"
   },
   {
    "duration": 62,
    "start_time": "2021-11-14T10:15:30.191Z"
   },
   {
    "duration": 9,
    "start_time": "2021-11-14T10:15:30.255Z"
   },
   {
    "duration": 71,
    "start_time": "2021-11-14T10:15:30.267Z"
   },
   {
    "duration": 9,
    "start_time": "2021-11-14T10:15:30.341Z"
   },
   {
    "duration": 44,
    "start_time": "2021-11-14T10:15:30.353Z"
   },
   {
    "duration": 23,
    "start_time": "2021-11-14T10:15:30.400Z"
   },
   {
    "duration": 39,
    "start_time": "2021-11-14T10:15:30.425Z"
   },
   {
    "duration": 60,
    "start_time": "2021-11-14T10:15:30.466Z"
   },
   {
    "duration": 125,
    "start_time": "2021-11-14T10:15:30.530Z"
   },
   {
    "duration": 11,
    "start_time": "2021-11-14T10:15:30.659Z"
   },
   {
    "duration": 6,
    "start_time": "2021-11-14T10:15:30.674Z"
   },
   {
    "duration": 9,
    "start_time": "2021-11-14T10:15:49.220Z"
   },
   {
    "duration": 4,
    "start_time": "2021-11-14T10:19:57.867Z"
   },
   {
    "duration": 114,
    "start_time": "2021-11-14T10:19:57.877Z"
   },
   {
    "duration": 19,
    "start_time": "2021-11-14T10:19:57.993Z"
   },
   {
    "duration": 32,
    "start_time": "2021-11-14T10:19:58.015Z"
   },
   {
    "duration": 87,
    "start_time": "2021-11-14T10:19:58.050Z"
   },
   {
    "duration": 8,
    "start_time": "2021-11-14T10:19:58.140Z"
   },
   {
    "duration": 6,
    "start_time": "2021-11-14T10:19:58.151Z"
   },
   {
    "duration": 19,
    "start_time": "2021-11-14T10:19:58.159Z"
   },
   {
    "duration": 62,
    "start_time": "2021-11-14T10:19:58.181Z"
   },
   {
    "duration": 5,
    "start_time": "2021-11-14T10:19:58.246Z"
   },
   {
    "duration": 25,
    "start_time": "2021-11-14T10:19:58.253Z"
   },
   {
    "duration": 9,
    "start_time": "2021-11-14T10:19:58.280Z"
   },
   {
    "duration": 74,
    "start_time": "2021-11-14T10:19:58.291Z"
   },
   {
    "duration": 6,
    "start_time": "2021-11-14T10:19:58.367Z"
   },
   {
    "duration": 64,
    "start_time": "2021-11-14T10:19:58.376Z"
   },
   {
    "duration": 6,
    "start_time": "2021-11-14T10:19:58.443Z"
   },
   {
    "duration": 21,
    "start_time": "2021-11-14T10:19:58.451Z"
   },
   {
    "duration": 75,
    "start_time": "2021-11-14T10:19:58.475Z"
   },
   {
    "duration": 7,
    "start_time": "2021-11-14T10:19:58.553Z"
   },
   {
    "duration": 13,
    "start_time": "2021-11-14T10:19:58.562Z"
   },
   {
    "duration": 45,
    "start_time": "2021-11-14T10:19:58.578Z"
   },
   {
    "duration": 865,
    "start_time": "2021-11-14T10:20:36.648Z"
   },
   {
    "duration": 118,
    "start_time": "2021-11-14T10:20:37.515Z"
   },
   {
    "duration": 19,
    "start_time": "2021-11-14T10:20:37.640Z"
   },
   {
    "duration": 29,
    "start_time": "2021-11-14T10:20:37.662Z"
   },
   {
    "duration": 111,
    "start_time": "2021-11-14T10:20:37.693Z"
   },
   {
    "duration": 12,
    "start_time": "2021-11-14T10:20:37.824Z"
   },
   {
    "duration": 7,
    "start_time": "2021-11-14T10:20:37.842Z"
   },
   {
    "duration": 34,
    "start_time": "2021-11-14T10:20:37.854Z"
   },
   {
    "duration": 38,
    "start_time": "2021-11-14T10:20:37.924Z"
   },
   {
    "duration": 11,
    "start_time": "2021-11-14T10:20:37.966Z"
   },
   {
    "duration": 55,
    "start_time": "2021-11-14T10:20:37.980Z"
   },
   {
    "duration": 9,
    "start_time": "2021-11-14T10:20:38.037Z"
   },
   {
    "duration": 57,
    "start_time": "2021-11-14T10:20:38.048Z"
   },
   {
    "duration": 6,
    "start_time": "2021-11-14T10:20:38.123Z"
   },
   {
    "duration": 36,
    "start_time": "2021-11-14T10:20:38.132Z"
   },
   {
    "duration": 5,
    "start_time": "2021-11-14T10:20:38.170Z"
   },
   {
    "duration": 17,
    "start_time": "2021-11-14T10:20:38.178Z"
   },
   {
    "duration": 63,
    "start_time": "2021-11-14T10:20:38.198Z"
   },
   {
    "duration": 7,
    "start_time": "2021-11-14T10:20:38.264Z"
   },
   {
    "duration": 10,
    "start_time": "2021-11-14T10:20:38.274Z"
   },
   {
    "duration": 48,
    "start_time": "2021-11-14T10:20:38.286Z"
   },
   {
    "duration": 23,
    "start_time": "2021-11-14T10:20:38.340Z"
   },
   {
    "duration": 8,
    "start_time": "2021-11-14T10:20:38.366Z"
   },
   {
    "duration": 2074,
    "start_time": "2021-11-14T10:20:38.377Z"
   },
   {
    "duration": 7,
    "start_time": "2021-11-14T10:20:40.453Z"
   },
   {
    "duration": 15,
    "start_time": "2021-11-14T10:20:40.462Z"
   },
   {
    "duration": 326,
    "start_time": "2021-11-14T10:20:40.479Z"
   },
   {
    "duration": 39,
    "start_time": "2021-11-14T10:20:40.808Z"
   },
   {
    "duration": 7,
    "start_time": "2021-11-14T10:20:40.850Z"
   },
   {
    "duration": 14,
    "start_time": "2021-11-14T10:20:40.859Z"
   },
   {
    "duration": 65,
    "start_time": "2021-11-14T10:20:40.875Z"
   },
   {
    "duration": 10,
    "start_time": "2021-11-14T10:20:40.943Z"
   },
   {
    "duration": 25,
    "start_time": "2021-11-14T10:20:40.956Z"
   },
   {
    "duration": 7,
    "start_time": "2021-11-14T10:20:40.987Z"
   },
   {
    "duration": 447,
    "start_time": "2021-11-14T10:20:41.024Z"
   },
   {
    "duration": 1005,
    "start_time": "2021-11-14T10:20:41.474Z"
   },
   {
    "duration": 46,
    "start_time": "2021-11-14T10:20:42.482Z"
   },
   {
    "duration": 1007,
    "start_time": "2021-11-14T10:20:42.531Z"
   },
   {
    "duration": 612,
    "start_time": "2021-11-14T10:20:43.541Z"
   },
   {
    "duration": 41,
    "start_time": "2021-11-14T10:20:44.156Z"
   },
   {
    "duration": 1072,
    "start_time": "2021-11-14T10:20:44.223Z"
   },
   {
    "duration": 359,
    "start_time": "2021-11-14T10:20:45.298Z"
   },
   {
    "duration": 422,
    "start_time": "2021-11-14T10:20:45.660Z"
   },
   {
    "duration": 22,
    "start_time": "2021-11-14T10:20:46.084Z"
   },
   {
    "duration": 610,
    "start_time": "2021-11-14T10:20:46.108Z"
   },
   {
    "duration": 2333,
    "start_time": "2021-11-14T10:20:46.720Z"
   },
   {
    "duration": 414,
    "start_time": "2021-11-14T10:20:49.056Z"
   },
   {
    "duration": 8,
    "start_time": "2021-11-14T10:20:49.473Z"
   },
   {
    "duration": 350,
    "start_time": "2021-11-14T10:20:49.484Z"
   },
   {
    "duration": 11,
    "start_time": "2021-11-14T10:20:49.837Z"
   },
   {
    "duration": 842,
    "start_time": "2021-11-14T10:30:16.661Z"
   },
   {
    "duration": 117,
    "start_time": "2021-11-14T10:30:17.506Z"
   },
   {
    "duration": 20,
    "start_time": "2021-11-14T10:30:17.630Z"
   },
   {
    "duration": 32,
    "start_time": "2021-11-14T10:30:17.652Z"
   },
   {
    "duration": 103,
    "start_time": "2021-11-14T10:30:17.686Z"
   },
   {
    "duration": 32,
    "start_time": "2021-11-14T10:30:17.791Z"
   },
   {
    "duration": 9,
    "start_time": "2021-11-14T10:30:17.827Z"
   },
   {
    "duration": 43,
    "start_time": "2021-11-14T10:30:17.839Z"
   },
   {
    "duration": 46,
    "start_time": "2021-11-14T10:30:17.886Z"
   },
   {
    "duration": 19,
    "start_time": "2021-11-14T10:30:17.934Z"
   },
   {
    "duration": 34,
    "start_time": "2021-11-14T10:30:17.955Z"
   },
   {
    "duration": 15,
    "start_time": "2021-11-14T10:30:17.992Z"
   },
   {
    "duration": 52,
    "start_time": "2021-11-14T10:30:18.010Z"
   },
   {
    "duration": 6,
    "start_time": "2021-11-14T10:30:18.064Z"
   },
   {
    "duration": 60,
    "start_time": "2021-11-14T10:30:18.072Z"
   },
   {
    "duration": 5,
    "start_time": "2021-11-14T10:30:18.134Z"
   },
   {
    "duration": 17,
    "start_time": "2021-11-14T10:30:18.141Z"
   },
   {
    "duration": 62,
    "start_time": "2021-11-14T10:30:18.160Z"
   },
   {
    "duration": 5,
    "start_time": "2021-11-14T10:30:18.225Z"
   },
   {
    "duration": 8,
    "start_time": "2021-11-14T10:30:18.233Z"
   },
   {
    "duration": 14,
    "start_time": "2021-11-14T10:30:18.243Z"
   },
   {
    "duration": 66,
    "start_time": "2021-11-14T10:30:18.262Z"
   },
   {
    "duration": 7,
    "start_time": "2021-11-14T10:30:18.331Z"
   },
   {
    "duration": 1906,
    "start_time": "2021-11-14T10:30:18.340Z"
   },
   {
    "duration": 8,
    "start_time": "2021-11-14T10:30:20.249Z"
   },
   {
    "duration": 17,
    "start_time": "2021-11-14T10:30:20.260Z"
   },
   {
    "duration": 322,
    "start_time": "2021-11-14T10:30:20.280Z"
   },
   {
    "duration": 40,
    "start_time": "2021-11-14T10:30:20.604Z"
   },
   {
    "duration": 11,
    "start_time": "2021-11-14T10:30:20.646Z"
   },
   {
    "duration": 18,
    "start_time": "2021-11-14T10:30:20.660Z"
   },
   {
    "duration": 59,
    "start_time": "2021-11-14T10:30:20.681Z"
   },
   {
    "duration": 8,
    "start_time": "2021-11-14T10:30:20.743Z"
   },
   {
    "duration": 20,
    "start_time": "2021-11-14T10:30:20.753Z"
   },
   {
    "duration": 11,
    "start_time": "2021-11-14T10:30:20.775Z"
   },
   {
    "duration": 528,
    "start_time": "2021-11-14T10:30:20.788Z"
   },
   {
    "duration": 1024,
    "start_time": "2021-11-14T10:30:21.319Z"
   },
   {
    "duration": 37,
    "start_time": "2021-11-14T10:30:22.346Z"
   },
   {
    "duration": 756,
    "start_time": "2021-11-14T10:30:22.386Z"
   },
   {
    "duration": 615,
    "start_time": "2021-11-14T10:30:23.145Z"
   },
   {
    "duration": 60,
    "start_time": "2021-11-14T10:30:23.763Z"
   },
   {
    "duration": 1067,
    "start_time": "2021-11-14T10:30:23.826Z"
   },
   {
    "duration": 531,
    "start_time": "2021-11-14T10:30:24.896Z"
   },
   {
    "duration": 529,
    "start_time": "2021-11-14T10:30:25.431Z"
   },
   {
    "duration": 21,
    "start_time": "2021-11-14T10:30:25.963Z"
   },
   {
    "duration": 641,
    "start_time": "2021-11-14T10:30:25.988Z"
   },
   {
    "duration": 2664,
    "start_time": "2021-11-14T10:30:26.631Z"
   },
   {
    "duration": 420,
    "start_time": "2021-11-14T10:30:29.297Z"
   },
   {
    "duration": 6,
    "start_time": "2021-11-14T10:30:29.723Z"
   },
   {
    "duration": 357,
    "start_time": "2021-11-14T10:30:29.732Z"
   },
   {
    "duration": 13,
    "start_time": "2021-11-14T10:30:30.091Z"
   }
  ],
  "colab": {
   "name": "DA+. Сборный проект 1. Шаблон (1).ipynb",
   "provenance": []
  },
  "kernelspec": {
   "display_name": "Python 3",
   "language": "python",
   "name": "python3"
  },
  "language_info": {
   "codemirror_mode": {
    "name": "ipython",
    "version": 3
   },
   "file_extension": ".py",
   "mimetype": "text/x-python",
   "name": "python",
   "nbconvert_exporter": "python",
   "pygments_lexer": "ipython3",
   "version": "3.8.8"
  },
  "toc": {
   "base_numbering": 1,
   "nav_menu": {},
   "number_sections": true,
   "sideBar": true,
   "skip_h1_title": true,
   "title_cell": "Table of Contents",
   "title_sidebar": "Contents",
   "toc_cell": false,
   "toc_position": {
    "height": "calc(100% - 180px)",
    "left": "10px",
    "top": "150px",
    "width": "375.388px"
   },
   "toc_section_display": true,
   "toc_window_display": true
  }
 },
 "nbformat": 4,
 "nbformat_minor": 1
}
