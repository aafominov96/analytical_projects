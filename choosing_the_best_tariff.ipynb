{
 "cells": [
  {
   "cell_type": "markdown",
   "metadata": {},
   "source": [
    "# Определение перспективного тарифа для телеком-компании"
   ]
  },
  {
   "cell_type": "markdown",
   "metadata": {},
   "source": [
    "Вы аналитик компании «Мегалайн» — федерального оператора сотовой связи. Клиентам предлагают два тарифных плана: «Смарт» и «Ультра». Чтобы скорректировать рекламный бюджет, коммерческий департамент хочет понять, какой тариф приносит больше денег.\n",
    "\n",
    "Вам предстоит сделать предварительный анализ тарифов на небольшой выборке клиентов. В вашем распоряжении данные 500 пользователей «Мегалайна»: кто они, откуда, каким тарифом пользуются, сколько звонков и сообщений каждый отправил за 2018 год. Нужно проанализировать поведение клиентов и сделать вывод — какой тариф лучше."
   ]
  },
  {
   "cell_type": "markdown",
   "metadata": {},
   "source": [
    "## Описание тарифов"
   ]
  },
  {
   "cell_type": "markdown",
   "metadata": {},
   "source": [
    "**Тариф «Смарт»**\n",
    "1. Ежемесячная плата: 550 рублей\n",
    "2. Включено 500 минут разговора, 50 сообщений и 15 Гб интернет-трафика\n",
    "3. Стоимость услуг сверх тарифного пакета:\n",
    "    * минута разговора: 3 рубля\n",
    "    * сообщение: 3 рубля\n",
    "    * 1 Гб интернет-трафика: 200 рублей\n",
    "**Тариф «Ультра»**\n",
    "1. Ежемесячная плата: 1950 рублей\n",
    "2. Включено 3000 минут разговора, 1000 сообщений и 30 Гб интернет-трафика\n",
    "3. Стоимость услуг сверх тарифного пакета:\n",
    "    * минута разговора: 1 рубль\n",
    "    * сообщение: 1 рубль\n",
    "    * 1 Гб интернет-трафика: 150 рублей\n",
    "    \n",
    "*Примечание:\n",
    "«Мегалайн» всегда округляет секунды до минут, а мегабайты — до гигабайт. Каждый звонок округляется отдельно: даже если он длился всего 1 секунду, будет засчитан как 1 минута.\n",
    "Для веб-трафика отдельные сессии не считаются. Вместо этого общая сумма за месяц округляется в бо́льшую сторону. Если абонент использует 1025 мегабайт в этом месяце, с него возьмут плату за 2 гигабайта. Примите, что неиспользованные за предыдущий месяц звонки, смс, интернет на следующий месяц не переносятся.*"
   ]
  },
  {
   "cell_type": "code",
   "execution_count": 1,
   "metadata": {},
   "outputs": [],
   "source": [
    "import pandas as pd\n",
    "from math import ceil\n",
    "import datetime\n",
    "import matplotlib.pyplot as plt\n",
    "import numpy as np\n",
    "from scipy import stats as st"
   ]
  },
  {
   "cell_type": "code",
   "execution_count": 2,
   "metadata": {},
   "outputs": [],
   "source": [
    "calls = pd.read_csv('/datasets/calls.csv')\n",
    "internet = pd.read_csv('/datasets/internet.csv')\n",
    "messages = pd.read_csv('/datasets/messages.csv')\n",
    "tariffs = pd.read_csv('/datasets/tariffs.csv')\n",
    "users = pd.read_csv('/datasets/users.csv')"
   ]
  },
  {
   "cell_type": "markdown",
   "metadata": {},
   "source": [
    "## Обзор и предобработка данных"
   ]
  },
  {
   "cell_type": "markdown",
   "metadata": {},
   "source": [
    "### Набор данных о звонках"
   ]
  },
  {
   "cell_type": "markdown",
   "metadata": {},
   "source": [
    "Общая информация о наборе данных:"
   ]
  },
  {
   "cell_type": "code",
   "execution_count": 3,
   "metadata": {},
   "outputs": [
    {
     "data": {
      "text/html": [
       "<div>\n",
       "<style scoped>\n",
       "    .dataframe tbody tr th:only-of-type {\n",
       "        vertical-align: middle;\n",
       "    }\n",
       "\n",
       "    .dataframe tbody tr th {\n",
       "        vertical-align: top;\n",
       "    }\n",
       "\n",
       "    .dataframe thead th {\n",
       "        text-align: right;\n",
       "    }\n",
       "</style>\n",
       "<table border=\"1\" class=\"dataframe\">\n",
       "  <thead>\n",
       "    <tr style=\"text-align: right;\">\n",
       "      <th></th>\n",
       "      <th>id</th>\n",
       "      <th>call_date</th>\n",
       "      <th>duration</th>\n",
       "      <th>user_id</th>\n",
       "    </tr>\n",
       "  </thead>\n",
       "  <tbody>\n",
       "    <tr>\n",
       "      <th>0</th>\n",
       "      <td>1000_0</td>\n",
       "      <td>2018-07-25</td>\n",
       "      <td>0.00</td>\n",
       "      <td>1000</td>\n",
       "    </tr>\n",
       "    <tr>\n",
       "      <th>1</th>\n",
       "      <td>1000_1</td>\n",
       "      <td>2018-08-17</td>\n",
       "      <td>0.00</td>\n",
       "      <td>1000</td>\n",
       "    </tr>\n",
       "    <tr>\n",
       "      <th>2</th>\n",
       "      <td>1000_2</td>\n",
       "      <td>2018-06-11</td>\n",
       "      <td>2.85</td>\n",
       "      <td>1000</td>\n",
       "    </tr>\n",
       "    <tr>\n",
       "      <th>3</th>\n",
       "      <td>1000_3</td>\n",
       "      <td>2018-09-21</td>\n",
       "      <td>13.80</td>\n",
       "      <td>1000</td>\n",
       "    </tr>\n",
       "    <tr>\n",
       "      <th>4</th>\n",
       "      <td>1000_4</td>\n",
       "      <td>2018-12-15</td>\n",
       "      <td>5.18</td>\n",
       "      <td>1000</td>\n",
       "    </tr>\n",
       "  </tbody>\n",
       "</table>\n",
       "</div>"
      ],
      "text/plain": [
       "       id   call_date  duration  user_id\n",
       "0  1000_0  2018-07-25      0.00     1000\n",
       "1  1000_1  2018-08-17      0.00     1000\n",
       "2  1000_2  2018-06-11      2.85     1000\n",
       "3  1000_3  2018-09-21     13.80     1000\n",
       "4  1000_4  2018-12-15      5.18     1000"
      ]
     },
     "metadata": {},
     "output_type": "display_data"
    },
    {
     "name": "stdout",
     "output_type": "stream",
     "text": [
      "<class 'pandas.core.frame.DataFrame'>\n",
      "RangeIndex: 202607 entries, 0 to 202606\n",
      "Data columns (total 4 columns):\n",
      " #   Column     Non-Null Count   Dtype  \n",
      "---  ------     --------------   -----  \n",
      " 0   id         202607 non-null  object \n",
      " 1   call_date  202607 non-null  object \n",
      " 2   duration   202607 non-null  float64\n",
      " 3   user_id    202607 non-null  int64  \n",
      "dtypes: float64(1), int64(1), object(2)\n",
      "memory usage: 6.2+ MB\n"
     ]
    },
    {
     "data": {
      "text/html": [
       "<div>\n",
       "<style scoped>\n",
       "    .dataframe tbody tr th:only-of-type {\n",
       "        vertical-align: middle;\n",
       "    }\n",
       "\n",
       "    .dataframe tbody tr th {\n",
       "        vertical-align: top;\n",
       "    }\n",
       "\n",
       "    .dataframe thead th {\n",
       "        text-align: right;\n",
       "    }\n",
       "</style>\n",
       "<table border=\"1\" class=\"dataframe\">\n",
       "  <thead>\n",
       "    <tr style=\"text-align: right;\">\n",
       "      <th></th>\n",
       "      <th>duration</th>\n",
       "      <th>user_id</th>\n",
       "    </tr>\n",
       "  </thead>\n",
       "  <tbody>\n",
       "    <tr>\n",
       "      <th>count</th>\n",
       "      <td>202607.000000</td>\n",
       "      <td>202607.000000</td>\n",
       "    </tr>\n",
       "    <tr>\n",
       "      <th>mean</th>\n",
       "      <td>6.755887</td>\n",
       "      <td>1253.940619</td>\n",
       "    </tr>\n",
       "    <tr>\n",
       "      <th>std</th>\n",
       "      <td>5.843365</td>\n",
       "      <td>144.722751</td>\n",
       "    </tr>\n",
       "    <tr>\n",
       "      <th>min</th>\n",
       "      <td>0.000000</td>\n",
       "      <td>1000.000000</td>\n",
       "    </tr>\n",
       "    <tr>\n",
       "      <th>25%</th>\n",
       "      <td>1.300000</td>\n",
       "      <td>1126.000000</td>\n",
       "    </tr>\n",
       "    <tr>\n",
       "      <th>50%</th>\n",
       "      <td>6.000000</td>\n",
       "      <td>1260.000000</td>\n",
       "    </tr>\n",
       "    <tr>\n",
       "      <th>75%</th>\n",
       "      <td>10.700000</td>\n",
       "      <td>1379.000000</td>\n",
       "    </tr>\n",
       "    <tr>\n",
       "      <th>max</th>\n",
       "      <td>38.000000</td>\n",
       "      <td>1499.000000</td>\n",
       "    </tr>\n",
       "  </tbody>\n",
       "</table>\n",
       "</div>"
      ],
      "text/plain": [
       "            duration        user_id\n",
       "count  202607.000000  202607.000000\n",
       "mean        6.755887    1253.940619\n",
       "std         5.843365     144.722751\n",
       "min         0.000000    1000.000000\n",
       "25%         1.300000    1126.000000\n",
       "50%         6.000000    1260.000000\n",
       "75%        10.700000    1379.000000\n",
       "max        38.000000    1499.000000"
      ]
     },
     "execution_count": 3,
     "metadata": {},
     "output_type": "execute_result"
    }
   ],
   "source": [
    "display(calls.head())\n",
    "calls.info()\n",
    "calls.describe()"
   ]
  },
  {
   "cell_type": "markdown",
   "metadata": {},
   "source": [
    "Необходимые правки:\n",
    "1. Приведение поля call_date к типу данных `datetime`.\n",
    "2. Округление продолжительности звонков в соответствие с тарифной сеткой оператора.\n",
    "3. Присутствует незначимый в рамках проекта атрибут id. В рамках проекта данный атрибут здесь и далее будет исключаться из рассмотрения. \n",
    "\n",
    "Примечение об атрибуте id:\n",
    "\n",
    "*В целом, если это так называемый суррогатный ключ таблицы, то оптимально было бы привести его к типу `integer`, так как текстовые поля тяжелее в обработке. Дополнительно стоит обратить внимание, что сама структура данного id довольно неоднозначная, так как атрибут выглядит вполне пригодным для, например, джоина на какую-либо другую таблицу из представленных в проекте, что на самом деле является в корне неверным действием, т.к., например, первое сообщение первого пользователя (id = 1000_1 совершенно не пересекается по смыслу с первым звонком (хотя id также равен 1000_1). То есть при сохранении типа данных id целесообразнее было бы отразить дополнительно принадлежность к виду коммуникации (например, 1000_1_1 для звонков, 1000_2_1 для смс и так далее)*"
   ]
  },
  {
   "cell_type": "code",
   "execution_count": 4,
   "metadata": {},
   "outputs": [],
   "source": [
    "calls['call_date'] = pd.to_datetime(calls['call_date'])\n",
    "calls['duration'] = np.ceil(calls['duration'])\n",
    "calls.drop(columns=['id'], inplace=True)"
   ]
  },
  {
   "cell_type": "code",
   "execution_count": 5,
   "metadata": {},
   "outputs": [
    {
     "data": {
      "text/html": [
       "<div>\n",
       "<style scoped>\n",
       "    .dataframe tbody tr th:only-of-type {\n",
       "        vertical-align: middle;\n",
       "    }\n",
       "\n",
       "    .dataframe tbody tr th {\n",
       "        vertical-align: top;\n",
       "    }\n",
       "\n",
       "    .dataframe thead th {\n",
       "        text-align: right;\n",
       "    }\n",
       "</style>\n",
       "<table border=\"1\" class=\"dataframe\">\n",
       "  <thead>\n",
       "    <tr style=\"text-align: right;\">\n",
       "      <th></th>\n",
       "      <th>call_date</th>\n",
       "      <th>duration</th>\n",
       "      <th>user_id</th>\n",
       "    </tr>\n",
       "  </thead>\n",
       "  <tbody>\n",
       "    <tr>\n",
       "      <th>0</th>\n",
       "      <td>2018-07-25</td>\n",
       "      <td>0.0</td>\n",
       "      <td>1000</td>\n",
       "    </tr>\n",
       "    <tr>\n",
       "      <th>1</th>\n",
       "      <td>2018-08-17</td>\n",
       "      <td>0.0</td>\n",
       "      <td>1000</td>\n",
       "    </tr>\n",
       "    <tr>\n",
       "      <th>2</th>\n",
       "      <td>2018-06-11</td>\n",
       "      <td>3.0</td>\n",
       "      <td>1000</td>\n",
       "    </tr>\n",
       "    <tr>\n",
       "      <th>3</th>\n",
       "      <td>2018-09-21</td>\n",
       "      <td>14.0</td>\n",
       "      <td>1000</td>\n",
       "    </tr>\n",
       "    <tr>\n",
       "      <th>4</th>\n",
       "      <td>2018-12-15</td>\n",
       "      <td>6.0</td>\n",
       "      <td>1000</td>\n",
       "    </tr>\n",
       "  </tbody>\n",
       "</table>\n",
       "</div>"
      ],
      "text/plain": [
       "   call_date  duration  user_id\n",
       "0 2018-07-25       0.0     1000\n",
       "1 2018-08-17       0.0     1000\n",
       "2 2018-06-11       3.0     1000\n",
       "3 2018-09-21      14.0     1000\n",
       "4 2018-12-15       6.0     1000"
      ]
     },
     "metadata": {},
     "output_type": "display_data"
    },
    {
     "name": "stdout",
     "output_type": "stream",
     "text": [
      "<class 'pandas.core.frame.DataFrame'>\n",
      "RangeIndex: 202607 entries, 0 to 202606\n",
      "Data columns (total 3 columns):\n",
      " #   Column     Non-Null Count   Dtype         \n",
      "---  ------     --------------   -----         \n",
      " 0   call_date  202607 non-null  datetime64[ns]\n",
      " 1   duration   202607 non-null  float64       \n",
      " 2   user_id    202607 non-null  int64         \n",
      "dtypes: datetime64[ns](1), float64(1), int64(1)\n",
      "memory usage: 4.6 MB\n"
     ]
    }
   ],
   "source": [
    "display(calls.head())\n",
    "calls.info()"
   ]
  },
  {
   "cell_type": "markdown",
   "metadata": {},
   "source": [
    "**Вывод**: набор данных о звонках приведен к виду, достаточному для дальнейшей обработки и анализа."
   ]
  },
  {
   "cell_type": "markdown",
   "metadata": {},
   "source": [
    "### Набор данных об интернет-трафике"
   ]
  },
  {
   "cell_type": "markdown",
   "metadata": {},
   "source": [
    "Общая информация о наборе данных:"
   ]
  },
  {
   "cell_type": "code",
   "execution_count": 6,
   "metadata": {},
   "outputs": [
    {
     "data": {
      "text/html": [
       "<div>\n",
       "<style scoped>\n",
       "    .dataframe tbody tr th:only-of-type {\n",
       "        vertical-align: middle;\n",
       "    }\n",
       "\n",
       "    .dataframe tbody tr th {\n",
       "        vertical-align: top;\n",
       "    }\n",
       "\n",
       "    .dataframe thead th {\n",
       "        text-align: right;\n",
       "    }\n",
       "</style>\n",
       "<table border=\"1\" class=\"dataframe\">\n",
       "  <thead>\n",
       "    <tr style=\"text-align: right;\">\n",
       "      <th></th>\n",
       "      <th>Unnamed: 0</th>\n",
       "      <th>id</th>\n",
       "      <th>mb_used</th>\n",
       "      <th>session_date</th>\n",
       "      <th>user_id</th>\n",
       "    </tr>\n",
       "  </thead>\n",
       "  <tbody>\n",
       "    <tr>\n",
       "      <th>0</th>\n",
       "      <td>0</td>\n",
       "      <td>1000_0</td>\n",
       "      <td>112.95</td>\n",
       "      <td>2018-11-25</td>\n",
       "      <td>1000</td>\n",
       "    </tr>\n",
       "    <tr>\n",
       "      <th>1</th>\n",
       "      <td>1</td>\n",
       "      <td>1000_1</td>\n",
       "      <td>1052.81</td>\n",
       "      <td>2018-09-07</td>\n",
       "      <td>1000</td>\n",
       "    </tr>\n",
       "    <tr>\n",
       "      <th>2</th>\n",
       "      <td>2</td>\n",
       "      <td>1000_2</td>\n",
       "      <td>1197.26</td>\n",
       "      <td>2018-06-25</td>\n",
       "      <td>1000</td>\n",
       "    </tr>\n",
       "    <tr>\n",
       "      <th>3</th>\n",
       "      <td>3</td>\n",
       "      <td>1000_3</td>\n",
       "      <td>550.27</td>\n",
       "      <td>2018-08-22</td>\n",
       "      <td>1000</td>\n",
       "    </tr>\n",
       "    <tr>\n",
       "      <th>4</th>\n",
       "      <td>4</td>\n",
       "      <td>1000_4</td>\n",
       "      <td>302.56</td>\n",
       "      <td>2018-09-24</td>\n",
       "      <td>1000</td>\n",
       "    </tr>\n",
       "  </tbody>\n",
       "</table>\n",
       "</div>"
      ],
      "text/plain": [
       "   Unnamed: 0      id  mb_used session_date  user_id\n",
       "0           0  1000_0   112.95   2018-11-25     1000\n",
       "1           1  1000_1  1052.81   2018-09-07     1000\n",
       "2           2  1000_2  1197.26   2018-06-25     1000\n",
       "3           3  1000_3   550.27   2018-08-22     1000\n",
       "4           4  1000_4   302.56   2018-09-24     1000"
      ]
     },
     "metadata": {},
     "output_type": "display_data"
    },
    {
     "name": "stdout",
     "output_type": "stream",
     "text": [
      "<class 'pandas.core.frame.DataFrame'>\n",
      "RangeIndex: 149396 entries, 0 to 149395\n",
      "Data columns (total 5 columns):\n",
      " #   Column        Non-Null Count   Dtype  \n",
      "---  ------        --------------   -----  \n",
      " 0   Unnamed: 0    149396 non-null  int64  \n",
      " 1   id            149396 non-null  object \n",
      " 2   mb_used       149396 non-null  float64\n",
      " 3   session_date  149396 non-null  object \n",
      " 4   user_id       149396 non-null  int64  \n",
      "dtypes: float64(1), int64(2), object(2)\n",
      "memory usage: 5.7+ MB\n"
     ]
    },
    {
     "data": {
      "text/html": [
       "<div>\n",
       "<style scoped>\n",
       "    .dataframe tbody tr th:only-of-type {\n",
       "        vertical-align: middle;\n",
       "    }\n",
       "\n",
       "    .dataframe tbody tr th {\n",
       "        vertical-align: top;\n",
       "    }\n",
       "\n",
       "    .dataframe thead th {\n",
       "        text-align: right;\n",
       "    }\n",
       "</style>\n",
       "<table border=\"1\" class=\"dataframe\">\n",
       "  <thead>\n",
       "    <tr style=\"text-align: right;\">\n",
       "      <th></th>\n",
       "      <th>Unnamed: 0</th>\n",
       "      <th>mb_used</th>\n",
       "      <th>user_id</th>\n",
       "    </tr>\n",
       "  </thead>\n",
       "  <tbody>\n",
       "    <tr>\n",
       "      <th>count</th>\n",
       "      <td>149396.000000</td>\n",
       "      <td>149396.000000</td>\n",
       "      <td>149396.000000</td>\n",
       "    </tr>\n",
       "    <tr>\n",
       "      <th>mean</th>\n",
       "      <td>74697.500000</td>\n",
       "      <td>370.192426</td>\n",
       "      <td>1252.099842</td>\n",
       "    </tr>\n",
       "    <tr>\n",
       "      <th>std</th>\n",
       "      <td>43127.054745</td>\n",
       "      <td>278.300951</td>\n",
       "      <td>144.050823</td>\n",
       "    </tr>\n",
       "    <tr>\n",
       "      <th>min</th>\n",
       "      <td>0.000000</td>\n",
       "      <td>0.000000</td>\n",
       "      <td>1000.000000</td>\n",
       "    </tr>\n",
       "    <tr>\n",
       "      <th>25%</th>\n",
       "      <td>37348.750000</td>\n",
       "      <td>138.187500</td>\n",
       "      <td>1130.000000</td>\n",
       "    </tr>\n",
       "    <tr>\n",
       "      <th>50%</th>\n",
       "      <td>74697.500000</td>\n",
       "      <td>348.015000</td>\n",
       "      <td>1251.000000</td>\n",
       "    </tr>\n",
       "    <tr>\n",
       "      <th>75%</th>\n",
       "      <td>112046.250000</td>\n",
       "      <td>559.552500</td>\n",
       "      <td>1380.000000</td>\n",
       "    </tr>\n",
       "    <tr>\n",
       "      <th>max</th>\n",
       "      <td>149395.000000</td>\n",
       "      <td>1724.830000</td>\n",
       "      <td>1499.000000</td>\n",
       "    </tr>\n",
       "  </tbody>\n",
       "</table>\n",
       "</div>"
      ],
      "text/plain": [
       "          Unnamed: 0        mb_used        user_id\n",
       "count  149396.000000  149396.000000  149396.000000\n",
       "mean    74697.500000     370.192426    1252.099842\n",
       "std     43127.054745     278.300951     144.050823\n",
       "min         0.000000       0.000000    1000.000000\n",
       "25%     37348.750000     138.187500    1130.000000\n",
       "50%     74697.500000     348.015000    1251.000000\n",
       "75%    112046.250000     559.552500    1380.000000\n",
       "max    149395.000000    1724.830000    1499.000000"
      ]
     },
     "execution_count": 6,
     "metadata": {},
     "output_type": "execute_result"
    }
   ],
   "source": [
    "display(internet.head())\n",
    "internet.info()\n",
    "internet.describe()"
   ]
  },
  {
   "cell_type": "markdown",
   "metadata": {},
   "source": [
    "Необходимые правки:\n",
    "1. Приведение поля session_date к типу данных `datetime`.\n",
    "2. На данном этапе будет корректно переопределить расчёт трафика в мегабайтах на гигабайты (без округления).\n",
    "3. Присутствует безымянное поле, которое по своей сути является обычным индексом, а также незначимый атрибут id. Их нужно удалить."
   ]
  },
  {
   "cell_type": "code",
   "execution_count": 7,
   "metadata": {},
   "outputs": [],
   "source": [
    "internet['session_date'] = pd.to_datetime(internet['session_date'])\n",
    "internet['gb_used'] = internet['mb_used'] / 1024.0\n",
    "#internet.rename(columns={'mb_used':'gb_used'}, inplace=True)\n",
    "internet.drop(columns=['Unnamed: 0', 'id'], inplace=True)"
   ]
  },
  {
   "cell_type": "code",
   "execution_count": 8,
   "metadata": {},
   "outputs": [
    {
     "data": {
      "text/html": [
       "<div>\n",
       "<style scoped>\n",
       "    .dataframe tbody tr th:only-of-type {\n",
       "        vertical-align: middle;\n",
       "    }\n",
       "\n",
       "    .dataframe tbody tr th {\n",
       "        vertical-align: top;\n",
       "    }\n",
       "\n",
       "    .dataframe thead th {\n",
       "        text-align: right;\n",
       "    }\n",
       "</style>\n",
       "<table border=\"1\" class=\"dataframe\">\n",
       "  <thead>\n",
       "    <tr style=\"text-align: right;\">\n",
       "      <th></th>\n",
       "      <th>mb_used</th>\n",
       "      <th>session_date</th>\n",
       "      <th>user_id</th>\n",
       "      <th>gb_used</th>\n",
       "    </tr>\n",
       "  </thead>\n",
       "  <tbody>\n",
       "    <tr>\n",
       "      <th>0</th>\n",
       "      <td>112.95</td>\n",
       "      <td>2018-11-25</td>\n",
       "      <td>1000</td>\n",
       "      <td>0.110303</td>\n",
       "    </tr>\n",
       "    <tr>\n",
       "      <th>1</th>\n",
       "      <td>1052.81</td>\n",
       "      <td>2018-09-07</td>\n",
       "      <td>1000</td>\n",
       "      <td>1.028135</td>\n",
       "    </tr>\n",
       "    <tr>\n",
       "      <th>2</th>\n",
       "      <td>1197.26</td>\n",
       "      <td>2018-06-25</td>\n",
       "      <td>1000</td>\n",
       "      <td>1.169199</td>\n",
       "    </tr>\n",
       "    <tr>\n",
       "      <th>3</th>\n",
       "      <td>550.27</td>\n",
       "      <td>2018-08-22</td>\n",
       "      <td>1000</td>\n",
       "      <td>0.537373</td>\n",
       "    </tr>\n",
       "    <tr>\n",
       "      <th>4</th>\n",
       "      <td>302.56</td>\n",
       "      <td>2018-09-24</td>\n",
       "      <td>1000</td>\n",
       "      <td>0.295469</td>\n",
       "    </tr>\n",
       "  </tbody>\n",
       "</table>\n",
       "</div>"
      ],
      "text/plain": [
       "   mb_used session_date  user_id   gb_used\n",
       "0   112.95   2018-11-25     1000  0.110303\n",
       "1  1052.81   2018-09-07     1000  1.028135\n",
       "2  1197.26   2018-06-25     1000  1.169199\n",
       "3   550.27   2018-08-22     1000  0.537373\n",
       "4   302.56   2018-09-24     1000  0.295469"
      ]
     },
     "metadata": {},
     "output_type": "display_data"
    },
    {
     "name": "stdout",
     "output_type": "stream",
     "text": [
      "<class 'pandas.core.frame.DataFrame'>\n",
      "RangeIndex: 149396 entries, 0 to 149395\n",
      "Data columns (total 4 columns):\n",
      " #   Column        Non-Null Count   Dtype         \n",
      "---  ------        --------------   -----         \n",
      " 0   mb_used       149396 non-null  float64       \n",
      " 1   session_date  149396 non-null  datetime64[ns]\n",
      " 2   user_id       149396 non-null  int64         \n",
      " 3   gb_used       149396 non-null  float64       \n",
      "dtypes: datetime64[ns](1), float64(2), int64(1)\n",
      "memory usage: 4.6 MB\n"
     ]
    }
   ],
   "source": [
    "display(internet.head())\n",
    "internet.info()"
   ]
  },
  {
   "cell_type": "markdown",
   "metadata": {},
   "source": [
    "**Вывод**: набор данных об интернет-трафике приведен к виду, достаточному для дальнейшей обработки и анализа."
   ]
  },
  {
   "cell_type": "markdown",
   "metadata": {},
   "source": [
    "### Набор данных о сообщениях"
   ]
  },
  {
   "cell_type": "markdown",
   "metadata": {},
   "source": [
    "Общая информация о наборе данных:"
   ]
  },
  {
   "cell_type": "code",
   "execution_count": 9,
   "metadata": {},
   "outputs": [
    {
     "data": {
      "text/html": [
       "<div>\n",
       "<style scoped>\n",
       "    .dataframe tbody tr th:only-of-type {\n",
       "        vertical-align: middle;\n",
       "    }\n",
       "\n",
       "    .dataframe tbody tr th {\n",
       "        vertical-align: top;\n",
       "    }\n",
       "\n",
       "    .dataframe thead th {\n",
       "        text-align: right;\n",
       "    }\n",
       "</style>\n",
       "<table border=\"1\" class=\"dataframe\">\n",
       "  <thead>\n",
       "    <tr style=\"text-align: right;\">\n",
       "      <th></th>\n",
       "      <th>id</th>\n",
       "      <th>message_date</th>\n",
       "      <th>user_id</th>\n",
       "    </tr>\n",
       "  </thead>\n",
       "  <tbody>\n",
       "    <tr>\n",
       "      <th>0</th>\n",
       "      <td>1000_0</td>\n",
       "      <td>2018-06-27</td>\n",
       "      <td>1000</td>\n",
       "    </tr>\n",
       "    <tr>\n",
       "      <th>1</th>\n",
       "      <td>1000_1</td>\n",
       "      <td>2018-10-08</td>\n",
       "      <td>1000</td>\n",
       "    </tr>\n",
       "    <tr>\n",
       "      <th>2</th>\n",
       "      <td>1000_2</td>\n",
       "      <td>2018-08-04</td>\n",
       "      <td>1000</td>\n",
       "    </tr>\n",
       "    <tr>\n",
       "      <th>3</th>\n",
       "      <td>1000_3</td>\n",
       "      <td>2018-06-16</td>\n",
       "      <td>1000</td>\n",
       "    </tr>\n",
       "    <tr>\n",
       "      <th>4</th>\n",
       "      <td>1000_4</td>\n",
       "      <td>2018-12-05</td>\n",
       "      <td>1000</td>\n",
       "    </tr>\n",
       "  </tbody>\n",
       "</table>\n",
       "</div>"
      ],
      "text/plain": [
       "       id message_date  user_id\n",
       "0  1000_0   2018-06-27     1000\n",
       "1  1000_1   2018-10-08     1000\n",
       "2  1000_2   2018-08-04     1000\n",
       "3  1000_3   2018-06-16     1000\n",
       "4  1000_4   2018-12-05     1000"
      ]
     },
     "metadata": {},
     "output_type": "display_data"
    },
    {
     "name": "stdout",
     "output_type": "stream",
     "text": [
      "<class 'pandas.core.frame.DataFrame'>\n",
      "RangeIndex: 123036 entries, 0 to 123035\n",
      "Data columns (total 3 columns):\n",
      " #   Column        Non-Null Count   Dtype \n",
      "---  ------        --------------   ----- \n",
      " 0   id            123036 non-null  object\n",
      " 1   message_date  123036 non-null  object\n",
      " 2   user_id       123036 non-null  int64 \n",
      "dtypes: int64(1), object(2)\n",
      "memory usage: 2.8+ MB\n"
     ]
    }
   ],
   "source": [
    "display(messages.head())\n",
    "messages.info()"
   ]
  },
  {
   "cell_type": "markdown",
   "metadata": {},
   "source": [
    "Необходимые правки:\n",
    "1. Приведение поля message_date к типу данных `datetime`.\n",
    "2. Присутствует незначимый атрибут id."
   ]
  },
  {
   "cell_type": "code",
   "execution_count": 10,
   "metadata": {},
   "outputs": [],
   "source": [
    "messages['message_date'] = pd.to_datetime(messages['message_date'])\n",
    "messages.drop(columns=['id'], inplace=True)"
   ]
  },
  {
   "cell_type": "code",
   "execution_count": 11,
   "metadata": {},
   "outputs": [
    {
     "name": "stdout",
     "output_type": "stream",
     "text": [
      "<class 'pandas.core.frame.DataFrame'>\n",
      "RangeIndex: 123036 entries, 0 to 123035\n",
      "Data columns (total 2 columns):\n",
      " #   Column        Non-Null Count   Dtype         \n",
      "---  ------        --------------   -----         \n",
      " 0   message_date  123036 non-null  datetime64[ns]\n",
      " 1   user_id       123036 non-null  int64         \n",
      "dtypes: datetime64[ns](1), int64(1)\n",
      "memory usage: 1.9 MB\n"
     ]
    }
   ],
   "source": [
    "messages.info()"
   ]
  },
  {
   "cell_type": "markdown",
   "metadata": {},
   "source": [
    "**Вывод**: набор данных о сообщениях приведен к виду, достаточному для дальнейшей обработки и анализа."
   ]
  },
  {
   "cell_type": "markdown",
   "metadata": {},
   "source": [
    "### Набор данных о тарифах"
   ]
  },
  {
   "cell_type": "markdown",
   "metadata": {},
   "source": [
    "Общая информация о наборе данных:"
   ]
  },
  {
   "cell_type": "code",
   "execution_count": 12,
   "metadata": {},
   "outputs": [
    {
     "data": {
      "text/html": [
       "<div>\n",
       "<style scoped>\n",
       "    .dataframe tbody tr th:only-of-type {\n",
       "        vertical-align: middle;\n",
       "    }\n",
       "\n",
       "    .dataframe tbody tr th {\n",
       "        vertical-align: top;\n",
       "    }\n",
       "\n",
       "    .dataframe thead th {\n",
       "        text-align: right;\n",
       "    }\n",
       "</style>\n",
       "<table border=\"1\" class=\"dataframe\">\n",
       "  <thead>\n",
       "    <tr style=\"text-align: right;\">\n",
       "      <th></th>\n",
       "      <th>messages_included</th>\n",
       "      <th>mb_per_month_included</th>\n",
       "      <th>minutes_included</th>\n",
       "      <th>rub_monthly_fee</th>\n",
       "      <th>rub_per_gb</th>\n",
       "      <th>rub_per_message</th>\n",
       "      <th>rub_per_minute</th>\n",
       "      <th>tariff_name</th>\n",
       "    </tr>\n",
       "  </thead>\n",
       "  <tbody>\n",
       "    <tr>\n",
       "      <th>0</th>\n",
       "      <td>50</td>\n",
       "      <td>15360</td>\n",
       "      <td>500</td>\n",
       "      <td>550</td>\n",
       "      <td>200</td>\n",
       "      <td>3</td>\n",
       "      <td>3</td>\n",
       "      <td>smart</td>\n",
       "    </tr>\n",
       "    <tr>\n",
       "      <th>1</th>\n",
       "      <td>1000</td>\n",
       "      <td>30720</td>\n",
       "      <td>3000</td>\n",
       "      <td>1950</td>\n",
       "      <td>150</td>\n",
       "      <td>1</td>\n",
       "      <td>1</td>\n",
       "      <td>ultra</td>\n",
       "    </tr>\n",
       "  </tbody>\n",
       "</table>\n",
       "</div>"
      ],
      "text/plain": [
       "   messages_included  mb_per_month_included  minutes_included  \\\n",
       "0                 50                  15360               500   \n",
       "1               1000                  30720              3000   \n",
       "\n",
       "   rub_monthly_fee  rub_per_gb  rub_per_message  rub_per_minute tariff_name  \n",
       "0              550         200                3               3       smart  \n",
       "1             1950         150                1               1       ultra  "
      ]
     },
     "metadata": {},
     "output_type": "display_data"
    },
    {
     "name": "stdout",
     "output_type": "stream",
     "text": [
      "<class 'pandas.core.frame.DataFrame'>\n",
      "RangeIndex: 2 entries, 0 to 1\n",
      "Data columns (total 8 columns):\n",
      " #   Column                 Non-Null Count  Dtype \n",
      "---  ------                 --------------  ----- \n",
      " 0   messages_included      2 non-null      int64 \n",
      " 1   mb_per_month_included  2 non-null      int64 \n",
      " 2   minutes_included       2 non-null      int64 \n",
      " 3   rub_monthly_fee        2 non-null      int64 \n",
      " 4   rub_per_gb             2 non-null      int64 \n",
      " 5   rub_per_message        2 non-null      int64 \n",
      " 6   rub_per_minute         2 non-null      int64 \n",
      " 7   tariff_name            2 non-null      object\n",
      "dtypes: int64(7), object(1)\n",
      "memory usage: 256.0+ bytes\n"
     ]
    }
   ],
   "source": [
    "display(tariffs.head())\n",
    "tariffs.info()"
   ]
  },
  {
   "cell_type": "markdown",
   "metadata": {},
   "source": [
    "**Вывод**: набор данных о тарифах полностью пригоден для дальнейшей обработки и анализа."
   ]
  },
  {
   "cell_type": "markdown",
   "metadata": {},
   "source": [
    "### Набор данных о пользователях"
   ]
  },
  {
   "cell_type": "markdown",
   "metadata": {},
   "source": [
    "Общая информация о наборе данных:"
   ]
  },
  {
   "cell_type": "code",
   "execution_count": 13,
   "metadata": {},
   "outputs": [
    {
     "data": {
      "text/html": [
       "<div>\n",
       "<style scoped>\n",
       "    .dataframe tbody tr th:only-of-type {\n",
       "        vertical-align: middle;\n",
       "    }\n",
       "\n",
       "    .dataframe tbody tr th {\n",
       "        vertical-align: top;\n",
       "    }\n",
       "\n",
       "    .dataframe thead th {\n",
       "        text-align: right;\n",
       "    }\n",
       "</style>\n",
       "<table border=\"1\" class=\"dataframe\">\n",
       "  <thead>\n",
       "    <tr style=\"text-align: right;\">\n",
       "      <th></th>\n",
       "      <th>user_id</th>\n",
       "      <th>age</th>\n",
       "      <th>churn_date</th>\n",
       "      <th>city</th>\n",
       "      <th>first_name</th>\n",
       "      <th>last_name</th>\n",
       "      <th>reg_date</th>\n",
       "      <th>tariff</th>\n",
       "    </tr>\n",
       "  </thead>\n",
       "  <tbody>\n",
       "    <tr>\n",
       "      <th>0</th>\n",
       "      <td>1000</td>\n",
       "      <td>52</td>\n",
       "      <td>NaN</td>\n",
       "      <td>Краснодар</td>\n",
       "      <td>Рафаил</td>\n",
       "      <td>Верещагин</td>\n",
       "      <td>2018-05-25</td>\n",
       "      <td>ultra</td>\n",
       "    </tr>\n",
       "    <tr>\n",
       "      <th>1</th>\n",
       "      <td>1001</td>\n",
       "      <td>41</td>\n",
       "      <td>NaN</td>\n",
       "      <td>Москва</td>\n",
       "      <td>Иван</td>\n",
       "      <td>Ежов</td>\n",
       "      <td>2018-11-01</td>\n",
       "      <td>smart</td>\n",
       "    </tr>\n",
       "    <tr>\n",
       "      <th>2</th>\n",
       "      <td>1002</td>\n",
       "      <td>59</td>\n",
       "      <td>NaN</td>\n",
       "      <td>Стерлитамак</td>\n",
       "      <td>Евгений</td>\n",
       "      <td>Абрамович</td>\n",
       "      <td>2018-06-17</td>\n",
       "      <td>smart</td>\n",
       "    </tr>\n",
       "    <tr>\n",
       "      <th>3</th>\n",
       "      <td>1003</td>\n",
       "      <td>23</td>\n",
       "      <td>NaN</td>\n",
       "      <td>Москва</td>\n",
       "      <td>Белла</td>\n",
       "      <td>Белякова</td>\n",
       "      <td>2018-08-17</td>\n",
       "      <td>ultra</td>\n",
       "    </tr>\n",
       "    <tr>\n",
       "      <th>4</th>\n",
       "      <td>1004</td>\n",
       "      <td>68</td>\n",
       "      <td>NaN</td>\n",
       "      <td>Новокузнецк</td>\n",
       "      <td>Татьяна</td>\n",
       "      <td>Авдеенко</td>\n",
       "      <td>2018-05-14</td>\n",
       "      <td>ultra</td>\n",
       "    </tr>\n",
       "  </tbody>\n",
       "</table>\n",
       "</div>"
      ],
      "text/plain": [
       "   user_id  age churn_date         city first_name  last_name    reg_date  \\\n",
       "0     1000   52        NaN    Краснодар     Рафаил  Верещагин  2018-05-25   \n",
       "1     1001   41        NaN       Москва       Иван       Ежов  2018-11-01   \n",
       "2     1002   59        NaN  Стерлитамак    Евгений  Абрамович  2018-06-17   \n",
       "3     1003   23        NaN       Москва      Белла   Белякова  2018-08-17   \n",
       "4     1004   68        NaN  Новокузнецк    Татьяна   Авдеенко  2018-05-14   \n",
       "\n",
       "  tariff  \n",
       "0  ultra  \n",
       "1  smart  \n",
       "2  smart  \n",
       "3  ultra  \n",
       "4  ultra  "
      ]
     },
     "metadata": {},
     "output_type": "display_data"
    },
    {
     "name": "stdout",
     "output_type": "stream",
     "text": [
      "<class 'pandas.core.frame.DataFrame'>\n",
      "RangeIndex: 500 entries, 0 to 499\n",
      "Data columns (total 8 columns):\n",
      " #   Column      Non-Null Count  Dtype \n",
      "---  ------      --------------  ----- \n",
      " 0   user_id     500 non-null    int64 \n",
      " 1   age         500 non-null    int64 \n",
      " 2   churn_date  38 non-null     object\n",
      " 3   city        500 non-null    object\n",
      " 4   first_name  500 non-null    object\n",
      " 5   last_name   500 non-null    object\n",
      " 6   reg_date    500 non-null    object\n",
      " 7   tariff      500 non-null    object\n",
      "dtypes: int64(2), object(6)\n",
      "memory usage: 31.4+ KB\n"
     ]
    },
    {
     "data": {
      "text/html": [
       "<div>\n",
       "<style scoped>\n",
       "    .dataframe tbody tr th:only-of-type {\n",
       "        vertical-align: middle;\n",
       "    }\n",
       "\n",
       "    .dataframe tbody tr th {\n",
       "        vertical-align: top;\n",
       "    }\n",
       "\n",
       "    .dataframe thead th {\n",
       "        text-align: right;\n",
       "    }\n",
       "</style>\n",
       "<table border=\"1\" class=\"dataframe\">\n",
       "  <thead>\n",
       "    <tr style=\"text-align: right;\">\n",
       "      <th></th>\n",
       "      <th>user_id</th>\n",
       "      <th>age</th>\n",
       "    </tr>\n",
       "  </thead>\n",
       "  <tbody>\n",
       "    <tr>\n",
       "      <th>count</th>\n",
       "      <td>500.000000</td>\n",
       "      <td>500.00000</td>\n",
       "    </tr>\n",
       "    <tr>\n",
       "      <th>mean</th>\n",
       "      <td>1249.500000</td>\n",
       "      <td>46.58800</td>\n",
       "    </tr>\n",
       "    <tr>\n",
       "      <th>std</th>\n",
       "      <td>144.481833</td>\n",
       "      <td>16.66763</td>\n",
       "    </tr>\n",
       "    <tr>\n",
       "      <th>min</th>\n",
       "      <td>1000.000000</td>\n",
       "      <td>18.00000</td>\n",
       "    </tr>\n",
       "    <tr>\n",
       "      <th>25%</th>\n",
       "      <td>1124.750000</td>\n",
       "      <td>32.00000</td>\n",
       "    </tr>\n",
       "    <tr>\n",
       "      <th>50%</th>\n",
       "      <td>1249.500000</td>\n",
       "      <td>46.00000</td>\n",
       "    </tr>\n",
       "    <tr>\n",
       "      <th>75%</th>\n",
       "      <td>1374.250000</td>\n",
       "      <td>62.00000</td>\n",
       "    </tr>\n",
       "    <tr>\n",
       "      <th>max</th>\n",
       "      <td>1499.000000</td>\n",
       "      <td>75.00000</td>\n",
       "    </tr>\n",
       "  </tbody>\n",
       "</table>\n",
       "</div>"
      ],
      "text/plain": [
       "           user_id        age\n",
       "count   500.000000  500.00000\n",
       "mean   1249.500000   46.58800\n",
       "std     144.481833   16.66763\n",
       "min    1000.000000   18.00000\n",
       "25%    1124.750000   32.00000\n",
       "50%    1249.500000   46.00000\n",
       "75%    1374.250000   62.00000\n",
       "max    1499.000000   75.00000"
      ]
     },
     "execution_count": 13,
     "metadata": {},
     "output_type": "execute_result"
    }
   ],
   "source": [
    "display(users.head())\n",
    "users.info()\n",
    "users.describe()"
   ]
  },
  {
   "cell_type": "markdown",
   "metadata": {},
   "source": [
    "Необходимые правки:\n",
    "\n",
    "1. Приведение полей churn_date и reg_date к типу данных datetime.\n",
    "2. Исключим из рассмотрения незначимые в рамках проекта атрибуты: first_name, last_name."
   ]
  },
  {
   "cell_type": "code",
   "execution_count": 14,
   "metadata": {},
   "outputs": [],
   "source": [
    "users['churn_date'] = pd.to_datetime(users['churn_date'])\n",
    "users.drop(columns=['first_name', 'last_name'], inplace=True)"
   ]
  },
  {
   "cell_type": "code",
   "execution_count": 15,
   "metadata": {},
   "outputs": [
    {
     "data": {
      "text/html": [
       "<div>\n",
       "<style scoped>\n",
       "    .dataframe tbody tr th:only-of-type {\n",
       "        vertical-align: middle;\n",
       "    }\n",
       "\n",
       "    .dataframe tbody tr th {\n",
       "        vertical-align: top;\n",
       "    }\n",
       "\n",
       "    .dataframe thead th {\n",
       "        text-align: right;\n",
       "    }\n",
       "</style>\n",
       "<table border=\"1\" class=\"dataframe\">\n",
       "  <thead>\n",
       "    <tr style=\"text-align: right;\">\n",
       "      <th></th>\n",
       "      <th>user_id</th>\n",
       "      <th>age</th>\n",
       "      <th>churn_date</th>\n",
       "      <th>city</th>\n",
       "      <th>reg_date</th>\n",
       "      <th>tariff</th>\n",
       "    </tr>\n",
       "  </thead>\n",
       "  <tbody>\n",
       "    <tr>\n",
       "      <th>0</th>\n",
       "      <td>1000</td>\n",
       "      <td>52</td>\n",
       "      <td>NaT</td>\n",
       "      <td>Краснодар</td>\n",
       "      <td>2018-05-25</td>\n",
       "      <td>ultra</td>\n",
       "    </tr>\n",
       "    <tr>\n",
       "      <th>1</th>\n",
       "      <td>1001</td>\n",
       "      <td>41</td>\n",
       "      <td>NaT</td>\n",
       "      <td>Москва</td>\n",
       "      <td>2018-11-01</td>\n",
       "      <td>smart</td>\n",
       "    </tr>\n",
       "    <tr>\n",
       "      <th>2</th>\n",
       "      <td>1002</td>\n",
       "      <td>59</td>\n",
       "      <td>NaT</td>\n",
       "      <td>Стерлитамак</td>\n",
       "      <td>2018-06-17</td>\n",
       "      <td>smart</td>\n",
       "    </tr>\n",
       "    <tr>\n",
       "      <th>3</th>\n",
       "      <td>1003</td>\n",
       "      <td>23</td>\n",
       "      <td>NaT</td>\n",
       "      <td>Москва</td>\n",
       "      <td>2018-08-17</td>\n",
       "      <td>ultra</td>\n",
       "    </tr>\n",
       "    <tr>\n",
       "      <th>4</th>\n",
       "      <td>1004</td>\n",
       "      <td>68</td>\n",
       "      <td>NaT</td>\n",
       "      <td>Новокузнецк</td>\n",
       "      <td>2018-05-14</td>\n",
       "      <td>ultra</td>\n",
       "    </tr>\n",
       "  </tbody>\n",
       "</table>\n",
       "</div>"
      ],
      "text/plain": [
       "   user_id  age churn_date         city    reg_date tariff\n",
       "0     1000   52        NaT    Краснодар  2018-05-25  ultra\n",
       "1     1001   41        NaT       Москва  2018-11-01  smart\n",
       "2     1002   59        NaT  Стерлитамак  2018-06-17  smart\n",
       "3     1003   23        NaT       Москва  2018-08-17  ultra\n",
       "4     1004   68        NaT  Новокузнецк  2018-05-14  ultra"
      ]
     },
     "metadata": {},
     "output_type": "display_data"
    },
    {
     "name": "stdout",
     "output_type": "stream",
     "text": [
      "<class 'pandas.core.frame.DataFrame'>\n",
      "RangeIndex: 500 entries, 0 to 499\n",
      "Data columns (total 6 columns):\n",
      " #   Column      Non-Null Count  Dtype         \n",
      "---  ------      --------------  -----         \n",
      " 0   user_id     500 non-null    int64         \n",
      " 1   age         500 non-null    int64         \n",
      " 2   churn_date  38 non-null     datetime64[ns]\n",
      " 3   city        500 non-null    object        \n",
      " 4   reg_date    500 non-null    object        \n",
      " 5   tariff      500 non-null    object        \n",
      "dtypes: datetime64[ns](1), int64(2), object(3)\n",
      "memory usage: 23.6+ KB\n"
     ]
    }
   ],
   "source": [
    "display(users.head())\n",
    "users.info()"
   ]
  },
  {
   "cell_type": "markdown",
   "metadata": {},
   "source": [
    "**Вывод**: набор данных о пользователях полностью пригоден для дальнейшей обработки и анализа."
   ]
  },
  {
   "cell_type": "markdown",
   "metadata": {},
   "source": [
    "## Подготовка данных и расчёт дохода"
   ]
  },
  {
   "cell_type": "markdown",
   "metadata": {},
   "source": [
    "### Подготовка данных о звонках"
   ]
  },
  {
   "cell_type": "code",
   "execution_count": 16,
   "metadata": {},
   "outputs": [
    {
     "data": {
      "text/html": [
       "<div>\n",
       "<style scoped>\n",
       "    .dataframe tbody tr th:only-of-type {\n",
       "        vertical-align: middle;\n",
       "    }\n",
       "\n",
       "    .dataframe tbody tr th {\n",
       "        vertical-align: top;\n",
       "    }\n",
       "\n",
       "    .dataframe thead th {\n",
       "        text-align: right;\n",
       "    }\n",
       "</style>\n",
       "<table border=\"1\" class=\"dataframe\">\n",
       "  <thead>\n",
       "    <tr style=\"text-align: right;\">\n",
       "      <th></th>\n",
       "      <th>user_id</th>\n",
       "      <th>mth</th>\n",
       "      <th>num_of_calls</th>\n",
       "      <th>sum_minutes</th>\n",
       "    </tr>\n",
       "  </thead>\n",
       "  <tbody>\n",
       "    <tr>\n",
       "      <th>0</th>\n",
       "      <td>1000</td>\n",
       "      <td>5</td>\n",
       "      <td>22</td>\n",
       "      <td>159.0</td>\n",
       "    </tr>\n",
       "    <tr>\n",
       "      <th>1</th>\n",
       "      <td>1000</td>\n",
       "      <td>6</td>\n",
       "      <td>43</td>\n",
       "      <td>172.0</td>\n",
       "    </tr>\n",
       "    <tr>\n",
       "      <th>2</th>\n",
       "      <td>1000</td>\n",
       "      <td>7</td>\n",
       "      <td>47</td>\n",
       "      <td>340.0</td>\n",
       "    </tr>\n",
       "    <tr>\n",
       "      <th>3</th>\n",
       "      <td>1000</td>\n",
       "      <td>8</td>\n",
       "      <td>52</td>\n",
       "      <td>408.0</td>\n",
       "    </tr>\n",
       "    <tr>\n",
       "      <th>4</th>\n",
       "      <td>1000</td>\n",
       "      <td>9</td>\n",
       "      <td>58</td>\n",
       "      <td>466.0</td>\n",
       "    </tr>\n",
       "  </tbody>\n",
       "</table>\n",
       "</div>"
      ],
      "text/plain": [
       "   user_id  mth  num_of_calls  sum_minutes\n",
       "0     1000    5            22        159.0\n",
       "1     1000    6            43        172.0\n",
       "2     1000    7            47        340.0\n",
       "3     1000    8            52        408.0\n",
       "4     1000    9            58        466.0"
      ]
     },
     "execution_count": 16,
     "metadata": {},
     "output_type": "execute_result"
    }
   ],
   "source": [
    "calls['mth'] = calls['call_date'].dt.month\n",
    "calls_per_month = (\n",
    "    calls.groupby(['user_id', 'mth'])['duration'].\n",
    "    agg(['count', 'sum']).\n",
    "    reset_index().\n",
    "    sort_values(by=['user_id', 'mth'])\n",
    ")\n",
    "calls_per_month.rename(columns={'count':'num_of_calls', 'sum':'sum_minutes'}, inplace=True)\n",
    "calls_per_month.head()"
   ]
  },
  {
   "cell_type": "markdown",
   "metadata": {},
   "source": [
    "**Вывод**: данные о звонках подготовлены для дальнейшего анализа"
   ]
  },
  {
   "cell_type": "markdown",
   "metadata": {},
   "source": [
    "### Подготовка данных о сообщениях"
   ]
  },
  {
   "cell_type": "code",
   "execution_count": 17,
   "metadata": {},
   "outputs": [
    {
     "data": {
      "text/html": [
       "<div>\n",
       "<style scoped>\n",
       "    .dataframe tbody tr th:only-of-type {\n",
       "        vertical-align: middle;\n",
       "    }\n",
       "\n",
       "    .dataframe tbody tr th {\n",
       "        vertical-align: top;\n",
       "    }\n",
       "\n",
       "    .dataframe thead th {\n",
       "        text-align: right;\n",
       "    }\n",
       "</style>\n",
       "<table border=\"1\" class=\"dataframe\">\n",
       "  <thead>\n",
       "    <tr style=\"text-align: right;\">\n",
       "      <th></th>\n",
       "      <th>user_id</th>\n",
       "      <th>mth</th>\n",
       "      <th>num_of_messages</th>\n",
       "    </tr>\n",
       "  </thead>\n",
       "  <tbody>\n",
       "    <tr>\n",
       "      <th>0</th>\n",
       "      <td>1000</td>\n",
       "      <td>5</td>\n",
       "      <td>22</td>\n",
       "    </tr>\n",
       "    <tr>\n",
       "      <th>1</th>\n",
       "      <td>1000</td>\n",
       "      <td>6</td>\n",
       "      <td>60</td>\n",
       "    </tr>\n",
       "    <tr>\n",
       "      <th>2</th>\n",
       "      <td>1000</td>\n",
       "      <td>7</td>\n",
       "      <td>75</td>\n",
       "    </tr>\n",
       "    <tr>\n",
       "      <th>3</th>\n",
       "      <td>1000</td>\n",
       "      <td>8</td>\n",
       "      <td>81</td>\n",
       "    </tr>\n",
       "    <tr>\n",
       "      <th>4</th>\n",
       "      <td>1000</td>\n",
       "      <td>9</td>\n",
       "      <td>57</td>\n",
       "    </tr>\n",
       "  </tbody>\n",
       "</table>\n",
       "</div>"
      ],
      "text/plain": [
       "   user_id  mth  num_of_messages\n",
       "0     1000    5               22\n",
       "1     1000    6               60\n",
       "2     1000    7               75\n",
       "3     1000    8               81\n",
       "4     1000    9               57"
      ]
     },
     "execution_count": 17,
     "metadata": {},
     "output_type": "execute_result"
    }
   ],
   "source": [
    "messages['mth'] = messages['message_date'].dt.month\n",
    "messages_per_month = (\n",
    "    messages.groupby(['user_id', 'mth']).\n",
    "    count().\n",
    "    reset_index().\n",
    "    sort_values(by=['user_id', 'mth'])\n",
    ")\n",
    "messages_per_month.rename(columns={'message_date':'num_of_messages'}, inplace=True)\n",
    "messages_per_month.head()"
   ]
  },
  {
   "cell_type": "markdown",
   "metadata": {},
   "source": [
    "**Вывод**: данные о сообщениях подготовлены для дальнейшего анализа"
   ]
  },
  {
   "cell_type": "markdown",
   "metadata": {},
   "source": [
    "### Подготовка данных об интернет-трафике"
   ]
  },
  {
   "cell_type": "code",
   "execution_count": 18,
   "metadata": {},
   "outputs": [
    {
     "data": {
      "text/html": [
       "<div>\n",
       "<style scoped>\n",
       "    .dataframe tbody tr th:only-of-type {\n",
       "        vertical-align: middle;\n",
       "    }\n",
       "\n",
       "    .dataframe tbody tr th {\n",
       "        vertical-align: top;\n",
       "    }\n",
       "\n",
       "    .dataframe thead th {\n",
       "        text-align: right;\n",
       "    }\n",
       "</style>\n",
       "<table border=\"1\" class=\"dataframe\">\n",
       "  <thead>\n",
       "    <tr style=\"text-align: right;\">\n",
       "      <th></th>\n",
       "      <th>user_id</th>\n",
       "      <th>mth</th>\n",
       "      <th>mb_used</th>\n",
       "      <th>gb_used</th>\n",
       "    </tr>\n",
       "  </thead>\n",
       "  <tbody>\n",
       "    <tr>\n",
       "      <th>0</th>\n",
       "      <td>1000</td>\n",
       "      <td>5</td>\n",
       "      <td>2253.49</td>\n",
       "      <td>2.200674</td>\n",
       "    </tr>\n",
       "    <tr>\n",
       "      <th>1</th>\n",
       "      <td>1000</td>\n",
       "      <td>6</td>\n",
       "      <td>23233.77</td>\n",
       "      <td>22.689229</td>\n",
       "    </tr>\n",
       "    <tr>\n",
       "      <th>2</th>\n",
       "      <td>1000</td>\n",
       "      <td>7</td>\n",
       "      <td>14003.64</td>\n",
       "      <td>13.675430</td>\n",
       "    </tr>\n",
       "    <tr>\n",
       "      <th>3</th>\n",
       "      <td>1000</td>\n",
       "      <td>8</td>\n",
       "      <td>14055.93</td>\n",
       "      <td>13.726494</td>\n",
       "    </tr>\n",
       "    <tr>\n",
       "      <th>4</th>\n",
       "      <td>1000</td>\n",
       "      <td>9</td>\n",
       "      <td>14568.91</td>\n",
       "      <td>14.227451</td>\n",
       "    </tr>\n",
       "  </tbody>\n",
       "</table>\n",
       "</div>"
      ],
      "text/plain": [
       "   user_id  mth   mb_used    gb_used\n",
       "0     1000    5   2253.49   2.200674\n",
       "1     1000    6  23233.77  22.689229\n",
       "2     1000    7  14003.64  13.675430\n",
       "3     1000    8  14055.93  13.726494\n",
       "4     1000    9  14568.91  14.227451"
      ]
     },
     "execution_count": 18,
     "metadata": {},
     "output_type": "execute_result"
    }
   ],
   "source": [
    "internet['mth'] = internet['session_date'].dt.month\n",
    "internet_per_month = (\n",
    "    internet.groupby(['user_id', 'mth']).\n",
    "    sum('gb_used').\n",
    "    reset_index().\n",
    "    sort_values(by=['user_id', 'mth'])\n",
    ")\n",
    "internet_per_month.rename(columns={'message_date':'num_of_messages'}, inplace=True)\n",
    "internet_per_month.head()"
   ]
  },
  {
   "cell_type": "markdown",
   "metadata": {},
   "source": [
    "**Вывод**: данные об интернет-трафике подготовлены для дальнейшего анализа"
   ]
  },
  {
   "cell_type": "markdown",
   "metadata": {},
   "source": [
    "### Расчёт дохода"
   ]
  },
  {
   "cell_type": "code",
   "execution_count": 19,
   "metadata": {},
   "outputs": [
    {
     "data": {
      "text/html": [
       "<div>\n",
       "<style scoped>\n",
       "    .dataframe tbody tr th:only-of-type {\n",
       "        vertical-align: middle;\n",
       "    }\n",
       "\n",
       "    .dataframe tbody tr th {\n",
       "        vertical-align: top;\n",
       "    }\n",
       "\n",
       "    .dataframe thead th {\n",
       "        text-align: right;\n",
       "    }\n",
       "</style>\n",
       "<table border=\"1\" class=\"dataframe\">\n",
       "  <thead>\n",
       "    <tr style=\"text-align: right;\">\n",
       "      <th></th>\n",
       "      <th>user_id</th>\n",
       "      <th>mth</th>\n",
       "      <th>age</th>\n",
       "      <th>churn_date</th>\n",
       "      <th>city</th>\n",
       "      <th>reg_date</th>\n",
       "      <th>tariff</th>\n",
       "      <th>messages_included</th>\n",
       "      <th>mb_per_month_included</th>\n",
       "      <th>minutes_included</th>\n",
       "      <th>...</th>\n",
       "      <th>num_of_calls</th>\n",
       "      <th>sum_minutes</th>\n",
       "      <th>num_of_messages</th>\n",
       "      <th>mb_used</th>\n",
       "      <th>gb_used</th>\n",
       "      <th>extra_min</th>\n",
       "      <th>extra_mes</th>\n",
       "      <th>extra_gb</th>\n",
       "      <th>revenue</th>\n",
       "      <th>drop_flg</th>\n",
       "    </tr>\n",
       "  </thead>\n",
       "  <tbody>\n",
       "    <tr>\n",
       "      <th>5628</th>\n",
       "      <td>1128</td>\n",
       "      <td>12</td>\n",
       "      <td>51</td>\n",
       "      <td>2018-12-23</td>\n",
       "      <td>Волжский</td>\n",
       "      <td>2018-12-15</td>\n",
       "      <td>ultra</td>\n",
       "      <td>1000</td>\n",
       "      <td>30720</td>\n",
       "      <td>3000</td>\n",
       "      <td>...</td>\n",
       "      <td>-1.0</td>\n",
       "      <td>-1.0</td>\n",
       "      <td>-1.0</td>\n",
       "      <td>NaN</td>\n",
       "      <td>-1.0</td>\n",
       "      <td>0.0</td>\n",
       "      <td>0.0</td>\n",
       "      <td>0.0</td>\n",
       "      <td>1950.0</td>\n",
       "      <td>NaN</td>\n",
       "    </tr>\n",
       "    <tr>\n",
       "      <th>5871</th>\n",
       "      <td>1371</td>\n",
       "      <td>12</td>\n",
       "      <td>50</td>\n",
       "      <td>2018-12-30</td>\n",
       "      <td>Омск</td>\n",
       "      <td>2018-12-25</td>\n",
       "      <td>smart</td>\n",
       "      <td>50</td>\n",
       "      <td>15360</td>\n",
       "      <td>500</td>\n",
       "      <td>...</td>\n",
       "      <td>-1.0</td>\n",
       "      <td>-1.0</td>\n",
       "      <td>-1.0</td>\n",
       "      <td>NaN</td>\n",
       "      <td>-1.0</td>\n",
       "      <td>0.0</td>\n",
       "      <td>0.0</td>\n",
       "      <td>0.0</td>\n",
       "      <td>550.0</td>\n",
       "      <td>NaN</td>\n",
       "    </tr>\n",
       "  </tbody>\n",
       "</table>\n",
       "<p>2 rows × 25 columns</p>\n",
       "</div>"
      ],
      "text/plain": [
       "      user_id  mth  age churn_date      city    reg_date tariff  \\\n",
       "5628     1128   12   51 2018-12-23  Волжский  2018-12-15  ultra   \n",
       "5871     1371   12   50 2018-12-30      Омск  2018-12-25  smart   \n",
       "\n",
       "      messages_included  mb_per_month_included  minutes_included  ...  \\\n",
       "5628               1000                  30720              3000  ...   \n",
       "5871                 50                  15360               500  ...   \n",
       "\n",
       "      num_of_calls  sum_minutes  num_of_messages  mb_used gb_used  extra_min  \\\n",
       "5628          -1.0         -1.0             -1.0      NaN    -1.0        0.0   \n",
       "5871          -1.0         -1.0             -1.0      NaN    -1.0        0.0   \n",
       "\n",
       "      extra_mes  extra_gb  revenue  drop_flg  \n",
       "5628        0.0       0.0   1950.0       NaN  \n",
       "5871        0.0       0.0    550.0       NaN  \n",
       "\n",
       "[2 rows x 25 columns]"
      ]
     },
     "metadata": {},
     "output_type": "display_data"
    }
   ],
   "source": [
    "# подтягиваем информацию о тарифах\n",
    "users_info = users.merge(tariffs, how='inner', left_on='tariff', right_on='tariff_name')\n",
    "\n",
    "# формируем технический датафрейм\n",
    "# в котором каждому пользователю будет соответствовать номер месяца от 1 до 12\n",
    "tech_df = pd.DataFrame(\n",
    "    {'user_id':[item for sublist in [[1000 + x] for x in range(len(users))]*12 for item in sublist], \n",
    "     'mth': [item for sublist in [[x]*len(users) for x in range(1,13)] for item in sublist]})\n",
    "\n",
    "# расширяем таблицу пользователей месяцами\n",
    "users_info = tech_df.merge(users_info, how='left', on='user_id')\n",
    "\n",
    "# присоединяем информацию о звонках, сообщениях и интернет-трафике\n",
    "users_info = users_info.merge(calls_per_month, how='left', on=['user_id', 'mth'])\n",
    "users_info = users_info.merge(messages_per_month, how='left', on=['user_id', 'mth'])\n",
    "users_info = users_info.merge(internet_per_month, how='left', on=['user_id', 'mth'])\n",
    "\n",
    "# расчитываем всё, что сверх бесплатных минут/смс/трафика\n",
    "users_info['extra_min'] = users_info['sum_minutes'] -  users_info['minutes_included']\n",
    "users_info['extra_mes'] = users_info['num_of_messages'] -  users_info['messages_included']\n",
    "users_info['extra_gb'] = np.ceil(users_info['gb_used'] -  users_info['mb_per_month_included'] / 1024.0)\n",
    "\n",
    "# корректируем те записи, где не превышены включенные минуты/смс/гб\n",
    "users_info.loc[users_info['extra_min'] < 0, 'extra_min'] = 0\n",
    "users_info.loc[users_info['extra_mes'] < 0, 'extra_mes'] = 0\n",
    "users_info.loc[users_info['extra_gb'] < 0, 'extra_gb'] = 0\n",
    "\n",
    "# заполняем нулями везде, где посчитать не удалось\n",
    "users_info['extra_min'].fillna(0, inplace=True)\n",
    "users_info['extra_mes'].fillna(0, inplace=True)\n",
    "users_info['extra_gb'].fillna(0, inplace=True)\n",
    "\n",
    "# заполняем -1 везде, где нет информации о звонках/смс/трафике\n",
    "users_info['num_of_calls'].fillna(-1, inplace=True)\n",
    "users_info['sum_minutes'].fillna(-1, inplace=True)\n",
    "users_info['num_of_messages'].fillna(-1, inplace=True)\n",
    "users_info['gb_used'].fillna(-1, inplace=True)\n",
    "\n",
    "# считаем выручку\n",
    "users_info['revenue'] = (users_info['rub_monthly_fee'] + \n",
    "                         users_info['extra_min'] * users_info['rub_per_minute'] + \n",
    "                         users_info['extra_mes'] * users_info['rub_per_message'] + \n",
    "                         users_info['extra_gb'] * users_info['rub_per_gb'] )\n",
    "\n",
    "# исключаем лишние записи для корректности стат.анализа\n",
    "users_info.loc[\n",
    "    (users_info['num_of_calls'] == -1) & \n",
    "    (users_info['sum_minutes'] == -1) &\n",
    "    (users_info['num_of_messages'] == -1) &\n",
    "    (users_info['gb_used'] == -1) &\n",
    "    ((pd.to_datetime(users_info['reg_date']).dt.month > users_info['mth']) |\n",
    "    (pd.to_datetime(users_info['churn_date']).dt.month < users_info['mth'])), 'drop_flg'] = 1\n",
    "users_info.drop(users_info[users_info['drop_flg'] == 1].index, inplace=True)\n",
    "\n",
    "display(users_info[ # для ознакомления, после проверки удалить\n",
    "    (users_info['num_of_calls'] == -1) & \n",
    "    (users_info['sum_minutes'] == -1) &\n",
    "    (users_info['num_of_messages'] == -1) &\n",
    "    (users_info['gb_used'] == -1)\n",
    "])\n",
    "# исключаем лишние атрибуты\n",
    "users_info.drop(columns=['messages_included', 'mb_per_month_included', \n",
    "                         'minutes_included', 'rub_monthly_fee', 'rub_per_gb', 'rub_per_message', \n",
    "                         'rub_per_minute', 'drop_flg', 'extra_min', 'extra_mes', 'extra_gb', 'tariff',\n",
    "                         'churn_date', 'reg_date', 'mb_used'], inplace=True)"
   ]
  },
  {
   "cell_type": "code",
   "execution_count": 20,
   "metadata": {},
   "outputs": [
    {
     "data": {
      "text/html": [
       "<div>\n",
       "<style scoped>\n",
       "    .dataframe tbody tr th:only-of-type {\n",
       "        vertical-align: middle;\n",
       "    }\n",
       "\n",
       "    .dataframe tbody tr th {\n",
       "        vertical-align: top;\n",
       "    }\n",
       "\n",
       "    .dataframe thead th {\n",
       "        text-align: right;\n",
       "    }\n",
       "</style>\n",
       "<table border=\"1\" class=\"dataframe\">\n",
       "  <thead>\n",
       "    <tr style=\"text-align: right;\">\n",
       "      <th></th>\n",
       "      <th>user_id</th>\n",
       "      <th>mth</th>\n",
       "      <th>age</th>\n",
       "      <th>city</th>\n",
       "      <th>tariff_name</th>\n",
       "      <th>num_of_calls</th>\n",
       "      <th>sum_minutes</th>\n",
       "      <th>num_of_messages</th>\n",
       "      <th>gb_used</th>\n",
       "      <th>revenue</th>\n",
       "    </tr>\n",
       "  </thead>\n",
       "  <tbody>\n",
       "    <tr>\n",
       "      <th>5</th>\n",
       "      <td>1005</td>\n",
       "      <td>1</td>\n",
       "      <td>67</td>\n",
       "      <td>Набережные Челны</td>\n",
       "      <td>smart</td>\n",
       "      <td>15.0</td>\n",
       "      <td>95.0</td>\n",
       "      <td>7.0</td>\n",
       "      <td>2.664033</td>\n",
       "      <td>550.0</td>\n",
       "    </tr>\n",
       "    <tr>\n",
       "      <th>32</th>\n",
       "      <td>1032</td>\n",
       "      <td>1</td>\n",
       "      <td>31</td>\n",
       "      <td>Ульяновск</td>\n",
       "      <td>smart</td>\n",
       "      <td>61.0</td>\n",
       "      <td>380.0</td>\n",
       "      <td>38.0</td>\n",
       "      <td>23.562197</td>\n",
       "      <td>2350.0</td>\n",
       "    </tr>\n",
       "    <tr>\n",
       "      <th>45</th>\n",
       "      <td>1045</td>\n",
       "      <td>1</td>\n",
       "      <td>48</td>\n",
       "      <td>Улан-Удэ</td>\n",
       "      <td>smart</td>\n",
       "      <td>1.0</td>\n",
       "      <td>9.0</td>\n",
       "      <td>5.0</td>\n",
       "      <td>2.291709</td>\n",
       "      <td>550.0</td>\n",
       "    </tr>\n",
       "    <tr>\n",
       "      <th>55</th>\n",
       "      <td>1055</td>\n",
       "      <td>1</td>\n",
       "      <td>39</td>\n",
       "      <td>Казань</td>\n",
       "      <td>smart</td>\n",
       "      <td>64.0</td>\n",
       "      <td>551.0</td>\n",
       "      <td>30.0</td>\n",
       "      <td>16.690313</td>\n",
       "      <td>1103.0</td>\n",
       "    </tr>\n",
       "    <tr>\n",
       "      <th>71</th>\n",
       "      <td>1071</td>\n",
       "      <td>1</td>\n",
       "      <td>20</td>\n",
       "      <td>Омск</td>\n",
       "      <td>smart</td>\n",
       "      <td>24.0</td>\n",
       "      <td>194.0</td>\n",
       "      <td>16.0</td>\n",
       "      <td>15.238613</td>\n",
       "      <td>750.0</td>\n",
       "    </tr>\n",
       "    <tr>\n",
       "      <th>113</th>\n",
       "      <td>1113</td>\n",
       "      <td>1</td>\n",
       "      <td>52</td>\n",
       "      <td>Чита</td>\n",
       "      <td>smart</td>\n",
       "      <td>18.0</td>\n",
       "      <td>110.0</td>\n",
       "      <td>14.0</td>\n",
       "      <td>0.748262</td>\n",
       "      <td>550.0</td>\n",
       "    </tr>\n",
       "    <tr>\n",
       "      <th>120</th>\n",
       "      <td>1120</td>\n",
       "      <td>1</td>\n",
       "      <td>25</td>\n",
       "      <td>Краснодар</td>\n",
       "      <td>ultra</td>\n",
       "      <td>5.0</td>\n",
       "      <td>55.0</td>\n",
       "      <td>-1.0</td>\n",
       "      <td>0.641357</td>\n",
       "      <td>1950.0</td>\n",
       "    </tr>\n",
       "    <tr>\n",
       "      <th>126</th>\n",
       "      <td>1126</td>\n",
       "      <td>1</td>\n",
       "      <td>71</td>\n",
       "      <td>Санкт-Петербург</td>\n",
       "      <td>ultra</td>\n",
       "      <td>35.0</td>\n",
       "      <td>272.0</td>\n",
       "      <td>4.0</td>\n",
       "      <td>15.979521</td>\n",
       "      <td>1950.0</td>\n",
       "    </tr>\n",
       "    <tr>\n",
       "      <th>134</th>\n",
       "      <td>1134</td>\n",
       "      <td>1</td>\n",
       "      <td>65</td>\n",
       "      <td>Красноярск</td>\n",
       "      <td>smart</td>\n",
       "      <td>42.0</td>\n",
       "      <td>332.0</td>\n",
       "      <td>32.0</td>\n",
       "      <td>9.960947</td>\n",
       "      <td>550.0</td>\n",
       "    </tr>\n",
       "    <tr>\n",
       "      <th>135</th>\n",
       "      <td>1135</td>\n",
       "      <td>1</td>\n",
       "      <td>64</td>\n",
       "      <td>Архангельск</td>\n",
       "      <td>smart</td>\n",
       "      <td>9.0</td>\n",
       "      <td>90.0</td>\n",
       "      <td>1.0</td>\n",
       "      <td>1.562773</td>\n",
       "      <td>550.0</td>\n",
       "    </tr>\n",
       "    <tr>\n",
       "      <th>155</th>\n",
       "      <td>1155</td>\n",
       "      <td>1</td>\n",
       "      <td>71</td>\n",
       "      <td>Ставрополь</td>\n",
       "      <td>smart</td>\n",
       "      <td>44.0</td>\n",
       "      <td>337.0</td>\n",
       "      <td>48.0</td>\n",
       "      <td>19.654170</td>\n",
       "      <td>1550.0</td>\n",
       "    </tr>\n",
       "    <tr>\n",
       "      <th>168</th>\n",
       "      <td>1168</td>\n",
       "      <td>1</td>\n",
       "      <td>28</td>\n",
       "      <td>Кострома</td>\n",
       "      <td>ultra</td>\n",
       "      <td>38.0</td>\n",
       "      <td>277.0</td>\n",
       "      <td>14.0</td>\n",
       "      <td>7.961006</td>\n",
       "      <td>1950.0</td>\n",
       "    </tr>\n",
       "  </tbody>\n",
       "</table>\n",
       "</div>"
      ],
      "text/plain": [
       "     user_id  mth  age              city tariff_name  num_of_calls  \\\n",
       "5       1005    1   67  Набережные Челны       smart          15.0   \n",
       "32      1032    1   31         Ульяновск       smart          61.0   \n",
       "45      1045    1   48          Улан-Удэ       smart           1.0   \n",
       "55      1055    1   39            Казань       smart          64.0   \n",
       "71      1071    1   20              Омск       smart          24.0   \n",
       "113     1113    1   52              Чита       smart          18.0   \n",
       "120     1120    1   25         Краснодар       ultra           5.0   \n",
       "126     1126    1   71   Санкт-Петербург       ultra          35.0   \n",
       "134     1134    1   65        Красноярск       smart          42.0   \n",
       "135     1135    1   64       Архангельск       smart           9.0   \n",
       "155     1155    1   71        Ставрополь       smart          44.0   \n",
       "168     1168    1   28          Кострома       ultra          38.0   \n",
       "\n",
       "     sum_minutes  num_of_messages    gb_used  revenue  \n",
       "5           95.0              7.0   2.664033    550.0  \n",
       "32         380.0             38.0  23.562197   2350.0  \n",
       "45           9.0              5.0   2.291709    550.0  \n",
       "55         551.0             30.0  16.690313   1103.0  \n",
       "71         194.0             16.0  15.238613    750.0  \n",
       "113        110.0             14.0   0.748262    550.0  \n",
       "120         55.0             -1.0   0.641357   1950.0  \n",
       "126        272.0              4.0  15.979521   1950.0  \n",
       "134        332.0             32.0   9.960947    550.0  \n",
       "135         90.0              1.0   1.562773    550.0  \n",
       "155        337.0             48.0  19.654170   1550.0  \n",
       "168        277.0             14.0   7.961006   1950.0  "
      ]
     },
     "execution_count": 20,
     "metadata": {},
     "output_type": "execute_result"
    }
   ],
   "source": [
    "users_info.head(12)"
   ]
  },
  {
   "cell_type": "markdown",
   "metadata": {},
   "source": [
    "## Исследовательский анализ данных"
   ]
  },
  {
   "cell_type": "markdown",
   "metadata": {},
   "source": [
    "### Подготовка данных"
   ]
  },
  {
   "cell_type": "markdown",
   "metadata": {},
   "source": [
    "Подготовка необходимых выборок и назначение уровня значимости. В качестве уровня значимости установлено значение 0.05, т.к. значения меньше используются, как правило, в высокоточных исследованиях. В рамках текущей задачи необходимо определить общую тенденцию."
   ]
  },
  {
   "cell_type": "code",
   "execution_count": 21,
   "metadata": {},
   "outputs": [],
   "source": [
    "smart_users = users_info[users_info['tariff_name'] == 'smart']\n",
    "ultra_users = users_info[users_info['tariff_name'] == 'ultra']\n",
    "moscow = users_info[users_info['city'] == 'Москва']\n",
    "region = users_info[users_info['city'] != 'Москва']\n",
    "alpha = 0.05"
   ]
  },
  {
   "cell_type": "markdown",
   "metadata": {},
   "source": [
    "Вспомогательные функции для сокращения кода:"
   ]
  },
  {
   "cell_type": "code",
   "execution_count": 22,
   "metadata": {},
   "outputs": [],
   "source": [
    "def info_stat(smart, ultra, text):\n",
    "    print(f'Медиана {text} для тарифа Smart:', smart.median())\n",
    "    print(f'Среднее значение {text} для тарифа Smart:', smart.mean())\n",
    "    print(f'Дисперсия {text} для тарифа Smart:', np.var(smart))\n",
    "    print(f'Стандартное отклонение {text} для тарифа Smart:', np.std(smart))\n",
    "    print('-----------')\n",
    "    print(f'Медиана {text} для тарифа Ultra:', ultra.median())\n",
    "    print(f'Среднее значение {text} для тарифа Ultra:', ultra.mean())\n",
    "    print(f'Дисперсия {text} для тарифа Ultra:', np.var(ultra))\n",
    "    print(f'Стандартное отклонение {text} для тарифа Ultra:', np.std(ultra))\n",
    "    print('-----------')\n",
    "    print(f'Процентная разница между средними:', round(np.abs((ultra.mean() /  smart.mean() - 1) * 100),2), '%')\n",
    "def city_stat(moscow, region, text):\n",
    "    print(f'Медиана {text} для Москвы:', moscow.median())\n",
    "    print(f'Среднее значение {text} для Москвы:', moscow.mean())\n",
    "    print(f'Дисперсия {text} для Москвы:', np.var(moscow))\n",
    "    print(f'Стандартное отклонение {text} для Москвы:', np.std(moscow))\n",
    "    print('-----------')\n",
    "    print(f'Медиана {text} для остальных регионов:', region.median())\n",
    "    print(f'Среднее значение {text} для остальных регионов:', region.mean())\n",
    "    print(f'Дисперсия {text} для остальных регионов:', np.var(region))\n",
    "    print(f'Стандартное отклонение {text} для остальных регионов:', np.std(region))\n",
    "    print('-----------')\n",
    "    print(f'Процентная разница между средними:', round(np.abs((moscow.mean() /  region.mean() - 1) * 100),2), '%')"
   ]
  },
  {
   "cell_type": "markdown",
   "metadata": {},
   "source": [
    "### Исследование количества звонков"
   ]
  },
  {
   "cell_type": "markdown",
   "metadata": {},
   "source": [
    "Здесь и далее будет использоваться статистический тест Стьюдента о равенстве средних двух генеральных совокупностей (t-test). "
   ]
  },
  {
   "cell_type": "markdown",
   "metadata": {},
   "source": [
    "#### Для пользователей разных тарифов"
   ]
  },
  {
   "cell_type": "code",
   "execution_count": 23,
   "metadata": {},
   "outputs": [
    {
     "name": "stdout",
     "output_type": "stream",
     "text": [
      "Медиана количества звонков для тарифа Smart: 60.0\n",
      "Среднее значение количества звонков для тарифа Smart: 58.43408071748879\n",
      "Дисперсия количества звонков для тарифа Smart: 674.1748026302561\n",
      "Стандартное отклонение количества звонков для тарифа Smart: 25.96487632611132\n",
      "-----------\n",
      "Медиана количества звонков для тарифа Ultra: 73.5\n",
      "Среднее значение количества звонков для тарифа Ultra: 73.28296146044624\n",
      "Дисперсия количества звонков для тарифа Ultra: 1935.4746995461821\n",
      "Стандартное отклонение количества звонков для тарифа Ultra: 43.9940302716878\n",
      "-----------\n",
      "Процентная разница между средними: 25.41 %\n"
     ]
    },
    {
     "data": {
      "image/png": "[encoded data removed]",
      "text/plain": [
       "<Figure size 576x432 with 1 Axes>"
      ]
     },
     "metadata": {
      "needs_background": "light"
     },
     "output_type": "display_data"
    }
   ],
   "source": [
    "smart_users['num_of_calls'].hist(bins=20, alpha=0.7, label='smart', color='green', figsize=(8,6));\n",
    "ultra_users['num_of_calls'].hist(bins=20, alpha=0.7, label='ultra', color='blue');\n",
    "plt.axvline(smart_users['num_of_calls'].mean(), ls='--', color='green')\n",
    "plt.axvline(ultra_users['num_of_calls'].mean(), ls='--', color='blue')\n",
    "plt.title('Количество звонков пользователей разных тарифов');\n",
    "plt.legend();\n",
    "plt.xlabel('Количество звонков');\n",
    "info_stat(smart_users['num_of_calls'], ultra_users['num_of_calls'], 'количества звонков')"
   ]
  },
  {
   "cell_type": "code",
   "execution_count": 24,
   "metadata": {},
   "outputs": [
    {
     "name": "stdout",
     "output_type": "stream",
     "text": [
      "H0: средние двух генеральных совокупоностей равны\n",
      "H1: средние двух генеральных совокупоностей различаются\n",
      "p-значение: 4.5396403386913284e-32\n",
      "Отвергаем нулевую гипотезу о равенстве среднего количества звонков пользователей разных тарифов\n"
     ]
    }
   ],
   "source": [
    "print('H0: средние двух генеральных совокупоностей равны')\n",
    "print('H1: средние двух генеральных совокупоностей различаются')\n",
    "ttest = st.ttest_ind(smart_users['num_of_calls'], ultra_users['num_of_calls'])\n",
    "print('p-значение:',ttest.pvalue)\n",
    "if ttest.pvalue <= alpha:\n",
    "    print(\"Отвергаем нулевую гипотезу о равенстве среднего количества звонков пользователей разных тарифов\")\n",
    "else:\n",
    "    print(\"Не получилось отвергнуть нулевую гипотезу о равенстве среднего количества звонков пользователей разных тарифов\")"
   ]
  },
  {
   "cell_type": "markdown",
   "metadata": {},
   "source": [
    "**Вывод**: статистический тест о равенстве двух генеральных совокупностей показал, что гипотезу о равенстве можно отвергнуть, так как p-value существенно ниже установленного уровня значимости. Стоит обратить внимание, что на графике также заметно, что средние выборочные значения различаются довольно существенно. Таким образом можно заключить, что среднее количество звонков пользователей тарифа Ultra выше, чем количество звонков пользователей Smart."
   ]
  },
  {
   "cell_type": "markdown",
   "metadata": {},
   "source": [
    "#### Для пользователей из разных регионов"
   ]
  },
  {
   "cell_type": "code",
   "execution_count": 25,
   "metadata": {},
   "outputs": [
    {
     "name": "stdout",
     "output_type": "stream",
     "text": [
      "Медиана количества звонков для Москвы: 64.0\n",
      "Среднее значение количества звонков для Москвы: 65.43535188216039\n",
      "Дисперсия количества звонков для Москвы: 1099.7253623557206\n",
      "Стандартное отклонение количества звонков для Москвы: 33.16210732682289\n",
      "-----------\n",
      "Медиана количества звонков для остальных регионов: 62.0\n",
      "Среднее значение количества звонков для остальных регионов: 62.412284069097886\n",
      "Дисперсия количества звонков для остальных регионов: 1107.9006552436808\n",
      "Стандартное отклонение количества звонков для остальных регионов: 33.28514165875941\n",
      "-----------\n",
      "Процентная разница между средними: 4.84 %\n"
     ]
    },
    {
     "data": {
      "image/png": "[encoded data removed]",
      "text/plain": [
       "<Figure size 576x432 with 1 Axes>"
      ]
     },
     "metadata": {
      "needs_background": "light"
     },
     "output_type": "display_data"
    }
   ],
   "source": [
    "moscow['num_of_calls'].hist(bins=20, alpha=0.7, label='Moscow', color='darkblue', figsize=(8,6));\n",
    "region['num_of_calls'].hist(bins=20, alpha=0.7, label='Region', color='lightgreen');\n",
    "plt.axvline(moscow['num_of_calls'].mean(), ls='--', color='darkblue')\n",
    "plt.axvline(region['num_of_calls'].mean(), ls='--', color='lightgreen')\n",
    "plt.title('Количество звонков пользователей из разных регионов');\n",
    "plt.legend();\n",
    "plt.xlabel('Количество звонков');\n",
    "city_stat(moscow['num_of_calls'], region['num_of_calls'], 'количества звонков')"
   ]
  },
  {
   "cell_type": "code",
   "execution_count": 26,
   "metadata": {},
   "outputs": [
    {
     "name": "stdout",
     "output_type": "stream",
     "text": [
      "H0: средние двух генеральных совокупоностей равны\n",
      "H1: средние двух генеральных совокупоностей различаются\n",
      "p-значение: 0.04333015023434035\n",
      "Отвергаем нулевую гипотезу о равенстве среднего количества звонков пользователей из разных регионов\n"
     ]
    }
   ],
   "source": [
    "print('H0: средние двух генеральных совокупоностей равны')\n",
    "print('H1: средние двух генеральных совокупоностей различаются')\n",
    "ttest = st.ttest_ind(moscow['num_of_calls'], region['num_of_calls'])\n",
    "print('p-значение:',ttest.pvalue)\n",
    "if ttest.pvalue <= alpha:\n",
    "    print(\"Отвергаем нулевую гипотезу о равенстве среднего количества звонков пользователей из разных регионов\")\n",
    "else:\n",
    "    print(\"Не получилось отвергнуть нулевую гипотезу о равенстве среднего количества звонков пользователей из разных регионов\")"
   ]
  },
  {
   "cell_type": "markdown",
   "metadata": {},
   "source": [
    "**Вывод**: статистический тест о равенстве двух генеральных совокупностей показал, что гипотезу о равенстве можно отвергнуть, так как p-value ниже установленного уровня значимости. Важно отметить, что установив уровень значимости несколько ниже, отвергнуть гипотезу о равенстве было бы уже нельзя. Однако, в рамках данного эксперимента можно заключить, что среднее количество звонков пользователей из Москвы выше, чем количество звонков пользователей из других регионов."
   ]
  },
  {
   "cell_type": "markdown",
   "metadata": {},
   "source": [
    "### Исследование потраченных минут"
   ]
  },
  {
   "cell_type": "markdown",
   "metadata": {},
   "source": [
    "#### Для пользователей разных тарифов"
   ]
  },
  {
   "cell_type": "code",
   "execution_count": 27,
   "metadata": {},
   "outputs": [
    {
     "name": "stdout",
     "output_type": "stream",
     "text": [
      "Медиана расхода минут для тарифа Smart: 421.5\n",
      "Среднее значение расхода минут для тарифа Smart: 417.74439461883406\n",
      "Дисперсия расхода минут для тарифа Smart: 36267.74991252589\n",
      "Стандартное отклонение расхода минут для тарифа Smart: 190.4409354958274\n",
      "-----------\n",
      "Медиана расхода минут для тарифа Ultra: 518.0\n",
      "Среднее значение расхода минут для тарифа Ultra: 526.053752535497\n",
      "Дисперсия расхода минут для тарифа Ultra: 100987.38960559394\n",
      "Стандартное отклонение расхода минут для тарифа Ultra: 317.7851311902335\n",
      "-----------\n",
      "Процентная разница между средними: 25.93 %\n"
     ]
    },
    {
     "data": {
      "image/png": "[encoded data removed]",
      "text/plain": [
       "<Figure size 576x432 with 1 Axes>"
      ]
     },
     "metadata": {
      "needs_background": "light"
     },
     "output_type": "display_data"
    }
   ],
   "source": [
    "smart_users['sum_minutes'].hist(bins=20, alpha=0.7, label='smart', color='green', figsize=(8,6));\n",
    "ultra_users['sum_minutes'].hist(bins=20, alpha=0.7, label='ultra', color='blue');\n",
    "plt.axvline(smart_users['sum_minutes'].mean(), ls='--', color='green')\n",
    "plt.axvline(ultra_users['sum_minutes'].mean(), ls='--', color='blue')\n",
    "plt.title('Расход минут пользователей разных тарифов');\n",
    "plt.legend();\n",
    "plt.xlabel('Количество потраченных минут')\n",
    "info_stat(smart_users['sum_minutes'], ultra_users['sum_minutes'], 'расхода минут')"
   ]
  },
  {
   "cell_type": "code",
   "execution_count": 28,
   "metadata": {},
   "outputs": [
    {
     "data": {
      "image/png": "[encoded data removed]",
      "text/plain": [
       "<Figure size 576x432 with 1 Axes>"
      ]
     },
     "metadata": {
      "needs_background": "light"
     },
     "output_type": "display_data"
    }
   ],
   "source": [
    "users_info.boxplot(column='sum_minutes', by='tariff_name', figsize=(8, 6));"
   ]
  },
  {
   "cell_type": "code",
   "execution_count": 29,
   "metadata": {},
   "outputs": [
    {
     "name": "stdout",
     "output_type": "stream",
     "text": [
      "H0: средние двух генеральных совокупоностей равны\n",
      "H1: средние двух генеральных совокупоностей различаются\n",
      "p-значение: 3.024704974776528e-32\n",
      "Отвергаем нулевую гипотезу о равенстве среднего количества потраченных минут пользователей разных тарифов\n"
     ]
    }
   ],
   "source": [
    "print('H0: средние двух генеральных совокупоностей равны')\n",
    "print('H1: средние двух генеральных совокупоностей различаются')\n",
    "ttest = st.ttest_ind(smart_users['sum_minutes'], ultra_users['sum_minutes'])\n",
    "print('p-значение:',ttest.pvalue)\n",
    "if ttest.pvalue <= alpha:\n",
    "    print(\"Отвергаем нулевую гипотезу о равенстве среднего количества потраченных минут пользователей разных тарифов\")\n",
    "else:\n",
    "    print(\"Не получилось отвергнуть нулевую гипотезу о равенстве среднего количества потраченных минут пользователей разных тарифов\")"
   ]
  },
  {
   "cell_type": "markdown",
   "metadata": {},
   "source": [
    "**Вывод**: нулевая гипотеза вполне уверенно отвергается, на графике также видны существенные различия. Таким образом можно заключить, что пользователи тарифа Ultra расходуют больше минут, чем пользователи тарифа Smart."
   ]
  },
  {
   "cell_type": "markdown",
   "metadata": {},
   "source": [
    "#### Для пользователей из разных регионов"
   ]
  },
  {
   "cell_type": "code",
   "execution_count": 30,
   "metadata": {},
   "outputs": [
    {
     "name": "stdout",
     "output_type": "stream",
     "text": [
      "Медиана потраченных минут для Москвы: 453.0\n",
      "Среднее значение потраченных минут для Москвы: 469.1489361702128\n",
      "Дисперсия потраченных минут для Москвы: 58245.233137166135\n",
      "Стандартное отклонение потраченных минут для Москвы: 241.34049212091645\n",
      "-----------\n",
      "Медиана потраченных минут для остальных регионов: 440.0\n",
      "Среднее значение потраченных минут для остальных регионов: 446.68291746641074\n",
      "Дисперсия потраченных минут для остальных регионов: 58592.4937005095\n",
      "Стандартное отклонение потраченных минут для остальных регионов: 242.05886412298455\n",
      "-----------\n",
      "Процентная разница между средними: 5.03 %\n"
     ]
    },
    {
     "data": {
      "image/png": "[encoded data removed]",
      "text/plain": [
       "<Figure size 576x432 with 1 Axes>"
      ]
     },
     "metadata": {
      "needs_background": "light"
     },
     "output_type": "display_data"
    }
   ],
   "source": [
    "moscow['sum_minutes'].hist(bins=20, alpha=0.7, label='Moscow', color='darkblue', figsize=(8,6));\n",
    "region['sum_minutes'].hist(bins=20, alpha=0.7, label='Region', color='lightgreen');\n",
    "plt.axvline(moscow['sum_minutes'].mean(), ls='--', color='darkblue')\n",
    "plt.axvline(region['sum_minutes'].mean(), ls='--', color='lightgreen')\n",
    "plt.title('Количество потраченных минут пользователей из разных регионов');\n",
    "plt.legend();\n",
    "plt.xlabel('Количество потраченных минут')\n",
    "city_stat(moscow['sum_minutes'], region['sum_minutes'], 'потраченных минут')"
   ]
  },
  {
   "cell_type": "code",
   "execution_count": 31,
   "metadata": {},
   "outputs": [
    {
     "name": "stdout",
     "output_type": "stream",
     "text": [
      "H0: средние двух генеральных совокупоностей равны\n",
      "H1: средние двух генеральных совокупоностей различаются\n",
      "p-значение: 0.03897553078713986\n",
      "Отвергаем нулевую гипотезу о равенстве среднего количества потраченных минут пользователей из разных регионов\n"
     ]
    }
   ],
   "source": [
    "print('H0: средние двух генеральных совокупоностей равны')\n",
    "print('H1: средние двух генеральных совокупоностей различаются')\n",
    "ttest = st.ttest_ind(moscow['sum_minutes'], region['sum_minutes'])\n",
    "print('p-значение:',ttest.pvalue)\n",
    "if ttest.pvalue <= alpha:\n",
    "    print(\"Отвергаем нулевую гипотезу о равенстве среднего количества потраченных минут пользователей из разных регионов\")\n",
    "else:\n",
    "    print(\"Не получилось отвергнуть нулевую гипотезу о равенстве среднего количества потраченных минут пользователей из разных регионов\")"
   ]
  },
  {
   "cell_type": "markdown",
   "metadata": {},
   "source": [
    "**Вывод**: как и в предыдущем эксперименте с количеством звонком мы отвергаем нулевую гипотезу, обращая внимание на то, что понижение значения уровня значимости приведет к тому, что нулевую гипотезу отвергнуть будет нельзя. В рамках эксперимента можно заключить, что пользователи тарифа Ultra расходуют больше минут, чем пользователи тарифа Smart."
   ]
  },
  {
   "cell_type": "markdown",
   "metadata": {},
   "source": [
    "### Исследование расхода интернет-трафика"
   ]
  },
  {
   "cell_type": "markdown",
   "metadata": {},
   "source": [
    "#### Для пользователей разных тарифов"
   ]
  },
  {
   "cell_type": "code",
   "execution_count": 32,
   "metadata": {},
   "outputs": [
    {
     "name": "stdout",
     "output_type": "stream",
     "text": [
      "Медиана расхода интернет-трафика для тарифа Smart: 16.1186279296875\n",
      "Среднее значение расхода интернет-трафика для тарифа Smart: 15.820508075252242\n",
      "Дисперсия расхода интернет-трафика для тарифа Smart: 32.978096852053326\n",
      "Стандартное отклонение расхода интернет-трафика для тарифа Smart: 5.742655905768108\n",
      "-----------\n",
      "Медиана расхода интернет-трафика для тарифа Ultra: 18.851582031249997\n",
      "Среднее значение расхода интернет-трафика для тарифа Ultra: 18.982066439924573\n",
      "Дисперсия расхода интернет-трафика для тарифа Ultra: 97.6415498770648\n",
      "Стандартное отклонение расхода интернет-трафика для тарифа Ultra: 9.881373886108388\n",
      "-----------\n",
      "Процентная разница между средними: 19.98 %\n"
     ]
    },
    {
     "data": {
      "image/png": "[encoded data removed]",
      "text/plain": [
       "<Figure size 576x432 with 1 Axes>"
      ]
     },
     "metadata": {
      "needs_background": "light"
     },
     "output_type": "display_data"
    }
   ],
   "source": [
    "smart_users['gb_used'].hist(bins=20, alpha=0.7, label='smart', color='green', figsize=(8,6));\n",
    "ultra_users['gb_used'].hist(bins=20, alpha=0.7, label='ultra', color='blue');\n",
    "plt.axvline(smart_users['gb_used'].mean(), ls='--', color='green')\n",
    "plt.axvline(ultra_users['gb_used'].mean(), ls='--', color='blue')\n",
    "plt.title('Расход интернет-трафика (Гб) пользователей разных тарифов');\n",
    "plt.legend();\n",
    "plt.xlabel('Расход интернет-трафика')\n",
    "info_stat(smart_users['gb_used'], ultra_users['gb_used'], 'расхода интернет-трафика')"
   ]
  },
  {
   "cell_type": "code",
   "execution_count": 33,
   "metadata": {},
   "outputs": [
    {
     "data": {
      "image/png": "[encoded data removed]",
      "text/plain": [
       "<Figure size 576x432 with 1 Axes>"
      ]
     },
     "metadata": {
      "needs_background": "light"
     },
     "output_type": "display_data"
    }
   ],
   "source": [
    "users_info.boxplot(column='gb_used', by='tariff_name', figsize=(8, 6));"
   ]
  },
  {
   "cell_type": "code",
   "execution_count": 34,
   "metadata": {},
   "outputs": [
    {
     "name": "stdout",
     "output_type": "stream",
     "text": [
      "H0: средние двух генеральных совокупоностей равны\n",
      "H1: средние двух генеральных совокупоностей различаются\n",
      "p-значение: 2.0686740692882061e-29\n",
      "Отвергаем нулевую гипотезу о равенстве среднего расхода интернет-трафика пользователей разных тарифов\n"
     ]
    }
   ],
   "source": [
    "print('H0: средние двух генеральных совокупоностей равны')\n",
    "print('H1: средние двух генеральных совокупоностей различаются')\n",
    "ttest = st.ttest_ind(smart_users['gb_used'], ultra_users['gb_used'])\n",
    "print('p-значение:',ttest.pvalue)\n",
    "if ttest.pvalue <= alpha:\n",
    "    print(\"Отвергаем нулевую гипотезу о равенстве среднего расхода интернет-трафика пользователей разных тарифов\")\n",
    "else:\n",
    "    print(\"Не получилось отвергнуть нулевую гипотезу о равенстве среднего расхода интернет-трафика пользователей разных тарифов\")"
   ]
  },
  {
   "cell_type": "markdown",
   "metadata": {},
   "source": [
    "**Вывод**: в данном эксперименте также уверенно отвергается нулевая гипотеза. Интернет-трафик пользователи тарифа Ultra расходуют более активно, чем пользователи тарифа Smart."
   ]
  },
  {
   "cell_type": "markdown",
   "metadata": {},
   "source": [
    "#### Для пользователей из разных регионов"
   ]
  },
  {
   "cell_type": "code",
   "execution_count": 35,
   "metadata": {},
   "outputs": [
    {
     "name": "stdout",
     "output_type": "stream",
     "text": [
      "Медиана расхода интернет-трафика для Москвы: 17.126904296875\n",
      "Среднее значение расхода интернет-трафика для Москвы: 17.5428452971563\n",
      "Дисперсия расхода интернет-трафика для Москвы: 58.59639665043927\n",
      "Стандартное отклонение расхода интернет-трафика для Москвы: 7.654828322728033\n",
      "-----------\n",
      "Медиана расхода интернет-трафика для остальных регионов: 16.454003906249998\n",
      "Среднее значение расхода интернет-трафика для остальных регионов: 16.61319464146473\n",
      "Дисперсия расхода интернет-трафика для остальных регионов: 53.90383325781595\n",
      "Стандартное отклонение расхода интернет-трафика для остальных регионов: 7.341922994544137\n",
      "-----------\n",
      "Процентная разница между средними: 5.6 %\n"
     ]
    },
    {
     "data": {
      "image/png": "[encoded data removed]",
      "text/plain": [
       "<Figure size 576x432 with 1 Axes>"
      ]
     },
     "metadata": {
      "needs_background": "light"
     },
     "output_type": "display_data"
    }
   ],
   "source": [
    "moscow['gb_used'].hist(bins=20, alpha=0.7, label='Moscow', color='darkblue', figsize=(8,6));\n",
    "region['gb_used'].hist(bins=20, alpha=0.7, label='Region', color='lightgreen');\n",
    "plt.axvline(moscow['gb_used'].mean(), ls='--', color='darkblue')\n",
    "plt.axvline(region['gb_used'].mean(), ls='--', color='lightgreen')\n",
    "plt.title('Расход интернет-трафика (Гб) пользователей из разных регионов');\n",
    "plt.legend();\n",
    "plt.xlabel('Расход интернет-трафика')\n",
    "city_stat(moscow['gb_used'], region['gb_used'], 'расхода интернет-трафика')"
   ]
  },
  {
   "cell_type": "code",
   "execution_count": 36,
   "metadata": {},
   "outputs": [
    {
     "name": "stdout",
     "output_type": "stream",
     "text": [
      "H0: средние двух генеральных совокупоностей равны\n",
      "H1: средние двух генеральных совокупоностей различаются\n",
      "p-значение: 0.005252214208914043\n",
      "Отвергаем нулевую гипотезу о равенстве среднего расхода интернет-трафика пользователей из разных регионов\n"
     ]
    }
   ],
   "source": [
    "print('H0: средние двух генеральных совокупоностей равны')\n",
    "print('H1: средние двух генеральных совокупоностей различаются')\n",
    "ttest = st.ttest_ind(moscow['gb_used'], region['gb_used'])\n",
    "print('p-значение:',ttest.pvalue)\n",
    "if ttest.pvalue <= alpha:\n",
    "    print(\"Отвергаем нулевую гипотезу о равенстве среднего расхода интернет-трафика пользователей из разных регионов\")\n",
    "else:\n",
    "    print(\"Не получилось отвергнуть нулевую гипотезу о равенстве среднего расхода интернет-трафика пользователей из разных регионов\")"
   ]
  },
  {
   "cell_type": "markdown",
   "metadata": {},
   "source": [
    "**Вывод**: в данном эксперименте также нулевая гипотеза отвергается довольно уверенно. Москва расходует больше интернет-трафика, чем другие регионы."
   ]
  },
  {
   "cell_type": "markdown",
   "metadata": {},
   "source": [
    "### Исследование количества сообщений"
   ]
  },
  {
   "cell_type": "markdown",
   "metadata": {},
   "source": [
    "#### Для пользователей разных тарифов"
   ]
  },
  {
   "cell_type": "code",
   "execution_count": 37,
   "metadata": {},
   "outputs": [
    {
     "name": "stdout",
     "output_type": "stream",
     "text": [
      "Медиана количества сообщений для тарифа Smart: 28.0\n",
      "Среднее значение количества сообщений для тарифа Smart: 33.23094170403587\n",
      "Дисперсия количества сообщений для тарифа Smart: 805.9345583060186\n",
      "Стандартное отклонение количества сообщений для тарифа Smart: 28.388986567082995\n",
      "-----------\n",
      "Медиана количества сообщений для тарифа Ultra: 38.0\n",
      "Среднее значение количества сообщений для тарифа Ultra: 49.11967545638945\n",
      "Дисперсия количества сообщений для тарифа Ultra: 2302.360931334834\n",
      "Стандартное отклонение количества сообщений для тарифа Ultra: 47.98292333043948\n",
      "-----------\n",
      "Процентная разница между средними: 47.81 %\n"
     ]
    },
    {
     "data": {
      "image/png": "[encoded data removed]",
      "text/plain": [
       "<Figure size 576x432 with 1 Axes>"
      ]
     },
     "metadata": {
      "needs_background": "light"
     },
     "output_type": "display_data"
    }
   ],
   "source": [
    "smart_users['num_of_messages'].hist(bins=20, alpha=0.7, label='smart', color='green', figsize=(8,6));\n",
    "ultra_users['num_of_messages'].hist(bins=20, alpha=0.7, label='ultra', color='blue');\n",
    "plt.axvline(smart_users['num_of_messages'].mean(), ls='--', color='green')\n",
    "plt.axvline(ultra_users['num_of_messages'].mean(), ls='--', color='blue')\n",
    "plt.title('Расход сообщений пользователей разных тарифов');\n",
    "plt.xlabel('Количество сообщений')\n",
    "plt.legend();\n",
    "info_stat(smart_users['num_of_messages'], ultra_users['num_of_messages'], 'количества сообщений')"
   ]
  },
  {
   "cell_type": "code",
   "execution_count": 38,
   "metadata": {},
   "outputs": [
    {
     "data": {
      "image/png": "[encoded data removed]",
      "text/plain": [
       "<Figure size 576x432 with 1 Axes>"
      ]
     },
     "metadata": {
      "needs_background": "light"
     },
     "output_type": "display_data"
    }
   ],
   "source": [
    "users_info.boxplot(column='num_of_messages', by='tariff_name', figsize=(8, 6));"
   ]
  },
  {
   "cell_type": "code",
   "execution_count": 39,
   "metadata": {},
   "outputs": [
    {
     "name": "stdout",
     "output_type": "stream",
     "text": [
      "H0: средние двух генеральных совокупоностей равны\n",
      "H1: средние двух генеральных совокупоностей различаются\n",
      "p-значение: 6.842605863222315e-31\n",
      "Отвергаем нулевую гипотезу о равенстве среднего количества отправленных сообщений пользователей разных тарифов\n"
     ]
    }
   ],
   "source": [
    "print('H0: средние двух генеральных совокупоностей равны')\n",
    "print('H1: средние двух генеральных совокупоностей различаются')\n",
    "ttest = st.ttest_ind(smart_users['num_of_messages'], ultra_users['num_of_messages'])\n",
    "print('p-значение:',ttest.pvalue)\n",
    "if ttest.pvalue <= alpha:\n",
    "    print(\"Отвергаем нулевую гипотезу о равенстве среднего количества отправленных сообщений пользователей разных тарифов\")\n",
    "else:\n",
    "    print(\"Не получилось отвергнуть нулевую гипотезу о равенстве среднего количества отправленных сообщений пользователей разных тарифов\")"
   ]
  },
  {
   "cell_type": "markdown",
   "metadata": {},
   "source": [
    "**Вывод**: нулевая гипотеза уверенно отвергается. Количество отправленных сообщений у пользователей тарифа Ultra выше. При этом стоит обратит внимание, что довольно большое количество пользователей отправляет очень мало смс, либо вообще не отправляет."
   ]
  },
  {
   "cell_type": "markdown",
   "metadata": {},
   "source": [
    "#### Для пользователей из разных регионов"
   ]
  },
  {
   "cell_type": "code",
   "execution_count": 40,
   "metadata": {},
   "outputs": [
    {
     "name": "stdout",
     "output_type": "stream",
     "text": [
      "Медиана количества сообщений для Москвы: 29.0\n",
      "Среднее значение количества сообщений для Москвы: 37.680851063829785\n",
      "Дисперсия количества сообщений для Москвы: 1393.66410140335\n",
      "Стандартное отклонение количества сообщений для Москвы: 37.33181085084609\n",
      "-----------\n",
      "Медиана количества сообщений для остальных регионов: 30.0\n",
      "Среднее значение количества сообщений для остальных регионов: 38.20115163147793\n",
      "Дисперсия количества сообщений для остальных регионов: 1300.6912078867967\n",
      "Стандартное отклонение количества сообщений для остальных регионов: 36.06509680961354\n",
      "-----------\n",
      "Процентная разница между средними: 1.36 %\n"
     ]
    },
    {
     "data": {
      "image/png": "[encoded data removed]",
      "text/plain": [
       "<Figure size 576x432 with 1 Axes>"
      ]
     },
     "metadata": {
      "needs_background": "light"
     },
     "output_type": "display_data"
    }
   ],
   "source": [
    "moscow['num_of_messages'].hist(bins=20, alpha=0.7, label='Moscow', color='darkblue', figsize=(8,6));\n",
    "region['num_of_messages'].hist(bins=20, alpha=0.7, label='Region', color='lightgreen');\n",
    "plt.axvline(moscow['num_of_messages'].mean(), ls='--', color='darkblue')\n",
    "plt.axvline(region['num_of_messages'].mean(), ls='--', color='lightgreen')\n",
    "plt.title('Количество сообщений пользователей из разных регионов');\n",
    "plt.legend();\n",
    "plt.xlabel('Количество сообщений')\n",
    "city_stat(moscow['num_of_messages'], region['num_of_messages'], 'количества сообщений')"
   ]
  },
  {
   "cell_type": "code",
   "execution_count": 41,
   "metadata": {},
   "outputs": [
    {
     "name": "stdout",
     "output_type": "stream",
     "text": [
      "H0: средние двух генеральных совокупоностей равны\n",
      "H1: средние двух генеральных совокупоностей различаются\n",
      "p-значение: 0.7499817169096137\n",
      "Не получилось отвергнуть нулевую гипотезу о равенстве среднего количества отправленных сообщений пользователей из разных регионов\n"
     ]
    }
   ],
   "source": [
    "print('H0: средние двух генеральных совокупоностей равны')\n",
    "print('H1: средние двух генеральных совокупоностей различаются')\n",
    "ttest = st.ttest_ind(moscow['num_of_messages'], region['num_of_messages'])\n",
    "print('p-значение:',ttest.pvalue)\n",
    "if ttest.pvalue <= alpha:\n",
    "    print(\"Отвергаем нулевую гипотезу о равенстве среднего количества отправленных сообщений пользователей из разных регионов\")\n",
    "else:\n",
    "    print(\"Не получилось отвергнуть нулевую гипотезу о равенстве среднего количества отправленных сообщений пользователей из разных регионов\")"
   ]
  },
  {
   "cell_type": "markdown",
   "metadata": {},
   "source": [
    "**Вывод**: нулевую гипотезу отвергнуть не получилось, так как p-value существенно выше уровня значимости, а значит, что получить такое или еще более существенное различие довольно высокое при условии равенства средних двух генеральных совокупностей. Таким образом можно заключить, что жители Москвы и регионов отправляют примерно одинаковое количество сообщений."
   ]
  },
  {
   "cell_type": "markdown",
   "metadata": {},
   "source": [
    "### Исследование выручки"
   ]
  },
  {
   "cell_type": "markdown",
   "metadata": {},
   "source": [
    "#### Для пользователей разных тарифов"
   ]
  },
  {
   "cell_type": "code",
   "execution_count": 42,
   "metadata": {},
   "outputs": [
    {
     "name": "stdout",
     "output_type": "stream",
     "text": [
      "Медиана выручки для тарифа Smart: 1021.0\n",
      "Среднее значение выручки для тарифа Smart: 1289.6417040358745\n",
      "Дисперсия выручки для тарифа Smart: 669430.4361979931\n",
      "Стандартное отклонение выручки для тарифа Smart: 818.187286749185\n",
      "-----------\n",
      "Медиана выручки для тарифа Ultra: 1950.0\n",
      "Среднее значение выручки для тарифа Ultra: 2070.030425963489\n",
      "Дисперсия выручки для тарифа Ultra: 141244.31956107615\n",
      "Стандартное отклонение выручки для тарифа Ultra: 375.8248522398115\n",
      "-----------\n",
      "Процентная разница между средними: 60.51 %\n"
     ]
    },
    {
     "data": {
      "image/png": "[encoded data removed]",
      "text/plain": [
       "<Figure size 576x432 with 1 Axes>"
      ]
     },
     "metadata": {
      "needs_background": "light"
     },
     "output_type": "display_data"
    }
   ],
   "source": [
    "smart_users['revenue'].hist(bins=20, alpha=0.7, label='smart', color='green', figsize=(8,6));\n",
    "ultra_users['revenue'].hist(bins=20, alpha=0.7, label='ultra', color='blue');\n",
    "plt.axvline(smart_users['revenue'].mean(), ls='--', color='green')\n",
    "plt.axvline(ultra_users['revenue'].mean(), ls='--', color='blue')\n",
    "plt.title('Выручка с пользователей разных тарифов');\n",
    "plt.legend();\n",
    "plt.xlabel('Выручка/месяц')\n",
    "info_stat(smart_users['revenue'], ultra_users['revenue'], 'выручки')"
   ]
  },
  {
   "cell_type": "code",
   "execution_count": 43,
   "metadata": {},
   "outputs": [
    {
     "name": "stdout",
     "output_type": "stream",
     "text": [
      "H0: средние двух генеральных совокупоностей равны\n",
      "H1: средние двух генеральных совокупоностей различаются\n",
      "p-значение: 8.081909555489933e-161\n",
      "Отвергаем нулевую гипотезу о равенстве средней выручки пользователей разных тарифов\n"
     ]
    }
   ],
   "source": [
    "print('H0: средние двух генеральных совокупоностей равны')\n",
    "print('H1: средние двух генеральных совокупоностей различаются')\n",
    "ttest = st.ttest_ind(smart_users['revenue'], ultra_users['revenue'])\n",
    "print('p-значение:',ttest.pvalue)\n",
    "if ttest.pvalue <= alpha:\n",
    "    print(\"Отвергаем нулевую гипотезу о равенстве средней выручки пользователей разных тарифов\")\n",
    "else:\n",
    "    print(\"Не получилось отвергнуть нулевую гипотезу о равенстве средней выручки пользователей разных тарифов\")"
   ]
  },
  {
   "cell_type": "markdown",
   "metadata": {},
   "source": [
    "**Вывод**: выручка пользователей двух тарифов статистически значимо различается. Пользователи тарифа Ultra приносят больше выручки, чем пользователи тарифа Smart. При этом стоит заметить, что пользователи тарифа Ultra редко превышают включенный в тариф бесплатный лимит, а пользователи тарифа Smart довольно часто."
   ]
  },
  {
   "cell_type": "markdown",
   "metadata": {},
   "source": [
    "#### Для пользователей из разных регионов"
   ]
  },
  {
   "cell_type": "code",
   "execution_count": 44,
   "metadata": {},
   "outputs": [
    {
     "name": "stdout",
     "output_type": "stream",
     "text": [
      "Медиана выручки для Москвы: 1750.0\n",
      "Среднее значение выручки для Москвы: 1546.7135842880523\n",
      "Дисперсия выручки для Москвы: 564710.7117467273\n",
      "Стандартное отклонение выручки для Москвы: 751.4723625967407\n",
      "-----------\n",
      "Медиана выручки для остальных регионов: 1583.0\n",
      "Среднее значение выручки для остальных регионов: 1524.7251439539348\n",
      "Дисперсия выручки для остальных регионов: 653818.4925923496\n",
      "Стандартное отклонение выручки для остальных регионов: 808.5904356300225\n",
      "-----------\n",
      "Процентная разница между средними: 1.44 %\n"
     ]
    },
    {
     "data": {
      "image/png": "[encoded data removed]",
      "text/plain": [
       "<Figure size 576x432 with 1 Axes>"
      ]
     },
     "metadata": {
      "needs_background": "light"
     },
     "output_type": "display_data"
    }
   ],
   "source": [
    "moscow['revenue'].hist(bins=20, alpha=0.7, label='Moscow', color='darkblue', figsize=(8,6));\n",
    "region['revenue'].hist(bins=20, alpha=0.7, label='Region', color='lightgreen');\n",
    "plt.axvline(moscow['revenue'].mean(), ls='--', color='darkblue')\n",
    "plt.axvline(region['revenue'].mean(), ls='--', color='lightgreen')\n",
    "plt.title('Выручка с пользователей из разных регионов');\n",
    "plt.legend();\n",
    "plt.xlabel('Выручка/месяц')\n",
    "city_stat(moscow['revenue'], region['revenue'], 'выручки')"
   ]
  },
  {
   "cell_type": "code",
   "execution_count": 45,
   "metadata": {},
   "outputs": [
    {
     "name": "stdout",
     "output_type": "stream",
     "text": [
      "H0: средние двух генеральных совокупоностей равны\n",
      "H1: средние двух генеральных совокупоностей различаются\n",
      "p-значение: 0.5400751614511182\n",
      "Не получилось отвергнуть нулевую гипотезу о равенстве средней выручки пользователей из разных регионов\n"
     ]
    }
   ],
   "source": [
    "print('H0: средние двух генеральных совокупоностей равны')\n",
    "print('H1: средние двух генеральных совокупоностей различаются')\n",
    "ttest = st.ttest_ind(moscow['revenue'], region['revenue'])\n",
    "print('p-значение:',ttest.pvalue)\n",
    "if ttest.pvalue <= alpha:\n",
    "    print(\"Отвергаем нулевую гипотезу о равенстве средней выручки пользователей из разных регионов\")\n",
    "else:\n",
    "    print(\"Не получилось отвергнуть нулевую гипотезу о равенстве средней выручки пользователей из разных регионов\")"
   ]
  },
  {
   "cell_type": "markdown",
   "metadata": {},
   "source": [
    "**Вывод**: выручка с пользователей из Москвы и регионов статистически значимо не различается. Пиковые значения на графиках - это те пользователи, которые не превышают включенный лимит."
   ]
  },
  {
   "cell_type": "markdown",
   "metadata": {},
   "source": [
    "## Результаты исследования"
   ]
  },
  {
   "cell_type": "markdown",
   "metadata": {},
   "source": [
    "В ходе исследования был проведен обзор данных, их предварительная обработка, а также проведены статистические тесты, результатами которых стали следующие результаты:\n",
    "\n",
    "**В разрезе тарифа:**\n",
    "* Количество звонков пользователей тарифа Ultra превышает количество звонков пользователей тарифа Smart на 25.4%.\n",
    "* Количество израсходованных минут пользователей тарифа Ultra превышает количество израсходованных минут пользователей тарифа Smart на 25.9% .\n",
    "* Количество израсходованного интернет-трафика пользователями тарифа Ultra превышает количество израсходованного интернет-трафика пользователями тарифа Smart на 19.9% .\n",
    "* Количество отправленных сообщений пользователями тарифа Ultra превышает количество отправленных сообщений пользователями тарифа Smart на 47.8%.\n",
    "* Пользователи тарифа Ultra приносят больше выручки, чем пользователи тарифа Smart на 60.5%.\n",
    "\n",
    "**В разрезе региона:**\n",
    "* Количество звонков пользователей из Москвы превышает количество звонков пользователей из других регионов на 4.8%.\n",
    "* Количество израсходованных минут пользователей из Москвы превышает количество звонков пользователей из других регионов 5%.\n",
    "* Количество израсходованного интернет-трафика пользователями из Москвы превышает количество израсходованного интернет-трафика пользователями из других регионов на 5.6%.\n",
    "* Количество отправленных сообщений пользователями из Москвы статистически значимо не отличается от количества отправленных сообщений пользователями из других регионов.\n",
    "* Пользователи из Москвы приносят такой же доход, как и пользователи из регионов.\n",
    "\n",
    "**Заключение**: в целом, в результате эксперимента становится ясно, что тариф Ultra значительно выгоднее для оператора связи с точки зрения выручки, чем тариф Smart. При этом не установлено существенной разницы между пользователями Москвы и других регионов."
   ]
  }
 ],
 "metadata": {
  "ExecuteTimeLog": [
   {
    "duration": 741,
    "start_time": "2022-05-23T05:28:05.191Z"
   },
   {
    "duration": 295,
    "start_time": "2022-05-23T05:28:09.595Z"
   },
   {
    "duration": 205,
    "start_time": "2022-05-23T05:28:12.784Z"
   },
   {
    "duration": 1198,
    "start_time": "2022-05-23T05:29:19.857Z"
   },
   {
    "duration": 43,
    "start_time": "2022-05-23T05:30:12.603Z"
   },
   {
    "duration": 72,
    "start_time": "2022-05-23T05:30:22.059Z"
   },
   {
    "duration": 87,
    "start_time": "2022-05-23T05:30:41.863Z"
   },
   {
    "duration": 52,
    "start_time": "2022-05-23T05:39:45.788Z"
   },
   {
    "duration": 60,
    "start_time": "2022-05-23T05:39:57.089Z"
   },
   {
    "duration": 78,
    "start_time": "2022-05-23T05:40:49.020Z"
   },
   {
    "duration": 52,
    "start_time": "2022-05-23T05:40:49.865Z"
   },
   {
    "duration": 53,
    "start_time": "2022-05-23T05:40:50.173Z"
   },
   {
    "duration": 31,
    "start_time": "2022-05-23T05:40:50.498Z"
   },
   {
    "duration": 59,
    "start_time": "2022-05-23T05:48:06.618Z"
   },
   {
    "duration": 38,
    "start_time": "2022-05-23T05:48:37.983Z"
   },
   {
    "duration": 37,
    "start_time": "2022-05-23T05:49:02.554Z"
   },
   {
    "duration": 31,
    "start_time": "2022-05-23T05:49:08.422Z"
   },
   {
    "duration": 46,
    "start_time": "2022-05-23T05:52:16.548Z"
   },
   {
    "duration": 23,
    "start_time": "2022-05-23T05:59:57.965Z"
   },
   {
    "duration": 5,
    "start_time": "2022-05-23T06:00:11.706Z"
   },
   {
    "duration": 6,
    "start_time": "2022-05-23T06:00:14.586Z"
   },
   {
    "duration": 5,
    "start_time": "2022-05-23T06:00:17.080Z"
   },
   {
    "duration": 9,
    "start_time": "2022-05-23T06:00:19.274Z"
   },
   {
    "duration": 6,
    "start_time": "2022-05-23T06:00:26.724Z"
   },
   {
    "duration": 7,
    "start_time": "2022-05-23T06:00:29.086Z"
   },
   {
    "duration": 42,
    "start_time": "2022-05-23T06:00:46.788Z"
   },
   {
    "duration": 3,
    "start_time": "2022-05-23T06:00:49.518Z"
   },
   {
    "duration": 6,
    "start_time": "2022-05-23T06:00:58.276Z"
   },
   {
    "duration": 11,
    "start_time": "2022-05-23T06:01:01.464Z"
   },
   {
    "duration": 4,
    "start_time": "2022-05-23T06:01:05.019Z"
   },
   {
    "duration": 3,
    "start_time": "2022-05-23T06:01:23.078Z"
   },
   {
    "duration": 527,
    "start_time": "2022-05-23T06:04:21.913Z"
   },
   {
    "duration": 94,
    "start_time": "2022-05-23T06:04:23.685Z"
   },
   {
    "duration": 136,
    "start_time": "2022-05-23T06:04:26.456Z"
   },
   {
    "duration": 127,
    "start_time": "2022-05-23T06:06:05.057Z"
   },
   {
    "duration": 36,
    "start_time": "2022-05-23T06:06:07.987Z"
   },
   {
    "duration": 107,
    "start_time": "2022-05-23T06:06:58.398Z"
   },
   {
    "duration": 110,
    "start_time": "2022-05-23T06:07:01.342Z"
   },
   {
    "duration": 69,
    "start_time": "2022-05-23T06:07:11.964Z"
   },
   {
    "duration": 200,
    "start_time": "2022-05-23T06:07:23.893Z"
   },
   {
    "duration": 165,
    "start_time": "2022-05-23T06:08:10.399Z"
   },
   {
    "duration": 93,
    "start_time": "2022-05-23T06:08:38.389Z"
   },
   {
    "duration": 21,
    "start_time": "2022-05-23T06:08:40.057Z"
   },
   {
    "duration": 448,
    "start_time": "2022-05-23T06:23:19.856Z"
   },
   {
    "duration": 4,
    "start_time": "2022-05-23T06:23:42.225Z"
   },
   {
    "duration": 95,
    "start_time": "2022-05-23T06:23:59.560Z"
   },
   {
    "duration": 17,
    "start_time": "2022-05-23T06:25:02.857Z"
   },
   {
    "duration": 24,
    "start_time": "2022-05-23T06:25:15.076Z"
   },
   {
    "duration": 417,
    "start_time": "2022-05-23T06:26:03.907Z"
   },
   {
    "duration": 63,
    "start_time": "2022-05-23T06:26:10.014Z"
   },
   {
    "duration": 91,
    "start_time": "2022-05-23T06:26:14.013Z"
   },
   {
    "duration": 39,
    "start_time": "2022-05-23T06:26:15.057Z"
   },
   {
    "duration": 80,
    "start_time": "2022-05-23T06:26:33.105Z"
   },
   {
    "duration": 109,
    "start_time": "2022-05-23T06:26:38.992Z"
   },
   {
    "duration": 2,
    "start_time": "2022-05-23T06:26:51.588Z"
   },
   {
    "duration": 417,
    "start_time": "2022-05-23T06:26:51.592Z"
   },
   {
    "duration": 56,
    "start_time": "2022-05-23T06:26:52.012Z"
   },
   {
    "duration": 109,
    "start_time": "2022-05-23T06:26:52.069Z"
   },
   {
    "duration": 17,
    "start_time": "2022-05-23T06:26:52.180Z"
   },
   {
    "duration": 76,
    "start_time": "2022-05-23T06:26:52.199Z"
   },
   {
    "duration": 83,
    "start_time": "2022-05-23T06:26:52.277Z"
   },
   {
    "duration": 31,
    "start_time": "2022-05-23T06:26:52.364Z"
   },
   {
    "duration": 34,
    "start_time": "2022-05-23T06:26:52.397Z"
   },
   {
    "duration": 64,
    "start_time": "2022-05-23T06:26:52.433Z"
   },
   {
    "duration": 28,
    "start_time": "2022-05-23T06:26:52.499Z"
   },
   {
    "duration": 5,
    "start_time": "2022-05-23T06:27:55.545Z"
   },
   {
    "duration": 448,
    "start_time": "2022-05-23T06:27:55.553Z"
   },
   {
    "duration": 60,
    "start_time": "2022-05-23T06:27:56.003Z"
   },
   {
    "duration": 105,
    "start_time": "2022-05-23T06:27:56.064Z"
   },
   {
    "duration": 18,
    "start_time": "2022-05-23T06:27:56.171Z"
   },
   {
    "duration": 54,
    "start_time": "2022-05-23T06:27:56.190Z"
   },
   {
    "duration": 56,
    "start_time": "2022-05-23T06:27:56.246Z"
   },
   {
    "duration": 22,
    "start_time": "2022-05-23T06:27:56.304Z"
   },
   {
    "duration": 53,
    "start_time": "2022-05-23T06:27:56.327Z"
   },
   {
    "duration": 40,
    "start_time": "2022-05-23T06:27:56.382Z"
   },
   {
    "duration": 54,
    "start_time": "2022-05-23T06:27:56.424Z"
   },
   {
    "duration": 3,
    "start_time": "2022-05-23T06:28:09.245Z"
   },
   {
    "duration": 454,
    "start_time": "2022-05-23T06:28:09.250Z"
   },
   {
    "duration": 61,
    "start_time": "2022-05-23T06:28:09.706Z"
   },
   {
    "duration": 109,
    "start_time": "2022-05-23T06:28:09.771Z"
   },
   {
    "duration": 24,
    "start_time": "2022-05-23T06:28:09.883Z"
   },
   {
    "duration": 80,
    "start_time": "2022-05-23T06:28:09.909Z"
   },
   {
    "duration": 32,
    "start_time": "2022-05-23T06:28:09.990Z"
   },
   {
    "duration": 17,
    "start_time": "2022-05-23T06:28:10.024Z"
   },
   {
    "duration": 40,
    "start_time": "2022-05-23T06:28:10.068Z"
   },
   {
    "duration": 39,
    "start_time": "2022-05-23T06:28:10.110Z"
   },
   {
    "duration": 33,
    "start_time": "2022-05-23T06:28:10.175Z"
   },
   {
    "duration": 29,
    "start_time": "2022-05-23T06:30:36.592Z"
   },
   {
    "duration": 25,
    "start_time": "2022-05-23T06:45:13.336Z"
   },
   {
    "duration": 11,
    "start_time": "2022-05-23T06:45:45.926Z"
   },
   {
    "duration": 16,
    "start_time": "2022-05-23T06:48:05.002Z"
   },
   {
    "duration": 7,
    "start_time": "2022-05-23T06:59:41.222Z"
   },
   {
    "duration": 19,
    "start_time": "2022-05-23T06:59:50.210Z"
   },
   {
    "duration": 452,
    "start_time": "2022-05-23T07:02:06.028Z"
   },
   {
    "duration": 519,
    "start_time": "2022-05-23T07:02:06.485Z"
   },
   {
    "duration": 91,
    "start_time": "2022-05-23T07:02:07.006Z"
   },
   {
    "duration": 138,
    "start_time": "2022-05-23T07:02:07.100Z"
   },
   {
    "duration": 40,
    "start_time": "2022-05-23T07:02:07.240Z"
   },
   {
    "duration": 67,
    "start_time": "2022-05-23T07:02:07.282Z"
   },
   {
    "duration": 51,
    "start_time": "2022-05-23T07:02:07.351Z"
   },
   {
    "duration": 33,
    "start_time": "2022-05-23T07:02:07.405Z"
   },
   {
    "duration": 51,
    "start_time": "2022-05-23T07:02:07.440Z"
   },
   {
    "duration": 48,
    "start_time": "2022-05-23T07:02:07.496Z"
   },
   {
    "duration": 13,
    "start_time": "2022-05-23T07:02:07.546Z"
   },
   {
    "duration": 45,
    "start_time": "2022-05-23T07:02:07.562Z"
   },
   {
    "duration": 42,
    "start_time": "2022-05-23T07:02:07.610Z"
   },
   {
    "duration": 9,
    "start_time": "2022-05-23T07:02:07.654Z"
   },
   {
    "duration": 62,
    "start_time": "2022-05-23T07:02:07.671Z"
   },
   {
    "duration": 141,
    "start_time": "2022-05-23T07:02:37.452Z"
   },
   {
    "duration": 5,
    "start_time": "2022-05-23T07:02:54.563Z"
   },
   {
    "duration": 500,
    "start_time": "2022-05-23T07:02:54.570Z"
   },
   {
    "duration": 72,
    "start_time": "2022-05-23T07:02:55.071Z"
   },
   {
    "duration": 146,
    "start_time": "2022-05-23T07:02:55.145Z"
   },
   {
    "duration": 21,
    "start_time": "2022-05-23T07:02:55.293Z"
   },
   {
    "duration": 89,
    "start_time": "2022-05-23T07:02:55.316Z"
   },
   {
    "duration": 30,
    "start_time": "2022-05-23T07:02:55.407Z"
   },
   {
    "duration": 47,
    "start_time": "2022-05-23T07:02:55.439Z"
   },
   {
    "duration": 27,
    "start_time": "2022-05-23T07:02:55.500Z"
   },
   {
    "duration": 25,
    "start_time": "2022-05-23T07:02:55.529Z"
   },
   {
    "duration": 20,
    "start_time": "2022-05-23T07:02:55.556Z"
   },
   {
    "duration": 38,
    "start_time": "2022-05-23T07:02:55.577Z"
   },
   {
    "duration": 31,
    "start_time": "2022-05-23T07:02:55.617Z"
   },
   {
    "duration": 72,
    "start_time": "2022-05-23T07:02:55.650Z"
   },
   {
    "duration": 0,
    "start_time": "2022-05-23T07:02:55.723Z"
   },
   {
    "duration": 1693,
    "start_time": "2022-05-23T07:03:10.557Z"
   },
   {
    "duration": 545,
    "start_time": "2022-05-23T07:03:41.316Z"
   },
   {
    "duration": 475,
    "start_time": "2022-05-23T07:03:51.156Z"
   },
   {
    "duration": 745,
    "start_time": "2022-05-23T07:04:28.312Z"
   },
   {
    "duration": 868,
    "start_time": "2022-05-23T07:05:27.542Z"
   },
   {
    "duration": 96,
    "start_time": "2022-05-23T07:06:51.217Z"
   },
   {
    "duration": 649,
    "start_time": "2022-05-23T07:06:57.900Z"
   },
   {
    "duration": 8,
    "start_time": "2022-05-23T07:07:58.193Z"
   },
   {
    "duration": 18,
    "start_time": "2022-05-23T07:07:59.305Z"
   },
   {
    "duration": 23,
    "start_time": "2022-05-23T07:08:22.921Z"
   },
   {
    "duration": 3,
    "start_time": "2022-05-23T07:08:27.598Z"
   },
   {
    "duration": 437,
    "start_time": "2022-05-23T07:08:27.607Z"
   },
   {
    "duration": 72,
    "start_time": "2022-05-23T07:08:28.047Z"
   },
   {
    "duration": 122,
    "start_time": "2022-05-23T07:08:28.121Z"
   },
   {
    "duration": 30,
    "start_time": "2022-05-23T07:08:28.246Z"
   },
   {
    "duration": 64,
    "start_time": "2022-05-23T07:08:28.287Z"
   },
   {
    "duration": 44,
    "start_time": "2022-05-23T07:08:28.353Z"
   },
   {
    "duration": 24,
    "start_time": "2022-05-23T07:08:28.400Z"
   },
   {
    "duration": 45,
    "start_time": "2022-05-23T07:08:28.426Z"
   },
   {
    "duration": 38,
    "start_time": "2022-05-23T07:08:28.472Z"
   },
   {
    "duration": 11,
    "start_time": "2022-05-23T07:08:28.512Z"
   },
   {
    "duration": 19,
    "start_time": "2022-05-23T07:08:28.525Z"
   },
   {
    "duration": 72,
    "start_time": "2022-05-23T07:08:28.545Z"
   },
   {
    "duration": 7,
    "start_time": "2022-05-23T07:08:28.619Z"
   },
   {
    "duration": 47,
    "start_time": "2022-05-23T07:08:28.630Z"
   },
   {
    "duration": 21,
    "start_time": "2022-05-23T07:08:44.382Z"
   },
   {
    "duration": 4,
    "start_time": "2022-05-23T07:08:47.451Z"
   },
   {
    "duration": 497,
    "start_time": "2022-05-23T07:08:47.458Z"
   },
   {
    "duration": 77,
    "start_time": "2022-05-23T07:08:47.956Z"
   },
   {
    "duration": 120,
    "start_time": "2022-05-23T07:08:48.036Z"
   },
   {
    "duration": 37,
    "start_time": "2022-05-23T07:08:48.158Z"
   },
   {
    "duration": 90,
    "start_time": "2022-05-23T07:08:48.199Z"
   },
   {
    "duration": 33,
    "start_time": "2022-05-23T07:08:48.296Z"
   },
   {
    "duration": 17,
    "start_time": "2022-05-23T07:08:48.331Z"
   },
   {
    "duration": 46,
    "start_time": "2022-05-23T07:08:48.350Z"
   },
   {
    "duration": 32,
    "start_time": "2022-05-23T07:08:48.400Z"
   },
   {
    "duration": 10,
    "start_time": "2022-05-23T07:08:48.434Z"
   },
   {
    "duration": 35,
    "start_time": "2022-05-23T07:08:48.446Z"
   },
   {
    "duration": 43,
    "start_time": "2022-05-23T07:08:48.490Z"
   },
   {
    "duration": 5,
    "start_time": "2022-05-23T07:08:48.536Z"
   },
   {
    "duration": 54,
    "start_time": "2022-05-23T07:08:48.543Z"
   },
   {
    "duration": 13,
    "start_time": "2022-05-23T07:12:10.286Z"
   },
   {
    "duration": 3,
    "start_time": "2022-05-23T07:13:14.818Z"
   },
   {
    "duration": 4,
    "start_time": "2022-05-23T07:13:19.591Z"
   },
   {
    "duration": 441,
    "start_time": "2022-05-23T07:13:19.607Z"
   },
   {
    "duration": 77,
    "start_time": "2022-05-23T07:13:20.051Z"
   },
   {
    "duration": 117,
    "start_time": "2022-05-23T07:13:20.129Z"
   },
   {
    "duration": 26,
    "start_time": "2022-05-23T07:13:20.248Z"
   },
   {
    "duration": 67,
    "start_time": "2022-05-23T07:13:20.279Z"
   },
   {
    "duration": 67,
    "start_time": "2022-05-23T07:13:20.348Z"
   },
   {
    "duration": 17,
    "start_time": "2022-05-23T07:13:20.417Z"
   },
   {
    "duration": 58,
    "start_time": "2022-05-23T07:13:20.436Z"
   },
   {
    "duration": 25,
    "start_time": "2022-05-23T07:13:20.497Z"
   },
   {
    "duration": 12,
    "start_time": "2022-05-23T07:13:20.524Z"
   },
   {
    "duration": 48,
    "start_time": "2022-05-23T07:13:20.538Z"
   },
   {
    "duration": 46,
    "start_time": "2022-05-23T07:13:20.595Z"
   },
   {
    "duration": 7,
    "start_time": "2022-05-23T07:13:20.644Z"
   },
   {
    "duration": 48,
    "start_time": "2022-05-23T07:13:20.664Z"
   },
   {
    "duration": 14,
    "start_time": "2022-05-23T09:37:11.049Z"
   },
   {
    "duration": 3,
    "start_time": "2022-05-23T09:37:15.241Z"
   },
   {
    "duration": 443,
    "start_time": "2022-05-23T09:37:15.246Z"
   },
   {
    "duration": 63,
    "start_time": "2022-05-23T09:37:15.691Z"
   },
   {
    "duration": 103,
    "start_time": "2022-05-23T09:37:15.756Z"
   },
   {
    "duration": 19,
    "start_time": "2022-05-23T09:37:15.866Z"
   },
   {
    "duration": 79,
    "start_time": "2022-05-23T09:37:15.887Z"
   },
   {
    "duration": 33,
    "start_time": "2022-05-23T09:37:15.968Z"
   },
   {
    "duration": 18,
    "start_time": "2022-05-23T09:37:16.003Z"
   },
   {
    "duration": 52,
    "start_time": "2022-05-23T09:37:16.023Z"
   },
   {
    "duration": 30,
    "start_time": "2022-05-23T09:37:16.077Z"
   },
   {
    "duration": 10,
    "start_time": "2022-05-23T09:37:16.110Z"
   },
   {
    "duration": 46,
    "start_time": "2022-05-23T09:37:16.122Z"
   },
   {
    "duration": 29,
    "start_time": "2022-05-23T09:37:16.170Z"
   },
   {
    "duration": 5,
    "start_time": "2022-05-23T09:37:16.201Z"
   },
   {
    "duration": 20,
    "start_time": "2022-05-23T09:37:16.207Z"
   },
   {
    "duration": 5,
    "start_time": "2022-05-23T09:37:43.226Z"
   },
   {
    "duration": 4,
    "start_time": "2022-05-23T09:38:03.047Z"
   },
   {
    "duration": 8,
    "start_time": "2022-05-23T09:38:09.028Z"
   },
   {
    "duration": 47,
    "start_time": "2022-05-23T09:39:00.443Z"
   },
   {
    "duration": 10,
    "start_time": "2022-05-23T09:39:03.490Z"
   },
   {
    "duration": 11,
    "start_time": "2022-05-23T09:39:12.128Z"
   },
   {
    "duration": 478,
    "start_time": "2022-05-23T13:35:33.748Z"
   },
   {
    "duration": 426,
    "start_time": "2022-05-23T13:35:34.228Z"
   },
   {
    "duration": 70,
    "start_time": "2022-05-23T13:35:34.656Z"
   },
   {
    "duration": 119,
    "start_time": "2022-05-23T13:35:34.727Z"
   },
   {
    "duration": 24,
    "start_time": "2022-05-23T13:35:34.848Z"
   },
   {
    "duration": 66,
    "start_time": "2022-05-23T13:35:34.874Z"
   },
   {
    "duration": 63,
    "start_time": "2022-05-23T13:35:34.943Z"
   },
   {
    "duration": 21,
    "start_time": "2022-05-23T13:35:35.008Z"
   },
   {
    "duration": 46,
    "start_time": "2022-05-23T13:35:35.031Z"
   },
   {
    "duration": 24,
    "start_time": "2022-05-23T13:35:35.079Z"
   },
   {
    "duration": 10,
    "start_time": "2022-05-23T13:35:35.105Z"
   },
   {
    "duration": 47,
    "start_time": "2022-05-23T13:35:35.117Z"
   },
   {
    "duration": 31,
    "start_time": "2022-05-23T13:35:35.167Z"
   },
   {
    "duration": 7,
    "start_time": "2022-05-23T13:35:35.201Z"
   },
   {
    "duration": 26,
    "start_time": "2022-05-23T13:35:35.210Z"
   },
   {
    "duration": 11,
    "start_time": "2022-05-23T13:35:35.265Z"
   },
   {
    "duration": 3,
    "start_time": "2022-05-23T13:35:43.534Z"
   },
   {
    "duration": 458,
    "start_time": "2022-05-23T13:35:43.540Z"
   },
   {
    "duration": 71,
    "start_time": "2022-05-23T13:35:44.000Z"
   },
   {
    "duration": 108,
    "start_time": "2022-05-23T13:35:44.073Z"
   },
   {
    "duration": 15,
    "start_time": "2022-05-23T13:35:44.184Z"
   },
   {
    "duration": 79,
    "start_time": "2022-05-23T13:35:44.201Z"
   },
   {
    "duration": 31,
    "start_time": "2022-05-23T13:35:44.281Z"
   },
   {
    "duration": 16,
    "start_time": "2022-05-23T13:35:44.314Z"
   },
   {
    "duration": 54,
    "start_time": "2022-05-23T13:35:44.332Z"
   },
   {
    "duration": 24,
    "start_time": "2022-05-23T13:35:44.388Z"
   },
   {
    "duration": 11,
    "start_time": "2022-05-23T13:35:44.414Z"
   },
   {
    "duration": 48,
    "start_time": "2022-05-23T13:35:44.427Z"
   },
   {
    "duration": 29,
    "start_time": "2022-05-23T13:35:44.476Z"
   },
   {
    "duration": 5,
    "start_time": "2022-05-23T13:35:44.507Z"
   },
   {
    "duration": 52,
    "start_time": "2022-05-23T13:35:44.514Z"
   },
   {
    "duration": 11,
    "start_time": "2022-05-23T13:35:44.569Z"
   },
   {
    "duration": 3,
    "start_time": "2022-05-23T13:42:59.478Z"
   },
   {
    "duration": 4,
    "start_time": "2022-05-23T13:43:04.826Z"
   },
   {
    "duration": 11,
    "start_time": "2022-05-23T13:43:18.142Z"
   },
   {
    "duration": 10,
    "start_time": "2022-05-23T13:43:19.322Z"
   },
   {
    "duration": 28,
    "start_time": "2022-05-23T13:44:32.717Z"
   },
   {
    "duration": 14,
    "start_time": "2022-05-23T13:44:34.686Z"
   },
   {
    "duration": 29,
    "start_time": "2022-05-23T13:46:39.077Z"
   },
   {
    "duration": 13,
    "start_time": "2022-05-23T13:46:42.650Z"
   },
   {
    "duration": 25,
    "start_time": "2022-05-23T13:47:32.300Z"
   },
   {
    "duration": 85,
    "start_time": "2022-05-23T13:47:56.945Z"
   },
   {
    "duration": 23,
    "start_time": "2022-05-23T13:47:57.445Z"
   },
   {
    "duration": 28,
    "start_time": "2022-05-23T13:48:17.783Z"
   },
   {
    "duration": 14,
    "start_time": "2022-05-23T13:48:19.038Z"
   },
   {
    "duration": 17,
    "start_time": "2022-05-23T13:48:40.410Z"
   },
   {
    "duration": 12,
    "start_time": "2022-05-23T13:48:41.018Z"
   },
   {
    "duration": 55,
    "start_time": "2022-05-23T13:51:25.249Z"
   },
   {
    "duration": 61,
    "start_time": "2022-05-23T13:53:02.118Z"
   },
   {
    "duration": 51,
    "start_time": "2022-05-23T13:53:13.983Z"
   },
   {
    "duration": 59,
    "start_time": "2022-05-23T13:53:44.158Z"
   },
   {
    "duration": 62,
    "start_time": "2022-05-23T13:53:51.841Z"
   },
   {
    "duration": 122,
    "start_time": "2022-05-23T13:54:54.180Z"
   },
   {
    "duration": 51,
    "start_time": "2022-05-23T13:55:10.132Z"
   },
   {
    "duration": 21,
    "start_time": "2022-05-23T13:55:38.227Z"
   },
   {
    "duration": 48,
    "start_time": "2022-05-23T13:55:46.085Z"
   },
   {
    "duration": 26,
    "start_time": "2022-05-23T14:30:17.801Z"
   },
   {
    "duration": 35,
    "start_time": "2022-05-23T14:30:37.568Z"
   },
   {
    "duration": 32,
    "start_time": "2022-05-23T14:31:03.207Z"
   },
   {
    "duration": 33,
    "start_time": "2022-05-23T14:31:20.865Z"
   },
   {
    "duration": 33,
    "start_time": "2022-05-23T14:31:44.653Z"
   },
   {
    "duration": 32,
    "start_time": "2022-05-23T14:32:23.735Z"
   },
   {
    "duration": 33,
    "start_time": "2022-05-23T14:32:50.774Z"
   },
   {
    "duration": 33,
    "start_time": "2022-05-23T14:33:12.977Z"
   },
   {
    "duration": 35,
    "start_time": "2022-05-23T14:33:16.810Z"
   },
   {
    "duration": 41,
    "start_time": "2022-05-23T14:38:35.781Z"
   },
   {
    "duration": 4,
    "start_time": "2022-05-24T06:16:26.464Z"
   },
   {
    "duration": 3,
    "start_time": "2022-05-24T06:16:30.807Z"
   },
   {
    "duration": 432,
    "start_time": "2022-05-24T06:16:30.811Z"
   },
   {
    "duration": 56,
    "start_time": "2022-05-24T06:16:31.245Z"
   },
   {
    "duration": 93,
    "start_time": "2022-05-24T06:16:31.302Z"
   },
   {
    "duration": 15,
    "start_time": "2022-05-24T06:16:31.397Z"
   },
   {
    "duration": 50,
    "start_time": "2022-05-24T06:16:31.424Z"
   },
   {
    "duration": 47,
    "start_time": "2022-05-24T06:16:31.476Z"
   },
   {
    "duration": 16,
    "start_time": "2022-05-24T06:16:31.524Z"
   },
   {
    "duration": 23,
    "start_time": "2022-05-24T06:16:31.542Z"
   },
   {
    "duration": 23,
    "start_time": "2022-05-24T06:16:31.566Z"
   },
   {
    "duration": 39,
    "start_time": "2022-05-24T06:16:31.591Z"
   },
   {
    "duration": 14,
    "start_time": "2022-05-24T06:16:31.631Z"
   },
   {
    "duration": 36,
    "start_time": "2022-05-24T06:16:31.647Z"
   },
   {
    "duration": 5,
    "start_time": "2022-05-24T06:16:31.684Z"
   },
   {
    "duration": 36,
    "start_time": "2022-05-24T06:16:31.691Z"
   },
   {
    "duration": 46,
    "start_time": "2022-05-24T06:16:31.729Z"
   },
   {
    "duration": 49,
    "start_time": "2022-05-24T06:16:31.777Z"
   },
   {
    "duration": 38,
    "start_time": "2022-05-24T06:16:31.828Z"
   },
   {
    "duration": 3,
    "start_time": "2022-05-24T06:16:31.868Z"
   },
   {
    "duration": 9,
    "start_time": "2022-05-24T06:16:55.544Z"
   },
   {
    "duration": 8,
    "start_time": "2022-05-24T06:18:04.938Z"
   },
   {
    "duration": 29,
    "start_time": "2022-05-24T06:18:05.958Z"
   },
   {
    "duration": 13,
    "start_time": "2022-05-24T06:20:12.166Z"
   },
   {
    "duration": 34,
    "start_time": "2022-05-24T06:20:12.660Z"
   },
   {
    "duration": 5,
    "start_time": "2022-05-24T06:22:05.679Z"
   },
   {
    "duration": 18,
    "start_time": "2022-05-24T06:22:05.865Z"
   },
   {
    "duration": 9,
    "start_time": "2022-05-24T06:23:44.748Z"
   },
   {
    "duration": 9,
    "start_time": "2022-05-24T06:23:49.759Z"
   },
   {
    "duration": 11,
    "start_time": "2022-05-24T06:24:37.140Z"
   },
   {
    "duration": 6,
    "start_time": "2022-05-24T06:24:53.399Z"
   },
   {
    "duration": 11,
    "start_time": "2022-05-24T06:24:57.031Z"
   },
   {
    "duration": 8,
    "start_time": "2022-05-24T06:25:16.381Z"
   },
   {
    "duration": 9,
    "start_time": "2022-05-24T06:25:20.882Z"
   },
   {
    "duration": 9,
    "start_time": "2022-05-24T06:25:35.321Z"
   },
   {
    "duration": 9,
    "start_time": "2022-05-24T06:25:35.974Z"
   },
   {
    "duration": 16,
    "start_time": "2022-05-24T06:27:21.538Z"
   },
   {
    "duration": 14,
    "start_time": "2022-05-24T06:27:31.289Z"
   },
   {
    "duration": 19,
    "start_time": "2022-05-24T06:33:45.915Z"
   },
   {
    "duration": 11,
    "start_time": "2022-05-24T06:33:56.951Z"
   },
   {
    "duration": 76,
    "start_time": "2022-05-24T06:34:33.635Z"
   },
   {
    "duration": 22,
    "start_time": "2022-05-24T06:35:03.272Z"
   },
   {
    "duration": 188,
    "start_time": "2022-05-24T06:35:14.451Z"
   },
   {
    "duration": 10,
    "start_time": "2022-05-24T06:35:29.241Z"
   },
   {
    "duration": 4,
    "start_time": "2022-05-24T06:36:00.000Z"
   },
   {
    "duration": 5,
    "start_time": "2022-05-24T06:38:58.668Z"
   },
   {
    "duration": 7,
    "start_time": "2022-05-24T06:39:10.637Z"
   },
   {
    "duration": 6,
    "start_time": "2022-05-24T06:39:35.943Z"
   },
   {
    "duration": 5,
    "start_time": "2022-05-24T06:39:59.348Z"
   },
   {
    "duration": 5,
    "start_time": "2022-05-24T06:40:13.848Z"
   },
   {
    "duration": 10,
    "start_time": "2022-05-24T06:43:17.065Z"
   },
   {
    "duration": 11,
    "start_time": "2022-05-24T06:43:18.440Z"
   },
   {
    "duration": 7,
    "start_time": "2022-05-24T06:43:29.760Z"
   },
   {
    "duration": 17,
    "start_time": "2022-05-24T06:45:32.978Z"
   },
   {
    "duration": 15,
    "start_time": "2022-05-24T06:48:13.455Z"
   },
   {
    "duration": 22,
    "start_time": "2022-05-24T06:48:19.265Z"
   },
   {
    "duration": 10,
    "start_time": "2022-05-24T06:48:54.521Z"
   },
   {
    "duration": 17,
    "start_time": "2022-05-24T06:49:32.983Z"
   },
   {
    "duration": 15,
    "start_time": "2022-05-24T06:49:33.436Z"
   },
   {
    "duration": 21,
    "start_time": "2022-05-24T06:49:40.995Z"
   },
   {
    "duration": 20,
    "start_time": "2022-05-24T06:51:17.040Z"
   },
   {
    "duration": 27,
    "start_time": "2022-05-24T06:51:17.947Z"
   },
   {
    "duration": 28,
    "start_time": "2022-05-24T06:51:38.235Z"
   },
   {
    "duration": 24,
    "start_time": "2022-05-24T06:52:21.188Z"
   },
   {
    "duration": 30,
    "start_time": "2022-05-24T06:52:31.103Z"
   },
   {
    "duration": 19,
    "start_time": "2022-05-24T06:52:37.395Z"
   },
   {
    "duration": 19,
    "start_time": "2022-05-24T06:52:44.634Z"
   },
   {
    "duration": 31,
    "start_time": "2022-05-24T06:53:27.478Z"
   },
   {
    "duration": 31,
    "start_time": "2022-05-24T06:53:27.909Z"
   },
   {
    "duration": 27,
    "start_time": "2022-05-24T06:53:47.179Z"
   },
   {
    "duration": 19,
    "start_time": "2022-05-24T06:54:19.840Z"
   },
   {
    "duration": 24,
    "start_time": "2022-05-24T07:24:00.837Z"
   },
   {
    "duration": 23,
    "start_time": "2022-05-24T07:24:01.072Z"
   },
   {
    "duration": 28,
    "start_time": "2022-05-24T07:24:50.911Z"
   },
   {
    "duration": 22,
    "start_time": "2022-05-24T07:24:51.444Z"
   },
   {
    "duration": 32,
    "start_time": "2022-05-24T07:31:23.658Z"
   },
   {
    "duration": 37,
    "start_time": "2022-05-24T07:31:25.743Z"
   },
   {
    "duration": 34,
    "start_time": "2022-05-24T07:32:40.282Z"
   },
   {
    "duration": 41,
    "start_time": "2022-05-24T07:32:48.447Z"
   },
   {
    "duration": 54,
    "start_time": "2022-05-24T07:33:47.230Z"
   },
   {
    "duration": 31,
    "start_time": "2022-05-24T07:33:55.133Z"
   },
   {
    "duration": 28,
    "start_time": "2022-05-24T07:33:57.637Z"
   },
   {
    "duration": 38,
    "start_time": "2022-05-24T07:34:17.221Z"
   },
   {
    "duration": 28,
    "start_time": "2022-05-24T07:34:17.765Z"
   },
   {
    "duration": 37,
    "start_time": "2022-05-24T07:34:31.378Z"
   },
   {
    "duration": 31,
    "start_time": "2022-05-24T07:34:31.774Z"
   },
   {
    "duration": 45,
    "start_time": "2022-05-24T07:34:40.908Z"
   },
   {
    "duration": 43,
    "start_time": "2022-05-24T07:34:48.323Z"
   },
   {
    "duration": 4,
    "start_time": "2022-05-24T07:36:11.891Z"
   },
   {
    "duration": 39,
    "start_time": "2022-05-24T07:38:01.283Z"
   },
   {
    "duration": 33,
    "start_time": "2022-05-24T07:38:49.590Z"
   },
   {
    "duration": 43,
    "start_time": "2022-05-24T07:38:53.266Z"
   },
   {
    "duration": 47,
    "start_time": "2022-05-24T07:42:59.200Z"
   },
   {
    "duration": 6,
    "start_time": "2022-05-24T07:42:59.885Z"
   },
   {
    "duration": 56,
    "start_time": "2022-05-24T07:43:01.157Z"
   },
   {
    "duration": 39,
    "start_time": "2022-05-24T07:45:19.079Z"
   },
   {
    "duration": 4,
    "start_time": "2022-05-24T07:45:19.679Z"
   },
   {
    "duration": 60,
    "start_time": "2022-05-24T07:45:19.901Z"
   },
   {
    "duration": 47,
    "start_time": "2022-05-24T07:46:05.151Z"
   },
   {
    "duration": 5,
    "start_time": "2022-05-24T07:46:06.485Z"
   },
   {
    "duration": 51,
    "start_time": "2022-05-24T07:46:06.636Z"
   },
   {
    "duration": 84,
    "start_time": "2022-05-24T07:48:03.817Z"
   },
   {
    "duration": 169,
    "start_time": "2022-05-24T07:48:10.407Z"
   },
   {
    "duration": 160,
    "start_time": "2022-05-24T07:48:28.641Z"
   },
   {
    "duration": 55,
    "start_time": "2022-05-24T07:50:10.558Z"
   },
   {
    "duration": 32,
    "start_time": "2022-05-24T07:50:13.472Z"
   },
   {
    "duration": 249,
    "start_time": "2022-05-24T07:50:15.382Z"
   },
   {
    "duration": 55,
    "start_time": "2022-05-24T07:50:57.638Z"
   },
   {
    "duration": 14,
    "start_time": "2022-05-24T07:53:32.915Z"
   },
   {
    "duration": 50,
    "start_time": "2022-05-24T07:53:40.056Z"
   },
   {
    "duration": 60,
    "start_time": "2022-05-24T07:54:12.554Z"
   },
   {
    "duration": 6,
    "start_time": "2022-05-24T07:54:14.032Z"
   },
   {
    "duration": 59,
    "start_time": "2022-05-24T07:54:14.216Z"
   },
   {
    "duration": 44,
    "start_time": "2022-05-24T07:54:39.801Z"
   },
   {
    "duration": 4,
    "start_time": "2022-05-24T07:54:40.547Z"
   },
   {
    "duration": 52,
    "start_time": "2022-05-24T07:54:40.786Z"
   },
   {
    "duration": 388,
    "start_time": "2022-05-24T07:56:24.831Z"
   },
   {
    "duration": 35,
    "start_time": "2022-05-24T07:56:46.080Z"
   },
   {
    "duration": 35,
    "start_time": "2022-05-24T07:57:11.033Z"
   },
   {
    "duration": 30,
    "start_time": "2022-05-24T07:57:21.451Z"
   },
   {
    "duration": 46,
    "start_time": "2022-05-24T07:57:37.677Z"
   },
   {
    "duration": 4,
    "start_time": "2022-05-24T07:57:39.085Z"
   },
   {
    "duration": 46,
    "start_time": "2022-05-24T07:57:39.527Z"
   },
   {
    "duration": 76,
    "start_time": "2022-05-24T07:58:42.332Z"
   },
   {
    "duration": 5,
    "start_time": "2022-05-24T07:58:43.378Z"
   },
   {
    "duration": 48,
    "start_time": "2022-05-24T07:58:43.802Z"
   },
   {
    "duration": 89,
    "start_time": "2022-05-24T08:01:17.816Z"
   },
   {
    "duration": 61,
    "start_time": "2022-05-24T08:01:24.863Z"
   },
   {
    "duration": 50,
    "start_time": "2022-05-24T08:01:37.551Z"
   },
   {
    "duration": 65,
    "start_time": "2022-05-24T08:02:03.168Z"
   },
   {
    "duration": 4,
    "start_time": "2022-05-24T08:02:03.573Z"
   },
   {
    "duration": 41,
    "start_time": "2022-05-24T08:02:04.535Z"
   },
   {
    "duration": 52,
    "start_time": "2022-05-24T08:02:53.903Z"
   },
   {
    "duration": 7,
    "start_time": "2022-05-24T08:02:54.289Z"
   },
   {
    "duration": 31,
    "start_time": "2022-05-24T08:02:54.632Z"
   },
   {
    "duration": 53,
    "start_time": "2022-05-24T08:03:20.971Z"
   },
   {
    "duration": 4,
    "start_time": "2022-05-24T08:03:22.005Z"
   },
   {
    "duration": 35,
    "start_time": "2022-05-24T08:03:22.193Z"
   },
   {
    "duration": 49,
    "start_time": "2022-05-24T08:05:45.699Z"
   },
   {
    "duration": 59,
    "start_time": "2022-05-24T08:05:50.287Z"
   },
   {
    "duration": 5,
    "start_time": "2022-05-24T08:05:52.751Z"
   },
   {
    "duration": 51,
    "start_time": "2022-05-24T08:05:52.987Z"
   },
   {
    "duration": 32,
    "start_time": "2022-05-24T08:06:26.687Z"
   },
   {
    "duration": 49,
    "start_time": "2022-05-24T08:08:11.768Z"
   },
   {
    "duration": 5,
    "start_time": "2022-05-24T08:08:11.959Z"
   },
   {
    "duration": 31,
    "start_time": "2022-05-24T08:08:12.128Z"
   },
   {
    "duration": 69,
    "start_time": "2022-05-24T08:11:18.299Z"
   },
   {
    "duration": 5,
    "start_time": "2022-05-24T08:11:20.377Z"
   },
   {
    "duration": 39,
    "start_time": "2022-05-24T08:11:21.196Z"
   },
   {
    "duration": 47,
    "start_time": "2022-05-24T08:11:53.061Z"
   },
   {
    "duration": 5,
    "start_time": "2022-05-24T08:11:53.689Z"
   },
   {
    "duration": 30,
    "start_time": "2022-05-24T08:11:54.026Z"
   },
   {
    "duration": 52,
    "start_time": "2022-05-24T08:12:52.363Z"
   },
   {
    "duration": 4,
    "start_time": "2022-05-24T08:12:52.852Z"
   },
   {
    "duration": 33,
    "start_time": "2022-05-24T08:12:53.791Z"
   },
   {
    "duration": 62,
    "start_time": "2022-05-24T08:13:07.380Z"
   },
   {
    "duration": 5,
    "start_time": "2022-05-24T08:13:08.081Z"
   },
   {
    "duration": 31,
    "start_time": "2022-05-24T08:13:08.345Z"
   },
   {
    "duration": 43,
    "start_time": "2022-05-24T08:13:31.953Z"
   },
   {
    "duration": 21,
    "start_time": "2022-05-24T08:14:17.957Z"
   },
   {
    "duration": 490,
    "start_time": "2022-05-25T06:09:36.980Z"
   },
   {
    "duration": 1354,
    "start_time": "2022-05-25T06:09:37.474Z"
   },
   {
    "duration": 97,
    "start_time": "2022-05-25T06:09:38.830Z"
   },
   {
    "duration": 146,
    "start_time": "2022-05-25T06:09:38.929Z"
   },
   {
    "duration": 38,
    "start_time": "2022-05-25T06:09:39.077Z"
   },
   {
    "duration": 53,
    "start_time": "2022-05-25T06:09:39.120Z"
   },
   {
    "duration": 38,
    "start_time": "2022-05-25T06:09:39.175Z"
   },
   {
    "duration": 21,
    "start_time": "2022-05-25T06:09:39.214Z"
   },
   {
    "duration": 34,
    "start_time": "2022-05-25T06:09:39.237Z"
   },
   {
    "duration": 49,
    "start_time": "2022-05-25T06:09:39.273Z"
   },
   {
    "duration": 13,
    "start_time": "2022-05-25T06:09:39.324Z"
   },
   {
    "duration": 21,
    "start_time": "2022-05-25T06:09:39.339Z"
   },
   {
    "duration": 60,
    "start_time": "2022-05-25T06:09:39.361Z"
   },
   {
    "duration": 8,
    "start_time": "2022-05-25T06:09:39.424Z"
   },
   {
    "duration": 28,
    "start_time": "2022-05-25T06:09:39.434Z"
   },
   {
    "duration": 89,
    "start_time": "2022-05-25T06:09:39.464Z"
   },
   {
    "duration": 53,
    "start_time": "2022-05-25T06:09:39.554Z"
   },
   {
    "duration": 48,
    "start_time": "2022-05-25T06:09:39.610Z"
   },
   {
    "duration": 89,
    "start_time": "2022-05-25T06:09:39.660Z"
   },
   {
    "duration": 17,
    "start_time": "2022-05-25T06:09:39.751Z"
   },
   {
    "duration": 58,
    "start_time": "2022-05-25T06:10:31.656Z"
   },
   {
    "duration": 15,
    "start_time": "2022-05-25T06:10:32.352Z"
   },
   {
    "duration": 8,
    "start_time": "2022-05-25T06:12:37.969Z"
   },
   {
    "duration": 82,
    "start_time": "2022-05-25T06:13:07.249Z"
   },
   {
    "duration": 924,
    "start_time": "2022-05-25T06:13:14.942Z"
   },
   {
    "duration": 135,
    "start_time": "2022-05-25T06:13:35.613Z"
   },
   {
    "duration": 168,
    "start_time": "2022-05-25T06:14:23.410Z"
   },
   {
    "duration": 3,
    "start_time": "2022-05-25T06:14:48.083Z"
   },
   {
    "duration": 159,
    "start_time": "2022-05-25T06:14:53.261Z"
   },
   {
    "duration": 164,
    "start_time": "2022-05-25T06:14:57.696Z"
   },
   {
    "duration": 180,
    "start_time": "2022-05-25T06:15:04.284Z"
   },
   {
    "duration": 220,
    "start_time": "2022-05-25T06:15:08.199Z"
   },
   {
    "duration": 261,
    "start_time": "2022-05-25T06:15:13.270Z"
   },
   {
    "duration": 194,
    "start_time": "2022-05-25T06:15:27.895Z"
   },
   {
    "duration": 189,
    "start_time": "2022-05-25T06:15:35.037Z"
   },
   {
    "duration": 213,
    "start_time": "2022-05-25T06:15:42.805Z"
   },
   {
    "duration": 223,
    "start_time": "2022-05-25T06:16:18.911Z"
   },
   {
    "duration": 204,
    "start_time": "2022-05-25T06:16:52.121Z"
   },
   {
    "duration": 223,
    "start_time": "2022-05-25T06:17:25.871Z"
   },
   {
    "duration": 5,
    "start_time": "2022-05-25T06:19:41.507Z"
   },
   {
    "duration": 236,
    "start_time": "2022-05-25T06:19:56.805Z"
   },
   {
    "duration": 204,
    "start_time": "2022-05-25T06:21:59.144Z"
   },
   {
    "duration": 389,
    "start_time": "2022-05-25T06:22:04.018Z"
   },
   {
    "duration": 203,
    "start_time": "2022-05-25T06:22:14.878Z"
   },
   {
    "duration": 501,
    "start_time": "2022-05-25T06:23:06.144Z"
   },
   {
    "duration": 351,
    "start_time": "2022-05-25T06:23:24.013Z"
   },
   {
    "duration": 385,
    "start_time": "2022-05-25T06:23:46.260Z"
   },
   {
    "duration": 327,
    "start_time": "2022-05-25T06:24:14.081Z"
   },
   {
    "duration": 234,
    "start_time": "2022-05-25T06:24:26.385Z"
   },
   {
    "duration": 374,
    "start_time": "2022-05-25T06:24:36.687Z"
   },
   {
    "duration": 3,
    "start_time": "2022-05-25T06:27:12.988Z"
   },
   {
    "duration": 354,
    "start_time": "2022-05-25T06:27:43.181Z"
   },
   {
    "duration": 409,
    "start_time": "2022-05-25T06:28:44.681Z"
   },
   {
    "duration": 394,
    "start_time": "2022-05-25T06:29:01.681Z"
   },
   {
    "duration": 442,
    "start_time": "2022-05-25T06:29:11.254Z"
   },
   {
    "duration": 406,
    "start_time": "2022-05-25T06:29:39.991Z"
   },
   {
    "duration": 447,
    "start_time": "2022-05-25T06:30:39.191Z"
   },
   {
    "duration": 524,
    "start_time": "2022-05-25T06:30:53.085Z"
   },
   {
    "duration": 471,
    "start_time": "2022-05-25T06:31:08.874Z"
   },
   {
    "duration": 418,
    "start_time": "2022-05-25T06:31:15.398Z"
   },
   {
    "duration": 396,
    "start_time": "2022-05-25T06:31:21.898Z"
   },
   {
    "duration": 359,
    "start_time": "2022-05-25T06:34:55.349Z"
   },
   {
    "duration": 382,
    "start_time": "2022-05-25T06:37:05.364Z"
   },
   {
    "duration": 387,
    "start_time": "2022-05-25T06:37:06.244Z"
   },
   {
    "duration": 355,
    "start_time": "2022-05-25T06:37:21.217Z"
   },
   {
    "duration": 361,
    "start_time": "2022-05-25T06:37:22.553Z"
   },
   {
    "duration": 2,
    "start_time": "2022-05-25T06:44:26.587Z"
   },
   {
    "duration": 5,
    "start_time": "2022-05-25T06:47:09.945Z"
   },
   {
    "duration": 419,
    "start_time": "2022-05-25T06:47:54.915Z"
   },
   {
    "duration": 5,
    "start_time": "2022-05-25T06:48:11.409Z"
   },
   {
    "duration": 350,
    "start_time": "2022-05-25T06:48:12.659Z"
   },
   {
    "duration": 321,
    "start_time": "2022-05-25T06:48:50.348Z"
   },
   {
    "duration": 359,
    "start_time": "2022-05-25T06:52:22.059Z"
   },
   {
    "duration": 324,
    "start_time": "2022-05-25T06:55:39.257Z"
   },
   {
    "duration": 319,
    "start_time": "2022-05-25T06:55:42.936Z"
   },
   {
    "duration": 37,
    "start_time": "2022-05-25T06:58:00.861Z"
   },
   {
    "duration": 7,
    "start_time": "2022-05-25T06:58:04.769Z"
   },
   {
    "duration": 6,
    "start_time": "2022-05-25T07:03:17.205Z"
   },
   {
    "duration": 8,
    "start_time": "2022-05-25T07:09:59.372Z"
   },
   {
    "duration": 951,
    "start_time": "2022-05-25T07:10:36.420Z"
   },
   {
    "duration": 37,
    "start_time": "2022-05-25T07:13:51.752Z"
   },
   {
    "duration": 5,
    "start_time": "2022-05-25T07:14:01.727Z"
   },
   {
    "duration": 6,
    "start_time": "2022-05-25T07:14:51.800Z"
   },
   {
    "duration": 7,
    "start_time": "2022-05-25T07:16:18.287Z"
   },
   {
    "duration": 6,
    "start_time": "2022-05-25T07:16:30.383Z"
   },
   {
    "duration": 6,
    "start_time": "2022-05-25T07:19:53.411Z"
   },
   {
    "duration": 3,
    "start_time": "2022-05-25T07:21:26.258Z"
   },
   {
    "duration": 15,
    "start_time": "2022-05-25T07:30:11.256Z"
   },
   {
    "duration": 7,
    "start_time": "2022-05-25T07:30:27.641Z"
   },
   {
    "duration": 350,
    "start_time": "2022-05-25T07:30:36.516Z"
   },
   {
    "duration": 5,
    "start_time": "2022-05-25T07:31:18.819Z"
   },
   {
    "duration": 348,
    "start_time": "2022-05-25T07:31:22.587Z"
   },
   {
    "duration": 361,
    "start_time": "2022-05-25T07:31:36.374Z"
   },
   {
    "duration": 320,
    "start_time": "2022-05-25T07:31:42.409Z"
   },
   {
    "duration": 341,
    "start_time": "2022-05-25T07:31:47.437Z"
   },
   {
    "duration": 380,
    "start_time": "2022-05-25T07:32:01.555Z"
   },
   {
    "duration": 340,
    "start_time": "2022-05-25T07:32:18.908Z"
   },
   {
    "duration": 350,
    "start_time": "2022-05-25T07:32:27.883Z"
   },
   {
    "duration": 128,
    "start_time": "2022-05-25T07:32:47.077Z"
   },
   {
    "duration": 388,
    "start_time": "2022-05-25T07:32:49.365Z"
   },
   {
    "duration": 455,
    "start_time": "2022-05-25T07:32:58.876Z"
   },
   {
    "duration": 393,
    "start_time": "2022-05-25T07:33:06.065Z"
   },
   {
    "duration": 337,
    "start_time": "2022-05-25T07:33:24.324Z"
   },
   {
    "duration": 370,
    "start_time": "2022-05-25T07:33:32.364Z"
   },
   {
    "duration": 6,
    "start_time": "2022-05-25T07:33:55.798Z"
   },
   {
    "duration": 6,
    "start_time": "2022-05-25T07:34:04.491Z"
   },
   {
    "duration": 7,
    "start_time": "2022-05-25T07:38:58.300Z"
   },
   {
    "duration": 318,
    "start_time": "2022-05-25T07:39:26.928Z"
   },
   {
    "duration": 371,
    "start_time": "2022-05-25T07:41:43.188Z"
   },
   {
    "duration": 6,
    "start_time": "2022-05-25T07:41:45.989Z"
   },
   {
    "duration": 318,
    "start_time": "2022-05-25T07:42:56.316Z"
   },
   {
    "duration": 4,
    "start_time": "2022-05-25T07:43:00.287Z"
   },
   {
    "duration": 495,
    "start_time": "2022-05-25T07:43:35.624Z"
   },
   {
    "duration": 5,
    "start_time": "2022-05-25T07:44:18.970Z"
   },
   {
    "duration": 356,
    "start_time": "2022-05-25T07:44:25.284Z"
   },
   {
    "duration": 5,
    "start_time": "2022-05-25T07:44:26.176Z"
   },
   {
    "duration": 338,
    "start_time": "2022-05-25T07:45:03.408Z"
   },
   {
    "duration": 6,
    "start_time": "2022-05-25T07:45:06.636Z"
   },
   {
    "duration": 313,
    "start_time": "2022-05-25T07:45:23.925Z"
   },
   {
    "duration": 512,
    "start_time": "2022-05-25T07:45:58.428Z"
   },
   {
    "duration": 344,
    "start_time": "2022-05-25T07:47:33.152Z"
   },
   {
    "duration": 371,
    "start_time": "2022-05-25T07:48:00.926Z"
   },
   {
    "duration": 332,
    "start_time": "2022-05-25T07:48:32.925Z"
   },
   {
    "duration": 6,
    "start_time": "2022-05-25T07:48:38.133Z"
   },
   {
    "duration": 1292,
    "start_time": "2022-05-25T18:25:25.781Z"
   },
   {
    "duration": 1178,
    "start_time": "2022-05-25T18:25:27.076Z"
   },
   {
    "duration": 64,
    "start_time": "2022-05-25T18:25:28.255Z"
   },
   {
    "duration": 103,
    "start_time": "2022-05-25T18:25:28.320Z"
   },
   {
    "duration": 16,
    "start_time": "2022-05-25T18:25:28.425Z"
   },
   {
    "duration": 57,
    "start_time": "2022-05-25T18:25:28.442Z"
   },
   {
    "duration": 46,
    "start_time": "2022-05-25T18:25:28.501Z"
   },
   {
    "duration": 17,
    "start_time": "2022-05-25T18:25:28.548Z"
   },
   {
    "duration": 21,
    "start_time": "2022-05-25T18:25:28.567Z"
   },
   {
    "duration": 21,
    "start_time": "2022-05-25T18:25:28.589Z"
   },
   {
    "duration": 43,
    "start_time": "2022-05-25T18:25:28.612Z"
   },
   {
    "duration": 15,
    "start_time": "2022-05-25T18:25:28.656Z"
   },
   {
    "duration": 27,
    "start_time": "2022-05-25T18:25:28.672Z"
   },
   {
    "duration": 5,
    "start_time": "2022-05-25T18:25:28.701Z"
   },
   {
    "duration": 43,
    "start_time": "2022-05-25T18:25:28.708Z"
   },
   {
    "duration": 45,
    "start_time": "2022-05-25T18:25:28.754Z"
   },
   {
    "duration": 48,
    "start_time": "2022-05-25T18:25:28.801Z"
   },
   {
    "duration": 43,
    "start_time": "2022-05-25T18:25:28.851Z"
   },
   {
    "duration": 63,
    "start_time": "2022-05-25T18:25:28.895Z"
   },
   {
    "duration": 22,
    "start_time": "2022-05-25T18:25:28.961Z"
   },
   {
    "duration": 9,
    "start_time": "2022-05-25T18:25:28.985Z"
   },
   {
    "duration": 8,
    "start_time": "2022-05-25T18:25:28.996Z"
   },
   {
    "duration": 487,
    "start_time": "2022-05-25T18:25:29.005Z"
   },
   {
    "duration": 5,
    "start_time": "2022-05-25T18:25:29.493Z"
   },
   {
    "duration": 411,
    "start_time": "2022-05-25T18:25:29.499Z"
   },
   {
    "duration": 5,
    "start_time": "2022-05-25T18:25:29.912Z"
   },
   {
    "duration": 387,
    "start_time": "2022-05-25T18:25:29.919Z"
   },
   {
    "duration": 6,
    "start_time": "2022-05-25T18:25:30.308Z"
   },
   {
    "duration": 388,
    "start_time": "2022-05-25T18:25:30.315Z"
   },
   {
    "duration": 5,
    "start_time": "2022-05-25T18:25:30.705Z"
   },
   {
    "duration": 371,
    "start_time": "2022-05-25T18:25:30.712Z"
   },
   {
    "duration": 6,
    "start_time": "2022-05-25T18:25:31.085Z"
   },
   {
    "duration": 395,
    "start_time": "2022-05-25T18:25:31.093Z"
   },
   {
    "duration": 5,
    "start_time": "2022-05-25T18:25:31.490Z"
   },
   {
    "duration": 380,
    "start_time": "2022-05-25T18:25:31.497Z"
   },
   {
    "duration": 6,
    "start_time": "2022-05-25T18:25:31.879Z"
   },
   {
    "duration": 405,
    "start_time": "2022-05-25T18:25:31.888Z"
   },
   {
    "duration": 5,
    "start_time": "2022-05-25T18:25:32.295Z"
   },
   {
    "duration": 387,
    "start_time": "2022-05-25T18:25:32.302Z"
   },
   {
    "duration": 6,
    "start_time": "2022-05-25T18:25:32.690Z"
   },
   {
    "duration": 399,
    "start_time": "2022-05-25T18:25:32.699Z"
   },
   {
    "duration": 7,
    "start_time": "2022-05-25T18:25:33.100Z"
   },
   {
    "duration": 1295,
    "start_time": "2022-05-25T22:19:31.611Z"
   },
   {
    "duration": 1022,
    "start_time": "2022-05-25T22:19:32.908Z"
   },
   {
    "duration": 62,
    "start_time": "2022-05-25T22:19:33.932Z"
   },
   {
    "duration": 110,
    "start_time": "2022-05-25T22:19:33.996Z"
   },
   {
    "duration": 29,
    "start_time": "2022-05-25T22:19:34.108Z"
   },
   {
    "duration": 48,
    "start_time": "2022-05-25T22:19:34.140Z"
   },
   {
    "duration": 43,
    "start_time": "2022-05-25T22:19:34.190Z"
   },
   {
    "duration": 16,
    "start_time": "2022-05-25T22:19:34.234Z"
   },
   {
    "duration": 21,
    "start_time": "2022-05-25T22:19:34.252Z"
   },
   {
    "duration": 22,
    "start_time": "2022-05-25T22:19:34.277Z"
   },
   {
    "duration": 39,
    "start_time": "2022-05-25T22:19:34.301Z"
   },
   {
    "duration": 14,
    "start_time": "2022-05-25T22:19:34.342Z"
   },
   {
    "duration": 25,
    "start_time": "2022-05-25T22:19:34.358Z"
   },
   {
    "duration": 5,
    "start_time": "2022-05-25T22:19:34.384Z"
   },
   {
    "duration": 52,
    "start_time": "2022-05-25T22:19:34.391Z"
   },
   {
    "duration": 45,
    "start_time": "2022-05-25T22:19:34.445Z"
   },
   {
    "duration": 47,
    "start_time": "2022-05-25T22:19:34.492Z"
   },
   {
    "duration": 37,
    "start_time": "2022-05-25T22:19:34.541Z"
   },
   {
    "duration": 59,
    "start_time": "2022-05-25T22:19:34.580Z"
   },
   {
    "duration": 15,
    "start_time": "2022-05-25T22:19:34.641Z"
   },
   {
    "duration": 12,
    "start_time": "2022-05-25T22:19:34.657Z"
   },
   {
    "duration": 6,
    "start_time": "2022-05-25T22:19:34.671Z"
   },
   {
    "duration": 397,
    "start_time": "2022-05-25T22:19:34.678Z"
   },
   {
    "duration": 6,
    "start_time": "2022-05-25T22:19:35.076Z"
   },
   {
    "duration": 414,
    "start_time": "2022-05-25T22:19:35.083Z"
   },
   {
    "duration": 5,
    "start_time": "2022-05-25T22:19:35.498Z"
   },
   {
    "duration": 357,
    "start_time": "2022-05-25T22:19:35.505Z"
   },
   {
    "duration": 4,
    "start_time": "2022-05-25T22:19:35.866Z"
   },
   {
    "duration": 385,
    "start_time": "2022-05-25T22:19:35.872Z"
   },
   {
    "duration": 6,
    "start_time": "2022-05-25T22:19:36.259Z"
   },
   {
    "duration": 403,
    "start_time": "2022-05-25T22:19:36.267Z"
   },
   {
    "duration": 5,
    "start_time": "2022-05-25T22:19:36.672Z"
   },
   {
    "duration": 377,
    "start_time": "2022-05-25T22:19:36.678Z"
   },
   {
    "duration": 6,
    "start_time": "2022-05-25T22:19:37.056Z"
   },
   {
    "duration": 323,
    "start_time": "2022-05-25T22:19:37.063Z"
   },
   {
    "duration": 5,
    "start_time": "2022-05-25T22:19:37.388Z"
   },
   {
    "duration": 371,
    "start_time": "2022-05-25T22:19:37.394Z"
   },
   {
    "duration": 5,
    "start_time": "2022-05-25T22:19:37.766Z"
   },
   {
    "duration": 383,
    "start_time": "2022-05-25T22:19:37.773Z"
   },
   {
    "duration": 5,
    "start_time": "2022-05-25T22:19:38.158Z"
   },
   {
    "duration": 321,
    "start_time": "2022-05-25T22:19:38.165Z"
   },
   {
    "duration": 6,
    "start_time": "2022-05-25T22:19:38.487Z"
   },
   {
    "duration": 438,
    "start_time": "2022-05-25T22:21:13.415Z"
   },
   {
    "duration": 23,
    "start_time": "2022-05-25T22:32:51.494Z"
   },
   {
    "duration": 5,
    "start_time": "2022-05-25T22:33:45.695Z"
   },
   {
    "duration": 66,
    "start_time": "2022-05-26T09:23:20.749Z"
   },
   {
    "duration": 1171,
    "start_time": "2022-05-26T09:23:29.007Z"
   },
   {
    "duration": 1900,
    "start_time": "2022-05-26T09:23:30.180Z"
   },
   {
    "duration": 74,
    "start_time": "2022-05-26T09:23:32.082Z"
   },
   {
    "duration": 137,
    "start_time": "2022-05-26T09:23:32.158Z"
   },
   {
    "duration": 16,
    "start_time": "2022-05-26T09:23:32.304Z"
   },
   {
    "duration": 72,
    "start_time": "2022-05-26T09:23:32.322Z"
   },
   {
    "duration": 35,
    "start_time": "2022-05-26T09:23:32.396Z"
   },
   {
    "duration": 24,
    "start_time": "2022-05-26T09:23:32.433Z"
   },
   {
    "duration": 57,
    "start_time": "2022-05-26T09:23:32.459Z"
   },
   {
    "duration": 24,
    "start_time": "2022-05-26T09:23:32.519Z"
   },
   {
    "duration": 11,
    "start_time": "2022-05-26T09:23:32.545Z"
   },
   {
    "duration": 49,
    "start_time": "2022-05-26T09:23:32.558Z"
   },
   {
    "duration": 31,
    "start_time": "2022-05-26T09:23:32.608Z"
   },
   {
    "duration": 6,
    "start_time": "2022-05-26T09:23:32.641Z"
   },
   {
    "duration": 51,
    "start_time": "2022-05-26T09:23:32.649Z"
   },
   {
    "duration": 49,
    "start_time": "2022-05-26T09:23:32.706Z"
   },
   {
    "duration": 48,
    "start_time": "2022-05-26T09:23:32.757Z"
   },
   {
    "duration": 57,
    "start_time": "2022-05-26T09:23:32.807Z"
   },
   {
    "duration": 80,
    "start_time": "2022-05-26T09:23:32.866Z"
   },
   {
    "duration": 16,
    "start_time": "2022-05-26T09:23:32.948Z"
   },
   {
    "duration": 25,
    "start_time": "2022-05-26T09:23:32.967Z"
   },
   {
    "duration": 22,
    "start_time": "2022-05-26T09:23:32.996Z"
   },
   {
    "duration": 382,
    "start_time": "2022-05-26T09:23:33.020Z"
   },
   {
    "duration": 6,
    "start_time": "2022-05-26T09:23:33.404Z"
   },
   {
    "duration": 491,
    "start_time": "2022-05-26T09:23:33.412Z"
   },
   {
    "duration": 6,
    "start_time": "2022-05-26T09:23:33.905Z"
   },
   {
    "duration": 365,
    "start_time": "2022-05-26T09:23:33.913Z"
   },
   {
    "duration": 26,
    "start_time": "2022-05-26T09:23:34.284Z"
   },
   {
    "duration": 409,
    "start_time": "2022-05-26T09:23:34.313Z"
   },
   {
    "duration": 6,
    "start_time": "2022-05-26T09:23:34.724Z"
   },
   {
    "duration": 406,
    "start_time": "2022-05-26T09:23:34.732Z"
   },
   {
    "duration": 13,
    "start_time": "2022-05-26T09:23:35.140Z"
   },
   {
    "duration": 400,
    "start_time": "2022-05-26T09:23:35.156Z"
   },
   {
    "duration": 6,
    "start_time": "2022-05-26T09:23:35.557Z"
   },
   {
    "duration": 389,
    "start_time": "2022-05-26T09:23:35.565Z"
   },
   {
    "duration": 5,
    "start_time": "2022-05-26T09:23:35.956Z"
   },
   {
    "duration": 389,
    "start_time": "2022-05-26T09:23:35.963Z"
   },
   {
    "duration": 5,
    "start_time": "2022-05-26T09:23:36.355Z"
   },
   {
    "duration": 377,
    "start_time": "2022-05-26T09:23:36.362Z"
   },
   {
    "duration": 6,
    "start_time": "2022-05-26T09:23:36.741Z"
   },
   {
    "duration": 418,
    "start_time": "2022-05-26T09:23:36.749Z"
   },
   {
    "duration": 18,
    "start_time": "2022-05-26T09:23:37.169Z"
   },
   {
    "duration": 18,
    "start_time": "2022-05-26T09:35:10.740Z"
   },
   {
    "duration": 60,
    "start_time": "2022-05-26T13:42:07.765Z"
   },
   {
    "duration": 1769,
    "start_time": "2022-05-26T13:42:14.019Z"
   },
   {
    "duration": 1386,
    "start_time": "2022-05-26T13:42:15.790Z"
   },
   {
    "duration": 61,
    "start_time": "2022-05-26T13:42:17.178Z"
   },
   {
    "duration": 95,
    "start_time": "2022-05-26T13:42:18.779Z"
   },
   {
    "duration": 25,
    "start_time": "2022-05-26T13:42:23.465Z"
   },
   {
    "duration": 3,
    "start_time": "2022-05-26T13:43:53.831Z"
   },
   {
    "duration": 504,
    "start_time": "2022-05-26T13:43:53.836Z"
   },
   {
    "duration": 57,
    "start_time": "2022-05-26T13:43:54.343Z"
   },
   {
    "duration": 39,
    "start_time": "2022-05-26T13:43:54.402Z"
   },
   {
    "duration": 29,
    "start_time": "2022-05-26T13:43:54.443Z"
   },
   {
    "duration": 66,
    "start_time": "2022-05-26T13:43:54.474Z"
   },
   {
    "duration": 37,
    "start_time": "2022-05-26T13:43:54.542Z"
   },
   {
    "duration": 25,
    "start_time": "2022-05-26T13:43:56.146Z"
   },
   {
    "duration": 10,
    "start_time": "2022-05-26T13:45:40.841Z"
   },
   {
    "duration": 3,
    "start_time": "2022-05-26T13:45:45.995Z"
   },
   {
    "duration": 428,
    "start_time": "2022-05-26T13:45:46.000Z"
   },
   {
    "duration": 56,
    "start_time": "2022-05-26T13:45:46.430Z"
   },
   {
    "duration": 38,
    "start_time": "2022-05-26T13:45:46.487Z"
   },
   {
    "duration": 39,
    "start_time": "2022-05-26T13:45:46.527Z"
   },
   {
    "duration": 48,
    "start_time": "2022-05-26T13:45:46.568Z"
   },
   {
    "duration": 48,
    "start_time": "2022-05-26T13:45:46.618Z"
   },
   {
    "duration": 21,
    "start_time": "2022-05-26T13:45:46.670Z"
   },
   {
    "duration": 32,
    "start_time": "2022-05-26T13:45:46.693Z"
   },
   {
    "duration": 40,
    "start_time": "2022-05-26T13:45:46.727Z"
   },
   {
    "duration": 10,
    "start_time": "2022-05-26T13:45:46.770Z"
   },
   {
    "duration": 15,
    "start_time": "2022-05-26T13:45:46.781Z"
   },
   {
    "duration": 69,
    "start_time": "2022-05-26T13:45:46.797Z"
   },
   {
    "duration": 5,
    "start_time": "2022-05-26T13:45:46.868Z"
   },
   {
    "duration": 32,
    "start_time": "2022-05-26T13:45:46.875Z"
   },
   {
    "duration": 66,
    "start_time": "2022-05-26T13:45:46.908Z"
   },
   {
    "duration": 40,
    "start_time": "2022-05-26T13:45:46.975Z"
   },
   {
    "duration": 63,
    "start_time": "2022-05-26T13:45:47.017Z"
   },
   {
    "duration": 54,
    "start_time": "2022-05-26T13:45:47.081Z"
   },
   {
    "duration": 33,
    "start_time": "2022-05-26T13:45:47.137Z"
   },
   {
    "duration": 51,
    "start_time": "2022-05-26T13:46:05.769Z"
   },
   {
    "duration": 67,
    "start_time": "2022-05-26T13:46:13.737Z"
   },
   {
    "duration": 23,
    "start_time": "2022-05-26T13:46:16.468Z"
   },
   {
    "duration": 85,
    "start_time": "2022-05-26T13:47:32.516Z"
   },
   {
    "duration": 82,
    "start_time": "2022-05-26T13:52:07.422Z"
   },
   {
    "duration": 87,
    "start_time": "2022-05-26T13:52:31.912Z"
   },
   {
    "duration": 23,
    "start_time": "2022-05-26T13:54:27.169Z"
   },
   {
    "duration": 13,
    "start_time": "2022-05-26T13:57:45.903Z"
   },
   {
    "duration": 3,
    "start_time": "2022-05-26T13:57:50.767Z"
   },
   {
    "duration": 449,
    "start_time": "2022-05-26T13:57:50.772Z"
   },
   {
    "duration": 57,
    "start_time": "2022-05-26T13:57:51.222Z"
   },
   {
    "duration": 39,
    "start_time": "2022-05-26T13:57:51.282Z"
   },
   {
    "duration": 35,
    "start_time": "2022-05-26T13:57:51.322Z"
   },
   {
    "duration": 54,
    "start_time": "2022-05-26T13:57:51.361Z"
   },
   {
    "duration": 51,
    "start_time": "2022-05-26T13:57:51.417Z"
   },
   {
    "duration": 18,
    "start_time": "2022-05-26T13:57:51.470Z"
   },
   {
    "duration": 20,
    "start_time": "2022-05-26T13:57:51.490Z"
   },
   {
    "duration": 47,
    "start_time": "2022-05-26T13:57:51.513Z"
   },
   {
    "duration": 12,
    "start_time": "2022-05-26T13:57:51.563Z"
   },
   {
    "duration": 18,
    "start_time": "2022-05-26T13:57:51.577Z"
   },
   {
    "duration": 59,
    "start_time": "2022-05-26T13:57:51.597Z"
   },
   {
    "duration": 7,
    "start_time": "2022-05-26T13:57:51.663Z"
   },
   {
    "duration": 29,
    "start_time": "2022-05-26T13:57:51.672Z"
   },
   {
    "duration": 55,
    "start_time": "2022-05-26T13:57:51.702Z"
   },
   {
    "duration": 32,
    "start_time": "2022-05-26T13:57:51.759Z"
   },
   {
    "duration": 41,
    "start_time": "2022-05-26T13:57:51.793Z"
   },
   {
    "duration": 95,
    "start_time": "2022-05-26T13:57:51.835Z"
   },
   {
    "duration": 30,
    "start_time": "2022-05-26T13:57:51.932Z"
   },
   {
    "duration": 15,
    "start_time": "2022-05-26T13:57:51.964Z"
   },
   {
    "duration": 9,
    "start_time": "2022-05-26T13:57:51.981Z"
   },
   {
    "duration": 756,
    "start_time": "2022-05-26T13:57:53.314Z"
   },
   {
    "duration": 7,
    "start_time": "2022-05-26T14:00:15.737Z"
   },
   {
    "duration": 7,
    "start_time": "2022-05-26T14:00:32.987Z"
   },
   {
    "duration": 371,
    "start_time": "2022-05-26T14:00:36.551Z"
   },
   {
    "duration": 7,
    "start_time": "2022-05-26T14:01:14.478Z"
   },
   {
    "duration": 366,
    "start_time": "2022-05-26T14:01:16.030Z"
   },
   {
    "duration": 8,
    "start_time": "2022-05-26T14:01:47.891Z"
   },
   {
    "duration": 7,
    "start_time": "2022-05-26T14:02:00.373Z"
   },
   {
    "duration": 384,
    "start_time": "2022-05-26T14:02:03.237Z"
   },
   {
    "duration": 7,
    "start_time": "2022-05-26T14:02:18.760Z"
   },
   {
    "duration": 349,
    "start_time": "2022-05-26T14:02:26.386Z"
   },
   {
    "duration": 349,
    "start_time": "2022-05-26T14:03:04.478Z"
   },
   {
    "duration": 6,
    "start_time": "2022-05-26T14:04:20.280Z"
   },
   {
    "duration": 10,
    "start_time": "2022-05-26T14:05:07.750Z"
   },
   {
    "duration": 6,
    "start_time": "2022-05-26T14:06:26.789Z"
   },
   {
    "duration": 5,
    "start_time": "2022-05-26T14:07:04.405Z"
   },
   {
    "duration": 465,
    "start_time": "2022-05-26T14:07:25.310Z"
   },
   {
    "duration": 374,
    "start_time": "2022-05-26T14:07:41.664Z"
   },
   {
    "duration": 352,
    "start_time": "2022-05-26T14:08:10.389Z"
   },
   {
    "duration": 11,
    "start_time": "2022-05-26T14:08:17.152Z"
   },
   {
    "duration": 7,
    "start_time": "2022-05-26T14:08:19.954Z"
   },
   {
    "duration": 74,
    "start_time": "2022-05-26T14:09:15.315Z"
   },
   {
    "duration": 7,
    "start_time": "2022-05-26T14:09:25.182Z"
   },
   {
    "duration": 454,
    "start_time": "2022-05-26T14:10:06.316Z"
   },
   {
    "duration": 7,
    "start_time": "2022-05-26T14:10:52.785Z"
   },
   {
    "duration": 3,
    "start_time": "2022-05-26T14:11:03.204Z"
   },
   {
    "duration": 431,
    "start_time": "2022-05-26T14:11:03.209Z"
   },
   {
    "duration": 60,
    "start_time": "2022-05-26T14:11:03.641Z"
   },
   {
    "duration": 38,
    "start_time": "2022-05-26T14:11:03.703Z"
   },
   {
    "duration": 32,
    "start_time": "2022-05-26T14:11:03.743Z"
   },
   {
    "duration": 68,
    "start_time": "2022-05-26T14:11:03.777Z"
   },
   {
    "duration": 42,
    "start_time": "2022-05-26T14:11:03.854Z"
   },
   {
    "duration": 27,
    "start_time": "2022-05-26T14:11:03.900Z"
   },
   {
    "duration": 48,
    "start_time": "2022-05-26T14:11:03.929Z"
   },
   {
    "duration": 33,
    "start_time": "2022-05-26T14:11:03.979Z"
   },
   {
    "duration": 15,
    "start_time": "2022-05-26T14:11:04.015Z"
   },
   {
    "duration": 42,
    "start_time": "2022-05-26T14:11:04.032Z"
   },
   {
    "duration": 31,
    "start_time": "2022-05-26T14:11:04.077Z"
   },
   {
    "duration": 4,
    "start_time": "2022-05-26T14:11:04.110Z"
   },
   {
    "duration": 48,
    "start_time": "2022-05-26T14:11:04.116Z"
   },
   {
    "duration": 51,
    "start_time": "2022-05-26T14:11:04.170Z"
   },
   {
    "duration": 52,
    "start_time": "2022-05-26T14:11:04.223Z"
   },
   {
    "duration": 53,
    "start_time": "2022-05-26T14:11:04.276Z"
   },
   {
    "duration": 87,
    "start_time": "2022-05-26T14:11:04.331Z"
   },
   {
    "duration": 14,
    "start_time": "2022-05-26T14:11:04.420Z"
   },
   {
    "duration": 14,
    "start_time": "2022-05-26T14:11:04.451Z"
   },
   {
    "duration": 10,
    "start_time": "2022-05-26T14:11:04.472Z"
   },
   {
    "duration": 402,
    "start_time": "2022-05-26T14:11:04.484Z"
   },
   {
    "duration": 6,
    "start_time": "2022-05-26T14:11:04.887Z"
   },
   {
    "duration": 444,
    "start_time": "2022-05-26T14:11:04.895Z"
   },
   {
    "duration": 13,
    "start_time": "2022-05-26T14:11:05.341Z"
   },
   {
    "duration": 474,
    "start_time": "2022-05-26T14:11:05.356Z"
   },
   {
    "duration": 6,
    "start_time": "2022-05-26T14:11:05.832Z"
   },
   {
    "duration": 406,
    "start_time": "2022-05-26T14:11:05.840Z"
   },
   {
    "duration": 11,
    "start_time": "2022-05-26T14:11:06.252Z"
   },
   {
    "duration": 379,
    "start_time": "2022-05-26T14:11:06.266Z"
   },
   {
    "duration": 14,
    "start_time": "2022-05-26T14:11:06.647Z"
   },
   {
    "duration": 675,
    "start_time": "2022-05-26T14:11:06.666Z"
   },
   {
    "duration": 16,
    "start_time": "2022-05-26T14:11:07.346Z"
   },
   {
    "duration": 361,
    "start_time": "2022-05-26T14:11:07.371Z"
   },
   {
    "duration": 5,
    "start_time": "2022-05-26T14:11:07.735Z"
   },
   {
    "duration": 392,
    "start_time": "2022-05-26T14:11:07.753Z"
   },
   {
    "duration": 12,
    "start_time": "2022-05-26T14:11:08.155Z"
   },
   {
    "duration": 338,
    "start_time": "2022-05-26T14:11:08.172Z"
   },
   {
    "duration": 6,
    "start_time": "2022-05-26T14:11:08.511Z"
   },
   {
    "duration": 410,
    "start_time": "2022-05-26T14:11:08.519Z"
   },
   {
    "duration": 6,
    "start_time": "2022-05-26T14:11:08.931Z"
   },
   {
    "duration": 398,
    "start_time": "2022-05-26T14:13:50.148Z"
   },
   {
    "duration": 6,
    "start_time": "2022-05-26T14:14:12.206Z"
   },
   {
    "duration": 401,
    "start_time": "2022-05-26T14:14:49.336Z"
   },
   {
    "duration": 385,
    "start_time": "2022-05-26T14:14:56.826Z"
   },
   {
    "duration": 358,
    "start_time": "2022-05-26T14:15:01.582Z"
   },
   {
    "duration": 414,
    "start_time": "2022-05-26T14:15:55.252Z"
   },
   {
    "duration": 7,
    "start_time": "2022-05-26T14:16:13.861Z"
   },
   {
    "duration": 1190,
    "start_time": "2022-05-26T14:17:34.675Z"
   },
   {
    "duration": 552,
    "start_time": "2022-05-26T14:17:35.868Z"
   },
   {
    "duration": 70,
    "start_time": "2022-05-26T14:17:36.421Z"
   },
   {
    "duration": 46,
    "start_time": "2022-05-26T14:17:36.493Z"
   },
   {
    "duration": 40,
    "start_time": "2022-05-26T14:17:36.542Z"
   },
   {
    "duration": 62,
    "start_time": "2022-05-26T14:17:36.584Z"
   },
   {
    "duration": 49,
    "start_time": "2022-05-26T14:17:36.648Z"
   },
   {
    "duration": 20,
    "start_time": "2022-05-26T14:17:36.699Z"
   },
   {
    "duration": 52,
    "start_time": "2022-05-26T14:17:36.721Z"
   },
   {
    "duration": 29,
    "start_time": "2022-05-26T14:17:36.777Z"
   },
   {
    "duration": 12,
    "start_time": "2022-05-26T14:17:36.808Z"
   },
   {
    "duration": 38,
    "start_time": "2022-05-26T14:17:36.822Z"
   },
   {
    "duration": 53,
    "start_time": "2022-05-26T14:17:36.861Z"
   },
   {
    "duration": 6,
    "start_time": "2022-05-26T14:17:36.917Z"
   },
   {
    "duration": 26,
    "start_time": "2022-05-26T14:17:36.925Z"
   },
   {
    "duration": 58,
    "start_time": "2022-05-26T14:17:36.955Z"
   },
   {
    "duration": 57,
    "start_time": "2022-05-26T14:17:37.015Z"
   },
   {
    "duration": 46,
    "start_time": "2022-05-26T14:17:37.075Z"
   },
   {
    "duration": 94,
    "start_time": "2022-05-26T14:17:37.124Z"
   },
   {
    "duration": 16,
    "start_time": "2022-05-26T14:17:37.221Z"
   },
   {
    "duration": 17,
    "start_time": "2022-05-26T14:17:37.239Z"
   },
   {
    "duration": 39,
    "start_time": "2022-05-26T14:17:37.257Z"
   },
   {
    "duration": 427,
    "start_time": "2022-05-26T14:17:37.298Z"
   },
   {
    "duration": 5,
    "start_time": "2022-05-26T14:17:37.727Z"
   },
   {
    "duration": 506,
    "start_time": "2022-05-26T14:17:37.734Z"
   },
   {
    "duration": 14,
    "start_time": "2022-05-26T14:17:38.242Z"
   },
   {
    "duration": 436,
    "start_time": "2022-05-26T14:17:38.258Z"
   },
   {
    "duration": 8,
    "start_time": "2022-05-26T14:17:38.696Z"
   },
   {
    "duration": 464,
    "start_time": "2022-05-26T14:17:38.706Z"
   },
   {
    "duration": 11,
    "start_time": "2022-05-26T14:17:39.178Z"
   },
   {
    "duration": 432,
    "start_time": "2022-05-26T14:17:39.193Z"
   },
   {
    "duration": 6,
    "start_time": "2022-05-26T14:17:39.627Z"
   },
   {
    "duration": 506,
    "start_time": "2022-05-26T14:17:39.634Z"
   },
   {
    "duration": 25,
    "start_time": "2022-05-26T14:17:40.142Z"
   },
   {
    "duration": 433,
    "start_time": "2022-05-26T14:17:40.169Z"
   },
   {
    "duration": 6,
    "start_time": "2022-05-26T14:17:40.604Z"
   },
   {
    "duration": 410,
    "start_time": "2022-05-26T14:17:40.612Z"
   },
   {
    "duration": 6,
    "start_time": "2022-05-26T14:17:41.024Z"
   },
   {
    "duration": 399,
    "start_time": "2022-05-26T14:17:41.033Z"
   },
   {
    "duration": 5,
    "start_time": "2022-05-26T14:17:41.434Z"
   },
   {
    "duration": 391,
    "start_time": "2022-05-26T14:17:41.463Z"
   },
   {
    "duration": 9,
    "start_time": "2022-05-26T14:17:41.860Z"
   },
   {
    "duration": 106,
    "start_time": "2022-05-26T14:20:01.860Z"
   },
   {
    "duration": 143,
    "start_time": "2022-05-26T14:25:37.179Z"
   },
   {
    "duration": 146,
    "start_time": "2022-05-26T14:25:59.467Z"
   },
   {
    "duration": 146,
    "start_time": "2022-05-26T14:26:19.006Z"
   },
   {
    "duration": 18528,
    "start_time": "2022-05-26T14:26:51.713Z"
   },
   {
    "duration": 132,
    "start_time": "2022-05-26T14:27:11.989Z"
   },
   {
    "duration": 141,
    "start_time": "2022-05-26T14:27:49.539Z"
   },
   {
    "duration": 1059,
    "start_time": "2022-05-26T14:51:50.988Z"
   },
   {
    "duration": 452,
    "start_time": "2022-05-26T14:51:52.049Z"
   },
   {
    "duration": 68,
    "start_time": "2022-05-26T14:51:52.504Z"
   },
   {
    "duration": 55,
    "start_time": "2022-05-26T14:51:52.575Z"
   },
   {
    "duration": 30,
    "start_time": "2022-05-26T14:51:52.632Z"
   },
   {
    "duration": 64,
    "start_time": "2022-05-26T14:51:52.664Z"
   },
   {
    "duration": 51,
    "start_time": "2022-05-26T14:51:52.730Z"
   },
   {
    "duration": 19,
    "start_time": "2022-05-26T14:51:52.783Z"
   },
   {
    "duration": 22,
    "start_time": "2022-05-26T14:51:52.803Z"
   },
   {
    "duration": 52,
    "start_time": "2022-05-26T14:51:52.827Z"
   },
   {
    "duration": 11,
    "start_time": "2022-05-26T14:51:52.880Z"
   },
   {
    "duration": 16,
    "start_time": "2022-05-26T14:51:52.892Z"
   },
   {
    "duration": 58,
    "start_time": "2022-05-26T14:51:52.909Z"
   },
   {
    "duration": 5,
    "start_time": "2022-05-26T14:51:52.969Z"
   },
   {
    "duration": 19,
    "start_time": "2022-05-26T14:51:52.976Z"
   },
   {
    "duration": 75,
    "start_time": "2022-05-26T14:51:52.996Z"
   },
   {
    "duration": 35,
    "start_time": "2022-05-26T14:51:53.073Z"
   },
   {
    "duration": 65,
    "start_time": "2022-05-26T14:51:53.110Z"
   },
   {
    "duration": 92,
    "start_time": "2022-05-26T14:51:53.177Z"
   },
   {
    "duration": 15,
    "start_time": "2022-05-26T14:51:53.270Z"
   },
   {
    "duration": 10,
    "start_time": "2022-05-26T14:51:53.286Z"
   },
   {
    "duration": 7,
    "start_time": "2022-05-26T14:51:53.298Z"
   },
   {
    "duration": 396,
    "start_time": "2022-05-26T14:51:53.307Z"
   },
   {
    "duration": 6,
    "start_time": "2022-05-26T14:51:53.705Z"
   },
   {
    "duration": 469,
    "start_time": "2022-05-26T14:51:53.712Z"
   },
   {
    "duration": 5,
    "start_time": "2022-05-26T14:51:54.183Z"
   },
   {
    "duration": 419,
    "start_time": "2022-05-26T14:51:54.190Z"
   },
   {
    "duration": 165,
    "start_time": "2022-05-26T14:51:54.612Z"
   },
   {
    "duration": 5,
    "start_time": "2022-05-26T14:51:54.779Z"
   },
   {
    "duration": 396,
    "start_time": "2022-05-26T14:51:54.785Z"
   },
   {
    "duration": 6,
    "start_time": "2022-05-26T14:51:55.183Z"
   },
   {
    "duration": 418,
    "start_time": "2022-05-26T14:51:55.192Z"
   },
   {
    "duration": 154,
    "start_time": "2022-05-26T14:51:55.612Z"
   },
   {
    "duration": 6,
    "start_time": "2022-05-26T14:51:55.768Z"
   },
   {
    "duration": 397,
    "start_time": "2022-05-26T14:51:55.775Z"
   },
   {
    "duration": 6,
    "start_time": "2022-05-26T14:51:56.174Z"
   },
   {
    "duration": 360,
    "start_time": "2022-05-26T14:51:56.181Z"
   },
   {
    "duration": 149,
    "start_time": "2022-05-26T14:51:56.543Z"
   },
   {
    "duration": 6,
    "start_time": "2022-05-26T14:51:56.693Z"
   },
   {
    "duration": 410,
    "start_time": "2022-05-26T14:51:56.700Z"
   },
   {
    "duration": 6,
    "start_time": "2022-05-26T14:51:57.112Z"
   },
   {
    "duration": 379,
    "start_time": "2022-05-26T14:51:57.121Z"
   },
   {
    "duration": 5,
    "start_time": "2022-05-26T14:51:57.502Z"
   },
   {
    "duration": 546,
    "start_time": "2022-05-26T14:51:57.509Z"
   },
   {
    "duration": 7,
    "start_time": "2022-05-26T14:51:58.057Z"
   },
   {
    "duration": 63,
    "start_time": "2022-05-27T11:18:02.244Z"
   },
   {
    "duration": 1326,
    "start_time": "2022-05-27T11:18:07.640Z"
   },
   {
    "duration": 1089,
    "start_time": "2022-05-27T11:18:08.969Z"
   },
   {
    "duration": 59,
    "start_time": "2022-05-27T11:18:10.060Z"
   },
   {
    "duration": 55,
    "start_time": "2022-05-27T11:18:10.121Z"
   },
   {
    "duration": 15,
    "start_time": "2022-05-27T11:18:10.179Z"
   },
   {
    "duration": 64,
    "start_time": "2022-05-27T11:18:10.196Z"
   },
   {
    "duration": 48,
    "start_time": "2022-05-27T11:18:10.262Z"
   },
   {
    "duration": 32,
    "start_time": "2022-05-27T11:18:10.311Z"
   },
   {
    "duration": 34,
    "start_time": "2022-05-27T11:18:10.346Z"
   },
   {
    "duration": 23,
    "start_time": "2022-05-27T11:18:10.382Z"
   },
   {
    "duration": 42,
    "start_time": "2022-05-27T11:18:10.407Z"
   },
   {
    "duration": 14,
    "start_time": "2022-05-27T11:18:10.451Z"
   },
   {
    "duration": 30,
    "start_time": "2022-05-27T11:18:10.467Z"
   },
   {
    "duration": 37,
    "start_time": "2022-05-27T11:18:10.501Z"
   },
   {
    "duration": 26,
    "start_time": "2022-05-27T11:18:10.540Z"
   },
   {
    "duration": 70,
    "start_time": "2022-05-27T11:18:10.568Z"
   },
   {
    "duration": 48,
    "start_time": "2022-05-27T11:18:10.641Z"
   },
   {
    "duration": 61,
    "start_time": "2022-05-27T11:18:10.691Z"
   },
   {
    "duration": 88,
    "start_time": "2022-05-27T11:18:10.754Z"
   },
   {
    "duration": 8,
    "start_time": "2022-05-27T11:18:10.844Z"
   },
   {
    "duration": 19,
    "start_time": "2022-05-27T11:18:10.853Z"
   },
   {
    "duration": 9,
    "start_time": "2022-05-27T11:18:10.874Z"
   },
   {
    "duration": 8,
    "start_time": "2022-05-27T11:18:10.884Z"
   },
   {
    "duration": 448,
    "start_time": "2022-05-27T11:18:10.893Z"
   },
   {
    "duration": 8,
    "start_time": "2022-05-27T11:18:11.343Z"
   },
   {
    "duration": 435,
    "start_time": "2022-05-27T11:18:11.352Z"
   },
   {
    "duration": 6,
    "start_time": "2022-05-27T11:18:11.789Z"
   },
   {
    "duration": 405,
    "start_time": "2022-05-27T11:18:11.796Z"
   },
   {
    "duration": 170,
    "start_time": "2022-05-27T11:18:12.203Z"
   },
   {
    "duration": 6,
    "start_time": "2022-05-27T11:18:12.374Z"
   },
   {
    "duration": 427,
    "start_time": "2022-05-27T11:18:12.382Z"
   },
   {
    "duration": 6,
    "start_time": "2022-05-27T11:18:12.811Z"
   },
   {
    "duration": 382,
    "start_time": "2022-05-27T11:18:12.819Z"
   },
   {
    "duration": 160,
    "start_time": "2022-05-27T11:18:13.203Z"
   },
   {
    "duration": 6,
    "start_time": "2022-05-27T11:18:13.365Z"
   },
   {
    "duration": 442,
    "start_time": "2022-05-27T11:18:13.373Z"
   },
   {
    "duration": 21,
    "start_time": "2022-05-27T11:18:13.817Z"
   },
   {
    "duration": 422,
    "start_time": "2022-05-27T11:18:13.841Z"
   },
   {
    "duration": 138,
    "start_time": "2022-05-27T11:18:14.265Z"
   },
   {
    "duration": 7,
    "start_time": "2022-05-27T11:18:14.405Z"
   },
   {
    "duration": 373,
    "start_time": "2022-05-27T11:18:14.416Z"
   },
   {
    "duration": 5,
    "start_time": "2022-05-27T11:18:14.791Z"
   },
   {
    "duration": 373,
    "start_time": "2022-05-27T11:18:14.797Z"
   },
   {
    "duration": 6,
    "start_time": "2022-05-27T11:18:15.172Z"
   },
   {
    "duration": 506,
    "start_time": "2022-05-27T11:18:15.180Z"
   },
   {
    "duration": 7,
    "start_time": "2022-05-27T11:18:15.688Z"
   },
   {
    "duration": 6,
    "start_time": "2022-05-27T11:30:47.104Z"
   },
   {
    "duration": 1158,
    "start_time": "2022-05-27T11:55:14.465Z"
   },
   {
    "duration": 422,
    "start_time": "2022-05-27T11:55:15.626Z"
   },
   {
    "duration": 60,
    "start_time": "2022-05-27T11:55:16.050Z"
   },
   {
    "duration": 45,
    "start_time": "2022-05-27T11:55:16.111Z"
   },
   {
    "duration": 15,
    "start_time": "2022-05-27T11:55:16.158Z"
   },
   {
    "duration": 73,
    "start_time": "2022-05-27T11:55:16.175Z"
   },
   {
    "duration": 46,
    "start_time": "2022-05-27T11:55:16.250Z"
   },
   {
    "duration": 37,
    "start_time": "2022-05-27T11:55:16.299Z"
   },
   {
    "duration": 30,
    "start_time": "2022-05-27T11:55:16.338Z"
   },
   {
    "duration": 27,
    "start_time": "2022-05-27T11:55:16.370Z"
   },
   {
    "duration": 35,
    "start_time": "2022-05-27T11:55:16.399Z"
   },
   {
    "duration": 21,
    "start_time": "2022-05-27T11:55:16.437Z"
   },
   {
    "duration": 69,
    "start_time": "2022-05-27T11:55:16.460Z"
   },
   {
    "duration": 8,
    "start_time": "2022-05-27T11:55:16.533Z"
   },
   {
    "duration": 29,
    "start_time": "2022-05-27T11:55:16.543Z"
   },
   {
    "duration": 65,
    "start_time": "2022-05-27T11:55:16.575Z"
   },
   {
    "duration": 33,
    "start_time": "2022-05-27T11:55:16.642Z"
   },
   {
    "duration": 59,
    "start_time": "2022-05-27T11:55:16.676Z"
   },
   {
    "duration": 68,
    "start_time": "2022-05-27T11:55:16.737Z"
   },
   {
    "duration": 27,
    "start_time": "2022-05-27T11:55:16.807Z"
   },
   {
    "duration": 9,
    "start_time": "2022-05-27T11:55:16.836Z"
   },
   {
    "duration": 8,
    "start_time": "2022-05-27T11:55:16.847Z"
   },
   {
    "duration": 358,
    "start_time": "2022-05-27T11:55:16.857Z"
   },
   {
    "duration": 12,
    "start_time": "2022-05-27T11:55:17.217Z"
   },
   {
    "duration": 450,
    "start_time": "2022-05-27T11:55:17.231Z"
   },
   {
    "duration": 5,
    "start_time": "2022-05-27T11:55:17.683Z"
   },
   {
    "duration": 395,
    "start_time": "2022-05-27T11:55:17.690Z"
   },
   {
    "duration": 142,
    "start_time": "2022-05-27T11:55:18.087Z"
   },
   {
    "duration": 5,
    "start_time": "2022-05-27T11:55:18.231Z"
   },
   {
    "duration": 365,
    "start_time": "2022-05-27T11:55:18.238Z"
   },
   {
    "duration": 6,
    "start_time": "2022-05-27T11:55:18.605Z"
   },
   {
    "duration": 356,
    "start_time": "2022-05-27T11:55:18.612Z"
   },
   {
    "duration": 138,
    "start_time": "2022-05-27T11:55:18.970Z"
   },
   {
    "duration": 6,
    "start_time": "2022-05-27T11:55:19.109Z"
   },
   {
    "duration": 350,
    "start_time": "2022-05-27T11:55:19.126Z"
   },
   {
    "duration": 6,
    "start_time": "2022-05-27T11:55:19.478Z"
   },
   {
    "duration": 349,
    "start_time": "2022-05-27T11:55:19.485Z"
   },
   {
    "duration": 137,
    "start_time": "2022-05-27T11:55:19.835Z"
   },
   {
    "duration": 6,
    "start_time": "2022-05-27T11:55:19.973Z"
   },
   {
    "duration": 389,
    "start_time": "2022-05-27T11:55:19.980Z"
   },
   {
    "duration": 5,
    "start_time": "2022-05-27T11:55:20.373Z"
   },
   {
    "duration": 358,
    "start_time": "2022-05-27T11:55:20.380Z"
   },
   {
    "duration": 7,
    "start_time": "2022-05-27T11:55:20.740Z"
   },
   {
    "duration": 484,
    "start_time": "2022-05-27T11:55:20.749Z"
   },
   {
    "duration": 6,
    "start_time": "2022-05-27T11:55:21.235Z"
   }
  ],
  "kernelspec": {
   "display_name": "Python 3",
   "language": "python",
   "name": "python3"
  },
  "language_info": {
   "codemirror_mode": {
    "name": "ipython",
    "version": 3
   },
   "file_extension": ".py",
   "mimetype": "text/x-python",
   "name": "python",
   "nbconvert_exporter": "python",
   "pygments_lexer": "ipython3",
   "version": "3.8.8"
  },
  "toc": {
   "base_numbering": 1,
   "nav_menu": {},
   "number_sections": true,
   "sideBar": true,
   "skip_h1_title": true,
   "title_cell": "Table of Contents",
   "title_sidebar": "Contents",
   "toc_cell": false,
   "toc_position": {},
   "toc_section_display": true,
   "toc_window_display": true
  }
 },
 "nbformat": 4,
 "nbformat_minor": 2
}
